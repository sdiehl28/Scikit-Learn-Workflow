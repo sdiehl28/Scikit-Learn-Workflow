{
 "cells": [
  {
   "cell_type": "markdown",
   "metadata": {},
   "source": [
    "# Iteration 1<br/>*Create Baseline model*\n",
    "\n",
    "Jupyter Notebook referenced from my website:\n",
    "[Software Nirvana: Create Baseline Model](https://sdiehl28.netlify.com/projects/titanic/titanic01/)"
   ]
  },
  {
   "cell_type": "markdown",
   "metadata": {},
   "source": [
    "### Goals\n",
    "* Create simple baseline model\n",
    "* Perform Exploratory Data Analysis\n",
    "* Demonstrate details of Scikit Learn's:\n",
    "  * KFold\n",
    "  * StratifiedKFold (with shuffle=True and shuffle=False)\n",
    "  * cross_val_score\n",
    "* Measure baseline model's score and compare against null model"
   ]
  },
  {
   "cell_type": "markdown",
   "metadata": {},
   "source": [
    "### Iterative Model Development\n",
    "In order to demonstrate iterative model development, the titanic dataset from Kaggle will be used.\n",
    "\n",
    "The purpose of these notebooks is **not** to teach how to predict on the titanic dataset!  There are many Kaggle kernels available for that.  The purpose of this series of notebooks is to illustrate iterative model development in general and to show how Scikit Learn methods work in particular.\n",
    "\n",
    "The model will make a prediction for Survived / Not-Survived.  This is a supervised classification problem.\n",
    "\n",
    "Several notebooks will be created after this one.  Each iteratively improving:\n",
    "* the model's accuracy\n",
    "* the workflow used to create the model\n",
    "<a name=\"outline\"></a>"
   ]
  },
  {
   "cell_type": "markdown",
   "metadata": {},
   "source": [
    "### Outline\n",
    "1. [Acquire and Read Data](#readdata)\n",
    "2. [Identify Target Variable](#target)\n",
    "3. [Tentative Assumptions For 1st Iteration](#assumptions)\n",
    "4. [Exploratory Data Analysis](#eda)\n",
    "5. [Model Building](#model)\n",
    "8. [Model Evaluation: Cross Validation](#crossvalidation)\n",
    "9. [Understanding StratifiedKFold and KFold](#kfold)\n",
    "9. [Compare with Null Model](#modelcompare)\n",
    "9. [Model Summary](#modelsummary)\n",
    "0. [Notebook Summary](#summary)"
   ]
  },
  {
   "cell_type": "markdown",
   "metadata": {},
   "source": [
    "### Common Imports and Notebook Setup"
   ]
  },
  {
   "cell_type": "code",
   "execution_count": 1,
   "metadata": {},
   "outputs": [],
   "source": [
    "import numpy as np\n",
    "import pandas as pd\n",
    "import matplotlib.pyplot as plt\n",
    "import seaborn as sns\n",
    "import sklearn as sk\n",
    "%matplotlib inline\n",
    "sns.set() # enable seaborn style"
   ]
  },
  {
   "cell_type": "markdown",
   "metadata": {},
   "source": [
    "<a name=\"readdata\"></a>"
   ]
  },
  {
   "cell_type": "markdown",
   "metadata": {},
   "source": [
    "### Acquire Data\n",
    "[Back to Outline](#outline)\n",
    "\n",
    "Download \"train.csv\" from: https://www.kaggle.com/c/titanic/data and place it in a data subdirectory.\n",
    "\n",
    "This link also has the data dictionary (sometimes called the codebook)."
   ]
  },
  {
   "cell_type": "markdown",
   "metadata": {},
   "source": [
    "### Read Data\n",
    "Note that this example is for supervised learning, so we will only deal with labeled data.  The labeled dataset is named \"train.csv\"."
   ]
  },
  {
   "cell_type": "code",
   "execution_count": 2,
   "metadata": {},
   "outputs": [
    {
     "data": {
      "text/html": [
       "<div>\n",
       "<style scoped>\n",
       "    .dataframe tbody tr th:only-of-type {\n",
       "        vertical-align: middle;\n",
       "    }\n",
       "\n",
       "    .dataframe tbody tr th {\n",
       "        vertical-align: top;\n",
       "    }\n",
       "\n",
       "    .dataframe thead th {\n",
       "        text-align: right;\n",
       "    }\n",
       "</style>\n",
       "<table border=\"1\" class=\"dataframe\">\n",
       "  <thead>\n",
       "    <tr style=\"text-align: right;\">\n",
       "      <th></th>\n",
       "      <th>PassengerId</th>\n",
       "      <th>Survived</th>\n",
       "      <th>Pclass</th>\n",
       "      <th>Name</th>\n",
       "      <th>Sex</th>\n",
       "      <th>Age</th>\n",
       "      <th>SibSp</th>\n",
       "      <th>Parch</th>\n",
       "      <th>Ticket</th>\n",
       "      <th>Fare</th>\n",
       "      <th>Cabin</th>\n",
       "      <th>Embarked</th>\n",
       "    </tr>\n",
       "  </thead>\n",
       "  <tbody>\n",
       "    <tr>\n",
       "      <th>0</th>\n",
       "      <td>1</td>\n",
       "      <td>0</td>\n",
       "      <td>3</td>\n",
       "      <td>Braund, Mr. Owen Harris</td>\n",
       "      <td>male</td>\n",
       "      <td>22.0</td>\n",
       "      <td>1</td>\n",
       "      <td>0</td>\n",
       "      <td>A/5 21171</td>\n",
       "      <td>7.2500</td>\n",
       "      <td>NaN</td>\n",
       "      <td>S</td>\n",
       "    </tr>\n",
       "    <tr>\n",
       "      <th>1</th>\n",
       "      <td>2</td>\n",
       "      <td>1</td>\n",
       "      <td>1</td>\n",
       "      <td>Cumings, Mrs. John Bradley (Florence Briggs Th...</td>\n",
       "      <td>female</td>\n",
       "      <td>38.0</td>\n",
       "      <td>1</td>\n",
       "      <td>0</td>\n",
       "      <td>PC 17599</td>\n",
       "      <td>71.2833</td>\n",
       "      <td>C85</td>\n",
       "      <td>C</td>\n",
       "    </tr>\n",
       "    <tr>\n",
       "      <th>2</th>\n",
       "      <td>3</td>\n",
       "      <td>1</td>\n",
       "      <td>3</td>\n",
       "      <td>Heikkinen, Miss. Laina</td>\n",
       "      <td>female</td>\n",
       "      <td>26.0</td>\n",
       "      <td>0</td>\n",
       "      <td>0</td>\n",
       "      <td>STON/O2. 3101282</td>\n",
       "      <td>7.9250</td>\n",
       "      <td>NaN</td>\n",
       "      <td>S</td>\n",
       "    </tr>\n",
       "  </tbody>\n",
       "</table>\n",
       "</div>"
      ],
      "text/plain": [
       "   PassengerId  Survived  Pclass  \\\n",
       "0            1         0       3   \n",
       "1            2         1       1   \n",
       "2            3         1       3   \n",
       "\n",
       "                                                Name     Sex   Age  SibSp  \\\n",
       "0                            Braund, Mr. Owen Harris    male  22.0      1   \n",
       "1  Cumings, Mrs. John Bradley (Florence Briggs Th...  female  38.0      1   \n",
       "2                             Heikkinen, Miss. Laina  female  26.0      0   \n",
       "\n",
       "   Parch            Ticket     Fare Cabin Embarked  \n",
       "0      0         A/5 21171   7.2500   NaN        S  \n",
       "1      0          PC 17599  71.2833   C85        C  \n",
       "2      0  STON/O2. 3101282   7.9250   NaN        S  "
      ]
     },
     "execution_count": 2,
     "metadata": {},
     "output_type": "execute_result"
    }
   ],
   "source": [
    "all_data = pd.read_csv('./data/train.csv')\n",
    "all_data.head(3)"
   ]
  },
  {
   "cell_type": "markdown",
   "metadata": {},
   "source": [
    "<a name=\"target\"></a>"
   ]
  },
  {
   "cell_type": "markdown",
   "metadata": {},
   "source": [
    "### Target Variable: Survived\n",
    "[Back to Outline](#outline)\n",
    "\n",
    "Create two variables in preparation for creating a predictive model.  \n",
    "\n",
    "X: A Pandas DataFrame that represents the features (aka attributes)  \n",
    "y: A Pandas Series that represents the target (aka response)  "
   ]
  },
  {
   "cell_type": "code",
   "execution_count": 3,
   "metadata": {},
   "outputs": [
    {
     "name": "stdout",
     "output_type": "stream",
     "text": [
      "X Shape:  (891, 11)\n",
      "y Shape:  (891,)\n",
      "X Type:  <class 'pandas.core.frame.DataFrame'>\n",
      "y Type:  <class 'pandas.core.series.Series'>\n"
     ]
    }
   ],
   "source": [
    "# X: drop target variable\n",
    "# y: keep only the target\n",
    "X = all_data.drop('Survived', axis=1)\n",
    "y = all_data['Survived']\n",
    "print('X Shape: ', X.shape)\n",
    "print('y Shape: ', y.shape)\n",
    "print('X Type: ', type(X))\n",
    "print('y Type: ', type(y))"
   ]
  },
  {
   "cell_type": "code",
   "execution_count": 4,
   "metadata": {},
   "outputs": [
    {
     "name": "stdout",
     "output_type": "stream",
     "text": [
      "X dimensions:  2\n",
      "y dimensions:  1\n"
     ]
    }
   ],
   "source": [
    "# ndim, as in numpy, reports the number of dimensions (e.g. 1D, 2D)\n",
    "print('X dimensions: ',X.ndim)\n",
    "print('y dimensions: ',y.ndim)"
   ]
  },
  {
   "cell_type": "markdown",
   "metadata": {},
   "source": [
    "<a name=\"assumptions\"></a>\n",
    "### First Iteration Assumptions\n",
    "[Back to Outline](#outline)  \n",
    "\n",
    "In order to quickly get something up and running, let's arbitrarily decide upon the following:\n",
    "* use LogisticRegression\n",
    "* drop ID field\n",
    "* drop all non-numeric features\n",
    "* drop any column having a null value\n",
    "* use accuracy as the model evaluation metric\n",
    "\n",
    "Note that most \"estimators\" in Scikit Learn, such as LogisticRegression, require all fields to be numeric and non-null.  This means all non-numeric fields must be converted to numeric fields or be dropped.  Likewise all fields having null values must have their null values replaced (imputated) or be dropped.\n",
    "\n",
    "For the first iteration, we will drop all non-numeric fields and all fields with null values.  Later we will make good use of these fields."
   ]
  },
  {
   "cell_type": "code",
   "execution_count": 5,
   "metadata": {},
   "outputs": [
    {
     "data": {
      "text/plain": [
       "PassengerId      int64\n",
       "Pclass           int64\n",
       "Name            object\n",
       "Sex             object\n",
       "Age            float64\n",
       "SibSp            int64\n",
       "Parch            int64\n",
       "Ticket          object\n",
       "Fare           float64\n",
       "Cabin           object\n",
       "Embarked        object\n",
       "dtype: object"
      ]
     },
     "execution_count": 5,
     "metadata": {},
     "output_type": "execute_result"
    }
   ],
   "source": [
    "X.dtypes"
   ]
  },
  {
   "cell_type": "code",
   "execution_count": 6,
   "metadata": {},
   "outputs": [
    {
     "data": {
      "text/plain": [
       "['Name', 'Sex', 'Ticket', 'Cabin', 'Embarked']"
      ]
     },
     "execution_count": 6,
     "metadata": {},
     "output_type": "execute_result"
    }
   ],
   "source": [
    "# create a list of column names of type object\n",
    "# the following works because X.dtypes is itself a Pandas Series\n",
    "drop_fields = list(X.dtypes.index[X.dtypes.values == 'object'].values)\n",
    "drop_fields"
   ]
  },
  {
   "cell_type": "code",
   "execution_count": 7,
   "metadata": {},
   "outputs": [
    {
     "data": {
      "text/plain": [
       "['Name', 'Sex', 'Ticket', 'Cabin', 'Embarked', 'PassengerId']"
      ]
     },
     "execution_count": 7,
     "metadata": {},
     "output_type": "execute_result"
    }
   ],
   "source": [
    "# IDs fields should never be features\n",
    "drop_fields.append('PassengerId')\n",
    "drop_fields"
   ]
  },
  {
   "cell_type": "code",
   "execution_count": 8,
   "metadata": {},
   "outputs": [
    {
     "data": {
      "text/plain": [
       "Pclass      int64\n",
       "Age       float64\n",
       "SibSp       int64\n",
       "Parch       int64\n",
       "Fare      float64\n",
       "dtype: object"
      ]
     },
     "execution_count": 8,
     "metadata": {},
     "output_type": "execute_result"
    }
   ],
   "source": [
    "# Remove all non-numeric fields and PassengerId (1st iteration only)\n",
    "X = X.drop(drop_fields, axis=1)\n",
    "X.dtypes"
   ]
  },
  {
   "cell_type": "code",
   "execution_count": 9,
   "metadata": {},
   "outputs": [
    {
     "data": {
      "text/plain": [
       "Pclass    False\n",
       "Age        True\n",
       "SibSp     False\n",
       "Parch     False\n",
       "Fare      False\n",
       "dtype: bool"
      ]
     },
     "execution_count": 9,
     "metadata": {},
     "output_type": "execute_result"
    }
   ],
   "source": [
    "# which fields have null values\n",
    "X.isnull().any()"
   ]
  },
  {
   "cell_type": "code",
   "execution_count": 10,
   "metadata": {},
   "outputs": [
    {
     "data": {
      "text/plain": [
       "Pclass    False\n",
       "SibSp     False\n",
       "Parch     False\n",
       "Fare      False\n",
       "dtype: bool"
      ]
     },
     "execution_count": 10,
     "metadata": {},
     "output_type": "execute_result"
    }
   ],
   "source": [
    "# Remove all columns with null values (1st iteration only)\n",
    "X.dropna(axis=1, inplace=True)\n",
    "X.isnull().any()"
   ]
  },
  {
   "cell_type": "markdown",
   "metadata": {},
   "source": [
    "The data is now prepared for use with a Scikit Learn estimator. For classification problems, LogisticRegression is a good first estimator to experiment with.\n",
    "<a name=\"eda\"></a>"
   ]
  },
  {
   "cell_type": "markdown",
   "metadata": {},
   "source": [
    "### Exploratory Data Analysis (of numeric variables)\n",
    "[Back to Outline](#outline)\n",
    "\n",
    "The codebook (aka data dictionary) from: https://www.kaggle.com/c/titanic/data is copied below."
   ]
  },
  {
   "cell_type": "markdown",
   "metadata": {},
   "source": [
    "```\n",
    "Variable    Definition          Key\n",
    "--------    ----------          -----\n",
    "Survived    Survival\t        0 = No, 1 = Yes\n",
    "Pclass      Passenger class     1 = 1st, 2 = 2nd, 3 = 3rd\n",
    "Sex         Sex\t\n",
    "Age         Age in years\t\n",
    "Sibsp       siblings+spouses aboard\n",
    "Parch       parents+children aboard\n",
    "Ticket      Ticket number\t\n",
    "Fare        Passenger fare\t\n",
    "Cabin       Cabin number\t\n",
    "Embarked    Port of Embarkation: C = Cherbourg, Q = Queenstown, S = Southampton\n",
    "```"
   ]
  },
  {
   "cell_type": "markdown",
   "metadata": {},
   "source": [
    "EDA itself should be performed on a subset of the data.  If a model developer is looking at both the train and test data, then the developer forms an idea in their mind as to how to incorporate the test data into the model. This is a subtle form of \"data leakage\".\n",
    "\n",
    "**Although the goal of the first iteration is to get something up and running quickly, it is natural during the EDA process to come up with ideas for feature extraction that may be worthwhile to try later.  These ideas will be documented here.**"
   ]
  },
  {
   "cell_type": "code",
   "execution_count": 11,
   "metadata": {},
   "outputs": [
    {
     "name": "stdout",
     "output_type": "stream",
     "text": [
      "Length of All Data: 891\n",
      "Length of EDA Data: 445\n"
     ]
    }
   ],
   "source": [
    "# randomly select half the data to explore\n",
    "from numpy.random import choice\n",
    "np.random.seed(100)\n",
    "num_records = len(all_data)\n",
    "idx = choice(range(num_records), size=num_records//2, replace=False)\n",
    "eda_data = all_data.drop(drop_fields, axis=1)\n",
    "eda_data = eda_data.iloc[idx]\n",
    "print(f'Length of All Data: {len(all_data)}')\n",
    "print(f'Length of EDA Data: {len(eda_data)}')"
   ]
  },
  {
   "cell_type": "code",
   "execution_count": 12,
   "metadata": {},
   "outputs": [
    {
     "data": {
      "text/plain": [
       "<matplotlib.axes._subplots.AxesSubplot at 0x7fd1e45cd668>"
      ]
     },
     "execution_count": 12,
     "metadata": {},
     "output_type": "execute_result"
    },
    {
     "data": {
      "image/png": "[encoded data removed]",
      "text/plain": [
       "<Figure size 432x288 with 2 Axes>"
      ]
     },
     "metadata": {},
     "output_type": "display_data"
    }
   ],
   "source": [
    "# heatmap of the linear correlation between each pair of numeric variables\n",
    "sns.heatmap(eda_data.corr(), annot=True, cmap='seismic')"
   ]
  },
  {
   "cell_type": "markdown",
   "metadata": {},
   "source": [
    "Note: passenger class is encoded as 1, 2, 3, so the lower the class, the better the class.\n",
    "\n",
    "There are a number of interesting associations seen in the above plot, such as lower (better) passenger classes are associated with higher fares.  In the interest of brevity for this first iteration, associations not involving Survived, will not be discussed here."
   ]
  },
  {
   "cell_type": "markdown",
   "metadata": {},
   "source": [
    "### Examine Features with Respect to Survived"
   ]
  },
  {
   "cell_type": "code",
   "execution_count": 13,
   "metadata": {},
   "outputs": [
    {
     "data": {
      "text/plain": [
       "<matplotlib.axes._subplots.AxesSubplot at 0x7fd1de960390>"
      ]
     },
     "execution_count": 13,
     "metadata": {},
     "output_type": "execute_result"
    },
    {
     "data": {
      "image/png": "[encoded data removed]",
      "text/plain": [
       "<Figure size 432x288 with 1 Axes>"
      ]
     },
     "metadata": {},
     "output_type": "display_data"
    }
   ],
   "source": [
    "sns.barplot(x='Pclass',y='Survived',data=eda_data, ci=None)"
   ]
  },
  {
   "cell_type": "code",
   "execution_count": 14,
   "metadata": {},
   "outputs": [
    {
     "data": {
      "text/plain": [
       "Pclass\n",
       "1    0.672566\n",
       "2    0.516854\n",
       "3    0.255144\n",
       "Name: Survived, dtype: float64"
      ]
     },
     "execution_count": 14,
     "metadata": {},
     "output_type": "execute_result"
    }
   ],
   "source": [
    "# Seaborn's barplot, by default plots the equivalent of\n",
    "eda_data.groupby(['Pclass'])['Survived'].mean()"
   ]
  },
  {
   "cell_type": "markdown",
   "metadata": {},
   "source": [
    "Passenger class is not really a numeric variable.  It is an ordered categorical variable encoded as an integer.\n",
    "\n",
    "The notion of distance is defined for numeric variables, but not for ordered categorical variables.  For example, the distance between 1st class and 2nd class is not the same as the distance between 2nd class and 3rd class; in fact distance is not defined.\n",
    "\n",
    "Most estimators in SciKit Learn only accept non-null numbers.  Passenger class could be encoded as a \"dummy variable\" using one-hot encoding, or it could be left as is.\n",
    "\n",
    "** As per the above barplot, the association between passenger class and survival rate is strong and the integer encoding captures the ordering of this association.  Therefore passenger class will remain encoded as an integer.**"
   ]
  },
  {
   "cell_type": "code",
   "execution_count": 15,
   "metadata": {},
   "outputs": [
    {
     "data": {
      "text/plain": [
       "<matplotlib.axes._subplots.AxesSubplot at 0x7fd1de9376a0>"
      ]
     },
     "execution_count": 15,
     "metadata": {},
     "output_type": "execute_result"
    },
    {
     "data": {
      "image/png": "[encoded data removed]",
      "text/plain": [
       "<Figure size 432x288 with 1 Axes>"
      ]
     },
     "metadata": {},
     "output_type": "display_data"
    }
   ],
   "source": [
    "sns.barplot(x='SibSp',y='Survived',data=eda_data, ci=None)"
   ]
  },
  {
   "cell_type": "markdown",
   "metadata": {},
   "source": [
    "Per the above, having no spouse or sibling on board reduced the survival rate.  It may be interesting to split this out as a new feature with two values, SibSp == 0 and SibSp > 0."
   ]
  },
  {
   "cell_type": "code",
   "execution_count": 16,
   "metadata": {},
   "outputs": [
    {
     "data": {
      "text/plain": [
       "<matplotlib.axes._subplots.AxesSubplot at 0x7fd1de8a7be0>"
      ]
     },
     "execution_count": 16,
     "metadata": {},
     "output_type": "execute_result"
    },
    {
     "data": {
      "image/png": "[encoded data removed]",
      "text/plain": [
       "<Figure size 432x288 with 1 Axes>"
      ]
     },
     "metadata": {},
     "output_type": "display_data"
    }
   ],
   "source": [
    "# proposed feature extraction: sibsp == 0\n",
    "eda_data['sibsp_zero'] = (eda_data['SibSp'] == 0)\n",
    "sns.barplot(x='sibsp_zero',y='Survived',data=eda_data, ci=None)"
   ]
  },
  {
   "cell_type": "code",
   "execution_count": 17,
   "metadata": {},
   "outputs": [
    {
     "data": {
      "text/plain": [
       "sibsp_zero\n",
       "False    0.507042\n",
       "True     0.369637\n",
       "Name: Survived, dtype: float64"
      ]
     },
     "execution_count": 17,
     "metadata": {},
     "output_type": "execute_result"
    }
   ],
   "source": [
    "# plotted values\n",
    "eda_data.groupby(['sibsp_zero'])['Survived'].mean()"
   ]
  },
  {
   "cell_type": "markdown",
   "metadata": {},
   "source": [
    "**The survival rate when sibsp == 0 is lower than when it is above zero.  This could be a useful feature to add in a later iteration.**"
   ]
  },
  {
   "cell_type": "code",
   "execution_count": 18,
   "metadata": {},
   "outputs": [
    {
     "data": {
      "text/plain": [
       "<matplotlib.axes._subplots.AxesSubplot at 0x7fd1de88f2b0>"
      ]
     },
     "execution_count": 18,
     "metadata": {},
     "output_type": "execute_result"
    },
    {
     "data": {
      "image/png": "[encoded data removed]",
      "text/plain": [
       "<Figure size 432x288 with 1 Axes>"
      ]
     },
     "metadata": {},
     "output_type": "display_data"
    }
   ],
   "source": [
    "sns.barplot(x='Parch',y='Survived',data=eda_data, ci=None)"
   ]
  },
  {
   "cell_type": "markdown",
   "metadata": {},
   "source": [
    "Per the above, having no parents or siblings on board reduced the survival rate.  It may be interesting to split this out as a new feature with two values, Parch == 0 and Parch > 0."
   ]
  },
  {
   "cell_type": "code",
   "execution_count": 19,
   "metadata": {},
   "outputs": [
    {
     "data": {
      "text/plain": [
       "<matplotlib.axes._subplots.AxesSubplot at 0x7fd1de7d7240>"
      ]
     },
     "execution_count": 19,
     "metadata": {},
     "output_type": "execute_result"
    },
    {
     "data": {
      "image/png": "[encoded data removed]",
      "text/plain": [
       "<Figure size 432x288 with 1 Axes>"
      ]
     },
     "metadata": {},
     "output_type": "display_data"
    }
   ],
   "source": [
    "# proposed feature extraction: parch == 0\n",
    "eda_data['parch_zero'] = (eda_data['Parch'] == 0)\n",
    "sns.barplot(x='parch_zero',y='Survived',data=eda_data, ci=None)"
   ]
  },
  {
   "cell_type": "code",
   "execution_count": 20,
   "metadata": {},
   "outputs": [
    {
     "data": {
      "text/plain": [
       "parch_zero\n",
       "False    0.541284\n",
       "True     0.372024\n",
       "Name: Survived, dtype: float64"
      ]
     },
     "execution_count": 20,
     "metadata": {},
     "output_type": "execute_result"
    }
   ],
   "source": [
    "# plotted values\n",
    "eda_data.groupby(['parch_zero'])['Survived'].mean()"
   ]
  },
  {
   "cell_type": "markdown",
   "metadata": {},
   "source": [
    "**The survival rate when parch == 0 is lower than when it is above zero.  This could be a useful feature to add in a later iteration.**"
   ]
  },
  {
   "cell_type": "code",
   "execution_count": 21,
   "metadata": {},
   "outputs": [
    {
     "data": {
      "text/plain": [
       "<matplotlib.axes._subplots.AxesSubplot at 0x7fd1de7a6fd0>"
      ]
     },
     "execution_count": 21,
     "metadata": {},
     "output_type": "execute_result"
    },
    {
     "data": {
      "image/png": "[encoded data removed]",
      "text/plain": [
       "<Figure size 432x288 with 1 Axes>"
      ]
     },
     "metadata": {},
     "output_type": "display_data"
    }
   ],
   "source": [
    "# traveling alone may have an even stronger association with survival rate\n",
    "# proposed feature extraction: sibsp == 0 & parch == 0\n",
    "eda_data['alone'] = (eda_data['parch_zero'] & eda_data['sibsp_zero'])\n",
    "sns.barplot(x='alone',y='Survived',data=eda_data, ci=None)"
   ]
  },
  {
   "cell_type": "code",
   "execution_count": 22,
   "metadata": {},
   "outputs": [
    {
     "data": {
      "text/plain": [
       "alone\n",
       "False    0.543478\n",
       "True     0.321839\n",
       "Name: Survived, dtype: float64"
      ]
     },
     "execution_count": 22,
     "metadata": {},
     "output_type": "execute_result"
    }
   ],
   "source": [
    "# plotted values\n",
    "eda_data.groupby(['alone'])['Survived'].mean()"
   ]
  },
  {
   "cell_type": "markdown",
   "metadata": {},
   "source": [
    "**Traveling alone reduces the survival rate.  This is likely a good feature to add to a future model.**"
   ]
  },
  {
   "cell_type": "code",
   "execution_count": 23,
   "metadata": {},
   "outputs": [
    {
     "data": {
      "text/plain": [
       "<matplotlib.axes._subplots.AxesSubplot at 0x7fd1de772320>"
      ]
     },
     "execution_count": 23,
     "metadata": {},
     "output_type": "execute_result"
    },
    {
     "data": {
      "image/png": "[encoded data removed]",
      "text/plain": [
       "<Figure size 648x360 with 1 Axes>"
      ]
     },
     "metadata": {},
     "output_type": "display_data"
    }
   ],
   "source": [
    "plt.figure(figsize=(9,5))\n",
    "sns.regplot(x='Fare',y='Survived',data=eda_data, lowess=True)"
   ]
  },
  {
   "cell_type": "markdown",
   "metadata": {},
   "source": [
    "\"Lowess\" is a non-parametric locally weighted smoother.  It is often useful for exploring nonlinear associations.  Here the lowess curve shows a mostly increasing rate of survival with respect to Fare.  The relationship is nonlinear with Fares above about \\$80 having about an 80% chance of survival and fares above about \\$45 have about a 50% chance of survival.  \n",
    "\n",
    "It may be that the model can better incorporate the Fare variable if it is encoded as an integer representing an ordered categorical variable.  For example, above/below \\$45 (2 values) or 0 to \\$45, \\$45 to \\$80, \\$80 and above (3 values).\n",
    "\n",
    "For the first iteration, this exploration is just a note of what to try later."
   ]
  },
  {
   "cell_type": "code",
   "execution_count": 24,
   "metadata": {},
   "outputs": [
    {
     "data": {
      "text/plain": [
       "<matplotlib.axes._subplots.AxesSubplot at 0x7fd1de6d4668>"
      ]
     },
     "execution_count": 24,
     "metadata": {},
     "output_type": "execute_result"
    },
    {
     "data": {
      "image/png": "[encoded data removed]",
      "text/plain": [
       "<Figure size 432x288 with 1 Axes>"
      ]
     },
     "metadata": {},
     "output_type": "display_data"
    }
   ],
   "source": [
    "# proposed feature extraction\n",
    "def quantize_fare(fare):\n",
    "    if fare < 45:\n",
    "        return 0\n",
    "    elif fare < 80:\n",
    "        return 1\n",
    "    else:\n",
    "        return 2\n",
    "    \n",
    "eda_data['fare_quantized'] = eda_data['Fare'].apply(quantize_fare)\n",
    "sns.barplot(x='fare_quantized',y='Survived',data=eda_data, ci=None)"
   ]
  },
  {
   "cell_type": "code",
   "execution_count": 25,
   "metadata": {},
   "outputs": [
    {
     "data": {
      "text/plain": [
       "fare_quantized\n",
       "0    0.338889\n",
       "1    0.586957\n",
       "2    0.897436\n",
       "Name: Survived, dtype: float64"
      ]
     },
     "execution_count": 25,
     "metadata": {},
     "output_type": "execute_result"
    }
   ],
   "source": [
    "# plotted values\n",
    "eda_data.groupby(['fare_quantized'])['Survived'].mean()"
   ]
  },
  {
   "cell_type": "markdown",
   "metadata": {},
   "source": [
    "**It seems likely that this quantization of the fare variable will be helpful in a later iteration.**"
   ]
  },
  {
   "cell_type": "code",
   "execution_count": 26,
   "metadata": {},
   "outputs": [
    {
     "data": {
      "text/plain": [
       "<matplotlib.axes._subplots.AxesSubplot at 0x7fd1de6a2ac8>"
      ]
     },
     "execution_count": 26,
     "metadata": {},
     "output_type": "execute_result"
    },
    {
     "data": {
      "image/png": "[encoded data removed]",
      "text/plain": [
       "<Figure size 432x288 with 1 Axes>"
      ]
     },
     "metadata": {},
     "output_type": "display_data"
    }
   ],
   "source": [
    "sns.countplot('Survived', data=eda_data)"
   ]
  },
  {
   "cell_type": "code",
   "execution_count": 27,
   "metadata": {},
   "outputs": [
    {
     "data": {
      "text/plain": [
       "0    261\n",
       "1    184\n",
       "Name: Survived, dtype: int64"
      ]
     },
     "execution_count": 27,
     "metadata": {},
     "output_type": "execute_result"
    }
   ],
   "source": [
    "eda_data['Survived'].value_counts()"
   ]
  },
  {
   "cell_type": "markdown",
   "metadata": {},
   "source": [
    "** There are significantly less survivors than survivors.  When we create our train/test datasets for model evaluation, we should attempt to keep the same ratio of survived to non-survived, in each train/test dataset. **"
   ]
  },
  {
   "cell_type": "code",
   "execution_count": 28,
   "metadata": {},
   "outputs": [
    {
     "data": {
      "text/html": [
       "<div>\n",
       "<style scoped>\n",
       "    .dataframe tbody tr th:only-of-type {\n",
       "        vertical-align: middle;\n",
       "    }\n",
       "\n",
       "    .dataframe tbody tr th {\n",
       "        vertical-align: top;\n",
       "    }\n",
       "\n",
       "    .dataframe thead th {\n",
       "        text-align: right;\n",
       "    }\n",
       "</style>\n",
       "<table border=\"1\" class=\"dataframe\">\n",
       "  <thead>\n",
       "    <tr style=\"text-align: right;\">\n",
       "      <th></th>\n",
       "      <th>Survived</th>\n",
       "      <th>Pclass</th>\n",
       "      <th>Age</th>\n",
       "      <th>SibSp</th>\n",
       "      <th>Parch</th>\n",
       "      <th>Fare</th>\n",
       "      <th>fare_quantized</th>\n",
       "    </tr>\n",
       "  </thead>\n",
       "  <tbody>\n",
       "    <tr>\n",
       "      <th>count</th>\n",
       "      <td>445.000000</td>\n",
       "      <td>445.000000</td>\n",
       "      <td>359.000000</td>\n",
       "      <td>445.000000</td>\n",
       "      <td>445.000000</td>\n",
       "      <td>445.000000</td>\n",
       "      <td>445.000000</td>\n",
       "    </tr>\n",
       "    <tr>\n",
       "      <th>mean</th>\n",
       "      <td>0.413483</td>\n",
       "      <td>2.292135</td>\n",
       "      <td>30.071727</td>\n",
       "      <td>0.492135</td>\n",
       "      <td>0.386517</td>\n",
       "      <td>32.267733</td>\n",
       "      <td>0.278652</td>\n",
       "    </tr>\n",
       "    <tr>\n",
       "      <th>std</th>\n",
       "      <td>0.493012</td>\n",
       "      <td>0.846325</td>\n",
       "      <td>14.474414</td>\n",
       "      <td>0.985506</td>\n",
       "      <td>0.832232</td>\n",
       "      <td>46.137149</td>\n",
       "      <td>0.614112</td>\n",
       "    </tr>\n",
       "    <tr>\n",
       "      <th>min</th>\n",
       "      <td>0.000000</td>\n",
       "      <td>1.000000</td>\n",
       "      <td>0.670000</td>\n",
       "      <td>0.000000</td>\n",
       "      <td>0.000000</td>\n",
       "      <td>0.000000</td>\n",
       "      <td>0.000000</td>\n",
       "    </tr>\n",
       "    <tr>\n",
       "      <th>25%</th>\n",
       "      <td>0.000000</td>\n",
       "      <td>1.000000</td>\n",
       "      <td>21.000000</td>\n",
       "      <td>0.000000</td>\n",
       "      <td>0.000000</td>\n",
       "      <td>7.925000</td>\n",
       "      <td>0.000000</td>\n",
       "    </tr>\n",
       "    <tr>\n",
       "      <th>50%</th>\n",
       "      <td>0.000000</td>\n",
       "      <td>3.000000</td>\n",
       "      <td>29.000000</td>\n",
       "      <td>0.000000</td>\n",
       "      <td>0.000000</td>\n",
       "      <td>14.500000</td>\n",
       "      <td>0.000000</td>\n",
       "    </tr>\n",
       "    <tr>\n",
       "      <th>75%</th>\n",
       "      <td>1.000000</td>\n",
       "      <td>3.000000</td>\n",
       "      <td>38.000000</td>\n",
       "      <td>1.000000</td>\n",
       "      <td>0.000000</td>\n",
       "      <td>31.275000</td>\n",
       "      <td>0.000000</td>\n",
       "    </tr>\n",
       "    <tr>\n",
       "      <th>max</th>\n",
       "      <td>1.000000</td>\n",
       "      <td>3.000000</td>\n",
       "      <td>80.000000</td>\n",
       "      <td>8.000000</td>\n",
       "      <td>6.000000</td>\n",
       "      <td>263.000000</td>\n",
       "      <td>2.000000</td>\n",
       "    </tr>\n",
       "  </tbody>\n",
       "</table>\n",
       "</div>"
      ],
      "text/plain": [
       "         Survived      Pclass         Age       SibSp       Parch        Fare  \\\n",
       "count  445.000000  445.000000  359.000000  445.000000  445.000000  445.000000   \n",
       "mean     0.413483    2.292135   30.071727    0.492135    0.386517   32.267733   \n",
       "std      0.493012    0.846325   14.474414    0.985506    0.832232   46.137149   \n",
       "min      0.000000    1.000000    0.670000    0.000000    0.000000    0.000000   \n",
       "25%      0.000000    1.000000   21.000000    0.000000    0.000000    7.925000   \n",
       "50%      0.000000    3.000000   29.000000    0.000000    0.000000   14.500000   \n",
       "75%      1.000000    3.000000   38.000000    1.000000    0.000000   31.275000   \n",
       "max      1.000000    3.000000   80.000000    8.000000    6.000000  263.000000   \n",
       "\n",
       "       fare_quantized  \n",
       "count      445.000000  \n",
       "mean         0.278652  \n",
       "std          0.614112  \n",
       "min          0.000000  \n",
       "25%          0.000000  \n",
       "50%          0.000000  \n",
       "75%          0.000000  \n",
       "max          2.000000  "
      ]
     },
     "execution_count": 28,
     "metadata": {},
     "output_type": "execute_result"
    }
   ],
   "source": [
    "# examine range (max-min), variance, mean, etc. of each feature\n",
    "eda_data.describe()"
   ]
  },
  {
   "cell_type": "markdown",
   "metadata": {},
   "source": [
    "As per the above, Fare has a much wider range and higher standard deviation than any of the other variables.\n",
    "\n",
    "By default, LogisticRegression uses regularization with penalty='l2'.  That is, the sum of the squares of the coefficients are constrained to add up to no more than C=1.0 (by default).\n",
    "\n",
    "Whenever regularization is used, the variables should be represented on the same scale, otherwise the constraint on the coefficient could inappropriately favor a variable represented on a smaller scale.\n",
    "\n",
    "A good normalization for LogisticRegression is Standardize().  **For a later iteration, Standardize() should be part of the preprocessing.**\n",
    "<a name=\"model\"></a>"
   ]
  },
  {
   "cell_type": "markdown",
   "metadata": {},
   "source": [
    "### Model Building\n",
    "[Back to Outline](#outline)"
   ]
  },
  {
   "cell_type": "code",
   "execution_count": 29,
   "metadata": {},
   "outputs": [],
   "source": [
    "# Create instance of LogisticRegression estimator\n",
    "from sklearn.linear_model import LogisticRegression\n",
    "base_model = LogisticRegression()"
   ]
  },
  {
   "cell_type": "markdown",
   "metadata": {},
   "source": [
    "<a name=\"crossvalidation\"></a>"
   ]
  },
  {
   "cell_type": "markdown",
   "metadata": {},
   "source": [
    "### Model Evaluation: Cross Validation\n",
    "[Back to Outline](#outline)\n",
    "\n",
    "Good resources for understanding cross validation and overfiting in Python:\n",
    "* [Train/Test Split and Cross Validation](https://towardsdatascience.com/train-test-split-and-cross-validation-in-python-80b61beca4b6)\n",
    "* [Learning Curves](https://www.dataquest.io/blog/learning-curves-machine-learning/)\n",
    "\n",
    "Good resources for understanding cross validation and overfitting in general:\n",
    "* chapter 5.1 of [ISL](http://www-bcf.usc.edu/~gareth/ISL/)\n",
    "* The first 3 videos for Chapter 5 [ISL Videos](http://www.dataschool.io/15-hours-of-expert-machine-learning-videos/)"
   ]
  },
  {
   "cell_type": "code",
   "execution_count": 30,
   "metadata": {},
   "outputs": [
    {
     "name": "stdout",
     "output_type": "stream",
     "text": [
      "Scores: \n",
      " [0.667 0.722 0.674 0.685 0.708 0.674 0.663 0.652 0.719 0.705]\n",
      "Cross Validated Accuracy: 0.687\n"
     ]
    }
   ],
   "source": [
    "from sklearn.model_selection import cross_val_score, StratifiedKFold, KFold\n",
    "from sklearn.metrics import accuracy_score\n",
    "\n",
    "# Recommended Values are 5 or 10\n",
    "k_folds = 10\n",
    "\n",
    "# For repeatability\n",
    "random_seed=5\n",
    "\n",
    "# Setup for Stratified K fold Cross Validation\n",
    "# We want stratified because the number of non-survived is \n",
    "# much greater than the number of survived\n",
    "crossvalidation = StratifiedKFold(n_splits=k_folds, shuffle=True, \n",
    "                        random_state=random_seed)\n",
    "\n",
    "# compute cross validated scores for each of the K=10 folds\n",
    "scores = cross_val_score(base_model, X, y, cv=crossvalidation, \n",
    "                         scoring='accuracy', n_jobs=1)\n",
    "\n",
    "# save scores for comparison with another iteration\n",
    "np.save(\"./data/iter01.data\", scores)\n",
    "\n",
    "# print results\n",
    "print('Scores: \\n', np.round(scores, 3))\n",
    "print(f'Cross Validated Accuracy: {scores.mean():.3f}')"
   ]
  },
  {
   "cell_type": "markdown",
   "metadata": {},
   "source": [
    "<a name=\"kfold\"></a>"
   ]
  },
  {
   "cell_type": "markdown",
   "metadata": {},
   "source": [
    "### StratifiedKFold, KFold, and cross_val_score\n",
    "[Back to Outline](#outline)  \n",
    "\n",
    "The above code for cross validation did not take many lines of code, but what exactly happened?\n",
    "\n",
    "What does StratifiedKFold do that's different from KFold?  \n",
    "What does shuffle=True do that's different than shuffle=False?  \n",
    "What is cross_val_score doing?\n",
    "\n",
    "Below, these questions will be answered."
   ]
  },
  {
   "cell_type": "code",
   "execution_count": 31,
   "metadata": {},
   "outputs": [
    {
     "name": "stdout",
     "output_type": "stream",
     "text": [
      "List Comprehension Type:    <class 'list'>\n",
      "List Len:                   10\n",
      "1st Element Type:           <class 'tuple'>\n",
      "1st Element Len:            2\n",
      "1st Element 1st Tuple Type: <class 'numpy.ndarray'>\n",
      "1st Element 1st Tuple Len:  801\n",
      "1st Element 2nd Tuple Type: <class 'numpy.ndarray'>\n",
      "1st Element 2nd Tuple Len:  90\n",
      "Data Length:                891\n"
     ]
    }
   ],
   "source": [
    "k_folds = 10\n",
    "random_seed = 5\n",
    "crossvalidation = StratifiedKFold(n_splits=k_folds, shuffle=False, \n",
    "                                  random_state=random_seed)\n",
    "\n",
    "# get train and test sets for crossvaldiation\n",
    "train_test_sets = [(train_idx, test_idx) for \n",
    "                   train_idx, test_idx in crossvalidation.split(X,y)]\n",
    "\n",
    "# in Python, looking at data types helps understanding\n",
    "print(f'List Comprehension Type:    {type(train_test_sets)}')\n",
    "print(f'List Len:                   {len(train_test_sets)}')\n",
    "print(f'1st Element Type:           {type(train_test_sets[0])}')\n",
    "print(f'1st Element Len:            {len(train_test_sets[0])}')\n",
    "print(f'1st Element 1st Tuple Type: {type(train_test_sets[0][0])}')\n",
    "print(f'1st Element 1st Tuple Len:  {len(train_test_sets[0][0])}')\n",
    "print(f'1st Element 2nd Tuple Type: {type(train_test_sets[0][1])}')\n",
    "print(f'1st Element 2nd Tuple Len:  {len(train_test_sets[0][1])}')\n",
    "print(f'Data Length:                {len(X)}')"
   ]
  },
  {
   "cell_type": "markdown",
   "metadata": {},
   "source": [
    "Describing the above in words:\n",
    "* The train_test_sets list is of length 10 (10 CV folds).\n",
    "* Each element in the list is a tuple which consists of 2 numpy arrays.\n",
    "* The first array in the tuple are the indexes used to created the training data.  It is of length 801.\n",
    "* The second array in the tuple are the indexes used to created the test data.  It is of length 90.\n",
    "* The total length of all data is 891 records."
   ]
  },
  {
   "cell_type": "code",
   "execution_count": 32,
   "metadata": {},
   "outputs": [
    {
     "name": "stdout",
     "output_type": "stream",
     "text": [
      "True True True True True True True True True True "
     ]
    }
   ],
   "source": [
    "# Experiement: KFold with shuffle=False\n",
    "crossvalidation = KFold(n_splits=k_folds, shuffle=False, \n",
    "                        random_state=random_seed)\n",
    "\n",
    "train_test_sets = [(train_idx, test_idx) for \n",
    "                   train_idx, test_idx in crossvalidation.split(X,y)]\n",
    "\n",
    "# Check: for contiguous blocks of records in the test set\n",
    "# if the records are contiguous, each index differs by 1\n",
    "for i in range(10):\n",
    "    print((np.diff(train_test_sets[i][1]) == 1).all(), end=' ')"
   ]
  },
  {
   "cell_type": "code",
   "execution_count": 33,
   "metadata": {},
   "outputs": [
    {
     "data": {
      "text/plain": [
       "array([ 0,  1,  2,  3,  4,  5,  6,  7,  8,  9, 10, 11, 12, 13, 14, 15, 16,\n",
       "       17, 18, 19, 20, 21, 22, 23, 24, 25, 26, 27, 28, 29, 30, 31, 32, 33,\n",
       "       34, 35, 36, 37, 38, 39, 40, 41, 42, 43, 44, 45, 46, 47, 48, 49, 50,\n",
       "       51, 52, 53, 54, 55, 56, 57, 58, 59, 60, 61, 62, 63, 64, 65, 66, 67,\n",
       "       68, 69, 70, 71, 72, 73, 74, 75, 76, 77, 78, 79, 80, 81, 82, 83, 84,\n",
       "       85, 86, 87, 88, 89])"
      ]
     },
     "execution_count": 33,
     "metadata": {},
     "output_type": "execute_result"
    }
   ],
   "source": [
    "# print one fold of test set indexes\n",
    "train_test_sets[0][1]"
   ]
  },
  {
   "cell_type": "markdown",
   "metadata": {},
   "source": [
    "So KFold with shuffle=False means we are using test sets that represent blocks of contiguous records.\n",
    "\n",
    "A contiguous block of records for the test set means that the training set is as contiguous as possible."
   ]
  },
  {
   "cell_type": "code",
   "execution_count": 34,
   "metadata": {},
   "outputs": [
    {
     "name": "stdout",
     "output_type": "stream",
     "text": [
      "False False False False False False False False False False "
     ]
    }
   ],
   "source": [
    "# Experiement: KFold with shuffle=True\n",
    "crossvalidation = KFold(n_splits=k_folds, shuffle=True, \n",
    "                        random_state=random_seed)\n",
    "\n",
    "train_test_sets = [(train_idx, test_idx) for \n",
    "                   train_idx, test_idx in crossvalidation.split(X,y)]\n",
    "\n",
    "# Check: for contiguous blocks of records in the test set\n",
    "# if the records are contiguous, each index differs by 1\n",
    "for i in range(10):\n",
    "    print((np.diff(train_test_sets[i][1]) == 1).all(), end=' ')"
   ]
  },
  {
   "cell_type": "code",
   "execution_count": 35,
   "metadata": {},
   "outputs": [
    {
     "data": {
      "text/plain": [
       "array([ 11,  12,  23,  28,  59,  60, 121, 126, 133, 138, 148, 176, 199,\n",
       "       207, 212, 230, 244, 247, 258, 261, 267, 275, 286, 293, 295, 312,\n",
       "       316, 322, 329, 349, 352, 354, 361, 363, 379, 383, 386, 409, 417,\n",
       "       419, 424, 433, 434, 438, 440, 443, 445, 451, 452, 470, 475, 481,\n",
       "       509, 544, 545, 563, 568, 576, 590, 591, 610, 636, 644, 673, 679,\n",
       "       682, 683, 692, 695, 724, 727, 733, 735, 737, 747, 757, 759, 765,\n",
       "       769, 792, 807, 827, 828, 840, 843, 845, 857, 872, 877, 886])"
      ]
     },
     "execution_count": 35,
     "metadata": {},
     "output_type": "execute_result"
    }
   ],
   "source": [
    "# print one fold of test set indexes\n",
    "train_test_sets[0][1]"
   ]
  },
  {
   "cell_type": "markdown",
   "metadata": {},
   "source": [
    "So shuffle=True caused non-consecutive indexes to be used for determining the test datasets.\n",
    "\n",
    "This implies that non-consecutive indexes are also used for the train datasets.\n",
    "\n",
    "In other words, we are no longer using blocks of records from the original dataset for our train and test sets."
   ]
  },
  {
   "cell_type": "code",
   "execution_count": 36,
   "metadata": {},
   "outputs": [
    {
     "name": "stdout",
     "output_type": "stream",
     "text": [
      "y:  0.38\n",
      "0.38 0.4 0.39 0.36 0.39 0.37 0.39 0.33 0.38 0.45 0.38 0.39 0.38 0.39 0.38 0.4 0.39 0.36 0.38 0.38 "
     ]
    }
   ],
   "source": [
    "# Experiement: KFold with shuffle=True\n",
    "crossvalidation = KFold(n_splits=k_folds, shuffle=True, \n",
    "                        random_state=random_seed)\n",
    "\n",
    "train_test_sets = [(train_idx, test_idx) for \n",
    "                   train_idx, test_idx in crossvalidation.split(X,y)]\n",
    "\n",
    "# Check: for frequency of class labels\n",
    "# Note: y only has values of 0 or 1, so y.mean() is the frequency of 1 values\n",
    "print('y: ', np.round(y.mean(), 2))\n",
    "\n",
    "# print frequency of survival in the 10 train and 10 test sets\n",
    "for i in range(10):\n",
    "    for j in range(2):\n",
    "        print(np.round(y[train_test_sets[i][j]].mean(), 2), end=' ')"
   ]
  },
  {
   "cell_type": "markdown",
   "metadata": {},
   "source": [
    "So KFold did *not* keep the percentage of survivors the same in each dataset.  Values as low as 33% and as high as 45% are seen."
   ]
  },
  {
   "cell_type": "code",
   "execution_count": 37,
   "metadata": {},
   "outputs": [
    {
     "name": "stdout",
     "output_type": "stream",
     "text": [
      "y:  0.38\n",
      "0.38 0.39 0.38 0.39 0.38 0.38 0.38 0.38 0.38 0.38 0.38 0.38 0.38 0.38 0.38 0.38 0.38 0.38 0.38 0.39 "
     ]
    }
   ],
   "source": [
    "# Experiement: StratifiedKFold with shuffle=True\n",
    "crossvalidation = StratifiedKFold(n_splits=k_folds, shuffle=True, \n",
    "                        random_state=random_seed)\n",
    "\n",
    "train_test_sets = [(train_idx, test_idx) for \n",
    "                   train_idx, test_idx in crossvalidation.split(X,y)]\n",
    "\n",
    "# Check: for frequency of class labels\n",
    "# Note: y only has values of 0 or 1, so y.mean() is the frequency of 1 values\n",
    "print('y: ', np.round(y.mean(), 2))\n",
    "\n",
    "# print frequency of survival in the 10 train and 10 test sets\n",
    "for i in range(10):\n",
    "    for j in range(2):\n",
    "        print(np.round(y[train_test_sets[i][j]].mean(), 2), end=' ')"
   ]
  },
  {
   "cell_type": "markdown",
   "metadata": {},
   "source": [
    "So StratifiedKFold caused about the same percentage of survivors to occur in each training and test dataset."
   ]
  },
  {
   "cell_type": "markdown",
   "metadata": {},
   "source": [
    "#### Summary of StratifedKFold and KFold\n",
    "For classification, you want each train/test subset to have (about) the same frequency of class values as is represented in the entire target array, so you normally **choose StratifiedKFold instead of KFold**.\n",
    "\n",
    "The original dataset may have an inherent ordering.  This ordering could bias your train/test splits.  To avoid this, you normally  ** choose shuffle=True**."
   ]
  },
  {
   "cell_type": "markdown",
   "metadata": {},
   "source": [
    "** NOTE **  \n",
    "shuffle=True does **not** cause the test sets to overlap.  It is not like SuffleSplit."
   ]
  },
  {
   "cell_type": "code",
   "execution_count": 38,
   "metadata": {},
   "outputs": [
    {
     "name": "stdout",
     "output_type": "stream",
     "text": [
      "0 0 0 0 0 0 0 0 0 0 0 0 0 0 0 0 0 0 0 0 0 0 0 0 0 0 0 0 0 0 0 0 0 0 0 0 0 0 0 0 0 0 0 0 0 "
     ]
    }
   ],
   "source": [
    "# Show: test sets do not overlap when suffle=True\n",
    "crossvalidation = StratifiedKFold(n_splits=k_folds, shuffle=True, \n",
    "                        random_state=random_seed)\n",
    "\n",
    "train_test_sets = [(train_idx, test_idx) for \n",
    "                   train_idx, test_idx in crossvalidation.split(X,y)]\n",
    "\n",
    "# In this example, there are 10 disjoint test sets.\n",
    "# This is equivalent to saying that each check for intersection between\n",
    "# each pair of test sets, has a length of 0\n",
    "\n",
    "# Intersection is commutative, so we only need to check half of the possible\n",
    "# pairs of test sets and we don't check a test set with itself\n",
    "\n",
    "for i in range(10):\n",
    "    for j in range(i+1, 10):\n",
    "        print(len(np.intersect1d(train_test_sets[i][1],train_test_sets[j][1])), end=' ')"
   ]
  },
  {
   "cell_type": "markdown",
   "metadata": {},
   "source": [
    "We see that the test sets are disjoint. shuffle=True in this context does not cause test set overlap."
   ]
  },
  {
   "cell_type": "code",
   "execution_count": 39,
   "metadata": {},
   "outputs": [
    {
     "name": "stdout",
     "output_type": "stream",
     "text": [
      "0 0 0 0 0 0 0 0 0 0 "
     ]
    }
   ],
   "source": [
    "# Show: train set is disjoint from its respective test set\n",
    "crossvalidation = StratifiedKFold(n_splits=k_folds, shuffle=True, \n",
    "                        random_state=random_seed)\n",
    "\n",
    "train_test_sets = [(train_idx, test_idx) for \n",
    "                   train_idx, test_idx in crossvalidation.split(X,y)]\n",
    "\n",
    "for i in range(10):\n",
    "        print(len(np.intersect1d(train_test_sets[i][0],train_test_sets[i][1])), end=' ')"
   ]
  },
  {
   "cell_type": "markdown",
   "metadata": {},
   "source": [
    "There are no index values in the train dataset that are in the corresponding test dataset."
   ]
  },
  {
   "cell_type": "markdown",
   "metadata": {},
   "source": [
    "#### Compute Cross Validated Score without using cross_val_score"
   ]
  },
  {
   "cell_type": "code",
   "execution_count": 40,
   "metadata": {},
   "outputs": [
    {
     "name": "stdout",
     "output_type": "stream",
     "text": [
      "Scores: \n",
      " [0.667 0.722 0.674 0.685 0.708 0.674 0.663 0.652 0.719 0.705]\n",
      "Cross Validated Accuracy: 0.687\n",
      "Scores match:  True\n"
     ]
    }
   ],
   "source": [
    "# Alternative computation of cross validated scores\n",
    "\n",
    "# From Above\n",
    "k_folds = 10\n",
    "random_seed=5\n",
    "crossvalidation = StratifiedKFold(n_splits=k_folds, shuffle=True, \n",
    "                        random_state=random_seed)\n",
    "\n",
    "# Use crossvalidation iterator explicitly\n",
    "my_scores = np.zeros(k_folds)\n",
    "i = 0\n",
    "lr_model = LogisticRegression()\n",
    "for train_idx, test_idx in crossvalidation.split(X,y):\n",
    "    \n",
    "    # train subset\n",
    "    X_train = X.iloc[train_idx, :]\n",
    "    y_train = y[train_idx]\n",
    "    \n",
    "    # test subset\n",
    "    X_test = X.iloc[test_idx, :]\n",
    "    y_test = y[test_idx]\n",
    "    \n",
    "    # fit model on train\n",
    "    lr_model.fit(X_train, y_train)\n",
    "    \n",
    "    # predict using fitted model on test\n",
    "    predictions = lr_model.predict(X_test)\n",
    "    \n",
    "    # evaluate accuracy\n",
    "    my_scores[i] = accuracy_score(y_test, predictions)\n",
    "    i += 1\n",
    "\n",
    "# print results\n",
    "print('Scores: \\n', np.round(scores, 3))\n",
    "print(f'Cross Validated Accuracy: {scores.mean():.3f}')\n",
    "\n",
    "# compare with scores computed by cross_val_score() above\n",
    "print('Scores match: ',(scores == my_scores).all())"
   ]
  },
  {
   "cell_type": "markdown",
   "metadata": {},
   "source": [
    "The scores match.  The computations are the same.  The above for-loop does exactly the same thing as the following single line:\n",
    "```python\n",
    "scores = cross_val_score(base_model, X, y, cv=crossvalidation, \n",
    "                         scoring='accuracy', n_jobs=1)\n",
    "```\n",
    "<a name=\"modelcompare\"></a>"
   ]
  },
  {
   "cell_type": "markdown",
   "metadata": {},
   "source": [
    "### Compare with Null Model\n",
    "[Back to Outline](#outline)\n",
    "\n",
    "For a classifier, predicting the predominant class is the simplest possible model.  This is sometimes referred to as the \"null model\"."
   ]
  },
  {
   "cell_type": "code",
   "execution_count": 41,
   "metadata": {},
   "outputs": [
    {
     "name": "stdout",
     "output_type": "stream",
     "text": [
      "Scores: \n",
      " [0.611 0.611 0.618 0.618 0.618 0.618 0.618 0.618 0.618 0.614]\n",
      "Cross Validated Accuracy: 0.616\n"
     ]
    }
   ],
   "source": [
    "from sklearn.dummy import DummyClassifier\n",
    "\n",
    "k_folds = 10\n",
    "random_seed=5\n",
    "crossvalidation = StratifiedKFold(n_splits=k_folds, shuffle=True, \n",
    "                        random_state=random_seed)\n",
    "\n",
    "null_model = DummyClassifier(strategy='most_frequent',random_state=0)\n",
    "\n",
    "null_model_scores = cross_val_score(null_model, X, y, cv=crossvalidation, \n",
    "                         scoring='accuracy', n_jobs=-1)\n",
    "\n",
    "print('Scores: \\n', np.round(null_model_scores, 3))\n",
    "print(f'Cross Validated Accuracy: {null_model_scores.mean():.3f}')"
   ]
  },
  {
   "cell_type": "code",
   "execution_count": 42,
   "metadata": {},
   "outputs": [
    {
     "data": {
      "text/plain": [
       "<matplotlib.axes._subplots.AxesSubplot at 0x7fd1dbadac50>"
      ]
     },
     "execution_count": 42,
     "metadata": {},
     "output_type": "execute_result"
    },
    {
     "data": {
      "image/png": "[encoded data removed]",
      "text/plain": [
       "<Figure size 432x288 with 1 Axes>"
      ]
     },
     "metadata": {},
     "output_type": "display_data"
    }
   ],
   "source": [
    "# compare the scores graphically\n",
    "df = pd.DataFrame(data=list(zip(scores, null_model_scores)),\n",
    "                  columns=['base model score','null model score'])\n",
    "sns.boxplot(data=df)"
   ]
  },
  {
   "cell_type": "markdown",
   "metadata": {},
   "source": [
    "We see that the base model cross validated scores are well above the null model cross validated scores.\n",
    "<a name=\"modelsummary\"></a>"
   ]
  },
  {
   "cell_type": "markdown",
   "metadata": {},
   "source": [
    "### Model Summary\n",
    "[Back to Outline](#outline)\n",
    "\n",
    "Model building steps only."
   ]
  },
  {
   "cell_type": "code",
   "execution_count": 43,
   "metadata": {},
   "outputs": [
    {
     "name": "stdout",
     "output_type": "stream",
     "text": [
      "Scores: \n",
      " [0.667 0.722 0.674 0.685 0.708 0.674 0.663 0.652 0.719 0.705]\n",
      "Cross Validated Accuracy: 0.687\n"
     ]
    }
   ],
   "source": [
    "# read in all the labeled data\n",
    "all_data = pd.read_csv('./data/train.csv')\n",
    "\n",
    "# create target and feature variables\n",
    "X = all_data.drop('Survived', axis=1)\n",
    "y = all_data['Survived']\n",
    "\n",
    "# remove all fields of type object\n",
    "drop_fields = list(X.dtypes.index[X.dtypes.values == 'object'].values)\n",
    "\n",
    "# also remove the ID field\n",
    "drop_fields.append('PassengerId')\n",
    "X = X.drop(drop_fields, axis=1)\n",
    "\n",
    "# remove the remaining column having null values\n",
    "X = X.dropna(axis=1)\n",
    "\n",
    "# create model instance\n",
    "base_model = LogisticRegression()\n",
    "\n",
    "# Recommended Values are 5 or 10\n",
    "k_folds = 10\n",
    "\n",
    "# For repeatability\n",
    "random_seed=5\n",
    "\n",
    "# Create the K Cross Validation Train/Test Splits\n",
    "crossvalidation = StratifiedKFold(n_splits=k_folds, shuffle=True, \n",
    "                        random_state=random_seed)\n",
    "\n",
    "# compute cross validated scores for each of the K=5 folds\n",
    "scores = cross_val_score(base_model, X, y, cv=crossvalidation, \n",
    "                         scoring='accuracy', n_jobs=-1)\n",
    "\n",
    "# print results\n",
    "print('Scores: \\n', np.round(scores, 3))\n",
    "print(f'Cross Validated Accuracy: {scores.mean():.3f}')"
   ]
  },
  {
   "cell_type": "markdown",
   "metadata": {},
   "source": [
    "<a name=\"summary\"></a>"
   ]
  },
  {
   "cell_type": "markdown",
   "metadata": {},
   "source": [
    "### Notebook Summary\n",
    "[Back to Outline](#outline)\n",
    "\n",
    "In this first iteration we:\n",
    "* performed EDA\n",
    "* discussed how StratifedKFold, KFold and cross_val_score work\n",
    "* created a simple model to use as our baseline\n",
    "* established a baseline accuracy of 68.7%\n",
    "* created the simplest possible \"null model\" for comparison\n",
    "* showed that our baseline model accuracy (68.7%) is better than the null model (61.6%)"
   ]
  }
 ],
 "metadata": {
  "kernelspec": {
   "display_name": "Python 3",
   "language": "python",
   "name": "python3"
  },
  "language_info": {
   "codemirror_mode": {
    "name": "ipython",
    "version": 3
   },
   "file_extension": ".py",
   "mimetype": "text/x-python",
   "name": "python",
   "nbconvert_exporter": "python",
   "pygments_lexer": "ipython3",
   "version": "3.6.5"
  },
  "varInspector": {
   "cols": {
    "lenName": 16,
    "lenType": 16,
    "lenVar": 40
   },
   "kernels_config": {
    "python": {
     "delete_cmd_postfix": "",
     "delete_cmd_prefix": "del ",
     "library": "var_list.py",
     "varRefreshCmd": "print(var_dic_list())"
    },
    "r": {
     "delete_cmd_postfix": ") ",
     "delete_cmd_prefix": "rm(",
     "library": "var_list.r",
     "varRefreshCmd": "cat(var_dic_list()) "
    }
   },
   "position": {
    "height": "356px",
    "left": "51px",
    "right": "20px",
    "top": "142px",
    "width": "714px"
   },
   "types_to_exclude": [
    "module",
    "function",
    "builtin_function_or_method",
    "instance",
    "_Feature"
   ],
   "window_display": true
  }
 },
 "nbformat": 4,
 "nbformat_minor": 2
}
