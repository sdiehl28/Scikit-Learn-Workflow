{
 "cells": [
  {
   "cell_type": "markdown",
   "metadata": {},
   "source": [
    "# Iteration 2 <br/>*Cross Validation: Right and Wrong*\n",
    "\n",
    "Jupyter Notebook referenced from my website:\n",
    "[Software Nirvana: Cross Validation](https://sdiehl28.netlify.com/projects/titanic/titanic02/)"
   ]
  },
  {
   "cell_type": "markdown",
   "metadata": {},
   "source": [
    "### Goals\n",
    "1. Add Age to the model (requires imputation of missing values)\n",
    "2. Demonstrate the right and wrong way to perform Cross Validation\n",
    "3. Compare this model with the previous iteration"
   ]
  },
  {
   "cell_type": "markdown",
   "metadata": {},
   "source": [
    "### Where We Are\n",
    "In the first iteration, we created a simple model and showed that the accuracy was better than the null model.  The null model is the model that predicts the predominant class in all cases."
   ]
  },
  {
   "cell_type": "markdown",
   "metadata": {},
   "source": [
    "### What's Next\n",
    "<a href=\"https://en.wikipedia.org/wiki/Imputation_(statistics)\">Imputation on Wikipedia</a>\n",
    "\n",
    "This iteration will use Age as an additional attribute for prediction.  Missing values for Age will be imputed.\n",
    "\n",
    "Special attention will be paid to avoid a common beginner's mistake, which is to use the test data when performing imputation or other preprocessing steps. The easiest way to ensure there is no \"data leakage\", is to use a Pipeline."
   ]
  },
  {
   "cell_type": "markdown",
   "metadata": {},
   "source": [
    "### Common Imports and Notebook Setup"
   ]
  },
  {
   "cell_type": "code",
   "execution_count": 1,
   "metadata": {},
   "outputs": [],
   "source": [
    "import numpy as np\n",
    "import pandas as pd\n",
    "import matplotlib.pyplot as plt\n",
    "import seaborn as sns\n",
    "import sklearn as sk\n",
    "%matplotlib inline\n",
    "sns.set() # enable seaborn style"
   ]
  },
  {
   "cell_type": "markdown",
   "metadata": {},
   "source": [
    "### Previous Model Building Iteration"
   ]
  },
  {
   "cell_type": "code",
   "execution_count": 2,
   "metadata": {},
   "outputs": [
    {
     "data": {
      "text/plain": [
       "Pclass      int64\n",
       "Age       float64\n",
       "SibSp       int64\n",
       "Parch       int64\n",
       "Fare      float64\n",
       "dtype: object"
      ]
     },
     "execution_count": 2,
     "metadata": {},
     "output_type": "execute_result"
    }
   ],
   "source": [
    "# read in all the labeled data\n",
    "all_data = pd.read_csv('../../data/train.csv')\n",
    "\n",
    "# break up the dataframe into X and y\n",
    "X = all_data.drop('Survived', axis=1)\n",
    "y = all_data['Survived']\n",
    "\n",
    "# As before, remove all non-numeric fields and PassengerId\n",
    "drop_fields = ['Name', 'Sex', 'Ticket', 'Cabin', 'Embarked', 'PassengerId']\n",
    "X = X.drop(drop_fields, axis=1)\n",
    "\n",
    "X.dtypes"
   ]
  },
  {
   "cell_type": "markdown",
   "metadata": {},
   "source": [
    "### Cross Validation\n",
    "[Cross Validation](http://nbviewer.jupyter.org/github/sdiehl28/tutorial-jupyter-notebooks/blob/master/projects/Titanic01.ipynb#crossvalidation) was discussed in the previous iteration.\n",
    "\n",
    "Here the goal is demonstrate cross validation within the context of imputing missing Age values.  The right way to do this, along with a common wrong way, are discussed."
   ]
  },
  {
   "cell_type": "markdown",
   "metadata": {},
   "source": [
    "### Impute Age: Using Cross Validation the Right Way\n",
    "\n",
    "To a beginner, it can appear that using an Imputer and a Pipeline is a lot of extra work.  Why not just impute the Age prior to cross validation and be done with it?\n",
    "\n",
    "If you were to look at the [\"Kernels\"](https://www.kaggle.com/c/titanic/kernels?sortBy=votes&group=everyone&pageSize=20&competitionId=3136) on Kaggle posted for the Titanic dataset, you would see that most people do just that.  But this is bad practice.  It could lead to an estimate of model accuracy that is too high.  Using the test data for any type of data transformation, prior to training your model, is \"data leakage\".\n",
    "\n",
    "Scikit Learn correctly uses the mean of the **train** set as the replacement value for missing values in both the train and test sets."
   ]
  },
  {
   "cell_type": "code",
   "execution_count": 3,
   "metadata": {},
   "outputs": [],
   "source": [
    "# imports\n",
    "from sklearn.linear_model import LogisticRegression\n",
    "from sklearn.metrics import accuracy_score\n",
    "from sklearn.model_selection import cross_val_score, StratifiedKFold"
   ]
  },
  {
   "cell_type": "code",
   "execution_count": 4,
   "metadata": {},
   "outputs": [],
   "source": [
    "# Goal is to show that CV setup correctly differs from CV setup incorrectly\n",
    "# k_folds should normally be 5 or 10.  It is 2 here to illustrate the goal.\n",
    "random_state = 121212\n",
    "k_folds = 2\n",
    "crossvalidation = StratifiedKFold(n_splits=k_folds, shuffle=True, \n",
    "                                  random_state=random_state)"
   ]
  },
  {
   "cell_type": "code",
   "execution_count": 5,
   "metadata": {},
   "outputs": [
    {
     "name": "stdout",
     "output_type": "stream",
     "text": [
      "Scores : [0.71524664 0.69213483]\n",
      "Cross Validated Accuracy: 0.704\n"
     ]
    }
   ],
   "source": [
    "# Use an Imputer and a Pipeline\n",
    "# Note: Age is the only column in X with null values\n",
    "from sklearn.preprocessing import Imputer\n",
    "imputer = Imputer(strategy='mean')\n",
    "\n",
    "from sklearn.pipeline import make_pipeline\n",
    "classifier = make_pipeline(imputer, LogisticRegression())\n",
    "\n",
    "scores = cross_val_score(classifier, X, y, cv=crossvalidation, \n",
    "                         scoring='accuracy', n_jobs=1)\n",
    "\n",
    "print('Scores :', scores)\n",
    "print(f'Cross Validated Accuracy: {scores.mean() :.3f}')"
   ]
  },
  {
   "cell_type": "markdown",
   "metadata": {},
   "source": [
    "### Impute Age: Using Cross Validation the Right Way: Detail\n",
    "Using cross_val_score hides the key pedagogical point, so don't use it here."
   ]
  },
  {
   "cell_type": "code",
   "execution_count": 6,
   "metadata": {},
   "outputs": [
    {
     "name": "stdout",
     "output_type": "stream",
     "text": [
      "Scores Match:  True\n"
     ]
    }
   ],
   "source": [
    "random_state = 121212\n",
    "k_folds = 2\n",
    "crossvalidation = StratifiedKFold(n_splits=k_folds, shuffle=True, \n",
    "                                  random_state=random_state)\n",
    "\n",
    "my_scores = np.zeros(k_folds)\n",
    "i = 0\n",
    "lr_model = LogisticRegression()\n",
    "for train_idx, test_idx in crossvalidation.split(X,y):\n",
    "    \n",
    "    # train subset\n",
    "    X_train = X.iloc[train_idx, :].copy()\n",
    "    y_train = y[train_idx].copy()\n",
    "    \n",
    "    # test subset\n",
    "    X_test = X.iloc[test_idx, :].copy()\n",
    "    y_test = y[test_idx].copy()\n",
    "    \n",
    "    # find the average age on the train set\n",
    "    train_age_mean = X_train['Age'].mean()\n",
    "    \n",
    "    # Replace missing Age values in the train data\n",
    "    X_train.loc[X_train['Age'].isnull(), 'Age'] = train_age_mean\n",
    "    \n",
    "    # Replace missing Age values in the test data\n",
    "    # Key Point: missing value in Test data set replaced with mean of TRAIN data\n",
    "    X_test.loc[X_test['Age'].isnull(), 'Age'] = train_age_mean\n",
    "    \n",
    "    # fit model on train\n",
    "    lr_model.fit(X_train, y_train)\n",
    "    \n",
    "    # predict using model on test\n",
    "    predictions = lr_model.predict(X_test)\n",
    "    \n",
    "    # evaluate accuracy\n",
    "    my_scores[i] = accuracy_score(y_test, predictions)\n",
    "    i += 1\n",
    "    \n",
    "# Verify this is exactly the same as using cross_val_score\n",
    "print(\"Scores Match: \", (scores == my_scores).all())"
   ]
  },
  {
   "cell_type": "markdown",
   "metadata": {},
   "source": [
    "### Impute Age: Using Cross Validation The Wrong Way\n",
    "The wrong, but common way to do this is to impute age over the entire dataset and then estimate model accuracy using either a train/test split or cross validation.\n",
    "\n",
    "The purpose of using a train/test split or cross validation is to train the model on one set of data (the training set) and evaluate it on another set (the test data).  However if you impute age using the entire dataset, you are in effect building the model using the test data. This defeats the purpose of using a train/test split or cross validation and the result is that the estimate of model accuracy could be too high.\n",
    "\n",
    "In the following, I will show that the wrong way produces different results than the right way."
   ]
  },
  {
   "cell_type": "code",
   "execution_count": 7,
   "metadata": {},
   "outputs": [
    {
     "name": "stdout",
     "output_type": "stream",
     "text": [
      "Scores Match:  False\n",
      "Scores Diff:   0.0011\n"
     ]
    }
   ],
   "source": [
    "# Prior to Cross Validation:\n",
    "#   Impute the missing values as the mean of *all* data\n",
    "# This is \"data leakage\"!  Don't do this!\n",
    "# Replace all null Age values with the mean of all Age Values\n",
    "X.loc[X['Age'].isnull(), 'Age'] = X['Age'].mean()\n",
    "\n",
    "# Setup: same as above\n",
    "random_state = 121212\n",
    "k_folds = 2\n",
    "crossvalidation = StratifiedKFold(n_splits=k_folds, shuffle=True, \n",
    "                        random_state=random_state)\n",
    "\n",
    "wrong_scores = cross_val_score(LogisticRegression(), X, y, \n",
    "                               cv=crossvalidation,\n",
    "                               scoring='accuracy', n_jobs=1)\n",
    "\n",
    "# We do *not* get the same scores as above!\n",
    "print(\"Scores Match: \", (scores == wrong_scores).all())\n",
    "print(\"Scores Diff:  \", np.round(scores.mean() - wrong_scores.mean(), 4))"
   ]
  },
  {
   "cell_type": "markdown",
   "metadata": {},
   "source": [
    "Imputing all the missing values, over both the train and test sets, prior to performing cross validation produced different results!  That said, the difference is very small and is not significant for **this particular** dataset."
   ]
  },
  {
   "cell_type": "markdown",
   "metadata": {},
   "source": [
    "### Cross Validation The Wrong Way: Discussion\n",
    "**What was wrong:** Used all data for imputation (did not have hold-out set).\n",
    "\n",
    "**What may happen:** Estimate of model accuracy may be too high.\n",
    "\n",
    "**Importance in Practice:  With *imputation*, this is usually not a problem** unless you have a very small amount of data on which to perform the imputation.  In the above, we saw it made almost no difference.\n",
    "\n",
    "**Importance in Practice:  With *feature selection*, this is usually a very serious problem** which leads to highly inflated values of model accuracy.  Feature selection is the process of determining which variables to include in the model.  If you use the entire dataset, and decide to keep variables based on some statistic of the data, such as correlation to the target variable, then you *must* use a Pipeline or otherwise ensure that you choice of variables to include is determined on a train set and evaluated separately on a test set.\n",
    "\n",
    "**Great Explanation and Story by Robert Tibshirani:**\n",
    "Robert Tibshirani, in the youtube video [Cross Validation: Right and Wrong](https://www.youtube.com/watch?v=S06JpVoNaA0&list=PL5-da3qGB5IA6E6ZNXu7dp89_uv8yocmf), explains the right and wrong way to perform cross validation in detail.  He also presents a wonderful story about a Ph.D. oral dissertation presenter filtering away variables *prior* to performing cross validation and the serious effect it had on his medical research."
   ]
  },
  {
   "cell_type": "markdown",
   "metadata": {},
   "source": [
    "### Compute the Score as per Previous Iterations\n",
    "In order to compare model performance between Jupyter notebooks, it is necessary to compute the model performance in the same way."
   ]
  },
  {
   "cell_type": "code",
   "execution_count": 8,
   "metadata": {},
   "outputs": [
    {
     "name": "stdout",
     "output_type": "stream",
     "text": [
      "Scores:  [0.689 0.7   0.697 0.685 0.742 0.697 0.73  0.652 0.674 0.75 ]\n",
      "Cross Validated Accuracy: 0.702\n"
     ]
    }
   ],
   "source": [
    "from sklearn.linear_model import LogisticRegression\n",
    "from sklearn.model_selection import cross_val_score, KFold\n",
    "\n",
    "# Same as for previous iterations to allow for comparison\n",
    "k_folds = 10\n",
    "random_seed=5\n",
    "crossvalidation = StratifiedKFold(n_splits=k_folds, shuffle=True, \n",
    "                        random_state=random_seed)\n",
    "\n",
    "classifier = LogisticRegression()\n",
    "scores = cross_val_score(classifier, X, y, cv=crossvalidation, \n",
    "                         scoring='accuracy', n_jobs=-1)\n",
    "\n",
    "# save scores for comparison with another iteration\n",
    "np.save(\"../../data/iter02.data\", scores)\n",
    "\n",
    "print('Scores: ', np.round(scores, 3))\n",
    "print(f'Cross Validated Accuracy: {scores.mean():.3f}')"
   ]
  },
  {
   "cell_type": "markdown",
   "metadata": {},
   "source": [
    "### Compare Model Performance with Previous Iteration"
   ]
  },
  {
   "cell_type": "code",
   "execution_count": 9,
   "metadata": {},
   "outputs": [
    {
     "data": {
      "text/plain": [
       "<matplotlib.axes._subplots.AxesSubplot at 0x7fdd13133ef0>"
      ]
     },
     "execution_count": 9,
     "metadata": {},
     "output_type": "execute_result"
    },
    {
     "data": {
      "image/png": "[encoded data removed]",
      "text/plain": [
       "<Figure size 432x288 with 1 Axes>"
      ]
     },
     "metadata": {},
     "output_type": "display_data"
    }
   ],
   "source": [
    "# Read in scores from 1st iteration\n",
    "first_iter_scores = np.load('../../data/iter01.data.npy')\n",
    "\n",
    "df = pd.DataFrame(data=list(zip(scores, first_iter_scores)),\n",
    "                  columns=['scores','first_iter_scores'])\n",
    "sns.boxplot(data=df)"
   ]
  },
  {
   "cell_type": "markdown",
   "metadata": {},
   "source": [
    "The same random_state was used for each iteration of the model.  This means that each of the 10 folds of the model was build and tested on exactly the same data.  This means that we can directly compare the corresponding scores."
   ]
  },
  {
   "cell_type": "code",
   "execution_count": 10,
   "metadata": {},
   "outputs": [
    {
     "name": "stdout",
     "output_type": "stream",
     "text": [
      "[-0.045 -0.022  0.     0.     0.022  0.022  0.022  0.034  0.045  0.067]\n"
     ]
    }
   ],
   "source": [
    "diff_scores = scores - first_iter_scores\n",
    "print(np.round(sorted(diff_scores),3))"
   ]
  },
  {
   "cell_type": "code",
   "execution_count": 11,
   "metadata": {},
   "outputs": [
    {
     "data": {
      "text/plain": [
       "<matplotlib.lines.Line2D at 0x7fdd13146940>"
      ]
     },
     "execution_count": 11,
     "metadata": {},
     "output_type": "execute_result"
    },
    {
     "data": {
      "image/png": "[encoded data removed]",
      "text/plain": [
       "<Figure size 432x288 with 1 Axes>"
      ]
     },
     "metadata": {},
     "output_type": "display_data"
    }
   ],
   "source": [
    "# look at differences\n",
    "sns.boxplot(y=diff_scores)\n",
    "plt.axhline(0, color='blue')"
   ]
  },
  {
   "cell_type": "code",
   "execution_count": 12,
   "metadata": {},
   "outputs": [
    {
     "name": "stdout",
     "output_type": "stream",
     "text": [
      "New Model wins:  6\n",
      "New Model ties:  2\n",
      "New Model loses: 2\n"
     ]
    }
   ],
   "source": [
    "# How many times is the new model better?\n",
    "print(f'New Model wins:  {(diff_scores > 0).sum()}')\n",
    "print(f'New Model ties:  {(diff_scores == 0).sum()}')\n",
    "print(f'New Model loses: {(diff_scores < 0).sum()}')"
   ]
  },
  {
   "cell_type": "markdown",
   "metadata": {},
   "source": [
    "From the above boxplot and paired comparisons of the scores, it appears the new model is slightly better.  The change we made was to impute the missing Age values by their mean value and make use of the Age value in the Logistic Regression Model.  It is reasonable that the model would improve with the addition of the Age variable."
   ]
  },
  {
   "cell_type": "markdown",
   "metadata": {},
   "source": [
    "### Model Summary\n",
    "Model building steps only."
   ]
  },
  {
   "cell_type": "code",
   "execution_count": 13,
   "metadata": {},
   "outputs": [
    {
     "name": "stdout",
     "output_type": "stream",
     "text": [
      "Scores:  [0.689 0.7   0.697 0.685 0.742 0.697 0.73  0.652 0.674 0.75 ]\n",
      "Cross Validated Accuracy: 0.702\n"
     ]
    }
   ],
   "source": [
    "# read in all the labeled data\n",
    "all_data = pd.read_csv('../../data/train.csv')\n",
    "\n",
    "# break up the dataframe into X and y\n",
    "X = all_data.drop('Survived', axis=1)\n",
    "y = all_data['Survived']\n",
    "\n",
    "# As before, remove all non-numeric fields and PassengerId\n",
    "drop_fields = ['Name', 'Sex', 'Ticket', 'Cabin', 'Embarked', 'PassengerId']\n",
    "X = X.drop(drop_fields, axis=1)\n",
    "\n",
    "k_folds = 10\n",
    "random_seed=5\n",
    "crossvalidation = StratifiedKFold(n_splits=k_folds, shuffle=True, \n",
    "                        random_state=random_seed)\n",
    "\n",
    "imputer = Imputer(strategy='mean')\n",
    "classifier = make_pipeline(imputer, LogisticRegression())\n",
    "scores = cross_val_score(classifier, X, y, cv=crossvalidation, \n",
    "                         scoring='accuracy', n_jobs=1)\n",
    "\n",
    "# Use the mean score as the best estimate of model accuracy\n",
    "print('Scores: ', np.round(scores,3))\n",
    "print(f'Cross Validated Accuracy: {scores.mean() :.3f}')"
   ]
  },
  {
   "cell_type": "code",
   "execution_count": 14,
   "metadata": {},
   "outputs": [
    {
     "name": "stdout",
     "output_type": "stream",
     "text": [
      "Previous Cross Validated Accuracy: 0.687\n"
     ]
    }
   ],
   "source": [
    "# previous model\n",
    "print(f'Previous Cross Validated Accuracy: {first_iter_scores.mean() :.3f}')"
   ]
  },
  {
   "cell_type": "markdown",
   "metadata": {},
   "source": [
    "### Summary\n",
    "\n",
    "In this iteration we:\n",
    "* Added Age to the model\n",
    "* Imputed the missing Age values\n",
    "* Showed the right and wrong way to setup for cross validation\n",
    "* Used Imputation as part of a Pipeline, along with cross_val_score. This improves the quality of the software as it concisely performs cross validation correctly\n",
    "* slightly improved the model's accuracy from 68.7% to 70.2%"
   ]
  }
 ],
 "metadata": {
  "kernelspec": {
   "display_name": "Python 3",
   "language": "python",
   "name": "python3"
  },
  "language_info": {
   "codemirror_mode": {
    "name": "ipython",
    "version": 3
   },
   "file_extension": ".py",
   "mimetype": "text/x-python",
   "name": "python",
   "nbconvert_exporter": "python",
   "pygments_lexer": "ipython3",
   "version": "3.6.5"
  },
  "varInspector": {
   "cols": {
    "lenName": 16,
    "lenType": 16,
    "lenVar": 40
   },
   "kernels_config": {
    "python": {
     "delete_cmd_postfix": "",
     "delete_cmd_prefix": "del ",
     "library": "var_list.py",
     "varRefreshCmd": "print(var_dic_list())"
    },
    "r": {
     "delete_cmd_postfix": ") ",
     "delete_cmd_prefix": "rm(",
     "library": "var_list.r",
     "varRefreshCmd": "cat(var_dic_list()) "
    }
   },
   "position": {
    "height": "356px",
    "left": "51px",
    "right": "20px",
    "top": "142px",
    "width": "714px"
   },
   "types_to_exclude": [
    "module",
    "function",
    "builtin_function_or_method",
    "instance",
    "_Feature"
   ],
   "window_display": true
  }
 },
 "nbformat": 4,
 "nbformat_minor": 2
}
