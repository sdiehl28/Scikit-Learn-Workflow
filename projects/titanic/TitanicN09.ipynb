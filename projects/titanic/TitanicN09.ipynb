{
 "cells": [
  {
   "cell_type": "markdown",
   "metadata": {
    "toc-hr-collapsed": false
   },
   "source": [
    "# Modeling Building<br/>*Stacking and VotingClassifiers*"
   ]
  },
  {
   "cell_type": "markdown",
   "metadata": {},
   "source": [
    "## Goals\n",
    "1. Describe Ensembles\n",
    "2. Describe the Stacking Algorithm\n",
    "3. Custom Code a Stacking Classifier\n",
    "4. Use Stacking Classifier and Analyze Results\n",
    "5. Use VotingClassifier and Analyze Results\n",
    "6. Tune Base Learners and Analysze Results\n",
    "7. Simplify and present interpretable decision tree"
   ]
  },
  {
   "cell_type": "markdown",
   "metadata": {
    "toc-hr-collapsed": false
   },
   "source": [
    "## Ensemble Description\n",
    "An *ensemble* makes use of multiple models to improve predictions.  Each model in the ensemble is called a *base learner* (or base estimator).  The predictions from the base learners are fed into another model, the *meta learner*, to create the final prediction.\n",
    "\n",
    "An ensemble of base learners is analogous to a group of experts.  Each person in the group can vote on a recommendation, the votes can be tallied up, and the \"winner\" is the best recommendation.  In this example, each expert is a *base learner* and \"tallying up the votes\" is the *meta learner* used to combine the recommendations.\n",
    "\n",
    "For an ensemble to work well:\n",
    "* each expert should be better at predicting than random chance\n",
    "* the experts should not always agree with each other\n",
    "\n",
    "Some of Scikit Learn's estimators are ensembles that consist of multiple base learners which are trained internally, the results combined, and a prediction is made.  See: [Scikit Learn Ensembles](https://scikit-learn.org/stable/modules/ensemble.html)\n",
    "\n",
    "There are many types of ensembles.  The type discussed here is called a Stack.\n",
    "\n",
    "In this notebook, a custom Stack estimator will be coded from scratch and used on the Titanic data set."
   ]
  },
  {
   "cell_type": "markdown",
   "metadata": {
    "toc-hr-collapsed": true
   },
   "source": [
    "## Prepare Data for Modeling\n",
    "Same as in previous notebooks."
   ]
  },
  {
   "cell_type": "markdown",
   "metadata": {},
   "source": [
    "### Common Imports and Notebook Setup"
   ]
  },
  {
   "cell_type": "code",
   "execution_count": 1,
   "metadata": {},
   "outputs": [],
   "source": [
    "import numpy as np\n",
    "import pandas as pd\n",
    "import matplotlib.pyplot as plt\n",
    "import seaborn as sns\n",
    "import sklearn as sk\n",
    "%matplotlib inline\n",
    "sns.set() # enable seaborn style\n",
    "\n",
    "import titanic_helper_code as tt"
   ]
  },
  {
   "cell_type": "code",
   "execution_count": 2,
   "metadata": {},
   "outputs": [
    {
     "name": "stdout",
     "output_type": "stream",
     "text": [
      "python:      3.7.3 (default, Mar 27 2019, 22:11:17) \n",
      "[GCC 7.3.0]\n",
      "numpy:       1.16.4\n",
      "pandas:      0.24.2\n",
      "matplotlib:  3.1.0\n",
      "seaborn:     0.9.0\n",
      "sklearn:     0.21.2\n",
      "Description:\tUbuntu 18.04.2 LTS\n"
     ]
    }
   ],
   "source": [
    "# Version Information\n",
    "import sys\n",
    "print('python:     ', sys.version)\n",
    "print('numpy:      ', np.__version__)\n",
    "print('pandas:     ', pd.__version__)\n",
    "import matplotlib\n",
    "print('matplotlib: ', matplotlib.__version__)\n",
    "print('seaborn:    ', sns.__version__)\n",
    "print('sklearn:    ', sk.__version__)\n",
    "!lsb_release -d"
   ]
  },
  {
   "cell_type": "code",
   "execution_count": 3,
   "metadata": {},
   "outputs": [],
   "source": [
    "# Scikit Learn imports\n",
    "from sklearn.model_selection import cross_val_score, StratifiedKFold\n",
    "from sklearn.model_selection import RepeatedStratifiedKFold\n",
    "from sklearn.model_selection import train_test_split, cross_val_predict\n",
    "from sklearn.model_selection import GridSearchCV, RandomizedSearchCV\n",
    "from sklearn.linear_model import LogisticRegression, BayesianRidge\n",
    "from sklearn.neighbors import KNeighborsClassifier\n",
    "from sklearn.ensemble import GradientBoostingClassifier\n",
    "from sklearn.svm import SVC\n",
    "from sklearn.preprocessing import StandardScaler\n",
    "from sklearn.impute import SimpleImputer\n",
    "from sklearn.pipeline import Pipeline\n",
    "from sklearn.metrics import accuracy_score, log_loss\n",
    "from sklearn.preprocessing import StandardScaler\n",
    "from sklearn.preprocessing import KBinsDiscretizer\n",
    "from sklearn.impute import SimpleImputer\n",
    "from sklearn.neural_network import MLPClassifier\n",
    "from sklearn.ensemble import VotingClassifier\n",
    "from sklearn.compose import ColumnTransformer\n",
    "\n",
    "# conda install py-xgboost\n",
    "from xgboost import XGBClassifier"
   ]
  },
  {
   "cell_type": "code",
   "execution_count": 4,
   "metadata": {},
   "outputs": [],
   "source": [
    "# explictly enable and import new iterative imputer\n",
    "from sklearn.experimental import enable_iterative_imputer\n",
    "from sklearn.impute import IterativeImputer"
   ]
  },
  {
   "cell_type": "markdown",
   "metadata": {
    "toc-hr-collapsed": true
   },
   "source": [
    "## Performance of Individual Models\n",
    "Initially, the base learners will use default values for all hyperparameters.\n",
    "\n",
    "As per first notebook, unless otherwise noted, these notebooks use:  \n",
    "* Model Selection: 10-Repeated 2-Fold Cross Validation \n",
    "  * or 5-Repeated 2-Fold CV for nested operations\n",
    "* Model Evaluation: 10-Repeated 10-Fold Cross Validation  "
   ]
  },
  {
   "cell_type": "code",
   "execution_count": 5,
   "metadata": {},
   "outputs": [],
   "source": [
    "# get the X predictor matrix and the y target vector\n",
    "X, y = tt.get_Xy_v6()\n",
    "\n",
    "# instantiate a few estimators using Scikit Learn defaults\n",
    "lr  = LogisticRegression(solver='liblinear')\n",
    "knn = KNeighborsClassifier()\n",
    "xgb = XGBClassifier(objective='binary:logistic')\n",
    "svm = SVC(gamma='auto', probability=True)\n",
    "nn  = MLPClassifier(max_iter=2000, random_state=101)\n",
    "\n",
    "# apply the ColumnTransform logic used in previous notebooks\n",
    "cols, ct = tt.get_ct_v5()\n",
    "lr_pipe = Pipeline([('ct', ct), ('lr', lr)])\n",
    "knn_pipe = Pipeline([('ct', ct), ('knn', knn)])\n",
    "# xgb seems to work better without the data preprocessing\n",
    "svm_pipe = Pipeline([('ct', ct), ('svm', svm)])\n",
    "nn_pipe = Pipeline([('ct', ct), ('nn', nn)])\n",
    "\n",
    "base_learners = [lr_pipe, knn_pipe, xgb, svm_pipe, nn_pipe]"
   ]
  },
  {
   "cell_type": "code",
   "execution_count": 6,
   "metadata": {},
   "outputs": [],
   "source": [
    "# Cross Validation Generators used in this Notebook\n",
    "cv_select = RepeatedStratifiedKFold(n_splits=2, n_repeats=10, \n",
    "                                    random_state=108)\n",
    "cv_select_quick = RepeatedStratifiedKFold(n_splits=2, n_repeats=5, \n",
    "                                          random_state=108)\n",
    "cv_predict = StratifiedKFold(n_splits=10, random_state=1001)"
   ]
  },
  {
   "cell_type": "code",
   "execution_count": 7,
   "metadata": {},
   "outputs": [
    {
     "name": "stdout",
     "output_type": "stream",
     "text": [
      "LR            Score: 0.830 +/- 0.013\n",
      "KNN           Score: 0.806 +/- 0.015\n",
      "XGBClassifier Score: 0.823 +/- 0.013\n",
      "SVM           Score: 0.831 +/- 0.013\n",
      "NN            Score: 0.816 +/- 0.016\n"
     ]
    }
   ],
   "source": [
    "# Evaluate the Accuracy of each base learner\n",
    "for base_learner in base_learners:\n",
    "    if hasattr(base_learner, 'steps'):\n",
    "        name = base_learner.steps[1][0].upper()\n",
    "    else:\n",
    "        name = base_learner.__class__.__name__\n",
    "\n",
    "    scores  = cross_val_score(base_learner,  X, y, scoring='accuracy', \n",
    "                              cv=cv_select)\n",
    "    print(f'{name:13} Score: {scores.mean():.3f} +/- {scores.std():.3f}')"
   ]
  },
  {
   "cell_type": "markdown",
   "metadata": {},
   "source": [
    "### **cross_val_score** and **cross_val_predict**  \n",
    "\n",
    "**cross_val_score**  \n",
    "Uses cross validation to predict on each of K test folds, scores that prediction, and returns each of the K scores.\n",
    "\n",
    "cross_val_score will call the estimator's predict or predict_proba method, depending upon the scoring object used.\n",
    "\n",
    "**cross_val_predict**  \n",
    "Uses cross validation to predict on each of K test folds and returns len(X_train) predictions.\n",
    "\n",
    "These predictions can be scored in any way, including the same way they are scored with cross_val_score."
   ]
  },
  {
   "cell_type": "markdown",
   "metadata": {},
   "source": [
    "### Use **cross_val_predict** to get scores\n",
    "Using **cross_val_predict** to get the same scores as **cross_val_score** is helpful in understanding how these functions work."
   ]
  },
  {
   "cell_type": "code",
   "execution_count": 8,
   "metadata": {},
   "outputs": [
    {
     "name": "stdout",
     "output_type": "stream",
     "text": [
      "True\n"
     ]
    }
   ],
   "source": [
    "# Part 1: Accuracy -- cross_val_score using predict\n",
    "acc_scores = cross_val_score(lr_pipe, X, y, \n",
    "                             scoring='accuracy', cv=cv_predict)\n",
    "\n",
    "acc_scores2 = []\n",
    "predictions = cross_val_predict(lr_pipe, X, y, \n",
    "                                cv=cv_predict, method='predict')\n",
    "\n",
    "for train_index, test_index in cv_predict.split(X, y):\n",
    "    fold_score = accuracy_score(y.iloc[test_index], \n",
    "                                predictions[test_index])\n",
    "    acc_scores2.append(fold_score)\n",
    "\n",
    "# verify scores are the same\n",
    "print((acc_scores == acc_scores2).all())"
   ]
  },
  {
   "cell_type": "code",
   "execution_count": 9,
   "metadata": {},
   "outputs": [
    {
     "name": "stdout",
     "output_type": "stream",
     "text": [
      "True\n"
     ]
    }
   ],
   "source": [
    "# Part 2: Log Loss -- cross_val_score using predict_proba\n",
    "logloss_scores = cross_val_score(lr_pipe, X, y, \n",
    "                                 scoring='neg_log_loss', cv=cv_predict)\n",
    "\n",
    "logloss_scores2 = []\n",
    "predictions = cross_val_predict(lr_pipe, X, y,\n",
    "                                cv=cv_predict, method='predict_proba')\n",
    "\n",
    "for train_index, test_index in cv_predict.split(X, y):\n",
    "    fold_score = -log_loss(y.iloc[test_index], \n",
    "                           predictions[test_index])\n",
    "    logloss_scores2.append(fold_score)\n",
    "\n",
    "# verify results are the same\n",
    "print((logloss_scores == logloss_scores2).all())"
   ]
  },
  {
   "cell_type": "markdown",
   "metadata": {
    "toc-hr-collapsed": true
   },
   "source": [
    "## Stacking\n",
    "\n",
    "**Algorithm**  \n",
    "1. fit on train\n",
    "   * create training meta-features using base learners with cross_val_predict\n",
    "   * fit meta-learner on training meta-features\n",
    "   * fit base learners (for next step)\n",
    "2. predict on test\n",
    "   * create test meta-features using fitted base learners\n",
    "   * create predictions using fitted meta-learner on test meta-features"
   ]
  },
  {
   "cell_type": "markdown",
   "metadata": {
    "toc-hr-collapsed": false
   },
   "source": [
    "### Stacking Algorithm: cross_val_predict  \n",
    "In general, the model building process should not have a step which both fits and predicts on the same data.  In step 1 above, had the training meta-features been created by fitting the base learners on the training data and then using those base learners to predict on that same training data, this would have been overfitting.\n",
    "\n",
    "Instead the meta level features in step 1 above should use \"cross validated predictions\".  Here is a quote from Scikit Learn on [cross_val_predict](https://scikit-learn.org/stable/modules/cross_validation.html#obtaining-predictions-by-cross-validation)\n",
    "> The function cross_val_predict is appropriate for:  \n",
    "* Visualization of predictions obtained from different models.  \n",
    "* Model blending: When predictions of one supervised estimator are used to train another estimator in ensemble methods. \n",
    "\n",
    "An good alternative description of the Stacking algorithm, which also describes the use of cross validated predictions for meta level features, can be found at:  \n",
    "[Super Learner Algorithm](https://h2o-release.s3.amazonaws.com/h2o/rel-ueno/2/docs-website/h2o-docs/data-science/stacked-ensembles.html#super-learner-algorithm)"
   ]
  },
  {
   "cell_type": "markdown",
   "metadata": {},
   "source": [
    "### Why Build a Custom Stacking Estimator\n",
    "There are several good libraries available for stacking such as [mlxtend](http://rasbt.github.io/mlxtend/) and [mlens](https://mlens.readthedocs.io/en/0.1.x/).\n",
    "\n",
    "As of May 2019, mlxtend did not work with ColumnTransformer (introduced in September of 2018).  ColumnTransformer, or  [sklearn-pandas](https://github.com/scikit-learn-contrib/sklearn-pandas) is necessary to preprocess input features using a clean work flow.  All previous notebooks in this series used ColumnTransformer.\n",
    "\n",
    "Creating a custom classifier allows for continued use of ColumnTransformer, and shows how easy the basics of building a custom classifier are.\n",
    "\n",
    "A good approach to software development is to first create a simple working example, and then abstract that logic into an object or function.  A key to making this process simple, is to take care in choosing variable and method names which accurately convey to any developer, what each step is doing."
   ]
  },
  {
   "cell_type": "markdown",
   "metadata": {
    "toc-hr-collapsed": false
   },
   "source": [
    "### Stacking Example\n",
    "\n",
    "Above algorithm in six steps:\n",
    "1. create train/test split\n",
    "2. creating training meta-features\n",
    "3. fit meta-learner to training meta-features\n",
    "4. fit base learners\n",
    "5. create test meta-features\n",
    "6. predict and evaluate fitted meta-learner on test meta-features"
   ]
  },
  {
   "cell_type": "markdown",
   "metadata": {},
   "source": [
    "#### 1. Train/Test Split\n",
    "Key Points:  \n",
    "* Train/Test split used for illustration.  Cross Validation is better for this data set."
   ]
  },
  {
   "cell_type": "code",
   "execution_count": 10,
   "metadata": {},
   "outputs": [],
   "source": [
    "# Start with train/test split, later use cross validation\n",
    "X_train, X_test, y_train, y_test = \\\n",
    "    train_test_split(X, y, test_size=0.333, random_state=1001)"
   ]
  },
  {
   "cell_type": "markdown",
   "metadata": {},
   "source": [
    "#### 2. Create Training Meta-Features\n",
    "Key points:\n",
    "* use cross_val_predict on training data to avoid overfitting\n",
    "* for classification, use predict_proba to provide more information to the meta-learner"
   ]
  },
  {
   "cell_type": "code",
   "execution_count": 11,
   "metadata": {},
   "outputs": [],
   "source": [
    "# predict_proba outputs [probability NotSurvived, probability Survived]\n",
    "# select the 2nd column only\n",
    "p1_train = cross_val_predict(lr_pipe, X_train, y_train, cv=cv_predict, \n",
    "                             method='predict_proba')[:, 1]\n",
    "p2_train = cross_val_predict(svm_pipe, X_train, y_train, cv=cv_predict, \n",
    "                             method='predict_proba')[:, 1]\n",
    "\n",
    "# combine features into meta-features matrix\n",
    "meta_train = np.column_stack((p1_train, p2_train))"
   ]
  },
  {
   "cell_type": "markdown",
   "metadata": {},
   "source": [
    "#### 3. Fit Meta Learner"
   ]
  },
  {
   "cell_type": "code",
   "execution_count": 12,
   "metadata": {},
   "outputs": [],
   "source": [
    "meta_learner = SVC(gamma='auto')\n",
    "meta_learner.fit(meta_train, y_train);"
   ]
  },
  {
   "cell_type": "markdown",
   "metadata": {},
   "source": [
    "#### 4. Fit Base Learners"
   ]
  },
  {
   "cell_type": "code",
   "execution_count": 13,
   "metadata": {},
   "outputs": [],
   "source": [
    "# fit base learners on all of train\n",
    "lr_pipe.fit(X_train, y_train)\n",
    "svm_pipe.fit(X_train, y_train);"
   ]
  },
  {
   "cell_type": "markdown",
   "metadata": {},
   "source": [
    "#### 5. Create Test Meta Features"
   ]
  },
  {
   "cell_type": "code",
   "execution_count": 14,
   "metadata": {},
   "outputs": [],
   "source": [
    "# predict probability of survived\n",
    "p1_test= lr_pipe.predict_proba(X_test)[:, 1]\n",
    "p2_test = svm_pipe.predict_proba(X_test)[:, 1]\n",
    "\n",
    "# combine features into meta-features matrix\n",
    "meta_test = np.column_stack((p1_test, p2_test))"
   ]
  },
  {
   "cell_type": "markdown",
   "metadata": {},
   "source": [
    "#### 6. Predict and Evaluate"
   ]
  },
  {
   "cell_type": "code",
   "execution_count": 15,
   "metadata": {},
   "outputs": [
    {
     "data": {
      "text/plain": [
       "0.832"
      ]
     },
     "execution_count": 15,
     "metadata": {},
     "output_type": "execute_result"
    }
   ],
   "source": [
    "meta_pred = meta_learner.predict(meta_test)\n",
    "score = accuracy_score(y_test, meta_pred)\n",
    "np.round(score, 3)"
   ]
  },
  {
   "cell_type": "markdown",
   "metadata": {},
   "source": [
    "#### Above Score May Have Strong Bias and Variance\n",
    "The above score was computed from a single train/test split.  The Titanic data set is small, so both the train and test sets are small.  A small train set my cause a large score bias.  A small test split may cause a large score variance.  Cross Validation should be used instead."
   ]
  },
  {
   "cell_type": "markdown",
   "metadata": {
    "toc-hr-collapsed": true
   },
   "source": [
    "## Create Custom Stacking Classifier\n",
    "\n",
    "The custom Stacking classifier created below will:\n",
    "* work with ColumnTransformer\n",
    "* work with cross_val_score\n",
    "* not work with GridSearchCV\n",
    "* not use parallelization to speed up operation\n",
    "* not report usage errors\n",
    "\n",
    "See: [Rolling your own estimator](https://scikit-learn.org/stable/developers/contributing.html#rolling-your-own-estimator)"
   ]
  },
  {
   "cell_type": "code",
   "execution_count": 16,
   "metadata": {},
   "outputs": [],
   "source": [
    "from sklearn.base import BaseEstimator, ClassifierMixin\n",
    "class StackedClassifier(BaseEstimator, ClassifierMixin):\n",
    "    '''Minimal Stacking Classifier\n",
    "    \n",
    "       Uses predict_proba for level 1 meta features.\n",
    "    '''\n",
    "\n",
    "    def __init__(self, base_learners, meta_learner, cv):\n",
    "        self.base_learners = base_learners\n",
    "        self.meta_learner = meta_learner\n",
    "        self.cv = cv\n",
    "\n",
    "    def fit(self, X, y):      \n",
    "        \n",
    "        # Create Training Features\n",
    "        train_cols = []\n",
    "        for base_learner in self.base_learners:\n",
    "            tmp = cross_val_predict(base_learner, X, y, cv=self.cv,\n",
    "                                    method='predict_proba')[:, 1]\n",
    "            train_cols.append(tmp)\n",
    "        X_meta_train = np.column_stack(train_cols)\n",
    "        \n",
    "        # fit meta learner on train\n",
    "        self.meta_learner.fit(X_meta_train, y)\n",
    "        \n",
    "        # fit the base learners on the entire training data\n",
    "        for base_learner in self.base_learners:\n",
    "            base_learner.fit(X, y)\n",
    "\n",
    "        # Return the classifier\n",
    "        return self\n",
    "\n",
    "    def predict(self, X):\n",
    "        \n",
    "        # Create Test Features\n",
    "        test_cols = []\n",
    "        for base_learner in self.base_learners:\n",
    "            tmp = base_learner.predict_proba(X)[:, 1]\n",
    "            test_cols.append(tmp)\n",
    "        X_meta_test = np.column_stack(test_cols)\n",
    "        \n",
    "        predictions = self.meta_learner.predict(X_meta_test)\n",
    "\n",
    "        return predictions"
   ]
  },
  {
   "cell_type": "markdown",
   "metadata": {
    "toc-hr-collapsed": false
   },
   "source": [
    "### Experiment with Custom Stacked Classifier\n",
    "These experiments use SVC as the meta learner.\n",
    "\n",
    "Per the above, the individual models scored:  \n",
    "LR            Score: 0.830 +/- 0.013  \n",
    "KNN           Score: 0.806 +/- 0.015  \n",
    "XGBClassifier Score: 0.823 +/- 0.013  \n",
    "SVM           Score: 0.831 +/- 0.013  \n",
    "NN            Score: 0.816 +/- 0.016  \n",
    "\n",
    "Ideally we would like to see a score better than the single best score above."
   ]
  },
  {
   "cell_type": "code",
   "execution_count": 17,
   "metadata": {},
   "outputs": [],
   "source": [
    "# Prepare the individual base learners\n",
    "\n",
    "# Instantiate Estimators\n",
    "lr  = LogisticRegression(solver='liblinear')\n",
    "knn = KNeighborsClassifier()\n",
    "xgb = XGBClassifier(objective='binary:logistic')\n",
    "svm = SVC(gamma='auto', probability=True)\n",
    "nn  = MLPClassifier(max_iter=2000, random_state=101)\n",
    "\n",
    "# Get ColumnTransform Preprocessing Object\n",
    "cols, ct = tt.get_ct_v5()\n",
    "\n",
    "# Prepend Preprocessing to create Pipeline\n",
    "lr_pipe = Pipeline([('ct', ct), ('lr', lr)])\n",
    "knn_pipe = Pipeline([('ct', ct), ('knn', knn)])\n",
    "# xgb seems to work better without the data preprocessing\n",
    "svm_pipe = Pipeline([('ct', ct), ('svm', svm)])\n",
    "nn_pipe = Pipeline([('ct', ct), ('nn', nn)])"
   ]
  },
  {
   "cell_type": "markdown",
   "metadata": {},
   "source": [
    "#### Base Learners: LogitReg, KNN, SVC"
   ]
  },
  {
   "cell_type": "code",
   "execution_count": 18,
   "metadata": {},
   "outputs": [
    {
     "name": "stdout",
     "output_type": "stream",
     "text": [
      "20 Scores  min:0.809 max:0.850\n",
      "CV Mean Score: 0.826 +/- 0.013\n"
     ]
    }
   ],
   "source": [
    "# LR, KNN with SVM meta learner\n",
    "base_learners = [lr_pipe, knn_pipe]\n",
    "meta_learner = SVC(gamma='auto')\n",
    "sc = StackedClassifier(base_learners, meta_learner, cv_predict)\n",
    "scores = cross_val_score(sc, X, y, cv=cv_select)\n",
    "tt.print_scores(scores)"
   ]
  },
  {
   "cell_type": "markdown",
   "metadata": {},
   "source": [
    "#### Base Learners: LogitReg, SVC"
   ]
  },
  {
   "cell_type": "code",
   "execution_count": 19,
   "metadata": {},
   "outputs": [
    {
     "name": "stdout",
     "output_type": "stream",
     "text": [
      "20 Scores  min:0.812 max:0.854\n",
      "CV Mean Score: 0.832 +/- 0.014\n"
     ]
    }
   ],
   "source": [
    "# LR, SVM with SVM meta learner\n",
    "base_learners = [lr_pipe, svm_pipe]\n",
    "meta_learner = SVC(gamma='auto')\n",
    "sc = StackedClassifier(base_learners, meta_learner, cv_predict)\n",
    "scores = cross_val_score(sc, X, y, cv=cv_select)\n",
    "tt.print_scores(scores)"
   ]
  },
  {
   "cell_type": "markdown",
   "metadata": {},
   "source": [
    "#### Base Learners: LogitReg, XGB, SVC"
   ]
  },
  {
   "cell_type": "code",
   "execution_count": 20,
   "metadata": {},
   "outputs": [
    {
     "name": "stdout",
     "output_type": "stream",
     "text": [
      "20 Scores  min:0.809 max:0.854\n",
      "CV Mean Score: 0.832 +/- 0.013\n"
     ]
    }
   ],
   "source": [
    "# LR, SVM, XGB with SVM meta learner\n",
    "base_learners = [lr_pipe, svm_pipe, xgb]\n",
    "meta_learner = SVC(gamma='auto')\n",
    "sc = StackedClassifier(base_learners, meta_learner, cv_predict)\n",
    "scores = cross_val_score(sc, X, y, cv=cv_select)\n",
    "tt.print_scores(scores)"
   ]
  },
  {
   "cell_type": "markdown",
   "metadata": {},
   "source": [
    "#### Base Learners: LogitReg, XGB, SVC, KNN"
   ]
  },
  {
   "cell_type": "code",
   "execution_count": 21,
   "metadata": {},
   "outputs": [
    {
     "name": "stdout",
     "output_type": "stream",
     "text": [
      "20 Scores  min:0.809 max:0.852\n",
      "CV Mean Score: 0.832 +/- 0.012\n"
     ]
    }
   ],
   "source": [
    "# LR, SVM, KNN, XGB with SVM meta learner\n",
    "base_learners = [lr_pipe, svm_pipe, knn_pipe, xgb]\n",
    "meta_learner = SVC(gamma='auto')\n",
    "sc = StackedClassifier(base_learners, meta_learner, cv_predict)\n",
    "scores = cross_val_score(sc, X, y, cv=cv_select)\n",
    "tt.print_scores(scores)"
   ]
  },
  {
   "cell_type": "code",
   "execution_count": 50,
   "metadata": {},
   "outputs": [],
   "source": [
    "#### Base Learners: LogitReg, SVC, KNN, XGB, NeuralNetwork"
   ]
  },
  {
   "cell_type": "code",
   "execution_count": 22,
   "metadata": {},
   "outputs": [
    {
     "name": "stdout",
     "output_type": "stream",
     "text": [
      "20 Scores  min:0.809 max:0.854\n",
      "CV Mean Score: 0.830 +/- 0.014\n"
     ]
    }
   ],
   "source": [
    "# LR, SVM, KNN, XGB, NN with SVM meta learner\n",
    "base_learners = [lr_pipe, svm_pipe, knn_pipe, xgb, nn_pipe]\n",
    "meta_learner = SVC(gamma='auto')\n",
    "sc = StackedClassifier(base_learners, meta_learner, cv_predict)\n",
    "scores = cross_val_score(sc, X, y, cv=cv_select)\n",
    "tt.print_scores(scores)"
   ]
  },
  {
   "cell_type": "markdown",
   "metadata": {
    "toc-hr-collapsed": true
   },
   "source": [
    "### Analysis of Stacking Results\n",
    "More experiments were tried than are presented above, but the above results are illustrative of what happened.\n",
    "\n",
    "There was little or no improvement.  The Titanic data set is small and simple.\n",
    "\n",
    "Above, both the base learners and the meta learner did not have their hyperparameters tuned.  This will be tried next."
   ]
  },
  {
   "cell_type": "markdown",
   "metadata": {
    "toc-hr-collapsed": true
   },
   "source": [
    "## Optimize Base Learners for use with Stacked Classifier\n",
    "\n",
    "The base learners are being used to generate probabilities as meta-features for the meta learner.  For the meta learner to work well, these probabilities should be [calibrated](https://scikit-learn.org/stable/modules/generated/sklearn.calibration.CalibratedClassifierCV.html).\n",
    "\n",
    "Unfortunately, just as there is too little data for a hold-out set for model evaluation, there is too little data for another hold-out set for probability calibration.  Calibration cannot be done here.\n",
    "\n",
    "For LogisticRegression, log loss probabilities are already calibrated due to the definition of its objective function.\n",
    "\n",
    "For SupportVectorClassifier, probabilities do not exist at all, due to the definition of its objective function.  To return probabilities, a special technique invented by John Platt is used.  See [Scores and Probabilities](https://scikit-learn.org/stable/modules/svm.html#scores-probabilities).\n",
    "\n",
    "A possible alternative to calibrating the probabilities is to tune the base learner's hyperparameters such that the log loss score is optimized.  Log loss appropriately measures the error between the predicted probability and the target value.  This was tried and did not work well.  These results are not shown here.\n",
    "\n",
    "Ideally all the base learners and the meta-learner, would be optimized together.  An ensemble predicts well if its base learners are diverse, and this diversity is not captured when optimizing the base learners one at a time.  Unfortunately this is too computationally intensive and it is not well supported by the above simple Stacking classifier.\n",
    "\n",
    "Given the simplicity and small size of the Titanic data set, optimizing the base learners and the meta learner are unlikely to be helpful.  Nevertheless, the results are shown below as an example of how to approach this problem.\n",
    "\n",
    "Another type of ensemble, directly supported by Scikit Learn, is the VotingClassifier.  This is simpler than a Stacking classifier and will be tried later in this notebook.\n",
    "\n",
    "Next, each base learner will be optimized by accuracy, a few stacking experiments will be tried, and the best base learners will be used with a metal learner which is itself optimized for accuracy."
   ]
  },
  {
   "cell_type": "markdown",
   "metadata": {
    "toc-hr-collapsed": false
   },
   "source": [
    "### Optimize Base Learners for Accuracy\n",
    "GridSearchCV will be used here."
   ]
  },
  {
   "cell_type": "markdown",
   "metadata": {},
   "source": [
    "As with previous notebooks, get_Xy encodes the Titanic data and get_ct provides the ColumnTransformer which transforms the encoded data."
   ]
  },
  {
   "cell_type": "code",
   "execution_count": 23,
   "metadata": {},
   "outputs": [],
   "source": [
    "X, y = tt.get_Xy_v6()\n",
    "cols, ct = tt.get_ct_v5()"
   ]
  },
  {
   "cell_type": "markdown",
   "metadata": {},
   "source": [
    "##### **Logistic Regression**  \n",
    "To be thorough, the saga solver will be used which allows for penalty='elasticnet'."
   ]
  },
  {
   "cell_type": "code",
   "execution_count": 24,
   "metadata": {},
   "outputs": [],
   "source": [
    "lr  = LogisticRegression(solver='saga', penalty='elasticnet',\n",
    "                         max_iter=5000)\n",
    "lr_pipe_best = Pipeline([('ct', ct), ('lr', lr)])\n",
    "\n",
    "params = {'lr__C': np.logspace(-2, 2, 20),\n",
    "          'lr__l1_ratio': np.linspace(0, 1, 3)}\n",
    "grid = GridSearchCV(estimator=lr_pipe_best, param_grid=params, \n",
    "                    scoring='accuracy', cv=cv_select)\n",
    "\n",
    "grid.fit(X, y);"
   ]
  },
  {
   "cell_type": "code",
   "execution_count": 25,
   "metadata": {},
   "outputs": [
    {
     "name": "stdout",
     "output_type": "stream",
     "text": [
      "Best: 0.832 +/- 0.014\n",
      "lr__C: 3.359818286283781\n",
      "lr__l1_ratio: 0.0\n"
     ]
    }
   ],
   "source": [
    "df_lr = tt.print_grid(grid, pandas=True)"
   ]
  },
  {
   "cell_type": "code",
   "execution_count": 26,
   "metadata": {},
   "outputs": [
    {
     "data": {
      "image/png": "[encoded data removed]",
      "text/plain": [
       "<Figure size 675.6x288 with 1 Axes>"
      ]
     },
     "metadata": {
      "needs_background": "light"
     },
     "output_type": "display_data"
    }
   ],
   "source": [
    "# workaround for Seaborn bug with hue=numeric-variable\n",
    "# convert ratio to string and append a non-numeric character\n",
    "df = df_lr.copy()\n",
    "df['lr__l1_ratio'] = df_lr['lr__l1_ratio'].apply(lambda x: f'{x:.2f}-')\n",
    "\n",
    "g = sns.relplot(x='lr__C', y='score', hue = 'lr__l1_ratio',\n",
    "                height=4, aspect=2.0,\n",
    "                data=df, ci=None, kind='line');\n",
    "\n",
    "ax = g.axes[0, 0]\n",
    "ax.set_xscale('log')\n",
    "ax.set_xlim(.1, 10)\n",
    "ax.set_ylim(.810, .835);"
   ]
  },
  {
   "cell_type": "markdown",
   "metadata": {},
   "source": [
    "A local maxima is seen with l1_ratio=0, so the hyperparameter grid values are good.\n",
    "\n",
    "An l1_ratio of 0 implies use of an L2 penalty only, which is the default for LogisticRegression.  Also, for this small dataset, liblinear converges faster than saga.  In the following, liblinear will be used."
   ]
  },
  {
   "cell_type": "code",
   "execution_count": 27,
   "metadata": {},
   "outputs": [
    {
     "name": "stdout",
     "output_type": "stream",
     "text": [
      "20 Scores  min:0.812 max:0.859\n",
      "CV Mean Score: 0.832 +/- 0.014\n"
     ]
    }
   ],
   "source": [
    "# verify liblinear produces same result with default penalty\n",
    "best_c = grid.best_params_['lr__C']\n",
    "lr  = LogisticRegression(solver='liblinear', C=best_c)\n",
    "lr_pipe_best = Pipeline([('ct', ct), ('lr', lr)])\n",
    "\n",
    "scores= cross_val_score(lr_pipe_best, X, y, cv=cv_select)\n",
    "tt.print_scores(scores)"
   ]
  },
  {
   "cell_type": "markdown",
   "metadata": {},
   "source": [
    "##### **Support Vector Machine** "
   ]
  },
  {
   "cell_type": "code",
   "execution_count": 28,
   "metadata": {},
   "outputs": [],
   "source": [
    "X, y = tt.get_Xy_v6()\n",
    "cols, ct = tt.get_ct_v5()\n",
    "\n",
    "svm = SVC(gamma='auto', probability=True)\n",
    "svm_pipe_best = Pipeline([('ct', ct), ('svm', svm)])\n",
    "\n",
    "params = {'svm__C': np.logspace(2, 4, 3),\n",
    "          'svm__gamma': np.logspace(-4, -1, 4)}\n",
    "\n",
    "grid = GridSearchCV(estimator=svm_pipe_best, param_grid=params,\n",
    "                    scoring='accuracy', cv=cv_select)\n",
    "\n",
    "grid.fit(X, y);"
   ]
  },
  {
   "cell_type": "code",
   "execution_count": 29,
   "metadata": {},
   "outputs": [
    {
     "name": "stdout",
     "output_type": "stream",
     "text": [
      "Best: 0.833 +/- 0.013\n",
      "svm__C: 1000.0\n",
      "svm__gamma: 0.001\n"
     ]
    }
   ],
   "source": [
    "df_svm = tt.print_grid(grid, pandas=True)"
   ]
  },
  {
   "cell_type": "code",
   "execution_count": 34,
   "metadata": {},
   "outputs": [
    {
     "data": {
      "image/png": "[encoded data removed]",
      "text/plain": [
       "<Figure size 527.975x288 with 1 Axes>"
      ]
     },
     "metadata": {
      "needs_background": "light"
     },
     "output_type": "display_data"
    }
   ],
   "source": [
    "# workaround for Seaborn hue bug\n",
    "df = df_svm.copy()\n",
    "df['svm__C'] = df['svm__C'].apply(lambda x: f'{x:.2f}-')\n",
    "\n",
    "g = sns.relplot(\"svm__gamma\", \"score\", hue=\"svm__C\", data=df,\n",
    "                kind=\"line\", height=4.0, aspect=1.5)\n",
    "ax = g.axes[0,0]\n",
    "ax.set_xscale('log')\n",
    "ax.set_ylim(0.76, 0.838);"
   ]
  },
  {
   "cell_type": "markdown",
   "metadata": {},
   "source": [
    "From the above, its possible that the local maxima for the green curve lies between .0001 and .001 and is higher than the local maxima for the orange curve.\n",
    "\n",
    "Add a point between .0001 and .001 and rerun GridSearchCV."
   ]
  },
  {
   "cell_type": "code",
   "execution_count": 35,
   "metadata": {},
   "outputs": [],
   "source": [
    "params = {'svm__C': np.logspace(2, 4, 3),\n",
    "          'svm__gamma': [.0001, .0005, .001, .01, .1]}\n",
    "\n",
    "grid = GridSearchCV(estimator=svm_pipe_best, param_grid=params,\n",
    "                    scoring='accuracy', cv=cv_select)\n",
    "\n",
    "grid.fit(X, y);"
   ]
  },
  {
   "cell_type": "code",
   "execution_count": 36,
   "metadata": {},
   "outputs": [
    {
     "name": "stdout",
     "output_type": "stream",
     "text": [
      "Best: 0.834 +/- 0.014\n",
      "svm__C: 10000.0\n",
      "svm__gamma: 0.0005\n"
     ]
    }
   ],
   "source": [
    "df_svm = tt.print_grid(grid, pandas=True)"
   ]
  },
  {
   "cell_type": "code",
   "execution_count": 37,
   "metadata": {},
   "outputs": [
    {
     "data": {
      "image/png": "[encoded data removed]",
      "text/plain": [
       "<Figure size 527.975x288 with 1 Axes>"
      ]
     },
     "metadata": {
      "needs_background": "light"
     },
     "output_type": "display_data"
    }
   ],
   "source": [
    "# workaround for Seaborn hue bug\n",
    "df = df_svm.copy()\n",
    "df['svm__C'] = df['svm__C'].apply(lambda x: f'{x:.2f}-')\n",
    "\n",
    "g = sns.relplot(\"svm__gamma\", \"score\", hue=\"svm__C\", data=df,\n",
    "                kind=\"line\", height=4.0, aspect=1.5)\n",
    "ax = g.axes[0,0]\n",
    "ax.set_xscale('log')\n",
    "ax.set_ylim(0.76, 0.838);"
   ]
  },
  {
   "cell_type": "markdown",
   "metadata": {},
   "source": [
    "A higher score was found.  Although the difference is insignificant, it is worthwhile to understand how to adjust the hyperparameter grid values to ensure that a local maxima is reached along each dimension.\n",
    "\n",
    "When the slope along one dimension is plotted as nearly flat, and it is near the optimum value, then it may be that the plotted points fall on either side of the optimal point.  Adding a point in the flat section can find the local optima."
   ]
  },
  {
   "cell_type": "markdown",
   "metadata": {},
   "source": [
    "##### **KNN**  "
   ]
  },
  {
   "cell_type": "code",
   "execution_count": 38,
   "metadata": {},
   "outputs": [],
   "source": [
    "X, y = tt.get_Xy_v6()\n",
    "cols, ct = tt.get_ct_v5()\n",
    "\n",
    "knn = KNeighborsClassifier()\n",
    "knn_pipe_best = Pipeline([('ct', ct), ('knn', knn)])\n",
    "\n",
    "params = {'knn__n_neighbors': [2, 3, 5, 8, 13, 21, 34, 55, 89],\n",
    "          'knn__weights': ['uniform', 'distance'],\n",
    "          'knn__p':[1, 2]}\n",
    "\n",
    "grid = GridSearchCV(estimator=knn_pipe_best, param_grid=params,\n",
    "                    scoring='accuracy', cv=cv_select)\n",
    "\n",
    "# find the best hyperparameters and associated score\n",
    "grid.fit(X, y);"
   ]
  },
  {
   "cell_type": "code",
   "execution_count": 39,
   "metadata": {},
   "outputs": [
    {
     "name": "stdout",
     "output_type": "stream",
     "text": [
      "Best: 0.824 +/- 0.016\n",
      "knn__n_neighbors: 13\n",
      "knn__p: 1\n",
      "knn__weights: uniform\n"
     ]
    }
   ],
   "source": [
    "df_knn = tt.print_grid(grid, pandas=True)"
   ]
  },
  {
   "cell_type": "code",
   "execution_count": 40,
   "metadata": {},
   "outputs": [
    {
     "data": {
      "image/png": "[encoded data removed]",
      "text/plain": [
       "<Figure size 766.6x360 with 2 Axes>"
      ]
     },
     "metadata": {
      "needs_background": "light"
     },
     "output_type": "display_data"
    }
   ],
   "source": [
    "# sns.relplot, with the workaround, works well here too\n",
    "g = sns.catplot(\"knn__n_neighbors\", \"score\", \"knn__p\", \n",
    "                col=\"knn__weights\", data=df_knn, kind=\"point\")"
   ]
  },
  {
   "cell_type": "markdown",
   "metadata": {},
   "source": [
    "In the above, weights='uniform' is clearly doing better than weights='distance'.\n",
    "\n",
    "It's probably splitting hairs, but a better local maxima could be found by fixing weights='uniform' (to save computation time) and trying more values of n between about 10 and 15."
   ]
  },
  {
   "cell_type": "code",
   "execution_count": 42,
   "metadata": {},
   "outputs": [],
   "source": [
    "params = {'knn__n_neighbors': [10, 11, 12, 13, 14, 15],\n",
    "          'knn__weights': ['uniform'],\n",
    "          'knn__p':[1, 2]}\n",
    "\n",
    "grid = GridSearchCV(estimator=knn_pipe_best, param_grid=params,\n",
    "                    scoring='accuracy', cv=cv_select)\n",
    "\n",
    "grid.fit(X, y);"
   ]
  },
  {
   "cell_type": "code",
   "execution_count": 43,
   "metadata": {},
   "outputs": [
    {
     "name": "stdout",
     "output_type": "stream",
     "text": [
      "Best: 0.824 +/- 0.015\n",
      "knn__n_neighbors: 12\n",
      "knn__p: 1\n",
      "knn__weights: uniform\n"
     ]
    }
   ],
   "source": [
    "df_knn = tt.print_grid(grid, pandas=True)"
   ]
  },
  {
   "cell_type": "code",
   "execution_count": 44,
   "metadata": {},
   "outputs": [
    {
     "data": {
      "image/png": "[encoded data removed]",
      "text/plain": [
       "<Figure size 406.6x360 with 1 Axes>"
      ]
     },
     "metadata": {
      "needs_background": "light"
     },
     "output_type": "display_data"
    }
   ],
   "source": [
    "g = sns.catplot(\"knn__n_neighbors\", \"score\", \"knn__p\", \n",
    "                data=df_knn, kind=\"point\")"
   ]
  },
  {
   "cell_type": "markdown",
   "metadata": {},
   "source": [
    "The difference between K=12 and K=13 is likely due to pure chance, but as 12 is better, it might as well be used."
   ]
  },
  {
   "cell_type": "markdown",
   "metadata": {
    "toc-hr-collapsed": true
   },
   "source": [
    "##### **XGB** "
   ]
  },
  {
   "cell_type": "code",
   "execution_count": 52,
   "metadata": {},
   "outputs": [],
   "source": [
    "X, y = tt.get_Xy_v6()\n",
    "cols, ct = tt.get_ct_v5()\n",
    "\n",
    "xgb_best = XGBClassifier(objective='binary:logistic', random_state=48)\n",
    "\n",
    "params = {'n_estimators': [100], \n",
    "          'learning_rate': [0.01, .02, .03, .04,\n",
    "                            .05, .06, .07, .08],\n",
    "          'max_depth': [5, 6, 7, 8, 9, 10, 11],\n",
    "          'colsample_bytree': [1.0, 0.6, 0.5, 0.4]}\n",
    "grid = GridSearchCV(estimator=xgb_best, param_grid=params,\n",
    "                    scoring='accuracy', cv=cv_select)\n",
    "\n",
    "grid.fit(X, y);"
   ]
  },
  {
   "cell_type": "code",
   "execution_count": 53,
   "metadata": {},
   "outputs": [
    {
     "name": "stdout",
     "output_type": "stream",
     "text": [
      "Best: 0.833 +/- 0.014\n",
      "colsample_bytree: 0.5\n",
      "learning_rate: 0.03\n",
      "max_depth: 11\n",
      "n_estimators: 100\n"
     ]
    }
   ],
   "source": [
    "df_xgb = tt.print_grid(grid, pandas=True)"
   ]
  },
  {
   "cell_type": "code",
   "execution_count": 54,
   "metadata": {},
   "outputs": [
    {
     "data": {
      "image/png": "[encoded data removed]",
      "text/plain": [
       "<Figure size 857.6x1440 with 7 Axes>"
      ]
     },
     "metadata": {
      "needs_background": "light"
     },
     "output_type": "display_data"
    }
   ],
   "source": [
    "# workaround for Seaborn hue bug\n",
    "df = df_xgb.copy()\n",
    "df['colsample_bytree'] = \\\n",
    "    df['colsample_bytree'].apply(lambda x: f'{x:.2f}-')\n",
    "\n",
    "g = sns.relplot(\"learning_rate\", \"score\", \"colsample_bytree\", \n",
    "                col=\"max_depth\", col_wrap=2, \n",
    "                data=df, kind=\"line\", ci=None)"
   ]
  },
  {
   "cell_type": "markdown",
   "metadata": {},
   "source": [
    "##### Examining the XGB Facet Plots\n",
    "Above can be seen there there are numerous combinations of values which produce results above .830.  Any of these, such as the one found by GridSearchCV, should be fine to use."
   ]
  },
  {
   "cell_type": "markdown",
   "metadata": {},
   "source": [
    "From the above, it is likely that a local maxima exists near the values found by GridSearchCV.  Adjusting the parameters is unlikely to make much difference."
   ]
  },
  {
   "cell_type": "markdown",
   "metadata": {},
   "source": [
    "#### **Neural Network** \n",
    "There are an infinite number of possibilities. Keras and other packages are better.  Here, try a few with the Scikit Learn's Neural Network."
   ]
  },
  {
   "cell_type": "code",
   "execution_count": 55,
   "metadata": {},
   "outputs": [],
   "source": [
    "alpha_values = [0.1, 0.2, 0.3, 0.4, 0.5, 0.7, 0.8, 0.9, 1.0, 1.1]"
   ]
  },
  {
   "cell_type": "code",
   "execution_count": 56,
   "metadata": {},
   "outputs": [],
   "source": [
    "X, y = tt.get_Xy_v6()\n",
    "cols, ct = tt.get_ct_v5()\n",
    "\n",
    "nn = MLPClassifier(max_iter=2000, random_state=909)\n",
    "nn_pipe_best = Pipeline([('ct', ct), ('nn', nn)])\n",
    "\n",
    "params = {'nn__hidden_layer_sizes':[(50,),(100,),(200,)],\n",
    "          'nn__alpha':alpha_values}       \n",
    "grid = GridSearchCV(estimator=nn_pipe_best, param_grid=params,\n",
    "                    scoring='accuracy', cv=cv_select)\n",
    "\n",
    "# find the best hyperparameters and associated score\n",
    "grid.fit(X, y);"
   ]
  },
  {
   "cell_type": "code",
   "execution_count": 57,
   "metadata": {},
   "outputs": [
    {
     "name": "stdout",
     "output_type": "stream",
     "text": [
      "Best: 0.832 +/- 0.016\n",
      "nn__alpha: 0.5\n",
      "nn__hidden_layer_sizes: (50,)\n"
     ]
    }
   ],
   "source": [
    "df_nn = tt.print_grid(grid, pandas=True)"
   ]
  },
  {
   "cell_type": "code",
   "execution_count": 58,
   "metadata": {},
   "outputs": [
    {
     "data": {
      "image/png": "[encoded data removed]",
      "text/plain": [
       "<Figure size 708.725x360 with 1 Axes>"
      ]
     },
     "metadata": {
      "needs_background": "light"
     },
     "output_type": "display_data"
    }
   ],
   "source": [
    "g = sns.relplot(\"nn__alpha\", \"score\", \"nn__hidden_layer_sizes\",\n",
    "                data=df_nn, kind=\"line\", height=5, aspect=1.5, \n",
    "                ci=None)"
   ]
  },
  {
   "cell_type": "markdown",
   "metadata": {},
   "source": [
    "With neural networks, or xgb or any classifier built on many individual models, it is useful to change the random_state to see how different the plot is.  Although not shown here, the above plot was similar to those which used a different random_state."
   ]
  },
  {
   "cell_type": "markdown",
   "metadata": {
    "toc-hr-collapsed": true
   },
   "source": [
    "## Stacking with Optimized Base Learners"
   ]
  },
  {
   "cell_type": "markdown",
   "metadata": {
    "toc-hr-collapsed": true
   },
   "source": [
    "### Instantiate each of the Optimized Base Learners"
   ]
  },
  {
   "cell_type": "code",
   "execution_count": 59,
   "metadata": {},
   "outputs": [],
   "source": [
    "idx = df_lr['score'].idxmax()\n",
    "c = df_lr['lr__C'][idx]\n",
    "lr_best = LogisticRegression(penalty='l2', solver='liblinear', C=c)\n",
    "lr_pipe_best = Pipeline([('ct', ct), ('lr', lr_best)])"
   ]
  },
  {
   "cell_type": "code",
   "execution_count": 60,
   "metadata": {},
   "outputs": [],
   "source": [
    "idx = df_svm['score'].idxmax()\n",
    "gamma = df_svm['svm__gamma'][idx]\n",
    "c = df_svm['svm__C'][idx]\n",
    "svm_best = SVC(gamma=gamma, C=c, probability=True)\n",
    "svm_pipe_best = Pipeline([('ct', ct), ('svm', svm_best)])"
   ]
  },
  {
   "cell_type": "code",
   "execution_count": 61,
   "metadata": {},
   "outputs": [],
   "source": [
    "idx = df_knn['score'].idxmax()\n",
    "n_neighbors = df_knn['knn__n_neighbors'][idx]\n",
    "p = df_knn['knn__p'][idx]\n",
    "weights = df_knn['knn__weights'][idx]\n",
    "knn_best = KNeighborsClassifier(n_neighbors=n_neighbors, weights=weights, p=p)\n",
    "knn_pipe_best = Pipeline([('ct', ct), ('knn', knn_best)])"
   ]
  },
  {
   "cell_type": "code",
   "execution_count": 62,
   "metadata": {},
   "outputs": [],
   "source": [
    "idx = df_xgb['score'].idxmax()\n",
    "colsample_bytree = df_xgb['colsample_bytree'][idx]\n",
    "learning_rate = df_xgb['learning_rate'][idx]\n",
    "max_depth = df_xgb['max_depth'][idx]\n",
    "n_estimators = df_xgb['n_estimators'][idx]\n",
    "xgb_best = XGBClassifier(n_estimators=n_estimators, learning_rate=learning_rate,\n",
    "                         colsample_bytree=colsample_bytree, max_depth=max_depth,\n",
    "                         random_state=48)"
   ]
  },
  {
   "cell_type": "code",
   "execution_count": 63,
   "metadata": {},
   "outputs": [],
   "source": [
    "idx = df_nn['score'].idxmax()\n",
    "hidden_layer_sizes = df_nn['nn__hidden_layer_sizes'][idx]\n",
    "alpha = df_nn['nn__alpha'][idx]\n",
    "\n",
    "nn_best = MLPClassifier(hidden_layer_sizes=hidden_layer_sizes, alpha=alpha,\n",
    "                       max_iter=2000, random_state=909)\n",
    "nn_pipe_best = Pipeline([('ct', ct), ('nn', nn_best)])"
   ]
  },
  {
   "cell_type": "markdown",
   "metadata": {},
   "source": [
    "#### Verify Accuracy of Optimized Base Learners"
   ]
  },
  {
   "cell_type": "code",
   "execution_count": 64,
   "metadata": {},
   "outputs": [
    {
     "name": "stdout",
     "output_type": "stream",
     "text": [
      "LR            Score: 0.832 +/- 0.014\n",
      "KNN           Score: 0.824 +/- 0.015\n",
      "XGBClassifier Score: 0.833 +/- 0.014\n",
      "SVM           Score: 0.834 +/- 0.014\n",
      "NN            Score: 0.832 +/- 0.016\n"
     ]
    }
   ],
   "source": [
    "# Evaluate the Accuracy of each base learner\n",
    "base_learners = [lr_pipe_best, knn_pipe_best, xgb_best, \n",
    "                 svm_pipe_best, nn_pipe_best]\n",
    "\n",
    "for base_learner in base_learners:\n",
    "    if hasattr(base_learner, 'steps'):\n",
    "        name = base_learner.steps[1][0].upper()\n",
    "    else:\n",
    "        name = base_learner.__class__.__name__\n",
    "        \n",
    "    scores  = cross_val_score(base_learner,  X, y, scoring='accuracy', cv=cv_select)\n",
    "    print(f'{name:13} Score: {scores.mean():.3f} +/- {scores.std():.3f}')"
   ]
  },
  {
   "cell_type": "markdown",
   "metadata": {},
   "source": [
    "Default Instance Scores    \n",
    "LR            Score: 0.830 +/- 0.013  \n",
    "KNN           Score: 0.806 +/- 0.015  \n",
    "XGBClassifier Score: 0.823 +/- 0.013  \n",
    "SVM           Score: 0.831 +/- 0.013  \n",
    "NN            Score: 0.816 +/- 0.016  "
   ]
  },
  {
   "cell_type": "markdown",
   "metadata": {},
   "source": [
    "#### Base Learners: LogitReg, SVC, XGB"
   ]
  },
  {
   "cell_type": "code",
   "execution_count": 65,
   "metadata": {},
   "outputs": [
    {
     "name": "stdout",
     "output_type": "stream",
     "text": [
      "20 Scores  min:0.813 max:0.863\n",
      "CV Mean Score: 0.834 +/- 0.014\n"
     ]
    }
   ],
   "source": [
    "base_learners = [lr_pipe_best, svm_pipe_best, xgb_best]\n",
    "meta_learner = SVC(gamma='auto')\n",
    "sc = StackedClassifier(base_learners, meta_learner, cv_predict)\n",
    "scores = cross_val_score(sc, X, y, cv=cv_select)\n",
    "tt.print_scores(scores)"
   ]
  },
  {
   "cell_type": "markdown",
   "metadata": {},
   "source": [
    "#### Base Learners: LogitReg, SVC, KNN, XGB"
   ]
  },
  {
   "cell_type": "code",
   "execution_count": 66,
   "metadata": {},
   "outputs": [
    {
     "name": "stdout",
     "output_type": "stream",
     "text": [
      "20 Scores  min:0.813 max:0.863\n",
      "CV Mean Score: 0.834 +/- 0.014\n"
     ]
    }
   ],
   "source": [
    "base_learners = [lr_pipe_best, svm_pipe_best, knn_pipe_best, xgb_best]\n",
    "meta_learner = SVC(gamma='auto')\n",
    "sc = StackedClassifier(base_learners, meta_learner, cv_predict)\n",
    "scores = cross_val_score(sc, X, y, cv=cv_select)\n",
    "tt.print_scores(scores)"
   ]
  },
  {
   "cell_type": "markdown",
   "metadata": {},
   "source": [
    "#### Base Learners: LogitReg, SVC, KNN, XGB, NeuralNetwork"
   ]
  },
  {
   "cell_type": "code",
   "execution_count": 67,
   "metadata": {},
   "outputs": [
    {
     "name": "stdout",
     "output_type": "stream",
     "text": [
      "20 Scores  min:0.813 max:0.863\n",
      "CV Mean Score: 0.834 +/- 0.014\n"
     ]
    }
   ],
   "source": [
    "base_learners = [lr_pipe_best, svm_pipe_best, knn_pipe_best, \n",
    "                 xgb_best, nn_pipe_best]\n",
    "meta_learner = SVC(gamma='auto')\n",
    "sc = StackedClassifier(base_learners, meta_learner, cv_predict)\n",
    "scores = cross_val_score(sc, X, y, cv=cv_select)\n",
    "tt.print_scores(scores)"
   ]
  },
  {
   "cell_type": "markdown",
   "metadata": {},
   "source": [
    "The above shows a slight but insignificant improvement."
   ]
  },
  {
   "cell_type": "markdown",
   "metadata": {},
   "source": [
    "### Tune Meta Learner\n",
    "The meta learner will be tuned for use with the optimized LogitReg, SVC and XGB base learners.\n",
    "\n",
    "To keep the custom StackingClassifier simple, it was not coded to work with GridSearchCV.  The hyperparameter optimization has to be coded by hand, however Scikit Learn provides a nice helper function to make this easy."
   ]
  },
  {
   "cell_type": "code",
   "execution_count": 81,
   "metadata": {},
   "outputs": [
    {
     "name": "stdout",
     "output_type": "stream",
     "text": [
      "{'C': 0.01, 'gamma': 0.001}\n",
      "{'C': 0.01, 'gamma': 0.01}\n",
      "{'C': 0.1, 'gamma': 0.001}\n",
      "{'C': 0.1, 'gamma': 0.01}\n",
      "{'C': 1.0, 'gamma': 0.001}\n",
      "{'C': 1.0, 'gamma': 0.01}\n"
     ]
    }
   ],
   "source": [
    "from sklearn.model_selection import ParameterGrid\n",
    "\n",
    "# try ParameterGrid\n",
    "params = {'gamma': np.logspace(-3, -2, 2),\n",
    "          'C': np.logspace(-2, 0, 3)}\n",
    "for param in ParameterGrid(params):\n",
    "    print(param)"
   ]
  },
  {
   "cell_type": "code",
   "execution_count": 74,
   "metadata": {},
   "outputs": [
    {
     "name": "stdout",
     "output_type": "stream",
     "text": [
      "gamma:   0.001 C:     0.01 score 0.6162 +/- 0.0004\n",
      "gamma:   0.010 C:     0.01 score 0.6162 +/- 0.0004\n",
      "gamma:   0.100 C:     0.01 score 0.6162 +/- 0.0004\n",
      "gamma:   1.000 C:     0.01 score 0.8229 +/- 0.0105\n",
      "gamma:   0.001 C:     0.10 score 0.6162 +/- 0.0004\n",
      "gamma:   0.010 C:     0.10 score 0.6162 +/- 0.0004\n",
      "gamma:   0.100 C:     0.10 score 0.8334 +/- 0.0102\n",
      "gamma:   1.000 C:     0.10 score 0.8319 +/- 0.0101\n",
      "gamma:   0.001 C:     1.00 score 0.6162 +/- 0.0004\n",
      "gamma:   0.010 C:     1.00 score 0.8334 +/- 0.0092\n",
      "gamma:   0.100 C:     1.00 score 0.8326 +/- 0.0113\n",
      "gamma:   1.000 C:     1.00 score 0.8332 +/- 0.0112\n",
      "gamma:   0.001 C:    10.00 score 0.8332 +/- 0.0093\n",
      "gamma:   0.010 C:    10.00 score 0.8326 +/- 0.0103\n",
      "gamma:   0.100 C:    10.00 score 0.8312 +/- 0.0105\n",
      "gamma:   1.000 C:    10.00 score 0.8308 +/- 0.0124\n",
      "gamma:   0.001 C:   100.00 score 0.8317 +/- 0.0099\n",
      "gamma:   0.010 C:   100.00 score 0.8326 +/- 0.0104\n",
      "gamma:   0.100 C:   100.00 score 0.8301 +/- 0.0111\n",
      "gamma:   1.000 C:   100.00 score 0.8312 +/- 0.0138\n",
      "gamma:   0.001 C:  1000.00 score 0.8323 +/- 0.0104\n",
      "gamma:   0.010 C:  1000.00 score 0.8317 +/- 0.0107\n",
      "gamma:   0.100 C:  1000.00 score 0.8301 +/- 0.0115\n",
      "gamma:   1.000 C:  1000.00 score 0.8310 +/- 0.0130\n",
      "gamma:   0.001 C: 10000.00 score 0.8323 +/- 0.0104\n",
      "gamma:   0.010 C: 10000.00 score 0.8292 +/- 0.0120\n",
      "gamma:   0.100 C: 10000.00 score 0.8305 +/- 0.0122\n",
      "gamma:   1.000 C: 10000.00 score 0.8321 +/- 0.0112\n"
     ]
    }
   ],
   "source": [
    "base_learners = [lr_pipe_best, svm_pipe_best, xgb_best]\n",
    "\n",
    "results = []\n",
    "for param in ParameterGrid(params):\n",
    "    meta_learner = SVC(**param)\n",
    "    sc = StackedClassifier(base_learners, meta_learner, cv_predict)\n",
    "    scores = cross_val_score(sc, X, y, cv=cv_select_quick)\n",
    "    g = param['gamma']\n",
    "    c = param['C']\n",
    "    score = scores.mean()\n",
    "    sd = scores.std()\n",
    "    results.append({'gamma': g, 'C': c, 'score': score, 'sd': sd})\n",
    "    print(f'gamma: {g:7.3f} C: {c:8.2f} score {score:6.4f} +/- {sd:6.4f}')       \n",
    "\n",
    "results = pd.DataFrame(results)"
   ]
  },
  {
   "cell_type": "code",
   "execution_count": 80,
   "metadata": {},
   "outputs": [
    {
     "data": {
      "text/html": [
       "<div>\n",
       "<style scoped>\n",
       "    .dataframe tbody tr th:only-of-type {\n",
       "        vertical-align: middle;\n",
       "    }\n",
       "\n",
       "    .dataframe tbody tr th {\n",
       "        vertical-align: top;\n",
       "    }\n",
       "\n",
       "    .dataframe thead th {\n",
       "        text-align: right;\n",
       "    }\n",
       "</style>\n",
       "<table border=\"1\" class=\"dataframe\">\n",
       "  <thead>\n",
       "    <tr style=\"text-align: right;\">\n",
       "      <th></th>\n",
       "      <th>C</th>\n",
       "      <th>gamma</th>\n",
       "      <th>score</th>\n",
       "      <th>sd</th>\n",
       "    </tr>\n",
       "  </thead>\n",
       "  <tbody>\n",
       "    <tr>\n",
       "      <th>6</th>\n",
       "      <td>0.1</td>\n",
       "      <td>0.100</td>\n",
       "      <td>0.833449</td>\n",
       "      <td>0.010224</td>\n",
       "    </tr>\n",
       "    <tr>\n",
       "      <th>9</th>\n",
       "      <td>1.0</td>\n",
       "      <td>0.010</td>\n",
       "      <td>0.833449</td>\n",
       "      <td>0.009183</td>\n",
       "    </tr>\n",
       "    <tr>\n",
       "      <th>11</th>\n",
       "      <td>1.0</td>\n",
       "      <td>1.000</td>\n",
       "      <td>0.833226</td>\n",
       "      <td>0.011245</td>\n",
       "    </tr>\n",
       "    <tr>\n",
       "      <th>12</th>\n",
       "      <td>10.0</td>\n",
       "      <td>0.001</td>\n",
       "      <td>0.833224</td>\n",
       "      <td>0.009257</td>\n",
       "    </tr>\n",
       "    <tr>\n",
       "      <th>10</th>\n",
       "      <td>1.0</td>\n",
       "      <td>0.100</td>\n",
       "      <td>0.832553</td>\n",
       "      <td>0.011328</td>\n",
       "    </tr>\n",
       "  </tbody>\n",
       "</table>\n",
       "</div>"
      ],
      "text/plain": [
       "       C  gamma     score        sd\n",
       "6    0.1  0.100  0.833449  0.010224\n",
       "9    1.0  0.010  0.833449  0.009183\n",
       "11   1.0  1.000  0.833226  0.011245\n",
       "12  10.0  0.001  0.833224  0.009257\n",
       "10   1.0  0.100  0.832553  0.011328"
      ]
     },
     "execution_count": 80,
     "metadata": {},
     "output_type": "execute_result"
    }
   ],
   "source": [
    "results.sort_values('score',ascending=False).head()"
   ]
  },
  {
   "cell_type": "code",
   "execution_count": 79,
   "metadata": {},
   "outputs": [
    {
     "data": {
      "image/png": "[encoded data removed]",
      "text/plain": [
       "<Figure size 513.6x288 with 1 Axes>"
      ]
     },
     "metadata": {
      "needs_background": "light"
     },
     "output_type": "display_data"
    }
   ],
   "source": [
    "# workaround for Seaborn hue bug\n",
    "df = results.copy()\n",
    "df['gamma'] = df['gamma'].apply(lambda x: f'{x:.3f}-')\n",
    "\n",
    "g = sns.relplot(\"C\", \"score\", hue=\"gamma\", data=df,\n",
    "                kind=\"line\", height=4.0, aspect=1.5)\n",
    "ax = g.axes[0,0]\n",
    "ax.set_xscale('log')\n",
    "ax.set_ylim(0.830, 0.835);"
   ]
  },
  {
   "cell_type": "markdown",
   "metadata": {},
   "source": [
    "From the above plot, it appears the local maxima has been reached.\n",
    "\n",
    "The result of Stacking, using individually tuned base learners and an individually tuned meta learner, did not result in a significantly better model."
   ]
  },
  {
   "cell_type": "markdown",
   "metadata": {
    "toc-hr-collapsed": true
   },
   "source": [
    "## Voting Classifier\n",
    "The [voting classifier](https://scikit-learn.org/stable/modules/generated/sklearn.ensemble.VotingClassifier.html) is similar to the stacked classifier, except that the meta learner makes use the sum of the probabilities (voting=soft) or the sum of the class label predictions (voting=hard) for each of its base learners.\n",
    "\n",
    "From the documentation:\n",
    "> voting : str, {‘hard’, ‘soft’} (default=’hard’)\n",
    "If ‘hard’, uses predicted class labels for majority rule voting. Else if ‘soft’, predicts the class label based on the argmax of the sums of the predicted probabilities, which is recommended for an ensemble of well-calibrated classifiers.\n",
    "\n",
    "A \"well-calibrated classifier\" is one in which the probabilities have been tuned to be more accurate.  This requires a hold-out set for the probability tuning and the Titanic data set is too small for an additional hold-out set."
   ]
  },
  {
   "cell_type": "markdown",
   "metadata": {},
   "source": [
    "### Experiment with some VotingClassifier Ensembles"
   ]
  },
  {
   "cell_type": "markdown",
   "metadata": {},
   "source": [
    "#### LogitReg, SVC"
   ]
  },
  {
   "cell_type": "code",
   "execution_count": 82,
   "metadata": {},
   "outputs": [
    {
     "name": "stdout",
     "output_type": "stream",
     "text": [
      "20 Scores  min:0.809 max:0.852\n",
      "CV Mean Score: 0.833 +/- 0.013\n"
     ]
    }
   ],
   "source": [
    "vc = VotingClassifier([('lr', lr_pipe_best), ('svm', svm_pipe_best)], \n",
    "                      voting='soft')\n",
    "scores = cross_val_score(vc, X, y, cv=cv_select)\n",
    "tt.print_scores(scores)"
   ]
  },
  {
   "cell_type": "code",
   "execution_count": 83,
   "metadata": {},
   "outputs": [
    {
     "name": "stdout",
     "output_type": "stream",
     "text": [
      "20 Scores  min:0.812 max:0.859\n",
      "CV Mean Score: 0.834 +/- 0.015\n"
     ]
    }
   ],
   "source": [
    "vc = VotingClassifier([('lr', lr_pipe_best), ('svm', svm_pipe_best)], \n",
    "                      voting='hard')\n",
    "scores = cross_val_score(vc, X, y, cv=cv_select)\n",
    "tt.print_scores(scores)"
   ]
  },
  {
   "cell_type": "markdown",
   "metadata": {},
   "source": [
    "#### LogitReg, SVC, XGB"
   ]
  },
  {
   "cell_type": "code",
   "execution_count": 84,
   "metadata": {},
   "outputs": [
    {
     "name": "stdout",
     "output_type": "stream",
     "text": [
      "20 Scores  min:0.816 max:0.863\n",
      "CV Mean Score: 0.835 +/- 0.014\n"
     ]
    }
   ],
   "source": [
    "vc = VotingClassifier([('lr', lr_pipe_best), ('svm', svm_pipe_best),\n",
    "                       ('xgb', xgb_best)], voting='soft')\n",
    "scores = cross_val_score(vc, X, y, cv=cv_select)\n",
    "tt.print_scores(scores)"
   ]
  },
  {
   "cell_type": "code",
   "execution_count": 85,
   "metadata": {},
   "outputs": [
    {
     "name": "stdout",
     "output_type": "stream",
     "text": [
      "20 Scores  min:0.818 max:0.854\n",
      "CV Mean Score: 0.834 +/- 0.012\n"
     ]
    }
   ],
   "source": [
    "vc = VotingClassifier([('lr', lr_pipe_best), ('svm', svm_pipe_best),\n",
    "                       ('xgb', xgb_best)], voting='hard')\n",
    "scores = cross_val_score(vc, X, y, cv=cv_select)\n",
    "tt.print_scores(scores)"
   ]
  },
  {
   "cell_type": "markdown",
   "metadata": {},
   "source": [
    "#### LogitReg, SVC, XGB, KNN"
   ]
  },
  {
   "cell_type": "code",
   "execution_count": 86,
   "metadata": {},
   "outputs": [
    {
     "name": "stdout",
     "output_type": "stream",
     "text": [
      "20 Scores  min:0.818 max:0.857\n",
      "CV Mean Score: 0.836 +/- 0.012\n"
     ]
    }
   ],
   "source": [
    "vc = VotingClassifier([('lr', lr_pipe_best), ('svm', svm_pipe_best),\n",
    "                       ('xgb', xgb_best), ('knn', knn_pipe_best)],\n",
    "                       voting='soft')\n",
    "scores = cross_val_score(vc, X, y, cv=cv_select)\n",
    "tt.print_scores(scores)"
   ]
  },
  {
   "cell_type": "code",
   "execution_count": 88,
   "metadata": {},
   "outputs": [
    {
     "name": "stdout",
     "output_type": "stream",
     "text": [
      "20 Scores  min:0.818 max:0.854\n",
      "CV Mean Score: 0.834 +/- 0.012\n"
     ]
    }
   ],
   "source": [
    "vc = VotingClassifier([('lr', lr_pipe_best), ('svm', svm_pipe_best),\n",
    "                       ('xgb', xgb_best)], voting='hard')\n",
    "scores = cross_val_score(vc, X, y, cv=cv_select)\n",
    "tt.print_scores(scores)"
   ]
  },
  {
   "cell_type": "markdown",
   "metadata": {},
   "source": [
    "#### LogitReg, SVC, XGB, NeuralNetwork"
   ]
  },
  {
   "cell_type": "code",
   "execution_count": 101,
   "metadata": {},
   "outputs": [
    {
     "name": "stdout",
     "output_type": "stream",
     "text": [
      "20 Scores  min:0.818 max:0.861\n",
      "CV Mean Score: 0.834 +/- 0.014\n"
     ]
    }
   ],
   "source": [
    "vc = VotingClassifier([('lr', lr_pipe_best), ('svm', svm_pipe_best),\n",
    "                       ('xgb', xgb_best), ('nn', nn_pipe_best)], \n",
    "                       voting='soft')\n",
    "scores = cross_val_score(vc, X, y, cv=cv_select)\n",
    "tt.print_scores(scores)"
   ]
  },
  {
   "cell_type": "code",
   "execution_count": 102,
   "metadata": {},
   "outputs": [
    {
     "name": "stdout",
     "output_type": "stream",
     "text": [
      "20 Scores  min:0.816 max:0.861\n",
      "CV Mean Score: 0.836 +/- 0.014\n"
     ]
    }
   ],
   "source": [
    "vc = VotingClassifier([('lr', lr_pipe_best), ('svm', svm_pipe_best),\n",
    "                       ('xgb', xgb_best), ('nn', nn_pipe_best)], \n",
    "                       voting='hard')\n",
    "scores = cross_val_score(vc, X, y, cv=cv_select)\n",
    "tt.print_scores(scores)"
   ]
  },
  {
   "cell_type": "markdown",
   "metadata": {},
   "source": [
    "#### LogitReg, SVC, XGB, NeuralNetwork"
   ]
  },
  {
   "cell_type": "code",
   "execution_count": 103,
   "metadata": {},
   "outputs": [
    {
     "name": "stdout",
     "output_type": "stream",
     "text": [
      "20 Scores  min:0.818 max:0.863\n",
      "CV Mean Score: 0.834 +/- 0.014\n"
     ]
    }
   ],
   "source": [
    "vc = VotingClassifier([('lr', lr_pipe_best), ('svm', svm_pipe_best),\n",
    "                       ('xgb', xgb_best), ('nn', nn_pipe_best)], \n",
    "                      voting='soft')\n",
    "scores = cross_val_score(vc, X, y, cv=cv_select)\n",
    "tt.print_scores(scores)"
   ]
  },
  {
   "cell_type": "code",
   "execution_count": 104,
   "metadata": {},
   "outputs": [
    {
     "name": "stdout",
     "output_type": "stream",
     "text": [
      "20 Scores  min:0.816 max:0.861\n",
      "CV Mean Score: 0.836 +/- 0.014\n"
     ]
    }
   ],
   "source": [
    "vc = VotingClassifier([('lr', lr_pipe_best), ('svm', svm_pipe_best),\n",
    "                       ('xgb', xgb_best), ('nn', nn_pipe_best)], \n",
    "                      voting='hard')\n",
    "scores = cross_val_score(vc, X, y, cv=cv_select)\n",
    "tt.print_scores(scores)"
   ]
  },
  {
   "cell_type": "markdown",
   "metadata": {},
   "source": [
    "#### LogitReg, SVC, KNN, XGB, NeuralNetwork"
   ]
  },
  {
   "cell_type": "code",
   "execution_count": 106,
   "metadata": {},
   "outputs": [
    {
     "name": "stdout",
     "output_type": "stream",
     "text": [
      "20 Scores  min:0.818 max:0.859\n",
      "CV Mean Score: 0.834 +/- 0.014\n"
     ]
    }
   ],
   "source": [
    "vc = VotingClassifier([('lr', lr_pipe_best), ('svm', svm_pipe_best),\n",
    "                       ('knn', knn_pipe_best), ('xgb', xgb_best),\n",
    "                       ('nn', nn_pipe_best)], voting='soft')\n",
    "scores = cross_val_score(vc, X, y, cv=cv_select)\n",
    "tt.print_scores(scores)"
   ]
  },
  {
   "cell_type": "code",
   "execution_count": 107,
   "metadata": {},
   "outputs": [
    {
     "name": "stdout",
     "output_type": "stream",
     "text": [
      "20 Scores  min:0.813 max:0.858\n",
      "CV Mean Score: 0.835 +/- 0.013\n"
     ]
    }
   ],
   "source": [
    "vc = VotingClassifier([('lr', lr_pipe_best), ('svm', svm_pipe_best),\n",
    "                       ('knn', knn_pipe_best), ('xgb', xgb_best),\n",
    "                       ('nn', nn_pipe_best)], voting='hard')\n",
    "scores = cross_val_score(vc, X, y, cv=cv_select)\n",
    "tt.print_scores(scores)"
   ]
  },
  {
   "cell_type": "markdown",
   "metadata": {},
   "source": [
    "### Initial Voting Classifier Results Analysis\n",
    "More experiments were tried than are presented above, but the above results are illustrative of what happened.\n",
    "\n",
    "The result of using a VotingClassifier, using individually tuned base learners, did not result in a significantly better model."
   ]
  },
  {
   "cell_type": "markdown",
   "metadata": {
    "toc-hr-collapsed": true
   },
   "source": [
    "## Custom Forest of Trees\n",
    "The following is an example of creating a forest of decision trees using the Sckkit Learn API.\n",
    "\n",
    "A forest of trees should be created using a Scikit Learn estimator which creates many trees or XGBoost.\n",
    "\n",
    "This example is only mean to show that it is possible to produce a reasonable classifier out of decision trees with just two ideas:\n",
    "1. Each tree should be diverse\n",
    "2. Each tree should be better than average"
   ]
  },
  {
   "cell_type": "code",
   "execution_count": 8,
   "metadata": {},
   "outputs": [],
   "source": [
    "# copied from titanic_help_code.py\n",
    "def get_ct_bycolumn(cols):\n",
    "    \"\"\"Column Transform for Features\n",
    "\n",
    "    \"\"\"\n",
    "\n",
    "    ii = WrappedIterativeImputer('Age')\n",
    "\n",
    "    # Pipelines\n",
    "    ii_pipe = Pipeline([('ii', ii)])\n",
    "\n",
    "    # Columns to act on\n",
    "    ii_cols = ['Pclass', 'Sex', 'Age', 'Title_Master',\n",
    "                  'Title_Miss', 'Title_Mr', 'Title_Mrs', 'Title_Other']\n",
    "\n",
    "    if 'Age' in cols:\n",
    "        # cols.remove is an inplace operation\n",
    "        # which operates on a reference\n",
    "        cols = cols.copy()\n",
    "        cols.remove('Age')\n",
    "        transformers = [('ii_tr', ii_pipe, ii_cols),\n",
    "                        ('as_is', 'passthrough', cols)]\n",
    "        return_cols = ['Age'] + cols\n",
    "    else:\n",
    "        transformers = [('as_is', 'passthrough', cols)]\n",
    "        return_cols = cols\n",
    "\n",
    "    ct = ColumnTransformer(transformers=transformers)\n",
    "\n",
    "    return return_cols, ct"
   ]
  },
  {
   "cell_type": "code",
   "execution_count": 8,
   "metadata": {},
   "outputs": [
    {
     "data": {
      "text/plain": [
       "['Pclass',\n",
       " 'Sex',\n",
       " 'Age',\n",
       " 'Fare',\n",
       " 'family_size',\n",
       " 'is_cabin_notnull',\n",
       " 'Port_C',\n",
       " 'Port_Q',\n",
       " 'Port_S',\n",
       " 'Title_Master',\n",
       " 'Title_Miss',\n",
       " 'Title_Mr',\n",
       " 'Title_Mrs',\n",
       " 'Title_Other']"
      ]
     },
     "execution_count": 8,
     "metadata": {},
     "output_type": "execute_result"
    }
   ],
   "source": [
    "X.columns.to_list()"
   ]
  },
  {
   "cell_type": "markdown",
   "metadata": {},
   "source": [
    "When XGB was tuned above, colsample_bytree was optimized at 0.50.  This suggests that half of the features should be used at any given time.\n",
    "\n",
    "Tree diversity is ensured by using all possible combinations of the "
   ]
  },
  {
   "cell_type": "code",
   "execution_count": 9,
   "metadata": {},
   "outputs": [
    {
     "data": {
      "text/plain": [
       "3432"
      ]
     },
     "execution_count": 9,
     "metadata": {},
     "output_type": "execute_result"
    }
   ],
   "source": [
    "# get all possible combinations of the 14 fields taken 7 at a time\n",
    "import itertools\n",
    "subsets = list(itertools.combinations(X.columns, r=7))\n",
    "len(subsets)"
   ]
  },
  {
   "cell_type": "markdown",
   "metadata": {},
   "source": [
    "### Multi procesing\n",
    "cross_val_score can be used with n_jobs=-1 however for a single decision tree, this results in too small a unit-of-work.  Each fold is parallelized.\n",
    "\n",
    "This can be seen as the CPU meter does not show all hardware cores being used.  This is in part because of the setup and tear down time of the internal job pool for cross_val_score.\n",
    "\n",
    "As 20 folds are being evaluated, submitting this to Python's multiprocessing pool.map will result in a unit-of-work that is 20 times larger.  As the pool is set up once and torn down once, this overhead is avoided.\n",
    "\n",
    "This yields a higher throughput."
   ]
  },
  {
   "cell_type": "code",
   "execution_count": 10,
   "metadata": {},
   "outputs": [],
   "source": [
    "from sklearn.tree import DecisionTreeClassifier\n",
    "from sklearn.model_selection import cross_validate"
   ]
  },
  {
   "cell_type": "code",
   "execution_count": 11,
   "metadata": {},
   "outputs": [],
   "source": [
    "from collections import namedtuple\n",
    "Score = namedtuple('Score', \n",
    "                   ['acc', 'acc_std', 'logloss', 'logloss_std','vars'])\n",
    "def eval_tree(s):\n",
    "    cols_returned, ct = tt.get_ct_bycolumn(list(s))    \n",
    "    dtree = DecisionTreeClassifier(random_state=707)\n",
    "    pipe = Pipeline([('ct', ct), ('dtree', dtree)])\n",
    "    scores = cross_validate(pipe, X, y, cv=cv_select,\n",
    "                            scoring=('accuracy', 'neg_log_loss'))\n",
    "    return Score(scores['test_accuracy'].mean(),\n",
    "                 scores['test_accuracy'].std(),\n",
    "                 scores['test_neg_log_loss'].mean(),\n",
    "                 scores['test_neg_log_loss'].std(),\n",
    "                 s)"
   ]
  },
  {
   "cell_type": "code",
   "execution_count": 18,
   "metadata": {},
   "outputs": [
    {
     "name": "stderr",
     "output_type": "stream",
     "text": [
      "100%|██████████| 3432/3432 [15:22<00:00,  3.72it/s]\n"
     ]
    }
   ],
   "source": [
    "import multiprocessing as mp\n",
    "import tqdm\n",
    "import time\n",
    "\n",
    "pool = mp.Pool(4)\n",
    "\n",
    "start = time.time()\n",
    "scores = list(tqdm.tqdm(\n",
    "    pool.imap_unordered(eval_tree, subsets, chunksize=1), \n",
    "              total=len(subsets)))\n",
    "stop = time.time()"
   ]
  },
  {
   "cell_type": "code",
   "execution_count": 19,
   "metadata": {},
   "outputs": [
    {
     "name": "stdout",
     "output_type": "stream",
     "text": [
      "Time:   922.2\n"
     ]
    }
   ],
   "source": [
    "print(f'Time: {stop-start:7.1f}')\n",
    "pool.close()\n",
    "pool.join()"
   ]
  },
  {
   "cell_type": "code",
   "execution_count": 20,
   "metadata": {},
   "outputs": [],
   "source": [
    "# save it to avoid redoing the above long running operation\n",
    "# scores_df = pd.DataFrame(scores)\n",
    "# scores_df.to_csv('data/tree_scores.csv', index=False)"
   ]
  },
  {
   "cell_type": "code",
   "execution_count": 21,
   "metadata": {},
   "outputs": [
    {
     "data": {
      "text/html": [
       "<div>\n",
       "<style scoped>\n",
       "    .dataframe tbody tr th:only-of-type {\n",
       "        vertical-align: middle;\n",
       "    }\n",
       "\n",
       "    .dataframe tbody tr th {\n",
       "        vertical-align: top;\n",
       "    }\n",
       "\n",
       "    .dataframe thead th {\n",
       "        text-align: right;\n",
       "    }\n",
       "</style>\n",
       "<table border=\"1\" class=\"dataframe\">\n",
       "  <thead>\n",
       "    <tr style=\"text-align: right;\">\n",
       "      <th></th>\n",
       "      <th>acc</th>\n",
       "      <th>acc_std</th>\n",
       "      <th>logloss</th>\n",
       "      <th>logloss_std</th>\n",
       "      <th>vars</th>\n",
       "    </tr>\n",
       "  </thead>\n",
       "  <tbody>\n",
       "    <tr>\n",
       "      <th>0</th>\n",
       "      <td>0.768577</td>\n",
       "      <td>0.014719</td>\n",
       "      <td>-7.847498</td>\n",
       "      <td>0.505880</td>\n",
       "      <td>('Pclass', 'Sex', 'Age', 'Fare', 'family_size'...</td>\n",
       "    </tr>\n",
       "    <tr>\n",
       "      <th>1</th>\n",
       "      <td>0.769812</td>\n",
       "      <td>0.014353</td>\n",
       "      <td>-7.808523</td>\n",
       "      <td>0.516839</td>\n",
       "      <td>('Pclass', 'Sex', 'Age', 'Fare', 'family_size'...</td>\n",
       "    </tr>\n",
       "    <tr>\n",
       "      <th>2</th>\n",
       "      <td>0.764876</td>\n",
       "      <td>0.015845</td>\n",
       "      <td>-7.975553</td>\n",
       "      <td>0.546027</td>\n",
       "      <td>('Pclass', 'Sex', 'Age', 'Fare', 'family_size'...</td>\n",
       "    </tr>\n",
       "    <tr>\n",
       "      <th>3</th>\n",
       "      <td>0.771499</td>\n",
       "      <td>0.018042</td>\n",
       "      <td>-7.750423</td>\n",
       "      <td>0.656320</td>\n",
       "      <td>('Pclass', 'Sex', 'Age', 'Fare', 'family_size'...</td>\n",
       "    </tr>\n",
       "    <tr>\n",
       "      <th>4</th>\n",
       "      <td>0.769475</td>\n",
       "      <td>0.015908</td>\n",
       "      <td>-7.820157</td>\n",
       "      <td>0.566681</td>\n",
       "      <td>('Pclass', 'Sex', 'Age', 'Fare', 'family_size'...</td>\n",
       "    </tr>\n",
       "  </tbody>\n",
       "</table>\n",
       "</div>"
      ],
      "text/plain": [
       "        acc   acc_std   logloss  logloss_std  \\\n",
       "0  0.768577  0.014719 -7.847498     0.505880   \n",
       "1  0.769812  0.014353 -7.808523     0.516839   \n",
       "2  0.764876  0.015845 -7.975553     0.546027   \n",
       "3  0.771499  0.018042 -7.750423     0.656320   \n",
       "4  0.769475  0.015908 -7.820157     0.566681   \n",
       "\n",
       "                                                vars  \n",
       "0  ('Pclass', 'Sex', 'Age', 'Fare', 'family_size'...  \n",
       "1  ('Pclass', 'Sex', 'Age', 'Fare', 'family_size'...  \n",
       "2  ('Pclass', 'Sex', 'Age', 'Fare', 'family_size'...  \n",
       "3  ('Pclass', 'Sex', 'Age', 'Fare', 'family_size'...  \n",
       "4  ('Pclass', 'Sex', 'Age', 'Fare', 'family_size'...  "
      ]
     },
     "execution_count": 21,
     "metadata": {},
     "output_type": "execute_result"
    }
   ],
   "source": [
    "# read it back (if we didn't just save it)\n",
    "tree_scores = pd.read_csv('data/tree_scores.csv')\n",
    "tree_scores.head()"
   ]
  },
  {
   "cell_type": "markdown",
   "metadata": {},
   "source": [
    "### Create Forest"
   ]
  },
  {
   "cell_type": "code",
   "execution_count": 22,
   "metadata": {},
   "outputs": [
    {
     "data": {
      "text/plain": [
       "(1716, 5)"
      ]
     },
     "execution_count": 22,
     "metadata": {},
     "output_type": "execute_result"
    }
   ],
   "source": [
    "best = scores_df.nlargest(n=len(subsets)//2, columns=['acc'])\n",
    "best.shape"
   ]
  },
  {
   "cell_type": "code",
   "execution_count": 24,
   "metadata": {},
   "outputs": [],
   "source": [
    "# instantiate each tree and place them in a list\n",
    "best_trees = []\n",
    "for i, s in enumerate(best['vars']):\n",
    "    cols_returned, ct = tt.get_ct_bycolumn(list(s))    \n",
    "    dtree = DecisionTreeClassifier(random_state=707)\n",
    "    pipe = Pipeline([('ct', ct), ('dtree', dtree)])\n",
    "    best_trees.append((f'{i}', pipe))"
   ]
  },
  {
   "cell_type": "code",
   "execution_count": 25,
   "metadata": {},
   "outputs": [
    {
     "name": "stdout",
     "output_type": "stream",
     "text": [
      "20 Scores  min:0.803 max:0.861\n",
      "CV Mean Score: 0.833 +/- 0.015\n"
     ]
    }
   ],
   "source": [
    "vc = VotingClassifier(best_trees, voting='hard')\n",
    "scores = cross_val_score(vc, X, y, cv=cv_select)\n",
    "tt.print_scores(scores)"
   ]
  },
  {
   "cell_type": "code",
   "execution_count": 26,
   "metadata": {},
   "outputs": [
    {
     "name": "stdout",
     "output_type": "stream",
     "text": [
      "20 Scores  min:0.809 max:0.863\n",
      "CV Mean Score: 0.832 +/- 0.014\n"
     ]
    }
   ],
   "source": [
    "vc = VotingClassifier(best_trees, voting='soft')\n",
    "scores = cross_val_score(vc, X, y, cv=cv_select)\n",
    "tt.print_scores(scores)"
   ]
  },
  {
   "cell_type": "markdown",
   "metadata": {},
   "source": [
    "A good ensemble classifier was created for this data set simply by:\n",
    "1. creating a default DecisionTree for each combination of half of the variables\n",
    "2. creating a collection of trees from the top 50% best trees created in step 1, as per their cross validated score \n",
    "\n",
    "In practice, XGBoost or similar should be used for a forest of trees."
   ]
  },
  {
   "cell_type": "markdown",
   "metadata": {
    "toc-hr-collapsed": true
   },
   "source": [
    "# Summary"
   ]
  },
  {
   "cell_type": "markdown",
   "metadata": {},
   "source": [
    "Several ensemble methods were tried:\n",
    "* Stacking via a custom coded Stacking estimator\n",
    "* VoteingClassifier\n",
    "* Forest of Trees via a custom coded collection of decision trees\n",
    "\n",
    "In addition the base learners, and in the case of Stacking, the meta learner, was individually optimized.\n",
    "\n",
    "Despite all of this, the results on the Titanic data set did not improve.\n",
    "\n",
    "In the next section a single small DecistionTree will be used to interpret the Titanic data.  This provides insight into why the more complext methods were not able to show any improvement.\n",
    "\n",
    "For those who received more than 85% accurary for the Titanic data set, it is likely they custom coded their classifier to match the answer.  That is, they incorportated the test data into the training process, which leads to highly inflated estimates of model performance."
   ]
  }
 ],
 "metadata": {
  "kernelspec": {
   "display_name": "Python 3",
   "language": "python",
   "name": "python3"
  },
  "language_info": {
   "codemirror_mode": {
    "name": "ipython",
    "version": 3
   },
   "file_extension": ".py",
   "mimetype": "text/x-python",
   "name": "python",
   "nbconvert_exporter": "python",
   "pygments_lexer": "ipython3",
   "version": "3.7.3"
  }
 },
 "nbformat": 4,
 "nbformat_minor": 2
}
