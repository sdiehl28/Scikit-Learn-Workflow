{
 "cells": [
  {
   "cell_type": "markdown",
   "metadata": {
    "toc-hr-collapsed": false
   },
   "source": [
    "# Modeling Building<br/>*Stacking and VotingClassifiers*"
   ]
  },
  {
   "cell_type": "markdown",
   "metadata": {},
   "source": [
    "## Goals\n",
    "1. Describe Ensembles\n",
    "2. Describe the Stacking Algorithm\n",
    "3. Custom Code a Stacking Classifier\n",
    "4. Use Stacking Classifier and Analyze Results\n",
    "5. Use VotingClassifier and Analyze Results\n",
    "6. Tune Base Learners and Analysze Results\n",
    "7. Simplify and present interpretable decision tree"
   ]
  },
  {
   "cell_type": "markdown",
   "metadata": {
    "toc-hr-collapsed": false
   },
   "source": [
    "## Ensemble Description\n",
    "An *ensemble* makes use of multiple models to improve predictions.  Each model in the ensemble is called a *base learner* (or base estimator).  The predictions from the base learners are fed into another model, the *meta learner*, to create the final prediction.\n",
    "\n",
    "An ensemble of base learners is analogous to a group of experts.  Each person in the group can vote on a recommendation, the votes can be tallied up, and the \"winner\" is the best recommendation.  In this example, each expert is a *base learner* and \"tallying up the votes\" is the *meta learner* used to combine the recommendations.\n",
    "\n",
    "For an ensemble to work well:\n",
    "* each expert should be better at predicting than random chance\n",
    "* the experts should not always agree with each other\n",
    "\n",
    "Some of Scikit Learn's estimators are ensembles that consist of multiple base learners which are trained internally, the results combined, and a prediction is made.  See: [Scikit Learn Ensembles](https://scikit-learn.org/stable/modules/ensemble.html)\n",
    "\n",
    "There are many types of ensembles.  The type discussed here is called a Stack.\n",
    "\n",
    "In this notebook, a custom Stack estimator will be coded from scratch and used on the Titanic data set."
   ]
  },
  {
   "cell_type": "markdown",
   "metadata": {
    "toc-hr-collapsed": true
   },
   "source": [
    "## Prepare Data for Modeling\n",
    "Same as in previous notebooks."
   ]
  },
  {
   "cell_type": "markdown",
   "metadata": {},
   "source": [
    "### Common Imports and Notebook Setup"
   ]
  },
  {
   "cell_type": "code",
   "execution_count": 1,
   "metadata": {},
   "outputs": [],
   "source": [
    "import numpy as np\n",
    "import pandas as pd\n",
    "import matplotlib.pyplot as plt\n",
    "import seaborn as sns\n",
    "import sklearn as sk\n",
    "%matplotlib inline\n",
    "sns.set() # enable seaborn style\n",
    "\n",
    "import titanic_helper_code as tt"
   ]
  },
  {
   "cell_type": "code",
   "execution_count": 2,
   "metadata": {},
   "outputs": [
    {
     "name": "stdout",
     "output_type": "stream",
     "text": [
      "python:      3.7.3 (default, Mar 27 2019, 22:11:17) \n",
      "[GCC 7.3.0]\n",
      "numpy:       1.16.4\n",
      "pandas:      0.24.2\n",
      "matplotlib:  3.1.0\n",
      "seaborn:     0.9.0\n",
      "sklearn:     0.21.2\n",
      "Description:\tUbuntu 18.04.2 LTS\n"
     ]
    }
   ],
   "source": [
    "# Version Information\n",
    "import sys\n",
    "print('python:     ', sys.version)\n",
    "print('numpy:      ', np.__version__)\n",
    "print('pandas:     ', pd.__version__)\n",
    "import matplotlib\n",
    "print('matplotlib: ', matplotlib.__version__)\n",
    "print('seaborn:    ', sns.__version__)\n",
    "print('sklearn:    ', sk.__version__)\n",
    "!lsb_release -d"
   ]
  },
  {
   "cell_type": "code",
   "execution_count": 3,
   "metadata": {},
   "outputs": [],
   "source": [
    "# Scikit Learn imports\n",
    "from sklearn.model_selection import cross_val_score, StratifiedKFold\n",
    "from sklearn.model_selection import RepeatedStratifiedKFold\n",
    "from sklearn.model_selection import train_test_split, cross_val_predict\n",
    "from sklearn.model_selection import GridSearchCV, RandomizedSearchCV\n",
    "from sklearn.linear_model import LogisticRegression, BayesianRidge\n",
    "from sklearn.neighbors import KNeighborsClassifier\n",
    "from sklearn.ensemble import GradientBoostingClassifier\n",
    "from sklearn.svm import SVC\n",
    "from sklearn.preprocessing import StandardScaler\n",
    "from sklearn.impute import SimpleImputer\n",
    "from sklearn.pipeline import Pipeline\n",
    "from sklearn.metrics import accuracy_score, log_loss\n",
    "from sklearn.preprocessing import StandardScaler\n",
    "from sklearn.preprocessing import KBinsDiscretizer\n",
    "from sklearn.impute import SimpleImputer\n",
    "from sklearn.neural_network import MLPClassifier\n",
    "from sklearn.ensemble import VotingClassifier\n",
    "from sklearn.compose import ColumnTransformer\n",
    "\n",
    "from xgboost import XGBClassifier"
   ]
  },
  {
   "cell_type": "code",
   "execution_count": 4,
   "metadata": {},
   "outputs": [],
   "source": [
    "# explictly enable and import new iterative imputer\n",
    "from sklearn.experimental import enable_iterative_imputer\n",
    "from sklearn.impute import IterativeImputer"
   ]
  },
  {
   "cell_type": "markdown",
   "metadata": {
    "toc-hr-collapsed": false
   },
   "source": [
    "## Performance of Individual Models\n",
    "Initially, the base learners will use default values for all hyperparameters.\n",
    "\n",
    "As per previous discussions, unless otherwise noted, these notebooks use:  \n",
    "* Model Selection: 10x 2-Fold Cross Validation \n",
    "  * or 5x 2-Fold CV for nested operations\n",
    "* Model Evaluation: 10x 10-Fold Cross Validation  "
   ]
  },
  {
   "cell_type": "code",
   "execution_count": 5,
   "metadata": {},
   "outputs": [],
   "source": [
    "# get the X predictor matrix and the y target vector\n",
    "X, y = tt.get_Xy_v6()\n",
    "\n",
    "# instantiate a few estimators using Scikit Learn defaults\n",
    "lr  = LogisticRegression(solver='liblinear')\n",
    "knn = KNeighborsClassifier()\n",
    "xgb = XGBClassifier(objective='binary:logistic')\n",
    "svm = SVC(gamma='auto', probability=True)\n",
    "nn  = MLPClassifier(max_iter=2000, random_state=101)\n",
    "\n",
    "# apply the ColumnTransform logic used in previous notebooks\n",
    "cols, ct = tt.get_ct_v5()\n",
    "lr_pipe = Pipeline([('ct', ct), ('lr', lr)])\n",
    "knn_pipe = Pipeline([('ct', ct), ('knn', knn)])\n",
    "# xgb seems to work better without the data preprocessing\n",
    "svm_pipe = Pipeline([('ct', ct), ('svm', svm)])\n",
    "nn_pipe = Pipeline([('ct', ct), ('nn', nn)])\n",
    "\n",
    "base_learners = [lr_pipe, knn_pipe, xgb, svm_pipe, nn_pipe]"
   ]
  },
  {
   "cell_type": "code",
   "execution_count": 6,
   "metadata": {},
   "outputs": [],
   "source": [
    "# Cross Validation Generators used in this Notebook\n",
    "cv_select = RepeatedStratifiedKFold(n_splits=2, n_repeats=10, \n",
    "                                    random_state=108)\n",
    "cv_select_quick = RepeatedStratifiedKFold(n_splits=2, n_repeats=5, \n",
    "                                          random_state=108)\n",
    "cv_predict = StratifiedKFold(n_splits=10, random_state=1001)"
   ]
  },
  {
   "cell_type": "code",
   "execution_count": 11,
   "metadata": {},
   "outputs": [
    {
     "name": "stdout",
     "output_type": "stream",
     "text": [
      "LR            Score: 0.830 +/- 0.013\n",
      "KNN           Score: 0.806 +/- 0.015\n",
      "XGBClassifier Score: 0.823 +/- 0.013\n",
      "SVM           Score: 0.831 +/- 0.013\n",
      "NN            Score: 0.816 +/- 0.016\n"
     ]
    }
   ],
   "source": [
    "# Evaluate the Accuracy of each base learner\n",
    "for base_learner in base_learners:\n",
    "    if hasattr(base_learner, 'steps'):\n",
    "        name = base_learner.steps[1][0].upper()\n",
    "    else:\n",
    "        name = base_learner.__class__.__name__\n",
    "\n",
    "    scores  = cross_val_score(base_learner,  X, y, scoring='accuracy', \n",
    "                              cv=cv_select)\n",
    "    print(f'{name:13} Score: {scores.mean():.3f} +/- {scores.std():.3f}')"
   ]
  },
  {
   "cell_type": "markdown",
   "metadata": {},
   "source": [
    "### K-Fold cross_val_score and K-Fold cross_val_predict  \n",
    "\n",
    "**K-Fold cross_val_score**  \n",
    "Uses cross validation to predict on each of K test folds, scores that prediction, and keep track of each score.\n",
    "\n",
    "cross_val_score will call the estimator's predict or predict_proba method, depending upon the scoring object used.\n",
    "\n",
    "**K-Fold cross_val_predict**  \n",
    "Uses cross validation to predict on each of K test folds and returns all the predictions.\n",
    "\n",
    "These predictions can be scored in any way, including the same way they are scored with cross_val_score."
   ]
  },
  {
   "cell_type": "markdown",
   "metadata": {},
   "source": [
    "### Use cross_val_predict to get same results as from cross_val_score\n",
    "This is helpful in understanding these functions work."
   ]
  },
  {
   "cell_type": "code",
   "execution_count": 8,
   "metadata": {},
   "outputs": [
    {
     "name": "stdout",
     "output_type": "stream",
     "text": [
      "True\n"
     ]
    }
   ],
   "source": [
    "# Part 1: Accuracy -- cross_val_score uses predict\n",
    "acc_scores = cross_val_score(lr_pipe, X, y, scoring='accuracy', cv=cv_predict)\n",
    "\n",
    "acc_scores2 = []\n",
    "predictions = cross_val_predict(lr_pipe, X, y, cv=cv_predict, method='predict')\n",
    "for train_index, test_index in cv_predict.split(X, y):\n",
    "    fold_score = accuracy_score(y.iloc[test_index], predictions[test_index])\n",
    "    acc_scores2.append(fold_score)\n",
    "\n",
    "# verify results are the same\n",
    "print((acc_scores == acc_scores2).all())"
   ]
  },
  {
   "cell_type": "code",
   "execution_count": 9,
   "metadata": {},
   "outputs": [
    {
     "name": "stdout",
     "output_type": "stream",
     "text": [
      "True\n"
     ]
    }
   ],
   "source": [
    "# Part 2: Log Loss -- cross_val_score uses predict_proba\n",
    "logloss_scores = cross_val_score(lr_pipe, X, y, \n",
    "                                 scoring='neg_log_loss', cv=cv_predict)\n",
    "\n",
    "logloss_scores2 = []\n",
    "predictions = cross_val_predict(lr_pipe, X, y, cv=cv_predict, method='predict_proba')\n",
    "for train_index, test_index in cv_predict.split(X, y):\n",
    "    fold_score = -log_loss(y.iloc[test_index], predictions[test_index])\n",
    "    logloss_scores2.append(fold_score)\n",
    "\n",
    "# verify results are the same\n",
    "print((logloss_scores == logloss_scores2).all())"
   ]
  },
  {
   "cell_type": "markdown",
   "metadata": {
    "toc-hr-collapsed": true
   },
   "source": [
    "## Stacking\n",
    "\n",
    "**Algorithm**\n",
    "1. fit(X_train, y_train)\n",
    "   * Create meta-features using base learners\n",
    "   * Fit meta learner on these meta-features\n",
    "   * Fit base learners (for use in next step)\n",
    "2. predict(X_test)\n",
    "   * Create meta-features using fitted base learners\n",
    "   * Create predictions using fitted meta-learner on these meta-features\n",
    "\n",
    "There is an important subtlety to the above, described next."
   ]
  },
  {
   "cell_type": "markdown",
   "metadata": {
    "toc-hr-collapsed": false
   },
   "source": [
    "### Stacking Algorithm Subtly  \n",
    "In general, the process of building a model should not have a step which both fits and predicts, on exactly the same data.  In step 1 above, for creating the meta level features, the base learners could fit the training data, and then predict on that same training data to create the meta level features, but this would be overfitting.\n",
    "\n",
    "Instead the meta level features in step 1 above should use \"cross validated predictions\".  Here is a quote from Scikit Learn on [cross_val_predict](https://scikit-learn.org/stable/modules/cross_validation.html#obtaining-predictions-by-cross-validation)\n",
    "> The function cross_val_predict is appropriate for:  \n",
    "* Visualization of predictions obtained from different models.  \n",
    "* Model blending: When predictions of one supervised estimator are used to train another estimator in ensemble methods. \n",
    "\n",
    "An good alternative description of the Stacking algorithm, which also describes the use of cross validated predictions for meta level features, can be found at: [Super Learner Algorithm](https://h2o-release.s3.amazonaws.com/h2o/rel-ueno/2/docs-website/h2o-docs/data-science/stacked-ensembles.html#super-learner-algorithm)"
   ]
  },
  {
   "cell_type": "markdown",
   "metadata": {},
   "source": [
    "### On Building a Custom Stacking Estimator\n",
    "There are several good libraries available for stacking such as [mlxtend](http://rasbt.github.io/mlxtend/) and [mlens](https://mlens.readthedocs.io/en/0.1.x/).\n",
    "\n",
    "As of May 2019, there was an issue using Scikit Learn's new ColumnTransformer with mlxtend.  Previously developers got around the use of ColumnTransformer by using [sklearn-pandas](https://github.com/scikit-learn-contrib/sklearn-pandas), but ColumnTransformer is native to Scikit Learn and works well, so it's nice to be able to use it.\n",
    "\n",
    "A custom Stacking classifier will be created from scratch.  This classifier will work with ColumnTransformer and with cross_val_score.  Writing such as classifier is easy.  What is not easy is to make this classifier work with GridSearchCV, parallelize the operations, properly report misuse by end-users, etc.  But there is no need for that here.\n",
    "\n",
    "A good approach to software development is to first create a simple working example, and then abstract that logic into an object or function.  A key to making this process simple, is to take care in choosing variable and method names which accurately convey to any developer, what each step is doing."
   ]
  },
  {
   "cell_type": "markdown",
   "metadata": {
    "toc-hr-collapsed": false
   },
   "source": [
    "### Stacking Example\n",
    "\n",
    "Above algorithm in six steps:\n",
    "1. Create Train/Test Split\n",
    "2. Create Training Meta-Features using Base Learners and cross_val_predict on training data\n",
    "3. Fit Meta-Learner on Training Meta-Features\n",
    "4. Fit Base learners on training data\n",
    "5. Create Test Meta-Features using fitted base learners on test data\n",
    "6. Predict/Evaluate Fitted Meta-Learner on Test Meta-Features"
   ]
  },
  {
   "cell_type": "markdown",
   "metadata": {},
   "source": [
    "#### 1. Create Train/Test split\n",
    "Key Points:  \n",
    "* Train/Test split used for illustration.  Cross Validation is better for this data set."
   ]
  },
  {
   "cell_type": "code",
   "execution_count": 10,
   "metadata": {},
   "outputs": [],
   "source": [
    "# Start with train/test split, later use cross validation\n",
    "X_train, X_test, y_train, y_test = \\\n",
    "    train_test_split(X, y, test_size=0.333, random_state=1001)"
   ]
  },
  {
   "cell_type": "markdown",
   "metadata": {},
   "source": [
    "#### 2. Create Training Meta-Features Using Base Learners and cross_val_predict\n",
    "Key points:\n",
    "* use cross_val_predict on training data to avoid overfitting\n",
    "* for classification, use predict_proba to provide more information to the meta-learner"
   ]
  },
  {
   "cell_type": "code",
   "execution_count": 11,
   "metadata": {},
   "outputs": [],
   "source": [
    "# predict_proba outputs [probability NotSurvived, probability Survived]\n",
    "# so select the 2nd column only\n",
    "p1_train = cross_val_predict(lr_pipe, X_train, y_train, cv=cv_predict, \n",
    "                             method='predict_proba')[:, 1]\n",
    "p2_train = cross_val_predict(svm_pipe, X_train, y_train, cv=cv_predict, \n",
    "                             method='predict_proba')[:, 1]\n",
    "\n",
    "# combine features\n",
    "meta_train = np.column_stack((p1_train, p2_train))"
   ]
  },
  {
   "cell_type": "markdown",
   "metadata": {},
   "source": [
    "#### 3. Fit Meta Learner on Training Meta Features"
   ]
  },
  {
   "cell_type": "code",
   "execution_count": 12,
   "metadata": {},
   "outputs": [],
   "source": [
    "meta_learner = SVC(gamma='auto')\n",
    "meta_learner.fit(meta_train, y_train);"
   ]
  },
  {
   "cell_type": "markdown",
   "metadata": {},
   "source": [
    "#### 4. Fit Base Learners on Training Data"
   ]
  },
  {
   "cell_type": "code",
   "execution_count": 13,
   "metadata": {},
   "outputs": [],
   "source": [
    "# fit base learners on all of train\n",
    "lr_pipe.fit(X_train, y_train)\n",
    "svm_pipe.fit(X_train, y_train);"
   ]
  },
  {
   "cell_type": "markdown",
   "metadata": {},
   "source": [
    "#### 5. Create Test Meta Features using Fitted Base Learners on Test Data"
   ]
  },
  {
   "cell_type": "code",
   "execution_count": 14,
   "metadata": {},
   "outputs": [],
   "source": [
    "# predict probability of survived\n",
    "p1_test= lr_pipe.predict_proba(X_test)[:, 1]\n",
    "p2_test = svm_pipe.predict_proba(X_test)[:, 1]\n",
    "\n",
    "# combine features\n",
    "meta_test = np.column_stack((p1_test, p2_test))"
   ]
  },
  {
   "cell_type": "markdown",
   "metadata": {},
   "source": [
    "#### 6. Predict/Evaluate Meta Learning on Test Meta Features"
   ]
  },
  {
   "cell_type": "code",
   "execution_count": 15,
   "metadata": {},
   "outputs": [
    {
     "data": {
      "text/plain": [
       "0.832"
      ]
     },
     "execution_count": 15,
     "metadata": {},
     "output_type": "execute_result"
    }
   ],
   "source": [
    "meta_pred = meta_learner.predict(meta_test)\n",
    "score = accuracy_score(y_test, meta_pred)\n",
    "np.round(score, 3)"
   ]
  },
  {
   "cell_type": "markdown",
   "metadata": {},
   "source": [
    "#### Above Score May Have Strong Bias and Variance\n",
    "The above score was computed from a single train/test split.  The Titanic data set is small, so both the train and test splits are small.  A small train split my cause a large score bias.  A small test split may cause a large score variance.  Cross Validation should be used instead.\n",
    "\n",
    "Below a custom Stacking estimator will be created to encapsulate the algorithm for use with cross_val_score."
   ]
  },
  {
   "cell_type": "markdown",
   "metadata": {
    "toc-hr-collapsed": false
   },
   "source": [
    "## Create Custom Stacking Classifier\n",
    "The following classifier contains the minimum code necessary to illustrate the concepts of Stacking and of creating a Custom Classifier.\n",
    "\n",
    "In particular, this Stacking Classifier:\n",
    "* only works with a binary target variable\n",
    "* supports any number of base learners (having predict_proba)\n",
    "* supports any meta learner\n",
    "* supports cross_val_score, but does not support GridSearchCV\n",
    "* does not support parallelization \n",
    "* does not provide error handling\n",
    "\n",
    "See: [Rolling your own estimator](https://scikit-learn.org/stable/developers/contributing.html#rolling-your-own-estimator)"
   ]
  },
  {
   "cell_type": "code",
   "execution_count": 16,
   "metadata": {},
   "outputs": [],
   "source": [
    "from sklearn.base import BaseEstimator, ClassifierMixin\n",
    "class StackedClassifier(BaseEstimator, ClassifierMixin):\n",
    "    '''Minimal Stacking Classifier\n",
    "    \n",
    "       Uses predict_proba for level 1 meta features.\n",
    "    '''\n",
    "\n",
    "    def __init__(self, base_learners, meta_learner, cv):\n",
    "        self.base_learners = base_learners\n",
    "        self.meta_learner = meta_learner\n",
    "        self.cv = cv\n",
    "\n",
    "    def fit(self, X, y):      \n",
    "        \n",
    "        # Create Training Features\n",
    "        train_cols = []\n",
    "        for base_learner in self.base_learners:\n",
    "            tmp = cross_val_predict(base_learner, X, y, cv=self.cv,\n",
    "                                    method='predict_proba')[:, 1]\n",
    "            train_cols.append(tmp)\n",
    "        X_meta_train = np.column_stack(train_cols)\n",
    "        \n",
    "        # fit meta learner on train\n",
    "        self.meta_learner.fit(X_meta_train, y)\n",
    "        \n",
    "        # fit the base learners on the entire training data\n",
    "        for base_learner in self.base_learners:\n",
    "            base_learner.fit(X, y)\n",
    "\n",
    "        # Return the classifier\n",
    "        return self\n",
    "\n",
    "    def predict(self, X):\n",
    "        \n",
    "        # Create Test Features\n",
    "        test_cols = []\n",
    "        for base_learner in self.base_learners:\n",
    "            tmp = base_learner.predict_proba(X)[:, 1]\n",
    "            test_cols.append(tmp)\n",
    "        X_meta_test = np.column_stack(test_cols)\n",
    "        \n",
    "        predictions = self.meta_learner.predict(X_meta_test)\n",
    "\n",
    "        return predictions"
   ]
  },
  {
   "cell_type": "markdown",
   "metadata": {},
   "source": [
    "### Use Custom Estimator with cross_val_score\n",
    "Per the above, the individual models scored:  \n",
    "LR            Score: 0.830 +/- 0.013  \n",
    "KNN           Score: 0.806 +/- 0.015  \n",
    "XGBClassifier Score: 0.823 +/- 0.013  \n",
    "SVM           Score: 0.831 +/- 0.013  \n",
    "NN            Score: 0.816 +/- 0.016  \n",
    "\n",
    "Ideally we would like to see a score better than .830."
   ]
  },
  {
   "cell_type": "code",
   "execution_count": 17,
   "metadata": {},
   "outputs": [],
   "source": [
    "# Prepare the individual base learners\n",
    "\n",
    "# Instantiate Estimators\n",
    "lr  = LogisticRegression(solver='liblinear')\n",
    "knn = KNeighborsClassifier()\n",
    "xgb = XGBClassifier(objective='binary:logistic')\n",
    "svm = SVC(gamma='auto', probability=True)\n",
    "nn  = MLPClassifier(max_iter=2000, random_state=101)\n",
    "\n",
    "# Get ColumnTransform Preprocessing Object\n",
    "cols, ct = tt.get_ct_v5()\n",
    "\n",
    "# Prepend Preprocessing to create Pipeline\n",
    "lr_pipe = Pipeline([('ct', ct), ('lr', lr)])\n",
    "knn_pipe = Pipeline([('ct', ct), ('knn', knn)])\n",
    "# xgb seems to work better without the data preprocessing\n",
    "svm_pipe = Pipeline([('ct', ct), ('svm', svm)])\n",
    "nn_pipe = Pipeline([('ct', ct), ('nn', nn)])"
   ]
  },
  {
   "cell_type": "markdown",
   "metadata": {},
   "source": [
    "#### Experiment with Various Stacked Classifiers"
   ]
  },
  {
   "cell_type": "code",
   "execution_count": 23,
   "metadata": {},
   "outputs": [
    {
     "name": "stdout",
     "output_type": "stream",
     "text": [
      "20 Scores  min:0.809 max:0.850\n",
      "CV Mean Score: 0.826 +/- 0.013\n"
     ]
    }
   ],
   "source": [
    "# LR, KNN with SVM meta learner\n",
    "base_learners = [lr_pipe, knn_pipe]\n",
    "meta_learner = SVC(gamma='auto')\n",
    "sc = StackedClassifier(base_learners, meta_learner, cv_predict)\n",
    "scores = cross_val_score(sc, X, y, cv=cv_select)\n",
    "tt.print_scores(scores)"
   ]
  },
  {
   "cell_type": "code",
   "execution_count": 19,
   "metadata": {},
   "outputs": [
    {
     "name": "stdout",
     "output_type": "stream",
     "text": [
      "20 Scores  min:0.812 max:0.857\n",
      "CV Mean Score: 0.832 +/- 0.014\n"
     ]
    }
   ],
   "source": [
    "# LR, SVM with SVM meta learner\n",
    "base_learners = [lr_pipe, svm_pipe]\n",
    "meta_learner = SVC(gamma='auto')\n",
    "sc = StackedClassifier(base_learners, meta_learner, cv_predict)\n",
    "scores = cross_val_score(sc, X, y, cv=cv_select)\n",
    "tt.print_scores(scores)"
   ]
  },
  {
   "cell_type": "code",
   "execution_count": 20,
   "metadata": {},
   "outputs": [
    {
     "name": "stdout",
     "output_type": "stream",
     "text": [
      "20 Scores  min:0.811 max:0.854\n",
      "CV Mean Score: 0.832 +/- 0.013\n"
     ]
    }
   ],
   "source": [
    "# LR, SVM, XGB with SVM meta learner\n",
    "base_learners = [lr_pipe, svm_pipe, xgb]\n",
    "meta_learner = SVC(gamma='auto')\n",
    "sc = StackedClassifier(base_learners, meta_learner, cv_predict)\n",
    "scores = cross_val_score(sc, X, y, cv=cv_select)\n",
    "tt.print_scores(scores)"
   ]
  },
  {
   "cell_type": "code",
   "execution_count": 21,
   "metadata": {},
   "outputs": [
    {
     "name": "stdout",
     "output_type": "stream",
     "text": [
      "20 Scores  min:0.809 max:0.852\n",
      "CV Mean Score: 0.833 +/- 0.013\n"
     ]
    }
   ],
   "source": [
    "# LR, SVM, KNN, XGB with SVM meta learner\n",
    "base_learners = [lr_pipe, svm_pipe, knn_pipe, xgb]\n",
    "meta_learner = SVC(gamma='auto')\n",
    "sc = StackedClassifier(base_learners, meta_learner, cv_predict)\n",
    "scores = cross_val_score(sc, X, y, cv=cv_select)\n",
    "tt.print_scores(scores)"
   ]
  },
  {
   "cell_type": "code",
   "execution_count": 22,
   "metadata": {},
   "outputs": [
    {
     "name": "stdout",
     "output_type": "stream",
     "text": [
      "20 Scores  min:0.807 max:0.854\n",
      "CV Mean Score: 0.830 +/- 0.014\n"
     ]
    }
   ],
   "source": [
    "# LR, SVM, KNN, XGB, NN with SVM meta learner\n",
    "base_learners = [lr_pipe, svm_pipe, knn_pipe, xgb, nn_pipe]\n",
    "meta_learner = SVC(gamma='auto')\n",
    "sc = StackedClassifier(base_learners, meta_learner, cv_predict)\n",
    "scores = cross_val_score(sc, X, y, cv=cv_select)\n",
    "tt.print_scores(scores)"
   ]
  },
  {
   "cell_type": "markdown",
   "metadata": {},
   "source": [
    "### Initial Stacking Classifier Results Analysis\n",
    "More experiments were tried than are presented above, but the above results are illustrative of what happened.\n",
    "\n",
    "There was little or no improvement, on the Titanic data set, using the unoptimized base learners and unoptimized meta learners when combined into a Stack."
   ]
  },
  {
   "cell_type": "markdown",
   "metadata": {
    "toc-hr-collapsed": false
   },
   "source": [
    "## Voting Classifier\n",
    "The [voting classifier](https://scikit-learn.org/stable/modules/generated/sklearn.ensemble.VotingClassifier.html) is similar to the stacked classifier, except that the meta learner makes use the sum of the probabilities (voting=soft) or the sum of the class labels (voting=hard) for each of its base learners.\n",
    "\n",
    "From the documentation:\n",
    "> voting : str, {‘hard’, ‘soft’} (default=’hard’)\n",
    "If ‘hard’, uses predicted class labels for majority rule voting. Else if ‘soft’, predicts the class label based on the argmax of the sums of the predicted probabilities, which is recommended for an ensemble of well-calibrated classifiers.\n",
    "\n",
    "A \"well-calibrated classifier\" is one in which the probabilities have been tuned to be more accurate.  This requires a hold-out set for the probability tuning and the Titanic data set is too small for an additional hold-out set.\n",
    "\n",
    "ToDo: Nevertheless, it is instructive to look at the a couple of calibration curves and understand what happens when an estimator is tuned for accuracy vs being tuned for log loss."
   ]
  },
  {
   "cell_type": "markdown",
   "metadata": {},
   "source": [
    "### Experiment with some VotingClassifier Ensembles"
   ]
  },
  {
   "cell_type": "code",
   "execution_count": 24,
   "metadata": {},
   "outputs": [
    {
     "name": "stdout",
     "output_type": "stream",
     "text": [
      "20 Scores  min:0.807 max:0.865\n",
      "CV Mean Score: 0.832 +/- 0.007\n"
     ]
    }
   ],
   "source": [
    "vc = VotingClassifier([('lr', lr_pipe), ('svm', svm_pipe)], voting='soft')\n",
    "scores = cross_val_score(vc, X, y, cv=cv_select)\n",
    "tt.print_scores(scores)"
   ]
  },
  {
   "cell_type": "code",
   "execution_count": 25,
   "metadata": {},
   "outputs": [
    {
     "name": "stdout",
     "output_type": "stream",
     "text": [
      "20 Scores  min:0.800 max:0.865\n",
      "CV Mean Score: 0.834 +/- 0.008\n"
     ]
    }
   ],
   "source": [
    "vc = VotingClassifier([('lr', lr_pipe), ('svm', svm_pipe)], voting='hard')\n",
    "scores = cross_val_score(vc, X, y, cv=cv_select)\n",
    "tt.print_scores(scores)"
   ]
  },
  {
   "cell_type": "code",
   "execution_count": 26,
   "metadata": {},
   "outputs": [
    {
     "name": "stdout",
     "output_type": "stream",
     "text": [
      "20 Scores  min:0.805 max:0.867\n",
      "CV Mean Score: 0.834 +/- 0.008\n"
     ]
    }
   ],
   "source": [
    "vc = VotingClassifier([('lr', lr_pipe), ('svm', svm_pipe),\n",
    "                       ('xgb', xgb)], voting='soft')\n",
    "scores = cross_val_score(vc, X, y, cv=cv_select)\n",
    "tt.print_scores(scores)"
   ]
  },
  {
   "cell_type": "code",
   "execution_count": 27,
   "metadata": {},
   "outputs": [
    {
     "name": "stdout",
     "output_type": "stream",
     "text": [
      "20 Scores  min:0.798 max:0.849\n",
      "CV Mean Score: 0.831 +/- 0.006\n"
     ]
    }
   ],
   "source": [
    "vc = VotingClassifier([('lr', lr_pipe), ('svm', svm_pipe),\n",
    "                       ('xgb', xgb), ('knn', knn_pipe)], voting='soft')\n",
    "scores = cross_val_score(vc, X, y, cv=cv_select)\n",
    "tt.print_scores(scores)"
   ]
  },
  {
   "cell_type": "code",
   "execution_count": 28,
   "metadata": {},
   "outputs": [
    {
     "name": "stdout",
     "output_type": "stream",
     "text": [
      "20 Scores  min:0.798 max:0.867\n",
      "CV Mean Score: 0.834 +/- 0.008\n"
     ]
    }
   ],
   "source": [
    "vc = VotingClassifier([('lr', lr_pipe), ('svm', svm_pipe),\n",
    "                       ('xgb', xgb)], voting='hard')\n",
    "scores = cross_val_score(vc, X, y, cv=cv_select)\n",
    "tt.print_scores(scores)"
   ]
  },
  {
   "cell_type": "code",
   "execution_count": 29,
   "metadata": {},
   "outputs": [
    {
     "name": "stdout",
     "output_type": "stream",
     "text": [
      "20 Scores  min:0.807 max:0.863\n",
      "CV Mean Score: 0.835 +/- 0.007\n"
     ]
    }
   ],
   "source": [
    "vc = VotingClassifier([('lr', lr_pipe), ('svm', svm_pipe),\n",
    "                       ('xgb', xgb), ('nn', nn_pipe)], voting='hard')\n",
    "scores = cross_val_score(vc, X, y, cv=cv_select)\n",
    "tt.print_scores(scores)"
   ]
  },
  {
   "cell_type": "code",
   "execution_count": 30,
   "metadata": {},
   "outputs": [
    {
     "name": "stdout",
     "output_type": "stream",
     "text": [
      "20 Scores  min:0.814 max:0.861\n",
      "CV Mean Score: 0.833 +/- 0.007\n"
     ]
    }
   ],
   "source": [
    "vc = VotingClassifier([('lr', lr_pipe), ('svm', svm_pipe),\n",
    "                       ('knn', knn_pipe), ('xgb', xgb),\n",
    "                       ('nn', nn_pipe)], voting='soft')\n",
    "scores = cross_val_score(vc, X, y, cv=cv_select)\n",
    "tt.print_scores(scores)"
   ]
  },
  {
   "cell_type": "code",
   "execution_count": 31,
   "metadata": {},
   "outputs": [
    {
     "name": "stdout",
     "output_type": "stream",
     "text": [
      "20 Scores  min:0.803 max:0.870\n",
      "CV Mean Score: 0.833 +/- 0.008\n"
     ]
    }
   ],
   "source": [
    "vc = VotingClassifier([('lr', lr_pipe), ('svm', svm_pipe),\n",
    "                       ('knn', knn_pipe), ('xgb', xgb),\n",
    "                       ('nn', nn_pipe)], voting='hard')\n",
    "scores = cross_val_score(vc, X, y, cv=cv_select)\n",
    "tt.print_scores(scores)"
   ]
  },
  {
   "cell_type": "markdown",
   "metadata": {},
   "source": [
    "### Initial Voting Classifier Results Analysis\n",
    "More experiments were tried than are presented above, but the above results are illustrative of what happened."
   ]
  },
  {
   "cell_type": "markdown",
   "metadata": {
    "toc-hr-collapsed": false
   },
   "source": [
    "## Tune Base Learners for use with VotingClassifier or Stacked Classifier\n",
    "\n",
    "**Voting Classifier**  \n",
    "Good Strategy:\n",
    "* calibrate probabilities of each base learner\n",
    "* use soft voting  \n",
    "\n",
    "Unfortunately there is too little data in the Titanic data set to calibrate the base learner probabilities.\n",
    "\n",
    "Alternative Strategy:\n",
    "* tune each base learner with respect to accuracy\n",
    "* use hard voting  \n",
    "\n",
    "By tuning for accuracy, each base learner makes the best \"vote\" it can, and these votes are tallied up by the \"hard voting\" option.\n",
    "\n",
    "**StackedClassifier**  \n",
    "It is not clear what the best approach may be.  If there was enough data, calibrating the probabilities of the base learners would be worth trying.  Alternatively, tuning the base learners with respect to log loss may create good probabilities that can be combined well by the meta learner.  \n",
    "\n",
    "Note that log loss is an appropriate measure of the difference between a predicted probability and the actual probability.  Log loss is minimized by the objective function of LogisticRegression, so LogisticRegression inherently produces a well calibrated classifier. \n",
    "\n",
    "The procedures being discussed here are overkill for something as simple as the Titanic data set.  There may be no noticeable differences in any of the above."
   ]
  },
  {
   "cell_type": "markdown",
   "metadata": {
    "toc-hr-collapsed": false
   },
   "source": [
    "### Optimize Base Learners for Accuracy\n",
    "GridSearchCV will be used.  \n",
    "\n",
    "Better results, for the same amount of processing time, may be obtained with Bayesian hyperparameter tuning which is not yet available in Scikit Learn.\n",
    "\n",
    "Seaborn will be used to visualize the score in its hyperparameter space to see if a (near) local optimum has been found.  If not, the parameter grid for GridSearchCV will be adjusted."
   ]
  },
  {
   "cell_type": "markdown",
   "metadata": {},
   "source": [
    "##### Logistic Regression"
   ]
  },
  {
   "cell_type": "code",
   "execution_count": 24,
   "metadata": {},
   "outputs": [],
   "source": [
    "# get the X predictor matrix and the y target vector\n",
    "X, y = tt.get_Xy_v6()\n",
    "cols, ct = tt.get_ct_v5()\n",
    "\n",
    "nn = MLPClassifier(max_iter=2000, random_state=101)\n",
    "nn_pipe_best = Pipeline([('ct', ct), ('nn', nn)])\n",
    "\n",
    "knn = KNeighborsClassifier()\n",
    "knn_pipe_best = Pipeline([('ct', ct), ('knn', knn)])\n",
    "\n",
    "# instantiate a few estimators using Scikit Learn defaults\n",
    "lr  = LogisticRegression(solver='liblinear')\n",
    "knn = KNeighborsClassifier()\n",
    "xgb = XGBClassifier(objective='binary:logistic')\n",
    "svm = SVC(gamma='auto', probability=True)\n",
    "nn  = MLPClassifier(max_iter=2000, random_state=101)\n",
    "\n",
    "lr_pipe = Pipeline([('ct', ct), ('lr', lr)])\n",
    "knn_pipe = Pipeline([('ct', ct), ('knn', knn)])\n",
    "# xgb seems to work better without the data preprocessing\n",
    "\n",
    "nn_pipe = Pipeline([('ct', ct), ('nn', nn)])\n",
    "\n",
    "base_learners = [lr_pipe, knn_pipe, xgb, svm_pipe, nn_pipe]"
   ]
  },
  {
   "cell_type": "code",
   "execution_count": 25,
   "metadata": {},
   "outputs": [],
   "source": [
    "X, y = tt.get_Xy_v6()\n",
    "cols, ct = tt.get_ct_v5()\n",
    "\n",
    "lr  = LogisticRegression(solver='liblinear')\n",
    "lr_pipe_best = Pipeline([('ct', ct), ('lr', lr)])\n",
    "\n",
    "params = {'lr__C': np.logspace(-2, 2, 20)}\n",
    "grid = GridSearchCV(estimator=lr_pipe_best, param_grid=params, \n",
    "                    scoring='accuracy', cv=cv_select)\n",
    "\n",
    "# find the best hyperparameters and associated score\n",
    "grid.fit(X, y);"
   ]
  },
  {
   "cell_type": "code",
   "execution_count": 26,
   "metadata": {},
   "outputs": [
    {
     "name": "stdout",
     "output_type": "stream",
     "text": [
      "Best: 0.832 +/- 0.007\n",
      "lr__C: 3.359818286283781\n"
     ]
    }
   ],
   "source": [
    "df_lr = tt.print_grid(grid, pandas=True)"
   ]
  },
  {
   "cell_type": "markdown",
   "metadata": {},
   "source": [
    "The hyperparameter space is a single dimension, C.  This is easy to represent in a plot."
   ]
  },
  {
   "cell_type": "code",
   "execution_count": 27,
   "metadata": {},
   "outputs": [
    {
     "data": {
      "image/png": "[encoded data removed]",
      "text/plain": [
       "<Figure size 360x360 with 1 Axes>"
      ]
     },
     "metadata": {
      "needs_background": "light"
     },
     "output_type": "display_data"
    }
   ],
   "source": [
    "g = sns.relplot(x='lr__C', y='score', data=df_lr, ci=None, kind='line');\n",
    "\n",
    "ax = g.axes[0, 0]\n",
    "ax.set_xscale('log')\n",
    "ax.set_ylim(.812, .835)\n",
    "\n",
    "plt.xlabel('C\\nComplexity Increases to the Right')\n",
    "plt.ylabel('Score');"
   ]
  },
  {
   "cell_type": "markdown",
   "metadata": {},
   "source": [
    "The above plot shows a local maxima.  There is no need to adjust the parameters for GridSearchCV."
   ]
  },
  {
   "cell_type": "markdown",
   "metadata": {},
   "source": [
    "##### Support Vector Machine"
   ]
  },
  {
   "cell_type": "code",
   "execution_count": 44,
   "metadata": {},
   "outputs": [],
   "source": [
    "X, y = tt.get_Xy_v6()\n",
    "cols, ct = tt.get_ct_v5()\n",
    "\n",
    "svm = SVC(gamma='auto', probability=True)\n",
    "svm_pipe_best = Pipeline([('ct', ct), ('svm', svm)])\n",
    "\n",
    "params = {'svm__C': np.logspace(2, 4, 3),\n",
    "          'svm__gamma': np.logspace(-4, -1, 4)}\n",
    "\n",
    "grid = GridSearchCV(estimator=svm_pipe_best, param_grid=params,\n",
    "                    scoring='accuracy', cv=cv_select)\n",
    "\n",
    "# find the best hyperparameters and associated score\n",
    "grid.fit(X, y);"
   ]
  },
  {
   "cell_type": "code",
   "execution_count": 45,
   "metadata": {},
   "outputs": [
    {
     "name": "stdout",
     "output_type": "stream",
     "text": [
      "Best: 0.833 +/- 0.006\n",
      "svm__C: 1000.0\n",
      "svm__gamma: 0.001\n"
     ]
    }
   ],
   "source": [
    "df_svm = tt.print_grid(grid, pandas=True)"
   ]
  },
  {
   "cell_type": "code",
   "execution_count": 47,
   "metadata": {},
   "outputs": [
    {
     "data": {
      "image/png": "[encoded data removed]",
      "text/plain": [
       "<Figure size 516.975x288 with 1 Axes>"
      ]
     },
     "metadata": {
      "needs_background": "light"
     },
     "output_type": "display_data"
    }
   ],
   "source": [
    "g = sns.catplot(\"svm__gamma\", \"score\", hue=\"svm__C\", data=df_svm,\n",
    "                kind=\"point\", height=4.0, aspect=1.5)\n",
    "g.axes[0, 0].set_ylim(0.76, 0.838);"
   ]
  },
  {
   "cell_type": "markdown",
   "metadata": {},
   "source": [
    "From the above plot, the local maxima for the C=10000 curve may be between gamma=.0001 and gamma=.0001.  This local maxima could be higher than that for the C=1000.0 curve.\n",
    "\n",
    "Adjust the GridSearchCV parameters and rerun it."
   ]
  },
  {
   "cell_type": "code",
   "execution_count": 48,
   "metadata": {},
   "outputs": [],
   "source": [
    "params = {'svm__C': np.logspace(2, 4, 3),\n",
    "          'svm__gamma': [.0001, .0005, .001, .01, .1]}\n",
    "\n",
    "grid = GridSearchCV(estimator=svm_pipe_best, param_grid=params,\n",
    "                    scoring='accuracy', cv=cv_select)\n",
    "\n",
    "# find the best hyperparameters and associated score\n",
    "grid.fit(X, y);"
   ]
  },
  {
   "cell_type": "code",
   "execution_count": 49,
   "metadata": {},
   "outputs": [
    {
     "name": "stdout",
     "output_type": "stream",
     "text": [
      "Best: 0.834 +/- 0.007\n",
      "svm__C: 10000.0\n",
      "svm__gamma: 0.0005\n"
     ]
    }
   ],
   "source": [
    "df_svm = tt.print_grid(grid, pandas=True)"
   ]
  },
  {
   "cell_type": "code",
   "execution_count": 50,
   "metadata": {},
   "outputs": [
    {
     "data": {
      "image/png": "[encoded data removed]",
      "text/plain": [
       "<Figure size 444.975x360 with 1 Axes>"
      ]
     },
     "metadata": {
      "needs_background": "light"
     },
     "output_type": "display_data"
    }
   ],
   "source": [
    "g = sns.catplot(\"svm__gamma\", \"score\", \"svm__C\", data=df_svm, kind=\"point\")\n",
    "g.axes[0, 0].set_ylim(0.76, 0.838);"
   ]
  },
  {
   "cell_type": "markdown",
   "metadata": {},
   "source": [
    "Although the above is splitting hairs, it shows how to manually adjust the multidimensional hyperparameter grid so as to home in on the best values.\n",
    "\n",
    "Each of the 3 curves now shows a local maxima.  A good set of hyperparameter values have been found."
   ]
  },
  {
   "cell_type": "markdown",
   "metadata": {},
   "source": [
    "##### KNN"
   ]
  },
  {
   "cell_type": "code",
   "execution_count": 51,
   "metadata": {},
   "outputs": [],
   "source": [
    "X, y = tt.get_Xy_v6()\n",
    "cols, ct = tt.get_ct_v5()\n",
    "\n",
    "knn = KNeighborsClassifier()\n",
    "knn_pipe_best = Pipeline([('ct', ct), ('knn', knn)])\n",
    "\n",
    "params = {'knn__n_neighbors': [2, 3, 5, 8, 13, 21, 34, 55, 89],\n",
    "          'knn__weights': ['uniform', 'distance'],\n",
    "          'knn__p':[1, 2]}\n",
    "\n",
    "grid = GridSearchCV(estimator=knn_pipe_best, param_grid=params,\n",
    "                    scoring='accuracy', cv=cv_select)\n",
    "\n",
    "# find the best hyperparameters and associated score\n",
    "grid.fit(X, y);"
   ]
  },
  {
   "cell_type": "code",
   "execution_count": 52,
   "metadata": {},
   "outputs": [
    {
     "name": "stdout",
     "output_type": "stream",
     "text": [
      "Best: 0.824 +/- 0.008\n",
      "knn__n_neighbors: 13\n",
      "knn__p: 1\n",
      "knn__weights: uniform\n"
     ]
    }
   ],
   "source": [
    "df_knn = tt.print_grid(grid, pandas=True)"
   ]
  },
  {
   "cell_type": "code",
   "execution_count": 53,
   "metadata": {},
   "outputs": [
    {
     "data": {
      "image/png": "[encoded data removed]",
      "text/plain": [
       "<Figure size 766.6x360 with 2 Axes>"
      ]
     },
     "metadata": {
      "needs_background": "light"
     },
     "output_type": "display_data"
    }
   ],
   "source": [
    "g = sns.catplot(\"knn__n_neighbors\", \"score\", \"knn__p\", \n",
    "                col=\"knn__weights\", data=df_knn, kind=\"point\")"
   ]
  },
  {
   "cell_type": "markdown",
   "metadata": {},
   "source": [
    "In the above, weights='uniform' is clearly doing better than weights='distance'.\n",
    "\n",
    "It's probably splitting hairs, but a better local maxima could be found by fixing weights='uniform' and trying more values of n between about 10 and 15."
   ]
  },
  {
   "cell_type": "code",
   "execution_count": 54,
   "metadata": {},
   "outputs": [],
   "source": [
    "params = {'knn__n_neighbors': [10, 11, 12, 13, 14, 15],\n",
    "          'knn__weights': ['uniform'],\n",
    "          'knn__p':[1, 2]}\n",
    "\n",
    "grid = GridSearchCV(estimator=knn_pipe_best, param_grid=params,\n",
    "                    scoring='accuracy', cv=cv_select)\n",
    "\n",
    "# find the best hyperparameters and associated score\n",
    "grid.fit(X, y);"
   ]
  },
  {
   "cell_type": "code",
   "execution_count": 55,
   "metadata": {},
   "outputs": [
    {
     "name": "stdout",
     "output_type": "stream",
     "text": [
      "Best: 0.824 +/- 0.008\n",
      "knn__n_neighbors: 12\n",
      "knn__p: 1\n",
      "knn__weights: uniform\n"
     ]
    }
   ],
   "source": [
    "df_knn = tt.print_grid(grid, pandas=True)"
   ]
  },
  {
   "cell_type": "code",
   "execution_count": 56,
   "metadata": {},
   "outputs": [
    {
     "data": {
      "image/png": "[encoded data removed]",
      "text/plain": [
       "<Figure size 406.6x360 with 1 Axes>"
      ]
     },
     "metadata": {
      "needs_background": "light"
     },
     "output_type": "display_data"
    }
   ],
   "source": [
    "g = sns.catplot(\"knn__n_neighbors\", \"score\", \"knn__p\", \n",
    "                data=df_knn, kind=\"point\")"
   ]
  },
  {
   "cell_type": "markdown",
   "metadata": {},
   "source": [
    "Minor differences in the score at this level of resolution are likely due to pure chance.  That said, the best was found at n=12 with p=1."
   ]
  },
  {
   "cell_type": "markdown",
   "metadata": {},
   "source": [
    "##### XGB"
   ]
  },
  {
   "cell_type": "code",
   "execution_count": 74,
   "metadata": {},
   "outputs": [],
   "source": [
    "X, y = tt.get_Xy_v6()\n",
    "cols, ct = tt.get_ct_v5()\n",
    "\n",
    "xgb_best = XGBClassifier(objective='binary:logistic', random_state=48)\n",
    "\n",
    "params = {'n_estimators': [100], \n",
    "          'learning_rate': [0.01, .02, .03, .04,\n",
    "                            .05, .06, .07, .08],\n",
    "          'max_depth': [4, 5, 6, 7, 8, 9, 10],\n",
    "          'colsample_bytree': [1.0, 0.6, 0.55, 0.5, 0.45, 0.4]}\n",
    "grid = GridSearchCV(estimator=xgb_best, param_grid=params,\n",
    "                    scoring='accuracy', cv=cv_select)\n",
    "\n",
    "# find the best hyperparameters and associated score\n",
    "grid.fit(X, y);"
   ]
  },
  {
   "cell_type": "code",
   "execution_count": 82,
   "metadata": {},
   "outputs": [
    {
     "name": "stdout",
     "output_type": "stream",
     "text": [
      "Best: 0.833 +/- 0.007\n",
      "colsample_bytree: 0.55\n",
      "learning_rate: 0.03\n",
      "max_depth: 9\n",
      "n_estimators: 100\n",
      "score: 0.8328843995510662\n",
      "std: 0.014329636386614828\n"
     ]
    }
   ],
   "source": [
    "df_xgb = tt.print_grid(grid, pandas=True)"
   ]
  },
  {
   "cell_type": "code",
   "execution_count": 76,
   "metadata": {},
   "outputs": [
    {
     "data": {
      "image/png": "[encoded data removed]",
      "text/plain": [
       "<Figure size 818.675x1440 with 7 Axes>"
      ]
     },
     "metadata": {
      "needs_background": "light"
     },
     "output_type": "display_data"
    }
   ],
   "source": [
    "g = sns.catplot(\"learning_rate\", \"score\", \"colsample_bytree\", \n",
    "                col=\"max_depth\", col_wrap=2, \n",
    "                data=df_xgb, kind=\"point\", ci=None)"
   ]
  },
  {
   "cell_type": "markdown",
   "metadata": {},
   "source": [
    "From the above, it is likely that a local maxima exists near the values found by GridSearchCV.  Adjusting the parameters is unlikely to make much difference."
   ]
  },
  {
   "cell_type": "markdown",
   "metadata": {},
   "source": [
    "#### Neural Network\n",
    "There are an infinite amount of possibilities. Keras and other packages are better.  Here, try a few with the Scikit Learn NN.\n",
    "\n",
    "Include the default of hidden_layers = (100,) alpha = .0001"
   ]
  },
  {
   "cell_type": "code",
   "execution_count": 88,
   "metadata": {},
   "outputs": [],
   "source": [
    "alpha_values = [0.05, 0.1, 0.2, 0.3, 0.4, 0.45, 0.5, 0.7, 0.8, 0.9, 1.0, 1.1]"
   ]
  },
  {
   "cell_type": "code",
   "execution_count": 89,
   "metadata": {},
   "outputs": [],
   "source": [
    "X, y = tt.get_Xy_v6()\n",
    "cols, ct = tt.get_ct_v5()\n",
    "\n",
    "nn = MLPClassifier(max_iter=2000, random_state=909)\n",
    "nn_pipe_best = Pipeline([('ct', ct), ('nn', nn)])\n",
    "\n",
    "params = {'nn__hidden_layer_sizes':[(50,),(100,),(200,)],\n",
    "          'nn__alpha':alpha_values}       \n",
    "grid = GridSearchCV(estimator=nn_pipe_best, param_grid=params,\n",
    "                    scoring='accuracy', cv=cv_select)\n",
    "\n",
    "# find the best hyperparameters and associated score\n",
    "grid.fit(X, y);"
   ]
  },
  {
   "cell_type": "code",
   "execution_count": 90,
   "metadata": {},
   "outputs": [
    {
     "name": "stdout",
     "output_type": "stream",
     "text": [
      "Best: 0.832 +/- 0.008\n",
      "nn__alpha: 0.5\n",
      "nn__hidden_layer_sizes: (50,)\n"
     ]
    }
   ],
   "source": [
    "df_nn = tt.print_grid(grid, pandas=True)"
   ]
  },
  {
   "cell_type": "code",
   "execution_count": 92,
   "metadata": {},
   "outputs": [
    {
     "data": {
      "image/png": "[encoded data removed]",
      "text/plain": [
       "<Figure size 708.725x360 with 1 Axes>"
      ]
     },
     "metadata": {
      "needs_background": "light"
     },
     "output_type": "display_data"
    }
   ],
   "source": [
    "g = sns.relplot(\"nn__alpha\", \"score\", \"nn__hidden_layer_sizes\",\n",
    "                data=df_nn, kind=\"line\", height=5, aspect=1.5, \n",
    "                ci=None)"
   ]
  },
  {
   "cell_type": "markdown",
   "metadata": {},
   "source": [
    "The best was (50,) at alpha = 0.50.\n",
    "\n",
    "With neural networks, or xgb or any classifier built on many individual models, it is useful to change the random_state to see how different the plot is.  Although not shown here, the above plot was similar to those which used a different random_state."
   ]
  },
  {
   "cell_type": "markdown",
   "metadata": {},
   "source": [
    "## Try Optimized Base Learners"
   ]
  },
  {
   "cell_type": "code",
   "execution_count": 93,
   "metadata": {},
   "outputs": [],
   "source": [
    "idx = df_lr['score'].idxmax()\n",
    "c = df_lr['lr__C'][idx]\n",
    "lr_best = LogisticRegression(penalty='l2', solver='liblinear', C=c)\n",
    "lr_pipe_best = Pipeline([('ct', ct), ('lr', lr_best)])"
   ]
  },
  {
   "cell_type": "code",
   "execution_count": 94,
   "metadata": {},
   "outputs": [],
   "source": [
    "idx = df_svm['score'].idxmax()\n",
    "gamma = df_svm['svm__gamma'][idx]\n",
    "c = df_svm['svm__C'][idx]\n",
    "svm_best = SVC(gamma=gamma, C=c, probability=True)\n",
    "svm_pipe_best = Pipeline([('ct', ct), ('svm', svm_best)])"
   ]
  },
  {
   "cell_type": "code",
   "execution_count": 95,
   "metadata": {},
   "outputs": [],
   "source": [
    "idx = df_knn['score'].idxmax()\n",
    "n_neighbors = df_knn['knn__n_neighbors'][idx]\n",
    "p = df_knn['knn__p'][idx]\n",
    "weights = df_knn['knn__weights'][idx]\n",
    "knn_best = KNeighborsClassifier(n_neighbors=n_neighbors, weights=weights, p=p)\n",
    "knn_pipe_best = Pipeline([('ct', ct), ('knn', knn_best)])"
   ]
  },
  {
   "cell_type": "code",
   "execution_count": 96,
   "metadata": {},
   "outputs": [],
   "source": [
    "idx = df_xgb['score'].idxmax()\n",
    "colsample_bytree = df_xgb['colsample_bytree'][idx]\n",
    "learning_rate = df_xgb['learning_rate'][idx]\n",
    "max_depth = df_xgb['max_depth'][idx]\n",
    "n_estimators = df_xgb['n_estimators'][idx]\n",
    "xgb_best = XGBClassifier(n_estimators=n_estimators, learning_rate=learning_rate,\n",
    "                         colsample_bytree=colsample_bytree, max_depth=max_depth,\n",
    "                         random_state=48)"
   ]
  },
  {
   "cell_type": "code",
   "execution_count": 97,
   "metadata": {},
   "outputs": [],
   "source": [
    "idx = df_nn['score'].idxmax()\n",
    "hidden_layer_sizes = df_nn['nn__hidden_layer_sizes'][idx]\n",
    "alpha = df_nn['nn__alpha'][idx]\n",
    "\n",
    "nn_best = MLPClassifier(hidden_layer_sizes=hidden_layer_sizes, alpha=alpha,\n",
    "                       max_iter=2000, random_state=909)\n",
    "nn_pipe_best = Pipeline([('ct', ct), ('nn', nn_best)])"
   ]
  },
  {
   "cell_type": "code",
   "execution_count": 98,
   "metadata": {},
   "outputs": [],
   "source": [
    "base_learners = [lr_pipe_best, knn_pipe_best, xgb_best, svm_pipe_best, nn_pipe_best]"
   ]
  },
  {
   "cell_type": "code",
   "execution_count": 99,
   "metadata": {},
   "outputs": [
    {
     "name": "stdout",
     "output_type": "stream",
     "text": [
      "LR            Score: 0.832 +/- 0.014\n",
      "KNN           Score: 0.824 +/- 0.015\n",
      "XGBClassifier Score: 0.832 +/- 0.014\n",
      "SVM           Score: 0.834 +/- 0.014\n",
      "NN            Score: 0.832 +/- 0.016\n"
     ]
    }
   ],
   "source": [
    "# Evaluate the Accuracy of each base learner\n",
    "for base_learner in base_learners:\n",
    "    if hasattr(base_learner, 'steps'):\n",
    "        name = base_learner.steps[1][0].upper()\n",
    "    else:\n",
    "        name = base_learner.__class__.__name__\n",
    "        \n",
    "    scores  = cross_val_score(base_learner,  X, y, scoring='accuracy', cv=cv_select)\n",
    "    print(f'{name:13} Score: {scores.mean():.3f} +/- {scores.std():.3f}')"
   ]
  },
  {
   "cell_type": "markdown",
   "metadata": {},
   "source": [
    "Scores from Default Instances  \n",
    "LR            Score: 0.830 +/- 0.008  \n",
    "KNN           Score: 0.807 +/- 0.007  \n",
    "XGBClassifier Score: 0.820 +/- 0.008  \n",
    "SVM           Score: 0.830 +/- 0.008  \n",
    "NN            Score: 0.818 +/- 0.006  "
   ]
  },
  {
   "cell_type": "code",
   "execution_count": 100,
   "metadata": {},
   "outputs": [
    {
     "name": "stdout",
     "output_type": "stream",
     "text": [
      "20 Scores  min:0.813 max:0.854\n",
      "CV Mean Score: 0.834 +/- 0.014\n"
     ]
    }
   ],
   "source": [
    "# LR, SVM, XGB with SVM meta learner    was 832\n",
    "base_learners = [lr_pipe_best, svm_pipe_best, xgb_best]\n",
    "meta_learner = SVC(gamma='auto')\n",
    "sc = StackedClassifier(base_learners, meta_learner, cv_predict)\n",
    "scores = cross_val_score(sc, X, y, cv=cv_select)\n",
    "tt.print_scores(scores)"
   ]
  },
  {
   "cell_type": "code",
   "execution_count": 101,
   "metadata": {},
   "outputs": [
    {
     "name": "stdout",
     "output_type": "stream",
     "text": [
      "20 Scores  min:0.814 max:0.857\n",
      "CV Mean Score: 0.833 +/- 0.013\n"
     ]
    }
   ],
   "source": [
    "# LR, SVM, KNN, XGB with SVM meta learner    was 832\n",
    "base_learners = [lr_pipe_best, svm_pipe_best, knn_pipe_best, xgb_best]\n",
    "meta_learner = SVC(gamma='auto')\n",
    "sc = StackedClassifier(base_learners, meta_learner, cv_predict)\n",
    "scores = cross_val_score(sc, X, y, cv=cv_select)\n",
    "tt.print_scores(scores)"
   ]
  },
  {
   "cell_type": "code",
   "execution_count": 102,
   "metadata": {},
   "outputs": [
    {
     "name": "stdout",
     "output_type": "stream",
     "text": [
      "20 Scores  min:0.813 max:0.857\n",
      "CV Mean Score: 0.834 +/- 0.013\n"
     ]
    }
   ],
   "source": [
    "# LR, SVM, KNN, XGB, NN with SVM meta learner    was 832\n",
    "base_learners = [lr_pipe_best, svm_pipe_best, knn_pipe_best, xgb_best, nn_pipe_best]\n",
    "meta_learner = SVC(gamma='auto')\n",
    "sc = StackedClassifier(base_learners, meta_learner, cv_predict)\n",
    "scores = cross_val_score(sc, X, y, cv=cv_select)\n",
    "tt.print_scores(scores)"
   ]
  },
  {
   "cell_type": "code",
   "execution_count": 103,
   "metadata": {},
   "outputs": [
    {
     "name": "stdout",
     "output_type": "stream",
     "text": [
      "20 Scores  min:0.818 max:0.857\n",
      "CV Mean Score: 0.834 +/- 0.012\n"
     ]
    }
   ],
   "source": [
    "vc = VotingClassifier([('lr', lr_pipe_best), ('svm', svm_pipe_best),  # 833\n",
    "                       ('xgb', xgb_best)], voting='hard')\n",
    "scores = cross_val_score(vc, X, y, cv=cv_select)\n",
    "tt.print_scores(scores)"
   ]
  },
  {
   "cell_type": "code",
   "execution_count": 104,
   "metadata": {},
   "outputs": [
    {
     "name": "stdout",
     "output_type": "stream",
     "text": [
      "20 Scores  min:0.814 max:0.863\n",
      "CV Mean Score: 0.835 +/- 0.014\n"
     ]
    }
   ],
   "source": [
    "vc = VotingClassifier([('lr', lr_pipe_best), ('svm', svm_pipe_best),  # 833\n",
    "                       ('xgb', xgb_best), ('nn', nn_pipe_best)], voting='hard')\n",
    "scores = cross_val_score(vc, X, y, cv=cv_select)\n",
    "tt.print_scores(scores)"
   ]
  },
  {
   "cell_type": "code",
   "execution_count": 105,
   "metadata": {},
   "outputs": [
    {
     "name": "stdout",
     "output_type": "stream",
     "text": [
      "20 Scores  min:0.816 max:0.861\n",
      "CV Mean Score: 0.835 +/- 0.013\n"
     ]
    }
   ],
   "source": [
    "vc = VotingClassifier([('lr', lr_pipe_best), ('svm', svm_pipe_best),\n",
    "                       ('xgb', xgb_best), ('nn', nn_pipe_best),\n",
    "                       ('knn', knn_pipe_best)], voting='hard')\n",
    "scores = cross_val_score(vc, X, y, cv=cv_select)\n",
    "tt.print_scores(scores)"
   ]
  },
  {
   "cell_type": "markdown",
   "metadata": {},
   "source": [
    "### Tune Meta Learner\n",
    "Several additional experiments were tried involving different subsets of base learners and different meta learners.  None were better than LR, SVM with SVM meta learner.\n",
    "\n",
    "Although much tuning could be done, the most important estimator to tune is the meta learner.\n",
    "\n",
    "To keep the custom StackingClassifier simple, it was not coded to work with GridSearchCV."
   ]
  },
  {
   "cell_type": "code",
   "execution_count": 107,
   "metadata": {},
   "outputs": [
    {
     "name": "stdout",
     "output_type": "stream",
     "text": [
      "gamma:   0.001 C:     0.01 score 0.6162 +/- 0.0004\n",
      "gamma:   0.001 C:     0.10 score 0.6162 +/- 0.0004\n",
      "gamma:   0.001 C:     1.00 score 0.6162 +/- 0.0004\n",
      "gamma:   0.001 C:    10.00 score 0.8339 +/- 0.0105\n",
      "gamma:   0.001 C:   100.00 score 0.8332 +/- 0.0091\n",
      "gamma:   0.001 C:  1000.00 score 0.8323 +/- 0.0105\n",
      "gamma:   0.001 C: 10000.00 score 0.8321 +/- 0.0103\n",
      "gamma:   0.010 C:     0.01 score 0.6162 +/- 0.0004\n",
      "gamma:   0.010 C:     0.10 score 0.6162 +/- 0.0004\n",
      "gamma:   0.010 C:     1.00 score 0.8337 +/- 0.0107\n",
      "gamma:   0.010 C:    10.00 score 0.8334 +/- 0.0092\n",
      "gamma:   0.010 C:   100.00 score 0.8328 +/- 0.0101\n",
      "gamma:   0.010 C:  1000.00 score 0.8321 +/- 0.0105\n",
      "gamma:   0.010 C: 10000.00 score 0.8296 +/- 0.0106\n",
      "gamma:   0.100 C:     0.01 score 0.6162 +/- 0.0004\n",
      "gamma:   0.100 C:     0.10 score 0.8337 +/- 0.0107\n",
      "gamma:   0.100 C:     1.00 score 0.8339 +/- 0.0098\n",
      "gamma:   0.100 C:    10.00 score 0.8314 +/- 0.0105\n",
      "gamma:   0.100 C:   100.00 score 0.8301 +/- 0.0103\n",
      "gamma:   0.100 C:  1000.00 score 0.8296 +/- 0.0121\n",
      "gamma:   0.100 C: 10000.00 score 0.8299 +/- 0.0116\n",
      "gamma:   1.000 C:     0.01 score 0.8236 +/- 0.0113\n",
      "gamma:   1.000 C:     0.10 score 0.8332 +/- 0.0105\n",
      "gamma:   1.000 C:     1.00 score 0.8330 +/- 0.0105\n",
      "gamma:   1.000 C:    10.00 score 0.8301 +/- 0.0120\n",
      "gamma:   1.000 C:   100.00 score 0.8303 +/- 0.0115\n",
      "gamma:   1.000 C:  1000.00 score 0.8310 +/- 0.0115\n",
      "gamma:   1.000 C: 10000.00 score 0.8310 +/- 0.0128\n"
     ]
    }
   ],
   "source": [
    "# This simple StackingClassifier does not support GridSearchCV\n",
    "# Use nested for-loop instead\n",
    "base_learners = [lr_pipe_best, svm_pipe_best, xgb_best]\n",
    "\n",
    "results = []\n",
    "for g in np.logspace(-3, 0, 4):   \n",
    "    for c in np.logspace(-2, 4, 7):       \n",
    "        meta_learner = SVC(gamma=g, C=c)\n",
    "        sc = StackedClassifier(base_learners, meta_learner, cv_predict)\n",
    "        scores = cross_val_score(sc, X, y, cv=cv_select_quick)\n",
    "        results.append({'gamma': g, 'C': c, 'score': scores.mean(), \n",
    "                        'moe': scores.std()})\n",
    "        print(f'gamma: {g:7.3f} C: {c:8.2f} score {scores.mean():6.4f} +/- {scores.std():6.4f}')       \n",
    "\n",
    "results = pd.DataFrame(results)"
   ]
  },
  {
   "cell_type": "code",
   "execution_count": 108,
   "metadata": {},
   "outputs": [
    {
     "data": {
      "text/html": [
       "<div>\n",
       "<style scoped>\n",
       "    .dataframe tbody tr th:only-of-type {\n",
       "        vertical-align: middle;\n",
       "    }\n",
       "\n",
       "    .dataframe tbody tr th {\n",
       "        vertical-align: top;\n",
       "    }\n",
       "\n",
       "    .dataframe thead th {\n",
       "        text-align: right;\n",
       "    }\n",
       "</style>\n",
       "<table border=\"1\" class=\"dataframe\">\n",
       "  <thead>\n",
       "    <tr style=\"text-align: right;\">\n",
       "      <th></th>\n",
       "      <th>C</th>\n",
       "      <th>gamma</th>\n",
       "      <th>moe</th>\n",
       "      <th>score</th>\n",
       "    </tr>\n",
       "  </thead>\n",
       "  <tbody>\n",
       "    <tr>\n",
       "      <th>3</th>\n",
       "      <td>10.0</td>\n",
       "      <td>0.001</td>\n",
       "      <td>0.010491</td>\n",
       "      <td>0.833900</td>\n",
       "    </tr>\n",
       "    <tr>\n",
       "      <th>16</th>\n",
       "      <td>1.0</td>\n",
       "      <td>0.100</td>\n",
       "      <td>0.009769</td>\n",
       "      <td>0.833898</td>\n",
       "    </tr>\n",
       "    <tr>\n",
       "      <th>15</th>\n",
       "      <td>0.1</td>\n",
       "      <td>0.100</td>\n",
       "      <td>0.010652</td>\n",
       "      <td>0.833676</td>\n",
       "    </tr>\n",
       "    <tr>\n",
       "      <th>9</th>\n",
       "      <td>1.0</td>\n",
       "      <td>0.010</td>\n",
       "      <td>0.010652</td>\n",
       "      <td>0.833676</td>\n",
       "    </tr>\n",
       "    <tr>\n",
       "      <th>10</th>\n",
       "      <td>10.0</td>\n",
       "      <td>0.010</td>\n",
       "      <td>0.009173</td>\n",
       "      <td>0.833449</td>\n",
       "    </tr>\n",
       "  </tbody>\n",
       "</table>\n",
       "</div>"
      ],
      "text/plain": [
       "       C  gamma       moe     score\n",
       "3   10.0  0.001  0.010491  0.833900\n",
       "16   1.0  0.100  0.009769  0.833898\n",
       "15   0.1  0.100  0.010652  0.833676\n",
       "9    1.0  0.010  0.010652  0.833676\n",
       "10  10.0  0.010  0.009173  0.833449"
      ]
     },
     "execution_count": 108,
     "metadata": {},
     "output_type": "execute_result"
    }
   ],
   "source": [
    "results.sort_values('score',ascending=False).head()"
   ]
  },
  {
   "cell_type": "code",
   "execution_count": 113,
   "metadata": {},
   "outputs": [
    {
     "data": {
      "image/png": "[encoded data removed]",
      "text/plain": [
       "<Figure size 432x288 with 1 Axes>"
      ]
     },
     "metadata": {
      "needs_background": "light"
     },
     "output_type": "display_data"
    }
   ],
   "source": [
    "fig, ax = plt.subplots()\n",
    "ax.set_ylim(0.830, 0.835)\n",
    "sns.pointplot(x='C', y='score', hue='gamma', data=results);"
   ]
  },
  {
   "cell_type": "code",
   "execution_count": null,
   "metadata": {},
   "outputs": [],
   "source": []
  },
  {
   "cell_type": "markdown",
   "metadata": {},
   "source": [
    "# NEW Custom RF"
   ]
  },
  {
   "cell_type": "code",
   "execution_count": 7,
   "metadata": {},
   "outputs": [],
   "source": [
    "from sklearn.base import TransformerMixin, BaseEstimator\n",
    "class WrappedIterativeImputer(BaseEstimator, TransformerMixin):\n",
    "    \"\"\"Wrap IterativeImputer to return One Column Only\n",
    "\n",
    "    The name of the column to be kept is passed to the constructor.\n",
    "\n",
    "    This must be the first step in a pipe, as it relies on X being a Pandas DataFrame\"\"\"\n",
    "\n",
    "    def __init__(self, return_col):\n",
    "        self.ii = IterativeImputer()\n",
    "        self.return_col = return_col\n",
    "        self.return_col_idx = None\n",
    "\n",
    "    def fit(self, X, y):\n",
    "        self.ii.fit(X, y)\n",
    "        self.return_col_idx = X.columns.get_loc(self.return_col)\n",
    "\n",
    "        return self\n",
    "\n",
    "    def transform(self, X):\n",
    "        return_col = self.ii.transform(X)[:, self.return_col_idx]\n",
    "\n",
    "        # must be 2D\n",
    "        return return_col.reshape(-1, 1)"
   ]
  },
  {
   "cell_type": "code",
   "execution_count": 8,
   "metadata": {},
   "outputs": [],
   "source": [
    "def get_ct_custom(cols):\n",
    "    \"\"\"Column Transform for Features\n",
    "\n",
    "    \"\"\"\n",
    "\n",
    "    ii = WrappedIterativeImputer('Age')\n",
    "\n",
    "    # Pipelines\n",
    "    ii_pipe = Pipeline([('ii', ii)])\n",
    "\n",
    "    # Columns to act on\n",
    "    ii_cols = ['Pclass', 'Sex', 'Age', 'Title_Master',\n",
    "                  'Title_Miss', 'Title_Mr', 'Title_Mrs', 'Title_Other']\n",
    "\n",
    "    if 'Age' in cols:\n",
    "        # cols.remove is an inplace operation\n",
    "        # which operates on a reference\n",
    "        cols = cols.copy()\n",
    "        cols.remove('Age')\n",
    "        transformers = [('ii_tr', ii_pipe, ii_cols),\n",
    "                        ('as_is', 'passthrough', cols)]\n",
    "        return_cols = ['Age'] + cols\n",
    "    else:\n",
    "        transformers = [('as_is', 'passthrough', cols)]\n",
    "        return_cols = cols\n",
    "\n",
    "    ct = ColumnTransformer(transformers=transformers)\n",
    "\n",
    "    return return_cols, ct"
   ]
  },
  {
   "cell_type": "code",
   "execution_count": 9,
   "metadata": {},
   "outputs": [
    {
     "data": {
      "text/plain": [
       "['Pclass',\n",
       " 'Sex',\n",
       " 'Age',\n",
       " 'Fare',\n",
       " 'family_size',\n",
       " 'is_cabin_notnull',\n",
       " 'Port_C',\n",
       " 'Port_Q',\n",
       " 'Port_S',\n",
       " 'Title_Master',\n",
       " 'Title_Miss',\n",
       " 'Title_Mr',\n",
       " 'Title_Mrs',\n",
       " 'Title_Other']"
      ]
     },
     "execution_count": 9,
     "metadata": {},
     "output_type": "execute_result"
    }
   ],
   "source": [
    "X.columns.to_list()"
   ]
  },
  {
   "cell_type": "code",
   "execution_count": 10,
   "metadata": {},
   "outputs": [],
   "source": [
    "import itertools\n",
    "subsets = []\n",
    "for r in range(7,8):\n",
    "    subsets.extend(list(itertools.combinations(X.columns, r=r)))"
   ]
  },
  {
   "cell_type": "code",
   "execution_count": 11,
   "metadata": {},
   "outputs": [
    {
     "data": {
      "text/plain": [
       "3432"
      ]
     },
     "execution_count": 11,
     "metadata": {},
     "output_type": "execute_result"
    }
   ],
   "source": [
    "len(subsets)"
   ]
  },
  {
   "cell_type": "code",
   "execution_count": 12,
   "metadata": {},
   "outputs": [
    {
     "data": {
      "text/plain": [
       "12"
      ]
     },
     "execution_count": 12,
     "metadata": {},
     "output_type": "execute_result"
    }
   ],
   "source": [
    "ss = subsets[:12]\n",
    "len(ss)"
   ]
  },
  {
   "cell_type": "code",
   "execution_count": 13,
   "metadata": {},
   "outputs": [],
   "source": [
    "from sklearn.metrics import accuracy_score, log_loss"
   ]
  },
  {
   "cell_type": "code",
   "execution_count": 38,
   "metadata": {},
   "outputs": [],
   "source": [
    "from sklearn.model_selection import cross_validate"
   ]
  },
  {
   "cell_type": "code",
   "execution_count": 15,
   "metadata": {},
   "outputs": [],
   "source": [
    "from sklearn.tree import DecisionTreeClassifier, plot_tree\n",
    "dtree = DecisionTreeClassifier(criterion = \"entropy\")"
   ]
  },
  {
   "cell_type": "markdown",
   "metadata": {},
   "source": [
    "### Multi procesing\n",
    "cross_val_score can be used with n_jobs=-1 however for a single decision tree, this results in too small a unit-of-work.  Each fold is parallelized.\n",
    "\n",
    "This can be seen as the CPU meter does not show all hardware cores (4 on this machine with 4 hyperthreads) being used.  This is in part because of the setup and tear down time of the internal job pool for cross_val_score.\n",
    "\n",
    "As 20 folds are being evaluated, submitting this to pool.map will result in a unit-of-work that is 20 times larger.  As the pool is set up once and torn down once, that overhead is also avoided.\n",
    "\n",
    "This yields much higher throughput, as can be seen on the CPU montior."
   ]
  },
  {
   "cell_type": "code",
   "execution_count": 16,
   "metadata": {},
   "outputs": [],
   "source": [
    "from collections import namedtuple\n",
    "Score = namedtuple('Score', \n",
    "                   ['acc', 'acc_std', 'logloss', 'logloss_std','vars'])\n",
    "def eval_tree(s):\n",
    "    cols_returned, ct = get_ct_custom(list(s))    \n",
    "    dtree = DecisionTreeClassifier(random_state=707)\n",
    "    pipe = Pipeline([('ct', ct), ('dtree', dtree)])\n",
    "    scores = cross_validate(pipe, X, y, cv=cv_select,\n",
    "                            scoring=('accuracy', 'neg_log_loss'))\n",
    "    return Score(scores['test_accuracy'].mean(),\n",
    "                 scores['test_accuracy'].std(),\n",
    "                 scores['test_neg_log_loss'].mean(),\n",
    "                 scores['test_neg_log_loss'].std(),\n",
    "                 s)"
   ]
  },
  {
   "cell_type": "code",
   "execution_count": 17,
   "metadata": {},
   "outputs": [],
   "source": [
    "# from tqdm import tnrange, tqdm_notebook\n",
    "# from tqdm.auto import tqdm"
   ]
  },
  {
   "cell_type": "code",
   "execution_count": 31,
   "metadata": {},
   "outputs": [
    {
     "name": "stderr",
     "output_type": "stream",
     "text": [
      "100%|██████████| 3432/3432 [14:54<00:00,  9.20it/s]\n"
     ]
    }
   ],
   "source": [
    "import multiprocessing as mp\n",
    "import tqdm\n",
    "import time\n",
    "\n",
    "# cpu_count includes hyperthreads\n",
    "# pool = mp.Pool(mp.cpu_count()-1)\n",
    "pool = mp.Pool(4)\n",
    "\n",
    "start = time.time()\n",
    "scores = list(tqdm.tqdm(\n",
    "    pool.imap_unordered(eval_tree, subsets, chunksize=1), \n",
    "              total=len(subsets)))\n",
    "stop = time.time()"
   ]
  },
  {
   "cell_type": "code",
   "execution_count": 32,
   "metadata": {},
   "outputs": [
    {
     "name": "stdout",
     "output_type": "stream",
     "text": [
      "Time:   894.9\n"
     ]
    }
   ],
   "source": [
    "print(f'Time: {stop-start:7.1f}')\n",
    "pool.close()\n",
    "pool.join()"
   ]
  },
  {
   "cell_type": "code",
   "execution_count": 33,
   "metadata": {},
   "outputs": [],
   "source": [
    "# save it\n",
    "scores_df = pd.DataFrame(scores)\n",
    "scores_df.to_csv('data/tree_scores.csv', index=False)"
   ]
  },
  {
   "cell_type": "markdown",
   "metadata": {},
   "source": [
    "### Score It"
   ]
  },
  {
   "cell_type": "code",
   "execution_count": 34,
   "metadata": {},
   "outputs": [
    {
     "data": {
      "text/html": [
       "<div>\n",
       "<style scoped>\n",
       "    .dataframe tbody tr th:only-of-type {\n",
       "        vertical-align: middle;\n",
       "    }\n",
       "\n",
       "    .dataframe tbody tr th {\n",
       "        vertical-align: top;\n",
       "    }\n",
       "\n",
       "    .dataframe thead th {\n",
       "        text-align: right;\n",
       "    }\n",
       "</style>\n",
       "<table border=\"1\" class=\"dataframe\">\n",
       "  <thead>\n",
       "    <tr style=\"text-align: right;\">\n",
       "      <th></th>\n",
       "      <th>acc</th>\n",
       "      <th>acc_std</th>\n",
       "      <th>logloss</th>\n",
       "      <th>logloss_std</th>\n",
       "      <th>vars</th>\n",
       "    </tr>\n",
       "  </thead>\n",
       "  <tbody>\n",
       "    <tr>\n",
       "      <th>0</th>\n",
       "      <td>0.771499</td>\n",
       "      <td>0.018042</td>\n",
       "      <td>-7.750423</td>\n",
       "      <td>0.656320</td>\n",
       "      <td>('Pclass', 'Sex', 'Age', 'Fare', 'family_size'...</td>\n",
       "    </tr>\n",
       "    <tr>\n",
       "      <th>1</th>\n",
       "      <td>0.768577</td>\n",
       "      <td>0.014719</td>\n",
       "      <td>-7.847498</td>\n",
       "      <td>0.505880</td>\n",
       "      <td>('Pclass', 'Sex', 'Age', 'Fare', 'family_size'...</td>\n",
       "    </tr>\n",
       "    <tr>\n",
       "      <th>2</th>\n",
       "      <td>0.769812</td>\n",
       "      <td>0.014353</td>\n",
       "      <td>-7.808523</td>\n",
       "      <td>0.516839</td>\n",
       "      <td>('Pclass', 'Sex', 'Age', 'Fare', 'family_size'...</td>\n",
       "    </tr>\n",
       "    <tr>\n",
       "      <th>3</th>\n",
       "      <td>0.764876</td>\n",
       "      <td>0.015845</td>\n",
       "      <td>-7.975553</td>\n",
       "      <td>0.546027</td>\n",
       "      <td>('Pclass', 'Sex', 'Age', 'Fare', 'family_size'...</td>\n",
       "    </tr>\n",
       "    <tr>\n",
       "      <th>4</th>\n",
       "      <td>0.772287</td>\n",
       "      <td>0.021242</td>\n",
       "      <td>-7.718990</td>\n",
       "      <td>0.755383</td>\n",
       "      <td>('Pclass', 'Sex', 'Age', 'Fare', 'family_size'...</td>\n",
       "    </tr>\n",
       "  </tbody>\n",
       "</table>\n",
       "</div>"
      ],
      "text/plain": [
       "        acc   acc_std   logloss  logloss_std  \\\n",
       "0  0.771499  0.018042 -7.750423     0.656320   \n",
       "1  0.768577  0.014719 -7.847498     0.505880   \n",
       "2  0.769812  0.014353 -7.808523     0.516839   \n",
       "3  0.764876  0.015845 -7.975553     0.546027   \n",
       "4  0.772287  0.021242 -7.718990     0.755383   \n",
       "\n",
       "                                                vars  \n",
       "0  ('Pclass', 'Sex', 'Age', 'Fare', 'family_size'...  \n",
       "1  ('Pclass', 'Sex', 'Age', 'Fare', 'family_size'...  \n",
       "2  ('Pclass', 'Sex', 'Age', 'Fare', 'family_size'...  \n",
       "3  ('Pclass', 'Sex', 'Age', 'Fare', 'family_size'...  \n",
       "4  ('Pclass', 'Sex', 'Age', 'Fare', 'family_size'...  "
      ]
     },
     "execution_count": 34,
     "metadata": {},
     "output_type": "execute_result"
    }
   ],
   "source": [
    "tree_scores = pd.read_csv('data/tree_scores.csv')\n",
    "tree_scores.head()"
   ]
  },
  {
   "cell_type": "code",
   "execution_count": 35,
   "metadata": {},
   "outputs": [
    {
     "data": {
      "text/plain": [
       "(1716, 5)"
      ]
     },
     "execution_count": 35,
     "metadata": {},
     "output_type": "execute_result"
    }
   ],
   "source": [
    "best = scores_df.nlargest(n=len(subsets)//2, columns=['acc'])\n",
    "best.shape"
   ]
  },
  {
   "cell_type": "code",
   "execution_count": null,
   "metadata": {},
   "outputs": [],
   "source": []
  },
  {
   "cell_type": "code",
   "execution_count": 39,
   "metadata": {},
   "outputs": [],
   "source": [
    "acc_trees = []\n",
    "for i, s in enumerate(subsets):\n",
    "    cols_returned, ct = get_ct_custom(list(s))    \n",
    "    dtree = DecisionTreeClassifier(random_state=707)\n",
    "    pipe = Pipeline([('ct', ct), ('dtree', dtree)])\n",
    "    acc_trees.append((f'{i}', pipe))"
   ]
  },
  {
   "cell_type": "code",
   "execution_count": 40,
   "metadata": {},
   "outputs": [
    {
     "name": "stdout",
     "output_type": "stream",
     "text": [
      "20 Scores  min:0.791 max:0.847\n",
      "CV Mean Score: 0.826 +/- 0.014\n"
     ]
    }
   ],
   "source": [
    "# easier if trees are saved during evaluation\n",
    "# otherwise must instantiate tree per subset (each row of vars)\n",
    "from sklearn.ensemble import VotingClassifier\n",
    "\n",
    "vc = VotingClassifier(acc_trees, voting='hard')\n",
    "scores = cross_val_score(vc, X, y, cv=cv_select)\n",
    "tt.print_scores(scores)"
   ]
  },
  {
   "cell_type": "code",
   "execution_count": null,
   "metadata": {},
   "outputs": [],
   "source": []
  },
  {
   "cell_type": "code",
   "execution_count": 41,
   "metadata": {},
   "outputs": [
    {
     "name": "stdout",
     "output_type": "stream",
     "text": [
      "20 Scores  min:0.800 max:0.845\n",
      "CV Mean Score: 0.823 +/- 0.013\n"
     ]
    }
   ],
   "source": [
    "# easier if trees are saved during evaluation\n",
    "# otherwise must instantiate tree per subset (each row of vars)\n",
    "from sklearn.ensemble import VotingClassifier\n",
    "\n",
    "vc = VotingClassifier(acc_trees, voting='soft')\n",
    "scores = cross_val_score(vc, X, y, cv=cv_select)\n",
    "tt.print_scores(scores)"
   ]
  },
  {
   "cell_type": "code",
   "execution_count": null,
   "metadata": {},
   "outputs": [],
   "source": []
  },
  {
   "cell_type": "markdown",
   "metadata": {
    "toc-hr-collapsed": true
   },
   "source": [
    "# Summary"
   ]
  },
  {
   "cell_type": "markdown",
   "metadata": {},
   "source": [
    "In the above, hyperparameter optimization was performed and evaluated without using Nested CV.  This means the above performance estimate could be a little high.  That said, .834 +/- .010 is no better than the scores from previous iterations."
   ]
  },
  {
   "cell_type": "markdown",
   "metadata": {},
   "source": [
    "The last two iterations:\n",
    "* optimization of regularization\n",
    "* stacking and votingclassiver with optimization of several hyperparameters  \n",
    "\n",
    "did not produce any improvement.  It is likely this is near the best of what is possible.\n",
    "\n",
    "It may be that better extracted features would allow for a slightly better model.\n",
    "\n",
    "Note: on Kaggle, for this data set, some people artificially manage a high score either by resubmitting their model on the Kaggle hold-out set over and over, or by directly using the hold-out set target values which are published elsewhere.  Models which produced a score above about 0.85 probably used a technique that would not work on real-world problems."
   ]
  }
 ],
 "metadata": {
  "kernelspec": {
   "display_name": "Python 3",
   "language": "python",
   "name": "python3"
  },
  "language_info": {
   "codemirror_mode": {
    "name": "ipython",
    "version": 3
   },
   "file_extension": ".py",
   "mimetype": "text/x-python",
   "name": "python",
   "nbconvert_exporter": "python",
   "pygments_lexer": "ipython3",
   "version": "3.7.3"
  }
 },
 "nbformat": 4,
 "nbformat_minor": 2
}
