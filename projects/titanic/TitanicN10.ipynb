{
 "cells": [
  {
   "cell_type": "markdown",
   "metadata": {
    "toc-hr-collapsed": false
   },
   "source": [
    "# Modeling Building<br/>*Creating an Interpretable Model*"
   ]
  },
  {
   "cell_type": "markdown",
   "metadata": {},
   "source": [
    "## Goals\n",
    "* Create small interpretable DecisionTrees that accurately represents the Titanic Data"
   ]
  },
  {
   "cell_type": "markdown",
   "metadata": {
    "toc-hr-collapsed": false
   },
   "source": [
    "## Interpretable Models\n",
    "A model that is understandable can help domain experts understand their data.\n",
    "\n",
    "Below a DecisionTree will be created:\n",
    "* using 3 features and 5 leaf nodes\n",
    "* using 4 features and 7 leaf nodes"
   ]
  },
  {
   "cell_type": "code",
   "execution_count": 1,
   "metadata": {},
   "outputs": [],
   "source": [
    "import numpy as np\n",
    "import pandas as pd\n",
    "import matplotlib.pyplot as plt\n",
    "import seaborn as sns\n",
    "%matplotlib inline\n",
    "sns.set() # enable seaborn style\n",
    "\n",
    "import titanic_helper_code as tt\n",
    "import itertools"
   ]
  },
  {
   "cell_type": "code",
   "execution_count": 2,
   "metadata": {},
   "outputs": [],
   "source": [
    "from sklearn.model_selection import cross_val_score, RepeatedStratifiedKFold\n",
    "from sklearn.tree import DecisionTreeClassifier, export_graphviz\n",
    "from sklearn.pipeline import Pipeline\n",
    "from sklearn.linear_model import LogisticRegression"
   ]
  },
  {
   "cell_type": "code",
   "execution_count": 3,
   "metadata": {},
   "outputs": [],
   "source": [
    "# conda install python-graphviz\n",
    "# pip install pydotplus\n",
    "import graphviz\n",
    "import pydotplus\n",
    "from graphviz import Source"
   ]
  },
  {
   "cell_type": "code",
   "execution_count": 4,
   "metadata": {},
   "outputs": [],
   "source": [
    "cv_select = RepeatedStratifiedKFold(n_splits=2, n_repeats=10, \n",
    "                                    random_state=108)"
   ]
  },
  {
   "cell_type": "code",
   "execution_count": 5,
   "metadata": {},
   "outputs": [
    {
     "data": {
      "text/plain": [
       "['Pclass',\n",
       " 'Sex',\n",
       " 'Age',\n",
       " 'Fare',\n",
       " 'family_size',\n",
       " 'is_cabin_notnull',\n",
       " 'Port_C',\n",
       " 'Port_Q',\n",
       " 'Port_S',\n",
       " 'Title_Master',\n",
       " 'Title_Miss',\n",
       " 'Title_Mr',\n",
       " 'Title_Mrs',\n",
       " 'Title_Other']"
      ]
     },
     "execution_count": 5,
     "metadata": {},
     "output_type": "execute_result"
    }
   ],
   "source": [
    "X, y = tt.get_Xy_v5()\n",
    "X.columns.to_list()"
   ]
  },
  {
   "cell_type": "markdown",
   "metadata": {},
   "source": [
    "## Create Interpretable Decision Tree\n",
    "1. Do not perform data preprocessing\n",
    "   * except to impute missing age values\n",
    "2. Limit number of leaf nodes\n",
    "3. Limit number of features"
   ]
  },
  {
   "cell_type": "markdown",
   "metadata": {},
   "source": [
    "### Use 3 Features with 5 Leaf Notes"
   ]
  },
  {
   "cell_type": "code",
   "execution_count": 6,
   "metadata": {},
   "outputs": [
    {
     "data": {
      "text/plain": [
       "364"
      ]
     },
     "execution_count": 6,
     "metadata": {},
     "output_type": "execute_result"
    }
   ],
   "source": [
    "# get all possible combinations of the 14 fields taken 3 at a time\n",
    "subsets = list(itertools.combinations(X.columns, r=3))\n",
    "len(subsets)"
   ]
  },
  {
   "cell_type": "markdown",
   "metadata": {},
   "source": [
    "The get_ct_bycolumn returns a ColumnTransformer that selects a subset of the columns, and if that subset includes Age, it imputes missing values using the new IterativeImputer.  See titanic_helper_code.py in this directory."
   ]
  },
  {
   "cell_type": "code",
   "execution_count": 7,
   "metadata": {},
   "outputs": [],
   "source": [
    "# create a default Decision Tree with 5 leaf nodes\n",
    "# for each combination of 3 fields\n",
    "results = []\n",
    "for s in subsets:\n",
    "    \n",
    "    cols_returned, ct = tt.get_ct_bycolumn(list(s))    \n",
    "    dtree = DecisionTreeClassifier(max_leaf_nodes=5, random_state=707)\n",
    "    pipe = Pipeline([('ct', ct), ('dtree', dtree)])\n",
    "    scores = cross_val_score(pipe, X, y, cv=cv_select)\n",
    "    results.append((scores.mean(), scores.std(), s))\n",
    "    \n",
    "results3_df = pd.DataFrame(results, columns=['scores', 'sd', 'vars'])    "
   ]
  },
  {
   "cell_type": "code",
   "execution_count": 8,
   "metadata": {},
   "outputs": [
    {
     "data": {
      "text/html": [
       "<div>\n",
       "<style scoped>\n",
       "    .dataframe tbody tr th:only-of-type {\n",
       "        vertical-align: middle;\n",
       "    }\n",
       "\n",
       "    .dataframe tbody tr th {\n",
       "        vertical-align: top;\n",
       "    }\n",
       "\n",
       "    .dataframe thead th {\n",
       "        text-align: right;\n",
       "    }\n",
       "</style>\n",
       "<table border=\"1\" class=\"dataframe\">\n",
       "  <thead>\n",
       "    <tr style=\"text-align: right;\">\n",
       "      <th></th>\n",
       "      <th>scores</th>\n",
       "      <th>sd</th>\n",
       "      <th>vars</th>\n",
       "    </tr>\n",
       "  </thead>\n",
       "  <tbody>\n",
       "    <tr>\n",
       "      <th>103</th>\n",
       "      <td>0.826707</td>\n",
       "      <td>0.014232</td>\n",
       "      <td>(Sex, family_size, Title_Master)</td>\n",
       "    </tr>\n",
       "    <tr>\n",
       "      <th>39</th>\n",
       "      <td>0.821435</td>\n",
       "      <td>0.014905</td>\n",
       "      <td>(Pclass, family_size, Title_Mr)</td>\n",
       "    </tr>\n",
       "    <tr>\n",
       "      <th>105</th>\n",
       "      <td>0.819750</td>\n",
       "      <td>0.014046</td>\n",
       "      <td>(Sex, family_size, Title_Mr)</td>\n",
       "    </tr>\n",
       "    <tr>\n",
       "      <th>249</th>\n",
       "      <td>0.818405</td>\n",
       "      <td>0.014102</td>\n",
       "      <td>(family_size, is_cabin_notnull, Title_Mr)</td>\n",
       "    </tr>\n",
       "    <tr>\n",
       "      <th>256</th>\n",
       "      <td>0.818405</td>\n",
       "      <td>0.014332</td>\n",
       "      <td>(family_size, Port_C, Title_Mr)</td>\n",
       "    </tr>\n",
       "  </tbody>\n",
       "</table>\n",
       "</div>"
      ],
      "text/plain": [
       "       scores        sd                                       vars\n",
       "103  0.826707  0.014232           (Sex, family_size, Title_Master)\n",
       "39   0.821435  0.014905            (Pclass, family_size, Title_Mr)\n",
       "105  0.819750  0.014046               (Sex, family_size, Title_Mr)\n",
       "249  0.818405  0.014102  (family_size, is_cabin_notnull, Title_Mr)\n",
       "256  0.818405  0.014332            (family_size, Port_C, Title_Mr)"
      ]
     },
     "execution_count": 8,
     "metadata": {},
     "output_type": "execute_result"
    }
   ],
   "source": [
    "results3_df.nlargest(n=5, columns=['scores'])"
   ]
  },
  {
   "cell_type": "markdown",
   "metadata": {},
   "source": [
    "Recreate the above best tree, and fit it to all the data."
   ]
  },
  {
   "cell_type": "code",
   "execution_count": 9,
   "metadata": {},
   "outputs": [
    {
     "name": "stdout",
     "output_type": "stream",
     "text": [
      "20 Scores  min:0.798 max:0.854\n",
      "CV Mean Score: 0.827 +/- 0.014\n"
     ]
    }
   ],
   "source": [
    "dtree = DecisionTreeClassifier(max_leaf_nodes=5, random_state=707)\n",
    "\n",
    "X_prime = X[['Sex', 'Title_Master', 'family_size']]\n",
    "\n",
    "scores = cross_val_score(dtree, X_prime, y, cv=cv_select)\n",
    "tt.print_scores(scores)\n",
    "\n",
    "dtree.fit(X_prime, y);"
   ]
  },
  {
   "cell_type": "markdown",
   "metadata": {},
   "source": [
    "Plot the Tree using graphviz.\n",
    "\n",
    "The following requires:\n",
    "1. conda install python-graphviz\n",
    "2. pip install pydotplus\n",
    "\n",
    "pydotplus is only used to adjust the size of the plot."
   ]
  },
  {
   "cell_type": "code",
   "execution_count": 10,
   "metadata": {},
   "outputs": [
    {
     "data": {
      "image/svg+xml": [
       "<?xml version=\"1.0\" encoding=\"UTF-8\" standalone=\"no\"?>\n",
       "<!DOCTYPE svg PUBLIC \"-//W3C//DTD SVG 1.1//EN\"\n",
       " \"http://www.w3.org/Graphics/SVG/1.1/DTD/svg11.dtd\">\n",
       "<!-- Generated by graphviz version 2.40.1 (20161225.0304)\n",
       " -->\n",
       "<!-- Title: Tree Pages: 1 -->\n",
       "<svg width=\"366pt\" height=\"288pt\"\n",
       " viewBox=\"0.00 0.00 365.75 288.00\" xmlns=\"http://www.w3.org/2000/svg\" xmlns:xlink=\"http://www.w3.org/1999/xlink\">\n",
       "<g id=\"graph0\" class=\"graph\" transform=\"scale(.9201 .9201) rotate(0) translate(4 309)\">\n",
       "<title>Tree</title>\n",
       "<polygon fill=\"#ffffff\" stroke=\"transparent\" points=\"-4,4 -4,-309 393.5,-309 393.5,4 -4,4\"/>\n",
       "<!-- 0 -->\n",
       "<g id=\"node1\" class=\"node\">\n",
       "<title>0</title>\n",
       "<path fill=\"#f5cfb4\" stroke=\"#000000\" d=\"M245,-305C245,-305 186,-305 186,-305 180,-305 174,-299 174,-293 174,-293 174,-264 174,-264 174,-258 180,-252 186,-252 186,-252 245,-252 245,-252 251,-252 257,-258 257,-264 257,-264 257,-293 257,-293 257,-299 251,-305 245,-305\"/>\n",
       "<text text-anchor=\"middle\" x=\"215.5\" y=\"-289.8\" font-family=\"Helvetica,sans-Serif\" font-size=\"14.00\" fill=\"#000000\">Sex &lt;= 0.5</text>\n",
       "<text text-anchor=\"middle\" x=\"215.5\" y=\"-274.8\" font-family=\"Helvetica,sans-Serif\" font-size=\"14.00\" fill=\"#000000\">891</text>\n",
       "<text text-anchor=\"middle\" x=\"215.5\" y=\"-259.8\" font-family=\"Helvetica,sans-Serif\" font-size=\"14.00\" fill=\"#000000\">[549, 342]</text>\n",
       "</g>\n",
       "<!-- 1 -->\n",
       "<g id=\"node2\" class=\"node\">\n",
       "<title>1</title>\n",
       "<path fill=\"#eb9e67\" stroke=\"#000000\" d=\"M196.5,-216C196.5,-216 86.5,-216 86.5,-216 80.5,-216 74.5,-210 74.5,-204 74.5,-204 74.5,-175 74.5,-175 74.5,-169 80.5,-163 86.5,-163 86.5,-163 196.5,-163 196.5,-163 202.5,-163 208.5,-169 208.5,-175 208.5,-175 208.5,-204 208.5,-204 208.5,-210 202.5,-216 196.5,-216\"/>\n",
       "<text text-anchor=\"middle\" x=\"141.5\" y=\"-200.8\" font-family=\"Helvetica,sans-Serif\" font-size=\"14.00\" fill=\"#000000\">Title_Master &lt;= 0.5</text>\n",
       "<text text-anchor=\"middle\" x=\"141.5\" y=\"-185.8\" font-family=\"Helvetica,sans-Serif\" font-size=\"14.00\" fill=\"#000000\">577</text>\n",
       "<text text-anchor=\"middle\" x=\"141.5\" y=\"-170.8\" font-family=\"Helvetica,sans-Serif\" font-size=\"14.00\" fill=\"#000000\">[468, 109]</text>\n",
       "</g>\n",
       "<!-- 0&#45;&gt;1 -->\n",
       "<g id=\"edge1\" class=\"edge\">\n",
       "<title>0&#45;&gt;1</title>\n",
       "<path fill=\"none\" stroke=\"#000000\" d=\"M193.2976,-251.7971C186.0536,-243.0847 177.9036,-233.2826 170.2498,-224.0775\"/>\n",
       "<polygon fill=\"#000000\" stroke=\"#000000\" points=\"172.7714,-221.6357 163.6868,-216.1841 167.3889,-226.1111 172.7714,-221.6357\"/>\n",
       "<text text-anchor=\"middle\" x=\"161.3958\" y=\"-237.3789\" font-family=\"Helvetica,sans-Serif\" font-size=\"14.00\" fill=\"#000000\">True</text>\n",
       "</g>\n",
       "<!-- 2 -->\n",
       "<g id=\"node7\" class=\"node\">\n",
       "<title>2</title>\n",
       "<path fill=\"#7ebfee\" stroke=\"#000000\" d=\"M342,-216C342,-216 239,-216 239,-216 233,-216 227,-210 227,-204 227,-204 227,-175 227,-175 227,-169 233,-163 239,-163 239,-163 342,-163 342,-163 348,-163 354,-169 354,-175 354,-175 354,-204 354,-204 354,-210 348,-216 342,-216\"/>\n",
       "<text text-anchor=\"middle\" x=\"290.5\" y=\"-200.8\" font-family=\"Helvetica,sans-Serif\" font-size=\"14.00\" fill=\"#000000\">family_size &lt;= 4.5</text>\n",
       "<text text-anchor=\"middle\" x=\"290.5\" y=\"-185.8\" font-family=\"Helvetica,sans-Serif\" font-size=\"14.00\" fill=\"#000000\">314</text>\n",
       "<text text-anchor=\"middle\" x=\"290.5\" y=\"-170.8\" font-family=\"Helvetica,sans-Serif\" font-size=\"14.00\" fill=\"#000000\">[81, 233]</text>\n",
       "</g>\n",
       "<!-- 0&#45;&gt;2 -->\n",
       "<g id=\"edge6\" class=\"edge\">\n",
       "<title>0&#45;&gt;2</title>\n",
       "<path fill=\"none\" stroke=\"#000000\" d=\"M238.0025,-251.7971C245.3444,-243.0847 253.6045,-233.2826 261.3617,-224.0775\"/>\n",
       "<polygon fill=\"#000000\" stroke=\"#000000\" points=\"264.2458,-226.0864 268.0134,-216.1841 258.893,-221.5756 264.2458,-226.0864\"/>\n",
       "<text text-anchor=\"middle\" x=\"270.1398\" y=\"-237.3935\" font-family=\"Helvetica,sans-Serif\" font-size=\"14.00\" fill=\"#000000\">False</text>\n",
       "</g>\n",
       "<!-- 5 -->\n",
       "<g id=\"node3\" class=\"node\">\n",
       "<title>5</title>\n",
       "<path fill=\"#ea995f\" stroke=\"#000000\" d=\"M57,-119.5C57,-119.5 12,-119.5 12,-119.5 6,-119.5 0,-113.5 0,-107.5 0,-107.5 0,-93.5 0,-93.5 0,-87.5 6,-81.5 12,-81.5 12,-81.5 57,-81.5 57,-81.5 63,-81.5 69,-87.5 69,-93.5 69,-93.5 69,-107.5 69,-107.5 69,-113.5 63,-119.5 57,-119.5\"/>\n",
       "<text text-anchor=\"middle\" x=\"34.5\" y=\"-104.3\" font-family=\"Helvetica,sans-Serif\" font-size=\"14.00\" fill=\"#000000\">537</text>\n",
       "<text text-anchor=\"middle\" x=\"34.5\" y=\"-89.3\" font-family=\"Helvetica,sans-Serif\" font-size=\"14.00\" fill=\"#000000\">[451, 86]</text>\n",
       "</g>\n",
       "<!-- 1&#45;&gt;5 -->\n",
       "<g id=\"edge2\" class=\"edge\">\n",
       "<title>1&#45;&gt;5</title>\n",
       "<path fill=\"none\" stroke=\"#000000\" d=\"M109.3965,-162.7971C95.3998,-151.155 79.0638,-137.5671 65.2267,-126.0577\"/>\n",
       "<polygon fill=\"#000000\" stroke=\"#000000\" points=\"67.3312,-123.2557 57.4049,-119.5518 62.8549,-128.6374 67.3312,-123.2557\"/>\n",
       "</g>\n",
       "<!-- 6 -->\n",
       "<g id=\"node4\" class=\"node\">\n",
       "<title>6</title>\n",
       "<path fill=\"#cbe5f8\" stroke=\"#000000\" d=\"M202,-127C202,-127 99,-127 99,-127 93,-127 87,-121 87,-115 87,-115 87,-86 87,-86 87,-80 93,-74 99,-74 99,-74 202,-74 202,-74 208,-74 214,-80 214,-86 214,-86 214,-115 214,-115 214,-121 208,-127 202,-127\"/>\n",
       "<text text-anchor=\"middle\" x=\"150.5\" y=\"-111.8\" font-family=\"Helvetica,sans-Serif\" font-size=\"14.00\" fill=\"#000000\">family_size &lt;= 4.5</text>\n",
       "<text text-anchor=\"middle\" x=\"150.5\" y=\"-96.8\" font-family=\"Helvetica,sans-Serif\" font-size=\"14.00\" fill=\"#000000\">40</text>\n",
       "<text text-anchor=\"middle\" x=\"150.5\" y=\"-81.8\" font-family=\"Helvetica,sans-Serif\" font-size=\"14.00\" fill=\"#000000\">[17, 23]</text>\n",
       "</g>\n",
       "<!-- 1&#45;&gt;6 -->\n",
       "<g id=\"edge3\" class=\"edge\">\n",
       "<title>1&#45;&gt;6</title>\n",
       "<path fill=\"none\" stroke=\"#000000\" d=\"M144.2003,-162.7971C145.0101,-154.7887 145.9131,-145.8597 146.7766,-137.3198\"/>\n",
       "<polygon fill=\"#000000\" stroke=\"#000000\" points=\"150.2777,-137.4855 147.8016,-127.1841 143.3132,-136.7812 150.2777,-137.4855\"/>\n",
       "</g>\n",
       "<!-- 7 -->\n",
       "<g id=\"node5\" class=\"node\">\n",
       "<title>7</title>\n",
       "<path fill=\"#399de5\" stroke=\"#000000\" d=\"M129.5,-38C129.5,-38 99.5,-38 99.5,-38 93.5,-38 87.5,-32 87.5,-26 87.5,-26 87.5,-12 87.5,-12 87.5,-6 93.5,0 99.5,0 99.5,0 129.5,0 129.5,0 135.5,0 141.5,-6 141.5,-12 141.5,-12 141.5,-26 141.5,-26 141.5,-32 135.5,-38 129.5,-38\"/>\n",
       "<text text-anchor=\"middle\" x=\"114.5\" y=\"-22.8\" font-family=\"Helvetica,sans-Serif\" font-size=\"14.00\" fill=\"#000000\">22</text>\n",
       "<text text-anchor=\"middle\" x=\"114.5\" y=\"-7.8\" font-family=\"Helvetica,sans-Serif\" font-size=\"14.00\" fill=\"#000000\">[0, 22]</text>\n",
       "</g>\n",
       "<!-- 6&#45;&gt;7 -->\n",
       "<g id=\"edge4\" class=\"edge\">\n",
       "<title>6&#45;&gt;7</title>\n",
       "<path fill=\"none\" stroke=\"#000000\" d=\"M138.7123,-73.8139C134.9875,-65.3815 130.8583,-56.0333 127.0803,-47.4804\"/>\n",
       "<polygon fill=\"#000000\" stroke=\"#000000\" points=\"130.2466,-45.9862 123.0044,-38.2531 123.8435,-48.8146 130.2466,-45.9862\"/>\n",
       "</g>\n",
       "<!-- 8 -->\n",
       "<g id=\"node6\" class=\"node\">\n",
       "<title>8</title>\n",
       "<path fill=\"#e78845\" stroke=\"#000000\" d=\"M201.5,-38C201.5,-38 171.5,-38 171.5,-38 165.5,-38 159.5,-32 159.5,-26 159.5,-26 159.5,-12 159.5,-12 159.5,-6 165.5,0 171.5,0 171.5,0 201.5,0 201.5,0 207.5,0 213.5,-6 213.5,-12 213.5,-12 213.5,-26 213.5,-26 213.5,-32 207.5,-38 201.5,-38\"/>\n",
       "<text text-anchor=\"middle\" x=\"186.5\" y=\"-22.8\" font-family=\"Helvetica,sans-Serif\" font-size=\"14.00\" fill=\"#000000\">18</text>\n",
       "<text text-anchor=\"middle\" x=\"186.5\" y=\"-7.8\" font-family=\"Helvetica,sans-Serif\" font-size=\"14.00\" fill=\"#000000\">[17, 1]</text>\n",
       "</g>\n",
       "<!-- 6&#45;&gt;8 -->\n",
       "<g id=\"edge5\" class=\"edge\">\n",
       "<title>6&#45;&gt;8</title>\n",
       "<path fill=\"none\" stroke=\"#000000\" d=\"M162.2877,-73.8139C166.0125,-65.3815 170.1417,-56.0333 173.9197,-47.4804\"/>\n",
       "<polygon fill=\"#000000\" stroke=\"#000000\" points=\"177.1565,-48.8146 177.9956,-38.2531 170.7534,-45.9862 177.1565,-48.8146\"/>\n",
       "</g>\n",
       "<!-- 3 -->\n",
       "<g id=\"node8\" class=\"node\">\n",
       "<title>3</title>\n",
       "<path fill=\"#6bb6ec\" stroke=\"#000000\" d=\"M305,-119.5C305,-119.5 260,-119.5 260,-119.5 254,-119.5 248,-113.5 248,-107.5 248,-107.5 248,-93.5 248,-93.5 248,-87.5 254,-81.5 260,-81.5 260,-81.5 305,-81.5 305,-81.5 311,-81.5 317,-87.5 317,-93.5 317,-93.5 317,-107.5 317,-107.5 317,-113.5 311,-119.5 305,-119.5\"/>\n",
       "<text text-anchor=\"middle\" x=\"282.5\" y=\"-104.3\" font-family=\"Helvetica,sans-Serif\" font-size=\"14.00\" fill=\"#000000\">281</text>\n",
       "<text text-anchor=\"middle\" x=\"282.5\" y=\"-89.3\" font-family=\"Helvetica,sans-Serif\" font-size=\"14.00\" fill=\"#000000\">[57, 224]</text>\n",
       "</g>\n",
       "<!-- 2&#45;&gt;3 -->\n",
       "<g id=\"edge7\" class=\"edge\">\n",
       "<title>2&#45;&gt;3</title>\n",
       "<path fill=\"none\" stroke=\"#000000\" d=\"M288.0997,-162.7971C287.1608,-152.3518 286.0812,-140.3403 285.1219,-129.6689\"/>\n",
       "<polygon fill=\"#000000\" stroke=\"#000000\" points=\"288.5938,-129.1982 284.2125,-119.5518 281.6219,-129.825 288.5938,-129.1982\"/>\n",
       "</g>\n",
       "<!-- 4 -->\n",
       "<g id=\"node9\" class=\"node\">\n",
       "<title>4</title>\n",
       "<path fill=\"#efb083\" stroke=\"#000000\" d=\"M377.5,-119.5C377.5,-119.5 347.5,-119.5 347.5,-119.5 341.5,-119.5 335.5,-113.5 335.5,-107.5 335.5,-107.5 335.5,-93.5 335.5,-93.5 335.5,-87.5 341.5,-81.5 347.5,-81.5 347.5,-81.5 377.5,-81.5 377.5,-81.5 383.5,-81.5 389.5,-87.5 389.5,-93.5 389.5,-93.5 389.5,-107.5 389.5,-107.5 389.5,-113.5 383.5,-119.5 377.5,-119.5\"/>\n",
       "<text text-anchor=\"middle\" x=\"362.5\" y=\"-104.3\" font-family=\"Helvetica,sans-Serif\" font-size=\"14.00\" fill=\"#000000\">33</text>\n",
       "<text text-anchor=\"middle\" x=\"362.5\" y=\"-89.3\" font-family=\"Helvetica,sans-Serif\" font-size=\"14.00\" fill=\"#000000\">[24, 9]</text>\n",
       "</g>\n",
       "<!-- 2&#45;&gt;4 -->\n",
       "<g id=\"edge8\" class=\"edge\">\n",
       "<title>2&#45;&gt;4</title>\n",
       "<path fill=\"none\" stroke=\"#000000\" d=\"M312.1024,-162.7971C321.1686,-151.5902 331.6935,-138.5803 340.773,-127.357\"/>\n",
       "<polygon fill=\"#000000\" stroke=\"#000000\" points=\"343.5189,-129.5276 347.0873,-119.5518 338.0767,-125.1249 343.5189,-129.5276\"/>\n",
       "</g>\n",
       "</g>\n",
       "</svg>\n"
      ],
      "text/plain": [
       "<graphviz.files.Source at 0x7f2bdc8adf28>"
      ]
     },
     "execution_count": 10,
     "metadata": {},
     "output_type": "execute_result"
    }
   ],
   "source": [
    "dot_data = export_graphviz(dtree, out_file=None, feature_names=X_prime.columns,\n",
    "                                label=None, filled=True, impurity=False,\n",
    "                                rounded=True)\n",
    "pydot_graph = pydotplus.graph_from_dot_data(dot_data)\n",
    "\n",
    "# adjust the plot size\n",
    "pydot_graph.set_size('\"6,4!\"')\n",
    "\n",
    "# display the Decision Treee\n",
    "Source(pydot_graph.to_string())"
   ]
  },
  {
   "cell_type": "markdown",
   "metadata": {},
   "source": [
    "### Tree Interpretation\n",
    "The left branch is always True, the right is always False.  \n",
    "'Master' is the title given to boys.  \n",
    "Sex == 0  => male  \n",
    "Sex == 1  => female  \n",
    "Title_Master == 0  => title is not 'Master'  \n",
    "Title_Master == 1  => title is 'Master'  \n",
    "\n",
    "Rules in above Tree:\n",
    "1. males that have a title of Master\n",
    "   * from small families, 100% survived\n",
    "   * from large families,   6% survived\n",
    "2. males without the title of Master, 16% survived\n",
    "3. women\n",
    "   * from small families, 80% survived\n",
    "   * from large families, 27% survived\n",
    "\n",
    "\"Small Family\" is used above to mean a size of 4 or less.\n",
    "\"Large Family\" is used above to mean a size of 5 or more.\n",
    "\n",
    "Crew members were ordered to give women and children preference, so the above is reasonable.\n",
    "\n",
    "87% of people from large families were 3rd class passengers, which helps to explain why so few members of large families survived."
   ]
  },
  {
   "cell_type": "code",
   "execution_count": 27,
   "metadata": {},
   "outputs": [
    {
     "data": {
      "text/plain": [
       "3    54\n",
       "1     6\n",
       "2     2\n",
       "Name: Pclass, dtype: int64"
      ]
     },
     "execution_count": 27,
     "metadata": {},
     "output_type": "execute_result"
    }
   ],
   "source": [
    "X[X['family_size'] > 4]['Pclass'].value_counts()"
   ]
  },
  {
   "cell_type": "markdown",
   "metadata": {},
   "source": [
    "### Use 4 Features with 7 Leaf Notes"
   ]
  },
  {
   "cell_type": "code",
   "execution_count": 13,
   "metadata": {},
   "outputs": [
    {
     "data": {
      "text/plain": [
       "1001"
      ]
     },
     "execution_count": 13,
     "metadata": {},
     "output_type": "execute_result"
    }
   ],
   "source": [
    "# get all possible combinations of the 14 fields taken 4 at a time\n",
    "subsets = list(itertools.combinations(X.columns, r=4))\n",
    "len(subsets)"
   ]
  },
  {
   "cell_type": "code",
   "execution_count": 14,
   "metadata": {},
   "outputs": [],
   "source": [
    "results = []\n",
    "for s in subsets:\n",
    "    \n",
    "    cols_returned, ct = tt.get_ct_bycolumn(list(s))    \n",
    "    dtree = DecisionTreeClassifier(max_leaf_nodes=7, random_state=707)\n",
    "    pipe = Pipeline([('ct', ct), ('dtree', dtree)])\n",
    "    scores = cross_val_score(pipe, X, y, cv=cv_select)\n",
    "    results.append((scores.mean(), scores.std(), s))\n",
    "    \n",
    "results4_df = pd.DataFrame(results, columns=['scores', 'sd', 'vars'])    "
   ]
  },
  {
   "cell_type": "code",
   "execution_count": 19,
   "metadata": {},
   "outputs": [
    {
     "data": {
      "text/html": [
       "<div>\n",
       "<style scoped>\n",
       "    .dataframe tbody tr th:only-of-type {\n",
       "        vertical-align: middle;\n",
       "    }\n",
       "\n",
       "    .dataframe tbody tr th {\n",
       "        vertical-align: top;\n",
       "    }\n",
       "\n",
       "    .dataframe thead th {\n",
       "        text-align: right;\n",
       "    }\n",
       "</style>\n",
       "<table border=\"1\" class=\"dataframe\">\n",
       "  <thead>\n",
       "    <tr style=\"text-align: right;\">\n",
       "      <th></th>\n",
       "      <th>scores</th>\n",
       "      <th>sd</th>\n",
       "      <th>vars</th>\n",
       "    </tr>\n",
       "  </thead>\n",
       "  <tbody>\n",
       "    <tr>\n",
       "      <th>817</th>\n",
       "      <td>0.828615</td>\n",
       "      <td>0.014045</td>\n",
       "      <td>(family_size, is_cabin_notnull, Title_Mr, Titl...</td>\n",
       "    </tr>\n",
       "    <tr>\n",
       "      <th>25</th>\n",
       "      <td>0.828508</td>\n",
       "      <td>0.016442</td>\n",
       "      <td>(Pclass, Sex, family_size, Title_Master)</td>\n",
       "    </tr>\n",
       "    <tr>\n",
       "      <th>396</th>\n",
       "      <td>0.827043</td>\n",
       "      <td>0.015014</td>\n",
       "      <td>(Sex, family_size, Port_C, Title_Master)</td>\n",
       "    </tr>\n",
       "    <tr>\n",
       "      <th>420</th>\n",
       "      <td>0.826931</td>\n",
       "      <td>0.013509</td>\n",
       "      <td>(Sex, family_size, Title_Mr, Title_Other)</td>\n",
       "    </tr>\n",
       "    <tr>\n",
       "      <th>413</th>\n",
       "      <td>0.826595</td>\n",
       "      <td>0.013179</td>\n",
       "      <td>(Sex, family_size, Title_Master, Title_Mr)</td>\n",
       "    </tr>\n",
       "  </tbody>\n",
       "</table>\n",
       "</div>"
      ],
      "text/plain": [
       "       scores        sd                                               vars\n",
       "817  0.828615  0.014045  (family_size, is_cabin_notnull, Title_Mr, Titl...\n",
       "25   0.828508  0.016442           (Pclass, Sex, family_size, Title_Master)\n",
       "396  0.827043  0.015014           (Sex, family_size, Port_C, Title_Master)\n",
       "420  0.826931  0.013509          (Sex, family_size, Title_Mr, Title_Other)\n",
       "413  0.826595  0.013179         (Sex, family_size, Title_Master, Title_Mr)"
      ]
     },
     "execution_count": 19,
     "metadata": {},
     "output_type": "execute_result"
    }
   ],
   "source": [
    "results4_df.nlargest(n=5, columns=['scores'])"
   ]
  },
  {
   "cell_type": "code",
   "execution_count": 24,
   "metadata": {},
   "outputs": [
    {
     "data": {
      "text/plain": [
       "817    (family_size, is_cabin_notnull, Title_Mr, Title_Other)\n",
       "25                   (Pclass, Sex, family_size, Title_Master)\n",
       "Name: vars, dtype: object"
      ]
     },
     "execution_count": 24,
     "metadata": {},
     "output_type": "execute_result"
    }
   ],
   "source": [
    "pd.set_option('max_colwidth', 55)\n",
    "results4_df.nlargest(n=2, columns=['scores'])['vars']"
   ]
  },
  {
   "cell_type": "markdown",
   "metadata": {},
   "source": [
    "The top two scores are nearly identical.  The second set of variables is easier to interpret.\n",
    "\n",
    "Recreate the second best tree and fit it to all the data."
   ]
  },
  {
   "cell_type": "code",
   "execution_count": 25,
   "metadata": {},
   "outputs": [
    {
     "name": "stdout",
     "output_type": "stream",
     "text": [
      "20 Scores  min:0.791 max:0.859\n",
      "CV Mean Score: 0.829 +/- 0.016\n"
     ]
    }
   ],
   "source": [
    "dtree = DecisionTreeClassifier(max_leaf_nodes=7, random_state=707)\n",
    "\n",
    "X_prime = X[['Pclass', 'Sex', 'family_size', 'Title_Master']]\n",
    "scores = cross_val_score(dtree, X_prime, y, cv=cv_select)\n",
    "tt.print_scores(scores)\n",
    "\n",
    "dtree.fit(X_prime, y);"
   ]
  },
  {
   "cell_type": "code",
   "execution_count": 26,
   "metadata": {},
   "outputs": [
    {
     "data": {
      "image/svg+xml": [
       "<?xml version=\"1.0\" encoding=\"UTF-8\" standalone=\"no\"?>\n",
       "<!DOCTYPE svg PUBLIC \"-//W3C//DTD SVG 1.1//EN\"\n",
       " \"http://www.w3.org/Graphics/SVG/1.1/DTD/svg11.dtd\">\n",
       "<!-- Generated by graphviz version 2.40.1 (20161225.0304)\n",
       " -->\n",
       "<!-- Title: Tree Pages: 1 -->\n",
       "<svg width=\"432pt\" height=\"249pt\"\n",
       " viewBox=\"0.00 0.00 432.00 249.02\" xmlns=\"http://www.w3.org/2000/svg\" xmlns:xlink=\"http://www.w3.org/1999/xlink\">\n",
       "<g id=\"graph0\" class=\"graph\" transform=\"scale(.7956 .7956) rotate(0) translate(4 309)\">\n",
       "<title>Tree</title>\n",
       "<polygon fill=\"#ffffff\" stroke=\"transparent\" points=\"-4,4 -4,-309 539,-309 539,4 -4,4\"/>\n",
       "<!-- 0 -->\n",
       "<g id=\"node1\" class=\"node\">\n",
       "<title>0</title>\n",
       "<path fill=\"#f5cfb4\" stroke=\"#000000\" d=\"M323.5,-305C323.5,-305 264.5,-305 264.5,-305 258.5,-305 252.5,-299 252.5,-293 252.5,-293 252.5,-264 252.5,-264 252.5,-258 258.5,-252 264.5,-252 264.5,-252 323.5,-252 323.5,-252 329.5,-252 335.5,-258 335.5,-264 335.5,-264 335.5,-293 335.5,-293 335.5,-299 329.5,-305 323.5,-305\"/>\n",
       "<text text-anchor=\"middle\" x=\"294\" y=\"-289.8\" font-family=\"Helvetica,sans-Serif\" font-size=\"14.00\" fill=\"#000000\">Sex &lt;= 0.5</text>\n",
       "<text text-anchor=\"middle\" x=\"294\" y=\"-274.8\" font-family=\"Helvetica,sans-Serif\" font-size=\"14.00\" fill=\"#000000\">891</text>\n",
       "<text text-anchor=\"middle\" x=\"294\" y=\"-259.8\" font-family=\"Helvetica,sans-Serif\" font-size=\"14.00\" fill=\"#000000\">[549, 342]</text>\n",
       "</g>\n",
       "<!-- 1 -->\n",
       "<g id=\"node2\" class=\"node\">\n",
       "<title>1</title>\n",
       "<path fill=\"#eb9e67\" stroke=\"#000000\" d=\"M282,-216C282,-216 172,-216 172,-216 166,-216 160,-210 160,-204 160,-204 160,-175 160,-175 160,-169 166,-163 172,-163 172,-163 282,-163 282,-163 288,-163 294,-169 294,-175 294,-175 294,-204 294,-204 294,-210 288,-216 282,-216\"/>\n",
       "<text text-anchor=\"middle\" x=\"227\" y=\"-200.8\" font-family=\"Helvetica,sans-Serif\" font-size=\"14.00\" fill=\"#000000\">Title_Master &lt;= 0.5</text>\n",
       "<text text-anchor=\"middle\" x=\"227\" y=\"-185.8\" font-family=\"Helvetica,sans-Serif\" font-size=\"14.00\" fill=\"#000000\">577</text>\n",
       "<text text-anchor=\"middle\" x=\"227\" y=\"-170.8\" font-family=\"Helvetica,sans-Serif\" font-size=\"14.00\" fill=\"#000000\">[468, 109]</text>\n",
       "</g>\n",
       "<!-- 0&#45;&gt;1 -->\n",
       "<g id=\"edge1\" class=\"edge\">\n",
       "<title>0&#45;&gt;1</title>\n",
       "<path fill=\"none\" stroke=\"#000000\" d=\"M273.8978,-251.7971C267.4053,-243.1727 260.109,-233.4806 253.2404,-224.3566\"/>\n",
       "<polygon fill=\"#000000\" stroke=\"#000000\" points=\"255.8986,-222.0683 247.088,-216.1841 250.3062,-226.2784 255.8986,-222.0683\"/>\n",
       "<text text-anchor=\"middle\" x=\"243.5969\" y=\"-237.2391\" font-family=\"Helvetica,sans-Serif\" font-size=\"14.00\" fill=\"#000000\">True</text>\n",
       "</g>\n",
       "<!-- 2 -->\n",
       "<g id=\"node9\" class=\"node\">\n",
       "<title>2</title>\n",
       "<path fill=\"#7ebfee\" stroke=\"#000000\" d=\"M399.5,-216C399.5,-216 324.5,-216 324.5,-216 318.5,-216 312.5,-210 312.5,-204 312.5,-204 312.5,-175 312.5,-175 312.5,-169 318.5,-163 324.5,-163 324.5,-163 399.5,-163 399.5,-163 405.5,-163 411.5,-169 411.5,-175 411.5,-175 411.5,-204 411.5,-204 411.5,-210 405.5,-216 399.5,-216\"/>\n",
       "<text text-anchor=\"middle\" x=\"362\" y=\"-200.8\" font-family=\"Helvetica,sans-Serif\" font-size=\"14.00\" fill=\"#000000\">Pclass &lt;= 2.5</text>\n",
       "<text text-anchor=\"middle\" x=\"362\" y=\"-185.8\" font-family=\"Helvetica,sans-Serif\" font-size=\"14.00\" fill=\"#000000\">314</text>\n",
       "<text text-anchor=\"middle\" x=\"362\" y=\"-170.8\" font-family=\"Helvetica,sans-Serif\" font-size=\"14.00\" fill=\"#000000\">[81, 233]</text>\n",
       "</g>\n",
       "<!-- 0&#45;&gt;2 -->\n",
       "<g id=\"edge8\" class=\"edge\">\n",
       "<title>0&#45;&gt;2</title>\n",
       "<path fill=\"none\" stroke=\"#000000\" d=\"M314.4022,-251.7971C320.9916,-243.1727 328.3969,-233.4806 335.368,-224.3566\"/>\n",
       "<polygon fill=\"#000000\" stroke=\"#000000\" points=\"338.3221,-226.2551 341.6122,-216.1841 332.7598,-222.0053 338.3221,-226.2551\"/>\n",
       "<text text-anchor=\"middle\" x=\"344.9266\" y=\"-237.2634\" font-family=\"Helvetica,sans-Serif\" font-size=\"14.00\" fill=\"#000000\">False</text>\n",
       "</g>\n",
       "<!-- 5 -->\n",
       "<g id=\"node3\" class=\"node\">\n",
       "<title>5</title>\n",
       "<path fill=\"#ea995f\" stroke=\"#000000\" d=\"M139.5,-127C139.5,-127 64.5,-127 64.5,-127 58.5,-127 52.5,-121 52.5,-115 52.5,-115 52.5,-86 52.5,-86 52.5,-80 58.5,-74 64.5,-74 64.5,-74 139.5,-74 139.5,-74 145.5,-74 151.5,-80 151.5,-86 151.5,-86 151.5,-115 151.5,-115 151.5,-121 145.5,-127 139.5,-127\"/>\n",
       "<text text-anchor=\"middle\" x=\"102\" y=\"-111.8\" font-family=\"Helvetica,sans-Serif\" font-size=\"14.00\" fill=\"#000000\">Pclass &lt;= 1.5</text>\n",
       "<text text-anchor=\"middle\" x=\"102\" y=\"-96.8\" font-family=\"Helvetica,sans-Serif\" font-size=\"14.00\" fill=\"#000000\">537</text>\n",
       "<text text-anchor=\"middle\" x=\"102\" y=\"-81.8\" font-family=\"Helvetica,sans-Serif\" font-size=\"14.00\" fill=\"#000000\">[451, 86]</text>\n",
       "</g>\n",
       "<!-- 1&#45;&gt;5 -->\n",
       "<g id=\"edge2\" class=\"edge\">\n",
       "<title>1&#45;&gt;5</title>\n",
       "<path fill=\"none\" stroke=\"#000000\" d=\"M189.4959,-162.7971C176.3942,-153.4687 161.538,-142.8911 147.8348,-133.1344\"/>\n",
       "<polygon fill=\"#000000\" stroke=\"#000000\" points=\"149.6538,-130.133 139.4777,-127.1841 145.5938,-135.8353 149.6538,-130.133\"/>\n",
       "</g>\n",
       "<!-- 6 -->\n",
       "<g id=\"node6\" class=\"node\">\n",
       "<title>6</title>\n",
       "<path fill=\"#cbe5f8\" stroke=\"#000000\" d=\"M284.5,-127C284.5,-127 181.5,-127 181.5,-127 175.5,-127 169.5,-121 169.5,-115 169.5,-115 169.5,-86 169.5,-86 169.5,-80 175.5,-74 181.5,-74 181.5,-74 284.5,-74 284.5,-74 290.5,-74 296.5,-80 296.5,-86 296.5,-86 296.5,-115 296.5,-115 296.5,-121 290.5,-127 284.5,-127\"/>\n",
       "<text text-anchor=\"middle\" x=\"233\" y=\"-111.8\" font-family=\"Helvetica,sans-Serif\" font-size=\"14.00\" fill=\"#000000\">family_size &lt;= 4.5</text>\n",
       "<text text-anchor=\"middle\" x=\"233\" y=\"-96.8\" font-family=\"Helvetica,sans-Serif\" font-size=\"14.00\" fill=\"#000000\">40</text>\n",
       "<text text-anchor=\"middle\" x=\"233\" y=\"-81.8\" font-family=\"Helvetica,sans-Serif\" font-size=\"14.00\" fill=\"#000000\">[17, 23]</text>\n",
       "</g>\n",
       "<!-- 1&#45;&gt;6 -->\n",
       "<g id=\"edge5\" class=\"edge\">\n",
       "<title>1&#45;&gt;6</title>\n",
       "<path fill=\"none\" stroke=\"#000000\" d=\"M228.8002,-162.7971C229.3401,-154.7887 229.942,-145.8597 230.5178,-137.3198\"/>\n",
       "<polygon fill=\"#000000\" stroke=\"#000000\" points=\"234.0204,-137.3969 231.2011,-127.1841 227.0363,-136.926 234.0204,-137.3969\"/>\n",
       "</g>\n",
       "<!-- 9 -->\n",
       "<g id=\"node4\" class=\"node\">\n",
       "<title>9</title>\n",
       "<path fill=\"#f3c6a5\" stroke=\"#000000\" d=\"M50,-38C50,-38 12,-38 12,-38 6,-38 0,-32 0,-26 0,-26 0,-12 0,-12 0,-6 6,0 12,0 12,0 50,0 50,0 56,0 62,-6 62,-12 62,-12 62,-26 62,-26 62,-32 56,-38 50,-38\"/>\n",
       "<text text-anchor=\"middle\" x=\"31\" y=\"-22.8\" font-family=\"Helvetica,sans-Serif\" font-size=\"14.00\" fill=\"#000000\">119</text>\n",
       "<text text-anchor=\"middle\" x=\"31\" y=\"-7.8\" font-family=\"Helvetica,sans-Serif\" font-size=\"14.00\" fill=\"#000000\">[77, 42]</text>\n",
       "</g>\n",
       "<!-- 5&#45;&gt;9 -->\n",
       "<g id=\"edge3\" class=\"edge\">\n",
       "<title>5&#45;&gt;9</title>\n",
       "<path fill=\"none\" stroke=\"#000000\" d=\"M78.7519,-73.8139C70.932,-64.8374 62.208,-54.8233 54.3781,-45.8354\"/>\n",
       "<polygon fill=\"#000000\" stroke=\"#000000\" points=\"56.9803,-43.4941 47.7726,-38.2531 51.7023,-48.0922 56.9803,-43.4941\"/>\n",
       "</g>\n",
       "<!-- 10 -->\n",
       "<g id=\"node5\" class=\"node\">\n",
       "<title>10</title>\n",
       "<path fill=\"#e89050\" stroke=\"#000000\" d=\"M137.5,-38C137.5,-38 92.5,-38 92.5,-38 86.5,-38 80.5,-32 80.5,-26 80.5,-26 80.5,-12 80.5,-12 80.5,-6 86.5,0 92.5,0 92.5,0 137.5,0 137.5,0 143.5,0 149.5,-6 149.5,-12 149.5,-12 149.5,-26 149.5,-26 149.5,-32 143.5,-38 137.5,-38\"/>\n",
       "<text text-anchor=\"middle\" x=\"115\" y=\"-22.8\" font-family=\"Helvetica,sans-Serif\" font-size=\"14.00\" fill=\"#000000\">418</text>\n",
       "<text text-anchor=\"middle\" x=\"115\" y=\"-7.8\" font-family=\"Helvetica,sans-Serif\" font-size=\"14.00\" fill=\"#000000\">[374, 44]</text>\n",
       "</g>\n",
       "<!-- 5&#45;&gt;10 -->\n",
       "<g id=\"edge4\" class=\"edge\">\n",
       "<title>5&#45;&gt;10</title>\n",
       "<path fill=\"none\" stroke=\"#000000\" d=\"M106.2567,-73.8139C107.5583,-65.6535 108.9968,-56.6354 110.3247,-48.3105\"/>\n",
       "<polygon fill=\"#000000\" stroke=\"#000000\" points=\"113.81,-48.6796 111.929,-38.2531 106.8974,-47.5769 113.81,-48.6796\"/>\n",
       "</g>\n",
       "<!-- 7 -->\n",
       "<g id=\"node7\" class=\"node\">\n",
       "<title>7</title>\n",
       "<path fill=\"#399de5\" stroke=\"#000000\" d=\"M235,-38C235,-38 205,-38 205,-38 199,-38 193,-32 193,-26 193,-26 193,-12 193,-12 193,-6 199,0 205,0 205,0 235,0 235,0 241,0 247,-6 247,-12 247,-12 247,-26 247,-26 247,-32 241,-38 235,-38\"/>\n",
       "<text text-anchor=\"middle\" x=\"220\" y=\"-22.8\" font-family=\"Helvetica,sans-Serif\" font-size=\"14.00\" fill=\"#000000\">22</text>\n",
       "<text text-anchor=\"middle\" x=\"220\" y=\"-7.8\" font-family=\"Helvetica,sans-Serif\" font-size=\"14.00\" fill=\"#000000\">[0, 22]</text>\n",
       "</g>\n",
       "<!-- 6&#45;&gt;7 -->\n",
       "<g id=\"edge6\" class=\"edge\">\n",
       "<title>6&#45;&gt;7</title>\n",
       "<path fill=\"none\" stroke=\"#000000\" d=\"M228.7433,-73.8139C227.4417,-65.6535 226.0032,-56.6354 224.6753,-48.3105\"/>\n",
       "<polygon fill=\"#000000\" stroke=\"#000000\" points=\"228.1026,-47.5769 223.071,-38.2531 221.19,-48.6796 228.1026,-47.5769\"/>\n",
       "</g>\n",
       "<!-- 8 -->\n",
       "<g id=\"node8\" class=\"node\">\n",
       "<title>8</title>\n",
       "<path fill=\"#e78845\" stroke=\"#000000\" d=\"M307,-38C307,-38 277,-38 277,-38 271,-38 265,-32 265,-26 265,-26 265,-12 265,-12 265,-6 271,0 277,0 277,0 307,0 307,0 313,0 319,-6 319,-12 319,-12 319,-26 319,-26 319,-32 313,-38 307,-38\"/>\n",
       "<text text-anchor=\"middle\" x=\"292\" y=\"-22.8\" font-family=\"Helvetica,sans-Serif\" font-size=\"14.00\" fill=\"#000000\">18</text>\n",
       "<text text-anchor=\"middle\" x=\"292\" y=\"-7.8\" font-family=\"Helvetica,sans-Serif\" font-size=\"14.00\" fill=\"#000000\">[17, 1]</text>\n",
       "</g>\n",
       "<!-- 6&#45;&gt;8 -->\n",
       "<g id=\"edge7\" class=\"edge\">\n",
       "<title>6&#45;&gt;8</title>\n",
       "<path fill=\"none\" stroke=\"#000000\" d=\"M252.3188,-73.8139C258.6858,-65.0188 265.774,-55.2274 272.1779,-46.3814\"/>\n",
       "<polygon fill=\"#000000\" stroke=\"#000000\" points=\"275.0333,-48.4057 278.0622,-38.2531 269.3631,-44.3009 275.0333,-48.4057\"/>\n",
       "</g>\n",
       "<!-- 3 -->\n",
       "<g id=\"node10\" class=\"node\">\n",
       "<title>3</title>\n",
       "<path fill=\"#44a2e6\" stroke=\"#000000\" d=\"M376,-119.5C376,-119.5 338,-119.5 338,-119.5 332,-119.5 326,-113.5 326,-107.5 326,-107.5 326,-93.5 326,-93.5 326,-87.5 332,-81.5 338,-81.5 338,-81.5 376,-81.5 376,-81.5 382,-81.5 388,-87.5 388,-93.5 388,-93.5 388,-107.5 388,-107.5 388,-113.5 382,-119.5 376,-119.5\"/>\n",
       "<text text-anchor=\"middle\" x=\"357\" y=\"-104.3\" font-family=\"Helvetica,sans-Serif\" font-size=\"14.00\" fill=\"#000000\">170</text>\n",
       "<text text-anchor=\"middle\" x=\"357\" y=\"-89.3\" font-family=\"Helvetica,sans-Serif\" font-size=\"14.00\" fill=\"#000000\">[9, 161]</text>\n",
       "</g>\n",
       "<!-- 2&#45;&gt;3 -->\n",
       "<g id=\"edge9\" class=\"edge\">\n",
       "<title>2&#45;&gt;3</title>\n",
       "<path fill=\"none\" stroke=\"#000000\" d=\"M360.4998,-162.7971C359.913,-152.3518 359.2382,-140.3403 358.6387,-129.6689\"/>\n",
       "<polygon fill=\"#000000\" stroke=\"#000000\" points=\"362.1258,-129.3397 358.0703,-119.5518 355.1368,-129.7324 362.1258,-129.3397\"/>\n",
       "</g>\n",
       "<!-- 4 -->\n",
       "<g id=\"node11\" class=\"node\">\n",
       "<title>4</title>\n",
       "<path fill=\"#ffffff\" stroke=\"#000000\" d=\"M521.5,-127C521.5,-127 418.5,-127 418.5,-127 412.5,-127 406.5,-121 406.5,-115 406.5,-115 406.5,-86 406.5,-86 406.5,-80 412.5,-74 418.5,-74 418.5,-74 521.5,-74 521.5,-74 527.5,-74 533.5,-80 533.5,-86 533.5,-86 533.5,-115 533.5,-115 533.5,-121 527.5,-127 521.5,-127\"/>\n",
       "<text text-anchor=\"middle\" x=\"470\" y=\"-111.8\" font-family=\"Helvetica,sans-Serif\" font-size=\"14.00\" fill=\"#000000\">family_size &lt;= 4.5</text>\n",
       "<text text-anchor=\"middle\" x=\"470\" y=\"-96.8\" font-family=\"Helvetica,sans-Serif\" font-size=\"14.00\" fill=\"#000000\">144</text>\n",
       "<text text-anchor=\"middle\" x=\"470\" y=\"-81.8\" font-family=\"Helvetica,sans-Serif\" font-size=\"14.00\" fill=\"#000000\">[72, 72]</text>\n",
       "</g>\n",
       "<!-- 2&#45;&gt;4 -->\n",
       "<g id=\"edge10\" class=\"edge\">\n",
       "<title>2&#45;&gt;4</title>\n",
       "<path fill=\"none\" stroke=\"#000000\" d=\"M394.4036,-162.7971C405.5098,-153.6447 418.0753,-143.2898 429.7275,-133.6875\"/>\n",
       "<polygon fill=\"#000000\" stroke=\"#000000\" points=\"432.1279,-136.2447 437.6193,-127.1841 427.6762,-130.8427 432.1279,-136.2447\"/>\n",
       "</g>\n",
       "<!-- 11 -->\n",
       "<g id=\"node12\" class=\"node\">\n",
       "<title>11</title>\n",
       "<path fill=\"#c3e1f7\" stroke=\"#000000\" d=\"M451,-38C451,-38 413,-38 413,-38 407,-38 401,-32 401,-26 401,-26 401,-12 401,-12 401,-6 407,0 413,0 413,0 451,0 451,0 457,0 463,-6 463,-12 463,-12 463,-26 463,-26 463,-32 457,-38 451,-38\"/>\n",
       "<text text-anchor=\"middle\" x=\"432\" y=\"-22.8\" font-family=\"Helvetica,sans-Serif\" font-size=\"14.00\" fill=\"#000000\">117</text>\n",
       "<text text-anchor=\"middle\" x=\"432\" y=\"-7.8\" font-family=\"Helvetica,sans-Serif\" font-size=\"14.00\" fill=\"#000000\">[48, 69]</text>\n",
       "</g>\n",
       "<!-- 4&#45;&gt;11 -->\n",
       "<g id=\"edge11\" class=\"edge\">\n",
       "<title>4&#45;&gt;11</title>\n",
       "<path fill=\"none\" stroke=\"#000000\" d=\"M457.5574,-73.8139C453.6257,-65.3815 449.2671,-56.0333 445.2792,-47.4804\"/>\n",
       "<polygon fill=\"#000000\" stroke=\"#000000\" points=\"448.3749,-45.8373 440.9769,-38.2531 442.0306,-48.7954 448.3749,-45.8373\"/>\n",
       "</g>\n",
       "<!-- 12 -->\n",
       "<g id=\"node13\" class=\"node\">\n",
       "<title>12</title>\n",
       "<path fill=\"#e89152\" stroke=\"#000000\" d=\"M523,-38C523,-38 493,-38 493,-38 487,-38 481,-32 481,-26 481,-26 481,-12 481,-12 481,-6 487,0 493,0 493,0 523,0 523,0 529,0 535,-6 535,-12 535,-12 535,-26 535,-26 535,-32 529,-38 523,-38\"/>\n",
       "<text text-anchor=\"middle\" x=\"508\" y=\"-22.8\" font-family=\"Helvetica,sans-Serif\" font-size=\"14.00\" fill=\"#000000\">27</text>\n",
       "<text text-anchor=\"middle\" x=\"508\" y=\"-7.8\" font-family=\"Helvetica,sans-Serif\" font-size=\"14.00\" fill=\"#000000\">[24, 3]</text>\n",
       "</g>\n",
       "<!-- 4&#45;&gt;12 -->\n",
       "<g id=\"edge12\" class=\"edge\">\n",
       "<title>4&#45;&gt;12</title>\n",
       "<path fill=\"none\" stroke=\"#000000\" d=\"M482.4426,-73.8139C486.3743,-65.3815 490.7329,-56.0333 494.7208,-47.4804\"/>\n",
       "<polygon fill=\"#000000\" stroke=\"#000000\" points=\"497.9694,-48.7954 499.0231,-38.2531 491.6251,-45.8373 497.9694,-48.7954\"/>\n",
       "</g>\n",
       "</g>\n",
       "</svg>\n"
      ],
      "text/plain": [
       "<graphviz.files.Source at 0x7f2bdc810c50>"
      ]
     },
     "execution_count": 26,
     "metadata": {},
     "output_type": "execute_result"
    }
   ],
   "source": [
    "dot_data = export_graphviz(dtree, out_file=None, feature_names=X_prime.columns,\n",
    "                                label=None, filled=True, impurity=False,\n",
    "                                rounded=True)\n",
    "pydot_graph = pydotplus.graph_from_dot_data(dot_data)\n",
    "\n",
    "# adjust the plot size\n",
    "pydot_graph.set_size('\"6,4!\"')\n",
    "\n",
    "# display the Decision Treee\n",
    "Source(pydot_graph.to_string())"
   ]
  },
  {
   "cell_type": "markdown",
   "metadata": {},
   "source": [
    "### Tree Interpretation\n",
    "Rules in above Tree:\n",
    "1. Males without the title of 'Master'\n",
    "   * in first class, 35% survived\n",
    "   * in second or third class, 11% survived\n",
    "2. Males with the title of 'Master'\n",
    "   * from small families, 100% survived\n",
    "   * from large families, 6% survived\n",
    "3. Women in first or second class, 95% survived\n",
    "4. Women in third class\n",
    "   * from small families, 59% survived\n",
    "   * from large families, 11% survived\n",
    "   \n",
    "The above tree performs about the same as the first tree, but gives some further insights.  Family Size is not just a surrogate for 3rd class, as women in 3rd class had very different survival rates depending upon whether or not they were from large families.\n",
    "\n",
    "It appears that families stayed together.  There were insufficient life boats with insufficient room.  If families stayed together, then a large family would have found it difficult to board a life boat as an entire family."
   ]
  },
  {
   "cell_type": "markdown",
   "metadata": {},
   "source": [
    "## Notebook Summary\n",
    "An small, easy to interpret, accurate DecisionTree was created to better understand the Titanic data."
   ]
  }
 ],
 "metadata": {
  "kernelspec": {
   "display_name": "Python 3",
   "language": "python",
   "name": "python3"
  },
  "language_info": {
   "codemirror_mode": {
    "name": "ipython",
    "version": 3
   },
   "file_extension": ".py",
   "mimetype": "text/x-python",
   "name": "python",
   "nbconvert_exporter": "python",
   "pygments_lexer": "ipython3",
   "version": "3.7.3"
  }
 },
 "nbformat": 4,
 "nbformat_minor": 2
}
