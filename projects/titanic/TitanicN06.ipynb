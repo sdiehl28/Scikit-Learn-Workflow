{
 "cells": [
  {
   "cell_type": "markdown",
   "metadata": {},
   "source": [
    "# Model Building: Iteration 3<br/>*Using ColumnTransformer*"
   ]
  },
  {
   "cell_type": "markdown",
   "metadata": {},
   "source": [
    "### Goals\n",
    "1. Use ColumnTransformer to apply different transforms to different columns.\n",
    "2. Try the proposed features from the EDA notebook\n",
    "3. Check if model accuracy has improved\n",
    "4. Wrap IterativeImputer for use with ColumnTransformer\n",
    "5. Check if model accuracy has improved\n",
    "\n",
    "After this notebook, the only variables left untried will be Embarked and title, both of which require dummy encoding to use well."
   ]
  },
  {
   "cell_type": "markdown",
   "metadata": {
    "toc-hr-collapsed": false
   },
   "source": [
    "## Pandas and Scikit Learn Workflow\n",
    "A convenient workflow might be to prepare all data with Pandas and then feed the Pandas Dataframes into Scikit Learn for creating Machine Learning models.  Unfortunately Scikit Learn does not accept Pandas DataFrames as input.\n",
    "\n",
    "For an excellent discussion of ColumnTransformer see: [From Pandas to Scikit Learn: A New Workflow](https://medium.com/dunder-data/from-pandas-to-scikit-learn-a-new-exciting-workflow-e88e2271ef62).\n",
    "\n",
    "For an excellent discussion on working effectively with Pandas, see: [Minimally Sufficient Pandas](https://medium.com/dunder-data/minimally-sufficient-pandas-a8e67f2a2428).\n",
    "\n",
    "Machine Learning primarily uses algorithms which make use of Linear Algebra.  Linear Algebra does not work with text or categorical values or missing values.\n",
    "\n",
    "Although Scikit Learn's API is well above the Linear Algebra level, nevertheless the input to the Scikit Learn estimators is a 2D numpy arrays of floats with no missing values.\n",
    "\n",
    "Converting each column to a non-missing numeric value is done with Transformers specific to each column.  ColumnTransformer is what defines which Transformers apply to which columns. "
   ]
  },
  {
   "cell_type": "markdown",
   "metadata": {},
   "source": [
    "### Common Imports and Notebook Setup"
   ]
  },
  {
   "cell_type": "code",
   "execution_count": 1,
   "metadata": {},
   "outputs": [],
   "source": [
    "import numpy as np\n",
    "import pandas as pd\n",
    "import matplotlib.pyplot as plt\n",
    "import seaborn as sns\n",
    "import sklearn as sk\n",
    "%matplotlib inline\n",
    "sns.set() # enable seaborn style\n",
    "\n",
    "import titanic_helper_code as tt"
   ]
  },
  {
   "cell_type": "code",
   "execution_count": 2,
   "metadata": {},
   "outputs": [
    {
     "name": "stdout",
     "output_type": "stream",
     "text": [
      "python:      3.7.5 (default, Oct 25 2019, 15:51:11) \n",
      "[GCC 7.3.0]\n",
      "numpy:       1.17.4\n",
      "pandas:      0.25.3\n",
      "matplotlib:  3.1.3\n",
      "seaborn:     0.9.0\n",
      "sklearn:     0.22\n",
      "Description:\tUbuntu 18.04.4 LTS\r\n"
     ]
    }
   ],
   "source": [
    "# Version Information\n",
    "import sys\n",
    "print('python:     ', sys.version)\n",
    "print('numpy:      ', np.__version__)\n",
    "print('pandas:     ', pd.__version__)\n",
    "import matplotlib\n",
    "print('matplotlib: ', matplotlib.__version__)\n",
    "print('seaborn:    ', sns.__version__)\n",
    "print('sklearn:    ', sk.__version__)\n",
    "!lsb_release -d"
   ]
  },
  {
   "cell_type": "code",
   "execution_count": 3,
   "metadata": {},
   "outputs": [],
   "source": [
    "from sklearn.linear_model import LogisticRegression, BayesianRidge\n",
    "from sklearn.metrics import accuracy_score\n",
    "from sklearn.model_selection import cross_val_score, RepeatedStratifiedKFold\n",
    "from sklearn.preprocessing import StandardScaler\n",
    "from sklearn.pipeline import Pipeline, make_pipeline\n",
    "from sklearn.preprocessing import KBinsDiscretizer\n",
    "from sklearn.compose import ColumnTransformer\n",
    "from sklearn.impute import SimpleImputer"
   ]
  },
  {
   "cell_type": "markdown",
   "metadata": {},
   "source": [
    "### Read Data\n",
    "\n",
    "Add several of the extracted features proposed during EDA."
   ]
  },
  {
   "cell_type": "code",
   "execution_count": 4,
   "metadata": {},
   "outputs": [],
   "source": [
    "# Copied from titanic_helper_code.py\n",
    "def get_Xy_v3(filename='./data/train.csv'):\n",
    "    \"\"\"Data Encoding\n",
    "\n",
    "    Version 3\n",
    "    * Pclass and Sex encoded as 1/0\n",
    "    * Age, Fare, SibSp, Parch\n",
    "    * family_size, is_cabin_notnull, is_large_family\n",
    "    * is_child, is_boy, is_sibsp_zero, is_parch_zero\n",
    "    \"\"\"\n",
    "\n",
    "    # read data\n",
    "    all_data = pd.read_csv('./data/train.csv')\n",
    "    X = all_data.drop('Survived', axis=1)\n",
    "    y = all_data['Survived']\n",
    "\n",
    "    # encode data\n",
    "    X['Sex'] = X['Sex'].replace({'female':1, 'male':0})\n",
    "    X['family_size'] = X['SibSp'] + X['Parch'] + 1\n",
    "    X['is_cabin_notnull'] = X['Cabin'].notnull()\n",
    "    X['is_large_family'] = (X['family_size'] > 4)\n",
    "    X['is_sibsp_zero'] = (X['SibSp'] == 0)\n",
    "    X['is_parch_zero'] = (X['Parch'] == 0)\n",
    "\n",
    "    # comparison with null is false\n",
    "    # so is_child and is_boy are false when age is null\n",
    "    X['is_child'] = (X['Age'] < 18)\n",
    "    X['is_boy'] = (X['Age'] < 18) & (X['Sex'] == 0)\n",
    "\n",
    "    # drop unused fields\n",
    "    drop_columns = ['PassengerId', 'Name', \n",
    "                    'Ticket', 'Embarked', 'Cabin']\n",
    "    X = X.drop(drop_columns, axis=1)\n",
    "    \n",
    "    return X, y"
   ]
  },
  {
   "cell_type": "code",
   "execution_count": 5,
   "metadata": {},
   "outputs": [],
   "source": [
    "# CV for model comparison, not model selection\n",
    "cv_select = RepeatedStratifiedKFold(n_splits=2, n_repeats=10, \n",
    "                                    random_state=108)"
   ]
  },
  {
   "cell_type": "markdown",
   "metadata": {},
   "source": [
    "### Use ColumnTransformer\n",
    "This will allow different preprocessing per variable.  See [ColumnTransformer](https://scikit-learn.org/stable/modules/generated/sklearn.compose.ColumnTransformer.html).\n",
    "\n",
    "Initially code this with SimpleImputer for Age, as that works without any additional code. Then write a wrapper around IterativeImputer for use with ColumnTransformer."
   ]
  },
  {
   "cell_type": "code",
   "execution_count": 6,
   "metadata": {},
   "outputs": [],
   "source": [
    "# Copied from titanic_helper_code.py\n",
    "def get_ct_v1():\n",
    "    \"\"\"Column Transform for Features\n",
    "\n",
    "    Version 1\n",
    "    * without Categorical Variable Encoding\n",
    "    * uses SimpleImputer for Age\n",
    "\n",
    "    Returns column names and ColumnTransform instance.\n",
    "    \"\"\"\n",
    "    \n",
    "    # For numeric columns\n",
    "    ss = StandardScaler()\n",
    "\n",
    "    # To impute age\n",
    "    si = SimpleImputer()\n",
    "\n",
    "    # quantize fare to below/above median\n",
    "    kbin = KBinsDiscretizer(n_bins=2, encode='ordinal', strategy='quantile')\n",
    "\n",
    "    # Pipelines\n",
    "    ss_pipe = Pipeline([('ss', ss)])\n",
    "    ss_si_pipe = Pipeline([('ss', ss), ('si', si)])\n",
    "    kbin_pipe = Pipeline([('kbin', kbin)])\n",
    "\n",
    "    # Columns to act on\n",
    "    ss_cols = ['Pclass', 'SibSp', 'Parch', 'Fare', 'family_size']\n",
    "    ss_si_cols = ['Age']\n",
    "    kbin_cols = ['Fare']\n",
    "    bool_cols = ['Sex', 'is_cabin_notnull', 'is_large_family', 'is_child', \n",
    "                 'is_sibsp_zero', 'is_parch_zero', 'is_boy']\n",
    "\n",
    "    transformers = [('ss_tr', ss_pipe, ss_cols),\n",
    "                    ('ss_si_tr', ss_si_pipe, ss_si_cols),\n",
    "                    ('kbin_tr', kbin_pipe, kbin_cols),\n",
    "                    ('as_is', 'passthrough', bool_cols)]\n",
    "\n",
    "    ct = ColumnTransformer(transformers=transformers)\n",
    "\n",
    "    # there is no way to access the columns by name from a pipe\n",
    "    # create a list of columns to keep track\n",
    "    cols = ss_cols + ss_si_cols + ['is_fare_high'] + bool_cols\n",
    "\n",
    "    return cols, ct"
   ]
  },
  {
   "cell_type": "code",
   "execution_count": 7,
   "metadata": {},
   "outputs": [],
   "source": [
    "X, y = tt.get_Xy_v3()\n",
    "cols, ct = tt.get_ct_v1()"
   ]
  },
  {
   "cell_type": "code",
   "execution_count": 8,
   "metadata": {},
   "outputs": [
    {
     "data": {
      "text/html": [
       "<div>\n",
       "<style scoped>\n",
       "    .dataframe tbody tr th:only-of-type {\n",
       "        vertical-align: middle;\n",
       "    }\n",
       "\n",
       "    .dataframe tbody tr th {\n",
       "        vertical-align: top;\n",
       "    }\n",
       "\n",
       "    .dataframe thead th {\n",
       "        text-align: right;\n",
       "    }\n",
       "</style>\n",
       "<table border=\"1\" class=\"dataframe\">\n",
       "  <thead>\n",
       "    <tr style=\"text-align: right;\">\n",
       "      <th></th>\n",
       "      <th>Pclass</th>\n",
       "      <th>SibSp</th>\n",
       "      <th>Parch</th>\n",
       "      <th>Fare</th>\n",
       "      <th>family_size</th>\n",
       "      <th>Age</th>\n",
       "      <th>is_fare_high</th>\n",
       "      <th>Sex</th>\n",
       "      <th>is_cabin_notnull</th>\n",
       "      <th>is_large_family</th>\n",
       "      <th>is_child</th>\n",
       "      <th>is_sibsp_zero</th>\n",
       "      <th>is_parch_zero</th>\n",
       "      <th>is_boy</th>\n",
       "    </tr>\n",
       "  </thead>\n",
       "  <tbody>\n",
       "    <tr>\n",
       "      <th>0</th>\n",
       "      <td>0.827377</td>\n",
       "      <td>0.432793</td>\n",
       "      <td>-0.473674</td>\n",
       "      <td>-0.502445</td>\n",
       "      <td>0.0591599</td>\n",
       "      <td>-0.530377</td>\n",
       "      <td>0</td>\n",
       "      <td>0</td>\n",
       "      <td>False</td>\n",
       "      <td>False</td>\n",
       "      <td>False</td>\n",
       "      <td>False</td>\n",
       "      <td>True</td>\n",
       "      <td>False</td>\n",
       "    </tr>\n",
       "    <tr>\n",
       "      <th>1</th>\n",
       "      <td>-1.56611</td>\n",
       "      <td>0.432793</td>\n",
       "      <td>-0.473674</td>\n",
       "      <td>0.786845</td>\n",
       "      <td>0.0591599</td>\n",
       "      <td>0.571831</td>\n",
       "      <td>1</td>\n",
       "      <td>1</td>\n",
       "      <td>True</td>\n",
       "      <td>False</td>\n",
       "      <td>False</td>\n",
       "      <td>False</td>\n",
       "      <td>True</td>\n",
       "      <td>False</td>\n",
       "    </tr>\n",
       "    <tr>\n",
       "      <th>2</th>\n",
       "      <td>0.827377</td>\n",
       "      <td>-0.474545</td>\n",
       "      <td>-0.473674</td>\n",
       "      <td>-0.488854</td>\n",
       "      <td>-0.560975</td>\n",
       "      <td>-0.254825</td>\n",
       "      <td>0</td>\n",
       "      <td>1</td>\n",
       "      <td>False</td>\n",
       "      <td>False</td>\n",
       "      <td>False</td>\n",
       "      <td>True</td>\n",
       "      <td>True</td>\n",
       "      <td>False</td>\n",
       "    </tr>\n",
       "    <tr>\n",
       "      <th>3</th>\n",
       "      <td>-1.56611</td>\n",
       "      <td>0.432793</td>\n",
       "      <td>-0.473674</td>\n",
       "      <td>0.42073</td>\n",
       "      <td>0.0591599</td>\n",
       "      <td>0.365167</td>\n",
       "      <td>1</td>\n",
       "      <td>1</td>\n",
       "      <td>True</td>\n",
       "      <td>False</td>\n",
       "      <td>False</td>\n",
       "      <td>False</td>\n",
       "      <td>True</td>\n",
       "      <td>False</td>\n",
       "    </tr>\n",
       "    <tr>\n",
       "      <th>4</th>\n",
       "      <td>0.827377</td>\n",
       "      <td>-0.474545</td>\n",
       "      <td>-0.473674</td>\n",
       "      <td>-0.486337</td>\n",
       "      <td>-0.560975</td>\n",
       "      <td>0.365167</td>\n",
       "      <td>0</td>\n",
       "      <td>0</td>\n",
       "      <td>False</td>\n",
       "      <td>False</td>\n",
       "      <td>False</td>\n",
       "      <td>True</td>\n",
       "      <td>True</td>\n",
       "      <td>False</td>\n",
       "    </tr>\n",
       "  </tbody>\n",
       "</table>\n",
       "</div>"
      ],
      "text/plain": [
       "     Pclass     SibSp     Parch      Fare family_size       Age is_fare_high  \\\n",
       "0  0.827377  0.432793 -0.473674 -0.502445   0.0591599 -0.530377            0   \n",
       "1  -1.56611  0.432793 -0.473674  0.786845   0.0591599  0.571831            1   \n",
       "2  0.827377 -0.474545 -0.473674 -0.488854   -0.560975 -0.254825            0   \n",
       "3  -1.56611  0.432793 -0.473674   0.42073   0.0591599  0.365167            1   \n",
       "4  0.827377 -0.474545 -0.473674 -0.486337   -0.560975  0.365167            0   \n",
       "\n",
       "  Sex is_cabin_notnull is_large_family is_child is_sibsp_zero is_parch_zero  \\\n",
       "0   0            False           False    False         False          True   \n",
       "1   1             True           False    False         False          True   \n",
       "2   1            False           False    False          True          True   \n",
       "3   1             True           False    False         False          True   \n",
       "4   0            False           False    False          True          True   \n",
       "\n",
       "  is_boy  \n",
       "0  False  \n",
       "1  False  \n",
       "2  False  \n",
       "3  False  \n",
       "4  False  "
      ]
     },
     "execution_count": 8,
     "metadata": {},
     "output_type": "execute_result"
    }
   ],
   "source": [
    "# examine the transformed version of X\n",
    "df = pd.DataFrame(ct.fit_transform(X), columns=cols)\n",
    "df.head()"
   ]
  },
  {
   "cell_type": "code",
   "execution_count": 9,
   "metadata": {},
   "outputs": [
    {
     "name": "stdout",
     "output_type": "stream",
     "text": [
      "20 Scores  min:0.791 max:0.840\n",
      "CV Mean Score: 0.815 +/- 0.015\n"
     ]
    }
   ],
   "source": [
    "# use the column tranformer defined above\n",
    "lr = LogisticRegression(penalty='l2', C=1.0, solver='liblinear')\n",
    "pipe = Pipeline([('ct', ct), ('lr', lr)])\n",
    "\n",
    "scores = cross_val_score(pipe, X, y, cv=cv_select, scoring='accuracy')\n",
    "tt.print_scores(scores)"
   ]
  },
  {
   "cell_type": "markdown",
   "metadata": {},
   "source": [
    "### Using IterativeImputer with ColumnTransformer\n",
    "[IterativeImputer](https://scikit-learn.org/stable/modules/generated/sklearn.impute.IterativeImputer.html#sklearn.impute.IterativeImputer) uses all the columns to impute missing values for all the columns.  The result is all the columns without missing values.\n",
    "\n",
    "When a transformer is called by way of ColumnTransformer, it is only passed the columns in that transformer's column list.  For IterativeImputer to work well it needs most or all of the columns in X.  However if all the columns of X are in the transformer column list, then all the columns of X will be created as additional features.  This is too many features.\n",
    "\n",
    "An easy way around this is to wrap the ItertiveImputer inside a custom Transformer."
   ]
  },
  {
   "cell_type": "code",
   "execution_count": 10,
   "metadata": {},
   "outputs": [],
   "source": [
    "# Copied from titanic_helper_code.py\n",
    "from sklearn.experimental import enable_iterative_imputer\n",
    "from sklearn.impute import SimpleImputer, IterativeImputer\n",
    "from sklearn.base import TransformerMixin, BaseEstimator\n",
    "\n",
    "class WrappedIterativeImputer(BaseEstimator, TransformerMixin):\n",
    "    \"\"\"Wrap IterativeImputer to return One Column Only\n",
    "\n",
    "    The name of the column to be imputed is passed to the constructor.\n",
    "\n",
    "    This must be the first step in a pipe, as it relies on X being a Pandas DataFrame\"\"\"\n",
    "\n",
    "    def __init__(self, return_col):\n",
    "        self.ii = IterativeImputer()\n",
    "        self.return_col = return_col\n",
    "        self.return_col_idx = None\n",
    "\n",
    "    def fit(self, X, y):\n",
    "        self.ii.fit(X, y)\n",
    "        self.return_col_idx = X.columns.get_loc(self.return_col)\n",
    "\n",
    "        return self\n",
    "\n",
    "    def transform(self, X):\n",
    "        return_col = self.ii.transform(X)[:, self.return_col_idx]\n",
    "\n",
    "        # must be 2D\n",
    "        return return_col.reshape(-1, 1)"
   ]
  },
  {
   "cell_type": "code",
   "execution_count": 11,
   "metadata": {},
   "outputs": [],
   "source": [
    "# Copied from titanic_helper_code.py\n",
    "def get_ct_v2():\n",
    "    \"\"\"Column Transform for Features\n",
    "\n",
    "    Version 2\n",
    "    * without Categorical Variable Encoding\n",
    "    * uses Wrapped IterativeImputer for Age\n",
    "\n",
    "    The IterativeImputer needs many columns in order to impute well.\n",
    "\n",
    "    Returns column names and ColumnTransform instance.\n",
    "    \"\"\"\n",
    "\n",
    "    # For numeric columns\n",
    "    ss = StandardScaler()\n",
    "\n",
    "    # Only used to impute Age\n",
    "    ii = WrappedIterativeImputer('Age')\n",
    "\n",
    "    # quantize fare to below/above median\n",
    "    kbin = KBinsDiscretizer(n_bins=2, encode='ordinal', strategy='quantile')\n",
    "\n",
    "    # Pipelines\n",
    "    ss_pipe = Pipeline([('ss', ss)])\n",
    "\n",
    "    # wrapped IterativeImputer uses many columns, but only outputs Age\n",
    "    # which is then standardized\n",
    "    ii_ss_pipe = Pipeline([('ii', ii), ('ss', ss)])\n",
    "\n",
    "    # quantize Fare to below/above median\n",
    "    kbin_pipe = Pipeline([('kbin', kbin)])\n",
    "\n",
    "    # Columns to act on\n",
    "    ss_cols = ['Pclass', 'SibSp', 'Parch', 'Fare', 'family_size']\n",
    "    ii_ss_cols = ['Pclass', 'Sex', 'Age', 'SibSp', 'Parch', 'Fare',\n",
    "                  'family_size', 'is_cabin_notnull', 'is_large_family',\n",
    "                  'is_child', 'is_sibsp_zero', 'is_parch_zero', 'is_boy']\n",
    "    kbin_cols = ['Fare']\n",
    "    bool_cols = ['Sex', 'is_cabin_notnull', 'is_large_family', 'is_child', \n",
    "                 'is_sibsp_zero', 'is_parch_zero', 'is_boy']\n",
    "\n",
    "    transformers = [('ss_tr', ss_pipe, ss_cols),\n",
    "                    ('ii_SS_tr', ii_ss_pipe, ii_ss_cols),\n",
    "                    ('kbin_tr', kbin_pipe, kbin_cols),\n",
    "                    ('as_is', 'passthrough', bool_cols)]\n",
    "\n",
    "    # instantiate ColumnTransformer\n",
    "    ct = ColumnTransformer(transformers=transformers)\n",
    "\n",
    "    # there is no way to access the columns by name\n",
    "    # create a list of columns to keep track\n",
    "    cols = ss_cols + ['Age'] + ['is_fare_high'] + bool_cols\n",
    "\n",
    "    return cols, ct"
   ]
  },
  {
   "cell_type": "code",
   "execution_count": 12,
   "metadata": {},
   "outputs": [
    {
     "name": "stdout",
     "output_type": "stream",
     "text": [
      "Any Null Values: False\n"
     ]
    },
    {
     "data": {
      "text/html": [
       "<div>\n",
       "<style scoped>\n",
       "    .dataframe tbody tr th:only-of-type {\n",
       "        vertical-align: middle;\n",
       "    }\n",
       "\n",
       "    .dataframe tbody tr th {\n",
       "        vertical-align: top;\n",
       "    }\n",
       "\n",
       "    .dataframe thead th {\n",
       "        text-align: right;\n",
       "    }\n",
       "</style>\n",
       "<table border=\"1\" class=\"dataframe\">\n",
       "  <thead>\n",
       "    <tr style=\"text-align: right;\">\n",
       "      <th></th>\n",
       "      <th>Pclass</th>\n",
       "      <th>SibSp</th>\n",
       "      <th>Parch</th>\n",
       "      <th>Fare</th>\n",
       "      <th>family_size</th>\n",
       "      <th>Age</th>\n",
       "      <th>is_fare_high</th>\n",
       "      <th>Sex</th>\n",
       "      <th>is_cabin_notnull</th>\n",
       "      <th>is_large_family</th>\n",
       "      <th>is_child</th>\n",
       "      <th>is_sibsp_zero</th>\n",
       "      <th>is_parch_zero</th>\n",
       "      <th>is_boy</th>\n",
       "    </tr>\n",
       "  </thead>\n",
       "  <tbody>\n",
       "    <tr>\n",
       "      <th>0</th>\n",
       "      <td>0.827377</td>\n",
       "      <td>0.432793</td>\n",
       "      <td>-0.473674</td>\n",
       "      <td>-0.502445</td>\n",
       "      <td>0.0591599</td>\n",
       "      <td>-0.604034</td>\n",
       "      <td>0</td>\n",
       "      <td>0</td>\n",
       "      <td>False</td>\n",
       "      <td>False</td>\n",
       "      <td>False</td>\n",
       "      <td>False</td>\n",
       "      <td>True</td>\n",
       "      <td>False</td>\n",
       "    </tr>\n",
       "    <tr>\n",
       "      <th>1</th>\n",
       "      <td>-1.56611</td>\n",
       "      <td>0.432793</td>\n",
       "      <td>-0.473674</td>\n",
       "      <td>0.786845</td>\n",
       "      <td>0.0591599</td>\n",
       "      <td>0.607858</td>\n",
       "      <td>1</td>\n",
       "      <td>1</td>\n",
       "      <td>True</td>\n",
       "      <td>False</td>\n",
       "      <td>False</td>\n",
       "      <td>False</td>\n",
       "      <td>True</td>\n",
       "      <td>False</td>\n",
       "    </tr>\n",
       "    <tr>\n",
       "      <th>2</th>\n",
       "      <td>0.827377</td>\n",
       "      <td>-0.474545</td>\n",
       "      <td>-0.473674</td>\n",
       "      <td>-0.488854</td>\n",
       "      <td>-0.560975</td>\n",
       "      <td>-0.301061</td>\n",
       "      <td>0</td>\n",
       "      <td>1</td>\n",
       "      <td>False</td>\n",
       "      <td>False</td>\n",
       "      <td>False</td>\n",
       "      <td>True</td>\n",
       "      <td>True</td>\n",
       "      <td>False</td>\n",
       "    </tr>\n",
       "    <tr>\n",
       "      <th>3</th>\n",
       "      <td>-1.56611</td>\n",
       "      <td>0.432793</td>\n",
       "      <td>-0.473674</td>\n",
       "      <td>0.42073</td>\n",
       "      <td>0.0591599</td>\n",
       "      <td>0.380628</td>\n",
       "      <td>1</td>\n",
       "      <td>1</td>\n",
       "      <td>True</td>\n",
       "      <td>False</td>\n",
       "      <td>False</td>\n",
       "      <td>False</td>\n",
       "      <td>True</td>\n",
       "      <td>False</td>\n",
       "    </tr>\n",
       "    <tr>\n",
       "      <th>4</th>\n",
       "      <td>0.827377</td>\n",
       "      <td>-0.474545</td>\n",
       "      <td>-0.473674</td>\n",
       "      <td>-0.486337</td>\n",
       "      <td>-0.560975</td>\n",
       "      <td>0.380628</td>\n",
       "      <td>0</td>\n",
       "      <td>0</td>\n",
       "      <td>False</td>\n",
       "      <td>False</td>\n",
       "      <td>False</td>\n",
       "      <td>True</td>\n",
       "      <td>True</td>\n",
       "      <td>False</td>\n",
       "    </tr>\n",
       "  </tbody>\n",
       "</table>\n",
       "</div>"
      ],
      "text/plain": [
       "     Pclass     SibSp     Parch      Fare family_size       Age is_fare_high  \\\n",
       "0  0.827377  0.432793 -0.473674 -0.502445   0.0591599 -0.604034            0   \n",
       "1  -1.56611  0.432793 -0.473674  0.786845   0.0591599  0.607858            1   \n",
       "2  0.827377 -0.474545 -0.473674 -0.488854   -0.560975 -0.301061            0   \n",
       "3  -1.56611  0.432793 -0.473674   0.42073   0.0591599  0.380628            1   \n",
       "4  0.827377 -0.474545 -0.473674 -0.486337   -0.560975  0.380628            0   \n",
       "\n",
       "  Sex is_cabin_notnull is_large_family is_child is_sibsp_zero is_parch_zero  \\\n",
       "0   0            False           False    False         False          True   \n",
       "1   1             True           False    False         False          True   \n",
       "2   1            False           False    False          True          True   \n",
       "3   1             True           False    False         False          True   \n",
       "4   0            False           False    False          True          True   \n",
       "\n",
       "  is_boy  \n",
       "0  False  \n",
       "1  False  \n",
       "2  False  \n",
       "3  False  \n",
       "4  False  "
      ]
     },
     "execution_count": 12,
     "metadata": {},
     "output_type": "execute_result"
    }
   ],
   "source": [
    "X, y = tt.get_Xy_v3()\n",
    "cols, ct = tt.get_ct_v2()\n",
    "\n",
    "# Examine the transformed X\n",
    "df = pd.DataFrame(ct.fit_transform(X, y), columns=cols)\n",
    "\n",
    "# The age values should have been imputed, so they are no longer null\n",
    "print(f'Any Null Values: {df.isna().any().any()}')\n",
    "\n",
    "df.head()"
   ]
  },
  {
   "cell_type": "code",
   "execution_count": 13,
   "metadata": {},
   "outputs": [
    {
     "name": "stdout",
     "output_type": "stream",
     "text": [
      "20 Scores  min:0.791 max:0.845\n",
      "CV Mean Score: 0.818 +/- 0.015\n"
     ]
    }
   ],
   "source": [
    "# use the column transformer defined above\n",
    "lr = LogisticRegression(penalty='l2', C=1.0, solver='liblinear')\n",
    "pipe = Pipeline([('ct', ct), ('lr', lr)])\n",
    "\n",
    "scores = cross_val_score(pipe, X, y, cv=cv_select, scoring='accuracy')\n",
    "tt.print_scores(scores)"
   ]
  },
  {
   "cell_type": "markdown",
   "metadata": {},
   "source": [
    "Here, the IterativeImputer provides about the same performance as the SimpleImputer, however when dummy variables are added in the next notebook, it may help more.\n",
    "\n",
    "Continue to use the IterativeImputer."
   ]
  },
  {
   "cell_type": "code",
   "execution_count": 14,
   "metadata": {},
   "outputs": [],
   "source": [
    "# save scores for comparison with next iteration\n",
    "np.save(\"./data/iter03.data\", scores)"
   ]
  },
  {
   "cell_type": "markdown",
   "metadata": {
    "toc-hr-collapsed": false
   },
   "source": [
    "## Data Leakage Revisited\n",
    "**is_fare_high Did Not Use Test Data**  \n",
    "Fare was discretized as part a pipe using: \n",
    "```KBinsDiscretizer(n_bins=2, encode='ordinal', strategy='quantile')```  \n",
    "\n",
    "This makes no use of the test data.\n",
    "\n",
    "The decision to descretize Fare at its median value was based on EDA, and EDA was performed on half of the data.  Using half of the data helps to avoid data leakage.\n",
    "\n",
    "**Age was discretized into child/adult at 18 years**  \n",
    "Domain knowledge states that women and children were given priority access to the lifeboats, therefore it is reasonable to define passengers as children if they are under the age of 18.  Test data is not needed to suggest this feature extraction.\n",
    "\n",
    "**Iterative Model Development and Reuse of Validation Data**  \n",
    "If a model is refined ad infinitum, without a hold-out test set, then the validation data becomes incorporated into the model building process and the result is an overly optimistic estimate of model performance.\n",
    "\n",
    "However if the initial model is being developed over time, and the initial features identified by EDA have not yet been added to the model, then reusing the validation data in cross validation as a measure of progress is arguably fine.  The first reasonable model hasn't even been completed.\n",
    "\n",
    "After the first reasonably complete model has been completed, if more and more extracted features are tried until the best score is achieved, the test data becomes increasingly leaked. Using a final end-of-project hold-out set alleviates this problem.  With the Titanic data, that is not possible, so a model simplification step will be used in a later notebook."
   ]
  },
  {
   "cell_type": "markdown",
   "metadata": {
    "toc-hr-collapsed": false
   },
   "source": [
    "## Compare Model with Previous Iteration"
   ]
  },
  {
   "cell_type": "code",
   "execution_count": 15,
   "metadata": {},
   "outputs": [
    {
     "data": {
      "image/png": "[encoded data removed]",
      "text/plain": [
       "<Figure size 432x288 with 1 Axes>"
      ]
     },
     "metadata": {},
     "output_type": "display_data"
    }
   ],
   "source": [
    "# Read in scores from 2nd iteration\n",
    "second_iter_scores = np.load('./data/iter02.data.npy')\n",
    "\n",
    "df = pd.DataFrame(data=list(zip(scores, second_iter_scores)),\n",
    "                  columns=['scores','second_iter_scores'])\n",
    "sns.boxplot(data=df)\n",
    "plt.savefig(fname='3_vs_2.png', dpi=120)"
   ]
  },
  {
   "cell_type": "markdown",
   "metadata": {},
   "source": [
    "The median value of one box does not overlap the colored box (IQR) of the other.  This is enough of a difference to suggest that the new model better.\n",
    "\n",
    "At some point, it may be beneficial to start paring down the number of variables being used, but as we have not yet tried Embarked and title, it is too soon for this."
   ]
  },
  {
   "cell_type": "code",
   "execution_count": 16,
   "metadata": {
    "scrolled": true
   },
   "outputs": [
    {
     "name": "stdout",
     "output_type": "stream",
     "text": [
      "Previous Cross Validated Accuracy: 0.806\n"
     ]
    }
   ],
   "source": [
    "# previous model\n",
    "print(f'Previous Cross Validated Accuracy: {second_iter_scores.mean() :.3f}')"
   ]
  },
  {
   "cell_type": "markdown",
   "metadata": {
    "toc-hr-collapsed": true
   },
   "source": [
    "## Notebook Summary\n",
    "\n",
    "In this iteration we:\n",
    "* used ColumnTransformer to process different variables differently\n",
    "* added several variables previously suggested by EDA\n",
    "* discussed some subtleties of data leakage\n",
    "* compared new model with previous iteration\n",
    "\n",
    "The model's accuracy improved from 80.6% to 81.8%"
   ]
  }
 ],
 "metadata": {
  "kernelspec": {
   "display_name": "Python 3",
   "language": "python",
   "name": "python3"
  },
  "language_info": {
   "codemirror_mode": {
    "name": "ipython",
    "version": 3
   },
   "file_extension": ".py",
   "mimetype": "text/x-python",
   "name": "python",
   "nbconvert_exporter": "python",
   "pygments_lexer": "ipython3",
   "version": "3.7.5"
  },
  "varInspector": {
   "cols": {
    "lenName": 16,
    "lenType": 16,
    "lenVar": 40
   },
   "kernels_config": {
    "python": {
     "delete_cmd_postfix": "",
     "delete_cmd_prefix": "del ",
     "library": "var_list.py",
     "varRefreshCmd": "print(var_dic_list())"
    },
    "r": {
     "delete_cmd_postfix": ") ",
     "delete_cmd_prefix": "rm(",
     "library": "var_list.r",
     "varRefreshCmd": "cat(var_dic_list()) "
    }
   },
   "position": {
    "height": "356px",
    "left": "51px",
    "right": "20px",
    "top": "142px",
    "width": "714px"
   },
   "types_to_exclude": [
    "module",
    "function",
    "builtin_function_or_method",
    "instance",
    "_Feature"
   ],
   "window_display": true
  }
 },
 "nbformat": 4,
 "nbformat_minor": 2
}
