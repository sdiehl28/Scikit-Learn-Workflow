{
 "cells": [
  {
   "cell_type": "markdown",
   "metadata": {},
   "source": [
    "# Iteration 5<br/>*Feature Extraction*\n",
    "\n",
    "Jupyter Notebook referenced from my website: <a href=\"https://sdiehl28.netlify.com/projects/titanic/titanic05/\" target=\"_blank\">Software Nirvana: Feature Extraction</a>"
   ]
  },
  {
   "cell_type": "markdown",
   "metadata": {},
   "source": [
    "### Goals\n",
    "1. In the first iteration of model building, several feature extraction ideas were presented. See: [EDA](http://nbviewer.jupyter.org/github/sdiehl28/tutorial-jupyter-notebooks/blob/master/projects/titanic/Titanic01.ipynb#eda)\n",
    "2. Implement these.\n",
    "3. As part of iterative model development, compare performance with previous iterations."
   ]
  },
  {
   "cell_type": "markdown",
   "metadata": {},
   "source": [
    "### Where We Are\n",
    "In the previous iteration, we made use two categorical variables, Embark and Sex, by one hot encoding them.  This improved the model's accuracy."
   ]
  },
  {
   "cell_type": "markdown",
   "metadata": {},
   "source": [
    "### What's Next\n",
    "In the first iteration, during EDA, we made several notes on what to try next.  These were:\n",
    "1. Extract binary categorical features: alone, sibsp_zero, parch_zero\n",
    "2. Extract ordered categorical feature: fare_quantized\n",
    "5. Standardize\n",
    "6. Compute Cross Validated Model Scores "
   ]
  },
  {
   "cell_type": "markdown",
   "metadata": {},
   "source": [
    "### Common Imports and Notebook Setup"
   ]
  },
  {
   "cell_type": "code",
   "execution_count": 1,
   "metadata": {},
   "outputs": [],
   "source": [
    "import numpy as np\n",
    "import pandas as pd\n",
    "import matplotlib.pyplot as plt\n",
    "import seaborn as sns\n",
    "import sklearn as sk\n",
    "%matplotlib inline\n",
    "sns.set() # enable seaborn style"
   ]
  },
  {
   "cell_type": "markdown",
   "metadata": {},
   "source": [
    "### Previous Iteration Setup\n",
    "Previous Iteration: [Categorical Encoding](http://nbviewer.jupyter.org/github/sdiehl28/tutorial-jupyter-notebooks/blob/master/projects/titanic/Titanic04.ipynb) "
   ]
  },
  {
   "cell_type": "code",
   "execution_count": 2,
   "metadata": {},
   "outputs": [],
   "source": [
    "# Equivalent to previous iteration\n",
    "# Refactored to be more concise\n",
    "\n",
    "# read in all the labeled data\n",
    "all_data = pd.read_csv('./data/train.csv')\n",
    "\n",
    "# drop string columns with too many values or too many nulls\n",
    "drop_cols = ['PassengerId', 'Name', 'Ticket', 'Cabin']\n",
    "all_data = all_data.drop(drop_cols, axis=1)\n",
    "\n",
    "# drop rows with Embarked null\n",
    "rows_to_keep = all_data['Embarked'].notnull()\n",
    "all_data = all_data[rows_to_keep]\n",
    "\n",
    "# one-hot encode Sex and Embarked\n",
    "gender = pd.get_dummies(all_data['Sex'], drop_first=True, prefix='gender')\n",
    "port = pd.get_dummies(all_data['Embarked'], drop_first=True, prefix='port')\n",
    "all_data = pd.concat([all_data, gender, port], axis=1)\n",
    "\n",
    "# remove encoded variables\n",
    "all_data.drop(['Embarked', 'Sex'], axis=1, inplace=True)"
   ]
  },
  {
   "cell_type": "markdown",
   "metadata": {},
   "source": [
    "### Extract New Features"
   ]
  },
  {
   "cell_type": "code",
   "execution_count": 3,
   "metadata": {},
   "outputs": [
    {
     "data": {
      "text/html": [
       "<div>\n",
       "<style scoped>\n",
       "    .dataframe tbody tr th:only-of-type {\n",
       "        vertical-align: middle;\n",
       "    }\n",
       "\n",
       "    .dataframe tbody tr th {\n",
       "        vertical-align: top;\n",
       "    }\n",
       "\n",
       "    .dataframe thead th {\n",
       "        text-align: right;\n",
       "    }\n",
       "</style>\n",
       "<table border=\"1\" class=\"dataframe\">\n",
       "  <thead>\n",
       "    <tr style=\"text-align: right;\">\n",
       "      <th></th>\n",
       "      <th>Survived</th>\n",
       "      <th>Pclass</th>\n",
       "      <th>Age</th>\n",
       "      <th>SibSp</th>\n",
       "      <th>Parch</th>\n",
       "      <th>Fare</th>\n",
       "      <th>gender_male</th>\n",
       "      <th>port_Q</th>\n",
       "      <th>port_S</th>\n",
       "      <th>sibsp_zero</th>\n",
       "      <th>parch_zero</th>\n",
       "      <th>alone</th>\n",
       "      <th>fare_quantized</th>\n",
       "    </tr>\n",
       "  </thead>\n",
       "  <tbody>\n",
       "    <tr>\n",
       "      <th>0</th>\n",
       "      <td>0</td>\n",
       "      <td>3</td>\n",
       "      <td>22.0</td>\n",
       "      <td>1</td>\n",
       "      <td>0</td>\n",
       "      <td>7.2500</td>\n",
       "      <td>1</td>\n",
       "      <td>0</td>\n",
       "      <td>1</td>\n",
       "      <td>False</td>\n",
       "      <td>True</td>\n",
       "      <td>False</td>\n",
       "      <td>0</td>\n",
       "    </tr>\n",
       "    <tr>\n",
       "      <th>1</th>\n",
       "      <td>1</td>\n",
       "      <td>1</td>\n",
       "      <td>38.0</td>\n",
       "      <td>1</td>\n",
       "      <td>0</td>\n",
       "      <td>71.2833</td>\n",
       "      <td>0</td>\n",
       "      <td>0</td>\n",
       "      <td>0</td>\n",
       "      <td>False</td>\n",
       "      <td>True</td>\n",
       "      <td>False</td>\n",
       "      <td>1</td>\n",
       "    </tr>\n",
       "    <tr>\n",
       "      <th>2</th>\n",
       "      <td>1</td>\n",
       "      <td>3</td>\n",
       "      <td>26.0</td>\n",
       "      <td>0</td>\n",
       "      <td>0</td>\n",
       "      <td>7.9250</td>\n",
       "      <td>0</td>\n",
       "      <td>0</td>\n",
       "      <td>1</td>\n",
       "      <td>True</td>\n",
       "      <td>True</td>\n",
       "      <td>True</td>\n",
       "      <td>0</td>\n",
       "    </tr>\n",
       "  </tbody>\n",
       "</table>\n",
       "</div>"
      ],
      "text/plain": [
       "   Survived  Pclass   Age  SibSp  Parch     Fare  gender_male  port_Q  port_S  \\\n",
       "0         0       3  22.0      1      0   7.2500            1       0       1   \n",
       "1         1       1  38.0      1      0  71.2833            0       0       0   \n",
       "2         1       3  26.0      0      0   7.9250            0       0       1   \n",
       "\n",
       "   sibsp_zero  parch_zero  alone  fare_quantized  \n",
       "0       False        True  False               0  \n",
       "1       False        True  False               1  \n",
       "2        True        True   True               0  "
      ]
     },
     "execution_count": 3,
     "metadata": {},
     "output_type": "execute_result"
    }
   ],
   "source": [
    "# proposed feature extraction: sibsp == 0\n",
    "all_data['sibsp_zero'] = (all_data['SibSp'] == 0)\n",
    "\n",
    "# proposed feature extraction: parch == 0\n",
    "all_data['parch_zero'] = (all_data['Parch'] == 0)\n",
    "\n",
    "# proposed feature extraction: sibsp == 0 & parch == 0\n",
    "all_data['alone'] = (all_data['parch_zero'] & all_data['sibsp_zero'])\n",
    "\n",
    "# proposed feature extraction: quantize fare\n",
    "def quantize_fare(fare):\n",
    "    if fare < 45:\n",
    "        return 0\n",
    "    elif fare < 80:\n",
    "        return 1\n",
    "    else:\n",
    "        return 2\n",
    "    \n",
    "all_data['fare_quantized'] = all_data['Fare'].apply(quantize_fare)\n",
    "all_data.head(3)"
   ]
  },
  {
   "cell_type": "code",
   "execution_count": 4,
   "metadata": {},
   "outputs": [],
   "source": [
    "# break up the dataframe into X and y\n",
    "X = all_data.drop('Survived', axis=1)\n",
    "y = all_data['Survived']"
   ]
  },
  {
   "cell_type": "markdown",
   "metadata": {},
   "source": [
    "### Scikit Learn Imports"
   ]
  },
  {
   "cell_type": "code",
   "execution_count": 5,
   "metadata": {},
   "outputs": [],
   "source": [
    "from sklearn.model_selection import cross_val_score, StratifiedKFold\n",
    "from sklearn.linear_model import LogisticRegression\n",
    "from sklearn.pipeline import make_pipeline\n",
    "from sklearn.preprocessing import StandardScaler"
   ]
  },
  {
   "cell_type": "markdown",
   "metadata": {},
   "source": [
    "### SetUp Scoring Evaluation"
   ]
  },
  {
   "cell_type": "code",
   "execution_count": 6,
   "metadata": {},
   "outputs": [],
   "source": [
    "k_folds = 10\n",
    "random_seed=5\n",
    "crossvalidation = StratifiedKFold(n_splits=k_folds, shuffle=True, \n",
    "                        random_state=random_seed)"
   ]
  },
  {
   "cell_type": "markdown",
   "metadata": {},
   "source": [
    "### Transform Class\n",
    "Copied from previous iterations, except modified to use gender_male instead of Sex."
   ]
  },
  {
   "cell_type": "code",
   "execution_count": 7,
   "metadata": {},
   "outputs": [],
   "source": [
    "# Custom Transform Class for Imputation\n",
    "from sklearn.base import TransformerMixin\n",
    "class MyTransformer(TransformerMixin): \n",
    "    '''Class with fit() and transform() methods'''\n",
    "\n",
    "    def fit(self, X, y):\n",
    "        '''\n",
    "        fit() will compute and save the mean age per (pclass, sex)\n",
    "        on the training data\n",
    "        '''\n",
    "        self.mean_age_by_pclass_sex = X.groupby(['Pclass', 'gender_male'])['Age'].mean()\n",
    "        \n",
    "        # return an instance of MyTransformer\n",
    "        return self\n",
    "    \n",
    "    def transform(self, X):\n",
    "        '''\n",
    "        transform() is applied to both train and test data\n",
    "        \n",
    "        It will replace missing age values by looking up the\n",
    "        mean age per (pclass,sex)\n",
    "        '''\n",
    "        \n",
    "        # index into multi-indexed Pandas Series using 2-part key\n",
    "        # Pandas does not allow indexing by DataFrame, so create list of tuples\n",
    "        # each tuple is (pclass, sex)\n",
    "        missing_age_idx = X['Age'].isnull()\n",
    "        df = X.loc[missing_age_idx, ['Pclass', 'gender_male']]\n",
    "        index_tuples = list(df.itertuples(index=False, name=None))\n",
    "        \n",
    "        # lookup mean age in DataFrameGroupBy using list of tuples of (pclass, sex)\n",
    "        imputed_age_values = self.mean_age_by_pclass_sex.loc[index_tuples].values\n",
    "        \n",
    "        # replace the missing values with the imputed age values\n",
    "        X = X.copy()\n",
    "        X.loc[missing_age_idx, 'Age'] = imputed_age_values\n",
    "\n",
    "        # drop the sex column as logicstic regression only works with numerics\n",
    "        # (later we will encode it and use it)\n",
    "        return X"
   ]
  },
  {
   "cell_type": "code",
   "execution_count": 8,
   "metadata": {},
   "outputs": [
    {
     "name": "stdout",
     "output_type": "stream",
     "text": [
      "[0.809 0.764 0.787 0.876 0.888 0.809 0.831 0.809 0.787 0.795]\n",
      "0.816\n"
     ]
    }
   ],
   "source": [
    "standard_scaler = StandardScaler()\n",
    "my_transformer = MyTransformer()\n",
    "\n",
    "classifier = make_pipeline(my_transformer, standard_scaler, LogisticRegression())\n",
    "\n",
    "scores = cross_val_score(classifier, X, y, cv=crossvalidation, \n",
    "                         scoring='accuracy', n_jobs=1)\n",
    "\n",
    "# save scores for comparison with another iteration\n",
    "np.save(\"./data/iter05.data\", scores)\n",
    "\n",
    "print(np.round(scores,3))\n",
    "print(round(np.mean(scores),3))"
   ]
  },
  {
   "cell_type": "code",
   "execution_count": 9,
   "metadata": {},
   "outputs": [
    {
     "data": {
      "image/png": "[encoded data removed]",
      "text/plain": [
       "<Figure size 432x288 with 1 Axes>"
      ]
     },
     "metadata": {},
     "output_type": "display_data"
    }
   ],
   "source": [
    "# Read in scores from previous iteration\n",
    "fourth_iter_scores = np.load('./data/iter04.data.npy')\n",
    "\n",
    "df = pd.DataFrame(data=list(zip(scores, fourth_iter_scores)),\n",
    "                  columns=['scores','fourth_iter_scores'])\n",
    "sns.boxplot(data=df)\n",
    "plt.savefig(fname='5_vs_4.png', dpi=120)"
   ]
  },
  {
   "cell_type": "code",
   "execution_count": 10,
   "metadata": {},
   "outputs": [
    {
     "name": "stdout",
     "output_type": "stream",
     "text": [
      "[-0.011  0.     0.     0.011  0.011  0.011  0.022  0.022  0.034  0.056]\n"
     ]
    }
   ],
   "source": [
    "# the scores in the ordered list correspond with each other as they were\n",
    "# perform on the same train/test split\n",
    "diff_scores = scores - fourth_iter_scores\n",
    "print(np.round(sorted(diff_scores),3))"
   ]
  },
  {
   "cell_type": "code",
   "execution_count": 11,
   "metadata": {},
   "outputs": [
    {
     "data": {
      "text/plain": [
       "<matplotlib.lines.Line2D at 0x7f1c089f2ef0>"
      ]
     },
     "execution_count": 11,
     "metadata": {},
     "output_type": "execute_result"
    },
    {
     "data": {
      "image/png": "[encoded data removed]",
      "text/plain": [
       "<Figure size 432x288 with 1 Axes>"
      ]
     },
     "metadata": {},
     "output_type": "display_data"
    }
   ],
   "source": [
    "# boxplot the differences and highlight x-axis\n",
    "sns.boxplot(y=diff_scores)\n",
    "plt.axhline(0, color='blue')"
   ]
  },
  {
   "cell_type": "code",
   "execution_count": 12,
   "metadata": {},
   "outputs": [
    {
     "name": "stdout",
     "output_type": "stream",
     "text": [
      "New Model wins:  7\n",
      "New Model ties:  2\n",
      "New Model loses: 1\n"
     ]
    }
   ],
   "source": [
    "# How many times is the new model better?\n",
    "print(f'New Model wins:  {(diff_scores > 0).sum()}')\n",
    "print(f'New Model ties:  {(diff_scores == 0).sum()}')\n",
    "print(f'New Model loses: {(diff_scores < 0).sum()}')"
   ]
  },
  {
   "cell_type": "markdown",
   "metadata": {},
   "source": [
    "From the above boxplot and individual comparison of the scores, it appears the new model is slightly better. The change we made was to extract new features and standardize the features."
   ]
  },
  {
   "cell_type": "markdown",
   "metadata": {},
   "source": [
    "### Model Summary\n",
    "Model Building Steps Only"
   ]
  },
  {
   "cell_type": "code",
   "execution_count": 13,
   "metadata": {},
   "outputs": [
    {
     "name": "stdout",
     "output_type": "stream",
     "text": [
      "[0.809 0.764 0.787 0.876 0.888 0.809 0.831 0.809 0.787 0.795]\n",
      "0.816\n"
     ]
    }
   ],
   "source": [
    "# Equivalent to previous iteration\n",
    "# Refactored to be more concise\n",
    "\n",
    "# read in all the labeled data\n",
    "all_data = pd.read_csv('./data/train.csv')\n",
    "\n",
    "# drop string columns with too many values or too many nulls\n",
    "drop_cols = ['PassengerId', 'Name', 'Ticket', 'Cabin']\n",
    "all_data = all_data.drop(drop_cols, axis=1)\n",
    "\n",
    "# drop rows with Embarked null\n",
    "rows_to_keep = all_data['Embarked'].notnull()\n",
    "all_data = all_data[rows_to_keep]\n",
    "\n",
    "# one-hot encode Sex and Embarked\n",
    "gender = pd.get_dummies(all_data['Sex'], drop_first=True, prefix='gender')\n",
    "port = pd.get_dummies(all_data['Embarked'], drop_first=True, prefix='port')\n",
    "all_data = pd.concat([all_data, gender, port], axis=1)\n",
    "\n",
    "# remove encoded variables\n",
    "all_data.drop(['Embarked', 'Sex'], axis=1, inplace=True)\n",
    "\n",
    "# feature extraction: sibsp == 0\n",
    "all_data['sibsp_zero'] = (all_data['SibSp'] == 0)\n",
    "\n",
    "# feature extraction: parch == 0\n",
    "all_data['parch_zero'] = (all_data['Parch'] == 0)\n",
    "\n",
    "# feature extraction: sibsp == 0 & parch == 0\n",
    "all_data['alone'] = (all_data['parch_zero'] & all_data['sibsp_zero'])\n",
    "\n",
    "# feature extraction: quantize fare\n",
    "def quantize_fare(fare):\n",
    "    if fare < 45:\n",
    "        return 0\n",
    "    elif fare < 80:\n",
    "        return 1\n",
    "    else:\n",
    "        return 2\n",
    "    \n",
    "all_data['fare_quantized'] = all_data['Fare'].apply(quantize_fare)\n",
    "\n",
    "k_folds = 10\n",
    "random_seed=5\n",
    "crossvalidation = StratifiedKFold(n_splits=k_folds, shuffle=True, \n",
    "                        random_state=random_seed)\n",
    "\n",
    "standard_scaler = StandardScaler()\n",
    "my_transformer = MyTransformer()\n",
    "\n",
    "classifier = make_pipeline(my_transformer, standard_scaler, LogisticRegression())\n",
    "\n",
    "scores = cross_val_score(classifier, X, y, cv=crossvalidation, \n",
    "                         scoring='accuracy', n_jobs=1)\n",
    "\n",
    "print(np.round(scores,3))\n",
    "print(round(np.mean(scores),3))"
   ]
  },
  {
   "cell_type": "code",
   "execution_count": 14,
   "metadata": {},
   "outputs": [
    {
     "name": "stdout",
     "output_type": "stream",
     "text": [
      "Previous Cross Validated Accuracy: 0.800\n"
     ]
    }
   ],
   "source": [
    "# previous model\n",
    "print(f'Previous Cross Validated Accuracy: {fourth_iter_scores.mean() :.3f}')"
   ]
  },
  {
   "cell_type": "markdown",
   "metadata": {},
   "source": [
    "### Notebook Summary\n",
    "In this iteration we:\n",
    "* Added the features suggested in the first iteration of model building\n",
    "* Measured the new model's accuracy and found it to be slightly better (81.6% vs 80.0%)"
   ]
  }
 ],
 "metadata": {
  "kernelspec": {
   "display_name": "Python 3",
   "language": "python",
   "name": "python3"
  },
  "language_info": {
   "codemirror_mode": {
    "name": "ipython",
    "version": 3
   },
   "file_extension": ".py",
   "mimetype": "text/x-python",
   "name": "python",
   "nbconvert_exporter": "python",
   "pygments_lexer": "ipython3",
   "version": "3.6.5"
  }
 },
 "nbformat": 4,
 "nbformat_minor": 2
}
