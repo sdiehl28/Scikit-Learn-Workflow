{
 "cells": [
  {
   "cell_type": "markdown",
   "metadata": {},
   "source": [
    "# Iteration 4<br/>*Categorical Encoding*\n",
    "\n",
    "Jupyter Notebook referenced from my website: <a href=\"https://sdiehl28.netlify.com/projects/titanic/titanic04/\" target=\"_blank\">Software Nirvana: Categorical Encoding</a>"
   ]
  },
  {
   "cell_type": "markdown",
   "metadata": {},
   "source": [
    "### Goals\n",
    "1. Discuss Categorical Encoding\n",
    "2. Demonstrate One Hot Encoding\n",
    "3. As part of iterative model development, check if one hot encoded categorical variables improved the model's accuracy."
   ]
  },
  {
   "cell_type": "markdown",
   "metadata": {},
   "source": [
    "### Where We Are\n",
    "In the third iteration, we created a model which imputed missing Age values by (pclass, sex) by writing a custom Transform class and using it as part of a pipeline."
   ]
  },
  {
   "cell_type": "markdown",
   "metadata": {},
   "source": [
    "### What's Next\n",
    "Make use of non-numeric variables by encoding them as numbers."
   ]
  },
  {
   "cell_type": "markdown",
   "metadata": {},
   "source": [
    "### Categorical Encoding\n",
    "\n",
    "Most machine learning algorithms (scikit learn estimators) require non-null numeric data to work with.  However there is much information content in non-numeric data that we would like to include in our model.  If we convert the categorical field to a number, we can use the variable in our model.\n",
    "\n",
    "Processing text data is different from processing categorical data.  Text data is processed by the techniques of Natural Language Processing (NLP).  NLP is not discussed in this notebook.\n",
    "\n",
    "A categorical variable takes on discrete values.  These values might be ordered, like (short, medium, tall), or unordered like (reg, green, blue).\n",
    "\n",
    "An ordered categorical variable can reasonably be converted to an integer.  For example, (short, medium, tall) => (0, 1, 2).\n",
    "\n",
    "An unordered categorical can be turned into a series of dummy variables, using One Hot Encoding.  By default, a categorical variable having n distinct values is converted into n (or n-1) dummy variables.\n",
    "\n",
    "#### Encoding\n",
    "There are three primary questions to ask:\n",
    "1. Are the categorical values ordered?\n",
    "2. Are there a large number of distinct categorical values?\n",
    "3. Are all values known in advance?\n",
    "\n",
    "No encoding is \"right\" or \"wrong\".  The \"best\" encoding is the one that works best for your model.  The following are only rules-of-thumb.\n",
    "\n",
    "#### Ordered\n",
    "If the categorical value has an inherent ordering, then converting the sorted values to consecutive integers is a good approach.\n",
    "\n",
    "#### Large Number of Values\n",
    "If there are a large number of distinct categorical values, then many dummy variables are created.  The more dummy variables, the higher the dimension and the more likely \"the curse of dimensionality\" becomes a problem.  Some estimators, such as KNN, do not work well with a high number of dimensions.\n",
    "\n",
    "One option is to exclude a categorical variable with a large number of distinct values from the model.\n",
    "\n",
    "Another option is to reduce the number of distinct values.  There are several ways this could be done.  If the category values form part of a hierarchy, then you could replace values with values further up in the hierarchy.  If a domain expert knows that certain category values matter and the rest are unimportant, a data transformation could be created to map all unimportant values to a single value.  If nothing is known about the data, it is reasonable to assume that rare values are less important, and to map all rare values to a single value.\n",
    "\n",
    "#### Small Number of Values\n",
    "This is where One Hot Encoding may be most useful.\n",
    "\n",
    "#### Not All Values Known in Advance\n",
    "If all the values are not known in advance, then a Scikit Learn custom transform object could be created which encodes previously unseen values to a specific value on the fly."
   ]
  },
  {
   "cell_type": "markdown",
   "metadata": {},
   "source": [
    "### Common Imports and Notebook Setup"
   ]
  },
  {
   "cell_type": "code",
   "execution_count": 1,
   "metadata": {},
   "outputs": [],
   "source": [
    "import numpy as np\n",
    "import pandas as pd\n",
    "import matplotlib.pyplot as plt\n",
    "import seaborn as sns\n",
    "import sklearn as sk\n",
    "%matplotlib inline\n",
    "sns.set() # enable seaborn style"
   ]
  },
  {
   "cell_type": "code",
   "execution_count": 2,
   "metadata": {},
   "outputs": [
    {
     "name": "stdout",
     "output_type": "stream",
     "text": [
      "X Shape:  (891, 11)\n",
      "y Shape:  (891,)\n"
     ]
    }
   ],
   "source": [
    "# read in all the labeled data\n",
    "all_data = pd.read_csv('./data/train.csv')\n",
    "\n",
    "# break up the dataframe into X and y\n",
    "# X is a 2 dimensional \"spreadsheet\" of values used for prediction\n",
    "# y is a 1 dimensional vector of target (aka response) values\n",
    "X = all_data.drop('Survived', axis=1)\n",
    "y = all_data['Survived']\n",
    "print('X Shape: ', X.shape)\n",
    "print('y Shape: ', y.shape)"
   ]
  },
  {
   "cell_type": "markdown",
   "metadata": {},
   "source": [
    "### Exploratory Data Analysis"
   ]
  },
  {
   "cell_type": "markdown",
   "metadata": {},
   "source": [
    "The fields not examined in the previous iterations are: Sex, Name, Ticket, Cabin, Embarked."
   ]
  },
  {
   "cell_type": "code",
   "execution_count": 3,
   "metadata": {},
   "outputs": [
    {
     "name": "stdout",
     "output_type": "stream",
     "text": [
      "<class 'pandas.core.frame.DataFrame'>\n",
      "RangeIndex: 891 entries, 0 to 890\n",
      "Data columns (total 11 columns):\n",
      "PassengerId    891 non-null int64\n",
      "Pclass         891 non-null int64\n",
      "Name           891 non-null object\n",
      "Sex            891 non-null object\n",
      "Age            714 non-null float64\n",
      "SibSp          891 non-null int64\n",
      "Parch          891 non-null int64\n",
      "Ticket         891 non-null object\n",
      "Fare           891 non-null float64\n",
      "Cabin          204 non-null object\n",
      "Embarked       889 non-null object\n",
      "dtypes: float64(2), int64(4), object(5)\n",
      "memory usage: 76.6+ KB\n"
     ]
    }
   ],
   "source": [
    "X.info()"
   ]
  },
  {
   "cell_type": "markdown",
   "metadata": {},
   "source": [
    "### Null Value Analysis\n",
    "* Cabin has too many null values to be useful, drop it\n",
    "* Embarked only has 2 rows with null values, drop those rows\n",
    "* Missing Age values will be handled as per previous iteration"
   ]
  },
  {
   "cell_type": "code",
   "execution_count": 4,
   "metadata": {},
   "outputs": [],
   "source": [
    "# fields will be dropped later\n",
    "drop_fields = ['Cabin']\n",
    "\n",
    "# drop rows now\n",
    "rows_to_keep = X['Embarked'].notnull()\n",
    "X = X[rows_to_keep]\n",
    "y = y[rows_to_keep]"
   ]
  },
  {
   "cell_type": "markdown",
   "metadata": {},
   "source": [
    "### Categorical Fields to Encode"
   ]
  },
  {
   "cell_type": "code",
   "execution_count": 5,
   "metadata": {},
   "outputs": [
    {
     "name": "stdout",
     "output_type": "stream",
     "text": [
      "Number of records:  889\n",
      "\n",
      "Number of Unique Values\n",
      "PassengerId 889\n",
      "Sex:        2\n",
      "Ticket:     680\n",
      "Embarked:   3\n",
      "Name:       889\n"
     ]
    }
   ],
   "source": [
    "print('Number of records: ', len(X))\n",
    "print('\\nNumber of Unique Values')\n",
    "print(f'PassengerId {X[\"PassengerId\"].nunique()}')\n",
    "print(f'Sex:        {X[\"Sex\"].nunique()}')\n",
    "print(f'Ticket:     {X[\"Ticket\"].nunique()}')\n",
    "print(f'Embarked:   {X[\"Embarked\"].nunique()}')\n",
    "print(f'Name:       {X[\"Name\"].nunique()}')"
   ]
  },
  {
   "cell_type": "markdown",
   "metadata": {},
   "source": [
    "With 889 records, and 889 unique values for PassengerId and Name, it is clear that PassengerId and Name are unique identifiers.  As such they offer no predictive value.\n",
    "\n",
    "Ticket has too many unique values given that we only have 889 records.\n",
    "\n",
    "That leaves Sex and Embarked as categorical fields that are worth encoding as dummy variables."
   ]
  },
  {
   "cell_type": "code",
   "execution_count": 6,
   "metadata": {},
   "outputs": [
    {
     "name": "stdout",
     "output_type": "stream",
     "text": [
      "<class 'pandas.core.frame.DataFrame'>\n",
      "Int64Index: 889 entries, 0 to 890\n",
      "Data columns (total 7 columns):\n",
      "Pclass      889 non-null int64\n",
      "Sex         889 non-null object\n",
      "Age         712 non-null float64\n",
      "SibSp       889 non-null int64\n",
      "Parch       889 non-null int64\n",
      "Fare        889 non-null float64\n",
      "Embarked    889 non-null object\n",
      "dtypes: float64(2), int64(3), object(2)\n",
      "memory usage: 55.6+ KB\n"
     ]
    }
   ],
   "source": [
    "drop_fields.extend(['PassengerId','Ticket', 'Name'])\n",
    "X.drop(drop_fields, axis=1, inplace=True)\n",
    "X.info()"
   ]
  },
  {
   "cell_type": "markdown",
   "metadata": {},
   "source": [
    "### EDA for Sex and Embarked\n",
    "Compare Sex and Embarked with Survived."
   ]
  },
  {
   "cell_type": "code",
   "execution_count": 7,
   "metadata": {},
   "outputs": [
    {
     "data": {
      "text/plain": [
       "<matplotlib.axes._subplots.AxesSubplot at 0x7f0c91234160>"
      ]
     },
     "execution_count": 7,
     "metadata": {},
     "output_type": "execute_result"
    },
    {
     "data": {
      "image/png": "[encoded data removed]",
      "text/plain": [
       "<Figure size 432x288 with 1 Axes>"
      ]
     },
     "metadata": {},
     "output_type": "display_data"
    }
   ],
   "source": [
    "eda_data = X.copy()\n",
    "eda_data['Survived'] = y\n",
    "sns.barplot(x='Sex',y='Survived',data=eda_data, ci=None)"
   ]
  },
  {
   "cell_type": "markdown",
   "metadata": {},
   "source": [
    "Sex will no doubt be an important variable for predicting survival."
   ]
  },
  {
   "cell_type": "code",
   "execution_count": 8,
   "metadata": {},
   "outputs": [
    {
     "data": {
      "text/plain": [
       "<matplotlib.axes._subplots.AxesSubplot at 0x7f0c8d6407f0>"
      ]
     },
     "execution_count": 8,
     "metadata": {},
     "output_type": "execute_result"
    },
    {
     "data": {
      "image/png": "[encoded data removed]",
      "text/plain": [
       "<Figure size 432x288 with 1 Axes>"
      ]
     },
     "metadata": {},
     "output_type": "display_data"
    }
   ],
   "source": [
    "sns.barplot(x='Embarked',y='Survived',data=eda_data, ci=None)"
   ]
  },
  {
   "cell_type": "markdown",
   "metadata": {},
   "source": [
    "The port of embark may be helpful for predicting survival."
   ]
  },
  {
   "cell_type": "code",
   "execution_count": 9,
   "metadata": {
    "scrolled": false
   },
   "outputs": [
    {
     "data": {
      "text/html": [
       "<div>\n",
       "<style scoped>\n",
       "    .dataframe tbody tr th:only-of-type {\n",
       "        vertical-align: middle;\n",
       "    }\n",
       "\n",
       "    .dataframe tbody tr th {\n",
       "        vertical-align: top;\n",
       "    }\n",
       "\n",
       "    .dataframe thead th {\n",
       "        text-align: right;\n",
       "    }\n",
       "</style>\n",
       "<table border=\"1\" class=\"dataframe\">\n",
       "  <thead>\n",
       "    <tr style=\"text-align: right;\">\n",
       "      <th></th>\n",
       "      <th>gender_female</th>\n",
       "      <th>gender_male</th>\n",
       "    </tr>\n",
       "  </thead>\n",
       "  <tbody>\n",
       "    <tr>\n",
       "      <th>0</th>\n",
       "      <td>0</td>\n",
       "      <td>1</td>\n",
       "    </tr>\n",
       "    <tr>\n",
       "      <th>1</th>\n",
       "      <td>1</td>\n",
       "      <td>0</td>\n",
       "    </tr>\n",
       "    <tr>\n",
       "      <th>2</th>\n",
       "      <td>1</td>\n",
       "      <td>0</td>\n",
       "    </tr>\n",
       "  </tbody>\n",
       "</table>\n",
       "</div>"
      ],
      "text/plain": [
       "   gender_female  gender_male\n",
       "0              0            1\n",
       "1              1            0\n",
       "2              1            0"
      ]
     },
     "execution_count": 9,
     "metadata": {},
     "output_type": "execute_result"
    }
   ],
   "source": [
    "# one hot encode sex\n",
    "gender = pd.get_dummies(X['Sex'], prefix='gender')\n",
    "gender.head(3)"
   ]
  },
  {
   "cell_type": "markdown",
   "metadata": {},
   "source": [
    "Some models, such as linear regression and logistic regression, may not perform well if one variable is a near perfect linear combination of the other variables.  This is called colinearity.\n",
    "\n",
    "gender_female and gender_male are perfectly correlated.  When one is 1 the other is 0.  One of these dummy variables should be dropped."
   ]
  },
  {
   "cell_type": "code",
   "execution_count": 10,
   "metadata": {},
   "outputs": [
    {
     "data": {
      "text/html": [
       "<div>\n",
       "<style scoped>\n",
       "    .dataframe tbody tr th:only-of-type {\n",
       "        vertical-align: middle;\n",
       "    }\n",
       "\n",
       "    .dataframe tbody tr th {\n",
       "        vertical-align: top;\n",
       "    }\n",
       "\n",
       "    .dataframe thead th {\n",
       "        text-align: right;\n",
       "    }\n",
       "</style>\n",
       "<table border=\"1\" class=\"dataframe\">\n",
       "  <thead>\n",
       "    <tr style=\"text-align: right;\">\n",
       "      <th></th>\n",
       "      <th>gender_male</th>\n",
       "    </tr>\n",
       "  </thead>\n",
       "  <tbody>\n",
       "    <tr>\n",
       "      <th>0</th>\n",
       "      <td>1</td>\n",
       "    </tr>\n",
       "    <tr>\n",
       "      <th>1</th>\n",
       "      <td>0</td>\n",
       "    </tr>\n",
       "    <tr>\n",
       "      <th>2</th>\n",
       "      <td>0</td>\n",
       "    </tr>\n",
       "  </tbody>\n",
       "</table>\n",
       "</div>"
      ],
      "text/plain": [
       "   gender_male\n",
       "0            1\n",
       "1            0\n",
       "2            0"
      ]
     },
     "execution_count": 10,
     "metadata": {},
     "output_type": "execute_result"
    }
   ],
   "source": [
    "# to avoid colinearity, drop the first dummy variable\n",
    "gender = pd.get_dummies(X['Sex'], prefix='gender', drop_first=True)\n",
    "gender.head(3)"
   ]
  },
  {
   "cell_type": "code",
   "execution_count": 11,
   "metadata": {
    "scrolled": true
   },
   "outputs": [
    {
     "data": {
      "text/html": [
       "<div>\n",
       "<style scoped>\n",
       "    .dataframe tbody tr th:only-of-type {\n",
       "        vertical-align: middle;\n",
       "    }\n",
       "\n",
       "    .dataframe tbody tr th {\n",
       "        vertical-align: top;\n",
       "    }\n",
       "\n",
       "    .dataframe thead th {\n",
       "        text-align: right;\n",
       "    }\n",
       "</style>\n",
       "<table border=\"1\" class=\"dataframe\">\n",
       "  <thead>\n",
       "    <tr style=\"text-align: right;\">\n",
       "      <th></th>\n",
       "      <th>port_Q</th>\n",
       "      <th>port_S</th>\n",
       "    </tr>\n",
       "  </thead>\n",
       "  <tbody>\n",
       "    <tr>\n",
       "      <th>0</th>\n",
       "      <td>0</td>\n",
       "      <td>1</td>\n",
       "    </tr>\n",
       "    <tr>\n",
       "      <th>1</th>\n",
       "      <td>0</td>\n",
       "      <td>0</td>\n",
       "    </tr>\n",
       "    <tr>\n",
       "      <th>2</th>\n",
       "      <td>0</td>\n",
       "      <td>1</td>\n",
       "    </tr>\n",
       "  </tbody>\n",
       "</table>\n",
       "</div>"
      ],
      "text/plain": [
       "   port_Q  port_S\n",
       "0       0       1\n",
       "1       0       0\n",
       "2       0       1"
      ]
     },
     "execution_count": 11,
     "metadata": {},
     "output_type": "execute_result"
    }
   ],
   "source": [
    "# Same as above for embarked\n",
    "port = pd.get_dummies(X['Embarked'], prefix='port',drop_first=True)\n",
    "port.head(3)"
   ]
  },
  {
   "cell_type": "code",
   "execution_count": 12,
   "metadata": {},
   "outputs": [
    {
     "data": {
      "text/html": [
       "<div>\n",
       "<style scoped>\n",
       "    .dataframe tbody tr th:only-of-type {\n",
       "        vertical-align: middle;\n",
       "    }\n",
       "\n",
       "    .dataframe tbody tr th {\n",
       "        vertical-align: top;\n",
       "    }\n",
       "\n",
       "    .dataframe thead th {\n",
       "        text-align: right;\n",
       "    }\n",
       "</style>\n",
       "<table border=\"1\" class=\"dataframe\">\n",
       "  <thead>\n",
       "    <tr style=\"text-align: right;\">\n",
       "      <th></th>\n",
       "      <th>Pclass</th>\n",
       "      <th>Sex</th>\n",
       "      <th>Age</th>\n",
       "      <th>SibSp</th>\n",
       "      <th>Parch</th>\n",
       "      <th>Fare</th>\n",
       "      <th>Embarked</th>\n",
       "      <th>gender_male</th>\n",
       "      <th>port_Q</th>\n",
       "      <th>port_S</th>\n",
       "    </tr>\n",
       "  </thead>\n",
       "  <tbody>\n",
       "    <tr>\n",
       "      <th>0</th>\n",
       "      <td>3</td>\n",
       "      <td>male</td>\n",
       "      <td>22.0</td>\n",
       "      <td>1</td>\n",
       "      <td>0</td>\n",
       "      <td>7.2500</td>\n",
       "      <td>S</td>\n",
       "      <td>1</td>\n",
       "      <td>0</td>\n",
       "      <td>1</td>\n",
       "    </tr>\n",
       "    <tr>\n",
       "      <th>1</th>\n",
       "      <td>1</td>\n",
       "      <td>female</td>\n",
       "      <td>38.0</td>\n",
       "      <td>1</td>\n",
       "      <td>0</td>\n",
       "      <td>71.2833</td>\n",
       "      <td>C</td>\n",
       "      <td>0</td>\n",
       "      <td>0</td>\n",
       "      <td>0</td>\n",
       "    </tr>\n",
       "    <tr>\n",
       "      <th>2</th>\n",
       "      <td>3</td>\n",
       "      <td>female</td>\n",
       "      <td>26.0</td>\n",
       "      <td>0</td>\n",
       "      <td>0</td>\n",
       "      <td>7.9250</td>\n",
       "      <td>S</td>\n",
       "      <td>0</td>\n",
       "      <td>0</td>\n",
       "      <td>1</td>\n",
       "    </tr>\n",
       "  </tbody>\n",
       "</table>\n",
       "</div>"
      ],
      "text/plain": [
       "   Pclass     Sex   Age  SibSp  Parch     Fare Embarked  gender_male  port_Q  \\\n",
       "0       3    male  22.0      1      0   7.2500        S            1       0   \n",
       "1       1  female  38.0      1      0  71.2833        C            0       0   \n",
       "2       3  female  26.0      0      0   7.9250        S            0       0   \n",
       "\n",
       "   port_S  \n",
       "0       1  \n",
       "1       0  \n",
       "2       1  "
      ]
     },
     "execution_count": 12,
     "metadata": {},
     "output_type": "execute_result"
    }
   ],
   "source": [
    "X = pd.concat([X, gender, port], axis=1)\n",
    "X.head(3)"
   ]
  },
  {
   "cell_type": "markdown",
   "metadata": {},
   "source": [
    "Now that the categorical fields have been encoded as numbers, they can be removed from the model (as most models cannot handle categorical data directly).\n",
    "\n",
    "However our custom transform class needs the Sex variable to impute age.  That class will remove Sex for use as the last step of the transform."
   ]
  },
  {
   "cell_type": "code",
   "execution_count": 13,
   "metadata": {},
   "outputs": [
    {
     "name": "stdout",
     "output_type": "stream",
     "text": [
      "<class 'pandas.core.frame.DataFrame'>\n",
      "Int64Index: 889 entries, 0 to 890\n",
      "Data columns (total 9 columns):\n",
      "Pclass         889 non-null int64\n",
      "Sex            889 non-null object\n",
      "Age            712 non-null float64\n",
      "SibSp          889 non-null int64\n",
      "Parch          889 non-null int64\n",
      "Fare           889 non-null float64\n",
      "gender_male    889 non-null uint8\n",
      "port_Q         889 non-null uint8\n",
      "port_S         889 non-null uint8\n",
      "dtypes: float64(2), int64(3), object(1), uint8(3)\n",
      "memory usage: 51.2+ KB\n"
     ]
    }
   ],
   "source": [
    "X.drop(['Embarked'], axis=1,inplace=True)\n",
    "X.info()"
   ]
  },
  {
   "cell_type": "markdown",
   "metadata": {},
   "source": [
    "### Model Building"
   ]
  },
  {
   "cell_type": "code",
   "execution_count": 14,
   "metadata": {},
   "outputs": [],
   "source": [
    "# Custom Transform Class for Imputation\n",
    "# Copied as-is from previous iteration\n",
    "# Note: requires 'Sex' to be available for fit(),\n",
    "# but discards 'Sex' as last step of transform()\n",
    "from sklearn.base import TransformerMixin\n",
    "class MyTransformer(TransformerMixin): \n",
    "    '''Class with fit() and transform() methods'''\n",
    "\n",
    "    def fit(self, X, y):\n",
    "        '''\n",
    "        fit() will compute and save the mean age per (pclass, sex)\n",
    "        on the training data\n",
    "        '''\n",
    "        self.mean_age_by_pclass_sex = X.groupby(['Pclass', 'Sex'])['Age'].mean()\n",
    "        \n",
    "        # return an instance of MyTransformer\n",
    "        return self\n",
    "    \n",
    "    def transform(self, X):\n",
    "        '''\n",
    "        transform() is applied to both train and test data\n",
    "        \n",
    "        It will replace missing age values by looking up the\n",
    "        mean age per (pclass,sex)\n",
    "        '''\n",
    "        \n",
    "        # index into multi-indexed Pandas Series using 2-part key\n",
    "        # Pandas does not allow indexing by DataFrame, so create list of tuples\n",
    "        # each tuple is (pclass, sex)\n",
    "        missing_age_idx = X['Age'].isnull()\n",
    "        df = X.loc[missing_age_idx, ['Pclass', 'Sex']]\n",
    "        index_tuples = list(df.itertuples(index=False, name=None))\n",
    "        \n",
    "        # lookup mean age in DataFrameGroupBy using list of tuples of (pclass, sex)\n",
    "        imputed_age_values = self.mean_age_by_pclass_sex.loc[index_tuples].values\n",
    "        \n",
    "        # replace the missing values with the imputed age values\n",
    "        X = X.copy()\n",
    "        X.loc[missing_age_idx, 'Age'] = imputed_age_values\n",
    "\n",
    "        # drop the sex column as logicstic regression only works with numerics\n",
    "        # (later we will encode it and use it)\n",
    "        return X.drop('Sex', axis=1)"
   ]
  },
  {
   "cell_type": "code",
   "execution_count": 15,
   "metadata": {},
   "outputs": [
    {
     "name": "stdout",
     "output_type": "stream",
     "text": [
      "[0.809 0.753 0.775 0.854 0.854 0.798 0.775 0.787 0.798 0.795]\n",
      "0.8\n"
     ]
    }
   ],
   "source": [
    "# imports\n",
    "from sklearn.model_selection import cross_val_score, KFold, StratifiedKFold\n",
    "from sklearn.linear_model import LogisticRegression\n",
    "from sklearn.metrics import accuracy_score\n",
    "from sklearn.pipeline import make_pipeline\n",
    "\n",
    "k_folds = 10\n",
    "random_seed=5\n",
    "crossvalidation = StratifiedKFold(n_splits=k_folds, shuffle=True, \n",
    "                        random_state=random_seed)\n",
    "\n",
    "my_transformer = MyTransformer()\n",
    "\n",
    "classifier = make_pipeline(my_transformer, LogisticRegression())\n",
    "\n",
    "scores = cross_val_score(classifier, X, y, cv=crossvalidation, \n",
    "                         scoring='accuracy', n_jobs=1)\n",
    "\n",
    "# save scores for comparison with another iteration\n",
    "np.save(\"./data/iter04.data\", scores)\n",
    "\n",
    "print(np.round(scores,3))\n",
    "print(round(np.mean(scores),3))"
   ]
  },
  {
   "cell_type": "markdown",
   "metadata": {},
   "source": [
    "### Compare Model with Previous Iteration"
   ]
  },
  {
   "cell_type": "code",
   "execution_count": 16,
   "metadata": {},
   "outputs": [
    {
     "data": {
      "image/png": "[encoded data removed]",
      "text/plain": [
       "<Figure size 432x288 with 1 Axes>"
      ]
     },
     "metadata": {},
     "output_type": "display_data"
    }
   ],
   "source": [
    "# Read in scores from 3rd iteration\n",
    "third_iter_scores = np.load('./data/iter03.data.npy')\n",
    "\n",
    "df = pd.DataFrame(data=list(zip(scores, third_iter_scores)),\n",
    "                  columns=['scores','third_iter_scores'])\n",
    "sns.boxplot(data=df)\n",
    "plt.savefig(fname='4_vs_3.png', dpi=120)"
   ]
  },
  {
   "cell_type": "code",
   "execution_count": 17,
   "metadata": {},
   "outputs": [
    {
     "name": "stdout",
     "output_type": "stream",
     "text": [
      "[0.034 0.042 0.057 0.067 0.079 0.09  0.112 0.12  0.146 0.157]\n"
     ]
    }
   ],
   "source": [
    "# the scores in the ordered list correspond with each other as they were\n",
    "# perform on the same train/test split\n",
    "diff_scores = scores - third_iter_scores\n",
    "print(np.round(sorted(diff_scores),3))"
   ]
  },
  {
   "cell_type": "code",
   "execution_count": 18,
   "metadata": {},
   "outputs": [
    {
     "data": {
      "text/plain": [
       "<matplotlib.lines.Line2D at 0x7f0c8a84cef0>"
      ]
     },
     "execution_count": 18,
     "metadata": {},
     "output_type": "execute_result"
    },
    {
     "data": {
      "image/png": "[encoded data removed]",
      "text/plain": [
       "<Figure size 432x288 with 1 Axes>"
      ]
     },
     "metadata": {},
     "output_type": "display_data"
    }
   ],
   "source": [
    "# boxplot the differences and highlight x-axis\n",
    "sns.boxplot(y=diff_scores)\n",
    "plt.axhline(0, color='blue')"
   ]
  },
  {
   "cell_type": "code",
   "execution_count": 19,
   "metadata": {},
   "outputs": [
    {
     "name": "stdout",
     "output_type": "stream",
     "text": [
      "New Model wins:  10\n",
      "New Model ties:  0\n",
      "New Model loses: 0\n"
     ]
    }
   ],
   "source": [
    "# How many times is the new model better?\n",
    "print(f'New Model wins:  {(diff_scores > 0).sum()}')\n",
    "print(f'New Model ties:  {(diff_scores == 0).sum()}')\n",
    "print(f'New Model loses: {(diff_scores < 0).sum()}')"
   ]
  },
  {
   "cell_type": "markdown",
   "metadata": {},
   "source": [
    "The above shows that the new model is very much better.  Sex and Embarked provided information that the LogisticRegression model could use to make better predictions."
   ]
  },
  {
   "cell_type": "markdown",
   "metadata": {},
   "source": [
    "### Model Summary\n",
    "Model Building Steps Only"
   ]
  },
  {
   "cell_type": "code",
   "execution_count": 20,
   "metadata": {},
   "outputs": [
    {
     "name": "stdout",
     "output_type": "stream",
     "text": [
      "[0.809 0.753 0.775 0.854 0.854 0.798 0.775 0.787 0.798 0.795]\n",
      "0.8\n"
     ]
    }
   ],
   "source": [
    "# read in all the labeled data\n",
    "all_data = pd.read_csv('./data/train.csv')\n",
    "\n",
    "# break up the dataframe into X and y\n",
    "X = all_data.drop('Survived', axis=1)\n",
    "y = all_data['Survived']\n",
    "\n",
    "# drop string columns with too many values or too many nulls\n",
    "drop_cols = ['PassengerId', 'Name', 'Ticket', 'Cabin']\n",
    "X = X.drop(drop_cols, axis=1)\n",
    "\n",
    "# drop rows with Embarked null\n",
    "rows_to_keep = X['Embarked'].notnull()\n",
    "X = X[rows_to_keep]\n",
    "y = y[rows_to_keep]\n",
    "\n",
    "# one-hot encode Sex and Embarked\n",
    "gender = pd.get_dummies(X['Sex'], drop_first=True, prefix='gender')\n",
    "port = pd.get_dummies(X['Embarked'], drop_first=True, prefix='port')\n",
    "X = pd.concat([X, gender, port], axis=1)\n",
    "\n",
    "# remove it as it was one-hot encoded\n",
    "# but keep 'Sex' as it is needed by the custom transform\n",
    "X.drop(['Embarked'], axis=1, inplace=True)\n",
    "\n",
    "k_folds = 10\n",
    "random_seed=5\n",
    "crossvalidation = StratifiedKFold(n_splits=k_folds, shuffle=True, \n",
    "                        random_state=random_seed)\n",
    "\n",
    "my_transformer = MyTransformer()\n",
    "\n",
    "classifier = make_pipeline(my_transformer, LogisticRegression())\n",
    "\n",
    "scores = cross_val_score(classifier, X, y, cv=crossvalidation, \n",
    "                         scoring='accuracy', n_jobs=1)\n",
    "\n",
    "# save scores for comparison with another iteration\n",
    "np.save(\"./data/iter04.data\", scores)\n",
    "\n",
    "print(np.round(scores,3))\n",
    "print(round(np.mean(scores),3))"
   ]
  },
  {
   "cell_type": "code",
   "execution_count": 21,
   "metadata": {},
   "outputs": [
    {
     "name": "stdout",
     "output_type": "stream",
     "text": [
      "Previous Cross Validated Accuracy: 0.709\n"
     ]
    }
   ],
   "source": [
    "# previous model\n",
    "print(f'Previous Cross Validated Accuracy: {third_iter_scores.mean() :.3f}')"
   ]
  },
  {
   "cell_type": "markdown",
   "metadata": {},
   "source": [
    "### Notebook Summary\n",
    "\n",
    "The LogisticRegression model was able to make use of information represented in the Sex and Embarked variables, when these variables were encoded as numbers using one-hot enocoding, and included in the model.\n",
    "\n",
    "In this iteration we:\n",
    "* Demonstrated one hot encoding for Sex and Embarked\n",
    "* Measured the new model's accuracy and found it was much better (80.0% vs 70.9%)."
   ]
  }
 ],
 "metadata": {
  "kernelspec": {
   "display_name": "Python 3",
   "language": "python",
   "name": "python3"
  },
  "language_info": {
   "codemirror_mode": {
    "name": "ipython",
    "version": 3
   },
   "file_extension": ".py",
   "mimetype": "text/x-python",
   "name": "python",
   "nbconvert_exporter": "python",
   "pygments_lexer": "ipython3",
   "version": "3.6.5"
  },
  "varInspector": {
   "cols": {
    "lenName": 16,
    "lenType": 16,
    "lenVar": 40
   },
   "kernels_config": {
    "python": {
     "delete_cmd_postfix": "",
     "delete_cmd_prefix": "del ",
     "library": "var_list.py",
     "varRefreshCmd": "print(var_dic_list())"
    },
    "r": {
     "delete_cmd_postfix": ") ",
     "delete_cmd_prefix": "rm(",
     "library": "var_list.r",
     "varRefreshCmd": "cat(var_dic_list()) "
    }
   },
   "position": {
    "height": "356px",
    "left": "51px",
    "right": "20px",
    "top": "142px",
    "width": "714px"
   },
   "types_to_exclude": [
    "module",
    "function",
    "builtin_function_or_method",
    "instance",
    "_Feature"
   ],
   "window_display": true
  }
 },
 "nbformat": 4,
 "nbformat_minor": 2
}
