{
 "cells": [
  {
   "cell_type": "markdown",
   "metadata": {
    "toc-hr-collapsed": false
   },
   "source": [
    "# Model Building: Iteration 2 <br/>*Using Pipelines*"
   ]
  },
  {
   "cell_type": "markdown",
   "metadata": {},
   "source": [
    "### Goals\n",
    "1. Add numerical variables: Age, Fare, SibSp, and Parch\n",
    "2. Use pipes to:\n",
    "   * standardize all variables  \n",
    "   * impute missing values for Age\n",
    "   * try new IterativeImputer for Age\n",
    "3. Compare this model with the first iteration\n",
    "\n",
    "This notebook demonstrates the use of a Pipeline which is applied to all variables.\n",
    "\n",
    "IterativeImputer is new to Scikit Learn v0.21 and is currently considered \"experimental\"."
   ]
  },
  {
   "cell_type": "markdown",
   "metadata": {},
   "source": [
    "### Common Imports and Notebook Setup"
   ]
  },
  {
   "cell_type": "code",
   "execution_count": 1,
   "metadata": {},
   "outputs": [],
   "source": [
    "import numpy as np\n",
    "import pandas as pd\n",
    "import matplotlib.pyplot as plt\n",
    "import seaborn as sns\n",
    "import sklearn as sk\n",
    "%matplotlib inline\n",
    "sns.set() # enable seaborn style\n",
    "\n",
    "import titanic_helper_code as tt"
   ]
  },
  {
   "cell_type": "code",
   "execution_count": 2,
   "metadata": {},
   "outputs": [
    {
     "name": "stdout",
     "output_type": "stream",
     "text": [
      "python:      3.7.5 (default, Oct 25 2019, 15:51:11) \n",
      "[GCC 7.3.0]\n",
      "numpy:       1.17.4\n",
      "pandas:      0.25.3\n",
      "matplotlib:  3.1.3\n",
      "seaborn:     0.9.0\n",
      "sklearn:     0.22\n",
      "Description:\tUbuntu 18.04.4 LTS\r\n"
     ]
    }
   ],
   "source": [
    "# Version Information\n",
    "import sys\n",
    "print('python:     ', sys.version)\n",
    "print('numpy:      ', np.__version__)\n",
    "print('pandas:     ', pd.__version__)\n",
    "import matplotlib\n",
    "print('matplotlib: ', matplotlib.__version__)\n",
    "print('seaborn:    ', sns.__version__)\n",
    "print('sklearn:    ', sk.__version__)\n",
    "!lsb_release -d"
   ]
  },
  {
   "cell_type": "code",
   "execution_count": 3,
   "metadata": {},
   "outputs": [],
   "source": [
    "from sklearn.linear_model import LogisticRegression, BayesianRidge\n",
    "from sklearn.metrics import accuracy_score\n",
    "from sklearn.model_selection import cross_val_score, RepeatedStratifiedKFold\n",
    "from sklearn.preprocessing import StandardScaler\n",
    "from sklearn.pipeline import Pipeline, make_pipeline\n",
    "from sklearn.impute import SimpleImputer"
   ]
  },
  {
   "cell_type": "markdown",
   "metadata": {},
   "source": [
    "### Previous Model Building Iteration\n",
    "Same as get_Xy_v1 *except*:\n",
    "* don't drop: Age, Fare, SibSp, and Parch"
   ]
  },
  {
   "cell_type": "code",
   "execution_count": 4,
   "metadata": {},
   "outputs": [],
   "source": [
    "# Copied from titanic_helper_code.py\n",
    "def get_Xy_v2(filename='./data/train.csv'):\n",
    "    \"\"\"Data Encoding\n",
    "\n",
    "    Version 2\n",
    "    * Pclass and Sex encoded as 1/0\n",
    "    * Age, Fare, SibSp, Parch\n",
    "    \"\"\"\n",
    "\n",
    "    # read data\n",
    "    all_data = pd.read_csv(filename)\n",
    "    X = all_data.drop('Survived', axis=1)\n",
    "    y = all_data['Survived']\n",
    "    \n",
    "    # encode data\n",
    "    X['Sex'] = X['Sex'].replace({'female':1, 'male':0})     \n",
    "    \n",
    "    # drop unused columns\n",
    "    drop_columns = ['PassengerId', 'Name',\n",
    "                    'Ticket', 'Cabin', 'Embarked']\n",
    "    X = X.drop(drop_columns, axis=1)\n",
    "    \n",
    "    return X, y"
   ]
  },
  {
   "cell_type": "code",
   "execution_count": 5,
   "metadata": {},
   "outputs": [
    {
     "data": {
      "text/plain": [
       "Pclass      int64\n",
       "Sex         int64\n",
       "Age       float64\n",
       "SibSp       int64\n",
       "Parch       int64\n",
       "Fare      float64\n",
       "dtype: object"
      ]
     },
     "execution_count": 5,
     "metadata": {},
     "output_type": "execute_result"
    }
   ],
   "source": [
    "X, y = tt.get_Xy_v2()\n",
    "X.dtypes"
   ]
  },
  {
   "cell_type": "markdown",
   "metadata": {},
   "source": [
    "### Transformers\n",
    "In Scikit Learn, a Transformer object is used to transform the values of a variable.  For example, the Standardize Transformer will compute the mean and standard deviation of a variable's values, and then subtract off the mean and divide by the standard deviation.\n",
    "\n",
    "Standardize accomplishes this in two steps:\n",
    "* fit() -- which computes the mean and standard deviation\n",
    "* transform() -- which uses the already computed mean and standard deviation to transform the data\n",
    "\n",
    "A Transformer also has a convenience method:\n",
    "* fit_transform() -- which calls fit() followed by transform()"
   ]
  },
  {
   "cell_type": "markdown",
   "metadata": {},
   "source": [
    "### Pipes\n",
    "A Pipeline is essentially a list of data Transformers that can be passed to cross_val_score, GridSearchCV and similar.\n",
    "\n",
    "For concreteness, Standardize will be used in this example, but all Transformers work similarly.\n",
    "\n",
    "Example of using Transformer with a train/test split:\n",
    "```python\n",
    "ss = StandardScaler()\n",
    "ss.fit_transform(X_train)\n",
    "ss.transform(X_test) # not fit_transform!\n",
    "```\n",
    "\n",
    "cross_val_score (and similar) create train/test splits internally. It is on these internal train/test splits that ss.fit_transform(X_train) and ss.transform(X_test) must be called.  This is accomplished by placing ss in a Pipeline and passing the pipe to cross_val_score which then invokes the Transformer on the train/test splits.\n",
    "\n",
    "As per the previous notebook, using ss.fit_transform() *on all the data*, and then calling cross_val_score, will result in data leakage. \"Data Leakage\" means that the test data was used in the model building process.  Data leakage can result in estimates of model performance that are too high."
   ]
  },
  {
   "cell_type": "markdown",
   "metadata": {},
   "source": [
    "### Create a Pipeline and use Cross Value Score\n",
    "In this example, the Pipeline is applied to all the variables.\n",
    "1. Standardize\n",
    "2. Impute: replace missing values with mean value\n",
    "3. Create a LogisticRegression model\n",
    "4. Estimate the model's performance on unseen data using cross validation\n",
    "\n",
    "Notes:  \n",
    "* Standardize ignores missing values\n",
    "* SimpleImputer does nothing if there are no missing values\n",
    "\n",
    "Using low K as per discussion about ranking models with cross validated scores: [RankingModels](https://nbviewer.jupyter.org/github/sdiehl28/tutorial-jupyter-notebooks/blob/master/projects/titanic/Titanic01.ipynb#ModelSelection)."
   ]
  },
  {
   "cell_type": "code",
   "execution_count": 6,
   "metadata": {},
   "outputs": [],
   "source": [
    "# CV for model comparison, not model evaluation\n",
    "cv_select = RepeatedStratifiedKFold(n_splits=2, n_repeats=10, random_state=108)"
   ]
  },
  {
   "cell_type": "code",
   "execution_count": 7,
   "metadata": {},
   "outputs": [
    {
     "name": "stdout",
     "output_type": "stream",
     "text": [
      "20 Scores  min:0.771 max:0.823\n",
      "CV Mean Score: 0.795 +/- 0.016\n"
     ]
    }
   ],
   "source": [
    "pipe = make_pipeline(StandardScaler(),\n",
    "                     SimpleImputer(strategy='mean'),\n",
    "                     LogisticRegression(penalty='l2', C=1.0, \n",
    "                                        solver='liblinear'))\n",
    "\n",
    "scores = cross_val_score(pipe, X, y, cv=cv_select, scoring='accuracy')\n",
    "tt.print_scores(scores)"
   ]
  },
  {
   "cell_type": "markdown",
   "metadata": {},
   "source": [
    "### Try Above with Scikit Learn's new IterativeImputer\n",
    "The [IterativeImputer](https://scikit-learn.org/dev/auto_examples/impute/plot_iterative_imputer_variants_comparison.html) is available as of Scikit Learn v0.21."
   ]
  },
  {
   "cell_type": "code",
   "execution_count": 8,
   "metadata": {},
   "outputs": [],
   "source": [
    "# explictly enable new iterative imputer\n",
    "from sklearn.experimental import enable_iterative_imputer\n",
    "from sklearn.impute import IterativeImputer\n",
    "\n",
    "# instantiate a regressor to be used for Age\n",
    "# so far, the only column being considered that has nulls, is Age\n",
    "bt = BayesianRidge()"
   ]
  },
  {
   "cell_type": "code",
   "execution_count": 9,
   "metadata": {},
   "outputs": [
    {
     "name": "stdout",
     "output_type": "stream",
     "text": [
      "20 Scores  min:0.769 max:0.838\n",
      "CV Mean Score: 0.806 +/- 0.018\n"
     ]
    }
   ],
   "source": [
    "# same as above, but with new imputer\n",
    "pipe = make_pipeline(StandardScaler(),\n",
    "                     IterativeImputer(random_state=0, estimator=bt),\n",
    "                     LogisticRegression(penalty='l2', C=1.0, \n",
    "                                        solver='liblinear'))\n",
    "\n",
    "scores = cross_val_score(pipe, X, y, cv=cv_select, scoring='accuracy')\n",
    "tt.print_scores(scores)"
   ]
  },
  {
   "cell_type": "markdown",
   "metadata": {},
   "source": [
    "With the use of SimpleImputer, the score was 0.795 +/- 0.012.  \n",
    "With the use of IterativeImputer, the score was 0.806 +/- 0.014.\n",
    "\n",
    "The score with IterativeImputer is just within the confidence interval of the score with SimpleImputer, so IterativeImputer is not definitely helping here, but it may be.  When additional features are added in later iterations, IterativeImputer may help more."
   ]
  },
  {
   "cell_type": "code",
   "execution_count": 10,
   "metadata": {},
   "outputs": [],
   "source": [
    "# save scores for comparison with next iteration\n",
    "np.save(\"./data/iter02.data\", scores)"
   ]
  },
  {
   "cell_type": "markdown",
   "metadata": {},
   "source": [
    "### Compare Model Performance with Previous Iteration"
   ]
  },
  {
   "cell_type": "code",
   "execution_count": 11,
   "metadata": {},
   "outputs": [
    {
     "data": {
      "image/png": "[encoded data removed]",
      "text/plain": [
       "<Figure size 432x288 with 1 Axes>"
      ]
     },
     "metadata": {},
     "output_type": "display_data"
    }
   ],
   "source": [
    "# Read in scores from 1st iteration\n",
    "first_iter_scores = np.load('./data/iter01.data.npy')\n",
    "\n",
    "df = pd.DataFrame(data=list(zip(scores, first_iter_scores)),\n",
    "                  columns=['scores','first_iter_scores'])\n",
    "\n",
    "plt.figure(figsize=(3,2), dpi=144)\n",
    "sns.boxplot(data=df);\n",
    "plt.savefig(fname='2_vs_1.png', dpi=120)"
   ]
  },
  {
   "cell_type": "markdown",
   "metadata": {},
   "source": [
    "The medians of one box do not overlap the colored part (IQR) of the other box.  This suggests that the difference in performance is not due to chance.\n",
    "\n",
    "Using a confidence interval of +/- 1 standard deviation is slightly different than using IQR, but it also suggests the difference in performance is not due to chance.\n",
    "\n",
    "As the initial model considered from EDA is not yet fully developed, it is too soon to reject adding new features that do not provide a performance increase.  After the initial set of features has been added, then the features can be revisited to see if some can be removed, or new ones added."
   ]
  },
  {
   "cell_type": "markdown",
   "metadata": {
    "toc-hr-collapsed": false
   },
   "source": [
    "## Model Summary\n",
    "Model building steps only."
   ]
  },
  {
   "cell_type": "code",
   "execution_count": 12,
   "metadata": {},
   "outputs": [
    {
     "name": "stdout",
     "output_type": "stream",
     "text": [
      "20 Scores  min:0.769 max:0.838\n",
      "CV Mean Score: 0.806 +/- 0.018\n"
     ]
    }
   ],
   "source": [
    "cv_select = RepeatedStratifiedKFold(n_splits=2, n_repeats=10, \n",
    "                                    random_state=108)\n",
    "\n",
    "X, y = tt.get_Xy_v2()\n",
    "pipe = make_pipeline(StandardScaler(),\n",
    "                     IterativeImputer(random_state=0, estimator=bt),\n",
    "                     LogisticRegression(penalty='l2', C=1.0, \n",
    "                                        solver='liblinear'))\n",
    "\n",
    "scores = cross_val_score(pipe, X, y, cv=cv_select, scoring='accuracy')\n",
    "tt.print_scores(scores)"
   ]
  },
  {
   "cell_type": "code",
   "execution_count": 13,
   "metadata": {},
   "outputs": [
    {
     "name": "stdout",
     "output_type": "stream",
     "text": [
      "Previous Cross Validated Accuracy: 0.787\n"
     ]
    }
   ],
   "source": [
    "# previous model\n",
    "print(f'Previous Cross Validated Accuracy: {first_iter_scores.mean() :.3f}')"
   ]
  },
  {
   "cell_type": "markdown",
   "metadata": {
    "toc-hr-collapsed": true
   },
   "source": [
    "## Notebook Summary\n",
    "In this iteration:\n",
    "* Age, Fare, SibSp and Parch were added to the model\n",
    "* All variables were standardized and imputed\n",
    "  * although only Age had missing values that needed imputation\n",
    "  * the new IterativeImputer worked well for Age\n",
    "\n",
    "The model's accuracy improved from 78.7% (in iteration 1) to 80.6%."
   ]
  }
 ],
 "metadata": {
  "kernelspec": {
   "display_name": "Python 3",
   "language": "python",
   "name": "python3"
  },
  "language_info": {
   "codemirror_mode": {
    "name": "ipython",
    "version": 3
   },
   "file_extension": ".py",
   "mimetype": "text/x-python",
   "name": "python",
   "nbconvert_exporter": "python",
   "pygments_lexer": "ipython3",
   "version": "3.7.5"
  },
  "varInspector": {
   "cols": {
    "lenName": 16,
    "lenType": 16,
    "lenVar": 40
   },
   "kernels_config": {
    "python": {
     "delete_cmd_postfix": "",
     "delete_cmd_prefix": "del ",
     "library": "var_list.py",
     "varRefreshCmd": "print(var_dic_list())"
    },
    "r": {
     "delete_cmd_postfix": ") ",
     "delete_cmd_prefix": "rm(",
     "library": "var_list.r",
     "varRefreshCmd": "cat(var_dic_list()) "
    }
   },
   "position": {
    "height": "356px",
    "left": "51px",
    "right": "20px",
    "top": "142px",
    "width": "714px"
   },
   "types_to_exclude": [
    "module",
    "function",
    "builtin_function_or_method",
    "instance",
    "_Feature"
   ],
   "window_display": true
  }
 },
 "nbformat": 4,
 "nbformat_minor": 2
}
