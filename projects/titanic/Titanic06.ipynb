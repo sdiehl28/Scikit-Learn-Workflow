{
 "cells": [
  {
   "cell_type": "code",
   "execution_count": 1,
   "metadata": {},
   "outputs": [],
   "source": [
    "import numpy as np\n",
    "import pandas as pd\n",
    "import matplotlib.pyplot as plt\n",
    "import seaborn as sns\n",
    "import sklearn as sk\n",
    "%matplotlib inline\n",
    "sns.set() # enable seaborn style"
   ]
  },
  {
   "cell_type": "code",
   "execution_count": 2,
   "metadata": {},
   "outputs": [],
   "source": [
    "from sklearn.model_selection import cross_val_score, StratifiedKFold\n",
    "import xgboost as xgb\n",
    "from sklearn.linear_model import LogisticRegression\n",
    "from sklearn.pipeline import make_pipeline\n",
    "from sklearn.preprocessing import StandardScaler"
   ]
  },
  {
   "cell_type": "code",
   "execution_count": 3,
   "metadata": {},
   "outputs": [],
   "source": [
    "# Custom Transform Class for Imputation\n",
    "from sklearn.base import TransformerMixin\n",
    "class MyTransformer(TransformerMixin): \n",
    "    '''Class with fit() and transform() methods'''\n",
    "\n",
    "    def fit(self, X, y):\n",
    "        '''\n",
    "        fit() will compute and save the mean age per (pclass, sex)\n",
    "        on the training data\n",
    "        '''\n",
    "        self.mean_age_by_pclass_sex = X.groupby(['Pclass', 'gender_male'])['Age'].mean()\n",
    "        \n",
    "        # return an instance of MyTransformer\n",
    "        return self\n",
    "    \n",
    "    def transform(self, X):\n",
    "        '''\n",
    "        transform() is applied to both train and test data\n",
    "        \n",
    "        It will replace missing age values by looking up the\n",
    "        mean age per (pclass,sex)\n",
    "        '''\n",
    "        \n",
    "        # index into multi-indexed Pandas Series using 2-part key\n",
    "        # Pandas does not allow indexing by DataFrame, so create list of tuples\n",
    "        # each tuple is (pclass, sex)\n",
    "        missing_age_idx = X['Age'].isnull()\n",
    "        df = X.loc[missing_age_idx, ['Pclass', 'gender_male']]\n",
    "        index_tuples = list(df.itertuples(index=False, name=None))\n",
    "        \n",
    "        # lookup mean age in DataFrameGroupBy using list of tuples of (pclass, sex)\n",
    "        imputed_age_values = self.mean_age_by_pclass_sex.loc[index_tuples].values\n",
    "        \n",
    "        # replace the missing values with the imputed age values\n",
    "        X = X.copy()\n",
    "        X.loc[missing_age_idx, 'Age'] = imputed_age_values\n",
    "\n",
    "        # drop the sex column as logicstic regression only works with numerics\n",
    "        # (later we will encode it and use it)\n",
    "        return X"
   ]
  },
  {
   "cell_type": "code",
   "execution_count": 4,
   "metadata": {},
   "outputs": [],
   "source": [
    "# read in all the labeled data\n",
    "all_data = pd.read_csv('./data/train.csv')\n",
    "\n",
    "# drop string columns with too many values or too many nulls\n",
    "drop_cols = ['PassengerId', 'Name', 'Ticket', 'Cabin']\n",
    "all_data = all_data.drop(drop_cols, axis=1)\n",
    "\n",
    "# drop rows with Embarked null\n",
    "rows_to_keep = all_data['Embarked'].notnull()\n",
    "all_data = all_data[rows_to_keep]\n",
    "\n",
    "# one-hot encode Sex and Embarked\n",
    "gender = pd.get_dummies(all_data['Sex'], drop_first=True, prefix='gender')\n",
    "port = pd.get_dummies(all_data['Embarked'], drop_first=True, prefix='port')\n",
    "all_data = pd.concat([all_data, gender, port], axis=1)\n",
    "\n",
    "# remove encoded variables\n",
    "all_data.drop(['Embarked', 'Sex'], axis=1, inplace=True)\n",
    "\n",
    "# feature extraction: sibsp == 0\n",
    "all_data['sibsp_zero'] = (all_data['SibSp'] == 0)\n",
    "\n",
    "# feature extraction: parch == 0\n",
    "all_data['parch_zero'] = (all_data['Parch'] == 0)\n",
    "\n",
    "# feature extraction: sibsp == 0 & parch == 0\n",
    "all_data['alone'] = (all_data['parch_zero'] & all_data['sibsp_zero'])\n",
    "\n",
    "# feature extraction: quantize fare\n",
    "def quantize_fare(fare):\n",
    "    if fare < 45:\n",
    "        return 0\n",
    "    elif fare < 80:\n",
    "        return 1\n",
    "    else:\n",
    "        return 2\n",
    "    \n",
    "all_data['fare_quantized'] = all_data['Fare'].apply(quantize_fare)\n",
    "all_data['sibsp_zero'] = all_data['sibsp_zero'].astype('int')\n",
    "all_data['parch_zero'] = all_data['parch_zero'].astype('int')\n",
    "all_data['alone'] = all_data['alone'].astype('int')\n",
    "\n",
    "# break up the dataframe into X and y\n",
    "X = all_data.drop('Survived', axis=1)\n",
    "y = all_data['Survived']\n",
    "\n",
    "k_folds = 10\n",
    "random_seed=5\n",
    "crossvalidation = StratifiedKFold(n_splits=k_folds, shuffle=True, \n",
    "                        random_state=random_seed)\n",
    "\n",
    "standard_scaler = StandardScaler()\n",
    "my_transformer = MyTransformer()"
   ]
  },
  {
   "cell_type": "code",
   "execution_count": 5,
   "metadata": {},
   "outputs": [
    {
     "data": {
      "text/plain": [
       "count    889.000000\n",
       "mean       0.382452\n",
       "std        0.486260\n",
       "min        0.000000\n",
       "25%        0.000000\n",
       "50%        0.000000\n",
       "75%        1.000000\n",
       "max        1.000000\n",
       "Name: Survived, dtype: float64"
      ]
     },
     "execution_count": 5,
     "metadata": {},
     "output_type": "execute_result"
    }
   ],
   "source": [
    "y.describe()"
   ]
  },
  {
   "cell_type": "code",
   "execution_count": 6,
   "metadata": {},
   "outputs": [
    {
     "name": "stdout",
     "output_type": "stream",
     "text": [
      "<class 'pandas.core.frame.DataFrame'>\n",
      "Int64Index: 889 entries, 0 to 890\n",
      "Data columns (total 12 columns):\n",
      "Pclass            889 non-null int64\n",
      "Age               712 non-null float64\n",
      "SibSp             889 non-null int64\n",
      "Parch             889 non-null int64\n",
      "Fare              889 non-null float64\n",
      "gender_male       889 non-null uint8\n",
      "port_Q            889 non-null uint8\n",
      "port_S            889 non-null uint8\n",
      "sibsp_zero        889 non-null int64\n",
      "parch_zero        889 non-null int64\n",
      "alone             889 non-null int64\n",
      "fare_quantized    889 non-null int64\n",
      "dtypes: float64(2), int64(7), uint8(3)\n",
      "memory usage: 72.1 KB\n"
     ]
    }
   ],
   "source": [
    "X.info()"
   ]
  },
  {
   "cell_type": "code",
   "execution_count": 22,
   "metadata": {},
   "outputs": [
    {
     "name": "stdout",
     "output_type": "stream",
     "text": [
      "[0.775 0.854 0.809 0.843 0.854 0.843 0.831 0.787 0.831 0.841]\n",
      "0.827\n"
     ]
    }
   ],
   "source": [
    "import warnings\n",
    "warnings.filterwarnings(\"ignore\", category=DeprecationWarning)\n",
    "\n",
    "xgb_clf = xgb.XGBClassifier(objective='binary:logistic', n_estimators=100, random_state=5)\n",
    "\n",
    "classifier = make_pipeline(my_transformer, xgb_clf)\n",
    "\n",
    "scores = cross_val_score(classifier, X, y, cv=crossvalidation, \n",
    "                         scoring='accuracy', n_jobs=7)\n",
    "\n",
    "print(np.round(scores,3))\n",
    "print(round(np.mean(scores),3))"
   ]
  },
  {
   "cell_type": "code",
   "execution_count": 29,
   "metadata": {},
   "outputs": [],
   "source": [
    "# alternative\n",
    "data = xgb.DMatrix(data=X, label=y)\n",
    "\n",
    "# Create the parameter dictionary: params\n",
    "params = {\"objective\":\"binary:logistic\", \"n_estimators\":100, \"random_state\":5}\n",
    "\n",
    "# Perform cross-validation: cv_results\n",
    "cv_results = xgb.cv(dtrain=data, params=params, nfold=10, num_boost_round=10, \n",
    "                    metrics=\"error\", as_pandas=True, seed=5)"
   ]
  },
  {
   "cell_type": "code",
   "execution_count": 30,
   "metadata": {},
   "outputs": [
    {
     "name": "stdout",
     "output_type": "stream",
     "text": [
      "   test-error-mean  test-error-std  train-error-mean  train-error-std\n",
      "0         0.191292        0.039013          0.138734         0.004732\n",
      "1         0.193539        0.048984          0.130860         0.005836\n",
      "2         0.198034        0.043321          0.125235         0.005260\n",
      "3         0.196935        0.044960          0.120736         0.006025\n",
      "4         0.195799        0.039147          0.118736         0.005803\n",
      "5         0.196935        0.046342          0.116737         0.005534\n",
      "6         0.187908        0.041162          0.115487         0.006174\n",
      "7         0.187908        0.037971          0.113862         0.005154\n",
      "8         0.185648        0.035909          0.112361         0.005490\n",
      "9         0.186772        0.035530          0.109612         0.005544\n"
     ]
    }
   ],
   "source": [
    "print(cv_results)"
   ]
  },
  {
   "cell_type": "code",
   "execution_count": null,
   "metadata": {},
   "outputs": [],
   "source": []
  }
 ],
 "metadata": {
  "kernelspec": {
   "display_name": "Python 3",
   "language": "python",
   "name": "python3"
  },
  "language_info": {
   "codemirror_mode": {
    "name": "ipython",
    "version": 3
   },
   "file_extension": ".py",
   "mimetype": "text/x-python",
   "name": "python",
   "nbconvert_exporter": "python",
   "pygments_lexer": "ipython3",
   "version": "3.6.5"
  }
 },
 "nbformat": 4,
 "nbformat_minor": 2
}
