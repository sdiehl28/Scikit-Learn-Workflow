{
 "cells": [
  {
   "cell_type": "markdown",
   "metadata": {
    "toc-hr-collapsed": false
   },
   "source": [
    "# Create Baseline model<br/>*Iteration 1*"
   ]
  },
  {
   "cell_type": "markdown",
   "metadata": {
    "toc-hr-collapsed": true
   },
   "source": [
    "## Goals\n",
    "* Create simple baseline model\n",
    "* Measure performance using cross validation\n",
    "* Compare baseline model with null model\n",
    "\n",
    "Some people use \"baseline model\" synonymously with \"null model\".\n",
    "\n",
    "Here, I refer to the null model as the simplest possible model, such as predicting the predominant target class value for classification or the average target value for regression.\n",
    "\n",
    "Here, I refer to the baseline model as any very simple model used as the first model in the iterative model development process.\n",
    "\n",
    "Note that all notebooks use Scikit Learn v0.21.  If you are using an earlier version of Scikit Learn, you may have to convert X to float.  Later versions of Scikit Learn allow X to be of any numeric type (float, int, boolean)."
   ]
  },
  {
   "cell_type": "markdown",
   "metadata": {},
   "source": [
    "### Iterative Model Development\n",
    "This series of notebooks is about iterative model development with Scikit Learn.\n",
    "\n",
    "Several notebooks will be created after this one.  Each iteratively improving:\n",
    "* the model's accuracy\n",
    "* the workflow used to create the model\n",
    "\n",
    "The workflow will be encapsulated primarily in two functions:\n",
    "1. get\\_Xy\\_<version\\>\n",
    "   * encodes the raw data into X and y\n",
    "2. get\\_ct\\_<version\\>\n",
    "   * gets ColumnTransformer to be applied to X\n",
    "   \n",
    "These functions are in a separate file, titanic_helper_code.py which is imported.  Upon first use, these functions are copied into the notebook to show the code."
   ]
  },
  {
   "cell_type": "code",
   "execution_count": 5,
   "metadata": {},
   "outputs": [
    {
     "name": "stdout",
     "output_type": "stream",
     "text": [
      "titanic_helper_code.py\n"
     ]
    }
   ],
   "source": [
    "# show titanic_helper_code.py is in current directory\n",
    "!ls titanic_helper_code.py"
   ]
  },
  {
   "cell_type": "markdown",
   "metadata": {},
   "source": [
    "<a name=\"outline\"></a>"
   ]
  },
  {
   "cell_type": "markdown",
   "metadata": {
    "toc-hr-collapsed": false
   },
   "source": [
    "## Outline\n",
    "1. [Acquire and Read Data](#readdata)\n",
    "2. [Identify Target and Feature Variables](#target)\n",
    "3. [First Iteration Assumptions](#assumptions)\n",
    "4. [Model Building](#model)\n",
    "5. [Model Evaluation: Cross Validation](#crossvalidation)\n",
    "6. [Cross Validation Details](#kfold)\n",
    "7. [Compare with Null Model](#modelcompare)\n",
    "8. [Model Summary](#modelsummary)\n",
    "9. [Notebook Summary](#summary)"
   ]
  },
  {
   "cell_type": "markdown",
   "metadata": {},
   "source": [
    "### Common Imports and Notebook Setup"
   ]
  },
  {
   "cell_type": "code",
   "execution_count": 1,
   "metadata": {},
   "outputs": [],
   "source": [
    "import numpy as np\n",
    "import pandas as pd\n",
    "import matplotlib.pyplot as plt\n",
    "import seaborn as sns\n",
    "import sklearn as sk\n",
    "%matplotlib inline\n",
    "sns.set() # enable seaborn style\n",
    "\n",
    "import titanic_helper_code as tt"
   ]
  },
  {
   "cell_type": "code",
   "execution_count": 2,
   "metadata": {},
   "outputs": [
    {
     "name": "stdout",
     "output_type": "stream",
     "text": [
      "python:      3.7.3 (default, Mar 27 2019, 22:11:17) \n",
      "[GCC 7.3.0]\n",
      "numpy:       1.16.4\n",
      "pandas:      0.24.2\n",
      "matplotlib:  3.1.0\n",
      "seaborn:     0.9.0\n",
      "sklearn:     0.21.2\n",
      "Description:\tUbuntu 18.04.2 LTS\n"
     ]
    }
   ],
   "source": [
    "# Version Information\n",
    "import sys\n",
    "print('python:     ', sys.version)\n",
    "print('numpy:      ', np.__version__)\n",
    "print('pandas:     ', pd.__version__)\n",
    "import matplotlib\n",
    "print('matplotlib: ', matplotlib.__version__)\n",
    "print('seaborn:    ', sns.__version__)\n",
    "print('sklearn:    ', sk.__version__)\n",
    "!lsb_release -d"
   ]
  },
  {
   "cell_type": "markdown",
   "metadata": {},
   "source": [
    "<a name=\"readdata\"></a>"
   ]
  },
  {
   "cell_type": "markdown",
   "metadata": {
    "toc-hr-collapsed": true
   },
   "source": [
    "### 1. Acquire and Read Data\n",
    "[Back to Outline](#outline)\n",
    "\n",
    "Download \"train.csv\" from: https://www.kaggle.com/c/titanic/data and place it in a data subdirectory.\n",
    "\n",
    "For this example of supervised learning, we will only consider labeled data. The labeled dataset is named \"train.csv\"."
   ]
  },
  {
   "cell_type": "code",
   "execution_count": 3,
   "metadata": {},
   "outputs": [
    {
     "data": {
      "text/html": [
       "<div>\n",
       "<style scoped>\n",
       "    .dataframe tbody tr th:only-of-type {\n",
       "        vertical-align: middle;\n",
       "    }\n",
       "\n",
       "    .dataframe tbody tr th {\n",
       "        vertical-align: top;\n",
       "    }\n",
       "\n",
       "    .dataframe thead th {\n",
       "        text-align: right;\n",
       "    }\n",
       "</style>\n",
       "<table border=\"1\" class=\"dataframe\">\n",
       "  <thead>\n",
       "    <tr style=\"text-align: right;\">\n",
       "      <th></th>\n",
       "      <th>PassengerId</th>\n",
       "      <th>Survived</th>\n",
       "      <th>Pclass</th>\n",
       "      <th>Name</th>\n",
       "      <th>Sex</th>\n",
       "      <th>Age</th>\n",
       "      <th>SibSp</th>\n",
       "      <th>Parch</th>\n",
       "      <th>Ticket</th>\n",
       "      <th>Fare</th>\n",
       "      <th>Cabin</th>\n",
       "      <th>Embarked</th>\n",
       "    </tr>\n",
       "  </thead>\n",
       "  <tbody>\n",
       "    <tr>\n",
       "      <th>0</th>\n",
       "      <td>1</td>\n",
       "      <td>0</td>\n",
       "      <td>3</td>\n",
       "      <td>Braund, Mr. Owen Harris</td>\n",
       "      <td>male</td>\n",
       "      <td>22.0</td>\n",
       "      <td>1</td>\n",
       "      <td>0</td>\n",
       "      <td>A/5 21171</td>\n",
       "      <td>7.2500</td>\n",
       "      <td>NaN</td>\n",
       "      <td>S</td>\n",
       "    </tr>\n",
       "    <tr>\n",
       "      <th>1</th>\n",
       "      <td>2</td>\n",
       "      <td>1</td>\n",
       "      <td>1</td>\n",
       "      <td>Cumings, Mrs. John Bradley (Florence Briggs Th...</td>\n",
       "      <td>female</td>\n",
       "      <td>38.0</td>\n",
       "      <td>1</td>\n",
       "      <td>0</td>\n",
       "      <td>PC 17599</td>\n",
       "      <td>71.2833</td>\n",
       "      <td>C85</td>\n",
       "      <td>C</td>\n",
       "    </tr>\n",
       "    <tr>\n",
       "      <th>2</th>\n",
       "      <td>3</td>\n",
       "      <td>1</td>\n",
       "      <td>3</td>\n",
       "      <td>Heikkinen, Miss. Laina</td>\n",
       "      <td>female</td>\n",
       "      <td>26.0</td>\n",
       "      <td>0</td>\n",
       "      <td>0</td>\n",
       "      <td>STON/O2. 3101282</td>\n",
       "      <td>7.9250</td>\n",
       "      <td>NaN</td>\n",
       "      <td>S</td>\n",
       "    </tr>\n",
       "  </tbody>\n",
       "</table>\n",
       "</div>"
      ],
      "text/plain": [
       "   PassengerId  Survived  Pclass  \\\n",
       "0            1         0       3   \n",
       "1            2         1       1   \n",
       "2            3         1       3   \n",
       "\n",
       "                                                Name     Sex   Age  SibSp  \\\n",
       "0                            Braund, Mr. Owen Harris    male  22.0      1   \n",
       "1  Cumings, Mrs. John Bradley (Florence Briggs Th...  female  38.0      1   \n",
       "2                             Heikkinen, Miss. Laina  female  26.0      0   \n",
       "\n",
       "   Parch            Ticket     Fare Cabin Embarked  \n",
       "0      0         A/5 21171   7.2500   NaN        S  \n",
       "1      0          PC 17599  71.2833   C85        C  \n",
       "2      0  STON/O2. 3101282   7.9250   NaN        S  "
      ]
     },
     "execution_count": 3,
     "metadata": {},
     "output_type": "execute_result"
    }
   ],
   "source": [
    "# read data\n",
    "all_data = pd.read_csv('./data/train.csv')\n",
    "all_data.head(3)"
   ]
  },
  {
   "cell_type": "markdown",
   "metadata": {},
   "source": [
    "<a name=\"target\"></a>"
   ]
  },
  {
   "cell_type": "markdown",
   "metadata": {
    "toc-hr-collapsed": true
   },
   "source": [
    "### 2. Identify Target and Feature Variables\n",
    "[Back to Outline](#outline)\n",
    "\n",
    "Create two variables in preparation for creating a predictive model.  \n",
    "\n",
    "X: A Pandas DataFrame that represents the features (aka attributes)  \n",
    "y: A Pandas Series that represents the target (aka response)  \n",
    "\n",
    "The target variable is Survived."
   ]
  },
  {
   "cell_type": "code",
   "execution_count": 4,
   "metadata": {},
   "outputs": [
    {
     "name": "stdout",
     "output_type": "stream",
     "text": [
      "X Shape:  (891, 11)\n",
      "y Shape:  (891,)\n",
      "X Type:  <class 'pandas.core.frame.DataFrame'>\n",
      "y Type:  <class 'pandas.core.series.Series'>\n"
     ]
    }
   ],
   "source": [
    "# X: drop target variable\n",
    "# y: keep only the target\n",
    "X = all_data.drop('Survived', axis=1)\n",
    "y = all_data['Survived']\n",
    "print('X Shape: ', X.shape)\n",
    "print('y Shape: ', y.shape)\n",
    "print('X Type: ', type(X))\n",
    "print('y Type: ', type(y))"
   ]
  },
  {
   "cell_type": "markdown",
   "metadata": {},
   "source": [
    "<a name=\"assumptions\"></a>"
   ]
  },
  {
   "cell_type": "markdown",
   "metadata": {
    "toc-hr-collapsed": true
   },
   "source": [
    "### 3. First Iteration Assumptions\n",
    "[Back to Outline](#outline)  \n",
    "\n",
    "The first step is to get a reasonable model up and running quickly.  After a model is up an running, iterative improvements can be made.\n",
    "\n",
    "As per the EDA from the previous notebook, Sex, and Pclass are among the most promising predictors.  Age and Title are also promising, but these will be handled in later notebooks as they require imputation and dummy variable encoding, respectively."
   ]
  },
  {
   "cell_type": "code",
   "execution_count": 5,
   "metadata": {},
   "outputs": [
    {
     "data": {
      "text/plain": [
       "Index(['PassengerId', 'Pclass', 'Name', 'Sex', 'Age', 'SibSp', 'Parch',\n",
       "       'Ticket', 'Fare', 'Cabin', 'Embarked'],\n",
       "      dtype='object')"
      ]
     },
     "execution_count": 5,
     "metadata": {},
     "output_type": "execute_result"
    }
   ],
   "source": [
    "X.columns"
   ]
  },
  {
   "cell_type": "code",
   "execution_count": 6,
   "metadata": {},
   "outputs": [
    {
     "data": {
      "text/html": [
       "<div>\n",
       "<style scoped>\n",
       "    .dataframe tbody tr th:only-of-type {\n",
       "        vertical-align: middle;\n",
       "    }\n",
       "\n",
       "    .dataframe tbody tr th {\n",
       "        vertical-align: top;\n",
       "    }\n",
       "\n",
       "    .dataframe thead th {\n",
       "        text-align: right;\n",
       "    }\n",
       "</style>\n",
       "<table border=\"1\" class=\"dataframe\">\n",
       "  <thead>\n",
       "    <tr style=\"text-align: right;\">\n",
       "      <th></th>\n",
       "      <th>Pclass</th>\n",
       "      <th>Sex</th>\n",
       "    </tr>\n",
       "  </thead>\n",
       "  <tbody>\n",
       "    <tr>\n",
       "      <th>0</th>\n",
       "      <td>3</td>\n",
       "      <td>male</td>\n",
       "    </tr>\n",
       "    <tr>\n",
       "      <th>1</th>\n",
       "      <td>1</td>\n",
       "      <td>female</td>\n",
       "    </tr>\n",
       "    <tr>\n",
       "      <th>2</th>\n",
       "      <td>3</td>\n",
       "      <td>female</td>\n",
       "    </tr>\n",
       "  </tbody>\n",
       "</table>\n",
       "</div>"
      ],
      "text/plain": [
       "   Pclass     Sex\n",
       "0       3    male\n",
       "1       1  female\n",
       "2       3  female"
      ]
     },
     "execution_count": 6,
     "metadata": {},
     "output_type": "execute_result"
    }
   ],
   "source": [
    "drop_columns = ['PassengerId', 'Name', 'Age', 'SibSp', 'Parch', 'Fare',\n",
    "                'Ticket', 'Cabin', 'Embarked']\n",
    "X = X.drop(drop_columns, axis=1)\n",
    "X.head(3)"
   ]
  },
  {
   "cell_type": "code",
   "execution_count": 7,
   "metadata": {},
   "outputs": [
    {
     "data": {
      "text/html": [
       "<div>\n",
       "<style scoped>\n",
       "    .dataframe tbody tr th:only-of-type {\n",
       "        vertical-align: middle;\n",
       "    }\n",
       "\n",
       "    .dataframe tbody tr th {\n",
       "        vertical-align: top;\n",
       "    }\n",
       "\n",
       "    .dataframe thead th {\n",
       "        text-align: right;\n",
       "    }\n",
       "</style>\n",
       "<table border=\"1\" class=\"dataframe\">\n",
       "  <thead>\n",
       "    <tr style=\"text-align: right;\">\n",
       "      <th></th>\n",
       "      <th>Pclass</th>\n",
       "      <th>Sex</th>\n",
       "    </tr>\n",
       "  </thead>\n",
       "  <tbody>\n",
       "    <tr>\n",
       "      <th>0</th>\n",
       "      <td>3</td>\n",
       "      <td>0</td>\n",
       "    </tr>\n",
       "    <tr>\n",
       "      <th>1</th>\n",
       "      <td>1</td>\n",
       "      <td>1</td>\n",
       "    </tr>\n",
       "    <tr>\n",
       "      <th>2</th>\n",
       "      <td>3</td>\n",
       "      <td>1</td>\n",
       "    </tr>\n",
       "  </tbody>\n",
       "</table>\n",
       "</div>"
      ],
      "text/plain": [
       "   Pclass  Sex\n",
       "0       3    0\n",
       "1       1    1\n",
       "2       3    1"
      ]
     },
     "execution_count": 7,
     "metadata": {},
     "output_type": "execute_result"
    }
   ],
   "source": [
    "# Encode Sex as a number\n",
    "X['Sex'] = X['Sex'].replace({'female':1, 'male':0})\n",
    "X.head(3)"
   ]
  },
  {
   "cell_type": "markdown",
   "metadata": {},
   "source": [
    "The data is can now be used by a Scikit Learn estimator.\n",
    "\n",
    "Note: Regularization will be used and yet the predictors, in this iteration, will not be standardized. In subsequent notebooks, the predictors will be standardized."
   ]
  },
  {
   "cell_type": "markdown",
   "metadata": {},
   "source": [
    "#### Learning Algorithms\n",
    "Most learning algorithms use Linear Algebra.  Linear Algebra only works with non-null numeric values.  Even though the Scikit Learn API is well above the level of the Linear Algebra used by the learning algorithms, it is still necessary to present the learning algorithms with a 2D matrix of non-null numbers."
   ]
  },
  {
   "cell_type": "markdown",
   "metadata": {
    "toc-hr-collapsed": true
   },
   "source": [
    "#### Consequences of Requiring 2D Numeric Array without Nulls\n",
    "\n",
    "Real-world data consists of many different types of data, such as:\n",
    "* numeric (discrete and continuous)\n",
    "* categorical (ordered and unordered)\n",
    "* text\n",
    "* time series\n",
    "* images\n",
    "* and more ...\n",
    "\n",
    "To use Scikit Learn, each of the above must be converted to a 2D array of numbers.  In addition, missing values (e.g. np.nan) must also be converted to a number.\n",
    "\n",
    "Scikit Learn is perhaps best used for numeric, categorical, and text data.  Scikit Learn has data transformers which can be used to:\n",
    "* convert categorical values to numbers\n",
    "* convert missing values to numbers\n",
    "* convert text to numerical attributes\n",
    "\n",
    "Although Scikit Learn has good support for text data, specialized libraries such as [NLTK](https://www.nltk.org/) may be better for advanced applications.\n",
    "\n",
    "Traditional time series analysis can be done with [StatsModels](https://www.statsmodels.org/stable/index.html) and similar libraries.  Scikit Learn can be used by restructuring the input data.  The combination of StatsModels and Scikit Learn can be used to create excellent time series models.\n",
    "\n",
    "Image classification is best done with deep learning, which is better supported by [Keras](https://github.com/keras-team/keras) and [TensorFlow](https://github.com/tensorflow/tensorflow) than by Scikit Learn."
   ]
  },
  {
   "cell_type": "code",
   "execution_count": 8,
   "metadata": {},
   "outputs": [],
   "source": [
    "# Copied from titanic_helper_code.py to show the code\n",
    "def get_Xy_v1(filename='./data/train.csv'):\n",
    "    \"\"\"Data Encoding\n",
    "\n",
    "    Version 1\n",
    "    * Pclass and Sex encoded as 1/0\n",
    "    \"\"\"\n",
    "\n",
    "    # read data\n",
    "    all_data = pd.read_csv(filename)\n",
    "    X = all_data.drop('Survived', axis=1)\n",
    "    y = all_data['Survived']\n",
    "    \n",
    "    # encode data\n",
    "    X['Sex'] = X['Sex'].replace({'female':1, 'male':0})\n",
    "    \n",
    "    # drop unused columns\n",
    "    drop_columns = ['PassengerId', 'Name', 'Age', 'SibSp', 'Parch', \n",
    "                    'Fare', 'Ticket', 'Cabin', 'Embarked']\n",
    "    X = X.drop(drop_columns, axis=1)\n",
    "    \n",
    "    return X, y"
   ]
  },
  {
   "cell_type": "code",
   "execution_count": 9,
   "metadata": {},
   "outputs": [
    {
     "data": {
      "text/plain": [
       "Pclass    int64\n",
       "Sex       int64\n",
       "dtype: object"
      ]
     },
     "execution_count": 9,
     "metadata": {},
     "output_type": "execute_result"
    }
   ],
   "source": [
    "X, y = tt.get_Xy_v1()\n",
    "X.dtypes"
   ]
  },
  {
   "cell_type": "markdown",
   "metadata": {},
   "source": [
    "<a name=\"model\"></a>"
   ]
  },
  {
   "cell_type": "markdown",
   "metadata": {
    "toc-hr-collapsed": true
   },
   "source": [
    "### 4.  Model Building\n",
    "[Back to Outline](#outline)"
   ]
  },
  {
   "cell_type": "code",
   "execution_count": 10,
   "metadata": {},
   "outputs": [],
   "source": [
    "# Create instance of LogisticRegression estimator\n",
    "from sklearn.linear_model import LogisticRegression\n",
    "lr_model = LogisticRegression(penalty='l2', C=1.0, solver='liblinear')"
   ]
  },
  {
   "cell_type": "markdown",
   "metadata": {},
   "source": [
    "<a name=\"crossvalidation\"></a>"
   ]
  },
  {
   "cell_type": "markdown",
   "metadata": {
    "toc-hr-collapsed": true
   },
   "source": [
    "### 5. Model Evaluation: Cross Validation\n",
    "[Back to Outline](#outline)\n",
    "\n",
    "Scikit Learn has a good description of [Cross Validation](https://scikit-learn.org/stable/modules/cross_validation.html)\n",
    "\n",
    "Good resources for understanding cross validation and overfitting in general:\n",
    "* chapter 5.1 of [ISL](http://www-bcf.usc.edu/~gareth/ISL/)\n",
    "* The first 3 videos for Chapter 5 [ISL Videos](http://www.dataschool.io/15-hours-of-expert-machine-learning-videos/)\n",
    "<a name=\"kfold\"></a>"
   ]
  },
  {
   "cell_type": "markdown",
   "metadata": {
    "toc-hr-collapsed": false
   },
   "source": [
    "### 6. Cross Validation Details\n",
    "[Back to Outline](#outline)  \n",
    "\n",
    "For classification problems, StratifiedKFold() is preferable to KFold().  With StratifiedKFold(), the target class distribution will be maintained in each fold.\n",
    "\n",
    "In general, shuffle=True, should be specified.  This effectively randomizes the order of the rows before using them.\n",
    "\n",
    "Randomly selected data is more likely to be representative of the data as a whole, and is therefore preferred."
   ]
  },
  {
   "cell_type": "markdown",
   "metadata": {},
   "source": [
    "#### Cross Validation: Choosing K\n",
    "As mentioned in the first notebook, generally K for *model selection* is lower than K for *model evaluation*.\n",
    "\n",
    "For this series of notebooks:\n",
    "* model selection: use 10x 2-Fold CV\n",
    "* model evaluation: use 10x 10-Fold CV"
   ]
  },
  {
   "cell_type": "markdown",
   "metadata": {},
   "source": [
    "#### Compute Cross Validated Scores with cross_val_score"
   ]
  },
  {
   "cell_type": "code",
   "execution_count": 11,
   "metadata": {},
   "outputs": [
    {
     "name": "stdout",
     "output_type": "stream",
     "text": [
      "20 Scores  min:0.764 max:0.809\n",
      "CV Mean Score: 0.787 +/- 0.013\n"
     ]
    }
   ],
   "source": [
    "from sklearn.model_selection import learning_curve\n",
    "from sklearn.model_selection import cross_val_score, StratifiedKFold, KFold\n",
    "from sklearn.linear_model import LogisticRegression\n",
    "from sklearn.model_selection import RepeatedStratifiedKFold\n",
    "\n",
    "# define a specific set of CV folds for repeatability\n",
    "cv_select = RepeatedStratifiedKFold(n_splits=2, n_repeats=10, \n",
    "                                    random_state=108)\n",
    "\n",
    "# instantiate an estimator\n",
    "lr_model = LogisticRegression(penalty='l2', C=1.0, solver='liblinear')\n",
    "\n",
    "scores = cross_val_score(lr_model, X, y, cv=cv_select, scoring='accuracy')\n",
    "\n",
    "print(f'{len(scores)} Scores  min:{scores.min():.3f} max:{scores.max():.3f}')\n",
    "print(f'CV Mean Score: {scores.mean():.3f} +/- {scores.std():.3f}')"
   ]
  },
  {
   "cell_type": "code",
   "execution_count": 12,
   "metadata": {},
   "outputs": [
    {
     "name": "stdout",
     "output_type": "stream",
     "text": [
      "20 Scores  min:0.764 max:0.809\n",
      "CV Mean Score: 0.787 +/- 0.013\n"
     ]
    }
   ],
   "source": [
    "# the above print statments are also in an imported helper function\n",
    "tt.print_scores(scores)"
   ]
  },
  {
   "cell_type": "markdown",
   "metadata": {},
   "source": [
    "#### Compute Cross Validated Scores without cross_val_score\n",
    "As cross_val_score() does a lot, it is instructive to code the above by hand."
   ]
  },
  {
   "cell_type": "code",
   "execution_count": 13,
   "metadata": {},
   "outputs": [
    {
     "name": "stdout",
     "output_type": "stream",
     "text": [
      "20 Scores  min:0.764 max:0.809\n",
      "CV Mean Score: 0.787 +/- 0.013\n",
      "Scores match:  True\n"
     ]
    }
   ],
   "source": [
    "from sklearn.metrics import accuracy_score\n",
    "\n",
    "score_per_fold = []\n",
    "for train_idx, test_idx in cv_select.split(X,y):\n",
    "    \n",
    "    # train subset\n",
    "    X_train = X.iloc[train_idx, :]\n",
    "    y_train = y[train_idx]\n",
    "    \n",
    "    # test subset\n",
    "    X_test = X.iloc[test_idx, :]\n",
    "    y_test = y[test_idx]\n",
    "    \n",
    "    # fit model on train\n",
    "    lr_model.fit(X_train, y_train)\n",
    "    \n",
    "    # predict using fitted model on test\n",
    "    predictions = lr_model.predict(X_test)\n",
    "    \n",
    "    # evaluate accuracy\n",
    "    fold_score = accuracy_score(y_test, predictions)\n",
    "    score_per_fold.append(fold_score)\n",
    "    \n",
    "my_scores = np.array(score_per_fold)    \n",
    "\n",
    "print(f'{len(scores)} Scores  min:{scores.min():.3f} max:{scores.max():.3f}')\n",
    "print(f'CV Mean Score: {scores.mean():.3f} +/- {scores.std():.3f}')\n",
    "\n",
    "# compare with scores computed by cross_val_score() above\n",
    "print('Scores match: ',(scores == my_scores).all())"
   ]
  },
  {
   "cell_type": "markdown",
   "metadata": {},
   "source": [
    "The scores match.  The computations are the same.  \n",
    "The above for-loop does exactly the same thing as the following single line:\n",
    "```python\n",
    "scores = cross_val_score(lr_model, X, y, \n",
    "                         cv=cv_select, scoring='accuracy')\n",
    "```\n",
    "<a name=\"modelcompare\"></a>"
   ]
  },
  {
   "cell_type": "markdown",
   "metadata": {},
   "source": [
    "### 7. Compare with Null Model\n",
    "[Back to Outline](#outline)\n",
    "\n",
    "For a classifier, predicting the predominant class is the simplest possible model.  This is sometimes referred to as the \"null model\"."
   ]
  },
  {
   "cell_type": "code",
   "execution_count": 14,
   "metadata": {},
   "outputs": [
    {
     "name": "stdout",
     "output_type": "stream",
     "text": [
      "20 Scores min:0.616 max:0.617\n",
      "Cross Validated Score: 0.616 +/- 0.000\n"
     ]
    }
   ],
   "source": [
    "from sklearn.dummy import DummyClassifier\n",
    "\n",
    "null_model = DummyClassifier(strategy='most_frequent',random_state=0)\n",
    "\n",
    "null_model_scores = cross_val_score(null_model, X, y, cv=cv_select, \n",
    "                         scoring='accuracy')\n",
    "\n",
    "print(f'{len(scores)} Scores min:{null_model_scores.min():.3f} max:{null_model_scores.max():.3f}')\n",
    "print(f'Cross Validated Score: {null_model_scores.mean():.3f} +/- {null_model_scores.std():.3f}')"
   ]
  },
  {
   "cell_type": "markdown",
   "metadata": {},
   "source": [
    "Verify that this is the frequency of the predominant class (NotSurvived)."
   ]
  },
  {
   "cell_type": "code",
   "execution_count": 15,
   "metadata": {},
   "outputs": [
    {
     "data": {
      "text/plain": [
       "0    0.616162\n",
       "1    0.383838\n",
       "Name: Survived, dtype: float64"
      ]
     },
     "execution_count": 15,
     "metadata": {},
     "output_type": "execute_result"
    }
   ],
   "source": [
    "y.value_counts() / len(y)"
   ]
  },
  {
   "cell_type": "code",
   "execution_count": 16,
   "metadata": {},
   "outputs": [
    {
     "data": {
      "image/png": "[encoded data removed]",
      "text/plain": [
       "<Figure size 432x288 with 1 Axes>"
      ]
     },
     "metadata": {
      "needs_background": "light"
     },
     "output_type": "display_data"
    }
   ],
   "source": [
    "# compare the base_model with the null model graphically\n",
    "plt.figure(figsize=(3,2), dpi=144)\n",
    "df = pd.DataFrame(data=list(zip(scores, null_model_scores)),\n",
    "                  columns=['base score','null score'])\n",
    "sns.boxplot(data=df);\n",
    "plt.savefig(fname='1_vs_0.png', dpi=120)"
   ]
  },
  {
   "cell_type": "markdown",
   "metadata": {},
   "source": [
    "We see that the base model cross validated scores are well above the null model's score.\n",
    "<a name=\"modelsummary\"></a>"
   ]
  },
  {
   "cell_type": "markdown",
   "metadata": {},
   "source": [
    "### 8. Model Summary\n",
    "[Back to Outline](#outline)\n",
    "\n",
    "Model building steps only."
   ]
  },
  {
   "cell_type": "code",
   "execution_count": 17,
   "metadata": {},
   "outputs": [
    {
     "name": "stdout",
     "output_type": "stream",
     "text": [
      "20 Scores  min:0.764 max:0.809\n",
      "CV Mean Score: 0.787 +/- 0.013\n"
     ]
    }
   ],
   "source": [
    "X, y = tt.get_Xy_v1()\n",
    "\n",
    "# define a specific set of CV folds for repeatability\n",
    "cv_select = RepeatedStratifiedKFold(n_splits=2, n_repeats=10, random_state=108)\n",
    "\n",
    "# instantiate an estimator\n",
    "lr_model = LogisticRegression(penalty='l2', C=1.0, solver='liblinear')\n",
    "\n",
    "scores = cross_val_score(lr_model, X, y, cv=cv_select, scoring='accuracy')\n",
    "\n",
    "# save scores for comparison with next iteration\n",
    "np.save(\"./data/iter01.data\", scores)\n",
    "\n",
    "print(f'{len(scores)} Scores  min:{scores.min():.3f} max:{scores.max():.3f}')\n",
    "print(f'CV Mean Score: {scores.mean():.3f} +/- {scores.std():.3f}')"
   ]
  },
  {
   "cell_type": "markdown",
   "metadata": {},
   "source": [
    "<a name=\"summary\"></a>"
   ]
  },
  {
   "cell_type": "markdown",
   "metadata": {
    "toc-hr-collapsed": false
   },
   "source": [
    "### 9. Notebook Summary\n",
    "[Back to Outline](#outline)\n",
    "\n",
    "In this first iteration we:\n",
    "* created a simple LogisticRegression model\n",
    "* created a null model (aka DummyClassifier) for comparison \n",
    "* used cross validation to measure the accuracy of each model \n",
    "* showed that our baseline model accuracy (78.7%) is better than the null model (61.6%)"
   ]
  }
 ],
 "metadata": {
  "kernelspec": {
   "display_name": "Python 3",
   "language": "python",
   "name": "python3"
  },
  "language_info": {
   "codemirror_mode": {
    "name": "ipython",
    "version": 3
   },
   "file_extension": ".py",
   "mimetype": "text/x-python",
   "name": "python",
   "nbconvert_exporter": "python",
   "pygments_lexer": "ipython3",
   "version": "3.7.3"
  },
  "varInspector": {
   "cols": {
    "lenName": 16,
    "lenType": 16,
    "lenVar": 40
   },
   "kernels_config": {
    "python": {
     "delete_cmd_postfix": "",
     "delete_cmd_prefix": "del ",
     "library": "var_list.py",
     "varRefreshCmd": "print(var_dic_list())"
    },
    "r": {
     "delete_cmd_postfix": ") ",
     "delete_cmd_prefix": "rm(",
     "library": "var_list.r",
     "varRefreshCmd": "cat(var_dic_list()) "
    }
   },
   "position": {
    "height": "356px",
    "left": "51px",
    "right": "20px",
    "top": "142px",
    "width": "714px"
   },
   "types_to_exclude": [
    "module",
    "function",
    "builtin_function_or_method",
    "instance",
    "_Feature"
   ],
   "window_display": true
  }
 },
 "nbformat": 4,
 "nbformat_minor": 2
}
