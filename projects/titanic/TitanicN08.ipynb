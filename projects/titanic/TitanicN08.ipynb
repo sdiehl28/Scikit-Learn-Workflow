{
 "cells": [
  {
   "cell_type": "markdown",
   "metadata": {
    "toc-hr-collapsed": false
   },
   "source": [
    "# Model Building<br/>*Hyperparameter Optimization*"
   ]
  },
  {
   "cell_type": "markdown",
   "metadata": {
    "toc-hr-collapsed": false
   },
   "source": [
    "## Goals\n",
    "1. Optimize Hyperparameter for Regularization\n",
    "2. Account for no final hold-out set\n",
    "4. Create and analyze the Learning Curve\n",
    "5. Compare new model to previous model\n",
    "\n",
    "For an excellent alternative discussion of the topics present in this notebook, see: [Model Selection](https://towardsdatascience.com/a-short-introduction-to-model-selection-bb1bb9c73376)"
   ]
  },
  {
   "cell_type": "markdown",
   "metadata": {},
   "source": [
    "## Common Imports and Notebook Setup"
   ]
  },
  {
   "cell_type": "code",
   "execution_count": 1,
   "metadata": {},
   "outputs": [],
   "source": [
    "import numpy as np\n",
    "import pandas as pd\n",
    "import matplotlib.pyplot as plt\n",
    "import seaborn as sns\n",
    "import sklearn as sk\n",
    "%matplotlib inline\n",
    "sns.set() # enable seaborn style\n",
    "\n",
    "import titanic_helper_code as tt"
   ]
  },
  {
   "cell_type": "code",
   "execution_count": 2,
   "metadata": {},
   "outputs": [
    {
     "name": "stdout",
     "output_type": "stream",
     "text": [
      "python:      3.7.3 (default, Mar 27 2019, 22:11:17) \n",
      "[GCC 7.3.0]\n",
      "numpy:       1.16.4\n",
      "pandas:      0.24.2\n",
      "matplotlib:  3.1.0\n",
      "seaborn:     0.9.0\n",
      "sklearn:     0.21.2\n",
      "Description:\tUbuntu 18.04.2 LTS\n"
     ]
    }
   ],
   "source": [
    "# Version Information\n",
    "import sys\n",
    "print('python:     ', sys.version)\n",
    "print('numpy:      ', np.__version__)\n",
    "print('pandas:     ', pd.__version__)\n",
    "import matplotlib\n",
    "print('matplotlib: ', matplotlib.__version__)\n",
    "print('seaborn:    ', sns.__version__)\n",
    "print('sklearn:    ', sk.__version__)\n",
    "!lsb_release -d"
   ]
  },
  {
   "cell_type": "markdown",
   "metadata": {},
   "source": [
    "## Recreate Model from Previous Iteration"
   ]
  },
  {
   "cell_type": "code",
   "execution_count": 3,
   "metadata": {},
   "outputs": [],
   "source": [
    "from sklearn.linear_model import LogisticRegression\n",
    "from sklearn.metrics import accuracy_score\n",
    "from sklearn.model_selection import cross_val_score, RepeatedStratifiedKFold\n",
    "from sklearn.pipeline import Pipeline\n",
    "from sklearn.compose import ColumnTransformer\n",
    "from sklearn.model_selection import GridSearchCV"
   ]
  },
  {
   "cell_type": "code",
   "execution_count": 4,
   "metadata": {},
   "outputs": [],
   "source": [
    "# CV for model comparison, not model selection\n",
    "cv_select = RepeatedStratifiedKFold(n_splits=2, n_repeats=10, random_state=108)\n",
    "cv_select_quick = RepeatedStratifiedKFold(n_splits=2, n_repeats=5, random_state=108)"
   ]
  },
  {
   "cell_type": "code",
   "execution_count": 5,
   "metadata": {},
   "outputs": [
    {
     "name": "stdout",
     "output_type": "stream",
     "text": [
      "20 Scores  min:0.798 max:0.874\n",
      "CV Mean Score: 0.834 +/- 0.017\n"
     ]
    }
   ],
   "source": [
    "X, y = tt.get_Xy_v6()\n",
    "cols, ct = tt.get_ct_v5()\n",
    "\n",
    "lr = LogisticRegression(penalty='l2', C=1.0, solver='liblinear')\n",
    "pipe = Pipeline([('ct', ct), ('lr', lr)])\n",
    "\n",
    "scores = cross_val_score(pipe, X, y, cv=cv_select, scoring='accuracy')\n",
    "tt.print_scores(scores)"
   ]
  },
  {
   "cell_type": "markdown",
   "metadata": {},
   "source": [
    "The model from the previous iteration has been recreated."
   ]
  },
  {
   "cell_type": "markdown",
   "metadata": {
    "toc-hr-collapsed": false
   },
   "source": [
    "## Preferred Method to<br/>Optimize Hyperparameters *And*<br/> Evaluate Performance of Optimized Model\n",
    "\n",
    "Cross Validation cannot be used to *both* find the best hyperparameters *and* provide an accurate estimate of model performance.  In hyperparameter optimization, the CV test folds are used over and over again.  These test folds become data used as part of the model building process resulting in an overly optimistic estimate of model performance.\n",
    "\n",
    "The preferred method to find the best model and estimate its performance on unseen data is:\n",
    "* set aside a final hold-out test set to be used at the end of the project only\n",
    "* use cross validation on the remaining data to:\n",
    "  * to select the best hyperparameters\n",
    "  * to experiment with the best features to extract\n",
    "  * to experiment with the best data transformations\n",
    "* having decided on the best way to build a model, build it on all the data except the final hold-out set\n",
    "* evaluate this model on the final hold-out set"
   ]
  },
  {
   "cell_type": "markdown",
   "metadata": {
    "toc-hr-collapsed": true
   },
   "source": [
    "### Don't Use Final Hold-Out Set for Very Small Data Sets\n",
    "The Titanic data set from Kaggle has 891 labeled records.\n",
    "\n",
    "If 20% had been kept as a final hold-out set and 2-Fold CV had been used to select the best hyperparameters, then the CV process would be training on .8 * .5 * 891 = 356 records and evaluating on 356 records.  This is likely too few records to train on.  If 5-Fold CV is used, then there is more data for training, but less data for scoring, resulting in an inaccurate CV score causing less than the best hyperparameters to be chosen.  The Titanic data set is simply too small to make good use of a final hold-out set.\n",
    "\n",
    "Depending on numerous factors, such as:\n",
    "* the stability of the model being built  \n",
    "* the amount of noise in the data  \n",
    "* the number of features vs the number of records  \n",
    "a final hold-out set may or may not be appropriate.\n",
    "\n",
    "For small data sets, there are two other approaches that can be taken:\n",
    "* the \"one-standard-error\" rule\n",
    "* nested cross validation\n",
    "\n",
    "Arguably nested cross validation is better, but the insights provided by the one-standard-error rule are very helpful.  As such, it will be presented first."
   ]
  },
  {
   "cell_type": "markdown",
   "metadata": {},
   "source": [
    "### One Standard Error Rule\n",
    "The complexity of the model is reduced until a score 1 standard error below the optimal score is found.  This reduced complexity model is the model to deploy.\n",
    "\n",
    "The rational is that simpler models tend to do better in practice.  This is often referred to as Occam's Razor or the principle of parsimony.  If the simpler model has a score within 1 standard deviation of the best model, then arguably its score is the same, so use the simpler model.\n",
    "\n",
    "This is described in section 6.1 of [ISLR](http://www-bcf.usc.edu/~gareth/ISL/) or section 7.3 of [ESL](https://web.stanford.edu/~hastie/ElemStatLearn/).\n",
    "\n",
    "As per [LogisticRegression](https://scikit-learn.org/stable/modules/generated/sklearn.linear_model.LogisticRegression.html) smaller values of C specify stronger regularization (i.e. reduced model complexity).\n",
    "\n",
    "In the following, the error bars are placed at plus-or-minus 1/2 standard deviation from the mean.  Two scores will differ by 1 full standard deviation if the upper error bar of one just reaches the lower error bar of the other."
   ]
  },
  {
   "cell_type": "code",
   "execution_count": 6,
   "metadata": {},
   "outputs": [],
   "source": [
    "c_values = np.logspace(-2,1)\n",
    "results = []\n",
    "for c in c_values:\n",
    "    \n",
    "    lr = LogisticRegression(penalty='l2', C=c, solver='liblinear')\n",
    "    pipe = Pipeline([('ct', ct), ('lr', lr)])\n",
    "\n",
    "    scores = cross_val_score(pipe, X, y, cv=cv_select, \n",
    "                             scoring='accuracy')\n",
    "    \n",
    "    results.append((c, scores.mean(), \n",
    "                    scores.mean() - scores.std()/2,\n",
    "                    scores.mean() + scores.std()/2,\n",
    "                    scores.std()/2))"
   ]
  },
  {
   "cell_type": "code",
   "execution_count": 7,
   "metadata": {},
   "outputs": [
    {
     "data": {
      "text/html": [
       "<div>\n",
       "<style scoped>\n",
       "    .dataframe tbody tr th:only-of-type {\n",
       "        vertical-align: middle;\n",
       "    }\n",
       "\n",
       "    .dataframe tbody tr th {\n",
       "        vertical-align: top;\n",
       "    }\n",
       "\n",
       "    .dataframe thead th {\n",
       "        text-align: right;\n",
       "    }\n",
       "</style>\n",
       "<table border=\"1\" class=\"dataframe\">\n",
       "  <thead>\n",
       "    <tr style=\"text-align: right;\">\n",
       "      <th></th>\n",
       "      <th>C</th>\n",
       "      <th>Score</th>\n",
       "      <th>low</th>\n",
       "      <th>high</th>\n",
       "      <th>halfSD</th>\n",
       "    </tr>\n",
       "  </thead>\n",
       "  <tbody>\n",
       "    <tr>\n",
       "      <th>0</th>\n",
       "      <td>0.010000</td>\n",
       "      <td>0.809870</td>\n",
       "      <td>0.803619</td>\n",
       "      <td>0.816120</td>\n",
       "      <td>0.006251</td>\n",
       "    </tr>\n",
       "    <tr>\n",
       "      <th>1</th>\n",
       "      <td>0.011514</td>\n",
       "      <td>0.811331</td>\n",
       "      <td>0.805168</td>\n",
       "      <td>0.817495</td>\n",
       "      <td>0.006164</td>\n",
       "    </tr>\n",
       "    <tr>\n",
       "      <th>2</th>\n",
       "      <td>0.013257</td>\n",
       "      <td>0.815374</td>\n",
       "      <td>0.809409</td>\n",
       "      <td>0.821339</td>\n",
       "      <td>0.005965</td>\n",
       "    </tr>\n",
       "    <tr>\n",
       "      <th>3</th>\n",
       "      <td>0.015264</td>\n",
       "      <td>0.817621</td>\n",
       "      <td>0.812001</td>\n",
       "      <td>0.823241</td>\n",
       "      <td>0.005620</td>\n",
       "    </tr>\n",
       "    <tr>\n",
       "      <th>4</th>\n",
       "      <td>0.017575</td>\n",
       "      <td>0.818296</td>\n",
       "      <td>0.812676</td>\n",
       "      <td>0.823917</td>\n",
       "      <td>0.005621</td>\n",
       "    </tr>\n",
       "  </tbody>\n",
       "</table>\n",
       "</div>"
      ],
      "text/plain": [
       "          C     Score       low      high    halfSD\n",
       "0  0.010000  0.809870  0.803619  0.816120  0.006251\n",
       "1  0.011514  0.811331  0.805168  0.817495  0.006164\n",
       "2  0.013257  0.815374  0.809409  0.821339  0.005965\n",
       "3  0.015264  0.817621  0.812001  0.823241  0.005620\n",
       "4  0.017575  0.818296  0.812676  0.823917  0.005621"
      ]
     },
     "execution_count": 7,
     "metadata": {},
     "output_type": "execute_result"
    }
   ],
   "source": [
    "df = pd.DataFrame(data=results, columns=['C', 'Score', 'low', 'high', 'halfSD'])\n",
    "df.head()"
   ]
  },
  {
   "cell_type": "code",
   "execution_count": 8,
   "metadata": {},
   "outputs": [
    {
     "name": "stdout",
     "output_type": "stream",
     "text": [
      "Best Score\n",
      "C         1.389495\n",
      "Score     0.834914\n",
      "low       0.826954\n",
      "high      0.842875\n",
      "halfSD    0.007961\n",
      "Name: 35, dtype: float64\n"
     ]
    }
   ],
   "source": [
    "i_max = df['Score'].idxmax()\n",
    "print('Best Score')\n",
    "print(df.iloc[i_max])"
   ]
  },
  {
   "cell_type": "code",
   "execution_count": 9,
   "metadata": {},
   "outputs": [
    {
     "name": "stdout",
     "output_type": "stream",
     "text": [
      "Score: 1 SE Less\n",
      "C         0.023300\n",
      "Score     0.822228\n",
      "low       0.815965\n",
      "high      0.828491\n",
      "halfSD    0.006263\n",
      "Name: 6, dtype: float64\n"
     ]
    }
   ],
   "source": [
    "# low end of CI for highest Score\n",
    "best_low = df.iloc[i_max]['low']\n",
    "\n",
    "# decrease C (which increases regularization) to find the C\n",
    "# for which the CIs overlap the least\n",
    "for i in range(i_max, -1, -1):\n",
    "    if df.loc[i]['high'] >= best_low:\n",
    "        i_min = i\n",
    "    else:\n",
    "        break\n",
    "print('Score: 1 SE Less')\n",
    "print(df.loc[i_min])\n",
    "\n",
    "midpoint = (df.loc[i_min]['high'] + df.loc[i_max]['low']) / 2"
   ]
  },
  {
   "cell_type": "code",
   "execution_count": 10,
   "metadata": {},
   "outputs": [
    {
     "data": {
      "image/png": "[encoded data removed]",
      "text/plain": [
       "<Figure size 720x288 with 1 Axes>"
      ]
     },
     "metadata": {
      "needs_background": "light"
     },
     "output_type": "display_data"
    }
   ],
   "source": [
    "# plot the mean scores and their standard error vs C\n",
    "fig = plt.figure(figsize=[10,4])\n",
    "\n",
    "plt.errorbar(df['C'], df['Score'], yerr=df['halfSD'], \n",
    "             ecolor='gray', elinewidth=1, \n",
    "             fmt='o', capsize=2);\n",
    "# Best\n",
    "plt.errorbar(df['C'].iloc[i_max], df['Score'].iloc[i_max], \n",
    "             yerr=df['halfSD'].iloc[i_max], ecolor='red')\n",
    "# 1 SE Less\n",
    "plt.errorbar(df['C'].iloc[i_min], df['Score'].iloc[i_min], \n",
    "             yerr=df['halfSD'].iloc[i_min], ecolor='green')\n",
    "\n",
    "ax = plt.gca()\n",
    "ax.set_xscale('log')\n",
    "plt.axhline(midpoint, linewidth=1)\n",
    "plt.xlabel('C\\nComplexity Increases to the Right')\n",
    "plt.ylabel('Score');\n",
    "plt.title('Score vs Regularization');"
   ]
  },
  {
   "cell_type": "markdown",
   "metadata": {},
   "source": [
    "The optimal value of C was found, and then C was lowered until the confidence intervals just barely overlapped.  As the confidence intervals were +/- 1/2 SD, the difference between the means scores is 1 full SD.\n",
    "\n",
    "The higher level of regularization results in a simpler model that is less likely to overfit the data.\n",
    "\n",
    "Regularization reduces the degrees of freedom, which is similar to reducing the number of variables, except that it does so gradually.  L2 regularization is generally believed to allow for the best predictions.  L1 regularization can force a coefficient to zero, removing the variable entirely, which may allow for better interpretability.\n",
    "\n",
    "The simpler model with a mean score of .822 seems worse than model with a mean score of .835, but as their confidence intervals overlap, they represent effectively the same score.\n",
    "\n",
    "**Summary of One-Standard-Error**  \n",
    "Without having a final hold-out set, there was no way to know if the hyperparameter optimized model overfit the data.  By backing off one-standard-error, with respect to tuning the hyperparameter for complexity, a simpler model was created with similar performance but less chance of overfit."
   ]
  },
  {
   "cell_type": "markdown",
   "metadata": {},
   "source": [
    "### Learning Curve\n",
    "Before proceeding, it's a good idea to check the Learning Curve to see if the model is being trained well on the amount of data available to each cross validation train/test fold.\n",
    "\n",
    "A Learning Curve will created for both the optimized model, and the model with increased regularization within 1 SD of the optimized model."
   ]
  },
  {
   "cell_type": "code",
   "execution_count": 14,
   "metadata": {},
   "outputs": [
    {
     "data": {
      "text/plain": [
       "(1.3894954943731375, 0.023299518105153717)"
      ]
     },
     "execution_count": 14,
     "metadata": {},
     "output_type": "execute_result"
    }
   ],
   "source": [
    "c_best = df.iloc[i_max]['C']\n",
    "c_simple = df.iloc[i_min]['C']\n",
    "c_best, c_simple"
   ]
  },
  {
   "cell_type": "code",
   "execution_count": 15,
   "metadata": {},
   "outputs": [],
   "source": [
    "# CV for Learning Curve\n",
    "cv_lc = RepeatedStratifiedKFold(n_splits=5, n_repeats=20, random_state=505)"
   ]
  },
  {
   "cell_type": "code",
   "execution_count": 16,
   "metadata": {},
   "outputs": [
    {
     "data": {
      "text/plain": [
       "array([100, 155, 211, 266, 322, 377, 433, 488, 544, 599, 655, 711])"
      ]
     },
     "execution_count": 16,
     "metadata": {},
     "output_type": "execute_result"
    }
   ],
   "source": [
    "# number of records to train on\n",
    "# 5-Fold => (80% of 891) - 1 = 711\n",
    "train_sizes = np.linspace(100, 711, 12).astype('int')\n",
    "train_sizes"
   ]
  },
  {
   "cell_type": "code",
   "execution_count": 17,
   "metadata": {},
   "outputs": [],
   "source": [
    "# Create a Learning Curve\n",
    "from sklearn.model_selection import learning_curve\n",
    "\n",
    "# plot both the best model, and the model one standard error simpler\n",
    "\n",
    "lr_simple = LogisticRegression(penalty='l2', C=c_simple, solver='liblinear')\n",
    "lr_best = LogisticRegression(penalty='l2', C=c_best, solver='liblinear')\n",
    "\n",
    "pipe_simple = Pipeline([('ct', ct), ('lr_simple', lr_simple)])\n",
    "pipe_best = Pipeline([('ct', ct), ('lr_best', lr_best)])\n",
    "\n",
    "train1_sizes, train1_scores, test1_scores = \\\n",
    "    learning_curve(pipe_simple, X, y, train_sizes=train_sizes,\n",
    "                   scoring=\"accuracy\", cv=cv_lc)\n",
    "train2_sizes, train2_scores, test2_scores = \\\n",
    "    learning_curve(pipe_best, X, y, train_sizes=train_sizes,\n",
    "                   scoring=\"accuracy\", cv=cv_lc)"
   ]
  },
  {
   "cell_type": "code",
   "execution_count": 25,
   "metadata": {},
   "outputs": [
    {
     "data": {
      "image/png": "[encoded data removed]",
      "text/plain": [
       "<Figure size 432x288 with 1 Axes>"
      ]
     },
     "metadata": {
      "needs_background": "light"
     },
     "output_type": "display_data"
    }
   ],
   "source": [
    "plt.xlabel('Number of Records')\n",
    "plt.ylabel('Accuracy')\n",
    "plt.title('Blue: Best C\\nRed: 1SE Simpler')\n",
    "\n",
    "best_score = df['Score'].iloc[i_max]\n",
    "plt.axhline(best_score)\n",
    "\n",
    "sns.scatterplot(x=train1_sizes, y=test1_scores.mean(axis=1), color='red');\n",
    "sns.scatterplot(x=train2_sizes, y=test2_scores.mean(axis=1), color='blue');"
   ]
  },
  {
   "cell_type": "markdown",
   "metadata": {},
   "source": [
    "The above shows that for all training set sizes, it is possible to distinguish between the two models.  This is because the learning bias (caused by training on too few records) is in the same direction for both models.  This is why low K works well for model selection.\n",
    "\n",
    "Both models appear to be well trained by about the 600 record mark.\n",
    "\n",
    "K vs Number of Train/Test Set Records (N=891)  \n",
    "K=2  => 891 * 1/2  = 450 train, 450 test  \n",
    "K=3  => 891 * 2/3  = 594 train, 297 test  \n",
    "K=4  => 891 * 3/4  = 668 train, 223 test  \n",
    "K=5  => 891 * 4/5  = 712 train, 179 test  \n",
    "K=10 => 891 * 9/10 = 801 train, 90 test   \n",
    "\n",
    "At K=3, about 600 records are used for training.  So at K=3 the bias due to training on too few records is small.\n",
    "\n",
    "At K=3, about 300 records are used for computing the score, whereas at K=10 about 90 records are used for computing the score.  The variance of the score will be lower when computed on 300 records vs being computed on 90 records.  This means that K=3 will be better able to distinguish which of 2 models is best, than K=10.\n",
    "\n",
    "Although there is more training bias at K=2 than at K=3, the models are well distinguished from one another at K=2.  So K=2 Folds also works well for the purpose of determining which model is best."
   ]
  },
  {
   "cell_type": "markdown",
   "metadata": {},
   "source": [
    "### Nested Cross Validation Description\n",
    "Nested Cross Validation requires significantly more computation time than regular CV, but it is only needed when there is a small amount of data.\n",
    "\n",
    "Nested Cross Validation works by embedding GridSearchCV inside of cross_val_score.  This puts the entire model building process inside of cross validation, ensuring that the entire model building process is being properly evaluated.\n",
    "\n",
    "Often K=2 is chosen for the inner CV (which performs model selection) and K=5 is chosen for the outer CV (which performs model evaluation)."
   ]
  },
  {
   "cell_type": "markdown",
   "metadata": {},
   "source": [
    "#### Nested CV Code Preparation"
   ]
  },
  {
   "cell_type": "code",
   "execution_count": null,
   "metadata": {},
   "outputs": [],
   "source": [
    "# First: Verify that non-nested GridSearchCV gives same result as above\n",
    "\n",
    "# Parameters to optimize over\n",
    "p_grid = {\"lr__C\": np.logspace(-2,1)}\n",
    "\n",
    "lr = LogisticRegression(penalty='l2', C=c, solver='liblinear')\n",
    "pipe = Pipeline([('ct', ct), ('lr', lr)])\n",
    "\n",
    "grid = GridSearchCV(estimator=pipe, param_grid=p_grid, \n",
    "                    scoring='accuracy', cv=cv_select)\n",
    "\n",
    "# find the best hyperparameters and associated score\n",
    "grid.fit(X, y);"
   ]
  },
  {
   "cell_type": "code",
   "execution_count": null,
   "metadata": {},
   "outputs": [],
   "source": [
    "# Copied from titanic_helper_code.py\n",
    "def print_grid(grid, pandas=False):\n",
    "    '''Print and Return GridSearchCV Results'''\n",
    "          \n",
    "    std = grid.cv_results_['std_test_score'][grid.best_index_]\n",
    "    print(f'Best: {grid.best_score_:0.3f} +/- {std/2:0.3f}')\n",
    "    for key, value in grid.best_params_.items():\n",
    "        print(f'{key}: {value}')\n",
    "        \n",
    "\n",
    "    if pandas:\n",
    "        results=[]\n",
    "        for i in range(len(grid.cv_results_['mean_test_score'])):\n",
    "            score  = grid.cv_results_['mean_test_score'][i]\n",
    "            std    = grid.cv_results_['std_test_score'][i]\n",
    "            params = grid.cv_results_['params'][i]\n",
    "            params['score'] = score\n",
    "            params['std'] = std\n",
    "            results.append(params)\n",
    "        \n",
    "        return pd.DataFrame(results)"
   ]
  },
  {
   "cell_type": "code",
   "execution_count": null,
   "metadata": {},
   "outputs": [],
   "source": [
    "# verify these are the sames scores as computed with the for-loop\n",
    "df2 = tt.print_grid(grid, pandas=True)\n",
    "print(f'Same Scores: {np.isclose(df2[\"score\"], df[\"Score\"], rtol=1e-4).all()}')"
   ]
  },
  {
   "cell_type": "markdown",
   "metadata": {},
   "source": [
    "This are the same values as for the above for-loop."
   ]
  },
  {
   "cell_type": "markdown",
   "metadata": {},
   "source": [
    "#### Nested CV Code\n",
    "Now encapsulate GridSearchCV itself inside of cross validation.  This ensures that the model building process is fully within cross validation.\n",
    "\n",
    "Note this works because by default refit=True.  This means the model used for prediction inside of cross validation is the model fitted with the best parameters found on that test fold."
   ]
  },
  {
   "cell_type": "code",
   "execution_count": null,
   "metadata": {},
   "outputs": [],
   "source": [
    "cv_eval = RepeatedStratifiedKFold(n_repeats=5, n_splits=5, random_state=1001)\n",
    "\n",
    "p_grid = {\"lr__C\": np.logspace(-2,1)}\n",
    "lr = LogisticRegression(penalty='l2', C=c, solver='liblinear')\n",
    "pipe = Pipeline([('ct', ct), ('lr', lr)])\n",
    "\n",
    "grid = GridSearchCV(estimator=pipe, param_grid=p_grid, \n",
    "                    scoring='accuracy', cv=cv_select_quick)\n",
    "\n",
    "scores = cross_val_score(grid, X, y, scoring='accuracy', cv=cv_eval)\n",
    "tt.print_scores(scores)"
   ]
  },
  {
   "cell_type": "code",
   "execution_count": null,
   "metadata": {},
   "outputs": [],
   "source": [
    "tt.print_scores(scores)"
   ]
  },
  {
   "cell_type": "markdown",
   "metadata": {},
   "source": [
    "The Nested CV estimate of model performance is: 0.830 +/- 0.012.\n",
    "\n",
    "This is virtually the same as the 10x 2-Fold CV estimate of 0.834 +/- 0.008 for the model with the best value for C.\n",
    "\n",
    "In most cases, it would be expected that nested CV produces a lower estimate (by removing the upward bias) and a larger margin of error than using the result from GridSearchCV or similar.\n",
    "\n",
    "Here it looks like using the best value found for C should generalize well."
   ]
  },
  {
   "cell_type": "code",
   "execution_count": null,
   "metadata": {},
   "outputs": [],
   "source": [
    "# Read scores from 4th iteration\n",
    "prev_scores = np.load('./data/iter04.data.npy')\n",
    "print(f'Previous CV Mean Score: {prev_scores.mean():.3f} +/- {prev_scores.std()/2:.3f}')"
   ]
  },
  {
   "cell_type": "markdown",
   "metadata": {},
   "source": [
    "The previous iteration's score is effectively the same as the nested CV score for the hyperparameter optimized model.  As such, optimizing C did not improve the model."
   ]
  },
  {
   "cell_type": "markdown",
   "metadata": {},
   "source": [
    "### Notebook Summary\n",
    "\n",
    "* hyperparameter for regularization was optimized\n",
    "* one-standard-error rule was used to find a simpler model\n",
    "  * sometimes it's better to deploy a simpler model, it depends on the application\n",
    "* learning curve showed there was sufficient data to perform nested CV\n",
    "* nested CV's estimate of model performance, for this model, was essentially the same as the non-optimized model\n",
    "\n",
    "The Titanic data set is rather simple and small.  This is about as much as can be done with it using LogisitcRegression.\n",
    "\n",
    "In the next notebook, different estimators will be tried, and they will be combined with Stacking to see if a better result is possible."
   ]
  }
 ],
 "metadata": {
  "kernelspec": {
   "display_name": "Python 3",
   "language": "python",
   "name": "python3"
  },
  "language_info": {
   "codemirror_mode": {
    "name": "ipython",
    "version": 3
   },
   "file_extension": ".py",
   "mimetype": "text/x-python",
   "name": "python",
   "nbconvert_exporter": "python",
   "pygments_lexer": "ipython3",
   "version": "3.7.3"
  },
  "varInspector": {
   "cols": {
    "lenName": 16,
    "lenType": 16,
    "lenVar": 40
   },
   "kernels_config": {
    "python": {
     "delete_cmd_postfix": "",
     "delete_cmd_prefix": "del ",
     "library": "var_list.py",
     "varRefreshCmd": "print(var_dic_list())"
    },
    "r": {
     "delete_cmd_postfix": ") ",
     "delete_cmd_prefix": "rm(",
     "library": "var_list.r",
     "varRefreshCmd": "cat(var_dic_list()) "
    }
   },
   "position": {
    "height": "356px",
    "left": "51px",
    "right": "20px",
    "top": "142px",
    "width": "714px"
   },
   "types_to_exclude": [
    "module",
    "function",
    "builtin_function_or_method",
    "instance",
    "_Feature"
   ],
   "window_display": true
  }
 },
 "nbformat": 4,
 "nbformat_minor": 2
}
