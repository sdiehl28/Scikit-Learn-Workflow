{
 "cells": [
  {
   "cell_type": "markdown",
   "metadata": {
    "toc-hr-collapsed": false
   },
   "source": [
    "# Model Building<br/>*Hyperparameter Optimization*"
   ]
  },
  {
   "cell_type": "markdown",
   "metadata": {
    "toc-hr-collapsed": false
   },
   "source": [
    "## Goals\n",
    "1. Optimize Hyperparameter for Regularization\n",
    "2. Account for no final hold-out set\n",
    "4. Create and analyze the Learning Curve\n",
    "5. Compare new model to previous model\n",
    "\n",
    "For an excellent alternative discussion of the topics present in this notebook, see: [Model Selection](https://towardsdatascience.com/a-short-introduction-to-model-selection-bb1bb9c73376)"
   ]
  },
  {
   "cell_type": "markdown",
   "metadata": {},
   "source": [
    "## Common Imports and Notebook Setup"
   ]
  },
  {
   "cell_type": "code",
   "execution_count": 1,
   "metadata": {},
   "outputs": [],
   "source": [
    "import numpy as np\n",
    "import pandas as pd\n",
    "import matplotlib.pyplot as plt\n",
    "import seaborn as sns\n",
    "import sklearn as sk\n",
    "%matplotlib inline\n",
    "sns.set() # enable seaborn style\n",
    "\n",
    "import titanic_helper_code as tt"
   ]
  },
  {
   "cell_type": "code",
   "execution_count": 2,
   "metadata": {},
   "outputs": [
    {
     "name": "stdout",
     "output_type": "stream",
     "text": [
      "python:      3.7.3 (default, Mar 27 2019, 22:11:17) \n",
      "[GCC 7.3.0]\n",
      "numpy:       1.16.4\n",
      "pandas:      0.24.2\n",
      "matplotlib:  3.1.0\n",
      "seaborn:     0.9.0\n",
      "sklearn:     0.21.2\n",
      "Description:\tUbuntu 18.04.2 LTS\n"
     ]
    }
   ],
   "source": [
    "# Version Information\n",
    "import sys\n",
    "print('python:     ', sys.version)\n",
    "print('numpy:      ', np.__version__)\n",
    "print('pandas:     ', pd.__version__)\n",
    "import matplotlib\n",
    "print('matplotlib: ', matplotlib.__version__)\n",
    "print('seaborn:    ', sns.__version__)\n",
    "print('sklearn:    ', sk.__version__)\n",
    "!lsb_release -d"
   ]
  },
  {
   "cell_type": "markdown",
   "metadata": {},
   "source": [
    "## Recreate Model from Previous Iteration"
   ]
  },
  {
   "cell_type": "code",
   "execution_count": 3,
   "metadata": {},
   "outputs": [],
   "source": [
    "from sklearn.linear_model import LogisticRegression\n",
    "from sklearn.metrics import accuracy_score\n",
    "from sklearn.model_selection import cross_val_score, RepeatedStratifiedKFold\n",
    "from sklearn.pipeline import Pipeline\n",
    "from sklearn.compose import ColumnTransformer\n",
    "from sklearn.model_selection import GridSearchCV"
   ]
  },
  {
   "cell_type": "code",
   "execution_count": 4,
   "metadata": {},
   "outputs": [],
   "source": [
    "# CV for model comparison, not model selection\n",
    "cv_select = RepeatedStratifiedKFold(n_splits=2, n_repeats=10, random_state=108)\n",
    "cv_select_quick = RepeatedStratifiedKFold(n_splits=2, n_repeats=5, random_state=108)"
   ]
  },
  {
   "cell_type": "code",
   "execution_count": 5,
   "metadata": {},
   "outputs": [
    {
     "name": "stdout",
     "output_type": "stream",
     "text": [
      "20 Scores  min:0.814 max:0.850\n",
      "CV Mean Score: 0.830 +/- 0.013\n"
     ]
    }
   ],
   "source": [
    "X, y = tt.get_Xy_v6()\n",
    "cols, ct = tt.get_ct_v5()\n",
    "\n",
    "lr = LogisticRegression(penalty='l2', C=1.0, solver='liblinear')\n",
    "pipe = Pipeline([('ct', ct), ('lr', lr)])\n",
    "\n",
    "scores = cross_val_score(pipe, X, y, cv=cv_select, scoring='accuracy')\n",
    "tt.print_scores(scores)"
   ]
  },
  {
   "cell_type": "markdown",
   "metadata": {},
   "source": [
    "The model from the previous iteration has been recreated."
   ]
  },
  {
   "cell_type": "markdown",
   "metadata": {
    "toc-hr-collapsed": false
   },
   "source": [
    "## Preferred Method to<br/>Optimize Hyperparameters *And*<br/> Evaluate Performance of Optimized Model\n",
    "\n",
    "Cross Validation cannot be used to *both* find the best hyperparameters *and* provide an accurate estimate of model performance.  In hyperparameter optimization, the CV test folds are used over and over again.  These test folds become data used as part of the model building process resulting in an overly optimistic estimate of model performance.\n",
    "\n",
    "The preferred method to find the best model and estimate its performance on unseen data is:\n",
    "* set aside a final hold-out test set to be used at the end of the project only\n",
    "* use cross validation on the remaining data to:\n",
    "  * to select the best hyperparameters\n",
    "  * to experiment with the best features to extract\n",
    "  * to experiment with the best data transformations\n",
    "* having decided on the best way to build a model, build it on all the data except the final hold-out set\n",
    "* evaluate this model on the final hold-out set"
   ]
  },
  {
   "cell_type": "markdown",
   "metadata": {
    "toc-hr-collapsed": true
   },
   "source": [
    "### Don't Use Final Hold-Out Set for Very Small Data Sets\n",
    "The Titanic data set from Kaggle has 891 labeled records.\n",
    "\n",
    "If 20% had been kept as a final hold-out set and 2-Fold CV had been used to select the best hyperparameters, then the CV process would be training on .8 * .5 * 891 = 356 records and evaluating on 356 records.  This is likely too few records to train on.  If 5-Fold CV is used, then there is more data for training, but less data for scoring, resulting in an inaccurate CV score causing less than the best hyperparameters to be chosen.  The Titanic data set is simply too small to make good use of a final hold-out set.\n",
    "\n",
    "Depending on numerous factors, such as:\n",
    "* the stability of the model being built  \n",
    "* the amount of noise in the data  \n",
    "* the number of features vs the number of records  \n",
    "a final hold-out set may or may not be appropriate.\n",
    "\n",
    "For small data sets, there are two other approaches that can be taken:\n",
    "* the \"one-standard-error\" rule\n",
    "* nested cross validation\n",
    "\n",
    "Arguably nested cross validation is better, but the insights provided by the one-standard-error rule are very helpful.  As such, it will be presented first."
   ]
  },
  {
   "cell_type": "markdown",
   "metadata": {},
   "source": [
    "### One Standard Error Rule\n",
    "The complexity of the model is reduced until a score 1 standard error below the optimal score is found.  This reduced complexity model is the model to deploy.\n",
    "\n",
    "The rational is that simpler models tend to do better in practice.  This is often referred to as Occam's Razor or the principle of parsimony.  If the simpler model has a score within 1 standard deviation of the best model, then arguably its score is the same, so use the simpler model.\n",
    "\n",
    "This is described in section 6.1 of [ISLR](http://www-bcf.usc.edu/~gareth/ISL/) or section 7.3 of [ESL](https://web.stanford.edu/~hastie/ElemStatLearn/).\n",
    "\n",
    "As per [LogisticRegression](https://scikit-learn.org/stable/modules/generated/sklearn.linear_model.LogisticRegression.html) smaller values of C specify stronger regularization (i.e. reduced model complexity).\n",
    "\n",
    "In the following, the error bars are placed at plus-or-minus 1/2 standard deviation from the mean.  Two scores will differ by 1 full standard deviation if the upper error bar of one just reaches the lower error bar of the other."
   ]
  },
  {
   "cell_type": "code",
   "execution_count": 6,
   "metadata": {},
   "outputs": [],
   "source": [
    "c_values = np.logspace(-2,1)\n",
    "results = []\n",
    "for c in c_values:\n",
    "    \n",
    "    lr = LogisticRegression(penalty='l2', C=c, solver='liblinear')\n",
    "    pipe = Pipeline([('ct', ct), ('lr', lr)])\n",
    "\n",
    "    scores = cross_val_score(pipe, X, y, cv=cv_select, \n",
    "                             scoring='accuracy')\n",
    "    \n",
    "    results.append((c, scores.mean(), \n",
    "                    scores.mean() - scores.std()/2,\n",
    "                    scores.mean() + scores.std()/2,\n",
    "                    scores.std()/2))"
   ]
  },
  {
   "cell_type": "code",
   "execution_count": 7,
   "metadata": {},
   "outputs": [
    {
     "data": {
      "text/html": [
       "<div>\n",
       "<style scoped>\n",
       "    .dataframe tbody tr th:only-of-type {\n",
       "        vertical-align: middle;\n",
       "    }\n",
       "\n",
       "    .dataframe tbody tr th {\n",
       "        vertical-align: top;\n",
       "    }\n",
       "\n",
       "    .dataframe thead th {\n",
       "        text-align: right;\n",
       "    }\n",
       "</style>\n",
       "<table border=\"1\" class=\"dataframe\">\n",
       "  <thead>\n",
       "    <tr style=\"text-align: right;\">\n",
       "      <th></th>\n",
       "      <th>C</th>\n",
       "      <th>Score</th>\n",
       "      <th>low</th>\n",
       "      <th>high</th>\n",
       "      <th>halfSD</th>\n",
       "    </tr>\n",
       "  </thead>\n",
       "  <tbody>\n",
       "    <tr>\n",
       "      <th>0</th>\n",
       "      <td>0.010000</td>\n",
       "      <td>0.808544</td>\n",
       "      <td>0.798335</td>\n",
       "      <td>0.818754</td>\n",
       "      <td>0.010210</td>\n",
       "    </tr>\n",
       "    <tr>\n",
       "      <th>1</th>\n",
       "      <td>0.011514</td>\n",
       "      <td>0.812356</td>\n",
       "      <td>0.802668</td>\n",
       "      <td>0.822044</td>\n",
       "      <td>0.009688</td>\n",
       "    </tr>\n",
       "    <tr>\n",
       "      <th>2</th>\n",
       "      <td>0.013257</td>\n",
       "      <td>0.816392</td>\n",
       "      <td>0.807889</td>\n",
       "      <td>0.824894</td>\n",
       "      <td>0.008502</td>\n",
       "    </tr>\n",
       "    <tr>\n",
       "      <th>3</th>\n",
       "      <td>0.015264</td>\n",
       "      <td>0.818970</td>\n",
       "      <td>0.811639</td>\n",
       "      <td>0.826301</td>\n",
       "      <td>0.007331</td>\n",
       "    </tr>\n",
       "    <tr>\n",
       "      <th>4</th>\n",
       "      <td>0.017575</td>\n",
       "      <td>0.820877</td>\n",
       "      <td>0.813155</td>\n",
       "      <td>0.828599</td>\n",
       "      <td>0.007722</td>\n",
       "    </tr>\n",
       "  </tbody>\n",
       "</table>\n",
       "</div>"
      ],
      "text/plain": [
       "          C     Score       low      high    halfSD\n",
       "0  0.010000  0.808544  0.798335  0.818754  0.010210\n",
       "1  0.011514  0.812356  0.802668  0.822044  0.009688\n",
       "2  0.013257  0.816392  0.807889  0.824894  0.008502\n",
       "3  0.015264  0.818970  0.811639  0.826301  0.007331\n",
       "4  0.017575  0.820877  0.813155  0.828599  0.007722"
      ]
     },
     "execution_count": 7,
     "metadata": {},
     "output_type": "execute_result"
    }
   ],
   "source": [
    "df = pd.DataFrame(data=results, columns=['C', 'Score', 'low', 'high', 'halfSD'])\n",
    "df.head()"
   ]
  },
  {
   "cell_type": "code",
   "execution_count": 8,
   "metadata": {},
   "outputs": [
    {
     "name": "stdout",
     "output_type": "stream",
     "text": [
      "Best Score\n",
      "C         2.811769\n",
      "Score     0.831649\n",
      "low       0.824728\n",
      "high      0.838570\n",
      "halfSD    0.006921\n",
      "Name: 40, dtype: float64\n"
     ]
    }
   ],
   "source": [
    "i_max = df['Score'].idxmax()\n",
    "print('Best Score')\n",
    "print(df.iloc[i_max])"
   ]
  },
  {
   "cell_type": "code",
   "execution_count": 9,
   "metadata": {},
   "outputs": [
    {
     "name": "stdout",
     "output_type": "stream",
     "text": [
      "Score: 1 SE Less\n",
      "C         0.013257\n",
      "Score     0.816392\n",
      "low       0.807889\n",
      "high      0.824894\n",
      "halfSD    0.008502\n",
      "Name: 2, dtype: float64\n"
     ]
    }
   ],
   "source": [
    "# low end of CI for highest Score\n",
    "best_low = df.iloc[i_max]['low']\n",
    "\n",
    "# decrease C (which increases regularization) to find the C\n",
    "# for which the CIs overlap the least\n",
    "for i in range(i_max, -1, -1):\n",
    "    if df.loc[i]['high'] >= best_low:\n",
    "        i_min = i\n",
    "    else:\n",
    "        break\n",
    "print('Score: 1 SE Less')\n",
    "print(df.loc[i_min])\n",
    "\n",
    "midpoint = (df.loc[i_min]['high'] + df.loc[i_max]['low']) / 2"
   ]
  },
  {
   "cell_type": "code",
   "execution_count": 10,
   "metadata": {},
   "outputs": [
    {
     "data": {
      "image/png": "[encoded data removed]",
      "text/plain": [
       "<Figure size 720x288 with 1 Axes>"
      ]
     },
     "metadata": {
      "needs_background": "light"
     },
     "output_type": "display_data"
    }
   ],
   "source": [
    "# plot the mean scores and their standard error vs C\n",
    "fig = plt.figure(figsize=[10,4])\n",
    "\n",
    "plt.errorbar(df['C'], df['Score'], yerr=df['halfSD'], \n",
    "             ecolor='gray', elinewidth=1, \n",
    "             fmt='o', capsize=2);\n",
    "# Best\n",
    "plt.errorbar(df['C'].iloc[i_max], df['Score'].iloc[i_max], \n",
    "             yerr=df['halfSD'].iloc[i_max], ecolor='red')\n",
    "# 1 SE Less\n",
    "plt.errorbar(df['C'].iloc[i_min], df['Score'].iloc[i_min], \n",
    "             yerr=df['halfSD'].iloc[i_min], ecolor='green')\n",
    "\n",
    "ax = plt.gca()\n",
    "ax.set_xscale('log')\n",
    "plt.axhline(midpoint, linewidth=1)\n",
    "plt.xlabel('C\\nComplexity Increases to the Right')\n",
    "plt.ylabel('Score');\n",
    "plt.title('Score vs Regularization');"
   ]
  },
  {
   "cell_type": "markdown",
   "metadata": {},
   "source": [
    "# NEW"
   ]
  },
  {
   "cell_type": "code",
   "execution_count": 11,
   "metadata": {},
   "outputs": [],
   "source": [
    "c_values = np.logspace(-2,1)\n",
    "results = []\n",
    "for c in c_values:\n",
    "    \n",
    "    lr = LogisticRegression(penalty='l2', C=c, solver='liblinear')\n",
    "    pipe = Pipeline([('ct', ct), ('lr', lr)])\n",
    "\n",
    "    scores = cross_val_score(pipe, X, y, cv=cv_select, \n",
    "                             scoring='accuracy')\n",
    "    \n",
    "    results.append((c, scores.mean(), scores.std()))"
   ]
  },
  {
   "cell_type": "code",
   "execution_count": 12,
   "metadata": {},
   "outputs": [
    {
     "data": {
      "text/html": [
       "<div>\n",
       "<style scoped>\n",
       "    .dataframe tbody tr th:only-of-type {\n",
       "        vertical-align: middle;\n",
       "    }\n",
       "\n",
       "    .dataframe tbody tr th {\n",
       "        vertical-align: top;\n",
       "    }\n",
       "\n",
       "    .dataframe thead th {\n",
       "        text-align: right;\n",
       "    }\n",
       "</style>\n",
       "<table border=\"1\" class=\"dataframe\">\n",
       "  <thead>\n",
       "    <tr style=\"text-align: right;\">\n",
       "      <th></th>\n",
       "      <th>C</th>\n",
       "      <th>Score</th>\n",
       "      <th>SD</th>\n",
       "    </tr>\n",
       "  </thead>\n",
       "  <tbody>\n",
       "    <tr>\n",
       "      <th>0</th>\n",
       "      <td>0.010000</td>\n",
       "      <td>0.808544</td>\n",
       "      <td>0.020419</td>\n",
       "    </tr>\n",
       "    <tr>\n",
       "      <th>1</th>\n",
       "      <td>0.011514</td>\n",
       "      <td>0.812356</td>\n",
       "      <td>0.019376</td>\n",
       "    </tr>\n",
       "    <tr>\n",
       "      <th>2</th>\n",
       "      <td>0.013257</td>\n",
       "      <td>0.816392</td>\n",
       "      <td>0.017005</td>\n",
       "    </tr>\n",
       "    <tr>\n",
       "      <th>3</th>\n",
       "      <td>0.015264</td>\n",
       "      <td>0.818970</td>\n",
       "      <td>0.014662</td>\n",
       "    </tr>\n",
       "    <tr>\n",
       "      <th>4</th>\n",
       "      <td>0.017575</td>\n",
       "      <td>0.820877</td>\n",
       "      <td>0.015444</td>\n",
       "    </tr>\n",
       "  </tbody>\n",
       "</table>\n",
       "</div>"
      ],
      "text/plain": [
       "          C     Score        SD\n",
       "0  0.010000  0.808544  0.020419\n",
       "1  0.011514  0.812356  0.019376\n",
       "2  0.013257  0.816392  0.017005\n",
       "3  0.015264  0.818970  0.014662\n",
       "4  0.017575  0.820877  0.015444"
      ]
     },
     "execution_count": 12,
     "metadata": {},
     "output_type": "execute_result"
    }
   ],
   "source": [
    "df = pd.DataFrame(data=results, columns=['C', 'Score', 'SD'])\n",
    "df.head()"
   ]
  },
  {
   "cell_type": "code",
   "execution_count": 13,
   "metadata": {},
   "outputs": [
    {
     "name": "stdout",
     "output_type": "stream",
     "text": [
      "Best Score\n",
      "C        2.811769\n",
      "Score    0.831649\n",
      "SD       0.013843\n",
      "Name: 40, dtype: float64\n"
     ]
    }
   ],
   "source": [
    "i_max = df['Score'].idxmax()\n",
    "print('Best Score')\n",
    "print(df.iloc[i_max])"
   ]
  },
  {
   "cell_type": "code",
   "execution_count": 14,
   "metadata": {},
   "outputs": [
    {
     "name": "stdout",
     "output_type": "stream",
     "text": [
      "Score: 1 SE Less\n",
      "C        0.015264\n",
      "Score    0.818970\n",
      "SD       0.014662\n",
      "Name: 3, dtype: float64\n"
     ]
    }
   ],
   "source": [
    "# low end of CI for highest Score\n",
    "best_low = df.iloc[i_max]['Score'] - df.iloc[i_max]['SD']\n",
    "\n",
    "# decrease C (which increases regularization) to find C\n",
    "for i in range(i_max, -1, -1):\n",
    "    if df.loc[i]['Score'] >= best_low:\n",
    "        i_min = i\n",
    "    else:\n",
    "        break\n",
    "print('Score: 1 SE Less')\n",
    "print(df.loc[i_min])\n",
    "\n",
    "# midpoint = (df.loc[i_min]['high'] + df.loc[i_max]['low']) / 2"
   ]
  },
  {
   "cell_type": "code",
   "execution_count": 15,
   "metadata": {},
   "outputs": [
    {
     "data": {
      "image/png": "[encoded data removed]",
      "text/plain": [
       "<Figure size 720x288 with 1 Axes>"
      ]
     },
     "metadata": {
      "needs_background": "light"
     },
     "output_type": "display_data"
    }
   ],
   "source": [
    "# plot the mean scores and their standard error vs C\n",
    "fig = plt.figure(figsize=[10,4])\n",
    "\n",
    "plt.errorbar(df['C'], df['Score'], yerr=df['SD'], \n",
    "             ecolor='gray', elinewidth=1, \n",
    "             fmt='o', capsize=2);\n",
    "# Best\n",
    "plt.errorbar(df['C'].iloc[i_max], df['Score'].iloc[i_max], \n",
    "             yerr=df['SD'].iloc[i_max], ecolor='red')\n",
    "# 1 SE Less\n",
    "plt.errorbar(df['C'].iloc[i_min], df['Score'].iloc[i_min], \n",
    "             yerr=df['SD'].iloc[i_min], ecolor='green')\n",
    "\n",
    "ax = plt.gca()\n",
    "ax.set_xscale('log')\n",
    "plt.axhline(df['Score'].iloc[i_min], linewidth=1)\n",
    "plt.xlabel('C\\nComplexity Increases to the Right')\n",
    "plt.ylabel('Score');\n",
    "plt.title('Score vs Regularization');"
   ]
  },
  {
   "cell_type": "markdown",
   "metadata": {},
   "source": [
    "The optimal value of C was found, and then C was lowered until the mean score just barely fell within the confidence interval of the optimal score.\n",
    "\n",
    "The higher level of regularization results in a simpler model that is less likely to overfit the data.\n",
    "\n",
    "Regularization reduces the degrees of freedom, which is similar to reducing the number of variables, except that it does so gradually.  L2 regularization is generally believed to allow for the best predictions.  L1 regularization can force a coefficient to zero, removing the variable entirely, which may allow for better interpretability.\n",
    "\n",
    "The simpler model with a mean score of .822 seems worse than model with a mean score of .835, but as their confidence intervals overlap, they represent effectively the same score.\n",
    "\n",
    "**Summary of One-Standard-Error**  \n",
    "Without having a final hold-out set, there was no way to know if the hyperparameter optimized model overfit the data.  By backing off one-standard-error, with respect to tuning the hyperparameter for complexity, a simpler model was created with similar performance but less chance of overfit."
   ]
  },
  {
   "cell_type": "markdown",
   "metadata": {},
   "source": [
    "### Custom Learning Curve\n",
    "The Learning Curver helper function in Scikit Learn doesn't compute the variance of the estimate of the model performance at various training set sizes.\n",
    "\n",
    "As the goal is to find which value for K allows for best ranking similar algorithms, it is critical to know the variance."
   ]
  },
  {
   "cell_type": "code",
   "execution_count": 22,
   "metadata": {},
   "outputs": [],
   "source": [
    "c_simple = df['C'].iloc[i_max]\n",
    "c_best = df['C'].iloc[i_min-1]\n",
    "\n",
    "lr_simple = LogisticRegression(penalty='l2', C=c_simple, solver='liblinear')\n",
    "lr_best = LogisticRegression(penalty='l2', C=c_best, solver='liblinear')\n",
    "\n",
    "pipe_simple = Pipeline([('ct', ct), ('lr_simple', lr_simple)])\n",
    "pipe_best = Pipeline([('ct', ct), ('lr_best', lr_best)])"
   ]
  },
  {
   "cell_type": "code",
   "execution_count": 23,
   "metadata": {},
   "outputs": [],
   "source": [
    "# use repeated CV to reduce the variance\n",
    "results = []\n",
    "for k in range(2, 11):\n",
    "    cv = RepeatedStratifiedKFold(n_splits=k, n_repeats=10, random_state=108)\n",
    "    scores_simple = cross_val_score(pipe_simple, X, y, cv=cv)\n",
    "    scores_best = cross_val_score(pipe_best, X, y, cv=cv)\n",
    "    \n",
    "    results.append((k, scores_simple.mean(), scores_simple.std(), \n",
    "                   scores_best.mean(), scores_best.std()))\n",
    "    \n",
    "df_results = pd.DataFrame(results, \n",
    "                          columns=['k', 'simple_mean', 'simple_me',\n",
    "                                   'best_mean', 'best_me'])    "
   ]
  },
  {
   "cell_type": "code",
   "execution_count": 24,
   "metadata": {},
   "outputs": [
    {
     "data": {
      "text/html": [
       "<div>\n",
       "<style scoped>\n",
       "    .dataframe tbody tr th:only-of-type {\n",
       "        vertical-align: middle;\n",
       "    }\n",
       "\n",
       "    .dataframe tbody tr th {\n",
       "        vertical-align: top;\n",
       "    }\n",
       "\n",
       "    .dataframe thead th {\n",
       "        text-align: right;\n",
       "    }\n",
       "</style>\n",
       "<table border=\"1\" class=\"dataframe\">\n",
       "  <thead>\n",
       "    <tr style=\"text-align: right;\">\n",
       "      <th></th>\n",
       "      <th>k</th>\n",
       "      <th>simple_mean</th>\n",
       "      <th>simple_me</th>\n",
       "      <th>best_mean</th>\n",
       "      <th>best_me</th>\n",
       "    </tr>\n",
       "  </thead>\n",
       "  <tbody>\n",
       "    <tr>\n",
       "      <th>0</th>\n",
       "      <td>2</td>\n",
       "      <td>0.831649</td>\n",
       "      <td>0.013843</td>\n",
       "      <td>0.816392</td>\n",
       "      <td>0.017005</td>\n",
       "    </tr>\n",
       "    <tr>\n",
       "      <th>1</th>\n",
       "      <td>3</td>\n",
       "      <td>0.833109</td>\n",
       "      <td>0.017029</td>\n",
       "      <td>0.821886</td>\n",
       "      <td>0.016085</td>\n",
       "    </tr>\n",
       "    <tr>\n",
       "      <th>2</th>\n",
       "      <td>4</td>\n",
       "      <td>0.833664</td>\n",
       "      <td>0.023281</td>\n",
       "      <td>0.824467</td>\n",
       "      <td>0.024980</td>\n",
       "    </tr>\n",
       "    <tr>\n",
       "      <th>3</th>\n",
       "      <td>5</td>\n",
       "      <td>0.835131</td>\n",
       "      <td>0.023130</td>\n",
       "      <td>0.825589</td>\n",
       "      <td>0.027595</td>\n",
       "    </tr>\n",
       "    <tr>\n",
       "      <th>4</th>\n",
       "      <td>6</td>\n",
       "      <td>0.835125</td>\n",
       "      <td>0.024860</td>\n",
       "      <td>0.825808</td>\n",
       "      <td>0.027074</td>\n",
       "    </tr>\n",
       "    <tr>\n",
       "      <th>5</th>\n",
       "      <td>7</td>\n",
       "      <td>0.836239</td>\n",
       "      <td>0.027263</td>\n",
       "      <td>0.825466</td>\n",
       "      <td>0.029531</td>\n",
       "    </tr>\n",
       "    <tr>\n",
       "      <th>6</th>\n",
       "      <td>8</td>\n",
       "      <td>0.835048</td>\n",
       "      <td>0.031813</td>\n",
       "      <td>0.825739</td>\n",
       "      <td>0.036021</td>\n",
       "    </tr>\n",
       "    <tr>\n",
       "      <th>7</th>\n",
       "      <td>9</td>\n",
       "      <td>0.835129</td>\n",
       "      <td>0.032324</td>\n",
       "      <td>0.826599</td>\n",
       "      <td>0.036459</td>\n",
       "    </tr>\n",
       "    <tr>\n",
       "      <th>8</th>\n",
       "      <td>10</td>\n",
       "      <td>0.835675</td>\n",
       "      <td>0.036702</td>\n",
       "      <td>0.826595</td>\n",
       "      <td>0.038883</td>\n",
       "    </tr>\n",
       "  </tbody>\n",
       "</table>\n",
       "</div>"
      ],
      "text/plain": [
       "    k  simple_mean  simple_me  best_mean   best_me\n",
       "0   2     0.831649   0.013843   0.816392  0.017005\n",
       "1   3     0.833109   0.017029   0.821886  0.016085\n",
       "2   4     0.833664   0.023281   0.824467  0.024980\n",
       "3   5     0.835131   0.023130   0.825589  0.027595\n",
       "4   6     0.835125   0.024860   0.825808  0.027074\n",
       "5   7     0.836239   0.027263   0.825466  0.029531\n",
       "6   8     0.835048   0.031813   0.825739  0.036021\n",
       "7   9     0.835129   0.032324   0.826599  0.036459\n",
       "8  10     0.835675   0.036702   0.826595  0.038883"
      ]
     },
     "execution_count": 24,
     "metadata": {},
     "output_type": "execute_result"
    }
   ],
   "source": [
    "df_results"
   ]
  },
  {
   "cell_type": "code",
   "execution_count": 33,
   "metadata": {},
   "outputs": [],
   "source": [
    "df2 = df_results[:4]"
   ]
  },
  {
   "cell_type": "code",
   "execution_count": 35,
   "metadata": {},
   "outputs": [
    {
     "data": {
      "image/png": "[encoded data removed]",
      "text/plain": [
       "<Figure size 720x288 with 1 Axes>"
      ]
     },
     "metadata": {
      "needs_background": "light"
     },
     "output_type": "display_data"
    }
   ],
   "source": [
    "# plot the mean scores and their standard error vs C\n",
    "fig = plt.figure(figsize=[10,4])\n",
    "\n",
    "jitter = 0.02\n",
    "\n",
    "# 1 SE Less\n",
    "plt.errorbar(df2['k']+jitter, df2['simple_mean'], yerr=df2['simple_me'], \n",
    "             elinewidth=1, \n",
    "             fmt='o', capsize=2, ecolor='green');\n",
    "\n",
    "plt.errorbar(df2['k']-jitter, df2['best_mean'], yerr=df2['best_me'], \n",
    "             elinewidth=1, \n",
    "             fmt='o', capsize=2, ecolor='red');\n",
    "\n",
    "plt.plot(df2['k']+jitter, df2['simple_mean'], linestyle='--', \n",
    "         color='green')\n",
    "\n",
    "plt.plot(df2['k']-jitter, df2['best_mean'], linestyle='--', \n",
    "         color='red')\n",
    "\n",
    "ax = plt.gca()\n",
    "plt.xlabel('K')\n",
    "plt.ylabel('Score');\n",
    "plt.title(\"Comparing Two Models Scores vs K\");"
   ]
  },
  {
   "cell_type": "code",
   "execution_count": null,
   "metadata": {},
   "outputs": [],
   "source": []
  },
  {
   "cell_type": "code",
   "execution_count": null,
   "metadata": {},
   "outputs": [],
   "source": []
  },
  {
   "cell_type": "code",
   "execution_count": null,
   "metadata": {},
   "outputs": [],
   "source": []
  },
  {
   "cell_type": "code",
   "execution_count": null,
   "metadata": {},
   "outputs": [],
   "source": []
  },
  {
   "cell_type": "code",
   "execution_count": null,
   "metadata": {},
   "outputs": [],
   "source": []
  },
  {
   "cell_type": "code",
   "execution_count": null,
   "metadata": {},
   "outputs": [],
   "source": []
  },
  {
   "cell_type": "code",
   "execution_count": null,
   "metadata": {},
   "outputs": [],
   "source": [
    "# Variance vs Number of Repeats\n",
    "repeats = [1, 10, 100]\n",
    "K = [2, 3, 4, 5]\n",
    "results = []\n",
    "for k in K:\n",
    "    print(k)\n",
    "    for r in repeats:\n",
    "        print(r, end=', ')\n",
    "        cv = RepeatedStratifiedKFold(n_splits=k, n_repeats=r, random_state=9090)\n",
    "        scores = cross_val_score(pipe_simple, X, y, cv=cv)\n",
    "        results.append((r, k, scores.mean(), scores.std()))\n",
    "    print()\n",
    "df_simple = pd.DataFrame(results, columns=['R', 'K', 'Score', 'SD'])"
   ]
  },
  {
   "cell_type": "code",
   "execution_count": null,
   "metadata": {},
   "outputs": [],
   "source": [
    "sns.relplot(x='R', y='SD', hue='K', data=df_simple, kind='line');"
   ]
  },
  {
   "cell_type": "code",
   "execution_count": null,
   "metadata": {},
   "outputs": [],
   "source": [
    "sns.relplot(x='R', y='Score', hue='K', data=df_simple, kind='line');"
   ]
  },
  {
   "cell_type": "code",
   "execution_count": null,
   "metadata": {},
   "outputs": [],
   "source": [
    "# Variance vs Number of Repeats\n",
    "repeats = [1, 10, 100]\n",
    "K = [2, 3, 4, 5]\n",
    "results = []\n",
    "for k in K:\n",
    "    print(k)\n",
    "    for r in repeats:\n",
    "        print(r, end=', ')\n",
    "        cv = RepeatedStratifiedKFold(n_splits=k, n_repeats=r, random_state=9090)\n",
    "        scores = cross_val_score(pipe_best, X, y, cv=cv)\n",
    "        results.append((r, k, scores.mean(), scores.std()))\n",
    "    print()\n",
    "df_best = pd.DataFrame(results, columns=['R', 'K', 'Score', 'SD'])"
   ]
  },
  {
   "cell_type": "code",
   "execution_count": null,
   "metadata": {},
   "outputs": [],
   "source": [
    "sns.relplot(x='R', y='SD', hue='K', data=df_best, kind='line');"
   ]
  },
  {
   "cell_type": "code",
   "execution_count": null,
   "metadata": {},
   "outputs": [],
   "source": [
    "sns.relplot(x='R', y='Score', hue='K', data=df_best, kind='line');"
   ]
  },
  {
   "cell_type": "code",
   "execution_count": null,
   "metadata": {},
   "outputs": [],
   "source": []
  },
  {
   "cell_type": "code",
   "execution_count": null,
   "metadata": {},
   "outputs": [],
   "source": []
  },
  {
   "cell_type": "code",
   "execution_count": null,
   "metadata": {},
   "outputs": [],
   "source": []
  },
  {
   "cell_type": "code",
   "execution_count": null,
   "metadata": {},
   "outputs": [],
   "source": []
  },
  {
   "cell_type": "markdown",
   "metadata": {},
   "source": [
    "### Learning Curve\n",
    "Before proceeding, it's a good idea to check the Learning Curve to see if the model is being trained well on the amount of data available to each cross validation train/test fold.\n",
    "\n",
    "A Learning Curve will created for both the optimized model, and the model with increased regularization within 1 SD of the optimized model."
   ]
  },
  {
   "cell_type": "code",
   "execution_count": null,
   "metadata": {},
   "outputs": [],
   "source": [
    "c_best = df.iloc[i_max]['C']\n",
    "c_simple = df.iloc[i_min]['C']\n",
    "c_best, c_simple"
   ]
  },
  {
   "cell_type": "code",
   "execution_count": null,
   "metadata": {},
   "outputs": [],
   "source": [
    "# CV for Learning Curve\n",
    "cv_lc = RepeatedStratifiedKFold(n_splits=5, n_repeats=20, random_state=505)"
   ]
  },
  {
   "cell_type": "code",
   "execution_count": null,
   "metadata": {},
   "outputs": [],
   "source": [
    "# number of records to train on\n",
    "# 5-Fold => (80% of 891) - 1 = 711\n",
    "train_sizes = np.linspace(100, 711, 12).astype('int')\n",
    "train_sizes"
   ]
  },
  {
   "cell_type": "code",
   "execution_count": null,
   "metadata": {},
   "outputs": [],
   "source": [
    "# Create a Learning Curve\n",
    "from sklearn.model_selection import learning_curve\n",
    "\n",
    "# plot both the best model, and the model one standard error simpler\n",
    "\n",
    "lr_simple = LogisticRegression(penalty='l2', C=c_simple, solver='liblinear')\n",
    "lr_best = LogisticRegression(penalty='l2', C=c_best, solver='liblinear')\n",
    "\n",
    "pipe_simple = Pipeline([('ct', ct), ('lr_simple', lr_simple)])\n",
    "pipe_best = Pipeline([('ct', ct), ('lr_best', lr_best)])\n",
    "\n",
    "train1_sizes, train1_scores, test1_scores = \\\n",
    "    learning_curve(pipe_simple, X, y, train_sizes=train_sizes,\n",
    "                   scoring=\"accuracy\", cv=cv_lc)\n",
    "train2_sizes, train2_scores, test2_scores = \\\n",
    "    learning_curve(pipe_best, X, y, train_sizes=train_sizes,\n",
    "                   scoring=\"accuracy\", cv=cv_lc)"
   ]
  },
  {
   "cell_type": "code",
   "execution_count": null,
   "metadata": {},
   "outputs": [],
   "source": [
    "plt.xlabel('Number of Records')\n",
    "plt.ylabel('Accuracy')\n",
    "plt.title('Blue: Best C\\nRed: 1SE Simpler')\n",
    "\n",
    "best_score = df['Score'].iloc[i_max]\n",
    "plt.axhline(best_score)\n",
    "\n",
    "sns.scatterplot(x=train1_sizes, y=test1_scores.mean(axis=1), color='red');\n",
    "sns.scatterplot(x=train2_sizes, y=test2_scores.mean(axis=1), color='blue');"
   ]
  },
  {
   "cell_type": "markdown",
   "metadata": {},
   "source": [
    "The above shows that for all training set sizes, it is possible to distinguish between the two models.  This is because the learning bias (caused by training on too few records) is in the same direction for both models.  This is why low K works well for model selection.\n",
    "\n",
    "Both models appear to be well trained by about the 600 record mark.\n",
    "\n",
    "K vs Number of Train/Test Set Records (N=891)  \n",
    "K=2  => 891 * 1/2  = 450 train, 450 test  \n",
    "K=3  => 891 * 2/3  = 594 train, 297 test  \n",
    "K=4  => 891 * 3/4  = 668 train, 223 test  \n",
    "K=5  => 891 * 4/5  = 712 train, 179 test  \n",
    "K=10 => 891 * 9/10 = 801 train, 90 test   \n",
    "\n",
    "At K=3, about 600 records are used for training.  So at K=3 the bias due to training on too few records is small.\n",
    "\n",
    "At K=3, about 300 records are used for computing the score, whereas at K=10 about 90 records are used for computing the score.  The variance of the score will be lower when computed on 300 records vs being computed on 90 records.  This means that K=3 will be better able to distinguish which of 2 models is best, than K=10.\n",
    "\n",
    "Although there is more training bias at K=2 than at K=3, the models are well distinguished from one another at K=2.  So K=2 Folds also works well for the purpose of determining which model is best."
   ]
  },
  {
   "cell_type": "markdown",
   "metadata": {},
   "source": [
    "### Nested Cross Validation Description\n",
    "Nested Cross Validation requires significantly more computation time than regular CV, but it is only needed when there is a small amount of data.\n",
    "\n",
    "Nested Cross Validation works by embedding GridSearchCV inside of cross_val_score.  This puts the entire model building process inside of cross validation, ensuring that the entire model building process is being properly evaluated.\n",
    "\n",
    "Often K=2 is chosen for the inner CV (which performs model selection) and K=5 is chosen for the outer CV (which performs model evaluation)."
   ]
  },
  {
   "cell_type": "markdown",
   "metadata": {},
   "source": [
    "#### Nested CV Code Preparation"
   ]
  },
  {
   "cell_type": "code",
   "execution_count": null,
   "metadata": {},
   "outputs": [],
   "source": [
    "# First: Verify that non-nested GridSearchCV gives same result as above\n",
    "\n",
    "# Parameters to optimize over\n",
    "p_grid = {\"lr__C\": np.logspace(-2,1)}\n",
    "\n",
    "lr = LogisticRegression(penalty='l2', C=c, solver='liblinear')\n",
    "pipe = Pipeline([('ct', ct), ('lr', lr)])\n",
    "\n",
    "grid = GridSearchCV(estimator=pipe, param_grid=p_grid, \n",
    "                    scoring='accuracy', cv=cv_select)\n",
    "\n",
    "# find the best hyperparameters and associated score\n",
    "grid.fit(X, y);"
   ]
  },
  {
   "cell_type": "code",
   "execution_count": null,
   "metadata": {},
   "outputs": [],
   "source": [
    "# Copied from titanic_helper_code.py\n",
    "def print_grid(grid, pandas=False):\n",
    "    '''Print and Return GridSearchCV Results'''\n",
    "          \n",
    "    std = grid.cv_results_['std_test_score'][grid.best_index_]\n",
    "    print(f'Best: {grid.best_score_:0.3f} +/- {std/2:0.3f}')\n",
    "    for key, value in grid.best_params_.items():\n",
    "        print(f'{key}: {value}')\n",
    "        \n",
    "\n",
    "    if pandas:\n",
    "        results=[]\n",
    "        for i in range(len(grid.cv_results_['mean_test_score'])):\n",
    "            score  = grid.cv_results_['mean_test_score'][i]\n",
    "            std    = grid.cv_results_['std_test_score'][i]\n",
    "            params = grid.cv_results_['params'][i]\n",
    "            params['score'] = score\n",
    "            params['std'] = std\n",
    "            results.append(params)\n",
    "        \n",
    "        return pd.DataFrame(results)"
   ]
  },
  {
   "cell_type": "code",
   "execution_count": null,
   "metadata": {},
   "outputs": [],
   "source": [
    "# verify these are the sames scores as computed with the for-loop\n",
    "df2 = tt.print_grid(grid, pandas=True)\n",
    "print(f'Same Scores: {np.isclose(df2[\"score\"], df[\"Score\"], rtol=1e-4).all()}')"
   ]
  },
  {
   "cell_type": "markdown",
   "metadata": {},
   "source": [
    "This are the same values as for the above for-loop."
   ]
  },
  {
   "cell_type": "markdown",
   "metadata": {},
   "source": [
    "#### Nested CV Code\n",
    "Now encapsulate GridSearchCV itself inside of cross validation.  This ensures that the model building process is fully within cross validation.\n",
    "\n",
    "Note this works because by default refit=True.  This means the model used for prediction inside of cross validation is the model fitted with the best parameters found on that test fold."
   ]
  },
  {
   "cell_type": "code",
   "execution_count": null,
   "metadata": {},
   "outputs": [],
   "source": [
    "cv_eval = RepeatedStratifiedKFold(n_repeats=5, n_splits=5, random_state=1001)\n",
    "\n",
    "p_grid = {\"lr__C\": np.logspace(-2,1)}\n",
    "lr = LogisticRegression(penalty='l2', C=c, solver='liblinear')\n",
    "pipe = Pipeline([('ct', ct), ('lr', lr)])\n",
    "\n",
    "grid = GridSearchCV(estimator=pipe, param_grid=p_grid, \n",
    "                    scoring='accuracy', cv=cv_select_quick)\n",
    "\n",
    "scores = cross_val_score(grid, X, y, scoring='accuracy', cv=cv_eval)\n",
    "tt.print_scores(scores)"
   ]
  },
  {
   "cell_type": "code",
   "execution_count": null,
   "metadata": {},
   "outputs": [],
   "source": [
    "tt.print_scores(scores)"
   ]
  },
  {
   "cell_type": "markdown",
   "metadata": {},
   "source": [
    "The Nested CV estimate of model performance is: 0.830 +/- 0.012.\n",
    "\n",
    "This is virtually the same as the 10x 2-Fold CV estimate of 0.834 +/- 0.008 for the model with the best value for C.\n",
    "\n",
    "In most cases, it would be expected that nested CV produces a lower estimate (by removing the upward bias) and a larger margin of error than using the result from GridSearchCV or similar.\n",
    "\n",
    "Here it looks like using the best value found for C should generalize well."
   ]
  },
  {
   "cell_type": "code",
   "execution_count": null,
   "metadata": {},
   "outputs": [],
   "source": [
    "# Read scores from 4th iteration\n",
    "prev_scores = np.load('./data/iter04.data.npy')\n",
    "print(f'Previous CV Mean Score: {prev_scores.mean():.3f} +/- {prev_scores.std()/2:.3f}')"
   ]
  },
  {
   "cell_type": "markdown",
   "metadata": {},
   "source": [
    "The previous iteration's score is effectively the same as the nested CV score for the hyperparameter optimized model.  As such, optimizing C did not improve the model."
   ]
  },
  {
   "cell_type": "markdown",
   "metadata": {},
   "source": [
    "### Notebook Summary\n",
    "\n",
    "* hyperparameter for regularization was optimized\n",
    "* one-standard-error rule was used to find a simpler model\n",
    "  * sometimes it's better to deploy a simpler model, it depends on the application\n",
    "* learning curve showed there was sufficient data to perform nested CV\n",
    "* nested CV's estimate of model performance, for this model, was essentially the same as the non-optimized model\n",
    "\n",
    "The Titanic data set is rather simple and small.  This is about as much as can be done with it using LogisitcRegression.\n",
    "\n",
    "In the next notebook, different estimators will be tried, and they will be combined with Stacking to see if a better result is possible."
   ]
  }
 ],
 "metadata": {
  "kernelspec": {
   "display_name": "Python 3",
   "language": "python",
   "name": "python3"
  },
  "language_info": {
   "codemirror_mode": {
    "name": "ipython",
    "version": 3
   },
   "file_extension": ".py",
   "mimetype": "text/x-python",
   "name": "python",
   "nbconvert_exporter": "python",
   "pygments_lexer": "ipython3",
   "version": "3.7.3"
  },
  "varInspector": {
   "cols": {
    "lenName": 16,
    "lenType": 16,
    "lenVar": 40
   },
   "kernels_config": {
    "python": {
     "delete_cmd_postfix": "",
     "delete_cmd_prefix": "del ",
     "library": "var_list.py",
     "varRefreshCmd": "print(var_dic_list())"
    },
    "r": {
     "delete_cmd_postfix": ") ",
     "delete_cmd_prefix": "rm(",
     "library": "var_list.r",
     "varRefreshCmd": "cat(var_dic_list()) "
    }
   },
   "position": {
    "height": "356px",
    "left": "51px",
    "right": "20px",
    "top": "142px",
    "width": "714px"
   },
   "types_to_exclude": [
    "module",
    "function",
    "builtin_function_or_method",
    "instance",
    "_Feature"
   ],
   "window_display": true
  }
 },
 "nbformat": 4,
 "nbformat_minor": 2
}
