{
 "cells": [
  {
   "cell_type": "markdown",
   "metadata": {
    "toc-hr-collapsed": true
   },
   "source": [
    "# Model Building<br/>*Hyperparameter Optimization*"
   ]
  },
  {
   "cell_type": "markdown",
   "metadata": {
    "toc-hr-collapsed": false
   },
   "source": [
    "## Goals\n",
    "1. Optimize Hyperparameter for Regularization\n",
    "2. Account for no final hold-out set\n",
    "4. Create and analyze the Learning Curve\n",
    "5. Compare new model to previous model\n",
    "\n",
    "For an another discussion of the topics present in this and previous notebooks, see: [Model Selection](https://towardsdatascience.com/a-short-introduction-to-model-selection-bb1bb9c73376)"
   ]
  },
  {
   "cell_type": "markdown",
   "metadata": {},
   "source": [
    "## Common Imports and Notebook Setup"
   ]
  },
  {
   "cell_type": "code",
   "execution_count": 1,
   "metadata": {},
   "outputs": [],
   "source": [
    "import numpy as np\n",
    "import pandas as pd\n",
    "import matplotlib.pyplot as plt\n",
    "import seaborn as sns\n",
    "import sklearn as sk\n",
    "%matplotlib inline\n",
    "sns.set() # enable seaborn style\n",
    "\n",
    "import titanic_helper_code as tt"
   ]
  },
  {
   "cell_type": "code",
   "execution_count": 2,
   "metadata": {},
   "outputs": [
    {
     "name": "stdout",
     "output_type": "stream",
     "text": [
      "python:      3.7.5 (default, Oct 25 2019, 15:51:11) \n",
      "[GCC 7.3.0]\n",
      "numpy:       1.17.4\n",
      "pandas:      0.25.3\n",
      "matplotlib:  3.1.3\n",
      "seaborn:     0.9.0\n",
      "sklearn:     0.22\n",
      "Description:\tUbuntu 18.04.4 LTS\r\n"
     ]
    }
   ],
   "source": [
    "# Version Information\n",
    "import sys\n",
    "print('python:     ', sys.version)\n",
    "print('numpy:      ', np.__version__)\n",
    "print('pandas:     ', pd.__version__)\n",
    "import matplotlib\n",
    "print('matplotlib: ', matplotlib.__version__)\n",
    "print('seaborn:    ', sns.__version__)\n",
    "print('sklearn:    ', sk.__version__)\n",
    "!lsb_release -d"
   ]
  },
  {
   "cell_type": "markdown",
   "metadata": {},
   "source": [
    "## Recreate Model from Previous Iteration"
   ]
  },
  {
   "cell_type": "code",
   "execution_count": 3,
   "metadata": {},
   "outputs": [],
   "source": [
    "from sklearn.linear_model import LogisticRegression\n",
    "from sklearn.metrics import accuracy_score\n",
    "from sklearn.model_selection import cross_val_score, RepeatedStratifiedKFold\n",
    "from sklearn.pipeline import Pipeline\n",
    "from sklearn.compose import ColumnTransformer\n",
    "from sklearn.model_selection import GridSearchCV"
   ]
  },
  {
   "cell_type": "code",
   "execution_count": 4,
   "metadata": {},
   "outputs": [],
   "source": [
    "# CV for model comparison, not model selection\n",
    "cv_select = RepeatedStratifiedKFold(n_splits=2, n_repeats=10, random_state=108)\n",
    "cv_select_quick = RepeatedStratifiedKFold(n_splits=2, n_repeats=5, random_state=108)"
   ]
  },
  {
   "cell_type": "code",
   "execution_count": 5,
   "metadata": {},
   "outputs": [
    {
     "name": "stdout",
     "output_type": "stream",
     "text": [
      "20 Scores  min:0.803 max:0.865\n",
      "CV Mean Score: 0.832 +/- 0.015\n"
     ]
    }
   ],
   "source": [
    "X, y = tt.get_Xy_v6()\n",
    "cols, ct = tt.get_ct_v5()\n",
    "\n",
    "lr = LogisticRegression(penalty='l2', C=1.0, solver='liblinear')\n",
    "pipe = Pipeline([('ct', ct), ('lr', lr)])\n",
    "\n",
    "scores = cross_val_score(pipe, X, y, cv=cv_select, scoring='accuracy')\n",
    "tt.print_scores(scores)"
   ]
  },
  {
   "cell_type": "markdown",
   "metadata": {},
   "source": [
    "The model from the previous iteration has been recreated."
   ]
  },
  {
   "cell_type": "markdown",
   "metadata": {
    "toc-hr-collapsed": true
   },
   "source": [
    "## Preferred Method to<br/>Optimize Hyperparameters *And*<br/> Evaluate Performance of Optimized Model\n",
    "\n",
    "Cross Validation cannot be used to *both* find the best hyperparameters *and* provide an accurate estimate of model performance.  In hyperparameter optimization, the CV test folds are used over and over again.  These test folds become data used as part of the model building process resulting in an overly optimistic estimate of model performance.\n",
    "\n",
    "The preferred method to find the best model and estimate its performance on unseen data is:\n",
    "* set aside a final hold-out test set to be used at the end of the project only\n",
    "* use cross validation on the remaining data to:\n",
    "  * to select the best hyperparameters\n",
    "  * to experiment with the best features to extract\n",
    "  * to experiment with the best data transformations\n",
    "* having decided on the best way to build a model, build it on all the data except the final hold-out set\n",
    "* evaluate this model on the final hold-out set"
   ]
  },
  {
   "cell_type": "markdown",
   "metadata": {
    "toc-hr-collapsed": true
   },
   "source": [
    "### Caveat: Don't Use Final Hold-Out Set for Very Small Data Sets\n",
    "The Titanic data set from Kaggle has 891 labeled records.\n",
    "\n",
    "Example 1:\n",
    "* train: 80%, test: 20%\n",
    "* 2-Fold CV on train => .8 * .5 * 891 = 356 records to train on\n",
    "* 2-Fold CV on validation => .8 * .5 * 891 = 356 records to validate hyperparameters on\n",
    "* final scoring on .2 * 891 = 178 records\n",
    "This is too few records to train on and too few records for get a test score with low variance.\n",
    "\n",
    "Example 2:\n",
    "* train: 80%, test: 20%\n",
    "* 5-Fold CV on train => .8 * .8 * 891 = 570 records to train on\n",
    "* 5-Fold CV on validation => .8 * .2 * 891 = 143 records to validate hyperparameters on\n",
    "* final scoring on .2 * 891 = 178 records\n",
    "This is too few records to validate the hyperparameters on with a low enough variance to be sure that the best hyperparameters were chosen.  As before, this is also too few records to get a test score with low variance.\n",
    "\n",
    "A final hold-out test set does not work well for a data set this small.\n",
    "\n",
    "For small data sets, there are two other approaches that can be taken:\n",
    "* the \"one-standard-error\" rule\n",
    "* nested cross validation\n",
    "\n",
    "The one-standard-error rule provides useful insights into the model building process.  \n",
    "Nested Cross Validation provides the best estimate of model performance available for a small data set."
   ]
  },
  {
   "cell_type": "markdown",
   "metadata": {},
   "source": [
    "### One Standard Error Rule\n",
    "The complexity of the model is reduced until a score 1 standard error below the optimal score is found.  This reduced complexity model can be used as the model to deploy.\n",
    "\n",
    "The rational is that simpler models tend to do better in practice.  This is often referred to as Occam's Razor or the principle of parsimony.  If the simpler model has a score within 1 standard deviation of the best model, then arguably its score is the same, so use the simpler model.\n",
    "\n",
    "This is described in section 6.1 of [ISLR](http://faculty.marshall.usc.edu/gareth-james/ISL/) or section 7.3 of [ESL](https://web.stanford.edu/~hastie/ElemStatLearn/).\n",
    "\n",
    "As per [LogisticRegression](https://scikit-learn.org/stable/modules/generated/sklearn.linear_model.LogisticRegression.html) smaller values of C specify stronger regularization (i.e. reduced model complexity)."
   ]
  },
  {
   "cell_type": "code",
   "execution_count": 6,
   "metadata": {},
   "outputs": [],
   "source": [
    "c_values = np.logspace(-2,1)\n",
    "results = []\n",
    "for c in c_values:\n",
    "    \n",
    "    lr = LogisticRegression(penalty='l2', C=c, solver='liblinear')\n",
    "    pipe = Pipeline([('ct', ct), ('lr', lr)])\n",
    "\n",
    "    scores = cross_val_score(pipe, X, y, cv=cv_select, \n",
    "                             scoring='accuracy')\n",
    "    \n",
    "    results.append((c, scores.mean(), scores.std()))"
   ]
  },
  {
   "cell_type": "code",
   "execution_count": 7,
   "metadata": {},
   "outputs": [
    {
     "data": {
      "text/html": [
       "<div>\n",
       "<style scoped>\n",
       "    .dataframe tbody tr th:only-of-type {\n",
       "        vertical-align: middle;\n",
       "    }\n",
       "\n",
       "    .dataframe tbody tr th {\n",
       "        vertical-align: top;\n",
       "    }\n",
       "\n",
       "    .dataframe thead th {\n",
       "        text-align: right;\n",
       "    }\n",
       "</style>\n",
       "<table border=\"1\" class=\"dataframe\">\n",
       "  <thead>\n",
       "    <tr style=\"text-align: right;\">\n",
       "      <th></th>\n",
       "      <th>C</th>\n",
       "      <th>Score</th>\n",
       "      <th>SD</th>\n",
       "    </tr>\n",
       "  </thead>\n",
       "  <tbody>\n",
       "    <tr>\n",
       "      <th>0</th>\n",
       "      <td>0.010000</td>\n",
       "      <td>0.814156</td>\n",
       "      <td>0.020623</td>\n",
       "    </tr>\n",
       "    <tr>\n",
       "      <th>1</th>\n",
       "      <td>0.011514</td>\n",
       "      <td>0.816959</td>\n",
       "      <td>0.017906</td>\n",
       "    </tr>\n",
       "    <tr>\n",
       "      <th>2</th>\n",
       "      <td>0.013257</td>\n",
       "      <td>0.820436</td>\n",
       "      <td>0.016579</td>\n",
       "    </tr>\n",
       "    <tr>\n",
       "      <th>3</th>\n",
       "      <td>0.015264</td>\n",
       "      <td>0.822231</td>\n",
       "      <td>0.016201</td>\n",
       "    </tr>\n",
       "    <tr>\n",
       "      <th>4</th>\n",
       "      <td>0.017575</td>\n",
       "      <td>0.822229</td>\n",
       "      <td>0.015846</td>\n",
       "    </tr>\n",
       "  </tbody>\n",
       "</table>\n",
       "</div>"
      ],
      "text/plain": [
       "          C     Score        SD\n",
       "0  0.010000  0.814156  0.020623\n",
       "1  0.011514  0.816959  0.017906\n",
       "2  0.013257  0.820436  0.016579\n",
       "3  0.015264  0.822231  0.016201\n",
       "4  0.017575  0.822229  0.015846"
      ]
     },
     "execution_count": 7,
     "metadata": {},
     "output_type": "execute_result"
    }
   ],
   "source": [
    "df = pd.DataFrame(data=results, columns=['C', 'Score', 'SD'])\n",
    "df.head()"
   ]
  },
  {
   "cell_type": "code",
   "execution_count": 8,
   "metadata": {},
   "outputs": [
    {
     "name": "stdout",
     "output_type": "stream",
     "text": [
      "Best Score\n",
      "C        1.842070\n",
      "Score    0.831881\n",
      "SD       0.013822\n",
      "Name: 37, dtype: float64\n"
     ]
    }
   ],
   "source": [
    "i_max = df['Score'].idxmax()\n",
    "print('Best Score')\n",
    "print(df.iloc[i_max])"
   ]
  },
  {
   "cell_type": "code",
   "execution_count": 9,
   "metadata": {},
   "outputs": [
    {
     "name": "stdout",
     "output_type": "stream",
     "text": [
      "Score: 1 SE Less\n",
      "C        0.013257\n",
      "Score    0.820436\n",
      "SD       0.016579\n",
      "Name: 2, dtype: float64\n"
     ]
    }
   ],
   "source": [
    "# low end of CI for highest Score\n",
    "best_low = df.iloc[i_max]['Score'] - df.iloc[i_max]['SD']\n",
    "\n",
    "# decrease C (which increases regularization) to find C\n",
    "for i in range(i_max, -1, -1):\n",
    "    if df.loc[i]['Score'] >= best_low:\n",
    "        i_min = i\n",
    "    else:\n",
    "        break\n",
    "print('Score: 1 SE Less')\n",
    "print(df.loc[i_min])\n",
    "\n",
    "# midpoint = (df.loc[i_min]['high'] + df.loc[i_max]['low']) / 2"
   ]
  },
  {
   "cell_type": "code",
   "execution_count": 10,
   "metadata": {},
   "outputs": [
    {
     "data": {
      "image/png": "[encoded data removed]",
      "text/plain": [
       "<Figure size 720x288 with 1 Axes>"
      ]
     },
     "metadata": {},
     "output_type": "display_data"
    }
   ],
   "source": [
    "# plot the mean scores and their standard error vs C\n",
    "fig = plt.figure(figsize=[10,4])\n",
    "\n",
    "plt.errorbar(df['C'], df['Score'], yerr=df['SD'], \n",
    "             ecolor='gray', elinewidth=1, \n",
    "             fmt='o', capsize=2);\n",
    "# Best\n",
    "plt.errorbar(df['C'].iloc[i_max], df['Score'].iloc[i_max], \n",
    "             yerr=df['SD'].iloc[i_max], ecolor='red')\n",
    "# 1 SE Less\n",
    "plt.errorbar(df['C'].iloc[i_min], df['Score'].iloc[i_min], \n",
    "             yerr=df['SD'].iloc[i_min], ecolor='green')\n",
    "\n",
    "ax = plt.gca()\n",
    "ax.set_xscale('log')\n",
    "plt.axhline(df['Score'].iloc[i_min], linewidth=1)\n",
    "plt.xlabel('C\\nComplexity Increases to the Right')\n",
    "plt.ylabel('Score');\n",
    "plt.title('Score vs Regularization');"
   ]
  },
  {
   "cell_type": "markdown",
   "metadata": {},
   "source": [
    "The optimal value of C was found, and then C was lowered until the mean score just barely fell within the confidence interval of the optimal score.\n",
    "\n",
    "The higher level of regularization results in a simpler model that is less likely to overfit the data.\n",
    "\n",
    "Regularization reduces the degrees of freedom, which is similar to reducing the number of variables, except that it does so gradually.  L2 regularization is generally believed to allow for the best predictions.  L1 regularization can force a coefficient to zero, removing the variable entirely, which may allow for better interpretability.\n",
    "\n",
    "The simpler model with a mean score of .819 seems worse than model with a mean score of .832, but as the simpler one is within the confidence interval of the best, they represent effectively the same score.\n",
    "\n",
    "**Summary of One-Standard-Error**  \n",
    "Without having a final hold-out set, there was no way to know if the hyperparameter optimized model overfit the data.  By backing off one-standard-error, with respect to tuning the hyperparameter for complexity, a simpler model was created with similar performance but less chance of overfit."
   ]
  },
  {
   "cell_type": "markdown",
   "metadata": {},
   "source": [
    "### Custom Learning Curve: Best K for Ranking Models\n",
    "The Learning Curve helper function in Scikit Learn doesn't compute the variance of the estimate of the model performance at various training set sizes.\n",
    "\n",
    "As the goal is to find which value for K allows for best ranking of models, it is critical to know the variance."
   ]
  },
  {
   "cell_type": "code",
   "execution_count": 11,
   "metadata": {},
   "outputs": [],
   "source": [
    "c_simple = df['C'].iloc[i_max]\n",
    "c_best = df['C'].iloc[i_min-1]\n",
    "\n",
    "lr_simple = LogisticRegression(penalty='l2', C=c_simple, \n",
    "                               solver='liblinear')\n",
    "lr_best = LogisticRegression(penalty='l2', C=c_best, \n",
    "                             solver='liblinear')\n",
    "\n",
    "pipe_simple = Pipeline([('ct', ct), ('lr_simple', lr_simple)])\n",
    "pipe_best = Pipeline([('ct', ct), ('lr_best', lr_best)])"
   ]
  },
  {
   "cell_type": "code",
   "execution_count": 12,
   "metadata": {},
   "outputs": [],
   "source": [
    "# use repeated CV to reduce the variance\n",
    "results = []\n",
    "for k in range(2, 11):\n",
    "    cv = RepeatedStratifiedKFold(n_splits=k, n_repeats=10, random_state=108)\n",
    "    scores_simple = cross_val_score(pipe_simple, X, y, cv=cv)\n",
    "    scores_best = cross_val_score(pipe_best, X, y, cv=cv)\n",
    "    \n",
    "    results.append((k, scores_simple.mean(), scores_simple.std(), \n",
    "                   scores_best.mean(), scores_best.std()))\n",
    "    \n",
    "df_results = pd.DataFrame(results, \n",
    "                          columns=['k', 'simple_mean', 'simple_me',\n",
    "                                   'best_mean', 'best_me'])    "
   ]
  },
  {
   "cell_type": "code",
   "execution_count": 13,
   "metadata": {},
   "outputs": [
    {
     "data": {
      "text/html": [
       "<div>\n",
       "<style scoped>\n",
       "    .dataframe tbody tr th:only-of-type {\n",
       "        vertical-align: middle;\n",
       "    }\n",
       "\n",
       "    .dataframe tbody tr th {\n",
       "        vertical-align: top;\n",
       "    }\n",
       "\n",
       "    .dataframe thead th {\n",
       "        text-align: right;\n",
       "    }\n",
       "</style>\n",
       "<table border=\"1\" class=\"dataframe\">\n",
       "  <thead>\n",
       "    <tr style=\"text-align: right;\">\n",
       "      <th></th>\n",
       "      <th>k</th>\n",
       "      <th>simple_mean</th>\n",
       "      <th>simple_me</th>\n",
       "      <th>best_mean</th>\n",
       "      <th>best_me</th>\n",
       "    </tr>\n",
       "  </thead>\n",
       "  <tbody>\n",
       "    <tr>\n",
       "      <th>0</th>\n",
       "      <td>2</td>\n",
       "      <td>0.831881</td>\n",
       "      <td>0.013822</td>\n",
       "      <td>0.816959</td>\n",
       "      <td>0.017906</td>\n",
       "    </tr>\n",
       "    <tr>\n",
       "      <th>1</th>\n",
       "      <td>3</td>\n",
       "      <td>0.831089</td>\n",
       "      <td>0.017367</td>\n",
       "      <td>0.821100</td>\n",
       "      <td>0.018043</td>\n",
       "    </tr>\n",
       "    <tr>\n",
       "      <th>2</th>\n",
       "      <td>4</td>\n",
       "      <td>0.832090</td>\n",
       "      <td>0.022983</td>\n",
       "      <td>0.822671</td>\n",
       "      <td>0.023411</td>\n",
       "    </tr>\n",
       "    <tr>\n",
       "      <th>3</th>\n",
       "      <td>5</td>\n",
       "      <td>0.835589</td>\n",
       "      <td>0.023156</td>\n",
       "      <td>0.823795</td>\n",
       "      <td>0.022741</td>\n",
       "    </tr>\n",
       "    <tr>\n",
       "      <th>4</th>\n",
       "      <td>6</td>\n",
       "      <td>0.834467</td>\n",
       "      <td>0.027482</td>\n",
       "      <td>0.823696</td>\n",
       "      <td>0.026886</td>\n",
       "    </tr>\n",
       "  </tbody>\n",
       "</table>\n",
       "</div>"
      ],
      "text/plain": [
       "   k  simple_mean  simple_me  best_mean   best_me\n",
       "0  2     0.831881   0.013822   0.816959  0.017906\n",
       "1  3     0.831089   0.017367   0.821100  0.018043\n",
       "2  4     0.832090   0.022983   0.822671  0.023411\n",
       "3  5     0.835589   0.023156   0.823795  0.022741\n",
       "4  6     0.834467   0.027482   0.823696  0.026886"
      ]
     },
     "execution_count": 13,
     "metadata": {},
     "output_type": "execute_result"
    }
   ],
   "source": [
    "df_results.head()"
   ]
  },
  {
   "cell_type": "code",
   "execution_count": 14,
   "metadata": {},
   "outputs": [
    {
     "data": {
      "image/png": "[encoded data removed]",
      "text/plain": [
       "<Figure size 720x288 with 1 Axes>"
      ]
     },
     "metadata": {},
     "output_type": "display_data"
    }
   ],
   "source": [
    "df2 = df_results\n",
    "\n",
    "# plot the mean scores and their standard error vs C\n",
    "fig = plt.figure(figsize=[10,4])\n",
    "\n",
    "jitter = 0.02\n",
    "\n",
    "# 1 SE Less\n",
    "plt.errorbar(df2['k']+jitter, df2['simple_mean'], yerr=df2['simple_me'], \n",
    "             elinewidth=1, \n",
    "             fmt='o', capsize=2, ecolor='green');\n",
    "\n",
    "plt.errorbar(df2['k']-jitter, df2['best_mean'], yerr=df2['best_me'], \n",
    "             elinewidth=1, \n",
    "             fmt='o', capsize=2, ecolor='red');\n",
    "\n",
    "plt.plot(df2['k']+jitter, df2['simple_mean'], linestyle='--', \n",
    "         color='green')\n",
    "\n",
    "plt.plot(df2['k']-jitter, df2['best_mean'], linestyle='--', \n",
    "         color='red')\n",
    "\n",
    "ax = plt.gca()\n",
    "plt.xlabel('K')\n",
    "plt.ylabel('Score');\n",
    "plt.title(\"Comparing Two Models Scores vs K\");"
   ]
  },
  {
   "cell_type": "markdown",
   "metadata": {},
   "source": [
    "In looks like K=5 allows for enough training data to provide an unbiased estimate of model preformance.  For a clearer plot, replot the above from K=2 to K=5."
   ]
  },
  {
   "cell_type": "code",
   "execution_count": 15,
   "metadata": {},
   "outputs": [
    {
     "data": {
      "image/png": "[encoded data removed]",
      "text/plain": [
       "<Figure size 720x288 with 1 Axes>"
      ]
     },
     "metadata": {},
     "output_type": "display_data"
    }
   ],
   "source": [
    "df2 = df_results[:4]\n",
    "\n",
    "# plot the mean scores and their standard error vs C\n",
    "fig = plt.figure(figsize=[10,4])\n",
    "\n",
    "jitter = 0.02\n",
    "\n",
    "# 1 SE Less\n",
    "plt.errorbar(df2['k']+jitter, df2['simple_mean'], yerr=df2['simple_me'], \n",
    "             elinewidth=1, \n",
    "             fmt='o', capsize=2, ecolor='green');\n",
    "\n",
    "plt.errorbar(df2['k']-jitter, df2['best_mean'], yerr=df2['best_me'], \n",
    "             elinewidth=1, \n",
    "             fmt='o', capsize=2, ecolor='red');\n",
    "\n",
    "plt.plot(df2['k']+jitter, df2['simple_mean'], linestyle='--', \n",
    "         color='green')\n",
    "\n",
    "plt.plot(df2['k']-jitter, df2['best_mean'], linestyle='--', \n",
    "         color='red')\n",
    "\n",
    "ax = plt.gca()\n",
    "plt.xlabel('K')\n",
    "plt.ylabel('Score');\n",
    "plt.title(\"Comparing Two Models Scores vs K\");"
   ]
  },
  {
   "cell_type": "markdown",
   "metadata": {},
   "source": [
    "### Custom Learning Curve: Analysis"
   ]
  },
  {
   "cell_type": "markdown",
   "metadata": {},
   "source": [
    "At K=2, both the red (1 SE simpler) and the green (optimized) model scores are distinguishable.  The score of the simpler model does not fall within the confidence interval of the optimized model.\n",
    "\n",
    "It is apparent that both models have a slightly pessimisticaly biased score at K=2, as the score is larger for higher K, which allows for more data to train on.\n",
    "\n",
    "However at K > 2, the confidence intervals get wider as there is less data available for scoring the models on.  This makes distinguishing one model from the other increasingly difficult.\n",
    "\n",
    "The above shows that K=2 is better than K=5 (or K=10) for ranking which model is best.\n",
    "\n",
    "Somewhere between K=3 and K=5 appears to allow for sufficient training data to produce an unbiased score.  With 891 records, this corresponds to about 600 or 700 records to train on to reach model capacity."
   ]
  },
  {
   "cell_type": "markdown",
   "metadata": {
    "toc-hr-collapsed": true
   },
   "source": [
    "### Nested Cross Validation Description\n",
    "Nested Cross Validation requires significantly more computation time than regular CV, but is only needed when there is a small amount of data.\n",
    "\n",
    "Nested Cross Validation works by embedding GridSearchCV inside of cross_val_score.  This puts the entire model building process inside of cross validation, ensuring that the entire model building process is being properly evaluated.\n",
    "\n",
    "Often K=2 is chosen for the inner CV (which performs model selection) and K=5 is chosen for the outer CV (which performs model evaluation)."
   ]
  },
  {
   "cell_type": "markdown",
   "metadata": {},
   "source": [
    "#### Nested CV Code Preparation"
   ]
  },
  {
   "cell_type": "code",
   "execution_count": 16,
   "metadata": {},
   "outputs": [],
   "source": [
    "# First: Verify that non-nested GridSearchCV gives same result \n",
    "# as above\n",
    "\n",
    "# Parameters to optimize over\n",
    "p_grid = {\"lr__C\": np.logspace(-2,1)}\n",
    "\n",
    "lr = LogisticRegression(penalty='l2', C=c, solver='liblinear')\n",
    "pipe = Pipeline([('ct', ct), ('lr', lr)])\n",
    "\n",
    "grid = GridSearchCV(estimator=pipe, param_grid=p_grid, \n",
    "                    scoring='accuracy', cv=cv_select)\n",
    "\n",
    "# find the best hyperparameters and associated score\n",
    "grid.fit(X, y);"
   ]
  },
  {
   "cell_type": "code",
   "execution_count": 17,
   "metadata": {},
   "outputs": [],
   "source": [
    "# Copied from titanic_helper_code.py\n",
    "def print_grid(grid, pandas=False):\n",
    "    \"\"\"Print Best and Return Results in a DataFrame\"\"\"\n",
    "\n",
    "    std = grid.cv_results_['std_test_score'][grid.best_index_]\n",
    "    print(f'Best: {grid.best_score_:0.3f} +/- {std:0.3f}')\n",
    "    for key, value in grid.best_params_.items():\n",
    "        print(f'{key}: {value}')\n",
    "\n",
    "    if pandas:\n",
    "        results = []\n",
    "        for i in range(len(grid.cv_results_['mean_test_score'])):\n",
    "            score = grid.cv_results_['mean_test_score'][i]\n",
    "            std = grid.cv_results_['std_test_score'][i]\n",
    "            params = grid.cv_results_['params'][i]\n",
    "            params['score'] = score\n",
    "            params['std'] = std\n",
    "            results.append(params)\n",
    "\n",
    "        return pd.DataFrame(results)"
   ]
  },
  {
   "cell_type": "code",
   "execution_count": 18,
   "metadata": {},
   "outputs": [
    {
     "name": "stdout",
     "output_type": "stream",
     "text": [
      "Best: 0.832 +/- 0.014\n",
      "lr__C: 1.8420699693267164\n",
      "\n",
      "Same Scores: True\n"
     ]
    }
   ],
   "source": [
    "# verify the GridSearchCV scores are the same as computed with\n",
    "# the above for-loop (within a relative tolerance of .0001)\n",
    "df2 = tt.print_grid(grid, pandas=True)\n",
    "print()\n",
    "print(f'Same Scores: {np.isclose(df2[\"score\"], df[\"Score\"], rtol=1e-4).all()}')"
   ]
  },
  {
   "cell_type": "markdown",
   "metadata": {},
   "source": [
    "This are the same values as in the above for-loop."
   ]
  },
  {
   "cell_type": "markdown",
   "metadata": {},
   "source": [
    "#### Nested CV Code\n",
    "Now encapsulate GridSearchCV itself inside of cross validation.  This ensures that the model building process is fully within cross validation.\n",
    "\n",
    "Note this works because by default refit=True.  This means the model used for prediction inside of cross validation is the model fitted with the best parameters found on that test fold.\n",
    "\n",
    "In the following, the outer evaluation loop has K=3 as this allows enough training records to reach near full capacity will reducing the variance on the score.  The inner loop for model selection uses K=2 as before.  Both are repeated 10 times.  The total number of evaluations is: 10\\*2\\*10\\*3 = 600."
   ]
  },
  {
   "cell_type": "code",
   "execution_count": 19,
   "metadata": {},
   "outputs": [
    {
     "name": "stdout",
     "output_type": "stream",
     "text": [
      "30 Scores  min:0.798 max:0.865\n",
      "CV Mean Score: 0.833 +/- 0.017\n"
     ]
    }
   ],
   "source": [
    "# same as above, except:\n",
    "# use cv_select (10 repeats vs 5 to reduce variance)\n",
    "# cv_eval with K=3 (very small bias with this dataset, further reduces variance)\n",
    "# cv_eval with 10 repeats instead of 5, to further reduce variance\n",
    "cv_eval = RepeatedStratifiedKFold(n_repeats=10, n_splits=3, random_state=1001)\n",
    "\n",
    "p_grid = {\"lr__C\": np.logspace(-2,1)}\n",
    "lr = LogisticRegression(penalty='l2', C=c, solver='liblinear')\n",
    "pipe = Pipeline([('ct', ct), ('lr', lr)])\n",
    "\n",
    "grid = GridSearchCV(estimator=pipe, param_grid=p_grid, \n",
    "                    scoring='accuracy', cv=cv_select)\n",
    "\n",
    "scores = cross_val_score(grid, X, y, scoring='accuracy', cv=cv_eval)\n",
    "tt.print_scores(scores)"
   ]
  },
  {
   "cell_type": "markdown",
   "metadata": {},
   "source": [
    "The Nested CV estimate of model performance is: 0.833 +/- 0.017.\n",
    "\n",
    "This is virtually the same as the non-nested 10-Repeated 2-Fold CV estimate of 0.832 +/- 0.014 using the best value for C."
   ]
  },
  {
   "cell_type": "code",
   "execution_count": 20,
   "metadata": {},
   "outputs": [
    {
     "name": "stdout",
     "output_type": "stream",
     "text": [
      "Previous CV Mean Score: 0.832 +/- 0.015\n"
     ]
    }
   ],
   "source": [
    "# Read scores from 4th iteration\n",
    "prev_scores = np.load('./data/iter04.data.npy')\n",
    "print(f'Previous CV Mean Score: {prev_scores.mean():.3f} +/- {prev_scores.std():.3f}')"
   ]
  },
  {
   "cell_type": "markdown",
   "metadata": {},
   "source": [
    "The previous iteration's score is effectively the same as the nested CV score for the hyperparameter optimized model.  As such, optimizing C did not improve the model.  The default regularization parameter was good."
   ]
  },
  {
   "cell_type": "markdown",
   "metadata": {},
   "source": [
    "### Notebook Summary\n",
    "\n",
    "* hyperparameter for regularization was optimized\n",
    "* one-standard-error rule was used to find a simpler model\n",
    "* a custom learning curve was created to show that K=2 is the best\n",
    "value for K for ranking models\n",
    "* nested CV's estimate of model performance, for this model, was essentially the same as the non-optimized model\n",
    "\n",
    "The Titanic data set is rather simple and small.  This is about as much as can be done with it using LogisticRegression.\n",
    "\n",
    "In the next notebook, different estimators will be tried, and they will be combined with Stacking to see if a better result is possible."
   ]
  }
 ],
 "metadata": {
  "kernelspec": {
   "display_name": "Python 3",
   "language": "python",
   "name": "python3"
  },
  "language_info": {
   "codemirror_mode": {
    "name": "ipython",
    "version": 3
   },
   "file_extension": ".py",
   "mimetype": "text/x-python",
   "name": "python",
   "nbconvert_exporter": "python",
   "pygments_lexer": "ipython3",
   "version": "3.7.5"
  },
  "varInspector": {
   "cols": {
    "lenName": 16,
    "lenType": 16,
    "lenVar": 40
   },
   "kernels_config": {
    "python": {
     "delete_cmd_postfix": "",
     "delete_cmd_prefix": "del ",
     "library": "var_list.py",
     "varRefreshCmd": "print(var_dic_list())"
    },
    "r": {
     "delete_cmd_postfix": ") ",
     "delete_cmd_prefix": "rm(",
     "library": "var_list.r",
     "varRefreshCmd": "cat(var_dic_list()) "
    }
   },
   "position": {
    "height": "356px",
    "left": "51px",
    "right": "20px",
    "top": "142px",
    "width": "714px"
   },
   "types_to_exclude": [
    "module",
    "function",
    "builtin_function_or_method",
    "instance",
    "_Feature"
   ],
   "window_display": true
  }
 },
 "nbformat": 4,
 "nbformat_minor": 2
}
