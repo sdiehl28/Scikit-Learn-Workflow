{
 "cells": [
  {
   "cell_type": "markdown",
   "metadata": {},
   "source": [
    "# Iteration 3<br/>*Custom Transformers with Scikit Learn*\n",
    "\n",
    "Jupyter Notebook referenced from my website:\n",
    "[Software Nirvana: Custom Transform (3)](https://sdiehl28.netlify.com/2018/03/custom-transform-3/)"
   ]
  },
  {
   "cell_type": "markdown",
   "metadata": {},
   "source": [
    "### Goals\n",
    "1. Demonstrate how to create a custom Transform class for use in Pipelines\n",
    "2. Understand what Panda's GroupBy does and use it in the custom Transform class\n",
    "2. The custom Transform will allow for custom Age imputation without data leakage\n",
    "3. As part of iterative model development, check if this improves the model's accuracy"
   ]
  },
  {
   "cell_type": "markdown",
   "metadata": {},
   "source": [
    "### Where We Are\n",
    "In the second iteration we created a simple model that discarded all non-numeric variables and imputed missing Age values using the mean strategy available from sklearn.preprocessing.Imputer."
   ]
  },
  {
   "cell_type": "markdown",
   "metadata": {},
   "source": [
    "### What's Next\n",
    "A little exploratory data analysis shows that there is an association between Age and (Pclass, Sex).\n",
    "\n",
    "Because there is an association, a better imputation of missing Age values is possible.  For a given group of Pclass and Sex, we can compute the average Age and use that for missing Age values.\n",
    "\n",
    "Scikit Learn does not directly support such imputation, so we will create our own imputation.\n",
    "\n",
    "Imputation is a data transformation: missing values are replaced with valid values.  We will create a Python class which Scikit Learn can use as a custom Transform.  That class must adhere to the API convention that Scikit Learn uses for Transform.\n",
    "\n",
    "With our custom Transform in place, we will place it in a Pipeline and use it."
   ]
  },
  {
   "cell_type": "markdown",
   "metadata": {},
   "source": [
    "### Common Imports and Notebook Setup"
   ]
  },
  {
   "cell_type": "code",
   "execution_count": 1,
   "metadata": {},
   "outputs": [],
   "source": [
    "import numpy as np\n",
    "import pandas as pd\n",
    "import matplotlib.pyplot as plt\n",
    "import seaborn as sns\n",
    "import sklearn as sk\n",
    "%matplotlib inline\n",
    "sns.set() # enable seaborn style"
   ]
  },
  {
   "cell_type": "markdown",
   "metadata": {},
   "source": [
    "### Previous Iteration"
   ]
  },
  {
   "cell_type": "code",
   "execution_count": 2,
   "metadata": {},
   "outputs": [
    {
     "data": {
      "text/plain": [
       "Pclass      int64\n",
       "Sex        object\n",
       "Age       float64\n",
       "SibSp       int64\n",
       "Parch       int64\n",
       "Fare      float64\n",
       "dtype: object"
      ]
     },
     "execution_count": 2,
     "metadata": {},
     "output_type": "execute_result"
    }
   ],
   "source": [
    "# read in all the labeled data\n",
    "all_data = pd.read_csv('../data/train.csv')\n",
    "\n",
    "# break up the dataframe into X and y\n",
    "X = all_data.drop('Survived', axis=1)\n",
    "y = all_data['Survived']\n",
    "\n",
    "# Remove PassengerId and all non-numeric fields except Sex\n",
    "drop_cols = ['PassengerId', 'Name', 'Ticket', 'Cabin', 'Embarked']\n",
    "X = X.drop(drop_cols, axis=1)\n",
    "X.dtypes"
   ]
  },
  {
   "cell_type": "code",
   "execution_count": 3,
   "metadata": {},
   "outputs": [
    {
     "data": {
      "text/plain": [
       "(891, 12)"
      ]
     },
     "execution_count": 3,
     "metadata": {},
     "output_type": "execute_result"
    }
   ],
   "source": [
    "all_data.shape"
   ]
  },
  {
   "cell_type": "markdown",
   "metadata": {},
   "source": [
    "### Exploratory Data Analysis"
   ]
  },
  {
   "cell_type": "code",
   "execution_count": 4,
   "metadata": {},
   "outputs": [
    {
     "data": {
      "text/plain": [
       "<matplotlib.axes._subplots.AxesSubplot at 0x7f9884dadc88>"
      ]
     },
     "execution_count": 4,
     "metadata": {},
     "output_type": "execute_result"
    },
    {
     "data": {
      "image/png": "[encoded data removed]",
      "text/plain": [
       "<Figure size 432x288 with 1 Axes>"
      ]
     },
     "metadata": {},
     "output_type": "display_data"
    }
   ],
   "source": [
    "sns.boxplot(x='Pclass', y='Age', data=X)"
   ]
  },
  {
   "cell_type": "markdown",
   "metadata": {},
   "source": [
    "We see that there is an association between age and passenger class."
   ]
  },
  {
   "cell_type": "code",
   "execution_count": 5,
   "metadata": {},
   "outputs": [
    {
     "data": {
      "text/plain": [
       "<matplotlib.axes._subplots.AxesSubplot at 0x7f98811f0128>"
      ]
     },
     "execution_count": 5,
     "metadata": {},
     "output_type": "execute_result"
    },
    {
     "data": {
      "image/png": "[encoded data removed]",
      "text/plain": [
       "<Figure size 432x288 with 1 Axes>"
      ]
     },
     "metadata": {},
     "output_type": "display_data"
    }
   ],
   "source": [
    "sns.boxplot(x='Pclass', y='Age', hue='Sex', data=X)"
   ]
  },
  {
   "cell_type": "markdown",
   "metadata": {},
   "source": [
    "We see that for each passenger class, females are younger than males.  One way to impute missing age values then is to use replace the missing age value with the average age in each of the above 6 groups."
   ]
  },
  {
   "cell_type": "markdown",
   "metadata": {},
   "source": [
    "### Group By\n",
    "pd.DataFrame.groupby() serves the same purpose as SQL's \"Group By\".  An alternative term sometimes used in statistics, is \"conditioned on\".\n",
    "\n",
    "In Pandas, DataFrame.groupby() will:\n",
    "* split the original DataFrame into a list of DataFrames\n",
    "* the union of the list of DataFrames is the original DataFrame\n",
    "* each Dataframe in the list of DataFrames contains values which are identical for those columns being grouped over\n",
    "\n",
    "An example will make this clearer."
   ]
  },
  {
   "cell_type": "code",
   "execution_count": 6,
   "metadata": {},
   "outputs": [
    {
     "name": "stdout",
     "output_type": "stream",
     "text": [
      "<class 'pandas.core.groupby.DataFrameGroupBy'>\n"
     ]
    }
   ],
   "source": [
    "# print datatype returned from groupby operation\n",
    "by_pclass_sex = X.groupby(['Pclass', 'Sex'])\n",
    "print(type(by_pclass_sex))"
   ]
  },
  {
   "cell_type": "code",
   "execution_count": 7,
   "metadata": {},
   "outputs": [
    {
     "data": {
      "text/plain": [
       "[tuple, pandas.core.frame.DataFrame]"
      ]
     },
     "execution_count": 7,
     "metadata": {},
     "output_type": "execute_result"
    }
   ],
   "source": [
    "# DataFrameGroupBy is an iterable, what data types does its iterator return?\n",
    "list(map(type, next(iter(by_pclass_sex))))"
   ]
  },
  {
   "cell_type": "code",
   "execution_count": 8,
   "metadata": {},
   "outputs": [
    {
     "name": "stdout",
     "output_type": "stream",
     "text": [
      "<class 'tuple'>\n",
      "<class 'pandas.core.frame.DataFrame'>\n"
     ]
    }
   ],
   "source": [
    "# Equivalently\n",
    "for group_key, group_value in by_pclass_sex:\n",
    "    print(type(group_key))\n",
    "    print(type(group_value))\n",
    "    break"
   ]
  },
  {
   "cell_type": "markdown",
   "metadata": {},
   "source": [
    "So a DataFrameGroupBy object can be iterated over.  Let's examine the contents of the DataFrameGroupBy by iterating over it."
   ]
  },
  {
   "cell_type": "code",
   "execution_count": 9,
   "metadata": {},
   "outputs": [
    {
     "name": "stdout",
     "output_type": "stream",
     "text": [
      "(1, 'female')\n",
      "(1, 'male')\n",
      "(2, 'female')\n",
      "(2, 'male')\n",
      "(3, 'female')\n",
      "(3, 'male')\n"
     ]
    }
   ],
   "source": [
    "# let's look at the keys\n",
    "for group_key, group_value in by_pclass_sex:\n",
    "    print(group_key)"
   ]
  },
  {
   "cell_type": "markdown",
   "metadata": {},
   "source": [
    "There are 6 keys, one for each combination of the values of passenger class and sex."
   ]
  },
  {
   "cell_type": "code",
   "execution_count": 10,
   "metadata": {},
   "outputs": [
    {
     "name": "stdout",
     "output_type": "stream",
     "text": [
      "Group Key: (1, 'female') \n",
      "Group Value:\n",
      "     Pclass     Sex   Age  SibSp  Parch     Fare\n",
      "1        1  female  38.0      1      0  71.2833\n",
      "3        1  female  35.0      1      0  53.1000\n",
      "11       1  female  58.0      0      0  26.5500 \n",
      "\n",
      "Group Key: (1, 'male') \n",
      "Group Value:\n",
      "     Pclass   Sex   Age  SibSp  Parch      Fare\n",
      "6        1  male  54.0      0      0   51.8625\n",
      "23       1  male  28.0      0      0   35.5000\n",
      "27       1  male  19.0      3      2  263.0000 \n",
      "\n",
      "Group Key: (2, 'female') \n",
      "Group Value:\n",
      "     Pclass     Sex   Age  SibSp  Parch     Fare\n",
      "9        2  female  14.0      1      0  30.0708\n",
      "15       2  female  55.0      0      0  16.0000\n",
      "41       2  female  27.0      1      0  21.0000 \n",
      "\n",
      "Group Key: (2, 'male') \n",
      "Group Value:\n",
      "     Pclass   Sex   Age  SibSp  Parch  Fare\n",
      "17       2  male   NaN      0      0  13.0\n",
      "20       2  male  35.0      0      0  26.0\n",
      "21       2  male  34.0      0      0  13.0 \n",
      "\n",
      "Group Key: (3, 'female') \n",
      "Group Value:\n",
      "     Pclass     Sex   Age  SibSp  Parch     Fare\n",
      "2        3  female  26.0      0      0   7.9250\n",
      "8        3  female  27.0      0      2  11.1333\n",
      "10       3  female   4.0      1      1  16.7000 \n",
      "\n",
      "Group Key: (3, 'male') \n",
      "Group Value:\n",
      "    Pclass   Sex   Age  SibSp  Parch    Fare\n",
      "0       3  male  22.0      1      0  7.2500\n",
      "4       3  male  35.0      0      0  8.0500\n",
      "5       3  male   NaN      0      0  8.4583 \n",
      "\n"
     ]
    }
   ],
   "source": [
    "# let's look at the first 3 records in each value\n",
    "for group_key, group_value in by_pclass_sex:\n",
    "    print('Group Key:', group_key, '\\nGroup Value:\\n', group_value[:3], '\\n')"
   ]
  },
  {
   "cell_type": "markdown",
   "metadata": {},
   "source": [
    "The most common operation to perform on a groupby object is to apply an aggregate operation to each group.  Here are some examples."
   ]
  },
  {
   "cell_type": "code",
   "execution_count": 11,
   "metadata": {},
   "outputs": [
    {
     "name": "stdout",
     "output_type": "stream",
     "text": [
      "Pclass  Sex   \n",
      "1       female     94\n",
      "        male      122\n",
      "2       female     76\n",
      "        male      108\n",
      "3       female    144\n",
      "        male      347\n",
      "dtype: int64\n"
     ]
    }
   ],
   "source": [
    "# number of records in each group\n",
    "print(by_pclass_sex.size())"
   ]
  },
  {
   "cell_type": "code",
   "execution_count": 12,
   "metadata": {},
   "outputs": [
    {
     "name": "stdout",
     "output_type": "stream",
     "text": [
      "<class 'pandas.core.groupby.DataFrameGroupBy'>\n",
      "<class 'pandas.core.groupby.SeriesGroupBy'>\n"
     ]
    }
   ],
   "source": [
    "# Groupby values can either be a dataframe or a series\n",
    "print(type(by_pclass_sex))\n",
    "print(type(by_pclass_sex['Age']))"
   ]
  },
  {
   "cell_type": "code",
   "execution_count": 13,
   "metadata": {},
   "outputs": [
    {
     "name": "stdout",
     "output_type": "stream",
     "text": [
      "Pclass  Sex   \n",
      "1       female    34.611765\n",
      "        male      41.281386\n",
      "2       female    28.722973\n",
      "        male      30.740707\n",
      "3       female    21.750000\n",
      "        male      26.507589\n",
      "Name: Age, dtype: float64\n"
     ]
    }
   ],
   "source": [
    "# average Age in each group\n",
    "print(by_pclass_sex['Age'].mean())"
   ]
  },
  {
   "cell_type": "code",
   "execution_count": 14,
   "metadata": {},
   "outputs": [
    {
     "name": "stdout",
     "output_type": "stream",
     "text": [
      "Pclass  Sex   \n",
      "1       female    34.611765\n",
      "        male      41.281386\n",
      "2       female    28.722973\n",
      "        male      30.740707\n",
      "3       female    21.750000\n",
      "        male      26.507589\n",
      "Name: Age, dtype: float64\n"
     ]
    }
   ],
   "source": [
    "# alternative using numpy universal function\n",
    "print(by_pclass_sex['Age'].apply(np.mean))"
   ]
  },
  {
   "cell_type": "code",
   "execution_count": 15,
   "metadata": {},
   "outputs": [
    {
     "name": "stdout",
     "output_type": "stream",
     "text": [
      "<class 'pandas.core.series.Series'>\n",
      "Index Names: ['Pclass', 'Sex']\n",
      "Value Name: Age\n"
     ]
    }
   ],
   "source": [
    "# examine the return value above\n",
    "mean_age_by_pclass_sex = by_pclass_sex['Age'].mean()\n",
    "print(type(mean_age_by_pclass_sex))\n",
    "print('Index Names:', mean_age_by_pclass_sex.index.names)\n",
    "print('Value Name:', mean_age_by_pclass_sex.name)"
   ]
  },
  {
   "cell_type": "code",
   "execution_count": 16,
   "metadata": {},
   "outputs": [
    {
     "data": {
      "text/html": [
       "<div>\n",
       "<style scoped>\n",
       "    .dataframe tbody tr th:only-of-type {\n",
       "        vertical-align: middle;\n",
       "    }\n",
       "\n",
       "    .dataframe tbody tr th {\n",
       "        vertical-align: top;\n",
       "    }\n",
       "\n",
       "    .dataframe thead th {\n",
       "        text-align: right;\n",
       "    }\n",
       "</style>\n",
       "<table border=\"1\" class=\"dataframe\">\n",
       "  <thead>\n",
       "    <tr style=\"text-align: right;\">\n",
       "      <th></th>\n",
       "      <th></th>\n",
       "      <th>Age</th>\n",
       "    </tr>\n",
       "    <tr>\n",
       "      <th>Pclass</th>\n",
       "      <th>Sex</th>\n",
       "      <th></th>\n",
       "    </tr>\n",
       "  </thead>\n",
       "  <tbody>\n",
       "    <tr>\n",
       "      <th rowspan=\"2\" valign=\"top\">1</th>\n",
       "      <th>female</th>\n",
       "      <td>34.611765</td>\n",
       "    </tr>\n",
       "    <tr>\n",
       "      <th>male</th>\n",
       "      <td>41.281386</td>\n",
       "    </tr>\n",
       "    <tr>\n",
       "      <th rowspan=\"2\" valign=\"top\">2</th>\n",
       "      <th>female</th>\n",
       "      <td>28.722973</td>\n",
       "    </tr>\n",
       "    <tr>\n",
       "      <th>male</th>\n",
       "      <td>30.740707</td>\n",
       "    </tr>\n",
       "    <tr>\n",
       "      <th rowspan=\"2\" valign=\"top\">3</th>\n",
       "      <th>female</th>\n",
       "      <td>21.750000</td>\n",
       "    </tr>\n",
       "    <tr>\n",
       "      <th>male</th>\n",
       "      <td>26.507589</td>\n",
       "    </tr>\n",
       "  </tbody>\n",
       "</table>\n",
       "</div>"
      ],
      "text/plain": [
       "                     Age\n",
       "Pclass Sex              \n",
       "1      female  34.611765\n",
       "       male    41.281386\n",
       "2      female  28.722973\n",
       "       male    30.740707\n",
       "3      female  21.750000\n",
       "       male    26.507589"
      ]
     },
     "execution_count": 16,
     "metadata": {},
     "output_type": "execute_result"
    }
   ],
   "source": [
    "# note: pivot_table is very similar to groupby\n",
    "X.pivot_table(values='Age', index=['Pclass','Sex'], aggfunc='mean')"
   ]
  },
  {
   "cell_type": "markdown",
   "metadata": {},
   "source": [
    "### Avoiding Data Leakage"
   ]
  },
  {
   "cell_type": "markdown",
   "metadata": {},
   "source": [
    "**Cross Validation the Wrong Way**  \n",
    "As discussed in the previous notebook, we cannot use the entire data set in order to impute age.  If we don't separate out the train data from the test data, then by definition the test data has \"leaked\" into the train data.\n",
    "\n",
    "There are many tutorials (aka kernels) for Titanic which impute age based on passenger class and gender, but I have yet to see one that does not have data leakage.  This is in part because it is difficult to explain how to do it correctly, and for this *particular* dataset, the estimated accuracy of doing this correctly vs incorrectly is very close to the same.\n",
    "\n",
    "What I would like to show here is how to impute missing Age values, based on passenger class and sex, correctly without data leakage.\n",
    "\n",
    "The Titanic dataset is used for concreteness, but it is not representative of all datasets.  Understanding how to transform data, and use cross validation correctly, is essential to solving real-world problems."
   ]
  },
  {
   "cell_type": "markdown",
   "metadata": {},
   "source": [
    "### Create Custom Transformer Class\n",
    "Python uses \"duck typing\", so as long as our class defines a fit() and a transform() method, Scikit Learn can use our class as a Transform.  Nevertheless, it is common practice to inherit from TransformerMixin in order to make the code clearer to others.\n",
    "\n",
    "The fit() method will compute the mean of Age, grouped by pclass and sex, over the *training* data, and save this object for use in the transform method.\n",
    "\n",
    "The transform() method will use the mean of Age by pclass and sex, as computed on the training data, to replace missing values on both the training and test data sets.\n",
    "\n",
    "The Transform class will be used as part of a pipeline with cross_val_score() as well as manually to ensure understanding of what is happening behind the scenes with cross_val_score().\n",
    "\n",
    "The manual use is as follows:\n",
    "```python\n",
    "    # find the average age on the train set per (pclass, sex)\n",
    "    my_transformer.fit(X_train, y_train)\n",
    "    \n",
    "    # use this for *both* the train and test set\n",
    "    X_train = my_transformer.transform(X_train)\n",
    "    X_test = my_transformer.transform(X_test)\n",
    "```"
   ]
  },
  {
   "cell_type": "markdown",
   "metadata": {},
   "source": [
    "#### Vectorization Notes\n",
    "Generally vectorized operations are faster and easier to maintain.  A vectorized option has no explicit for-loop.  The MyTransform class below has no for-loops.\n",
    "\n",
    "Some operations internally use for-loops, such as apply(), itertuples(), iterrows(), etc."
   ]
  },
  {
   "cell_type": "code",
   "execution_count": 17,
   "metadata": {},
   "outputs": [],
   "source": [
    "from sklearn.base import TransformerMixin\n",
    "class MyTransformer(TransformerMixin): \n",
    "    '''Class with fit() and transform() methods'''\n",
    "\n",
    "    def fit(self, X, y):\n",
    "        '''\n",
    "        fit() will compute and save the mean age per (pclass, sex)\n",
    "        on the training data\n",
    "        '''\n",
    "        self.mean_age_by_pclass_sex = X.groupby(['Pclass', 'Sex'])['Age'].mean()\n",
    "        \n",
    "        # return an instance of MyTransformer\n",
    "        return self\n",
    "    \n",
    "    def transform(self, X):\n",
    "        '''\n",
    "        transform() is applied to both train and test data\n",
    "        \n",
    "        It will replace missing age values by looking up the\n",
    "        mean age per (pclass,sex)\n",
    "        '''\n",
    "        \n",
    "        # index into multi-indexed Pandas Series using 2-part key\n",
    "        # Pandas does not allow indexing by DataFrame, so create list of tuples\n",
    "        # each tuple is (pclass, sex)\n",
    "        missing_age_idx = X['Age'].isnull()\n",
    "        df = X.loc[missing_age_idx, ['Pclass', 'Sex']]\n",
    "        index_tuples = list(df.itertuples(index=False, name=None))\n",
    "        \n",
    "        # lookup mean age in DataFrameGroupBy using list of tuples of (pclass, sex)\n",
    "        imputed_age_values = self.mean_age_by_pclass_sex.loc[index_tuples].values\n",
    "        \n",
    "        # replace the missing values with the imputed age values\n",
    "        X = X.copy()\n",
    "        X.loc[missing_age_idx, 'Age'] = imputed_age_values\n",
    "\n",
    "        # drop the sex column as logicstic regression only works with numerics\n",
    "        # (later we will encode it and use it)\n",
    "        return X.drop('Sex', axis=1)"
   ]
  },
  {
   "cell_type": "code",
   "execution_count": 18,
   "metadata": {
    "scrolled": false
   },
   "outputs": [
    {
     "name": "stdout",
     "output_type": "stream",
     "text": [
      "[0.72067039 0.7247191  0.69101124 0.75280899 0.65168539] 0.708\n"
     ]
    }
   ],
   "source": [
    "# Code is the same as previous iteration *except* use our custom Transformer\n",
    "# instead of SciKit Learn's Imputer\n",
    "from sklearn.model_selection import cross_val_score, KFold\n",
    "from sklearn.linear_model import LogisticRegression\n",
    "from sklearn.metrics import accuracy_score\n",
    "\n",
    "random_state = 100\n",
    "k_folds = 5 # 5 or 10 is the recommended value\n",
    "crossvalidation = KFold(n_splits=k_folds, shuffle=True, \n",
    "                        random_state=random_state)\n",
    "\n",
    "my_transformer = MyTransformer()\n",
    "\n",
    "from sklearn.pipeline import make_pipeline\n",
    "classifier = make_pipeline(my_transformer, LogisticRegression())\n",
    "\n",
    "# cross_val_score() will properly compute \n",
    "# imputation and score per fold\n",
    "scores = cross_val_score(classifier, X, y, cv=crossvalidation, \n",
    "                         scoring='accuracy', n_jobs=1)\n",
    "\n",
    "print(scores, round(np.mean(scores),3))"
   ]
  },
  {
   "cell_type": "markdown",
   "metadata": {},
   "source": [
    "Here our accuracy is .708 whereas for the previous iteration it was .701.  That is probably not a practical difference."
   ]
  },
  {
   "cell_type": "markdown",
   "metadata": {},
   "source": [
    "### For Instructional Purposes, Perform this Manually\n",
    "It is important to understand what cross_val_score() is doing behind the scenes in order to use it correctly."
   ]
  },
  {
   "cell_type": "code",
   "execution_count": 19,
   "metadata": {},
   "outputs": [],
   "source": [
    "# same setup as above\n",
    "random_state = 100\n",
    "n_splits = 5 # 5 or 10 is the recommended value\n",
    "crossvalidation = KFold(n_splits=n_splits, shuffle=True, \n",
    "                        random_state=random_state)\n",
    "\n",
    "my_transformer = MyTransformer()\n",
    "\n",
    "my_scores = np.zeros(n_splits)\n",
    "i = 0\n",
    "lr_model = LogisticRegression()\n",
    "for train_idx, test_idx in crossvalidation.split(X):\n",
    "    # train subset\n",
    "    X_train = X.iloc[train_idx, :].copy()\n",
    "    y_train = y[train_idx].copy()\n",
    "    \n",
    "    # test subset\n",
    "    X_test = X.iloc[test_idx, :].copy()\n",
    "    y_test = y[test_idx].copy()\n",
    "    \n",
    "    # find the average age on the train set per (pclass, sex)\n",
    "    my_transformer.fit(X_train, y_train)\n",
    "    \n",
    "    # use this for *both* the train and test set\n",
    "    X_train = my_transformer.transform(X_train)\n",
    "    X_test = my_transformer.transform(X_test)\n",
    "    \n",
    "    # fit model on train\n",
    "    lr_model.fit(X_train, y_train)\n",
    "    \n",
    "    # predict using model on test\n",
    "    predictions = lr_model.predict(X_test)\n",
    "    \n",
    "    # evaluate accuracy\n",
    "    my_scores[i] = accuracy_score(y_test, predictions)\n",
    "    i += 1"
   ]
  },
  {
   "cell_type": "code",
   "execution_count": 20,
   "metadata": {},
   "outputs": [
    {
     "name": "stdout",
     "output_type": "stream",
     "text": [
      "[0.72067039 0.7247191  0.69101124 0.75280899 0.65168539] 0.708\n",
      "Scores Match:  True\n"
     ]
    }
   ],
   "source": [
    "print(my_scores, round(np.mean(my_scores),3))\n",
    "print('Scores Match: ', (my_scores == scores).all())"
   ]
  },
  {
   "cell_type": "markdown",
   "metadata": {},
   "source": [
    "The scores match.  The above code is equivalent to using cross_val_score() with a pipeline."
   ]
  },
  {
   "cell_type": "markdown",
   "metadata": {},
   "source": [
    "### Model Summary\n",
    "Model building steps only."
   ]
  },
  {
   "cell_type": "code",
   "execution_count": 21,
   "metadata": {},
   "outputs": [
    {
     "name": "stdout",
     "output_type": "stream",
     "text": [
      "[0.72067039 0.7247191  0.69101124 0.75280899 0.65168539] 0.708\n",
      "Ttest_indResult(statistic=1.0159643577330408, pvalue=0.33938422673023777)\n",
      "Cross Validated Accuracy: 0.703  SD: 0.015\n"
     ]
    }
   ],
   "source": [
    "# read in all the labeled data\n",
    "all_data = pd.read_csv('../data/train.csv')\n",
    "\n",
    "# break up the dataframe into X and y\n",
    "X = all_data.drop('Survived', axis=1)\n",
    "y = all_data['Survived']\n",
    "\n",
    "# Remove PassengerId and all non-numeric fields except Sex\n",
    "drop_cols = ['PassengerId', 'Name', 'Ticket', 'Cabin', 'Embarked']\n",
    "X = X.drop(drop_cols, axis=1)\n",
    "\n",
    "random_state = 100\n",
    "k_folds = 5 # 5 or 10 is the recommended value\n",
    "crossvalidation = KFold(n_splits=k_folds, shuffle=True, \n",
    "                        random_state=random_state)\n",
    "\n",
    "# MyTransformer Class defined above\n",
    "my_transformer = MyTransformer()\n",
    "\n",
    "classifier = make_pipeline(my_transformer, LogisticRegression())\n",
    "\n",
    "# cross_val_score() will properly compute \n",
    "# imputation and score per fold\n",
    "scores = cross_val_score(classifier, X, y, cv=crossvalidation, \n",
    "                         scoring='accuracy', n_jobs=1)\n",
    "\n",
    "print(scores, round(np.mean(scores),3))\n",
    "\n",
    "#######################\n",
    "first_iter_scores = [0.72625698, 0.70786517, 0.63483146, 0.6741573, 0.67977528]\n",
    "from scipy import stats\n",
    "print(stats.ttest_ind(scores, first_iter_scores))\n",
    "\n",
    "from sklearn.model_selection import RepeatedKFold\n",
    "crossvalidation = RepeatedKFold(n_splits=2, n_repeats=5, random_state=random_state)\n",
    "# MyTransformer Class defined above\n",
    "my_transformer = MyTransformer()\n",
    "\n",
    "classifier = make_pipeline(my_transformer, LogisticRegression())\n",
    "\n",
    "# cross_val_score() will properly compute \n",
    "# imputation and score per fold\n",
    "scores = cross_val_score(classifier, X, y, cv=crossvalidation, \n",
    "                         scoring='accuracy', n_jobs=1)\n",
    "\n",
    "# print the mean score\n",
    "print(f'Cross Validated Accuracy: {scores.mean():.3f}  SD: {scores.std():.3f}')"
   ]
  },
  {
   "cell_type": "markdown",
   "metadata": {},
   "source": [
    "### Conclusion\n",
    "\n",
    "In this iteration we:\n",
    "* showed how to create a custom Transform object to perform custom Imputation\n",
    "* examined the DataFrameGroupBy and SeriesGroupBy objects in detail\n",
    "* performed custom Age Imputation without data leakage\n",
    "* measured the new model's accuracy and found it was essentially the same as the previous iteration's accuracy (70.8% vs 70.1%)"
   ]
  }
 ],
 "metadata": {
  "kernelspec": {
   "display_name": "Python 3",
   "language": "python",
   "name": "python3"
  },
  "language_info": {
   "codemirror_mode": {
    "name": "ipython",
    "version": 3
   },
   "file_extension": ".py",
   "mimetype": "text/x-python",
   "name": "python",
   "nbconvert_exporter": "python",
   "pygments_lexer": "ipython3",
   "version": "3.6.5"
  },
  "varInspector": {
   "cols": {
    "lenName": 16,
    "lenType": 16,
    "lenVar": 40
   },
   "kernels_config": {
    "python": {
     "delete_cmd_postfix": "",
     "delete_cmd_prefix": "del ",
     "library": "var_list.py",
     "varRefreshCmd": "print(var_dic_list())"
    },
    "r": {
     "delete_cmd_postfix": ") ",
     "delete_cmd_prefix": "rm(",
     "library": "var_list.r",
     "varRefreshCmd": "cat(var_dic_list()) "
    }
   },
   "position": {
    "height": "356px",
    "left": "51px",
    "right": "20px",
    "top": "142px",
    "width": "714px"
   },
   "types_to_exclude": [
    "module",
    "function",
    "builtin_function_or_method",
    "instance",
    "_Feature"
   ],
   "window_display": true
  }
 },
 "nbformat": 4,
 "nbformat_minor": 2
}
