{
 "cells": [
  {
   "cell_type": "markdown",
   "metadata": {},
   "source": [
    "# Hyperparameter Tuning with GridSearchCV"
   ]
  },
  {
   "cell_type": "markdown",
   "metadata": {},
   "source": [
    "The [King County Housing Data](https://www.kaggle.com/harlfoxem/housesalesprediction/data) from Kaggle will be used.  The model will predict house price.\n",
    "\n",
    "This notebook will demonstrate how to optimize hyperparameters using GridSearchCV and HyperOpt.\n",
    "\n",
    "Scikit Learn also has RandomizedSearchCV, but it could be argued that if you do not have the processing time to perform a grid search, then you should take advantage of the Bayesian search offered by HyperOpt."
   ]
  },
  {
   "cell_type": "markdown",
   "metadata": {},
   "source": [
    "### Common Imports and Notebook Setup"
   ]
  },
  {
   "cell_type": "code",
   "execution_count": 362,
   "metadata": {},
   "outputs": [],
   "source": [
    "import numpy as np\n",
    "import pandas as pd\n",
    "import matplotlib.pyplot as plt\n",
    "import seaborn as sns\n",
    "import sklearn as sk\n",
    "%matplotlib inline\n",
    "sns.set() # enable seaborn style"
   ]
  },
  {
   "cell_type": "markdown",
   "metadata": {},
   "source": [
    "### As per King County Housing Data EDA\n",
    "TODO: provide link to that notebook"
   ]
  },
  {
   "cell_type": "code",
   "execution_count": 424,
   "metadata": {},
   "outputs": [
    {
     "name": "stdout",
     "output_type": "stream",
     "text": [
      "(17281, 16)\n",
      "(17281,)\n"
     ]
    }
   ],
   "source": [
    "# read king county housing data\n",
    "parser = lambda date: pd.datetime.strptime(date, '%Y%m%dT%H%M%S')\n",
    "all_data = pd.read_csv('./data/kc_house_data.csv', parse_dates=['date'], date_parser=parser)\n",
    "\n",
    "# Keep middle 80% by price\n",
    "price = all_data['price']\n",
    "low, high = price.quantile([0.1, 0.9])\n",
    "price_filter = (price >= low) & (price <= high)\n",
    "data = all_data[price_filter]\n",
    "\n",
    "# compute mean sales price per house (id is house-id)\n",
    "mean_price_by_id = data.groupby(['id'])['price'].mean()\n",
    "\n",
    "# convert this to a data frame\n",
    "mean_price_by_id = pd.DataFrame(mean_price_by_id).reset_index()\n",
    "\n",
    "# join on id to get a new column for mean price\n",
    "data = data.merge(right=mean_price_by_id, on='id', suffixes=['_orig', '_mean'])\n",
    "\n",
    "# drop original price and de-dup the records\n",
    "data = data.drop('price_orig', axis=1).drop_duplicates(subset='id')\n",
    "\n",
    "# remove id and date fields\n",
    "data = data.drop(['id', 'date'], axis=1)\n",
    "\n",
    "# repace yr_built with yr_renovated if yr_renovated != 0\n",
    "mask = data['yr_renovated'] != 0\n",
    "data.loc[mask, 'yr_built'] = data.loc[mask, 'yr_renovated']\n",
    "data = data.drop('yr_renovated',axis=1)\n",
    "\n",
    "data = data.drop(['zipcode'], axis=1)\n",
    "\n",
    "X = data.drop('price_mean', axis=1).values\n",
    "y = data['price_mean'].values\n",
    "print(X.shape)\n",
    "print(y.shape)"
   ]
  },
  {
   "cell_type": "markdown",
   "metadata": {},
   "source": [
    "### Parallezation\n",
    "Searching through hyperparameter space is time consuming and embarrassingly parallel. There are several ways to parallelize the search.\n",
    "* Set n_jobs=-1 and all the cores on your computer will be used\n",
    "* XGBoost has it's own parallel API\n",
    "* Dask-ML provides a simple interface for distributed parallel computing across multiple computers\n",
    "* Dask also provides a more robust interface for distributed parallel computing\n",
    "* Dask-XGBoost provides a wrapper around the XGBoost parallel API\n",
    "\n",
    "When performing cross validation (of any type), the task could be parallelized at the model (for those models that have a n_jobs parameter) or for the cross validation operation itself.  It may not work correctly to set n_jobs=-1 for both the model (aka sklearn estimator) and cross validation, and even if it did, it would not run faster.  n_jobs=-1 should be set for either the model or cross validation, but not both.\n",
    "\n",
    "The very simplest way to parallelize is to use all the cores on your computer.  Simply set n_jobs=-1.\n",
    "\n",
    "The next simplest, which is worthwhile if you have 2 or more computers available, is to use Dask-ML.  That is the approach taken in this notebook as I have 2 computers available to perform distributed parallel processing.  To use Dask-ML on multiple computers, simply start a dask-scheduler process on one computer (e.g. your primary development machine) and start a dask-worker process on each computer which will perform the work. Making use of Dask-Ml simply requires importing the Dask parallel backend and using it with a with statement as shown below.\n",
    "\n",
    "When using cross validation methods with Dask-ML, I would recommend parallelizing the cross validation method rather than parallelizing the model."
   ]
  },
  {
   "cell_type": "code",
   "execution_count": 364,
   "metadata": {},
   "outputs": [],
   "source": [
    "# Dask Setup\n",
    "import dask_ml.joblib\n",
    "from sklearn.externals.joblib import parallel_backend"
   ]
  },
  {
   "cell_type": "markdown",
   "metadata": {},
   "source": [
    "### XGBoost\n",
    "XGBoost will be used as the estimator.  It should be noted that LightGBM is similar and possibly better. It will not be used in this notebook as it is not as widely known.\n",
    "\n",
    "XGBoost has several APIs.  Perhaps the two most important are the sklearn compatible API which will be used here, and the Learning API, which offers additional features such as early stopping.\n",
    "\n",
    "When using the sklearn compatible API, do not pass parameters specific for the other APIs, such as early stopping rounds.  These will be accepted but may cause problems.\n",
    "\n",
    "It should be noted that eta, aka the learning rate, should not be set too high as this can cause XGBoost to not find a solution.  If you get a mysterious error, try lowering the learning rate to, for example, 1.0. "
   ]
  },
  {
   "cell_type": "code",
   "execution_count": 365,
   "metadata": {},
   "outputs": [
    {
     "data": {
      "text/plain": [
       "XGBRegressor(base_score=0.5, booster='gbtree', colsample_bylevel=1,\n",
       "       colsample_bytree=1, gamma=0, learning_rate=0.1, max_delta_step=0,\n",
       "       max_depth=3, min_child_weight=1, missing=None, n_estimators=100,\n",
       "       n_jobs=1, nthread=None, objective='reg:linear', random_state=0,\n",
       "       reg_alpha=0, reg_lambda=1, scale_pos_weight=1, seed=None,\n",
       "       silent=True, subsample=1)"
      ]
     },
     "execution_count": 365,
     "metadata": {},
     "output_type": "execute_result"
    }
   ],
   "source": [
    "# create a default XGBRegressor\n",
    "# explictly set n_jobs=1 to avoid problems with nested multiprocessing with cross validation\n",
    "from sklearn.pipeline import Pipeline\n",
    "from sklearn.model_selection import GridSearchCV, KFold, cross_val_score\n",
    "from xgboost import XGBRegressor\n",
    "xgb_reg = XGBRegressor(n_jobs=1)\n",
    "xgb_reg"
   ]
  },
  {
   "cell_type": "code",
   "execution_count": 366,
   "metadata": {},
   "outputs": [],
   "source": [
    "# setup a cv generator for repeatability\n",
    "k_folds = 10\n",
    "random_seed=108\n",
    "cv = KFold(n_splits=k_folds, shuffle=True, random_state=random_seed)"
   ]
  },
  {
   "cell_type": "code",
   "execution_count": 367,
   "metadata": {},
   "outputs": [
    {
     "data": {
      "text/plain": [
       "54253.48535307755"
      ]
     },
     "execution_count": 367,
     "metadata": {},
     "output_type": "execute_result"
    }
   ],
   "source": [
    "# compute the cross validated scores\n",
    "# only 1 line of code is necessary to use Dask-ML for cross_val_score()\n",
    "with parallel_backend('dask.distributed', scheduler_host='atlantis:8786'):\n",
    "    scores = cross_val_score(xgb_reg, X, y, cv=cv, n_jobs=-1, \n",
    "                        scoring='neg_mean_absolute_error')\n",
    "mad = -scores.mean()\n",
    "mad"
   ]
  },
  {
   "cell_type": "markdown",
   "metadata": {},
   "source": [
    "The default XGBRegressor is about the same as the as the model creating in TODO: provide notebook link.  After optimizing the hyperparameters, this model is likely to due much better."
   ]
  },
  {
   "cell_type": "markdown",
   "metadata": {},
   "source": [
    "### Objective Function is NOT Metric\n",
    "XGBoost and some other estimators offer the ability to set both the objective function and the metric used for evaluation.  It is important to understand the difference between these.\n",
    "\n",
    "The objective function is what will be optimized the the estimator.  This is independent of how you measure the score for your model.\n",
    "\n",
    "In the above, the objective function was \"reg:linear\".  This means the objective is to minimize the sum of the squared errors.  This is equivalent to minimizing the mean of the squared errors.  Which is equivalent to minimizing the square root of the mean squared errors.  That is, \"reg:linear\" is consistent with the \"rmse\" XGBoost metric or the \"neg_mean_squared_error\" metric in Scikit Learn.\n",
    "\n",
    "In the above, the metric chosen was \"mae\".  This was chosen because the model is predicting house prices and large errors in house prices more significantly affect the rmse score than the mae score and it can be argued mae is more what a end-user would understand for a house price prediction.\n",
    "\n",
    "As \"mae\" is not what is being minimized, the natural question to ask is, \"is there an objective function which can be minimized that will minimize the mae?\".  mae does not have an analytical representation of the first and second derivatives, as is required by XGBoost (and LightGBM), however there are functions which are similar.  See for example: [How to use MAE as an Objective Function](https://stackoverflow.com/questions/45006341/xgboost-how-to-use-mae-as-objective-function)\n",
    "\n",
    "Using a custom objective function is beyond the scope of this notebook, but will be explored in another notebook.  Here \"reg:linear\" will be used as the objective function and \"mae\" as the model scoring metric."
   ]
  },
  {
   "cell_type": "markdown",
   "metadata": {},
   "source": [
    "### Cross Validation Measures Model Performance\n",
    "It is important to understand that cross validation does not create a model, it measure the score for the model in a manner that is reflective of how that model will work on out of sample data.\n",
    "\n",
    "After measuring how well your model does, you will build the model on all available data.  This is important as cross validation creates a series of models, one per fold, each of which uses less than the full amount of available data.  Because each uses less than the full amount of data, each model that is created may be poorer than a model created using all the available data.\n",
    "\n",
    "It is not necessary to use all the data if the model has reached its full capacity for learning.  This can be seen by looking at the Learning Curve for the model.  Another notebook is dedicated to Learning Curvers TODO place link here.\n",
    "\n",
    "TODO: place this note in the right location:  GridSearchCV and RandomizedSearchCV do return a model, as a convenience, not as something inherent to GridSearch or Cross Validation.  The model it returns is trained on all the data provided to it."
   ]
  },
  {
   "cell_type": "markdown",
   "metadata": {},
   "source": [
    "### Feature Scaling\n",
    "Tree based models do not need feature scaling.  However any algorithm that makes use of regularization, as XGBoost does by default, probably should use feature scaling.  This is to ensure that regularization does not use up its \"quota of coefficients\" using a large value for a variable with a small range.\n",
    "\n",
    "It probably doesn't make much difference which scaler you use.  Below QuantileTransformer was used."
   ]
  },
  {
   "cell_type": "code",
   "execution_count": 368,
   "metadata": {},
   "outputs": [],
   "source": [
    "from sklearn.preprocessing import StandardScaler, RobustScaler, QuantileTransformer\n",
    "from sklearn.pipeline import Pipeline\n",
    "scale = QuantileTransformer(output_distribution='normal', random_state=10)\n",
    "\n",
    "pipe = Pipeline(steps=[('scale', scale), ('xgb_reg', xgb_reg)])"
   ]
  },
  {
   "cell_type": "code",
   "execution_count": 369,
   "metadata": {},
   "outputs": [],
   "source": [
    "# use same cv as before\n",
    "k_folds = 10\n",
    "random_seed=108\n",
    "cv = KFold(n_splits=k_folds, shuffle=True, random_state=random_seed)"
   ]
  },
  {
   "cell_type": "code",
   "execution_count": 370,
   "metadata": {},
   "outputs": [
    {
     "data": {
      "text/plain": [
       "54202.75493478789"
      ]
     },
     "execution_count": 370,
     "metadata": {},
     "output_type": "execute_result"
    }
   ],
   "source": [
    "# compute the cross validated scores for the pipeline\n",
    "# which consists of a scaler and the default XGBoostRegressor\n",
    "with parallel_backend('dask.distributed', scheduler_host='atlantis:8786'):\n",
    "    scores = cross_val_score(pipe, X, y, cv=cv, n_jobs=-1, \n",
    "                        scoring='neg_mean_absolute_error')\n",
    "mad = -scores.mean()\n",
    "mad"
   ]
  },
  {
   "cell_type": "markdown",
   "metadata": {},
   "source": [
    "This score is very close to the previous score, so scaling the input features did not change anything with the default XGBRegressor model.  However if either of the regularization parameters, alpha or lambda, are to be optimized later, then having scaled the input features will make a difference."
   ]
  },
  {
   "cell_type": "markdown",
   "metadata": {},
   "source": [
    "### Hyperparameter Space\n",
    "There are many hyperparmeters that could be tuned for XGBoost.  This is not a tutorial on XGBoost, but the most common parameters to optimize will be tried here.\n",
    "\n",
    "For more information on parameter tunning see for example:\n",
    "* [XGBoost Parameter Tuning](https://xgboost.readthedocs.io/en/latest/how_to/param_tuning.html)  \n",
    "* [Tuning Gradient Boosting](https://www.analyticsvidhya.com/blog/2016/02/complete-guide-parameter-tuning-gradient-boosting-gbm-python/)\n",
    "* [Tuning XGBoost](https://www.analyticsvidhya.com/blog/2016/03/complete-guide-parameter-tuning-xgboost-with-codes-python/)\n",
    "\n",
    "A general strategy is to first optimize eta, n_estimators (aka num_rounds) and max_depth.  After that, initial searching of the hyperparmeter space may be done.  The reason for this two (or more) step optimization strategy is that it reduces the size of the hyperparameter space search in a reasonable manner.  Another option is to use HyperOpt which will be discussed later."
   ]
  },
  {
   "cell_type": "code",
   "execution_count": 371,
   "metadata": {},
   "outputs": [
    {
     "name": "stdout",
     "output_type": "stream",
     "text": [
      "[0.01       0.02114743 0.04472136 0.09457416 0.2       ]\n",
      "[1, 2, 3, 4, 5, 6, 7, 8, 9, 10, 11, 12]\n",
      "[  10  100 1000]\n"
     ]
    }
   ],
   "source": [
    "# A rough rule of thumb is that as n_estimators goes up, eta goes down proportionally\n",
    "eta = np.logspace(np.log10(0.01), np.log10(0.2), 5)\n",
    "max_depth = list(range(1, 13))\n",
    "n_estimators = np.round(np.logspace(np.log10(10), np.log10(1000), 3)).astype('int')\n",
    "print(eta)\n",
    "print(max_depth)\n",
    "print(n_estimators)"
   ]
  },
  {
   "cell_type": "markdown",
   "metadata": {},
   "source": [
    "### GridSearchCV\n",
    "GridSearchCV takes a dictionary of parameter values to try.  All possible combination of all parameters values will be tried.  The number of combinations increases exponentially as the number of parameters increase, so care must be taken not to set up a GridSearch that is too large for your available computing resources.\n",
    "\n",
    "GridSearcCV can also take a list of dictionaries.  The purpose of this is to avoid certain combinations of values that you know do not need to be tried, thereby reducing the search space and computing resources required.\n",
    "\n",
    "GridSearchCV, like all cross validation methods, measures the score of the model as per the supplied metric.  GridSearchCV, has as a convenience to the user, the ability to return a model that is *retrained on all the data* using the best parameter values found.  It is retrained on all the data as this creates a better model than using a subset of the data (TODO: see Learning Curve notebook).\n",
    "\n",
    "Note that XGBoost is optimizing the objective function, but GridSearchCV is reporting the scores based on the metric selected. If GridSearchCV is used to return the \"best\" model, which is trained on all the data, it will define \"best\" according to the metric that was selected, rather than the objective function that was minimized.\n",
    "\n",
    "Note that GridSearchCV is optimizing the hyperparameters by computing the test scores over and over for each combination of hyperparameter values.  This is \"data leakage\".  The test set is being used implicitly by GridSearchCV to find the best hyperparameter values.  This may lead to an overly optimistic estimate of the model's performance.  See the following notebook for a deeper discussion of this issue: TODO link to notebook"
   ]
  },
  {
   "cell_type": "markdown",
   "metadata": {},
   "source": [
    "#### Paramater Grid Dictionary\n",
    "When using a pipeline, the syntax is to prepend the name of the object in the pipeline to the parameter being search over."
   ]
  },
  {
   "cell_type": "code",
   "execution_count": 372,
   "metadata": {},
   "outputs": [],
   "source": [
    "param_grid = {\n",
    "        'xgb_reg__learning_rate': eta,\n",
    "        'xgb_reg__max_depth': max_depth,\n",
    "        'xgb_reg__n_estimators': n_estimators\n",
    "}"
   ]
  },
  {
   "cell_type": "code",
   "execution_count": 373,
   "metadata": {},
   "outputs": [],
   "source": [
    "# setup an cv generator for repeatability\n",
    "k_folds = 5\n",
    "random_seed=108\n",
    "cv = KFold(n_splits=k_folds, shuffle=True, random_state=random_seed)\n",
    "\n",
    "# use n_jobs=-1 to parallelize GridSearchCV\n",
    "grid = GridSearchCV(pipe, cv=cv, n_jobs=-1, param_grid=param_grid, \n",
    "                    scoring='neg_mean_absolute_error', verbose=1)"
   ]
  },
  {
   "cell_type": "code",
   "execution_count": 377,
   "metadata": {},
   "outputs": [
    {
     "name": "stdout",
     "output_type": "stream",
     "text": [
      "Fitting 5 folds for each of 180 candidates, totalling 900 fits\n"
     ]
    },
    {
     "name": "stderr",
     "output_type": "stream",
     "text": [
      "[Parallel(n_jobs=-1)]: Done  18 tasks      | elapsed:    1.6s\n",
      "[Parallel(n_jobs=-1)]: Done 168 tasks      | elapsed:  1.2min\n",
      "[Parallel(n_jobs=-1)]: Done 418 tasks      | elapsed:  3.7min\n",
      "[Parallel(n_jobs=-1)]: Done 768 tasks      | elapsed:  7.0min\n",
      "[Parallel(n_jobs=-1)]: Done 900 out of 900 | elapsed:  8.8min finished\n"
     ]
    },
    {
     "name": "stdout",
     "output_type": "stream",
     "text": [
      "GridSearchCV Time:  545.5 seconds\n"
     ]
    }
   ],
   "source": [
    "from time import time\n",
    "\n",
    "# if not using Dask, remove the line with 'with parallel_backend ...'\n",
    "start = time()\n",
    "with parallel_backend('dask.distributed', scheduler_host='atlantis:8786'):\n",
    "    grid.fit(X, y)\n",
    "    \n",
    "    # for nested cross validation\n",
    "    # scores = cross_val_score(grid, X, y, cv=3)\n",
    "    \n",
    "print(f'GridSearchCV Time: {time() - start: 5.1f} seconds')"
   ]
  },
  {
   "cell_type": "markdown",
   "metadata": {},
   "source": [
    "Let's look at the best results"
   ]
  },
  {
   "cell_type": "code",
   "execution_count": 378,
   "metadata": {},
   "outputs": [],
   "source": [
    "# save this result for later\n",
    "cv_results = grid.cv_results_.copy()"
   ]
  },
  {
   "cell_type": "code",
   "execution_count": 379,
   "metadata": {},
   "outputs": [
    {
     "name": "stdout",
     "output_type": "stream",
     "text": [
      "Best Score: -45346.02934490915\n",
      "{'xgb_reg__learning_rate': 0.021147425268811283, 'xgb_reg__max_depth': 8, 'xgb_reg__n_estimators': 1000}\n"
     ]
    }
   ],
   "source": [
    "print(f'Best Score: {grid.best_score_}')\n",
    "print(grid.best_params_)"
   ]
  },
  {
   "cell_type": "code",
   "execution_count": 380,
   "metadata": {},
   "outputs": [
    {
     "name": "stdout",
     "output_type": "stream",
     "text": [
      "Best Score: -45346.02934490915\n",
      "{'xgb_reg__learning_rate': 0.021147425268811283, 'xgb_reg__max_depth': 8, 'xgb_reg__n_estimators': 1000}\n"
     ]
    }
   ],
   "source": [
    "# pull the same information from the cv_results_ dictionary\n",
    "argmax = np.argmax(grid.cv_results_['mean_test_score'])\n",
    "best_score = grid.cv_results_['mean_test_score'][argmax]\n",
    "print(f'Best Score: {best_score}')\n",
    "print(grid.cv_results_['params'][argmax])"
   ]
  },
  {
   "cell_type": "markdown",
   "metadata": {},
   "source": [
    "This is considerably better than the default xgb model."
   ]
  },
  {
   "cell_type": "markdown",
   "metadata": {},
   "source": [
    "### GridSearchCV Results\n",
    "It is interesting to see the results expressed in hyperparameter space.\n",
    "\n",
    "The results for the cross validated grid search are stored in grid.cv_results_"
   ]
  },
  {
   "cell_type": "markdown",
   "metadata": {},
   "source": [
    "### Helper Functions to get Data from grid.cv_results\n",
    "TODO: possibly move the helper functions to a different notebok\n",
    "\n",
    "When cross_val_score() is used, an array of scores, one per fold, is returned.  This is convenient.\n",
    "\n",
    "When GridSearchCV() is used, a different format is used.  This is not as convenient.  Below are some helper functions to reformat the output of GridSearchCV into an array per fold.\n",
    "\n",
    "The dimensions of the array will be:\n",
    "* len(learning_rate)\n",
    "* len(max_depth)\n",
    "* len(n_estimators)"
   ]
  },
  {
   "cell_type": "code",
   "execution_count": 390,
   "metadata": {},
   "outputs": [],
   "source": [
    "# get the CV fold test score keys\n",
    "def get_test_score_keys(grid):\n",
    "    keys = []\n",
    "    for key in grid.cv_results_.keys():\n",
    "        if 'split' in key and 'test' in key:\n",
    "            keys.append(key)\n",
    "    return keys"
   ]
  },
  {
   "cell_type": "code",
   "execution_count": 391,
   "metadata": {},
   "outputs": [
    {
     "data": {
      "text/plain": [
       "['split0_test_score',\n",
       " 'split1_test_score',\n",
       " 'split2_test_score',\n",
       " 'split3_test_score',\n",
       " 'split4_test_score']"
      ]
     },
     "execution_count": 391,
     "metadata": {},
     "output_type": "execute_result"
    }
   ],
   "source": [
    "# keys for K fold test scores\n",
    "get_test_score_keys(grid)"
   ]
  },
  {
   "cell_type": "code",
   "execution_count": 392,
   "metadata": {},
   "outputs": [
    {
     "data": {
      "text/plain": [
       "{'xgb_reg__learning_rate': array([0.01      , 0.02114743, 0.04472136, 0.09457416, 0.2       ]),\n",
       " 'xgb_reg__max_depth': [1, 2, 3, 4, 5, 6, 7, 8, 9, 10, 11, 12],\n",
       " 'xgb_reg__n_estimators': array([  10,  100, 1000])}"
      ]
     },
     "execution_count": 392,
     "metadata": {},
     "output_type": "execute_result"
    }
   ],
   "source": [
    "# review the paramter grid passed in\n",
    "grid.param_grid"
   ]
  },
  {
   "cell_type": "code",
   "execution_count": 393,
   "metadata": {},
   "outputs": [
    {
     "data": {
      "text/plain": [
       "[{'xgb_reg__learning_rate': 0.01,\n",
       "  'xgb_reg__max_depth': 1,\n",
       "  'xgb_reg__n_estimators': 10}]"
      ]
     },
     "execution_count": 393,
     "metadata": {},
     "output_type": "execute_result"
    }
   ],
   "source": [
    "# GridSearchCV uses alphabetical order of parameter name\n",
    "grid.cv_results_['params'][:1]"
   ]
  },
  {
   "cell_type": "code",
   "execution_count": 394,
   "metadata": {},
   "outputs": [],
   "source": [
    "# Get the dimensions of the parameter grid\n",
    "def get_dim(grid):\n",
    "    dims = []\n",
    "    for key in sorted(grid.param_grid.keys()):\n",
    "        dims.append(len(grid.param_grid[key]))\n",
    "    return tuple(dims)"
   ]
  },
  {
   "cell_type": "code",
   "execution_count": 395,
   "metadata": {},
   "outputs": [
    {
     "data": {
      "text/plain": [
       "(5, 12, 3)"
      ]
     },
     "execution_count": 395,
     "metadata": {},
     "output_type": "execute_result"
    }
   ],
   "source": [
    "# dimensions of parameter grid\n",
    "get_dim(grid)"
   ]
  },
  {
   "cell_type": "markdown",
   "metadata": {},
   "source": [
    "These dimensions match what is seen above for grid.cv_results_\\['params'\\]"
   ]
  },
  {
   "cell_type": "code",
   "execution_count": 396,
   "metadata": {},
   "outputs": [],
   "source": [
    "# convert the CV test scores to an array\n",
    "# Note: this requires that KFold was used for cv and not cv=<int>\n",
    "def get_test_data(grid):\n",
    "    dim = get_dim(grid)\n",
    "    new_dim = (grid.cv.get_n_splits(), *dim)\n",
    "\n",
    "    result = np.zeros(new_dim)\n",
    "    for i, key in enumerate(get_test_score_keys(grid)):\n",
    "        data = np.array(grid.cv_results_[key])\n",
    "        data = data.reshape(dim)\n",
    "        result[i] = data\n",
    "\n",
    "    return result"
   ]
  },
  {
   "cell_type": "code",
   "execution_count": 397,
   "metadata": {},
   "outputs": [
    {
     "data": {
      "text/plain": [
       "(5, 5, 12, 3)"
      ]
     },
     "execution_count": 397,
     "metadata": {},
     "output_type": "execute_result"
    }
   ],
   "source": [
    "# There are 5 (5, 12, 3) CV test scores because there are 5 folds\n",
    "get_test_data(grid).shape"
   ]
  },
  {
   "cell_type": "code",
   "execution_count": 398,
   "metadata": {},
   "outputs": [
    {
     "name": "stdout",
     "output_type": "stream",
     "text": [
      "(5, 12, 3)\n",
      "True\n"
     ]
    }
   ],
   "source": [
    "# verify the helper functions work properly\n",
    "\n",
    "# compute mean test score using the above numpy array\n",
    "test_data = get_test_data(grid)\n",
    "mean_scores = test_data.mean(axis=0)\n",
    "print(mean_scores.shape)\n",
    "\n",
    "# retrieve mean test score directly from cv_results_\n",
    "mean_scores2 = grid.cv_results_['mean_test_score']\n",
    "mean_scores2 = mean_scores2.reshape(get_dim(grid))\n",
    "\n",
    "# verify that every value is (almost) the same\n",
    "print(np.allclose(mean_scores, mean_scores2, rtol=5e-6))"
   ]
  },
  {
   "cell_type": "markdown",
   "metadata": {},
   "source": [
    "So the helper methods work correctly."
   ]
  },
  {
   "cell_type": "markdown",
   "metadata": {},
   "source": [
    "### Examine Hyperparameter Space\n",
    "One way to view the hyperparameter space is as contour plots.  This allows for observing the score vs two hyperparameters.  A series of hyperparameter plots provides information on 3 parameters."
   ]
  },
  {
   "cell_type": "code",
   "execution_count": 399,
   "metadata": {},
   "outputs": [],
   "source": [
    "# define the contour scaling\n",
    "levels=list(range(-110000, -60000, 1000))"
   ]
  },
  {
   "cell_type": "code",
   "execution_count": 400,
   "metadata": {},
   "outputs": [
    {
     "data": {
      "text/plain": [
       "Text(0.5,1,'N Rounds = 10')"
      ]
     },
     "execution_count": 400,
     "metadata": {},
     "output_type": "execute_result"
    },
    {
     "data": {
      "image/png": "[encoded data removed]",
      "text/plain": [
       "<Figure size 720x720 with 1 Axes>"
      ]
     },
     "metadata": {},
     "output_type": "display_data"
    }
   ],
   "source": [
    "# plt.gca().invert_yaxis()\n",
    "# lighter colors are higher\n",
    "# score is negative error, so ligher is better\n",
    "plt.figure(dpi=180, figsize=(4,4))\n",
    "plt.xticks(max_depth)\n",
    "plt.yticks(eta)\n",
    "CS = plt.contourf(max_depth, eta, mean_scores[:, :, 0], cmap='inferno', levels=levels, extend='min')\n",
    "# plt.clabel(CS, inline=1, fontsize=10, colors='black')\n",
    "plt.title(f'N Rounds = {n_estimators[0]}')"
   ]
  },
  {
   "cell_type": "markdown",
   "metadata": {},
   "source": [
    "From the above it appears that for n_estimators=10, eta should be larger than 0.20.  As n_estimators=10 does not produce good results, it will not be examine further."
   ]
  },
  {
   "cell_type": "code",
   "execution_count": 401,
   "metadata": {},
   "outputs": [],
   "source": [
    "# use this scaling for the next 2 contour plots\n",
    "levels=list(range(-50000, -45000, 100))"
   ]
  },
  {
   "cell_type": "code",
   "execution_count": 402,
   "metadata": {},
   "outputs": [
    {
     "data": {
      "text/plain": [
       "Text(0.5,1,'N Rounds = 100')"
      ]
     },
     "execution_count": 402,
     "metadata": {},
     "output_type": "execute_result"
    },
    {
     "data": {
      "image/png": "[encoded data removed]",
      "text/plain": [
       "<Figure size 720x360 with 1 Axes>"
      ]
     },
     "metadata": {},
     "output_type": "display_data"
    }
   ],
   "source": [
    "# plt.gca().invert_yaxis()\n",
    "# lighter colors are higher\n",
    "# score is negative error, so ligher is better\n",
    "plt.figure(dpi=180, figsize=(4,2))\n",
    "plt.xticks(max_depth)\n",
    "plt.yticks(eta)\n",
    "CS = plt.contourf(max_depth, eta, mean_scores[:, :, 1], cmap='inferno', levels=levels, extend='min')\n",
    "# plt.clabel(CS, inline=1, fontsize=10, colors='black')\n",
    "plt.title(f'N Rounds = {n_estimators[1]}')"
   ]
  },
  {
   "cell_type": "markdown",
   "metadata": {},
   "source": [
    "As per the above, for 100 boosting rounds (100 estimators), eta is optimal around .0946 with max_depth between 8 and 11."
   ]
  },
  {
   "cell_type": "code",
   "execution_count": 403,
   "metadata": {},
   "outputs": [
    {
     "data": {
      "text/plain": [
       "Text(0.5,1,'N Rounds = 1000')"
      ]
     },
     "execution_count": 403,
     "metadata": {},
     "output_type": "execute_result"
    },
    {
     "data": {
      "image/png": "[encoded data removed]",
      "text/plain": [
       "<Figure size 900x540 with 1 Axes>"
      ]
     },
     "metadata": {},
     "output_type": "display_data"
    }
   ],
   "source": [
    "# plt.gca().invert_yaxis()\n",
    "# lighter colors are higher\n",
    "# score is negative error, so ligher is better\n",
    "plt.figure(dpi=180, figsize=(5,3))\n",
    "plt.xticks(max_depth)\n",
    "plt.yticks(eta)\n",
    "CS = plt.contourf(max_depth, eta, mean_scores[:, :, 2], cmap='inferno', levels=levels, extend='min')\n",
    "# plt.clabel(CS, inline=1, fontsize=10, colors='black')\n",
    "plt.title(f'N Rounds = {n_estimators[2]}')"
   ]
  },
  {
   "cell_type": "markdown",
   "metadata": {},
   "source": [
    "At n_estimators = 1000, the results are much better than at 100 or 10.  The optimal eta values are between about .02 and .05 and the optimal max_depth is between about 7 and 9.  From best_score_ and best_params_, we know the  best (highest negative error) was -45346 at .0211, with max_depth = 8.\n",
    "\n",
    "The contour plot creates more contours than available from the data, so it is interpolating.  Had the grid been more dense, the contour plot might look slightly different.\n",
    "\n",
    "The most important thing to note about the contour plot is that the best score is an an area where the contours are smooth.  Had the best value in a non-smooth part of the surface, this would suggest the hyperparameters were overfit.\n",
    "\n",
    "Let's zoom in on the area of interest by creating a new parameter grid and running GridSearchCV again."
   ]
  },
  {
   "cell_type": "code",
   "execution_count": 404,
   "metadata": {},
   "outputs": [
    {
     "name": "stdout",
     "output_type": "stream",
     "text": [
      "[0.02       0.02491462 0.03103691 0.03866364 0.04816449 0.06      ]\n",
      "[6, 7, 8, 9]\n",
      "[1000]\n"
     ]
    }
   ],
   "source": [
    "eta = np.logspace(np.log10(.02),np.log10(.06), 6)\n",
    "max_depth = [6, 7, 8, 9]\n",
    "n_estimators = [1000]\n",
    "print(eta)\n",
    "print(max_depth)\n",
    "print(n_estimators)"
   ]
  },
  {
   "cell_type": "code",
   "execution_count": 405,
   "metadata": {},
   "outputs": [],
   "source": [
    "param_grid = {\n",
    "        'xgb_reg__learning_rate': eta,\n",
    "        'xgb_reg__max_depth': max_depth,\n",
    "        'xgb_reg__n_estimators': n_estimators\n",
    "}"
   ]
  },
  {
   "cell_type": "code",
   "execution_count": 407,
   "metadata": {},
   "outputs": [],
   "source": [
    "from time import time\n",
    "\n",
    "# setup an explict cv generator for repeatability\n",
    "k_folds = 5\n",
    "random_seed=108\n",
    "cv = KFold(n_splits=k_folds, shuffle=True, random_state=random_seed)\n",
    "\n",
    "grid2 = GridSearchCV(pipe, cv=cv, n_jobs=-1, param_grid=param_grid, \n",
    "                    scoring='neg_mean_absolute_error', verbose=1)"
   ]
  },
  {
   "cell_type": "code",
   "execution_count": 408,
   "metadata": {},
   "outputs": [
    {
     "name": "stdout",
     "output_type": "stream",
     "text": [
      "Fitting 5 folds for each of 24 candidates, totalling 120 fits\n"
     ]
    },
    {
     "name": "stderr",
     "output_type": "stream",
     "text": [
      "[Parallel(n_jobs=-1)]: Done  18 tasks      | elapsed:   43.3s\n",
      "[Parallel(n_jobs=-1)]: Done 120 out of 120 | elapsed:  3.5min finished\n"
     ]
    },
    {
     "name": "stdout",
     "output_type": "stream",
     "text": [
      "GridSearchCV Time:  228.9 seconds\n"
     ]
    }
   ],
   "source": [
    "# the only dask command is: with parallel_backend ...\n",
    "start = time()\n",
    "with parallel_backend('dask.distributed', scheduler_host='atlantis:8786'):\n",
    "    grid2.fit(X, y)\n",
    "    \n",
    "    # for nested cross validation\n",
    "    # scores = cross_val_score(grid, X_all, y_all, cv=3)\n",
    "    \n",
    "print(f'GridSearchCV Time: {time() - start: 5.1f} seconds')"
   ]
  },
  {
   "cell_type": "code",
   "execution_count": 409,
   "metadata": {},
   "outputs": [
    {
     "name": "stdout",
     "output_type": "stream",
     "text": [
      "-45284.56908870291\n"
     ]
    },
    {
     "data": {
      "text/plain": [
       "{'xgb_reg__learning_rate': 0.02491461879231035,\n",
       " 'xgb_reg__max_depth': 8,\n",
       " 'xgb_reg__n_estimators': 1000}"
      ]
     },
     "execution_count": 409,
     "metadata": {},
     "output_type": "execute_result"
    }
   ],
   "source": [
    "print(grid2.best_score_)\n",
    "grid2.best_params_"
   ]
  },
  {
   "cell_type": "markdown",
   "metadata": {},
   "source": [
    "Although this score is slightly better, it is likely not meaningfully better, given that the variance in cross validation estimated model scores is high.  It is important to note that there is no unbiased estimator of cross validation variance.  This means there is no unbiased way to create a confidence interval around the estimate of the model's score.  The standard deviation is useful in a relative sense in that for non-repeated CV, if the same CV setup is used, the standard deviation will provide a measure of the variance.  TODO: see notebook on CV variance"
   ]
  },
  {
   "cell_type": "code",
   "execution_count": 412,
   "metadata": {},
   "outputs": [],
   "source": [
    "test_data = get_test_data(grid2)\n",
    "mean_scores = test_data.mean(axis=0)"
   ]
  },
  {
   "cell_type": "code",
   "execution_count": 413,
   "metadata": {},
   "outputs": [],
   "source": [
    "# define contour scaling (finer resolution than above)\n",
    "levels=list(range(-46000, -45000, 50))"
   ]
  },
  {
   "cell_type": "code",
   "execution_count": 414,
   "metadata": {},
   "outputs": [
    {
     "data": {
      "text/plain": [
       "Text(0.5,1,'N Rounds = 1000')"
      ]
     },
     "execution_count": 414,
     "metadata": {},
     "output_type": "execute_result"
    },
    {
     "data": {
      "image/png": "[encoded data removed]",
      "text/plain": [
       "<Figure size 900x540 with 1 Axes>"
      ]
     },
     "metadata": {},
     "output_type": "display_data"
    }
   ],
   "source": [
    "# plt.gca().invert_yaxis()\n",
    "# lighter colors are higher\n",
    "# score is negative error, so ligher is better\n",
    "plt.figure(dpi=180, figsize=(5,3))\n",
    "plt.xticks(max_depth)\n",
    "plt.yticks(eta)\n",
    "CS = plt.contourf(max_depth, eta, mean_scores[:, :, 0], cmap='inferno', levels=levels, extend='min')\n",
    "# plt.clabel(CS, inline=1, fontsize=10, colors='black')\n",
    "plt.title(f'N Rounds = {n_estimators[0]}')"
   ]
  },
  {
   "cell_type": "markdown",
   "metadata": {},
   "source": [
    "max_depth of 7-9 with eta of .02 to .05 all looks good.\n",
    "\n",
    "If I had to pick one value based on the plot, I would pick max_depth = 7 and eta = 0.03866.  This is because the surface is smoother than in the neighborhood of the very highest peak and is therefore more likely to generalize well.  Although to ensure good generalization, increasing the regularization is likely the best bet.\n",
    "\n",
    "Contour plots are often easier to view than a 3D plot, but let's try a 3D plot."
   ]
  },
  {
   "cell_type": "code",
   "execution_count": 423,
   "metadata": {},
   "outputs": [
    {
     "data": {
      "image/png": "[encoded data removed]",
      "text/plain": [
       "<Figure size 840x560 with 1 Axes>"
      ]
     },
     "metadata": {},
     "output_type": "display_data"
    }
   ],
   "source": [
    "from mpl_toolkits.mplot3d import Axes3D\n",
    "from matplotlib import cm\n",
    "from matplotlib.ticker import LinearLocator, FormatStrFormatter\n",
    "\n",
    "fig = plt.figure(dpi=140)\n",
    "ax = fig.gca(projection='3d')\n",
    "ax.view_init(20, -10)\n",
    "\n",
    "# Make data.\n",
    "X_mesh, Y_mesh = np.meshgrid(max_depth, eta)\n",
    "\n",
    "# Plot the surface.\n",
    "surf = ax.plot_surface(X_mesh, Y_mesh, mean_scores[:, :, 0], cmap=cm.coolwarm,\n",
    "                       linewidth=0, antialiased=False)"
   ]
  },
  {
   "cell_type": "code",
   "execution_count": null,
   "metadata": {},
   "outputs": [],
   "source": []
  },
  {
   "cell_type": "markdown",
   "metadata": {},
   "source": [
    "### Early Stopping\n",
    "TODO: may move this section to another notebook\n",
    "\n",
    "In order to use early stopping, the XGBoost Learning API must be used.\n",
    "\n",
    "1000 rounds may be more than necessary and/or it may cause overfitting."
   ]
  },
  {
   "cell_type": "code",
   "execution_count": 425,
   "metadata": {},
   "outputs": [
    {
     "data": {
      "text/plain": [
       "((17281, 16), (17281,))"
      ]
     },
     "execution_count": 425,
     "metadata": {},
     "output_type": "execute_result"
    }
   ],
   "source": [
    "X.shape, y.shape"
   ]
  },
  {
   "cell_type": "code",
   "execution_count": 310,
   "metadata": {},
   "outputs": [],
   "source": [
    "# Note the following uses unscaled features\n",
    "import xgboost as xgb\n",
    "data_dmatrix = xgb.DMatrix(X, label=y)"
   ]
  },
  {
   "cell_type": "code",
   "execution_count": 320,
   "metadata": {},
   "outputs": [],
   "source": [
    "params = {\n",
    "        'learning_rate': 0.0249146,\n",
    "        'max_depth': 8,\n",
    "}"
   ]
  },
  {
   "cell_type": "code",
   "execution_count": 429,
   "metadata": {},
   "outputs": [
    {
     "data": {
      "text/html": [
       "<div>\n",
       "<style scoped>\n",
       "    .dataframe tbody tr th:only-of-type {\n",
       "        vertical-align: middle;\n",
       "    }\n",
       "\n",
       "    .dataframe tbody tr th {\n",
       "        vertical-align: top;\n",
       "    }\n",
       "\n",
       "    .dataframe thead th {\n",
       "        text-align: right;\n",
       "    }\n",
       "</style>\n",
       "<table border=\"1\" class=\"dataframe\">\n",
       "  <thead>\n",
       "    <tr style=\"text-align: right;\">\n",
       "      <th></th>\n",
       "      <th>train-mae-mean</th>\n",
       "      <th>train-mae-std</th>\n",
       "      <th>test-mae-mean</th>\n",
       "      <th>test-mae-std</th>\n",
       "    </tr>\n",
       "  </thead>\n",
       "  <tbody>\n",
       "    <tr>\n",
       "      <th>500</th>\n",
       "      <td>31307.828776</td>\n",
       "      <td>308.434342</td>\n",
       "      <td>46656.088542</td>\n",
       "      <td>727.298335</td>\n",
       "    </tr>\n",
       "    <tr>\n",
       "      <th>501</th>\n",
       "      <td>31292.354818</td>\n",
       "      <td>308.125657</td>\n",
       "      <td>46655.513021</td>\n",
       "      <td>727.552547</td>\n",
       "    </tr>\n",
       "    <tr>\n",
       "      <th>502</th>\n",
       "      <td>31269.155599</td>\n",
       "      <td>301.075706</td>\n",
       "      <td>46652.269531</td>\n",
       "      <td>727.851610</td>\n",
       "    </tr>\n",
       "    <tr>\n",
       "      <th>503</th>\n",
       "      <td>31251.837891</td>\n",
       "      <td>294.179151</td>\n",
       "      <td>46652.829427</td>\n",
       "      <td>727.398226</td>\n",
       "    </tr>\n",
       "    <tr>\n",
       "      <th>504</th>\n",
       "      <td>31229.014323</td>\n",
       "      <td>282.423967</td>\n",
       "      <td>46645.320312</td>\n",
       "      <td>732.058867</td>\n",
       "    </tr>\n",
       "  </tbody>\n",
       "</table>\n",
       "</div>"
      ],
      "text/plain": [
       "     train-mae-mean  train-mae-std  test-mae-mean  test-mae-std\n",
       "500    31307.828776     308.434342   46656.088542    727.298335\n",
       "501    31292.354818     308.125657   46655.513021    727.552547\n",
       "502    31269.155599     301.075706   46652.269531    727.851610\n",
       "503    31251.837891     294.179151   46652.829427    727.398226\n",
       "504    31229.014323     282.423967   46645.320312    732.058867"
      ]
     },
     "execution_count": 429,
     "metadata": {},
     "output_type": "execute_result"
    }
   ],
   "source": [
    "results = xgb.cv(params, data_dmatrix, num_boost_round=1000, early_stopping_rounds=2, metrics='mae')\n",
    "results.tail()"
   ]
  },
  {
   "cell_type": "code",
   "execution_count": 430,
   "metadata": {},
   "outputs": [
    {
     "data": {
      "text/html": [
       "<div>\n",
       "<style scoped>\n",
       "    .dataframe tbody tr th:only-of-type {\n",
       "        vertical-align: middle;\n",
       "    }\n",
       "\n",
       "    .dataframe tbody tr th {\n",
       "        vertical-align: top;\n",
       "    }\n",
       "\n",
       "    .dataframe thead th {\n",
       "        text-align: right;\n",
       "    }\n",
       "</style>\n",
       "<table border=\"1\" class=\"dataframe\">\n",
       "  <thead>\n",
       "    <tr style=\"text-align: right;\">\n",
       "      <th></th>\n",
       "      <th>train-mae-mean</th>\n",
       "      <th>train-mae-std</th>\n",
       "      <th>test-mae-mean</th>\n",
       "      <th>test-mae-std</th>\n",
       "    </tr>\n",
       "  </thead>\n",
       "  <tbody>\n",
       "    <tr>\n",
       "      <th>995</th>\n",
       "      <td>24389.766276</td>\n",
       "      <td>66.054554</td>\n",
       "      <td>46012.122396</td>\n",
       "      <td>701.859736</td>\n",
       "    </tr>\n",
       "    <tr>\n",
       "      <th>996</th>\n",
       "      <td>24378.778646</td>\n",
       "      <td>68.975705</td>\n",
       "      <td>46010.927083</td>\n",
       "      <td>701.749848</td>\n",
       "    </tr>\n",
       "    <tr>\n",
       "      <th>997</th>\n",
       "      <td>24365.950521</td>\n",
       "      <td>72.187622</td>\n",
       "      <td>46011.550781</td>\n",
       "      <td>701.481049</td>\n",
       "    </tr>\n",
       "    <tr>\n",
       "      <th>998</th>\n",
       "      <td>24352.312500</td>\n",
       "      <td>78.940070</td>\n",
       "      <td>46012.003906</td>\n",
       "      <td>698.679801</td>\n",
       "    </tr>\n",
       "    <tr>\n",
       "      <th>999</th>\n",
       "      <td>24337.138672</td>\n",
       "      <td>79.934957</td>\n",
       "      <td>46008.825521</td>\n",
       "      <td>700.169213</td>\n",
       "    </tr>\n",
       "  </tbody>\n",
       "</table>\n",
       "</div>"
      ],
      "text/plain": [
       "     train-mae-mean  train-mae-std  test-mae-mean  test-mae-std\n",
       "995    24389.766276      66.054554   46012.122396    701.859736\n",
       "996    24378.778646      68.975705   46010.927083    701.749848\n",
       "997    24365.950521      72.187622   46011.550781    701.481049\n",
       "998    24352.312500      78.940070   46012.003906    698.679801\n",
       "999    24337.138672      79.934957   46008.825521    700.169213"
      ]
     },
     "execution_count": 430,
     "metadata": {},
     "output_type": "execute_result"
    }
   ],
   "source": [
    "results = xgb.cv(params, data_dmatrix, num_boost_round=1000, early_stopping_rounds=100, metrics='mae')\n",
    "results.tail()"
   ]
  },
  {
   "cell_type": "markdown",
   "metadata": {},
   "source": [
    "What would the \"1 sigma rule\" of ISL look like here?\n",
    "\n",
    "The best result was 46009 with a standard deviation of 700.  Reducing complexity means to reduce the number of boosting rounds, so the best model with less boosting rounds within 1 standard deviation would be a model with 46008 + 700 = 46708.  This corresponds to using about 375 trees as shown below."
   ]
  },
  {
   "cell_type": "code",
   "execution_count": 438,
   "metadata": {},
   "outputs": [
    {
     "data": {
      "text/plain": [
       "train-mae-mean    33524.501302\n",
       "train-mae-std       302.336718\n",
       "test-mae-mean     47010.033854\n",
       "test-mae-std        792.899480\n",
       "Name: 376, dtype: float64"
      ]
     },
     "execution_count": 438,
     "metadata": {},
     "output_type": "execute_result"
    }
   ],
   "source": [
    "results.iloc[376]"
   ]
  },
  {
   "cell_type": "code",
   "execution_count": 441,
   "metadata": {},
   "outputs": [],
   "source": [
    "# lambda is L2 regularization and defaults to 1.0\n",
    "# alpha is L1 regularization and defaults to 0.0\n",
    "params = {\n",
    "    'learning_rate': 0.0249146,\n",
    "    'max_depth': 8,\n",
    "    'lambda': 2.0,\n",
    "    'alpha': 2.0\n",
    "}"
   ]
  },
  {
   "cell_type": "code",
   "execution_count": 442,
   "metadata": {},
   "outputs": [
    {
     "data": {
      "text/html": [
       "<div>\n",
       "<style scoped>\n",
       "    .dataframe tbody tr th:only-of-type {\n",
       "        vertical-align: middle;\n",
       "    }\n",
       "\n",
       "    .dataframe tbody tr th {\n",
       "        vertical-align: top;\n",
       "    }\n",
       "\n",
       "    .dataframe thead th {\n",
       "        text-align: right;\n",
       "    }\n",
       "</style>\n",
       "<table border=\"1\" class=\"dataframe\">\n",
       "  <thead>\n",
       "    <tr style=\"text-align: right;\">\n",
       "      <th></th>\n",
       "      <th>train-mae-mean</th>\n",
       "      <th>train-mae-std</th>\n",
       "      <th>test-mae-mean</th>\n",
       "      <th>test-mae-std</th>\n",
       "    </tr>\n",
       "  </thead>\n",
       "  <tbody>\n",
       "    <tr>\n",
       "      <th>995</th>\n",
       "      <td>19129.746094</td>\n",
       "      <td>59.941202</td>\n",
       "      <td>46029.782552</td>\n",
       "      <td>473.808287</td>\n",
       "    </tr>\n",
       "    <tr>\n",
       "      <th>996</th>\n",
       "      <td>19118.326823</td>\n",
       "      <td>58.588092</td>\n",
       "      <td>46031.341146</td>\n",
       "      <td>473.236605</td>\n",
       "    </tr>\n",
       "    <tr>\n",
       "      <th>997</th>\n",
       "      <td>19108.113932</td>\n",
       "      <td>55.288738</td>\n",
       "      <td>46031.648437</td>\n",
       "      <td>472.003738</td>\n",
       "    </tr>\n",
       "    <tr>\n",
       "      <th>998</th>\n",
       "      <td>19091.824870</td>\n",
       "      <td>54.757202</td>\n",
       "      <td>46032.718750</td>\n",
       "      <td>471.713605</td>\n",
       "    </tr>\n",
       "    <tr>\n",
       "      <th>999</th>\n",
       "      <td>19080.793620</td>\n",
       "      <td>52.775901</td>\n",
       "      <td>46032.483073</td>\n",
       "      <td>471.766782</td>\n",
       "    </tr>\n",
       "  </tbody>\n",
       "</table>\n",
       "</div>"
      ],
      "text/plain": [
       "     train-mae-mean  train-mae-std  test-mae-mean  test-mae-std\n",
       "995    19129.746094      59.941202   46029.782552    473.808287\n",
       "996    19118.326823      58.588092   46031.341146    473.236605\n",
       "997    19108.113932      55.288738   46031.648437    472.003738\n",
       "998    19091.824870      54.757202   46032.718750    471.713605\n",
       "999    19080.793620      52.775901   46032.483073    471.766782"
      ]
     },
     "execution_count": 442,
     "metadata": {},
     "output_type": "execute_result"
    }
   ],
   "source": [
    "# what happens if we increase the regularization?\n",
    "resultsL2 = xgb.cv(params, data_dmatrix, num_boost_round=1000, early_stopping_rounds=100, metrics='mae')\n",
    "resultsL2.tail()"
   ]
  },
  {
   "cell_type": "markdown",
   "metadata": {},
   "source": [
    "The test score is about the same but the standard deviation is lower.  This makes sense as a more conservative model will make more consistent predictions."
   ]
  },
  {
   "cell_type": "code",
   "execution_count": 443,
   "metadata": {},
   "outputs": [
    {
     "data": {
      "text/html": [
       "<div>\n",
       "<style scoped>\n",
       "    .dataframe tbody tr th:only-of-type {\n",
       "        vertical-align: middle;\n",
       "    }\n",
       "\n",
       "    .dataframe tbody tr th {\n",
       "        vertical-align: top;\n",
       "    }\n",
       "\n",
       "    .dataframe thead th {\n",
       "        text-align: right;\n",
       "    }\n",
       "</style>\n",
       "<table border=\"1\" class=\"dataframe\">\n",
       "  <thead>\n",
       "    <tr style=\"text-align: right;\">\n",
       "      <th></th>\n",
       "      <th>train-mae-mean</th>\n",
       "      <th>train-mae-std</th>\n",
       "      <th>test-mae-mean</th>\n",
       "      <th>test-mae-std</th>\n",
       "    </tr>\n",
       "  </thead>\n",
       "  <tbody>\n",
       "    <tr>\n",
       "      <th>995</th>\n",
       "      <td>21526.843099</td>\n",
       "      <td>136.307834</td>\n",
       "      <td>45823.937500</td>\n",
       "      <td>524.723557</td>\n",
       "    </tr>\n",
       "    <tr>\n",
       "      <th>996</th>\n",
       "      <td>21516.546875</td>\n",
       "      <td>131.356879</td>\n",
       "      <td>45824.894531</td>\n",
       "      <td>524.374157</td>\n",
       "    </tr>\n",
       "    <tr>\n",
       "      <th>997</th>\n",
       "      <td>21505.300781</td>\n",
       "      <td>130.969149</td>\n",
       "      <td>45825.335938</td>\n",
       "      <td>525.106844</td>\n",
       "    </tr>\n",
       "    <tr>\n",
       "      <th>998</th>\n",
       "      <td>21493.729818</td>\n",
       "      <td>135.617038</td>\n",
       "      <td>45824.226562</td>\n",
       "      <td>524.269211</td>\n",
       "    </tr>\n",
       "    <tr>\n",
       "      <th>999</th>\n",
       "      <td>21485.140625</td>\n",
       "      <td>135.083457</td>\n",
       "      <td>45824.953125</td>\n",
       "      <td>523.924645</td>\n",
       "    </tr>\n",
       "  </tbody>\n",
       "</table>\n",
       "</div>"
      ],
      "text/plain": [
       "     train-mae-mean  train-mae-std  test-mae-mean  test-mae-std\n",
       "995    21526.843099     136.307834   45823.937500    524.723557\n",
       "996    21516.546875     131.356879   45824.894531    524.374157\n",
       "997    21505.300781     130.969149   45825.335938    525.106844\n",
       "998    21493.729818     135.617038   45824.226562    524.269211\n",
       "999    21485.140625     135.083457   45824.953125    523.924645"
      ]
     },
     "execution_count": 443,
     "metadata": {},
     "output_type": "execute_result"
    }
   ],
   "source": [
    "# increase the regularization more\n",
    "params = {\n",
    "    'learning_rate': 0.0249146,\n",
    "    'max_depth': 8,\n",
    "    'lambda': 5.0,\n",
    "    'alpha': 5.0\n",
    "}\n",
    "resultsL5 = xgb.cv(params, data_dmatrix, num_boost_round=1000, early_stopping_rounds=100, metrics='mae')\n",
    "resultsL5.tail()"
   ]
  },
  {
   "cell_type": "markdown",
   "metadata": {},
   "source": [
    "The test score is lower (and the training score is higher).  This is likely to be a better generalizing model."
   ]
  },
  {
   "cell_type": "markdown",
   "metadata": {},
   "source": [
    "TODO: Create a Notebook for Validation Curves using XGBoost train and test data from xgb.cv  Can use standard deviation as the error bar."
   ]
  },
  {
   "cell_type": "code",
   "execution_count": 444,
   "metadata": {},
   "outputs": [
    {
     "data": {
      "text/html": [
       "<div>\n",
       "<style scoped>\n",
       "    .dataframe tbody tr th:only-of-type {\n",
       "        vertical-align: middle;\n",
       "    }\n",
       "\n",
       "    .dataframe tbody tr th {\n",
       "        vertical-align: top;\n",
       "    }\n",
       "\n",
       "    .dataframe thead th {\n",
       "        text-align: right;\n",
       "    }\n",
       "</style>\n",
       "<table border=\"1\" class=\"dataframe\">\n",
       "  <thead>\n",
       "    <tr style=\"text-align: right;\">\n",
       "      <th></th>\n",
       "      <th>train-mae-mean</th>\n",
       "      <th>train-mae-std</th>\n",
       "      <th>test-mae-mean</th>\n",
       "      <th>test-mae-std</th>\n",
       "    </tr>\n",
       "  </thead>\n",
       "  <tbody>\n",
       "    <tr>\n",
       "      <th>995</th>\n",
       "      <td>17685.556641</td>\n",
       "      <td>203.452827</td>\n",
       "      <td>45771.826823</td>\n",
       "      <td>620.978494</td>\n",
       "    </tr>\n",
       "    <tr>\n",
       "      <th>996</th>\n",
       "      <td>17677.858073</td>\n",
       "      <td>203.135099</td>\n",
       "      <td>45772.020833</td>\n",
       "      <td>621.390638</td>\n",
       "    </tr>\n",
       "    <tr>\n",
       "      <th>997</th>\n",
       "      <td>17665.754558</td>\n",
       "      <td>202.628272</td>\n",
       "      <td>45770.569010</td>\n",
       "      <td>622.150400</td>\n",
       "    </tr>\n",
       "    <tr>\n",
       "      <th>998</th>\n",
       "      <td>17654.020182</td>\n",
       "      <td>201.327501</td>\n",
       "      <td>45770.154948</td>\n",
       "      <td>623.511390</td>\n",
       "    </tr>\n",
       "    <tr>\n",
       "      <th>999</th>\n",
       "      <td>17646.047526</td>\n",
       "      <td>205.705755</td>\n",
       "      <td>45770.053386</td>\n",
       "      <td>623.205033</td>\n",
       "    </tr>\n",
       "  </tbody>\n",
       "</table>\n",
       "</div>"
      ],
      "text/plain": [
       "     train-mae-mean  train-mae-std  test-mae-mean  test-mae-std\n",
       "995    17685.556641     203.452827   45771.826823    620.978494\n",
       "996    17677.858073     203.135099   45772.020833    621.390638\n",
       "997    17665.754558     202.628272   45770.569010    622.150400\n",
       "998    17654.020182     201.327501   45770.154948    623.511390\n",
       "999    17646.047526     205.705755   45770.053386    623.205033"
      ]
     },
     "execution_count": 444,
     "metadata": {},
     "output_type": "execute_result"
    }
   ],
   "source": [
    "# more randomization\n",
    "# default colsample_bytree is 1.0\n",
    "params = {\n",
    "    'learning_rate': 0.0249146,\n",
    "    'max_depth': 8,\n",
    "    'colsample_bytree': 0.5,\n",
    "}\n",
    "resultsSample05 = xgb.cv(params, data_dmatrix, num_boost_round=1000, early_stopping_rounds=100, metrics='mae')\n",
    "resultsSample05.tail()"
   ]
  },
  {
   "cell_type": "markdown",
   "metadata": {},
   "source": [
    "TODO: Consider Huber Loss Function.  Should home in better on a minimum mae."
   ]
  },
  {
   "cell_type": "code",
   "execution_count": 445,
   "metadata": {},
   "outputs": [
    {
     "name": "stdout",
     "output_type": "stream",
     "text": [
      "blas_mkl_info:\n",
      "  NOT AVAILABLE\n",
      "blis_info:\n",
      "  NOT AVAILABLE\n",
      "openblas_info:\n",
      "    libraries = ['openblas', 'openblas']\n",
      "    library_dirs = ['/home/agni/anaconda3/envs/anaconda/lib']\n",
      "    language = c\n",
      "    define_macros = [('HAVE_CBLAS', None)]\n",
      "blas_opt_info:\n",
      "    libraries = ['openblas', 'openblas']\n",
      "    library_dirs = ['/home/agni/anaconda3/envs/anaconda/lib']\n",
      "    language = c\n",
      "    define_macros = [('HAVE_CBLAS', None)]\n",
      "lapack_mkl_info:\n",
      "  NOT AVAILABLE\n",
      "openblas_lapack_info:\n",
      "  NOT AVAILABLE\n",
      "openblas_clapack_info:\n",
      "  NOT AVAILABLE\n",
      "atlas_3_10_threads_info:\n",
      "    include_dirs = ['/home/agni/anaconda3/envs/anaconda/include']\n",
      "    language = c\n",
      "    libraries = ['openblas', 'openblas']\n",
      "    library_dirs = ['/home/agni/anaconda3/envs/anaconda/lib']\n",
      "    define_macros = [('ATLAS_WITHOUT_LAPACK', None)]\n",
      "lapack_info:\n",
      "    libraries = ['lapack', 'lapack']\n",
      "    library_dirs = ['/home/agni/anaconda3/envs/anaconda/lib']\n",
      "    language = f77\n",
      "lapack_opt_info:\n",
      "    include_dirs = ['/home/agni/anaconda3/envs/anaconda/include']\n",
      "    language = f77\n",
      "    libraries = ['openblas', 'openblas', 'lapack', 'lapack']\n",
      "    library_dirs = ['/home/agni/anaconda3/envs/anaconda/lib']\n",
      "    define_macros = [('ATLAS_WITHOUT_LAPACK', None)]\n"
     ]
    }
   ],
   "source": [
    "np.show_config()"
   ]
  },
  {
   "cell_type": "code",
   "execution_count": null,
   "metadata": {},
   "outputs": [],
   "source": []
  }
 ],
 "metadata": {
  "kernelspec": {
   "display_name": "Python 3",
   "language": "python",
   "name": "python3"
  },
  "language_info": {
   "codemirror_mode": {
    "name": "ipython",
    "version": 3
   },
   "file_extension": ".py",
   "mimetype": "text/x-python",
   "name": "python",
   "nbconvert_exporter": "python",
   "pygments_lexer": "ipython3",
   "version": "3.6.5"
  }
 },
 "nbformat": 4,
 "nbformat_minor": 2
}
