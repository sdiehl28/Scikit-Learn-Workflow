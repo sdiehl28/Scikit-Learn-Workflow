{
 "cells": [
  {
   "cell_type": "markdown",
   "metadata": {},
   "source": [
    "# Demonstrate GridsearchCV"
   ]
  },
  {
   "cell_type": "markdown",
   "metadata": {},
   "source": [
    "The [King County Housing Data](https://www.kaggle.com/harlfoxem/housesalesprediction/data) from Kaggle will be used.  The model will predict house price.\n",
    "\n",
    "To demonstrate why nested cv is helpful, a simple model will be created."
   ]
  },
  {
   "cell_type": "markdown",
   "metadata": {},
   "source": [
    "### Common Imports and Notebook Setup"
   ]
  },
  {
   "cell_type": "code",
   "execution_count": 1,
   "metadata": {},
   "outputs": [],
   "source": [
    "import numpy as np\n",
    "import pandas as pd\n",
    "import matplotlib.pyplot as plt\n",
    "import seaborn as sns\n",
    "import sklearn as sk\n",
    "%matplotlib inline\n",
    "sns.set() # enable seaborn style"
   ]
  },
  {
   "cell_type": "markdown",
   "metadata": {},
   "source": [
    "### Previous Notebook\n",
    "As per the *Demonstrate Internals of Cross Validation using a Pipeline* notebook:"
   ]
  },
  {
   "cell_type": "code",
   "execution_count": 2,
   "metadata": {},
   "outputs": [
    {
     "data": {
      "text/html": [
       "<div>\n",
       "<style scoped>\n",
       "    .dataframe tbody tr th:only-of-type {\n",
       "        vertical-align: middle;\n",
       "    }\n",
       "\n",
       "    .dataframe tbody tr th {\n",
       "        vertical-align: top;\n",
       "    }\n",
       "\n",
       "    .dataframe thead th {\n",
       "        text-align: right;\n",
       "    }\n",
       "</style>\n",
       "<table border=\"1\" class=\"dataframe\">\n",
       "  <thead>\n",
       "    <tr style=\"text-align: right;\">\n",
       "      <th></th>\n",
       "      <th>price</th>\n",
       "      <th>bedrooms</th>\n",
       "      <th>bathrooms</th>\n",
       "      <th>sqft_living</th>\n",
       "      <th>sqft_lot</th>\n",
       "      <th>floors</th>\n",
       "      <th>waterfront</th>\n",
       "      <th>view</th>\n",
       "      <th>condition</th>\n",
       "      <th>grade</th>\n",
       "      <th>sqft_above</th>\n",
       "      <th>sqft_basement</th>\n",
       "      <th>yr_built</th>\n",
       "      <th>lat</th>\n",
       "      <th>long</th>\n",
       "      <th>sqft_living15</th>\n",
       "      <th>sqft_lot15</th>\n",
       "    </tr>\n",
       "  </thead>\n",
       "  <tbody>\n",
       "    <tr>\n",
       "      <th>0</th>\n",
       "      <td>221900.0</td>\n",
       "      <td>3</td>\n",
       "      <td>1.00</td>\n",
       "      <td>1180</td>\n",
       "      <td>5650</td>\n",
       "      <td>1.0</td>\n",
       "      <td>0</td>\n",
       "      <td>0</td>\n",
       "      <td>3</td>\n",
       "      <td>7</td>\n",
       "      <td>1180</td>\n",
       "      <td>0</td>\n",
       "      <td>1955</td>\n",
       "      <td>47.5112</td>\n",
       "      <td>-122.257</td>\n",
       "      <td>1340</td>\n",
       "      <td>5650</td>\n",
       "    </tr>\n",
       "    <tr>\n",
       "      <th>1</th>\n",
       "      <td>538000.0</td>\n",
       "      <td>3</td>\n",
       "      <td>2.25</td>\n",
       "      <td>2570</td>\n",
       "      <td>7242</td>\n",
       "      <td>2.0</td>\n",
       "      <td>0</td>\n",
       "      <td>0</td>\n",
       "      <td>3</td>\n",
       "      <td>7</td>\n",
       "      <td>2170</td>\n",
       "      <td>400</td>\n",
       "      <td>1991</td>\n",
       "      <td>47.7210</td>\n",
       "      <td>-122.319</td>\n",
       "      <td>1690</td>\n",
       "      <td>7639</td>\n",
       "    </tr>\n",
       "    <tr>\n",
       "      <th>2</th>\n",
       "      <td>180000.0</td>\n",
       "      <td>2</td>\n",
       "      <td>1.00</td>\n",
       "      <td>770</td>\n",
       "      <td>10000</td>\n",
       "      <td>1.0</td>\n",
       "      <td>0</td>\n",
       "      <td>0</td>\n",
       "      <td>3</td>\n",
       "      <td>6</td>\n",
       "      <td>770</td>\n",
       "      <td>0</td>\n",
       "      <td>1933</td>\n",
       "      <td>47.7379</td>\n",
       "      <td>-122.233</td>\n",
       "      <td>2720</td>\n",
       "      <td>8062</td>\n",
       "    </tr>\n",
       "  </tbody>\n",
       "</table>\n",
       "</div>"
      ],
      "text/plain": [
       "      price  bedrooms  bathrooms  sqft_living  sqft_lot  floors  waterfront  \\\n",
       "0  221900.0         3       1.00         1180      5650     1.0           0   \n",
       "1  538000.0         3       2.25         2570      7242     2.0           0   \n",
       "2  180000.0         2       1.00          770     10000     1.0           0   \n",
       "\n",
       "   view  condition  grade  sqft_above  sqft_basement  yr_built      lat  \\\n",
       "0     0          3      7        1180              0      1955  47.5112   \n",
       "1     0          3      7        2170            400      1991  47.7210   \n",
       "2     0          3      6         770              0      1933  47.7379   \n",
       "\n",
       "      long  sqft_living15  sqft_lot15  \n",
       "0 -122.257           1340        5650  \n",
       "1 -122.319           1690        7639  \n",
       "2 -122.233           2720        8062  "
      ]
     },
     "execution_count": 2,
     "metadata": {},
     "output_type": "execute_result"
    }
   ],
   "source": [
    "# read king county housing data\n",
    "all_data = pd.read_csv('./data/kc_house_data.csv')\n",
    "\n",
    "# let's say the house was built, when it was last renovated\n",
    "mask = all_data['yr_renovated'] != 0\n",
    "all_data.loc[mask, 'yr_built'] = all_data.loc[mask, 'yr_renovated']\n",
    "\n",
    "# remove the fields discussed above\n",
    "all_data = all_data.drop(['id', 'date', 'zipcode', 'yr_renovated'], axis=1)\n",
    "\n",
    "X_all = all_data.drop('price', axis=1)\n",
    "y_all = all_data['price']\n",
    "\n",
    "all_data.head(3)"
   ]
  },
  {
   "cell_type": "code",
   "execution_count": 3,
   "metadata": {},
   "outputs": [
    {
     "name": "stdout",
     "output_type": "stream",
     "text": [
      "(21613, 16)\n",
      "(21613,)\n"
     ]
    }
   ],
   "source": [
    "print(X_all.shape)\n",
    "print(y_all.shape)"
   ]
  },
  {
   "cell_type": "markdown",
   "metadata": {},
   "source": [
    "### EDA for Model Building\n",
    "A simple KNN model will be used.  But because KNN suffers from the \"curse of dimensionality\", the dimensionality of the feature set will be reduced with PCA.  PCA expects variables on the same scale, so the features will be standardized."
   ]
  },
  {
   "cell_type": "code",
   "execution_count": 4,
   "metadata": {},
   "outputs": [],
   "source": [
    "from sklearn.preprocessing import StandardScaler\n",
    "from sklearn.decomposition import PCA\n",
    "scale = StandardScaler()\n",
    "pca = PCA(n_components=16)\n",
    "pca_info = pca.fit(scale.fit_transform(X_all))"
   ]
  },
  {
   "cell_type": "code",
   "execution_count": 5,
   "metadata": {},
   "outputs": [
    {
     "data": {
      "text/plain": [
       "array([0.32133869, 0.44600789, 0.55886284, 0.63892456, 0.70449055,\n",
       "       0.75874935, 0.80765459, 0.84873892, 0.88736661, 0.91853478,\n",
       "       0.93975537, 0.9575939 , 0.97359186, 0.98771426, 1.        ,\n",
       "       1.        ])"
      ]
     },
     "execution_count": 5,
     "metadata": {},
     "output_type": "execute_result"
    }
   ],
   "source": [
    "np.cumsum(pca_info.explained_variance_ratio_)"
   ]
  },
  {
   "cell_type": "code",
   "execution_count": 6,
   "metadata": {},
   "outputs": [
    {
     "data": {
      "text/plain": [
       "Text(0.5,1,'Cumulative Variance Explained')"
      ]
     },
     "execution_count": 6,
     "metadata": {},
     "output_type": "execute_result"
    },
    {
     "data": {
      "image/png": "[encoded data removed]",
      "text/plain": [
       "<Figure size 720x360 with 1 Axes>"
      ]
     },
     "metadata": {},
     "output_type": "display_data"
    }
   ],
   "source": [
    "plt.figure(figsize=(10,5))\n",
    "plt.plot(np.arange(1,17), np.cumsum(pca_info.explained_variance_ratio_))\n",
    "plt.xlabel('Number of Features')\n",
    "plt.title('Cumulative Variance Explained')"
   ]
  },
  {
   "cell_type": "markdown",
   "metadata": {},
   "source": [
    "At 9 features, we reach about 90% of the variance explained."
   ]
  },
  {
   "cell_type": "code",
   "execution_count": 7,
   "metadata": {},
   "outputs": [
    {
     "data": {
      "text/plain": [
       "array([5.141, 1.995, 1.806, 1.281, 1.049, 0.868, 0.782, 0.657, 0.618,\n",
       "       0.499, 0.34 , 0.285, 0.256, 0.226, 0.197, 0.   ])"
      ]
     },
     "execution_count": 7,
     "metadata": {},
     "output_type": "execute_result"
    }
   ],
   "source": [
    "# Examine the magnitude of each coordinate in the transformed feature space\n",
    "features_transformed = pca.fit_transform(scale.fit_transform(X_all))\n",
    "\n",
    "# mean of squared coordinate values\n",
    "coordinate_mag = (features_transformed * features_transformed).mean(axis=0)\n",
    "np.round(coordinate_mag, 3)"
   ]
  },
  {
   "cell_type": "markdown",
   "metadata": {},
   "source": [
    "The magnitude of the transformed coordinates decreases with increasing coordinate index.  This is because the transformed coordinates are ordered by the amount of variance they explain.  This is to the advantage of the KNN model.\n",
    "\n",
    "Normally KNN suffers from the \"curse of dimensionality\".  The size of the feature space grows exponentially with the number of features.  Points in a large feature space are not \"close\" and therefore KNN does not work well.  However with PCA transformed coordinates, often only the first coordinates are contributing significantly to the location of the point in feature space. The effective size of the feature space is greatly reduced, allowing KNN to be more effective."
   ]
  },
  {
   "cell_type": "markdown",
   "metadata": {},
   "source": [
    "### Hyperparameter Tuning with GridsearchCV\n",
    "The hyperparameter search space will be:\n",
    "* number of PCA transformed dimensions\n",
    "* K in KNN\n",
    "* uniform vs distance weighting of K nearest neighbors"
   ]
  },
  {
   "cell_type": "code",
   "execution_count": 8,
   "metadata": {},
   "outputs": [],
   "source": [
    "# Depending on software versions, spurious deprecation warnings messages may occur\n",
    "import warnings\n",
    "warnings.filterwarnings(\"ignore\", category=DeprecationWarning)"
   ]
  },
  {
   "cell_type": "code",
   "execution_count": 9,
   "metadata": {},
   "outputs": [
    {
     "data": {
      "text/plain": [
       "0.9185347815359741"
      ]
     },
     "execution_count": 9,
     "metadata": {},
     "output_type": "execute_result"
    }
   ],
   "source": [
    "np.cumsum(pca_info.explained_variance_ratio_)[9]"
   ]
  },
  {
   "cell_type": "markdown",
   "metadata": {},
   "source": [
    "About 92% of the variance is explained in the first 10 PCA components.  As such, it is unlikely that using more PCA components (with small coordinate values) would have a meaningful impact on the KNN model."
   ]
  },
  {
   "cell_type": "code",
   "execution_count": 10,
   "metadata": {},
   "outputs": [
    {
     "data": {
      "text/plain": [
       "[1, 2, 3, 4, 5, 6, 7, 8, 9, 10]"
      ]
     },
     "execution_count": 10,
     "metadata": {},
     "output_type": "execute_result"
    }
   ],
   "source": [
    "# Number of PCA components to use\n",
    "n_components = list(np.arange(10)+1)\n",
    "n_components"
   ]
  },
  {
   "cell_type": "code",
   "execution_count": 11,
   "metadata": {},
   "outputs": [
    {
     "data": {
      "text/plain": [
       "[1, 5, 10, 20]"
      ]
     },
     "execution_count": 11,
     "metadata": {},
     "output_type": "execute_result"
    }
   ],
   "source": [
    "# K in KNN\n",
    "n_neighbors = [1, 5, 10, 20]\n",
    "n_neighbors"
   ]
  },
  {
   "cell_type": "markdown",
   "metadata": {},
   "source": [
    "KNN has an option for how it averages the points it finds in nearby space.  'Uniform' means to average the target value (e.g. housing price) of the K closest points as the prediction.  'Distance\" means to perform a weighted average of the K closest points where points further away are weighted less."
   ]
  },
  {
   "cell_type": "code",
   "execution_count": 12,
   "metadata": {},
   "outputs": [],
   "source": [
    "param_grid = {\n",
    "        'pca__n_components': n_components,\n",
    "        'knn__n_neighbors': n_neighbors,\n",
    "        'knn__weights':['uniform', 'distance']\n",
    "}"
   ]
  },
  {
   "cell_type": "code",
   "execution_count": 52,
   "metadata": {},
   "outputs": [],
   "source": [
    "from sklearn.preprocessing import StandardScaler\n",
    "from sklearn.decomposition import PCA\n",
    "from sklearn.neighbors import KNeighborsRegressor\n",
    "from sklearn.pipeline import Pipeline\n",
    "from sklearn.model_selection import cross_val_score, KFold, GridSearchCV\n",
    "from sklearn.metrics import mean_squared_error\n",
    "\n",
    "scale = StandardScaler()\n",
    "pca = PCA()\n",
    "knn = KNeighborsRegressor()\n",
    "\n",
    "pipe = Pipeline(steps=[('scale', scale),('pca',pca), ('knn',knn)])\n",
    "\n",
    "# setup an explict crossvalidation generator for repeatability\n",
    "k_folds = 5\n",
    "random_seed=108\n",
    "crossvalidation = KFold(n_splits=k_folds, shuffle=True, \n",
    "                        random_state=random_seed)\n",
    "\n",
    "grid = GridSearchCV(pipe, cv=crossvalidation, n_jobs=1, param_grid=param_grid, \n",
    "                    scoring='neg_mean_squared_error', verbose=1)"
   ]
  },
  {
   "cell_type": "code",
   "execution_count": 53,
   "metadata": {},
   "outputs": [
    {
     "name": "stdout",
     "output_type": "stream",
     "text": [
      "Fitting 5 folds for each of 80 candidates, totalling 400 fits\n"
     ]
    },
    {
     "name": "stderr",
     "output_type": "stream",
     "text": [
      "[Parallel(n_jobs=1)]: Done 400 out of 400 | elapsed:  2.4min finished\n"
     ]
    },
    {
     "data": {
      "text/plain": [
       "GridSearchCV(cv=KFold(n_splits=5, random_state=108, shuffle=True),\n",
       "       error_score='raise',\n",
       "       estimator=Pipeline(memory=None,\n",
       "     steps=[('scale', StandardScaler(copy=True, with_mean=True, with_std=True)), ('pca', PCA(copy=True, iterated_power='auto', n_components=None, random_state=None,\n",
       "  svd_solver='auto', tol=0.0, whiten=False)), ('knn', KNeighborsRegressor(algorithm='auto', leaf_size=30, metric='minkowski',\n",
       "          metric_params=None, n_jobs=1, n_neighbors=5, p=2,\n",
       "          weights='uniform'))]),\n",
       "       fit_params=None, iid=True, n_jobs=1,\n",
       "       param_grid={'pca__n_components': [1, 2, 3, 4, 5, 6, 7, 8, 9, 10], 'knn__n_neighbors': [1, 5, 10, 20], 'knn__weights': ['uniform', 'distance']},\n",
       "       pre_dispatch='2*n_jobs', refit=True, return_train_score='warn',\n",
       "       scoring='neg_mean_squared_error', verbose=1)"
      ]
     },
     "execution_count": 53,
     "metadata": {},
     "output_type": "execute_result"
    }
   ],
   "source": [
    "# This takes about 3 minutes on my 4-core 3.7 GHz hyperthreaded Xeon E5-1630 box \n",
    "grid.fit(X_all,y_all)"
   ]
  },
  {
   "cell_type": "markdown",
   "metadata": {},
   "source": [
    "The results for the cross validated grid search are stored in grid.cv_results_.  This is a dictionary with keys such as 'mean_test_score', 'split0_test_score', etc.  For each combination of grid values, there is a score for each cross validated fold."
   ]
  },
  {
   "cell_type": "markdown",
   "metadata": {},
   "source": [
    "### Helper Functions to get Data from grid"
   ]
  },
  {
   "cell_type": "code",
   "execution_count": 54,
   "metadata": {},
   "outputs": [],
   "source": [
    "def get_test_scores(grid):\n",
    "    keys = []\n",
    "    for key in grid.cv_results_.keys():\n",
    "        if 'split' in key and 'test' in key:\n",
    "            keys.append(key)\n",
    "    return keys"
   ]
  },
  {
   "cell_type": "code",
   "execution_count": 55,
   "metadata": {},
   "outputs": [
    {
     "data": {
      "text/plain": [
       "['split0_test_score',\n",
       " 'split1_test_score',\n",
       " 'split2_test_score',\n",
       " 'split3_test_score',\n",
       " 'split4_test_score']"
      ]
     },
     "execution_count": 55,
     "metadata": {},
     "output_type": "execute_result"
    }
   ],
   "source": [
    "# keys for each of K test folds\n",
    "get_test_scores(grid)"
   ]
  },
  {
   "cell_type": "code",
   "execution_count": 56,
   "metadata": {},
   "outputs": [
    {
     "data": {
      "text/plain": [
       "{'pca__n_components': [1, 2, 3, 4, 5, 6, 7, 8, 9, 10],\n",
       " 'knn__n_neighbors': [1, 5, 10, 20],\n",
       " 'knn__weights': ['uniform', 'distance']}"
      ]
     },
     "execution_count": 56,
     "metadata": {},
     "output_type": "execute_result"
    }
   ],
   "source": [
    "# paramter grid passed in\n",
    "grid.param_grid"
   ]
  },
  {
   "cell_type": "code",
   "execution_count": 57,
   "metadata": {},
   "outputs": [
    {
     "data": {
      "text/plain": [
       "[{'knn__n_neighbors': 1, 'knn__weights': 'uniform', 'pca__n_components': 1},\n",
       " {'knn__n_neighbors': 1, 'knn__weights': 'uniform', 'pca__n_components': 2},\n",
       " {'knn__n_neighbors': 1, 'knn__weights': 'uniform', 'pca__n_components': 3},\n",
       " {'knn__n_neighbors': 1, 'knn__weights': 'uniform', 'pca__n_components': 4},\n",
       " {'knn__n_neighbors': 1, 'knn__weights': 'uniform', 'pca__n_components': 5},\n",
       " {'knn__n_neighbors': 1, 'knn__weights': 'uniform', 'pca__n_components': 6},\n",
       " {'knn__n_neighbors': 1, 'knn__weights': 'uniform', 'pca__n_components': 7},\n",
       " {'knn__n_neighbors': 1, 'knn__weights': 'uniform', 'pca__n_components': 8},\n",
       " {'knn__n_neighbors': 1, 'knn__weights': 'uniform', 'pca__n_components': 9},\n",
       " {'knn__n_neighbors': 1, 'knn__weights': 'uniform', 'pca__n_components': 10},\n",
       " {'knn__n_neighbors': 1, 'knn__weights': 'distance', 'pca__n_components': 1},\n",
       " {'knn__n_neighbors': 1, 'knn__weights': 'distance', 'pca__n_components': 2}]"
      ]
     },
     "execution_count": 57,
     "metadata": {},
     "output_type": "execute_result"
    }
   ],
   "source": [
    "# GridSearchCV places the results in alphabetical order of paramter name\n",
    "grid.cv_results_['params'][:12]"
   ]
  },
  {
   "cell_type": "code",
   "execution_count": 58,
   "metadata": {},
   "outputs": [],
   "source": [
    "# Get the dimensions of the parameter grid\n",
    "def get_dim(grid):\n",
    "    dims = []\n",
    "    for key in sorted(grid.param_grid.keys()):\n",
    "        dims.append(len(grid.param_grid[key]))\n",
    "    return tuple(dims)"
   ]
  },
  {
   "cell_type": "code",
   "execution_count": 59,
   "metadata": {},
   "outputs": [
    {
     "data": {
      "text/plain": [
       "(4, 2, 10)"
      ]
     },
     "execution_count": 59,
     "metadata": {},
     "output_type": "execute_result"
    }
   ],
   "source": [
    "# dimensions of parameter grid\n",
    "get_dim(grid)"
   ]
  },
  {
   "cell_type": "markdown",
   "metadata": {},
   "source": [
    "These dimensions matche what is seen above for grid.cv_results_\\['params'\\]"
   ]
  },
  {
   "cell_type": "code",
   "execution_count": 60,
   "metadata": {},
   "outputs": [],
   "source": [
    "# get the test data out as an array\n",
    "def get_test_data(grid):\n",
    "    dim = get_dim(grid)\n",
    "    new_dim = (grid.cv.get_n_splits(), *dim)\n",
    "\n",
    "    result = np.zeros(new_dim)\n",
    "    for i, key in enumerate(get_test_scores(grid)):\n",
    "        data = np.array(grid.cv_results_[key])\n",
    "        data = data.reshape(dim)\n",
    "        result[i] = data\n",
    "\n",
    "    return result"
   ]
  },
  {
   "cell_type": "code",
   "execution_count": 61,
   "metadata": {},
   "outputs": [
    {
     "data": {
      "text/plain": [
       "(5, 4, 2, 10)"
      ]
     },
     "execution_count": 61,
     "metadata": {},
     "output_type": "execute_result"
    }
   ],
   "source": [
    "# K=5, so there are 5 (4,2,9) arrays\n",
    "get_test_data(grid).shape"
   ]
  },
  {
   "cell_type": "code",
   "execution_count": 62,
   "metadata": {},
   "outputs": [
    {
     "name": "stdout",
     "output_type": "stream",
     "text": [
      "(4, 2, 10)\n",
      "True\n"
     ]
    }
   ],
   "source": [
    "# verify the helper functions work properly\n",
    "\n",
    "# computing the mean along axis zero provides the mean of each \n",
    "# cross validated fold at every point in the paramater grid\n",
    "test_data = get_test_data(grid)\n",
    "mean_scores = test_data.mean(axis=0)\n",
    "print(mean_scores.shape)\n",
    "\n",
    "mean_scores2 = grid.cv_results_['mean_test_score']\n",
    "mean_scores2 = mean_scores2.reshape(get_dim(grid))\n",
    "print(np.allclose(mean_scores, mean_scores2, rtol=2e-5))"
   ]
  },
  {
   "cell_type": "markdown",
   "metadata": {},
   "source": [
    "So ** grid.cv_results_\\['mean_test_score'\\] ** is the same as the mean of the test scores retrieved by the helper functions"
   ]
  },
  {
   "cell_type": "code",
   "execution_count": 63,
   "metadata": {},
   "outputs": [
    {
     "name": "stdout",
     "output_type": "stream",
     "text": [
      "(4, 2, 10)\n",
      "True\n"
     ]
    }
   ],
   "source": [
    "# verify helper functions also work for the std scores\n",
    "\n",
    "# same as above\n",
    "test_data = get_test_data(grid)\n",
    "std_scores = test_data.std(axis=0)\n",
    "print(std_scores.shape)\n",
    "\n",
    "std_scores2 = grid.cv_results_['std_test_score']\n",
    "std_scores2 = std_scores2.reshape(get_dim(grid))\n",
    "print(np.allclose(std_scores, std_scores2, rtol=4e-5))"
   ]
  },
  {
   "cell_type": "code",
   "execution_count": 64,
   "metadata": {},
   "outputs": [],
   "source": [
    "# compute RMSE\n",
    "# each score on each fold is the negative mean squared error\n",
    "# the RMSE for a single value is the sqrt of the abs of that number\n",
    "# taking the mean over the K folds, creates a cross validated mean score for RMSE\n",
    "test_data = get_test_data(grid)\n",
    "rmse_scores = np.sqrt(np.abs(test_data)).mean(axis=0)\n",
    "\n",
    "# compute standard deviation of RMSE\n",
    "std_scores = np.sqrt(np.abs(test_data)).std(axis=0)"
   ]
  },
  {
   "cell_type": "markdown",
   "metadata": {},
   "source": [
    "It is not possible to get the RMSE values from the sqrt of the mean_test_score values\n",
    "```pre\n",
    "sqrt of abs of mean_test_score  = sqrt of abs of mean of neg-squared-error  \n",
    "rmse_scores                     = mean of sqrt of abs of neg-squared-error\n",
    "sqrt of abs of mean_test_score != rmse_scores\n",
    "```"
   ]
  },
  {
   "cell_type": "markdown",
   "metadata": {},
   "source": [
    "Same for standard deviations.\n",
    "\n",
    "```pre\n",
    "sqrt of abs of std_test_score  = sqrt of abs of std of neg-squared-error  \n",
    "std_scores                     = std of sqrt of abs of neg-squared-error\n",
    "sqrt of abs of std_test_score != std_scores \n",
    "```"
   ]
  },
  {
   "cell_type": "code",
   "execution_count": 65,
   "metadata": {},
   "outputs": [
    {
     "name": "stdout",
     "output_type": "stream",
     "text": [
      "(4, 10)\n"
     ]
    }
   ],
   "source": [
    "# split out the uniformly weighted from the distance weighted mean of the K target values\n",
    "rmse_uniform = rmse_scores[:,0,:]\n",
    "rmse_dist    = rmse_scores[:,1,:]\n",
    "std_uniform   = std_scores[:,0,:]\n",
    "std_dist      = std_scores[:,1,:]\n",
    "print(rmse_uniform.shape)"
   ]
  },
  {
   "cell_type": "code",
   "execution_count": 66,
   "metadata": {},
   "outputs": [
    {
     "data": {
      "text/plain": [
       "Text(0.5,1,'RMSE Uniform Weighting')"
      ]
     },
     "execution_count": 66,
     "metadata": {},
     "output_type": "execute_result"
    },
    {
     "data": {
      "image/png": "[encoded data removed]",
      "text/plain": [
       "<Figure size 1008x576 with 1 Axes>"
      ]
     },
     "metadata": {},
     "output_type": "display_data"
    }
   ],
   "source": [
    "# scale so annotation on plot is more readable\n",
    "df = pd.DataFrame(data=rmse_uniform/1e5, columns=n_components, index=n_neighbors)\n",
    "plt.figure(figsize=(14,8))\n",
    "sns.heatmap(df, linewidth=0.5, annot=True, cmap='inferno_r',fmt='4.2f', cbar=False)\n",
    "plt.xlabel('Number of PCA Dimenstions')\n",
    "plt.ylabel('K')\n",
    "plt.title('RMSE Uniform Weighting')"
   ]
  },
  {
   "cell_type": "code",
   "execution_count": 67,
   "metadata": {},
   "outputs": [
    {
     "data": {
      "text/plain": [
       "Text(0.5,1,'RMSE Distance Weighting')"
      ]
     },
     "execution_count": 67,
     "metadata": {},
     "output_type": "execute_result"
    },
    {
     "data": {
      "image/png": "[encoded data removed]",
      "text/plain": [
       "<Figure size 1008x576 with 1 Axes>"
      ]
     },
     "metadata": {},
     "output_type": "display_data"
    }
   ],
   "source": [
    "# scale so annotation on plot is more readable\n",
    "df = pd.DataFrame(data=rmse_dist/1e5, columns=n_components, index=n_neighbors)\n",
    "plt.figure(figsize=(14,8))\n",
    "sns.heatmap(df, linewidth=0.5, annot=True, cmap='inferno_r',fmt='4.2f', cbar=False)\n",
    "plt.xlabel('Number of PCA Dimenstions')\n",
    "plt.ylabel('K')\n",
    "plt.title('RMSE Distance Weighting')"
   ]
  },
  {
   "cell_type": "code",
   "execution_count": 68,
   "metadata": {},
   "outputs": [
    {
     "data": {
      "text/plain": [
       "Text(0.5,1,'Standard Devation of RMSE Uniform Weighting')"
      ]
     },
     "execution_count": 68,
     "metadata": {},
     "output_type": "execute_result"
    },
    {
     "data": {
      "image/png": "[encoded data removed]",
      "text/plain": [
       "<Figure size 1008x576 with 1 Axes>"
      ]
     },
     "metadata": {},
     "output_type": "display_data"
    }
   ],
   "source": [
    "# scale to annotation on plot is more readable\n",
    "df = pd.DataFrame(data=std_uniform/1e4, columns=n_components, index=n_neighbors)\n",
    "plt.figure(figsize=(14,8))\n",
    "sns.heatmap(df, linewidth=0.5, annot=True, cmap='inferno_r',fmt='4.2f', cbar=False)\n",
    "plt.xlabel('Number of PCA Dimenstions')\n",
    "plt.ylabel('K')\n",
    "plt.title('Standard Devation of RMSE Uniform Weighting')"
   ]
  },
  {
   "cell_type": "code",
   "execution_count": 69,
   "metadata": {},
   "outputs": [
    {
     "data": {
      "text/plain": [
       "Text(0.5,1,'Standard Devation of RMSE Distance Weighting')"
      ]
     },
     "execution_count": 69,
     "metadata": {},
     "output_type": "execute_result"
    },
    {
     "data": {
      "image/png": "[encoded data removed]",
      "text/plain": [
       "<Figure size 1008x576 with 1 Axes>"
      ]
     },
     "metadata": {},
     "output_type": "display_data"
    }
   ],
   "source": [
    "# scale to annotation on plot is more readable\n",
    "df = pd.DataFrame(data=std_dist/1e4, columns=n_components, index=n_neighbors)\n",
    "plt.figure(figsize=(14,8))\n",
    "sns.heatmap(df, linewidth=0.5, annot=True, cmap='inferno_r',fmt='4.2f', cbar=False)\n",
    "plt.xlabel('Number of PCA Dimenstions')\n",
    "plt.ylabel('K')\n",
    "plt.title('Standard Devation of RMSE Distance Weighting')"
   ]
  },
  {
   "cell_type": "markdown",
   "metadata": {},
   "source": [
    "Try cross_val_score using the same parameters"
   ]
  },
  {
   "cell_type": "code",
   "execution_count": 89,
   "metadata": {},
   "outputs": [
    {
     "data": {
      "text/plain": [
       "164481.62704016088"
      ]
     },
     "execution_count": 89,
     "metadata": {},
     "output_type": "execute_result"
    }
   ],
   "source": [
    "from sklearn.preprocessing import StandardScaler\n",
    "from sklearn.decomposition import PCA\n",
    "from sklearn.neighbors import KNeighborsRegressor\n",
    "from sklearn.pipeline import Pipeline\n",
    "from sklearn.model_selection import cross_val_score, KFold\n",
    "from sklearn.metrics import mean_squared_error\n",
    "\n",
    "scale = StandardScaler()\n",
    "pca = PCA(n_components=8)\n",
    "knn = KNeighborsRegressor(weights='distance', n_neighbors=10)\n",
    "\n",
    "pipe = Pipeline(steps=[('scale', scale),('pca',pca), ('knn',knn)])\n",
    "\n",
    "# setup an explict crossvalidation generator for repeatability\n",
    "k_folds = 5\n",
    "random_seed=108\n",
    "crossvalidation = KFold(n_splits=k_folds, shuffle=True, \n",
    "                        random_state=random_seed)\n",
    "\n",
    "scores = cross_val_score(pipe, X_all, y_all, cv=crossvalidation, \n",
    "                         scoring='neg_mean_squared_error', n_jobs=1)\n",
    "\n",
    "# RMSE\n",
    "rmse = np.sqrt(np.abs(scores)).mean()\n",
    "rmse"
   ]
  },
  {
   "cell_type": "code",
   "execution_count": 95,
   "metadata": {},
   "outputs": [
    {
     "name": "stdout",
     "output_type": "stream",
     "text": [
      "10\n",
      "distance\n",
      "8\n"
     ]
    },
    {
     "data": {
      "text/plain": [
       "164481.62704016088"
      ]
     },
     "execution_count": 95,
     "metadata": {},
     "output_type": "execute_result"
    }
   ],
   "source": [
    "# verify the rmse scores computed above match\n",
    "print(grid.param_grid['knn__n_neighbors'][2])\n",
    "print(grid.param_grid['knn__weights'][1])\n",
    "print(grid.param_grid['pca__n_components'][7])\n",
    "\n",
    "# RMSE for K = 10, weight = distance, PCA components = 8\n",
    "rmse_scores[2,1,7]"
   ]
  },
  {
   "cell_type": "markdown",
   "metadata": {},
   "source": [
    "### Cross Validation without Pipeline or cross_value_score\n",
    "The following produces exactly the same result as above.  It takes many more lines of code, but it is instructive for understanding how cross_value_score is using the pipeline behind the scences."
   ]
  },
  {
   "cell_type": "code",
   "execution_count": null,
   "metadata": {},
   "outputs": [],
   "source": [
    "# From Above\n",
    "k_folds = 10\n",
    "random_seed=5\n",
    "crossvalidation = KFold(n_splits=k_folds, shuffle=True, \n",
    "                        random_state=random_seed)\n",
    "\n",
    "scale = StandardScaler()\n",
    "pca = PCA(n_components=8)\n",
    "knn = KNeighborsRegressor(n_neighbors=4)\n",
    "\n",
    "# Use crossvalidation iterator explicitly\n",
    "my_scores = []\n",
    "for train_idx, test_idx in crossvalidation.split(X_all):\n",
    "    \n",
    "    # train subset\n",
    "    X_train = X_all.iloc[train_idx, :]\n",
    "    y_train = y_all.values[train_idx]\n",
    "    \n",
    "    X_train_std = scale.fit_transform(X_train)\n",
    "    X_train_std_pca = pca.fit_transform(X_train_std)\n",
    "    \n",
    "    # test subset\n",
    "    X_test = X_all.iloc[test_idx, :]\n",
    "    y_test = y_all.values[test_idx]\n",
    "    \n",
    "    X_test_std = scale.transform(X_test)\n",
    "    X_test_std_pca = pca.transform(X_test_std)\n",
    "\n",
    "    # fit model on train\n",
    "    knn.fit(X_train_std_pca, y_train)\n",
    "    \n",
    "    # predict using fitted model on test\n",
    "    predictions = knn.predict(X_test_std_pca)\n",
    "    \n",
    "    # evaluate accuracy\n",
    "    my_scores.append(mean_squared_error(y_test, predictions))\n",
    "\n",
    "# print results\n",
    "rmse2 = np.sqrt(np.abs(my_scores)).mean()\n",
    "print(rmse == rmse2)"
   ]
  },
  {
   "cell_type": "markdown",
   "metadata": {},
   "source": [
    "The above code produces exactly the same result as the more concise code that used a pipeline and cross_val_score()."
   ]
  },
  {
   "cell_type": "markdown",
   "metadata": {},
   "source": [
    "### Effect of Data Size and K Fold\n",
    "The full dataset consists of 21613 records.  We can simulate having less observations by taking a random sample of these records of smaller size.  In the following, the size of the sample varies on a log scale from 20% to 100% of the total data.\n",
    "\n",
    "A given random sample of data may be unrepresentative of the data as a whole.  To account for this, 10 bootstrap samples of the specified size are chosen (sampling with replacement) and the statics about those 10 samples are averaged.  Normally bootstrapping involves a lot more than 10 bootstrapped samples, but as the statistic of interest is the cross validated scores, this is computationally expensive.\n",
    "\n",
    "As the amount of data increases, the expectation is that the RMSE decreases.  The model is more accurate with more data to train on.\n",
    "\n",
    "As the amount of data increases, the expectation is that the standard deviation of the RMSE cross validated scores decreases.  With more data, the model can better focus on the signal from the noise, and produce a more stable prediction.\n",
    "\n",
    "Cross Validation provides an estimate of the model's performance.  It does not provide the model to be deployed to production. The model to be deployed to production should use all available data (unless there is so much data that this is unnecessary).\n",
    "\n",
    "Cross validation provides a pessimistic estimate of the model's performance because it is built on less than the full amount of available data. (\"Pessimistic\" in this context means that the estimated performance is worse than the actual performance.)  Of course, if there is \"data leakage\", then cross validation provides a wildly optimistic estimate of performance.  But this is not the fault of cross validation, rather the fault is in the model building process.\n",
    "\n",
    "Using 3 fold cross validation uses less data for model building (67%) than using 10 fold cross validation (90%).  As the number of folds goes up, the overly pessimistic bias goes down, and the estimate of model performance improves.\n",
    "\n",
    "Using 3 fold cross validation uses more data for the validation (33%) than using 10 fold cross validation (10%). As the number of folds goes up, the variance of the performance estimates also goes up, having less data to validate the model on.\n",
    "\n",
    "All of the above is graphically demonstrated below."
   ]
  },
  {
   "cell_type": "code",
   "execution_count": null,
   "metadata": {},
   "outputs": [],
   "source": [
    "from numpy.random import choice\n",
    "\n",
    "scale = StandardScaler()\n",
    "pca = PCA(n_components=8)\n",
    "knn = KNeighborsRegressor(n_neighbors=4)\n",
    "\n",
    "pipe = Pipeline(steps=[('scale', scale),('pca',pca), ('knn',knn)])\n",
    "\n",
    "# setup an explict crossvalidation generator for repeatability\n",
    "k_folds = 10\n",
    "random_seed=5\n",
    "crossvalidation = KFold(n_splits=k_folds, shuffle=True, \n",
    "                        random_state=random_seed)\n",
    "\n",
    "np.random.seed(9)\n",
    "df = pd.DataFrame()\n",
    "counter=0\n",
    "\n",
    "# 10 \"bootstraped\" subsets of the original data\n",
    "for i in range(10):\n",
    "    \n",
    "    # vary the number of folds\n",
    "    for k_folds in [3, 5, 10, 20]:\n",
    "        random_seed=5\n",
    "        crossvalidation = KFold(n_splits=k_folds, shuffle=True, \n",
    "                            random_state=random_seed)\n",
    "    \n",
    "        # use 10 different fractions of the total data\n",
    "        # those fractions are on a log scale from 0.2 to 1.0\n",
    "        for frac in np.logspace(np.log10(0.2), np.log10(1.0), 10):\n",
    "            \n",
    "            # this takes a long time, print something to be sure its running\n",
    "            counter += 1\n",
    "            print(counter, end=' ')\n",
    "            \n",
    "            # get a random sample of the data\n",
    "            n = int(frac*len(X_all))\n",
    "            idx = choice(len(X_all), size=n, replace=True)\n",
    "            X = X_all.iloc[idx]\n",
    "            y = y_all.values[idx]\n",
    "\n",
    "            # compute the K cross validated scores\n",
    "            scores = cross_val_score(pipe, X, y, cv=crossvalidation, \n",
    "                                 scoring='neg_mean_squared_error', n_jobs=1)\n",
    "\n",
    "            # scikit learn returns these as negative mean squared error\n",
    "            # more common is root-mean-squared-error\n",
    "            rmse_values = np.sqrt(np.abs(scores))\n",
    "            std_value = rmse_values.std()\n",
    "\n",
    "            # use the mean of the cross validated scores\n",
    "            rmse = rmse_values.mean()\n",
    "\n",
    "            # accumulate the results\n",
    "            df = df.append(pd.DataFrame(data=[[k_folds, n, rmse, std_value]], \n",
    "                                        columns=['k_fold', 'len', 'rmse', 'std']),\n",
    "                           ignore_index=True)"
   ]
  },
  {
   "cell_type": "code",
   "execution_count": null,
   "metadata": {},
   "outputs": [],
   "source": [
    "rmse_data = df.groupby(['k_fold', 'len'])['rmse'].mean()\n",
    "rmse_data.head(11)"
   ]
  },
  {
   "cell_type": "code",
   "execution_count": null,
   "metadata": {},
   "outputs": [],
   "source": [
    "type(rmse_data)"
   ]
  },
  {
   "cell_type": "code",
   "execution_count": null,
   "metadata": {},
   "outputs": [],
   "source": [
    "# applying the mean operator to the 2 field groupby creates\n",
    "# a Pandas series with a 2 part index\n",
    "# Data can be extracted via the outer index (K-fold)\n",
    "rmse_data[3]"
   ]
  },
  {
   "cell_type": "code",
   "execution_count": null,
   "metadata": {},
   "outputs": [],
   "source": [
    "# plot RMSE vs Sample Size for various values of K\n",
    "plt.figure(figsize=(12,6))\n",
    "rmse_data = df.groupby(['k_fold','len'])['rmse'].mean()\n",
    "for k in [3, 5, 10, 20]:\n",
    "    plt.plot(rmse_data.loc[k].index.values, rmse_data.loc[k].values, marker='o', label=k)\n",
    "plt.legend(title=\"K Folds\")\n",
    "plt.xlabel('Records')\n",
    "plt.ylabel('RMSE')\n",
    "plt.title('RMSE vs Records per K-Fold CV')"
   ]
  },
  {
   "cell_type": "markdown",
   "metadata": {},
   "source": [
    "The general trend that more data lowers the RMSE is clear.\n",
    "\n",
    "The general trend that more CV Folds results in a lower RMSE estimate is also clear.  This is because the amount of pessimisum in the bias is less, as there is more data available for training with more folds.\n",
    "\n",
    "Note: this does not mean the model \"built by k-fold cross validation\" with a higher number of folds is better.  The model to be deployed is not one of the models built during cross validation.  Rather this means that the estimate of the model's performance has less bias when k is larger."
   ]
  },
  {
   "cell_type": "code",
   "execution_count": null,
   "metadata": {},
   "outputs": [],
   "source": [
    "plt.figure(figsize=(12,6))\n",
    "std_data = df.groupby(['k_fold','len'])['std'].mean()\n",
    "for k in [3, 5, 10, 20]:\n",
    "    plt.plot(std_data.loc[k].index.values, std_data.loc[k].values, marker='o', label=k)\n",
    "plt.legend(title=\"K Folds\")\n",
    "plt.xlabel('Records')\n",
    "plt.ylabel('Standard Dev of RMSE')\n",
    "plt.title('Standard Dev of RMSE vs Records per K-Fold CV')"
   ]
  },
  {
   "cell_type": "markdown",
   "metadata": {},
   "source": [
    "The general trend that more data lowers the standard deviation of the RMSE estimate is clear.\n",
    "\n",
    "The general trend that more CV Folds results in more variance is also clear.  This is because there is less validation data available with the are more folds."
   ]
  },
  {
   "cell_type": "markdown",
   "metadata": {},
   "source": [
    "### Which Value of K is \"Best\"\n",
    "The Bias-Variance tradeoff means that for a more accurate estimate of the model's performance, the higher the variance of that estimate.  As such, there is no \"best\" value.\n",
    "\n",
    "For the above model, it might be argued that K=5 results in a good tradeoff of bias vs variance."
   ]
  }
 ],
 "metadata": {
  "kernelspec": {
   "display_name": "Python 3",
   "language": "python",
   "name": "python3"
  },
  "language_info": {
   "codemirror_mode": {
    "name": "ipython",
    "version": 3
   },
   "file_extension": ".py",
   "mimetype": "text/x-python",
   "name": "python",
   "nbconvert_exporter": "python",
   "pygments_lexer": "ipython3",
   "version": "3.6.5"
  }
 },
 "nbformat": 4,
 "nbformat_minor": 2
}
