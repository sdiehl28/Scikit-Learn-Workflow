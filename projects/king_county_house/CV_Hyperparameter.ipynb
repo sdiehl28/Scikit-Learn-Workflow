{
 "cells": [
  {
   "cell_type": "markdown",
   "metadata": {},
   "source": [
    "# Hyperparameter Tuning with GridSearchCV"
   ]
  },
  {
   "cell_type": "markdown",
   "metadata": {},
   "source": [
    "The [King County Housing Data](https://www.kaggle.com/harlfoxem/housesalesprediction/data) from Kaggle will be used.  The model will predict house price.\n",
    "\n",
    "Hyperparameters will be optimized."
   ]
  },
  {
   "cell_type": "markdown",
   "metadata": {},
   "source": [
    "### Common Imports and Notebook Setup"
   ]
  },
  {
   "cell_type": "code",
   "execution_count": 1,
   "metadata": {},
   "outputs": [],
   "source": [
    "import numpy as np\n",
    "import pandas as pd\n",
    "import matplotlib.pyplot as plt\n",
    "import seaborn as sns\n",
    "import sklearn as sk\n",
    "%matplotlib inline\n",
    "sns.set() # enable seaborn style"
   ]
  },
  {
   "cell_type": "markdown",
   "metadata": {},
   "source": [
    "### Prior Notebook Setup\n",
    "As per [Cross Validation: W and W/O cross_val_score](http://nbviewer.jupyter.org/github/sdiehl28/tutorial-jupyter-notebooks/blob/master/projects/king_county/CV_Pipeline.ipynb)"
   ]
  },
  {
   "cell_type": "code",
   "execution_count": 2,
   "metadata": {},
   "outputs": [
    {
     "name": "stdout",
     "output_type": "stream",
     "text": [
      "(21436, 16)\n",
      "(21436,)\n"
     ]
    }
   ],
   "source": [
    "# read king county housing data\n",
    "parser = lambda date: pd.datetime.strptime(date, '%Y%m%dT%H%M%S')\n",
    "all_data = pd.read_csv('./data/kc_house_data.csv', parse_dates=['date'], date_parser=parser)\n",
    "\n",
    "# compute mean sales price per house\n",
    "mean_price_by_id = all_data.groupby(['id'])['price'].mean()\n",
    "\n",
    "# convert this to a data frame\n",
    "mean_price_by_id = pd.DataFrame(mean_price_by_id).reset_index()\n",
    "\n",
    "# join on id to get a new column for mean price\n",
    "all_data = all_data.merge(right=mean_price_by_id, on='id', suffixes=['_orig', '_mean'])\n",
    "\n",
    "# drop original price and de-dup the records\n",
    "all_data = all_data.drop('price_orig', axis=1).drop_duplicates(subset='id')\n",
    "\n",
    "# remove id and date fields\n",
    "all_data = all_data.drop(['id', 'date'], axis=1)\n",
    "\n",
    "# repace yr_built with yr_renovated if yr_renovated != 0\n",
    "mask = all_data['yr_renovated'] != 0\n",
    "all_data.loc[mask, 'yr_built'] = all_data.loc[mask, 'yr_renovated']\n",
    "all_data = all_data.drop('yr_renovated',axis=1)\n",
    "\n",
    "all_data = all_data.drop(['zipcode'], axis=1)\n",
    "\n",
    "X_all = all_data.drop('price_mean', axis=1)\n",
    "y_all = all_data['price_mean']\n",
    "print(X_all.shape)\n",
    "print(y_all.shape)"
   ]
  },
  {
   "cell_type": "markdown",
   "metadata": {},
   "source": [
    "### Hyperparameter Space\n",
    "The hyperparameter search space will be:\n",
    "\n",
    "* number of PCA transformed dimensions\n",
    "* uniform vs distance weighting of K nearest neighbors\n",
    "* K in KNN"
   ]
  },
  {
   "cell_type": "markdown",
   "metadata": {},
   "source": [
    "#### PCA Dimensions"
   ]
  },
  {
   "cell_type": "code",
   "execution_count": 3,
   "metadata": {},
   "outputs": [],
   "source": [
    "from sklearn.preprocessing import StandardScaler\n",
    "from sklearn.decomposition import PCA\n",
    "scale = StandardScaler()\n",
    "pca = PCA()\n",
    "pca_info = pca.fit(scale.fit_transform(X_all))"
   ]
  },
  {
   "cell_type": "code",
   "execution_count": 4,
   "metadata": {},
   "outputs": [
    {
     "data": {
      "text/plain": [
       "array([0.3211265 , 0.44596915, 0.55889199, 0.63903731, 0.70465213,\n",
       "       0.75889921, 0.80778883, 0.84880948, 0.88731471, 0.91846148,\n",
       "       0.93968511, 0.95755277, 0.973559  , 0.98770019, 1.        ,\n",
       "       1.        ])"
      ]
     },
     "execution_count": 4,
     "metadata": {},
     "output_type": "execute_result"
    }
   ],
   "source": [
    "np.cumsum(pca_info.explained_variance_ratio_)"
   ]
  },
  {
   "cell_type": "code",
   "execution_count": 5,
   "metadata": {},
   "outputs": [
    {
     "data": {
      "text/plain": [
       "Text(0.5,1,'Cumulative Variance Explained')"
      ]
     },
     "execution_count": 5,
     "metadata": {},
     "output_type": "execute_result"
    },
    {
     "data": {
      "image/png": "[encoded data removed]",
      "text/plain": [
       "<Figure size 720x360 with 1 Axes>"
      ]
     },
     "metadata": {},
     "output_type": "display_data"
    }
   ],
   "source": [
    "plt.figure(figsize=(10,5))\n",
    "plt.plot(np.arange(1,17), np.cumsum(pca_info.explained_variance_ratio_))\n",
    "plt.xlabel('Number of Features')\n",
    "plt.title('Cumulative Variance Explained')"
   ]
  },
  {
   "cell_type": "markdown",
   "metadata": {},
   "source": [
    "At 9 features, we reach about 90% of the variance explained.  Let's try up to 9 features."
   ]
  },
  {
   "cell_type": "code",
   "execution_count": 6,
   "metadata": {},
   "outputs": [
    {
     "data": {
      "text/plain": [
       "[1, 2, 3, 4, 5, 6, 7, 8, 9]"
      ]
     },
     "execution_count": 6,
     "metadata": {},
     "output_type": "execute_result"
    }
   ],
   "source": [
    "# Number of PCA components to try\n",
    "n_components = list(np.arange(9)+1)\n",
    "n_components"
   ]
  },
  {
   "cell_type": "markdown",
   "metadata": {},
   "source": [
    "#### Uniform vs Distance Weighting\n",
    "KNN has an option for how it averages the points it finds in nearby space.  'Uniform' means to average the target value (e.g. housing price) of the K closest points as the prediction.  'Distance\" means to perform a weighted average of the K closest points where points further away are weighted less."
   ]
  },
  {
   "cell_type": "code",
   "execution_count": 7,
   "metadata": {},
   "outputs": [],
   "source": [
    "weights = ['uniform', 'distance']"
   ]
  },
  {
   "cell_type": "markdown",
   "metadata": {},
   "source": [
    "#### K for KNN"
   ]
  },
  {
   "cell_type": "code",
   "execution_count": 8,
   "metadata": {},
   "outputs": [
    {
     "data": {
      "text/plain": [
       "[1, 5, 10, 20]"
      ]
     },
     "execution_count": 8,
     "metadata": {},
     "output_type": "execute_result"
    }
   ],
   "source": [
    "# K in KNN\n",
    "n_neighbors = [1, 5, 10, 20]\n",
    "n_neighbors"
   ]
  },
  {
   "cell_type": "markdown",
   "metadata": {},
   "source": [
    "#### Hyperparameter Space"
   ]
  },
  {
   "cell_type": "code",
   "execution_count": 9,
   "metadata": {},
   "outputs": [],
   "source": [
    "param_grid = {\n",
    "        'pca__n_components': n_components,\n",
    "        'knn__n_neighbors': n_neighbors,\n",
    "        'knn__weights':weights\n",
    "}"
   ]
  },
  {
   "cell_type": "markdown",
   "metadata": {},
   "source": [
    "### Dask and DASK-ML\n",
    "Searching through hyperparameter space is time consuming and embarassingly parallel.  Use Dask and DASK-ML to efficient parallelize the computations.  This is optional.\n",
    "\n",
    "Here Dask will only be used for finding hyperparameters more quickly.  My computing setup is 2 desktop computers, each with 4 physical cores and hyperthreading.  Again, Dask specific commands can be ignored."
   ]
  },
  {
   "cell_type": "code",
   "execution_count": 10,
   "metadata": {},
   "outputs": [
    {
     "data": {
      "text/html": [
       "<table style=\"border: 2px solid white;\">\n",
       "<tr>\n",
       "<td style=\"vertical-align: top; border: 0px solid white\">\n",
       "<h3>Client</h3>\n",
       "<ul>\n",
       "  <li><b>Scheduler: </b>tcp://192.168.168.67:8786\n",
       "  <li><b>Dashboard: </b><a href='http://192.168.168.67:8787/status' target='_blank'>http://192.168.168.67:8787/status</a>\n",
       "</ul>\n",
       "</td>\n",
       "<td style=\"vertical-align: top; border: 0px solid white\">\n",
       "<h3>Cluster</h3>\n",
       "<ul>\n",
       "  <li><b>Workers: </b>2</li>\n",
       "  <li><b>Cores: </b>8</li>\n",
       "  <li><b>Memory: </b>67.45 GB</li>\n",
       "</ul>\n",
       "</td>\n",
       "</tr>\n",
       "</table>"
      ],
      "text/plain": [
       "<Client: scheduler='tcp://192.168.168.67:8786' processes=2 cores=8>"
      ]
     },
     "execution_count": 10,
     "metadata": {},
     "output_type": "execute_result"
    }
   ],
   "source": [
    "# Dask setup\n",
    "# all commands in this cell can be ignored\n",
    "import dask_ml.joblib\n",
    "from sklearn.externals.joblib import parallel_backend\n",
    "from sklearn.model_selection import RandomizedSearchCV, GridSearchCV\n",
    "\n",
    "from dask.distributed import Client\n",
    "client = Client('192.168.168.67:8786')\n",
    "client"
   ]
  },
  {
   "cell_type": "code",
   "execution_count": 11,
   "metadata": {},
   "outputs": [],
   "source": [
    "from sklearn.preprocessing import StandardScaler\n",
    "from sklearn.decomposition import PCA\n",
    "from sklearn.neighbors import KNeighborsRegressor\n",
    "from sklearn.pipeline import Pipeline\n",
    "from sklearn.model_selection import cross_val_score, KFold, GridSearchCV\n",
    "from sklearn.metrics import mean_squared_error\n",
    "from time import time\n",
    "\n",
    "scale = StandardScaler()\n",
    "pca = PCA()\n",
    "knn = KNeighborsRegressor()\n",
    "\n",
    "pipe = Pipeline(steps=[('scale', scale),('pca',pca), ('knn',knn)])\n",
    "\n",
    "# setup an explict cv generator for repeatability\n",
    "k_folds = 5\n",
    "random_seed=108\n",
    "cv = KFold(n_splits=k_folds, shuffle=True, random_state=random_seed)\n",
    "\n",
    "grid = GridSearchCV(pipe, cv=cv, n_jobs=-1, param_grid=param_grid, \n",
    "                    scoring='neg_mean_squared_error', verbose=1)"
   ]
  },
  {
   "cell_type": "code",
   "execution_count": 12,
   "metadata": {},
   "outputs": [
    {
     "name": "stdout",
     "output_type": "stream",
     "text": [
      "Fitting 5 folds for each of 72 candidates, totalling 360 fits\n"
     ]
    },
    {
     "name": "stderr",
     "output_type": "stream",
     "text": [
      "[Parallel(n_jobs=-1)]: Done  34 tasks      | elapsed:    1.9s\n",
      "[Parallel(n_jobs=-1)]: Done 184 tasks      | elapsed:   12.5s\n"
     ]
    },
    {
     "name": "stdout",
     "output_type": "stream",
     "text": [
      "GridSearchCV Time:  35.0 seconds\n"
     ]
    },
    {
     "name": "stderr",
     "output_type": "stream",
     "text": [
      "[Parallel(n_jobs=-1)]: Done 360 out of 360 | elapsed:   34.9s finished\n"
     ]
    }
   ],
   "source": [
    "# the only dask command is: with parallel_backend ...\n",
    "start = time()\n",
    "with parallel_backend('dask.distributed', scheduler_host='192.168.168.67:8786'):\n",
    "    grid.fit(X_all, y_all)\n",
    "    # scores = cross_val_score(grid, X_all, y_all, cv=3)\n",
    "    \n",
    "print(f'GridSearchCV Time: {time() - start: 5.1f} seconds')"
   ]
  },
  {
   "cell_type": "markdown",
   "metadata": {},
   "source": [
    "### GridSearchCV Results\n",
    "The results for the cross validated grid search are stored in grid.cv_results_. As per [Cross Validation: W and W/O cross_val_score](http://nbviewer.jupyter.org/github/sdiehl28/tutorial-jupyter-notebooks/blob/master/projects/king_county/CV_Pipeline.ipynb) computing the correct RMSE and standard deviation of the RMSE requires access to the individual cross validated scores."
   ]
  },
  {
   "cell_type": "markdown",
   "metadata": {},
   "source": [
    "### Helper Functions to get Data from grid.cv_results\n",
    "cross_val_score returns an array of values, one per fold.  GridSearchCV does not, however this form easiest to work with.  The following helper functions will reorganize cv_results_ to create a multidimensional array of values.\n",
    "\n",
    "The dimensions of the array will be:\n",
    "* K of KFold\n",
    "* n_components of PCA\n",
    "* weighting strategy for KNN Regression\n",
    "* n_neighbors for KNN"
   ]
  },
  {
   "cell_type": "code",
   "execution_count": 13,
   "metadata": {},
   "outputs": [],
   "source": [
    "# find the dictionary keys to access each CV fold\n",
    "def get_test_score_keys(grid):\n",
    "    keys = []\n",
    "    for key in grid.cv_results_.keys():\n",
    "        if 'split' in key and 'test' in key:\n",
    "            keys.append(key)\n",
    "    return keys"
   ]
  },
  {
   "cell_type": "code",
   "execution_count": 14,
   "metadata": {},
   "outputs": [
    {
     "data": {
      "text/plain": [
       "['split0_test_score',\n",
       " 'split1_test_score',\n",
       " 'split2_test_score',\n",
       " 'split3_test_score',\n",
       " 'split4_test_score']"
      ]
     },
     "execution_count": 14,
     "metadata": {},
     "output_type": "execute_result"
    }
   ],
   "source": [
    "# keys for K fold test scores\n",
    "get_test_score_keys(grid)"
   ]
  },
  {
   "cell_type": "code",
   "execution_count": 15,
   "metadata": {},
   "outputs": [
    {
     "data": {
      "text/plain": [
       "{'pca__n_components': [1, 2, 3, 4, 5, 6, 7, 8, 9],\n",
       " 'knn__n_neighbors': [1, 5, 10, 20],\n",
       " 'knn__weights': ['uniform', 'distance']}"
      ]
     },
     "execution_count": 15,
     "metadata": {},
     "output_type": "execute_result"
    }
   ],
   "source": [
    "# paramter grid passed in\n",
    "grid.param_grid"
   ]
  },
  {
   "cell_type": "code",
   "execution_count": 16,
   "metadata": {},
   "outputs": [
    {
     "data": {
      "text/plain": [
       "[{'knn__n_neighbors': 1, 'knn__weights': 'uniform', 'pca__n_components': 1},\n",
       " {'knn__n_neighbors': 1, 'knn__weights': 'uniform', 'pca__n_components': 2},\n",
       " {'knn__n_neighbors': 1, 'knn__weights': 'uniform', 'pca__n_components': 3},\n",
       " {'knn__n_neighbors': 1, 'knn__weights': 'uniform', 'pca__n_components': 4},\n",
       " {'knn__n_neighbors': 1, 'knn__weights': 'uniform', 'pca__n_components': 5},\n",
       " {'knn__n_neighbors': 1, 'knn__weights': 'uniform', 'pca__n_components': 6},\n",
       " {'knn__n_neighbors': 1, 'knn__weights': 'uniform', 'pca__n_components': 7},\n",
       " {'knn__n_neighbors': 1, 'knn__weights': 'uniform', 'pca__n_components': 8},\n",
       " {'knn__n_neighbors': 1, 'knn__weights': 'uniform', 'pca__n_components': 9},\n",
       " {'knn__n_neighbors': 1, 'knn__weights': 'distance', 'pca__n_components': 1}]"
      ]
     },
     "execution_count": 16,
     "metadata": {},
     "output_type": "execute_result"
    }
   ],
   "source": [
    "# GridSearchCV places the results in alphabetical order of paramter name\n",
    "grid.cv_results_['params'][:10]"
   ]
  },
  {
   "cell_type": "code",
   "execution_count": 17,
   "metadata": {},
   "outputs": [],
   "source": [
    "# Get the dimensions of the parameter grid\n",
    "def get_dim(grid):\n",
    "    dims = []\n",
    "    for key in sorted(grid.param_grid.keys()):\n",
    "        dims.append(len(grid.param_grid[key]))\n",
    "    return tuple(dims)"
   ]
  },
  {
   "cell_type": "code",
   "execution_count": 18,
   "metadata": {},
   "outputs": [
    {
     "data": {
      "text/plain": [
       "(4, 2, 9)"
      ]
     },
     "execution_count": 18,
     "metadata": {},
     "output_type": "execute_result"
    }
   ],
   "source": [
    "# dimensions of parameter grid\n",
    "get_dim(grid)"
   ]
  },
  {
   "cell_type": "markdown",
   "metadata": {},
   "source": [
    "These dimensions match what is seen above for grid.cv_results_\\['params'\\]"
   ]
  },
  {
   "cell_type": "code",
   "execution_count": 19,
   "metadata": {},
   "outputs": [],
   "source": [
    "# convert the CV test scores to an array\n",
    "def get_test_data(grid):\n",
    "    dim = get_dim(grid)\n",
    "    new_dim = (grid.cv.get_n_splits(), *dim)\n",
    "\n",
    "    result = np.zeros(new_dim)\n",
    "    for i, key in enumerate(get_test_score_keys(grid)):\n",
    "        data = np.array(grid.cv_results_[key])\n",
    "        data = data.reshape(dim)\n",
    "        result[i] = data\n",
    "\n",
    "    return result"
   ]
  },
  {
   "cell_type": "code",
   "execution_count": 20,
   "metadata": {},
   "outputs": [
    {
     "data": {
      "text/plain": [
       "(5, 4, 2, 9)"
      ]
     },
     "execution_count": 20,
     "metadata": {},
     "output_type": "execute_result"
    }
   ],
   "source": [
    "# There are 5 (4,2,9) CV test scores\n",
    "get_test_data(grid).shape"
   ]
  },
  {
   "cell_type": "code",
   "execution_count": 21,
   "metadata": {},
   "outputs": [
    {
     "name": "stdout",
     "output_type": "stream",
     "text": [
      "(4, 2, 9)\n",
      "True\n"
     ]
    }
   ],
   "source": [
    "# verify the helper functions work properly\n",
    "\n",
    "# compute mean test score using numpy array\n",
    "test_data = get_test_data(grid)\n",
    "mean_scores = test_data.mean(axis=0)\n",
    "print(mean_scores.shape)\n",
    "\n",
    "# retrieve mean test score from cv_results_\n",
    "mean_scores2 = grid.cv_results_['mean_test_score']\n",
    "mean_scores2 = mean_scores2.reshape(get_dim(grid))\n",
    "\n",
    "# verify that every value is (almost) the same\n",
    "print(np.allclose(mean_scores, mean_scores2, rtol=2e-5))"
   ]
  },
  {
   "cell_type": "markdown",
   "metadata": {},
   "source": [
    "Helper methods produced same result."
   ]
  },
  {
   "cell_type": "code",
   "execution_count": 22,
   "metadata": {},
   "outputs": [
    {
     "name": "stdout",
     "output_type": "stream",
     "text": [
      "(4, 2, 9)\n",
      "True\n"
     ]
    }
   ],
   "source": [
    "# verify the helper functions work properly for std as well\n",
    "\n",
    "test_data = get_test_data(grid)\n",
    "std_scores = test_data.std(axis=0)\n",
    "print(std_scores.shape)\n",
    "\n",
    "std_scores2 = grid.cv_results_['std_test_score']\n",
    "std_scores2 = std_scores2.reshape(get_dim(grid))\n",
    "print(np.allclose(std_scores, std_scores2, rtol=6e-5))"
   ]
  },
  {
   "cell_type": "markdown",
   "metadata": {},
   "source": [
    "As per [Cross Validation: W and W/O cross_val_score](http://nbviewer.jupyter.org/github/sdiehl28/tutorial-jupyter-notebooks/blob/master/projects/king_county/CV_Pipeline.ipynb) in the section RMSE Computation.\n",
    "\n",
    "It is not possible to get RMSE and standard deviation of RMSE, from cv_results_ 'mean_test_score' and 'std_test_score' as these vaules are based on MSE, not RMSE."
   ]
  },
  {
   "cell_type": "code",
   "execution_count": 23,
   "metadata": {},
   "outputs": [],
   "source": [
    "# compute RMSE\n",
    "test_data = get_test_data(grid)\n",
    "rmse_scores = np.sqrt(np.abs(test_data)).mean(axis=0)\n",
    "\n",
    "# compute standard deviation of RMSE\n",
    "std_scores = np.sqrt(np.abs(test_data)).std(axis=0)"
   ]
  },
  {
   "cell_type": "markdown",
   "metadata": {},
   "source": [
    "### Examine Hyperparameter Space\n",
    "Create 2 2D arrays, one for each weighting scheme.\n",
    "\n",
    "Examine each 2D array as heatmap to see where the best model performance is."
   ]
  },
  {
   "cell_type": "code",
   "execution_count": 24,
   "metadata": {},
   "outputs": [
    {
     "name": "stdout",
     "output_type": "stream",
     "text": [
      "(4, 9)\n"
     ]
    }
   ],
   "source": [
    "# split out the uniformly weighted from the distance weighted mean of the K target values\n",
    "rmse_uniform = rmse_scores[:,0,:]\n",
    "rmse_dist    = rmse_scores[:,1,:]\n",
    "std_uniform   = std_scores[:,0,:]\n",
    "std_dist      = std_scores[:,1,:]\n",
    "print(rmse_uniform.shape)"
   ]
  },
  {
   "cell_type": "code",
   "execution_count": 25,
   "metadata": {},
   "outputs": [
    {
     "data": {
      "text/plain": [
       "Text(0.5,1,'RMSE Uniform Weighting')"
      ]
     },
     "execution_count": 25,
     "metadata": {},
     "output_type": "execute_result"
    },
    {
     "data": {
      "image/png": "[encoded data removed]",
      "text/plain": [
       "<Figure size 1008x576 with 1 Axes>"
      ]
     },
     "metadata": {},
     "output_type": "display_data"
    }
   ],
   "source": [
    "# scale so annotation on plot is more readable\n",
    "df = pd.DataFrame(data=rmse_uniform/1e5, columns=n_components, index=n_neighbors)\n",
    "plt.figure(figsize=(14,8))\n",
    "sns.heatmap(df, linewidth=0.5, annot=True, cmap='inferno_r',fmt='4.2f', cbar=False)\n",
    "plt.xlabel('Number of PCA Dimenstions')\n",
    "plt.ylabel('K')\n",
    "plt.title('RMSE Uniform Weighting')"
   ]
  },
  {
   "cell_type": "code",
   "execution_count": 26,
   "metadata": {},
   "outputs": [
    {
     "data": {
      "text/plain": [
       "Text(0.5,1,'RMSE Distance Weighting')"
      ]
     },
     "execution_count": 26,
     "metadata": {},
     "output_type": "execute_result"
    },
    {
     "data": {
      "image/png": "[encoded data removed]",
      "text/plain": [
       "<Figure size 1008x576 with 1 Axes>"
      ]
     },
     "metadata": {},
     "output_type": "display_data"
    }
   ],
   "source": [
    "# scale so annotation on plot is more readable\n",
    "df = pd.DataFrame(data=rmse_dist/1e5, columns=n_components, index=n_neighbors)\n",
    "plt.figure(figsize=(14,8))\n",
    "sns.heatmap(df, linewidth=0.5, annot=True, cmap='inferno_r',fmt='4.2f', cbar=False)\n",
    "plt.xlabel('Number of PCA Dimenstions')\n",
    "plt.ylabel('K')\n",
    "plt.title('RMSE Distance Weighting')"
   ]
  },
  {
   "cell_type": "code",
   "execution_count": 27,
   "metadata": {},
   "outputs": [
    {
     "data": {
      "text/plain": [
       "Text(0.5,1,'Standard Devation of RMSE Uniform Weighting')"
      ]
     },
     "execution_count": 27,
     "metadata": {},
     "output_type": "execute_result"
    },
    {
     "data": {
      "image/png": "[encoded data removed]",
      "text/plain": [
       "<Figure size 1008x576 with 1 Axes>"
      ]
     },
     "metadata": {},
     "output_type": "display_data"
    }
   ],
   "source": [
    "# scale to annotation on plot is more readable\n",
    "df = pd.DataFrame(data=std_uniform/1e3, columns=n_components, index=n_neighbors)\n",
    "plt.figure(figsize=(14,8))\n",
    "sns.heatmap(df, linewidth=0.5, annot=True, cmap='inferno_r',fmt='4.2f', cbar=False)\n",
    "plt.xlabel('Number of PCA Dimenstions')\n",
    "plt.ylabel('K')\n",
    "plt.title('Standard Devation of RMSE Uniform Weighting')"
   ]
  },
  {
   "cell_type": "code",
   "execution_count": 28,
   "metadata": {},
   "outputs": [
    {
     "data": {
      "text/plain": [
       "Text(0.5,1,'Standard Devation of RMSE Distance Weighting')"
      ]
     },
     "execution_count": 28,
     "metadata": {},
     "output_type": "execute_result"
    },
    {
     "data": {
      "image/png": "[encoded data removed]",
      "text/plain": [
       "<Figure size 1008x576 with 1 Axes>"
      ]
     },
     "metadata": {},
     "output_type": "display_data"
    }
   ],
   "source": [
    "# scale to annotation on plot is more readable\n",
    "df = pd.DataFrame(data=std_dist/1e3, columns=n_components, index=n_neighbors)\n",
    "plt.figure(figsize=(14,8))\n",
    "sns.heatmap(df, linewidth=0.5, annot=True, cmap='inferno_r',fmt='4.2f', cbar=False)\n",
    "plt.xlabel('Number of PCA Dimenstions')\n",
    "plt.ylabel('K')\n",
    "plt.title('Standard Devation of RMSE Distance Weighting')"
   ]
  },
  {
   "cell_type": "markdown",
   "metadata": {},
   "source": [
    "Best score was (10, distance, 8).  Compute these again with cross_val_score() to verify results."
   ]
  },
  {
   "cell_type": "code",
   "execution_count": 29,
   "metadata": {},
   "outputs": [
    {
     "data": {
      "text/plain": [
       "160024.18177278718"
      ]
     },
     "execution_count": 29,
     "metadata": {},
     "output_type": "execute_result"
    }
   ],
   "source": [
    "from sklearn.preprocessing import StandardScaler\n",
    "from sklearn.decomposition import PCA\n",
    "from sklearn.neighbors import KNeighborsRegressor\n",
    "from sklearn.pipeline import Pipeline\n",
    "from sklearn.model_selection import cross_val_score, KFold\n",
    "from sklearn.metrics import mean_squared_error\n",
    "\n",
    "scale = StandardScaler()\n",
    "pca = PCA(n_components=8)\n",
    "knn = KNeighborsRegressor(weights='distance', n_neighbors=10)\n",
    "\n",
    "pipe = Pipeline(steps=[('scale', scale),('pca',pca), ('knn',knn)])\n",
    "\n",
    "# setup an explict cv generator for repeatability\n",
    "k_folds = 5\n",
    "random_seed=108\n",
    "cv = KFold(n_splits=k_folds, shuffle=True, random_state=random_seed)\n",
    "\n",
    "# with parallel_backend('dask.distributed', scheduler_host='192.168.168.67:8786'):\n",
    "scores = cross_val_score(pipe, X_all, y_all, cv=cv, \n",
    "                             scoring='neg_mean_squared_error', n_jobs=1)\n",
    "\n",
    "# RMSE\n",
    "rmse = np.sqrt(np.abs(scores)).mean()\n",
    "rmse"
   ]
  },
  {
   "cell_type": "code",
   "execution_count": 30,
   "metadata": {},
   "outputs": [
    {
     "name": "stdout",
     "output_type": "stream",
     "text": [
      "10\n",
      "distance\n",
      "8\n",
      "True\n"
     ]
    }
   ],
   "source": [
    "# verify the rmse scores computed above match\n",
    "print(grid.param_grid['knn__n_neighbors'][2])\n",
    "print(grid.param_grid['knn__weights'][1])\n",
    "print(grid.param_grid['pca__n_components'][7])\n",
    "\n",
    "# RMSE for K = 10, weight = distance, PCA components = 8\n",
    "rmse_scores[2,1,7]\n",
    "print(np.allclose(rmse, rmse_scores[2,1,7]))"
   ]
  },
  {
   "cell_type": "markdown",
   "metadata": {},
   "source": [
    "### Analysis of Results\n",
    "Put that here ...\n",
    "Refere to LearningCurve and BiasCorrection nb"
   ]
  }
 ],
 "metadata": {
  "kernelspec": {
   "display_name": "Python 3",
   "language": "python",
   "name": "python3"
  },
  "language_info": {
   "codemirror_mode": {
    "name": "ipython",
    "version": 3
   },
   "file_extension": ".py",
   "mimetype": "text/x-python",
   "name": "python",
   "nbconvert_exporter": "python",
   "pygments_lexer": "ipython3",
   "version": "3.6.5"
  }
 },
 "nbformat": 4,
 "nbformat_minor": 2
}
