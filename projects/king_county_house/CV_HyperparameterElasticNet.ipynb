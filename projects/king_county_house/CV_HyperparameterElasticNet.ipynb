{
 "cells": [
  {
   "cell_type": "markdown",
   "metadata": {},
   "source": [
    "# Hyperparameter Tuning with GridSearchCV"
   ]
  },
  {
   "cell_type": "markdown",
   "metadata": {},
   "source": [
    "The [King County Housing Data](https://www.kaggle.com/harlfoxem/housesalesprediction/data) from Kaggle will be used.  The model will predict house price.\n",
    "\n",
    "Hyperparameters will be optimized."
   ]
  },
  {
   "cell_type": "markdown",
   "metadata": {},
   "source": [
    "### Common Imports and Notebook Setup"
   ]
  },
  {
   "cell_type": "code",
   "execution_count": 24,
   "metadata": {},
   "outputs": [],
   "source": [
    "import numpy as np\n",
    "import pandas as pd\n",
    "import matplotlib.pyplot as plt\n",
    "import seaborn as sns\n",
    "import sklearn as sk\n",
    "%matplotlib inline\n",
    "sns.set() # enable seaborn style"
   ]
  },
  {
   "cell_type": "markdown",
   "metadata": {},
   "source": [
    "### Prior Notebook Setup\n",
    "As per [Cross Validation: W and W/O cross_val_score](http://nbviewer.jupyter.org/github/sdiehl28/tutorial-jupyter-notebooks/blob/master/projects/king_county/CV_Pipeline.ipynb)"
   ]
  },
  {
   "cell_type": "code",
   "execution_count": 25,
   "metadata": {},
   "outputs": [
    {
     "name": "stdout",
     "output_type": "stream",
     "text": [
      "(21436, 16)\n",
      "(21436,)\n"
     ]
    }
   ],
   "source": [
    "# read king county housing data\n",
    "parser = lambda date: pd.datetime.strptime(date, '%Y%m%dT%H%M%S')\n",
    "all_data = pd.read_csv('./data/kc_house_data.csv', parse_dates=['date'], date_parser=parser)\n",
    "\n",
    "# compute mean sales price per house\n",
    "mean_price_by_id = all_data.groupby(['id'])['price'].mean()\n",
    "\n",
    "# convert this to a data frame\n",
    "mean_price_by_id = pd.DataFrame(mean_price_by_id).reset_index()\n",
    "\n",
    "# join on id to get a new column for mean price\n",
    "all_data = all_data.merge(right=mean_price_by_id, on='id', suffixes=['_orig', '_mean'])\n",
    "\n",
    "# drop original price and de-dup the records\n",
    "all_data = all_data.drop('price_orig', axis=1).drop_duplicates(subset='id')\n",
    "\n",
    "# remove id and date fields\n",
    "all_data = all_data.drop(['id', 'date'], axis=1)\n",
    "\n",
    "# repace yr_built with yr_renovated if yr_renovated != 0\n",
    "mask = all_data['yr_renovated'] != 0\n",
    "all_data.loc[mask, 'yr_built'] = all_data.loc[mask, 'yr_renovated']\n",
    "all_data = all_data.drop('yr_renovated',axis=1)\n",
    "\n",
    "all_data = all_data.drop(['zipcode'], axis=1)\n",
    "\n",
    "X_all = all_data.drop('price_mean', axis=1)\n",
    "y_all = all_data['price_mean']\n",
    "print(X_all.shape)\n",
    "print(y_all.shape)"
   ]
  },
  {
   "cell_type": "markdown",
   "metadata": {},
   "source": [
    "### Dask and DASK-ML\n",
    "Searching through hyperparameter space is time consuming and embarassingly parallel.  Use Dask and DASK-ML to efficient parallelize the computations.  This is optional.\n",
    "\n",
    "Here Dask will only be used for finding hyperparameters more quickly.  My computing setup is 2 desktop computers, each with 4 physical cores and hyperthreading.  Again, Dask specific commands can be ignored."
   ]
  },
  {
   "cell_type": "code",
   "execution_count": 26,
   "metadata": {},
   "outputs": [
    {
     "data": {
      "text/html": [
       "<table style=\"border: 2px solid white;\">\n",
       "<tr>\n",
       "<td style=\"vertical-align: top; border: 0px solid white\">\n",
       "<h3>Client</h3>\n",
       "<ul>\n",
       "  <li><b>Scheduler: </b>tcp://hawaii:8786\n",
       "  <li><b>Dashboard: </b><a href='http://hawaii:8787/status' target='_blank'>http://hawaii:8787/status</a>\n",
       "</ul>\n",
       "</td>\n",
       "<td style=\"vertical-align: top; border: 0px solid white\">\n",
       "<h3>Cluster</h3>\n",
       "<ul>\n",
       "  <li><b>Workers: </b>2</li>\n",
       "  <li><b>Cores: </b>8</li>\n",
       "  <li><b>Memory: </b>67.45 GB</li>\n",
       "</ul>\n",
       "</td>\n",
       "</tr>\n",
       "</table>"
      ],
      "text/plain": [
       "<Client: scheduler='tcp://192.168.168.67:8786' processes=2 cores=8>"
      ]
     },
     "execution_count": 26,
     "metadata": {},
     "output_type": "execute_result"
    }
   ],
   "source": [
    "# Dask Specific Setup\n",
    "import dask_ml.joblib\n",
    "from sklearn.externals.joblib import parallel_backend\n",
    "\n",
    "from dask.distributed import Client\n",
    "try:\n",
    "    client.close()\n",
    "except:\n",
    "    print('client was not open')\n",
    "client = Client('hawaii:8786')\n",
    "client"
   ]
  },
  {
   "cell_type": "code",
   "execution_count": 27,
   "metadata": {},
   "outputs": [],
   "source": [
    "# custom RMSE scorer\n",
    "from sklearn.metrics import make_scorer\n",
    "\n",
    "def my_score(y, y_pred):\n",
    "    return np.sqrt(np.mean((y-y_pred)*(y-y_pred)))\n",
    "\n",
    "my_rmse = make_scorer(my_score, greater_is_better=False)"
   ]
  },
  {
   "cell_type": "code",
   "execution_count": 28,
   "metadata": {},
   "outputs": [
    {
     "name": "stderr",
     "output_type": "stream",
     "text": [
      "/home/agni/anaconda3/envs/anaconda/lib/python3.6/site-packages/sklearn/ensemble/forest.py:724: UserWarning: Some inputs do not have OOB scores. This probably means too few trees were used to compute any reliable oob estimates.\n",
      "  warn(\"Some inputs do not have OOB scores. \"\n"
     ]
    },
    {
     "data": {
      "text/plain": [
       "59952.78814553296"
      ]
     },
     "execution_count": 28,
     "metadata": {},
     "output_type": "execute_result"
    }
   ],
   "source": [
    "from sklearn.ensemble import RandomForestRegressor\n",
    "\n",
    "rf = RandomForestRegressor(oob_score=True)\n",
    "rf.fit(X_all, y_all)\n",
    "pred = rf.predict(X_all)\n",
    "np.sqrt(np.mean((y_all-pred)*(y_all-pred)))"
   ]
  },
  {
   "cell_type": "code",
   "execution_count": 13,
   "metadata": {},
   "outputs": [
    {
     "data": {
      "text/plain": [
       "0.7585851134576407"
      ]
     },
     "execution_count": 13,
     "metadata": {},
     "output_type": "execute_result"
    }
   ],
   "source": [
    "rf.oob_score_"
   ]
  },
  {
   "cell_type": "code",
   "execution_count": 7,
   "metadata": {},
   "outputs": [
    {
     "data": {
      "text/plain": [
       "bedrooms         0.003190\n",
       "bathrooms        0.006963\n",
       "sqft_living      0.274340\n",
       "sqft_lot         0.017594\n",
       "floors           0.002300\n",
       "waterfront       0.029088\n",
       "view             0.010695\n",
       "condition        0.003365\n",
       "grade            0.315961\n",
       "sqft_above       0.022782\n",
       "sqft_basement    0.006625\n",
       "yr_built         0.014285\n",
       "lat              0.168305\n",
       "long             0.079671\n",
       "sqft_living15    0.031434\n",
       "sqft_lot15       0.013403\n",
       "dtype: float64"
      ]
     },
     "execution_count": 7,
     "metadata": {},
     "output_type": "execute_result"
    }
   ],
   "source": [
    "s = pd.Series(data=rf.feature_importances_, index=X_all.columns)"
   ]
  },
  {
   "cell_type": "code",
   "execution_count": 29,
   "metadata": {},
   "outputs": [],
   "source": [
    "# custom RMSE scorer\n",
    "from sklearn.metrics import make_scorer\n",
    "\n",
    "def my_score(y, y_pred):\n",
    "    return np.sqrt(np.mean((y-y_pred)*(y-y_pred)))\n",
    "\n",
    "my_rmse = make_scorer(my_score, greater_is_better=False)"
   ]
  },
  {
   "cell_type": "code",
   "execution_count": 30,
   "metadata": {},
   "outputs": [
    {
     "name": "stdout",
     "output_type": "stream",
     "text": [
      "Total Time: 29.669833660125732\n"
     ]
    }
   ],
   "source": [
    "rf = RandomForestRegressor()\n",
    "k_folds=10\n",
    "cv = RepeatedKFold(n_splits=10, n_repeats=20, random_state=9)\n",
    "\n",
    "start = time()\n",
    "with parallel_backend('dask.distributed', scheduler_host='hawaii:8786'):\n",
    "    \n",
    "    # compute the K cross validated scores\n",
    "    scores = cross_val_score(rf, X_all, y_all, cv=cv, n_jobs=1,\n",
    "                     scoring=my_rmse)\n",
    "print(f'Total Time: {time() - start}')"
   ]
  },
  {
   "cell_type": "code",
   "execution_count": 42,
   "metadata": {},
   "outputs": [
    {
     "data": {
      "text/plain": [
       "-133188.61108440493"
      ]
     },
     "execution_count": 42,
     "metadata": {},
     "output_type": "execute_result"
    }
   ],
   "source": [
    "np.mean(scores)"
   ]
  },
  {
   "cell_type": "code",
   "execution_count": 16,
   "metadata": {},
   "outputs": [],
   "source": [
    "import numpy as np\n",
    "import pandas as pd\n",
    "import matplotlib.pyplot as plt\n",
    "import seaborn as sns\n",
    "import sklearn as sk\n",
    "%matplotlib inline\n",
    "sns.set() # enable seaborn style"
   ]
  },
  {
   "cell_type": "code",
   "execution_count": 17,
   "metadata": {},
   "outputs": [
    {
     "name": "stdout",
     "output_type": "stream",
     "text": [
      "(21436, 16)\n",
      "(21436,)\n"
     ]
    }
   ],
   "source": [
    "# read king county housing data\n",
    "parser = lambda date: pd.datetime.strptime(date, '%Y%m%dT%H%M%S')\n",
    "all_data = pd.read_csv('./data/kc_house_data.csv', parse_dates=['date'], date_parser=parser)\n",
    "\n",
    "# compute mean sales price per house\n",
    "mean_price_by_id = all_data.groupby(['id'])['price'].mean()\n",
    "\n",
    "# convert this to a data frame\n",
    "mean_price_by_id = pd.DataFrame(mean_price_by_id).reset_index()\n",
    "\n",
    "# join on id to get a new column for mean price\n",
    "all_data = all_data.merge(right=mean_price_by_id, on='id', suffixes=['_orig', '_mean'])\n",
    "\n",
    "# drop original price and de-dup the records\n",
    "all_data = all_data.drop('price_orig', axis=1).drop_duplicates(subset='id')\n",
    "\n",
    "# remove id and date fields\n",
    "all_data = all_data.drop(['id', 'date'], axis=1)\n",
    "\n",
    "# repace yr_built with yr_renovated if yr_renovated != 0\n",
    "mask = all_data['yr_renovated'] != 0\n",
    "all_data.loc[mask, 'yr_built'] = all_data.loc[mask, 'yr_renovated']\n",
    "all_data = all_data.drop('yr_renovated',axis=1)\n",
    "\n",
    "all_data = all_data.drop(['zipcode'], axis=1)\n",
    "\n",
    "X_all = all_data.drop('price_mean', axis=1)\n",
    "y_all = all_data['price_mean']\n",
    "print(X_all.shape)\n",
    "print(y_all.shape)"
   ]
  },
  {
   "cell_type": "code",
   "execution_count": 18,
   "metadata": {},
   "outputs": [
    {
     "name": "stdout",
     "output_type": "stream",
     "text": [
      "client was not open\n"
     ]
    },
    {
     "data": {
      "text/html": [
       "<table style=\"border: 2px solid white;\">\n",
       "<tr>\n",
       "<td style=\"vertical-align: top; border: 0px solid white\">\n",
       "<h3>Client</h3>\n",
       "<ul>\n",
       "  <li><b>Scheduler: </b>tcp://hawaii:8786\n",
       "  <li><b>Dashboard: </b><a href='http://hawaii:8787/status' target='_blank'>http://hawaii:8787/status</a>\n",
       "</ul>\n",
       "</td>\n",
       "<td style=\"vertical-align: top; border: 0px solid white\">\n",
       "<h3>Cluster</h3>\n",
       "<ul>\n",
       "  <li><b>Workers: </b>0</li>\n",
       "  <li><b>Cores: </b>0</li>\n",
       "  <li><b>Memory: </b>0 B</li>\n",
       "</ul>\n",
       "</td>\n",
       "</tr>\n",
       "</table>"
      ],
      "text/plain": [
       "<Client: scheduler='tcp://192.168.168.67:8786' processes=0 cores=0>"
      ]
     },
     "execution_count": 18,
     "metadata": {},
     "output_type": "execute_result"
    }
   ],
   "source": [
    "# Dask Specific Setup\n",
    "import dask_ml.joblib\n",
    "from sklearn.externals.joblib import parallel_backend\n",
    "\n",
    "from dask.distributed import Client\n",
    "try:\n",
    "    client.close()\n",
    "except:\n",
    "    print('client was not open')\n",
    "client = Client('hawaii:8786')\n",
    "client"
   ]
  },
  {
   "cell_type": "code",
   "execution_count": 23,
   "metadata": {},
   "outputs": [
    {
     "data": {
      "text/plain": [
       "bedrooms         21436\n",
       "bathrooms        21436\n",
       "sqft_living      21436\n",
       "sqft_lot         21436\n",
       "floors           21436\n",
       "waterfront       21436\n",
       "view             21436\n",
       "condition        21436\n",
       "grade            21436\n",
       "sqft_above       21436\n",
       "sqft_basement    21436\n",
       "yr_built         21436\n",
       "lat              21436\n",
       "long             21436\n",
       "sqft_living15    21436\n",
       "sqft_lot15       21436\n",
       "dtype: int64"
      ]
     },
     "execution_count": 23,
     "metadata": {},
     "output_type": "execute_result"
    }
   ],
   "source": [
    "X_all.sample()"
   ]
  },
  {
   "cell_type": "code",
   "execution_count": 5,
   "metadata": {},
   "outputs": [],
   "source": [
    "# custom RMSE scorer\n",
    "from sklearn.metrics import make_scorer\n",
    "\n",
    "def my_score(y, y_pred):\n",
    "    return np.sqrt(np.mean((y-y_pred)*(y-y_pred)))\n",
    "\n",
    "my_rmse = make_scorer(my_score, greater_is_better=False)"
   ]
  },
  {
   "cell_type": "code",
   "execution_count": 19,
   "metadata": {},
   "outputs": [],
   "source": [
    "from sklearn.preprocessing import StandardScaler\n",
    "from sklearn.linear_model import ElasticNetCV\n",
    "from sklearn.ensemble import RandomForestRegressor, ExtraTreesRegressor\n",
    "from sklearn.pipeline import Pipeline\n",
    "from sklearn.model_selection import cross_val_score, KFold, GridSearchCV, RepeatedKFold\n",
    "from sklearn.metrics import mean_squared_error\n",
    "from sklearn.base import clone\n",
    "from time import time"
   ]
  },
  {
   "cell_type": "code",
   "execution_count": 6,
   "metadata": {},
   "outputs": [],
   "source": [
    "from dask.distributed import Lock\n",
    "def my_predict(estimator, X_train, X_test, y_train, y_test, lock):\n",
    "    \n",
    "    # avoid sklearn multithreaded bug\n",
    "    rf = RandomForestRegressor(max_features=5, n_estimators=20, n_jobs=-1, random_state=9)\n",
    "\n",
    "    # lock.acquire()\n",
    "    rf.fit(X_train, y_train)\n",
    "    # lock.release()\n",
    "    predictions = rf.predict(X_test)\n",
    "    \n",
    "    return mean_squared_error(y_test, predictions)"
   ]
  },
  {
   "cell_type": "code",
   "execution_count": 9,
   "metadata": {},
   "outputs": [],
   "source": [
    "# parallelize each train/test split\n",
    "def my_cross_val_score(estimator, X, y, cv):\n",
    "    \n",
    "    my_scores = []\n",
    "    future_predictions = []\n",
    "    lock = Lock('x')\n",
    "    for train_idx, test_idx in cv.split(X):\n",
    "\n",
    "        # train\n",
    "        X_train = X.iloc[train_idx, :]\n",
    "        y_train = y[train_idx]\n",
    "    \n",
    "        # test\n",
    "        X_test = X.iloc[test_idx, :]\n",
    "        y_test = y[test_idx]\n",
    "        \n",
    "        future_predictions.append(client.submit(my_predict, estimator, X_train, X_test, y_train, y_test, lock))\n",
    "        \n",
    "    return np.array(client.gather(future_predictions))\n",
    "    \n",
    "#         my_scores.append(mean_squared_error(y_test, future_predictions))\n",
    "        \n",
    "#     return dask.compute(my_scores)"
   ]
  },
  {
   "cell_type": "code",
   "execution_count": null,
   "metadata": {},
   "outputs": [
    {
     "name": "stdout",
     "output_type": "stream",
     "text": [
      "Iteration: 0\n",
      "Frac:  0.2\n",
      "Frac:  0.3\n",
      "Frac:  0.4\n",
      "Frac:  0.5\n",
      "Frac:  0.6\n",
      "Frac:  0.7\n",
      "Frac:  0.8\n",
      "Frac:  0.9\n",
      "Frac:  1.0\n",
      "Iteration: 1\n",
      "Frac:  0.2\n",
      "Frac:  0.3\n",
      "Frac:  0.4\n",
      "Frac:  0.5\n",
      "Frac:  0.6\n",
      "Frac:  0.7\n",
      "Frac:  0.8\n",
      "Frac:  0.9\n",
      "Frac:  1.0\n",
      "Iteration: 2\n",
      "Frac:  0.2\n",
      "Frac:  0.3\n",
      "Frac:  0.4\n",
      "Frac:  0.5\n",
      "Frac:  0.6\n",
      "Frac:  0.7\n",
      "Frac:  0.8\n",
      "Frac:  0.9\n",
      "Frac:  1.0\n",
      "Iteration: 3\n",
      "Frac:  0.2\n",
      "Frac:  0.3\n",
      "Frac:  0.4\n",
      "Frac:  0.5\n",
      "Frac:  0.6\n",
      "Frac:  0.7\n",
      "Frac:  0.8\n",
      "Frac:  0.9\n",
      "Frac:  1.0\n",
      "Iteration: 4\n",
      "Frac:  0.2\n",
      "Frac:  0.3\n",
      "Frac:  0.4\n",
      "Frac:  0.5\n",
      "Frac:  0.6\n",
      "Frac:  0.7\n",
      "Frac:  0.8\n",
      "Frac:  0.9\n",
      "Frac:  1.0\n"
     ]
    }
   ],
   "source": [
    "# Learning Curve\n",
    "# scale = StandardScaler()\n",
    "rf = RandomForestRegressor(max_features=5, n_estimators=20, n_jobs=-1, random_state=9)\n",
    "# min_samples_split=5, min_samples_leaf=3, max_depth=3, \n",
    "\n",
    "# pipe = Pipeline(steps=[('scale', scale),('rf',rf)])\n",
    "\n",
    "k_folds=10\n",
    "# cv = RepeatedKFold(n_splits=10, n_repeats=20, random_state=9)\n",
    "\n",
    "np.random.seed(108)\n",
    "df = pd.DataFrame()\n",
    "counter=0\n",
    "\n",
    "start = time()\n",
    "X_all_f = client.scatter(X_all)\n",
    "y_all_f = client.scatter(y_all)\n",
    "X_all_f = X_all_f.result()\n",
    "y_all_f = y_all_f.result()\n",
    "with parallel_backend('dask.distributed', scheduler_host='hawaii:8786'):\n",
    "# X_all_f = X_all\n",
    "# y_all_f = y_all\n",
    "    \n",
    "    # 10 realizations of a subset of specific size to train and test on\n",
    "    for i in range(10):\n",
    "        print(f'Iteration: {i}')\n",
    "\n",
    "        # 10 different sizes to train and test on\n",
    "        for frac in np.linspace(0.2, 1.0, 9):\n",
    "            print(f'Frac: {frac: 3.1f}')\n",
    "\n",
    "            # select a random sample of frac size\n",
    "            sample = all_data.sample(frac=frac, replace=False, random_state)\n",
    "            X_all = all_data.drop('price_mean', axis=1)\n",
    "            y_all = all_data['price_mean']            \n",
    "            \n",
    "            \n",
    "            X_all_f = X_all_f.sample(frac=frac, replace=False, random_state = 10)\n",
    "            n = int(frac*len(X_all_f))\n",
    "            idx = np.random.choice(len(X_all_f), size=n, replace=False)\n",
    "            X = X_all_f.iloc[idx]\n",
    "            y = y_all_f.values[idx]\n",
    "\n",
    "            # vary the number of folds\n",
    "            for k_folds in [2, 3, 5, 10, 20]:\n",
    "            # print(f'K: {k_folds}')\n",
    "\n",
    "                # repeat CV 10 times to reduce the variance of the estimate\n",
    "                cv = KFold(n_splits=k_folds, random_state=10+i)\n",
    "\n",
    "                # compute the K cross validated scores\n",
    "                scores = cross_val_score(rf, X, y, cv=cv, n_jobs=-1)\n",
    "\n",
    "                rmse = scores.mean()\n",
    "                std_value = scores.std()\n",
    "\n",
    "                # accumulate the results\n",
    "                df = df.append(pd.DataFrame(data=[[k_folds, n, rmse, std_value]], \n",
    "                                            columns=['k_fold', 'len', 'rmse', 'std_value']),\n",
    "                               ignore_index=True)\n",
    "                \n",
    "\n",
    "print(f'Total Time: {time() - start}')"
   ]
  },
  {
   "cell_type": "code",
   "execution_count": 11,
   "metadata": {},
   "outputs": [
    {
     "data": {
      "text/html": [
       "<div>\n",
       "<style scoped>\n",
       "    .dataframe tbody tr th:only-of-type {\n",
       "        vertical-align: middle;\n",
       "    }\n",
       "\n",
       "    .dataframe tbody tr th {\n",
       "        vertical-align: top;\n",
       "    }\n",
       "\n",
       "    .dataframe thead th {\n",
       "        text-align: right;\n",
       "    }\n",
       "</style>\n",
       "<table border=\"1\" class=\"dataframe\">\n",
       "  <thead>\n",
       "    <tr style=\"text-align: right;\">\n",
       "      <th></th>\n",
       "      <th>k_fold</th>\n",
       "      <th>len</th>\n",
       "      <th>rmse</th>\n",
       "      <th>std_value</th>\n",
       "    </tr>\n",
       "  </thead>\n",
       "  <tbody>\n",
       "    <tr>\n",
       "      <th>0</th>\n",
       "      <td>2</td>\n",
       "      <td>4287</td>\n",
       "      <td>0.806112</td>\n",
       "      <td>0.000890</td>\n",
       "    </tr>\n",
       "    <tr>\n",
       "      <th>1</th>\n",
       "      <td>3</td>\n",
       "      <td>4287</td>\n",
       "      <td>0.820691</td>\n",
       "      <td>0.017632</td>\n",
       "    </tr>\n",
       "    <tr>\n",
       "      <th>2</th>\n",
       "      <td>5</td>\n",
       "      <td>4287</td>\n",
       "      <td>0.828745</td>\n",
       "      <td>0.020393</td>\n",
       "    </tr>\n",
       "    <tr>\n",
       "      <th>3</th>\n",
       "      <td>10</td>\n",
       "      <td>4287</td>\n",
       "      <td>0.827195</td>\n",
       "      <td>0.022065</td>\n",
       "    </tr>\n",
       "    <tr>\n",
       "      <th>4</th>\n",
       "      <td>20</td>\n",
       "      <td>4287</td>\n",
       "      <td>0.824834</td>\n",
       "      <td>0.034708</td>\n",
       "    </tr>\n",
       "    <tr>\n",
       "      <th>5</th>\n",
       "      <td>2</td>\n",
       "      <td>6430</td>\n",
       "      <td>0.812203</td>\n",
       "      <td>0.011848</td>\n",
       "    </tr>\n",
       "  </tbody>\n",
       "</table>\n",
       "</div>"
      ],
      "text/plain": [
       "   k_fold   len      rmse  std_value\n",
       "0       2  4287  0.806112   0.000890\n",
       "1       3  4287  0.820691   0.017632\n",
       "2       5  4287  0.828745   0.020393\n",
       "3      10  4287  0.827195   0.022065\n",
       "4      20  4287  0.824834   0.034708\n",
       "5       2  6430  0.812203   0.011848"
      ]
     },
     "execution_count": 11,
     "metadata": {},
     "output_type": "execute_result"
    }
   ],
   "source": [
    "df.head(6)"
   ]
  },
  {
   "cell_type": "code",
   "execution_count": 12,
   "metadata": {},
   "outputs": [
    {
     "data": {
      "text/html": [
       "<div>\n",
       "<style scoped>\n",
       "    .dataframe tbody tr th:only-of-type {\n",
       "        vertical-align: middle;\n",
       "    }\n",
       "\n",
       "    .dataframe tbody tr th {\n",
       "        vertical-align: top;\n",
       "    }\n",
       "\n",
       "    .dataframe thead th {\n",
       "        text-align: right;\n",
       "    }\n",
       "</style>\n",
       "<table border=\"1\" class=\"dataframe\">\n",
       "  <thead>\n",
       "    <tr style=\"text-align: right;\">\n",
       "      <th></th>\n",
       "      <th>k_fold</th>\n",
       "      <th>len</th>\n",
       "      <th>rmse</th>\n",
       "      <th>std_value</th>\n",
       "    </tr>\n",
       "  </thead>\n",
       "  <tbody>\n",
       "    <tr>\n",
       "      <th>0</th>\n",
       "      <td>2</td>\n",
       "      <td>4287</td>\n",
       "      <td>0.806112</td>\n",
       "      <td>0.000890</td>\n",
       "    </tr>\n",
       "    <tr>\n",
       "      <th>1</th>\n",
       "      <td>3</td>\n",
       "      <td>4287</td>\n",
       "      <td>0.820691</td>\n",
       "      <td>0.017632</td>\n",
       "    </tr>\n",
       "    <tr>\n",
       "      <th>2</th>\n",
       "      <td>5</td>\n",
       "      <td>4287</td>\n",
       "      <td>0.828745</td>\n",
       "      <td>0.020393</td>\n",
       "    </tr>\n",
       "    <tr>\n",
       "      <th>3</th>\n",
       "      <td>10</td>\n",
       "      <td>4287</td>\n",
       "      <td>0.827195</td>\n",
       "      <td>0.022065</td>\n",
       "    </tr>\n",
       "    <tr>\n",
       "      <th>4</th>\n",
       "      <td>20</td>\n",
       "      <td>4287</td>\n",
       "      <td>0.824834</td>\n",
       "      <td>0.034708</td>\n",
       "    </tr>\n",
       "    <tr>\n",
       "      <th>5</th>\n",
       "      <td>2</td>\n",
       "      <td>6430</td>\n",
       "      <td>0.812203</td>\n",
       "      <td>0.011848</td>\n",
       "    </tr>\n",
       "  </tbody>\n",
       "</table>\n",
       "</div>"
      ],
      "text/plain": [
       "   k_fold   len      rmse  std_value\n",
       "0       2  4287  0.806112   0.000890\n",
       "1       3  4287  0.820691   0.017632\n",
       "2       5  4287  0.828745   0.020393\n",
       "3      10  4287  0.827195   0.022065\n",
       "4      20  4287  0.824834   0.034708\n",
       "5       2  6430  0.812203   0.011848"
      ]
     },
     "execution_count": 12,
     "metadata": {},
     "output_type": "execute_result"
    }
   ],
   "source": [
    "# df_save = df.copy()\n",
    "df_save.head(6)"
   ]
  },
  {
   "cell_type": "code",
   "execution_count": null,
   "metadata": {},
   "outputs": [],
   "source": []
  },
  {
   "cell_type": "code",
   "execution_count": null,
   "metadata": {},
   "outputs": [],
   "source": []
  },
  {
   "cell_type": "code",
   "execution_count": null,
   "metadata": {},
   "outputs": [],
   "source": []
  },
  {
   "cell_type": "code",
   "execution_count": 17,
   "metadata": {},
   "outputs": [
    {
     "data": {
      "text/plain": [
       "dict_keys(['tcp://127.0.0.1:34269', 'tcp://192.168.168.186:41265'])"
      ]
     },
     "execution_count": 17,
     "metadata": {},
     "output_type": "execute_result"
    }
   ],
   "source": [
    "client.scheduler_info()['workers'].keys()"
   ]
  },
  {
   "cell_type": "code",
   "execution_count": 14,
   "metadata": {},
   "outputs": [],
   "source": [
    "def mappable_cv(kwargs):\n",
    "    \"\"\"mappable wrapper to unpack kwargs and pass them to cross_val_score\"\"\"\n",
    "    # import f\n",
    "    return cross_val_score(**kwargs)"
   ]
  },
  {
   "cell_type": "code",
   "execution_count": 17,
   "metadata": {},
   "outputs": [
    {
     "name": "stdout",
     "output_type": "stream",
     "text": [
      "Frac:  1.0\n",
      "Iteration: 0\n",
      "Iteration: 1\n",
      "about to block ...\n"
     ]
    },
    {
     "ename": "IndexError",
     "evalue": "pop from empty list",
     "output_type": "error",
     "traceback": [
      "\u001b[0;31m---------------------------------------------------------------------------\u001b[0m",
      "\u001b[0;31mIndexError\u001b[0m                                Traceback (most recent call last)",
      "\u001b[0;32m<ipython-input-17-e75fe6e68453>\u001b[0m in \u001b[0;36m<module>\u001b[0;34m()\u001b[0m\n\u001b[1;32m     44\u001b[0m             \u001b[0mfuture_scores\u001b[0m\u001b[0;34m.\u001b[0m\u001b[0mextend\u001b[0m\u001b[0;34m(\u001b[0m\u001b[0mclient\u001b[0m\u001b[0;34m.\u001b[0m\u001b[0mmap\u001b[0m\u001b[0;34m(\u001b[0m\u001b[0mmappable_cv\u001b[0m\u001b[0;34m,\u001b[0m \u001b[0mkwarg_list\u001b[0m\u001b[0;34m,\u001b[0m \u001b[0mworkers\u001b[0m\u001b[0;34m=\u001b[0m\u001b[0;34m[\u001b[0m\u001b[0;34m'127.0.0.1:34269'\u001b[0m\u001b[0;34m]\u001b[0m\u001b[0;34m)\u001b[0m\u001b[0;34m)\u001b[0m\u001b[0;34m\u001b[0m\u001b[0m\n\u001b[1;32m     45\u001b[0m             \u001b[0mprint\u001b[0m\u001b[0;34m(\u001b[0m\u001b[0;34m\"about to block ...\"\u001b[0m\u001b[0;34m)\u001b[0m\u001b[0;34m\u001b[0m\u001b[0m\n\u001b[0;32m---> 46\u001b[0;31m             \u001b[0mclient\u001b[0m\u001b[0;34m.\u001b[0m\u001b[0mgather\u001b[0m\u001b[0;34m(\u001b[0m\u001b[0mfuture_scores\u001b[0m\u001b[0;34m)\u001b[0m\u001b[0;34m\u001b[0m\u001b[0m\n\u001b[0m\u001b[1;32m     47\u001b[0m             \u001b[0mprint\u001b[0m\u001b[0;34m(\u001b[0m\u001b[0;34m\"done blocking ....\"\u001b[0m\u001b[0;34m)\u001b[0m\u001b[0;34m\u001b[0m\u001b[0m\n\u001b[1;32m     48\u001b[0m         \u001b[0;32melse\u001b[0m\u001b[0;34m:\u001b[0m\u001b[0;34m\u001b[0m\u001b[0m\n",
      "\u001b[0;32m~/anaconda3/envs/anaconda/lib/python3.6/site-packages/distributed/client.py\u001b[0m in \u001b[0;36mgather\u001b[0;34m(self, futures, errors, maxsize, direct, asynchronous)\u001b[0m\n\u001b[1;32m   1506\u001b[0m             return self.sync(self._gather, futures, errors=errors,\n\u001b[1;32m   1507\u001b[0m                              \u001b[0mdirect\u001b[0m\u001b[0;34m=\u001b[0m\u001b[0mdirect\u001b[0m\u001b[0;34m,\u001b[0m \u001b[0mlocal_worker\u001b[0m\u001b[0;34m=\u001b[0m\u001b[0mlocal_worker\u001b[0m\u001b[0;34m,\u001b[0m\u001b[0;34m\u001b[0m\u001b[0m\n\u001b[0;32m-> 1508\u001b[0;31m                              asynchronous=asynchronous)\n\u001b[0m\u001b[1;32m   1509\u001b[0m \u001b[0;34m\u001b[0m\u001b[0m\n\u001b[1;32m   1510\u001b[0m     \u001b[0;34m@\u001b[0m\u001b[0mgen\u001b[0m\u001b[0;34m.\u001b[0m\u001b[0mcoroutine\u001b[0m\u001b[0;34m\u001b[0m\u001b[0m\n",
      "\u001b[0;32m~/anaconda3/envs/anaconda/lib/python3.6/site-packages/distributed/client.py\u001b[0m in \u001b[0;36msync\u001b[0;34m(self, func, *args, **kwargs)\u001b[0m\n\u001b[1;32m    613\u001b[0m             \u001b[0;32mreturn\u001b[0m \u001b[0mfuture\u001b[0m\u001b[0;34m\u001b[0m\u001b[0m\n\u001b[1;32m    614\u001b[0m         \u001b[0;32melse\u001b[0m\u001b[0;34m:\u001b[0m\u001b[0;34m\u001b[0m\u001b[0m\n\u001b[0;32m--> 615\u001b[0;31m             \u001b[0;32mreturn\u001b[0m \u001b[0msync\u001b[0m\u001b[0;34m(\u001b[0m\u001b[0mself\u001b[0m\u001b[0;34m.\u001b[0m\u001b[0mloop\u001b[0m\u001b[0;34m,\u001b[0m \u001b[0mfunc\u001b[0m\u001b[0;34m,\u001b[0m \u001b[0;34m*\u001b[0m\u001b[0margs\u001b[0m\u001b[0;34m,\u001b[0m \u001b[0;34m**\u001b[0m\u001b[0mkwargs\u001b[0m\u001b[0;34m)\u001b[0m\u001b[0;34m\u001b[0m\u001b[0m\n\u001b[0m\u001b[1;32m    616\u001b[0m \u001b[0;34m\u001b[0m\u001b[0m\n\u001b[1;32m    617\u001b[0m     \u001b[0;32mdef\u001b[0m \u001b[0m__repr__\u001b[0m\u001b[0;34m(\u001b[0m\u001b[0mself\u001b[0m\u001b[0;34m)\u001b[0m\u001b[0;34m:\u001b[0m\u001b[0;34m\u001b[0m\u001b[0m\n",
      "\u001b[0;32m~/anaconda3/envs/anaconda/lib/python3.6/site-packages/distributed/utils.py\u001b[0m in \u001b[0;36msync\u001b[0;34m(loop, func, *args, **kwargs)\u001b[0m\n\u001b[1;32m    251\u001b[0m             \u001b[0me\u001b[0m\u001b[0;34m.\u001b[0m\u001b[0mwait\u001b[0m\u001b[0;34m(\u001b[0m\u001b[0;36m10\u001b[0m\u001b[0;34m)\u001b[0m\u001b[0;34m\u001b[0m\u001b[0m\n\u001b[1;32m    252\u001b[0m     \u001b[0;32mif\u001b[0m \u001b[0merror\u001b[0m\u001b[0;34m[\u001b[0m\u001b[0;36m0\u001b[0m\u001b[0;34m]\u001b[0m\u001b[0;34m:\u001b[0m\u001b[0;34m\u001b[0m\u001b[0m\n\u001b[0;32m--> 253\u001b[0;31m         \u001b[0msix\u001b[0m\u001b[0;34m.\u001b[0m\u001b[0mreraise\u001b[0m\u001b[0;34m(\u001b[0m\u001b[0;34m*\u001b[0m\u001b[0merror\u001b[0m\u001b[0;34m[\u001b[0m\u001b[0;36m0\u001b[0m\u001b[0;34m]\u001b[0m\u001b[0;34m)\u001b[0m\u001b[0;34m\u001b[0m\u001b[0m\n\u001b[0m\u001b[1;32m    254\u001b[0m     \u001b[0;32melse\u001b[0m\u001b[0;34m:\u001b[0m\u001b[0;34m\u001b[0m\u001b[0m\n\u001b[1;32m    255\u001b[0m         \u001b[0;32mreturn\u001b[0m \u001b[0mresult\u001b[0m\u001b[0;34m[\u001b[0m\u001b[0;36m0\u001b[0m\u001b[0;34m]\u001b[0m\u001b[0;34m\u001b[0m\u001b[0m\n",
      "\u001b[0;32m~/anaconda3/envs/anaconda/lib/python3.6/site-packages/six.py\u001b[0m in \u001b[0;36mreraise\u001b[0;34m(tp, value, tb)\u001b[0m\n\u001b[1;32m    691\u001b[0m             \u001b[0;32mif\u001b[0m \u001b[0mvalue\u001b[0m\u001b[0;34m.\u001b[0m\u001b[0m__traceback__\u001b[0m \u001b[0;32mis\u001b[0m \u001b[0;32mnot\u001b[0m \u001b[0mtb\u001b[0m\u001b[0;34m:\u001b[0m\u001b[0;34m\u001b[0m\u001b[0m\n\u001b[1;32m    692\u001b[0m                 \u001b[0;32mraise\u001b[0m \u001b[0mvalue\u001b[0m\u001b[0;34m.\u001b[0m\u001b[0mwith_traceback\u001b[0m\u001b[0;34m(\u001b[0m\u001b[0mtb\u001b[0m\u001b[0;34m)\u001b[0m\u001b[0;34m\u001b[0m\u001b[0m\n\u001b[0;32m--> 693\u001b[0;31m             \u001b[0;32mraise\u001b[0m \u001b[0mvalue\u001b[0m\u001b[0;34m\u001b[0m\u001b[0m\n\u001b[0m\u001b[1;32m    694\u001b[0m         \u001b[0;32mfinally\u001b[0m\u001b[0;34m:\u001b[0m\u001b[0;34m\u001b[0m\u001b[0m\n\u001b[1;32m    695\u001b[0m             \u001b[0mvalue\u001b[0m \u001b[0;34m=\u001b[0m \u001b[0;32mNone\u001b[0m\u001b[0;34m\u001b[0m\u001b[0m\n",
      "\u001b[0;32m~/anaconda3/envs/anaconda/lib/python3.6/site-packages/distributed/utils.py\u001b[0m in \u001b[0;36mf\u001b[0;34m()\u001b[0m\n\u001b[1;32m    236\u001b[0m             \u001b[0;32myield\u001b[0m \u001b[0mgen\u001b[0m\u001b[0;34m.\u001b[0m\u001b[0mmoment\u001b[0m\u001b[0;34m\u001b[0m\u001b[0m\n\u001b[1;32m    237\u001b[0m             \u001b[0mthread_state\u001b[0m\u001b[0;34m.\u001b[0m\u001b[0masynchronous\u001b[0m \u001b[0;34m=\u001b[0m \u001b[0;32mTrue\u001b[0m\u001b[0;34m\u001b[0m\u001b[0m\n\u001b[0;32m--> 238\u001b[0;31m             \u001b[0mresult\u001b[0m\u001b[0;34m[\u001b[0m\u001b[0;36m0\u001b[0m\u001b[0;34m]\u001b[0m \u001b[0;34m=\u001b[0m \u001b[0;32myield\u001b[0m \u001b[0mmake_coro\u001b[0m\u001b[0;34m(\u001b[0m\u001b[0;34m)\u001b[0m\u001b[0;34m\u001b[0m\u001b[0m\n\u001b[0m\u001b[1;32m    239\u001b[0m         \u001b[0;32mexcept\u001b[0m \u001b[0mException\u001b[0m \u001b[0;32mas\u001b[0m \u001b[0mexc\u001b[0m\u001b[0;34m:\u001b[0m\u001b[0;34m\u001b[0m\u001b[0m\n\u001b[1;32m    240\u001b[0m             \u001b[0merror\u001b[0m\u001b[0;34m[\u001b[0m\u001b[0;36m0\u001b[0m\u001b[0;34m]\u001b[0m \u001b[0;34m=\u001b[0m \u001b[0msys\u001b[0m\u001b[0;34m.\u001b[0m\u001b[0mexc_info\u001b[0m\u001b[0;34m(\u001b[0m\u001b[0;34m)\u001b[0m\u001b[0;34m\u001b[0m\u001b[0m\n",
      "\u001b[0;32m~/anaconda3/envs/anaconda/lib/python3.6/site-packages/tornado/gen.py\u001b[0m in \u001b[0;36mrun\u001b[0;34m(self)\u001b[0m\n\u001b[1;32m   1097\u001b[0m \u001b[0;34m\u001b[0m\u001b[0m\n\u001b[1;32m   1098\u001b[0m                     \u001b[0;32mtry\u001b[0m\u001b[0;34m:\u001b[0m\u001b[0;34m\u001b[0m\u001b[0m\n\u001b[0;32m-> 1099\u001b[0;31m                         \u001b[0mvalue\u001b[0m \u001b[0;34m=\u001b[0m \u001b[0mfuture\u001b[0m\u001b[0;34m.\u001b[0m\u001b[0mresult\u001b[0m\u001b[0;34m(\u001b[0m\u001b[0;34m)\u001b[0m\u001b[0;34m\u001b[0m\u001b[0m\n\u001b[0m\u001b[1;32m   1100\u001b[0m                     \u001b[0;32mexcept\u001b[0m \u001b[0mException\u001b[0m\u001b[0;34m:\u001b[0m\u001b[0;34m\u001b[0m\u001b[0m\n\u001b[1;32m   1101\u001b[0m                         \u001b[0mself\u001b[0m\u001b[0;34m.\u001b[0m\u001b[0mhad_exception\u001b[0m \u001b[0;34m=\u001b[0m \u001b[0;32mTrue\u001b[0m\u001b[0;34m\u001b[0m\u001b[0m\n",
      "\u001b[0;32m~/anaconda3/envs/anaconda/lib/python3.6/site-packages/tornado/gen.py\u001b[0m in \u001b[0;36mrun\u001b[0;34m(self)\u001b[0m\n\u001b[1;32m   1105\u001b[0m                     \u001b[0;32mif\u001b[0m \u001b[0mexc_info\u001b[0m \u001b[0;32mis\u001b[0m \u001b[0;32mnot\u001b[0m \u001b[0;32mNone\u001b[0m\u001b[0;34m:\u001b[0m\u001b[0;34m\u001b[0m\u001b[0m\n\u001b[1;32m   1106\u001b[0m                         \u001b[0;32mtry\u001b[0m\u001b[0;34m:\u001b[0m\u001b[0;34m\u001b[0m\u001b[0m\n\u001b[0;32m-> 1107\u001b[0;31m                             \u001b[0myielded\u001b[0m \u001b[0;34m=\u001b[0m \u001b[0mself\u001b[0m\u001b[0;34m.\u001b[0m\u001b[0mgen\u001b[0m\u001b[0;34m.\u001b[0m\u001b[0mthrow\u001b[0m\u001b[0;34m(\u001b[0m\u001b[0;34m*\u001b[0m\u001b[0mexc_info\u001b[0m\u001b[0;34m)\u001b[0m\u001b[0;34m\u001b[0m\u001b[0m\n\u001b[0m\u001b[1;32m   1108\u001b[0m                         \u001b[0;32mfinally\u001b[0m\u001b[0;34m:\u001b[0m\u001b[0;34m\u001b[0m\u001b[0m\n\u001b[1;32m   1109\u001b[0m                             \u001b[0;31m# Break up a reference to itself\u001b[0m\u001b[0;34m\u001b[0m\u001b[0;34m\u001b[0m\u001b[0m\n",
      "\u001b[0;32m~/anaconda3/envs/anaconda/lib/python3.6/site-packages/distributed/client.py\u001b[0m in \u001b[0;36m_gather\u001b[0;34m(self, futures, errors, direct, local_worker)\u001b[0m\n\u001b[1;32m   1383\u001b[0m                             six.reraise(type(exception),\n\u001b[1;32m   1384\u001b[0m                                         \u001b[0mexception\u001b[0m\u001b[0;34m,\u001b[0m\u001b[0;34m\u001b[0m\u001b[0m\n\u001b[0;32m-> 1385\u001b[0;31m                                         traceback)\n\u001b[0m\u001b[1;32m   1386\u001b[0m                     \u001b[0;32mif\u001b[0m \u001b[0merrors\u001b[0m \u001b[0;34m==\u001b[0m \u001b[0;34m'skip'\u001b[0m\u001b[0;34m:\u001b[0m\u001b[0;34m\u001b[0m\u001b[0m\n\u001b[1;32m   1387\u001b[0m                         \u001b[0mbad_keys\u001b[0m\u001b[0;34m.\u001b[0m\u001b[0madd\u001b[0m\u001b[0;34m(\u001b[0m\u001b[0mkey\u001b[0m\u001b[0;34m)\u001b[0m\u001b[0;34m\u001b[0m\u001b[0m\n",
      "\u001b[0;32m~/anaconda3/envs/anaconda/lib/python3.6/site-packages/six.py\u001b[0m in \u001b[0;36mreraise\u001b[0;34m(tp, value, tb)\u001b[0m\n\u001b[1;32m    690\u001b[0m                 \u001b[0mvalue\u001b[0m \u001b[0;34m=\u001b[0m \u001b[0mtp\u001b[0m\u001b[0;34m(\u001b[0m\u001b[0;34m)\u001b[0m\u001b[0;34m\u001b[0m\u001b[0m\n\u001b[1;32m    691\u001b[0m             \u001b[0;32mif\u001b[0m \u001b[0mvalue\u001b[0m\u001b[0;34m.\u001b[0m\u001b[0m__traceback__\u001b[0m \u001b[0;32mis\u001b[0m \u001b[0;32mnot\u001b[0m \u001b[0mtb\u001b[0m\u001b[0;34m:\u001b[0m\u001b[0;34m\u001b[0m\u001b[0m\n\u001b[0;32m--> 692\u001b[0;31m                 \u001b[0;32mraise\u001b[0m \u001b[0mvalue\u001b[0m\u001b[0;34m.\u001b[0m\u001b[0mwith_traceback\u001b[0m\u001b[0;34m(\u001b[0m\u001b[0mtb\u001b[0m\u001b[0;34m)\u001b[0m\u001b[0;34m\u001b[0m\u001b[0m\n\u001b[0m\u001b[1;32m    693\u001b[0m             \u001b[0;32mraise\u001b[0m \u001b[0mvalue\u001b[0m\u001b[0;34m\u001b[0m\u001b[0m\n\u001b[1;32m    694\u001b[0m         \u001b[0;32mfinally\u001b[0m\u001b[0;34m:\u001b[0m\u001b[0;34m\u001b[0m\u001b[0m\n",
      "\u001b[0;32m<ipython-input-14-117ebe264426>\u001b[0m in \u001b[0;36mmappable_cv\u001b[0;34m()\u001b[0m\n\u001b[1;32m      2\u001b[0m     \u001b[0;34m\"\"\"mappable wrapper to unpack kwargs and pass them to cross_val_score\"\"\"\u001b[0m\u001b[0;34m\u001b[0m\u001b[0m\n\u001b[1;32m      3\u001b[0m     \u001b[0;31m# import f\u001b[0m\u001b[0;34m\u001b[0m\u001b[0;34m\u001b[0m\u001b[0m\n\u001b[0;32m----> 4\u001b[0;31m     \u001b[0;32mreturn\u001b[0m \u001b[0mcross_val_score\u001b[0m\u001b[0;34m(\u001b[0m\u001b[0;34m**\u001b[0m\u001b[0mkwargs\u001b[0m\u001b[0;34m)\u001b[0m\u001b[0;34m\u001b[0m\u001b[0m\n\u001b[0m",
      "\u001b[0;32m~/anaconda3/envs/anaconda/lib/python3.6/site-packages/sklearn/model_selection/_validation.py\u001b[0m in \u001b[0;36mcross_val_score\u001b[0;34m()\u001b[0m\n\u001b[1;32m    340\u001b[0m                                 \u001b[0mn_jobs\u001b[0m\u001b[0;34m=\u001b[0m\u001b[0mn_jobs\u001b[0m\u001b[0;34m,\u001b[0m \u001b[0mverbose\u001b[0m\u001b[0;34m=\u001b[0m\u001b[0mverbose\u001b[0m\u001b[0;34m,\u001b[0m\u001b[0;34m\u001b[0m\u001b[0m\n\u001b[1;32m    341\u001b[0m                                 \u001b[0mfit_params\u001b[0m\u001b[0;34m=\u001b[0m\u001b[0mfit_params\u001b[0m\u001b[0;34m,\u001b[0m\u001b[0;34m\u001b[0m\u001b[0m\n\u001b[0;32m--> 342\u001b[0;31m                                 pre_dispatch=pre_dispatch)\n\u001b[0m\u001b[1;32m    343\u001b[0m     \u001b[0;32mreturn\u001b[0m \u001b[0mcv_results\u001b[0m\u001b[0;34m[\u001b[0m\u001b[0;34m'test_score'\u001b[0m\u001b[0;34m]\u001b[0m\u001b[0;34m\u001b[0m\u001b[0m\n\u001b[1;32m    344\u001b[0m \u001b[0;34m\u001b[0m\u001b[0m\n",
      "\u001b[0;32m~/anaconda3/envs/anaconda/lib/python3.6/site-packages/sklearn/model_selection/_validation.py\u001b[0m in \u001b[0;36mcross_validate\u001b[0;34m()\u001b[0m\n\u001b[1;32m    204\u001b[0m             \u001b[0mfit_params\u001b[0m\u001b[0;34m,\u001b[0m \u001b[0mreturn_train_score\u001b[0m\u001b[0;34m=\u001b[0m\u001b[0mreturn_train_score\u001b[0m\u001b[0;34m,\u001b[0m\u001b[0;34m\u001b[0m\u001b[0m\n\u001b[1;32m    205\u001b[0m             return_times=True)\n\u001b[0;32m--> 206\u001b[0;31m         for train, test in cv.split(X, y, groups))\n\u001b[0m\u001b[1;32m    207\u001b[0m \u001b[0;34m\u001b[0m\u001b[0m\n\u001b[1;32m    208\u001b[0m     \u001b[0;32mif\u001b[0m \u001b[0mreturn_train_score\u001b[0m\u001b[0;34m:\u001b[0m\u001b[0;34m\u001b[0m\u001b[0m\n",
      "\u001b[0;32m~/anaconda3/envs/anaconda/lib/python3.6/site-packages/sklearn/externals/joblib/parallel.py\u001b[0m in \u001b[0;36m__call__\u001b[0;34m()\u001b[0m\n\u001b[1;32m    777\u001b[0m             \u001b[0;31m# was dispatched. In particular this covers the edge\u001b[0m\u001b[0;34m\u001b[0m\u001b[0;34m\u001b[0m\u001b[0m\n\u001b[1;32m    778\u001b[0m             \u001b[0;31m# case of Parallel used with an exhausted iterator.\u001b[0m\u001b[0;34m\u001b[0m\u001b[0;34m\u001b[0m\u001b[0m\n\u001b[0;32m--> 779\u001b[0;31m             \u001b[0;32mwhile\u001b[0m \u001b[0mself\u001b[0m\u001b[0;34m.\u001b[0m\u001b[0mdispatch_one_batch\u001b[0m\u001b[0;34m(\u001b[0m\u001b[0miterator\u001b[0m\u001b[0;34m)\u001b[0m\u001b[0;34m:\u001b[0m\u001b[0;34m\u001b[0m\u001b[0m\n\u001b[0m\u001b[1;32m    780\u001b[0m                 \u001b[0mself\u001b[0m\u001b[0;34m.\u001b[0m\u001b[0m_iterating\u001b[0m \u001b[0;34m=\u001b[0m \u001b[0;32mTrue\u001b[0m\u001b[0;34m\u001b[0m\u001b[0m\n\u001b[1;32m    781\u001b[0m             \u001b[0;32melse\u001b[0m\u001b[0;34m:\u001b[0m\u001b[0;34m\u001b[0m\u001b[0m\n",
      "\u001b[0;32m~/anaconda3/envs/anaconda/lib/python3.6/site-packages/sklearn/externals/joblib/parallel.py\u001b[0m in \u001b[0;36mdispatch_one_batch\u001b[0;34m()\u001b[0m\n\u001b[1;32m    623\u001b[0m                 \u001b[0;32mreturn\u001b[0m \u001b[0;32mFalse\u001b[0m\u001b[0;34m\u001b[0m\u001b[0m\n\u001b[1;32m    624\u001b[0m             \u001b[0;32melse\u001b[0m\u001b[0;34m:\u001b[0m\u001b[0;34m\u001b[0m\u001b[0m\n\u001b[0;32m--> 625\u001b[0;31m                 \u001b[0mself\u001b[0m\u001b[0;34m.\u001b[0m\u001b[0m_dispatch\u001b[0m\u001b[0;34m(\u001b[0m\u001b[0mtasks\u001b[0m\u001b[0;34m)\u001b[0m\u001b[0;34m\u001b[0m\u001b[0m\n\u001b[0m\u001b[1;32m    626\u001b[0m                 \u001b[0;32mreturn\u001b[0m \u001b[0;32mTrue\u001b[0m\u001b[0;34m\u001b[0m\u001b[0m\n\u001b[1;32m    627\u001b[0m \u001b[0;34m\u001b[0m\u001b[0m\n",
      "\u001b[0;32m~/anaconda3/envs/anaconda/lib/python3.6/site-packages/sklearn/externals/joblib/parallel.py\u001b[0m in \u001b[0;36m_dispatch\u001b[0;34m()\u001b[0m\n\u001b[1;32m    586\u001b[0m         \u001b[0mdispatch_timestamp\u001b[0m \u001b[0;34m=\u001b[0m \u001b[0mtime\u001b[0m\u001b[0;34m.\u001b[0m\u001b[0mtime\u001b[0m\u001b[0;34m(\u001b[0m\u001b[0;34m)\u001b[0m\u001b[0;34m\u001b[0m\u001b[0m\n\u001b[1;32m    587\u001b[0m         \u001b[0mcb\u001b[0m \u001b[0;34m=\u001b[0m \u001b[0mBatchCompletionCallBack\u001b[0m\u001b[0;34m(\u001b[0m\u001b[0mdispatch_timestamp\u001b[0m\u001b[0;34m,\u001b[0m \u001b[0mlen\u001b[0m\u001b[0;34m(\u001b[0m\u001b[0mbatch\u001b[0m\u001b[0;34m)\u001b[0m\u001b[0;34m,\u001b[0m \u001b[0mself\u001b[0m\u001b[0;34m)\u001b[0m\u001b[0;34m\u001b[0m\u001b[0m\n\u001b[0;32m--> 588\u001b[0;31m         \u001b[0mjob\u001b[0m \u001b[0;34m=\u001b[0m \u001b[0mself\u001b[0m\u001b[0;34m.\u001b[0m\u001b[0m_backend\u001b[0m\u001b[0;34m.\u001b[0m\u001b[0mapply_async\u001b[0m\u001b[0;34m(\u001b[0m\u001b[0mbatch\u001b[0m\u001b[0;34m,\u001b[0m \u001b[0mcallback\u001b[0m\u001b[0;34m=\u001b[0m\u001b[0mcb\u001b[0m\u001b[0;34m)\u001b[0m\u001b[0;34m\u001b[0m\u001b[0m\n\u001b[0m\u001b[1;32m    589\u001b[0m         \u001b[0mself\u001b[0m\u001b[0;34m.\u001b[0m\u001b[0m_jobs\u001b[0m\u001b[0;34m.\u001b[0m\u001b[0mappend\u001b[0m\u001b[0;34m(\u001b[0m\u001b[0mjob\u001b[0m\u001b[0;34m)\u001b[0m\u001b[0;34m\u001b[0m\u001b[0m\n\u001b[1;32m    590\u001b[0m \u001b[0;34m\u001b[0m\u001b[0m\n",
      "\u001b[0;32m~/anaconda3/envs/anaconda/lib/python3.6/site-packages/sklearn/externals/joblib/_parallel_backends.py\u001b[0m in \u001b[0;36mapply_async\u001b[0;34m()\u001b[0m\n\u001b[1;32m    109\u001b[0m     \u001b[0;32mdef\u001b[0m \u001b[0mapply_async\u001b[0m\u001b[0;34m(\u001b[0m\u001b[0mself\u001b[0m\u001b[0;34m,\u001b[0m \u001b[0mfunc\u001b[0m\u001b[0;34m,\u001b[0m \u001b[0mcallback\u001b[0m\u001b[0;34m=\u001b[0m\u001b[0;32mNone\u001b[0m\u001b[0;34m)\u001b[0m\u001b[0;34m:\u001b[0m\u001b[0;34m\u001b[0m\u001b[0m\n\u001b[1;32m    110\u001b[0m         \u001b[0;34m\"\"\"Schedule a func to be run\"\"\"\u001b[0m\u001b[0;34m\u001b[0m\u001b[0m\n\u001b[0;32m--> 111\u001b[0;31m         \u001b[0mresult\u001b[0m \u001b[0;34m=\u001b[0m \u001b[0mImmediateResult\u001b[0m\u001b[0;34m(\u001b[0m\u001b[0mfunc\u001b[0m\u001b[0;34m)\u001b[0m\u001b[0;34m\u001b[0m\u001b[0m\n\u001b[0m\u001b[1;32m    112\u001b[0m         \u001b[0;32mif\u001b[0m \u001b[0mcallback\u001b[0m\u001b[0;34m:\u001b[0m\u001b[0;34m\u001b[0m\u001b[0m\n\u001b[1;32m    113\u001b[0m             \u001b[0mcallback\u001b[0m\u001b[0;34m(\u001b[0m\u001b[0mresult\u001b[0m\u001b[0;34m)\u001b[0m\u001b[0;34m\u001b[0m\u001b[0m\n",
      "\u001b[0;32m~/anaconda3/envs/anaconda/lib/python3.6/site-packages/sklearn/externals/joblib/_parallel_backends.py\u001b[0m in \u001b[0;36m__init__\u001b[0;34m()\u001b[0m\n\u001b[1;32m    330\u001b[0m         \u001b[0;31m# Don't delay the application, to avoid keeping the input\u001b[0m\u001b[0;34m\u001b[0m\u001b[0;34m\u001b[0m\u001b[0m\n\u001b[1;32m    331\u001b[0m         \u001b[0;31m# arguments in memory\u001b[0m\u001b[0;34m\u001b[0m\u001b[0;34m\u001b[0m\u001b[0m\n\u001b[0;32m--> 332\u001b[0;31m         \u001b[0mself\u001b[0m\u001b[0;34m.\u001b[0m\u001b[0mresults\u001b[0m \u001b[0;34m=\u001b[0m \u001b[0mbatch\u001b[0m\u001b[0;34m(\u001b[0m\u001b[0;34m)\u001b[0m\u001b[0;34m\u001b[0m\u001b[0m\n\u001b[0m\u001b[1;32m    333\u001b[0m \u001b[0;34m\u001b[0m\u001b[0m\n\u001b[1;32m    334\u001b[0m     \u001b[0;32mdef\u001b[0m \u001b[0mget\u001b[0m\u001b[0;34m(\u001b[0m\u001b[0mself\u001b[0m\u001b[0;34m)\u001b[0m\u001b[0;34m:\u001b[0m\u001b[0;34m\u001b[0m\u001b[0m\n",
      "\u001b[0;32m~/anaconda3/envs/anaconda/lib/python3.6/site-packages/sklearn/externals/joblib/parallel.py\u001b[0m in \u001b[0;36m__call__\u001b[0;34m()\u001b[0m\n\u001b[1;32m    129\u001b[0m \u001b[0;34m\u001b[0m\u001b[0m\n\u001b[1;32m    130\u001b[0m     \u001b[0;32mdef\u001b[0m \u001b[0m__call__\u001b[0m\u001b[0;34m(\u001b[0m\u001b[0mself\u001b[0m\u001b[0;34m)\u001b[0m\u001b[0;34m:\u001b[0m\u001b[0;34m\u001b[0m\u001b[0m\n\u001b[0;32m--> 131\u001b[0;31m         \u001b[0;32mreturn\u001b[0m \u001b[0;34m[\u001b[0m\u001b[0mfunc\u001b[0m\u001b[0;34m(\u001b[0m\u001b[0;34m*\u001b[0m\u001b[0margs\u001b[0m\u001b[0;34m,\u001b[0m \u001b[0;34m**\u001b[0m\u001b[0mkwargs\u001b[0m\u001b[0;34m)\u001b[0m \u001b[0;32mfor\u001b[0m \u001b[0mfunc\u001b[0m\u001b[0;34m,\u001b[0m \u001b[0margs\u001b[0m\u001b[0;34m,\u001b[0m \u001b[0mkwargs\u001b[0m \u001b[0;32min\u001b[0m \u001b[0mself\u001b[0m\u001b[0;34m.\u001b[0m\u001b[0mitems\u001b[0m\u001b[0;34m]\u001b[0m\u001b[0;34m\u001b[0m\u001b[0m\n\u001b[0m\u001b[1;32m    132\u001b[0m \u001b[0;34m\u001b[0m\u001b[0m\n\u001b[1;32m    133\u001b[0m     \u001b[0;32mdef\u001b[0m \u001b[0m__len__\u001b[0m\u001b[0;34m(\u001b[0m\u001b[0mself\u001b[0m\u001b[0;34m)\u001b[0m\u001b[0;34m:\u001b[0m\u001b[0;34m\u001b[0m\u001b[0m\n",
      "\u001b[0;32m~/anaconda3/envs/anaconda/lib/python3.6/site-packages/sklearn/externals/joblib/parallel.py\u001b[0m in \u001b[0;36m<listcomp>\u001b[0;34m()\u001b[0m\n\u001b[1;32m    129\u001b[0m \u001b[0;34m\u001b[0m\u001b[0m\n\u001b[1;32m    130\u001b[0m     \u001b[0;32mdef\u001b[0m \u001b[0m__call__\u001b[0m\u001b[0;34m(\u001b[0m\u001b[0mself\u001b[0m\u001b[0;34m)\u001b[0m\u001b[0;34m:\u001b[0m\u001b[0;34m\u001b[0m\u001b[0m\n\u001b[0;32m--> 131\u001b[0;31m         \u001b[0;32mreturn\u001b[0m \u001b[0;34m[\u001b[0m\u001b[0mfunc\u001b[0m\u001b[0;34m(\u001b[0m\u001b[0;34m*\u001b[0m\u001b[0margs\u001b[0m\u001b[0;34m,\u001b[0m \u001b[0;34m**\u001b[0m\u001b[0mkwargs\u001b[0m\u001b[0;34m)\u001b[0m \u001b[0;32mfor\u001b[0m \u001b[0mfunc\u001b[0m\u001b[0;34m,\u001b[0m \u001b[0margs\u001b[0m\u001b[0;34m,\u001b[0m \u001b[0mkwargs\u001b[0m \u001b[0;32min\u001b[0m \u001b[0mself\u001b[0m\u001b[0;34m.\u001b[0m\u001b[0mitems\u001b[0m\u001b[0;34m]\u001b[0m\u001b[0;34m\u001b[0m\u001b[0m\n\u001b[0m\u001b[1;32m    132\u001b[0m \u001b[0;34m\u001b[0m\u001b[0m\n\u001b[1;32m    133\u001b[0m     \u001b[0;32mdef\u001b[0m \u001b[0m__len__\u001b[0m\u001b[0;34m(\u001b[0m\u001b[0mself\u001b[0m\u001b[0;34m)\u001b[0m\u001b[0;34m:\u001b[0m\u001b[0;34m\u001b[0m\u001b[0m\n",
      "\u001b[0;32m~/anaconda3/envs/anaconda/lib/python3.6/site-packages/sklearn/model_selection/_validation.py\u001b[0m in \u001b[0;36m_fit_and_score\u001b[0;34m()\u001b[0m\n\u001b[1;32m    456\u001b[0m             \u001b[0mestimator\u001b[0m\u001b[0;34m.\u001b[0m\u001b[0mfit\u001b[0m\u001b[0;34m(\u001b[0m\u001b[0mX_train\u001b[0m\u001b[0;34m,\u001b[0m \u001b[0;34m**\u001b[0m\u001b[0mfit_params\u001b[0m\u001b[0;34m)\u001b[0m\u001b[0;34m\u001b[0m\u001b[0m\n\u001b[1;32m    457\u001b[0m         \u001b[0;32melse\u001b[0m\u001b[0;34m:\u001b[0m\u001b[0;34m\u001b[0m\u001b[0m\n\u001b[0;32m--> 458\u001b[0;31m             \u001b[0mestimator\u001b[0m\u001b[0;34m.\u001b[0m\u001b[0mfit\u001b[0m\u001b[0;34m(\u001b[0m\u001b[0mX_train\u001b[0m\u001b[0;34m,\u001b[0m \u001b[0my_train\u001b[0m\u001b[0;34m,\u001b[0m \u001b[0;34m**\u001b[0m\u001b[0mfit_params\u001b[0m\u001b[0;34m)\u001b[0m\u001b[0;34m\u001b[0m\u001b[0m\n\u001b[0m\u001b[1;32m    459\u001b[0m \u001b[0;34m\u001b[0m\u001b[0m\n\u001b[1;32m    460\u001b[0m     \u001b[0;32mexcept\u001b[0m \u001b[0mException\u001b[0m \u001b[0;32mas\u001b[0m \u001b[0me\u001b[0m\u001b[0;34m:\u001b[0m\u001b[0;34m\u001b[0m\u001b[0m\n",
      "\u001b[0;32m~/anaconda3/envs/anaconda/lib/python3.6/site-packages/sklearn/ensemble/forest.py\u001b[0m in \u001b[0;36mfit\u001b[0;34m()\u001b[0m\n\u001b[1;32m    314\u001b[0m             \u001b[0;32mfor\u001b[0m \u001b[0mi\u001b[0m \u001b[0;32min\u001b[0m \u001b[0mrange\u001b[0m\u001b[0;34m(\u001b[0m\u001b[0mn_more_estimators\u001b[0m\u001b[0;34m)\u001b[0m\u001b[0;34m:\u001b[0m\u001b[0;34m\u001b[0m\u001b[0m\n\u001b[1;32m    315\u001b[0m                 tree = self._make_estimator(append=False,\n\u001b[0;32m--> 316\u001b[0;31m                                             random_state=random_state)\n\u001b[0m\u001b[1;32m    317\u001b[0m                 \u001b[0mtrees\u001b[0m\u001b[0;34m.\u001b[0m\u001b[0mappend\u001b[0m\u001b[0;34m(\u001b[0m\u001b[0mtree\u001b[0m\u001b[0;34m)\u001b[0m\u001b[0;34m\u001b[0m\u001b[0m\n\u001b[1;32m    318\u001b[0m \u001b[0;34m\u001b[0m\u001b[0m\n",
      "\u001b[0;32m~/anaconda3/envs/anaconda/lib/python3.6/site-packages/sklearn/ensemble/base.py\u001b[0m in \u001b[0;36m_make_estimator\u001b[0;34m()\u001b[0m\n\u001b[1;32m    123\u001b[0m         \u001b[0msub\u001b[0m\u001b[0;34m-\u001b[0m\u001b[0mestimators\u001b[0m\u001b[0;34m.\u001b[0m\u001b[0;34m\u001b[0m\u001b[0m\n\u001b[1;32m    124\u001b[0m         \"\"\"\n\u001b[0;32m--> 125\u001b[0;31m         \u001b[0mestimator\u001b[0m \u001b[0;34m=\u001b[0m \u001b[0mclone\u001b[0m\u001b[0;34m(\u001b[0m\u001b[0mself\u001b[0m\u001b[0;34m.\u001b[0m\u001b[0mbase_estimator_\u001b[0m\u001b[0;34m)\u001b[0m\u001b[0;34m\u001b[0m\u001b[0m\n\u001b[0m\u001b[1;32m    126\u001b[0m         estimator.set_params(**dict((p, getattr(self, p))\n\u001b[1;32m    127\u001b[0m                                     for p in self.estimator_params))\n",
      "\u001b[0;32m~/anaconda3/envs/anaconda/lib/python3.6/site-packages/sklearn/base.py\u001b[0m in \u001b[0;36mclone\u001b[0;34m()\u001b[0m\n\u001b[1;32m     58\u001b[0m                             % (repr(estimator), type(estimator)))\n\u001b[1;32m     59\u001b[0m     \u001b[0mklass\u001b[0m \u001b[0;34m=\u001b[0m \u001b[0mestimator\u001b[0m\u001b[0;34m.\u001b[0m\u001b[0m__class__\u001b[0m\u001b[0;34m\u001b[0m\u001b[0m\n\u001b[0;32m---> 60\u001b[0;31m     \u001b[0mnew_object_params\u001b[0m \u001b[0;34m=\u001b[0m \u001b[0mestimator\u001b[0m\u001b[0;34m.\u001b[0m\u001b[0mget_params\u001b[0m\u001b[0;34m(\u001b[0m\u001b[0mdeep\u001b[0m\u001b[0;34m=\u001b[0m\u001b[0;32mFalse\u001b[0m\u001b[0;34m)\u001b[0m\u001b[0;34m\u001b[0m\u001b[0m\n\u001b[0m\u001b[1;32m     61\u001b[0m     \u001b[0;32mfor\u001b[0m \u001b[0mname\u001b[0m\u001b[0;34m,\u001b[0m \u001b[0mparam\u001b[0m \u001b[0;32min\u001b[0m \u001b[0msix\u001b[0m\u001b[0;34m.\u001b[0m\u001b[0miteritems\u001b[0m\u001b[0;34m(\u001b[0m\u001b[0mnew_object_params\u001b[0m\u001b[0;34m)\u001b[0m\u001b[0;34m:\u001b[0m\u001b[0;34m\u001b[0m\u001b[0m\n\u001b[1;32m     62\u001b[0m         \u001b[0mnew_object_params\u001b[0m\u001b[0;34m[\u001b[0m\u001b[0mname\u001b[0m\u001b[0;34m]\u001b[0m \u001b[0;34m=\u001b[0m \u001b[0mclone\u001b[0m\u001b[0;34m(\u001b[0m\u001b[0mparam\u001b[0m\u001b[0;34m,\u001b[0m \u001b[0msafe\u001b[0m\u001b[0;34m=\u001b[0m\u001b[0;32mFalse\u001b[0m\u001b[0;34m)\u001b[0m\u001b[0;34m\u001b[0m\u001b[0m\n",
      "\u001b[0;32m~/anaconda3/envs/anaconda/lib/python3.6/site-packages/sklearn/base.py\u001b[0m in \u001b[0;36mget_params\u001b[0;34m()\u001b[0m\n\u001b[1;32m    239\u001b[0m                     \u001b[0;32mcontinue\u001b[0m\u001b[0;34m\u001b[0m\u001b[0m\n\u001b[1;32m    240\u001b[0m             \u001b[0;32mfinally\u001b[0m\u001b[0;34m:\u001b[0m\u001b[0;34m\u001b[0m\u001b[0m\n\u001b[0;32m--> 241\u001b[0;31m                 \u001b[0mwarnings\u001b[0m\u001b[0;34m.\u001b[0m\u001b[0mfilters\u001b[0m\u001b[0;34m.\u001b[0m\u001b[0mpop\u001b[0m\u001b[0;34m(\u001b[0m\u001b[0;36m0\u001b[0m\u001b[0;34m)\u001b[0m\u001b[0;34m\u001b[0m\u001b[0m\n\u001b[0m\u001b[1;32m    242\u001b[0m \u001b[0;34m\u001b[0m\u001b[0m\n\u001b[1;32m    243\u001b[0m             \u001b[0;31m# XXX: should we rather test if instance of estimator?\u001b[0m\u001b[0;34m\u001b[0m\u001b[0;34m\u001b[0m\u001b[0m\n",
      "\u001b[0;31mIndexError\u001b[0m: pop from empty list"
     ]
    }
   ],
   "source": [
    "from sklearn.base import clone\n",
    "\n",
    "# Learning Curve\n",
    "scale = StandardScaler()\n",
    "rf = RandomForestRegressor(max_features=5, n_estimators=20, n_jobs=1)\n",
    "# min_samples_split=5, min_samples_leaf=3, max_depth=3, \n",
    "\n",
    "pipe = Pipeline(steps=[('scale', scale),('rf',rf)])\n",
    "\n",
    "k_folds=10\n",
    "# cv = RepeatedKFold(n_splits=10, n_repeats=20, random_state=9)\n",
    "\n",
    "np.random.seed(108)\n",
    "df = pd.DataFrame()\n",
    "counter=0\n",
    "\n",
    "start = time()\n",
    "\n",
    "# 10 different sizes to train and test on\n",
    "for frac in [1]: # np.linspace(0.2, 1.0, 9):\n",
    "    print(f'Frac: {frac: 3.1f}')\n",
    "    \n",
    "    # 10 realizations of a subset of specific size to train and test on\n",
    "    for i in range(10):\n",
    "        print(f'Iteration: {i}')\n",
    "\n",
    "        # select a random sample of frac size\n",
    "        n = int(frac*len(X_all))\n",
    "        idx = np.random.choice(len(X_all), size=n, replace=False)\n",
    "        X = X_all.iloc[idx]\n",
    "        y = y_all.values[idx]\n",
    "        \n",
    "        # turn list of values for a single kwarg into a list of kwarg dicts\n",
    "        k_list = [2, 3, 5, 10, 20]\n",
    "        kwarg_list = [ dict(estimator=clone(rf), \n",
    "                            X=X, \n",
    "                            y=y,\n",
    "                            cv = KFold(n_splits=k, random_state=10+i),\n",
    "                            scoring = my_rmse) for k in k_list ]\n",
    "        \n",
    "        future_scores = []\n",
    "        if i % 2:\n",
    "            # 1, 3, 5, ..\n",
    "            future_scores.extend(client.map(mappable_cv, kwarg_list, workers=['127.0.0.1:34269']))\n",
    "            print(\"about to block ...\")\n",
    "            client.gather(future_scores)\n",
    "            print(\"done blocking ....\")\n",
    "        else:\n",
    "            # 0, 2, 4, ...\n",
    "            future_scores = client.map(mappable_cv, kwarg_list, workers=['192.168.168.186:41265'])\n",
    "\n",
    "#         # compute the K cross validated scores\n",
    "#         scores = cross_val_score(rf, X, y, cv=cv, n_jobs=-1, scoring=my_rmse)\n",
    "\n",
    "#         rmse = scores.mean()\n",
    "#         std_value = scores.std()\n",
    "\n",
    "#         # accumulate the results\n",
    "#         df = df.append(pd.DataFrame(data=[[k_folds, n, rmse, std_value]], \n",
    "#                                     columns=['k_fold', 'len', 'rmse', 'std_value']),\n",
    "#                        ignore_index=True)\n",
    "                \n",
    "\n",
    "print(f'Total Time: {time() - start}')"
   ]
  },
  {
   "cell_type": "code",
   "execution_count": 18,
   "metadata": {},
   "outputs": [
    {
     "name": "stdout",
     "output_type": "stream",
     "text": [
      "1\n",
      "3\n",
      "5\n",
      "7\n",
      "9\n"
     ]
    }
   ],
   "source": [
    "for i in range(10):\n",
    "    if i % 2:\n",
    "        print(i)"
   ]
  },
  {
   "cell_type": "code",
   "execution_count": 67,
   "metadata": {},
   "outputs": [],
   "source": [
    "df_save = df.copy()"
   ]
  },
  {
   "cell_type": "code",
   "execution_count": 61,
   "metadata": {},
   "outputs": [
    {
     "data": {
      "text/plain": [
       "k_fold  len  \n",
       "2       4287     10\n",
       "        6430     10\n",
       "        8574     10\n",
       "        10718    10\n",
       "        12861    10\n",
       "        15005    10\n",
       "        17148    10\n",
       "        19292    10\n",
       "        21436    10\n",
       "3       4287     10\n",
       "        6430     10\n",
       "Name: rmse, dtype: int64"
      ]
     },
     "execution_count": 61,
     "metadata": {},
     "output_type": "execute_result"
    }
   ],
   "source": [
    "# group by K and Number of Records in Preparation\n",
    "# for plotting the Learning Curve\n",
    "rmse_data = df.groupby(['k_fold', 'len'])['rmse'].size()\n",
    "rmse_data.head(11)"
   ]
  },
  {
   "cell_type": "code",
   "execution_count": 62,
   "metadata": {},
   "outputs": [
    {
     "data": {
      "text/plain": [
       "k_fold  len  \n",
       "2       4287    -173234.543817\n",
       "        6430    -157123.533648\n",
       "        8574    -154244.804212\n",
       "        10718   -151741.403035\n",
       "        12861   -147793.442438\n",
       "        15005   -145047.209200\n",
       "        17148   -144560.171292\n",
       "        19292   -144067.853726\n",
       "        21436   -142280.356008\n",
       "3       4287    -165423.147248\n",
       "        6430    -151699.019940\n",
       "Name: rmse, dtype: float64"
      ]
     },
     "execution_count": 62,
     "metadata": {},
     "output_type": "execute_result"
    }
   ],
   "source": [
    "rmse_data = df.groupby(['k_fold', 'len'])['rmse'].mean()\n",
    "rmse_data.head(11)"
   ]
  },
  {
   "cell_type": "code",
   "execution_count": 63,
   "metadata": {},
   "outputs": [
    {
     "data": {
      "text/plain": [
       "array([-162180.13196757, -148465.13929468, -147223.81318424,\n",
       "       -143952.32343749, -141076.65033234, -140600.95980026,\n",
       "       -138426.31414948, -136788.89726546, -136262.29300399])"
      ]
     },
     "execution_count": 63,
     "metadata": {},
     "output_type": "execute_result"
    }
   ],
   "source": [
    "rmse_data.loc[5].values"
   ]
  },
  {
   "cell_type": "code",
   "execution_count": 64,
   "metadata": {},
   "outputs": [
    {
     "data": {
      "text/plain": [
       "array([-173234.54381667, -157123.53364765, -154244.8042119 ,\n",
       "       -151741.40303503, -147793.44243819, -145047.20920022,\n",
       "       -144560.17129203, -144067.85372551, -142280.35600754])"
      ]
     },
     "execution_count": 64,
     "metadata": {},
     "output_type": "execute_result"
    }
   ],
   "source": [
    "rmse_data.loc[2].values"
   ]
  },
  {
   "cell_type": "code",
   "execution_count": 54,
   "metadata": {},
   "outputs": [
    {
     "data": {
      "text/plain": [
       "array([ 4287,  6430,  8574, 10718, 12861, 15005, 17148, 19292, 21436])"
      ]
     },
     "execution_count": 54,
     "metadata": {},
     "output_type": "execute_result"
    }
   ],
   "source": [
    "rmse_data.loc[2].index.values"
   ]
  },
  {
   "cell_type": "code",
   "execution_count": 7,
   "metadata": {},
   "outputs": [
    {
     "data": {
      "text/plain": [
       "Text(0.5,1,'Learning Curve')"
      ]
     },
     "execution_count": 7,
     "metadata": {},
     "output_type": "execute_result"
    },
    {
     "data": {
      "image/png": "[encoded data removed]",
      "text/plain": [
       "<Figure size 864x432 with 1 Axes>"
      ]
     },
     "metadata": {},
     "output_type": "display_data"
    }
   ],
   "source": [
    "# plot RMSE vs Sample Size for various values of K\n",
    "plt.figure(figsize=(12,6))\n",
    "\n",
    "rmse_data = df.groupby(['k_fold','len'])['rmse'].mean()\n",
    "for k in [2, 3, 5, 10, 20]:\n",
    "    plt.plot(rmse_data.loc[k].index.values, -rmse_data.loc[k].values, marker='o', label=k)\n",
    "\n",
    "plt.legend(title=\"K Folds\")\n",
    "plt.xlabel('Records')\n",
    "plt.ylabel('RMSE')\n",
    "plt.title('Learning Curve')"
   ]
  },
  {
   "cell_type": "code",
   "execution_count": 65,
   "metadata": {},
   "outputs": [
    {
     "data": {
      "text/plain": [
       "Text(0.5,1,'Learning Curve')"
      ]
     },
     "execution_count": 65,
     "metadata": {},
     "output_type": "execute_result"
    },
    {
     "data": {
      "image/png": "[encoded data removed]",
      "text/plain": [
       "<Figure size 864x432 with 1 Axes>"
      ]
     },
     "metadata": {},
     "output_type": "display_data"
    }
   ],
   "source": [
    "# plot RMSE vs Sample Size for various values of K\n",
    "plt.figure(figsize=(12,6))\n",
    "\n",
    "rmse_data = df.groupby(['k_fold','len'])['rmse'].mean()\n",
    "for k in [2, 3, 5, 10, 20]:\n",
    "    plt.plot(rmse_data.loc[k].index.values, -rmse_data.loc[k].values, marker='o', label=k)\n",
    "\n",
    "plt.legend(title=\"K Folds\")\n",
    "plt.xlabel('Records')\n",
    "plt.ylabel('RMSE')\n",
    "plt.title('Learning Curve')"
   ]
  },
  {
   "cell_type": "code",
   "execution_count": 13,
   "metadata": {},
   "outputs": [
    {
     "data": {
      "text/plain": [
       "21436"
      ]
     },
     "execution_count": 13,
     "metadata": {},
     "output_type": "execute_result"
    }
   ],
   "source": [
    "len(X_all)"
   ]
  },
  {
   "cell_type": "code",
   "execution_count": null,
   "metadata": {},
   "outputs": [],
   "source": []
  },
  {
   "cell_type": "code",
   "execution_count": null,
   "metadata": {},
   "outputs": [],
   "source": []
  },
  {
   "cell_type": "code",
   "execution_count": null,
   "metadata": {},
   "outputs": [],
   "source": []
  },
  {
   "cell_type": "code",
   "execution_count": null,
   "metadata": {},
   "outputs": [],
   "source": []
  },
  {
   "cell_type": "code",
   "execution_count": null,
   "metadata": {},
   "outputs": [],
   "source": []
  },
  {
   "cell_type": "code",
   "execution_count": 12,
   "metadata": {},
   "outputs": [
    {
     "name": "stdout",
     "output_type": "stream",
     "text": [
      "Fitting 5 folds for each of 72 candidates, totalling 360 fits\n"
     ]
    },
    {
     "name": "stderr",
     "output_type": "stream",
     "text": [
      "[Parallel(n_jobs=-1)]: Done  34 tasks      | elapsed:    1.9s\n",
      "[Parallel(n_jobs=-1)]: Done 184 tasks      | elapsed:   12.5s\n"
     ]
    },
    {
     "name": "stdout",
     "output_type": "stream",
     "text": [
      "GridSearchCV Time:  35.0 seconds\n"
     ]
    },
    {
     "name": "stderr",
     "output_type": "stream",
     "text": [
      "[Parallel(n_jobs=-1)]: Done 360 out of 360 | elapsed:   34.9s finished\n"
     ]
    }
   ],
   "source": [
    "# the only dask command is: with parallel_backend ...\n",
    "start = time()\n",
    "with parallel_backend('dask.distributed', scheduler_host='192.168.168.67:8786'):\n",
    "    grid.fit(X_all, y_all)\n",
    "    # scores = cross_val_score(grid, X_all, y_all, cv=3)\n",
    "    \n",
    "print(f'GridSearchCV Time: {time() - start: 5.1f} seconds')"
   ]
  },
  {
   "cell_type": "markdown",
   "metadata": {},
   "source": [
    "### GridSearchCV Results\n",
    "The results for the cross validated grid search are stored in grid.cv_results_. As per [Cross Validation: W and W/O cross_val_score](http://nbviewer.jupyter.org/github/sdiehl28/tutorial-jupyter-notebooks/blob/master/projects/king_county/CV_Pipeline.ipynb) computing the correct RMSE and standard deviation of the RMSE requires access to the individual cross validated scores."
   ]
  },
  {
   "cell_type": "markdown",
   "metadata": {},
   "source": [
    "### Helper Functions to get Data from grid.cv_results\n",
    "cross_val_score returns an array of values, one per fold.  GridSearchCV does not, however this form easiest to work with.  The following helper functions will reorganize cv_results_ to create a multidimensional array of values.\n",
    "\n",
    "The dimensions of the array will be:\n",
    "* K of KFold\n",
    "* n_components of PCA\n",
    "* weighting strategy for KNN Regression\n",
    "* n_neighbors for KNN"
   ]
  },
  {
   "cell_type": "code",
   "execution_count": 13,
   "metadata": {},
   "outputs": [],
   "source": [
    "# find the dictionary keys to access each CV fold\n",
    "def get_test_score_keys(grid):\n",
    "    keys = []\n",
    "    for key in grid.cv_results_.keys():\n",
    "        if 'split' in key and 'test' in key:\n",
    "            keys.append(key)\n",
    "    return keys"
   ]
  },
  {
   "cell_type": "code",
   "execution_count": 14,
   "metadata": {},
   "outputs": [
    {
     "data": {
      "text/plain": [
       "['split0_test_score',\n",
       " 'split1_test_score',\n",
       " 'split2_test_score',\n",
       " 'split3_test_score',\n",
       " 'split4_test_score']"
      ]
     },
     "execution_count": 14,
     "metadata": {},
     "output_type": "execute_result"
    }
   ],
   "source": [
    "# keys for K fold test scores\n",
    "get_test_score_keys(grid)"
   ]
  },
  {
   "cell_type": "code",
   "execution_count": 15,
   "metadata": {},
   "outputs": [
    {
     "data": {
      "text/plain": [
       "{'pca__n_components': [1, 2, 3, 4, 5, 6, 7, 8, 9],\n",
       " 'knn__n_neighbors': [1, 5, 10, 20],\n",
       " 'knn__weights': ['uniform', 'distance']}"
      ]
     },
     "execution_count": 15,
     "metadata": {},
     "output_type": "execute_result"
    }
   ],
   "source": [
    "# paramter grid passed in\n",
    "grid.param_grid"
   ]
  },
  {
   "cell_type": "code",
   "execution_count": 16,
   "metadata": {},
   "outputs": [
    {
     "data": {
      "text/plain": [
       "[{'knn__n_neighbors': 1, 'knn__weights': 'uniform', 'pca__n_components': 1},\n",
       " {'knn__n_neighbors': 1, 'knn__weights': 'uniform', 'pca__n_components': 2},\n",
       " {'knn__n_neighbors': 1, 'knn__weights': 'uniform', 'pca__n_components': 3},\n",
       " {'knn__n_neighbors': 1, 'knn__weights': 'uniform', 'pca__n_components': 4},\n",
       " {'knn__n_neighbors': 1, 'knn__weights': 'uniform', 'pca__n_components': 5},\n",
       " {'knn__n_neighbors': 1, 'knn__weights': 'uniform', 'pca__n_components': 6},\n",
       " {'knn__n_neighbors': 1, 'knn__weights': 'uniform', 'pca__n_components': 7},\n",
       " {'knn__n_neighbors': 1, 'knn__weights': 'uniform', 'pca__n_components': 8},\n",
       " {'knn__n_neighbors': 1, 'knn__weights': 'uniform', 'pca__n_components': 9},\n",
       " {'knn__n_neighbors': 1, 'knn__weights': 'distance', 'pca__n_components': 1}]"
      ]
     },
     "execution_count": 16,
     "metadata": {},
     "output_type": "execute_result"
    }
   ],
   "source": [
    "# GridSearchCV places the results in alphabetical order of paramter name\n",
    "grid.cv_results_['params'][:10]"
   ]
  },
  {
   "cell_type": "code",
   "execution_count": 17,
   "metadata": {},
   "outputs": [],
   "source": [
    "# Get the dimensions of the parameter grid\n",
    "def get_dim(grid):\n",
    "    dims = []\n",
    "    for key in sorted(grid.param_grid.keys()):\n",
    "        dims.append(len(grid.param_grid[key]))\n",
    "    return tuple(dims)"
   ]
  },
  {
   "cell_type": "code",
   "execution_count": 18,
   "metadata": {},
   "outputs": [
    {
     "data": {
      "text/plain": [
       "(4, 2, 9)"
      ]
     },
     "execution_count": 18,
     "metadata": {},
     "output_type": "execute_result"
    }
   ],
   "source": [
    "# dimensions of parameter grid\n",
    "get_dim(grid)"
   ]
  },
  {
   "cell_type": "markdown",
   "metadata": {},
   "source": [
    "These dimensions match what is seen above for grid.cv_results_\\['params'\\]"
   ]
  },
  {
   "cell_type": "code",
   "execution_count": 19,
   "metadata": {},
   "outputs": [],
   "source": [
    "# convert the CV test scores to an array\n",
    "def get_test_data(grid):\n",
    "    dim = get_dim(grid)\n",
    "    new_dim = (grid.cv.get_n_splits(), *dim)\n",
    "\n",
    "    result = np.zeros(new_dim)\n",
    "    for i, key in enumerate(get_test_score_keys(grid)):\n",
    "        data = np.array(grid.cv_results_[key])\n",
    "        data = data.reshape(dim)\n",
    "        result[i] = data\n",
    "\n",
    "    return result"
   ]
  },
  {
   "cell_type": "code",
   "execution_count": 20,
   "metadata": {},
   "outputs": [
    {
     "data": {
      "text/plain": [
       "(5, 4, 2, 9)"
      ]
     },
     "execution_count": 20,
     "metadata": {},
     "output_type": "execute_result"
    }
   ],
   "source": [
    "# There are 5 (4,2,9) CV test scores\n",
    "get_test_data(grid).shape"
   ]
  },
  {
   "cell_type": "code",
   "execution_count": 21,
   "metadata": {},
   "outputs": [
    {
     "name": "stdout",
     "output_type": "stream",
     "text": [
      "(4, 2, 9)\n",
      "True\n"
     ]
    }
   ],
   "source": [
    "# verify the helper functions work properly\n",
    "\n",
    "# compute mean test score using numpy array\n",
    "test_data = get_test_data(grid)\n",
    "mean_scores = test_data.mean(axis=0)\n",
    "print(mean_scores.shape)\n",
    "\n",
    "# retrieve mean test score from cv_results_\n",
    "mean_scores2 = grid.cv_results_['mean_test_score']\n",
    "mean_scores2 = mean_scores2.reshape(get_dim(grid))\n",
    "\n",
    "# verify that every value is (almost) the same\n",
    "print(np.allclose(mean_scores, mean_scores2, rtol=2e-5))"
   ]
  },
  {
   "cell_type": "markdown",
   "metadata": {},
   "source": [
    "Helper methods produced same result."
   ]
  },
  {
   "cell_type": "code",
   "execution_count": 22,
   "metadata": {},
   "outputs": [
    {
     "name": "stdout",
     "output_type": "stream",
     "text": [
      "(4, 2, 9)\n",
      "True\n"
     ]
    }
   ],
   "source": [
    "# verify the helper functions work properly for std as well\n",
    "\n",
    "test_data = get_test_data(grid)\n",
    "std_scores = test_data.std(axis=0)\n",
    "print(std_scores.shape)\n",
    "\n",
    "std_scores2 = grid.cv_results_['std_test_score']\n",
    "std_scores2 = std_scores2.reshape(get_dim(grid))\n",
    "print(np.allclose(std_scores, std_scores2, rtol=6e-5))"
   ]
  },
  {
   "cell_type": "markdown",
   "metadata": {},
   "source": [
    "As per [Cross Validation: W and W/O cross_val_score](http://nbviewer.jupyter.org/github/sdiehl28/tutorial-jupyter-notebooks/blob/master/projects/king_county/CV_Pipeline.ipynb) in the section RMSE Computation.\n",
    "\n",
    "It is not possible to get RMSE and standard deviation of RMSE, from cv_results_ 'mean_test_score' and 'std_test_score' as these vaules are based on MSE, not RMSE."
   ]
  },
  {
   "cell_type": "code",
   "execution_count": 23,
   "metadata": {},
   "outputs": [],
   "source": [
    "# compute RMSE\n",
    "test_data = get_test_data(grid)\n",
    "rmse_scores = np.sqrt(np.abs(test_data)).mean(axis=0)\n",
    "\n",
    "# compute standard deviation of RMSE\n",
    "std_scores = np.sqrt(np.abs(test_data)).std(axis=0)"
   ]
  },
  {
   "cell_type": "markdown",
   "metadata": {},
   "source": [
    "### Examine Hyperparameter Space\n",
    "Create 2 2D arrays, one for each weighting scheme.\n",
    "\n",
    "Examine each 2D array as heatmap to see where the best model performance is."
   ]
  },
  {
   "cell_type": "code",
   "execution_count": 24,
   "metadata": {},
   "outputs": [
    {
     "name": "stdout",
     "output_type": "stream",
     "text": [
      "(4, 9)\n"
     ]
    }
   ],
   "source": [
    "# split out the uniformly weighted from the distance weighted mean of the K target values\n",
    "rmse_uniform = rmse_scores[:,0,:]\n",
    "rmse_dist    = rmse_scores[:,1,:]\n",
    "std_uniform   = std_scores[:,0,:]\n",
    "std_dist      = std_scores[:,1,:]\n",
    "print(rmse_uniform.shape)"
   ]
  },
  {
   "cell_type": "code",
   "execution_count": 25,
   "metadata": {},
   "outputs": [
    {
     "data": {
      "text/plain": [
       "Text(0.5,1,'RMSE Uniform Weighting')"
      ]
     },
     "execution_count": 25,
     "metadata": {},
     "output_type": "execute_result"
    },
    {
     "data": {
      "image/png": "[encoded data removed]",
      "text/plain": [
       "<Figure size 1008x576 with 1 Axes>"
      ]
     },
     "metadata": {},
     "output_type": "display_data"
    }
   ],
   "source": [
    "# scale so annotation on plot is more readable\n",
    "df = pd.DataFrame(data=rmse_uniform/1e5, columns=n_components, index=n_neighbors)\n",
    "plt.figure(figsize=(14,8))\n",
    "sns.heatmap(df, linewidth=0.5, annot=True, cmap='inferno_r',fmt='4.2f', cbar=False)\n",
    "plt.xlabel('Number of PCA Dimenstions')\n",
    "plt.ylabel('K')\n",
    "plt.title('RMSE Uniform Weighting')"
   ]
  },
  {
   "cell_type": "code",
   "execution_count": 26,
   "metadata": {},
   "outputs": [
    {
     "data": {
      "text/plain": [
       "Text(0.5,1,'RMSE Distance Weighting')"
      ]
     },
     "execution_count": 26,
     "metadata": {},
     "output_type": "execute_result"
    },
    {
     "data": {
      "image/png": "[encoded data removed]",
      "text/plain": [
       "<Figure size 1008x576 with 1 Axes>"
      ]
     },
     "metadata": {},
     "output_type": "display_data"
    }
   ],
   "source": [
    "# scale so annotation on plot is more readable\n",
    "df = pd.DataFrame(data=rmse_dist/1e5, columns=n_components, index=n_neighbors)\n",
    "plt.figure(figsize=(14,8))\n",
    "sns.heatmap(df, linewidth=0.5, annot=True, cmap='inferno_r',fmt='4.2f', cbar=False)\n",
    "plt.xlabel('Number of PCA Dimenstions')\n",
    "plt.ylabel('K')\n",
    "plt.title('RMSE Distance Weighting')"
   ]
  },
  {
   "cell_type": "code",
   "execution_count": 27,
   "metadata": {},
   "outputs": [
    {
     "data": {
      "text/plain": [
       "Text(0.5,1,'Standard Devation of RMSE Uniform Weighting')"
      ]
     },
     "execution_count": 27,
     "metadata": {},
     "output_type": "execute_result"
    },
    {
     "data": {
      "image/png": "[encoded data removed]",
      "text/plain": [
       "<Figure size 1008x576 with 1 Axes>"
      ]
     },
     "metadata": {},
     "output_type": "display_data"
    }
   ],
   "source": [
    "# scale to annotation on plot is more readable\n",
    "df = pd.DataFrame(data=std_uniform/1e3, columns=n_components, index=n_neighbors)\n",
    "plt.figure(figsize=(14,8))\n",
    "sns.heatmap(df, linewidth=0.5, annot=True, cmap='inferno_r',fmt='4.2f', cbar=False)\n",
    "plt.xlabel('Number of PCA Dimenstions')\n",
    "plt.ylabel('K')\n",
    "plt.title('Standard Devation of RMSE Uniform Weighting')"
   ]
  },
  {
   "cell_type": "code",
   "execution_count": 28,
   "metadata": {},
   "outputs": [
    {
     "data": {
      "text/plain": [
       "Text(0.5,1,'Standard Devation of RMSE Distance Weighting')"
      ]
     },
     "execution_count": 28,
     "metadata": {},
     "output_type": "execute_result"
    },
    {
     "data": {
      "image/png": "[encoded data removed]",
      "text/plain": [
       "<Figure size 1008x576 with 1 Axes>"
      ]
     },
     "metadata": {},
     "output_type": "display_data"
    }
   ],
   "source": [
    "# scale to annotation on plot is more readable\n",
    "df = pd.DataFrame(data=std_dist/1e3, columns=n_components, index=n_neighbors)\n",
    "plt.figure(figsize=(14,8))\n",
    "sns.heatmap(df, linewidth=0.5, annot=True, cmap='inferno_r',fmt='4.2f', cbar=False)\n",
    "plt.xlabel('Number of PCA Dimenstions')\n",
    "plt.ylabel('K')\n",
    "plt.title('Standard Devation of RMSE Distance Weighting')"
   ]
  },
  {
   "cell_type": "markdown",
   "metadata": {},
   "source": [
    "Best score was (10, distance, 8).  Compute these again with cross_val_score() to verify results."
   ]
  },
  {
   "cell_type": "code",
   "execution_count": 29,
   "metadata": {},
   "outputs": [
    {
     "data": {
      "text/plain": [
       "160024.18177278718"
      ]
     },
     "execution_count": 29,
     "metadata": {},
     "output_type": "execute_result"
    }
   ],
   "source": [
    "from sklearn.preprocessing import StandardScaler\n",
    "from sklearn.decomposition import PCA\n",
    "from sklearn.neighbors import KNeighborsRegressor\n",
    "from sklearn.pipeline import Pipeline\n",
    "from sklearn.model_selection import cross_val_score, KFold\n",
    "from sklearn.metrics import mean_squared_error\n",
    "\n",
    "scale = StandardScaler()\n",
    "pca = PCA(n_components=8)\n",
    "knn = KNeighborsRegressor(weights='distance', n_neighbors=10)\n",
    "\n",
    "pipe = Pipeline(steps=[('scale', scale),('pca',pca), ('knn',knn)])\n",
    "\n",
    "# setup an explict cv generator for repeatability\n",
    "k_folds = 5\n",
    "random_seed=108\n",
    "cv = KFold(n_splits=k_folds, shuffle=True, random_state=random_seed)\n",
    "\n",
    "# with parallel_backend('dask.distributed', scheduler_host='192.168.168.67:8786'):\n",
    "scores = cross_val_score(pipe, X_all, y_all, cv=cv, \n",
    "                             scoring='neg_mean_squared_error', n_jobs=1)\n",
    "\n",
    "# RMSE\n",
    "rmse = np.sqrt(np.abs(scores)).mean()\n",
    "rmse"
   ]
  },
  {
   "cell_type": "code",
   "execution_count": 30,
   "metadata": {},
   "outputs": [
    {
     "name": "stdout",
     "output_type": "stream",
     "text": [
      "10\n",
      "distance\n",
      "8\n",
      "True\n"
     ]
    }
   ],
   "source": [
    "# verify the rmse scores computed above match\n",
    "print(grid.param_grid['knn__n_neighbors'][2])\n",
    "print(grid.param_grid['knn__weights'][1])\n",
    "print(grid.param_grid['pca__n_components'][7])\n",
    "\n",
    "# RMSE for K = 10, weight = distance, PCA components = 8\n",
    "rmse_scores[2,1,7]\n",
    "print(np.allclose(rmse, rmse_scores[2,1,7]))"
   ]
  },
  {
   "cell_type": "markdown",
   "metadata": {},
   "source": [
    "### Analysis of Results\n",
    "Put that here ...\n",
    "Refere to LearningCurve and BiasCorrection nb"
   ]
  }
 ],
 "metadata": {
  "kernelspec": {
   "display_name": "Python 3",
   "language": "python",
   "name": "python3"
  },
  "language_info": {
   "codemirror_mode": {
    "name": "ipython",
    "version": 3
   },
   "file_extension": ".py",
   "mimetype": "text/x-python",
   "name": "python",
   "nbconvert_exporter": "python",
   "pygments_lexer": "ipython3",
   "version": "3.6.5"
  }
 },
 "nbformat": 4,
 "nbformat_minor": 2
}
