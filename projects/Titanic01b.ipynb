{
 "cells": [
  {
   "cell_type": "markdown",
   "metadata": {},
   "source": [
    "# Model Comparison\n",
    "\n",
    "Jupyter Notebook referenced from my website:\n",
    "[Software Nirvana: Model Selection (1b)](https://sdiehl28.netlify.com/2018/03/model-selection-1b)"
   ]
  },
  {
   "cell_type": "markdown",
   "metadata": {},
   "source": [
    "### Goals\n",
    "Discuss how to chose the \"best\" model between two models based on their Cross Validated Scores.\n",
    "\n",
    "Most of this discussion is on the blog post at the above link."
   ]
  },
  {
   "cell_type": "markdown",
   "metadata": {},
   "source": [
    "### Common Imports and Notebook Setup"
   ]
  },
  {
   "cell_type": "code",
   "execution_count": 1,
   "metadata": {},
   "outputs": [],
   "source": [
    "import numpy as np\n",
    "import pandas as pd\n",
    "import matplotlib.pyplot as plt\n",
    "import seaborn as sns\n",
    "import sklearn as sk\n",
    "%matplotlib inline\n",
    "sns.set() # enable seaborn style"
   ]
  },
  {
   "cell_type": "code",
   "execution_count": 2,
   "metadata": {},
   "outputs": [
    {
     "data": {
      "text/plain": [
       "Pclass      int64\n",
       "SibSp       int64\n",
       "Parch       int64\n",
       "Fare      float64\n",
       "dtype: object"
      ]
     },
     "execution_count": 2,
     "metadata": {},
     "output_type": "execute_result"
    }
   ],
   "source": [
    "# read in all the labeled data\n",
    "all_data = pd.read_csv('../data/train.csv')\n",
    "\n",
    "# break up the dataframe into X and y\n",
    "X = all_data.drop('Survived', axis=1)\n",
    "y = all_data['Survived']\n",
    "\n",
    "# As before, remove all non-numeric fields and PassengerId\n",
    "drop_fields = ['Name', 'Sex', 'Ticket', 'Cabin', 'Embarked', 'PassengerId']\n",
    "X = X.drop(drop_fields, axis=1)\n",
    "\n",
    "# Remove all columns with null values (1st iteration only)\n",
    "X.dropna(axis=1, inplace=True)\n",
    "X.dtypes"
   ]
  },
  {
   "cell_type": "code",
   "execution_count": 3,
   "metadata": {},
   "outputs": [
    {
     "name": "stdout",
     "output_type": "stream",
     "text": [
      "Scores: \n",
      " [0.6   0.64  0.629 0.674 0.551 0.607 0.607 0.596 0.64  0.618]\n",
      "Cross Validated Accuracy: 0.616\n"
     ]
    }
   ],
   "source": [
    "from sklearn.model_selection import cross_val_score, KFold\n",
    "from sklearn.dummy import DummyClassifier\n",
    "\n",
    "k_folds = 10\n",
    "random_seed=5\n",
    "crossvalidation = KFold(n_splits=k_folds, shuffle=True, \n",
    "                        random_state=random_seed)\n",
    "\n",
    "null_model = DummyClassifier(strategy='most_frequent',random_state=0)\n",
    "\n",
    "null_model_scores = cross_val_score(null_model, X, y, cv=crossvalidation, \n",
    "                         scoring='accuracy', n_jobs=-1)\n",
    "\n",
    "print('Scores: \\n', np.round(null_model_scores, 3))\n",
    "print(f'Cross Validated Accuracy: {null_model_scores.mean():.3f}')"
   ]
  },
  {
   "cell_type": "code",
   "execution_count": 5,
   "metadata": {},
   "outputs": [
    {
     "name": "stdout",
     "output_type": "stream",
     "text": [
      "Scores: \n",
      " [0.689 0.764 0.697 0.73  0.629 0.64  0.652 0.697 0.708 0.652]\n",
      "Cross Validated Accuracy: 0.686\n"
     ]
    }
   ],
   "source": [
    "from sklearn.linear_model import LogisticRegression\n",
    "base_model = LogisticRegression()\n",
    "\n",
    "k_folds = 10\n",
    "random_seed=5\n",
    "crossvalidation = KFold(n_splits=k_folds, shuffle=True, \n",
    "                        random_state=random_seed)\n",
    "\n",
    "# compute cross validated scores for each of the K=5 folds\n",
    "scores = cross_val_score(base_model, X, y, cv=crossvalidation, \n",
    "                         scoring='accuracy', n_jobs=-1)\n",
    "\n",
    "# save iteration 1 results for comparison with future iterations\n",
    "np.save(\"../data/iter01.data\", scores)\n",
    "\n",
    "# print results\n",
    "print('Scores: \\n', np.round(scores, 3))\n",
    "print(f'Cross Validated Accuracy: {scores.mean():.3f}')"
   ]
  },
  {
   "cell_type": "code",
   "execution_count": 6,
   "metadata": {},
   "outputs": [
    {
     "name": "stdout",
     "output_type": "stream",
     "text": [
      "CV Diff Scores: \n",
      "[0.089 0.124 0.067 0.056 0.079 0.034 0.045 0.101 0.067 0.034]\n",
      "Mean diff: 0.070\n"
     ]
    }
   ],
   "source": [
    "diff_scores = scores - null_model_scores\n",
    "print(f'CV Diff Scores: \\n{np.round(diff_scores,3)}')\n",
    "print(f'Mean diff: {diff_scores.mean():.3f}')"
   ]
  },
  {
   "cell_type": "code",
   "execution_count": 7,
   "metadata": {},
   "outputs": [
    {
     "data": {
      "text/plain": [
       "<matplotlib.axes._subplots.AxesSubplot at 0x7f3cb39f8898>"
      ]
     },
     "execution_count": 7,
     "metadata": {},
     "output_type": "execute_result"
    },
    {
     "data": {
      "image/png": "[encoded data removed]",
      "text/plain": [
       "<Figure size 432x288 with 1 Axes>"
      ]
     },
     "metadata": {},
     "output_type": "display_data"
    }
   ],
   "source": [
    "sns.boxplot(y=diff_scores)"
   ]
  },
  {
   "cell_type": "markdown",
   "metadata": {},
   "source": [
    "We see that every CV score was better for our simple Logistic Regression model than it was for the null model, so we decide that it is the better model."
   ]
  },
  {
   "cell_type": "markdown",
   "metadata": {},
   "source": [
    "### Summary\n",
    "\n",
    "Most of the discussion was presented in the [blog post](https://sdiehl28.netlify.com/2018/03/model-selection-1b)\n",
    "\n",
    "For model comparison, we will compute the cross validated scores an the same train/test"
   ]
  }
 ],
 "metadata": {
  "kernelspec": {
   "display_name": "Python 3",
   "language": "python",
   "name": "python3"
  },
  "language_info": {
   "codemirror_mode": {
    "name": "ipython",
    "version": 3
   },
   "file_extension": ".py",
   "mimetype": "text/x-python",
   "name": "python",
   "nbconvert_exporter": "python",
   "pygments_lexer": "ipython3",
   "version": "3.6.5"
  },
  "varInspector": {
   "cols": {
    "lenName": 16,
    "lenType": 16,
    "lenVar": 40
   },
   "kernels_config": {
    "python": {
     "delete_cmd_postfix": "",
     "delete_cmd_prefix": "del ",
     "library": "var_list.py",
     "varRefreshCmd": "print(var_dic_list())"
    },
    "r": {
     "delete_cmd_postfix": ") ",
     "delete_cmd_prefix": "rm(",
     "library": "var_list.r",
     "varRefreshCmd": "cat(var_dic_list()) "
    }
   },
   "position": {
    "height": "356px",
    "left": "51px",
    "right": "20px",
    "top": "142px",
    "width": "714px"
   },
   "types_to_exclude": [
    "module",
    "function",
    "builtin_function_or_method",
    "instance",
    "_Feature"
   ],
   "window_display": true
  }
 },
 "nbformat": 4,
 "nbformat_minor": 2
}
