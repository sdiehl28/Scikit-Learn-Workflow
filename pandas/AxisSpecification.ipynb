{
 "cells": [
  {
   "cell_type": "markdown",
   "metadata": {},
   "source": [
    "# Axis Specification in Pandas\n",
    "For math operations, specifying the axis works the same as in numpy."
   ]
  },
  {
   "cell_type": "code",
   "execution_count": 1,
   "metadata": {},
   "outputs": [
    {
     "name": "stdout",
     "output_type": "stream",
     "text": [
      "Pandas Version 0.22.0\n",
      "Numpy Version 1.14.1\n"
     ]
    }
   ],
   "source": [
    "import pandas as pd\n",
    "print(\"Pandas Version {}\".format(pd.__version__))\n",
    "import numpy as np\n",
    "print(\"Numpy Version {}\".format(np.__version__))"
   ]
  },
  {
   "cell_type": "markdown",
   "metadata": {},
   "source": [
    "### Definition of Row and Column\n",
    "As in an Excel spreadsheet or a database table:\n",
    "* columns are the attributes and run vertically\n",
    "* rows are the records (or observations) and run horizontally.\n",
    "\n",
    "### My \"Row Operation\" Definition\n",
    "Apply sum as a \"row operation\" means to produce a sum for each row of data.  If the rows have identifiers, the identifier for each sum is the corresponding row name. \n",
    "\n",
    "### My \"Column Operation\" Definition\n",
    "Apply sum as a \"column operation\" means to produce a sum for each column of data.  If the columns have identifiers, the identifier for each column is the corresponding column name.\n",
    "\n",
    "### Caution: Pandas and Numpy Users define Row and Column Operation Differently\n",
    "My definitions are consistent with how these terms are used in Excel or a database table, however they are inconsistent with how these terms are used in Numpy and Pandas!\n",
    "\n",
    "In Numpy and Pandas, if you have 4 columns and you sum over each column producing 4 results, each result having a column name, you have summed *across* or *along* the rows and you have therefore performed a \"row operation\".\n",
    "\n",
    "To communicate with people from different backgrounds, I find it best to simply say \"axis=0\" or \"axis=1\".  The Pandas DataFrame API is well defined and everyone agrees what happens when you specify the axis value for a mathematical operation such as sum().\n",
    "\n",
    "This should become clearer with the examples below."
   ]
  },
  {
   "cell_type": "code",
   "execution_count": 2,
   "metadata": {},
   "outputs": [
    {
     "data": {
      "text/plain": [
       "array([[ 0,  1,  2,  3],\n",
       "       [ 4,  5,  6,  7],\n",
       "       [ 8,  9, 10, 11]])"
      ]
     },
     "execution_count": 2,
     "metadata": {},
     "output_type": "execute_result"
    }
   ],
   "source": [
    "X = np.arange(12).reshape((3,4))\n",
    "X"
   ]
  },
  {
   "cell_type": "code",
   "execution_count": 3,
   "metadata": {},
   "outputs": [
    {
     "name": "stdout",
     "output_type": "stream",
     "text": [
      "<class 'numpy.ndarray'>\n"
     ]
    },
    {
     "data": {
      "text/plain": [
       "array([12, 15, 18, 21])"
      ]
     },
     "execution_count": 3,
     "metadata": {},
     "output_type": "execute_result"
    }
   ],
   "source": [
    "# apply the sum operation to each column of data\n",
    "# this is a numpy operation *not* a Pandas operation!\n",
    "print(type(X))\n",
    "X.sum(axis=0)"
   ]
  },
  {
   "cell_type": "markdown",
   "metadata": {},
   "source": [
    "The result has 4 values, as there are 4 columns of data on which the sum operated on.\n",
    "\n",
    "<pre>\n",
    "12 = 0 + 4 +  8 = Sum of Column 0  \n",
    "15 = 1 + 5 +  9 = Sum of Column 1  \n",
    "18 = 2 + 6 + 10 = Sum of Column 2   \n",
    "21 = 3 + 7 + 11 = Sum of Column 3  \n",
    "</pre>\n",
    "\n",
    "Again, I call this a column operation.  It is specified with axis=0."
   ]
  },
  {
   "cell_type": "code",
   "execution_count": 4,
   "metadata": {},
   "outputs": [
    {
     "data": {
      "text/plain": [
       "array([ 6, 22, 38])"
      ]
     },
     "execution_count": 4,
     "metadata": {},
     "output_type": "execute_result"
    }
   ],
   "source": [
    "# apply the sum operation to each row of data\n",
    "# this is a numpy operation *not* a Pandas operation!\n",
    "X.sum(axis=1)"
   ]
  },
  {
   "cell_type": "markdown",
   "metadata": {},
   "source": [
    "The result has 3 values, as there are 3 rows of data on which the sum operated.\n",
    "\n",
    "<pre>\n",
    " 6 = 0 + 1 +  2 +  3 = Sum of Row 0  \n",
    "22 = 4 + 5 +  6 +  7 = Sum of Row 1  \n",
    "38 = 8 + 9 + 10 + 11 = Sum of Row 2   \n",
    "</pre>\n",
    "\n",
    "Again, I call this a row operation.  It is specified with axis=1."
   ]
  },
  {
   "cell_type": "code",
   "execution_count": 5,
   "metadata": {},
   "outputs": [
    {
     "name": "stdout",
     "output_type": "stream",
     "text": [
      "<class 'pandas.core.frame.DataFrame'>\n"
     ]
    },
    {
     "data": {
      "text/html": [
       "<div>\n",
       "<style scoped>\n",
       "    .dataframe tbody tr th:only-of-type {\n",
       "        vertical-align: middle;\n",
       "    }\n",
       "\n",
       "    .dataframe tbody tr th {\n",
       "        vertical-align: top;\n",
       "    }\n",
       "\n",
       "    .dataframe thead th {\n",
       "        text-align: right;\n",
       "    }\n",
       "</style>\n",
       "<table border=\"1\" class=\"dataframe\">\n",
       "  <thead>\n",
       "    <tr style=\"text-align: right;\">\n",
       "      <th></th>\n",
       "      <th>c1</th>\n",
       "      <th>c2</th>\n",
       "      <th>c3</th>\n",
       "      <th>c4</th>\n",
       "    </tr>\n",
       "  </thead>\n",
       "  <tbody>\n",
       "    <tr>\n",
       "      <th>r1</th>\n",
       "      <td>0</td>\n",
       "      <td>1</td>\n",
       "      <td>2</td>\n",
       "      <td>3</td>\n",
       "    </tr>\n",
       "    <tr>\n",
       "      <th>r2</th>\n",
       "      <td>4</td>\n",
       "      <td>5</td>\n",
       "      <td>6</td>\n",
       "      <td>7</td>\n",
       "    </tr>\n",
       "    <tr>\n",
       "      <th>r3</th>\n",
       "      <td>8</td>\n",
       "      <td>9</td>\n",
       "      <td>10</td>\n",
       "      <td>11</td>\n",
       "    </tr>\n",
       "  </tbody>\n",
       "</table>\n",
       "</div>"
      ],
      "text/plain": [
       "    c1  c2  c3  c4\n",
       "r1   0   1   2   3\n",
       "r2   4   5   6   7\n",
       "r3   8   9  10  11"
      ]
     },
     "execution_count": 5,
     "metadata": {},
     "output_type": "execute_result"
    }
   ],
   "source": [
    "df = pd.DataFrame(data=X, \\\n",
    "                  columns=\"c1 c2 c3 c4\".split(), \\\n",
    "                  index=\"r1 r2 r3\".split())\n",
    "print(type(df))\n",
    "df"
   ]
  },
  {
   "cell_type": "code",
   "execution_count": 6,
   "metadata": {},
   "outputs": [
    {
     "data": {
      "text/plain": [
       "c1    12\n",
       "c2    15\n",
       "c3    18\n",
       "c4    21\n",
       "dtype: int64"
      ]
     },
     "execution_count": 6,
     "metadata": {},
     "output_type": "execute_result"
    }
   ],
   "source": [
    "# sum each column of data\n",
    "# this is a Pandas DataFrame operation\n",
    "# the axis specification is the same as in numpy\n",
    "df.sum(axis=0)"
   ]
  },
  {
   "cell_type": "markdown",
   "metadata": {},
   "source": [
    "The result has 4 values, as there are 4 columns on which the sum operated.\n",
    "\n",
    "The identifiers for each value are the column names."
   ]
  },
  {
   "cell_type": "code",
   "execution_count": 7,
   "metadata": {},
   "outputs": [
    {
     "data": {
      "text/plain": [
       "r1     6\n",
       "r2    22\n",
       "r3    38\n",
       "dtype: int64"
      ]
     },
     "execution_count": 7,
     "metadata": {},
     "output_type": "execute_result"
    }
   ],
   "source": [
    "# sum each row of data\n",
    "# this is a Pandas DataFrame operation\n",
    "# the axis specification is the same as in numpy\n",
    "df.sum(axis=1)"
   ]
  },
  {
   "cell_type": "markdown",
   "metadata": {},
   "source": [
    "The result has 3 values, as there are 3 rows that the sum operation acted on.\n",
    "\n",
    "The identifiers for each row are the row names."
   ]
  },
  {
   "cell_type": "code",
   "execution_count": 8,
   "metadata": {},
   "outputs": [
    {
     "data": {
      "text/plain": [
       "array([ True,  True,  True,  True])"
      ]
     },
     "execution_count": 8,
     "metadata": {},
     "output_type": "execute_result"
    }
   ],
   "source": [
    "# verify again that axis works the same way, for sum()\n",
    "# sum each column of data and compare numpy arrays\n",
    "X.sum(axis=0) == df.sum(axis=0).values"
   ]
  },
  {
   "cell_type": "code",
   "execution_count": 9,
   "metadata": {},
   "outputs": [
    {
     "data": {
      "text/plain": [
       "array([ True,  True,  True])"
      ]
     },
     "execution_count": 9,
     "metadata": {},
     "output_type": "execute_result"
    }
   ],
   "source": [
    "# verify again that axis works the same way, for sum()\n",
    "# sum each row of data and compare numpy arrays\n",
    "X.sum(axis=1) == df.sum(axis=1).values"
   ]
  },
  {
   "cell_type": "markdown",
   "metadata": {},
   "source": [
    "### Pandas is not consistent about the use of axis specification with 0 and 1\n",
    "\n",
    "Three operations which use an axis specification inconsistent with the above are:\n",
    "* DataFrame.dropna()\n",
    "* DataFrame.drop()\n",
    "* pd.concat()"
   ]
  },
  {
   "cell_type": "code",
   "execution_count": 10,
   "metadata": {},
   "outputs": [
    {
     "data": {
      "text/html": [
       "<div>\n",
       "<style scoped>\n",
       "    .dataframe tbody tr th:only-of-type {\n",
       "        vertical-align: middle;\n",
       "    }\n",
       "\n",
       "    .dataframe tbody tr th {\n",
       "        vertical-align: top;\n",
       "    }\n",
       "\n",
       "    .dataframe thead th {\n",
       "        text-align: right;\n",
       "    }\n",
       "</style>\n",
       "<table border=\"1\" class=\"dataframe\">\n",
       "  <thead>\n",
       "    <tr style=\"text-align: right;\">\n",
       "      <th></th>\n",
       "      <th>c1</th>\n",
       "      <th>c3</th>\n",
       "      <th>c4</th>\n",
       "    </tr>\n",
       "  </thead>\n",
       "  <tbody>\n",
       "    <tr>\n",
       "      <th>r1</th>\n",
       "      <td>0</td>\n",
       "      <td>2</td>\n",
       "      <td>3</td>\n",
       "    </tr>\n",
       "    <tr>\n",
       "      <th>r2</th>\n",
       "      <td>4</td>\n",
       "      <td>6</td>\n",
       "      <td>7</td>\n",
       "    </tr>\n",
       "    <tr>\n",
       "      <th>r3</th>\n",
       "      <td>8</td>\n",
       "      <td>10</td>\n",
       "      <td>11</td>\n",
       "    </tr>\n",
       "  </tbody>\n",
       "</table>\n",
       "</div>"
      ],
      "text/plain": [
       "    c1  c3  c4\n",
       "r1   0   2   3\n",
       "r2   4   6   7\n",
       "r3   8  10  11"
      ]
     },
     "execution_count": 10,
     "metadata": {},
     "output_type": "execute_result"
    }
   ],
   "source": [
    "# to drop a column, use axis=1 !!\n",
    "df.drop('c2', axis=1)"
   ]
  },
  {
   "cell_type": "code",
   "execution_count": 11,
   "metadata": {},
   "outputs": [
    {
     "data": {
      "text/html": [
       "<div>\n",
       "<style scoped>\n",
       "    .dataframe tbody tr th:only-of-type {\n",
       "        vertical-align: middle;\n",
       "    }\n",
       "\n",
       "    .dataframe tbody tr th {\n",
       "        vertical-align: top;\n",
       "    }\n",
       "\n",
       "    .dataframe thead th {\n",
       "        text-align: right;\n",
       "    }\n",
       "</style>\n",
       "<table border=\"1\" class=\"dataframe\">\n",
       "  <thead>\n",
       "    <tr style=\"text-align: right;\">\n",
       "      <th></th>\n",
       "      <th>c1</th>\n",
       "      <th>c2</th>\n",
       "      <th>c3</th>\n",
       "      <th>c4</th>\n",
       "    </tr>\n",
       "  </thead>\n",
       "  <tbody>\n",
       "    <tr>\n",
       "      <th>r1</th>\n",
       "      <td>0</td>\n",
       "      <td>1</td>\n",
       "      <td>2</td>\n",
       "      <td>3</td>\n",
       "    </tr>\n",
       "    <tr>\n",
       "      <th>r3</th>\n",
       "      <td>8</td>\n",
       "      <td>9</td>\n",
       "      <td>10</td>\n",
       "      <td>11</td>\n",
       "    </tr>\n",
       "  </tbody>\n",
       "</table>\n",
       "</div>"
      ],
      "text/plain": [
       "    c1  c2  c3  c4\n",
       "r1   0   1   2   3\n",
       "r3   8   9  10  11"
      ]
     },
     "execution_count": 11,
     "metadata": {},
     "output_type": "execute_result"
    }
   ],
   "source": [
    "# to drop a row, use axis=0 !!\n",
    "df.drop('r2', axis=0)"
   ]
  },
  {
   "cell_type": "markdown",
   "metadata": {},
   "source": [
    "### How to remember which is which\n",
    "For numpy like operations such as sum(), axis works the same as in numpy.  Axis=0 means to apply the operation to each column of data.  The number of results is the number of columns.  If there is an identifier, the identifier is the name of each column.\n",
    "\n",
    "For DataFrame structure modification operations, that is operations which modify the number of rows or columns, axis works the opposite.  Axis=0 means to modify the number of rows and axis=1 means to modify the number of columns."
   ]
  },
  {
   "cell_type": "markdown",
   "metadata": {},
   "source": [
    "### Pandas DataFrame Alternative Axis Specification"
   ]
  },
  {
   "cell_type": "code",
   "execution_count": 12,
   "metadata": {},
   "outputs": [
    {
     "data": {
      "text/plain": [
       "r1     6\n",
       "r2    22\n",
       "r3    38\n",
       "dtype: int64"
      ]
     },
     "execution_count": 12,
     "metadata": {},
     "output_type": "execute_result"
    }
   ],
   "source": [
    "# sum over each row of data\n",
    "df.sum(axis='columns')"
   ]
  },
  {
   "cell_type": "markdown",
   "metadata": {},
   "source": [
    "There are 3 rows of data, so there are 3 results.  The identifier for each sum is the row name of each row. \n",
    "\n",
    "However in the above, we specified axis='columns' in order to get a result for each row. Or as a numpy or Pandas person would say, we sum \"across\" or \"along\" columns to produce results for each row.\n",
    "\n",
    "I find this terminology counter-intuitive and prefer to use axis=1."
   ]
  },
  {
   "cell_type": "code",
   "execution_count": 13,
   "metadata": {},
   "outputs": [
    {
     "data": {
      "text/plain": [
       "c1    12\n",
       "c2    15\n",
       "c3    18\n",
       "c4    21\n",
       "dtype: int64"
      ]
     },
     "execution_count": 13,
     "metadata": {},
     "output_type": "execute_result"
    }
   ],
   "source": [
    "df.sum(axis='index')"
   ]
  },
  {
   "cell_type": "markdown",
   "metadata": {},
   "source": [
    "There are 4 columns of data, so there are 4 results.  The identifier for each sum is the column name of each column.\n",
    "\n",
    "However in the above, we specified axis='index' in order to get a result for each column. Or as a numpy or Pandas person would say, we sum \"across\" or \"along\" each index to produce results for each column.\n",
    "\n",
    "I find this terminology counter-intuitive and prefer to use axis=0."
   ]
  }
 ],
 "metadata": {
  "kernelspec": {
   "display_name": "Python 3",
   "language": "python",
   "name": "python3"
  },
  "language_info": {
   "codemirror_mode": {
    "name": "ipython",
    "version": 3
   },
   "file_extension": ".py",
   "mimetype": "text/x-python",
   "name": "python",
   "nbconvert_exporter": "python",
   "pygments_lexer": "ipython3",
   "version": "3.6.4"
  }
 },
 "nbformat": 4,
 "nbformat_minor": 2
}
