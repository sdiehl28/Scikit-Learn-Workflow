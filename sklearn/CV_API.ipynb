{
 "cells": [
  {
   "cell_type": "markdown",
   "metadata": {},
   "source": [
    "# Scikit Learn API Experimentation\n",
    "## StratifiedKFold, KFold, shuffle \n",
    "\n",
    "What does StratifiedKFold do that's different from KFold?  \n",
    "What does shuffle=True do that's different than shuffle=False?  "
   ]
  },
  {
   "cell_type": "markdown",
   "metadata": {},
   "source": [
    "### Cross Validation Resources\n",
    "Good resources for understanding cross validation and overfiting in Python:\n",
    "* [Train/Test Split and Cross Validation](https://towardsdatascience.com/train-test-split-and-cross-validation-in-python-80b61beca4b6)\n",
    "* [Learning Curves](https://www.dataquest.io/blog/learning-curves-machine-learning/)\n",
    "\n",
    "Good resources for understanding cross validation and overfitting in general:\n",
    "* chapter 5.1 of [ISL](http://www-bcf.usc.edu/~gareth/ISL/)\n",
    "* The first 3 videos for Chapter 5 [ISL Videos](http://www.dataschool.io/15-hours-of-expert-machine-learning-videos/)"
   ]
  },
  {
   "cell_type": "code",
   "execution_count": 1,
   "metadata": {},
   "outputs": [
    {
     "name": "stdout",
     "output_type": "stream",
     "text": [
      "X Shape:  (891, 11)\n",
      "y Shape:  (891,)\n",
      "X columns:\n",
      " ['PassengerId' 'Pclass' 'Name' 'Sex' 'Age' 'SibSp' 'Parch' 'Ticket' 'Fare'\n",
      " 'Cabin' 'Embarked']\n",
      "y name: Survived\n"
     ]
    }
   ],
   "source": [
    "# Load Titanic Data\n",
    "%cd -q ../projects/titanic\n",
    "%run LoadTitanicData.py\n",
    "%cd -q -\n",
    "\n",
    "# X: features\n",
    "# y: target variable\n",
    "print('X Shape: ', X.shape)\n",
    "print('y Shape: ', y.shape)\n",
    "print('X columns:\\n', X.columns.values)\n",
    "print('y name:',y.name)"
   ]
  },
  {
   "cell_type": "markdown",
   "metadata": {},
   "source": [
    "### Experiement\n",
    "\n",
    "Each train/test split from crossvalidation.split() generates two numpy array of indexes.  The first array picks out the records in the training set and the second array picks out the data in the test set."
   ]
  },
  {
   "cell_type": "code",
   "execution_count": 2,
   "metadata": {},
   "outputs": [],
   "source": [
    "from sklearn.model_selection import StratifiedKFold, KFold"
   ]
  },
  {
   "cell_type": "code",
   "execution_count": 3,
   "metadata": {},
   "outputs": [
    {
     "name": "stdout",
     "output_type": "stream",
     "text": [
      "List Len:                   10\n",
      "1st Element Type:           <class 'tuple'>\n",
      "1st Element Len:            2\n",
      "1st Element 1st Tuple Type: <class 'numpy.ndarray'>\n",
      "1st Element 1st Tuple Len:  801\n",
      "1st Element 2nd Tuple Type: <class 'numpy.ndarray'>\n",
      "1st Element 2nd Tuple Len:  90\n",
      "Data Length:                891\n"
     ]
    }
   ],
   "source": [
    "k_folds = 10\n",
    "random_seed = 5\n",
    "crossvalidation = StratifiedKFold(n_splits=k_folds, shuffle=False)\n",
    "\n",
    "# get train and test sets for crossvaldiation\n",
    "train_test_sets = [(train_idx, test_idx) for \n",
    "                   train_idx, test_idx in crossvalidation.split(X,y)]\n",
    "\n",
    "# in Python, looking at data types helps understanding\n",
    "print(f'List Len:                   {len(train_test_sets)}')\n",
    "print(f'1st Element Type:           {type(train_test_sets[0])}')\n",
    "print(f'1st Element Len:            {len(train_test_sets[0])}')\n",
    "print(f'1st Element 1st Tuple Type: {type(train_test_sets[0][0])}')\n",
    "print(f'1st Element 1st Tuple Len:  {len(train_test_sets[0][0])}')\n",
    "print(f'1st Element 2nd Tuple Type: {type(train_test_sets[0][1])}')\n",
    "print(f'1st Element 2nd Tuple Len:  {len(train_test_sets[0][1])}')\n",
    "print(f'Data Length:                {len(X)}')"
   ]
  },
  {
   "cell_type": "markdown",
   "metadata": {},
   "source": [
    "Describing the above in words:\n",
    "* The train_test_sets list is of length 10 (10 CV folds).\n",
    "* Each element in the list is a tuple which consists of 2 numpy arrays.\n",
    "* The first array in the tuple are the indexes used to created the training data.  It is of length 801.\n",
    "* The second array in the tuple are the indexes used to created the test data.  It is of length 90.\n",
    "* The total length of all data is 891 records."
   ]
  },
  {
   "cell_type": "code",
   "execution_count": 4,
   "metadata": {},
   "outputs": [
    {
     "name": "stdout",
     "output_type": "stream",
     "text": [
      "True True True True True True True True True True "
     ]
    }
   ],
   "source": [
    "# Experiement: KFold with shuffle=False\n",
    "crossvalidation = KFold(n_splits=k_folds, shuffle=False)\n",
    "\n",
    "train_test_sets = [(train_idx, test_idx) for \n",
    "                   train_idx, test_idx in crossvalidation.split(X,y)]\n",
    "\n",
    "# Check: for contiguous blocks of records in the test set\n",
    "# if the records are contiguous, each index differs by 1\n",
    "for i in range(10):\n",
    "    print((np.diff(train_test_sets[i][1]) == 1).all(), end=' ')"
   ]
  },
  {
   "cell_type": "code",
   "execution_count": 5,
   "metadata": {},
   "outputs": [
    {
     "data": {
      "text/plain": [
       "array([ 0,  1,  2,  3,  4,  5,  6,  7,  8,  9, 10, 11, 12, 13, 14, 15, 16,\n",
       "       17, 18, 19, 20, 21, 22, 23, 24, 25, 26, 27, 28, 29, 30, 31, 32, 33,\n",
       "       34, 35, 36, 37, 38, 39, 40, 41, 42, 43, 44, 45, 46, 47, 48, 49, 50,\n",
       "       51, 52, 53, 54, 55, 56, 57, 58, 59, 60, 61, 62, 63, 64, 65, 66, 67,\n",
       "       68, 69, 70, 71, 72, 73, 74, 75, 76, 77, 78, 79, 80, 81, 82, 83, 84,\n",
       "       85, 86, 87, 88, 89])"
      ]
     },
     "execution_count": 5,
     "metadata": {},
     "output_type": "execute_result"
    }
   ],
   "source": [
    "# print one fold of test set indexes\n",
    "train_test_sets[0][1]"
   ]
  },
  {
   "cell_type": "markdown",
   "metadata": {},
   "source": [
    "So KFold with shuffle=False means we are using test sets that represent blocks of contiguous records.\n",
    "\n",
    "A contiguous block of records for the test set means that the training set is as contiguous as possible."
   ]
  },
  {
   "cell_type": "code",
   "execution_count": 6,
   "metadata": {},
   "outputs": [
    {
     "name": "stdout",
     "output_type": "stream",
     "text": [
      "False False False False False False False False False False "
     ]
    }
   ],
   "source": [
    "# Experiement: KFold with shuffle=True\n",
    "crossvalidation = KFold(n_splits=k_folds, shuffle=True, \n",
    "                        random_state=random_seed)\n",
    "\n",
    "train_test_sets = [(train_idx, test_idx) for \n",
    "                   train_idx, test_idx in crossvalidation.split(X,y)]\n",
    "\n",
    "# Check: for contiguous blocks of records in the test set\n",
    "# if the records are contiguous, each index differs by 1\n",
    "for i in range(10):\n",
    "    print((np.diff(train_test_sets[i][1]) == 1).all(), end=' ')"
   ]
  },
  {
   "cell_type": "code",
   "execution_count": 7,
   "metadata": {},
   "outputs": [
    {
     "data": {
      "text/plain": [
       "array([ 11,  12,  23,  28,  59,  60, 121, 126, 133, 138, 148, 176, 199,\n",
       "       207, 212, 230, 244, 247, 258, 261, 267, 275, 286, 293, 295, 312,\n",
       "       316, 322, 329, 349, 352, 354, 361, 363, 379, 383, 386, 409, 417,\n",
       "       419, 424, 433, 434, 438, 440, 443, 445, 451, 452, 470, 475, 481,\n",
       "       509, 544, 545, 563, 568, 576, 590, 591, 610, 636, 644, 673, 679,\n",
       "       682, 683, 692, 695, 724, 727, 733, 735, 737, 747, 757, 759, 765,\n",
       "       769, 792, 807, 827, 828, 840, 843, 845, 857, 872, 877, 886])"
      ]
     },
     "execution_count": 7,
     "metadata": {},
     "output_type": "execute_result"
    }
   ],
   "source": [
    "# print one fold of test set indexes\n",
    "train_test_sets[0][1]"
   ]
  },
  {
   "cell_type": "markdown",
   "metadata": {},
   "source": [
    "So shuffle=True caused non-consecutive indexes to be used for determining the test datasets.\n",
    "\n",
    "This implies that non-consecutive indexes are also used for the train datasets.\n",
    "\n",
    "In other words, we are no longer using blocks of records from the original dataset for our train and test sets."
   ]
  },
  {
   "cell_type": "code",
   "execution_count": 8,
   "metadata": {},
   "outputs": [
    {
     "name": "stdout",
     "output_type": "stream",
     "text": [
      "y:  0.38\n",
      "0.38 0.4 0.39 0.36 0.39 0.37 0.39 0.33 0.38 0.45 0.38 0.39 0.38 0.39 0.38 0.4 0.39 0.36 0.38 0.38 "
     ]
    }
   ],
   "source": [
    "# Experiement: KFold with shuffle=True\n",
    "crossvalidation = KFold(n_splits=k_folds, shuffle=True, \n",
    "                        random_state=random_seed)\n",
    "\n",
    "train_test_sets = [(train_idx, test_idx) for \n",
    "                   train_idx, test_idx in crossvalidation.split(X,y)]\n",
    "\n",
    "# Check: for frequency of class labels\n",
    "# Note: y only has values of 0 or 1, so y.mean() is the frequency of 1 values\n",
    "print('y: ', np.round(y.mean(), 2))\n",
    "\n",
    "# print frequency of survival in the 10 train and 10 test sets\n",
    "for i in range(10):\n",
    "    for j in range(2):\n",
    "        print(np.round(y[train_test_sets[i][j]].mean(), 2), end=' ')"
   ]
  },
  {
   "cell_type": "markdown",
   "metadata": {},
   "source": [
    "So KFold did *not* keep the percentage of survivors the same in each dataset.  Values as low as 33% and as high as 45% are seen."
   ]
  },
  {
   "cell_type": "code",
   "execution_count": 9,
   "metadata": {},
   "outputs": [
    {
     "name": "stdout",
     "output_type": "stream",
     "text": [
      "y:  0.38\n",
      "0.38 0.39 0.38 0.38 0.38 0.38 0.38 0.38 0.38 0.38 0.38 0.38 0.38 0.38 0.38 0.38 0.38 0.38 0.38 0.39 "
     ]
    }
   ],
   "source": [
    "# Experiement: StratifiedKFold with shuffle=True\n",
    "crossvalidation = StratifiedKFold(n_splits=k_folds, shuffle=True, \n",
    "                        random_state=random_seed)\n",
    "\n",
    "train_test_sets = [(train_idx, test_idx) for \n",
    "                   train_idx, test_idx in crossvalidation.split(X,y)]\n",
    "\n",
    "# Check: for frequency of class labels\n",
    "# Note: y only has values of 0 or 1, so y.mean() is the frequency of 1 values\n",
    "print('y: ', np.round(y.mean(), 2))\n",
    "\n",
    "# print frequency of survival in the 10 train and 10 test sets\n",
    "for i in range(10):\n",
    "    for j in range(2):\n",
    "        print(np.round(y[train_test_sets[i][j]].mean(), 2), end=' ')"
   ]
  },
  {
   "cell_type": "markdown",
   "metadata": {},
   "source": [
    "So StratifiedKFold caused about the same percentage of survivors to occur in each training and test dataset."
   ]
  },
  {
   "cell_type": "markdown",
   "metadata": {},
   "source": [
    "#### Summary of StratifedKFold and KFold\n",
    "For classification, you want each train/test subset to have (about) the same frequency of class values as is represented in the entire target array, so you normally **choose StratifiedKFold instead of KFold**.\n",
    "\n",
    "The original dataset may have an inherent ordering.  This ordering could bias your train/test splits.  To avoid this, you normally choose **shuffle=True**."
   ]
  },
  {
   "cell_type": "markdown",
   "metadata": {},
   "source": [
    "**NOTE**  \n",
    "shuffle=True does **not** cause the test sets to overlap.  It is not like SuffleSplit."
   ]
  },
  {
   "cell_type": "code",
   "execution_count": 10,
   "metadata": {},
   "outputs": [
    {
     "name": "stdout",
     "output_type": "stream",
     "text": [
      "0 0 0 0 0 0 0 0 0 0 0 0 0 0 0 0 0 0 0 0 0 0 0 0 0 0 0 0 0 0 0 0 0 0 0 0 0 0 0 0 0 0 0 0 0 "
     ]
    }
   ],
   "source": [
    "# Show: test sets do not overlap when suffle=True\n",
    "crossvalidation = StratifiedKFold(n_splits=k_folds, shuffle=True, \n",
    "                        random_state=random_seed)\n",
    "\n",
    "train_test_sets = [(train_idx, test_idx) for \n",
    "                   train_idx, test_idx in crossvalidation.split(X,y)]\n",
    "\n",
    "# In this example, there are 10 disjoint test sets.\n",
    "# This is equivalent to saying that each check for intersection between\n",
    "# each pair of test sets, has a length of 0\n",
    "\n",
    "# Intersection is commutative, so we only need to check half of the possible\n",
    "# pairs of test sets and we don't check a test set with itself\n",
    "\n",
    "for i in range(10):\n",
    "    for j in range(i+1, 10):\n",
    "        print(len(np.intersect1d(train_test_sets[i][1],train_test_sets[j][1])), end=' ')"
   ]
  },
  {
   "cell_type": "markdown",
   "metadata": {},
   "source": [
    "We see that the test sets are disjoint. shuffle=True in this context does not cause test set overlap."
   ]
  },
  {
   "cell_type": "code",
   "execution_count": 11,
   "metadata": {},
   "outputs": [
    {
     "name": "stdout",
     "output_type": "stream",
     "text": [
      "0 0 0 0 0 0 0 0 0 0 "
     ]
    }
   ],
   "source": [
    "# Show: train set is disjoint from its respective test set\n",
    "crossvalidation = StratifiedKFold(n_splits=k_folds, shuffle=True, \n",
    "                        random_state=random_seed)\n",
    "\n",
    "train_test_sets = [(train_idx, test_idx) for \n",
    "                   train_idx, test_idx in crossvalidation.split(X,y)]\n",
    "\n",
    "for i in range(10):\n",
    "        print(len(np.intersect1d(train_test_sets[i][0],train_test_sets[i][1])), end=' ')"
   ]
  },
  {
   "cell_type": "markdown",
   "metadata": {},
   "source": [
    "There are no index values in the train dataset that are in the corresponding test dataset."
   ]
  }
 ],
 "metadata": {
  "kernelspec": {
   "display_name": "Python 3",
   "language": "python",
   "name": "python3"
  },
  "language_info": {
   "codemirror_mode": {
    "name": "ipython",
    "version": 3
   },
   "file_extension": ".py",
   "mimetype": "text/x-python",
   "name": "python",
   "nbconvert_exporter": "python",
   "pygments_lexer": "ipython3",
   "version": "3.7.5"
  }
 },
 "nbformat": 4,
 "nbformat_minor": 2
}
