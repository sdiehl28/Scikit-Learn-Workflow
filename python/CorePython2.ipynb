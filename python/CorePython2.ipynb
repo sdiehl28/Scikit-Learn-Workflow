{
 "cells": [
  {
   "cell_type": "markdown",
   "metadata": {},
   "source": [
    "# Core Python 2\n",
    "\n",
    "The examples in this notebook cover issues commonly encountered by someone new to Python and interested in Data Science."
   ]
  },
  {
   "cell_type": "markdown",
   "metadata": {},
   "source": [
    "## String Formatting\n",
    "\n",
    "For an excellent discussion of string formatting see: https://pyformat.info/"
   ]
  },
  {
   "cell_type": "code",
   "execution_count": 1,
   "metadata": {},
   "outputs": [
    {
     "name": "stdout",
     "output_type": "stream",
     "text": [
      "__str__  was called\n",
      "__repr__ was called\n",
      "\n",
      "__str__  was called\n",
      "__repr__ was called\n"
     ]
    }
   ],
   "source": [
    "class Data(object):\n",
    "\n",
    "    def __str__(self):\n",
    "        return '__str__  was called'\n",
    "\n",
    "    def __repr__(self):\n",
    "        return '__repr__ was called'\n",
    "    \n",
    "# create instance\n",
    "d = Data()\n",
    "\n",
    "# display instance in both str and repr forms\n",
    "print('{0!s}'.format(d))\n",
    "print('{0!r}'.format(d))\n",
    "print()\n",
    "\n",
    "# use Python 3.6+ f strings to do the same\n",
    "print(f'{d!s}')\n",
    "print(f'{d!r}')"
   ]
  },
  {
   "cell_type": "code",
   "execution_count": 2,
   "metadata": {},
   "outputs": [
    {
     "name": "stdout",
     "output_type": "stream",
     "text": [
      "test      \n",
      "      test\n",
      "---test---\n"
     ]
    }
   ],
   "source": [
    "# string formatting\n",
    "s = 'test'\n",
    "print('{:10}'.format(s))\n",
    "print('{:>10}'.format(s))\n",
    "print('{:-^10}'.format(s))"
   ]
  },
  {
   "cell_type": "code",
   "execution_count": 3,
   "metadata": {},
   "outputs": [
    {
     "name": "stdout",
     "output_type": "stream",
     "text": [
      "test      \n",
      "      test\n",
      "---test---\n"
     ]
    }
   ],
   "source": [
    "# string formatting with f strings\n",
    "print(f'{s:10}')\n",
    "print(f'{s:>10}')\n",
    "print(f'{s:-^10}')"
   ]
  },
  {
   "cell_type": "code",
   "execution_count": 4,
   "metadata": {},
   "outputs": [
    {
     "name": "stdout",
     "output_type": "stream",
     "text": [
      "3.14159\n",
      "3.14159\n",
      "3.14159\n"
     ]
    }
   ],
   "source": [
    "pi = 3.141592653589793\n",
    "print('%7.5f' % pi) # old style, not recommended\n",
    "print('{:7.5f}'.format(pi)) # recommended\n",
    "print(f'{pi:7.5f}') # reommended for Python 3.6 and above"
   ]
  },
  {
   "cell_type": "markdown",
   "metadata": {},
   "source": [
    "### Recursion Example"
   ]
  },
  {
   "cell_type": "code",
   "execution_count": 5,
   "metadata": {},
   "outputs": [
    {
     "name": "stdout",
     "output_type": "stream",
     "text": [
      "[1, 2, (3, 4, (5, 6, (7,))), 8, [9, 10]] -> [1, 2, 3, 4, 5, 6, 7, 8, 9, 10]\n"
     ]
    }
   ],
   "source": [
    "import collections.abc\n",
    "\n",
    "def list_flatten(my_iterable, a=None):\n",
    "    \"\"\"Flatten a list/tuple\n",
    "    \"\"\"\n",
    "    \n",
    "    # idiom for a mutable default argument\n",
    "    if a is None:\n",
    "        a = []\n",
    "\n",
    "    for item in my_iterable:\n",
    "        if isinstance(item, collections.abc.Iterable):\n",
    "            list_flatten(item, a)\n",
    "        else:\n",
    "            a.append(item)\n",
    "    return a\n",
    "\n",
    "my_list = [1,2,(3, 4, (5, 6, (7,))), 8, [9, 10]]\n",
    "my_flat_list = list_flatten(my_list)\n",
    "print(f'{my_list} -> {my_flat_list}')"
   ]
  },
  {
   "cell_type": "markdown",
   "metadata": {},
   "source": [
    "## Specifying Key with Max, Sorted"
   ]
  },
  {
   "cell_type": "code",
   "execution_count": 6,
   "metadata": {},
   "outputs": [
    {
     "data": {
      "text/plain": [
       "array([-49, -45, -28, -18, -47,  37, -38,  14,   1, -27, -38,  19, -42,\n",
       "       -26,  44,  -7,  42,  38, -43, -49,  28,  -5,  10, -16,   1,  46,\n",
       "        46, -13,  20,  18, -22, -35, -24, -46, -43, -38,  -6,  26,  47,\n",
       "       -18,  17, -38,   7,  30,   8,  15, -49,  24, -33,  24])"
      ]
     },
     "execution_count": 6,
     "metadata": {},
     "output_type": "execute_result"
    }
   ],
   "source": [
    "import numpy as np\n",
    "np.random.seed(seed=28)\n",
    "a = np.random.randint(-50, 50, 50)\n",
    "a"
   ]
  },
  {
   "cell_type": "code",
   "execution_count": 7,
   "metadata": {},
   "outputs": [
    {
     "data": {
      "text/plain": [
       "(-49, 47)"
      ]
     },
     "execution_count": 7,
     "metadata": {},
     "output_type": "execute_result"
    }
   ],
   "source": [
    "# get min and max values of the array\n",
    "min(a), max(a)"
   ]
  },
  {
   "cell_type": "code",
   "execution_count": 8,
   "metadata": {},
   "outputs": [
    {
     "data": {
      "text/plain": [
       "(1, -49)"
      ]
     },
     "execution_count": 8,
     "metadata": {},
     "output_type": "execute_result"
    }
   ],
   "source": [
    "# get min and max of the absolute values of the array\n",
    "min(a, key=lambda x: abs(x)), max(a, key=lambda x: abs(x))"
   ]
  },
  {
   "cell_type": "code",
   "execution_count": 9,
   "metadata": {},
   "outputs": [
    {
     "data": {
      "text/plain": [
       "[1, 1, -5, -6, -7, 7, 8, 10, -13]"
      ]
     },
     "execution_count": 9,
     "metadata": {},
     "output_type": "execute_result"
    }
   ],
   "source": [
    "# sort the array by its absolute value\n",
    "x = sorted(a, key=lambda x: abs(x))\n",
    "x[:9]"
   ]
  },
  {
   "cell_type": "markdown",
   "metadata": {},
   "source": [
    "# Python 3.6 NamedTuple"
   ]
  },
  {
   "cell_type": "code",
   "execution_count": 10,
   "metadata": {},
   "outputs": [],
   "source": [
    "from typing import NamedTuple\n",
    "\n",
    "class Point(NamedTuple):\n",
    "    x: float\n",
    "    y: float"
   ]
  },
  {
   "cell_type": "code",
   "execution_count": 11,
   "metadata": {},
   "outputs": [
    {
     "data": {
      "text/plain": [
       "True"
      ]
     },
     "execution_count": 11,
     "metadata": {},
     "output_type": "execute_result"
    }
   ],
   "source": [
    "# note that __slots__ is defined\n",
    "# this makes for more efficient storage as by defintion a data class may hold lots of data\n",
    "'__slots__' in dir(Point)"
   ]
  },
  {
   "cell_type": "code",
   "execution_count": 12,
   "metadata": {},
   "outputs": [
    {
     "name": "stdout",
     "output_type": "stream",
     "text": [
      "Point(x=0, y=0)\n"
     ]
    }
   ],
   "source": [
    "a = Point(0, 0)\n",
    "print(a)"
   ]
  },
  {
   "cell_type": "code",
   "execution_count": 13,
   "metadata": {},
   "outputs": [
    {
     "name": "stdout",
     "output_type": "stream",
     "text": [
      "'Point' object has no attribute 'z'\n"
     ]
    }
   ],
   "source": [
    "try:\n",
    "    a.z = 10\n",
    "except AttributeError as msg:\n",
    "    print(msg)"
   ]
  },
  {
   "cell_type": "code",
   "execution_count": 14,
   "metadata": {},
   "outputs": [
    {
     "data": {
      "text/plain": [
       "[(2.71, 0.5), (0.63, 0.65), (0.91, -0.32)]"
      ]
     },
     "execution_count": 14,
     "metadata": {},
     "output_type": "execute_result"
    }
   ],
   "source": [
    "import numpy as np\n",
    "np.random.seed(seed=101)\n",
    "x = np.random.normal(0, 1, 3)\n",
    "y = np.random.normal(0, 1, 3)\n",
    "z = list(zip(np.round(x,2),np.round(y,2)))\n",
    "z"
   ]
  },
  {
   "cell_type": "code",
   "execution_count": 15,
   "metadata": {},
   "outputs": [
    {
     "data": {
      "text/plain": [
       "[Point(x=2.71, y=0.5), Point(x=0.63, y=0.65), Point(x=0.91, y=-0.32)]"
      ]
     },
     "execution_count": 15,
     "metadata": {},
     "output_type": "execute_result"
    }
   ],
   "source": [
    "points = [Point._make(t) for t in z]\n",
    "points"
   ]
  },
  {
   "cell_type": "code",
   "execution_count": 16,
   "metadata": {},
   "outputs": [
    {
     "data": {
      "text/plain": [
       "[Point(x=2.71, y=0.5), Point(x=0.63, y=0.65), Point(x=0.91, y=-0.32)]"
      ]
     },
     "execution_count": 16,
     "metadata": {},
     "output_type": "execute_result"
    }
   ],
   "source": [
    "points2 = list(map(Point._make, z))\n",
    "points2"
   ]
  },
  {
   "cell_type": "code",
   "execution_count": 17,
   "metadata": {},
   "outputs": [
    {
     "data": {
      "text/plain": [
       "True"
      ]
     },
     "execution_count": 17,
     "metadata": {},
     "output_type": "execute_result"
    }
   ],
   "source": [
    "# list equality checks for equality element by element\n",
    "# each element is a NamedTuple which defines __equals__\n",
    "# so this works\n",
    "points == points2"
   ]
  },
  {
   "cell_type": "code",
   "execution_count": 18,
   "metadata": {},
   "outputs": [
    {
     "name": "stdout",
     "output_type": "stream",
     "text": [
      "can't set attribute\n"
     ]
    }
   ],
   "source": [
    "# data is immutable as with namedtuples\n",
    "try:\n",
    "    points[0].x = 1.11\n",
    "except AttributeError as error:\n",
    "    print(error)"
   ]
  },
  {
   "cell_type": "code",
   "execution_count": 19,
   "metadata": {},
   "outputs": [
    {
     "name": "stdout",
     "output_type": "stream",
     "text": [
      "Point(x=2.71, y=0.5)\n",
      "Point(x=2.71, y=0.5)\n",
      "Point(x=-1.1, y=0.5)\n"
     ]
    }
   ],
   "source": [
    "# but you can \"replace\" a value (which creates a new instance)\n",
    "print(points[0])\n",
    "new_point = points[0]._replace(x=-1.1)\n",
    "print(points[0])\n",
    "print(new_point)"
   ]
  },
  {
   "cell_type": "code",
   "execution_count": 20,
   "metadata": {},
   "outputs": [
    {
     "data": {
      "text/plain": [
       "Point(x=1.1, y=2.2)"
      ]
     },
     "execution_count": 20,
     "metadata": {},
     "output_type": "execute_result"
    }
   ],
   "source": [
    "# **kwargs\n",
    "my_point_dict = {'x':1.1, 'y':2.2}\n",
    "my_point = Point(**my_point_dict)\n",
    "my_point"
   ]
  },
  {
   "cell_type": "code",
   "execution_count": 21,
   "metadata": {},
   "outputs": [],
   "source": [
    "# create a mutable point with an ordering\n",
    "class MyPoint():\n",
    "    def __init__(self, x, y):\n",
    "        self.x = x\n",
    "        self.y = y\n",
    "        \n",
    "    def __eq__(self, other):\n",
    "        if isinstance(other, MyPoint):\n",
    "            return (self.x, self.y) == (other.x, other.y)\n",
    "        else:\n",
    "            return False\n",
    "        \n",
    "    def __lt__(self, other):\n",
    "        return (self.x, self.y) < (other.x, other.y)\n",
    "        \n",
    "    def __repr__(self):\n",
    "        return f'MyPoint(x={self.x},y={self.y})'"
   ]
  },
  {
   "cell_type": "code",
   "execution_count": 22,
   "metadata": {},
   "outputs": [
    {
     "data": {
      "text/plain": [
       "False"
      ]
     },
     "execution_count": 22,
     "metadata": {},
     "output_type": "execute_result"
    }
   ],
   "source": [
    "# note that __slots__ is not defined\n",
    "'__slots__' in dir(MyPoint)"
   ]
  },
  {
   "cell_type": "code",
   "execution_count": 23,
   "metadata": {},
   "outputs": [
    {
     "name": "stdout",
     "output_type": "stream",
     "text": [
      "False\n",
      "True\n",
      "False\n"
     ]
    }
   ],
   "source": [
    "p1 = MyPoint(x=1, y=2)\n",
    "p2 = MyPoint(x=1, y=2)\n",
    "print(p1 is p2)\n",
    "print(p1 == p2)\n",
    "print(p1 != p2) # __ne__ delgates to not __eq__"
   ]
  },
  {
   "cell_type": "code",
   "execution_count": 24,
   "metadata": {},
   "outputs": [
    {
     "data": {
      "text/plain": [
       "[MyPoint(x=1,y=3), MyPoint(x=1,y=2)]"
      ]
     },
     "execution_count": 24,
     "metadata": {},
     "output_type": "execute_result"
    }
   ],
   "source": [
    "p1.y = 3\n",
    "pts1 = [p1, p2]\n",
    "pts1"
   ]
  },
  {
   "cell_type": "code",
   "execution_count": 25,
   "metadata": {},
   "outputs": [
    {
     "data": {
      "text/plain": [
       "True"
      ]
     },
     "execution_count": 25,
     "metadata": {},
     "output_type": "execute_result"
    }
   ],
   "source": [
    "p1 > p2 # > delegates to not __lt__"
   ]
  },
  {
   "cell_type": "code",
   "execution_count": 26,
   "metadata": {},
   "outputs": [
    {
     "data": {
      "text/plain": [
       "[MyPoint(x=1,y=2), MyPoint(x=1,y=3)]"
      ]
     },
     "execution_count": 26,
     "metadata": {},
     "output_type": "execute_result"
    }
   ],
   "source": [
    "sorted(pts1) # uses __lt__"
   ]
  },
  {
   "cell_type": "code",
   "execution_count": 27,
   "metadata": {},
   "outputs": [],
   "source": [
    "# easier way to create a mutable point class\n",
    "from dataclasses import dataclass\n",
    "\n",
    "@dataclass(order=True)\n",
    "class MyPoint():\n",
    "    x: float\n",
    "    y: float"
   ]
  },
  {
   "cell_type": "code",
   "execution_count": 28,
   "metadata": {},
   "outputs": [
    {
     "name": "stdout",
     "output_type": "stream",
     "text": [
      "False\n",
      "True\n",
      "False\n"
     ]
    }
   ],
   "source": [
    "p1 = MyPoint(x=1, y=2)\n",
    "p2 = MyPoint(x=1, y=2)\n",
    "print(p1 is p2)\n",
    "print(p1 == p2)\n",
    "print(p1 != p2) # __ne__ delgates to not __eq__"
   ]
  },
  {
   "cell_type": "code",
   "execution_count": 29,
   "metadata": {},
   "outputs": [
    {
     "data": {
      "text/plain": [
       "[MyPoint(x=1, y=3), MyPoint(x=1, y=2)]"
      ]
     },
     "execution_count": 29,
     "metadata": {},
     "output_type": "execute_result"
    }
   ],
   "source": [
    "p1.y = 3\n",
    "pts1 = [p1, p2]\n",
    "pts1"
   ]
  },
  {
   "cell_type": "code",
   "execution_count": 30,
   "metadata": {},
   "outputs": [
    {
     "data": {
      "text/plain": [
       "True"
      ]
     },
     "execution_count": 30,
     "metadata": {},
     "output_type": "execute_result"
    }
   ],
   "source": [
    "p1 > p2 # > delegates to not __lt__"
   ]
  },
  {
   "cell_type": "code",
   "execution_count": 31,
   "metadata": {},
   "outputs": [
    {
     "data": {
      "text/plain": [
       "[MyPoint(x=1, y=2), MyPoint(x=1, y=3)]"
      ]
     },
     "execution_count": 31,
     "metadata": {},
     "output_type": "execute_result"
    }
   ],
   "source": [
    "sorted(pts1) # uses __lt__"
   ]
  },
  {
   "cell_type": "code",
   "execution_count": 32,
   "metadata": {},
   "outputs": [
    {
     "data": {
      "text/plain": [
       "False"
      ]
     },
     "execution_count": 32,
     "metadata": {},
     "output_type": "execute_result"
    }
   ],
   "source": [
    "# note that __slots__ is not defined\n",
    "'__slots__' in dir(MyPoint)"
   ]
  },
  {
   "cell_type": "code",
   "execution_count": 33,
   "metadata": {},
   "outputs": [],
   "source": [
    "p1 = MyPoint(x=1, y=2)\n",
    "p1.z = 10"
   ]
  },
  {
   "cell_type": "code",
   "execution_count": 34,
   "metadata": {},
   "outputs": [],
   "source": [
    "# create a mutable point class with fixed fields x and y\n",
    "from dataclasses import dataclass\n",
    "\n",
    "@dataclass(order=True)\n",
    "class MyPoint():\n",
    "    x: float\n",
    "    y: float\n",
    "    \n",
    "    __slots__ = ['x', 'y']"
   ]
  },
  {
   "cell_type": "code",
   "execution_count": 35,
   "metadata": {},
   "outputs": [
    {
     "name": "stdout",
     "output_type": "stream",
     "text": [
      "'MyPoint' object has no attribute 'z'\n"
     ]
    }
   ],
   "source": [
    "p1 = MyPoint(x=1, y=2)\n",
    "try:\n",
    "    p1.z = 10\n",
    "except AttributeError as msg:\n",
    "    print(msg)"
   ]
  },
  {
   "cell_type": "markdown",
   "metadata": {},
   "source": [
    "## Dict with integer keys\n",
    "\n",
    "This cannot be done with the dict() constructor, instead use {}"
   ]
  },
  {
   "cell_type": "code",
   "execution_count": 36,
   "metadata": {},
   "outputs": [
    {
     "data": {
      "text/plain": [
       "{1: 11, 2: 22, 3: 33}"
      ]
     },
     "execution_count": 36,
     "metadata": {},
     "output_type": "execute_result"
    }
   ],
   "source": [
    "d = {1:11, 2:22, 3:33}\n",
    "d"
   ]
  },
  {
   "cell_type": "markdown",
   "metadata": {},
   "source": [
    "## Dict with lists for value"
   ]
  },
  {
   "cell_type": "code",
   "execution_count": 37,
   "metadata": {},
   "outputs": [],
   "source": [
    "from collections import defaultdict\n",
    "d = defaultdict(list)\n",
    "d[\"a\"] = [1]\n",
    "d[\"b\"] = [2]\n",
    "d[\"a\"].append(11)\n",
    "d[\"b\"].append(22)"
   ]
  },
  {
   "cell_type": "code",
   "execution_count": 38,
   "metadata": {},
   "outputs": [
    {
     "data": {
      "text/plain": [
       "True"
      ]
     },
     "execution_count": 38,
     "metadata": {},
     "output_type": "execute_result"
    }
   ],
   "source": [
    "'a' in d"
   ]
  },
  {
   "cell_type": "code",
   "execution_count": 39,
   "metadata": {},
   "outputs": [
    {
     "data": {
      "text/plain": [
       "True"
      ]
     },
     "execution_count": 39,
     "metadata": {},
     "output_type": "execute_result"
    }
   ],
   "source": [
    "'a' in d.keys()"
   ]
  },
  {
   "cell_type": "code",
   "execution_count": 40,
   "metadata": {},
   "outputs": [
    {
     "data": {
      "text/plain": [
       "True"
      ]
     },
     "execution_count": 40,
     "metadata": {},
     "output_type": "execute_result"
    }
   ],
   "source": [
    "11 in d['a']"
   ]
  },
  {
   "cell_type": "code",
   "execution_count": 41,
   "metadata": {},
   "outputs": [
    {
     "name": "stdout",
     "output_type": "stream",
     "text": [
      "defaultdict(<class 'list'>, {'a': [1, 2, 101]})\n",
      "defaultdict(<class 'list'>, {'a': [1, 2, 101]})\n"
     ]
    }
   ],
   "source": [
    "d = defaultdict(list)\n",
    "d[\"a\"].append(1)\n",
    "d[\"a\"].append(2)\n",
    "\n",
    "# create a shallow copy\n",
    "d2 = d.copy()\n",
    "\n",
    "# modify d[\"a\"]\n",
    "d[\"a\"].append(101)\n",
    "\n",
    "# d2[\"a\"] is also modified\n",
    "print(d)\n",
    "print(d2)"
   ]
  },
  {
   "cell_type": "code",
   "execution_count": 42,
   "metadata": {},
   "outputs": [
    {
     "name": "stdout",
     "output_type": "stream",
     "text": [
      "defaultdict(<class 'list'>, {'a': [1, 2, 101]})\n",
      "defaultdict(<class 'list'>, {'a': [1, 2]})\n"
     ]
    }
   ],
   "source": [
    "# same as above with deepcopy\n",
    "from copy import deepcopy\n",
    "d = defaultdict(list)\n",
    "d[\"a\"].append(1)\n",
    "d[\"a\"].append(2)\n",
    "\n",
    "# create a deep copy\n",
    "d2 = deepcopy(d)\n",
    "\n",
    "# modify d[\"a\"]\n",
    "d[\"a\"].append(101)\n",
    "\n",
    "# d2[\"a\"] is not modified\n",
    "print(d)\n",
    "print(d2)"
   ]
  },
  {
   "cell_type": "markdown",
   "metadata": {},
   "source": [
    "## Iterator and Iterable"
   ]
  },
  {
   "cell_type": "code",
   "execution_count": 43,
   "metadata": {},
   "outputs": [
    {
     "name": "stdout",
     "output_type": "stream",
     "text": [
      "isinstance(a, Iterable): True\n",
      "isinstance(a, Iterator): False\n"
     ]
    }
   ],
   "source": [
    "from collections.abc import Iterable, Iterator\n",
    "\n",
    "# a list is iterable, but it is not an iterator\n",
    "a = [1, 2, 3]\n",
    "print(f'isinstance(a, Iterable): {isinstance(a, Iterable)}')\n",
    "print(f'isinstance(a, Iterator): {isinstance(a, Iterator)}')"
   ]
  },
  {
   "cell_type": "code",
   "execution_count": 44,
   "metadata": {},
   "outputs": [
    {
     "name": "stdout",
     "output_type": "stream",
     "text": [
      "'list' object is not an iterator\n"
     ]
    }
   ],
   "source": [
    "# a list is not an iterator, so it does not have a __next__ method\n",
    "try:\n",
    "    next(a)\n",
    "except TypeError as msg:\n",
    "    print(msg)"
   ]
  },
  {
   "cell_type": "code",
   "execution_count": 45,
   "metadata": {},
   "outputs": [
    {
     "name": "stdout",
     "output_type": "stream",
     "text": [
      "isinstance(i, Iterator): True\n"
     ]
    },
    {
     "data": {
      "text/plain": [
       "[1, 2, 3]"
      ]
     },
     "execution_count": 45,
     "metadata": {},
     "output_type": "execute_result"
    }
   ],
   "source": [
    "# but you can get an iterator from a list\n",
    "i = iter(a)\n",
    "print(f'isinstance(i, Iterator): {isinstance(i, Iterator)}')\n",
    "[next(i) for x in range(len(a))]"
   ]
  },
  {
   "cell_type": "code",
   "execution_count": 46,
   "metadata": {},
   "outputs": [
    {
     "name": "stdout",
     "output_type": "stream",
     "text": [
      "2\n"
     ]
    }
   ],
   "source": [
    "# an iterator has a __next__ method\n",
    "i = iter(range(2,4))\n",
    "try:\n",
    "    print(next(i))\n",
    "except TypeError as msg:\n",
    "    print(msg)"
   ]
  },
  {
   "cell_type": "markdown",
   "metadata": {},
   "source": [
    "## Closure\n",
    "\n",
    "A closure is a function that remember values in an enclosing scope.\n",
    "\n",
    "A closure is sometimes called a function factory, as it creates a specialized function."
   ]
  },
  {
   "cell_type": "code",
   "execution_count": 47,
   "metadata": {},
   "outputs": [],
   "source": [
    "# function factory to make addition functions\n",
    "def make_adder(n):\n",
    "    def add(x):\n",
    "        return x + n\n",
    "    return add"
   ]
  },
  {
   "cell_type": "code",
   "execution_count": 48,
   "metadata": {},
   "outputs": [
    {
     "name": "stdout",
     "output_type": "stream",
     "text": [
      "102\n",
      "109\n"
     ]
    }
   ],
   "source": [
    "plus_2 = make_adder(2)\n",
    "plus_9 = make_adder(9)\n",
    "print(plus_2(100))\n",
    "print(plus_9(100))"
   ]
  },
  {
   "cell_type": "code",
   "execution_count": 49,
   "metadata": {},
   "outputs": [
    {
     "name": "stdout",
     "output_type": "stream",
     "text": [
      "HELLO WORLD\n",
      "None\n"
     ]
    }
   ],
   "source": [
    "# closure example 2\n",
    "def upper(f):\n",
    "    def wrapped(name):\n",
    "        return f(name).upper()\n",
    "    return wrapped\n",
    "\n",
    "@upper\n",
    "def my_function(name):\n",
    "    \"\"\"My Function Doc String\"\"\"\n",
    "    return name\n",
    "\n",
    "print(my_function('hello world'))\n",
    "print(my_function.__doc__)"
   ]
  },
  {
   "cell_type": "code",
   "execution_count": 50,
   "metadata": {},
   "outputs": [
    {
     "name": "stdout",
     "output_type": "stream",
     "text": [
      "HELLO WORLD\n",
      "My Function Doc String\n"
     ]
    }
   ],
   "source": [
    "import functools\n",
    "\n",
    "# closure example 2b\n",
    "def upper(f):\n",
    "    @functools.wraps(f)\n",
    "    def wrapped(name):\n",
    "        return f(name).upper()\n",
    "    return wrapped\n",
    "\n",
    "@upper\n",
    "def my_function(name):\n",
    "    \"\"\"My Function Doc String\"\"\"\n",
    "    return name\n",
    "\n",
    "print(my_function('hello world'))\n",
    "print(my_function.__doc__)"
   ]
  }
 ],
 "metadata": {
  "kernelspec": {
   "display_name": "Python 3",
   "language": "python",
   "name": "python3"
  },
  "language_info": {
   "codemirror_mode": {
    "name": "ipython",
    "version": 3
   },
   "file_extension": ".py",
   "mimetype": "text/x-python",
   "name": "python",
   "nbconvert_exporter": "python",
   "pygments_lexer": "ipython3",
   "version": "3.7.2"
  }
 },
 "nbformat": 4,
 "nbformat_minor": 2
}
