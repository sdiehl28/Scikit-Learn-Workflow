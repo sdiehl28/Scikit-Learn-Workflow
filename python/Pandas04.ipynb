{
 "cells": [
  {
   "cell_type": "markdown",
   "metadata": {
    "toc-hr-collapsed": false
   },
   "source": [
    "# Pandas Tidy Data"
   ]
  },
  {
   "cell_type": "markdown",
   "metadata": {
    "toc-hr-collapsed": true
   },
   "source": [
    "## Overview\n",
    "\n",
    "This notebook uses the IMDB dataset from Kaggle:  \n",
    "https://www.kaggle.com/PromptCloudHQ/imdb-data#IMDB-Movie-Data.csv\n",
    "\n",
    "This notebook is about how to make queries using the Genre and Actors column, given that each cell in these column contains a list.\n",
    "\n",
    "There are at least 3 different ways to do this:\n",
    "1. create an indicator variable for each possible genre or actor (good for Machine Learning)\n",
    "2. create a dictionary that maps genres (or actors) to movies and use it in all queries\n",
    "3. reformat Movies to be tidy with respect to genres or actors\n",
    "\n",
    "This notebook only discusses the 3rd option above.\n",
    "\n",
    "This notebook does not discuss melt and pivot, or stack and unstack, which are often helpful methods to reformat data into \"long\" or \"wide\" format as needed."
   ]
  },
  {
   "cell_type": "code",
   "execution_count": 1,
   "metadata": {},
   "outputs": [],
   "source": [
    "import pandas as pd\n",
    "import numpy as np"
   ]
  },
  {
   "cell_type": "markdown",
   "metadata": {
    "toc-hr-collapsed": false
   },
   "source": [
    "## Read Movie Data Set\n",
    "This data was read in and preprocessed in Pandas02.  Load that notebook."
   ]
  },
  {
   "cell_type": "code",
   "execution_count": 2,
   "metadata": {},
   "outputs": [
    {
     "data": {
      "text/html": [
       "<div>\n",
       "<style scoped>\n",
       "    .dataframe tbody tr th:only-of-type {\n",
       "        vertical-align: middle;\n",
       "    }\n",
       "\n",
       "    .dataframe tbody tr th {\n",
       "        vertical-align: top;\n",
       "    }\n",
       "\n",
       "    .dataframe thead th {\n",
       "        text-align: right;\n",
       "    }\n",
       "</style>\n",
       "<table border=\"1\" class=\"dataframe\">\n",
       "  <thead>\n",
       "    <tr style=\"text-align: right;\">\n",
       "      <th></th>\n",
       "      <th>ID</th>\n",
       "      <th>Genre</th>\n",
       "      <th>Description</th>\n",
       "      <th>Director</th>\n",
       "      <th>Actors</th>\n",
       "      <th>Year</th>\n",
       "      <th>Runtime</th>\n",
       "      <th>Rating</th>\n",
       "      <th>Votes</th>\n",
       "      <th>Revenue</th>\n",
       "      <th>Metascore</th>\n",
       "    </tr>\n",
       "    <tr>\n",
       "      <th>Title</th>\n",
       "      <th></th>\n",
       "      <th></th>\n",
       "      <th></th>\n",
       "      <th></th>\n",
       "      <th></th>\n",
       "      <th></th>\n",
       "      <th></th>\n",
       "      <th></th>\n",
       "      <th></th>\n",
       "      <th></th>\n",
       "      <th></th>\n",
       "    </tr>\n",
       "  </thead>\n",
       "  <tbody>\n",
       "    <tr>\n",
       "      <th>(500) Days of Summer</th>\n",
       "      <td>508</td>\n",
       "      <td>Comedy,Drama,Romance</td>\n",
       "      <td>An offbeat romantic comedy about a woman who d...</td>\n",
       "      <td>Marc Webb</td>\n",
       "      <td>Zooey Deschanel, Joseph Gordon-Levitt, Geoffre...</td>\n",
       "      <td>2009</td>\n",
       "      <td>95</td>\n",
       "      <td>7.7</td>\n",
       "      <td>398972</td>\n",
       "      <td>32.39</td>\n",
       "      <td>76.0</td>\n",
       "    </tr>\n",
       "    <tr>\n",
       "      <th>10 Cloverfield Lane</th>\n",
       "      <td>119</td>\n",
       "      <td>Drama,Horror,Mystery</td>\n",
       "      <td>After getting in a car accident, a woman is he...</td>\n",
       "      <td>Dan Trachtenberg</td>\n",
       "      <td>John Goodman, Mary Elizabeth Winstead, John Ga...</td>\n",
       "      <td>2016</td>\n",
       "      <td>104</td>\n",
       "      <td>7.2</td>\n",
       "      <td>192968</td>\n",
       "      <td>71.90</td>\n",
       "      <td>76.0</td>\n",
       "    </tr>\n",
       "  </tbody>\n",
       "</table>\n",
       "</div>"
      ],
      "text/plain": [
       "                       ID                 Genre  \\\n",
       "Title                                             \n",
       "(500) Days of Summer  508  Comedy,Drama,Romance   \n",
       "10 Cloverfield Lane   119  Drama,Horror,Mystery   \n",
       "\n",
       "                                                            Description  \\\n",
       "Title                                                                     \n",
       "(500) Days of Summer  An offbeat romantic comedy about a woman who d...   \n",
       "10 Cloverfield Lane   After getting in a car accident, a woman is he...   \n",
       "\n",
       "                              Director  \\\n",
       "Title                                    \n",
       "(500) Days of Summer         Marc Webb   \n",
       "10 Cloverfield Lane   Dan Trachtenberg   \n",
       "\n",
       "                                                                 Actors  Year  \\\n",
       "Title                                                                           \n",
       "(500) Days of Summer  Zooey Deschanel, Joseph Gordon-Levitt, Geoffre...  2009   \n",
       "10 Cloverfield Lane   John Goodman, Mary Elizabeth Winstead, John Ga...  2016   \n",
       "\n",
       "                      Runtime  Rating   Votes  Revenue  Metascore  \n",
       "Title                                                              \n",
       "(500) Days of Summer       95     7.7  398972    32.39       76.0  \n",
       "10 Cloverfield Lane       104     7.2  192968    71.90       76.0  "
      ]
     },
     "execution_count": 2,
     "metadata": {},
     "output_type": "execute_result"
    }
   ],
   "source": [
    "movies = pd.read_hdf('../data/movies.h5')\n",
    "movies.head(2)"
   ]
  },
  {
   "cell_type": "markdown",
   "metadata": {},
   "source": [
    "### Examine Genre and Actors"
   ]
  },
  {
   "cell_type": "code",
   "execution_count": 3,
   "metadata": {},
   "outputs": [
    {
     "data": {
      "text/plain": [
       "Title\n",
       "(500) Days of Summer         Comedy,Drama,Romance\n",
       "10 Cloverfield Lane          Drama,Horror,Mystery\n",
       "10 Years                     Comedy,Drama,Romance\n",
       "12 Years a Slave          Biography,Drama,History\n",
       "127 Hours               Adventure,Biography,Drama\n",
       "Name: Genre, dtype: object"
      ]
     },
     "execution_count": 3,
     "metadata": {},
     "output_type": "execute_result"
    }
   ],
   "source": [
    "movies['Genre'].head(5)"
   ]
  },
  {
   "cell_type": "code",
   "execution_count": 4,
   "metadata": {},
   "outputs": [
    {
     "data": {
      "text/plain": [
       "Ridley Scott          8\n",
       "M. Night Shyamalan    6\n",
       "David Yates           6\n",
       "Paul W.S. Anderson    6\n",
       "Michael Bay           6\n",
       "Name: Director, dtype: int64"
      ]
     },
     "execution_count": 4,
     "metadata": {},
     "output_type": "execute_result"
    }
   ],
   "source": [
    "# typical way of finding unique values\n",
    "# works when cell contains one value\n",
    "movies['Director'].value_counts().head()"
   ]
  },
  {
   "cell_type": "code",
   "execution_count": 5,
   "metadata": {},
   "outputs": [
    {
     "data": {
      "text/plain": [
       "Action,Adventure,Sci-Fi    50\n",
       "Drama                      48\n",
       "Comedy,Drama,Romance       35\n",
       "Comedy                     32\n",
       "Drama,Romance              31\n",
       "Name: Genre, dtype: int64"
      ]
     },
     "execution_count": 5,
     "metadata": {},
     "output_type": "execute_result"
    }
   ],
   "source": [
    "# this doesnt work as needed for Genre\n",
    "movies['Genre'].value_counts().head()"
   ]
  },
  {
   "cell_type": "markdown",
   "metadata": {},
   "source": [
    "The above is count per genre string, not per genre."
   ]
  },
  {
   "cell_type": "code",
   "execution_count": 6,
   "metadata": {},
   "outputs": [
    {
     "data": {
      "text/plain": [
       "Gerard Butler, Aaron Eckhart, Morgan Freeman,Angela Bassett            2\n",
       "Jennifer Lawrence, Josh Hutcherson, Liam Hemsworth, Woody Harrelson    2\n",
       "Daniel Radcliffe, Emma Watson, Rupert Grint, Michael Gambon            2\n",
       "Shia LaBeouf, Megan Fox, Josh Duhamel, Tyrese Gibson                   2\n",
       "Will Ferrell, Jonah Hill, Brad Pitt, Tina Fey                          1\n",
       "Name: Actors, dtype: int64"
      ]
     },
     "execution_count": 6,
     "metadata": {},
     "output_type": "execute_result"
    }
   ],
   "source": [
    "# this doesnt work as needed for Actor\n",
    "movies['Actors'].value_counts().head()"
   ]
  },
  {
   "cell_type": "markdown",
   "metadata": {},
   "source": [
    "The above is count per actor string, not per actor."
   ]
  },
  {
   "cell_type": "markdown",
   "metadata": {
    "toc-hr-collapsed": true
   },
   "source": [
    "## Write Parser for Genre and Actors String"
   ]
  },
  {
   "cell_type": "code",
   "execution_count": 7,
   "metadata": {},
   "outputs": [],
   "source": [
    "def parse_string(s):\n",
    "    \"\"\"Convert string with comma separated values to list of strings.\n",
    "    For each string, remove leading and trailing whitespace.\n",
    "    \"\"\"\n",
    "    values = s.split(',')\n",
    "    return [value.strip() for value in values]"
   ]
  },
  {
   "cell_type": "markdown",
   "metadata": {},
   "source": [
    "### Use Parser\n",
    "1. use Pandas Vectorized operator 'apply' to avoid explict iteration over all titles\n",
    "2. index of result Series is Title\n",
    "3. value of result Series is list of genres"
   ]
  },
  {
   "cell_type": "code",
   "execution_count": 8,
   "metadata": {},
   "outputs": [
    {
     "data": {
      "text/plain": [
       "Title\n",
       "(500) Days of Summer         [Comedy, Drama, Romance]\n",
       "10 Cloverfield Lane          [Drama, Horror, Mystery]\n",
       "10 Years                     [Comedy, Drama, Romance]\n",
       "12 Years a Slave          [Biography, Drama, History]\n",
       "127 Hours               [Adventure, Biography, Drama]\n",
       "Name: Genre, dtype: object"
      ]
     },
     "execution_count": 8,
     "metadata": {},
     "output_type": "execute_result"
    }
   ],
   "source": [
    "# create a Series with values being the parsed genre string\n",
    "title_genre_series = movies['Genre'].apply(parse_string)\n",
    "title_genre_series.head()"
   ]
  },
  {
   "cell_type": "markdown",
   "metadata": {},
   "source": [
    "For each title, add the list of genres to the genre set."
   ]
  },
  {
   "cell_type": "code",
   "execution_count": 9,
   "metadata": {},
   "outputs": [
    {
     "data": {
      "text/plain": [
       "{'Action',\n",
       " 'Adventure',\n",
       " 'Animation',\n",
       " 'Biography',\n",
       " 'Comedy',\n",
       " 'Crime',\n",
       " 'Drama',\n",
       " 'Family',\n",
       " 'Fantasy',\n",
       " 'History',\n",
       " 'Horror',\n",
       " 'Music',\n",
       " 'Musical',\n",
       " 'Mystery',\n",
       " 'Romance',\n",
       " 'Sci-Fi',\n",
       " 'Sport',\n",
       " 'Thriller',\n",
       " 'War',\n",
       " 'Western'}"
      ]
     },
     "execution_count": 9,
     "metadata": {},
     "output_type": "execute_result"
    }
   ],
   "source": [
    "# find the unique genres\n",
    "genres = set()\n",
    "title_genre_series.apply(lambda x: genres.update(x))\n",
    "genres"
   ]
  },
  {
   "cell_type": "code",
   "execution_count": 10,
   "metadata": {},
   "outputs": [],
   "source": [
    "# creating a dictionary, caches the result\n",
    "genre_to_titles = {}\n",
    "for genre in genres:\n",
    "    genre_boolean_series = movies['Genre'].apply(lambda x: genre in x)\n",
    "    titles = movies[genre_boolean_series].index.tolist()\n",
    "    genre_to_titles[genre] = titles"
   ]
  },
  {
   "cell_type": "markdown",
   "metadata": {},
   "source": [
    "### Example: Query for Sci-Fi Movies"
   ]
  },
  {
   "cell_type": "code",
   "execution_count": 11,
   "metadata": {},
   "outputs": [
    {
     "data": {
      "text/plain": [
       "['2012',\n",
       " \"2307: Winter's Dream\",\n",
       " '28 Weeks Later',\n",
       " 'Absolutely Anything',\n",
       " 'After Earth',\n",
       " 'Aliens vs Predator - Requiem',\n",
       " 'Arrival',\n",
       " 'Avengers: Age of Ultron',\n",
       " 'Batman v Superman: Dawn of Justice',\n",
       " 'Battleship']"
      ]
     },
     "execution_count": 11,
     "metadata": {},
     "output_type": "execute_result"
    }
   ],
   "source": [
    "genre_to_titles['Sci-Fi'][:10]"
   ]
  },
  {
   "cell_type": "markdown",
   "metadata": {
    "toc-hr-collapsed": true
   },
   "source": [
    "## Create Long Form Representation of Genre\n",
    "\n",
    "This has one row per (Genre, Title)"
   ]
  },
  {
   "cell_type": "code",
   "execution_count": 12,
   "metadata": {},
   "outputs": [],
   "source": [
    "# keep columns for for Rating and Runtime\n",
    "dfs = []\n",
    "for genre in genres:\n",
    "    df = movies.loc[genre_to_titles[genre], ['Rating', 'Runtime']]\n",
    "    df['Genre'] = genre\n",
    "    dfs.append(df)\n",
    "    \n",
    "df_genre = pd.concat(dfs)"
   ]
  },
  {
   "cell_type": "code",
   "execution_count": 13,
   "metadata": {},
   "outputs": [
    {
     "data": {
      "text/html": [
       "<div>\n",
       "<style scoped>\n",
       "    .dataframe tbody tr th:only-of-type {\n",
       "        vertical-align: middle;\n",
       "    }\n",
       "\n",
       "    .dataframe tbody tr th {\n",
       "        vertical-align: top;\n",
       "    }\n",
       "\n",
       "    .dataframe thead th {\n",
       "        text-align: right;\n",
       "    }\n",
       "</style>\n",
       "<table border=\"1\" class=\"dataframe\">\n",
       "  <thead>\n",
       "    <tr style=\"text-align: right;\">\n",
       "      <th></th>\n",
       "      <th>Rating</th>\n",
       "      <th>Runtime</th>\n",
       "      <th>Genre</th>\n",
       "    </tr>\n",
       "    <tr>\n",
       "      <th>Title</th>\n",
       "      <th></th>\n",
       "      <th></th>\n",
       "      <th></th>\n",
       "    </tr>\n",
       "  </thead>\n",
       "  <tbody>\n",
       "    <tr>\n",
       "      <th>2012</th>\n",
       "      <td>5.8</td>\n",
       "      <td>158</td>\n",
       "      <td>Sci-Fi</td>\n",
       "    </tr>\n",
       "    <tr>\n",
       "      <th>2307: Winter's Dream</th>\n",
       "      <td>4.0</td>\n",
       "      <td>101</td>\n",
       "      <td>Sci-Fi</td>\n",
       "    </tr>\n",
       "    <tr>\n",
       "      <th>28 Weeks Later</th>\n",
       "      <td>7.0</td>\n",
       "      <td>100</td>\n",
       "      <td>Sci-Fi</td>\n",
       "    </tr>\n",
       "    <tr>\n",
       "      <th>Absolutely Anything</th>\n",
       "      <td>6.0</td>\n",
       "      <td>85</td>\n",
       "      <td>Sci-Fi</td>\n",
       "    </tr>\n",
       "    <tr>\n",
       "      <th>After Earth</th>\n",
       "      <td>4.9</td>\n",
       "      <td>100</td>\n",
       "      <td>Sci-Fi</td>\n",
       "    </tr>\n",
       "  </tbody>\n",
       "</table>\n",
       "</div>"
      ],
      "text/plain": [
       "                      Rating  Runtime   Genre\n",
       "Title                                        \n",
       "2012                     5.8      158  Sci-Fi\n",
       "2307: Winter's Dream     4.0      101  Sci-Fi\n",
       "28 Weeks Later           7.0      100  Sci-Fi\n",
       "Absolutely Anything      6.0       85  Sci-Fi\n",
       "After Earth              4.9      100  Sci-Fi"
      ]
     },
     "execution_count": 13,
     "metadata": {},
     "output_type": "execute_result"
    }
   ],
   "source": [
    "df_genre[df_genre['Genre'] == 'Sci-Fi'].head()"
   ]
  },
  {
   "cell_type": "code",
   "execution_count": 14,
   "metadata": {},
   "outputs": [
    {
     "data": {
      "text/html": [
       "<div>\n",
       "<style scoped>\n",
       "    .dataframe tbody tr th:only-of-type {\n",
       "        vertical-align: middle;\n",
       "    }\n",
       "\n",
       "    .dataframe tbody tr th {\n",
       "        vertical-align: top;\n",
       "    }\n",
       "\n",
       "    .dataframe thead th {\n",
       "        text-align: right;\n",
       "    }\n",
       "</style>\n",
       "<table border=\"1\" class=\"dataframe\">\n",
       "  <thead>\n",
       "    <tr style=\"text-align: right;\">\n",
       "      <th></th>\n",
       "      <th>Title</th>\n",
       "      <th>Rating</th>\n",
       "      <th>Runtime</th>\n",
       "    </tr>\n",
       "    <tr>\n",
       "      <th>Genre</th>\n",
       "      <th></th>\n",
       "      <th></th>\n",
       "      <th></th>\n",
       "    </tr>\n",
       "  </thead>\n",
       "  <tbody>\n",
       "    <tr>\n",
       "      <th>Action</th>\n",
       "      <td>13 Hours</td>\n",
       "      <td>7.3</td>\n",
       "      <td>144</td>\n",
       "    </tr>\n",
       "    <tr>\n",
       "      <th>Action</th>\n",
       "      <td>Suicide Squad</td>\n",
       "      <td>6.2</td>\n",
       "      <td>123</td>\n",
       "    </tr>\n",
       "    <tr>\n",
       "      <th>Action</th>\n",
       "      <td>Sucker Punch</td>\n",
       "      <td>6.1</td>\n",
       "      <td>110</td>\n",
       "    </tr>\n",
       "    <tr>\n",
       "      <th>Action</th>\n",
       "      <td>Star Wars: Episode VII - The Force Awakens</td>\n",
       "      <td>8.1</td>\n",
       "      <td>136</td>\n",
       "    </tr>\n",
       "    <tr>\n",
       "      <th>Action</th>\n",
       "      <td>Star Trek Into Darkness</td>\n",
       "      <td>7.8</td>\n",
       "      <td>132</td>\n",
       "    </tr>\n",
       "  </tbody>\n",
       "</table>\n",
       "</div>"
      ],
      "text/plain": [
       "                                             Title  Rating  Runtime\n",
       "Genre                                                              \n",
       "Action                                    13 Hours     7.3      144\n",
       "Action                               Suicide Squad     6.2      123\n",
       "Action                                Sucker Punch     6.1      110\n",
       "Action  Star Wars: Episode VII - The Force Awakens     8.1      136\n",
       "Action                     Star Trek Into Darkness     7.8      132"
      ]
     },
     "execution_count": 14,
     "metadata": {},
     "output_type": "execute_result"
    }
   ],
   "source": [
    "# Keep Title, but make Genre the index\n",
    "# often it is good to sort by index\n",
    "df_genre = df_genre.reset_index()\n",
    "df_genre = df_genre.set_index('Genre')\n",
    "df_genre = df_genre.sort_index()\n",
    "df_genre.head()"
   ]
  },
  {
   "cell_type": "code",
   "execution_count": 15,
   "metadata": {},
   "outputs": [
    {
     "data": {
      "text/html": [
       "<div>\n",
       "<style scoped>\n",
       "    .dataframe tbody tr th:only-of-type {\n",
       "        vertical-align: middle;\n",
       "    }\n",
       "\n",
       "    .dataframe tbody tr th {\n",
       "        vertical-align: top;\n",
       "    }\n",
       "\n",
       "    .dataframe thead th {\n",
       "        text-align: right;\n",
       "    }\n",
       "</style>\n",
       "<table border=\"1\" class=\"dataframe\">\n",
       "  <thead>\n",
       "    <tr style=\"text-align: right;\">\n",
       "      <th></th>\n",
       "      <th>Title</th>\n",
       "      <th>Rating</th>\n",
       "      <th>Runtime</th>\n",
       "    </tr>\n",
       "    <tr>\n",
       "      <th>Genre</th>\n",
       "      <th></th>\n",
       "      <th></th>\n",
       "      <th></th>\n",
       "    </tr>\n",
       "  </thead>\n",
       "  <tbody>\n",
       "  </tbody>\n",
       "</table>\n",
       "</div>"
      ],
      "text/plain": [
       "Empty DataFrame\n",
       "Columns: [Title, Rating, Runtime]\n",
       "Index: []"
      ]
     },
     "execution_count": 15,
     "metadata": {},
     "output_type": "execute_result"
    }
   ],
   "source": [
    "# verify Genre, Title is unique\n",
    "def get_dups(df, cols):\n",
    "    return df.groupby(cols).filter(lambda x: len(x) > 1)\n",
    "\n",
    "get_dups(df_genre, ['Title', 'Genre'])"
   ]
  },
  {
   "cell_type": "markdown",
   "metadata": {
    "toc-hr-collapsed": true
   },
   "source": [
    "### Aggregate for Rating and Runtime"
   ]
  },
  {
   "cell_type": "code",
   "execution_count": 16,
   "metadata": {},
   "outputs": [],
   "source": [
    "# Flatten Multi-index Column\n",
    "def flatten_columns(df):\n",
    "    return ['_'.join(col) for col in df.columns.values]"
   ]
  },
  {
   "cell_type": "code",
   "execution_count": 17,
   "metadata": {},
   "outputs": [
    {
     "data": {
      "text/html": [
       "<div>\n",
       "<style scoped>\n",
       "    .dataframe tbody tr th:only-of-type {\n",
       "        vertical-align: middle;\n",
       "    }\n",
       "\n",
       "    .dataframe tbody tr th {\n",
       "        vertical-align: top;\n",
       "    }\n",
       "\n",
       "    .dataframe thead th {\n",
       "        text-align: right;\n",
       "    }\n",
       "</style>\n",
       "<table border=\"1\" class=\"dataframe\">\n",
       "  <thead>\n",
       "    <tr style=\"text-align: right;\">\n",
       "      <th></th>\n",
       "      <th>Rating_mean</th>\n",
       "      <th>Rating_count</th>\n",
       "      <th>Runtime_mean</th>\n",
       "      <th>Runtime_count</th>\n",
       "    </tr>\n",
       "    <tr>\n",
       "      <th>Genre</th>\n",
       "      <th></th>\n",
       "      <th></th>\n",
       "      <th></th>\n",
       "      <th></th>\n",
       "    </tr>\n",
       "  </thead>\n",
       "  <tbody>\n",
       "    <tr>\n",
       "      <th>Action</th>\n",
       "      <td>6.614521</td>\n",
       "      <td>303</td>\n",
       "      <td>116.739274</td>\n",
       "      <td>303</td>\n",
       "    </tr>\n",
       "    <tr>\n",
       "      <th>Adventure</th>\n",
       "      <td>6.772201</td>\n",
       "      <td>259</td>\n",
       "      <td>117.698842</td>\n",
       "      <td>259</td>\n",
       "    </tr>\n",
       "    <tr>\n",
       "      <th>Animation</th>\n",
       "      <td>7.324490</td>\n",
       "      <td>49</td>\n",
       "      <td>98.142857</td>\n",
       "      <td>49</td>\n",
       "    </tr>\n",
       "    <tr>\n",
       "      <th>Biography</th>\n",
       "      <td>7.290123</td>\n",
       "      <td>81</td>\n",
       "      <td>122.580247</td>\n",
       "      <td>81</td>\n",
       "    </tr>\n",
       "    <tr>\n",
       "      <th>Comedy</th>\n",
       "      <td>6.647670</td>\n",
       "      <td>279</td>\n",
       "      <td>105.899642</td>\n",
       "      <td>279</td>\n",
       "    </tr>\n",
       "  </tbody>\n",
       "</table>\n",
       "</div>"
      ],
      "text/plain": [
       "           Rating_mean  Rating_count  Runtime_mean  Runtime_count\n",
       "Genre                                                            \n",
       "Action        6.614521           303    116.739274            303\n",
       "Adventure     6.772201           259    117.698842            259\n",
       "Animation     7.324490            49     98.142857             49\n",
       "Biography     7.290123            81    122.580247             81\n",
       "Comedy        6.647670           279    105.899642            279"
      ]
     },
     "execution_count": 17,
     "metadata": {},
     "output_type": "execute_result"
    }
   ],
   "source": [
    "# data is tidy with respect to Genre, so groupby will work correctly\n",
    "df_agg = df_genre.groupby('Genre').agg({'Rating':['mean','count'], 'Runtime':['mean','count']})\n",
    "df_agg.columns = flatten_columns(df_agg)\n",
    "df_agg.head()"
   ]
  },
  {
   "cell_type": "markdown",
   "metadata": {},
   "source": [
    "### Note: Avg of Averages != Avg"
   ]
  },
  {
   "cell_type": "code",
   "execution_count": 18,
   "metadata": {},
   "outputs": [
    {
     "data": {
      "text/plain": [
       "False"
      ]
     },
     "execution_count": 18,
     "metadata": {},
     "output_type": "execute_result"
    }
   ],
   "source": [
    "df_genre['Rating'].mean() == df_agg['Rating_mean'].mean()"
   ]
  },
  {
   "cell_type": "code",
   "execution_count": 19,
   "metadata": {},
   "outputs": [
    {
     "data": {
      "text/plain": [
       "(6.7568359375, 6.842082767468817)"
      ]
     },
     "execution_count": 19,
     "metadata": {},
     "output_type": "execute_result"
    }
   ],
   "source": [
    "df_genre['Rating'].mean(), df_agg['Rating_mean'].mean()"
   ]
  },
  {
   "cell_type": "markdown",
   "metadata": {
    "toc-hr-collapsed": true
   },
   "source": [
    "## Genre Querys"
   ]
  },
  {
   "cell_type": "markdown",
   "metadata": {},
   "source": [
    "### Query: Top 3 Genres by Rating & At Least 20 Movies"
   ]
  },
  {
   "cell_type": "code",
   "execution_count": 20,
   "metadata": {},
   "outputs": [
    {
     "data": {
      "text/html": [
       "<div>\n",
       "<style scoped>\n",
       "    .dataframe tbody tr th:only-of-type {\n",
       "        vertical-align: middle;\n",
       "    }\n",
       "\n",
       "    .dataframe tbody tr th {\n",
       "        vertical-align: top;\n",
       "    }\n",
       "\n",
       "    .dataframe thead th {\n",
       "        text-align: right;\n",
       "    }\n",
       "</style>\n",
       "<table border=\"1\" class=\"dataframe\">\n",
       "  <thead>\n",
       "    <tr style=\"text-align: right;\">\n",
       "      <th></th>\n",
       "      <th>Rating_mean</th>\n",
       "      <th>Rating_count</th>\n",
       "      <th>Runtime_mean</th>\n",
       "      <th>Runtime_count</th>\n",
       "    </tr>\n",
       "    <tr>\n",
       "      <th>Genre</th>\n",
       "      <th></th>\n",
       "      <th></th>\n",
       "      <th></th>\n",
       "      <th></th>\n",
       "    </tr>\n",
       "  </thead>\n",
       "  <tbody>\n",
       "    <tr>\n",
       "      <th>Animation</th>\n",
       "      <td>7.324490</td>\n",
       "      <td>49</td>\n",
       "      <td>98.142857</td>\n",
       "      <td>49</td>\n",
       "    </tr>\n",
       "    <tr>\n",
       "      <th>Biography</th>\n",
       "      <td>7.290123</td>\n",
       "      <td>81</td>\n",
       "      <td>122.580247</td>\n",
       "      <td>81</td>\n",
       "    </tr>\n",
       "    <tr>\n",
       "      <th>History</th>\n",
       "      <td>7.127586</td>\n",
       "      <td>29</td>\n",
       "      <td>130.689655</td>\n",
       "      <td>29</td>\n",
       "    </tr>\n",
       "  </tbody>\n",
       "</table>\n",
       "</div>"
      ],
      "text/plain": [
       "           Rating_mean  Rating_count  Runtime_mean  Runtime_count\n",
       "Genre                                                            \n",
       "Animation     7.324490            49     98.142857             49\n",
       "Biography     7.290123            81    122.580247             81\n",
       "History       7.127586            29    130.689655             29"
      ]
     },
     "execution_count": 20,
     "metadata": {},
     "output_type": "execute_result"
    }
   ],
   "source": [
    "criteria_count = df_agg['Rating_count'] >= 20\n",
    "df_agg[criteria_count].nlargest(n=3, columns=['Rating_mean'])"
   ]
  },
  {
   "cell_type": "markdown",
   "metadata": {},
   "source": [
    "### Query: Top 3 Genres by Runtime & Better than Avg Rating & At Least 20 Movies"
   ]
  },
  {
   "cell_type": "code",
   "execution_count": 21,
   "metadata": {},
   "outputs": [
    {
     "data": {
      "text/html": [
       "<div>\n",
       "<style scoped>\n",
       "    .dataframe tbody tr th:only-of-type {\n",
       "        vertical-align: middle;\n",
       "    }\n",
       "\n",
       "    .dataframe tbody tr th {\n",
       "        vertical-align: top;\n",
       "    }\n",
       "\n",
       "    .dataframe thead th {\n",
       "        text-align: right;\n",
       "    }\n",
       "</style>\n",
       "<table border=\"1\" class=\"dataframe\">\n",
       "  <thead>\n",
       "    <tr style=\"text-align: right;\">\n",
       "      <th></th>\n",
       "      <th>Rating_mean</th>\n",
       "      <th>Rating_count</th>\n",
       "      <th>Runtime_mean</th>\n",
       "      <th>Runtime_count</th>\n",
       "    </tr>\n",
       "    <tr>\n",
       "      <th>Genre</th>\n",
       "      <th></th>\n",
       "      <th></th>\n",
       "      <th></th>\n",
       "      <th></th>\n",
       "    </tr>\n",
       "  </thead>\n",
       "  <tbody>\n",
       "    <tr>\n",
       "      <th>History</th>\n",
       "      <td>7.127586</td>\n",
       "      <td>29</td>\n",
       "      <td>130.689655</td>\n",
       "      <td>29</td>\n",
       "    </tr>\n",
       "    <tr>\n",
       "      <th>Biography</th>\n",
       "      <td>7.290123</td>\n",
       "      <td>81</td>\n",
       "      <td>122.580247</td>\n",
       "      <td>81</td>\n",
       "    </tr>\n",
       "    <tr>\n",
       "      <th>Adventure</th>\n",
       "      <td>6.772201</td>\n",
       "      <td>259</td>\n",
       "      <td>117.698842</td>\n",
       "      <td>259</td>\n",
       "    </tr>\n",
       "  </tbody>\n",
       "</table>\n",
       "</div>"
      ],
      "text/plain": [
       "           Rating_mean  Rating_count  Runtime_mean  Runtime_count\n",
       "Genre                                                            \n",
       "History       7.127586            29    130.689655             29\n",
       "Biography     7.290123            81    122.580247             81\n",
       "Adventure     6.772201           259    117.698842            259"
      ]
     },
     "execution_count": 21,
     "metadata": {},
     "output_type": "execute_result"
    }
   ],
   "source": [
    "criteria_rating = df_agg['Rating_mean'] > df_genre['Rating'].mean()\n",
    "df_agg[criteria_count & criteria_rating].nlargest(n=3, columns=['Runtime_mean'])"
   ]
  },
  {
   "cell_type": "markdown",
   "metadata": {
    "toc-hr-collapsed": false
   },
   "source": [
    "## Actor Queries\n",
    "\n",
    "This parallels the above.  This format does not allow for queries by both actor and genre."
   ]
  },
  {
   "cell_type": "code",
   "execution_count": 22,
   "metadata": {},
   "outputs": [
    {
     "data": {
      "text/plain": [
       "Title\n",
       "(500) Days of Summer    [Zooey Deschanel, Joseph Gordon-Levitt, Geoffr...\n",
       "10 Cloverfield Lane     [John Goodman, Mary Elizabeth Winstead, John G...\n",
       "10 Years                [Channing Tatum, Rosario Dawson, Chris Pratt, ...\n",
       "12 Years a Slave        [Chiwetel Ejiofor, Michael Kenneth Williams, M...\n",
       "127 Hours               [James Franco, Amber Tamblyn, Kate Mara, Sean ...\n",
       "Name: Actors, dtype: object"
      ]
     },
     "execution_count": 22,
     "metadata": {},
     "output_type": "execute_result"
    }
   ],
   "source": [
    "# create a Series with values being the parsed actor string\n",
    "title_actor_series = movies['Actors'].apply(parse_string)\n",
    "title_actor_series.head()"
   ]
  },
  {
   "cell_type": "markdown",
   "metadata": {},
   "source": [
    "For each title, add the list of actors to the actors set."
   ]
  },
  {
   "cell_type": "code",
   "execution_count": 23,
   "metadata": {},
   "outputs": [
    {
     "data": {
      "text/plain": [
       "['Jet Li', 'Lucy Walters', 'Mark Ruffalo', 'Gary Oldman', 'Su Elliot']"
      ]
     },
     "execution_count": 23,
     "metadata": {},
     "output_type": "execute_result"
    }
   ],
   "source": [
    "# find the unique actors\n",
    "actors = set()\n",
    "title_actor_series.apply(lambda x: actors.update(x))\n",
    "list(actors)[:5]"
   ]
  },
  {
   "cell_type": "code",
   "execution_count": 24,
   "metadata": {},
   "outputs": [],
   "source": [
    "# creating a dictionary, caches the result\n",
    "actor_to_titles = {}\n",
    "for actor in actors:\n",
    "    actor_boolean_series = movies['Actors'].apply(lambda x: actor in x)\n",
    "    titles = movies[actor_boolean_series].index.tolist()\n",
    "    actor_to_titles[actor] = titles"
   ]
  },
  {
   "cell_type": "markdown",
   "metadata": {},
   "source": [
    "### Example: Query for Brad Pitt Movies"
   ]
  },
  {
   "cell_type": "code",
   "execution_count": 25,
   "metadata": {},
   "outputs": [
    {
     "data": {
      "text/plain": [
       "['12 Years a Slave',\n",
       " 'Allied',\n",
       " 'Babel',\n",
       " 'Fury',\n",
       " 'Inglourious Basterds',\n",
       " 'Megamind',\n",
       " 'Moneyball',\n",
       " \"Ocean's Thirteen\",\n",
       " 'The Assassination of Jesse James by the Coward Robert Ford',\n",
       " 'The Big Short',\n",
       " 'The Curious Case of Benjamin Button',\n",
       " 'The Tree of Life',\n",
       " 'World War Z']"
      ]
     },
     "execution_count": 25,
     "metadata": {},
     "output_type": "execute_result"
    }
   ],
   "source": [
    "actor_to_titles['Brad Pitt']"
   ]
  },
  {
   "cell_type": "markdown",
   "metadata": {
    "toc-hr-collapsed": true
   },
   "source": [
    "## Create Long Form Representation of Actor\n",
    "\n",
    "This has one row per (Actor, Title)"
   ]
  },
  {
   "cell_type": "code",
   "execution_count": 26,
   "metadata": {},
   "outputs": [],
   "source": [
    "dfs = []\n",
    "for actor in actors:\n",
    "    df = movies.loc[actor_to_titles[actor], ['Rating', 'Runtime']]\n",
    "    df['Actor'] = actor\n",
    "    dfs.append(df)\n",
    "    \n",
    "df_actor = pd.concat(dfs)"
   ]
  },
  {
   "cell_type": "code",
   "execution_count": 27,
   "metadata": {},
   "outputs": [
    {
     "data": {
      "text/html": [
       "<div>\n",
       "<style scoped>\n",
       "    .dataframe tbody tr th:only-of-type {\n",
       "        vertical-align: middle;\n",
       "    }\n",
       "\n",
       "    .dataframe tbody tr th {\n",
       "        vertical-align: top;\n",
       "    }\n",
       "\n",
       "    .dataframe thead th {\n",
       "        text-align: right;\n",
       "    }\n",
       "</style>\n",
       "<table border=\"1\" class=\"dataframe\">\n",
       "  <thead>\n",
       "    <tr style=\"text-align: right;\">\n",
       "      <th></th>\n",
       "      <th>Title</th>\n",
       "      <th>Rating</th>\n",
       "      <th>Runtime</th>\n",
       "    </tr>\n",
       "    <tr>\n",
       "      <th>Actor</th>\n",
       "      <th></th>\n",
       "      <th></th>\n",
       "      <th></th>\n",
       "    </tr>\n",
       "  </thead>\n",
       "  <tbody>\n",
       "    <tr>\n",
       "      <th>50 Cent</th>\n",
       "      <td>Escape Plan</td>\n",
       "      <td>6.7</td>\n",
       "      <td>115</td>\n",
       "    </tr>\n",
       "    <tr>\n",
       "      <th>A.C. Peterson</th>\n",
       "      <td>The Stakelander</td>\n",
       "      <td>5.3</td>\n",
       "      <td>81</td>\n",
       "    </tr>\n",
       "    <tr>\n",
       "      <th>AJ Michalka</th>\n",
       "      <td>Super 8</td>\n",
       "      <td>7.1</td>\n",
       "      <td>112</td>\n",
       "    </tr>\n",
       "    <tr>\n",
       "      <th>Aamir Khan</th>\n",
       "      <td>Dangal</td>\n",
       "      <td>8.8</td>\n",
       "      <td>161</td>\n",
       "    </tr>\n",
       "    <tr>\n",
       "      <th>Aamir Khan</th>\n",
       "      <td>3 Idiots</td>\n",
       "      <td>8.4</td>\n",
       "      <td>170</td>\n",
       "    </tr>\n",
       "  </tbody>\n",
       "</table>\n",
       "</div>"
      ],
      "text/plain": [
       "                         Title  Rating  Runtime\n",
       "Actor                                          \n",
       "50 Cent            Escape Plan     6.7      115\n",
       "A.C. Peterson  The Stakelander     5.3       81\n",
       "AJ Michalka            Super 8     7.1      112\n",
       "Aamir Khan              Dangal     8.8      161\n",
       "Aamir Khan            3 Idiots     8.4      170"
      ]
     },
     "execution_count": 27,
     "metadata": {},
     "output_type": "execute_result"
    }
   ],
   "source": [
    "# Keep Title, but make Actor the index\n",
    "# often it is good to sort by the index\n",
    "df_actor = df_actor.reset_index()\n",
    "df_actor = df_actor.set_index('Actor')\n",
    "df_actor = df_actor.sort_index()\n",
    "df_actor.head()"
   ]
  },
  {
   "cell_type": "code",
   "execution_count": 28,
   "metadata": {},
   "outputs": [
    {
     "data": {
      "text/html": [
       "<div>\n",
       "<style scoped>\n",
       "    .dataframe tbody tr th:only-of-type {\n",
       "        vertical-align: middle;\n",
       "    }\n",
       "\n",
       "    .dataframe tbody tr th {\n",
       "        vertical-align: top;\n",
       "    }\n",
       "\n",
       "    .dataframe thead th {\n",
       "        text-align: right;\n",
       "    }\n",
       "</style>\n",
       "<table border=\"1\" class=\"dataframe\">\n",
       "  <thead>\n",
       "    <tr style=\"text-align: right;\">\n",
       "      <th></th>\n",
       "      <th>Title</th>\n",
       "      <th>Rating</th>\n",
       "      <th>Runtime</th>\n",
       "    </tr>\n",
       "    <tr>\n",
       "      <th>Actor</th>\n",
       "      <th></th>\n",
       "      <th></th>\n",
       "      <th></th>\n",
       "    </tr>\n",
       "  </thead>\n",
       "  <tbody>\n",
       "  </tbody>\n",
       "</table>\n",
       "</div>"
      ],
      "text/plain": [
       "Empty DataFrame\n",
       "Columns: [Title, Rating, Runtime]\n",
       "Index: []"
      ]
     },
     "execution_count": 28,
     "metadata": {},
     "output_type": "execute_result"
    }
   ],
   "source": [
    "# Actor, Title is unique\n",
    "get_dups(df_actor, ['Title', 'Actor'])"
   ]
  },
  {
   "cell_type": "code",
   "execution_count": 29,
   "metadata": {},
   "outputs": [],
   "source": [
    "# Flatten Multi-index Column\n",
    "def flatten_columns(df):\n",
    "    return ['_'.join(col) for col in df.columns.values]"
   ]
  },
  {
   "cell_type": "code",
   "execution_count": 30,
   "metadata": {},
   "outputs": [
    {
     "data": {
      "text/html": [
       "<div>\n",
       "<style scoped>\n",
       "    .dataframe tbody tr th:only-of-type {\n",
       "        vertical-align: middle;\n",
       "    }\n",
       "\n",
       "    .dataframe tbody tr th {\n",
       "        vertical-align: top;\n",
       "    }\n",
       "\n",
       "    .dataframe thead th {\n",
       "        text-align: right;\n",
       "    }\n",
       "</style>\n",
       "<table border=\"1\" class=\"dataframe\">\n",
       "  <thead>\n",
       "    <tr style=\"text-align: right;\">\n",
       "      <th></th>\n",
       "      <th>Rating_mean</th>\n",
       "      <th>Rating_count</th>\n",
       "      <th>Runtime_mean</th>\n",
       "      <th>Runtime_count</th>\n",
       "    </tr>\n",
       "    <tr>\n",
       "      <th>Actor</th>\n",
       "      <th></th>\n",
       "      <th></th>\n",
       "      <th></th>\n",
       "      <th></th>\n",
       "    </tr>\n",
       "  </thead>\n",
       "  <tbody>\n",
       "    <tr>\n",
       "      <th>50 Cent</th>\n",
       "      <td>6.700</td>\n",
       "      <td>1</td>\n",
       "      <td>115.00</td>\n",
       "      <td>1</td>\n",
       "    </tr>\n",
       "    <tr>\n",
       "      <th>A.C. Peterson</th>\n",
       "      <td>5.300</td>\n",
       "      <td>1</td>\n",
       "      <td>81.00</td>\n",
       "      <td>1</td>\n",
       "    </tr>\n",
       "    <tr>\n",
       "      <th>AJ Michalka</th>\n",
       "      <td>7.100</td>\n",
       "      <td>1</td>\n",
       "      <td>112.00</td>\n",
       "      <td>1</td>\n",
       "    </tr>\n",
       "    <tr>\n",
       "      <th>Aamir Khan</th>\n",
       "      <td>8.475</td>\n",
       "      <td>4</td>\n",
       "      <td>162.25</td>\n",
       "      <td>4</td>\n",
       "    </tr>\n",
       "    <tr>\n",
       "      <th>Aaron Burns</th>\n",
       "      <td>5.150</td>\n",
       "      <td>2</td>\n",
       "      <td>99.50</td>\n",
       "      <td>2</td>\n",
       "    </tr>\n",
       "  </tbody>\n",
       "</table>\n",
       "</div>"
      ],
      "text/plain": [
       "               Rating_mean  Rating_count  Runtime_mean  Runtime_count\n",
       "Actor                                                                \n",
       "50 Cent              6.700             1        115.00              1\n",
       "A.C. Peterson        5.300             1         81.00              1\n",
       "AJ Michalka          7.100             1        112.00              1\n",
       "Aamir Khan           8.475             4        162.25              4\n",
       "Aaron Burns          5.150             2         99.50              2"
      ]
     },
     "execution_count": 30,
     "metadata": {},
     "output_type": "execute_result"
    }
   ],
   "source": [
    "# data is tidy with respect to Actor, so groupby will work correctly\n",
    "df_agg = df_actor.groupby('Actor').agg({'Rating':['mean','count'], 'Runtime':['mean','count']})\n",
    "df_agg.columns = flatten_columns(df_agg)\n",
    "df_agg.head()"
   ]
  },
  {
   "cell_type": "markdown",
   "metadata": {},
   "source": [
    "### Query: Top 15 Actors by Movie Count, Sorted by Rating"
   ]
  },
  {
   "cell_type": "code",
   "execution_count": 31,
   "metadata": {},
   "outputs": [
    {
     "data": {
      "text/html": [
       "<div>\n",
       "<style scoped>\n",
       "    .dataframe tbody tr th:only-of-type {\n",
       "        vertical-align: middle;\n",
       "    }\n",
       "\n",
       "    .dataframe tbody tr th {\n",
       "        vertical-align: top;\n",
       "    }\n",
       "\n",
       "    .dataframe thead th {\n",
       "        text-align: right;\n",
       "    }\n",
       "</style>\n",
       "<table border=\"1\" class=\"dataframe\">\n",
       "  <thead>\n",
       "    <tr style=\"text-align: right;\">\n",
       "      <th></th>\n",
       "      <th>Rating_mean</th>\n",
       "      <th>Rating_count</th>\n",
       "      <th>Runtime_mean</th>\n",
       "      <th>Runtime_count</th>\n",
       "    </tr>\n",
       "    <tr>\n",
       "      <th>Actor</th>\n",
       "      <th></th>\n",
       "      <th></th>\n",
       "      <th></th>\n",
       "      <th></th>\n",
       "    </tr>\n",
       "  </thead>\n",
       "  <tbody>\n",
       "    <tr>\n",
       "      <th>Robert Downey Jr.</th>\n",
       "      <td>7.500000</td>\n",
       "      <td>12</td>\n",
       "      <td>132.250000</td>\n",
       "      <td>12</td>\n",
       "    </tr>\n",
       "    <tr>\n",
       "      <th>Brad Pitt</th>\n",
       "      <td>7.484615</td>\n",
       "      <td>13</td>\n",
       "      <td>134.538462</td>\n",
       "      <td>13</td>\n",
       "    </tr>\n",
       "    <tr>\n",
       "      <th>Tom Hardy</th>\n",
       "      <td>7.358333</td>\n",
       "      <td>12</td>\n",
       "      <td>122.750000</td>\n",
       "      <td>12</td>\n",
       "    </tr>\n",
       "    <tr>\n",
       "      <th>Scarlett Johansson</th>\n",
       "      <td>7.325000</td>\n",
       "      <td>12</td>\n",
       "      <td>116.833333</td>\n",
       "      <td>12</td>\n",
       "    </tr>\n",
       "    <tr>\n",
       "      <th>Christian Bale</th>\n",
       "      <td>7.246154</td>\n",
       "      <td>13</td>\n",
       "      <td>132.461538</td>\n",
       "      <td>13</td>\n",
       "    </tr>\n",
       "    <tr>\n",
       "      <th>Bradley Cooper</th>\n",
       "      <td>7.190909</td>\n",
       "      <td>11</td>\n",
       "      <td>118.090909</td>\n",
       "      <td>11</td>\n",
       "    </tr>\n",
       "    <tr>\n",
       "      <th>Hugh Jackman</th>\n",
       "      <td>7.135714</td>\n",
       "      <td>14</td>\n",
       "      <td>124.500000</td>\n",
       "      <td>14</td>\n",
       "    </tr>\n",
       "    <tr>\n",
       "      <th>Cate Blanchett</th>\n",
       "      <td>7.045455</td>\n",
       "      <td>11</td>\n",
       "      <td>124.272727</td>\n",
       "      <td>11</td>\n",
       "    </tr>\n",
       "    <tr>\n",
       "      <th>Anne Hathaway</th>\n",
       "      <td>6.983333</td>\n",
       "      <td>12</td>\n",
       "      <td>121.250000</td>\n",
       "      <td>12</td>\n",
       "    </tr>\n",
       "    <tr>\n",
       "      <th>Michael Fassbender</th>\n",
       "      <td>6.941667</td>\n",
       "      <td>12</td>\n",
       "      <td>121.000000</td>\n",
       "      <td>12</td>\n",
       "    </tr>\n",
       "    <tr>\n",
       "      <th>Anna Kendrick</th>\n",
       "      <td>6.836364</td>\n",
       "      <td>11</td>\n",
       "      <td>106.454545</td>\n",
       "      <td>11</td>\n",
       "    </tr>\n",
       "    <tr>\n",
       "      <th>Mark Wahlberg</th>\n",
       "      <td>6.773333</td>\n",
       "      <td>15</td>\n",
       "      <td>120.466667</td>\n",
       "      <td>15</td>\n",
       "    </tr>\n",
       "    <tr>\n",
       "      <th>Chloë Grace Moretz</th>\n",
       "      <td>6.700000</td>\n",
       "      <td>11</td>\n",
       "      <td>110.272727</td>\n",
       "      <td>11</td>\n",
       "    </tr>\n",
       "    <tr>\n",
       "      <th>Johnny Depp</th>\n",
       "      <td>6.533333</td>\n",
       "      <td>12</td>\n",
       "      <td>127.166667</td>\n",
       "      <td>12</td>\n",
       "    </tr>\n",
       "    <tr>\n",
       "      <th>Channing Tatum</th>\n",
       "      <td>6.308333</td>\n",
       "      <td>12</td>\n",
       "      <td>111.416667</td>\n",
       "      <td>12</td>\n",
       "    </tr>\n",
       "  </tbody>\n",
       "</table>\n",
       "</div>"
      ],
      "text/plain": [
       "                    Rating_mean  Rating_count  Runtime_mean  Runtime_count\n",
       "Actor                                                                     \n",
       "Robert Downey Jr.      7.500000            12    132.250000             12\n",
       "Brad Pitt              7.484615            13    134.538462             13\n",
       "Tom Hardy              7.358333            12    122.750000             12\n",
       "Scarlett Johansson     7.325000            12    116.833333             12\n",
       "Christian Bale         7.246154            13    132.461538             13\n",
       "Bradley Cooper         7.190909            11    118.090909             11\n",
       "Hugh Jackman           7.135714            14    124.500000             14\n",
       "Cate Blanchett         7.045455            11    124.272727             11\n",
       "Anne Hathaway          6.983333            12    121.250000             12\n",
       "Michael Fassbender     6.941667            12    121.000000             12\n",
       "Anna Kendrick          6.836364            11    106.454545             11\n",
       "Mark Wahlberg          6.773333            15    120.466667             15\n",
       "Chloë Grace Moretz     6.700000            11    110.272727             11\n",
       "Johnny Depp            6.533333            12    127.166667             12\n",
       "Channing Tatum         6.308333            12    111.416667             12"
      ]
     },
     "execution_count": 31,
     "metadata": {},
     "output_type": "execute_result"
    }
   ],
   "source": [
    "# find the 15 actors who are in the most movies and sort by Rating\n",
    "actor_top15 = df_agg.nlargest(n=15, columns=['Rating_count'])\n",
    "actor_top15.sort_values(by='Rating_mean', ascending=False)"
   ]
  },
  {
   "cell_type": "markdown",
   "metadata": {},
   "source": [
    "### Query: Top 15 Actors by Movie Count, Display Top 5 by Rating"
   ]
  },
  {
   "cell_type": "code",
   "execution_count": 32,
   "metadata": {},
   "outputs": [
    {
     "data": {
      "text/html": [
       "<div>\n",
       "<style scoped>\n",
       "    .dataframe tbody tr th:only-of-type {\n",
       "        vertical-align: middle;\n",
       "    }\n",
       "\n",
       "    .dataframe tbody tr th {\n",
       "        vertical-align: top;\n",
       "    }\n",
       "\n",
       "    .dataframe thead th {\n",
       "        text-align: right;\n",
       "    }\n",
       "</style>\n",
       "<table border=\"1\" class=\"dataframe\">\n",
       "  <thead>\n",
       "    <tr style=\"text-align: right;\">\n",
       "      <th></th>\n",
       "      <th>Rating_mean</th>\n",
       "      <th>Rating_count</th>\n",
       "      <th>Runtime_mean</th>\n",
       "      <th>Runtime_count</th>\n",
       "    </tr>\n",
       "    <tr>\n",
       "      <th>Actor</th>\n",
       "      <th></th>\n",
       "      <th></th>\n",
       "      <th></th>\n",
       "      <th></th>\n",
       "    </tr>\n",
       "  </thead>\n",
       "  <tbody>\n",
       "    <tr>\n",
       "      <th>Robert Downey Jr.</th>\n",
       "      <td>7.500000</td>\n",
       "      <td>12</td>\n",
       "      <td>132.250000</td>\n",
       "      <td>12</td>\n",
       "    </tr>\n",
       "    <tr>\n",
       "      <th>Brad Pitt</th>\n",
       "      <td>7.484615</td>\n",
       "      <td>13</td>\n",
       "      <td>134.538462</td>\n",
       "      <td>13</td>\n",
       "    </tr>\n",
       "    <tr>\n",
       "      <th>Tom Hardy</th>\n",
       "      <td>7.358333</td>\n",
       "      <td>12</td>\n",
       "      <td>122.750000</td>\n",
       "      <td>12</td>\n",
       "    </tr>\n",
       "    <tr>\n",
       "      <th>Scarlett Johansson</th>\n",
       "      <td>7.325000</td>\n",
       "      <td>12</td>\n",
       "      <td>116.833333</td>\n",
       "      <td>12</td>\n",
       "    </tr>\n",
       "    <tr>\n",
       "      <th>Christian Bale</th>\n",
       "      <td>7.246154</td>\n",
       "      <td>13</td>\n",
       "      <td>132.461538</td>\n",
       "      <td>13</td>\n",
       "    </tr>\n",
       "  </tbody>\n",
       "</table>\n",
       "</div>"
      ],
      "text/plain": [
       "                    Rating_mean  Rating_count  Runtime_mean  Runtime_count\n",
       "Actor                                                                     \n",
       "Robert Downey Jr.      7.500000            12    132.250000             12\n",
       "Brad Pitt              7.484615            13    134.538462             13\n",
       "Tom Hardy              7.358333            12    122.750000             12\n",
       "Scarlett Johansson     7.325000            12    116.833333             12\n",
       "Christian Bale         7.246154            13    132.461538             13"
      ]
     },
     "execution_count": 32,
     "metadata": {},
     "output_type": "execute_result"
    }
   ],
   "source": [
    "# very similar to above query\n",
    "actor_top15.nlargest(n=5, columns=['Rating_mean'])"
   ]
  },
  {
   "cell_type": "markdown",
   "metadata": {},
   "source": [
    "### Query: Actors with Above Avg Rating & in at least 5 movies, Display Top 5 by Runtime"
   ]
  },
  {
   "cell_type": "code",
   "execution_count": 33,
   "metadata": {},
   "outputs": [
    {
     "data": {
      "text/html": [
       "<div>\n",
       "<style scoped>\n",
       "    .dataframe tbody tr th:only-of-type {\n",
       "        vertical-align: middle;\n",
       "    }\n",
       "\n",
       "    .dataframe tbody tr th {\n",
       "        vertical-align: top;\n",
       "    }\n",
       "\n",
       "    .dataframe thead th {\n",
       "        text-align: right;\n",
       "    }\n",
       "</style>\n",
       "<table border=\"1\" class=\"dataframe\">\n",
       "  <thead>\n",
       "    <tr style=\"text-align: right;\">\n",
       "      <th></th>\n",
       "      <th>Rating_mean</th>\n",
       "      <th>Rating_count</th>\n",
       "      <th>Runtime_mean</th>\n",
       "      <th>Runtime_count</th>\n",
       "    </tr>\n",
       "    <tr>\n",
       "      <th>Actor</th>\n",
       "      <th></th>\n",
       "      <th></th>\n",
       "      <th></th>\n",
       "      <th></th>\n",
       "    </tr>\n",
       "  </thead>\n",
       "  <tbody>\n",
       "    <tr>\n",
       "      <th>Leonardo DiCaprio</th>\n",
       "      <td>7.970000</td>\n",
       "      <td>10</td>\n",
       "      <td>147.100000</td>\n",
       "      <td>10</td>\n",
       "    </tr>\n",
       "    <tr>\n",
       "      <th>Ian McKellen</th>\n",
       "      <td>7.583333</td>\n",
       "      <td>6</td>\n",
       "      <td>147.000000</td>\n",
       "      <td>6</td>\n",
       "    </tr>\n",
       "    <tr>\n",
       "      <th>Kurt Russell</th>\n",
       "      <td>7.360000</td>\n",
       "      <td>5</td>\n",
       "      <td>146.000000</td>\n",
       "      <td>5</td>\n",
       "    </tr>\n",
       "    <tr>\n",
       "      <th>Andrew Garfield</th>\n",
       "      <td>7.283333</td>\n",
       "      <td>6</td>\n",
       "      <td>136.833333</td>\n",
       "      <td>6</td>\n",
       "    </tr>\n",
       "    <tr>\n",
       "      <th>Russell Crowe</th>\n",
       "      <td>7.042857</td>\n",
       "      <td>7</td>\n",
       "      <td>136.285714</td>\n",
       "      <td>7</td>\n",
       "    </tr>\n",
       "  </tbody>\n",
       "</table>\n",
       "</div>"
      ],
      "text/plain": [
       "                   Rating_mean  Rating_count  Runtime_mean  Runtime_count\n",
       "Actor                                                                    \n",
       "Leonardo DiCaprio     7.970000            10    147.100000             10\n",
       "Ian McKellen          7.583333             6    147.000000              6\n",
       "Kurt Russell          7.360000             5    146.000000              5\n",
       "Andrew Garfield       7.283333             6    136.833333              6\n",
       "Russell Crowe         7.042857             7    136.285714              7"
      ]
     },
     "execution_count": 33,
     "metadata": {},
     "output_type": "execute_result"
    }
   ],
   "source": [
    "criteria_above_avg = df_agg['Rating_mean'] > df_actor['Rating'].mean()\n",
    "criteria_common = df_agg['Rating_count'] >= 5\n",
    "\n",
    "df_agg[criteria_above_avg & criteria_common].nlargest(n=5, columns=['Runtime_mean'])"
   ]
  },
  {
   "cell_type": "markdown",
   "metadata": {
    "toc-hr-collapsed": true
   },
   "source": [
    "### Query: Actors Top 20% by Rating & Actors Top 20% by Count, Display Top 5 by Runtime"
   ]
  },
  {
   "cell_type": "code",
   "execution_count": 34,
   "metadata": {},
   "outputs": [
    {
     "data": {
      "text/plain": [
       "7.5"
      ]
     },
     "execution_count": 34,
     "metadata": {},
     "output_type": "execute_result"
    }
   ],
   "source": [
    "# rating for top 20% of actors\n",
    "top_20percent_rating = df_actor['Rating'].quantile(q=0.80)\n",
    "top_20percent_rating"
   ]
  },
  {
   "cell_type": "code",
   "execution_count": 35,
   "metadata": {},
   "outputs": [
    {
     "data": {
      "text/plain": [
       "False"
      ]
     },
     "execution_count": 35,
     "metadata": {},
     "output_type": "execute_result"
    }
   ],
   "source": [
    "# Note\n",
    "df_actor['Rating'].quantile(q=0.80) == df_agg['Rating_mean'].quantile(q=0.80)"
   ]
  },
  {
   "cell_type": "code",
   "execution_count": 36,
   "metadata": {},
   "outputs": [
    {
     "data": {
      "text/plain": [
       "(7.5, 7.4)"
      ]
     },
     "execution_count": 36,
     "metadata": {},
     "output_type": "execute_result"
    }
   ],
   "source": [
    "# Note\n",
    "df_actor['Rating'].quantile(q=0.80), df_agg['Rating_mean'].quantile(q=0.80)"
   ]
  },
  {
   "cell_type": "code",
   "execution_count": 37,
   "metadata": {},
   "outputs": [
    {
     "data": {
      "text/plain": [
       "3.0"
      ]
     },
     "execution_count": 37,
     "metadata": {},
     "output_type": "execute_result"
    }
   ],
   "source": [
    "# number of movies for top 20% cutoff\n",
    "top_20percent_count = df_agg['Rating_count'].quantile(q=0.80)\n",
    "top_20percent_count"
   ]
  },
  {
   "cell_type": "code",
   "execution_count": 38,
   "metadata": {},
   "outputs": [
    {
     "data": {
      "text/html": [
       "<div>\n",
       "<style scoped>\n",
       "    .dataframe tbody tr th:only-of-type {\n",
       "        vertical-align: middle;\n",
       "    }\n",
       "\n",
       "    .dataframe tbody tr th {\n",
       "        vertical-align: top;\n",
       "    }\n",
       "\n",
       "    .dataframe thead th {\n",
       "        text-align: right;\n",
       "    }\n",
       "</style>\n",
       "<table border=\"1\" class=\"dataframe\">\n",
       "  <thead>\n",
       "    <tr style=\"text-align: right;\">\n",
       "      <th></th>\n",
       "      <th>Rating_mean</th>\n",
       "      <th>Rating_count</th>\n",
       "      <th>Runtime_mean</th>\n",
       "      <th>Runtime_count</th>\n",
       "    </tr>\n",
       "    <tr>\n",
       "      <th>Actor</th>\n",
       "      <th></th>\n",
       "      <th></th>\n",
       "      <th></th>\n",
       "      <th></th>\n",
       "    </tr>\n",
       "  </thead>\n",
       "  <tbody>\n",
       "    <tr>\n",
       "      <th>Aamir Khan</th>\n",
       "      <td>8.475000</td>\n",
       "      <td>4</td>\n",
       "      <td>162.25</td>\n",
       "      <td>4</td>\n",
       "    </tr>\n",
       "    <tr>\n",
       "      <th>Richard Armitage</th>\n",
       "      <td>7.733333</td>\n",
       "      <td>3</td>\n",
       "      <td>158.00</td>\n",
       "      <td>3</td>\n",
       "    </tr>\n",
       "    <tr>\n",
       "      <th>Leonardo DiCaprio</th>\n",
       "      <td>7.970000</td>\n",
       "      <td>10</td>\n",
       "      <td>147.10</td>\n",
       "      <td>10</td>\n",
       "    </tr>\n",
       "    <tr>\n",
       "      <th>Ian McKellen</th>\n",
       "      <td>7.583333</td>\n",
       "      <td>6</td>\n",
       "      <td>147.00</td>\n",
       "      <td>6</td>\n",
       "    </tr>\n",
       "    <tr>\n",
       "      <th>Rupert Grint</th>\n",
       "      <td>7.700000</td>\n",
       "      <td>4</td>\n",
       "      <td>141.75</td>\n",
       "      <td>4</td>\n",
       "    </tr>\n",
       "  </tbody>\n",
       "</table>\n",
       "</div>"
      ],
      "text/plain": [
       "                   Rating_mean  Rating_count  Runtime_mean  Runtime_count\n",
       "Actor                                                                    \n",
       "Aamir Khan            8.475000             4        162.25              4\n",
       "Richard Armitage      7.733333             3        158.00              3\n",
       "Leonardo DiCaprio     7.970000            10        147.10             10\n",
       "Ian McKellen          7.583333             6        147.00              6\n",
       "Rupert Grint          7.700000             4        141.75              4"
      ]
     },
     "execution_count": 38,
     "metadata": {},
     "output_type": "execute_result"
    }
   ],
   "source": [
    "criteria_top20_rated = df_agg['Rating_mean'] >= top_20percent_rating\n",
    "criteria_top20_count = df_agg['Rating_count'] >= top_20percent_count\n",
    "top_2020 = df_agg[criteria_top20_rated & criteria_top20_count].nlargest(n=5, columns=['Runtime_mean'])\n",
    "top_2020"
   ]
  },
  {
   "cell_type": "markdown",
   "metadata": {
    "toc-hr-collapsed": true
   },
   "source": [
    "### Query: Number of Actors: Top 20% by Rating & Top 20% by Count"
   ]
  },
  {
   "cell_type": "code",
   "execution_count": 39,
   "metadata": {},
   "outputs": [
    {
     "data": {
      "text/plain": [
       "22"
      ]
     },
     "execution_count": 39,
     "metadata": {},
     "output_type": "execute_result"
    }
   ],
   "source": [
    "(criteria_top20_rated & criteria_top20_count).sum()"
   ]
  },
  {
   "cell_type": "markdown",
   "metadata": {
    "toc-hr-collapsed": false
   },
   "source": [
    "## Genre and Actor Queries\n",
    "This requires one row per Genre, Actor, Title.\n",
    "\n",
    "Using the above precomputed dictionaries allows the following to run signficantly faster than other ways of doing this."
   ]
  },
  {
   "cell_type": "code",
   "execution_count": 40,
   "metadata": {},
   "outputs": [],
   "source": [
    "# keep columns for for Rating, Runtime and Actors\n",
    "dfs = []\n",
    "for genre in genres:\n",
    "    titles_genre = set(genre_to_titles[genre])\n",
    "    for actor in actors:\n",
    "        titles_actor = set(actor_to_titles[actor])\n",
    "        titles = titles_genre & titles_actor\n",
    "        if titles:\n",
    "            df = movies.loc[titles, ['Rating', 'Runtime']]\n",
    "            df['Actor'] = actor\n",
    "            df['Genre'] = genre\n",
    "            dfs.append(df)\n",
    "    \n",
    "df_genre_actor = pd.concat(dfs)"
   ]
  },
  {
   "cell_type": "code",
   "execution_count": 41,
   "metadata": {},
   "outputs": [
    {
     "data": {
      "text/html": [
       "<div>\n",
       "<style scoped>\n",
       "    .dataframe tbody tr th:only-of-type {\n",
       "        vertical-align: middle;\n",
       "    }\n",
       "\n",
       "    .dataframe tbody tr th {\n",
       "        vertical-align: top;\n",
       "    }\n",
       "\n",
       "    .dataframe thead th {\n",
       "        text-align: right;\n",
       "    }\n",
       "</style>\n",
       "<table border=\"1\" class=\"dataframe\">\n",
       "  <thead>\n",
       "    <tr style=\"text-align: right;\">\n",
       "      <th></th>\n",
       "      <th>Rating</th>\n",
       "      <th>Runtime</th>\n",
       "      <th>Actor</th>\n",
       "      <th>Genre</th>\n",
       "    </tr>\n",
       "    <tr>\n",
       "      <th>Title</th>\n",
       "      <th></th>\n",
       "      <th></th>\n",
       "      <th></th>\n",
       "      <th></th>\n",
       "    </tr>\n",
       "  </thead>\n",
       "  <tbody>\n",
       "    <tr>\n",
       "      <th>The Expendables 3</th>\n",
       "      <td>6.1</td>\n",
       "      <td>126</td>\n",
       "      <td>Jet Li</td>\n",
       "      <td>Action</td>\n",
       "    </tr>\n",
       "    <tr>\n",
       "      <th>The Expendables</th>\n",
       "      <td>6.5</td>\n",
       "      <td>103</td>\n",
       "      <td>Jet Li</td>\n",
       "      <td>Action</td>\n",
       "    </tr>\n",
       "    <tr>\n",
       "      <th>The Mummy: Tomb of the Dragon Emperor</th>\n",
       "      <td>5.2</td>\n",
       "      <td>112</td>\n",
       "      <td>Jet Li</td>\n",
       "      <td>Action</td>\n",
       "    </tr>\n",
       "    <tr>\n",
       "      <th>Avengers: Age of Ultron</th>\n",
       "      <td>7.4</td>\n",
       "      <td>141</td>\n",
       "      <td>Mark Ruffalo</td>\n",
       "      <td>Action</td>\n",
       "    </tr>\n",
       "    <tr>\n",
       "      <th>Now You See Me 2</th>\n",
       "      <td>6.5</td>\n",
       "      <td>129</td>\n",
       "      <td>Mark Ruffalo</td>\n",
       "      <td>Action</td>\n",
       "    </tr>\n",
       "  </tbody>\n",
       "</table>\n",
       "</div>"
      ],
      "text/plain": [
       "                                       Rating  Runtime         Actor   Genre\n",
       "Title                                                                       \n",
       "The Expendables 3                         6.1      126        Jet Li  Action\n",
       "The Expendables                           6.5      103        Jet Li  Action\n",
       "The Mummy: Tomb of the Dragon Emperor     5.2      112        Jet Li  Action\n",
       "Avengers: Age of Ultron                   7.4      141  Mark Ruffalo  Action\n",
       "Now You See Me 2                          6.5      129  Mark Ruffalo  Action"
      ]
     },
     "execution_count": 41,
     "metadata": {},
     "output_type": "execute_result"
    }
   ],
   "source": [
    "df_genre_actor.head()"
   ]
  },
  {
   "cell_type": "code",
   "execution_count": 42,
   "metadata": {},
   "outputs": [
    {
     "data": {
      "text/html": [
       "<div>\n",
       "<style scoped>\n",
       "    .dataframe tbody tr th:only-of-type {\n",
       "        vertical-align: middle;\n",
       "    }\n",
       "\n",
       "    .dataframe tbody tr th {\n",
       "        vertical-align: top;\n",
       "    }\n",
       "\n",
       "    .dataframe thead th {\n",
       "        text-align: right;\n",
       "    }\n",
       "</style>\n",
       "<table border=\"1\" class=\"dataframe\">\n",
       "  <thead>\n",
       "    <tr style=\"text-align: right;\">\n",
       "      <th></th>\n",
       "      <th>Title</th>\n",
       "      <th>Rating</th>\n",
       "      <th>Runtime</th>\n",
       "      <th>Actor</th>\n",
       "      <th>Genre</th>\n",
       "    </tr>\n",
       "  </thead>\n",
       "  <tbody>\n",
       "    <tr>\n",
       "      <th>0</th>\n",
       "      <td>The Expendables 3</td>\n",
       "      <td>6.1</td>\n",
       "      <td>126</td>\n",
       "      <td>Jet Li</td>\n",
       "      <td>Action</td>\n",
       "    </tr>\n",
       "    <tr>\n",
       "      <th>1</th>\n",
       "      <td>The Expendables</td>\n",
       "      <td>6.5</td>\n",
       "      <td>103</td>\n",
       "      <td>Jet Li</td>\n",
       "      <td>Action</td>\n",
       "    </tr>\n",
       "    <tr>\n",
       "      <th>2</th>\n",
       "      <td>The Mummy: Tomb of the Dragon Emperor</td>\n",
       "      <td>5.2</td>\n",
       "      <td>112</td>\n",
       "      <td>Jet Li</td>\n",
       "      <td>Action</td>\n",
       "    </tr>\n",
       "    <tr>\n",
       "      <th>3</th>\n",
       "      <td>Avengers: Age of Ultron</td>\n",
       "      <td>7.4</td>\n",
       "      <td>141</td>\n",
       "      <td>Mark Ruffalo</td>\n",
       "      <td>Action</td>\n",
       "    </tr>\n",
       "    <tr>\n",
       "      <th>4</th>\n",
       "      <td>Now You See Me 2</td>\n",
       "      <td>6.5</td>\n",
       "      <td>129</td>\n",
       "      <td>Mark Ruffalo</td>\n",
       "      <td>Action</td>\n",
       "    </tr>\n",
       "  </tbody>\n",
       "</table>\n",
       "</div>"
      ],
      "text/plain": [
       "                                   Title  Rating  Runtime         Actor  \\\n",
       "0                      The Expendables 3     6.1      126        Jet Li   \n",
       "1                        The Expendables     6.5      103        Jet Li   \n",
       "2  The Mummy: Tomb of the Dragon Emperor     5.2      112        Jet Li   \n",
       "3                Avengers: Age of Ultron     7.4      141  Mark Ruffalo   \n",
       "4                       Now You See Me 2     6.5      129  Mark Ruffalo   \n",
       "\n",
       "    Genre  \n",
       "0  Action  \n",
       "1  Action  \n",
       "2  Action  \n",
       "3  Action  \n",
       "4  Action  "
      ]
     },
     "execution_count": 42,
     "metadata": {},
     "output_type": "execute_result"
    }
   ],
   "source": [
    "df_genre_actor = df_genre_actor.reset_index()\n",
    "df_genre_actor.head()"
   ]
  },
  {
   "cell_type": "code",
   "execution_count": 43,
   "metadata": {},
   "outputs": [
    {
     "data": {
      "text/html": [
       "<div>\n",
       "<style scoped>\n",
       "    .dataframe tbody tr th:only-of-type {\n",
       "        vertical-align: middle;\n",
       "    }\n",
       "\n",
       "    .dataframe tbody tr th {\n",
       "        vertical-align: top;\n",
       "    }\n",
       "\n",
       "    .dataframe thead th {\n",
       "        text-align: right;\n",
       "    }\n",
       "</style>\n",
       "<table border=\"1\" class=\"dataframe\">\n",
       "  <thead>\n",
       "    <tr style=\"text-align: right;\">\n",
       "      <th></th>\n",
       "      <th>Title</th>\n",
       "      <th>Rating</th>\n",
       "      <th>Runtime</th>\n",
       "      <th>Actor</th>\n",
       "      <th>Genre</th>\n",
       "    </tr>\n",
       "  </thead>\n",
       "  <tbody>\n",
       "  </tbody>\n",
       "</table>\n",
       "</div>"
      ],
      "text/plain": [
       "Empty DataFrame\n",
       "Columns: [Title, Rating, Runtime, Actor, Genre]\n",
       "Index: []"
      ]
     },
     "execution_count": 43,
     "metadata": {},
     "output_type": "execute_result"
    }
   ],
   "source": [
    "# verify unique Actor, Genre, Title\n",
    "get_dups(df_genre_actor, ['Actor', 'Genre', 'Title'])"
   ]
  },
  {
   "cell_type": "markdown",
   "metadata": {},
   "source": [
    "### Query: For top 15 Actors by Count, Which Genre Had Highest Mean Rating"
   ]
  },
  {
   "cell_type": "code",
   "execution_count": 44,
   "metadata": {},
   "outputs": [
    {
     "data": {
      "text/html": [
       "<div>\n",
       "<style scoped>\n",
       "    .dataframe tbody tr th:only-of-type {\n",
       "        vertical-align: middle;\n",
       "    }\n",
       "\n",
       "    .dataframe tbody tr th {\n",
       "        vertical-align: top;\n",
       "    }\n",
       "\n",
       "    .dataframe thead th {\n",
       "        text-align: right;\n",
       "    }\n",
       "</style>\n",
       "<table border=\"1\" class=\"dataframe\">\n",
       "  <thead>\n",
       "    <tr style=\"text-align: right;\">\n",
       "      <th></th>\n",
       "      <th>Rating_mean</th>\n",
       "      <th>Rating_count</th>\n",
       "      <th>Runtime_mean</th>\n",
       "      <th>Runtime_count</th>\n",
       "    </tr>\n",
       "    <tr>\n",
       "      <th>Actor</th>\n",
       "      <th></th>\n",
       "      <th></th>\n",
       "      <th></th>\n",
       "      <th></th>\n",
       "    </tr>\n",
       "  </thead>\n",
       "  <tbody>\n",
       "    <tr>\n",
       "      <th>Mark Wahlberg</th>\n",
       "      <td>6.773333</td>\n",
       "      <td>15</td>\n",
       "      <td>120.466667</td>\n",
       "      <td>15</td>\n",
       "    </tr>\n",
       "    <tr>\n",
       "      <th>Hugh Jackman</th>\n",
       "      <td>7.135714</td>\n",
       "      <td>14</td>\n",
       "      <td>124.500000</td>\n",
       "      <td>14</td>\n",
       "    </tr>\n",
       "    <tr>\n",
       "      <th>Brad Pitt</th>\n",
       "      <td>7.484615</td>\n",
       "      <td>13</td>\n",
       "      <td>134.538462</td>\n",
       "      <td>13</td>\n",
       "    </tr>\n",
       "    <tr>\n",
       "      <th>Christian Bale</th>\n",
       "      <td>7.246154</td>\n",
       "      <td>13</td>\n",
       "      <td>132.461538</td>\n",
       "      <td>13</td>\n",
       "    </tr>\n",
       "    <tr>\n",
       "      <th>Anne Hathaway</th>\n",
       "      <td>6.983333</td>\n",
       "      <td>12</td>\n",
       "      <td>121.250000</td>\n",
       "      <td>12</td>\n",
       "    </tr>\n",
       "    <tr>\n",
       "      <th>Channing Tatum</th>\n",
       "      <td>6.308333</td>\n",
       "      <td>12</td>\n",
       "      <td>111.416667</td>\n",
       "      <td>12</td>\n",
       "    </tr>\n",
       "    <tr>\n",
       "      <th>Johnny Depp</th>\n",
       "      <td>6.533333</td>\n",
       "      <td>12</td>\n",
       "      <td>127.166667</td>\n",
       "      <td>12</td>\n",
       "    </tr>\n",
       "    <tr>\n",
       "      <th>Michael Fassbender</th>\n",
       "      <td>6.941667</td>\n",
       "      <td>12</td>\n",
       "      <td>121.000000</td>\n",
       "      <td>12</td>\n",
       "    </tr>\n",
       "    <tr>\n",
       "      <th>Robert Downey Jr.</th>\n",
       "      <td>7.500000</td>\n",
       "      <td>12</td>\n",
       "      <td>132.250000</td>\n",
       "      <td>12</td>\n",
       "    </tr>\n",
       "    <tr>\n",
       "      <th>Scarlett Johansson</th>\n",
       "      <td>7.325000</td>\n",
       "      <td>12</td>\n",
       "      <td>116.833333</td>\n",
       "      <td>12</td>\n",
       "    </tr>\n",
       "    <tr>\n",
       "      <th>Tom Hardy</th>\n",
       "      <td>7.358333</td>\n",
       "      <td>12</td>\n",
       "      <td>122.750000</td>\n",
       "      <td>12</td>\n",
       "    </tr>\n",
       "    <tr>\n",
       "      <th>Anna Kendrick</th>\n",
       "      <td>6.836364</td>\n",
       "      <td>11</td>\n",
       "      <td>106.454545</td>\n",
       "      <td>11</td>\n",
       "    </tr>\n",
       "    <tr>\n",
       "      <th>Bradley Cooper</th>\n",
       "      <td>7.190909</td>\n",
       "      <td>11</td>\n",
       "      <td>118.090909</td>\n",
       "      <td>11</td>\n",
       "    </tr>\n",
       "    <tr>\n",
       "      <th>Cate Blanchett</th>\n",
       "      <td>7.045455</td>\n",
       "      <td>11</td>\n",
       "      <td>124.272727</td>\n",
       "      <td>11</td>\n",
       "    </tr>\n",
       "    <tr>\n",
       "      <th>Chloë Grace Moretz</th>\n",
       "      <td>6.700000</td>\n",
       "      <td>11</td>\n",
       "      <td>110.272727</td>\n",
       "      <td>11</td>\n",
       "    </tr>\n",
       "  </tbody>\n",
       "</table>\n",
       "</div>"
      ],
      "text/plain": [
       "                    Rating_mean  Rating_count  Runtime_mean  Runtime_count\n",
       "Actor                                                                     \n",
       "Mark Wahlberg          6.773333            15    120.466667             15\n",
       "Hugh Jackman           7.135714            14    124.500000             14\n",
       "Brad Pitt              7.484615            13    134.538462             13\n",
       "Christian Bale         7.246154            13    132.461538             13\n",
       "Anne Hathaway          6.983333            12    121.250000             12\n",
       "Channing Tatum         6.308333            12    111.416667             12\n",
       "Johnny Depp            6.533333            12    127.166667             12\n",
       "Michael Fassbender     6.941667            12    121.000000             12\n",
       "Robert Downey Jr.      7.500000            12    132.250000             12\n",
       "Scarlett Johansson     7.325000            12    116.833333             12\n",
       "Tom Hardy              7.358333            12    122.750000             12\n",
       "Anna Kendrick          6.836364            11    106.454545             11\n",
       "Bradley Cooper         7.190909            11    118.090909             11\n",
       "Cate Blanchett         7.045455            11    124.272727             11\n",
       "Chloë Grace Moretz     6.700000            11    110.272727             11"
      ]
     },
     "execution_count": 44,
     "metadata": {},
     "output_type": "execute_result"
    }
   ],
   "source": [
    "actor_top15"
   ]
  },
  {
   "cell_type": "code",
   "execution_count": 45,
   "metadata": {},
   "outputs": [
    {
     "data": {
      "text/html": [
       "<div>\n",
       "<style scoped>\n",
       "    .dataframe tbody tr th:only-of-type {\n",
       "        vertical-align: middle;\n",
       "    }\n",
       "\n",
       "    .dataframe tbody tr th {\n",
       "        vertical-align: top;\n",
       "    }\n",
       "\n",
       "    .dataframe thead th {\n",
       "        text-align: right;\n",
       "    }\n",
       "</style>\n",
       "<table border=\"1\" class=\"dataframe\">\n",
       "  <thead>\n",
       "    <tr style=\"text-align: right;\">\n",
       "      <th></th>\n",
       "      <th>Title</th>\n",
       "      <th>Rating</th>\n",
       "      <th>Runtime</th>\n",
       "      <th>Actor</th>\n",
       "      <th>Genre</th>\n",
       "    </tr>\n",
       "  </thead>\n",
       "  <tbody>\n",
       "    <tr>\n",
       "      <th>40</th>\n",
       "      <td>How to Train Your Dragon 2</td>\n",
       "      <td>7.9</td>\n",
       "      <td>102</td>\n",
       "      <td>Cate Blanchett</td>\n",
       "      <td>Action</td>\n",
       "    </tr>\n",
       "    <tr>\n",
       "      <th>41</th>\n",
       "      <td>Robin Hood</td>\n",
       "      <td>6.7</td>\n",
       "      <td>140</td>\n",
       "      <td>Cate Blanchett</td>\n",
       "      <td>Action</td>\n",
       "    </tr>\n",
       "    <tr>\n",
       "      <th>42</th>\n",
       "      <td>Hanna</td>\n",
       "      <td>6.8</td>\n",
       "      <td>111</td>\n",
       "      <td>Cate Blanchett</td>\n",
       "      <td>Action</td>\n",
       "    </tr>\n",
       "    <tr>\n",
       "      <th>43</th>\n",
       "      <td>Indiana Jones and the Kingdom of the Crystal S...</td>\n",
       "      <td>6.2</td>\n",
       "      <td>122</td>\n",
       "      <td>Cate Blanchett</td>\n",
       "      <td>Action</td>\n",
       "    </tr>\n",
       "    <tr>\n",
       "      <th>126</th>\n",
       "      <td>Kick-Ass 2</td>\n",
       "      <td>6.6</td>\n",
       "      <td>103</td>\n",
       "      <td>Chloë Grace Moretz</td>\n",
       "      <td>Action</td>\n",
       "    </tr>\n",
       "  </tbody>\n",
       "</table>\n",
       "</div>"
      ],
      "text/plain": [
       "                                                 Title  Rating  Runtime  \\\n",
       "40                          How to Train Your Dragon 2     7.9      102   \n",
       "41                                          Robin Hood     6.7      140   \n",
       "42                                               Hanna     6.8      111   \n",
       "43   Indiana Jones and the Kingdom of the Crystal S...     6.2      122   \n",
       "126                                         Kick-Ass 2     6.6      103   \n",
       "\n",
       "                  Actor   Genre  \n",
       "40       Cate Blanchett  Action  \n",
       "41       Cate Blanchett  Action  \n",
       "42       Cate Blanchett  Action  \n",
       "43       Cate Blanchett  Action  \n",
       "126  Chloë Grace Moretz  Action  "
      ]
     },
     "execution_count": 45,
     "metadata": {},
     "output_type": "execute_result"
    }
   ],
   "source": [
    "criteria = df_genre_actor['Actor'].isin(actor_top15.index)\n",
    "df_genre_actor_common = df_genre_actor[criteria]\n",
    "df_genre_actor_common.head()"
   ]
  },
  {
   "cell_type": "code",
   "execution_count": 46,
   "metadata": {},
   "outputs": [
    {
     "data": {
      "text/html": [
       "<div>\n",
       "<style scoped>\n",
       "    .dataframe tbody tr th:only-of-type {\n",
       "        vertical-align: middle;\n",
       "    }\n",
       "\n",
       "    .dataframe tbody tr th {\n",
       "        vertical-align: top;\n",
       "    }\n",
       "\n",
       "    .dataframe thead th {\n",
       "        text-align: right;\n",
       "    }\n",
       "</style>\n",
       "<table border=\"1\" class=\"dataframe\">\n",
       "  <thead>\n",
       "    <tr style=\"text-align: right;\">\n",
       "      <th></th>\n",
       "      <th>Actor</th>\n",
       "      <th>Genre</th>\n",
       "      <th>Rating</th>\n",
       "    </tr>\n",
       "  </thead>\n",
       "  <tbody>\n",
       "    <tr>\n",
       "      <th>0</th>\n",
       "      <td>Anna Kendrick</td>\n",
       "      <td>Action</td>\n",
       "      <td>6.850000</td>\n",
       "    </tr>\n",
       "    <tr>\n",
       "      <th>1</th>\n",
       "      <td>Anna Kendrick</td>\n",
       "      <td>Adventure</td>\n",
       "      <td>6.166667</td>\n",
       "    </tr>\n",
       "    <tr>\n",
       "      <th>2</th>\n",
       "      <td>Anna Kendrick</td>\n",
       "      <td>Animation</td>\n",
       "      <td>6.500000</td>\n",
       "    </tr>\n",
       "    <tr>\n",
       "      <th>3</th>\n",
       "      <td>Anna Kendrick</td>\n",
       "      <td>Comedy</td>\n",
       "      <td>6.587500</td>\n",
       "    </tr>\n",
       "    <tr>\n",
       "      <th>4</th>\n",
       "      <td>Anna Kendrick</td>\n",
       "      <td>Crime</td>\n",
       "      <td>7.550000</td>\n",
       "    </tr>\n",
       "  </tbody>\n",
       "</table>\n",
       "</div>"
      ],
      "text/plain": [
       "           Actor      Genre    Rating\n",
       "0  Anna Kendrick     Action  6.850000\n",
       "1  Anna Kendrick  Adventure  6.166667\n",
       "2  Anna Kendrick  Animation  6.500000\n",
       "3  Anna Kendrick     Comedy  6.587500\n",
       "4  Anna Kendrick      Crime  7.550000"
      ]
     },
     "execution_count": 46,
     "metadata": {},
     "output_type": "execute_result"
    }
   ],
   "source": [
    "# aggregate the mean Rating over each genre for each actor\n",
    "df_genre_actor_agg = \\\n",
    "    df_genre_actor_common.groupby(['Actor', 'Genre']).agg({'Rating':'mean'}).reset_index()\n",
    "df_genre_actor_agg.head()"
   ]
  },
  {
   "cell_type": "code",
   "execution_count": 47,
   "metadata": {},
   "outputs": [
    {
     "data": {
      "text/html": [
       "<div>\n",
       "<style scoped>\n",
       "    .dataframe tbody tr th:only-of-type {\n",
       "        vertical-align: middle;\n",
       "    }\n",
       "\n",
       "    .dataframe tbody tr th {\n",
       "        vertical-align: top;\n",
       "    }\n",
       "\n",
       "    .dataframe thead th {\n",
       "        text-align: right;\n",
       "    }\n",
       "</style>\n",
       "<table border=\"1\" class=\"dataframe\">\n",
       "  <thead>\n",
       "    <tr style=\"text-align: right;\">\n",
       "      <th></th>\n",
       "      <th>Genre</th>\n",
       "      <th>Rating</th>\n",
       "    </tr>\n",
       "    <tr>\n",
       "      <th>Actor</th>\n",
       "      <th></th>\n",
       "      <th></th>\n",
       "    </tr>\n",
       "  </thead>\n",
       "  <tbody>\n",
       "    <tr>\n",
       "      <th>Anna Kendrick</th>\n",
       "      <td>Thriller</td>\n",
       "      <td>7.70</td>\n",
       "    </tr>\n",
       "    <tr>\n",
       "      <th>Anne Hathaway</th>\n",
       "      <td>Sci-Fi</td>\n",
       "      <td>8.60</td>\n",
       "    </tr>\n",
       "    <tr>\n",
       "      <th>Brad Pitt</th>\n",
       "      <td>History</td>\n",
       "      <td>8.10</td>\n",
       "    </tr>\n",
       "    <tr>\n",
       "      <th>Bradley Cooper</th>\n",
       "      <td>Romance</td>\n",
       "      <td>7.80</td>\n",
       "    </tr>\n",
       "    <tr>\n",
       "      <th>Cate Blanchett</th>\n",
       "      <td>Animation</td>\n",
       "      <td>7.90</td>\n",
       "    </tr>\n",
       "    <tr>\n",
       "      <th>Channing Tatum</th>\n",
       "      <td>Animation</td>\n",
       "      <td>7.30</td>\n",
       "    </tr>\n",
       "    <tr>\n",
       "      <th>Chloë Grace Moretz</th>\n",
       "      <td>Romance</td>\n",
       "      <td>7.70</td>\n",
       "    </tr>\n",
       "    <tr>\n",
       "      <th>Christian Bale</th>\n",
       "      <td>Mystery</td>\n",
       "      <td>8.50</td>\n",
       "    </tr>\n",
       "    <tr>\n",
       "      <th>Hugh Jackman</th>\n",
       "      <td>Mystery</td>\n",
       "      <td>8.30</td>\n",
       "    </tr>\n",
       "    <tr>\n",
       "      <th>Johnny Depp</th>\n",
       "      <td>Musical</td>\n",
       "      <td>7.40</td>\n",
       "    </tr>\n",
       "    <tr>\n",
       "      <th>Mark Wahlberg</th>\n",
       "      <td>Biography</td>\n",
       "      <td>7.65</td>\n",
       "    </tr>\n",
       "    <tr>\n",
       "      <th>Michael Fassbender</th>\n",
       "      <td>History</td>\n",
       "      <td>8.10</td>\n",
       "    </tr>\n",
       "    <tr>\n",
       "      <th>Robert Downey Jr.</th>\n",
       "      <td>History</td>\n",
       "      <td>7.70</td>\n",
       "    </tr>\n",
       "    <tr>\n",
       "      <th>Scarlett Johansson</th>\n",
       "      <td>Mystery</td>\n",
       "      <td>8.50</td>\n",
       "    </tr>\n",
       "    <tr>\n",
       "      <th>Tom Hardy</th>\n",
       "      <td>Sport</td>\n",
       "      <td>8.20</td>\n",
       "    </tr>\n",
       "  </tbody>\n",
       "</table>\n",
       "</div>"
      ],
      "text/plain": [
       "                        Genre  Rating\n",
       "Actor                                \n",
       "Anna Kendrick        Thriller    7.70\n",
       "Anne Hathaway          Sci-Fi    8.60\n",
       "Brad Pitt             History    8.10\n",
       "Bradley Cooper        Romance    7.80\n",
       "Cate Blanchett      Animation    7.90\n",
       "Channing Tatum      Animation    7.30\n",
       "Chloë Grace Moretz    Romance    7.70\n",
       "Christian Bale        Mystery    8.50\n",
       "Hugh Jackman          Mystery    8.30\n",
       "Johnny Depp           Musical    7.40\n",
       "Mark Wahlberg       Biography    7.65\n",
       "Michael Fassbender    History    8.10\n",
       "Robert Downey Jr.     History    7.70\n",
       "Scarlett Johansson    Mystery    8.50\n",
       "Tom Hardy               Sport    8.20"
      ]
     },
     "execution_count": 47,
     "metadata": {},
     "output_type": "execute_result"
    }
   ],
   "source": [
    "# sort and pick off the first one in the group (no ties)\n",
    "df3 = df_genre_actor_agg.sort_values(['Rating'], ascending=False)\n",
    "df3.groupby(['Actor']).first()"
   ]
  },
  {
   "cell_type": "code",
   "execution_count": 48,
   "metadata": {},
   "outputs": [
    {
     "data": {
      "text/html": [
       "<div>\n",
       "<style scoped>\n",
       "    .dataframe tbody tr th:only-of-type {\n",
       "        vertical-align: middle;\n",
       "    }\n",
       "\n",
       "    .dataframe tbody tr th {\n",
       "        vertical-align: top;\n",
       "    }\n",
       "\n",
       "    .dataframe thead th {\n",
       "        text-align: right;\n",
       "    }\n",
       "</style>\n",
       "<table border=\"1\" class=\"dataframe\">\n",
       "  <thead>\n",
       "    <tr style=\"text-align: right;\">\n",
       "      <th></th>\n",
       "      <th>Genre</th>\n",
       "      <th>Rating</th>\n",
       "    </tr>\n",
       "    <tr>\n",
       "      <th>Actor</th>\n",
       "      <th></th>\n",
       "      <th></th>\n",
       "    </tr>\n",
       "  </thead>\n",
       "  <tbody>\n",
       "    <tr>\n",
       "      <th>Anna Kendrick</th>\n",
       "      <td>Thriller</td>\n",
       "      <td>7.70</td>\n",
       "    </tr>\n",
       "    <tr>\n",
       "      <th>Anne Hathaway</th>\n",
       "      <td>Sci-Fi</td>\n",
       "      <td>8.60</td>\n",
       "    </tr>\n",
       "    <tr>\n",
       "      <th>Brad Pitt</th>\n",
       "      <td>History</td>\n",
       "      <td>8.10</td>\n",
       "    </tr>\n",
       "    <tr>\n",
       "      <th>Bradley Cooper</th>\n",
       "      <td>Romance</td>\n",
       "      <td>7.80</td>\n",
       "    </tr>\n",
       "    <tr>\n",
       "      <th>Cate Blanchett</th>\n",
       "      <td>Animation</td>\n",
       "      <td>7.90</td>\n",
       "    </tr>\n",
       "    <tr>\n",
       "      <th>Channing Tatum</th>\n",
       "      <td>Animation</td>\n",
       "      <td>7.30</td>\n",
       "    </tr>\n",
       "    <tr>\n",
       "      <th>Chloë Grace Moretz</th>\n",
       "      <td>Romance</td>\n",
       "      <td>7.70</td>\n",
       "    </tr>\n",
       "    <tr>\n",
       "      <th>Christian Bale</th>\n",
       "      <td>Mystery</td>\n",
       "      <td>8.50</td>\n",
       "    </tr>\n",
       "    <tr>\n",
       "      <th>Christian Bale</th>\n",
       "      <td>Sci-Fi</td>\n",
       "      <td>8.50</td>\n",
       "    </tr>\n",
       "    <tr>\n",
       "      <th>Hugh Jackman</th>\n",
       "      <td>Mystery</td>\n",
       "      <td>8.30</td>\n",
       "    </tr>\n",
       "    <tr>\n",
       "      <th>Johnny Depp</th>\n",
       "      <td>Music</td>\n",
       "      <td>7.40</td>\n",
       "    </tr>\n",
       "    <tr>\n",
       "      <th>Johnny Depp</th>\n",
       "      <td>Musical</td>\n",
       "      <td>7.40</td>\n",
       "    </tr>\n",
       "    <tr>\n",
       "      <th>Mark Wahlberg</th>\n",
       "      <td>Biography</td>\n",
       "      <td>7.65</td>\n",
       "    </tr>\n",
       "    <tr>\n",
       "      <th>Michael Fassbender</th>\n",
       "      <td>History</td>\n",
       "      <td>8.10</td>\n",
       "    </tr>\n",
       "    <tr>\n",
       "      <th>Robert Downey Jr.</th>\n",
       "      <td>History</td>\n",
       "      <td>7.70</td>\n",
       "    </tr>\n",
       "    <tr>\n",
       "      <th>Scarlett Johansson</th>\n",
       "      <td>Mystery</td>\n",
       "      <td>8.50</td>\n",
       "    </tr>\n",
       "    <tr>\n",
       "      <th>Tom Hardy</th>\n",
       "      <td>Sport</td>\n",
       "      <td>8.20</td>\n",
       "    </tr>\n",
       "  </tbody>\n",
       "</table>\n",
       "</div>"
      ],
      "text/plain": [
       "                        Genre  Rating\n",
       "Actor                                \n",
       "Anna Kendrick        Thriller    7.70\n",
       "Anne Hathaway          Sci-Fi    8.60\n",
       "Brad Pitt             History    8.10\n",
       "Bradley Cooper        Romance    7.80\n",
       "Cate Blanchett      Animation    7.90\n",
       "Channing Tatum      Animation    7.30\n",
       "Chloë Grace Moretz    Romance    7.70\n",
       "Christian Bale        Mystery    8.50\n",
       "Christian Bale         Sci-Fi    8.50\n",
       "Hugh Jackman          Mystery    8.30\n",
       "Johnny Depp             Music    7.40\n",
       "Johnny Depp           Musical    7.40\n",
       "Mark Wahlberg       Biography    7.65\n",
       "Michael Fassbender    History    8.10\n",
       "Robert Downey Jr.     History    7.70\n",
       "Scarlett Johansson    Mystery    8.50\n",
       "Tom Hardy               Sport    8.20"
      ]
     },
     "execution_count": 48,
     "metadata": {},
     "output_type": "execute_result"
    }
   ],
   "source": [
    "# same as above, but show ties\n",
    "criteria = df_genre_actor_agg.groupby(['Actor']).apply(lambda x: x['Rating'] == x['Rating'].max())\n",
    "df_genre_actor_agg[criteria.values].set_index('Actor')"
   ]
  },
  {
   "cell_type": "markdown",
   "metadata": {},
   "source": [
    "### Spot Check by Hand"
   ]
  },
  {
   "cell_type": "code",
   "execution_count": 49,
   "metadata": {},
   "outputs": [],
   "source": [
    "pitt_movies = movies['Actors'].str.contains('Brad Pitt')\n",
    "history_movies = movies['Genre'].str.contains('History')"
   ]
  },
  {
   "cell_type": "code",
   "execution_count": 50,
   "metadata": {},
   "outputs": [
    {
     "data": {
      "text/html": [
       "<div>\n",
       "<style scoped>\n",
       "    .dataframe tbody tr th:only-of-type {\n",
       "        vertical-align: middle;\n",
       "    }\n",
       "\n",
       "    .dataframe tbody tr th {\n",
       "        vertical-align: top;\n",
       "    }\n",
       "\n",
       "    .dataframe thead th {\n",
       "        text-align: right;\n",
       "    }\n",
       "</style>\n",
       "<table border=\"1\" class=\"dataframe\">\n",
       "  <thead>\n",
       "    <tr style=\"text-align: right;\">\n",
       "      <th></th>\n",
       "      <th>ID</th>\n",
       "      <th>Genre</th>\n",
       "      <th>Description</th>\n",
       "      <th>Director</th>\n",
       "      <th>Actors</th>\n",
       "      <th>Year</th>\n",
       "      <th>Runtime</th>\n",
       "      <th>Rating</th>\n",
       "      <th>Votes</th>\n",
       "      <th>Revenue</th>\n",
       "      <th>Metascore</th>\n",
       "    </tr>\n",
       "    <tr>\n",
       "      <th>Title</th>\n",
       "      <th></th>\n",
       "      <th></th>\n",
       "      <th></th>\n",
       "      <th></th>\n",
       "      <th></th>\n",
       "      <th></th>\n",
       "      <th></th>\n",
       "      <th></th>\n",
       "      <th></th>\n",
       "      <th></th>\n",
       "      <th></th>\n",
       "    </tr>\n",
       "  </thead>\n",
       "  <tbody>\n",
       "    <tr>\n",
       "      <th>12 Years a Slave</th>\n",
       "      <td>112</td>\n",
       "      <td>Biography,Drama,History</td>\n",
       "      <td>In the antebellum United States, Solomon North...</td>\n",
       "      <td>Steve McQueen</td>\n",
       "      <td>Chiwetel Ejiofor, Michael Kenneth Williams, Mi...</td>\n",
       "      <td>2013</td>\n",
       "      <td>134</td>\n",
       "      <td>8.1</td>\n",
       "      <td>486338</td>\n",
       "      <td>56.67</td>\n",
       "      <td>96.0</td>\n",
       "    </tr>\n",
       "  </tbody>\n",
       "</table>\n",
       "</div>"
      ],
      "text/plain": [
       "                   ID                    Genre  \\\n",
       "Title                                            \n",
       "12 Years a Slave  112  Biography,Drama,History   \n",
       "\n",
       "                                                        Description  \\\n",
       "Title                                                                 \n",
       "12 Years a Slave  In the antebellum United States, Solomon North...   \n",
       "\n",
       "                       Director  \\\n",
       "Title                             \n",
       "12 Years a Slave  Steve McQueen   \n",
       "\n",
       "                                                             Actors  Year  \\\n",
       "Title                                                                       \n",
       "12 Years a Slave  Chiwetel Ejiofor, Michael Kenneth Williams, Mi...  2013   \n",
       "\n",
       "                  Runtime  Rating   Votes  Revenue  Metascore  \n",
       "Title                                                          \n",
       "12 Years a Slave      134     8.1  486338    56.67       96.0  "
      ]
     },
     "execution_count": 50,
     "metadata": {},
     "output_type": "execute_result"
    }
   ],
   "source": [
    "pitt_history_movies = movies[pitt_movies & history_movies]\n",
    "pitt_history_movies"
   ]
  },
  {
   "cell_type": "code",
   "execution_count": 51,
   "metadata": {},
   "outputs": [
    {
     "data": {
      "text/plain": [
       "8.1"
      ]
     },
     "execution_count": 51,
     "metadata": {},
     "output_type": "execute_result"
    }
   ],
   "source": [
    "pitt_history_movies['Rating'].mean()"
   ]
  },
  {
   "cell_type": "code",
   "execution_count": 52,
   "metadata": {},
   "outputs": [
    {
     "data": {
      "text/html": [
       "<div>\n",
       "<style scoped>\n",
       "    .dataframe tbody tr th:only-of-type {\n",
       "        vertical-align: middle;\n",
       "    }\n",
       "\n",
       "    .dataframe tbody tr th {\n",
       "        vertical-align: top;\n",
       "    }\n",
       "\n",
       "    .dataframe thead th {\n",
       "        text-align: right;\n",
       "    }\n",
       "</style>\n",
       "<table border=\"1\" class=\"dataframe\">\n",
       "  <thead>\n",
       "    <tr style=\"text-align: right;\">\n",
       "      <th></th>\n",
       "      <th>Actor</th>\n",
       "      <th>Genre</th>\n",
       "      <th>Rating</th>\n",
       "    </tr>\n",
       "  </thead>\n",
       "  <tbody>\n",
       "    <tr>\n",
       "      <th>29</th>\n",
       "      <td>Brad Pitt</td>\n",
       "      <td>History</td>\n",
       "      <td>8.1</td>\n",
       "    </tr>\n",
       "  </tbody>\n",
       "</table>\n",
       "</div>"
      ],
      "text/plain": [
       "        Actor    Genre  Rating\n",
       "29  Brad Pitt  History     8.1"
      ]
     },
     "execution_count": 52,
     "metadata": {},
     "output_type": "execute_result"
    }
   ],
   "source": [
    "df = df_genre_actor_agg\n",
    "df[(df['Actor'] == 'Brad Pitt') & (df['Genre'] == 'History')]"
   ]
  },
  {
   "cell_type": "code",
   "execution_count": 53,
   "metadata": {},
   "outputs": [
    {
     "data": {
      "text/html": [
       "<div>\n",
       "<style scoped>\n",
       "    .dataframe tbody tr th:only-of-type {\n",
       "        vertical-align: middle;\n",
       "    }\n",
       "\n",
       "    .dataframe tbody tr th {\n",
       "        vertical-align: top;\n",
       "    }\n",
       "\n",
       "    .dataframe thead th {\n",
       "        text-align: right;\n",
       "    }\n",
       "</style>\n",
       "<table border=\"1\" class=\"dataframe\">\n",
       "  <thead>\n",
       "    <tr style=\"text-align: right;\">\n",
       "      <th></th>\n",
       "      <th>ID</th>\n",
       "      <th>Genre</th>\n",
       "      <th>Description</th>\n",
       "      <th>Director</th>\n",
       "      <th>Actors</th>\n",
       "      <th>Year</th>\n",
       "      <th>Runtime</th>\n",
       "      <th>Rating</th>\n",
       "      <th>Votes</th>\n",
       "      <th>Revenue</th>\n",
       "      <th>Metascore</th>\n",
       "    </tr>\n",
       "    <tr>\n",
       "      <th>Title</th>\n",
       "      <th></th>\n",
       "      <th></th>\n",
       "      <th></th>\n",
       "      <th></th>\n",
       "      <th></th>\n",
       "      <th></th>\n",
       "      <th></th>\n",
       "      <th></th>\n",
       "      <th></th>\n",
       "      <th></th>\n",
       "      <th></th>\n",
       "    </tr>\n",
       "  </thead>\n",
       "  <tbody>\n",
       "    <tr>\n",
       "      <th>Fury</th>\n",
       "      <td>241</td>\n",
       "      <td>Action,Drama,War</td>\n",
       "      <td>A grizzled tank commander makes tough decision...</td>\n",
       "      <td>David Ayer</td>\n",
       "      <td>Brad Pitt, Shia LaBeouf, Logan Lerman, Michael...</td>\n",
       "      <td>2014</td>\n",
       "      <td>134</td>\n",
       "      <td>7.6</td>\n",
       "      <td>332234</td>\n",
       "      <td>85.71</td>\n",
       "      <td>64.0</td>\n",
       "    </tr>\n",
       "    <tr>\n",
       "      <th>Inglourious Basterds</th>\n",
       "      <td>78</td>\n",
       "      <td>Adventure,Drama,War</td>\n",
       "      <td>In Nazi-occupied France during World War II, a...</td>\n",
       "      <td>Quentin Tarantino</td>\n",
       "      <td>Brad Pitt, Diane Kruger, Eli Roth,Mélanie Laurent</td>\n",
       "      <td>2009</td>\n",
       "      <td>153</td>\n",
       "      <td>8.3</td>\n",
       "      <td>959065</td>\n",
       "      <td>120.52</td>\n",
       "      <td>69.0</td>\n",
       "    </tr>\n",
       "  </tbody>\n",
       "</table>\n",
       "</div>"
      ],
      "text/plain": [
       "                       ID                Genre  \\\n",
       "Title                                            \n",
       "Fury                  241     Action,Drama,War   \n",
       "Inglourious Basterds   78  Adventure,Drama,War   \n",
       "\n",
       "                                                            Description  \\\n",
       "Title                                                                     \n",
       "Fury                  A grizzled tank commander makes tough decision...   \n",
       "Inglourious Basterds  In Nazi-occupied France during World War II, a...   \n",
       "\n",
       "                               Director  \\\n",
       "Title                                     \n",
       "Fury                         David Ayer   \n",
       "Inglourious Basterds  Quentin Tarantino   \n",
       "\n",
       "                                                                 Actors  Year  \\\n",
       "Title                                                                           \n",
       "Fury                  Brad Pitt, Shia LaBeouf, Logan Lerman, Michael...  2014   \n",
       "Inglourious Basterds  Brad Pitt, Diane Kruger, Eli Roth,Mélanie Laurent  2009   \n",
       "\n",
       "                      Runtime  Rating   Votes  Revenue  Metascore  \n",
       "Title                                                              \n",
       "Fury                      134     7.6  332234    85.71       64.0  \n",
       "Inglourious Basterds      153     8.3  959065   120.52       69.0  "
      ]
     },
     "execution_count": 53,
     "metadata": {},
     "output_type": "execute_result"
    }
   ],
   "source": [
    "war_movies = movies['Genre'].str.contains('War')\n",
    "pitt_war_movies = movies[pitt_movies & war_movies]\n",
    "pitt_war_movies"
   ]
  },
  {
   "cell_type": "code",
   "execution_count": 54,
   "metadata": {},
   "outputs": [
    {
     "data": {
      "text/plain": [
       "7.95"
      ]
     },
     "execution_count": 54,
     "metadata": {},
     "output_type": "execute_result"
    }
   ],
   "source": [
    "pitt_war_movies['Rating'].mean()"
   ]
  },
  {
   "cell_type": "code",
   "execution_count": 55,
   "metadata": {},
   "outputs": [
    {
     "data": {
      "text/html": [
       "<div>\n",
       "<style scoped>\n",
       "    .dataframe tbody tr th:only-of-type {\n",
       "        vertical-align: middle;\n",
       "    }\n",
       "\n",
       "    .dataframe tbody tr th {\n",
       "        vertical-align: top;\n",
       "    }\n",
       "\n",
       "    .dataframe thead th {\n",
       "        text-align: right;\n",
       "    }\n",
       "</style>\n",
       "<table border=\"1\" class=\"dataframe\">\n",
       "  <thead>\n",
       "    <tr style=\"text-align: right;\">\n",
       "      <th></th>\n",
       "      <th>Actor</th>\n",
       "      <th>Genre</th>\n",
       "      <th>Rating</th>\n",
       "    </tr>\n",
       "  </thead>\n",
       "  <tbody>\n",
       "    <tr>\n",
       "      <th>34</th>\n",
       "      <td>Brad Pitt</td>\n",
       "      <td>War</td>\n",
       "      <td>7.95</td>\n",
       "    </tr>\n",
       "  </tbody>\n",
       "</table>\n",
       "</div>"
      ],
      "text/plain": [
       "        Actor Genre  Rating\n",
       "34  Brad Pitt   War    7.95"
      ]
     },
     "execution_count": 55,
     "metadata": {},
     "output_type": "execute_result"
    }
   ],
   "source": [
    "df[(df['Actor'] == 'Brad Pitt') & (df['Genre'] == 'War')]"
   ]
  },
  {
   "cell_type": "code",
   "execution_count": 56,
   "metadata": {},
   "outputs": [
    {
     "data": {
      "text/html": [
       "<div>\n",
       "<style scoped>\n",
       "    .dataframe tbody tr th:only-of-type {\n",
       "        vertical-align: middle;\n",
       "    }\n",
       "\n",
       "    .dataframe tbody tr th {\n",
       "        vertical-align: top;\n",
       "    }\n",
       "\n",
       "    .dataframe thead th {\n",
       "        text-align: right;\n",
       "    }\n",
       "</style>\n",
       "<table border=\"1\" class=\"dataframe\">\n",
       "  <thead>\n",
       "    <tr style=\"text-align: right;\">\n",
       "      <th></th>\n",
       "      <th>Actor</th>\n",
       "      <th>Genre</th>\n",
       "      <th>Rating</th>\n",
       "    </tr>\n",
       "  </thead>\n",
       "  <tbody>\n",
       "    <tr>\n",
       "      <th>29</th>\n",
       "      <td>Brad Pitt</td>\n",
       "      <td>History</td>\n",
       "      <td>8.10</td>\n",
       "    </tr>\n",
       "    <tr>\n",
       "      <th>34</th>\n",
       "      <td>Brad Pitt</td>\n",
       "      <td>War</td>\n",
       "      <td>7.95</td>\n",
       "    </tr>\n",
       "    <tr>\n",
       "      <th>24</th>\n",
       "      <td>Brad Pitt</td>\n",
       "      <td>Biography</td>\n",
       "      <td>7.75</td>\n",
       "    </tr>\n",
       "    <tr>\n",
       "      <th>22</th>\n",
       "      <td>Brad Pitt</td>\n",
       "      <td>Adventure</td>\n",
       "      <td>7.65</td>\n",
       "    </tr>\n",
       "    <tr>\n",
       "      <th>27</th>\n",
       "      <td>Brad Pitt</td>\n",
       "      <td>Drama</td>\n",
       "      <td>7.61</td>\n",
       "    </tr>\n",
       "  </tbody>\n",
       "</table>\n",
       "</div>"
      ],
      "text/plain": [
       "        Actor      Genre  Rating\n",
       "29  Brad Pitt    History    8.10\n",
       "34  Brad Pitt        War    7.95\n",
       "24  Brad Pitt  Biography    7.75\n",
       "22  Brad Pitt  Adventure    7.65\n",
       "27  Brad Pitt      Drama    7.61"
      ]
     },
     "execution_count": 56,
     "metadata": {},
     "output_type": "execute_result"
    }
   ],
   "source": [
    "df[df['Actor'] == 'Brad Pitt'].nlargest(n=5, columns=['Rating'])"
   ]
  }
 ],
 "metadata": {
  "kernelspec": {
   "display_name": "Python 3",
   "language": "python",
   "name": "python3"
  },
  "language_info": {
   "codemirror_mode": {
    "name": "ipython",
    "version": 3
   },
   "file_extension": ".py",
   "mimetype": "text/x-python",
   "name": "python",
   "nbconvert_exporter": "python",
   "pygments_lexer": "ipython3",
   "version": "3.7.2"
  }
 },
 "nbformat": 4,
 "nbformat_minor": 2
}
