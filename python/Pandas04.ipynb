{
 "cells": [
  {
   "cell_type": "markdown",
   "metadata": {
    "toc-hr-collapsed": false
   },
   "source": [
    "# Pandas Introduction Part 4"
   ]
  },
  {
   "cell_type": "markdown",
   "metadata": {
    "toc-hr-collapsed": true
   },
   "source": [
    "## Overview\n",
    "\n",
    "This notebook uses the IMDB dataset from Kaggle:  \n",
    "https://www.kaggle.com/PromptCloudHQ/imdb-data#IMDB-Movie-Data.csv\n",
    "\n",
    "Three different methods for quering data that is not \"tidy\" are presented.  Two of these reformat the data to be tidy in different ways.  A third makes use of an auxiliary mapping maintained in a Python dictionary.\n",
    "\n",
    "The same queries are formulated using all three methods."
   ]
  },
  {
   "cell_type": "code",
   "execution_count": 1,
   "metadata": {},
   "outputs": [],
   "source": [
    "import pandas as pd\n",
    "import numpy as np"
   ]
  },
  {
   "cell_type": "markdown",
   "metadata": {
    "toc-hr-collapsed": false
   },
   "source": [
    "## Read Movie Data Set\n",
    "This data was read in and preprocessed in Pandas02.  Load that notebook."
   ]
  },
  {
   "cell_type": "code",
   "execution_count": 2,
   "metadata": {},
   "outputs": [],
   "source": [
    "import pickle\n",
    "with open('../data/movies.pickle','rb') as p:\n",
    "    movies = pickle.load(p)"
   ]
  },
  {
   "cell_type": "code",
   "execution_count": 3,
   "metadata": {},
   "outputs": [
    {
     "data": {
      "text/html": [
       "<div>\n",
       "<style scoped>\n",
       "    .dataframe tbody tr th:only-of-type {\n",
       "        vertical-align: middle;\n",
       "    }\n",
       "\n",
       "    .dataframe tbody tr th {\n",
       "        vertical-align: top;\n",
       "    }\n",
       "\n",
       "    .dataframe thead th {\n",
       "        text-align: right;\n",
       "    }\n",
       "</style>\n",
       "<table border=\"1\" class=\"dataframe\">\n",
       "  <thead>\n",
       "    <tr style=\"text-align: right;\">\n",
       "      <th></th>\n",
       "      <th>ID</th>\n",
       "      <th>Genre</th>\n",
       "      <th>Description</th>\n",
       "      <th>Director</th>\n",
       "      <th>Actors</th>\n",
       "      <th>Year</th>\n",
       "      <th>Runtime</th>\n",
       "      <th>Rating</th>\n",
       "      <th>Votes</th>\n",
       "      <th>Revenue</th>\n",
       "      <th>Metascore</th>\n",
       "    </tr>\n",
       "    <tr>\n",
       "      <th>Title</th>\n",
       "      <th></th>\n",
       "      <th></th>\n",
       "      <th></th>\n",
       "      <th></th>\n",
       "      <th></th>\n",
       "      <th></th>\n",
       "      <th></th>\n",
       "      <th></th>\n",
       "      <th></th>\n",
       "      <th></th>\n",
       "      <th></th>\n",
       "    </tr>\n",
       "  </thead>\n",
       "  <tbody>\n",
       "    <tr>\n",
       "      <th>Guardians of the Galaxy</th>\n",
       "      <td>1</td>\n",
       "      <td>Action,Adventure,Sci-Fi</td>\n",
       "      <td>A group of intergalactic criminals are forced ...</td>\n",
       "      <td>James Gunn</td>\n",
       "      <td>Chris Pratt, Vin Diesel, Bradley Cooper, Zoe S...</td>\n",
       "      <td>2014</td>\n",
       "      <td>121</td>\n",
       "      <td>8.1</td>\n",
       "      <td>757074</td>\n",
       "      <td>333.13</td>\n",
       "      <td>76.0</td>\n",
       "    </tr>\n",
       "    <tr>\n",
       "      <th>Prometheus</th>\n",
       "      <td>2</td>\n",
       "      <td>Adventure,Mystery,Sci-Fi</td>\n",
       "      <td>Following clues to the origin of mankind, a te...</td>\n",
       "      <td>Ridley Scott</td>\n",
       "      <td>Noomi Rapace, Logan Marshall-Green, Michael Fa...</td>\n",
       "      <td>2012</td>\n",
       "      <td>124</td>\n",
       "      <td>7.0</td>\n",
       "      <td>485820</td>\n",
       "      <td>126.46</td>\n",
       "      <td>65.0</td>\n",
       "    </tr>\n",
       "  </tbody>\n",
       "</table>\n",
       "</div>"
      ],
      "text/plain": [
       "                         ID                     Genre  \\\n",
       "Title                                                   \n",
       "Guardians of the Galaxy   1   Action,Adventure,Sci-Fi   \n",
       "Prometheus                2  Adventure,Mystery,Sci-Fi   \n",
       "\n",
       "                                                               Description  \\\n",
       "Title                                                                        \n",
       "Guardians of the Galaxy  A group of intergalactic criminals are forced ...   \n",
       "Prometheus               Following clues to the origin of mankind, a te...   \n",
       "\n",
       "                             Director  \\\n",
       "Title                                   \n",
       "Guardians of the Galaxy    James Gunn   \n",
       "Prometheus               Ridley Scott   \n",
       "\n",
       "                                                                    Actors  \\\n",
       "Title                                                                        \n",
       "Guardians of the Galaxy  Chris Pratt, Vin Diesel, Bradley Cooper, Zoe S...   \n",
       "Prometheus               Noomi Rapace, Logan Marshall-Green, Michael Fa...   \n",
       "\n",
       "                         Year  Runtime  Rating   Votes  Revenue  Metascore  \n",
       "Title                                                                       \n",
       "Guardians of the Galaxy  2014      121     8.1  757074   333.13       76.0  \n",
       "Prometheus               2012      124     7.0  485820   126.46       65.0  "
      ]
     },
     "execution_count": 3,
     "metadata": {},
     "output_type": "execute_result"
    }
   ],
   "source": [
    "# display first 2 rows of the DataFrame\n",
    "movies.head(2)"
   ]
  },
  {
   "cell_type": "markdown",
   "metadata": {
    "toc-hr-collapsed": true
   },
   "source": [
    "## Data Wrangling: Queries involving Genre\n",
    "Each cell in the Genre column is a single string.  This string consists of several genres separated by commas.  The Actors column is the same.\n",
    "\n",
    "With data in this format, it is not obvious how to answer queries such as \"what genre has the highest average rating?\". Or \"what actor has the highest average rating?\".\n",
    "\n",
    "There are (at least) 3 ways to wrangle this column's data:\n",
    "1. Create an indicator column for the presence/absence of each genre for each movie.\n",
    "2. Create a mapping of genre to titles and a create a custom \"groupby\" to yield groups of movies for each genre.  The normal Pandas groupby won't work appropriately for genre or actors.\n",
    "3. \"Denormalize\" the data.\n",
    "\n",
    "In all cases, it is helpful to begin by creating a list of unique Genres (or unique Actors) before doing the data analysis.\n",
    "\n",
    "Briefly, the pros and cons of the above are:\n",
    "1. This may be best if a machine learning algorithm is to be used on the data.  It also makes data analysis easy and it is easy to set up.\n",
    "2. This solution only takes a couple of lines of code, however it may be difficult for a junior data analyst to understand and maintain. If offers good speed and good memory usage.\n",
    "3. This is the easiest form for a data analyst to work with, and is relatively easy to set up.  However it may require significant additional memory.\n",
    "\n",
    "Examples of each of the above are shown below."
   ]
  },
  {
   "cell_type": "markdown",
   "metadata": {},
   "source": [
    "### Quick Look at the Data"
   ]
  },
  {
   "cell_type": "code",
   "execution_count": null,
   "metadata": {},
   "outputs": [],
   "source": [
    "# Look at Genre as is\n",
    "movies['Genre'].head(5)"
   ]
  },
  {
   "cell_type": "code",
   "execution_count": null,
   "metadata": {},
   "outputs": [],
   "source": [
    "# typical way of finding unique values\n",
    "# works when cell contains one value\n",
    "movies['Director'].value_counts().head()"
   ]
  },
  {
   "cell_type": "code",
   "execution_count": null,
   "metadata": {},
   "outputs": [],
   "source": [
    "# this doesnt work as needed for Genre or Actor\n",
    "movies['Genre'].value_counts().head()"
   ]
  },
  {
   "cell_type": "markdown",
   "metadata": {},
   "source": [
    "The above is count per genre string, not per genre."
   ]
  },
  {
   "cell_type": "markdown",
   "metadata": {
    "toc-hr-collapsed": true
   },
   "source": [
    "### Write Parser for Genre (or Actors) String"
   ]
  },
  {
   "cell_type": "code",
   "execution_count": null,
   "metadata": {},
   "outputs": [],
   "source": [
    "def parse_string(s):\n",
    "    \"\"\"Convert string with comma separated values to list of strings.\n",
    "    For each string, remove leading and trailing whitespace.\n",
    "    \"\"\"\n",
    "    values = s.split(',')\n",
    "    return [value.strip() for value in values]"
   ]
  },
  {
   "cell_type": "markdown",
   "metadata": {},
   "source": [
    "#### Use Parser\n",
    "1. use Pandas Vectorized operator 'apply' to avoid explict iteration over all titles\n",
    "2. note: index of result Series is Title\n",
    "3. note: value of result Series is list of genres\n",
    "\n",
    "The same mapping could have been created using a defaultdict(list) and explicitly iterating over each movie, but Pandas makes this easier and possibly faster."
   ]
  },
  {
   "cell_type": "code",
   "execution_count": null,
   "metadata": {},
   "outputs": [],
   "source": [
    "# create a Series with values being the parsed genre string\n",
    "title_genre_series = movies['Genre'].apply(parse_string)\n",
    "title_genre_series.head()"
   ]
  },
  {
   "cell_type": "markdown",
   "metadata": {},
   "source": [
    "For each title, add the list of genres to the genre set."
   ]
  },
  {
   "cell_type": "code",
   "execution_count": null,
   "metadata": {},
   "outputs": [],
   "source": [
    "# find the unique genres\n",
    "genres = set()\n",
    "title_genre_series.apply(lambda x: genres.update(x))\n",
    "genres"
   ]
  },
  {
   "cell_type": "markdown",
   "metadata": {
    "toc-hr-collapsed": true
   },
   "source": [
    "## Create Indicator Variables -- Method 1\n",
    "It is helpful to prefix the name of each new column so they can be analyzed together.\n",
    "\n",
    "Each indicator column will have True for presence of genre and False for absence of genre."
   ]
  },
  {
   "cell_type": "code",
   "execution_count": null,
   "metadata": {},
   "outputs": [],
   "source": [
    "for genre in genres:\n",
    "    movies['Genre_'+genre] = movies['Genre'].apply(lambda x: genre in x)"
   ]
  },
  {
   "cell_type": "code",
   "execution_count": null,
   "metadata": {},
   "outputs": [],
   "source": [
    "# select all columns that begin with Genre_\n",
    "genre_indicators = movies.filter(regex='^Genre_', axis='columns')\n",
    "genre_indicators.head(2)"
   ]
  },
  {
   "cell_type": "code",
   "execution_count": null,
   "metadata": {},
   "outputs": [],
   "source": [
    "# Pandas uses bool for datatype for each column, so memory usage is efficient\n",
    "genre_indicators.dtypes.value_counts()"
   ]
  },
  {
   "cell_type": "markdown",
   "metadata": {
    "toc-hr-collapsed": false
   },
   "source": [
    "### Compute Movies per Genre -- Indicator Variables"
   ]
  },
  {
   "cell_type": "code",
   "execution_count": null,
   "metadata": {},
   "outputs": [],
   "source": [
    "# one line of code to compute how many movies of each genre\n",
    "movies_per_genre = genre_indicators.sum(axis='rows').to_dict()\n",
    "movies_per_genre"
   ]
  },
  {
   "cell_type": "markdown",
   "metadata": {},
   "source": [
    "### Find Highest Rated Movies: Action & Sci-Fi -- Indicator Variables"
   ]
  },
  {
   "cell_type": "code",
   "execution_count": null,
   "metadata": {},
   "outputs": [],
   "source": [
    "criteria = movies['Genre_Action'] & movies['Genre_Sci-Fi']\n",
    "movies_action_sci_fi = movies[criteria]\n",
    "movies_action_sci_fi.nlargest(3, 'Rating')"
   ]
  },
  {
   "cell_type": "markdown",
   "metadata": {},
   "source": [
    "### Find Directors with the most Different Genre"
   ]
  },
  {
   "cell_type": "code",
   "execution_count": null,
   "metadata": {},
   "outputs": [],
   "source": [
    "for director, group_df in movies.groupby('Director'):\n",
    "    print(director)\n",
    "    indicator_cols = group_df.filter(regex='^Genre_', axis = 'columns')\n",
    "    num_genres = indicator_cols.sum(axis=0)\n",
    "    print(num_genres)"
   ]
  },
  {
   "cell_type": "code",
   "execution_count": null,
   "metadata": {},
   "outputs": [],
   "source": [
    "# genre column list\n",
    "genre_cols = movies.filter(regex='^Genre_', axis=1).columns\n",
    "genre_cols"
   ]
  },
  {
   "cell_type": "code",
   "execution_count": null,
   "metadata": {},
   "outputs": [],
   "source": [
    "g = movies.groupby('Director')\n",
    "g.get_group('Christopher Nolan')[genre_cols].any().sum()"
   ]
  },
  {
   "cell_type": "markdown",
   "metadata": {
    "toc-hr-collapsed": true
   },
   "source": [
    "## Create Mapping of Genre to Titles -- Method 2"
   ]
  },
  {
   "cell_type": "code",
   "execution_count": null,
   "metadata": {},
   "outputs": [],
   "source": [
    "# assuming indicator columns do not exist\n",
    "genre_to_titles = {}\n",
    "for genre in genres:\n",
    "    genre_boolean_series = movies['Genre'].apply(lambda x: genre in x)\n",
    "    titles = movies[genre_boolean_series].index.tolist()\n",
    "    genre_to_titles[genre] = titles"
   ]
  },
  {
   "cell_type": "markdown",
   "metadata": {},
   "source": [
    "### Compute Movies per Genre -- Genre-to-Titles Mapping"
   ]
  },
  {
   "cell_type": "code",
   "execution_count": null,
   "metadata": {},
   "outputs": [],
   "source": [
    "# one line dictionary comprehension\n",
    "movies_per_genre2 = {'Genre_'+genre:len(titles) for genre,titles in genre_to_titles.items()}\n",
    "movies_per_genre2"
   ]
  },
  {
   "cell_type": "code",
   "execution_count": null,
   "metadata": {},
   "outputs": [],
   "source": [
    "# verify results are the same\n",
    "movies_per_genre == movies_per_genre2"
   ]
  },
  {
   "cell_type": "markdown",
   "metadata": {},
   "source": [
    "### Find Highest Rated Movies: Action & Sci-Fi -- Genre-to-Titles Mapping"
   ]
  },
  {
   "cell_type": "code",
   "execution_count": null,
   "metadata": {},
   "outputs": [],
   "source": [
    "action_titles = set(genre_to_titles['Action'])\n",
    "sci_fi_titles = set(genre_to_titles['Sci-Fi'])\n",
    "titles = action_titles.intersection(sci_fi_titles)\n",
    "movies_action_sci_fi2 = movies.loc[titles]\n",
    "movies_action_sci_fi2.nlargest(3, 'Rating')"
   ]
  },
  {
   "cell_type": "code",
   "execution_count": null,
   "metadata": {},
   "outputs": [],
   "source": [
    "# verify they are the same\n",
    "# need to sort them before comparison\n",
    "df_1 = movies_action_sci_fi.sort_index()\n",
    "df_2 = movies_action_sci_fi2.sort_index()\n",
    "df_1.equals(df_2)"
   ]
  },
  {
   "cell_type": "markdown",
   "metadata": {},
   "source": [
    "### Define Custom (Overlapping) Groups\n",
    "The genre to titles mapping is a one-to-many mapping.\n",
    "\n",
    "Generators are memory efficient.  The dataframe per value is created only as necessary and if there is no reference to it, Python's garbage collector can reclaim the memory."
   ]
  },
  {
   "cell_type": "code",
   "execution_count": null,
   "metadata": {},
   "outputs": [],
   "source": [
    "def custom_groupby(df, mapping, values):\n",
    "    for value in values:\n",
    "        yield (value, df.loc[mapping[value]])"
   ]
  },
  {
   "cell_type": "code",
   "execution_count": null,
   "metadata": {},
   "outputs": [],
   "source": [
    "groups = custom_groupby(movies, genre_to_titles, genres)\n",
    "for name, group_df in groups:\n",
    "    print(f\"{name:<9} Rating: {group_df['Rating'].mean():4.2f} Count: {len(group_df):>3}\")"
   ]
  },
  {
   "cell_type": "code",
   "execution_count": null,
   "metadata": {},
   "outputs": [],
   "source": [
    "# same as above, but store result in df\n",
    "rows = []\n",
    "groups = custom_groupby(movies, genre_to_titles, genres)\n",
    "for name, group_df in groups:\n",
    "    row = (name, group_df['Rating'].mean(), len(group_df))\n",
    "    rows.append(row)\n",
    "df = pd.DataFrame(data=rows, columns=['Genre', 'Rating', 'Count'])\n",
    "df.set_index('Genre', inplace=True)\n",
    "df"
   ]
  },
  {
   "cell_type": "code",
   "execution_count": null,
   "metadata": {},
   "outputs": [],
   "source": [
    "# display the 5 highest avg ratings by genre in Ratings order\n",
    "df.nlargest(n=5, columns='Rating')"
   ]
  },
  {
   "cell_type": "code",
   "execution_count": null,
   "metadata": {},
   "outputs": [],
   "source": [
    "# display the 5 highest avg ratings by genre having at least 20 movies\n",
    "df_20 = df[df['Count'] >= 20]\n",
    "df_20.nlargest(5, 'Rating')"
   ]
  },
  {
   "cell_type": "markdown",
   "metadata": {
    "toc-hr-collapsed": true
   },
   "source": [
    "## Denormalize -- Method 3"
   ]
  },
  {
   "cell_type": "code",
   "execution_count": null,
   "metadata": {},
   "outputs": [],
   "source": [
    "# create the one-to-many \"relation\" between genre and titles\n",
    "rows = []\n",
    "for key in genre_to_titles:\n",
    "    for value in genre_to_titles[key]:\n",
    "        rows.append((key, value))\n",
    "df_genre_title = pd.DataFrame(data=rows, columns=['Genre', 'Title'])\n",
    "df_genre_title.set_index('Title', inplace=True)\n",
    "df_genre_title.head()"
   ]
  },
  {
   "cell_type": "code",
   "execution_count": null,
   "metadata": {},
   "outputs": [],
   "source": [
    "# join movies with the one-to-many table\n",
    "df_full = df_genre_title.join(movies, rsuffix='_right')\n",
    "df_full.drop('Genre_right', axis=1, inplace=True)\n",
    "df_full.head(2)"
   ]
  },
  {
   "cell_type": "code",
   "execution_count": null,
   "metadata": {},
   "outputs": [],
   "source": [
    "# create a multi-index on Genre, Title\n",
    "# df_full.reset_index(inplace=True)\n",
    "# df_full.set_index(['Genre', 'Title'], inplace=True)\n",
    "# df_full.sort_index(inplace=True)"
   ]
  },
  {
   "cell_type": "code",
   "execution_count": null,
   "metadata": {},
   "outputs": [],
   "source": [
    "df_full.sort_values('Genre', inplace=True)"
   ]
  },
  {
   "cell_type": "code",
   "execution_count": null,
   "metadata": {},
   "outputs": [],
   "source": [
    "# this \"denormalization\" is using 2.5 times as much space\n",
    "len(df_full), len(movies)"
   ]
  },
  {
   "cell_type": "markdown",
   "metadata": {},
   "source": [
    "### Compute Movies per Genres -- Denormalized\n",
    "df.groupby will now work for each genre"
   ]
  },
  {
   "cell_type": "code",
   "execution_count": null,
   "metadata": {},
   "outputs": [],
   "source": [
    "for name, group_df in df_full.groupby('Genre'):\n",
    "    print(f'{name:<10} {len(group_df):>3}')"
   ]
  },
  {
   "cell_type": "markdown",
   "metadata": {},
   "source": [
    "### Find Highest Rated Movies: Action & Sci-Fi -- Denormalize"
   ]
  },
  {
   "cell_type": "code",
   "execution_count": null,
   "metadata": {},
   "outputs": [],
   "source": [
    "g = df_full.groupby('Genre')\n",
    "action = g.get_group('Action')\n",
    "sci_fi = g.get_group('Sci-Fi')\n",
    "common = action.index.intersection(sci_fi.index)"
   ]
  },
  {
   "cell_type": "code",
   "execution_count": null,
   "metadata": {},
   "outputs": [],
   "source": [
    "movies.loc[common].nlargest(3, 'Rating')"
   ]
  },
  {
   "cell_type": "code",
   "execution_count": null,
   "metadata": {},
   "outputs": [],
   "source": []
  },
  {
   "cell_type": "code",
   "execution_count": null,
   "metadata": {},
   "outputs": [],
   "source": []
  },
  {
   "cell_type": "code",
   "execution_count": null,
   "metadata": {},
   "outputs": [],
   "source": []
  },
  {
   "cell_type": "code",
   "execution_count": null,
   "metadata": {},
   "outputs": [],
   "source": [
    "# now groupby will work for each Genre\n",
    "g = df_full.groupby('Genre')\n",
    "g['Rating'].mean()"
   ]
  },
  {
   "cell_type": "code",
   "execution_count": null,
   "metadata": {},
   "outputs": [],
   "source": []
  },
  {
   "cell_type": "code",
   "execution_count": null,
   "metadata": {},
   "outputs": [],
   "source": []
  },
  {
   "cell_type": "code",
   "execution_count": null,
   "metadata": {},
   "outputs": [],
   "source": [
    "# compute count per genre using the genre_to_titles dictionary\n",
    "genres_to_count = {genre:len(titles) for genre,titles in genre_to_titles.items()}\n",
    "genres_to_count"
   ]
  },
  {
   "cell_type": "code",
   "execution_count": null,
   "metadata": {},
   "outputs": [],
   "source": [
    "g = movies.groupby(by=genre_to_titles)\n",
    "for name, group in g:\n",
    "    print(name)\n",
    "    print(group['Genre'])"
   ]
  },
  {
   "cell_type": "code",
   "execution_count": null,
   "metadata": {},
   "outputs": [],
   "source": []
  },
  {
   "cell_type": "code",
   "execution_count": null,
   "metadata": {},
   "outputs": [],
   "source": []
  },
  {
   "cell_type": "code",
   "execution_count": null,
   "metadata": {},
   "outputs": [],
   "source": []
  },
  {
   "cell_type": "code",
   "execution_count": null,
   "metadata": {},
   "outputs": [],
   "source": []
  },
  {
   "cell_type": "code",
   "execution_count": null,
   "metadata": {},
   "outputs": [],
   "source": [
    "# find highest rated action movie on the fly\n",
    "action_titles = movies['Genre'].apply(lambda x: 'Action' in x)\n",
    "action_movies = movies.loc[action_titles]\n",
    "action_movies[action_movies['Rating'] == action_movies['Rating'].max()]"
   ]
  },
  {
   "cell_type": "code",
   "execution_count": null,
   "metadata": {},
   "outputs": [],
   "source": [
    "# find highest rated action movie using Indicator Variable: Genre_Action\n",
    "action_movies = movies[movies['Genre_Action']]\n",
    "action_movies[action_movies['Rating'] == action_movies['Rating'].max()]"
   ]
  },
  {
   "cell_type": "code",
   "execution_count": null,
   "metadata": {},
   "outputs": [],
   "source": [
    "# find the highest rated action movie using dictionary\n",
    "action_titles = genre_to_titles['Action']\n",
    "action_movies = movies.loc[action_titles]\n",
    "action_movies[action_movies['Rating'] == action_movies['Rating'].max()]"
   ]
  },
  {
   "cell_type": "code",
   "execution_count": null,
   "metadata": {},
   "outputs": [],
   "source": [
    "%%timeit\n",
    "# find highest rated action movie on the fly\n",
    "action_titles = movies['Genre'].apply(lambda x: 'Action' in x)\n",
    "action_movies = movies[action_titles]\n",
    "action_movies[action_movies['Rating'] == action_movies['Rating'].max()]"
   ]
  },
  {
   "cell_type": "code",
   "execution_count": null,
   "metadata": {},
   "outputs": [],
   "source": [
    "%%timeit\n",
    "# find highest rated action movie using precomputed Indicator Variable: Genre_Action\n",
    "action_movies = movies[movies['Genre_Action']]\n",
    "action_movies[action_movies['Rating'] == action_movies['Rating'].max()]"
   ]
  },
  {
   "cell_type": "code",
   "execution_count": null,
   "metadata": {},
   "outputs": [],
   "source": [
    "%%timeit\n",
    "# find the highest rated action movie using precomputed dictionary\n",
    "action_titles = genre_to_titles['Action']\n",
    "action_movies = movies.loc[action_titles]\n",
    "action_movies[action_movies['Rating'] == action_movies['Rating'].max()]"
   ]
  },
  {
   "cell_type": "code",
   "execution_count": null,
   "metadata": {},
   "outputs": [],
   "source": [
    "# find Sci-Fi movies\n",
    "sci_fi_movies = movies[movies['Genre_Sci-Fi']]\n",
    "sci_fi_movies.head(2)"
   ]
  },
  {
   "cell_type": "code",
   "execution_count": null,
   "metadata": {},
   "outputs": [],
   "source": [
    "# find movies that are both action and sci-fi\n",
    "action_sci_fi_movies = movies[movies['Genre_Action'] & movies['Genre_Sci-Fi']]\n",
    "action_sci_fi_movies.head(3)"
   ]
  },
  {
   "cell_type": "code",
   "execution_count": null,
   "metadata": {},
   "outputs": [],
   "source": [
    "# find highest rated movie that is both Action and Sci-Fi\n",
    "movie_subset = movies[movies['Genre_Action'] & movies['Genre_Sci-Fi']]\n",
    "movie_subset[movie_subset['Rating'] == movie_subset['Rating'].max()]"
   ]
  },
  {
   "cell_type": "code",
   "execution_count": null,
   "metadata": {},
   "outputs": [],
   "source": [
    "# find the avg rating of all action movies\n",
    "action_movies = movies[movies['Genre_Action']]\n",
    "action_movies['Rating'].mean()"
   ]
  },
  {
   "cell_type": "code",
   "execution_count": null,
   "metadata": {},
   "outputs": [],
   "source": [
    "# usually groupby is not used on a boolean series, but it works\n",
    "# the group of interest is the True group\n",
    "groupby = movies.groupby('Genre_Action')\n",
    "\n",
    "for name, group in groupby:\n",
    "    print(name, np.round(group['Rating'].mean(),4), group['Rating'].count())"
   ]
  },
  {
   "cell_type": "markdown",
   "metadata": {},
   "source": [
    "### Group By\n",
    "Find the highest rated directors who directed at least 5 movies"
   ]
  },
  {
   "cell_type": "code",
   "execution_count": null,
   "metadata": {},
   "outputs": [],
   "source": [
    "def group_filter(g):\n",
    "    if g['Rating'].count() >= 5:\n",
    "        return g['Rating'].mean()"
   ]
  },
  {
   "cell_type": "code",
   "execution_count": null,
   "metadata": {},
   "outputs": [],
   "source": [
    "s = movies.groupby('Director').apply(group_filter)\n",
    "s[s.notnull()].nlargest(5)"
   ]
  },
  {
   "cell_type": "markdown",
   "metadata": {
    "toc-hr-collapsed": true
   },
   "source": [
    "## Data Wrangling: Queries involving Actor\n",
    "As there are so many different actors, it's probably better to rely on dictionaries instead of creating a great many indicator columns."
   ]
  },
  {
   "cell_type": "code",
   "execution_count": null,
   "metadata": {},
   "outputs": [],
   "source": [
    "def parse_genre_string(s):\n",
    "    \"\"\"Convert string with comma separated values to list of strings.\n",
    "    For each string, remove leading and trailing whitespace.\n",
    "    \"\"\"\n",
    "    genres = s.split(',')\n",
    "    return [genre.strip() for genre in genres]"
   ]
  },
  {
   "cell_type": "code",
   "execution_count": null,
   "metadata": {},
   "outputs": [],
   "source": [
    "# parsing of Genre is identical to parsing of Actors\n",
    "movies['Actors'].apply(parse_genre_string).head(5)"
   ]
  },
  {
   "cell_type": "code",
   "execution_count": null,
   "metadata": {},
   "outputs": [],
   "source": [
    "# find the set of unique actors\n",
    "actors = set()\n",
    "title_actors_series = movies['Actors'].apply(parse_genre_string)\n",
    "title_actors_series.apply(lambda x: actors.update(x))\n",
    "len(actors)"
   ]
  },
  {
   "cell_type": "markdown",
   "metadata": {},
   "source": [
    "#### Using an Inverted Dictionary to Compute Movies per Actor"
   ]
  },
  {
   "cell_type": "code",
   "execution_count": null,
   "metadata": {},
   "outputs": [],
   "source": [
    "# create a mapping from genre to titles\n",
    "from collections import defaultdict\n",
    "actor_to_titles = defaultdict(list)\n",
    "for actor in actors:\n",
    "    titles = movies['Actors'].apply(lambda x: actor in x)\n",
    "    titles = movies[titles].index.tolist()\n",
    "    for title in titles:\n",
    "        actor_to_titles[actor].append(title)"
   ]
  },
  {
   "cell_type": "code",
   "execution_count": null,
   "metadata": {},
   "outputs": [],
   "source": [
    "# compute count per genre using the genre_to_titles dictionary\n",
    "actors_to_count = {actor:len(titles) for actor,titles in actor_to_titles.items()}\n",
    "len(actors_to_count)"
   ]
  },
  {
   "cell_type": "code",
   "execution_count": null,
   "metadata": {},
   "outputs": [],
   "source": [
    "# try inverted dictionary\n",
    "movies.loc[actor_to_titles['Zooey Deschanel']]"
   ]
  },
  {
   "cell_type": "code",
   "execution_count": null,
   "metadata": {},
   "outputs": [],
   "source": [
    "# find the average rating of actors in at least 5 movies\n",
    "actor_rating = {}\n",
    "for actor in actors:\n",
    "    movies_with_actor = movies.loc[actor_to_titles[actor]]\n",
    "    if movies_with_actor['Rating'].count() >= 5:\n",
    "        actor_rating[actor] = movies_with_actor['Rating'].mean()"
   ]
  },
  {
   "cell_type": "code",
   "execution_count": null,
   "metadata": {},
   "outputs": [],
   "source": [
    "# read in IMDB move dataset\n",
    "movies = pd.read_csv('../data/IMDB-Movie-Data.csv', index_col='Title')\n",
    "movies.head(2)"
   ]
  },
  {
   "cell_type": "markdown",
   "metadata": {
    "toc-hr-collapsed": true
   },
   "source": [
    "# HERE HERE\n",
    "A dictionary is more memory efficient than denormalizing the table, but denormalizing is much easier to work with!"
   ]
  },
  {
   "cell_type": "code",
   "execution_count": null,
   "metadata": {},
   "outputs": [],
   "source": [
    "def custom_groupby(df, mapping, values):\n",
    "    for value in values:\n",
    "        yield (value, df.loc[mapping[value]])"
   ]
  },
  {
   "cell_type": "code",
   "execution_count": null,
   "metadata": {},
   "outputs": [],
   "source": [
    "movies = movies_copy.copy()\n",
    "movies = movies.reset_index(drop=False).set_index('Title', drop=True)"
   ]
  },
  {
   "cell_type": "code",
   "execution_count": null,
   "metadata": {},
   "outputs": [],
   "source": [
    "movies.head(1)"
   ]
  },
  {
   "cell_type": "code",
   "execution_count": null,
   "metadata": {},
   "outputs": [],
   "source": [
    "np.std([1, 2, 3])"
   ]
  },
  {
   "cell_type": "code",
   "execution_count": null,
   "metadata": {},
   "outputs": [],
   "source": [
    "df = pd.DataFrame([1, 2, 3], columns=['A'])\n",
    "df.apply(np.std)"
   ]
  },
  {
   "cell_type": "code",
   "execution_count": null,
   "metadata": {},
   "outputs": [],
   "source": [
    "df.columns"
   ]
  },
  {
   "cell_type": "code",
   "execution_count": null,
   "metadata": {},
   "outputs": [],
   "source": [
    "my_group = custom_groupby(movies, actor_to_titles, ['Zooey Deschanel', 'John Goodman'])"
   ]
  },
  {
   "cell_type": "code",
   "execution_count": null,
   "metadata": {},
   "outputs": [],
   "source": [
    "from IPython.display import display\n",
    "for name, group in my_group:\n",
    "    print(name, len(group), group['Rating'].mean(), group['Metascore'].std())\n",
    "    print()\n",
    "    display(group)"
   ]
  },
  {
   "cell_type": "code",
   "execution_count": null,
   "metadata": {},
   "outputs": [],
   "source": [
    "def gen1(n):\n",
    "    a = 0\n",
    "    b = 1\n",
    "    for i in range(n):\n",
    "        a, b = a+b, a\n",
    "        yield(a)"
   ]
  },
  {
   "cell_type": "code",
   "execution_count": null,
   "metadata": {},
   "outputs": [],
   "source": [
    "g = gen1(7)"
   ]
  },
  {
   "cell_type": "code",
   "execution_count": null,
   "metadata": {},
   "outputs": [],
   "source": [
    "tuples = []\n",
    "for actor in actors:\n",
    "    for title in actor_to_titles[actor]:\n",
    "        tuples.append((actor, title))\n",
    "        \n",
    "df_actor = pd.DataFrame(data=tuples, columns=['Actor','Title'])\n",
    "df_actor.set_index('Actor', drop=True, inplace=True)"
   ]
  },
  {
   "cell_type": "code",
   "execution_count": null,
   "metadata": {},
   "outputs": [],
   "source": [
    "df_actor.head()"
   ]
  },
  {
   "cell_type": "code",
   "execution_count": null,
   "metadata": {},
   "outputs": [],
   "source": [
    "df = df_actor.join(movies, on='Title', how='left')\n",
    "df.head()"
   ]
  },
  {
   "cell_type": "code",
   "execution_count": null,
   "metadata": {},
   "outputs": [],
   "source": [
    "len(df_actor)"
   ]
  },
  {
   "cell_type": "code",
   "execution_count": null,
   "metadata": {},
   "outputs": [],
   "source": [
    "len(movies.index)"
   ]
  },
  {
   "cell_type": "code",
   "execution_count": null,
   "metadata": {},
   "outputs": [],
   "source": [
    "len(set(movies.index))"
   ]
  },
  {
   "cell_type": "code",
   "execution_count": null,
   "metadata": {},
   "outputs": [],
   "source": [
    "m2 = movies.reset_index()\n",
    "b = m2.duplicated(subset='Title', keep='first')\n",
    "m2[b]"
   ]
  },
  {
   "cell_type": "code",
   "execution_count": null,
   "metadata": {},
   "outputs": [],
   "source": [
    "b = m2.duplicated(subset='Title', keep='last')\n",
    "m2[b]"
   ]
  },
  {
   "cell_type": "code",
   "execution_count": null,
   "metadata": {},
   "outputs": [],
   "source": [
    "df2 = df.set_index(index)"
   ]
  },
  {
   "cell_type": "code",
   "execution_count": null,
   "metadata": {},
   "outputs": [],
   "source": [
    "actor_to_titles"
   ]
  },
  {
   "cell_type": "code",
   "execution_count": null,
   "metadata": {},
   "outputs": [],
   "source": [
    "df_actor.head()"
   ]
  },
  {
   "cell_type": "code",
   "execution_count": null,
   "metadata": {},
   "outputs": [],
   "source": []
  },
  {
   "cell_type": "code",
   "execution_count": null,
   "metadata": {},
   "outputs": [],
   "source": []
  },
  {
   "cell_type": "code",
   "execution_count": null,
   "metadata": {},
   "outputs": [],
   "source": []
  },
  {
   "cell_type": "code",
   "execution_count": null,
   "metadata": {},
   "outputs": [],
   "source": []
  },
  {
   "cell_type": "code",
   "execution_count": null,
   "metadata": {},
   "outputs": [],
   "source": []
  },
  {
   "cell_type": "code",
   "execution_count": null,
   "metadata": {},
   "outputs": [],
   "source": [
    "tuples = []\n",
    "for actor in actors:\n",
    "    for title in actor_to_titles[actor]:\n",
    "        tuples.append((actor, title))\n",
    "        \n",
    "index = pd.MultiIndex.from_tuples(tuples, names=['Actor', 'Title'])        "
   ]
  },
  {
   "cell_type": "code",
   "execution_count": null,
   "metadata": {},
   "outputs": [],
   "source": [
    "movies.set_index(index)"
   ]
  },
  {
   "cell_type": "code",
   "execution_count": null,
   "metadata": {},
   "outputs": [],
   "source": [
    "# its easier to work with dataframes than dictionaries\n",
    "df = pd.DataFrame(data=[], columns=['Rating', 'Count'])\n",
    "dfs = []\n",
    "for actor in actors:\n",
    "    df = movies.loc[actor_to_titles[actor]]\n",
    "    df['Actor'] = actor\n",
    "    df.set_index('Actor', drop=False, inplace=True)\n",
    "    dfs.append(df)\n",
    "df_new = pd.concat(dfs)\n",
    "df_new.head()"
   ]
  },
  {
   "cell_type": "code",
   "execution_count": null,
   "metadata": {},
   "outputs": [],
   "source": [
    "df_actor_rating = pd.DataFrame.from_dict(actor_rating, orient='index')\n",
    "df_actor_rating.rename_axis('Actor')\n",
    "df_actor_rating.columns = ['Rating']\n",
    "df_actor_rating.nlargest(n=5, columns='Rating')"
   ]
  },
  {
   "cell_type": "code",
   "execution_count": null,
   "metadata": {},
   "outputs": [],
   "source": [
    "df_actor_rating.columns"
   ]
  },
  {
   "cell_type": "code",
   "execution_count": null,
   "metadata": {},
   "outputs": [],
   "source": [
    "df_actor_rating.index"
   ]
  },
  {
   "cell_type": "code",
   "execution_count": null,
   "metadata": {},
   "outputs": [],
   "source": [
    "# sort by value\n",
    "actor_rating_sorted = sorted(actor_rating.items(), key=lambda x: x[1], reverse=True)\n",
    "for actor, rating in actor_rating_sorted:\n",
    "    print(f'{actor}: {rating:4.2f}')"
   ]
  },
  {
   "cell_type": "code",
   "execution_count": null,
   "metadata": {},
   "outputs": [],
   "source": [
    "# get the average rating and number of movies for each actor in at least 5 movies\n",
    "actor_rating = {}\n",
    "for actor in actors_to_title:\n",
    "    titles = actors_to_title[actor]\n",
    "    movies_with_actor = movie.loc[titles]\n",
    "    count = movies_with_actor['Rating'].count()\n",
    "    if count >= 5:\n",
    "        actor_rating[actor] = movies_with_actor['Rating'].mean()"
   ]
  },
  {
   "cell_type": "code",
   "execution_count": null,
   "metadata": {},
   "outputs": [],
   "source": [
    "actor_rating_sorted = sorted(actor_rating.items(), key=lambda kv: kv[1], reverse=True)\n",
    "actor_rating_sorted[:10]"
   ]
  },
  {
   "cell_type": "code",
   "execution_count": null,
   "metadata": {},
   "outputs": [],
   "source": [
    "movie.loc[actor_to_titles['Leonardo DiCaprio']]"
   ]
  },
  {
   "cell_type": "code",
   "execution_count": null,
   "metadata": {},
   "outputs": [],
   "source": [
    "# with dictionaries, its slighter harder to query for two actors, than with indicator columns\n",
    "# find all movies with Leonardo DiCaprio and Matt Damon\n",
    "titles1 = actors_to_title['Leonardo DiCaprio']\n",
    "titles2 = actors_to_title['Matt Damon']\n",
    "titles = set(titles1).intersection(set(titles2))\n",
    "titles\n",
    "movie.loc[titles]"
   ]
  }
 ],
 "metadata": {
  "kernelspec": {
   "display_name": "Python 3",
   "language": "python",
   "name": "python3"
  },
  "language_info": {
   "codemirror_mode": {
    "name": "ipython",
    "version": 3
   },
   "file_extension": ".py",
   "mimetype": "text/x-python",
   "name": "python",
   "nbconvert_exporter": "python",
   "pygments_lexer": "ipython3",
   "version": "3.7.2"
  }
 },
 "nbformat": 4,
 "nbformat_minor": 2
}
