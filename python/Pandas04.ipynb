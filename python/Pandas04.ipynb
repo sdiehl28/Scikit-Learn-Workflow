{
 "cells": [
  {
   "cell_type": "markdown",
   "metadata": {
    "toc-hr-collapsed": false
   },
   "source": [
    "# Pandas Tidy Data"
   ]
  },
  {
   "cell_type": "markdown",
   "metadata": {
    "toc-hr-collapsed": true
   },
   "source": [
    "## Overview\n",
    "\n",
    "This notebook uses the IMDB dataset from Kaggle:  \n",
    "https://www.kaggle.com/PromptCloudHQ/imdb-data#IMDB-Movie-Data.csv\n",
    "\n",
    "This notebook is about how to make queries using the Genre and Actors column, given that each cell in these column contains a list.\n",
    "\n",
    "There are at least 3 different ways to do this:\n",
    "1. create an indicator variable for each possible genre or actor (good for Machine Learning)\n",
    "2. create a dictionary that maps genres (or actors) to movies and use it in all queries\n",
    "3. reformat Movies to be tidy with respect to genres or actors\n",
    "\n",
    "This notebook only discusses the 3rd option above.\n",
    "\n",
    "This notebook does not discuss melt and pivot, or stack and unstack, which are often helpful methods to reformat data into \"long\" or \"wide\" format as needed."
   ]
  },
  {
   "cell_type": "code",
   "execution_count": 1,
   "metadata": {},
   "outputs": [],
   "source": [
    "import pandas as pd\n",
    "import numpy as np"
   ]
  },
  {
   "cell_type": "markdown",
   "metadata": {
    "toc-hr-collapsed": false
   },
   "source": [
    "## Read Movie Data Set\n",
    "This data was read in and preprocessed in Pandas02.  Load that notebook."
   ]
  },
  {
   "cell_type": "code",
   "execution_count": 2,
   "metadata": {},
   "outputs": [
    {
     "data": {
      "text/html": [
       "<div>\n",
       "<style scoped>\n",
       "    .dataframe tbody tr th:only-of-type {\n",
       "        vertical-align: middle;\n",
       "    }\n",
       "\n",
       "    .dataframe tbody tr th {\n",
       "        vertical-align: top;\n",
       "    }\n",
       "\n",
       "    .dataframe thead th {\n",
       "        text-align: right;\n",
       "    }\n",
       "</style>\n",
       "<table border=\"1\" class=\"dataframe\">\n",
       "  <thead>\n",
       "    <tr style=\"text-align: right;\">\n",
       "      <th></th>\n",
       "      <th>ID</th>\n",
       "      <th>Genre</th>\n",
       "      <th>Description</th>\n",
       "      <th>Director</th>\n",
       "      <th>Actors</th>\n",
       "      <th>Year</th>\n",
       "      <th>Runtime</th>\n",
       "      <th>Rating</th>\n",
       "      <th>Votes</th>\n",
       "      <th>Revenue</th>\n",
       "      <th>Metascore</th>\n",
       "    </tr>\n",
       "    <tr>\n",
       "      <th>Title</th>\n",
       "      <th></th>\n",
       "      <th></th>\n",
       "      <th></th>\n",
       "      <th></th>\n",
       "      <th></th>\n",
       "      <th></th>\n",
       "      <th></th>\n",
       "      <th></th>\n",
       "      <th></th>\n",
       "      <th></th>\n",
       "      <th></th>\n",
       "    </tr>\n",
       "  </thead>\n",
       "  <tbody>\n",
       "    <tr>\n",
       "      <th>Guardians of the Galaxy</th>\n",
       "      <td>1</td>\n",
       "      <td>Action,Adventure,Sci-Fi</td>\n",
       "      <td>A group of intergalactic criminals are forced ...</td>\n",
       "      <td>James Gunn</td>\n",
       "      <td>Chris Pratt, Vin Diesel, Bradley Cooper, Zoe S...</td>\n",
       "      <td>2014</td>\n",
       "      <td>121</td>\n",
       "      <td>8.1</td>\n",
       "      <td>757074</td>\n",
       "      <td>333.13</td>\n",
       "      <td>76.0</td>\n",
       "    </tr>\n",
       "    <tr>\n",
       "      <th>Prometheus</th>\n",
       "      <td>2</td>\n",
       "      <td>Adventure,Mystery,Sci-Fi</td>\n",
       "      <td>Following clues to the origin of mankind, a te...</td>\n",
       "      <td>Ridley Scott</td>\n",
       "      <td>Noomi Rapace, Logan Marshall-Green, Michael Fa...</td>\n",
       "      <td>2012</td>\n",
       "      <td>124</td>\n",
       "      <td>7.0</td>\n",
       "      <td>485820</td>\n",
       "      <td>126.46</td>\n",
       "      <td>65.0</td>\n",
       "    </tr>\n",
       "  </tbody>\n",
       "</table>\n",
       "</div>"
      ],
      "text/plain": [
       "                         ID                     Genre  \\\n",
       "Title                                                   \n",
       "Guardians of the Galaxy   1   Action,Adventure,Sci-Fi   \n",
       "Prometheus                2  Adventure,Mystery,Sci-Fi   \n",
       "\n",
       "                                                               Description  \\\n",
       "Title                                                                        \n",
       "Guardians of the Galaxy  A group of intergalactic criminals are forced ...   \n",
       "Prometheus               Following clues to the origin of mankind, a te...   \n",
       "\n",
       "                             Director  \\\n",
       "Title                                   \n",
       "Guardians of the Galaxy    James Gunn   \n",
       "Prometheus               Ridley Scott   \n",
       "\n",
       "                                                                    Actors  \\\n",
       "Title                                                                        \n",
       "Guardians of the Galaxy  Chris Pratt, Vin Diesel, Bradley Cooper, Zoe S...   \n",
       "Prometheus               Noomi Rapace, Logan Marshall-Green, Michael Fa...   \n",
       "\n",
       "                         Year  Runtime  Rating   Votes  Revenue  Metascore  \n",
       "Title                                                                       \n",
       "Guardians of the Galaxy  2014      121     8.1  757074   333.13       76.0  \n",
       "Prometheus               2012      124     7.0  485820   126.46       65.0  "
      ]
     },
     "execution_count": 2,
     "metadata": {},
     "output_type": "execute_result"
    }
   ],
   "source": [
    "movies = pd.read_hdf('../data/movies.h5')\n",
    "movies.head(2)"
   ]
  },
  {
   "cell_type": "markdown",
   "metadata": {},
   "source": [
    "### Examine Genre and Actors"
   ]
  },
  {
   "cell_type": "code",
   "execution_count": 3,
   "metadata": {},
   "outputs": [
    {
     "data": {
      "text/plain": [
       "Title\n",
       "Guardians of the Galaxy     Action,Adventure,Sci-Fi\n",
       "Prometheus                 Adventure,Mystery,Sci-Fi\n",
       "Split                               Horror,Thriller\n",
       "Sing                        Animation,Comedy,Family\n",
       "Suicide Squad              Action,Adventure,Fantasy\n",
       "Name: Genre, dtype: object"
      ]
     },
     "execution_count": 3,
     "metadata": {},
     "output_type": "execute_result"
    }
   ],
   "source": [
    "movies['Genre'].head(5)"
   ]
  },
  {
   "cell_type": "code",
   "execution_count": 4,
   "metadata": {},
   "outputs": [
    {
     "data": {
      "text/plain": [
       "Ridley Scott          8\n",
       "David Yates           6\n",
       "M. Night Shyamalan    6\n",
       "Paul W.S. Anderson    6\n",
       "Michael Bay           6\n",
       "Name: Director, dtype: int64"
      ]
     },
     "execution_count": 4,
     "metadata": {},
     "output_type": "execute_result"
    }
   ],
   "source": [
    "# typical way of finding unique values\n",
    "# works when cell contains one value\n",
    "movies['Director'].value_counts().head()"
   ]
  },
  {
   "cell_type": "code",
   "execution_count": 5,
   "metadata": {},
   "outputs": [
    {
     "data": {
      "text/plain": [
       "Action,Adventure,Sci-Fi    50\n",
       "Drama                      48\n",
       "Comedy,Drama,Romance       35\n",
       "Comedy                     32\n",
       "Drama,Romance              31\n",
       "Name: Genre, dtype: int64"
      ]
     },
     "execution_count": 5,
     "metadata": {},
     "output_type": "execute_result"
    }
   ],
   "source": [
    "# this doesnt work as needed for Genre\n",
    "movies['Genre'].value_counts().head()"
   ]
  },
  {
   "cell_type": "markdown",
   "metadata": {},
   "source": [
    "The above is count per genre string, not per genre."
   ]
  },
  {
   "cell_type": "code",
   "execution_count": 6,
   "metadata": {},
   "outputs": [
    {
     "data": {
      "text/plain": [
       "Daniel Radcliffe, Emma Watson, Rupert Grint, Michael Gambon            2\n",
       "Jennifer Lawrence, Josh Hutcherson, Liam Hemsworth, Woody Harrelson    2\n",
       "Shia LaBeouf, Megan Fox, Josh Duhamel, Tyrese Gibson                   2\n",
       "Gerard Butler, Aaron Eckhart, Morgan Freeman,Angela Bassett            2\n",
       "Tom Hardy, Kelly Adams, Luing Andrews,Katy Barker                      1\n",
       "Name: Actors, dtype: int64"
      ]
     },
     "execution_count": 6,
     "metadata": {},
     "output_type": "execute_result"
    }
   ],
   "source": [
    "# this doesnt work as needed for Actor\n",
    "movies['Actors'].value_counts().head()"
   ]
  },
  {
   "cell_type": "markdown",
   "metadata": {},
   "source": [
    "The above is count per actor string, not per actor."
   ]
  },
  {
   "cell_type": "markdown",
   "metadata": {
    "toc-hr-collapsed": true
   },
   "source": [
    "## Write Parser for Genre and Actors String"
   ]
  },
  {
   "cell_type": "code",
   "execution_count": 7,
   "metadata": {},
   "outputs": [],
   "source": [
    "def parse_string(s):\n",
    "    \"\"\"Convert string with comma separated values to list of strings.\n",
    "    For each string, remove leading and trailing whitespace.\n",
    "    \"\"\"\n",
    "    values = s.split(',')\n",
    "    return [value.strip() for value in values]"
   ]
  },
  {
   "cell_type": "markdown",
   "metadata": {},
   "source": [
    "### Use Parser\n",
    "1. use Pandas Vectorized operator 'apply' to avoid explict iteration over all titles\n",
    "2. index of result Series is Title\n",
    "3. value of result Series is list of genres"
   ]
  },
  {
   "cell_type": "code",
   "execution_count": 8,
   "metadata": {},
   "outputs": [
    {
     "data": {
      "text/plain": [
       "Title\n",
       "Guardians of the Galaxy     [Action, Adventure, Sci-Fi]\n",
       "Prometheus                 [Adventure, Mystery, Sci-Fi]\n",
       "Split                                [Horror, Thriller]\n",
       "Sing                        [Animation, Comedy, Family]\n",
       "Suicide Squad              [Action, Adventure, Fantasy]\n",
       "Name: Genre, dtype: object"
      ]
     },
     "execution_count": 8,
     "metadata": {},
     "output_type": "execute_result"
    }
   ],
   "source": [
    "# create a Series with values being the parsed genre string\n",
    "title_genre_series = movies['Genre'].apply(parse_string)\n",
    "title_genre_series.head()"
   ]
  },
  {
   "cell_type": "markdown",
   "metadata": {},
   "source": [
    "For each title, add the list of genres to the genre set."
   ]
  },
  {
   "cell_type": "code",
   "execution_count": 9,
   "metadata": {},
   "outputs": [
    {
     "data": {
      "text/plain": [
       "{'Action',\n",
       " 'Adventure',\n",
       " 'Animation',\n",
       " 'Biography',\n",
       " 'Comedy',\n",
       " 'Crime',\n",
       " 'Drama',\n",
       " 'Family',\n",
       " 'Fantasy',\n",
       " 'History',\n",
       " 'Horror',\n",
       " 'Music',\n",
       " 'Musical',\n",
       " 'Mystery',\n",
       " 'Romance',\n",
       " 'Sci-Fi',\n",
       " 'Sport',\n",
       " 'Thriller',\n",
       " 'War',\n",
       " 'Western'}"
      ]
     },
     "execution_count": 9,
     "metadata": {},
     "output_type": "execute_result"
    }
   ],
   "source": [
    "# find the unique genres\n",
    "genres = set()\n",
    "title_genre_series.apply(lambda x: genres.update(x))\n",
    "genres"
   ]
  },
  {
   "cell_type": "markdown",
   "metadata": {},
   "source": [
    "### Example: Query for Sci-Fi Movies"
   ]
  },
  {
   "cell_type": "code",
   "execution_count": 10,
   "metadata": {},
   "outputs": [
    {
     "data": {
      "text/plain": [
       "Title\n",
       "Guardians of the Galaxy     True\n",
       "Prometheus                  True\n",
       "Split                      False\n",
       "Sing                       False\n",
       "Suicide Squad              False\n",
       "Name: Genre, dtype: bool"
      ]
     },
     "execution_count": 10,
     "metadata": {},
     "output_type": "execute_result"
    }
   ],
   "source": [
    "movies['Genre'].str.contains('Sci-Fi').head()"
   ]
  },
  {
   "cell_type": "markdown",
   "metadata": {
    "toc-hr-collapsed": true
   },
   "source": [
    "## Create Long Form Representation of Genre\n",
    "\n",
    "This has one row per (Genre, Title)"
   ]
  },
  {
   "cell_type": "code",
   "execution_count": 11,
   "metadata": {},
   "outputs": [
    {
     "data": {
      "text/html": [
       "<div>\n",
       "<style scoped>\n",
       "    .dataframe tbody tr th:only-of-type {\n",
       "        vertical-align: middle;\n",
       "    }\n",
       "\n",
       "    .dataframe tbody tr th {\n",
       "        vertical-align: top;\n",
       "    }\n",
       "\n",
       "    .dataframe thead th {\n",
       "        text-align: right;\n",
       "    }\n",
       "</style>\n",
       "<table border=\"1\" class=\"dataframe\">\n",
       "  <thead>\n",
       "    <tr style=\"text-align: right;\">\n",
       "      <th></th>\n",
       "      <th>Rating</th>\n",
       "      <th>Runtime</th>\n",
       "      <th>Genre</th>\n",
       "    </tr>\n",
       "    <tr>\n",
       "      <th>Title</th>\n",
       "      <th></th>\n",
       "      <th></th>\n",
       "      <th></th>\n",
       "    </tr>\n",
       "  </thead>\n",
       "  <tbody>\n",
       "    <tr>\n",
       "      <th>Sing</th>\n",
       "      <td>7.2</td>\n",
       "      <td>108</td>\n",
       "      <td>Family</td>\n",
       "    </tr>\n",
       "    <tr>\n",
       "      <th>Fantastic Beasts and Where to Find Them</th>\n",
       "      <td>7.5</td>\n",
       "      <td>133</td>\n",
       "      <td>Family</td>\n",
       "    </tr>\n",
       "    <tr>\n",
       "      <th>Miss Peregrine's Home for Peculiar Children</th>\n",
       "      <td>6.7</td>\n",
       "      <td>127</td>\n",
       "      <td>Family</td>\n",
       "    </tr>\n",
       "    <tr>\n",
       "      <th>The Jungle Book</th>\n",
       "      <td>7.5</td>\n",
       "      <td>106</td>\n",
       "      <td>Family</td>\n",
       "    </tr>\n",
       "    <tr>\n",
       "      <th>Mamma Mia!</th>\n",
       "      <td>6.4</td>\n",
       "      <td>108</td>\n",
       "      <td>Family</td>\n",
       "    </tr>\n",
       "  </tbody>\n",
       "</table>\n",
       "</div>"
      ],
      "text/plain": [
       "                                             Rating  Runtime   Genre\n",
       "Title                                                               \n",
       "Sing                                            7.2      108  Family\n",
       "Fantastic Beasts and Where to Find Them         7.5      133  Family\n",
       "Miss Peregrine's Home for Peculiar Children     6.7      127  Family\n",
       "The Jungle Book                                 7.5      106  Family\n",
       "Mamma Mia!                                      6.4      108  Family"
      ]
     },
     "execution_count": 11,
     "metadata": {},
     "output_type": "execute_result"
    }
   ],
   "source": [
    "# keep columns for for Rating and Runtime\n",
    "dfs = []\n",
    "for genre in genres:\n",
    "    has_genre = movies['Genre'].str.contains(genre)\n",
    "    df = movies.loc[has_genre, ['Rating', 'Runtime']]\n",
    "    df['Genre'] = genre\n",
    "    dfs.append(df)\n",
    "    \n",
    "df_genre = pd.concat(dfs)\n",
    "df_genre.head()"
   ]
  },
  {
   "cell_type": "code",
   "execution_count": 12,
   "metadata": {},
   "outputs": [
    {
     "data": {
      "text/html": [
       "<div>\n",
       "<style scoped>\n",
       "    .dataframe tbody tr th:only-of-type {\n",
       "        vertical-align: middle;\n",
       "    }\n",
       "\n",
       "    .dataframe tbody tr th {\n",
       "        vertical-align: top;\n",
       "    }\n",
       "\n",
       "    .dataframe thead th {\n",
       "        text-align: right;\n",
       "    }\n",
       "</style>\n",
       "<table border=\"1\" class=\"dataframe\">\n",
       "  <thead>\n",
       "    <tr style=\"text-align: right;\">\n",
       "      <th></th>\n",
       "      <th>Title</th>\n",
       "      <th>Rating</th>\n",
       "      <th>Runtime</th>\n",
       "    </tr>\n",
       "    <tr>\n",
       "      <th>Genre</th>\n",
       "      <th></th>\n",
       "      <th></th>\n",
       "      <th></th>\n",
       "    </tr>\n",
       "  </thead>\n",
       "  <tbody>\n",
       "    <tr>\n",
       "      <th>Action</th>\n",
       "      <td>I Am Number Four</td>\n",
       "      <td>6.1</td>\n",
       "      <td>109</td>\n",
       "    </tr>\n",
       "    <tr>\n",
       "      <th>Action</th>\n",
       "      <td>Kickboxer: Vengeance</td>\n",
       "      <td>4.9</td>\n",
       "      <td>90</td>\n",
       "    </tr>\n",
       "    <tr>\n",
       "      <th>Action</th>\n",
       "      <td>The Hunger Games: Catching Fire</td>\n",
       "      <td>7.6</td>\n",
       "      <td>146</td>\n",
       "    </tr>\n",
       "    <tr>\n",
       "      <th>Action</th>\n",
       "      <td>Tron</td>\n",
       "      <td>6.8</td>\n",
       "      <td>125</td>\n",
       "    </tr>\n",
       "    <tr>\n",
       "      <th>Action</th>\n",
       "      <td>The Finest Hours</td>\n",
       "      <td>6.8</td>\n",
       "      <td>117</td>\n",
       "    </tr>\n",
       "  </tbody>\n",
       "</table>\n",
       "</div>"
      ],
      "text/plain": [
       "                                  Title  Rating  Runtime\n",
       "Genre                                                   \n",
       "Action                 I Am Number Four     6.1      109\n",
       "Action             Kickboxer: Vengeance     4.9       90\n",
       "Action  The Hunger Games: Catching Fire     7.6      146\n",
       "Action                             Tron     6.8      125\n",
       "Action                 The Finest Hours     6.8      117"
      ]
     },
     "execution_count": 12,
     "metadata": {},
     "output_type": "execute_result"
    }
   ],
   "source": [
    "# Keep Title, but make Genre the index\n",
    "# often it is good to sort by the index\n",
    "df_genre = df_genre.reset_index()\n",
    "df_genre = df_genre.set_index('Genre')\n",
    "df_genre = df_genre.sort_index()\n",
    "df_genre.head()"
   ]
  },
  {
   "cell_type": "code",
   "execution_count": 13,
   "metadata": {},
   "outputs": [
    {
     "data": {
      "text/html": [
       "<div>\n",
       "<style scoped>\n",
       "    .dataframe tbody tr th:only-of-type {\n",
       "        vertical-align: middle;\n",
       "    }\n",
       "\n",
       "    .dataframe tbody tr th {\n",
       "        vertical-align: top;\n",
       "    }\n",
       "\n",
       "    .dataframe thead th {\n",
       "        text-align: right;\n",
       "    }\n",
       "</style>\n",
       "<table border=\"1\" class=\"dataframe\">\n",
       "  <thead>\n",
       "    <tr style=\"text-align: right;\">\n",
       "      <th></th>\n",
       "      <th>Title</th>\n",
       "      <th>Rating</th>\n",
       "      <th>Runtime</th>\n",
       "    </tr>\n",
       "    <tr>\n",
       "      <th>Genre</th>\n",
       "      <th></th>\n",
       "      <th></th>\n",
       "      <th></th>\n",
       "    </tr>\n",
       "  </thead>\n",
       "  <tbody>\n",
       "  </tbody>\n",
       "</table>\n",
       "</div>"
      ],
      "text/plain": [
       "Empty DataFrame\n",
       "Columns: [Title, Rating, Runtime]\n",
       "Index: []"
      ]
     },
     "execution_count": 13,
     "metadata": {},
     "output_type": "execute_result"
    }
   ],
   "source": [
    "# verify Genre, Title is unique\n",
    "def get_dups(df, cols):\n",
    "    return df.groupby(cols).filter(lambda x: len(x) > 1)\n",
    "\n",
    "get_dups(df_genre, ['Title', 'Genre'])"
   ]
  },
  {
   "cell_type": "markdown",
   "metadata": {
    "toc-hr-collapsed": true
   },
   "source": [
    "### Aggregate for Rating and Runtime"
   ]
  },
  {
   "cell_type": "code",
   "execution_count": 14,
   "metadata": {},
   "outputs": [],
   "source": [
    "# Flatten Multi-index Column\n",
    "def flatten_columns(df):\n",
    "    return ['_'.join(col) for col in df.columns.values]"
   ]
  },
  {
   "cell_type": "code",
   "execution_count": 15,
   "metadata": {},
   "outputs": [
    {
     "data": {
      "text/html": [
       "<div>\n",
       "<style scoped>\n",
       "    .dataframe tbody tr th:only-of-type {\n",
       "        vertical-align: middle;\n",
       "    }\n",
       "\n",
       "    .dataframe tbody tr th {\n",
       "        vertical-align: top;\n",
       "    }\n",
       "\n",
       "    .dataframe thead th {\n",
       "        text-align: right;\n",
       "    }\n",
       "</style>\n",
       "<table border=\"1\" class=\"dataframe\">\n",
       "  <thead>\n",
       "    <tr style=\"text-align: right;\">\n",
       "      <th></th>\n",
       "      <th>Rating_mean</th>\n",
       "      <th>Rating_count</th>\n",
       "      <th>Runtime_mean</th>\n",
       "      <th>Runtime_count</th>\n",
       "    </tr>\n",
       "    <tr>\n",
       "      <th>Genre</th>\n",
       "      <th></th>\n",
       "      <th></th>\n",
       "      <th></th>\n",
       "      <th></th>\n",
       "    </tr>\n",
       "  </thead>\n",
       "  <tbody>\n",
       "    <tr>\n",
       "      <th>Action</th>\n",
       "      <td>6.614521</td>\n",
       "      <td>303</td>\n",
       "      <td>116.739274</td>\n",
       "      <td>303</td>\n",
       "    </tr>\n",
       "    <tr>\n",
       "      <th>Adventure</th>\n",
       "      <td>6.772201</td>\n",
       "      <td>259</td>\n",
       "      <td>117.698842</td>\n",
       "      <td>259</td>\n",
       "    </tr>\n",
       "    <tr>\n",
       "      <th>Animation</th>\n",
       "      <td>7.324490</td>\n",
       "      <td>49</td>\n",
       "      <td>98.142857</td>\n",
       "      <td>49</td>\n",
       "    </tr>\n",
       "    <tr>\n",
       "      <th>Biography</th>\n",
       "      <td>7.290123</td>\n",
       "      <td>81</td>\n",
       "      <td>122.580247</td>\n",
       "      <td>81</td>\n",
       "    </tr>\n",
       "    <tr>\n",
       "      <th>Comedy</th>\n",
       "      <td>6.647670</td>\n",
       "      <td>279</td>\n",
       "      <td>105.899642</td>\n",
       "      <td>279</td>\n",
       "    </tr>\n",
       "  </tbody>\n",
       "</table>\n",
       "</div>"
      ],
      "text/plain": [
       "           Rating_mean  Rating_count  Runtime_mean  Runtime_count\n",
       "Genre                                                            \n",
       "Action        6.614521           303    116.739274            303\n",
       "Adventure     6.772201           259    117.698842            259\n",
       "Animation     7.324490            49     98.142857             49\n",
       "Biography     7.290123            81    122.580247             81\n",
       "Comedy        6.647670           279    105.899642            279"
      ]
     },
     "execution_count": 15,
     "metadata": {},
     "output_type": "execute_result"
    }
   ],
   "source": [
    "# data is tidy with respect to Genre, so groupby will work correctly\n",
    "df_agg = df_genre.groupby('Genre').agg({'Rating':['mean','count'], 'Runtime':['mean','count']})\n",
    "df_agg.columns = flatten_columns(df_agg)\n",
    "df_agg.head()"
   ]
  },
  {
   "cell_type": "markdown",
   "metadata": {},
   "source": [
    "### Note: Avg of Averages != Avg"
   ]
  },
  {
   "cell_type": "code",
   "execution_count": 16,
   "metadata": {},
   "outputs": [
    {
     "data": {
      "text/plain": [
       "False"
      ]
     },
     "execution_count": 16,
     "metadata": {},
     "output_type": "execute_result"
    }
   ],
   "source": [
    "df_genre['Rating'].mean() == df_agg['Rating_mean'].mean()"
   ]
  },
  {
   "cell_type": "code",
   "execution_count": 17,
   "metadata": {},
   "outputs": [
    {
     "data": {
      "text/plain": [
       "(6.756835937500007, 6.842082767468817)"
      ]
     },
     "execution_count": 17,
     "metadata": {},
     "output_type": "execute_result"
    }
   ],
   "source": [
    "df_genre['Rating'].mean(), df_agg['Rating_mean'].mean()"
   ]
  },
  {
   "cell_type": "markdown",
   "metadata": {
    "toc-hr-collapsed": true
   },
   "source": [
    "## Genre Querys"
   ]
  },
  {
   "cell_type": "markdown",
   "metadata": {},
   "source": [
    "### Query: Top 3 Genres by Rating & At Least 20 Movies"
   ]
  },
  {
   "cell_type": "code",
   "execution_count": 18,
   "metadata": {},
   "outputs": [
    {
     "data": {
      "text/html": [
       "<div>\n",
       "<style scoped>\n",
       "    .dataframe tbody tr th:only-of-type {\n",
       "        vertical-align: middle;\n",
       "    }\n",
       "\n",
       "    .dataframe tbody tr th {\n",
       "        vertical-align: top;\n",
       "    }\n",
       "\n",
       "    .dataframe thead th {\n",
       "        text-align: right;\n",
       "    }\n",
       "</style>\n",
       "<table border=\"1\" class=\"dataframe\">\n",
       "  <thead>\n",
       "    <tr style=\"text-align: right;\">\n",
       "      <th></th>\n",
       "      <th>Rating_mean</th>\n",
       "      <th>Rating_count</th>\n",
       "      <th>Runtime_mean</th>\n",
       "      <th>Runtime_count</th>\n",
       "    </tr>\n",
       "    <tr>\n",
       "      <th>Genre</th>\n",
       "      <th></th>\n",
       "      <th></th>\n",
       "      <th></th>\n",
       "      <th></th>\n",
       "    </tr>\n",
       "  </thead>\n",
       "  <tbody>\n",
       "    <tr>\n",
       "      <th>Animation</th>\n",
       "      <td>7.324490</td>\n",
       "      <td>49</td>\n",
       "      <td>98.142857</td>\n",
       "      <td>49</td>\n",
       "    </tr>\n",
       "    <tr>\n",
       "      <th>Biography</th>\n",
       "      <td>7.290123</td>\n",
       "      <td>81</td>\n",
       "      <td>122.580247</td>\n",
       "      <td>81</td>\n",
       "    </tr>\n",
       "    <tr>\n",
       "      <th>History</th>\n",
       "      <td>7.127586</td>\n",
       "      <td>29</td>\n",
       "      <td>130.689655</td>\n",
       "      <td>29</td>\n",
       "    </tr>\n",
       "  </tbody>\n",
       "</table>\n",
       "</div>"
      ],
      "text/plain": [
       "           Rating_mean  Rating_count  Runtime_mean  Runtime_count\n",
       "Genre                                                            \n",
       "Animation     7.324490            49     98.142857             49\n",
       "Biography     7.290123            81    122.580247             81\n",
       "History       7.127586            29    130.689655             29"
      ]
     },
     "execution_count": 18,
     "metadata": {},
     "output_type": "execute_result"
    }
   ],
   "source": [
    "criteria_count = df_agg['Rating_count'] >= 20\n",
    "df_agg[criteria_count].nlargest(n=3, columns=['Rating_mean'])"
   ]
  },
  {
   "cell_type": "markdown",
   "metadata": {},
   "source": [
    "### Query: Top 3 Genres by Runtime & Better than Avg Rating & At Least 20 Movies"
   ]
  },
  {
   "cell_type": "code",
   "execution_count": 19,
   "metadata": {},
   "outputs": [
    {
     "data": {
      "text/html": [
       "<div>\n",
       "<style scoped>\n",
       "    .dataframe tbody tr th:only-of-type {\n",
       "        vertical-align: middle;\n",
       "    }\n",
       "\n",
       "    .dataframe tbody tr th {\n",
       "        vertical-align: top;\n",
       "    }\n",
       "\n",
       "    .dataframe thead th {\n",
       "        text-align: right;\n",
       "    }\n",
       "</style>\n",
       "<table border=\"1\" class=\"dataframe\">\n",
       "  <thead>\n",
       "    <tr style=\"text-align: right;\">\n",
       "      <th></th>\n",
       "      <th>Rating_mean</th>\n",
       "      <th>Rating_count</th>\n",
       "      <th>Runtime_mean</th>\n",
       "      <th>Runtime_count</th>\n",
       "    </tr>\n",
       "    <tr>\n",
       "      <th>Genre</th>\n",
       "      <th></th>\n",
       "      <th></th>\n",
       "      <th></th>\n",
       "      <th></th>\n",
       "    </tr>\n",
       "  </thead>\n",
       "  <tbody>\n",
       "    <tr>\n",
       "      <th>History</th>\n",
       "      <td>7.127586</td>\n",
       "      <td>29</td>\n",
       "      <td>130.689655</td>\n",
       "      <td>29</td>\n",
       "    </tr>\n",
       "    <tr>\n",
       "      <th>Biography</th>\n",
       "      <td>7.290123</td>\n",
       "      <td>81</td>\n",
       "      <td>122.580247</td>\n",
       "      <td>81</td>\n",
       "    </tr>\n",
       "    <tr>\n",
       "      <th>Adventure</th>\n",
       "      <td>6.772201</td>\n",
       "      <td>259</td>\n",
       "      <td>117.698842</td>\n",
       "      <td>259</td>\n",
       "    </tr>\n",
       "  </tbody>\n",
       "</table>\n",
       "</div>"
      ],
      "text/plain": [
       "           Rating_mean  Rating_count  Runtime_mean  Runtime_count\n",
       "Genre                                                            \n",
       "History       7.127586            29    130.689655             29\n",
       "Biography     7.290123            81    122.580247             81\n",
       "Adventure     6.772201           259    117.698842            259"
      ]
     },
     "execution_count": 19,
     "metadata": {},
     "output_type": "execute_result"
    }
   ],
   "source": [
    "criteria_rating = df_agg['Rating_mean'] > df_genre['Rating'].mean()\n",
    "df_agg[criteria_count & criteria_rating].nlargest(n=3, columns=['Runtime_mean'])"
   ]
  },
  {
   "cell_type": "markdown",
   "metadata": {
    "toc-hr-collapsed": false
   },
   "source": [
    "## Actor Queries\n",
    "\n",
    "This parallels the above.  This format does not allow for queries by both actor and genre."
   ]
  },
  {
   "cell_type": "code",
   "execution_count": 20,
   "metadata": {},
   "outputs": [
    {
     "data": {
      "text/plain": [
       "Title\n",
       "Guardians of the Galaxy    [Chris Pratt, Vin Diesel, Bradley Cooper, Zoe ...\n",
       "Prometheus                 [Noomi Rapace, Logan Marshall-Green, Michael F...\n",
       "Split                      [James McAvoy, Anya Taylor-Joy, Haley Lu Richa...\n",
       "Sing                       [Matthew McConaughey, Reese Witherspoon, Seth ...\n",
       "Suicide Squad              [Will Smith, Jared Leto, Margot Robbie, Viola ...\n",
       "Name: Actors, dtype: object"
      ]
     },
     "execution_count": 20,
     "metadata": {},
     "output_type": "execute_result"
    }
   ],
   "source": [
    "# create a Series with values being the parsed actor string\n",
    "title_actor_series = movies['Actors'].apply(parse_string)\n",
    "title_actor_series.head()"
   ]
  },
  {
   "cell_type": "markdown",
   "metadata": {},
   "source": [
    "For each title, add the list of actors to the actors set."
   ]
  },
  {
   "cell_type": "code",
   "execution_count": 21,
   "metadata": {},
   "outputs": [
    {
     "data": {
      "text/plain": [
       "['Arturo Castro',\n",
       " 'Andy Samberg',\n",
       " 'Haley Lu Richardson',\n",
       " 'Moon Bloodgood',\n",
       " 'Christopher Jordan Wallace']"
      ]
     },
     "execution_count": 21,
     "metadata": {},
     "output_type": "execute_result"
    }
   ],
   "source": [
    "# find the unique actors\n",
    "actors = set()\n",
    "title_actor_series.apply(lambda x: actors.update(x))\n",
    "list(actors)[:5]"
   ]
  },
  {
   "cell_type": "code",
   "execution_count": 22,
   "metadata": {},
   "outputs": [
    {
     "data": {
      "text/html": [
       "<div>\n",
       "<style scoped>\n",
       "    .dataframe tbody tr th:only-of-type {\n",
       "        vertical-align: middle;\n",
       "    }\n",
       "\n",
       "    .dataframe tbody tr th {\n",
       "        vertical-align: top;\n",
       "    }\n",
       "\n",
       "    .dataframe thead th {\n",
       "        text-align: right;\n",
       "    }\n",
       "</style>\n",
       "<table border=\"1\" class=\"dataframe\">\n",
       "  <thead>\n",
       "    <tr style=\"text-align: right;\">\n",
       "      <th></th>\n",
       "      <th>Rating</th>\n",
       "      <th>Runtime</th>\n",
       "      <th>Actor</th>\n",
       "    </tr>\n",
       "    <tr>\n",
       "      <th>Title</th>\n",
       "      <th></th>\n",
       "      <th></th>\n",
       "      <th></th>\n",
       "    </tr>\n",
       "  </thead>\n",
       "  <tbody>\n",
       "    <tr>\n",
       "      <th>Billy Lynn's Long Halftime Walk</th>\n",
       "      <td>6.3</td>\n",
       "      <td>113</td>\n",
       "      <td>Arturo Castro</td>\n",
       "    </tr>\n",
       "    <tr>\n",
       "      <th>Storks</th>\n",
       "      <td>6.9</td>\n",
       "      <td>87</td>\n",
       "      <td>Andy Samberg</td>\n",
       "    </tr>\n",
       "    <tr>\n",
       "      <th>Popstar: Never Stop Never Stopping</th>\n",
       "      <td>6.7</td>\n",
       "      <td>87</td>\n",
       "      <td>Andy Samberg</td>\n",
       "    </tr>\n",
       "    <tr>\n",
       "      <th>Hotel Transylvania 2</th>\n",
       "      <td>6.7</td>\n",
       "      <td>89</td>\n",
       "      <td>Andy Samberg</td>\n",
       "    </tr>\n",
       "    <tr>\n",
       "      <th>Split</th>\n",
       "      <td>7.3</td>\n",
       "      <td>117</td>\n",
       "      <td>Haley Lu Richardson</td>\n",
       "    </tr>\n",
       "  </tbody>\n",
       "</table>\n",
       "</div>"
      ],
      "text/plain": [
       "                                    Rating  Runtime                Actor\n",
       "Title                                                                   \n",
       "Billy Lynn's Long Halftime Walk        6.3      113        Arturo Castro\n",
       "Storks                                 6.9       87         Andy Samberg\n",
       "Popstar: Never Stop Never Stopping     6.7       87         Andy Samberg\n",
       "Hotel Transylvania 2                   6.7       89         Andy Samberg\n",
       "Split                                  7.3      117  Haley Lu Richardson"
      ]
     },
     "execution_count": 22,
     "metadata": {},
     "output_type": "execute_result"
    }
   ],
   "source": [
    "# create a \"long form\" representation of Actor\n",
    "# this has one row per Actor, Title\n",
    "# with columns for for Rating and Runtime\n",
    "dfs = []\n",
    "for actor in actors:\n",
    "    has_actor = movies['Actors'].str.contains(actor)\n",
    "    df = movies.loc[has_actor, ['Rating', 'Runtime']]\n",
    "    df['Actor'] = actor\n",
    "    dfs.append(df)\n",
    "    \n",
    "df_actor = pd.concat(dfs)\n",
    "df_actor.head()"
   ]
  },
  {
   "cell_type": "code",
   "execution_count": 23,
   "metadata": {},
   "outputs": [
    {
     "data": {
      "text/html": [
       "<div>\n",
       "<style scoped>\n",
       "    .dataframe tbody tr th:only-of-type {\n",
       "        vertical-align: middle;\n",
       "    }\n",
       "\n",
       "    .dataframe tbody tr th {\n",
       "        vertical-align: top;\n",
       "    }\n",
       "\n",
       "    .dataframe thead th {\n",
       "        text-align: right;\n",
       "    }\n",
       "</style>\n",
       "<table border=\"1\" class=\"dataframe\">\n",
       "  <thead>\n",
       "    <tr style=\"text-align: right;\">\n",
       "      <th></th>\n",
       "      <th>Title</th>\n",
       "      <th>Rating</th>\n",
       "      <th>Runtime</th>\n",
       "    </tr>\n",
       "    <tr>\n",
       "      <th>Actor</th>\n",
       "      <th></th>\n",
       "      <th></th>\n",
       "      <th></th>\n",
       "    </tr>\n",
       "  </thead>\n",
       "  <tbody>\n",
       "    <tr>\n",
       "      <th>50 Cent</th>\n",
       "      <td>Escape Plan</td>\n",
       "      <td>6.7</td>\n",
       "      <td>115</td>\n",
       "    </tr>\n",
       "    <tr>\n",
       "      <th>A.C. Peterson</th>\n",
       "      <td>The Stakelander</td>\n",
       "      <td>5.3</td>\n",
       "      <td>81</td>\n",
       "    </tr>\n",
       "    <tr>\n",
       "      <th>AJ Michalka</th>\n",
       "      <td>Super 8</td>\n",
       "      <td>7.1</td>\n",
       "      <td>112</td>\n",
       "    </tr>\n",
       "    <tr>\n",
       "      <th>Aamir Khan</th>\n",
       "      <td>Taare Zameen Par</td>\n",
       "      <td>8.5</td>\n",
       "      <td>165</td>\n",
       "    </tr>\n",
       "    <tr>\n",
       "      <th>Aamir Khan</th>\n",
       "      <td>3 Idiots</td>\n",
       "      <td>8.4</td>\n",
       "      <td>170</td>\n",
       "    </tr>\n",
       "  </tbody>\n",
       "</table>\n",
       "</div>"
      ],
      "text/plain": [
       "                          Title  Rating  Runtime\n",
       "Actor                                           \n",
       "50 Cent             Escape Plan     6.7      115\n",
       "A.C. Peterson   The Stakelander     5.3       81\n",
       "AJ Michalka             Super 8     7.1      112\n",
       "Aamir Khan     Taare Zameen Par     8.5      165\n",
       "Aamir Khan             3 Idiots     8.4      170"
      ]
     },
     "execution_count": 23,
     "metadata": {},
     "output_type": "execute_result"
    }
   ],
   "source": [
    "# Keep Title, but make Actor the index\n",
    "# often it is good to sort by the index\n",
    "df_actor = df_actor.reset_index()\n",
    "df_actor = df_actor.set_index('Actor')\n",
    "df_actor = df_actor.sort_index()\n",
    "df_actor.head()"
   ]
  },
  {
   "cell_type": "code",
   "execution_count": 24,
   "metadata": {},
   "outputs": [
    {
     "data": {
      "text/html": [
       "<div>\n",
       "<style scoped>\n",
       "    .dataframe tbody tr th:only-of-type {\n",
       "        vertical-align: middle;\n",
       "    }\n",
       "\n",
       "    .dataframe tbody tr th {\n",
       "        vertical-align: top;\n",
       "    }\n",
       "\n",
       "    .dataframe thead th {\n",
       "        text-align: right;\n",
       "    }\n",
       "</style>\n",
       "<table border=\"1\" class=\"dataframe\">\n",
       "  <thead>\n",
       "    <tr style=\"text-align: right;\">\n",
       "      <th></th>\n",
       "      <th>Title</th>\n",
       "      <th>Rating</th>\n",
       "      <th>Runtime</th>\n",
       "    </tr>\n",
       "    <tr>\n",
       "      <th>Actor</th>\n",
       "      <th></th>\n",
       "      <th></th>\n",
       "      <th></th>\n",
       "    </tr>\n",
       "  </thead>\n",
       "  <tbody>\n",
       "  </tbody>\n",
       "</table>\n",
       "</div>"
      ],
      "text/plain": [
       "Empty DataFrame\n",
       "Columns: [Title, Rating, Runtime]\n",
       "Index: []"
      ]
     },
     "execution_count": 24,
     "metadata": {},
     "output_type": "execute_result"
    }
   ],
   "source": [
    "# Actor, Title is unique\n",
    "get_dups(df_actor, ['Title', 'Actor'])"
   ]
  },
  {
   "cell_type": "code",
   "execution_count": 25,
   "metadata": {},
   "outputs": [],
   "source": [
    "# Flatten Multi-index Column\n",
    "def flatten_columns(df):\n",
    "    return ['_'.join(col) for col in df.columns.values]"
   ]
  },
  {
   "cell_type": "code",
   "execution_count": 26,
   "metadata": {},
   "outputs": [
    {
     "data": {
      "text/html": [
       "<div>\n",
       "<style scoped>\n",
       "    .dataframe tbody tr th:only-of-type {\n",
       "        vertical-align: middle;\n",
       "    }\n",
       "\n",
       "    .dataframe tbody tr th {\n",
       "        vertical-align: top;\n",
       "    }\n",
       "\n",
       "    .dataframe thead th {\n",
       "        text-align: right;\n",
       "    }\n",
       "</style>\n",
       "<table border=\"1\" class=\"dataframe\">\n",
       "  <thead>\n",
       "    <tr style=\"text-align: right;\">\n",
       "      <th></th>\n",
       "      <th>Rating_mean</th>\n",
       "      <th>Rating_count</th>\n",
       "      <th>Runtime_mean</th>\n",
       "      <th>Runtime_count</th>\n",
       "    </tr>\n",
       "    <tr>\n",
       "      <th>Actor</th>\n",
       "      <th></th>\n",
       "      <th></th>\n",
       "      <th></th>\n",
       "      <th></th>\n",
       "    </tr>\n",
       "  </thead>\n",
       "  <tbody>\n",
       "    <tr>\n",
       "      <th>50 Cent</th>\n",
       "      <td>6.700</td>\n",
       "      <td>1</td>\n",
       "      <td>115.00</td>\n",
       "      <td>1</td>\n",
       "    </tr>\n",
       "    <tr>\n",
       "      <th>A.C. Peterson</th>\n",
       "      <td>5.300</td>\n",
       "      <td>1</td>\n",
       "      <td>81.00</td>\n",
       "      <td>1</td>\n",
       "    </tr>\n",
       "    <tr>\n",
       "      <th>AJ Michalka</th>\n",
       "      <td>7.100</td>\n",
       "      <td>1</td>\n",
       "      <td>112.00</td>\n",
       "      <td>1</td>\n",
       "    </tr>\n",
       "    <tr>\n",
       "      <th>Aamir Khan</th>\n",
       "      <td>8.475</td>\n",
       "      <td>4</td>\n",
       "      <td>162.25</td>\n",
       "      <td>4</td>\n",
       "    </tr>\n",
       "    <tr>\n",
       "      <th>Aaron Burns</th>\n",
       "      <td>5.150</td>\n",
       "      <td>2</td>\n",
       "      <td>99.50</td>\n",
       "      <td>2</td>\n",
       "    </tr>\n",
       "  </tbody>\n",
       "</table>\n",
       "</div>"
      ],
      "text/plain": [
       "               Rating_mean  Rating_count  Runtime_mean  Runtime_count\n",
       "Actor                                                                \n",
       "50 Cent              6.700             1        115.00              1\n",
       "A.C. Peterson        5.300             1         81.00              1\n",
       "AJ Michalka          7.100             1        112.00              1\n",
       "Aamir Khan           8.475             4        162.25              4\n",
       "Aaron Burns          5.150             2         99.50              2"
      ]
     },
     "execution_count": 26,
     "metadata": {},
     "output_type": "execute_result"
    }
   ],
   "source": [
    "# data is tidy with respect to Actor, so groupby will work correctly\n",
    "df_agg = df_actor.groupby('Actor').agg({'Rating':['mean','count'], 'Runtime':['mean','count']})\n",
    "df_agg.columns = flatten_columns(df_agg)\n",
    "df_agg.head()"
   ]
  },
  {
   "cell_type": "markdown",
   "metadata": {},
   "source": [
    "### Query: Top 15 Actors by Movie Count, Sorted by Rating"
   ]
  },
  {
   "cell_type": "code",
   "execution_count": 27,
   "metadata": {},
   "outputs": [
    {
     "data": {
      "text/html": [
       "<div>\n",
       "<style scoped>\n",
       "    .dataframe tbody tr th:only-of-type {\n",
       "        vertical-align: middle;\n",
       "    }\n",
       "\n",
       "    .dataframe tbody tr th {\n",
       "        vertical-align: top;\n",
       "    }\n",
       "\n",
       "    .dataframe thead th {\n",
       "        text-align: right;\n",
       "    }\n",
       "</style>\n",
       "<table border=\"1\" class=\"dataframe\">\n",
       "  <thead>\n",
       "    <tr style=\"text-align: right;\">\n",
       "      <th></th>\n",
       "      <th>Rating_mean</th>\n",
       "      <th>Rating_count</th>\n",
       "      <th>Runtime_mean</th>\n",
       "      <th>Runtime_count</th>\n",
       "    </tr>\n",
       "    <tr>\n",
       "      <th>Actor</th>\n",
       "      <th></th>\n",
       "      <th></th>\n",
       "      <th></th>\n",
       "      <th></th>\n",
       "    </tr>\n",
       "  </thead>\n",
       "  <tbody>\n",
       "    <tr>\n",
       "      <th>Robert Downey Jr.</th>\n",
       "      <td>7.500000</td>\n",
       "      <td>12</td>\n",
       "      <td>132.250000</td>\n",
       "      <td>12</td>\n",
       "    </tr>\n",
       "    <tr>\n",
       "      <th>Brad Pitt</th>\n",
       "      <td>7.484615</td>\n",
       "      <td>13</td>\n",
       "      <td>134.538462</td>\n",
       "      <td>13</td>\n",
       "    </tr>\n",
       "    <tr>\n",
       "      <th>Tom Hardy</th>\n",
       "      <td>7.358333</td>\n",
       "      <td>12</td>\n",
       "      <td>122.750000</td>\n",
       "      <td>12</td>\n",
       "    </tr>\n",
       "    <tr>\n",
       "      <th>Scarlett Johansson</th>\n",
       "      <td>7.325000</td>\n",
       "      <td>12</td>\n",
       "      <td>116.833333</td>\n",
       "      <td>12</td>\n",
       "    </tr>\n",
       "    <tr>\n",
       "      <th>Christian Bale</th>\n",
       "      <td>7.246154</td>\n",
       "      <td>13</td>\n",
       "      <td>132.461538</td>\n",
       "      <td>13</td>\n",
       "    </tr>\n",
       "    <tr>\n",
       "      <th>Bradley Cooper</th>\n",
       "      <td>7.190909</td>\n",
       "      <td>11</td>\n",
       "      <td>118.090909</td>\n",
       "      <td>11</td>\n",
       "    </tr>\n",
       "    <tr>\n",
       "      <th>Hugh Jackman</th>\n",
       "      <td>7.135714</td>\n",
       "      <td>14</td>\n",
       "      <td>124.500000</td>\n",
       "      <td>14</td>\n",
       "    </tr>\n",
       "    <tr>\n",
       "      <th>Cate Blanchett</th>\n",
       "      <td>7.045455</td>\n",
       "      <td>11</td>\n",
       "      <td>124.272727</td>\n",
       "      <td>11</td>\n",
       "    </tr>\n",
       "    <tr>\n",
       "      <th>Anne Hathaway</th>\n",
       "      <td>6.983333</td>\n",
       "      <td>12</td>\n",
       "      <td>121.250000</td>\n",
       "      <td>12</td>\n",
       "    </tr>\n",
       "    <tr>\n",
       "      <th>Michael Fassbender</th>\n",
       "      <td>6.941667</td>\n",
       "      <td>12</td>\n",
       "      <td>121.000000</td>\n",
       "      <td>12</td>\n",
       "    </tr>\n",
       "    <tr>\n",
       "      <th>Anna Kendrick</th>\n",
       "      <td>6.836364</td>\n",
       "      <td>11</td>\n",
       "      <td>106.454545</td>\n",
       "      <td>11</td>\n",
       "    </tr>\n",
       "    <tr>\n",
       "      <th>Mark Wahlberg</th>\n",
       "      <td>6.773333</td>\n",
       "      <td>15</td>\n",
       "      <td>120.466667</td>\n",
       "      <td>15</td>\n",
       "    </tr>\n",
       "    <tr>\n",
       "      <th>Chloë Grace Moretz</th>\n",
       "      <td>6.700000</td>\n",
       "      <td>11</td>\n",
       "      <td>110.272727</td>\n",
       "      <td>11</td>\n",
       "    </tr>\n",
       "    <tr>\n",
       "      <th>Johnny Depp</th>\n",
       "      <td>6.533333</td>\n",
       "      <td>12</td>\n",
       "      <td>127.166667</td>\n",
       "      <td>12</td>\n",
       "    </tr>\n",
       "    <tr>\n",
       "      <th>Channing Tatum</th>\n",
       "      <td>6.308333</td>\n",
       "      <td>12</td>\n",
       "      <td>111.416667</td>\n",
       "      <td>12</td>\n",
       "    </tr>\n",
       "  </tbody>\n",
       "</table>\n",
       "</div>"
      ],
      "text/plain": [
       "                    Rating_mean  Rating_count  Runtime_mean  Runtime_count\n",
       "Actor                                                                     \n",
       "Robert Downey Jr.      7.500000            12    132.250000             12\n",
       "Brad Pitt              7.484615            13    134.538462             13\n",
       "Tom Hardy              7.358333            12    122.750000             12\n",
       "Scarlett Johansson     7.325000            12    116.833333             12\n",
       "Christian Bale         7.246154            13    132.461538             13\n",
       "Bradley Cooper         7.190909            11    118.090909             11\n",
       "Hugh Jackman           7.135714            14    124.500000             14\n",
       "Cate Blanchett         7.045455            11    124.272727             11\n",
       "Anne Hathaway          6.983333            12    121.250000             12\n",
       "Michael Fassbender     6.941667            12    121.000000             12\n",
       "Anna Kendrick          6.836364            11    106.454545             11\n",
       "Mark Wahlberg          6.773333            15    120.466667             15\n",
       "Chloë Grace Moretz     6.700000            11    110.272727             11\n",
       "Johnny Depp            6.533333            12    127.166667             12\n",
       "Channing Tatum         6.308333            12    111.416667             12"
      ]
     },
     "execution_count": 27,
     "metadata": {},
     "output_type": "execute_result"
    }
   ],
   "source": [
    "# find the 15 actors who are in the most movies and sort by Rating\n",
    "actor_top15 = df_agg.nlargest(n=15, columns=['Rating_count'])\n",
    "actor_top15.sort_values(by='Rating_mean', ascending=False)"
   ]
  },
  {
   "cell_type": "markdown",
   "metadata": {},
   "source": [
    "### Query: Top 15 Actors by Movie Count, Display Top 5 by Rating"
   ]
  },
  {
   "cell_type": "code",
   "execution_count": 28,
   "metadata": {},
   "outputs": [
    {
     "data": {
      "text/html": [
       "<div>\n",
       "<style scoped>\n",
       "    .dataframe tbody tr th:only-of-type {\n",
       "        vertical-align: middle;\n",
       "    }\n",
       "\n",
       "    .dataframe tbody tr th {\n",
       "        vertical-align: top;\n",
       "    }\n",
       "\n",
       "    .dataframe thead th {\n",
       "        text-align: right;\n",
       "    }\n",
       "</style>\n",
       "<table border=\"1\" class=\"dataframe\">\n",
       "  <thead>\n",
       "    <tr style=\"text-align: right;\">\n",
       "      <th></th>\n",
       "      <th>Rating_mean</th>\n",
       "      <th>Rating_count</th>\n",
       "      <th>Runtime_mean</th>\n",
       "      <th>Runtime_count</th>\n",
       "    </tr>\n",
       "    <tr>\n",
       "      <th>Actor</th>\n",
       "      <th></th>\n",
       "      <th></th>\n",
       "      <th></th>\n",
       "      <th></th>\n",
       "    </tr>\n",
       "  </thead>\n",
       "  <tbody>\n",
       "    <tr>\n",
       "      <th>Robert Downey Jr.</th>\n",
       "      <td>7.500000</td>\n",
       "      <td>12</td>\n",
       "      <td>132.250000</td>\n",
       "      <td>12</td>\n",
       "    </tr>\n",
       "    <tr>\n",
       "      <th>Brad Pitt</th>\n",
       "      <td>7.484615</td>\n",
       "      <td>13</td>\n",
       "      <td>134.538462</td>\n",
       "      <td>13</td>\n",
       "    </tr>\n",
       "    <tr>\n",
       "      <th>Tom Hardy</th>\n",
       "      <td>7.358333</td>\n",
       "      <td>12</td>\n",
       "      <td>122.750000</td>\n",
       "      <td>12</td>\n",
       "    </tr>\n",
       "    <tr>\n",
       "      <th>Scarlett Johansson</th>\n",
       "      <td>7.325000</td>\n",
       "      <td>12</td>\n",
       "      <td>116.833333</td>\n",
       "      <td>12</td>\n",
       "    </tr>\n",
       "    <tr>\n",
       "      <th>Christian Bale</th>\n",
       "      <td>7.246154</td>\n",
       "      <td>13</td>\n",
       "      <td>132.461538</td>\n",
       "      <td>13</td>\n",
       "    </tr>\n",
       "  </tbody>\n",
       "</table>\n",
       "</div>"
      ],
      "text/plain": [
       "                    Rating_mean  Rating_count  Runtime_mean  Runtime_count\n",
       "Actor                                                                     \n",
       "Robert Downey Jr.      7.500000            12    132.250000             12\n",
       "Brad Pitt              7.484615            13    134.538462             13\n",
       "Tom Hardy              7.358333            12    122.750000             12\n",
       "Scarlett Johansson     7.325000            12    116.833333             12\n",
       "Christian Bale         7.246154            13    132.461538             13"
      ]
     },
     "execution_count": 28,
     "metadata": {},
     "output_type": "execute_result"
    }
   ],
   "source": [
    "# very similar to above query\n",
    "actor_top15.nlargest(n=5, columns=['Rating_mean'])"
   ]
  },
  {
   "cell_type": "markdown",
   "metadata": {},
   "source": [
    "### Query: Actors with Above Avg Rating & in at least 5 movies, Display Top 5 by Runtime"
   ]
  },
  {
   "cell_type": "code",
   "execution_count": 29,
   "metadata": {},
   "outputs": [
    {
     "data": {
      "text/html": [
       "<div>\n",
       "<style scoped>\n",
       "    .dataframe tbody tr th:only-of-type {\n",
       "        vertical-align: middle;\n",
       "    }\n",
       "\n",
       "    .dataframe tbody tr th {\n",
       "        vertical-align: top;\n",
       "    }\n",
       "\n",
       "    .dataframe thead th {\n",
       "        text-align: right;\n",
       "    }\n",
       "</style>\n",
       "<table border=\"1\" class=\"dataframe\">\n",
       "  <thead>\n",
       "    <tr style=\"text-align: right;\">\n",
       "      <th></th>\n",
       "      <th>Rating_mean</th>\n",
       "      <th>Rating_count</th>\n",
       "      <th>Runtime_mean</th>\n",
       "      <th>Runtime_count</th>\n",
       "    </tr>\n",
       "    <tr>\n",
       "      <th>Actor</th>\n",
       "      <th></th>\n",
       "      <th></th>\n",
       "      <th></th>\n",
       "      <th></th>\n",
       "    </tr>\n",
       "  </thead>\n",
       "  <tbody>\n",
       "    <tr>\n",
       "      <th>Leonardo DiCaprio</th>\n",
       "      <td>7.970000</td>\n",
       "      <td>10</td>\n",
       "      <td>147.100000</td>\n",
       "      <td>10</td>\n",
       "    </tr>\n",
       "    <tr>\n",
       "      <th>Ian McKellen</th>\n",
       "      <td>7.583333</td>\n",
       "      <td>6</td>\n",
       "      <td>147.000000</td>\n",
       "      <td>6</td>\n",
       "    </tr>\n",
       "    <tr>\n",
       "      <th>Kurt Russell</th>\n",
       "      <td>7.360000</td>\n",
       "      <td>5</td>\n",
       "      <td>146.000000</td>\n",
       "      <td>5</td>\n",
       "    </tr>\n",
       "    <tr>\n",
       "      <th>Andrew Garfield</th>\n",
       "      <td>7.283333</td>\n",
       "      <td>6</td>\n",
       "      <td>136.833333</td>\n",
       "      <td>6</td>\n",
       "    </tr>\n",
       "    <tr>\n",
       "      <th>Russell Crowe</th>\n",
       "      <td>7.042857</td>\n",
       "      <td>7</td>\n",
       "      <td>136.285714</td>\n",
       "      <td>7</td>\n",
       "    </tr>\n",
       "  </tbody>\n",
       "</table>\n",
       "</div>"
      ],
      "text/plain": [
       "                   Rating_mean  Rating_count  Runtime_mean  Runtime_count\n",
       "Actor                                                                    \n",
       "Leonardo DiCaprio     7.970000            10    147.100000             10\n",
       "Ian McKellen          7.583333             6    147.000000              6\n",
       "Kurt Russell          7.360000             5    146.000000              5\n",
       "Andrew Garfield       7.283333             6    136.833333              6\n",
       "Russell Crowe         7.042857             7    136.285714              7"
      ]
     },
     "execution_count": 29,
     "metadata": {},
     "output_type": "execute_result"
    }
   ],
   "source": [
    "criteria_above_avg = df_agg['Rating_mean'] > df_actor['Rating'].mean()\n",
    "criteria_common = df_agg['Rating_count'] >= 5\n",
    "\n",
    "df_agg[criteria_above_avg & criteria_common].nlargest(n=5, columns=['Runtime_mean'])"
   ]
  },
  {
   "cell_type": "markdown",
   "metadata": {
    "toc-hr-collapsed": true
   },
   "source": [
    "### Query: Actors Top 20% by Rating & Actors Top 20% by Count, Display Top 5 by Runtime"
   ]
  },
  {
   "cell_type": "code",
   "execution_count": 30,
   "metadata": {},
   "outputs": [
    {
     "data": {
      "text/plain": [
       "7.5"
      ]
     },
     "execution_count": 30,
     "metadata": {},
     "output_type": "execute_result"
    }
   ],
   "source": [
    "# rating for top 20% of actors\n",
    "top_20percent_rating = df_actor['Rating'].quantile(q=0.80)\n",
    "top_20percent_rating"
   ]
  },
  {
   "cell_type": "code",
   "execution_count": 31,
   "metadata": {},
   "outputs": [
    {
     "data": {
      "text/plain": [
       "False"
      ]
     },
     "execution_count": 31,
     "metadata": {},
     "output_type": "execute_result"
    }
   ],
   "source": [
    "# Note\n",
    "df_actor['Rating'].quantile(q=0.80) == df_agg['Rating_mean'].quantile(q=0.80)"
   ]
  },
  {
   "cell_type": "code",
   "execution_count": 32,
   "metadata": {},
   "outputs": [
    {
     "data": {
      "text/plain": [
       "(7.5, 7.4)"
      ]
     },
     "execution_count": 32,
     "metadata": {},
     "output_type": "execute_result"
    }
   ],
   "source": [
    "# Note\n",
    "df_actor['Rating'].quantile(q=0.80), df_agg['Rating_mean'].quantile(q=0.80)"
   ]
  },
  {
   "cell_type": "code",
   "execution_count": 33,
   "metadata": {},
   "outputs": [
    {
     "data": {
      "text/plain": [
       "3.0"
      ]
     },
     "execution_count": 33,
     "metadata": {},
     "output_type": "execute_result"
    }
   ],
   "source": [
    "# number of movies for top 20% cutoff\n",
    "top_20percent_count = df_agg['Rating_count'].quantile(q=0.80)\n",
    "top_20percent_count"
   ]
  },
  {
   "cell_type": "code",
   "execution_count": 34,
   "metadata": {},
   "outputs": [
    {
     "data": {
      "text/html": [
       "<div>\n",
       "<style scoped>\n",
       "    .dataframe tbody tr th:only-of-type {\n",
       "        vertical-align: middle;\n",
       "    }\n",
       "\n",
       "    .dataframe tbody tr th {\n",
       "        vertical-align: top;\n",
       "    }\n",
       "\n",
       "    .dataframe thead th {\n",
       "        text-align: right;\n",
       "    }\n",
       "</style>\n",
       "<table border=\"1\" class=\"dataframe\">\n",
       "  <thead>\n",
       "    <tr style=\"text-align: right;\">\n",
       "      <th></th>\n",
       "      <th>Rating_mean</th>\n",
       "      <th>Rating_count</th>\n",
       "      <th>Runtime_mean</th>\n",
       "      <th>Runtime_count</th>\n",
       "    </tr>\n",
       "    <tr>\n",
       "      <th>Actor</th>\n",
       "      <th></th>\n",
       "      <th></th>\n",
       "      <th></th>\n",
       "      <th></th>\n",
       "    </tr>\n",
       "  </thead>\n",
       "  <tbody>\n",
       "    <tr>\n",
       "      <th>Aamir Khan</th>\n",
       "      <td>8.475000</td>\n",
       "      <td>4</td>\n",
       "      <td>162.25</td>\n",
       "      <td>4</td>\n",
       "    </tr>\n",
       "    <tr>\n",
       "      <th>Richard Armitage</th>\n",
       "      <td>7.733333</td>\n",
       "      <td>3</td>\n",
       "      <td>158.00</td>\n",
       "      <td>3</td>\n",
       "    </tr>\n",
       "    <tr>\n",
       "      <th>Leonardo DiCaprio</th>\n",
       "      <td>7.970000</td>\n",
       "      <td>10</td>\n",
       "      <td>147.10</td>\n",
       "      <td>10</td>\n",
       "    </tr>\n",
       "    <tr>\n",
       "      <th>Ian McKellen</th>\n",
       "      <td>7.583333</td>\n",
       "      <td>6</td>\n",
       "      <td>147.00</td>\n",
       "      <td>6</td>\n",
       "    </tr>\n",
       "    <tr>\n",
       "      <th>Rupert Grint</th>\n",
       "      <td>7.700000</td>\n",
       "      <td>4</td>\n",
       "      <td>141.75</td>\n",
       "      <td>4</td>\n",
       "    </tr>\n",
       "  </tbody>\n",
       "</table>\n",
       "</div>"
      ],
      "text/plain": [
       "                   Rating_mean  Rating_count  Runtime_mean  Runtime_count\n",
       "Actor                                                                    \n",
       "Aamir Khan            8.475000             4        162.25              4\n",
       "Richard Armitage      7.733333             3        158.00              3\n",
       "Leonardo DiCaprio     7.970000            10        147.10             10\n",
       "Ian McKellen          7.583333             6        147.00              6\n",
       "Rupert Grint          7.700000             4        141.75              4"
      ]
     },
     "execution_count": 34,
     "metadata": {},
     "output_type": "execute_result"
    }
   ],
   "source": [
    "criteria_top20_rated = df_agg['Rating_mean'] >= top_20percent_rating\n",
    "criteria_top20_count = df_agg['Rating_count'] >= top_20percent_count\n",
    "top_2020 = df_agg[criteria_top20_rated & criteria_top20_count].nlargest(n=5, columns=['Runtime_mean'])\n",
    "top_2020"
   ]
  },
  {
   "cell_type": "markdown",
   "metadata": {
    "toc-hr-collapsed": true
   },
   "source": [
    "### Query: Number of Actors: Top 20% by Rating & Top 20% by Count"
   ]
  },
  {
   "cell_type": "code",
   "execution_count": 35,
   "metadata": {},
   "outputs": [
    {
     "data": {
      "text/plain": [
       "22"
      ]
     },
     "execution_count": 35,
     "metadata": {},
     "output_type": "execute_result"
    }
   ],
   "source": [
    "(criteria_top20_rated & criteria_top20_count).sum()"
   ]
  },
  {
   "cell_type": "markdown",
   "metadata": {
    "toc-hr-collapsed": false
   },
   "source": [
    "## Genre and Actor Queries\n",
    "This requires one row per Genre, Actor, Title."
   ]
  },
  {
   "cell_type": "code",
   "execution_count": 36,
   "metadata": {},
   "outputs": [
    {
     "data": {
      "text/html": [
       "<div>\n",
       "<style scoped>\n",
       "    .dataframe tbody tr th:only-of-type {\n",
       "        vertical-align: middle;\n",
       "    }\n",
       "\n",
       "    .dataframe tbody tr th {\n",
       "        vertical-align: top;\n",
       "    }\n",
       "\n",
       "    .dataframe thead th {\n",
       "        text-align: right;\n",
       "    }\n",
       "</style>\n",
       "<table border=\"1\" class=\"dataframe\">\n",
       "  <thead>\n",
       "    <tr style=\"text-align: right;\">\n",
       "      <th></th>\n",
       "      <th>Genre</th>\n",
       "      <th>Rating</th>\n",
       "      <th>Runtime</th>\n",
       "      <th>Actor</th>\n",
       "    </tr>\n",
       "    <tr>\n",
       "      <th>Title</th>\n",
       "      <th></th>\n",
       "      <th></th>\n",
       "      <th></th>\n",
       "      <th></th>\n",
       "    </tr>\n",
       "  </thead>\n",
       "  <tbody>\n",
       "    <tr>\n",
       "      <th>Hotel Transylvania 2</th>\n",
       "      <td>Family</td>\n",
       "      <td>6.7</td>\n",
       "      <td>89</td>\n",
       "      <td>Andy Samberg</td>\n",
       "    </tr>\n",
       "    <tr>\n",
       "      <th>Alexander and the Terrible, Horrible, No Good, Very Bad Day</th>\n",
       "      <td>Family</td>\n",
       "      <td>6.2</td>\n",
       "      <td>81</td>\n",
       "      <td>Jennifer Garner</td>\n",
       "    </tr>\n",
       "    <tr>\n",
       "      <th>Miracles from Heaven</th>\n",
       "      <td>Family</td>\n",
       "      <td>7.0</td>\n",
       "      <td>109</td>\n",
       "      <td>Jennifer Garner</td>\n",
       "    </tr>\n",
       "    <tr>\n",
       "      <th>Nine Lives</th>\n",
       "      <td>Family</td>\n",
       "      <td>5.3</td>\n",
       "      <td>87</td>\n",
       "      <td>Jennifer Garner</td>\n",
       "    </tr>\n",
       "    <tr>\n",
       "      <th>The Jungle Book</th>\n",
       "      <td>Family</td>\n",
       "      <td>7.5</td>\n",
       "      <td>106</td>\n",
       "      <td>Ben Kingsley</td>\n",
       "    </tr>\n",
       "  </tbody>\n",
       "</table>\n",
       "</div>"
      ],
      "text/plain": [
       "                                                     Genre  Rating  Runtime  \\\n",
       "Title                                                                         \n",
       "Hotel Transylvania 2                                Family     6.7       89   \n",
       "Alexander and the Terrible, Horrible, No Good, ...  Family     6.2       81   \n",
       "Miracles from Heaven                                Family     7.0      109   \n",
       "Nine Lives                                          Family     5.3       87   \n",
       "The Jungle Book                                     Family     7.5      106   \n",
       "\n",
       "                                                              Actor  \n",
       "Title                                                                \n",
       "Hotel Transylvania 2                                   Andy Samberg  \n",
       "Alexander and the Terrible, Horrible, No Good, ...  Jennifer Garner  \n",
       "Miracles from Heaven                                Jennifer Garner  \n",
       "Nine Lives                                          Jennifer Garner  \n",
       "The Jungle Book                                        Ben Kingsley  "
      ]
     },
     "execution_count": 36,
     "metadata": {},
     "output_type": "execute_result"
    }
   ],
   "source": [
    "# keep columns for for Rating, Runtime and Actors\n",
    "dfs = []\n",
    "for genre in genres:\n",
    "    has_genre = movies['Genre'].str.contains(genre)\n",
    "    df = movies.loc[has_genre, ['Rating', 'Runtime', 'Actors']]\n",
    "    df['Genre'] = genre\n",
    "    \n",
    "    for actor in actors:\n",
    "        has_actor = df['Actors'].str.contains(actor)\n",
    "        df2 = df.loc[has_actor, ['Genre', 'Rating', 'Runtime']]\n",
    "        df2['Actor'] = actor\n",
    "        dfs.append(df2)\n",
    "    \n",
    "df_genre_actor = pd.concat(dfs)\n",
    "df_genre_actor.head()"
   ]
  },
  {
   "cell_type": "code",
   "execution_count": 37,
   "metadata": {},
   "outputs": [
    {
     "data": {
      "text/html": [
       "<div>\n",
       "<style scoped>\n",
       "    .dataframe tbody tr th:only-of-type {\n",
       "        vertical-align: middle;\n",
       "    }\n",
       "\n",
       "    .dataframe tbody tr th {\n",
       "        vertical-align: top;\n",
       "    }\n",
       "\n",
       "    .dataframe thead th {\n",
       "        text-align: right;\n",
       "    }\n",
       "</style>\n",
       "<table border=\"1\" class=\"dataframe\">\n",
       "  <thead>\n",
       "    <tr style=\"text-align: right;\">\n",
       "      <th></th>\n",
       "      <th>Title</th>\n",
       "      <th>Genre</th>\n",
       "      <th>Rating</th>\n",
       "      <th>Runtime</th>\n",
       "      <th>Actor</th>\n",
       "    </tr>\n",
       "  </thead>\n",
       "  <tbody>\n",
       "    <tr>\n",
       "      <th>0</th>\n",
       "      <td>Hotel Transylvania 2</td>\n",
       "      <td>Family</td>\n",
       "      <td>6.7</td>\n",
       "      <td>89</td>\n",
       "      <td>Andy Samberg</td>\n",
       "    </tr>\n",
       "    <tr>\n",
       "      <th>1</th>\n",
       "      <td>Alexander and the Terrible, Horrible, No Good,...</td>\n",
       "      <td>Family</td>\n",
       "      <td>6.2</td>\n",
       "      <td>81</td>\n",
       "      <td>Jennifer Garner</td>\n",
       "    </tr>\n",
       "    <tr>\n",
       "      <th>2</th>\n",
       "      <td>Miracles from Heaven</td>\n",
       "      <td>Family</td>\n",
       "      <td>7.0</td>\n",
       "      <td>109</td>\n",
       "      <td>Jennifer Garner</td>\n",
       "    </tr>\n",
       "    <tr>\n",
       "      <th>3</th>\n",
       "      <td>Nine Lives</td>\n",
       "      <td>Family</td>\n",
       "      <td>5.3</td>\n",
       "      <td>87</td>\n",
       "      <td>Jennifer Garner</td>\n",
       "    </tr>\n",
       "    <tr>\n",
       "      <th>4</th>\n",
       "      <td>The Jungle Book</td>\n",
       "      <td>Family</td>\n",
       "      <td>7.5</td>\n",
       "      <td>106</td>\n",
       "      <td>Ben Kingsley</td>\n",
       "    </tr>\n",
       "  </tbody>\n",
       "</table>\n",
       "</div>"
      ],
      "text/plain": [
       "                                               Title   Genre  Rating  Runtime  \\\n",
       "0                               Hotel Transylvania 2  Family     6.7       89   \n",
       "1  Alexander and the Terrible, Horrible, No Good,...  Family     6.2       81   \n",
       "2                               Miracles from Heaven  Family     7.0      109   \n",
       "3                                         Nine Lives  Family     5.3       87   \n",
       "4                                    The Jungle Book  Family     7.5      106   \n",
       "\n",
       "             Actor  \n",
       "0     Andy Samberg  \n",
       "1  Jennifer Garner  \n",
       "2  Jennifer Garner  \n",
       "3  Jennifer Garner  \n",
       "4     Ben Kingsley  "
      ]
     },
     "execution_count": 37,
     "metadata": {},
     "output_type": "execute_result"
    }
   ],
   "source": [
    "df_genre_actor = df_genre_actor.reset_index()\n",
    "df_genre_actor.head()"
   ]
  },
  {
   "cell_type": "code",
   "execution_count": 38,
   "metadata": {},
   "outputs": [
    {
     "data": {
      "text/html": [
       "<div>\n",
       "<style scoped>\n",
       "    .dataframe tbody tr th:only-of-type {\n",
       "        vertical-align: middle;\n",
       "    }\n",
       "\n",
       "    .dataframe tbody tr th {\n",
       "        vertical-align: top;\n",
       "    }\n",
       "\n",
       "    .dataframe thead th {\n",
       "        text-align: right;\n",
       "    }\n",
       "</style>\n",
       "<table border=\"1\" class=\"dataframe\">\n",
       "  <thead>\n",
       "    <tr style=\"text-align: right;\">\n",
       "      <th></th>\n",
       "      <th>Title</th>\n",
       "      <th>Genre</th>\n",
       "      <th>Rating</th>\n",
       "      <th>Runtime</th>\n",
       "      <th>Actor</th>\n",
       "    </tr>\n",
       "  </thead>\n",
       "  <tbody>\n",
       "  </tbody>\n",
       "</table>\n",
       "</div>"
      ],
      "text/plain": [
       "Empty DataFrame\n",
       "Columns: [Title, Genre, Rating, Runtime, Actor]\n",
       "Index: []"
      ]
     },
     "execution_count": 38,
     "metadata": {},
     "output_type": "execute_result"
    }
   ],
   "source": [
    "# verify unique Actor, Genre, Title\n",
    "get_dups(df_genre_actor, ['Actor', 'Genre', 'Title'])"
   ]
  },
  {
   "cell_type": "markdown",
   "metadata": {},
   "source": [
    "### Query: For top 15 Actors by Count, Which Genre Had Highest Mean Rating"
   ]
  },
  {
   "cell_type": "code",
   "execution_count": 39,
   "metadata": {},
   "outputs": [
    {
     "data": {
      "text/html": [
       "<div>\n",
       "<style scoped>\n",
       "    .dataframe tbody tr th:only-of-type {\n",
       "        vertical-align: middle;\n",
       "    }\n",
       "\n",
       "    .dataframe tbody tr th {\n",
       "        vertical-align: top;\n",
       "    }\n",
       "\n",
       "    .dataframe thead th {\n",
       "        text-align: right;\n",
       "    }\n",
       "</style>\n",
       "<table border=\"1\" class=\"dataframe\">\n",
       "  <thead>\n",
       "    <tr style=\"text-align: right;\">\n",
       "      <th></th>\n",
       "      <th>Rating_mean</th>\n",
       "      <th>Rating_count</th>\n",
       "      <th>Runtime_mean</th>\n",
       "      <th>Runtime_count</th>\n",
       "    </tr>\n",
       "    <tr>\n",
       "      <th>Actor</th>\n",
       "      <th></th>\n",
       "      <th></th>\n",
       "      <th></th>\n",
       "      <th></th>\n",
       "    </tr>\n",
       "  </thead>\n",
       "  <tbody>\n",
       "    <tr>\n",
       "      <th>Mark Wahlberg</th>\n",
       "      <td>6.773333</td>\n",
       "      <td>15</td>\n",
       "      <td>120.466667</td>\n",
       "      <td>15</td>\n",
       "    </tr>\n",
       "    <tr>\n",
       "      <th>Hugh Jackman</th>\n",
       "      <td>7.135714</td>\n",
       "      <td>14</td>\n",
       "      <td>124.500000</td>\n",
       "      <td>14</td>\n",
       "    </tr>\n",
       "    <tr>\n",
       "      <th>Brad Pitt</th>\n",
       "      <td>7.484615</td>\n",
       "      <td>13</td>\n",
       "      <td>134.538462</td>\n",
       "      <td>13</td>\n",
       "    </tr>\n",
       "    <tr>\n",
       "      <th>Christian Bale</th>\n",
       "      <td>7.246154</td>\n",
       "      <td>13</td>\n",
       "      <td>132.461538</td>\n",
       "      <td>13</td>\n",
       "    </tr>\n",
       "    <tr>\n",
       "      <th>Anne Hathaway</th>\n",
       "      <td>6.983333</td>\n",
       "      <td>12</td>\n",
       "      <td>121.250000</td>\n",
       "      <td>12</td>\n",
       "    </tr>\n",
       "    <tr>\n",
       "      <th>Channing Tatum</th>\n",
       "      <td>6.308333</td>\n",
       "      <td>12</td>\n",
       "      <td>111.416667</td>\n",
       "      <td>12</td>\n",
       "    </tr>\n",
       "    <tr>\n",
       "      <th>Johnny Depp</th>\n",
       "      <td>6.533333</td>\n",
       "      <td>12</td>\n",
       "      <td>127.166667</td>\n",
       "      <td>12</td>\n",
       "    </tr>\n",
       "    <tr>\n",
       "      <th>Michael Fassbender</th>\n",
       "      <td>6.941667</td>\n",
       "      <td>12</td>\n",
       "      <td>121.000000</td>\n",
       "      <td>12</td>\n",
       "    </tr>\n",
       "    <tr>\n",
       "      <th>Robert Downey Jr.</th>\n",
       "      <td>7.500000</td>\n",
       "      <td>12</td>\n",
       "      <td>132.250000</td>\n",
       "      <td>12</td>\n",
       "    </tr>\n",
       "    <tr>\n",
       "      <th>Scarlett Johansson</th>\n",
       "      <td>7.325000</td>\n",
       "      <td>12</td>\n",
       "      <td>116.833333</td>\n",
       "      <td>12</td>\n",
       "    </tr>\n",
       "    <tr>\n",
       "      <th>Tom Hardy</th>\n",
       "      <td>7.358333</td>\n",
       "      <td>12</td>\n",
       "      <td>122.750000</td>\n",
       "      <td>12</td>\n",
       "    </tr>\n",
       "    <tr>\n",
       "      <th>Anna Kendrick</th>\n",
       "      <td>6.836364</td>\n",
       "      <td>11</td>\n",
       "      <td>106.454545</td>\n",
       "      <td>11</td>\n",
       "    </tr>\n",
       "    <tr>\n",
       "      <th>Bradley Cooper</th>\n",
       "      <td>7.190909</td>\n",
       "      <td>11</td>\n",
       "      <td>118.090909</td>\n",
       "      <td>11</td>\n",
       "    </tr>\n",
       "    <tr>\n",
       "      <th>Cate Blanchett</th>\n",
       "      <td>7.045455</td>\n",
       "      <td>11</td>\n",
       "      <td>124.272727</td>\n",
       "      <td>11</td>\n",
       "    </tr>\n",
       "    <tr>\n",
       "      <th>Chloë Grace Moretz</th>\n",
       "      <td>6.700000</td>\n",
       "      <td>11</td>\n",
       "      <td>110.272727</td>\n",
       "      <td>11</td>\n",
       "    </tr>\n",
       "  </tbody>\n",
       "</table>\n",
       "</div>"
      ],
      "text/plain": [
       "                    Rating_mean  Rating_count  Runtime_mean  Runtime_count\n",
       "Actor                                                                     \n",
       "Mark Wahlberg          6.773333            15    120.466667             15\n",
       "Hugh Jackman           7.135714            14    124.500000             14\n",
       "Brad Pitt              7.484615            13    134.538462             13\n",
       "Christian Bale         7.246154            13    132.461538             13\n",
       "Anne Hathaway          6.983333            12    121.250000             12\n",
       "Channing Tatum         6.308333            12    111.416667             12\n",
       "Johnny Depp            6.533333            12    127.166667             12\n",
       "Michael Fassbender     6.941667            12    121.000000             12\n",
       "Robert Downey Jr.      7.500000            12    132.250000             12\n",
       "Scarlett Johansson     7.325000            12    116.833333             12\n",
       "Tom Hardy              7.358333            12    122.750000             12\n",
       "Anna Kendrick          6.836364            11    106.454545             11\n",
       "Bradley Cooper         7.190909            11    118.090909             11\n",
       "Cate Blanchett         7.045455            11    124.272727             11\n",
       "Chloë Grace Moretz     6.700000            11    110.272727             11"
      ]
     },
     "execution_count": 39,
     "metadata": {},
     "output_type": "execute_result"
    }
   ],
   "source": [
    "actor_top15"
   ]
  },
  {
   "cell_type": "code",
   "execution_count": 40,
   "metadata": {},
   "outputs": [
    {
     "data": {
      "text/html": [
       "<div>\n",
       "<style scoped>\n",
       "    .dataframe tbody tr th:only-of-type {\n",
       "        vertical-align: middle;\n",
       "    }\n",
       "\n",
       "    .dataframe tbody tr th {\n",
       "        vertical-align: top;\n",
       "    }\n",
       "\n",
       "    .dataframe thead th {\n",
       "        text-align: right;\n",
       "    }\n",
       "</style>\n",
       "<table border=\"1\" class=\"dataframe\">\n",
       "  <thead>\n",
       "    <tr style=\"text-align: right;\">\n",
       "      <th></th>\n",
       "      <th>Title</th>\n",
       "      <th>Genre</th>\n",
       "      <th>Rating</th>\n",
       "      <th>Runtime</th>\n",
       "      <th>Actor</th>\n",
       "    </tr>\n",
       "  </thead>\n",
       "  <tbody>\n",
       "    <tr>\n",
       "      <th>19</th>\n",
       "      <td>Daddy's Home</td>\n",
       "      <td>Family</td>\n",
       "      <td>6.1</td>\n",
       "      <td>96</td>\n",
       "      <td>Mark Wahlberg</td>\n",
       "    </tr>\n",
       "    <tr>\n",
       "      <th>80</th>\n",
       "      <td>Hugo</td>\n",
       "      <td>Family</td>\n",
       "      <td>7.5</td>\n",
       "      <td>126</td>\n",
       "      <td>Chloë Grace Moretz</td>\n",
       "    </tr>\n",
       "    <tr>\n",
       "      <th>95</th>\n",
       "      <td>Alice Through the Looking Glass</td>\n",
       "      <td>Family</td>\n",
       "      <td>6.2</td>\n",
       "      <td>113</td>\n",
       "      <td>Johnny Depp</td>\n",
       "    </tr>\n",
       "    <tr>\n",
       "      <th>96</th>\n",
       "      <td>Alice in Wonderland</td>\n",
       "      <td>Family</td>\n",
       "      <td>6.5</td>\n",
       "      <td>108</td>\n",
       "      <td>Johnny Depp</td>\n",
       "    </tr>\n",
       "    <tr>\n",
       "      <th>120</th>\n",
       "      <td>Cinderella</td>\n",
       "      <td>Family</td>\n",
       "      <td>7.0</td>\n",
       "      <td>105</td>\n",
       "      <td>Cate Blanchett</td>\n",
       "    </tr>\n",
       "  </tbody>\n",
       "</table>\n",
       "</div>"
      ],
      "text/plain": [
       "                               Title   Genre  Rating  Runtime  \\\n",
       "19                      Daddy's Home  Family     6.1       96   \n",
       "80                              Hugo  Family     7.5      126   \n",
       "95   Alice Through the Looking Glass  Family     6.2      113   \n",
       "96               Alice in Wonderland  Family     6.5      108   \n",
       "120                       Cinderella  Family     7.0      105   \n",
       "\n",
       "                  Actor  \n",
       "19        Mark Wahlberg  \n",
       "80   Chloë Grace Moretz  \n",
       "95          Johnny Depp  \n",
       "96          Johnny Depp  \n",
       "120      Cate Blanchett  "
      ]
     },
     "execution_count": 40,
     "metadata": {},
     "output_type": "execute_result"
    }
   ],
   "source": [
    "criteria = df_genre_actor['Actor'].isin(actor_top15.index)\n",
    "df_genre_actor_common = df_genre_actor[criteria]\n",
    "df_genre_actor_common.head()"
   ]
  },
  {
   "cell_type": "code",
   "execution_count": 41,
   "metadata": {},
   "outputs": [
    {
     "data": {
      "text/html": [
       "<div>\n",
       "<style scoped>\n",
       "    .dataframe tbody tr th:only-of-type {\n",
       "        vertical-align: middle;\n",
       "    }\n",
       "\n",
       "    .dataframe tbody tr th {\n",
       "        vertical-align: top;\n",
       "    }\n",
       "\n",
       "    .dataframe thead th {\n",
       "        text-align: right;\n",
       "    }\n",
       "</style>\n",
       "<table border=\"1\" class=\"dataframe\">\n",
       "  <thead>\n",
       "    <tr style=\"text-align: right;\">\n",
       "      <th></th>\n",
       "      <th>Actor</th>\n",
       "      <th>Genre</th>\n",
       "      <th>Rating</th>\n",
       "    </tr>\n",
       "  </thead>\n",
       "  <tbody>\n",
       "    <tr>\n",
       "      <th>0</th>\n",
       "      <td>Anna Kendrick</td>\n",
       "      <td>Action</td>\n",
       "      <td>6.850000</td>\n",
       "    </tr>\n",
       "    <tr>\n",
       "      <th>1</th>\n",
       "      <td>Anna Kendrick</td>\n",
       "      <td>Adventure</td>\n",
       "      <td>6.166667</td>\n",
       "    </tr>\n",
       "    <tr>\n",
       "      <th>2</th>\n",
       "      <td>Anna Kendrick</td>\n",
       "      <td>Animation</td>\n",
       "      <td>6.500000</td>\n",
       "    </tr>\n",
       "    <tr>\n",
       "      <th>3</th>\n",
       "      <td>Anna Kendrick</td>\n",
       "      <td>Comedy</td>\n",
       "      <td>6.587500</td>\n",
       "    </tr>\n",
       "    <tr>\n",
       "      <th>4</th>\n",
       "      <td>Anna Kendrick</td>\n",
       "      <td>Crime</td>\n",
       "      <td>7.550000</td>\n",
       "    </tr>\n",
       "  </tbody>\n",
       "</table>\n",
       "</div>"
      ],
      "text/plain": [
       "           Actor      Genre    Rating\n",
       "0  Anna Kendrick     Action  6.850000\n",
       "1  Anna Kendrick  Adventure  6.166667\n",
       "2  Anna Kendrick  Animation  6.500000\n",
       "3  Anna Kendrick     Comedy  6.587500\n",
       "4  Anna Kendrick      Crime  7.550000"
      ]
     },
     "execution_count": 41,
     "metadata": {},
     "output_type": "execute_result"
    }
   ],
   "source": [
    "# aggregate the mean Rating over each genre for each actor\n",
    "df_genre_actor_agg = \\\n",
    "    df_genre_actor_common.groupby(['Actor', 'Genre']).agg({'Rating':'mean'}).reset_index()\n",
    "df_genre_actor_agg.head()"
   ]
  },
  {
   "cell_type": "code",
   "execution_count": 42,
   "metadata": {},
   "outputs": [
    {
     "data": {
      "text/html": [
       "<div>\n",
       "<style scoped>\n",
       "    .dataframe tbody tr th:only-of-type {\n",
       "        vertical-align: middle;\n",
       "    }\n",
       "\n",
       "    .dataframe tbody tr th {\n",
       "        vertical-align: top;\n",
       "    }\n",
       "\n",
       "    .dataframe thead th {\n",
       "        text-align: right;\n",
       "    }\n",
       "</style>\n",
       "<table border=\"1\" class=\"dataframe\">\n",
       "  <thead>\n",
       "    <tr style=\"text-align: right;\">\n",
       "      <th></th>\n",
       "      <th>Genre</th>\n",
       "      <th>Rating</th>\n",
       "    </tr>\n",
       "    <tr>\n",
       "      <th>Actor</th>\n",
       "      <th></th>\n",
       "      <th></th>\n",
       "    </tr>\n",
       "  </thead>\n",
       "  <tbody>\n",
       "    <tr>\n",
       "      <th>Anna Kendrick</th>\n",
       "      <td>Thriller</td>\n",
       "      <td>7.70</td>\n",
       "    </tr>\n",
       "    <tr>\n",
       "      <th>Anne Hathaway</th>\n",
       "      <td>Sci-Fi</td>\n",
       "      <td>8.60</td>\n",
       "    </tr>\n",
       "    <tr>\n",
       "      <th>Brad Pitt</th>\n",
       "      <td>History</td>\n",
       "      <td>8.10</td>\n",
       "    </tr>\n",
       "    <tr>\n",
       "      <th>Bradley Cooper</th>\n",
       "      <td>Romance</td>\n",
       "      <td>7.80</td>\n",
       "    </tr>\n",
       "    <tr>\n",
       "      <th>Cate Blanchett</th>\n",
       "      <td>Animation</td>\n",
       "      <td>7.90</td>\n",
       "    </tr>\n",
       "    <tr>\n",
       "      <th>Channing Tatum</th>\n",
       "      <td>Animation</td>\n",
       "      <td>7.30</td>\n",
       "    </tr>\n",
       "    <tr>\n",
       "      <th>Chloë Grace Moretz</th>\n",
       "      <td>Romance</td>\n",
       "      <td>7.70</td>\n",
       "    </tr>\n",
       "    <tr>\n",
       "      <th>Christian Bale</th>\n",
       "      <td>Mystery</td>\n",
       "      <td>8.50</td>\n",
       "    </tr>\n",
       "    <tr>\n",
       "      <th>Hugh Jackman</th>\n",
       "      <td>Mystery</td>\n",
       "      <td>8.30</td>\n",
       "    </tr>\n",
       "    <tr>\n",
       "      <th>Johnny Depp</th>\n",
       "      <td>Musical</td>\n",
       "      <td>7.40</td>\n",
       "    </tr>\n",
       "    <tr>\n",
       "      <th>Mark Wahlberg</th>\n",
       "      <td>Biography</td>\n",
       "      <td>7.65</td>\n",
       "    </tr>\n",
       "    <tr>\n",
       "      <th>Michael Fassbender</th>\n",
       "      <td>History</td>\n",
       "      <td>8.10</td>\n",
       "    </tr>\n",
       "    <tr>\n",
       "      <th>Robert Downey Jr.</th>\n",
       "      <td>History</td>\n",
       "      <td>7.70</td>\n",
       "    </tr>\n",
       "    <tr>\n",
       "      <th>Scarlett Johansson</th>\n",
       "      <td>Mystery</td>\n",
       "      <td>8.50</td>\n",
       "    </tr>\n",
       "    <tr>\n",
       "      <th>Tom Hardy</th>\n",
       "      <td>Sport</td>\n",
       "      <td>8.20</td>\n",
       "    </tr>\n",
       "  </tbody>\n",
       "</table>\n",
       "</div>"
      ],
      "text/plain": [
       "                        Genre  Rating\n",
       "Actor                                \n",
       "Anna Kendrick        Thriller    7.70\n",
       "Anne Hathaway          Sci-Fi    8.60\n",
       "Brad Pitt             History    8.10\n",
       "Bradley Cooper        Romance    7.80\n",
       "Cate Blanchett      Animation    7.90\n",
       "Channing Tatum      Animation    7.30\n",
       "Chloë Grace Moretz    Romance    7.70\n",
       "Christian Bale        Mystery    8.50\n",
       "Hugh Jackman          Mystery    8.30\n",
       "Johnny Depp           Musical    7.40\n",
       "Mark Wahlberg       Biography    7.65\n",
       "Michael Fassbender    History    8.10\n",
       "Robert Downey Jr.     History    7.70\n",
       "Scarlett Johansson    Mystery    8.50\n",
       "Tom Hardy               Sport    8.20"
      ]
     },
     "execution_count": 42,
     "metadata": {},
     "output_type": "execute_result"
    }
   ],
   "source": [
    "# sort and pick off the first one in the group (no ties)\n",
    "df3 = df_genre_actor_agg.sort_values(['Rating'], ascending=False)\n",
    "df3.groupby(['Actor']).first()"
   ]
  },
  {
   "cell_type": "code",
   "execution_count": 43,
   "metadata": {},
   "outputs": [
    {
     "data": {
      "text/html": [
       "<div>\n",
       "<style scoped>\n",
       "    .dataframe tbody tr th:only-of-type {\n",
       "        vertical-align: middle;\n",
       "    }\n",
       "\n",
       "    .dataframe tbody tr th {\n",
       "        vertical-align: top;\n",
       "    }\n",
       "\n",
       "    .dataframe thead th {\n",
       "        text-align: right;\n",
       "    }\n",
       "</style>\n",
       "<table border=\"1\" class=\"dataframe\">\n",
       "  <thead>\n",
       "    <tr style=\"text-align: right;\">\n",
       "      <th></th>\n",
       "      <th>Genre</th>\n",
       "      <th>Rating</th>\n",
       "    </tr>\n",
       "    <tr>\n",
       "      <th>Actor</th>\n",
       "      <th></th>\n",
       "      <th></th>\n",
       "    </tr>\n",
       "  </thead>\n",
       "  <tbody>\n",
       "    <tr>\n",
       "      <th>Anna Kendrick</th>\n",
       "      <td>Thriller</td>\n",
       "      <td>7.70</td>\n",
       "    </tr>\n",
       "    <tr>\n",
       "      <th>Anne Hathaway</th>\n",
       "      <td>Sci-Fi</td>\n",
       "      <td>8.60</td>\n",
       "    </tr>\n",
       "    <tr>\n",
       "      <th>Brad Pitt</th>\n",
       "      <td>History</td>\n",
       "      <td>8.10</td>\n",
       "    </tr>\n",
       "    <tr>\n",
       "      <th>Bradley Cooper</th>\n",
       "      <td>Romance</td>\n",
       "      <td>7.80</td>\n",
       "    </tr>\n",
       "    <tr>\n",
       "      <th>Cate Blanchett</th>\n",
       "      <td>Animation</td>\n",
       "      <td>7.90</td>\n",
       "    </tr>\n",
       "    <tr>\n",
       "      <th>Channing Tatum</th>\n",
       "      <td>Animation</td>\n",
       "      <td>7.30</td>\n",
       "    </tr>\n",
       "    <tr>\n",
       "      <th>Chloë Grace Moretz</th>\n",
       "      <td>Romance</td>\n",
       "      <td>7.70</td>\n",
       "    </tr>\n",
       "    <tr>\n",
       "      <th>Christian Bale</th>\n",
       "      <td>Mystery</td>\n",
       "      <td>8.50</td>\n",
       "    </tr>\n",
       "    <tr>\n",
       "      <th>Christian Bale</th>\n",
       "      <td>Sci-Fi</td>\n",
       "      <td>8.50</td>\n",
       "    </tr>\n",
       "    <tr>\n",
       "      <th>Hugh Jackman</th>\n",
       "      <td>Mystery</td>\n",
       "      <td>8.30</td>\n",
       "    </tr>\n",
       "    <tr>\n",
       "      <th>Johnny Depp</th>\n",
       "      <td>Music</td>\n",
       "      <td>7.40</td>\n",
       "    </tr>\n",
       "    <tr>\n",
       "      <th>Johnny Depp</th>\n",
       "      <td>Musical</td>\n",
       "      <td>7.40</td>\n",
       "    </tr>\n",
       "    <tr>\n",
       "      <th>Mark Wahlberg</th>\n",
       "      <td>Biography</td>\n",
       "      <td>7.65</td>\n",
       "    </tr>\n",
       "    <tr>\n",
       "      <th>Michael Fassbender</th>\n",
       "      <td>History</td>\n",
       "      <td>8.10</td>\n",
       "    </tr>\n",
       "    <tr>\n",
       "      <th>Robert Downey Jr.</th>\n",
       "      <td>History</td>\n",
       "      <td>7.70</td>\n",
       "    </tr>\n",
       "    <tr>\n",
       "      <th>Scarlett Johansson</th>\n",
       "      <td>Mystery</td>\n",
       "      <td>8.50</td>\n",
       "    </tr>\n",
       "    <tr>\n",
       "      <th>Tom Hardy</th>\n",
       "      <td>Sport</td>\n",
       "      <td>8.20</td>\n",
       "    </tr>\n",
       "  </tbody>\n",
       "</table>\n",
       "</div>"
      ],
      "text/plain": [
       "                        Genre  Rating\n",
       "Actor                                \n",
       "Anna Kendrick        Thriller    7.70\n",
       "Anne Hathaway          Sci-Fi    8.60\n",
       "Brad Pitt             History    8.10\n",
       "Bradley Cooper        Romance    7.80\n",
       "Cate Blanchett      Animation    7.90\n",
       "Channing Tatum      Animation    7.30\n",
       "Chloë Grace Moretz    Romance    7.70\n",
       "Christian Bale        Mystery    8.50\n",
       "Christian Bale         Sci-Fi    8.50\n",
       "Hugh Jackman          Mystery    8.30\n",
       "Johnny Depp             Music    7.40\n",
       "Johnny Depp           Musical    7.40\n",
       "Mark Wahlberg       Biography    7.65\n",
       "Michael Fassbender    History    8.10\n",
       "Robert Downey Jr.     History    7.70\n",
       "Scarlett Johansson    Mystery    8.50\n",
       "Tom Hardy               Sport    8.20"
      ]
     },
     "execution_count": 43,
     "metadata": {},
     "output_type": "execute_result"
    }
   ],
   "source": [
    "# same as above, but show ties\n",
    "criteria = df_genre_actor_agg.groupby(['Actor']).apply(lambda x: x['Rating'] == x['Rating'].max())\n",
    "df_genre_actor_agg[criteria.values].set_index('Actor')"
   ]
  },
  {
   "cell_type": "markdown",
   "metadata": {},
   "source": [
    "### Spot Check by Hand"
   ]
  },
  {
   "cell_type": "code",
   "execution_count": 62,
   "metadata": {},
   "outputs": [],
   "source": [
    "pitt_movies = movies['Actors'].str.contains('Brad Pitt')\n",
    "history_movies = movies['Genre'].str.contains('History')"
   ]
  },
  {
   "cell_type": "code",
   "execution_count": 63,
   "metadata": {},
   "outputs": [
    {
     "data": {
      "text/html": [
       "<div>\n",
       "<style scoped>\n",
       "    .dataframe tbody tr th:only-of-type {\n",
       "        vertical-align: middle;\n",
       "    }\n",
       "\n",
       "    .dataframe tbody tr th {\n",
       "        vertical-align: top;\n",
       "    }\n",
       "\n",
       "    .dataframe thead th {\n",
       "        text-align: right;\n",
       "    }\n",
       "</style>\n",
       "<table border=\"1\" class=\"dataframe\">\n",
       "  <thead>\n",
       "    <tr style=\"text-align: right;\">\n",
       "      <th></th>\n",
       "      <th>ID</th>\n",
       "      <th>Genre</th>\n",
       "      <th>Description</th>\n",
       "      <th>Director</th>\n",
       "      <th>Actors</th>\n",
       "      <th>Year</th>\n",
       "      <th>Runtime</th>\n",
       "      <th>Rating</th>\n",
       "      <th>Votes</th>\n",
       "      <th>Revenue</th>\n",
       "      <th>Metascore</th>\n",
       "    </tr>\n",
       "    <tr>\n",
       "      <th>Title</th>\n",
       "      <th></th>\n",
       "      <th></th>\n",
       "      <th></th>\n",
       "      <th></th>\n",
       "      <th></th>\n",
       "      <th></th>\n",
       "      <th></th>\n",
       "      <th></th>\n",
       "      <th></th>\n",
       "      <th></th>\n",
       "      <th></th>\n",
       "    </tr>\n",
       "  </thead>\n",
       "  <tbody>\n",
       "    <tr>\n",
       "      <th>12 Years a Slave</th>\n",
       "      <td>112</td>\n",
       "      <td>Biography,Drama,History</td>\n",
       "      <td>In the antebellum United States, Solomon North...</td>\n",
       "      <td>Steve McQueen</td>\n",
       "      <td>Chiwetel Ejiofor, Michael Kenneth Williams, Mi...</td>\n",
       "      <td>2013</td>\n",
       "      <td>134</td>\n",
       "      <td>8.1</td>\n",
       "      <td>486338</td>\n",
       "      <td>56.67</td>\n",
       "      <td>96.0</td>\n",
       "    </tr>\n",
       "  </tbody>\n",
       "</table>\n",
       "</div>"
      ],
      "text/plain": [
       "                   ID                    Genre  \\\n",
       "Title                                            \n",
       "12 Years a Slave  112  Biography,Drama,History   \n",
       "\n",
       "                                                        Description  \\\n",
       "Title                                                                 \n",
       "12 Years a Slave  In the antebellum United States, Solomon North...   \n",
       "\n",
       "                       Director  \\\n",
       "Title                             \n",
       "12 Years a Slave  Steve McQueen   \n",
       "\n",
       "                                                             Actors  Year  \\\n",
       "Title                                                                       \n",
       "12 Years a Slave  Chiwetel Ejiofor, Michael Kenneth Williams, Mi...  2013   \n",
       "\n",
       "                  Runtime  Rating   Votes  Revenue  Metascore  \n",
       "Title                                                          \n",
       "12 Years a Slave      134     8.1  486338    56.67       96.0  "
      ]
     },
     "execution_count": 63,
     "metadata": {},
     "output_type": "execute_result"
    }
   ],
   "source": [
    "pitt_history_movies = movies[pitt_movies & history_movies]\n",
    "pitt_history_movies"
   ]
  },
  {
   "cell_type": "code",
   "execution_count": 64,
   "metadata": {},
   "outputs": [
    {
     "data": {
      "text/plain": [
       "8.1"
      ]
     },
     "execution_count": 64,
     "metadata": {},
     "output_type": "execute_result"
    }
   ],
   "source": [
    "pitt_history_movies['Rating'].mean()"
   ]
  },
  {
   "cell_type": "code",
   "execution_count": 65,
   "metadata": {},
   "outputs": [
    {
     "data": {
      "text/html": [
       "<div>\n",
       "<style scoped>\n",
       "    .dataframe tbody tr th:only-of-type {\n",
       "        vertical-align: middle;\n",
       "    }\n",
       "\n",
       "    .dataframe tbody tr th {\n",
       "        vertical-align: top;\n",
       "    }\n",
       "\n",
       "    .dataframe thead th {\n",
       "        text-align: right;\n",
       "    }\n",
       "</style>\n",
       "<table border=\"1\" class=\"dataframe\">\n",
       "  <thead>\n",
       "    <tr style=\"text-align: right;\">\n",
       "      <th></th>\n",
       "      <th>Actor</th>\n",
       "      <th>Genre</th>\n",
       "      <th>Rating</th>\n",
       "    </tr>\n",
       "  </thead>\n",
       "  <tbody>\n",
       "    <tr>\n",
       "      <th>29</th>\n",
       "      <td>Brad Pitt</td>\n",
       "      <td>History</td>\n",
       "      <td>8.1</td>\n",
       "    </tr>\n",
       "  </tbody>\n",
       "</table>\n",
       "</div>"
      ],
      "text/plain": [
       "        Actor    Genre  Rating\n",
       "29  Brad Pitt  History     8.1"
      ]
     },
     "execution_count": 65,
     "metadata": {},
     "output_type": "execute_result"
    }
   ],
   "source": [
    "df3[(df3['Actor'] == 'Brad Pitt') & (df3['Genre'] == 'History')]"
   ]
  },
  {
   "cell_type": "code",
   "execution_count": 66,
   "metadata": {},
   "outputs": [
    {
     "data": {
      "text/html": [
       "<div>\n",
       "<style scoped>\n",
       "    .dataframe tbody tr th:only-of-type {\n",
       "        vertical-align: middle;\n",
       "    }\n",
       "\n",
       "    .dataframe tbody tr th {\n",
       "        vertical-align: top;\n",
       "    }\n",
       "\n",
       "    .dataframe thead th {\n",
       "        text-align: right;\n",
       "    }\n",
       "</style>\n",
       "<table border=\"1\" class=\"dataframe\">\n",
       "  <thead>\n",
       "    <tr style=\"text-align: right;\">\n",
       "      <th></th>\n",
       "      <th>ID</th>\n",
       "      <th>Genre</th>\n",
       "      <th>Description</th>\n",
       "      <th>Director</th>\n",
       "      <th>Actors</th>\n",
       "      <th>Year</th>\n",
       "      <th>Runtime</th>\n",
       "      <th>Rating</th>\n",
       "      <th>Votes</th>\n",
       "      <th>Revenue</th>\n",
       "      <th>Metascore</th>\n",
       "    </tr>\n",
       "    <tr>\n",
       "      <th>Title</th>\n",
       "      <th></th>\n",
       "      <th></th>\n",
       "      <th></th>\n",
       "      <th></th>\n",
       "      <th></th>\n",
       "      <th></th>\n",
       "      <th></th>\n",
       "      <th></th>\n",
       "      <th></th>\n",
       "      <th></th>\n",
       "      <th></th>\n",
       "    </tr>\n",
       "  </thead>\n",
       "  <tbody>\n",
       "    <tr>\n",
       "      <th>Inglourious Basterds</th>\n",
       "      <td>78</td>\n",
       "      <td>Adventure,Drama,War</td>\n",
       "      <td>In Nazi-occupied France during World War II, a...</td>\n",
       "      <td>Quentin Tarantino</td>\n",
       "      <td>Brad Pitt, Diane Kruger, Eli Roth,Mélanie Laurent</td>\n",
       "      <td>2009</td>\n",
       "      <td>153</td>\n",
       "      <td>8.3</td>\n",
       "      <td>959065</td>\n",
       "      <td>120.52</td>\n",
       "      <td>69.0</td>\n",
       "    </tr>\n",
       "    <tr>\n",
       "      <th>Fury</th>\n",
       "      <td>241</td>\n",
       "      <td>Action,Drama,War</td>\n",
       "      <td>A grizzled tank commander makes tough decision...</td>\n",
       "      <td>David Ayer</td>\n",
       "      <td>Brad Pitt, Shia LaBeouf, Logan Lerman, Michael...</td>\n",
       "      <td>2014</td>\n",
       "      <td>134</td>\n",
       "      <td>7.6</td>\n",
       "      <td>332234</td>\n",
       "      <td>85.71</td>\n",
       "      <td>64.0</td>\n",
       "    </tr>\n",
       "  </tbody>\n",
       "</table>\n",
       "</div>"
      ],
      "text/plain": [
       "                       ID                Genre  \\\n",
       "Title                                            \n",
       "Inglourious Basterds   78  Adventure,Drama,War   \n",
       "Fury                  241     Action,Drama,War   \n",
       "\n",
       "                                                            Description  \\\n",
       "Title                                                                     \n",
       "Inglourious Basterds  In Nazi-occupied France during World War II, a...   \n",
       "Fury                  A grizzled tank commander makes tough decision...   \n",
       "\n",
       "                               Director  \\\n",
       "Title                                     \n",
       "Inglourious Basterds  Quentin Tarantino   \n",
       "Fury                         David Ayer   \n",
       "\n",
       "                                                                 Actors  Year  \\\n",
       "Title                                                                           \n",
       "Inglourious Basterds  Brad Pitt, Diane Kruger, Eli Roth,Mélanie Laurent  2009   \n",
       "Fury                  Brad Pitt, Shia LaBeouf, Logan Lerman, Michael...  2014   \n",
       "\n",
       "                      Runtime  Rating   Votes  Revenue  Metascore  \n",
       "Title                                                              \n",
       "Inglourious Basterds      153     8.3  959065   120.52       69.0  \n",
       "Fury                      134     7.6  332234    85.71       64.0  "
      ]
     },
     "execution_count": 66,
     "metadata": {},
     "output_type": "execute_result"
    }
   ],
   "source": [
    "war_movies = movies['Genre'].str.contains('War')\n",
    "pitt_war_movies = movies[pitt_movies & war_movies]\n",
    "pitt_war_movies"
   ]
  },
  {
   "cell_type": "code",
   "execution_count": 67,
   "metadata": {},
   "outputs": [
    {
     "data": {
      "text/plain": [
       "7.95"
      ]
     },
     "execution_count": 67,
     "metadata": {},
     "output_type": "execute_result"
    }
   ],
   "source": [
    "pitt_war_movies['Rating'].mean()"
   ]
  },
  {
   "cell_type": "code",
   "execution_count": 68,
   "metadata": {},
   "outputs": [
    {
     "data": {
      "text/html": [
       "<div>\n",
       "<style scoped>\n",
       "    .dataframe tbody tr th:only-of-type {\n",
       "        vertical-align: middle;\n",
       "    }\n",
       "\n",
       "    .dataframe tbody tr th {\n",
       "        vertical-align: top;\n",
       "    }\n",
       "\n",
       "    .dataframe thead th {\n",
       "        text-align: right;\n",
       "    }\n",
       "</style>\n",
       "<table border=\"1\" class=\"dataframe\">\n",
       "  <thead>\n",
       "    <tr style=\"text-align: right;\">\n",
       "      <th></th>\n",
       "      <th>Actor</th>\n",
       "      <th>Genre</th>\n",
       "      <th>Rating</th>\n",
       "    </tr>\n",
       "  </thead>\n",
       "  <tbody>\n",
       "    <tr>\n",
       "      <th>34</th>\n",
       "      <td>Brad Pitt</td>\n",
       "      <td>War</td>\n",
       "      <td>7.95</td>\n",
       "    </tr>\n",
       "  </tbody>\n",
       "</table>\n",
       "</div>"
      ],
      "text/plain": [
       "        Actor Genre  Rating\n",
       "34  Brad Pitt   War    7.95"
      ]
     },
     "execution_count": 68,
     "metadata": {},
     "output_type": "execute_result"
    }
   ],
   "source": [
    "df3[(df3['Actor'] == 'Brad Pitt') & (df3['Genre'] == 'War')]"
   ]
  },
  {
   "cell_type": "code",
   "execution_count": 69,
   "metadata": {},
   "outputs": [
    {
     "data": {
      "text/html": [
       "<div>\n",
       "<style scoped>\n",
       "    .dataframe tbody tr th:only-of-type {\n",
       "        vertical-align: middle;\n",
       "    }\n",
       "\n",
       "    .dataframe tbody tr th {\n",
       "        vertical-align: top;\n",
       "    }\n",
       "\n",
       "    .dataframe thead th {\n",
       "        text-align: right;\n",
       "    }\n",
       "</style>\n",
       "<table border=\"1\" class=\"dataframe\">\n",
       "  <thead>\n",
       "    <tr style=\"text-align: right;\">\n",
       "      <th></th>\n",
       "      <th>Actor</th>\n",
       "      <th>Genre</th>\n",
       "      <th>Rating</th>\n",
       "    </tr>\n",
       "  </thead>\n",
       "  <tbody>\n",
       "    <tr>\n",
       "      <th>29</th>\n",
       "      <td>Brad Pitt</td>\n",
       "      <td>History</td>\n",
       "      <td>8.10</td>\n",
       "    </tr>\n",
       "    <tr>\n",
       "      <th>34</th>\n",
       "      <td>Brad Pitt</td>\n",
       "      <td>War</td>\n",
       "      <td>7.95</td>\n",
       "    </tr>\n",
       "    <tr>\n",
       "      <th>24</th>\n",
       "      <td>Brad Pitt</td>\n",
       "      <td>Biography</td>\n",
       "      <td>7.75</td>\n",
       "    </tr>\n",
       "    <tr>\n",
       "      <th>22</th>\n",
       "      <td>Brad Pitt</td>\n",
       "      <td>Adventure</td>\n",
       "      <td>7.65</td>\n",
       "    </tr>\n",
       "    <tr>\n",
       "      <th>27</th>\n",
       "      <td>Brad Pitt</td>\n",
       "      <td>Drama</td>\n",
       "      <td>7.61</td>\n",
       "    </tr>\n",
       "  </tbody>\n",
       "</table>\n",
       "</div>"
      ],
      "text/plain": [
       "        Actor      Genre  Rating\n",
       "29  Brad Pitt    History    8.10\n",
       "34  Brad Pitt        War    7.95\n",
       "24  Brad Pitt  Biography    7.75\n",
       "22  Brad Pitt  Adventure    7.65\n",
       "27  Brad Pitt      Drama    7.61"
      ]
     },
     "execution_count": 69,
     "metadata": {},
     "output_type": "execute_result"
    }
   ],
   "source": [
    "df3[df3['Actor'] == 'Brad Pitt'].nlargest(n=5, columns=['Rating'])"
   ]
  }
 ],
 "metadata": {
  "kernelspec": {
   "display_name": "Python 3",
   "language": "python",
   "name": "python3"
  },
  "language_info": {
   "codemirror_mode": {
    "name": "ipython",
    "version": 3
   },
   "file_extension": ".py",
   "mimetype": "text/x-python",
   "name": "python",
   "nbconvert_exporter": "python",
   "pygments_lexer": "ipython3",
   "version": "3.7.2"
  }
 },
 "nbformat": 4,
 "nbformat_minor": 2
}
