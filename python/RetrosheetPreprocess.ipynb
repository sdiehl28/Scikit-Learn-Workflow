{
 "cells": [
  {
   "cell_type": "markdown",
   "metadata": {
    "toc-hr-collapsed": false
   },
   "source": [
    "# Retrosheet Baseball Data: Download & Parse\n",
    "\n",
    "In this Jupyter notebook, data will be prepared for easy analysis with Pandas or with SQL against a database.\n",
    "\n",
    "The two most popular open source Baseball Data Sources are:  \n",
    "Lahman:  http://www.seanlahman.com/resources/  \n",
    "Retrosheet:  https://www.retrosheet.org/site.htm\n",
    "\n",
    "Lahman has data about each player summarized by year.  Retrosheet has data at the play-by-play level (called \"event data\").\n",
    "\n",
    "The Retrosheet play-by-play data will be downloaded and parsed into daily game data:  \n",
    "https://www.retrosheet.org/game.htm  \n",
    "\n",
    "The only open-source parsers available for Retrosheet are by Dr. T. L. Turocy:  \n",
    "Description: http://chadwick.sourceforge.net/doc/index.html  \n",
    "Source:  https://sourceforge.net/projects/chadwick/"
   ]
  },
  {
   "cell_type": "markdown",
   "metadata": {},
   "source": [
    "## Data Wrangling\n",
    "\n",
    "Preparing data for data analysis or machine learning is called \"Data Wrangling\".  An older term is \"Data Preprocessing\".\n",
    "\n",
    "The Retrosheet event data includes every play for every major league game since 1921. \n",
    "A subset of that data will be used here.\n",
    "\n",
    "Data Wrangling will include:\n",
    "1. Parsing and manipulating player per game from event files.\n",
    "2. Parsing and manipulating game data from event files.\n",
    "3. Creating \"lookup tables\" by web scraping.\n",
    "4. Creating data dictionaries (aka codebooks) from scraping Dr. Turocy's C source code.\n",
    "\n",
    "At the end of the data wrangling, 6 DataFrames will exist:\n",
    "1. **player_game:** player per game stats \n",
    "2. **player_game_fields:** player_game field descriptions\n",
    "3. **game:** game stats\n",
    "4. **game_fields:** game field descriptions\n",
    "5. **players:** player info\n",
    "6. **stadiums:** stadium info\n",
    "\n",
    "The above 6 dataframes will be persisted for use with other notebooks."
   ]
  },
  {
   "cell_type": "markdown",
   "metadata": {
    "toc-hr-collapsed": false
   },
   "source": [
    "## Repeatable Research\n",
    "All data processing should be documented so that others can repeat the results.\n",
    "\n",
    "This notebook documents all preprocessing steps taken with the data available from Retrosheet.\n",
    "\n",
    "Retrosheet licenses their data using the GPL:  \n",
    "https://www.gnu.org/licenses/gpl.html"
   ]
  },
  {
   "cell_type": "markdown",
   "metadata": {
    "toc-hr-collapsed": true
   },
   "source": [
    "## Download and Unpack Retrosheet Data\n",
    "\n",
    "The event data will be downloaded.  The data is zipped ascii text with filenames:\n",
    "http://www.retrosheet.org/events/{year}eve.zip'\n",
    "\n",
    "There are many ways to download files in Python.  For a simple binary file download, wget may be the easiest."
   ]
  },
  {
   "cell_type": "markdown",
   "metadata": {},
   "source": [
    "### Create Directories\n",
    "* ~/data/retrosheet/raw  \n",
    "* ~/data/retrosheet/processed  "
   ]
  },
  {
   "cell_type": "code",
   "execution_count": 1,
   "metadata": {},
   "outputs": [],
   "source": [
    "import os\n",
    "import re\n",
    "import wget\n",
    "from pathlib import Path\n",
    "import zipfile"
   ]
  },
  {
   "cell_type": "code",
   "execution_count": 2,
   "metadata": {},
   "outputs": [],
   "source": [
    "# create path objects\n",
    "home = Path.home()\n",
    "retrosheet = home.joinpath('data/retrosheet')\n",
    "p_raw = retrosheet.joinpath('raw')\n",
    "p_processed = retrosheet.joinpath('processed')\n",
    "\n",
    "# create directories from these path objects\n",
    "p_raw.mkdir(parents=True, exist_ok=True)\n",
    "p_processed.mkdir(parents=True, exist_ok=True)"
   ]
  },
  {
   "cell_type": "markdown",
   "metadata": {},
   "source": [
    "### Download and Unzip the Event Data\n",
    "Data is available from 1921 to present.\n",
    "\n",
    "Here, data from 1950 through 2018 will be downloaded and unzipped.\n",
    "\n",
    "This will result in a (temporary) 2+ Gig Pandas DataFrame, so chose more or less years as appropriate for your computer's resources."
   ]
  },
  {
   "cell_type": "code",
   "execution_count": 3,
   "metadata": {},
   "outputs": [],
   "source": [
    "# change to raw file directory\n",
    "os.chdir(p_raw)\n",
    "\n",
    "for year in range(1950,2019):   \n",
    "    # download each file, if it doesn't exist\n",
    "    filename = f'{year}eve.zip'\n",
    "    path = Path(filename)\n",
    "    if not path.exists():\n",
    "        url = f'http://www.retrosheet.org/events/{year}eve.zip'\n",
    "        wget.download(url)\n",
    "    \n",
    "    # unzip each zip file, if its contents don't exist\n",
    "    # {year}BOS.EVA is in all zip files\n",
    "    filename = f'{year}BOS.EVA'\n",
    "    path = Path(filename)\n",
    "    if not path.exists():\n",
    "        filename = f'{year}eve.zip'\n",
    "        with zipfile.ZipFile(filename, \"r\") as zip_ref:\n",
    "            zip_ref.extractall(\".\")"
   ]
  },
  {
   "cell_type": "markdown",
   "metadata": {},
   "source": [
    "### Unzipped Data File Types\n",
    "The unzipped data consists of 3 types of files:\n",
    "1. *.EVA and *.EVN -- these are American League and National League event files per team per year\n",
    "2. *.ROS -- these are the rosters per team per year\n",
    "3. TEAM* -- the MBL teams in existence per year"
   ]
  },
  {
   "cell_type": "markdown",
   "metadata": {
    "toc-hr-collapsed": true
   },
   "source": [
    "## 1. Parse Event Data for Player per Game Statistics\n",
    "\n",
    "The event data is in a format that is very difficult to work with.  There is one open-source project which has parsers for the Retrosheet event data.  This project has 6 parsers.  Each of these parsers is fed event data and produces csv or XML or text output.\n",
    "\n",
    "The two parsers that are of interest for this study are:\n",
    "1. cwdaily\n",
    "2. cwgame\n",
    "\n",
    "The cwbox parser produces a box score in the form MLB fans are accustomed to seeing (or it can produce XML with appropriate tags).  This is exactly the same information as is produced by cwdaily, however cwdaily formats the data as one line per player per game, which is much easier to work with.\n",
    "\n",
    "The Retrosheet data parser tools are described at:  \n",
    "http://chadwick.sourceforge.net/doc/index.html  \n",
    "  \n",
    "They are distributed under the GPL:  \n",
    "https://www.gnu.org/licenses/gpl.html  \n",
    "\n",
    "Note: as of February 2019, the cwdaily parser, published in July 2018, is not described on the above webpage."
   ]
  },
  {
   "cell_type": "markdown",
   "metadata": {},
   "source": [
    "### Build Chadwick Parsers on Linux\n",
    "Go To:  \n",
    "https://sourceforge.net/projects/chadwick/  \n",
    "Download the source code for version 0.7.1 or later, and optionally download the Windows binaries.\n",
    "\n",
    "If you do not already have a build environment:\n",
    "1. sudo apt install gcc\n",
    "2. sudo apt install build-essential\n",
    "\n",
    "cd to the source directory:\n",
    "1. ./configure\n",
    "2. make\n",
    "3. make install  # or: sudo make install  \n",
    "\n",
    "The cw command line tools will be installed in /usr/local/bin.  \n",
    "The cw library will be installed in /usr/local/lib.  \n",
    "To allow the command line tools to find the library, add the following to your .bashrc and source .bashrc  \n",
    "export LD_LIBRARY_PATH=${LD_LIBRARY_PATH}:/usr/local/lib  "
   ]
  },
  {
   "cell_type": "markdown",
   "metadata": {},
   "source": [
    "### Or Run Windows Binaries\n",
    "If you prefer to use the prebuilt windows binaries:  \n",
    "Install wine: https://wiki.winehq.org/Ubuntu  \n",
    "Before first use of wine: run winecfg in a terminal\n",
    "\n",
    "You could also run the windows binaries on a Windows VM (if you own a Windows license)."
   ]
  },
  {
   "cell_type": "markdown",
   "metadata": {
    "toc-hr-collapsed": false
   },
   "source": [
    "### Data Wrangling Scripting\n",
    "As part of the initial data processing pipeline, Data Wrangling is often performed using shell scripts or Python scripts.\n",
    "\n",
    "Here each preprocessing step will be documented as a Jupyter Notebook Cell using Python."
   ]
  },
  {
   "cell_type": "code",
   "execution_count": 4,
   "metadata": {},
   "outputs": [
    {
     "data": {
      "text/plain": [
       "['/usr/local/bin/cwbox',\n",
       " '/usr/local/bin/cwcomment',\n",
       " '/usr/local/bin/cwdaily',\n",
       " '/usr/local/bin/cwevent',\n",
       " '/usr/local/bin/cwgame',\n",
       " '/usr/local/bin/cwsub']"
      ]
     },
     "execution_count": 4,
     "metadata": {},
     "output_type": "execute_result"
    }
   ],
   "source": [
    "# subprocess example\n",
    "# prefer to invoke bash directly with shell=False\n",
    "import subprocess\n",
    "\n",
    "# List the 6 parsers that were built and installed from source\n",
    "result = subprocess.run([\"/bin/bash\", \"-c\", \"ls /usr/local/bin/cw*\"], shell=False, \n",
    "                        text=True, capture_output=True)\n",
    "result.stdout.splitlines()"
   ]
  },
  {
   "cell_type": "code",
   "execution_count": 5,
   "metadata": {},
   "outputs": [],
   "source": [
    "# if you are running windows binaries under Linux, \n",
    "# prepend 'wine ' to the cmd string below\n",
    "def process_cwdaily(year):\n",
    "    \"\"\"Parse yearly event data into 52 fields of player-game data per year.\n",
    "    \n",
    "    There are a total of 117 fields to chose from, the first 52 are selected.\n",
    "    \"\"\"\n",
    "    cmd = f'cwdaily -f 0-51 -n -y {year} {year}*.EV*'\n",
    "    args = [\"/bin/bash\", \"-c\", cmd]\n",
    "    out = f'../processed/daily{year}.csv'\n",
    "    with open(out, \"w\") as outfile:\n",
    "        result = subprocess.run(args, stdout=outfile)"
   ]
  },
  {
   "cell_type": "code",
   "execution_count": 6,
   "metadata": {},
   "outputs": [],
   "source": [
    "# change to raw file directory\n",
    "os.chdir(p_raw)"
   ]
  },
  {
   "cell_type": "code",
   "execution_count": null,
   "metadata": {},
   "outputs": [],
   "source": [
    "# parse each year of event data\n",
    "for year in range(1950, 2019):\n",
    "    process_cwdaily(year)"
   ]
  },
  {
   "cell_type": "code",
   "execution_count": 7,
   "metadata": {},
   "outputs": [],
   "source": [
    "# collect all the parsed files into a single pandas dataframe\n",
    "import glob\n",
    "import pandas as pd\n",
    "import numpy as np\n",
    "os.chdir(p_processed)\n",
    "dailyfiles = glob.glob('daily*.csv')\n",
    "dailyfiles.sort()\n",
    "\n",
    "dfs = []\n",
    "for file in dailyfiles:\n",
    "    dfs.append(pd.read_csv(file, parse_dates=['GAME_DT', 'APPEAR_DT']))\n",
    "player_game = pd.concat(dfs)"
   ]
  },
  {
   "cell_type": "code",
   "execution_count": 8,
   "metadata": {},
   "outputs": [
    {
     "data": {
      "text/plain": [
       "RangeIndex(start=0, stop=3688067, step=1)"
      ]
     },
     "execution_count": 8,
     "metadata": {},
     "output_type": "execute_result"
    }
   ],
   "source": [
    "# after concatentation, reset the index\n",
    "player_game = player_game.reset_index(drop=True)\n",
    "player_game.index"
   ]
  },
  {
   "cell_type": "code",
   "execution_count": 9,
   "metadata": {},
   "outputs": [
    {
     "data": {
      "text/html": [
       "<div>\n",
       "<style scoped>\n",
       "    .dataframe tbody tr th:only-of-type {\n",
       "        vertical-align: middle;\n",
       "    }\n",
       "\n",
       "    .dataframe tbody tr th {\n",
       "        vertical-align: top;\n",
       "    }\n",
       "\n",
       "    .dataframe thead th {\n",
       "        text-align: right;\n",
       "    }\n",
       "</style>\n",
       "<table border=\"1\" class=\"dataframe\">\n",
       "  <thead>\n",
       "    <tr style=\"text-align: right;\">\n",
       "      <th></th>\n",
       "      <th>GAME_ID</th>\n",
       "      <th>GAME_DT</th>\n",
       "      <th>GAME_CT</th>\n",
       "      <th>APPEAR_DT</th>\n",
       "      <th>TEAM_ID</th>\n",
       "      <th>PLAYER_ID</th>\n",
       "      <th>B_G</th>\n",
       "      <th>B_PA</th>\n",
       "      <th>B_AB</th>\n",
       "      <th>B_R</th>\n",
       "      <th>...</th>\n",
       "      <th>P_BB</th>\n",
       "      <th>P_IBB</th>\n",
       "      <th>P_SO</th>\n",
       "      <th>P_GDP</th>\n",
       "      <th>P_HP</th>\n",
       "      <th>P_SH</th>\n",
       "      <th>P_SF</th>\n",
       "      <th>P_XI</th>\n",
       "      <th>P_WP</th>\n",
       "      <th>P_BK</th>\n",
       "    </tr>\n",
       "  </thead>\n",
       "  <tbody>\n",
       "    <tr>\n",
       "      <th>0</th>\n",
       "      <td>BOS195004180</td>\n",
       "      <td>1950-04-18</td>\n",
       "      <td>0</td>\n",
       "      <td>1950-04-18</td>\n",
       "      <td>NYA</td>\n",
       "      <td>rizzp101</td>\n",
       "      <td>1</td>\n",
       "      <td>6</td>\n",
       "      <td>4</td>\n",
       "      <td>1</td>\n",
       "      <td>...</td>\n",
       "      <td>0</td>\n",
       "      <td>0</td>\n",
       "      <td>0</td>\n",
       "      <td>0</td>\n",
       "      <td>0</td>\n",
       "      <td>0</td>\n",
       "      <td>0</td>\n",
       "      <td>0</td>\n",
       "      <td>0</td>\n",
       "      <td>0</td>\n",
       "    </tr>\n",
       "    <tr>\n",
       "      <th>1</th>\n",
       "      <td>BOS195004180</td>\n",
       "      <td>1950-04-18</td>\n",
       "      <td>0</td>\n",
       "      <td>1950-04-18</td>\n",
       "      <td>NYA</td>\n",
       "      <td>henrt101</td>\n",
       "      <td>1</td>\n",
       "      <td>6</td>\n",
       "      <td>6</td>\n",
       "      <td>2</td>\n",
       "      <td>...</td>\n",
       "      <td>0</td>\n",
       "      <td>0</td>\n",
       "      <td>0</td>\n",
       "      <td>0</td>\n",
       "      <td>0</td>\n",
       "      <td>0</td>\n",
       "      <td>0</td>\n",
       "      <td>0</td>\n",
       "      <td>0</td>\n",
       "      <td>0</td>\n",
       "    </tr>\n",
       "    <tr>\n",
       "      <th>2</th>\n",
       "      <td>BOS195004180</td>\n",
       "      <td>1950-04-18</td>\n",
       "      <td>0</td>\n",
       "      <td>1950-04-18</td>\n",
       "      <td>NYA</td>\n",
       "      <td>baueh101</td>\n",
       "      <td>1</td>\n",
       "      <td>4</td>\n",
       "      <td>4</td>\n",
       "      <td>1</td>\n",
       "      <td>...</td>\n",
       "      <td>0</td>\n",
       "      <td>0</td>\n",
       "      <td>0</td>\n",
       "      <td>0</td>\n",
       "      <td>0</td>\n",
       "      <td>0</td>\n",
       "      <td>0</td>\n",
       "      <td>0</td>\n",
       "      <td>0</td>\n",
       "      <td>0</td>\n",
       "    </tr>\n",
       "    <tr>\n",
       "      <th>3</th>\n",
       "      <td>BOS195004180</td>\n",
       "      <td>1950-04-18</td>\n",
       "      <td>0</td>\n",
       "      <td>1950-04-18</td>\n",
       "      <td>NYA</td>\n",
       "      <td>woodg101</td>\n",
       "      <td>1</td>\n",
       "      <td>1</td>\n",
       "      <td>0</td>\n",
       "      <td>1</td>\n",
       "      <td>...</td>\n",
       "      <td>0</td>\n",
       "      <td>0</td>\n",
       "      <td>0</td>\n",
       "      <td>0</td>\n",
       "      <td>0</td>\n",
       "      <td>0</td>\n",
       "      <td>0</td>\n",
       "      <td>0</td>\n",
       "      <td>0</td>\n",
       "      <td>0</td>\n",
       "    </tr>\n",
       "    <tr>\n",
       "      <th>4</th>\n",
       "      <td>BOS195004180</td>\n",
       "      <td>1950-04-18</td>\n",
       "      <td>0</td>\n",
       "      <td>1950-04-18</td>\n",
       "      <td>NYA</td>\n",
       "      <td>mapec101</td>\n",
       "      <td>1</td>\n",
       "      <td>1</td>\n",
       "      <td>0</td>\n",
       "      <td>0</td>\n",
       "      <td>...</td>\n",
       "      <td>0</td>\n",
       "      <td>0</td>\n",
       "      <td>0</td>\n",
       "      <td>0</td>\n",
       "      <td>0</td>\n",
       "      <td>0</td>\n",
       "      <td>0</td>\n",
       "      <td>0</td>\n",
       "      <td>0</td>\n",
       "      <td>0</td>\n",
       "    </tr>\n",
       "  </tbody>\n",
       "</table>\n",
       "<p>5 rows × 52 columns</p>\n",
       "</div>"
      ],
      "text/plain": [
       "        GAME_ID    GAME_DT  GAME_CT  APPEAR_DT TEAM_ID PLAYER_ID  B_G  B_PA  \\\n",
       "0  BOS195004180 1950-04-18        0 1950-04-18     NYA  rizzp101    1     6   \n",
       "1  BOS195004180 1950-04-18        0 1950-04-18     NYA  henrt101    1     6   \n",
       "2  BOS195004180 1950-04-18        0 1950-04-18     NYA  baueh101    1     4   \n",
       "3  BOS195004180 1950-04-18        0 1950-04-18     NYA  woodg101    1     1   \n",
       "4  BOS195004180 1950-04-18        0 1950-04-18     NYA  mapec101    1     1   \n",
       "\n",
       "   B_AB  B_R  ...  P_BB  P_IBB  P_SO  P_GDP  P_HP  P_SH  P_SF  P_XI  P_WP  \\\n",
       "0     4    1  ...     0      0     0      0     0     0     0     0     0   \n",
       "1     6    2  ...     0      0     0      0     0     0     0     0     0   \n",
       "2     4    1  ...     0      0     0      0     0     0     0     0     0   \n",
       "3     0    1  ...     0      0     0      0     0     0     0     0     0   \n",
       "4     0    0  ...     0      0     0      0     0     0     0     0     0   \n",
       "\n",
       "   P_BK  \n",
       "0     0  \n",
       "1     0  \n",
       "2     0  \n",
       "3     0  \n",
       "4     0  \n",
       "\n",
       "[5 rows x 52 columns]"
      ]
     },
     "execution_count": 9,
     "metadata": {},
     "output_type": "execute_result"
    }
   ],
   "source": [
    "player_game.head()"
   ]
  },
  {
   "cell_type": "code",
   "execution_count": 10,
   "metadata": {},
   "outputs": [
    {
     "data": {
      "text/plain": [
       "True"
      ]
     },
     "execution_count": 10,
     "metadata": {},
     "output_type": "execute_result"
    }
   ],
   "source": [
    "# a player always appears on the same date as the game is played\n",
    "(player_game['GAME_DT'] == player_game['APPEAR_DT']).all()"
   ]
  },
  {
   "cell_type": "code",
   "execution_count": 11,
   "metadata": {},
   "outputs": [],
   "source": [
    "player_game.drop('APPEAR_DT', axis=1, inplace=True)"
   ]
  },
  {
   "cell_type": "code",
   "execution_count": 12,
   "metadata": {},
   "outputs": [
    {
     "data": {
      "text/html": [
       "<div>\n",
       "<style scoped>\n",
       "    .dataframe tbody tr th:only-of-type {\n",
       "        vertical-align: middle;\n",
       "    }\n",
       "\n",
       "    .dataframe tbody tr th {\n",
       "        vertical-align: top;\n",
       "    }\n",
       "\n",
       "    .dataframe thead th {\n",
       "        text-align: right;\n",
       "    }\n",
       "</style>\n",
       "<table border=\"1\" class=\"dataframe\">\n",
       "  <thead>\n",
       "    <tr style=\"text-align: right;\">\n",
       "      <th></th>\n",
       "      <th>GAME_ID</th>\n",
       "      <th>GAME_DT</th>\n",
       "      <th>GAME_CT</th>\n",
       "      <th>TEAM_ID</th>\n",
       "      <th>PLAYER_ID</th>\n",
       "      <th>B_G</th>\n",
       "      <th>B_PA</th>\n",
       "      <th>B_AB</th>\n",
       "      <th>B_R</th>\n",
       "      <th>B_H</th>\n",
       "      <th>...</th>\n",
       "      <th>P_BB</th>\n",
       "      <th>P_IBB</th>\n",
       "      <th>P_SO</th>\n",
       "      <th>P_GDP</th>\n",
       "      <th>P_HP</th>\n",
       "      <th>P_SH</th>\n",
       "      <th>P_SF</th>\n",
       "      <th>P_XI</th>\n",
       "      <th>P_WP</th>\n",
       "      <th>P_BK</th>\n",
       "    </tr>\n",
       "  </thead>\n",
       "  <tbody>\n",
       "    <tr>\n",
       "      <th>3557003</th>\n",
       "      <td>BOS201708250</td>\n",
       "      <td>2017-08-25</td>\n",
       "      <td>0</td>\n",
       "      <td>BOS</td>\n",
       "      <td>younc004</td>\n",
       "      <td>1</td>\n",
       "      <td>3</td>\n",
       "      <td>3</td>\n",
       "      <td>0</td>\n",
       "      <td>1</td>\n",
       "      <td>...</td>\n",
       "      <td>0</td>\n",
       "      <td>0</td>\n",
       "      <td>0</td>\n",
       "      <td>0</td>\n",
       "      <td>0</td>\n",
       "      <td>0</td>\n",
       "      <td>0</td>\n",
       "      <td>0</td>\n",
       "      <td>0</td>\n",
       "      <td>0</td>\n",
       "    </tr>\n",
       "    <tr>\n",
       "      <th>3557005</th>\n",
       "      <td>BOS201708250</td>\n",
       "      <td>2017-08-25</td>\n",
       "      <td>0</td>\n",
       "      <td>BOS</td>\n",
       "      <td>younc004</td>\n",
       "      <td>1</td>\n",
       "      <td>1</td>\n",
       "      <td>1</td>\n",
       "      <td>0</td>\n",
       "      <td>1</td>\n",
       "      <td>...</td>\n",
       "      <td>0</td>\n",
       "      <td>0</td>\n",
       "      <td>0</td>\n",
       "      <td>0</td>\n",
       "      <td>0</td>\n",
       "      <td>0</td>\n",
       "      <td>0</td>\n",
       "      <td>0</td>\n",
       "      <td>0</td>\n",
       "      <td>0</td>\n",
       "    </tr>\n",
       "  </tbody>\n",
       "</table>\n",
       "<p>2 rows × 51 columns</p>\n",
       "</div>"
      ],
      "text/plain": [
       "              GAME_ID    GAME_DT  GAME_CT TEAM_ID PLAYER_ID  B_G  B_PA  B_AB  \\\n",
       "3557003  BOS201708250 2017-08-25        0     BOS  younc004    1     3     3   \n",
       "3557005  BOS201708250 2017-08-25        0     BOS  younc004    1     1     1   \n",
       "\n",
       "         B_R  B_H  ...  P_BB  P_IBB  P_SO  P_GDP  P_HP  P_SH  P_SF  P_XI  \\\n",
       "3557003    0    1  ...     0      0     0      0     0     0     0     0   \n",
       "3557005    0    1  ...     0      0     0      0     0     0     0     0   \n",
       "\n",
       "         P_WP  P_BK  \n",
       "3557003     0     0  \n",
       "3557005     0     0  \n",
       "\n",
       "[2 rows x 51 columns]"
      ]
     },
     "execution_count": 12,
     "metadata": {},
     "output_type": "execute_result"
    }
   ],
   "source": [
    "# the primary key is (GAME_ID, PLAYER_ID), verify no dups\n",
    "dups = player_game.duplicated(subset=['GAME_ID', 'PLAYER_ID'], keep=False)\n",
    "player_game[dups]"
   ]
  },
  {
   "cell_type": "code",
   "execution_count": 13,
   "metadata": {},
   "outputs": [
    {
     "data": {
      "text/plain": [
       "(3557003, 3557005)"
      ]
     },
     "execution_count": 13,
     "metadata": {},
     "output_type": "execute_result"
    }
   ],
   "source": [
    "ix1, ix2 = player_game[dups].index.values\n",
    "ix1, ix2"
   ]
  },
  {
   "cell_type": "markdown",
   "metadata": {},
   "source": [
    "### Data Correction\n",
    "\n",
    "Checking the box score for this game:  \n",
    "https://www.baseball-reference.com/boxes/BOS/BOS201708250.shtml\n",
    "\n",
    "Shows 2 entries for Young for the same game, one as a pinch-hitter and one as the designated-hitter.  It would appear that both entries are correct and that the data should be summed."
   ]
  },
  {
   "cell_type": "code",
   "execution_count": 14,
   "metadata": {},
   "outputs": [],
   "source": [
    "player_game.iloc[ix1, 5:] += player_game.iloc[ix2, 5:]\n",
    "player_game = player_game.drop(ix2)"
   ]
  },
  {
   "cell_type": "code",
   "execution_count": 15,
   "metadata": {},
   "outputs": [
    {
     "data": {
      "text/html": [
       "<div>\n",
       "<style scoped>\n",
       "    .dataframe tbody tr th:only-of-type {\n",
       "        vertical-align: middle;\n",
       "    }\n",
       "\n",
       "    .dataframe tbody tr th {\n",
       "        vertical-align: top;\n",
       "    }\n",
       "\n",
       "    .dataframe thead th {\n",
       "        text-align: right;\n",
       "    }\n",
       "</style>\n",
       "<table border=\"1\" class=\"dataframe\">\n",
       "  <thead>\n",
       "    <tr style=\"text-align: right;\">\n",
       "      <th></th>\n",
       "      <th>GAME_ID</th>\n",
       "      <th>GAME_DT</th>\n",
       "      <th>GAME_CT</th>\n",
       "      <th>TEAM_ID</th>\n",
       "      <th>PLAYER_ID</th>\n",
       "      <th>B_G</th>\n",
       "      <th>B_PA</th>\n",
       "      <th>B_AB</th>\n",
       "      <th>B_R</th>\n",
       "      <th>B_H</th>\n",
       "      <th>...</th>\n",
       "      <th>P_BB</th>\n",
       "      <th>P_IBB</th>\n",
       "      <th>P_SO</th>\n",
       "      <th>P_GDP</th>\n",
       "      <th>P_HP</th>\n",
       "      <th>P_SH</th>\n",
       "      <th>P_SF</th>\n",
       "      <th>P_XI</th>\n",
       "      <th>P_WP</th>\n",
       "      <th>P_BK</th>\n",
       "    </tr>\n",
       "  </thead>\n",
       "  <tbody>\n",
       "  </tbody>\n",
       "</table>\n",
       "<p>0 rows × 51 columns</p>\n",
       "</div>"
      ],
      "text/plain": [
       "Empty DataFrame\n",
       "Columns: [GAME_ID, GAME_DT, GAME_CT, TEAM_ID, PLAYER_ID, B_G, B_PA, B_AB, B_R, B_H, B_2B, B_3B, B_HR, B_RBI, B_BB, B_IBB, B_SO, B_GDP, B_HP, B_SH, B_SF, B_SB, B_CS, B_XI, P_G, P_GS, P_CG, P_SHO, P_GF, P_W, P_L, P_SV, P_OUT, P_TBF, P_AB, P_R, P_ER, P_H, P_2B, P_3B, P_HR, P_BB, P_IBB, P_SO, P_GDP, P_HP, P_SH, P_SF, P_XI, P_WP, P_BK]\n",
       "Index: []\n",
       "\n",
       "[0 rows x 51 columns]"
      ]
     },
     "execution_count": 15,
     "metadata": {},
     "output_type": "execute_result"
    }
   ],
   "source": [
    "# the primary key is (GAME_ID, PLAYER_ID), verify no dups\n",
    "dups = player_game.duplicated(subset=['GAME_ID', 'PLAYER_ID'], keep=False)\n",
    "player_game[dups]"
   ]
  },
  {
   "cell_type": "markdown",
   "metadata": {
    "toc-hr-collapsed": false
   },
   "source": [
    "### Optimizing Pandas Data Types for each Variable\n",
    "\n",
    "Reasons for using the data type with the least memory include:\n",
    "1. Reduce DataFrame memory.\n",
    "2. Increase performance.\n",
    "3. Provide information to both the data analyst and to other software libraries about that variable.\n",
    "\n",
    "No attribute, per player per game, can exceed 255.  For example, no batter can get more than 255 hits in one, no pitcher can allow more than 255 hits in one game, etc.\n",
    "\n",
    "Converting an object that represents a relatively small number of unique string values to a category, provides helpful information about the variable.\n",
    "\n",
    "In other languages, a \"category\" is called a \"factor\" or \"enumerated data type\"."
   ]
  },
  {
   "cell_type": "code",
   "execution_count": 16,
   "metadata": {},
   "outputs": [],
   "source": [
    "def mem_usage(obj):\n",
    "    if isinstance(obj, pd.DataFrame):\n",
    "        mem = obj.memory_usage(deep=True).sum()\n",
    "    else:\n",
    "        mem = obj.memory_usage(deep=True)\n",
    "        \n",
    "    mem = mem / 2 ** 20 # covert to megabytes\n",
    "    return f'{mem:03.2f} MB'"
   ]
  },
  {
   "cell_type": "code",
   "execution_count": 17,
   "metadata": {},
   "outputs": [
    {
     "data": {
      "text/plain": [
       "'2061.09 MB'"
      ]
     },
     "execution_count": 17,
     "metadata": {},
     "output_type": "execute_result"
    }
   ],
   "source": [
    "mem_usage(player_game)"
   ]
  },
  {
   "cell_type": "code",
   "execution_count": 18,
   "metadata": {},
   "outputs": [
    {
     "data": {
      "text/plain": [
       "int64             47\n",
       "object             3\n",
       "datetime64[ns]     1\n",
       "dtype: int64"
      ]
     },
     "execution_count": 18,
     "metadata": {},
     "output_type": "execute_result"
    }
   ],
   "source": [
    "# data types by count\n",
    "player_game.dtypes.value_counts()"
   ]
  },
  {
   "cell_type": "code",
   "execution_count": 19,
   "metadata": {},
   "outputs": [
    {
     "data": {
      "text/plain": [
       "GAME_ID      0.036756\n",
       "TEAM_ID      0.000012\n",
       "PLAYER_ID    0.003164\n",
       "dtype: float64"
      ]
     },
     "execution_count": 19,
     "metadata": {},
     "output_type": "execute_result"
    }
   ],
   "source": [
    "# Fraction of values that are unique\n",
    "player_game_obj = player_game.select_dtypes(include=['object'])\n",
    "player_game_obj.nunique() / player_game_obj.shape[0]"
   ]
  },
  {
   "cell_type": "code",
   "execution_count": 20,
   "metadata": {},
   "outputs": [],
   "source": [
    "# this optimization is good for player-game and game\n",
    "def optimize_data_types(df):\n",
    "    df = df.copy()\n",
    "    \n",
    "    # int64 -> smallest uint allowed by data\n",
    "    df_int = df.select_dtypes(include=['int'])\n",
    "    df_int = df_int.apply(pd.to_numeric,downcast='unsigned')\n",
    "    df[df_int.columns] = df_int\n",
    "\n",
    "    # object -> category\n",
    "    df_obj = df.select_dtypes(include=['object'])\n",
    "    df_obj = df_obj.astype('category')\n",
    "    df[df_obj.columns] = df_obj\n",
    "    \n",
    "    return df"
   ]
  },
  {
   "cell_type": "code",
   "execution_count": 21,
   "metadata": {},
   "outputs": [],
   "source": [
    "player_game = optimize_data_types(player_game)"
   ]
  },
  {
   "cell_type": "code",
   "execution_count": 22,
   "metadata": {},
   "outputs": [
    {
     "data": {
      "text/plain": [
       "uint8             47\n",
       "category           1\n",
       "category           1\n",
       "datetime64[ns]     1\n",
       "category           1\n",
       "dtype: int64"
      ]
     },
     "execution_count": 22,
     "metadata": {},
     "output_type": "execute_result"
    }
   ],
   "source": [
    "# data types by count\n",
    "player_game.dtypes.value_counts()"
   ]
  },
  {
   "cell_type": "code",
   "execution_count": 23,
   "metadata": {},
   "outputs": [
    {
     "data": {
      "text/plain": [
       "'261.16 MB'"
      ]
     },
     "execution_count": 23,
     "metadata": {},
     "output_type": "execute_result"
    }
   ],
   "source": [
    "mem_usage(player_game)"
   ]
  },
  {
   "cell_type": "markdown",
   "metadata": {},
   "source": [
    "### Data Note\n",
    "\n",
    "It is possible for a player to be traded and end up playing in two different games, for two different teams, on the same day.\n",
    "\n",
    "Here is a specific example."
   ]
  },
  {
   "cell_type": "code",
   "execution_count": 24,
   "metadata": {},
   "outputs": [
    {
     "data": {
      "text/html": [
       "<div>\n",
       "<style scoped>\n",
       "    .dataframe tbody tr th:only-of-type {\n",
       "        vertical-align: middle;\n",
       "    }\n",
       "\n",
       "    .dataframe tbody tr th {\n",
       "        vertical-align: top;\n",
       "    }\n",
       "\n",
       "    .dataframe thead th {\n",
       "        text-align: right;\n",
       "    }\n",
       "</style>\n",
       "<table border=\"1\" class=\"dataframe\">\n",
       "  <thead>\n",
       "    <tr style=\"text-align: right;\">\n",
       "      <th></th>\n",
       "      <th>GAME_ID</th>\n",
       "      <th>GAME_DT</th>\n",
       "      <th>GAME_CT</th>\n",
       "      <th>TEAM_ID</th>\n",
       "      <th>PLAYER_ID</th>\n",
       "      <th>B_G</th>\n",
       "      <th>B_PA</th>\n",
       "      <th>B_AB</th>\n",
       "      <th>B_R</th>\n",
       "      <th>B_H</th>\n",
       "      <th>...</th>\n",
       "      <th>P_BB</th>\n",
       "      <th>P_IBB</th>\n",
       "      <th>P_SO</th>\n",
       "      <th>P_GDP</th>\n",
       "      <th>P_HP</th>\n",
       "      <th>P_SH</th>\n",
       "      <th>P_SF</th>\n",
       "      <th>P_XI</th>\n",
       "      <th>P_WP</th>\n",
       "      <th>P_BK</th>\n",
       "    </tr>\n",
       "  </thead>\n",
       "  <tbody>\n",
       "    <tr>\n",
       "      <th>3038597</th>\n",
       "      <td>PIT200905050</td>\n",
       "      <td>2009-05-05</td>\n",
       "      <td>0</td>\n",
       "      <td>PIT</td>\n",
       "      <td>morgn001</td>\n",
       "      <td>1</td>\n",
       "      <td>5</td>\n",
       "      <td>5</td>\n",
       "      <td>0</td>\n",
       "      <td>1</td>\n",
       "      <td>...</td>\n",
       "      <td>0</td>\n",
       "      <td>0</td>\n",
       "      <td>0</td>\n",
       "      <td>0</td>\n",
       "      <td>0</td>\n",
       "      <td>0</td>\n",
       "      <td>0</td>\n",
       "      <td>0</td>\n",
       "      <td>0</td>\n",
       "      <td>0</td>\n",
       "    </tr>\n",
       "    <tr>\n",
       "      <th>3056716</th>\n",
       "      <td>WAS200905050</td>\n",
       "      <td>2009-05-05</td>\n",
       "      <td>0</td>\n",
       "      <td>WAS</td>\n",
       "      <td>morgn001</td>\n",
       "      <td>1</td>\n",
       "      <td>0</td>\n",
       "      <td>0</td>\n",
       "      <td>1</td>\n",
       "      <td>0</td>\n",
       "      <td>...</td>\n",
       "      <td>0</td>\n",
       "      <td>0</td>\n",
       "      <td>0</td>\n",
       "      <td>0</td>\n",
       "      <td>0</td>\n",
       "      <td>0</td>\n",
       "      <td>0</td>\n",
       "      <td>0</td>\n",
       "      <td>0</td>\n",
       "      <td>0</td>\n",
       "    </tr>\n",
       "  </tbody>\n",
       "</table>\n",
       "<p>2 rows × 51 columns</p>\n",
       "</div>"
      ],
      "text/plain": [
       "              GAME_ID    GAME_DT  GAME_CT TEAM_ID PLAYER_ID  B_G  B_PA  B_AB  \\\n",
       "3038597  PIT200905050 2009-05-05        0     PIT  morgn001    1     5     5   \n",
       "3056716  WAS200905050 2009-05-05        0     WAS  morgn001    1     0     0   \n",
       "\n",
       "         B_R  B_H  ...  P_BB  P_IBB  P_SO  P_GDP  P_HP  P_SH  P_SF  P_XI  \\\n",
       "3038597    0    1  ...     0      0     0      0     0     0     0     0   \n",
       "3056716    1    0  ...     0      0     0      0     0     0     0     0   \n",
       "\n",
       "         P_WP  P_BK  \n",
       "3038597     0     0  \n",
       "3056716     0     0  \n",
       "\n",
       "[2 rows x 51 columns]"
      ]
     },
     "execution_count": 24,
     "metadata": {},
     "output_type": "execute_result"
    }
   ],
   "source": [
    "player_game[(player_game['PLAYER_ID'] == 'morgn001')\n",
    "          & (player_game['GAME_DT'] == '2009-05-05')]"
   ]
  },
  {
   "cell_type": "markdown",
   "metadata": {
    "toc-hr-collapsed": false
   },
   "source": [
    "### Persist DataFrame\n",
    "\n",
    "Techniques to persist a DataFrame include:\n",
    "1. Pickle\n",
    "2. hdf5\n",
    "3. csv or compressed csv\n",
    "4. write directly to database\n",
    "\n",
    "Some of the pros and cons to the above: \n",
    "1. Pickle is easiest, but format may change over time and loading a pickled file from an untrusted source could execute malicious code.\n",
    "2. hdf5 has too much overhead for dataframes less than about 1 GB\n",
    "3. csv (optionally compressed) loses optimized Pandas data types\n",
    "4. Although Pandas can read/write directly to a database, a data analyst may not have necessary DB Admin privileges\n",
    "\n",
    "This notebook will save the dataframes as csv files.  Any datatype optimizations will have to be reapplied upon reading the data back in.\n",
    "\n",
    "The largest dataframe, player_game, will be compressed with gzip.  Due to the sparsity of this dataframe, the csv file can be reduced by a factor of 10+ with gzip."
   ]
  },
  {
   "cell_type": "code",
   "execution_count": 25,
   "metadata": {},
   "outputs": [],
   "source": [
    "# create path objects\n",
    "p_persisted = retrosheet.joinpath('persisted')\n",
    "\n",
    "# create directories from these path objects\n",
    "p_persisted.mkdir(parents=True, exist_ok=True)\n",
    "\n",
    "# change working dir\n",
    "os.chdir(p_persisted)\n",
    "\n",
    "# persist as compressed csv file\n",
    "player_game.to_csv('player_game.csv.gz', compression='infer')"
   ]
  },
  {
   "cell_type": "markdown",
   "metadata": {},
   "source": [
    "#### To Read Back Use:\n",
    "```\n",
    "player_game = pd.read_csv('player_game.csv.gz', parse_dates=['GAME_DT'])\n",
    "player_game = optimize_data_types(player_game)\n",
    "```"
   ]
  },
  {
   "cell_type": "markdown",
   "metadata": {},
   "source": [
    "## Retrosheet Data Dictionary General\n",
    "A \"data dictionary\" is also called a \"codebook\".\n",
    "\n",
    "```\n",
    "Suffix Meaning\n",
    "CT     count (integer)\n",
    "ID     identifier\n",
    "FL     boolean flag\n",
    "CD     code (enumerated data type)\n",
    "DT     date\n",
    "DY     day of week\n",
    "TM     time\n",
    "\n",
    "Prefix Meaning\n",
    "B      batter\n",
    "P      pitcher\n",
    "```\n",
    "\n",
    "In most cases, the abbreviation between the prefix and the suffix is a common baseball abbreviation.  For common baseball abbreviations see:  \n",
    "http://www.espn.com/gen/editors/mlb/glossary.html"
   ]
  },
  {
   "cell_type": "markdown",
   "metadata": {
    "toc-hr-collapsed": false
   },
   "source": [
    "## 2. Scrape Data for Player-Game Data Dictionary\n",
    "As of February 2019, I could find no published information on cwdaily.\n",
    "\n",
    "cwdaily can be run with the '-n' flag to have it output field names, but it is not clear what some of the field names mean.\n",
    "\n",
    "Luckily, the source code itself has a text description of each field name.  This description takes place within a single, very long, C statement.\n",
    "\n",
    "The source code will be scraped to retrieve a field name to field description mapping."
   ]
  },
  {
   "cell_type": "code",
   "execution_count": 26,
   "metadata": {},
   "outputs": [],
   "source": [
    "# cd to dir with cwdaily.c\n",
    "p_src = retrosheet.joinpath('src')\n",
    "os.chdir(p_src)"
   ]
  },
  {
   "cell_type": "code",
   "execution_count": 27,
   "metadata": {},
   "outputs": [],
   "source": [
    "def parse_c_source(filename, struct='field_data'):\n",
    "    dd = {}\n",
    "    with open(filename, 'r') as cwdaily:\n",
    "        # to account for patterns across lines, read entire source code\n",
    "        source = cwdaily.read()\n",
    "    \n",
    "        # get the single (multiline) C statement that has field descriptions\n",
    "        pattern = r'(static\\s+field_struct\\s+' + struct + r'.*?;)'\n",
    "        match = re.search(pattern, source, flags=re.DOTALL | re.MULTILINE)\n",
    "    \n",
    "        if match:\n",
    "            pattern = r'{.*?\"(.*?)\".*?\"(.*?)\".*?}'\n",
    "            for m in re.finditer(pattern, match.group(1), \n",
    "                                 flags=re.DOTALL | re.MULTILINE):\n",
    "                if m:\n",
    "                    if len(m.group(2).split(':')) == 2:\n",
    "                        desc = m.group(2).split(':')[1].strip()\n",
    "                    else:\n",
    "                        desc = m.group(2).strip()\n",
    "                    dd[m.group(1)] = desc   \n",
    "    return dd"
   ]
  },
  {
   "cell_type": "code",
   "execution_count": 28,
   "metadata": {},
   "outputs": [],
   "source": [
    "player_game_fields_all = parse_c_source('cwdaily.c')        "
   ]
  },
  {
   "cell_type": "code",
   "execution_count": 29,
   "metadata": {},
   "outputs": [],
   "source": [
    "# As of Python 3.6, dictionaries maintain insertion order\n",
    "# Only the first 52 fields were selected, so that's all that needed here\n",
    "player_game_fields = {key:value for num, \n",
    "        (key, value) in enumerate(player_game_fields_all.items()) if num < 52}"
   ]
  },
  {
   "cell_type": "markdown",
   "metadata": {
    "toc-hr-collapsed": true
   },
   "source": [
    "### Data Dictionary Notes\n",
    "In the following, TEAM_ID is the TEAM_ID of the player. \n",
    "\n",
    "GAME_ID is:  \n",
    "```\n",
    "0:4 Home TEAM_ID  \n",
    "4:8 YYYYMMDD  \n",
    "9   Game Count\n",
    "```\n",
    "\n",
    "Game Count is:\n",
    "* 0 for single game\n",
    "* 1 for 1st game of double header\n",
    "* 2 for 2nd game of double header"
   ]
  },
  {
   "cell_type": "code",
   "execution_count": 30,
   "metadata": {},
   "outputs": [
    {
     "data": {
      "text/plain": [
       "{'GAME_ID': 'game id',\n",
       " 'GAME_DT': 'date',\n",
       " 'GAME_CT': 'game number (0 = no double header)',\n",
       " 'APPEAR_DT': 'apperance date',\n",
       " 'TEAM_ID': 'team id',\n",
       " 'PLAYER_ID': 'player id',\n",
       " 'B_G': 'games played',\n",
       " 'B_PA': 'plate appearances',\n",
       " 'B_AB': 'at bats',\n",
       " 'B_R': 'runs',\n",
       " 'B_H': 'hits',\n",
       " 'B_2B': 'doubles',\n",
       " 'B_3B': 'triples',\n",
       " 'B_HR': 'home runs',\n",
       " 'B_RBI': 'runs batted in',\n",
       " 'B_BB': 'walks',\n",
       " 'B_IBB': 'intentional walks',\n",
       " 'B_SO': 'strikeouts',\n",
       " 'B_GDP': 'grounded into DP',\n",
       " 'B_HP': 'hit by pitch',\n",
       " 'B_SH': 'sacrifice hits',\n",
       " 'B_SF': 'sacrifice flies',\n",
       " 'B_SB': 'stolen bases',\n",
       " 'B_CS': 'caught stealing',\n",
       " 'B_XI': 'reached on interference',\n",
       " 'P_G': 'games pitched',\n",
       " 'P_GS': 'games started',\n",
       " 'P_CG': 'complete games',\n",
       " 'P_SHO': 'shutouts',\n",
       " 'P_GF': 'games finished',\n",
       " 'P_W': 'wins',\n",
       " 'P_L': 'losses',\n",
       " 'P_SV': 'saves',\n",
       " 'P_OUT': 'outs recorded (innings pitched times 3)',\n",
       " 'P_TBF': 'batters faced',\n",
       " 'P_AB': 'at bats',\n",
       " 'P_R': 'runs allowed',\n",
       " 'P_ER': 'earned runs allowed',\n",
       " 'P_H': 'hits allowed',\n",
       " 'P_2B': 'doubles allowed',\n",
       " 'P_3B': 'triples allowed',\n",
       " 'P_HR': 'home runs allowed',\n",
       " 'P_BB': 'walks allowed',\n",
       " 'P_IBB': 'intentional walks allowed',\n",
       " 'P_SO': 'strikeouts',\n",
       " 'P_GDP': 'grounded into double play',\n",
       " 'P_HP': 'hit batsmen',\n",
       " 'P_SH': 'sacrifice hits against',\n",
       " 'P_SF': 'sacrifice flies against',\n",
       " 'P_XI': 'reached on interference',\n",
       " 'P_WP': 'wild pitches',\n",
       " 'P_BK': 'balks'}"
      ]
     },
     "execution_count": 30,
     "metadata": {},
     "output_type": "execute_result"
    }
   ],
   "source": [
    "# here is the explanation of each field, as scraped from the C source code\n",
    "player_game_fields"
   ]
  },
  {
   "cell_type": "markdown",
   "metadata": {},
   "source": [
    "### Persist player_game_fields"
   ]
  },
  {
   "cell_type": "code",
   "execution_count": 31,
   "metadata": {},
   "outputs": [],
   "source": [
    "os.chdir(p_persisted)\n",
    "\n",
    "# index=[0] is required for dictionary of scalar values\n",
    "player_game_fields_df = pd.DataFrame(player_game_fields, index=[0])\n",
    "player_game_fields_df.to_csv('player_game_fields.csv')"
   ]
  },
  {
   "cell_type": "markdown",
   "metadata": {},
   "source": [
    "## 3. Parse Event Data for Game Statistics\n",
    "Additional information about the game itself is available."
   ]
  },
  {
   "cell_type": "code",
   "execution_count": 32,
   "metadata": {},
   "outputs": [],
   "source": [
    "# if you are running windows binaries under Linux, prepend 'wine ' to the cmd string below\n",
    "def process_cwgame(year):\n",
    "    \"\"\"Parse yearly event data into 45 fields of game data per year.\n",
    "    \n",
    "    For each game, there are 84 standard fields and 95 extended fields to chose from.  \n",
    "    Only the first 46 standard fields are chosen.\n",
    "    \"\"\"\n",
    "    cmd = f'cwgame -f 0-45 -n -y {year} {year}*.EV*'\n",
    "    args = [\"/bin/bash\", \"-c\", cmd]\n",
    "    out = f'../processed/game{year}.csv'\n",
    "    with open(out, \"w\") as outfile:\n",
    "        result = subprocess.run(args, stdout=outfile)"
   ]
  },
  {
   "cell_type": "code",
   "execution_count": 33,
   "metadata": {},
   "outputs": [],
   "source": [
    "# change to raw file directory\n",
    "os.chdir(p_raw)"
   ]
  },
  {
   "cell_type": "code",
   "execution_count": null,
   "metadata": {},
   "outputs": [],
   "source": [
    "# parse each year of event data\n",
    "for year in range(1950, 2019):\n",
    "    process_cwgame(year)"
   ]
  },
  {
   "cell_type": "code",
   "execution_count": 34,
   "metadata": {},
   "outputs": [],
   "source": [
    "# collect all the parsed files into a single pandas dataframe\n",
    "import glob\n",
    "os.chdir(p_processed)\n",
    "gamefiles = glob.glob('game*.csv')\n",
    "gamefiles.sort()\n",
    "\n",
    "dfs = []\n",
    "for file in gamefiles:\n",
    "    dfs.append(\n",
    "        pd.read_csv(file, \n",
    "            keep_default_na=False,\n",
    "            na_values={'ATTEND_PARK_CT':[-1,0],\n",
    "                       'TEMP_PARK_CT':[-1,0]}))\n",
    "game = pd.concat(dfs)"
   ]
  },
  {
   "cell_type": "code",
   "execution_count": 35,
   "metadata": {},
   "outputs": [
    {
     "data": {
      "text/html": [
       "<div>\n",
       "<style scoped>\n",
       "    .dataframe tbody tr th:only-of-type {\n",
       "        vertical-align: middle;\n",
       "    }\n",
       "\n",
       "    .dataframe tbody tr th {\n",
       "        vertical-align: top;\n",
       "    }\n",
       "\n",
       "    .dataframe thead th {\n",
       "        text-align: right;\n",
       "    }\n",
       "</style>\n",
       "<table border=\"1\" class=\"dataframe\">\n",
       "  <thead>\n",
       "    <tr style=\"text-align: right;\">\n",
       "      <th></th>\n",
       "      <th>GAME_ID</th>\n",
       "      <th>GAME_DT</th>\n",
       "      <th>GAME_CT</th>\n",
       "      <th>GAME_DY</th>\n",
       "      <th>START_GAME_TM</th>\n",
       "      <th>DH_FL</th>\n",
       "      <th>DAYNIGHT_PARK_CD</th>\n",
       "      <th>AWAY_TEAM_ID</th>\n",
       "      <th>HOME_TEAM_ID</th>\n",
       "      <th>PARK_ID</th>\n",
       "      <th>...</th>\n",
       "      <th>AWAY_HITS_CT</th>\n",
       "      <th>HOME_HITS_CT</th>\n",
       "      <th>AWAY_ERR_CT</th>\n",
       "      <th>HOME_ERR_CT</th>\n",
       "      <th>AWAY_LOB_CT</th>\n",
       "      <th>HOME_LOB_CT</th>\n",
       "      <th>WIN_PIT_ID</th>\n",
       "      <th>LOSE_PIT_ID</th>\n",
       "      <th>SAVE_PIT_ID</th>\n",
       "      <th>GWRBI_BAT_ID</th>\n",
       "    </tr>\n",
       "  </thead>\n",
       "  <tbody>\n",
       "    <tr>\n",
       "      <th>0</th>\n",
       "      <td>BOS195004180</td>\n",
       "      <td>19500418</td>\n",
       "      <td>0</td>\n",
       "      <td>Tuesday</td>\n",
       "      <td>0</td>\n",
       "      <td>F</td>\n",
       "      <td>D</td>\n",
       "      <td>NYA</td>\n",
       "      <td>BOS</td>\n",
       "      <td>BOS07</td>\n",
       "      <td>...</td>\n",
       "      <td>15</td>\n",
       "      <td>15</td>\n",
       "      <td>0</td>\n",
       "      <td>0</td>\n",
       "      <td>9</td>\n",
       "      <td>13</td>\n",
       "      <td>johnd102</td>\n",
       "      <td>mastw101</td>\n",
       "      <td>pagej101</td>\n",
       "      <td></td>\n",
       "    </tr>\n",
       "    <tr>\n",
       "      <th>1</th>\n",
       "      <td>BOS195004192</td>\n",
       "      <td>19500419</td>\n",
       "      <td>2</td>\n",
       "      <td>Wednesday</td>\n",
       "      <td>0</td>\n",
       "      <td>F</td>\n",
       "      <td>D</td>\n",
       "      <td>NYA</td>\n",
       "      <td>BOS</td>\n",
       "      <td>BOS07</td>\n",
       "      <td>...</td>\n",
       "      <td>15</td>\n",
       "      <td>10</td>\n",
       "      <td>0</td>\n",
       "      <td>1</td>\n",
       "      <td>10</td>\n",
       "      <td>7</td>\n",
       "      <td>lopae101</td>\n",
       "      <td>kinde101</td>\n",
       "      <td>pagej101</td>\n",
       "      <td></td>\n",
       "    </tr>\n",
       "    <tr>\n",
       "      <th>2</th>\n",
       "      <td>BOS195004280</td>\n",
       "      <td>19500428</td>\n",
       "      <td>0</td>\n",
       "      <td>Friday</td>\n",
       "      <td>0</td>\n",
       "      <td>F</td>\n",
       "      <td>D</td>\n",
       "      <td>PHA</td>\n",
       "      <td>BOS</td>\n",
       "      <td>BOS07</td>\n",
       "      <td>...</td>\n",
       "      <td>8</td>\n",
       "      <td>8</td>\n",
       "      <td>0</td>\n",
       "      <td>0</td>\n",
       "      <td>7</td>\n",
       "      <td>7</td>\n",
       "      <td>parnm101</td>\n",
       "      <td>kella103</td>\n",
       "      <td></td>\n",
       "      <td></td>\n",
       "    </tr>\n",
       "  </tbody>\n",
       "</table>\n",
       "<p>3 rows × 46 columns</p>\n",
       "</div>"
      ],
      "text/plain": [
       "        GAME_ID   GAME_DT  GAME_CT    GAME_DY  START_GAME_TM DH_FL  \\\n",
       "0  BOS195004180  19500418        0    Tuesday              0     F   \n",
       "1  BOS195004192  19500419        2  Wednesday              0     F   \n",
       "2  BOS195004280  19500428        0     Friday              0     F   \n",
       "\n",
       "  DAYNIGHT_PARK_CD AWAY_TEAM_ID HOME_TEAM_ID PARK_ID  ... AWAY_HITS_CT  \\\n",
       "0                D          NYA          BOS   BOS07  ...           15   \n",
       "1                D          NYA          BOS   BOS07  ...           15   \n",
       "2                D          PHA          BOS   BOS07  ...            8   \n",
       "\n",
       "  HOME_HITS_CT AWAY_ERR_CT HOME_ERR_CT AWAY_LOB_CT HOME_LOB_CT WIN_PIT_ID  \\\n",
       "0           15           0           0           9          13   johnd102   \n",
       "1           10           0           1          10           7   lopae101   \n",
       "2            8           0           0           7           7   parnm101   \n",
       "\n",
       "  LOSE_PIT_ID  SAVE_PIT_ID GWRBI_BAT_ID  \n",
       "0    mastw101     pagej101               \n",
       "1    kinde101     pagej101               \n",
       "2    kella103                            \n",
       "\n",
       "[3 rows x 46 columns]"
      ]
     },
     "execution_count": 35,
     "metadata": {},
     "output_type": "execute_result"
    }
   ],
   "source": [
    "game.head(3)"
   ]
  },
  {
   "cell_type": "code",
   "execution_count": 36,
   "metadata": {},
   "outputs": [
    {
     "data": {
      "text/html": [
       "<div>\n",
       "<style scoped>\n",
       "    .dataframe tbody tr th:only-of-type {\n",
       "        vertical-align: middle;\n",
       "    }\n",
       "\n",
       "    .dataframe tbody tr th {\n",
       "        vertical-align: top;\n",
       "    }\n",
       "\n",
       "    .dataframe thead th {\n",
       "        text-align: right;\n",
       "    }\n",
       "</style>\n",
       "<table border=\"1\" class=\"dataframe\">\n",
       "  <thead>\n",
       "    <tr style=\"text-align: right;\">\n",
       "      <th></th>\n",
       "      <th>GAME_ID</th>\n",
       "      <th>GAME_DT</th>\n",
       "      <th>GAME_CT</th>\n",
       "      <th>GAME_DY</th>\n",
       "      <th>START_GAME_TM</th>\n",
       "      <th>DH_FL</th>\n",
       "      <th>DAYNIGHT_PARK_CD</th>\n",
       "      <th>AWAY_TEAM_ID</th>\n",
       "      <th>HOME_TEAM_ID</th>\n",
       "      <th>PARK_ID</th>\n",
       "      <th>...</th>\n",
       "      <th>AWAY_HITS_CT</th>\n",
       "      <th>HOME_HITS_CT</th>\n",
       "      <th>AWAY_ERR_CT</th>\n",
       "      <th>HOME_ERR_CT</th>\n",
       "      <th>AWAY_LOB_CT</th>\n",
       "      <th>HOME_LOB_CT</th>\n",
       "      <th>WIN_PIT_ID</th>\n",
       "      <th>LOSE_PIT_ID</th>\n",
       "      <th>SAVE_PIT_ID</th>\n",
       "      <th>GWRBI_BAT_ID</th>\n",
       "    </tr>\n",
       "  </thead>\n",
       "  <tbody>\n",
       "  </tbody>\n",
       "</table>\n",
       "<p>0 rows × 46 columns</p>\n",
       "</div>"
      ],
      "text/plain": [
       "Empty DataFrame\n",
       "Columns: [GAME_ID, GAME_DT, GAME_CT, GAME_DY, START_GAME_TM, DH_FL, DAYNIGHT_PARK_CD, AWAY_TEAM_ID, HOME_TEAM_ID, PARK_ID, AWAY_START_PIT_ID, HOME_START_PIT_ID, BASE4_UMP_ID, BASE1_UMP_ID, BASE2_UMP_ID, BASE3_UMP_ID, LF_UMP_ID, RF_UMP_ID, ATTEND_PARK_CT, SCORER_RECORD_ID, TRANSLATOR_RECORD_ID, INPUTTER_RECORD_ID, INPUT_RECORD_TS, EDIT_RECORD_TS, METHOD_RECORD_CD, PITCHES_RECORD_CD, TEMP_PARK_CT, WIND_DIRECTION_PARK_CD, WIND_SPEED_PARK_CT, FIELD_PARK_CD, PRECIP_PARK_CD, SKY_PARK_CD, MINUTES_GAME_CT, INN_CT, AWAY_SCORE_CT, HOME_SCORE_CT, AWAY_HITS_CT, HOME_HITS_CT, AWAY_ERR_CT, HOME_ERR_CT, AWAY_LOB_CT, HOME_LOB_CT, WIN_PIT_ID, LOSE_PIT_ID, SAVE_PIT_ID, GWRBI_BAT_ID]\n",
       "Index: []\n",
       "\n",
       "[0 rows x 46 columns]"
      ]
     },
     "execution_count": 36,
     "metadata": {},
     "output_type": "execute_result"
    }
   ],
   "source": [
    "# the primary key is (GAME_ID), verify no dups\n",
    "dups = game.duplicated(subset=['GAME_ID'], keep=False)\n",
    "game[dups]"
   ]
  },
  {
   "cell_type": "code",
   "execution_count": 37,
   "metadata": {},
   "outputs": [],
   "source": [
    "# these columns will not be used in the analysis\n",
    "drop_columns = ['EDIT_RECORD_TS',\n",
    "                'WIND_DIRECTION_PARK_CD',\n",
    "                'WIND_SPEED_PARK_CT',\n",
    "                'FIELD_PARK_CD',\n",
    "                'PRECIP_PARK_CD',\n",
    "                'SKY_PARK_CD',                \n",
    "                'BASE4_UMP_ID', \n",
    "                'BASE1_UMP_ID', \n",
    "                'BASE2_UMP_ID', \n",
    "                'BASE3_UMP_ID',\n",
    "                'SCORER_RECORD_ID', \n",
    "                'INPUTTER_RECORD_ID', \n",
    "                'LF_UMP_ID', \n",
    "                'RF_UMP_ID',\n",
    "                'TRANSLATOR_RECORD_ID', \n",
    "                'INPUT_RECORD_TS', \n",
    "                'METHOD_RECORD_CD',\n",
    "                'PITCHES_RECORD_CD']"
   ]
  },
  {
   "cell_type": "code",
   "execution_count": 38,
   "metadata": {},
   "outputs": [],
   "source": [
    "game = game.drop(drop_columns, axis=1)"
   ]
  },
  {
   "cell_type": "code",
   "execution_count": 39,
   "metadata": {},
   "outputs": [
    {
     "data": {
      "text/plain": [
       "object     13\n",
       "int64      13\n",
       "float64     2\n",
       "dtype: int64"
      ]
     },
     "execution_count": 39,
     "metadata": {},
     "output_type": "execute_result"
    }
   ],
   "source": [
    "game.dtypes.value_counts()"
   ]
  },
  {
   "cell_type": "markdown",
   "metadata": {},
   "source": [
    "### START_GAME_TM is Integer between 0 and 1259, no AM/PM\n",
    "\n",
    "A value of zero means the start time is unknown.\n",
    "\n",
    "Game time is in the local time zone of the home team's stadium.\n",
    "\n",
    "The DAYNIGHT_PARK_CD is never missing. 'N' for night. 'D' for day.\n",
    "\n",
    "MLB domain knowledge suggests that games do not start before 9 am or after 11 pm.\n",
    "\n",
    "A rain delay, or a long first game of a double header, can cause a start time after 9 pm, but not after 11 pm.\n",
    "\n",
    "When the above is combined with the day/night code\n",
    "* start_game_tm == 0 => use midnight (to represent unknown time)\n",
    "* start_game_tm >= 1200 => pm\n",
    "* start_game_tm < 900 => pm\n",
    "* 900 <= start_game_tm < 1200, day/night = day, => am\n",
    "* 900 <= start_game_tm < 1200, day/night = night, => pm"
   ]
  },
  {
   "cell_type": "code",
   "execution_count": 40,
   "metadata": {},
   "outputs": [
    {
     "data": {
      "text/plain": [
       "0.10122166707287351"
      ]
     },
     "execution_count": 40,
     "metadata": {},
     "output_type": "execute_result"
    }
   ],
   "source": [
    "# compute fraction of unknown start times since 1990-01-01-#\n",
    "unknown = (game['START_GAME_TM'] == 0)\n",
    "recent = (game['GAME_DT'] >= 19901010)\n",
    "(unknown & recent).sum() / recent.sum()"
   ]
  },
  {
   "cell_type": "code",
   "execution_count": 41,
   "metadata": {},
   "outputs": [
    {
     "data": {
      "text/plain": [
       "0.931405721316518"
      ]
     },
     "execution_count": 41,
     "metadata": {},
     "output_type": "execute_result"
    }
   ],
   "source": [
    "# compute fraction of unknown start times proir to 1960-01-01-#\n",
    "unknown = (game['START_GAME_TM'] == 0)\n",
    "old = (game['GAME_DT'] <= 19601010)\n",
    "(unknown & old).sum() / old.sum()"
   ]
  },
  {
   "cell_type": "markdown",
   "metadata": {},
   "source": [
    "#### Summary of Above\n",
    "The game start time was often not recorded prior to 1960.  \n",
    "The game start time has been recorded often since 1990.  "
   ]
  },
  {
   "cell_type": "markdown",
   "metadata": {},
   "source": [
    "### Parse GAME_DT, START_GAME_TM\n",
    "\n",
    "GAME_DT was read by Pandas as an integer of YYYYMMDD  \n",
    "START_GAME_TM was read by Pandas as an integer HHDD  \n",
    "\n",
    "As per above:\n",
    "* start_game_tm == 0 => use midnight (to represent unknown time)\n",
    "* start_game_tm >= 1200 => pm\n",
    "* start_game_tm < 900 => pm\n",
    "* 900 <= start_game_tm < 1200, day/night = day, => am\n",
    "* 900 <= start_game_tm < 1200, day/night = night, => pm\n",
    "\n",
    "Convert GAME_DT, START_GAME_TM, DAYNIGHT_PARK_CD to a Panda's datetime."
   ]
  },
  {
   "cell_type": "code",
   "execution_count": 42,
   "metadata": {},
   "outputs": [],
   "source": [
    "def parse_datetime(row):\n",
    "    date = row['GAME_DT']\n",
    "    time = row['START_GAME_TM']\n",
    "    day_night = row['DAYNIGHT_PARK_CD']\n",
    "    \n",
    "    if time > 0 and time < 900:\n",
    "        time += 1200\n",
    "    elif (900 <= time < 1200) and day_night == 'N':\n",
    "        time += 1200\n",
    "\n",
    "    time_str = f'{time//100:02d}:{time%100:02d}'\n",
    "    datetime_str = str(date) + ' ' + time_str\n",
    "    return pd.to_datetime(datetime_str, format='%Y%m%d %H:%M')"
   ]
  },
  {
   "cell_type": "code",
   "execution_count": 43,
   "metadata": {},
   "outputs": [],
   "source": [
    "game['GAME_DT'] = game.apply(parse_datetime, axis=1)"
   ]
  },
  {
   "cell_type": "code",
   "execution_count": 44,
   "metadata": {},
   "outputs": [],
   "source": [
    "game = game.drop('START_GAME_TM', axis=1)"
   ]
  },
  {
   "cell_type": "code",
   "execution_count": 45,
   "metadata": {},
   "outputs": [
    {
     "data": {
      "text/html": [
       "<div>\n",
       "<style scoped>\n",
       "    .dataframe tbody tr th:only-of-type {\n",
       "        vertical-align: middle;\n",
       "    }\n",
       "\n",
       "    .dataframe tbody tr th {\n",
       "        vertical-align: top;\n",
       "    }\n",
       "\n",
       "    .dataframe thead th {\n",
       "        text-align: right;\n",
       "    }\n",
       "</style>\n",
       "<table border=\"1\" class=\"dataframe\">\n",
       "  <thead>\n",
       "    <tr style=\"text-align: right;\">\n",
       "      <th></th>\n",
       "      <th>HOME_TEAM_ID</th>\n",
       "      <th>GAME_DT</th>\n",
       "      <th>GAME_CT</th>\n",
       "    </tr>\n",
       "  </thead>\n",
       "  <tbody>\n",
       "    <tr>\n",
       "      <th>45</th>\n",
       "      <td>ANA</td>\n",
       "      <td>2015-07-20 14:07:00</td>\n",
       "      <td>1</td>\n",
       "    </tr>\n",
       "    <tr>\n",
       "      <th>46</th>\n",
       "      <td>ANA</td>\n",
       "      <td>2015-07-20 19:07:00</td>\n",
       "      <td>2</td>\n",
       "    </tr>\n",
       "    <tr>\n",
       "      <th>241</th>\n",
       "      <td>ATL</td>\n",
       "      <td>2015-10-04 13:10:00</td>\n",
       "      <td>1</td>\n",
       "    </tr>\n",
       "    <tr>\n",
       "      <th>242</th>\n",
       "      <td>ATL</td>\n",
       "      <td>2015-10-04 16:05:00</td>\n",
       "      <td>2</td>\n",
       "    </tr>\n",
       "    <tr>\n",
       "      <th>189</th>\n",
       "      <td>ATL</td>\n",
       "      <td>2017-06-10 13:07:00</td>\n",
       "      <td>1</td>\n",
       "    </tr>\n",
       "    <tr>\n",
       "      <th>190</th>\n",
       "      <td>ATL</td>\n",
       "      <td>2017-06-10 18:05:00</td>\n",
       "      <td>2</td>\n",
       "    </tr>\n",
       "    <tr>\n",
       "      <th>228</th>\n",
       "      <td>ATL</td>\n",
       "      <td>2017-09-06 13:36:00</td>\n",
       "      <td>1</td>\n",
       "    </tr>\n",
       "    <tr>\n",
       "      <th>229</th>\n",
       "      <td>ATL</td>\n",
       "      <td>2017-09-06 19:36:00</td>\n",
       "      <td>2</td>\n",
       "    </tr>\n",
       "    <tr>\n",
       "      <th>182</th>\n",
       "      <td>ATL</td>\n",
       "      <td>2018-05-28 13:13:00</td>\n",
       "      <td>1</td>\n",
       "    </tr>\n",
       "    <tr>\n",
       "      <th>183</th>\n",
       "      <td>ATL</td>\n",
       "      <td>2018-05-28 22:07:00</td>\n",
       "      <td>2</td>\n",
       "    </tr>\n",
       "    <tr>\n",
       "      <th>216</th>\n",
       "      <td>ATL</td>\n",
       "      <td>2018-08-13 13:36:00</td>\n",
       "      <td>1</td>\n",
       "    </tr>\n",
       "    <tr>\n",
       "      <th>217</th>\n",
       "      <td>ATL</td>\n",
       "      <td>2018-08-13 19:36:00</td>\n",
       "      <td>2</td>\n",
       "    </tr>\n",
       "    <tr>\n",
       "      <th>268</th>\n",
       "      <td>BAL</td>\n",
       "      <td>2015-05-28 13:08:00</td>\n",
       "      <td>1</td>\n",
       "    </tr>\n",
       "    <tr>\n",
       "      <th>269</th>\n",
       "      <td>BAL</td>\n",
       "      <td>2015-05-28 16:42:00</td>\n",
       "      <td>2</td>\n",
       "    </tr>\n",
       "    <tr>\n",
       "      <th>282</th>\n",
       "      <td>BAL</td>\n",
       "      <td>2015-06-28 13:36:00</td>\n",
       "      <td>1</td>\n",
       "    </tr>\n",
       "    <tr>\n",
       "      <th>283</th>\n",
       "      <td>BAL</td>\n",
       "      <td>2015-06-28 19:05:00</td>\n",
       "      <td>2</td>\n",
       "    </tr>\n",
       "    <tr>\n",
       "      <th>318</th>\n",
       "      <td>BAL</td>\n",
       "      <td>2015-09-30 16:07:00</td>\n",
       "      <td>1</td>\n",
       "    </tr>\n",
       "    <tr>\n",
       "      <th>319</th>\n",
       "      <td>BAL</td>\n",
       "      <td>2015-09-30 20:03:00</td>\n",
       "      <td>2</td>\n",
       "    </tr>\n",
       "    <tr>\n",
       "      <th>321</th>\n",
       "      <td>BAL</td>\n",
       "      <td>2015-10-03 12:06:00</td>\n",
       "      <td>1</td>\n",
       "    </tr>\n",
       "    <tr>\n",
       "      <th>322</th>\n",
       "      <td>BAL</td>\n",
       "      <td>2015-10-03 19:06:00</td>\n",
       "      <td>2</td>\n",
       "    </tr>\n",
       "  </tbody>\n",
       "</table>\n",
       "</div>"
      ],
      "text/plain": [
       "    HOME_TEAM_ID             GAME_DT  GAME_CT\n",
       "45           ANA 2015-07-20 14:07:00        1\n",
       "46           ANA 2015-07-20 19:07:00        2\n",
       "241          ATL 2015-10-04 13:10:00        1\n",
       "242          ATL 2015-10-04 16:05:00        2\n",
       "189          ATL 2017-06-10 13:07:00        1\n",
       "190          ATL 2017-06-10 18:05:00        2\n",
       "228          ATL 2017-09-06 13:36:00        1\n",
       "229          ATL 2017-09-06 19:36:00        2\n",
       "182          ATL 2018-05-28 13:13:00        1\n",
       "183          ATL 2018-05-28 22:07:00        2\n",
       "216          ATL 2018-08-13 13:36:00        1\n",
       "217          ATL 2018-08-13 19:36:00        2\n",
       "268          BAL 2015-05-28 13:08:00        1\n",
       "269          BAL 2015-05-28 16:42:00        2\n",
       "282          BAL 2015-06-28 13:36:00        1\n",
       "283          BAL 2015-06-28 19:05:00        2\n",
       "318          BAL 2015-09-30 16:07:00        1\n",
       "319          BAL 2015-09-30 20:03:00        2\n",
       "321          BAL 2015-10-03 12:06:00        1\n",
       "322          BAL 2015-10-03 19:06:00        2"
      ]
     },
     "execution_count": 45,
     "metadata": {},
     "output_type": "execute_result"
    }
   ],
   "source": [
    "# spot check: verify 2nd game starts after 1st game\n",
    "not_null = (game['GAME_DT'].dt.hour != 0) \n",
    "double_header = (game['GAME_CT'] != 0)\n",
    "recent = (game['GAME_DT'].dt.year >= 2015)\n",
    "criteria = not_null & double_header & recent\n",
    "(game[criteria][['HOME_TEAM_ID','GAME_DT','GAME_CT']]\n",
    " .sort_values(by=['HOME_TEAM_ID','GAME_DT','GAME_CT'])).head(20)"
   ]
  },
  {
   "cell_type": "markdown",
   "metadata": {},
   "source": [
    "### Optimize Data Types\n",
    "\n",
    "Although GAME_ID is a unique string, it will be joined with GAME_ID in player_game, where it is represented as a category, so represent it as a category here as well."
   ]
  },
  {
   "cell_type": "code",
   "execution_count": 46,
   "metadata": {},
   "outputs": [
    {
     "data": {
      "text/plain": [
       "GAME_ID              1.000000\n",
       "GAME_DY              0.000052\n",
       "DH_FL                0.000015\n",
       "DAYNIGHT_PARK_CD     0.000015\n",
       "AWAY_TEAM_ID         0.000325\n",
       "HOME_TEAM_ID         0.000325\n",
       "PARK_ID              0.000590\n",
       "AWAY_START_PIT_ID    0.026542\n",
       "HOME_START_PIT_ID    0.026299\n",
       "WIN_PIT_ID           0.034221\n",
       "LOSE_PIT_ID          0.036958\n",
       "SAVE_PIT_ID          0.020604\n",
       "GWRBI_BAT_ID         0.011087\n",
       "dtype: float64"
      ]
     },
     "execution_count": 46,
     "metadata": {},
     "output_type": "execute_result"
    }
   ],
   "source": [
    "df_obj = game.select_dtypes(include=['object'])\n",
    "df_obj.nunique() / df_obj.shape[0]"
   ]
  },
  {
   "cell_type": "code",
   "execution_count": 47,
   "metadata": {},
   "outputs": [],
   "source": [
    "# optimize_data_types will\n",
    "#  use smallest uint that can hold value\n",
    "#  convert all objects to category\n",
    "game = optimize_data_types(game)"
   ]
  },
  {
   "cell_type": "code",
   "execution_count": 48,
   "metadata": {},
   "outputs": [
    {
     "data": {
      "text/plain": [
       "GAME_ID                    category\n",
       "GAME_DT              datetime64[ns]\n",
       "GAME_CT                       uint8\n",
       "GAME_DY                    category\n",
       "DH_FL                      category\n",
       "DAYNIGHT_PARK_CD           category\n",
       "AWAY_TEAM_ID               category\n",
       "HOME_TEAM_ID               category\n",
       "PARK_ID                    category\n",
       "AWAY_START_PIT_ID          category\n",
       "HOME_START_PIT_ID          category\n",
       "ATTEND_PARK_CT              float64\n",
       "TEMP_PARK_CT                float64\n",
       "MINUTES_GAME_CT              uint16\n",
       "INN_CT                        uint8\n",
       "AWAY_SCORE_CT                 uint8\n",
       "HOME_SCORE_CT                 uint8\n",
       "AWAY_HITS_CT                  uint8\n",
       "HOME_HITS_CT                  uint8\n",
       "AWAY_ERR_CT                   uint8\n",
       "HOME_ERR_CT                   uint8\n",
       "AWAY_LOB_CT                   uint8\n",
       "HOME_LOB_CT                   uint8\n",
       "WIN_PIT_ID                 category\n",
       "LOSE_PIT_ID                category\n",
       "SAVE_PIT_ID                category\n",
       "GWRBI_BAT_ID               category\n",
       "dtype: object"
      ]
     },
     "execution_count": 48,
     "metadata": {},
     "output_type": "execute_result"
    }
   ],
   "source": [
    "game.dtypes"
   ]
  },
  {
   "cell_type": "code",
   "execution_count": 49,
   "metadata": {},
   "outputs": [
    {
     "data": {
      "text/plain": [
       "False"
      ]
     },
     "execution_count": 49,
     "metadata": {},
     "output_type": "execute_result"
    }
   ],
   "source": [
    "# unique key is: (date, home team, game count)\n",
    "(game.duplicated(subset=['GAME_DT', 'HOME_TEAM_ID', 'GAME_CT'], keep=False)).any()"
   ]
  },
  {
   "cell_type": "code",
   "execution_count": 50,
   "metadata": {},
   "outputs": [
    {
     "data": {
      "text/plain": [
       "False"
      ]
     },
     "execution_count": 50,
     "metadata": {},
     "output_type": "execute_result"
    }
   ],
   "source": [
    "# unique key is also: game_id \n",
    "(game.duplicated(subset=['GAME_ID'], keep=False)).any()"
   ]
  },
  {
   "cell_type": "code",
   "execution_count": 51,
   "metadata": {},
   "outputs": [
    {
     "data": {
      "text/plain": [
       "'24.52 MB'"
      ]
     },
     "execution_count": 51,
     "metadata": {},
     "output_type": "execute_result"
    }
   ],
   "source": [
    "mem_usage(game)"
   ]
  },
  {
   "cell_type": "code",
   "execution_count": 52,
   "metadata": {},
   "outputs": [],
   "source": [
    "os.chdir(p_persisted)\n",
    "game.to_csv('game.csv')"
   ]
  },
  {
   "cell_type": "markdown",
   "metadata": {
    "toc-hr-collapsed": false
   },
   "source": [
    "## 4. Scrape Data for Game Data Dictionary\n",
    "\n",
    "There is a field-name to field-description mapping provided on the following web page:  \n",
    "http://chadwick.sourceforge.net/doc/cwgame.html\n",
    "\n",
    "This data could be scraped from the webpage, but as a parser to read C source code to get this mapping was written above, it's simpler just to use it.\n",
    "\n",
    "Note: the codes for some of the \\_CD fields are only specified on the above web page, but the \\_CD fields are not being used in this study."
   ]
  },
  {
   "cell_type": "code",
   "execution_count": 53,
   "metadata": {},
   "outputs": [],
   "source": [
    "p_src = retrosheet.joinpath('src')\n",
    "os.chdir(p_src)"
   ]
  },
  {
   "cell_type": "code",
   "execution_count": 54,
   "metadata": {},
   "outputs": [],
   "source": [
    "game_reg_fields = parse_c_source('cwgame.c')\n",
    "game_ext_fields = parse_c_source('cwgame.c', 'ext_field_data')           "
   ]
  },
  {
   "cell_type": "code",
   "execution_count": 55,
   "metadata": {},
   "outputs": [
    {
     "data": {
      "text/plain": [
       "(84, 95)"
      ]
     },
     "execution_count": 55,
     "metadata": {},
     "output_type": "execute_result"
    }
   ],
   "source": [
    "# there are 84 regular fields and 95 extended fields\n",
    "len(game_reg_fields), len(game_ext_fields)"
   ]
  },
  {
   "cell_type": "markdown",
   "metadata": {},
   "source": [
    "#### Data Dictionary Note\n",
    "DH_FL: Designated Hitter Flag, 'T' if DH in use, else 'F'  \n",
    "DAYNIGHT_PARK_CD: 'N' for night, 'D' for day  \n",
    "GW_RBI_BAT_ID: Batter ID for batter who got Game Winning RBI  "
   ]
  },
  {
   "cell_type": "code",
   "execution_count": 56,
   "metadata": {},
   "outputs": [
    {
     "data": {
      "text/plain": [
       "{'GAME_ID': 'game id',\n",
       " 'GAME_DT': 'date',\n",
       " 'GAME_CT': 'game number (0 = no double header)',\n",
       " 'GAME_DY': 'day of week',\n",
       " 'START_GAME_TM': 'start time',\n",
       " 'DH_FL': 'DH used flag',\n",
       " 'DAYNIGHT_PARK_CD': 'day/night flag',\n",
       " 'AWAY_TEAM_ID': 'visiting team',\n",
       " 'HOME_TEAM_ID': 'home team',\n",
       " 'PARK_ID': 'game site',\n",
       " 'AWAY_START_PIT_ID': 'vis. starting pitcher',\n",
       " 'HOME_START_PIT_ID': 'home starting pitcher',\n",
       " 'ATTEND_PARK_CT': 'attendance',\n",
       " 'TEMP_PARK_CT': 'temperature',\n",
       " 'MINUTES_GAME_CT': 'time of game',\n",
       " 'INN_CT': 'number of innings',\n",
       " 'AWAY_SCORE_CT': 'visitor final score',\n",
       " 'HOME_SCORE_CT': 'home final score',\n",
       " 'AWAY_HITS_CT': 'visitor hits',\n",
       " 'HOME_HITS_CT': 'home hits',\n",
       " 'AWAY_ERR_CT': 'visitor errors',\n",
       " 'HOME_ERR_CT': 'home errors',\n",
       " 'AWAY_LOB_CT': 'visitor left on base',\n",
       " 'HOME_LOB_CT': 'home left on base',\n",
       " 'WIN_PIT_ID': 'winning pitcher',\n",
       " 'LOSE_PIT_ID': 'losing pitcher',\n",
       " 'SAVE_PIT_ID': 'save for',\n",
       " 'GWRBI_BAT_ID': 'GW RBI'}"
      ]
     },
     "execution_count": 56,
     "metadata": {},
     "output_type": "execute_result"
    }
   ],
   "source": [
    "# As of Python 3.6, dictionaries maintain insertion order\n",
    "game_fields = {key:value for num, \n",
    "    (key, value) in enumerate(game_reg_fields.items()) if num < 46}\n",
    "\n",
    "for key in drop_columns:\n",
    "    del game_fields[key]\n",
    "\n",
    "game_fields"
   ]
  },
  {
   "cell_type": "markdown",
   "metadata": {},
   "source": [
    "#### Persist game_fields"
   ]
  },
  {
   "cell_type": "code",
   "execution_count": 57,
   "metadata": {},
   "outputs": [],
   "source": [
    "os.chdir(p_persisted)\n",
    "\n",
    "# index=[0] is required for dictionary of scalar values\n",
    "game_fields_df = pd.DataFrame(game_fields, index=[0])\n",
    "game_fields_df.to_csv('game_fields.csv')"
   ]
  },
  {
   "cell_type": "markdown",
   "metadata": {
    "toc-hr-collapsed": true
   },
   "source": [
    "## 5. Scrape Data for Player Lookup Table\n",
    "\n",
    "There is no separate file for this.  It will be scraped from a web page."
   ]
  },
  {
   "cell_type": "code",
   "execution_count": 58,
   "metadata": {},
   "outputs": [],
   "source": [
    "import requests\n",
    "import pandas as pd\n",
    "from io import StringIO\n",
    "from bs4 import BeautifulSoup"
   ]
  },
  {
   "cell_type": "code",
   "execution_count": 59,
   "metadata": {},
   "outputs": [],
   "source": [
    "# get the web page\n",
    "r = requests.get(\"https://www.retrosheet.org/retroID.htm\")\n",
    "soup = BeautifulSoup(r.content, 'lxml')\n",
    "\n",
    "# data is within the pre tag\n",
    "table_txt = soup.pre.string\n",
    "\n",
    "# remove unnecessary double quotes\n",
    "table_txt = table_txt.replace('\"','')\n",
    "\n",
    "# read from this string instead of file\n",
    "players = pd.read_csv(StringIO(table_txt), parse_dates=['Play debut'])"
   ]
  },
  {
   "cell_type": "code",
   "execution_count": 60,
   "metadata": {},
   "outputs": [
    {
     "data": {
      "text/html": [
       "<div>\n",
       "<style scoped>\n",
       "    .dataframe tbody tr th:only-of-type {\n",
       "        vertical-align: middle;\n",
       "    }\n",
       "\n",
       "    .dataframe tbody tr th {\n",
       "        vertical-align: top;\n",
       "    }\n",
       "\n",
       "    .dataframe thead th {\n",
       "        text-align: right;\n",
       "    }\n",
       "</style>\n",
       "<table border=\"1\" class=\"dataframe\">\n",
       "  <thead>\n",
       "    <tr style=\"text-align: right;\">\n",
       "      <th></th>\n",
       "      <th>ID</th>\n",
       "      <th>Last</th>\n",
       "      <th>First</th>\n",
       "      <th>Play debut</th>\n",
       "      <th>Mgr debut</th>\n",
       "      <th>Coach debut</th>\n",
       "      <th>Ump debut</th>\n",
       "    </tr>\n",
       "  </thead>\n",
       "  <tbody>\n",
       "    <tr>\n",
       "      <th>0</th>\n",
       "      <td>aardd001</td>\n",
       "      <td>Aardsma</td>\n",
       "      <td>David</td>\n",
       "      <td>2004-04-06</td>\n",
       "      <td>NaN</td>\n",
       "      <td>NaN</td>\n",
       "      <td>NaN</td>\n",
       "    </tr>\n",
       "    <tr>\n",
       "      <th>1</th>\n",
       "      <td>aaroh101</td>\n",
       "      <td>Aaron</td>\n",
       "      <td>Hank</td>\n",
       "      <td>1954-04-13</td>\n",
       "      <td>NaN</td>\n",
       "      <td>NaN</td>\n",
       "      <td>NaN</td>\n",
       "    </tr>\n",
       "    <tr>\n",
       "      <th>2</th>\n",
       "      <td>aarot101</td>\n",
       "      <td>Aaron</td>\n",
       "      <td>Tommie</td>\n",
       "      <td>1962-04-10</td>\n",
       "      <td>NaN</td>\n",
       "      <td>04/06/1979</td>\n",
       "      <td>NaN</td>\n",
       "    </tr>\n",
       "    <tr>\n",
       "      <th>3</th>\n",
       "      <td>aased001</td>\n",
       "      <td>Aase</td>\n",
       "      <td>Don</td>\n",
       "      <td>1977-07-26</td>\n",
       "      <td>NaN</td>\n",
       "      <td>NaN</td>\n",
       "      <td>NaN</td>\n",
       "    </tr>\n",
       "    <tr>\n",
       "      <th>4</th>\n",
       "      <td>abada001</td>\n",
       "      <td>Abad</td>\n",
       "      <td>Andy</td>\n",
       "      <td>2001-09-10</td>\n",
       "      <td>NaN</td>\n",
       "      <td>NaN</td>\n",
       "      <td>NaN</td>\n",
       "    </tr>\n",
       "  </tbody>\n",
       "</table>\n",
       "</div>"
      ],
      "text/plain": [
       "         ID     Last   First Play debut Mgr debut Coach debut Ump debut\n",
       "0  aardd001  Aardsma   David 2004-04-06       NaN         NaN       NaN\n",
       "1  aaroh101    Aaron    Hank 1954-04-13       NaN         NaN       NaN\n",
       "2  aarot101    Aaron  Tommie 1962-04-10       NaN  04/06/1979       NaN\n",
       "3  aased001     Aase     Don 1977-07-26       NaN         NaN       NaN\n",
       "4  abada001     Abad    Andy 2001-09-10       NaN         NaN       NaN"
      ]
     },
     "execution_count": 60,
     "metadata": {},
     "output_type": "execute_result"
    }
   ],
   "source": [
    "players.head()"
   ]
  },
  {
   "cell_type": "markdown",
   "metadata": {},
   "source": [
    "#### Persist Players"
   ]
  },
  {
   "cell_type": "code",
   "execution_count": 61,
   "metadata": {},
   "outputs": [],
   "source": [
    "os.chdir(p_persisted)\n",
    "players.to_csv('players.csv')"
   ]
  },
  {
   "cell_type": "markdown",
   "metadata": {
    "toc-hr-collapsed": true
   },
   "source": [
    "## 6. Scrape Data for Stadium Lookup Table\n",
    "There is no separate file for this, it will be scraped from a webpage."
   ]
  },
  {
   "cell_type": "code",
   "execution_count": 62,
   "metadata": {},
   "outputs": [],
   "source": [
    "# get the web page (this is not html!)\n",
    "r = requests.get(\"https://www.retrosheet.org/parkcode.txt\")\n",
    "\n",
    "table_txt = r.content.decode(\"utf-8\")\n",
    "\n",
    "# read from this string instead of file\n",
    "parks = pd.read_csv(StringIO(table_txt), parse_dates=['START', 'END'])"
   ]
  },
  {
   "cell_type": "code",
   "execution_count": 63,
   "metadata": {},
   "outputs": [
    {
     "data": {
      "text/html": [
       "<div>\n",
       "<style scoped>\n",
       "    .dataframe tbody tr th:only-of-type {\n",
       "        vertical-align: middle;\n",
       "    }\n",
       "\n",
       "    .dataframe tbody tr th {\n",
       "        vertical-align: top;\n",
       "    }\n",
       "\n",
       "    .dataframe thead th {\n",
       "        text-align: right;\n",
       "    }\n",
       "</style>\n",
       "<table border=\"1\" class=\"dataframe\">\n",
       "  <thead>\n",
       "    <tr style=\"text-align: right;\">\n",
       "      <th></th>\n",
       "      <th>PARKID</th>\n",
       "      <th>NAME</th>\n",
       "      <th>AKA</th>\n",
       "      <th>CITY</th>\n",
       "      <th>STATE</th>\n",
       "      <th>START</th>\n",
       "      <th>END</th>\n",
       "      <th>LEAGUE</th>\n",
       "      <th>NOTES</th>\n",
       "    </tr>\n",
       "  </thead>\n",
       "  <tbody>\n",
       "    <tr>\n",
       "      <th>0</th>\n",
       "      <td>ALB01</td>\n",
       "      <td>Riverside Park</td>\n",
       "      <td>NaN</td>\n",
       "      <td>Albany</td>\n",
       "      <td>NY</td>\n",
       "      <td>1880-09-11</td>\n",
       "      <td>1882-05-30</td>\n",
       "      <td>NL</td>\n",
       "      <td>TRN:9/11/80;6/15&amp;9/10/1881;5/16-5/18&amp;5/30/1882</td>\n",
       "    </tr>\n",
       "    <tr>\n",
       "      <th>1</th>\n",
       "      <td>ALT01</td>\n",
       "      <td>Columbia Park</td>\n",
       "      <td>NaN</td>\n",
       "      <td>Altoona</td>\n",
       "      <td>PA</td>\n",
       "      <td>1884-04-30</td>\n",
       "      <td>1884-05-31</td>\n",
       "      <td>UA</td>\n",
       "      <td>NaN</td>\n",
       "    </tr>\n",
       "    <tr>\n",
       "      <th>2</th>\n",
       "      <td>ANA01</td>\n",
       "      <td>Angel Stadium of Anaheim</td>\n",
       "      <td>Edison Field; Anaheim Stadium</td>\n",
       "      <td>Anaheim</td>\n",
       "      <td>CA</td>\n",
       "      <td>1966-04-19</td>\n",
       "      <td>NaT</td>\n",
       "      <td>AL</td>\n",
       "      <td>NaN</td>\n",
       "    </tr>\n",
       "    <tr>\n",
       "      <th>3</th>\n",
       "      <td>ARL01</td>\n",
       "      <td>Arlington Stadium</td>\n",
       "      <td>NaN</td>\n",
       "      <td>Arlington</td>\n",
       "      <td>TX</td>\n",
       "      <td>1972-04-21</td>\n",
       "      <td>1993-10-03</td>\n",
       "      <td>AL</td>\n",
       "      <td>NaN</td>\n",
       "    </tr>\n",
       "    <tr>\n",
       "      <th>4</th>\n",
       "      <td>ARL02</td>\n",
       "      <td>Rangers Ballpark in Arlington</td>\n",
       "      <td>The Ballpark in Arlington; Ameriquest Fl</td>\n",
       "      <td>Arlington</td>\n",
       "      <td>TX</td>\n",
       "      <td>1994-04-11</td>\n",
       "      <td>NaT</td>\n",
       "      <td>AL</td>\n",
       "      <td>NaN</td>\n",
       "    </tr>\n",
       "  </tbody>\n",
       "</table>\n",
       "</div>"
      ],
      "text/plain": [
       "  PARKID                           NAME  \\\n",
       "0  ALB01                 Riverside Park   \n",
       "1  ALT01                  Columbia Park   \n",
       "2  ANA01       Angel Stadium of Anaheim   \n",
       "3  ARL01              Arlington Stadium   \n",
       "4  ARL02  Rangers Ballpark in Arlington   \n",
       "\n",
       "                                        AKA       CITY STATE      START  \\\n",
       "0                                       NaN     Albany    NY 1880-09-11   \n",
       "1                                       NaN    Altoona    PA 1884-04-30   \n",
       "2             Edison Field; Anaheim Stadium    Anaheim    CA 1966-04-19   \n",
       "3                                       NaN  Arlington    TX 1972-04-21   \n",
       "4  The Ballpark in Arlington; Ameriquest Fl  Arlington    TX 1994-04-11   \n",
       "\n",
       "         END LEAGUE                                           NOTES  \n",
       "0 1882-05-30     NL  TRN:9/11/80;6/15&9/10/1881;5/16-5/18&5/30/1882  \n",
       "1 1884-05-31     UA                                             NaN  \n",
       "2        NaT     AL                                             NaN  \n",
       "3 1993-10-03     AL                                             NaN  \n",
       "4        NaT     AL                                             NaN  "
      ]
     },
     "execution_count": 63,
     "metadata": {},
     "output_type": "execute_result"
    }
   ],
   "source": [
    "parks.head()"
   ]
  },
  {
   "cell_type": "markdown",
   "metadata": {},
   "source": [
    "#### Persist Stadiums"
   ]
  },
  {
   "cell_type": "code",
   "execution_count": 64,
   "metadata": {},
   "outputs": [],
   "source": [
    "os.chdir(p_persisted)\n",
    "parks.to_csv('parks.csv')"
   ]
  }
 ],
 "metadata": {
  "kernelspec": {
   "display_name": "Python 3",
   "language": "python",
   "name": "python3"
  },
  "language_info": {
   "codemirror_mode": {
    "name": "ipython",
    "version": 3
   },
   "file_extension": ".py",
   "mimetype": "text/x-python",
   "name": "python",
   "nbconvert_exporter": "python",
   "pygments_lexer": "ipython3",
   "version": "3.7.2"
  }
 },
 "nbformat": 4,
 "nbformat_minor": 2
}
