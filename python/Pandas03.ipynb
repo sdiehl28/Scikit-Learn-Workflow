{
 "cells": [
  {
   "cell_type": "markdown",
   "metadata": {
    "toc-hr-collapsed": false
   },
   "source": [
    "# Pandas Introduction Part 3"
   ]
  },
  {
   "cell_type": "markdown",
   "metadata": {
    "toc-hr-collapsed": true
   },
   "source": [
    "## Overview\n",
    "\n",
    "This notebook uses the IMDB dataset from Kaggle:  \n",
    "https://www.kaggle.com/PromptCloudHQ/imdb-data#IMDB-Movie-Data.csv\n",
    "\n",
    "\n",
    "Data Wrangling is demonstrated."
   ]
  },
  {
   "cell_type": "code",
   "execution_count": 35,
   "metadata": {},
   "outputs": [],
   "source": [
    "import pandas as pd\n",
    "import numpy as np"
   ]
  },
  {
   "cell_type": "markdown",
   "metadata": {
    "toc-hr-collapsed": false
   },
   "source": [
    "## Read Movie Data Set"
   ]
  },
  {
   "cell_type": "code",
   "execution_count": 36,
   "metadata": {},
   "outputs": [],
   "source": [
    "import pickle\n",
    "with open('../data/movies.pickle','rb') as p:\n",
    "    movies = pickle.load(p)"
   ]
  },
  {
   "cell_type": "code",
   "execution_count": 37,
   "metadata": {},
   "outputs": [
    {
     "data": {
      "text/html": [
       "<div>\n",
       "<style scoped>\n",
       "    .dataframe tbody tr th:only-of-type {\n",
       "        vertical-align: middle;\n",
       "    }\n",
       "\n",
       "    .dataframe tbody tr th {\n",
       "        vertical-align: top;\n",
       "    }\n",
       "\n",
       "    .dataframe thead th {\n",
       "        text-align: right;\n",
       "    }\n",
       "</style>\n",
       "<table border=\"1\" class=\"dataframe\">\n",
       "  <thead>\n",
       "    <tr style=\"text-align: right;\">\n",
       "      <th></th>\n",
       "      <th>ID</th>\n",
       "      <th>Genre</th>\n",
       "      <th>Description</th>\n",
       "      <th>Director</th>\n",
       "      <th>Actors</th>\n",
       "      <th>Year</th>\n",
       "      <th>Runtime</th>\n",
       "      <th>Rating</th>\n",
       "      <th>Votes</th>\n",
       "      <th>Revenue</th>\n",
       "      <th>Metascore</th>\n",
       "    </tr>\n",
       "    <tr>\n",
       "      <th>Title</th>\n",
       "      <th></th>\n",
       "      <th></th>\n",
       "      <th></th>\n",
       "      <th></th>\n",
       "      <th></th>\n",
       "      <th></th>\n",
       "      <th></th>\n",
       "      <th></th>\n",
       "      <th></th>\n",
       "      <th></th>\n",
       "      <th></th>\n",
       "    </tr>\n",
       "  </thead>\n",
       "  <tbody>\n",
       "    <tr>\n",
       "      <th>Guardians of the Galaxy</th>\n",
       "      <td>1</td>\n",
       "      <td>Action,Adventure,Sci-Fi</td>\n",
       "      <td>A group of intergalactic criminals are forced ...</td>\n",
       "      <td>James Gunn</td>\n",
       "      <td>Chris Pratt, Vin Diesel, Bradley Cooper, Zoe S...</td>\n",
       "      <td>2014</td>\n",
       "      <td>121</td>\n",
       "      <td>8.1</td>\n",
       "      <td>757074</td>\n",
       "      <td>333.13</td>\n",
       "      <td>76.0</td>\n",
       "    </tr>\n",
       "    <tr>\n",
       "      <th>Prometheus</th>\n",
       "      <td>2</td>\n",
       "      <td>Adventure,Mystery,Sci-Fi</td>\n",
       "      <td>Following clues to the origin of mankind, a te...</td>\n",
       "      <td>Ridley Scott</td>\n",
       "      <td>Noomi Rapace, Logan Marshall-Green, Michael Fa...</td>\n",
       "      <td>2012</td>\n",
       "      <td>124</td>\n",
       "      <td>7.0</td>\n",
       "      <td>485820</td>\n",
       "      <td>126.46</td>\n",
       "      <td>65.0</td>\n",
       "    </tr>\n",
       "  </tbody>\n",
       "</table>\n",
       "</div>"
      ],
      "text/plain": [
       "                         ID                     Genre  \\\n",
       "Title                                                   \n",
       "Guardians of the Galaxy   1   Action,Adventure,Sci-Fi   \n",
       "Prometheus                2  Adventure,Mystery,Sci-Fi   \n",
       "\n",
       "                                                               Description  \\\n",
       "Title                                                                        \n",
       "Guardians of the Galaxy  A group of intergalactic criminals are forced ...   \n",
       "Prometheus               Following clues to the origin of mankind, a te...   \n",
       "\n",
       "                             Director  \\\n",
       "Title                                   \n",
       "Guardians of the Galaxy    James Gunn   \n",
       "Prometheus               Ridley Scott   \n",
       "\n",
       "                                                                    Actors  \\\n",
       "Title                                                                        \n",
       "Guardians of the Galaxy  Chris Pratt, Vin Diesel, Bradley Cooper, Zoe S...   \n",
       "Prometheus               Noomi Rapace, Logan Marshall-Green, Michael Fa...   \n",
       "\n",
       "                         Year  Runtime  Rating   Votes  Revenue  Metascore  \n",
       "Title                                                                       \n",
       "Guardians of the Galaxy  2014      121     8.1  757074   333.13       76.0  \n",
       "Prometheus               2012      124     7.0  485820   126.46       65.0  "
      ]
     },
     "execution_count": 37,
     "metadata": {},
     "output_type": "execute_result"
    }
   ],
   "source": [
    "# display first 2 rows of the DataFrame\n",
    "movies.head(2)"
   ]
  },
  {
   "cell_type": "markdown",
   "metadata": {
    "toc-hr-collapsed": false
   },
   "source": [
    "## Data Wrangling: Queries involving Genre\n",
    "Each cell in the Genre column is a single string.  This string consists of several genres separated by commas.  The Actors column is the same.\n",
    "\n",
    "With data in this format, it is not obvious how to answer queries such as \"what genre has the highest average rating?\". Or \"what actor has the highest average rating?\".\n",
    "\n",
    "There are (at least) 3 ways to wrangle this column's data:\n",
    "1. Create an indicator column for the presence/absence of each genre for each movie.\n",
    "2. Create a mapping of genre to titles and a create a custom \"groupby\" to yield groups of movies for each genre.  The normal Pandas groupby won't work for genre or actors.\n",
    "3. \"Denormalize\" the data.\n",
    "\n",
    "In all cases, it is helpful to begin by creating a list of unique Genres (or unique Actors) before doing the data analysis.\n",
    "\n",
    "Briefly, the pros and cons of the above are:\n",
    "1. This may be best if a machine learning algorithm is to be used on the data.  It also makes data analysis easy and it is easy to set up.\n",
    "2. This solution is easy to implement for a senior level developer, but may be difficult to code and maintain for a junior data analyst.  If offers good speed and good memory usage.\n",
    "3. This is the easiest form for a data analyst to work with, and is relatively easy to set up.  However it could require significant additional memory.\n",
    "\n",
    "Examples of each of the above are shown below."
   ]
  },
  {
   "cell_type": "markdown",
   "metadata": {},
   "source": [
    "### Quick Look at the Data"
   ]
  },
  {
   "cell_type": "code",
   "execution_count": 38,
   "metadata": {},
   "outputs": [
    {
     "data": {
      "text/plain": [
       "Title\n",
       "Guardians of the Galaxy     Action,Adventure,Sci-Fi\n",
       "Prometheus                 Adventure,Mystery,Sci-Fi\n",
       "Split                               Horror,Thriller\n",
       "Sing                        Animation,Comedy,Family\n",
       "Suicide Squad              Action,Adventure,Fantasy\n",
       "Name: Genre, dtype: object"
      ]
     },
     "execution_count": 38,
     "metadata": {},
     "output_type": "execute_result"
    }
   ],
   "source": [
    "# Look at Genre as is\n",
    "movies['Genre'].head(5)"
   ]
  },
  {
   "cell_type": "code",
   "execution_count": 39,
   "metadata": {},
   "outputs": [
    {
     "data": {
      "text/plain": [
       "Ridley Scott          8\n",
       "Michael Bay           6\n",
       "David Yates           6\n",
       "Paul W.S. Anderson    6\n",
       "M. Night Shyamalan    6\n",
       "Name: Director, dtype: int64"
      ]
     },
     "execution_count": 39,
     "metadata": {},
     "output_type": "execute_result"
    }
   ],
   "source": [
    "# typical way of finding unique values\n",
    "# works when cell contains one value\n",
    "movies['Director'].value_counts().head()"
   ]
  },
  {
   "cell_type": "code",
   "execution_count": 40,
   "metadata": {},
   "outputs": [
    {
     "data": {
      "text/plain": [
       "Action,Adventure,Sci-Fi    50\n",
       "Drama                      48\n",
       "Comedy,Drama,Romance       35\n",
       "Comedy                     32\n",
       "Drama,Romance              31\n",
       "Name: Genre, dtype: int64"
      ]
     },
     "execution_count": 40,
     "metadata": {},
     "output_type": "execute_result"
    }
   ],
   "source": [
    "# this doesnt work as needed for Genre or Actor\n",
    "movies['Genre'].value_counts().head()"
   ]
  },
  {
   "cell_type": "markdown",
   "metadata": {},
   "source": [
    "The above is count per genre string, not per genre."
   ]
  },
  {
   "cell_type": "markdown",
   "metadata": {
    "toc-hr-collapsed": true
   },
   "source": [
    "### Write Parser for Genre (or Actors) String"
   ]
  },
  {
   "cell_type": "code",
   "execution_count": 46,
   "metadata": {},
   "outputs": [],
   "source": [
    "def parse_string(s):\n",
    "    \"\"\"Convert string with comma separated values to list of strings.\n",
    "    For each string, remove leading and trailing whitespace.\n",
    "    \"\"\"\n",
    "    values = s.split(',')\n",
    "    return [value.strip() for value in values]"
   ]
  },
  {
   "cell_type": "markdown",
   "metadata": {},
   "source": [
    "#### Use Parser\n",
    "1. use Pandas Vectorized operator 'apply' to avoid explict iteration over all titles\n",
    "2. note: index of result Series is Title\n",
    "3. note: value of result Series is list of genres\n",
    "\n",
    "The same mapping could have been created using a defaultdict(list) and explicitly iterating over each movie, but Pandas makes this easier and possibly faster."
   ]
  },
  {
   "cell_type": "code",
   "execution_count": 25,
   "metadata": {},
   "outputs": [
    {
     "data": {
      "text/plain": [
       "Title\n",
       "Guardians of the Galaxy     [Action, Adventure, Sci-Fi]\n",
       "Prometheus                 [Adventure, Mystery, Sci-Fi]\n",
       "Split                                [Horror, Thriller]\n",
       "Sing                        [Animation, Comedy, Family]\n",
       "Suicide Squad              [Action, Adventure, Fantasy]\n",
       "Name: Genre, dtype: object"
      ]
     },
     "execution_count": 25,
     "metadata": {},
     "output_type": "execute_result"
    }
   ],
   "source": [
    "title_genre_series = movies['Genre'].apply(parse_genre_string)\n",
    "title_genre_series.head()"
   ]
  },
  {
   "cell_type": "markdown",
   "metadata": {},
   "source": [
    "For each title, add the list of genres to the genre set."
   ]
  },
  {
   "cell_type": "code",
   "execution_count": 48,
   "metadata": {},
   "outputs": [
    {
     "data": {
      "text/plain": [
       "{'Action',\n",
       " 'Adventure',\n",
       " 'Animation',\n",
       " 'Biography',\n",
       " 'Comedy',\n",
       " 'Crime',\n",
       " 'Drama',\n",
       " 'Family',\n",
       " 'Fantasy',\n",
       " 'History',\n",
       " 'Horror',\n",
       " 'Music',\n",
       " 'Musical',\n",
       " 'Mystery',\n",
       " 'Romance',\n",
       " 'Sci-Fi',\n",
       " 'Sport',\n",
       " 'Thriller',\n",
       " 'War',\n",
       " 'Western'}"
      ]
     },
     "execution_count": 48,
     "metadata": {},
     "output_type": "execute_result"
    }
   ],
   "source": [
    "genres = set()\n",
    "\n",
    "title_genres_series.apply(lambda x: genres.update(x))\n",
    "genres"
   ]
  },
  {
   "cell_type": "markdown",
   "metadata": {
    "toc-hr-collapsed": true
   },
   "source": [
    "### Create Indicator Variables\n",
    "It is helpful to prefix the name of each new column so they can be treated together.\n",
    "\n",
    "Each indicator column will have True for presence of genre and False for absence of genre."
   ]
  },
  {
   "cell_type": "code",
   "execution_count": 55,
   "metadata": {},
   "outputs": [],
   "source": [
    "for genre in genres:\n",
    "    movies['Genre_'+genre] = movies['Genre'].apply(lambda x: genre in x)"
   ]
  },
  {
   "cell_type": "code",
   "execution_count": 56,
   "metadata": {},
   "outputs": [
    {
     "data": {
      "text/html": [
       "<div>\n",
       "<style scoped>\n",
       "    .dataframe tbody tr th:only-of-type {\n",
       "        vertical-align: middle;\n",
       "    }\n",
       "\n",
       "    .dataframe tbody tr th {\n",
       "        vertical-align: top;\n",
       "    }\n",
       "\n",
       "    .dataframe thead th {\n",
       "        text-align: right;\n",
       "    }\n",
       "</style>\n",
       "<table border=\"1\" class=\"dataframe\">\n",
       "  <thead>\n",
       "    <tr style=\"text-align: right;\">\n",
       "      <th></th>\n",
       "      <th>Genre_Crime</th>\n",
       "      <th>Genre_Action</th>\n",
       "      <th>Genre_Drama</th>\n",
       "      <th>Genre_Musical</th>\n",
       "      <th>Genre_Romance</th>\n",
       "      <th>Genre_Western</th>\n",
       "      <th>Genre_Fantasy</th>\n",
       "      <th>Genre_Mystery</th>\n",
       "      <th>Genre_Biography</th>\n",
       "      <th>Genre_Music</th>\n",
       "      <th>Genre_Adventure</th>\n",
       "      <th>Genre_Thriller</th>\n",
       "      <th>Genre_Animation</th>\n",
       "      <th>Genre_Sport</th>\n",
       "      <th>Genre_Sci-Fi</th>\n",
       "      <th>Genre_War</th>\n",
       "      <th>Genre_Comedy</th>\n",
       "      <th>Genre_Horror</th>\n",
       "      <th>Genre_Family</th>\n",
       "      <th>Genre_History</th>\n",
       "    </tr>\n",
       "    <tr>\n",
       "      <th>Title</th>\n",
       "      <th></th>\n",
       "      <th></th>\n",
       "      <th></th>\n",
       "      <th></th>\n",
       "      <th></th>\n",
       "      <th></th>\n",
       "      <th></th>\n",
       "      <th></th>\n",
       "      <th></th>\n",
       "      <th></th>\n",
       "      <th></th>\n",
       "      <th></th>\n",
       "      <th></th>\n",
       "      <th></th>\n",
       "      <th></th>\n",
       "      <th></th>\n",
       "      <th></th>\n",
       "      <th></th>\n",
       "      <th></th>\n",
       "      <th></th>\n",
       "    </tr>\n",
       "  </thead>\n",
       "  <tbody>\n",
       "    <tr>\n",
       "      <th>Guardians of the Galaxy</th>\n",
       "      <td>False</td>\n",
       "      <td>True</td>\n",
       "      <td>False</td>\n",
       "      <td>False</td>\n",
       "      <td>False</td>\n",
       "      <td>False</td>\n",
       "      <td>False</td>\n",
       "      <td>False</td>\n",
       "      <td>False</td>\n",
       "      <td>False</td>\n",
       "      <td>True</td>\n",
       "      <td>False</td>\n",
       "      <td>False</td>\n",
       "      <td>False</td>\n",
       "      <td>True</td>\n",
       "      <td>False</td>\n",
       "      <td>False</td>\n",
       "      <td>False</td>\n",
       "      <td>False</td>\n",
       "      <td>False</td>\n",
       "    </tr>\n",
       "    <tr>\n",
       "      <th>Prometheus</th>\n",
       "      <td>False</td>\n",
       "      <td>False</td>\n",
       "      <td>False</td>\n",
       "      <td>False</td>\n",
       "      <td>False</td>\n",
       "      <td>False</td>\n",
       "      <td>False</td>\n",
       "      <td>True</td>\n",
       "      <td>False</td>\n",
       "      <td>False</td>\n",
       "      <td>True</td>\n",
       "      <td>False</td>\n",
       "      <td>False</td>\n",
       "      <td>False</td>\n",
       "      <td>True</td>\n",
       "      <td>False</td>\n",
       "      <td>False</td>\n",
       "      <td>False</td>\n",
       "      <td>False</td>\n",
       "      <td>False</td>\n",
       "    </tr>\n",
       "  </tbody>\n",
       "</table>\n",
       "</div>"
      ],
      "text/plain": [
       "                         Genre_Crime  Genre_Action  Genre_Drama  \\\n",
       "Title                                                             \n",
       "Guardians of the Galaxy        False          True        False   \n",
       "Prometheus                     False         False        False   \n",
       "\n",
       "                         Genre_Musical  Genre_Romance  Genre_Western  \\\n",
       "Title                                                                  \n",
       "Guardians of the Galaxy          False          False          False   \n",
       "Prometheus                       False          False          False   \n",
       "\n",
       "                         Genre_Fantasy  Genre_Mystery  Genre_Biography  \\\n",
       "Title                                                                    \n",
       "Guardians of the Galaxy          False          False            False   \n",
       "Prometheus                       False           True            False   \n",
       "\n",
       "                         Genre_Music  Genre_Adventure  Genre_Thriller  \\\n",
       "Title                                                                   \n",
       "Guardians of the Galaxy        False             True           False   \n",
       "Prometheus                     False             True           False   \n",
       "\n",
       "                         Genre_Animation  Genre_Sport  Genre_Sci-Fi  \\\n",
       "Title                                                                 \n",
       "Guardians of the Galaxy            False        False          True   \n",
       "Prometheus                         False        False          True   \n",
       "\n",
       "                         Genre_War  Genre_Comedy  Genre_Horror  Genre_Family  \\\n",
       "Title                                                                          \n",
       "Guardians of the Galaxy      False         False         False         False   \n",
       "Prometheus                   False         False         False         False   \n",
       "\n",
       "                         Genre_History  \n",
       "Title                                   \n",
       "Guardians of the Galaxy          False  \n",
       "Prometheus                       False  "
      ]
     },
     "execution_count": 56,
     "metadata": {},
     "output_type": "execute_result"
    }
   ],
   "source": [
    "# select all columns that begin with Genre_\n",
    "genre_indicators = movies.filter(regex='^Genre_', axis='columns')\n",
    "genre_indicators.head(2)"
   ]
  },
  {
   "cell_type": "code",
   "execution_count": 57,
   "metadata": {},
   "outputs": [
    {
     "data": {
      "text/plain": [
       "bool    20\n",
       "dtype: int64"
      ]
     },
     "execution_count": 57,
     "metadata": {},
     "output_type": "execute_result"
    }
   ],
   "source": [
    "# Pandas uses bool for datatype for each column, so memory usage is efficient\n",
    "genre_indicators.dtypes.value_counts()"
   ]
  },
  {
   "cell_type": "markdown",
   "metadata": {},
   "source": [
    "#### Using Indicator Variables to Compute Movies per Genre"
   ]
  },
  {
   "cell_type": "code",
   "execution_count": 71,
   "metadata": {},
   "outputs": [
    {
     "data": {
      "text/plain": [
       "{'Genre_Crime': 150,\n",
       " 'Genre_Action': 303,\n",
       " 'Genre_Drama': 513,\n",
       " 'Genre_Musical': 5,\n",
       " 'Genre_Romance': 141,\n",
       " 'Genre_Western': 7,\n",
       " 'Genre_Fantasy': 101,\n",
       " 'Genre_Mystery': 106,\n",
       " 'Genre_Biography': 81,\n",
       " 'Genre_Music': 21,\n",
       " 'Genre_Adventure': 259,\n",
       " 'Genre_Thriller': 195,\n",
       " 'Genre_Animation': 49,\n",
       " 'Genre_Sport': 18,\n",
       " 'Genre_Sci-Fi': 120,\n",
       " 'Genre_War': 13,\n",
       " 'Genre_Comedy': 279,\n",
       " 'Genre_Horror': 119,\n",
       " 'Genre_Family': 51,\n",
       " 'Genre_History': 29}"
      ]
     },
     "execution_count": 71,
     "metadata": {},
     "output_type": "execute_result"
    }
   ],
   "source": [
    "movies_per_genre = genre_indicators.sum(axis='rows').to_dict()\n",
    "movies_per_genre"
   ]
  },
  {
   "cell_type": "markdown",
   "metadata": {},
   "source": [
    "It is often easier to work with indicator columns, if there are not too many of them.  \n",
    "After the one time creation of the indicator columns, queries are fast."
   ]
  },
  {
   "cell_type": "markdown",
   "metadata": {},
   "source": [
    "## Create Mapping of Genre to Titles\n",
    "\n",
    "Make use of genre indicator columns."
   ]
  },
  {
   "cell_type": "code",
   "execution_count": 98,
   "metadata": {},
   "outputs": [],
   "source": [
    "genre_to_titles = {}\n",
    "for genre in genres:\n",
    "    titles = movies[movies['Genre_'+genre]].index.tolist()\n",
    "    genre_to_titles[genre] = titles"
   ]
  },
  {
   "cell_type": "markdown",
   "metadata": {},
   "source": [
    "### Use Genre to Titles Mapping to Compute Movies per Genre"
   ]
  },
  {
   "cell_type": "code",
   "execution_count": 99,
   "metadata": {},
   "outputs": [],
   "source": [
    "movies_per_genre2 = {'Genre_'+genre:len(titles) for genre,titles in genre_to_titles.items()}"
   ]
  },
  {
   "cell_type": "code",
   "execution_count": 100,
   "metadata": {},
   "outputs": [
    {
     "data": {
      "text/plain": [
       "True"
      ]
     },
     "execution_count": 100,
     "metadata": {},
     "output_type": "execute_result"
    }
   ],
   "source": [
    "# verify results are the same\n",
    "movies_per_genre == movies_per_genre2"
   ]
  },
  {
   "cell_type": "markdown",
   "metadata": {},
   "source": [
    "### Use Genre to Titles Mapping to Define Custom (Overlapping) Groups\n",
    "The genre to titles mapping is a one-to-many mapping.\n",
    "\n",
    "Generators are memory efficient.  The dataframe per value is created only as necessary and if there is no reference to it, Python's garbage collector can reclaim the memory."
   ]
  },
  {
   "cell_type": "code",
   "execution_count": 130,
   "metadata": {},
   "outputs": [],
   "source": [
    "def custom_groupby(df, mapping, values):\n",
    "    for value in values:\n",
    "        yield (value, df.loc[mapping[value]])"
   ]
  },
  {
   "cell_type": "code",
   "execution_count": 136,
   "metadata": {},
   "outputs": [
    {
     "name": "stdout",
     "output_type": "stream",
     "text": [
      "Crime     Rating: 6.79 Count: 150\n",
      "Action    Rating: 6.61 Count: 303\n",
      "Drama     Rating: 6.95 Count: 513\n",
      "Musical   Rating: 6.94 Count:   5\n",
      "Romance   Rating: 6.69 Count: 141\n",
      "Western   Rating: 6.77 Count:   7\n",
      "Fantasy   Rating: 6.55 Count: 101\n",
      "Mystery   Rating: 6.89 Count: 106\n",
      "Biography Rating: 7.29 Count:  81\n",
      "Music     Rating: 7.04 Count:  21\n",
      "Adventure Rating: 6.77 Count: 259\n",
      "Thriller  Rating: 6.59 Count: 195\n",
      "Animation Rating: 7.32 Count:  49\n",
      "Sport     Rating: 7.01 Count:  18\n",
      "Sci-Fi    Rating: 6.72 Count: 120\n",
      "War       Rating: 7.35 Count:  13\n",
      "Comedy    Rating: 6.65 Count: 279\n",
      "Horror    Rating: 6.09 Count: 119\n",
      "Family    Rating: 6.68 Count:  51\n",
      "History   Rating: 7.13 Count:  29\n"
     ]
    }
   ],
   "source": [
    "groups = custom_groupby(movies, genre_to_titles, genres)\n",
    "for name, group in groups:\n",
    "    print(f\"{name:<9} Rating: {group['Rating'].mean():4.2f} Count: {len(group):>3}\")"
   ]
  },
  {
   "cell_type": "code",
   "execution_count": 144,
   "metadata": {},
   "outputs": [
    {
     "data": {
      "text/html": [
       "<div>\n",
       "<style scoped>\n",
       "    .dataframe tbody tr th:only-of-type {\n",
       "        vertical-align: middle;\n",
       "    }\n",
       "\n",
       "    .dataframe tbody tr th {\n",
       "        vertical-align: top;\n",
       "    }\n",
       "\n",
       "    .dataframe thead th {\n",
       "        text-align: right;\n",
       "    }\n",
       "</style>\n",
       "<table border=\"1\" class=\"dataframe\">\n",
       "  <thead>\n",
       "    <tr style=\"text-align: right;\">\n",
       "      <th></th>\n",
       "      <th>Rating</th>\n",
       "      <th>Count</th>\n",
       "    </tr>\n",
       "    <tr>\n",
       "      <th>Genre</th>\n",
       "      <th></th>\n",
       "      <th></th>\n",
       "    </tr>\n",
       "  </thead>\n",
       "  <tbody>\n",
       "    <tr>\n",
       "      <th>Crime</th>\n",
       "      <td>6.786667</td>\n",
       "      <td>150</td>\n",
       "    </tr>\n",
       "    <tr>\n",
       "      <th>Action</th>\n",
       "      <td>6.614521</td>\n",
       "      <td>303</td>\n",
       "    </tr>\n",
       "    <tr>\n",
       "      <th>Drama</th>\n",
       "      <td>6.953801</td>\n",
       "      <td>513</td>\n",
       "    </tr>\n",
       "    <tr>\n",
       "      <th>Musical</th>\n",
       "      <td>6.940000</td>\n",
       "      <td>5</td>\n",
       "    </tr>\n",
       "    <tr>\n",
       "      <th>Romance</th>\n",
       "      <td>6.685816</td>\n",
       "      <td>141</td>\n",
       "    </tr>\n",
       "    <tr>\n",
       "      <th>Western</th>\n",
       "      <td>6.771429</td>\n",
       "      <td>7</td>\n",
       "    </tr>\n",
       "    <tr>\n",
       "      <th>Fantasy</th>\n",
       "      <td>6.548515</td>\n",
       "      <td>101</td>\n",
       "    </tr>\n",
       "    <tr>\n",
       "      <th>Mystery</th>\n",
       "      <td>6.886792</td>\n",
       "      <td>106</td>\n",
       "    </tr>\n",
       "    <tr>\n",
       "      <th>Biography</th>\n",
       "      <td>7.290123</td>\n",
       "      <td>81</td>\n",
       "    </tr>\n",
       "    <tr>\n",
       "      <th>Music</th>\n",
       "      <td>7.042857</td>\n",
       "      <td>21</td>\n",
       "    </tr>\n",
       "    <tr>\n",
       "      <th>Adventure</th>\n",
       "      <td>6.772201</td>\n",
       "      <td>259</td>\n",
       "    </tr>\n",
       "    <tr>\n",
       "      <th>Thriller</th>\n",
       "      <td>6.593333</td>\n",
       "      <td>195</td>\n",
       "    </tr>\n",
       "    <tr>\n",
       "      <th>Animation</th>\n",
       "      <td>7.324490</td>\n",
       "      <td>49</td>\n",
       "    </tr>\n",
       "    <tr>\n",
       "      <th>Sport</th>\n",
       "      <td>7.011111</td>\n",
       "      <td>18</td>\n",
       "    </tr>\n",
       "    <tr>\n",
       "      <th>Sci-Fi</th>\n",
       "      <td>6.716667</td>\n",
       "      <td>120</td>\n",
       "    </tr>\n",
       "    <tr>\n",
       "      <th>War</th>\n",
       "      <td>7.353846</td>\n",
       "      <td>13</td>\n",
       "    </tr>\n",
       "    <tr>\n",
       "      <th>Comedy</th>\n",
       "      <td>6.647670</td>\n",
       "      <td>279</td>\n",
       "    </tr>\n",
       "    <tr>\n",
       "      <th>Horror</th>\n",
       "      <td>6.089916</td>\n",
       "      <td>119</td>\n",
       "    </tr>\n",
       "    <tr>\n",
       "      <th>Family</th>\n",
       "      <td>6.684314</td>\n",
       "      <td>51</td>\n",
       "    </tr>\n",
       "    <tr>\n",
       "      <th>History</th>\n",
       "      <td>7.127586</td>\n",
       "      <td>29</td>\n",
       "    </tr>\n",
       "  </tbody>\n",
       "</table>\n",
       "</div>"
      ],
      "text/plain": [
       "             Rating  Count\n",
       "Genre                     \n",
       "Crime      6.786667    150\n",
       "Action     6.614521    303\n",
       "Drama      6.953801    513\n",
       "Musical    6.940000      5\n",
       "Romance    6.685816    141\n",
       "Western    6.771429      7\n",
       "Fantasy    6.548515    101\n",
       "Mystery    6.886792    106\n",
       "Biography  7.290123     81\n",
       "Music      7.042857     21\n",
       "Adventure  6.772201    259\n",
       "Thriller   6.593333    195\n",
       "Animation  7.324490     49\n",
       "Sport      7.011111     18\n",
       "Sci-Fi     6.716667    120\n",
       "War        7.353846     13\n",
       "Comedy     6.647670    279\n",
       "Horror     6.089916    119\n",
       "Family     6.684314     51\n",
       "History    7.127586     29"
      ]
     },
     "execution_count": 144,
     "metadata": {},
     "output_type": "execute_result"
    }
   ],
   "source": [
    "# same, but store result in df\n",
    "rows = []\n",
    "groups = custom_groupby(movies, genre_to_titles, genres)\n",
    "for name, group in groups:\n",
    "    row = (name, group['Rating'].mean(), len(group))\n",
    "    rows.append(row)\n",
    "df = pd.DataFrame(data=rows, columns=['Genre', 'Rating', 'Count'])\n",
    "df.set_index('Genre', inplace=True)\n",
    "df"
   ]
  },
  {
   "cell_type": "code",
   "execution_count": 145,
   "metadata": {},
   "outputs": [
    {
     "data": {
      "text/html": [
       "<div>\n",
       "<style scoped>\n",
       "    .dataframe tbody tr th:only-of-type {\n",
       "        vertical-align: middle;\n",
       "    }\n",
       "\n",
       "    .dataframe tbody tr th {\n",
       "        vertical-align: top;\n",
       "    }\n",
       "\n",
       "    .dataframe thead th {\n",
       "        text-align: right;\n",
       "    }\n",
       "</style>\n",
       "<table border=\"1\" class=\"dataframe\">\n",
       "  <thead>\n",
       "    <tr style=\"text-align: right;\">\n",
       "      <th></th>\n",
       "      <th>Rating</th>\n",
       "      <th>Count</th>\n",
       "    </tr>\n",
       "    <tr>\n",
       "      <th>Genre</th>\n",
       "      <th></th>\n",
       "      <th></th>\n",
       "    </tr>\n",
       "  </thead>\n",
       "  <tbody>\n",
       "    <tr>\n",
       "      <th>War</th>\n",
       "      <td>7.353846</td>\n",
       "      <td>13</td>\n",
       "    </tr>\n",
       "    <tr>\n",
       "      <th>Animation</th>\n",
       "      <td>7.324490</td>\n",
       "      <td>49</td>\n",
       "    </tr>\n",
       "    <tr>\n",
       "      <th>Biography</th>\n",
       "      <td>7.290123</td>\n",
       "      <td>81</td>\n",
       "    </tr>\n",
       "    <tr>\n",
       "      <th>History</th>\n",
       "      <td>7.127586</td>\n",
       "      <td>29</td>\n",
       "    </tr>\n",
       "    <tr>\n",
       "      <th>Music</th>\n",
       "      <td>7.042857</td>\n",
       "      <td>21</td>\n",
       "    </tr>\n",
       "  </tbody>\n",
       "</table>\n",
       "</div>"
      ],
      "text/plain": [
       "             Rating  Count\n",
       "Genre                     \n",
       "War        7.353846     13\n",
       "Animation  7.324490     49\n",
       "Biography  7.290123     81\n",
       "History    7.127586     29\n",
       "Music      7.042857     21"
      ]
     },
     "execution_count": 145,
     "metadata": {},
     "output_type": "execute_result"
    }
   ],
   "source": [
    "# display the 5 highest avg ratings by genre in Ratings order\n",
    "df.nlargest(n=5, columns='Rating')"
   ]
  },
  {
   "cell_type": "code",
   "execution_count": 146,
   "metadata": {},
   "outputs": [
    {
     "data": {
      "text/html": [
       "<div>\n",
       "<style scoped>\n",
       "    .dataframe tbody tr th:only-of-type {\n",
       "        vertical-align: middle;\n",
       "    }\n",
       "\n",
       "    .dataframe tbody tr th {\n",
       "        vertical-align: top;\n",
       "    }\n",
       "\n",
       "    .dataframe thead th {\n",
       "        text-align: right;\n",
       "    }\n",
       "</style>\n",
       "<table border=\"1\" class=\"dataframe\">\n",
       "  <thead>\n",
       "    <tr style=\"text-align: right;\">\n",
       "      <th></th>\n",
       "      <th>Rating</th>\n",
       "      <th>Count</th>\n",
       "    </tr>\n",
       "    <tr>\n",
       "      <th>Genre</th>\n",
       "      <th></th>\n",
       "      <th></th>\n",
       "    </tr>\n",
       "  </thead>\n",
       "  <tbody>\n",
       "    <tr>\n",
       "      <th>Animation</th>\n",
       "      <td>7.324490</td>\n",
       "      <td>49</td>\n",
       "    </tr>\n",
       "    <tr>\n",
       "      <th>Biography</th>\n",
       "      <td>7.290123</td>\n",
       "      <td>81</td>\n",
       "    </tr>\n",
       "    <tr>\n",
       "      <th>History</th>\n",
       "      <td>7.127586</td>\n",
       "      <td>29</td>\n",
       "    </tr>\n",
       "    <tr>\n",
       "      <th>Music</th>\n",
       "      <td>7.042857</td>\n",
       "      <td>21</td>\n",
       "    </tr>\n",
       "    <tr>\n",
       "      <th>Drama</th>\n",
       "      <td>6.953801</td>\n",
       "      <td>513</td>\n",
       "    </tr>\n",
       "  </tbody>\n",
       "</table>\n",
       "</div>"
      ],
      "text/plain": [
       "             Rating  Count\n",
       "Genre                     \n",
       "Animation  7.324490     49\n",
       "Biography  7.290123     81\n",
       "History    7.127586     29\n",
       "Music      7.042857     21\n",
       "Drama      6.953801    513"
      ]
     },
     "execution_count": 146,
     "metadata": {},
     "output_type": "execute_result"
    }
   ],
   "source": [
    "# display the 5 highest avg ratings by genre having at least 20 movies\n",
    "df_20 = df[df['Count'] >= 20]\n",
    "df_20.nlargest(5, 'Rating')"
   ]
  },
  {
   "cell_type": "markdown",
   "metadata": {},
   "source": [
    "## Denormalize and then Analyze"
   ]
  },
  {
   "cell_type": "code",
   "execution_count": 153,
   "metadata": {},
   "outputs": [
    {
     "data": {
      "text/html": [
       "<div>\n",
       "<style scoped>\n",
       "    .dataframe tbody tr th:only-of-type {\n",
       "        vertical-align: middle;\n",
       "    }\n",
       "\n",
       "    .dataframe tbody tr th {\n",
       "        vertical-align: top;\n",
       "    }\n",
       "\n",
       "    .dataframe thead th {\n",
       "        text-align: right;\n",
       "    }\n",
       "</style>\n",
       "<table border=\"1\" class=\"dataframe\">\n",
       "  <thead>\n",
       "    <tr style=\"text-align: right;\">\n",
       "      <th></th>\n",
       "      <th>Genre</th>\n",
       "    </tr>\n",
       "    <tr>\n",
       "      <th>Title</th>\n",
       "      <th></th>\n",
       "    </tr>\n",
       "  </thead>\n",
       "  <tbody>\n",
       "    <tr>\n",
       "      <th>Hounds of Love</th>\n",
       "      <td>Crime</td>\n",
       "    </tr>\n",
       "    <tr>\n",
       "      <th>John Wick</th>\n",
       "      <td>Crime</td>\n",
       "    </tr>\n",
       "    <tr>\n",
       "      <th>The Dark Knight</th>\n",
       "      <td>Crime</td>\n",
       "    </tr>\n",
       "    <tr>\n",
       "      <th>Don't Breathe</th>\n",
       "      <td>Crime</td>\n",
       "    </tr>\n",
       "    <tr>\n",
       "      <th>The Girl on the Train</th>\n",
       "      <td>Crime</td>\n",
       "    </tr>\n",
       "  </tbody>\n",
       "</table>\n",
       "</div>"
      ],
      "text/plain": [
       "                       Genre\n",
       "Title                       \n",
       "Hounds of Love         Crime\n",
       "John Wick              Crime\n",
       "The Dark Knight        Crime\n",
       "Don't Breathe          Crime\n",
       "The Girl on the Train  Crime"
      ]
     },
     "execution_count": 153,
     "metadata": {},
     "output_type": "execute_result"
    }
   ],
   "source": [
    "# create the one-to-many \"table\"\n",
    "rows = []\n",
    "for key in genre_to_titles:\n",
    "    for value in genre_to_titles[key]:\n",
    "        rows.append((key, value))\n",
    "df_genre_title = pd.DataFrame(data=rows, columns=['Genre', 'Title'])\n",
    "df_genre_title.set_index('Title', inplace=True)\n",
    "df_genre_title.head()"
   ]
  },
  {
   "cell_type": "code",
   "execution_count": 160,
   "metadata": {},
   "outputs": [],
   "source": [
    "import pickle\n",
    "with open('../data/movies.pickle','rb') as p:\n",
    "    movies = pickle.load(p)"
   ]
  },
  {
   "cell_type": "code",
   "execution_count": 162,
   "metadata": {},
   "outputs": [],
   "source": [
    "def drop_col(df, suffix):\n",
    "    to_drop = [x for x in df if x.endswith(suffix)]\n",
    "    df.drop(to_drop, axis=1, inplace=True)"
   ]
  },
  {
   "cell_type": "code",
   "execution_count": 166,
   "metadata": {},
   "outputs": [
    {
     "data": {
      "text/html": [
       "<div>\n",
       "<style scoped>\n",
       "    .dataframe tbody tr th:only-of-type {\n",
       "        vertical-align: middle;\n",
       "    }\n",
       "\n",
       "    .dataframe tbody tr th {\n",
       "        vertical-align: top;\n",
       "    }\n",
       "\n",
       "    .dataframe thead th {\n",
       "        text-align: right;\n",
       "    }\n",
       "</style>\n",
       "<table border=\"1\" class=\"dataframe\">\n",
       "  <thead>\n",
       "    <tr style=\"text-align: right;\">\n",
       "      <th></th>\n",
       "      <th>Genre</th>\n",
       "      <th>ID</th>\n",
       "      <th>Description</th>\n",
       "      <th>Director</th>\n",
       "      <th>Actors</th>\n",
       "      <th>Year</th>\n",
       "      <th>Runtime</th>\n",
       "      <th>Rating</th>\n",
       "      <th>Votes</th>\n",
       "      <th>Revenue</th>\n",
       "      <th>Metascore</th>\n",
       "    </tr>\n",
       "    <tr>\n",
       "      <th>Title</th>\n",
       "      <th></th>\n",
       "      <th></th>\n",
       "      <th></th>\n",
       "      <th></th>\n",
       "      <th></th>\n",
       "      <th></th>\n",
       "      <th></th>\n",
       "      <th></th>\n",
       "      <th></th>\n",
       "      <th></th>\n",
       "      <th></th>\n",
       "    </tr>\n",
       "  </thead>\n",
       "  <tbody>\n",
       "    <tr>\n",
       "      <th>(500) Days of Summer</th>\n",
       "      <td>Drama</td>\n",
       "      <td>508</td>\n",
       "      <td>An offbeat romantic comedy about a woman who d...</td>\n",
       "      <td>Marc Webb</td>\n",
       "      <td>Zooey Deschanel, Joseph Gordon-Levitt, Geoffre...</td>\n",
       "      <td>2009</td>\n",
       "      <td>95</td>\n",
       "      <td>7.7</td>\n",
       "      <td>398972</td>\n",
       "      <td>32.39</td>\n",
       "      <td>76.0</td>\n",
       "    </tr>\n",
       "    <tr>\n",
       "      <th>(500) Days of Summer</th>\n",
       "      <td>Romance</td>\n",
       "      <td>508</td>\n",
       "      <td>An offbeat romantic comedy about a woman who d...</td>\n",
       "      <td>Marc Webb</td>\n",
       "      <td>Zooey Deschanel, Joseph Gordon-Levitt, Geoffre...</td>\n",
       "      <td>2009</td>\n",
       "      <td>95</td>\n",
       "      <td>7.7</td>\n",
       "      <td>398972</td>\n",
       "      <td>32.39</td>\n",
       "      <td>76.0</td>\n",
       "    </tr>\n",
       "  </tbody>\n",
       "</table>\n",
       "</div>"
      ],
      "text/plain": [
       "                        Genre   ID  \\\n",
       "Title                                \n",
       "(500) Days of Summer    Drama  508   \n",
       "(500) Days of Summer  Romance  508   \n",
       "\n",
       "                                                            Description  \\\n",
       "Title                                                                     \n",
       "(500) Days of Summer  An offbeat romantic comedy about a woman who d...   \n",
       "(500) Days of Summer  An offbeat romantic comedy about a woman who d...   \n",
       "\n",
       "                       Director  \\\n",
       "Title                             \n",
       "(500) Days of Summer  Marc Webb   \n",
       "(500) Days of Summer  Marc Webb   \n",
       "\n",
       "                                                                 Actors  Year  \\\n",
       "Title                                                                           \n",
       "(500) Days of Summer  Zooey Deschanel, Joseph Gordon-Levitt, Geoffre...  2009   \n",
       "(500) Days of Summer  Zooey Deschanel, Joseph Gordon-Levitt, Geoffre...  2009   \n",
       "\n",
       "                      Runtime  Rating   Votes  Revenue  Metascore  \n",
       "Title                                                              \n",
       "(500) Days of Summer       95     7.7  398972    32.39       76.0  \n",
       "(500) Days of Summer       95     7.7  398972    32.39       76.0  "
      ]
     },
     "execution_count": 166,
     "metadata": {},
     "output_type": "execute_result"
    }
   ],
   "source": [
    "# join movies with the one-to-many table\n",
    "df_full = df_genre_title.join(movies, lsuffix='', rsuffix='_right')\n",
    "drop_col(df_full, '_right')\n",
    "df_full.head(2)"
   ]
  },
  {
   "cell_type": "code",
   "execution_count": 172,
   "metadata": {},
   "outputs": [],
   "source": [
    "# create a multi-index on Genre, Title\n",
    "df_full.reset_index(inplace=True)\n",
    "df_full.set_index(['Genre', 'Title'], inplace=True)\n",
    "df_full.sort_index(inplace=True)"
   ]
  },
  {
   "cell_type": "code",
   "execution_count": 176,
   "metadata": {},
   "outputs": [
    {
     "data": {
      "text/plain": [
       "(2560, 1000)"
      ]
     },
     "execution_count": 176,
     "metadata": {},
     "output_type": "execute_result"
    }
   ],
   "source": [
    "len(df_full), len(movies)"
   ]
  },
  {
   "cell_type": "code",
   "execution_count": 175,
   "metadata": {},
   "outputs": [
    {
     "data": {
      "text/plain": [
       "Genre\n",
       "Action       6.614521\n",
       "Adventure    6.772201\n",
       "Animation    7.324490\n",
       "Biography    7.290123\n",
       "Comedy       6.647670\n",
       "Crime        6.786667\n",
       "Drama        6.953801\n",
       "Family       6.684314\n",
       "Fantasy      6.548515\n",
       "History      7.127586\n",
       "Horror       6.089916\n",
       "Music        7.042857\n",
       "Musical      6.940000\n",
       "Mystery      6.886792\n",
       "Romance      6.685816\n",
       "Sci-Fi       6.716667\n",
       "Sport        7.011111\n",
       "Thriller     6.593333\n",
       "War          7.353846\n",
       "Western      6.771429\n",
       "Name: Rating, dtype: float64"
      ]
     },
     "execution_count": 175,
     "metadata": {},
     "output_type": "execute_result"
    }
   ],
   "source": [
    "# now group by will work for each Genre\n",
    "groupby = df_full.groupby('Genre')\n",
    "groupby['Rating'].mean()"
   ]
  },
  {
   "cell_type": "code",
   "execution_count": null,
   "metadata": {},
   "outputs": [],
   "source": []
  },
  {
   "cell_type": "code",
   "execution_count": null,
   "metadata": {},
   "outputs": [],
   "source": []
  },
  {
   "cell_type": "code",
   "execution_count": null,
   "metadata": {},
   "outputs": [],
   "source": [
    "# compute count per genre using the genre_to_titles dictionary\n",
    "genres_to_count = {genre:len(titles) for genre,titles in genre_to_titles.items()}\n",
    "genres_to_count"
   ]
  },
  {
   "cell_type": "code",
   "execution_count": null,
   "metadata": {},
   "outputs": [],
   "source": [
    "g = movies.groupby(by=genre_to_titles)\n",
    "for name, group in g:\n",
    "    print(name)\n",
    "    print(group['Genre'])"
   ]
  },
  {
   "cell_type": "code",
   "execution_count": null,
   "metadata": {},
   "outputs": [],
   "source": []
  },
  {
   "cell_type": "code",
   "execution_count": null,
   "metadata": {},
   "outputs": [],
   "source": []
  },
  {
   "cell_type": "code",
   "execution_count": null,
   "metadata": {},
   "outputs": [],
   "source": []
  },
  {
   "cell_type": "code",
   "execution_count": null,
   "metadata": {},
   "outputs": [],
   "source": []
  },
  {
   "cell_type": "code",
   "execution_count": null,
   "metadata": {},
   "outputs": [],
   "source": [
    "# find highest rated action movie on the fly\n",
    "action_titles = movies['Genre'].apply(lambda x: 'Action' in x)\n",
    "action_movies = movies.loc[action_titles]\n",
    "action_movies[action_movies['Rating'] == action_movies['Rating'].max()]"
   ]
  },
  {
   "cell_type": "code",
   "execution_count": null,
   "metadata": {},
   "outputs": [],
   "source": [
    "# find highest rated action movie using Indicator Variable: Genre_Action\n",
    "action_movies = movies[movies['Genre_Action']]\n",
    "action_movies[action_movies['Rating'] == action_movies['Rating'].max()]"
   ]
  },
  {
   "cell_type": "code",
   "execution_count": null,
   "metadata": {},
   "outputs": [],
   "source": [
    "# find the highest rated action movie using dictionary\n",
    "action_titles = genre_to_titles['Action']\n",
    "action_movies = movies.loc[action_titles]\n",
    "action_movies[action_movies['Rating'] == action_movies['Rating'].max()]"
   ]
  },
  {
   "cell_type": "code",
   "execution_count": null,
   "metadata": {},
   "outputs": [],
   "source": [
    "%%timeit\n",
    "# find highest rated action movie on the fly\n",
    "action_titles = movies['Genre'].apply(lambda x: 'Action' in x)\n",
    "action_movies = movies[action_titles]\n",
    "action_movies[action_movies['Rating'] == action_movies['Rating'].max()]"
   ]
  },
  {
   "cell_type": "code",
   "execution_count": null,
   "metadata": {},
   "outputs": [],
   "source": [
    "%%timeit\n",
    "# find highest rated action movie using precomputed Indicator Variable: Genre_Action\n",
    "action_movies = movies[movies['Genre_Action']]\n",
    "action_movies[action_movies['Rating'] == action_movies['Rating'].max()]"
   ]
  },
  {
   "cell_type": "code",
   "execution_count": null,
   "metadata": {},
   "outputs": [],
   "source": [
    "%%timeit\n",
    "# find the highest rated action movie using precomputed dictionary\n",
    "action_titles = genre_to_titles['Action']\n",
    "action_movies = movies.loc[action_titles]\n",
    "action_movies[action_movies['Rating'] == action_movies['Rating'].max()]"
   ]
  },
  {
   "cell_type": "code",
   "execution_count": null,
   "metadata": {},
   "outputs": [],
   "source": [
    "# find Sci-Fi movies\n",
    "sci_fi_movies = movies[movies['Genre_Sci-Fi']]\n",
    "sci_fi_movies.head(2)"
   ]
  },
  {
   "cell_type": "code",
   "execution_count": null,
   "metadata": {},
   "outputs": [],
   "source": [
    "# find movies that are both action and sci-fi\n",
    "action_sci_fi_movies = movies[movies['Genre_Action'] & movies['Genre_Sci-Fi']]\n",
    "action_sci_fi_movies.head(3)"
   ]
  },
  {
   "cell_type": "code",
   "execution_count": null,
   "metadata": {},
   "outputs": [],
   "source": [
    "# find highest rated movie that is both Action and Sci-Fi\n",
    "movie_subset = movies[movies['Genre_Action'] & movies['Genre_Sci-Fi']]\n",
    "movie_subset[movie_subset['Rating'] == movie_subset['Rating'].max()]"
   ]
  },
  {
   "cell_type": "code",
   "execution_count": null,
   "metadata": {},
   "outputs": [],
   "source": [
    "# find the avg rating of all action movies\n",
    "action_movies = movies[movies['Genre_Action']]\n",
    "action_movies['Rating'].mean()"
   ]
  },
  {
   "cell_type": "code",
   "execution_count": null,
   "metadata": {},
   "outputs": [],
   "source": [
    "# usually groupby is not used on a boolean series, but it works\n",
    "# the group of interest is the True group\n",
    "groupby = movies.groupby('Genre_Action')\n",
    "\n",
    "for name, group in groupby:\n",
    "    print(name, np.round(group['Rating'].mean(),4), group['Rating'].count())"
   ]
  },
  {
   "cell_type": "markdown",
   "metadata": {},
   "source": [
    "### Group By\n",
    "Find the highest rated directors who directed at least 5 movies"
   ]
  },
  {
   "cell_type": "code",
   "execution_count": null,
   "metadata": {},
   "outputs": [],
   "source": [
    "def group_filter(g):\n",
    "    if g['Rating'].count() >= 5:\n",
    "        return g['Rating'].mean()"
   ]
  },
  {
   "cell_type": "code",
   "execution_count": null,
   "metadata": {},
   "outputs": [],
   "source": [
    "s = movies.groupby('Director').apply(group_filter)\n",
    "s[s.notnull()].nlargest(5)"
   ]
  },
  {
   "cell_type": "markdown",
   "metadata": {
    "toc-hr-collapsed": true
   },
   "source": [
    "## Data Wrangling: Queries involving Actor\n",
    "As there are so many different actors, it's probably better to rely on dictionaries instead of creating a great many indicator columns."
   ]
  },
  {
   "cell_type": "code",
   "execution_count": null,
   "metadata": {},
   "outputs": [],
   "source": [
    "def parse_genre_string(s):\n",
    "    \"\"\"Convert string with comma separated values to list of strings.\n",
    "    For each string, remove leading and trailing whitespace.\n",
    "    \"\"\"\n",
    "    genres = s.split(',')\n",
    "    return [genre.strip() for genre in genres]"
   ]
  },
  {
   "cell_type": "code",
   "execution_count": null,
   "metadata": {},
   "outputs": [],
   "source": [
    "# parsing of Genre is identical to parsing of Actors\n",
    "movies['Actors'].apply(parse_genre_string).head(5)"
   ]
  },
  {
   "cell_type": "code",
   "execution_count": null,
   "metadata": {},
   "outputs": [],
   "source": [
    "# find the set of unique actors\n",
    "actors = set()\n",
    "title_actors_series = movies['Actors'].apply(parse_genre_string)\n",
    "title_actors_series.apply(lambda x: actors.update(x))\n",
    "len(actors)"
   ]
  },
  {
   "cell_type": "markdown",
   "metadata": {},
   "source": [
    "#### Using an Inverted Dictionary to Compute Movies per Actor"
   ]
  },
  {
   "cell_type": "code",
   "execution_count": null,
   "metadata": {},
   "outputs": [],
   "source": [
    "# create a mapping from genre to titles\n",
    "from collections import defaultdict\n",
    "actor_to_titles = defaultdict(list)\n",
    "for actor in actors:\n",
    "    titles = movies['Actors'].apply(lambda x: actor in x)\n",
    "    titles = movies[titles].index.tolist()\n",
    "    for title in titles:\n",
    "        actor_to_titles[actor].append(title)"
   ]
  },
  {
   "cell_type": "code",
   "execution_count": null,
   "metadata": {},
   "outputs": [],
   "source": [
    "# compute count per genre using the genre_to_titles dictionary\n",
    "actors_to_count = {actor:len(titles) for actor,titles in actor_to_titles.items()}\n",
    "len(actors_to_count)"
   ]
  },
  {
   "cell_type": "code",
   "execution_count": null,
   "metadata": {},
   "outputs": [],
   "source": [
    "# try inverted dictionary\n",
    "movies.loc[actor_to_titles['Zooey Deschanel']]"
   ]
  },
  {
   "cell_type": "code",
   "execution_count": null,
   "metadata": {},
   "outputs": [],
   "source": [
    "# find the average rating of actors in at least 5 movies\n",
    "actor_rating = {}\n",
    "for actor in actors:\n",
    "    movies_with_actor = movies.loc[actor_to_titles[actor]]\n",
    "    if movies_with_actor['Rating'].count() >= 5:\n",
    "        actor_rating[actor] = movies_with_actor['Rating'].mean()"
   ]
  },
  {
   "cell_type": "code",
   "execution_count": null,
   "metadata": {},
   "outputs": [],
   "source": [
    "# read in IMDB move dataset\n",
    "movies = pd.read_csv('../data/IMDB-Movie-Data.csv', index_col='Title')\n",
    "movies.head(2)"
   ]
  },
  {
   "cell_type": "markdown",
   "metadata": {},
   "source": [
    "# HERE HERE\n",
    "A dictionary is more memory efficient than denormalizing the table, but denormalizing is much easier to work with!"
   ]
  },
  {
   "cell_type": "code",
   "execution_count": null,
   "metadata": {},
   "outputs": [],
   "source": [
    "def custom_groupby(df, mapping, values):\n",
    "    for value in values:\n",
    "        yield (value, df.loc[mapping[value]])"
   ]
  },
  {
   "cell_type": "code",
   "execution_count": null,
   "metadata": {},
   "outputs": [],
   "source": [
    "movies = movies_copy.copy()\n",
    "movies = movies.reset_index(drop=False).set_index('Title', drop=True)"
   ]
  },
  {
   "cell_type": "code",
   "execution_count": null,
   "metadata": {},
   "outputs": [],
   "source": [
    "movies.head(1)"
   ]
  },
  {
   "cell_type": "code",
   "execution_count": null,
   "metadata": {},
   "outputs": [],
   "source": [
    "np.std([1, 2, 3])"
   ]
  },
  {
   "cell_type": "code",
   "execution_count": null,
   "metadata": {},
   "outputs": [],
   "source": [
    "df = pd.DataFrame([1, 2, 3], columns=['A'])\n",
    "df.apply(np.std)"
   ]
  },
  {
   "cell_type": "code",
   "execution_count": null,
   "metadata": {},
   "outputs": [],
   "source": [
    "df.columns"
   ]
  },
  {
   "cell_type": "code",
   "execution_count": null,
   "metadata": {},
   "outputs": [],
   "source": [
    "my_group = custom_groupby(movies, actor_to_titles, ['Zooey Deschanel', 'John Goodman'])"
   ]
  },
  {
   "cell_type": "code",
   "execution_count": null,
   "metadata": {},
   "outputs": [],
   "source": [
    "from IPython.display import display\n",
    "for name, group in my_group:\n",
    "    print(name, len(group), group['Rating'].mean(), group['Metascore'].std())\n",
    "    print()\n",
    "    display(group)"
   ]
  },
  {
   "cell_type": "code",
   "execution_count": null,
   "metadata": {},
   "outputs": [],
   "source": [
    "def gen1(n):\n",
    "    a = 0\n",
    "    b = 1\n",
    "    for i in range(n):\n",
    "        a, b = a+b, a\n",
    "        yield(a)"
   ]
  },
  {
   "cell_type": "code",
   "execution_count": null,
   "metadata": {},
   "outputs": [],
   "source": [
    "g = gen1(7)"
   ]
  },
  {
   "cell_type": "code",
   "execution_count": null,
   "metadata": {},
   "outputs": [],
   "source": [
    "tuples = []\n",
    "for actor in actors:\n",
    "    for title in actor_to_titles[actor]:\n",
    "        tuples.append((actor, title))\n",
    "        \n",
    "df_actor = pd.DataFrame(data=tuples, columns=['Actor','Title'])\n",
    "df_actor.set_index('Actor', drop=True, inplace=True)"
   ]
  },
  {
   "cell_type": "code",
   "execution_count": null,
   "metadata": {},
   "outputs": [],
   "source": [
    "df_actor.head()"
   ]
  },
  {
   "cell_type": "code",
   "execution_count": null,
   "metadata": {},
   "outputs": [],
   "source": [
    "df = df_actor.join(movies, on='Title', how='left')\n",
    "df.head()"
   ]
  },
  {
   "cell_type": "code",
   "execution_count": null,
   "metadata": {},
   "outputs": [],
   "source": [
    "len(df_actor)"
   ]
  },
  {
   "cell_type": "code",
   "execution_count": null,
   "metadata": {},
   "outputs": [],
   "source": [
    "len(movies.index)"
   ]
  },
  {
   "cell_type": "code",
   "execution_count": null,
   "metadata": {},
   "outputs": [],
   "source": [
    "len(set(movies.index))"
   ]
  },
  {
   "cell_type": "code",
   "execution_count": null,
   "metadata": {},
   "outputs": [],
   "source": [
    "m2 = movies.reset_index()\n",
    "b = m2.duplicated(subset='Title', keep='first')\n",
    "m2[b]"
   ]
  },
  {
   "cell_type": "code",
   "execution_count": null,
   "metadata": {},
   "outputs": [],
   "source": [
    "b = m2.duplicated(subset='Title', keep='last')\n",
    "m2[b]"
   ]
  },
  {
   "cell_type": "code",
   "execution_count": null,
   "metadata": {},
   "outputs": [],
   "source": [
    "df2 = df.set_index(index)"
   ]
  },
  {
   "cell_type": "code",
   "execution_count": null,
   "metadata": {},
   "outputs": [],
   "source": [
    "actor_to_titles"
   ]
  },
  {
   "cell_type": "code",
   "execution_count": null,
   "metadata": {},
   "outputs": [],
   "source": [
    "df_actor.head()"
   ]
  },
  {
   "cell_type": "code",
   "execution_count": null,
   "metadata": {},
   "outputs": [],
   "source": []
  },
  {
   "cell_type": "code",
   "execution_count": null,
   "metadata": {},
   "outputs": [],
   "source": []
  },
  {
   "cell_type": "code",
   "execution_count": null,
   "metadata": {},
   "outputs": [],
   "source": []
  },
  {
   "cell_type": "code",
   "execution_count": null,
   "metadata": {},
   "outputs": [],
   "source": []
  },
  {
   "cell_type": "code",
   "execution_count": null,
   "metadata": {},
   "outputs": [],
   "source": []
  },
  {
   "cell_type": "code",
   "execution_count": null,
   "metadata": {},
   "outputs": [],
   "source": [
    "tuples = []\n",
    "for actor in actors:\n",
    "    for title in actor_to_titles[actor]:\n",
    "        tuples.append((actor, title))\n",
    "        \n",
    "index = pd.MultiIndex.from_tuples(tuples, names=['Actor', 'Title'])        "
   ]
  },
  {
   "cell_type": "code",
   "execution_count": null,
   "metadata": {},
   "outputs": [],
   "source": [
    "movies.set_index(index)"
   ]
  },
  {
   "cell_type": "code",
   "execution_count": null,
   "metadata": {},
   "outputs": [],
   "source": [
    "# its easier to work with dataframes than dictionaries\n",
    "df = pd.DataFrame(data=[], columns=['Rating', 'Count'])\n",
    "dfs = []\n",
    "for actor in actors:\n",
    "    df = movies.loc[actor_to_titles[actor]]\n",
    "    df['Actor'] = actor\n",
    "    df.set_index('Actor', drop=False, inplace=True)\n",
    "    dfs.append(df)\n",
    "df_new = pd.concat(dfs)\n",
    "df_new.head()"
   ]
  },
  {
   "cell_type": "code",
   "execution_count": null,
   "metadata": {},
   "outputs": [],
   "source": [
    "df_actor_rating = pd.DataFrame.from_dict(actor_rating, orient='index')\n",
    "df_actor_rating.rename_axis('Actor')\n",
    "df_actor_rating.columns = ['Rating']\n",
    "df_actor_rating.nlargest(n=5, columns='Rating')"
   ]
  },
  {
   "cell_type": "code",
   "execution_count": null,
   "metadata": {},
   "outputs": [],
   "source": [
    "df_actor_rating.columns"
   ]
  },
  {
   "cell_type": "code",
   "execution_count": null,
   "metadata": {},
   "outputs": [],
   "source": [
    "df_actor_rating.index"
   ]
  },
  {
   "cell_type": "code",
   "execution_count": null,
   "metadata": {},
   "outputs": [],
   "source": [
    "# sort by value\n",
    "actor_rating_sorted = sorted(actor_rating.items(), key=lambda x: x[1], reverse=True)\n",
    "for actor, rating in actor_rating_sorted:\n",
    "    print(f'{actor}: {rating:4.2f}')"
   ]
  },
  {
   "cell_type": "code",
   "execution_count": null,
   "metadata": {},
   "outputs": [],
   "source": [
    "# get the average rating and number of movies for each actor in at least 5 movies\n",
    "actor_rating = {}\n",
    "for actor in actors_to_title:\n",
    "    titles = actors_to_title[actor]\n",
    "    movies_with_actor = movie.loc[titles]\n",
    "    count = movies_with_actor['Rating'].count()\n",
    "    if count >= 5:\n",
    "        actor_rating[actor] = movies_with_actor['Rating'].mean()"
   ]
  },
  {
   "cell_type": "code",
   "execution_count": null,
   "metadata": {},
   "outputs": [],
   "source": [
    "actor_rating_sorted = sorted(actor_rating.items(), key=lambda kv: kv[1], reverse=True)\n",
    "actor_rating_sorted[:10]"
   ]
  },
  {
   "cell_type": "code",
   "execution_count": null,
   "metadata": {},
   "outputs": [],
   "source": [
    "movie.loc[actor_to_titles['Leonardo DiCaprio']]"
   ]
  },
  {
   "cell_type": "code",
   "execution_count": null,
   "metadata": {},
   "outputs": [],
   "source": [
    "# with dictionaries, its slighter harder to query for two actors, than with indicator columns\n",
    "# find all movies with Leonardo DiCaprio and Matt Damon\n",
    "titles1 = actors_to_title['Leonardo DiCaprio']\n",
    "titles2 = actors_to_title['Matt Damon']\n",
    "titles = set(titles1).intersection(set(titles2))\n",
    "titles\n",
    "movie.loc[titles]"
   ]
  }
 ],
 "metadata": {
  "kernelspec": {
   "display_name": "Python 3",
   "language": "python",
   "name": "python3"
  },
  "language_info": {
   "codemirror_mode": {
    "name": "ipython",
    "version": 3
   },
   "file_extension": ".py",
   "mimetype": "text/x-python",
   "name": "python",
   "nbconvert_exporter": "python",
   "pygments_lexer": "ipython3",
   "version": "3.7.2"
  }
 },
 "nbformat": 4,
 "nbformat_minor": 2
}
