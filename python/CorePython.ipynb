{
 "cells": [
  {
   "cell_type": "markdown",
   "metadata": {},
   "source": [
    "# Core Python\n",
    "\n",
    "This notebook is primarily example based.\n",
    "\n",
    "The examples cover issues most commonly encountered by someone new to Python and interested in Data Science."
   ]
  },
  {
   "cell_type": "markdown",
   "metadata": {},
   "source": [
    "## Numeric Equality\n",
    "\n",
    "The same value, even if it is a different numeric type, compares equal.\n",
    "\n",
    "In general, objects having different data types do not compare equal."
   ]
  },
  {
   "cell_type": "code",
   "execution_count": 1,
   "metadata": {},
   "outputs": [
    {
     "name": "stdout",
     "output_type": "stream",
     "text": [
      "type(a) is <class 'float'>, a = 8.0\n",
      "type(b) is <class 'int'>, b = 8\n",
      "type(a) == type(b) is False\n",
      "a == b is True\n"
     ]
    }
   ],
   "source": [
    "a = 2.0**3\n",
    "print(f'type(a) is {type(a)}, a = {a}')\n",
    "\n",
    "b = 2**3\n",
    "print(f'type(b) is {type(b)}, b = {b}')\n",
    "\n",
    "print(f'type(a) == type(b) is {type(a) == type(b)}')\n",
    "print(f'a == b is {a==b}')"
   ]
  },
  {
   "cell_type": "markdown",
   "metadata": {},
   "source": [
    "## Floating Point Comparisons\n",
    "\n",
    "Floating point representation is only accurate to within epsilon."
   ]
  },
  {
   "cell_type": "code",
   "execution_count": 2,
   "metadata": {},
   "outputs": [
    {
     "data": {
      "text/plain": [
       "2.220446049250313e-16"
      ]
     },
     "execution_count": 2,
     "metadata": {},
     "output_type": "execute_result"
    }
   ],
   "source": [
    "import sys\n",
    "sys.float_info.epsilon"
   ]
  },
  {
   "cell_type": "code",
   "execution_count": 3,
   "metadata": {},
   "outputs": [
    {
     "data": {
      "text/plain": [
       "3.3000000000000003"
      ]
     },
     "execution_count": 3,
     "metadata": {},
     "output_type": "execute_result"
    }
   ],
   "source": [
    "1.1 + 2.2"
   ]
  },
  {
   "cell_type": "code",
   "execution_count": 4,
   "metadata": {},
   "outputs": [
    {
     "data": {
      "text/plain": [
       "3.3"
      ]
     },
     "execution_count": 4,
     "metadata": {},
     "output_type": "execute_result"
    }
   ],
   "source": [
    "3.3"
   ]
  },
  {
   "cell_type": "code",
   "execution_count": 5,
   "metadata": {},
   "outputs": [
    {
     "data": {
      "text/plain": [
       "False"
      ]
     },
     "execution_count": 5,
     "metadata": {},
     "output_type": "execute_result"
    }
   ],
   "source": [
    "1.1 + 2.2 == 3.3"
   ]
  },
  {
   "cell_type": "code",
   "execution_count": 6,
   "metadata": {},
   "outputs": [
    {
     "name": "stdout",
     "output_type": "stream",
     "text": [
      "True\n",
      "True\n",
      "True\n"
     ]
    }
   ],
   "source": [
    "import numpy as np\n",
    "x = 1.1 + 2.2\n",
    "y = 3.3\n",
    "print(np.isclose(x, y))\n",
    "print(np.isclose(x, y+sys.float_info.epsilon))\n",
    "print(np.isclose(x, y-sys.float_info.epsilon))"
   ]
  },
  {
   "cell_type": "code",
   "execution_count": 7,
   "metadata": {},
   "outputs": [],
   "source": [
    "# relative tolerance\n",
    "def rel_tol(x, y, tol):\n",
    "    \"\"\"similar to np.isclose(x, y, atol=0, rtol=tol)\"\"\"\n",
    "    if abs(1.0 - x/y) < tol:\n",
    "        return True\n",
    "    else:\n",
    "        return False"
   ]
  },
  {
   "cell_type": "code",
   "execution_count": 8,
   "metadata": {},
   "outputs": [],
   "source": [
    "# absolute tolerance\n",
    "def abs_tol(x, y, tol):\n",
    "    \"\"\"similar to np.isclose(x, y, atol=tol, rtol=0)\"\"\"\n",
    "    if (abs(x-y) < tol):\n",
    "        return True\n",
    "    else:\n",
    "        return False"
   ]
  },
  {
   "cell_type": "code",
   "execution_count": 9,
   "metadata": {},
   "outputs": [
    {
     "data": {
      "text/plain": [
       "False"
      ]
     },
     "execution_count": 9,
     "metadata": {},
     "output_type": "execute_result"
    }
   ],
   "source": [
    "x = (1.1+2.2)**10\n",
    "y = 3.3**10\n",
    "x == y"
   ]
  },
  {
   "cell_type": "code",
   "execution_count": 10,
   "metadata": {},
   "outputs": [
    {
     "name": "stdout",
     "output_type": "stream",
     "text": [
      "153157.89852644503\n",
      "153157.89852644483 \n",
      "\n",
      "Relative Tolerance: 1e-14\n",
      "x == y True\n",
      "x == y True \n",
      "\n",
      "Relative Tolerance: 1e-15\n",
      "x == y False\n",
      "x == y False \n",
      "\n"
     ]
    }
   ],
   "source": [
    "# usually relative tolerance is most useful\n",
    "print(f'{x}')\n",
    "print(f'{y}', '\\n')\n",
    "tols = [1e-14, 1e-15]\n",
    "for tol in tols:\n",
    "    print(f'Relative Tolerance: {tol}')\n",
    "    print(f'x == y {rel_tol(x, y, tol)}')   \n",
    "    print(f'x == y {np.isclose(x, y, atol=0, rtol=tol)}', '\\n')"
   ]
  },
  {
   "cell_type": "code",
   "execution_count": 11,
   "metadata": {},
   "outputs": [
    {
     "name": "stdout",
     "output_type": "stream",
     "text": [
      "153157.89852644503\n",
      "153157.89852644483 \n",
      "\n",
      "Absolute Tolerance: 1e-09\n",
      "x == y True\n",
      "x == y True \n",
      "\n",
      "Absolute Tolerance: 1e-10\n",
      "x == y False\n",
      "x == y False \n",
      "\n"
     ]
    }
   ],
   "source": [
    "# however when comparing with zero, absolute tolerance is necessary\n",
    "print(f'{x}')\n",
    "print(f'{y}', '\\n')\n",
    "tols = [1e-9, 1e-10]\n",
    "for tol in tols:\n",
    "    print(f'Absolute Tolerance: {tol}')\n",
    "    print(f'x == y {abs_tol(x, y, tol)}')   \n",
    "    print(f'x == y {np.isclose(x, y, atol=tol, rtol=0)}', '\\n')"
   ]
  },
  {
   "cell_type": "markdown",
   "metadata": {},
   "source": [
    "### math.isclose() vs numpy.isclose()\n",
    "\n",
    "When both of atol and rtol are nonzero, math.isclose() and numpy.isclose() do not produce the same results!\n",
    "\n",
    "The proper definition, when both atol and rtol are specified, is math.isclose().\n",
    "\n",
    "See for example: https://apassionatechie.wordpress.com/2018/01/09/isclose-function-in-numpy-is-different-from-math/"
   ]
  },
  {
   "cell_type": "markdown",
   "metadata": {},
   "source": [
    "### Money Calculation Note\n",
    "\n",
    "Floating point numbers should not be used for financial applications.  Use Decmial instead.\n",
    "\n",
    "Although the relative difference between using float and decimal is usually very small, the absolute difference could be a penny or more.  Financial calcuations must be exact, or your code will not be considered correct (to an accountant)."
   ]
  },
  {
   "cell_type": "markdown",
   "metadata": {},
   "source": [
    "## Python's Copy Semantics\n",
    "\n",
    "The following is a descriptive overview.  The examples will make this clearer.  Each of the following topics are related."
   ]
  },
  {
   "cell_type": "markdown",
   "metadata": {},
   "source": [
    "### 'is' vs '=='\n",
    "\n",
    "If two variables refer to the same object in memory, then 'a is b' returns True. \n",
    "\n",
    "If 'a is b' is True, then by definition 'a == b' is also True.\n",
    "\n",
    "If two variables refer to different objects in memory, and those objects are allowed to be compared with one another, and those objects have values which are equal, then a == b returns True."
   ]
  },
  {
   "cell_type": "markdown",
   "metadata": {},
   "source": [
    "### Mutable vs Immutable\n",
    "\n",
    "An immutable object is one whose contents cannot be changed.  Examples include:\n",
    "1. numeric literals (e.g you cannot reassign the value of 2 with 2 = 3)\n",
    "2. strings\n",
    "3. tuples\n",
    "4. namedtuples\n",
    "\n",
    "A mutable object is one whose contents can be changed.  Examples include:\n",
    "1. list\n",
    "2. dictionary\n",
    "3. set \n",
    "\n",
    "If a variable refers to an object in memory, and that object is immutable, it is not possible to change the contents of the memory referred to.\n",
    "\n",
    "Understanding whether or not two variables refer to the same object in memory, and whether or not the object in memory is mutable or contains references to mutable objects, is key to understanding Python's copy semantics."
   ]
  },
  {
   "cell_type": "code",
   "execution_count": 16,
   "metadata": {},
   "outputs": [
    {
     "name": "stdout",
     "output_type": "stream",
     "text": [
      "0x55e5f5ec63c0\n",
      "0x55e5f5ec63e0\n",
      "4\n"
     ]
    }
   ],
   "source": [
    "# a refers to the immutable object in memory that represents the integer 3\n",
    "a = 3\n",
    "print(hex(id(a)))\n",
    "\n",
    "# add 1 to a\n",
    "# the contents of object in memory that a refers to cannot change\n",
    "# instead a new object, representing the integer 4, is created in memory\n",
    "# and 'a' is rebound to this new object\n",
    "a = a + 1\n",
    "print(hex(id(a)))\n",
    "print(a)"
   ]
  },
  {
   "cell_type": "code",
   "execution_count": 17,
   "metadata": {},
   "outputs": [
    {
     "name": "stdout",
     "output_type": "stream",
     "text": [
      "0x7fe684455148\n",
      "0x7fe6751d6f30\n",
      "Hello World\n"
     ]
    }
   ],
   "source": [
    "# another example\n",
    "a = \"Hello\"\n",
    "print(hex(id(a)))\n",
    "\n",
    "a = a + \" World\"\n",
    "print(hex(id(a)))\n",
    "print(a)"
   ]
  },
  {
   "cell_type": "markdown",
   "metadata": {},
   "source": [
    "### Interpreter Memory Optimization Creates Some Unexpected Results\n",
    "\n",
    "Small integer values and some number of strings, are likely to be used many times. In order to save memory, the same immutable object might be reused by the interpreter."
   ]
  },
  {
   "cell_type": "code",
   "execution_count": null,
   "metadata": {},
   "outputs": [],
   "source": [
    "# memory optimization uses the same memory location for the integer 4 for both a and b\n",
    "a = 1+3\n",
    "b = 2+2\n",
    "\n",
    "# hex location in memory for a and b is the same!\n",
    "print(hex(id(a)))\n",
    "print(hex(id(b)))\n",
    "\n",
    "# True!\n",
    "print(a is b)\n",
    "print(a == b)"
   ]
  },
  {
   "cell_type": "code",
   "execution_count": 18,
   "metadata": {},
   "outputs": [
    {
     "name": "stdout",
     "output_type": "stream",
     "text": [
      "False\n",
      "True\n"
     ]
    }
   ],
   "source": [
    "# there is no memory optimization, a and b refer to different locations in memory\n",
    "a = 987654321\n",
    "b = 987654321\n",
    "\n",
    "# False!\n",
    "print(a is b)\n",
    "print(a == b)"
   ]
  },
  {
   "cell_type": "markdown",
   "metadata": {},
   "source": [
    "#### Conclusion: 'is' vs '=='\n",
    "\n",
    "Never use 'is' if what you want to compare are the values of objects.\n",
    "\n",
    "'a is b' implies 'a == b'  \n",
    "'a is not b' implies nothing.  a and b may or may not have equal values as shown above."
   ]
  },
  {
   "cell_type": "code",
   "execution_count": 19,
   "metadata": {},
   "outputs": [
    {
     "name": "stdout",
     "output_type": "stream",
     "text": [
      "0x7fe675807dd0\n",
      "0x7fe675807dd0\n",
      "True\n",
      "True\n"
     ]
    }
   ],
   "source": [
    "a = 987654321\n",
    "b = a\n",
    "\n",
    "# now b refers to the same integer object in memory that a refers to\n",
    "print(hex(id(a)))\n",
    "print(hex(id(b)))\n",
    "print(a is b)\n",
    "print(a == b)"
   ]
  },
  {
   "cell_type": "code",
   "execution_count": 20,
   "metadata": {},
   "outputs": [
    {
     "name": "stdout",
     "output_type": "stream",
     "text": [
      "0x7fe675807a90\n",
      "0x7fe675807df0\n"
     ]
    }
   ],
   "source": [
    "# integers are immutable, therefore two variables, even if named the same, \n",
    "# must refer to two different objects in memory\n",
    "a = 987654321\n",
    "print(hex(id(a)))\n",
    "a = a+1\n",
    "print(hex(id(a)))"
   ]
  },
  {
   "cell_type": "markdown",
   "metadata": {},
   "source": [
    "### Awesome Python Visual Aid\n",
    "\n",
    "To understand memory management of mutable objects types such as lists and sets, I highly recommend the use of: http://www.pythontutor.com/visualize.html#mode=display\n",
    "\n",
    "Cut and paste the code from the entire cell.  Click on the \"visualize execution\" button.  And step through it line by line by clicking on \"forward\".\n",
    "\n",
    "For learning purposes, this visualization is better than using a debugger and better than anything I can describe in text."
   ]
  },
  {
   "cell_type": "code",
   "execution_count": 21,
   "metadata": {},
   "outputs": [
    {
     "name": "stdout",
     "output_type": "stream",
     "text": [
      "[1, 2, 3]\n",
      "[1, 2, 3]\n",
      "0x7fe6751d47c8\n",
      "0x7fe6751d47c8\n",
      "True\n",
      "0x7fe6751d47c8\n",
      "0x7fe6751d47c8\n",
      "True\n",
      "[1, 99, 3]\n",
      "None\n",
      "-99\n",
      "[1, 99, 3]\n",
      "[1, 99, 3]\n",
      "True\n"
     ]
    }
   ],
   "source": [
    "# copy this entire cell to http://www.pythontutor.com/visualize.html#mode=display\n",
    "# click: visualize execution and step through code\n",
    "\n",
    "# lists are mutable!\n",
    "# this means the same memory location can hold different values\n",
    "a = [1, 2, 3]\n",
    "b = a\n",
    "print(a)\n",
    "print(b)\n",
    "print(hex(id(a)))\n",
    "print(hex(id(b)))\n",
    "print(a is b)\n",
    "\n",
    "# modify the contents of the list object in-place\n",
    "a[1] = 99\n",
    "print(hex(id(a)))\n",
    "print(hex(id(b)))\n",
    "print(a is b)\n",
    "\n",
    "# the contents of a[1] changed, but this is referred to by b, so now b is different\n",
    "print(b)\n",
    "\n",
    "# in Python, the convention (which most packages follow) is for an in-place operator to return None\n",
    "# a notable exeception is pop() which both modifies the list and returns the value it removed\n",
    "z = a.append(-99)\n",
    "print(z)\n",
    "z = a.pop()\n",
    "print(z)\n",
    "print(a)\n",
    "print(b)\n",
    "print(a is b)"
   ]
  },
  {
   "cell_type": "code",
   "execution_count": 22,
   "metadata": {},
   "outputs": [
    {
     "name": "stdout",
     "output_type": "stream",
     "text": [
      "[1, 2, 3]\n",
      "[1, 2, 3]\n",
      "False\n",
      "True\n",
      "[1, 100, 3]\n",
      "[1, 2, 3]\n",
      "False\n",
      "False\n",
      "False\n",
      "[[1, 2], [3, 4]]\n",
      "[[1, 2], [3, 4]]\n",
      "0x7fe6751e3a08\n",
      "0x7fe6751e3a08\n",
      "0x7fe6751e3a08\n",
      "[99, 2]\n",
      "[[99, 2], [3, 4]]\n",
      "[[99, 2], [3, 4]]\n",
      "[22, 2]\n",
      "[[22, 2], [3, 4]]\n",
      "[[22, 2], [3, 4]]\n"
     ]
    }
   ],
   "source": [
    "# copy this entire cell to http://www.pythontutor.com/visualize.html#mode=display\n",
    "# click: visualize execution and step through code\n",
    "\n",
    "# [:] is equivalent to a shallow copy\n",
    "a = [1, 2, 3]\n",
    "b = a[:]\n",
    "\n",
    "# although the contents of the a and b are the same, they refer to different objects in memory\n",
    "print(a)\n",
    "print(b)\n",
    "print(a is b)\n",
    "print(a == b)\n",
    "\n",
    "# so modifing a has no effect on b\n",
    "a[1] = 100\n",
    "print(a)\n",
    "print(b)\n",
    "\n",
    "# alternative ways to create shallow copies of a list\n",
    "a = [1, 2, 3]\n",
    "b = a.copy()\n",
    "print(a is b)\n",
    "\n",
    "from copy import copy\n",
    "b = copy(a)\n",
    "print(a is b)\n",
    "\n",
    "# if the contents are themselves references to mutable objects\n",
    "# the situation is more complicated\n",
    "a = [1, 2]\n",
    "b = [3, 4]\n",
    "c = [a, b]\n",
    "d = c.copy()\n",
    "print(c is d)\n",
    "\n",
    "print(c)\n",
    "print(d)\n",
    "\n",
    "# even though c and d refer to different objects in memory\n",
    "# c[0] refers to the SAME object in memory as d[0], which is also 'a'\n",
    "print(hex(id(a)))\n",
    "print(hex(id(c[0])))\n",
    "print(hex(id(d[0])))\n",
    "\n",
    "# therefore changing a in-place will change c and d\n",
    "a[0] = 99\n",
    "print(a)\n",
    "print(c)\n",
    "print(d)\n",
    "\n",
    "# likewise changing c[0][0], which refers to the same object as a, will change a and d\n",
    "c[0][0] = 22\n",
    "print(a)\n",
    "print(c)\n",
    "print(d)"
   ]
  },
  {
   "cell_type": "code",
   "execution_count": 23,
   "metadata": {},
   "outputs": [
    {
     "name": "stdout",
     "output_type": "stream",
     "text": [
      "False\n",
      "False\n",
      "True\n",
      "[108, 2]\n",
      "[[108, 2], [3, 4]]\n",
      "[[1, 2], [3, 4]]\n",
      "False\n",
      "False\n",
      "False\n",
      "0x7fe6751e3908\n",
      "0x7fe6751d05c8\n",
      "0x7fe6844ba548\n"
     ]
    }
   ],
   "source": [
    "# copy this entire cell to http://www.pythontutor.com/visualize.html#mode=display\n",
    "# click: visualize execution and step through code\n",
    "\n",
    "from copy import deepcopy\n",
    "# if the contents are themselves references to mutable objects\n",
    "# the situation is more complicated\n",
    "a = [1, 2]\n",
    "b = [3, 4]\n",
    "c = [a, b]\n",
    "\n",
    "d = deepcopy(c)\n",
    "\n",
    "# shallow copy ensures that c is not d\n",
    "print(c is d)\n",
    "\n",
    "# deep copy ensures that c[0] is not d[0]\n",
    "print(c[0] is d[0])\n",
    "\n",
    "# however c[0] was not a copy of a\n",
    "print(c[0] is a)\n",
    "\n",
    "a[0] = 108\n",
    "print(a)\n",
    "print(c)\n",
    "print(d)\n",
    "\n",
    "# similar but ensure all variables are deep copies\n",
    "a = [1, 2]\n",
    "b = [3, 4]\n",
    "c = [a.copy(), b.copy()]\n",
    "\n",
    "d = deepcopy(c)\n",
    "print(c is d)\n",
    "print(c[0] is d[0])\n",
    "\n",
    "# this time c[0] was a copy of a\n",
    "print(c[0] is a)\n",
    "\n",
    "# d is a deepcopy of c, do d[0] is not c[0]\n",
    "# however c[0] was a shallow copy of a\n",
    "print(hex(id(a)))\n",
    "print(hex(id(c[0])))\n",
    "print(hex(id(d[0])))"
   ]
  },
  {
   "cell_type": "code",
   "execution_count": 24,
   "metadata": {},
   "outputs": [
    {
     "name": "stdout",
     "output_type": "stream",
     "text": [
      "{1, 2, 3, 4}\n",
      "{1, 2, 3, 4, 5}\n",
      "{1, 2, 3, 4}\n"
     ]
    }
   ],
   "source": [
    "# copy this entire cell to http://www.pythontutor.com/visualize.html#mode=display\n",
    "# click: visualize execution and step through code\n",
    "\n",
    "# similar to above examples, but with sets instead\n",
    "s = set([1, 2, 3])\n",
    "t = s\n",
    "\n",
    "# in-place modification of s, changes t\n",
    "s.add(4)\n",
    "print(t)\n",
    "\n",
    "# use shallow copy\n",
    "t = s.copy()\n",
    "s.add(5)\n",
    "print(s)\n",
    "print(t)"
   ]
  },
  {
   "cell_type": "code",
   "execution_count": 25,
   "metadata": {},
   "outputs": [
    {
     "name": "stdout",
     "output_type": "stream",
     "text": [
      "None\n",
      "[1, 2, 3, (4, 5), 6, 7, 8, 9]\n",
      "9 [1, 2, 3, (4, 5), 6, 7, 8]\n"
     ]
    }
   ],
   "source": [
    "# copy this entire cell to http://www.pythontutor.com/visualize.html#mode=display\n",
    "# click: visualize execution and step through code\n",
    "\n",
    "# lists are mutable, adding to it does not create a new one\n",
    "my_list = [1,2,3]\n",
    "my_list.append((4,5))\n",
    "ret = my_list.extend((6,7,8,9))\n",
    "print(ret)\n",
    "print(my_list)\n",
    "\n",
    "# Note: a list can be used as a stack with append and pop\n",
    "ret = my_list.pop()\n",
    "print(f'{ret} {my_list}')"
   ]
  },
  {
   "cell_type": "code",
   "execution_count": 26,
   "metadata": {},
   "outputs": [
    {
     "name": "stdout",
     "output_type": "stream",
     "text": [
      "Help on function list_flatten in module __main__:\n",
      "\n",
      "list_flatten(my_iterable, a=None)\n",
      "    Flatten a list/tuple\n",
      "\n",
      "[1, 2, 3, (4, 5), 6, 7, 8]\n",
      "[1, 2, 3, (4, 5), 6, 7, 8] -> [1, 2, 3, 4, 5, 6, 7, 8]\n"
     ]
    }
   ],
   "source": [
    "import collections.abc\n",
    "\n",
    "def list_flatten(my_iterable, a=None):\n",
    "    \"\"\"Flatten a list/tuple\n",
    "    \"\"\"\n",
    "    \n",
    "    # idiom for a mutable default argument\n",
    "    if a is None:\n",
    "        a = []\n",
    "\n",
    "    for item in my_iterable:\n",
    "        if isinstance(item, collections.abc.Iterable):\n",
    "            list_flatten(item, a)\n",
    "        else:\n",
    "            a.append(item)\n",
    "    return a\n",
    "\n",
    "help(list_flatten)\n",
    "\n",
    "print(f'{my_list}')\n",
    "my_flat_list = list_flatten(my_list)\n",
    "print(f'{my_list} -> {my_flat_list}')"
   ]
  },
  {
   "cell_type": "markdown",
   "metadata": {},
   "source": [
    "## String Formatting\n",
    "\n",
    "For an excellent discussion see: https://pyformat.info/"
   ]
  },
  {
   "cell_type": "code",
   "execution_count": 27,
   "metadata": {},
   "outputs": [
    {
     "name": "stdout",
     "output_type": "stream",
     "text": [
      "__str__  was called\n",
      "__repr__ was called\n",
      "__str__  was called\n",
      "__repr__ was called\n"
     ]
    }
   ],
   "source": [
    "class Data(object):\n",
    "\n",
    "    def __str__(self):\n",
    "        return '__str__  was called'\n",
    "\n",
    "    def __repr__(self):\n",
    "        return '__repr__ was called'\n",
    "    \n",
    "# create instance\n",
    "d = Data()\n",
    "\n",
    "# display instance in both str and repr forms\n",
    "print('{0!s}'.format(d))\n",
    "print('{0!r}'.format(d))\n",
    "\n",
    "# use Python 3.6+ f strings to do the same\n",
    "print(f'{d!s}')\n",
    "print(f'{d!r}')"
   ]
  },
  {
   "cell_type": "code",
   "execution_count": 28,
   "metadata": {},
   "outputs": [
    {
     "name": "stdout",
     "output_type": "stream",
     "text": [
      "test      \n",
      "      test\n",
      "---test---\n"
     ]
    }
   ],
   "source": [
    "# string formatting\n",
    "s = 'test'\n",
    "print('{:10}'.format(s))\n",
    "print('{:>10}'.format(s))\n",
    "print('{:-^10}'.format(s))"
   ]
  },
  {
   "cell_type": "code",
   "execution_count": 29,
   "metadata": {},
   "outputs": [
    {
     "name": "stdout",
     "output_type": "stream",
     "text": [
      "test      \n",
      "      test\n",
      "---test---\n"
     ]
    }
   ],
   "source": [
    "# string formatting with f strings\n",
    "print(f'{s:10}')\n",
    "print(f'{s:>10}')\n",
    "print(f'{s:-^10}')"
   ]
  },
  {
   "cell_type": "code",
   "execution_count": 30,
   "metadata": {},
   "outputs": [
    {
     "name": "stdout",
     "output_type": "stream",
     "text": [
      "3.14159\n",
      "3.14159\n",
      "3.14159\n"
     ]
    }
   ],
   "source": [
    "pi = 3.141592653589793\n",
    "print('%7.5f' % pi) # old style, not recommended\n",
    "print('{:7.5f}'.format(pi)) # recommended\n",
    "print(f'{pi:7.5f}') # reommended for Python 3.6 and above"
   ]
  }
 ],
 "metadata": {
  "kernelspec": {
   "display_name": "Python 3",
   "language": "python",
   "name": "python3"
  },
  "language_info": {
   "codemirror_mode": {
    "name": "ipython",
    "version": 3
   },
   "file_extension": ".py",
   "mimetype": "text/x-python",
   "name": "python",
   "nbconvert_exporter": "python",
   "pygments_lexer": "ipython3",
   "version": "3.7.1"
  }
 },
 "nbformat": 4,
 "nbformat_minor": 2
}
