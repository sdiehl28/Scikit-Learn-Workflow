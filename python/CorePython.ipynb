{
 "cells": [
  {
   "cell_type": "markdown",
   "metadata": {},
   "source": [
    "# Core Python\n",
    "\n",
    "The examples in this notebook cover issues commonly encountered by someone new to Python and interested in Data Science."
   ]
  },
  {
   "cell_type": "markdown",
   "metadata": {},
   "source": [
    "## Numeric Equality\n",
    "\n",
    "The same value, even if it is a different numeric type, compares equal.\n",
    "\n",
    "In general, objects having different data types do not compare equal."
   ]
  },
  {
   "cell_type": "code",
   "execution_count": 5,
   "metadata": {},
   "outputs": [
    {
     "name": "stdout",
     "output_type": "stream",
     "text": [
      "type(a): <class 'float'>, a = 8.0\n",
      "type(b): <class 'int'>, b = 8\n",
      "type(a) == type(b): False\n",
      "a == b: True\n"
     ]
    }
   ],
   "source": [
    "a = 2.0**3\n",
    "print(f'type(a): {type(a)}, a = {a}')\n",
    "\n",
    "b = 2**3\n",
    "print(f'type(b): {type(b)}, b = {b}')\n",
    "\n",
    "print(f'type(a) == type(b): {type(a) == type(b)}')\n",
    "print(f'a == b: {a==b}')"
   ]
  },
  {
   "cell_type": "markdown",
   "metadata": {},
   "source": [
    "## Floating Point Comparisons\n",
    "\n",
    "Floating point representation is only accurate to within epsilon."
   ]
  },
  {
   "cell_type": "code",
   "execution_count": 6,
   "metadata": {},
   "outputs": [
    {
     "data": {
      "text/plain": [
       "2.220446049250313e-16"
      ]
     },
     "execution_count": 6,
     "metadata": {},
     "output_type": "execute_result"
    }
   ],
   "source": [
    "import sys\n",
    "eps = sys.float_info.epsilon\n",
    "eps"
   ]
  },
  {
   "cell_type": "code",
   "execution_count": 7,
   "metadata": {},
   "outputs": [
    {
     "data": {
      "text/plain": [
       "3.3000000000000003"
      ]
     },
     "execution_count": 7,
     "metadata": {},
     "output_type": "execute_result"
    }
   ],
   "source": [
    "1.1 + 2.2"
   ]
  },
  {
   "cell_type": "code",
   "execution_count": 8,
   "metadata": {},
   "outputs": [
    {
     "data": {
      "text/plain": [
       "3.3"
      ]
     },
     "execution_count": 8,
     "metadata": {},
     "output_type": "execute_result"
    }
   ],
   "source": [
    "3.3"
   ]
  },
  {
   "cell_type": "code",
   "execution_count": 9,
   "metadata": {},
   "outputs": [
    {
     "data": {
      "text/plain": [
       "False"
      ]
     },
     "execution_count": 9,
     "metadata": {},
     "output_type": "execute_result"
    }
   ],
   "source": [
    "1.1 + 2.2 == 3.3"
   ]
  },
  {
   "cell_type": "code",
   "execution_count": 10,
   "metadata": {},
   "outputs": [
    {
     "name": "stdout",
     "output_type": "stream",
     "text": [
      "False\n",
      "True\n"
     ]
    }
   ],
   "source": [
    "# mathematical operations may increase the inprecision\n",
    "print(abs(1.1 + 2.2 - 3.3) <= eps)\n",
    "print(abs(1.1 + 2.2 - 3.3) <= 2*eps)"
   ]
  },
  {
   "cell_type": "code",
   "execution_count": 11,
   "metadata": {},
   "outputs": [
    {
     "name": "stdout",
     "output_type": "stream",
     "text": [
      "True\n"
     ]
    }
   ],
   "source": [
    "# isclose is useful for determining equality with floating point numbers\n",
    "import numpy as np\n",
    "x = 1.1 + 2.2\n",
    "y = 3.3\n",
    "print(np.isclose(x, y))"
   ]
  },
  {
   "cell_type": "code",
   "execution_count": 12,
   "metadata": {},
   "outputs": [],
   "source": [
    "# relative tolerance: is x/y close to 1.0?\n",
    "def rel_tol(x, y, tol):\n",
    "    \"\"\"similar to np.isclose(x, y, atol=0, rtol=tol)\"\"\"\n",
    "    x, y = max(x,y), min(x,y)\n",
    "    if x/y - 1.0 < tol:\n",
    "        return True\n",
    "    else:\n",
    "        return False"
   ]
  },
  {
   "cell_type": "code",
   "execution_count": 13,
   "metadata": {},
   "outputs": [],
   "source": [
    "# absolute tolerance: is x-y close to 0.0?\n",
    "def abs_tol(x, y, tol):\n",
    "    \"\"\"similar to np.isclose(x, y, atol=tol, rtol=0)\"\"\"\n",
    "    x, y = max(x,y), min(x,y)\n",
    "    if (x-y < tol):\n",
    "        return True\n",
    "    else:\n",
    "        return False"
   ]
  },
  {
   "cell_type": "code",
   "execution_count": 14,
   "metadata": {},
   "outputs": [],
   "source": [
    "# exponentiation increases inprecision\n",
    "x = (1.1+2.2)**10\n",
    "y = 3.3**10"
   ]
  },
  {
   "cell_type": "code",
   "execution_count": 15,
   "metadata": {},
   "outputs": [
    {
     "name": "stdout",
     "output_type": "stream",
     "text": [
      "1.0000000000000013 \n",
      "\n",
      "Relative Tolerance: 1e-14\n",
      "x == y True\n",
      "x == y True \n",
      "\n",
      "Relative Tolerance: 1e-15\n",
      "x == y False\n",
      "x == y False \n",
      "\n"
     ]
    }
   ],
   "source": [
    "# usually relative tolerance is most useful\n",
    "print(f'{x/y}', '\\n')\n",
    "tols = [1e-14, 1e-15]\n",
    "for tol in tols:\n",
    "    print(f'Relative Tolerance: {tol}')\n",
    "    print(f'x == y {rel_tol(x, y, tol)}')   \n",
    "    print(f'x == y {np.isclose(x, y, atol=0, rtol=tol)}', '\\n')"
   ]
  },
  {
   "cell_type": "code",
   "execution_count": 16,
   "metadata": {},
   "outputs": [
    {
     "name": "stdout",
     "output_type": "stream",
     "text": [
      "2.0372681319713593e-10 \n",
      "\n",
      "Absolute Tolerance: 1e-09\n",
      "x == y True\n",
      "x == y True \n",
      "\n",
      "Absolute Tolerance: 1e-10\n",
      "x == y False\n",
      "x == y False \n",
      "\n"
     ]
    }
   ],
   "source": [
    "# however when comparing with zero, absolute tolerance is necessary\n",
    "print(f'{x-y}', '\\n')\n",
    "tols = [1e-9, 1e-10]\n",
    "for tol in tols:\n",
    "    print(f'Absolute Tolerance: {tol}')\n",
    "    print(f'x == y {abs_tol(x, y, tol)}')   \n",
    "    print(f'x == y {np.isclose(x, y, atol=tol, rtol=0)}', '\\n')"
   ]
  },
  {
   "cell_type": "markdown",
   "metadata": {},
   "source": [
    "### math.isclose() vs numpy.isclose()\n",
    "\n",
    "When both of atol and rtol are nonzero, math.isclose() and numpy.isclose() do not produce the same results!\n",
    "\n",
    "The generally accepted definition, when both atol and rtol are specified, is implemented by math.isclose().\n",
    "\n",
    "Suggestion: set one of atol or rtol to zero, or use math.isclose().\n",
    "\n",
    "See for example: https://apassionatechie.wordpress.com/2018/01/09/isclose-function-in-numpy-is-different-from-math/"
   ]
  },
  {
   "cell_type": "markdown",
   "metadata": {},
   "source": [
    "### Money Calculation Note\n",
    "\n",
    "Floating point numbers should not be used for financial applications.  Use Decmial instead.\n",
    "\n",
    "Although the relative difference between using float and decimal is usually very small, the absolute difference could be a penny or more.  Financial calculations must be exact or your code may not be considered acceptable to an accountant. "
   ]
  },
  {
   "cell_type": "markdown",
   "metadata": {},
   "source": [
    "## Python's Copy Semantics\n",
    "\n",
    "The following is a descriptive overview.  The examples will make this clearer.\n",
    "\n",
    "Before understanding how objects are copied, it is necessary to understand the difference between 'is' and '==', as well as the difference between mutable and immutable objects."
   ]
  },
  {
   "cell_type": "markdown",
   "metadata": {},
   "source": [
    "### 'is' vs '=='\n",
    "\n",
    "**a is b**  \n",
    "if two variables refer to the same object in memory 'a is b' returns True\n",
    "\n",
    "**a == b**  \n",
    "if the values (aka contents) of the objects referred to by two variables are the same, then 'a == b' returns True.\n",
    "\n",
    "If 'a is b' is True, then 'a == b' must also be True.  \n",
    "If 'a is b', then a and b are sometimes said to be an alias for one another."
   ]
  },
  {
   "cell_type": "markdown",
   "metadata": {},
   "source": [
    "### Mutable vs Immutable\n",
    "\n",
    "An immutable object is one whose contents cannot be changed.  Examples include:\n",
    "1. strings\n",
    "2. tuples\n",
    "3. namedtuples\n",
    "\n",
    "A mutable object is one whose contents can be changed.  Examples include:\n",
    "1. list\n",
    "2. dictionary\n",
    "3. set \n",
    "\n",
    "If a variable refers to an object in memory, and that object is immutable, it is not possible to change the contents of the memory referred to.\n",
    "\n",
    "Understanding whether or not two variables refer to the same object in memory, and whether or not the object in memory is mutable or contains references to mutable objects, is key to understanding Python's copy semantics."
   ]
  },
  {
   "cell_type": "code",
   "execution_count": 17,
   "metadata": {},
   "outputs": [
    {
     "name": "stdout",
     "output_type": "stream",
     "text": [
      "a = \"3\", hex(id(a)) = 0x55c4ed3ea3c0\n",
      "a = \"4\", hex(id(a)) = 0x55c4ed3ea3e0\n"
     ]
    }
   ],
   "source": [
    "# a refers to the immutable object in memory that represents the integer 3\n",
    "a = 3\n",
    "print(f'a = \"{a}\", hex(id(a)) = {hex(id(a))}')\n",
    "\n",
    "# if we add 1 to a, then a can no longer refer to the same object in memory\n",
    "# instead a new object is created in memory and a is bound (refers to) this new object\n",
    "a = a + 1\n",
    "print(f'a = \"{a}\", hex(id(a)) = {hex(id(a))}')"
   ]
  },
  {
   "cell_type": "code",
   "execution_count": 18,
   "metadata": {},
   "outputs": [
    {
     "name": "stdout",
     "output_type": "stream",
     "text": [
      "a = \"Hello\", hex(id(a)) = 0x7f171f923960\n",
      "a = \"Hello World\", hex(id(a)) = 0x7f173b5f35f0\n"
     ]
    }
   ],
   "source": [
    "# a refers to the immutable object in memory that represents the string \"Hello\"\n",
    "a = \"Hello\"\n",
    "print(f'a = \"{a}\", hex(id(a)) = {hex(id(a))}')\n",
    "\n",
    "a = a + \" World\"\n",
    "print(f'a = \"{a}\", hex(id(a)) = {hex(id(a))}')"
   ]
  },
  {
   "cell_type": "code",
   "execution_count": 19,
   "metadata": {},
   "outputs": [
    {
     "name": "stdout",
     "output_type": "stream",
     "text": [
      "a = \"[1, 2, 3]\", hex(id(a)) = 0x7f1735277ac8\n",
      "a = \"[1, 9, 3]\", hex(id(a)) = 0x7f1735277ac8\n"
     ]
    }
   ],
   "source": [
    "# a refers to a mutable object\n",
    "a = [1, 2, 3]\n",
    "print(f'a = \"{a}\", hex(id(a)) = {hex(id(a))}')\n",
    "\n",
    "# its contents can be changed, a refers to the same object as before\n",
    "a[1] = 9\n",
    "print(f'a = \"{a}\", hex(id(a)) = {hex(id(a))}')"
   ]
  },
  {
   "cell_type": "markdown",
   "metadata": {},
   "source": [
    "### Aside: Memory Optimization May Cause 'is' to be True Unexpectedly\n",
    "\n",
    "In order to save memory, small integer values, as well as a certain number of strings, are reused by Python (and most other programming languages).\n",
    "\n",
    "This could create confusion when trying to understand how 'is' works."
   ]
  },
  {
   "cell_type": "code",
   "execution_count": 20,
   "metadata": {},
   "outputs": [
    {
     "name": "stdout",
     "output_type": "stream",
     "text": [
      "a = \"4\", hex(id(a)) = 0x55c4ed3ea3e0\n",
      "b = \"4\", hex(id(b)) = 0x55c4ed3ea3e0\n",
      "a is b: True\n",
      "a == b: True\n"
     ]
    }
   ],
   "source": [
    "# memory optimization uses the same memory location for the integer 4 for both a and b\n",
    "a = 1+3\n",
    "b = 2+2\n",
    "\n",
    "# memory location for a and b is the same!\n",
    "print(f'a = \"{a}\", hex(id(a)) = {hex(id(a))}')\n",
    "print(f'b = \"{b}\", hex(id(b)) = {hex(id(b))}')\n",
    "\n",
    "print(f'a is b: {a is b}')\n",
    "print(f'a == b: {a == b}')"
   ]
  },
  {
   "cell_type": "code",
   "execution_count": 21,
   "metadata": {},
   "outputs": [
    {
     "name": "stdout",
     "output_type": "stream",
     "text": [
      "a = \"987654321\", hex(id(a)) = 0x7f171fdf0d90\n",
      "b = \"987654321\", hex(id(b)) = 0x7f171fdf0e30\n",
      "a is b: False\n",
      "a == b: True\n"
     ]
    }
   ],
   "source": [
    "# however for larger values, the interpreter makes no attempt to reuse the same immutable integer\n",
    "a = 987654321\n",
    "b = 987654321\n",
    "\n",
    "# memory location for a and b are different!\n",
    "print(f'a = \"{a}\", hex(id(a)) = {hex(id(a))}')\n",
    "print(f'b = \"{b}\", hex(id(b)) = {hex(id(b))}')\n",
    "\n",
    "print(f'a is b: {a is b}')\n",
    "print(f'a == b: {a == b}')"
   ]
  },
  {
   "cell_type": "markdown",
   "metadata": {},
   "source": [
    "#### Conclusion: 'is' vs '=='\n",
    "\n",
    "Never us 'is' for object equality."
   ]
  },
  {
   "cell_type": "code",
   "execution_count": 22,
   "metadata": {},
   "outputs": [
    {
     "name": "stdout",
     "output_type": "stream",
     "text": [
      "a = \"987654321\", hex(id(a)) = 0x7f171fdf0db0\n",
      "b = \"987654321\", hex(id(b)) = 0x7f171fdf0db0\n",
      "a is b: True\n",
      "a == b: True\n"
     ]
    }
   ],
   "source": [
    "a = 987654321\n",
    "\n",
    "# make b refer to the same object as a\n",
    "b = a\n",
    "\n",
    "print(f'a = \"{a}\", hex(id(a)) = {hex(id(a))}')\n",
    "print(f'b = \"{b}\", hex(id(b)) = {hex(id(b))}')\n",
    "print(f'a is b: {a is b}')\n",
    "print(f'a == b: {a == b}')"
   ]
  },
  {
   "cell_type": "code",
   "execution_count": 24,
   "metadata": {},
   "outputs": [
    {
     "name": "stdout",
     "output_type": "stream",
     "text": [
      "a = \"987654323\", hex(id(a)) = 0x7f171fdf0eb0\n",
      "b = \"987654321\", hex(id(b)) = 0x7f171fdf0db0\n"
     ]
    }
   ],
   "source": [
    "# adding 1 to a will create a new integer object in memory and bind a to that new object\n",
    "# b continues to refer to the same integer object as before\n",
    "a \n",
    "a = a + 1\n",
    "\n",
    "print(f'a = \"{a}\", hex(id(a)) = {hex(id(a))}')\n",
    "print(f'b = \"{b}\", hex(id(b)) = {hex(id(b))}')"
   ]
  },
  {
   "cell_type": "markdown",
   "metadata": {},
   "source": [
    "## Awesome Python Visual Aid\n",
    "\n",
    "The easiest way to understand the copy semantics of mutable objects is visually.\n",
    "\n",
    "There is an excellent visual tool for this: http://www.pythontutor.com/visualize.html#mode=display\n",
    "\n",
    "For learning, this visualization is better than anything I can describe in text, and is better than using a debugger.\n",
    "\n",
    "1. Cut and paste the code from the cells below as directed.  \n",
    "2. Click on the \"visualize execution\" button.  \n",
    "3. Step through it line by line by clicking on \"forward\"."
   ]
  },
  {
   "cell_type": "markdown",
   "metadata": {},
   "source": [
    "### Modifying an Object \"in-place\" vs not \"in-place\"\n",
    "\n",
    "To modify an object \"in-place\" means to change the contents of the object.  This can only be done for mutable objects.\n",
    "\n",
    "Usually an \"in-place\" operation returns None whereas a non \"in-place\" operation returns a copy of the operated on value."
   ]
  },
  {
   "cell_type": "code",
   "execution_count": 25,
   "metadata": {},
   "outputs": [
    {
     "name": "stdout",
     "output_type": "stream",
     "text": [
      "in-place opearation on list\n",
      "a = [2, 1, 3]\n",
      "x = a.sort()\n",
      "x = None\n",
      "a = [1, 2, 3]\n",
      "\n",
      "non in-place operation on list\n",
      "a = [2, 1, 3]\n",
      "x = sorted(a)\n",
      "x = [1, 2, 3]\n",
      "a = [2, 1, 3]\n"
     ]
    }
   ],
   "source": [
    "# copy this entire cell to http://www.pythontutor.com/visualize.html#mode=display\n",
    "# click: 'visualize execution' and step through code with 'forward'\n",
    "\n",
    "# lists are mutable, their contents can be modified in-place\n",
    "print('in-place opearation on list')\n",
    "a = [2, 1, 3]\n",
    "print(f'a = {a}')\n",
    "\n",
    "# apply in-place method\n",
    "print(f'x = a.sort()')\n",
    "x = a.sort()\n",
    "print(f'x = {x}')\n",
    "print(f'a = {a}')\n",
    "print()\n",
    "\n",
    "# apply non in-place method\n",
    "print('non in-place operation on list')\n",
    "a = [2, 1, 3]\n",
    "print(f'a = {a}')\n",
    "print(f'x = sorted(a)')\n",
    "x = sorted(a)\n",
    "print(f'x = {x}')\n",
    "print(f'a = {a}')"
   ]
  },
  {
   "cell_type": "code",
   "execution_count": 26,
   "metadata": {},
   "outputs": [
    {
     "name": "stdout",
     "output_type": "stream",
     "text": [
      "[1, 2, 3]\n",
      "[1, 2, 3]\n",
      "0x7f171f7c4608\n",
      "0x7f171f7c4608\n",
      "True\n",
      "0x7f171f7c4608\n",
      "0x7f171f7c4608\n",
      "True\n",
      "[1, 99, 3]\n",
      "None\n",
      "-99\n",
      "[1, 99, 3]\n",
      "[1, 99, 3]\n",
      "True\n"
     ]
    }
   ],
   "source": [
    "# copy this entire cell to http://www.pythontutor.com/visualize.html#mode=display\n",
    "# click: 'visualize execution' and step through code with 'forward'\n",
    "\n",
    "a = [1, 2, 3]\n",
    "b = a\n",
    "print(a)\n",
    "print(b)\n",
    "print(hex(id(a)))\n",
    "print(hex(id(b)))\n",
    "print(a is b)\n",
    "\n",
    "# modify the contents of the list object in-place\n",
    "a[1] = 99\n",
    "print(hex(id(a)))\n",
    "print(hex(id(b)))\n",
    "print(a is b)\n",
    "\n",
    "# the contents of a[1] changed, but this is referred to by b, so now b is different\n",
    "print(b)\n",
    "\n",
    "# in Python, the convention (which most packages follow) is for an in-place operator to return None\n",
    "# a notable exeception is pop() which both modifies the list and returns the value it removed\n",
    "z = a.append(-99)\n",
    "print(z)\n",
    "z = a.pop()\n",
    "print(z)\n",
    "print(a)\n",
    "print(b)\n",
    "print(a is b)"
   ]
  },
  {
   "cell_type": "code",
   "execution_count": 27,
   "metadata": {},
   "outputs": [
    {
     "name": "stdout",
     "output_type": "stream",
     "text": [
      "[1, 2, 3]\n",
      "[1, 2, 3]\n",
      "False\n",
      "\n",
      "[1, 100, 3]\n",
      "[1, 2, 3]\n",
      "False\n",
      "\n",
      "[1, 100, 3]\n",
      "[1, 2, 3]\n",
      "False\n",
      "\n",
      "[1, 100, 3]\n",
      "[1, 2, 3]\n",
      "False\n"
     ]
    }
   ],
   "source": [
    "# copy this entire cell to http://www.pythontutor.com/visualize.html#mode=display\n",
    "# click: 'visualize execution' and step through code with 'forward'\n",
    "\n",
    "# [:] is a shallow copy\n",
    "a = [1, 2, 3]\n",
    "b = a[:]\n",
    "\n",
    "# although the contents of the a and b are the same, they refer to different objects in memory\n",
    "print(a)\n",
    "print(b)\n",
    "print(a is b)\n",
    "print()\n",
    "\n",
    "# so modifing a has no effect on b\n",
    "a[1] = 100\n",
    "print(a)\n",
    "print(b)\n",
    "print(a is b)\n",
    "print()\n",
    "\n",
    "# alternative ways to create shallow copies of a list\n",
    "a = [1, 2, 3]\n",
    "b = a.copy()\n",
    "\n",
    "# modifing a has no effect on b\n",
    "a[1] = 100\n",
    "print(a)\n",
    "print(b)\n",
    "print(a is b)\n",
    "print()\n",
    "\n",
    "from copy import copy\n",
    "a = [1, 2, 3]\n",
    "b = copy(a)\n",
    "\n",
    "# modifing a has no effect on b\n",
    "a[1] = 100\n",
    "print(a)\n",
    "print(b)\n",
    "print(a is b)"
   ]
  },
  {
   "cell_type": "code",
   "execution_count": 28,
   "metadata": {},
   "outputs": [
    {
     "name": "stdout",
     "output_type": "stream",
     "text": [
      "c = [[1, 2], [3, 4]]\n",
      "d = [[1, 2], [3, 4]]\n",
      "c is d: False\n",
      "\n",
      "True\n",
      "True\n",
      "[[1, 999], [3, 4]]\n",
      "[[1, 999], [3, 4]]\n"
     ]
    }
   ],
   "source": [
    "# copy this entire cell to http://www.pythontutor.com/visualize.html#mode=display\n",
    "# click: 'visualize execution' and step through code with 'forward'\n",
    "\n",
    "# if the contents themselves references to mutable objects\n",
    "# the situation is more complex\n",
    "c = [[1, 2], [3, 4]]\n",
    "\n",
    "# d is shallow copy of c\n",
    "d = c[:]\n",
    "\n",
    "# their values are the same\n",
    "print(f'c = {c}')\n",
    "print(f'd = {d}')\n",
    "\n",
    "# but it is not the same list\n",
    "print(f'c is d: {c is d}')\n",
    "print()\n",
    "\n",
    "# as this was a shallow copy, c[0] is d[0]\n",
    "print(c[0] is d[0])\n",
    "print(c[1] is d[1])\n",
    "\n",
    "# so modifing c in-place, will change the value of d\n",
    "c[0][1] = 999\n",
    "print(c)\n",
    "print(d)"
   ]
  },
  {
   "cell_type": "code",
   "execution_count": 29,
   "metadata": {},
   "outputs": [
    {
     "name": "stdout",
     "output_type": "stream",
     "text": [
      "c = [[1, 2], [3, 4]]\n",
      "d = [[1, 2], [3, 4]]\n",
      "c is d: False\n",
      "\n",
      "False\n",
      "False\n",
      "[[1, 999], [3, 4]]\n",
      "[[1, 2], [3, 4]]\n"
     ]
    }
   ],
   "source": [
    "# copy this entire cell to http://www.pythontutor.com/visualize.html#mode=display\n",
    "# click: 'visualize execution' and step through code with 'forward'\n",
    "\n",
    "# same as previous cell but with deepcopy\n",
    "\n",
    "c = [[1, 2], [3, 4]]\n",
    "\n",
    "# d is shallow copy of c\n",
    "from copy import deepcopy\n",
    "d = deepcopy(c)\n",
    "\n",
    "# their values are the same\n",
    "print(f'c = {c}')\n",
    "print(f'd = {d}')\n",
    "\n",
    "# but it is not the same list\n",
    "print(f'c is d: {c is d}')\n",
    "print()\n",
    "\n",
    "# as this was a deep copy, c[0] is not d[0]\n",
    "print(c[0] is d[0])\n",
    "print(c[1] is d[1])\n",
    "\n",
    "# so modifing c[0][1], for example, will not change the value of d[0][1]\n",
    "c[0][1] = 999\n",
    "print(c)\n",
    "print(d)"
   ]
  },
  {
   "cell_type": "code",
   "execution_count": 30,
   "metadata": {},
   "outputs": [
    {
     "name": "stdout",
     "output_type": "stream",
     "text": [
      "{1, 2, 3, 4}\n",
      "{1, 2, 3, 4, 5}\n",
      "{1, 2, 3, 4}\n"
     ]
    }
   ],
   "source": [
    "# copy this entire cell to http://www.pythontutor.com/visualize.html#mode=display\n",
    "# click: 'visualize execution' and step through code with 'forward'\n",
    "\n",
    "# similar to above examples, but with sets instead\n",
    "s = set([1, 2, 3])\n",
    "t = s\n",
    "\n",
    "# in-place modification of s, changes t\n",
    "s.add(4)\n",
    "print(t)\n",
    "\n",
    "# use shallow copy\n",
    "t = s.copy()\n",
    "s.add(5)\n",
    "print(s)\n",
    "print(t)"
   ]
  },
  {
   "cell_type": "code",
   "execution_count": 31,
   "metadata": {},
   "outputs": [
    {
     "name": "stdout",
     "output_type": "stream",
     "text": [
      "None\n",
      "[1, 2, 3, (4, 5), 6, 7, 8, 9]\n",
      "9 [1, 2, 3, (4, 5), 6, 7, 8]\n"
     ]
    }
   ],
   "source": [
    "# copy this entire cell to http://www.pythontutor.com/visualize.html#mode=display\n",
    "# click: 'visualize execution' and step through code with 'forward'\n",
    "\n",
    "# difference between append and extend\n",
    "my_list = [1,2,3]\n",
    "my_list.append((4,5))\n",
    "ret = my_list.extend((6,7,8,9))\n",
    "print(ret)\n",
    "print(my_list)\n",
    "\n",
    "# Note: a list can be used as a stack with append and pop\n",
    "ret = my_list.pop()\n",
    "print(f'{ret} {my_list}')"
   ]
  }
 ],
 "metadata": {
  "kernelspec": {
   "display_name": "Python 3",
   "language": "python",
   "name": "python3"
  },
  "language_info": {
   "codemirror_mode": {
    "name": "ipython",
    "version": 3
   },
   "file_extension": ".py",
   "mimetype": "text/x-python",
   "name": "python",
   "nbconvert_exporter": "python",
   "pygments_lexer": "ipython3",
   "version": "3.7.2"
  }
 },
 "nbformat": 4,
 "nbformat_minor": 2
}
