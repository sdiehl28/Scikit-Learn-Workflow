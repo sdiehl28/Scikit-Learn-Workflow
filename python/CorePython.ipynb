{
 "cells": [
  {
   "cell_type": "markdown",
   "metadata": {},
   "source": [
    "# Core Python\n",
    "\n",
    "This notebook is primarily example based.\n",
    "\n",
    "The examples cover issues most commonly encounter by someone new to Python. "
   ]
  },
  {
   "cell_type": "markdown",
   "metadata": {},
   "source": [
    "## Numeric Equality\n",
    "\n",
    "The same value, even if it is a different numeric type, compares equal.\n",
    "\n",
    "In general, objects having different data types do not compare equal."
   ]
  },
  {
   "cell_type": "code",
   "execution_count": 1,
   "metadata": {},
   "outputs": [
    {
     "name": "stdout",
     "output_type": "stream",
     "text": [
      "type(a) is <class 'float'>, a = 8.0\n",
      "type(b) is <class 'int'>, b = 8\n",
      "type(a) == type(b) is False\n",
      "a == b is True\n"
     ]
    }
   ],
   "source": [
    "a = 2.0**3\n",
    "print(f'type(a) is {type(a)}, a = {a}')\n",
    "\n",
    "b = 2**3\n",
    "print(f'type(b) is {type(b)}, b = {b}')\n",
    "\n",
    "print(f'type(a) == type(b) is {type(a) == type(b)}')\n",
    "print(f'a == b is {a==b}')"
   ]
  },
  {
   "cell_type": "markdown",
   "metadata": {},
   "source": [
    "## Floating Point Comparisons\n",
    "\n",
    "Floating point representation is only accurate to within epsilon."
   ]
  },
  {
   "cell_type": "code",
   "execution_count": 2,
   "metadata": {},
   "outputs": [
    {
     "data": {
      "text/plain": [
       "2.220446049250313e-16"
      ]
     },
     "execution_count": 2,
     "metadata": {},
     "output_type": "execute_result"
    }
   ],
   "source": [
    "import sys\n",
    "sys.float_info.epsilon"
   ]
  },
  {
   "cell_type": "code",
   "execution_count": 3,
   "metadata": {},
   "outputs": [
    {
     "data": {
      "text/plain": [
       "3.3000000000000003"
      ]
     },
     "execution_count": 3,
     "metadata": {},
     "output_type": "execute_result"
    }
   ],
   "source": [
    "1.1 + 2.2"
   ]
  },
  {
   "cell_type": "code",
   "execution_count": 4,
   "metadata": {},
   "outputs": [
    {
     "data": {
      "text/plain": [
       "3.3"
      ]
     },
     "execution_count": 4,
     "metadata": {},
     "output_type": "execute_result"
    }
   ],
   "source": [
    "3.3"
   ]
  },
  {
   "cell_type": "code",
   "execution_count": 5,
   "metadata": {},
   "outputs": [
    {
     "data": {
      "text/plain": [
       "False"
      ]
     },
     "execution_count": 5,
     "metadata": {},
     "output_type": "execute_result"
    }
   ],
   "source": [
    "1.1 + 2.2 == 3.3"
   ]
  },
  {
   "cell_type": "code",
   "execution_count": 6,
   "metadata": {},
   "outputs": [
    {
     "name": "stdout",
     "output_type": "stream",
     "text": [
      "True\n",
      "True\n",
      "True\n"
     ]
    }
   ],
   "source": [
    "import numpy as np\n",
    "x = 1.1 + 2.2\n",
    "y = 3.3\n",
    "print(np.isclose(x, y))\n",
    "print(np.isclose(x, y+sys.float_info.epsilon))\n",
    "print(np.isclose(x, y-sys.float_info.epsilon))"
   ]
  },
  {
   "cell_type": "code",
   "execution_count": 7,
   "metadata": {},
   "outputs": [],
   "source": [
    "# relative tolerance\n",
    "def rel_tol(x, y, tol):\n",
    "    \"\"\"similar to np.isclose(x, y, atol=0, rtol=tol)\"\"\"\n",
    "    if abs(1.0 - x/y) < tol:\n",
    "        return True\n",
    "    else:\n",
    "        return False"
   ]
  },
  {
   "cell_type": "code",
   "execution_count": 8,
   "metadata": {},
   "outputs": [],
   "source": [
    "# absolute tolerance\n",
    "def abs_tol(x, y, tol):\n",
    "    \"\"\"similar to np.isclose(x, y, atol=tol, rtol=0)\"\"\"\n",
    "    if (abs(x-y) < tol):\n",
    "        return True\n",
    "    else:\n",
    "        return False"
   ]
  },
  {
   "cell_type": "code",
   "execution_count": 9,
   "metadata": {},
   "outputs": [
    {
     "data": {
      "text/plain": [
       "False"
      ]
     },
     "execution_count": 9,
     "metadata": {},
     "output_type": "execute_result"
    }
   ],
   "source": [
    "x = (1.1+2.2)**10\n",
    "y = 3.3**10\n",
    "x == y"
   ]
  },
  {
   "cell_type": "code",
   "execution_count": 10,
   "metadata": {},
   "outputs": [
    {
     "name": "stdout",
     "output_type": "stream",
     "text": [
      "1e-14\n",
      "True\n",
      "True \n",
      "\n",
      "1e-15\n",
      "False\n",
      "False \n",
      "\n"
     ]
    }
   ],
   "source": [
    "# usually relative tolerance is of concern\n",
    "# relative tolerance\n",
    "tols = [1e-14, 1e-15]\n",
    "for tol in tols:\n",
    "    print(tol)\n",
    "    print(rel_tol(x, y, tol))   \n",
    "    print(np.isclose(x, y, atol=0, rtol=tol), '\\n')"
   ]
  },
  {
   "cell_type": "code",
   "execution_count": 11,
   "metadata": {},
   "outputs": [
    {
     "name": "stdout",
     "output_type": "stream",
     "text": [
      "1e-09\n",
      "True\n",
      "True \n",
      "\n",
      "1e-10\n",
      "False\n",
      "False \n",
      "\n"
     ]
    }
   ],
   "source": [
    "# except when comparing with zero, absolute tolerance is usually not of concern\n",
    "# absolute tolerance\n",
    "tols = [1e-9, 1e-10]\n",
    "for tol in tols:\n",
    "    print(tol)\n",
    "    print(abs_tol(x, y, tol))   \n",
    "    print(np.isclose(x, y, atol=tol, rtol=0), '\\n')"
   ]
  },
  {
   "cell_type": "markdown",
   "metadata": {},
   "source": [
    "### math.isclose() vs numpy.isclose()\n",
    "\n",
    "When both of atol and rtol are nonzero, math.isclose() and numpy.isclose() do not produce the same results!\n",
    "\n",
    "The proper definition, when both atol and rtol are specified, is math.isclose().\n",
    "\n",
    "See for example: https://apassionatechie.wordpress.com/2018/01/09/isclose-function-in-numpy-is-different-from-math/"
   ]
  },
  {
   "cell_type": "markdown",
   "metadata": {},
   "source": [
    "### Money Calculation Note\n",
    "\n",
    "Floating point numbers should not be used for financial applications.  Use Decmial instead.\n",
    "\n",
    "Although the relative difference between using float and decimal is usually very small, the absolute difference could be a penny or more.  Financial calcuations must be exact, or your code will not be considered correct (to an accountant)."
   ]
  },
  {
   "cell_type": "markdown",
   "metadata": {},
   "source": [
    "## String Formatting\n",
    "\n",
    "For an excellent discussion see: https://pyformat.info/"
   ]
  },
  {
   "cell_type": "code",
   "execution_count": 12,
   "metadata": {},
   "outputs": [
    {
     "name": "stdout",
     "output_type": "stream",
     "text": [
      "__str__  was called\n",
      "__repr__ was called\n",
      "__str__  was called\n",
      "__repr__ was called\n"
     ]
    }
   ],
   "source": [
    "class Data(object):\n",
    "\n",
    "    def __str__(self):\n",
    "        return '__str__  was called'\n",
    "\n",
    "    def __repr__(self):\n",
    "        return '__repr__ was called'\n",
    "    \n",
    "# create instance\n",
    "d = Data()\n",
    "\n",
    "# display instance in both str and repr forms\n",
    "print('{0!s}'.format(d))\n",
    "print('{0!r}'.format(d))\n",
    "\n",
    "# use Python 3.6+ f strings to do the same\n",
    "print(f'{d!s}')\n",
    "print(f'{d!r}')"
   ]
  },
  {
   "cell_type": "code",
   "execution_count": 13,
   "metadata": {},
   "outputs": [
    {
     "name": "stdout",
     "output_type": "stream",
     "text": [
      "test      \n",
      "      test\n",
      "---test---\n"
     ]
    }
   ],
   "source": [
    "# string formatting\n",
    "s = 'test'\n",
    "print('{:10}'.format(s))\n",
    "print('{:>10}'.format(s))\n",
    "print('{:-^10}'.format(s))"
   ]
  },
  {
   "cell_type": "code",
   "execution_count": 14,
   "metadata": {},
   "outputs": [
    {
     "name": "stdout",
     "output_type": "stream",
     "text": [
      "test      \n",
      "      test\n",
      "---test---\n"
     ]
    }
   ],
   "source": [
    "# string formatting with f strings\n",
    "print(f'{s:10}')\n",
    "print(f'{s:>10}')\n",
    "print(f'{s:-^10}')"
   ]
  },
  {
   "cell_type": "code",
   "execution_count": 15,
   "metadata": {},
   "outputs": [
    {
     "name": "stdout",
     "output_type": "stream",
     "text": [
      "3.14159\n",
      "3.14159\n",
      "3.14159\n"
     ]
    }
   ],
   "source": [
    "pi = 3.141592653589793\n",
    "print('%7.5f' % pi) # old style, not recommended\n",
    "print('{:7.5f}'.format(pi)) # recommended\n",
    "print(f'{pi:7.5f}') # reommended for Python 3.6 and above"
   ]
  },
  {
   "cell_type": "code",
   "execution_count": null,
   "metadata": {},
   "outputs": [],
   "source": []
  }
 ],
 "metadata": {
  "kernelspec": {
   "display_name": "Python 3",
   "language": "python",
   "name": "python3"
  },
  "language_info": {
   "codemirror_mode": {
    "name": "ipython",
    "version": 3
   },
   "file_extension": ".py",
   "mimetype": "text/x-python",
   "name": "python",
   "nbconvert_exporter": "python",
   "pygments_lexer": "ipython3",
   "version": "3.7.1"
  }
 },
 "nbformat": 4,
 "nbformat_minor": 2
}
