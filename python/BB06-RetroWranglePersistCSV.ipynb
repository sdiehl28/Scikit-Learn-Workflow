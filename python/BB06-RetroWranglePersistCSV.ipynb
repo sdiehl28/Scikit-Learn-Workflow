{
 "cells": [
  {
   "cell_type": "markdown",
   "metadata": {
    "toc-hr-collapsed": false
   },
   "source": [
    "# Retrosheet Baseball Data -- Wrangle Data\n",
    "\n",
    "**Baseball Notebooks**  \n",
    "1. Downloaded and unzipped baseball data.\n",
    "2. Helper functions and their motivation for use.\n",
    "3. Lahman data was wrangled and persisted.\n",
    "4. Retrosheet Play by Play data was parsed, collected into 2 DataFrames, and persisted.\n",
    "5. This notebook.\n",
    "\n",
    "Wrangle the Retrosheet data in preparation for data analysis.\n",
    "\n",
    "This notebook is designed to be used with Jupyter Lab and the Table of Contents extension.  \n",
    "https://github.com/jupyterlab/jupyterlab-toc"
   ]
  },
  {
   "cell_type": "markdown",
   "metadata": {},
   "source": [
    "## Data Wrangling\n",
    "\n",
    "Retrosheet Data Wrangling will include:\n",
    "1. Manipulating player per game data.\n",
    "2. Manipulating game data.\n",
    "3. Creating \"lookup tables\" by web scraping.\n",
    "4. Creating data dictionaries (aka codebooks) by \"scraping\" Dr. Turocy's C source code.\n",
    "\n",
    "Six DataFrames will be created.\n",
    "\n",
    "Two DataFrames for Data Dictionary Information\n",
    "1. **player_game_fields:** stats per player per game field descriptions\n",
    "2. **game_fields:** stats per game field descriptions\n",
    "\n",
    "Four DataFrames for Data\n",
    "1. **player_game:** stats per player per game\n",
    "2. **game:** stats per game\n",
    "3. **players:** player info\n",
    "4. **parks:** stadium info\n",
    "\n",
    "The above dataframes will be persisted as CSV files with Column Types."
   ]
  },
  {
   "cell_type": "markdown",
   "metadata": {
    "toc-hr-collapsed": true
   },
   "source": [
    "## Repeatable Research\n",
    "All data processing should be documented so that others can repeat the results.  This includes every step from downloading the data through analysis."
   ]
  },
  {
   "cell_type": "markdown",
   "metadata": {},
   "source": [
    "### Directories for Data Processing\n",
    "\n",
    "* ~/data/retrosheet/raw -- event files downloaded from Retrosheet\n",
    "* ~/data/retrosheet/parsed -- results of running 2 parsers on the event files\n",
    "* ~/data/retrosheet/df_csv -- collect the parsed files into dataframes and save these to csv\n",
    "* ~/data/retrosheet/wrangled -- prepare the data for analsyis and save to csv\n",
    "* ~/data/retrosheet/src -- optional directory to hold parser source code"
   ]
  },
  {
   "cell_type": "code",
   "execution_count": 1,
   "metadata": {},
   "outputs": [],
   "source": [
    "import pandas as pd\n",
    "import numpy as np\n",
    "import os\n",
    "import re\n",
    "from pathlib import Path\n",
    "\n",
    "from IPython.display import HTML, display"
   ]
  },
  {
   "cell_type": "code",
   "execution_count": 2,
   "metadata": {},
   "outputs": [],
   "source": [
    "# see Baseball Notebook #2\n",
    "import helper_functions as bb"
   ]
  },
  {
   "cell_type": "code",
   "execution_count": 3,
   "metadata": {},
   "outputs": [],
   "source": [
    "# create path objects\n",
    "home = Path.home()\n",
    "retrosheet = home.joinpath('data/retrosheet')\n",
    "p_raw = retrosheet.joinpath('raw')\n",
    "p_wrangled = retrosheet.joinpath('wrangled')\n",
    "\n",
    "p_parsed = retrosheet.joinpath('parsed')\n",
    "p_collected = retrosheet.joinpath('collected')\n",
    "p_src = retrosheet.joinpath('src')"
   ]
  },
  {
   "cell_type": "markdown",
   "metadata": {},
   "source": [
    "## Retrosheet Data Dictionary Overview\n",
    "A \"data dictionary\" is also called a \"codebook\".\n",
    "\n",
    "The following is a highlevel overview of the meaning of the field names created by the Retrosheet parsers.\n",
    "\n",
    "```\n",
    "Suffix Meaning\n",
    "CT     count (integer)\n",
    "ID     identifier\n",
    "FL     boolean flag\n",
    "CD     code (enumerated data type)\n",
    "DT     date\n",
    "DY     day of week\n",
    "TM     time\n",
    "\n",
    "Prefix Meaning\n",
    "B      batter\n",
    "P      pitcher\n",
    "```\n",
    "\n",
    "In most cases, the abbreviation between the prefix and the suffix is a common baseball abbreviation.  For common baseball abbreviations see:  \n",
    "http://www.espn.com/gen/editors/mlb/glossary.html\n",
    "\n",
    "For example, from the above glossary, \"SF\" stands from sacrifice flies.  This statistic has been recorded since 1955.  The full field names created by the parsers are \"B_SF\" for how many sacrifice flies by the batter, and \"P_SF\" for how many sacrifice flies given up by the pitcher."
   ]
  },
  {
   "cell_type": "markdown",
   "metadata": {
    "toc-hr-collapsed": true
   },
   "source": [
    "## Stats per Player per Game: Data Dictionary\n",
    "This section is optional.  It is helpful to understanding the data.\n",
    "\n",
    "cwdaily can be run with the '-n' flag to have it output field names, and separately it can be run with the '-d' flag to have it output field descriptions.  The field names and field descriptions could then be put together to form a data dictionary.\n",
    "\n",
    "Partly as an exercise in RegEx, a different approach was used here.  The C source code was parsed to produce the data dictionary.  It is not necessary to understand the RegEx code for parsing the C struct that has both the field names, and the field descriptions."
   ]
  },
  {
   "cell_type": "code",
   "execution_count": 4,
   "metadata": {},
   "outputs": [],
   "source": [
    "# cd to dir with cwdaily.c\n",
    "src = retrosheet.joinpath('src')\n",
    "os.chdir(src)"
   ]
  },
  {
   "cell_type": "code",
   "execution_count": 5,
   "metadata": {},
   "outputs": [],
   "source": [
    "def parse_c_source(filename, struct='field_data'):\n",
    "    \"\"\"Extract field name to field description from parser's C source code\"\"\"\n",
    "    dd = {}\n",
    "    with open(filename, 'r') as cwdaily:\n",
    "        # to account for patterns across lines, read entire source code\n",
    "        source = cwdaily.read()\n",
    "    \n",
    "        # get the single (multiline) C statement that has field descriptions\n",
    "        pattern = r'(static\\s+field_struct\\s+' + struct + r'.*?;)'\n",
    "        match = re.search(pattern, source, flags=re.DOTALL | re.MULTILINE)\n",
    "    \n",
    "        if match:\n",
    "            pattern = r'{.*?\"(.*?)\".*?\"(.*?)\".*?}'\n",
    "            for m in re.finditer(pattern, match.group(1), \n",
    "                                 flags=re.DOTALL | re.MULTILINE):\n",
    "                if m:\n",
    "                    if len(m.group(2).split(':')) == 2:\n",
    "                        desc = m.group(2).split(':')[1].strip()\n",
    "                    else:\n",
    "                        desc = m.group(2).strip()\n",
    "                    dd[m.group(1).lower()] = desc   \n",
    "    return dd"
   ]
  },
  {
   "cell_type": "code",
   "execution_count": 6,
   "metadata": {},
   "outputs": [],
   "source": [
    "player_game_fields = parse_c_source('cwdaily.c')        "
   ]
  },
  {
   "cell_type": "code",
   "execution_count": 7,
   "metadata": {},
   "outputs": [
    {
     "data": {
      "text/plain": [
       "{'game_id': 'game id',\n",
       " 'game_dt': 'date',\n",
       " 'game_ct': 'game number (0 = no double header)',\n",
       " 'appear_dt': 'apperance date',\n",
       " 'team_id': 'team id',\n",
       " 'player_id': 'player id',\n",
       " 'b_g': 'games played',\n",
       " 'b_pa': 'plate appearances',\n",
       " 'b_ab': 'at bats',\n",
       " 'b_r': 'runs',\n",
       " 'b_h': 'hits',\n",
       " 'b_2b': 'doubles',\n",
       " 'b_3b': 'triples',\n",
       " 'b_hr': 'home runs',\n",
       " 'b_rbi': 'runs batted in',\n",
       " 'b_bb': 'walks',\n",
       " 'b_ibb': 'intentional walks',\n",
       " 'b_so': 'strikeouts',\n",
       " 'b_gdp': 'grounded into DP',\n",
       " 'b_hp': 'hit by pitch',\n",
       " 'b_sh': 'sacrifice hits',\n",
       " 'b_sf': 'sacrifice flies',\n",
       " 'b_sb': 'stolen bases',\n",
       " 'b_cs': 'caught stealing',\n",
       " 'b_xi': 'reached on interference',\n",
       " 'p_g': 'games pitched',\n",
       " 'p_gs': 'games started',\n",
       " 'p_cg': 'complete games',\n",
       " 'p_sho': 'shutouts',\n",
       " 'p_gf': 'games finished',\n",
       " 'p_w': 'wins',\n",
       " 'p_l': 'losses',\n",
       " 'p_sv': 'saves',\n",
       " 'p_out': 'outs recorded (innings pitched times 3)',\n",
       " 'p_tbf': 'batters faced',\n",
       " 'p_ab': 'at bats',\n",
       " 'p_r': 'runs allowed',\n",
       " 'p_er': 'earned runs allowed',\n",
       " 'p_h': 'hits allowed',\n",
       " 'p_2b': 'doubles allowed',\n",
       " 'p_3b': 'triples allowed',\n",
       " 'p_hr': 'home runs allowed',\n",
       " 'p_bb': 'walks allowed',\n",
       " 'p_ibb': 'intentional walks allowed',\n",
       " 'p_so': 'strikeouts',\n",
       " 'p_gdp': 'grounded into double play',\n",
       " 'p_hp': 'hit batsmen',\n",
       " 'p_sh': 'sacrifice hits against',\n",
       " 'p_sf': 'sacrifice flies against',\n",
       " 'p_xi': 'reached on interference',\n",
       " 'p_wp': 'wild pitches',\n",
       " 'p_bk': 'balks',\n",
       " 'f_p_g': 'games at P',\n",
       " 'f_p_out': 'outs recorded at P (innings fielded times 3)',\n",
       " 'f_p_po': 'putouts at P',\n",
       " 'f_p_a': 'assists at P',\n",
       " 'f_p_e': 'errors at P',\n",
       " 'f_p_dp': 'double plays at P',\n",
       " 'f_p_tp': 'triple plays at P',\n",
       " 'f_c_g': 'games at C',\n",
       " 'f_c_out': 'outs recorded at C (innings fielded times 3)',\n",
       " 'f_c_po': 'putouts at C',\n",
       " 'f_c_a': 'assists at C',\n",
       " 'f_c_e': 'errors at C',\n",
       " 'f_c_dp': 'double plays at C',\n",
       " 'f_c_tp': 'triple plays at C',\n",
       " 'f_c_pb': 'passed balls at C',\n",
       " 'f_c_xi': \"catcher's interference at C\",\n",
       " 'f_1b_g': 'games at 1B',\n",
       " 'f_1b_out': 'outs recorded at 1B (innings fielded times 3)',\n",
       " 'f_1b_po': 'putouts at 1B',\n",
       " 'f_1b_a': 'assists at 1B',\n",
       " 'f_1b_e': 'errors at 1B',\n",
       " 'f_1b_dp': 'double plays at 1B',\n",
       " 'f_1b_tp': 'triple plays at 1B',\n",
       " 'f_2b_g': 'games at 2B',\n",
       " 'f_2b_out': 'outs recorded at 2B (innings fielded times 3)',\n",
       " 'f_2b_po': 'putouts at 2B',\n",
       " 'f_2b_a': 'assists at 2B',\n",
       " 'f_2b_e': 'errors at 2B',\n",
       " 'f_2b_dp': 'double plays at 2B',\n",
       " 'f_2b_tp': 'triple plays at 2B',\n",
       " 'f_3b_g': 'games at 3B',\n",
       " 'f_3b_out': 'outs recorded at 3B (innings fielded times 3)',\n",
       " 'f_3b_po': 'putouts at 3B',\n",
       " 'f_3b_a': 'assists at 3B',\n",
       " 'f_3b_e': 'errors at 3B',\n",
       " 'f_3b_dp': 'double plays at 3B',\n",
       " 'f_3b_tp': 'triple plays at 3B',\n",
       " 'f_ss_g': 'games at SS',\n",
       " 'f_ss_out': 'outs recorded at SS (innings fielded times 3)',\n",
       " 'f_ss_po': 'putouts at SS',\n",
       " 'f_ss_a': 'assists at SS',\n",
       " 'f_ss_e': 'errors at SS',\n",
       " 'f_ss_dp': 'double plays at SS',\n",
       " 'f_ss_tp': 'triple plays at SS',\n",
       " 'f_lf_g': 'games at LF',\n",
       " 'f_lf_out': 'outs recorded at LF (innings fielded times 3)',\n",
       " 'f_lf_po': 'putouts at LF',\n",
       " 'f_lf_a': 'assists at LF',\n",
       " 'f_lf_e': 'errors at LF',\n",
       " 'f_lf_dp': 'double plays at LF',\n",
       " 'f_lf_tp': 'triple plays at LF',\n",
       " 'f_cf_g': 'games at CF',\n",
       " 'f_cf_out': 'outs recorded at CF (innings fielded times 3)',\n",
       " 'f_cf_po': 'putouts at CF',\n",
       " 'f_cf_a': 'assists at CF',\n",
       " 'f_cf_e': 'errors at CF',\n",
       " 'f_cf_dp': 'double plays at CF',\n",
       " 'f_cf_tp': 'triple plays at CF',\n",
       " 'f_rf_g': 'games at RF',\n",
       " 'f_rf_out': 'outs recorded at RF (innings fielded times 3)',\n",
       " 'f_rf_po': 'putouts at RF',\n",
       " 'f_rf_a': 'assists at RF',\n",
       " 'f_rf_e': 'errors at RF',\n",
       " 'f_rf_dp': 'double plays at RF',\n",
       " 'f_rf_tp': 'triple plays at RF'}"
      ]
     },
     "execution_count": 7,
     "metadata": {},
     "output_type": "execute_result"
    }
   ],
   "source": [
    "# here is the explanation of each field, as scraped from the C source code\n",
    "player_game_fields"
   ]
  },
  {
   "cell_type": "markdown",
   "metadata": {
    "toc-hr-collapsed": true
   },
   "source": [
    "### Data Dictionary Notes\n",
    "In the above, team_id is the team_id of the player.\n",
    "\n",
    "game_id is:  \n",
    "```\n",
    "0:4 Home TEAM_ID  \n",
    "4:8 YYYYMMDD  \n",
    "9   Game Count\n",
    "```\n",
    "\n",
    "Game Count is:\n",
    "* 0 for single game\n",
    "* 1 for 1st game of double header\n",
    "* 2 for 2nd game of double header"
   ]
  },
  {
   "cell_type": "markdown",
   "metadata": {},
   "source": [
    "### Persist Stats per Player per Game Data Dictionary Fields"
   ]
  },
  {
   "cell_type": "code",
   "execution_count": 8,
   "metadata": {},
   "outputs": [],
   "source": [
    "os.chdir(p_wrangled)\n",
    "\n",
    "# index=[0] is required for dictionary of scalar values\n",
    "player_game_fields_df = pd.DataFrame(player_game_fields, index=[0])\n",
    "player_game_fields_df.to_csv('player_game_fields.csv', index=False)"
   ]
  },
  {
   "cell_type": "markdown",
   "metadata": {
    "toc-hr-collapsed": true
   },
   "source": [
    "## Stats per Game: Data Dictionary\n",
    "This section is optional.  It is helpful to understanding the data.\n",
    "\n",
    "There is a field-name to field-description mapping provided on the following web page:  \n",
    "http://chadwick.sourceforge.net/doc/cwgame.html\n",
    "\n",
    "Alternatively, as with cwdaily, cwgame can be run with the '-n' flag to have it output field names, and separately it can be run with the '-d' flag to have it output field descriptions. The field names and field descriptions could then be put together to form a data dictionary.\n",
    "\n",
    "Alternatively, as RegEx was used to parse the cwdaily parser, the same RegEx can be used to parse the cwgame parser.  That is the approach taken here.\n",
    "\n",
    "Note: the codes for some of the \\_CD fields are only specified on the above web page, but the \\_CD fields are not being used in this study."
   ]
  },
  {
   "cell_type": "code",
   "execution_count": 9,
   "metadata": {},
   "outputs": [],
   "source": [
    "os.chdir(src)\n",
    "game_reg_fields = parse_c_source('cwgame.c')\n",
    "game_ext_fields = parse_c_source('cwgame.c', 'ext_field_data')\n",
    "game_fields = {**game_reg_fields, **game_ext_fields}"
   ]
  },
  {
   "cell_type": "code",
   "execution_count": 10,
   "metadata": {},
   "outputs": [
    {
     "data": {
      "text/plain": [
       "(84, 95, 179)"
      ]
     },
     "execution_count": 10,
     "metadata": {},
     "output_type": "execute_result"
    }
   ],
   "source": [
    "# there are 84 regular fields and 95 extended fields\n",
    "len(game_reg_fields), len(game_ext_fields), len(game_fields)"
   ]
  },
  {
   "cell_type": "code",
   "execution_count": 11,
   "metadata": {},
   "outputs": [
    {
     "data": {
      "text/plain": [
       "{'game_id': 'game id',\n",
       " 'game_dt': 'date',\n",
       " 'game_ct': 'game number (0 = no double header)',\n",
       " 'game_dy': 'day of week',\n",
       " 'start_game_tm': 'start time',\n",
       " 'dh_fl': 'DH used flag',\n",
       " 'daynight_park_cd': 'day/night flag',\n",
       " 'away_team_id': 'visiting team',\n",
       " 'home_team_id': 'home team',\n",
       " 'park_id': 'game site',\n",
       " 'away_start_pit_id': 'vis. starting pitcher',\n",
       " 'home_start_pit_id': 'home starting pitcher',\n",
       " 'base4_ump_id': 'home plate umpire',\n",
       " 'base1_ump_id': 'first base umpire',\n",
       " 'base2_ump_id': 'second base umpire',\n",
       " 'base3_ump_id': 'third base umpire',\n",
       " 'lf_ump_id': 'left field umpire',\n",
       " 'rf_ump_id': 'right field umpire',\n",
       " 'attend_park_ct': 'attendance',\n",
       " 'scorer_record_id': 'PS scorer',\n",
       " 'translator_record_id': 'translator',\n",
       " 'inputter_record_id': 'inputter',\n",
       " 'input_record_ts': 'input time',\n",
       " 'edit_record_ts': 'edit time',\n",
       " 'method_record_cd': 'how scored',\n",
       " 'pitches_record_cd': 'pitches entered?',\n",
       " 'temp_park_ct': 'temperature',\n",
       " 'wind_direction_park_cd': 'wind direction',\n",
       " 'wind_speed_park_ct': 'wind speed',\n",
       " 'field_park_cd': 'field condition',\n",
       " 'precip_park_cd': 'precipitation',\n",
       " 'sky_park_cd': 'sky',\n",
       " 'minutes_game_ct': 'time of game',\n",
       " 'inn_ct': 'number of innings',\n",
       " 'away_score_ct': 'visitor final score',\n",
       " 'home_score_ct': 'home final score',\n",
       " 'away_hits_ct': 'visitor hits',\n",
       " 'home_hits_ct': 'home hits',\n",
       " 'away_err_ct': 'visitor errors',\n",
       " 'home_err_ct': 'home errors',\n",
       " 'away_lob_ct': 'visitor left on base',\n",
       " 'home_lob_ct': 'home left on base',\n",
       " 'win_pit_id': 'winning pitcher',\n",
       " 'lose_pit_id': 'losing pitcher',\n",
       " 'save_pit_id': 'save for',\n",
       " 'gwrbi_bat_id': 'GW RBI',\n",
       " 'away_lineup1_bat_id': 'visitor batter 1',\n",
       " 'away_lineup1_fld_cd': 'visitor position 1',\n",
       " 'away_lineup2_bat_id': 'visitor batter 2',\n",
       " 'away_lineup2_fld_cd': 'visitor position 2',\n",
       " 'away_lineup3_bat_id': 'visitor batter 3',\n",
       " 'away_lineup3_fld_cd': 'visitor position 3',\n",
       " 'away_lineup4_bat_id': 'visitor batter 4',\n",
       " 'away_lineup4_fld_cd': 'visitor position 4',\n",
       " 'away_lineup5_bat_id': 'visitor batter 5',\n",
       " 'away_lineup5_fld_cd': 'visitor position 5',\n",
       " 'away_lineup6_bat_id': 'visitor batter 6',\n",
       " 'away_lineup6_fld_cd': 'visitor position 6',\n",
       " 'away_lineup7_bat_id': 'visitor batter 7',\n",
       " 'away_lineup7_fld_cd': 'visitor position 7',\n",
       " 'away_lineup8_bat_id': 'visitor batter 8',\n",
       " 'away_lineup8_fld_cd': 'visitor position 8',\n",
       " 'away_lineup9_bat_id': 'visitor batter 9',\n",
       " 'away_lineup9_fld_cd': 'visitor position 9',\n",
       " 'home_lineup1_bat_id': 'home batter 1',\n",
       " 'home_lineup1_fld_cd': 'home position 1',\n",
       " 'home_lineup2_bat_id': 'home batter 2',\n",
       " 'home_lineup2_fld_cd': 'home position 2',\n",
       " 'home_lineup3_bat_id': 'home batter 3',\n",
       " 'home_lineup3_fld_cd': 'home position 3',\n",
       " 'home_lineup4_bat_id': 'home batter 4',\n",
       " 'home_lineup4_fld_cd': 'home position 4',\n",
       " 'home_lineup5_bat_id': 'home batter 5',\n",
       " 'home_lineup5_fld_cd': 'home position 5',\n",
       " 'home_lineup6_bat_id': 'home batter 6',\n",
       " 'home_lineup6_fld_cd': 'home position 6',\n",
       " 'home_lineup7_bat_id': 'home batter 7',\n",
       " 'home_lineup7_fld_cd': 'home position 7',\n",
       " 'home_lineup8_bat_id': 'home batter 8',\n",
       " 'home_lineup8_fld_cd': 'home position 8',\n",
       " 'home_lineup9_bat_id': 'home batter 9',\n",
       " 'home_lineup9_fld_cd': 'home position 9',\n",
       " 'away_finish_pit_id': 'visiting finisher (NULL if complete game)',\n",
       " 'home_finish_pit_id': 'home finisher (NULL if complete game)',\n",
       " 'away_team_league_id': 'visiting team league',\n",
       " 'home_team_league_id': 'home team league',\n",
       " 'away_team_game_ct': 'visiting team game number',\n",
       " 'home_team_game_ct': 'home team game number',\n",
       " 'outs_ct': 'length of game in outs',\n",
       " 'completion_tx': 'information on completion of game',\n",
       " 'forfeit_tx': 'information on forfeit of game',\n",
       " 'protest_tx': 'information on protest of game',\n",
       " 'away_line_tx': 'visiting team linescore',\n",
       " 'home_line_tx': 'home team linescore',\n",
       " 'away_ab_ct': 'visiting team AB',\n",
       " 'away_2b_ct': 'visiting team 2B',\n",
       " 'away_3b_ct': 'visiting team 3B',\n",
       " 'away_hr_ct': 'visiting team HR',\n",
       " 'away_bi_ct': 'visiting team RBI',\n",
       " 'away_sh_ct': 'visiting team SH',\n",
       " 'away_sf_ct': 'visiting team SF',\n",
       " 'away_hp_ct': 'visiting team HP',\n",
       " 'away_bb_ct': 'visiting team BB',\n",
       " 'away_ibb_ct': 'visiting team IBB',\n",
       " 'away_so_ct': 'visiting team SO',\n",
       " 'away_sb_ct': 'visiting team SB',\n",
       " 'away_cs_ct': 'visiting team CS',\n",
       " 'away_gdp_ct': 'visiting team GDP',\n",
       " 'away_xi_ct': 'visiting team reach on interference',\n",
       " 'away_pitcher_ct': 'number of pitchers used by visiting team',\n",
       " 'away_er_ct': 'visiting team individual ER allowed',\n",
       " 'away_ter_ct': 'visiting team team ER allowed',\n",
       " 'away_wp_ct': 'visiting team WP',\n",
       " 'away_bk_ct': 'visiting team BK',\n",
       " 'away_po_ct': 'visiting team PO',\n",
       " 'away_a_ct': 'visiting team A',\n",
       " 'away_pb_ct': 'visiting team PB',\n",
       " 'away_dp_ct': 'visiting team DP',\n",
       " 'away_tp_ct': 'visiting team TP',\n",
       " 'home_ab_ct': 'home team AB',\n",
       " 'home_2b_ct': 'home team 2B',\n",
       " 'home_3b_ct': 'home team 3B',\n",
       " 'home_hr_ct': 'home team HR',\n",
       " 'home_bi_ct': 'home team RBI',\n",
       " 'home_sh_ct': 'home team SH',\n",
       " 'home_sf_ct': 'home team SF',\n",
       " 'home_hp_ct': 'home team HP',\n",
       " 'home_bb_ct': 'home team BB',\n",
       " 'home_ibb_ct': 'home team IBB',\n",
       " 'home_so_ct': 'home team SO',\n",
       " 'home_sb_ct': 'home team SB',\n",
       " 'home_cs_ct': 'home team CS',\n",
       " 'home_gdp_ct': 'home team GDP',\n",
       " 'home_xi_ct': 'home team reach on interference',\n",
       " 'home_pitcher_ct': 'number of pitchers used by home team',\n",
       " 'home_er_ct': 'home team individual ER allowed',\n",
       " 'home_ter_ct': 'home team team ER allowed',\n",
       " 'home_wp_ct': 'home team WP',\n",
       " 'home_bk_ct': 'home team BK',\n",
       " 'home_po_ct': 'home team PO',\n",
       " 'home_a_ct': 'home team A',\n",
       " 'home_pb_ct': 'home team PB',\n",
       " 'home_dp_ct': 'home team DP',\n",
       " 'home_tp_ct': 'home team TP',\n",
       " 'ump_home_name_tx': 'home plate umpire name',\n",
       " 'ump_1b_name_tx': 'first base umpire name',\n",
       " 'ump_2b_name_tx': 'second base umpire name',\n",
       " 'ump_3b_name_tx': 'third base umpire name',\n",
       " 'ump_lf_name_tx': 'left field umpire name',\n",
       " 'ump_rf_name_tx': 'right field umpire name',\n",
       " 'away_manager_id': 'visitors manager ID',\n",
       " 'away_manager_name_tx': 'visitors manager name',\n",
       " 'home_manager_id': 'home manager ID',\n",
       " 'home_manager_name_tx': 'home manager name',\n",
       " 'win_pit_name_tx': 'winning pitcher name',\n",
       " 'lose_pit_name_tx': 'losing pitcher name',\n",
       " 'save_pit_name_tx': 'save pitcher name',\n",
       " 'goahead_rbi_id': 'batter with goahead RBI ID',\n",
       " 'goahead_rbi_name_tx': 'batter with goahead RBI',\n",
       " 'away_lineup1_bat_name_tx': 'visitor batter 1 name',\n",
       " 'away_lineup2_bat_name_tx': 'visitor batter 2 name',\n",
       " 'away_lineup3_bat_name_tx': 'visitor batter 3 name',\n",
       " 'away_lineup4_bat_name_tx': 'visitor batter 4 name',\n",
       " 'away_lineup5_bat_name_tx': 'visitor batter 5 name',\n",
       " 'away_lineup6_bat_name_tx': 'visitor batter 6 name',\n",
       " 'away_lineup7_bat_name_tx': 'visitor batter 7 name',\n",
       " 'away_lineup8_bat_name_tx': 'visitor batter 8 name',\n",
       " 'away_lineup9_bat_name_tx': 'visitor batter 9 name',\n",
       " 'home_lineup1_bat_name_tx': 'home batter 1 name',\n",
       " 'home_lineup2_bat_name_tx': 'home batter 2 name',\n",
       " 'home_lineup3_bat_name_tx': 'home batter 3 name',\n",
       " 'home_lineup4_bat_name_tx': 'home batter 4 name',\n",
       " 'home_lineup5_bat_name_tx': 'home batter 5 name',\n",
       " 'home_lineup6_bat_name_tx': 'home batter 6 name',\n",
       " 'home_lineup7_bat_name_tx': 'home batter 7 name',\n",
       " 'home_lineup8_bat_name_tx': 'home batter 8 name',\n",
       " 'home_lineup9_bat_name_tx': 'home batter 9 name',\n",
       " 'add_info_tx': 'additional information',\n",
       " 'acq_info_tx': 'acquisition information'}"
      ]
     },
     "execution_count": 11,
     "metadata": {},
     "output_type": "execute_result"
    }
   ],
   "source": [
    "game_fields"
   ]
  },
  {
   "cell_type": "markdown",
   "metadata": {},
   "source": [
    "### Data Dictionary Note\n",
    "dh_fl: Designated Hitter Flag, 'T' if DH in use, else 'F'  \n",
    "daynight_park_cd: 'N' for night, 'D' for day  \n",
    "gw_rbi_bat_id: Player ID for batter who got Game Winning RBI  "
   ]
  },
  {
   "cell_type": "markdown",
   "metadata": {},
   "source": [
    "### Persist Stats per Game Data Dictionary Fields"
   ]
  },
  {
   "cell_type": "code",
   "execution_count": 12,
   "metadata": {},
   "outputs": [],
   "source": [
    "os.chdir(p_wrangled)\n",
    "\n",
    "# index=[0] is required for dictionary of scalar values\n",
    "game_fields_df = pd.DataFrame(game_fields, index=[0])\n",
    "game_fields_df.to_csv('game_fields.csv', index=False)"
   ]
  },
  {
   "cell_type": "markdown",
   "metadata": {
    "toc-hr-collapsed": true
   },
   "source": [
    "## 1. Wrangle Stats per Player Per Game Data"
   ]
  },
  {
   "cell_type": "markdown",
   "metadata": {
    "toc-hr-collapsed": false
   },
   "source": [
    "### Manual Data Verification\n",
    "\n",
    "For odd data, such as whether or not a the first game of a double header was in one stadium, and the second game was in a different stadium, [Baseball-Reference](https://www.baseball-reference.com) is helpful.\n",
    "\n",
    "Baseball-reference uses the data from Retrosheet, and presents it in an easy to read form for people. On rare occasions it may incorrectly present the event data, but it is a useful tool.\n",
    "\n",
    "Baseball-reference does not offer already parsed data for data analysis.\n",
    "\n",
    "The following method takes a game_id and converts it to a baseball-reference url for researching more about a particular game."
   ]
  },
  {
   "cell_type": "code",
   "execution_count": 13,
   "metadata": {},
   "outputs": [],
   "source": [
    "from IPython.display import HTML, display\n",
    "def game_id_to_url(game_id):\n",
    "    home = game_id[:3]\n",
    "    url = 'https://www.baseball-reference.com/boxes/' + home + '/' + game_id + '.shtml'\n",
    "    display(HTML(f'<a href=\"{url}\">{game_id}</a>'))"
   ]
  },
  {
   "cell_type": "code",
   "execution_count": 14,
   "metadata": {},
   "outputs": [
    {
     "data": {
      "text/html": [
       "<a href=\"https://www.baseball-reference.com/boxes/NYA/NYA200806271.shtml\">NYA200806271</a>"
      ],
      "text/plain": [
       "<IPython.core.display.HTML object>"
      ]
     },
     "metadata": {},
     "output_type": "display_data"
    }
   ],
   "source": [
    "# Click on the generated link to get a url for detailed game information.\n",
    "game_id_to_url('NYA200806271')"
   ]
  },
  {
   "cell_type": "markdown",
   "metadata": {},
   "source": [
    "As per the above link, the first game of the double header was in Yankee Stadium and the second game, on the same day, was in Shea Stadium."
   ]
  },
  {
   "cell_type": "code",
   "execution_count": 15,
   "metadata": {},
   "outputs": [
    {
     "data": {
      "text/html": [
       "<a href=\"https://www.baseball-reference.com/boxes/BAL/BAL201504290.shtml\">BAL201504290</a>"
      ],
      "text/plain": [
       "<IPython.core.display.HTML object>"
      ]
     },
     "metadata": {},
     "output_type": "display_data"
    }
   ],
   "source": [
    "# another oddity, the public was not allowed to attend\n",
    "game_id_to_url('BAL201504290')"
   ]
  },
  {
   "cell_type": "markdown",
   "metadata": {},
   "source": [
    "### Read in Stats per Player per Game Data \n",
    "This is the data created by running the cwdaily parser in the previous notebook.\n",
    "\n",
    "Above, in the data dictionary section, it was seen that there are two date fields, game_dt and appear_dt.  These are strings of the from YYYYMMDD with no game time information."
   ]
  },
  {
   "cell_type": "code",
   "execution_count": 16,
   "metadata": {},
   "outputs": [],
   "source": [
    "# read in the parsed player_game data\n",
    "os.chdir(p_collected)\n",
    "player_game = bb.from_csv_with_types('player_game.csv.gz')"
   ]
  },
  {
   "cell_type": "code",
   "execution_count": 17,
   "metadata": {},
   "outputs": [
    {
     "name": "stdout",
     "output_type": "stream",
     "text": [
      "<class 'pandas.core.frame.DataFrame'>\n",
      "RangeIndex: 3549700 entries, 0 to 3549699\n",
      "Columns: 117 entries, game_id to f_rf_tp\n",
      "dtypes: object(3), uint32(2), uint8(112)\n",
      "memory usage: 487.5+ MB\n"
     ]
    }
   ],
   "source": [
    "player_game.info()"
   ]
  },
  {
   "cell_type": "code",
   "execution_count": 18,
   "metadata": {},
   "outputs": [
    {
     "data": {
      "text/plain": [
       "(3549700, 117)"
      ]
     },
     "execution_count": 18,
     "metadata": {},
     "output_type": "execute_result"
    }
   ],
   "source": [
    "player_game.shape"
   ]
  },
  {
   "cell_type": "code",
   "execution_count": 19,
   "metadata": {},
   "outputs": [
    {
     "data": {
      "text/html": [
       "<div>\n",
       "<style scoped>\n",
       "    .dataframe tbody tr th:only-of-type {\n",
       "        vertical-align: middle;\n",
       "    }\n",
       "\n",
       "    .dataframe tbody tr th {\n",
       "        vertical-align: top;\n",
       "    }\n",
       "\n",
       "    .dataframe thead th {\n",
       "        text-align: right;\n",
       "    }\n",
       "</style>\n",
       "<table border=\"1\" class=\"dataframe\">\n",
       "  <thead>\n",
       "    <tr style=\"text-align: right;\">\n",
       "      <th></th>\n",
       "      <th>game_id</th>\n",
       "      <th>game_dt</th>\n",
       "      <th>game_ct</th>\n",
       "      <th>appear_dt</th>\n",
       "      <th>team_id</th>\n",
       "      <th>player_id</th>\n",
       "      <th>b_g</th>\n",
       "      <th>b_pa</th>\n",
       "      <th>b_ab</th>\n",
       "      <th>b_r</th>\n",
       "      <th>...</th>\n",
       "      <th>f_cf_e</th>\n",
       "      <th>f_cf_dp</th>\n",
       "      <th>f_cf_tp</th>\n",
       "      <th>f_rf_g</th>\n",
       "      <th>f_rf_out</th>\n",
       "      <th>f_rf_po</th>\n",
       "      <th>f_rf_a</th>\n",
       "      <th>f_rf_e</th>\n",
       "      <th>f_rf_dp</th>\n",
       "      <th>f_rf_tp</th>\n",
       "    </tr>\n",
       "  </thead>\n",
       "  <tbody>\n",
       "    <tr>\n",
       "      <th>3549697</th>\n",
       "      <td>WAS201809260</td>\n",
       "      <td>20180926</td>\n",
       "      <td>0</td>\n",
       "      <td>20180926</td>\n",
       "      <td>WAS</td>\n",
       "      <td>rodrj005</td>\n",
       "      <td>1</td>\n",
       "      <td>0</td>\n",
       "      <td>0</td>\n",
       "      <td>0</td>\n",
       "      <td>...</td>\n",
       "      <td>0</td>\n",
       "      <td>0</td>\n",
       "      <td>0</td>\n",
       "      <td>0</td>\n",
       "      <td>0</td>\n",
       "      <td>0</td>\n",
       "      <td>0</td>\n",
       "      <td>0</td>\n",
       "      <td>0</td>\n",
       "      <td>0</td>\n",
       "    </tr>\n",
       "    <tr>\n",
       "      <th>3549698</th>\n",
       "      <td>WAS201809260</td>\n",
       "      <td>20180926</td>\n",
       "      <td>0</td>\n",
       "      <td>20180926</td>\n",
       "      <td>WAS</td>\n",
       "      <td>eatoa002</td>\n",
       "      <td>1</td>\n",
       "      <td>1</td>\n",
       "      <td>1</td>\n",
       "      <td>0</td>\n",
       "      <td>...</td>\n",
       "      <td>0</td>\n",
       "      <td>0</td>\n",
       "      <td>0</td>\n",
       "      <td>0</td>\n",
       "      <td>0</td>\n",
       "      <td>0</td>\n",
       "      <td>0</td>\n",
       "      <td>0</td>\n",
       "      <td>0</td>\n",
       "      <td>0</td>\n",
       "    </tr>\n",
       "    <tr>\n",
       "      <th>3549699</th>\n",
       "      <td>WAS201809260</td>\n",
       "      <td>20180926</td>\n",
       "      <td>0</td>\n",
       "      <td>20180926</td>\n",
       "      <td>WAS</td>\n",
       "      <td>glovk001</td>\n",
       "      <td>1</td>\n",
       "      <td>0</td>\n",
       "      <td>0</td>\n",
       "      <td>0</td>\n",
       "      <td>...</td>\n",
       "      <td>0</td>\n",
       "      <td>0</td>\n",
       "      <td>0</td>\n",
       "      <td>0</td>\n",
       "      <td>0</td>\n",
       "      <td>0</td>\n",
       "      <td>0</td>\n",
       "      <td>0</td>\n",
       "      <td>0</td>\n",
       "      <td>0</td>\n",
       "    </tr>\n",
       "  </tbody>\n",
       "</table>\n",
       "<p>3 rows × 117 columns</p>\n",
       "</div>"
      ],
      "text/plain": [
       "              game_id   game_dt  game_ct  appear_dt team_id player_id  b_g  \\\n",
       "3549697  WAS201809260  20180926        0   20180926     WAS  rodrj005    1   \n",
       "3549698  WAS201809260  20180926        0   20180926     WAS  eatoa002    1   \n",
       "3549699  WAS201809260  20180926        0   20180926     WAS  glovk001    1   \n",
       "\n",
       "         b_pa  b_ab  b_r  ...  f_cf_e  f_cf_dp  f_cf_tp  f_rf_g  f_rf_out  \\\n",
       "3549697     0     0    0  ...       0        0        0       0         0   \n",
       "3549698     1     1    0  ...       0        0        0       0         0   \n",
       "3549699     0     0    0  ...       0        0        0       0         0   \n",
       "\n",
       "         f_rf_po  f_rf_a  f_rf_e  f_rf_dp  f_rf_tp  \n",
       "3549697        0       0       0        0        0  \n",
       "3549698        0       0       0        0        0  \n",
       "3549699        0       0       0        0        0  \n",
       "\n",
       "[3 rows x 117 columns]"
      ]
     },
     "execution_count": 19,
     "metadata": {},
     "output_type": "execute_result"
    }
   ],
   "source": [
    "player_game.tail(3)"
   ]
  },
  {
   "cell_type": "markdown",
   "metadata": {},
   "source": [
    "### Remove Duplicate Column"
   ]
  },
  {
   "cell_type": "code",
   "execution_count": 20,
   "metadata": {},
   "outputs": [
    {
     "data": {
      "text/plain": [
       "True"
      ]
     },
     "execution_count": 20,
     "metadata": {},
     "output_type": "execute_result"
    }
   ],
   "source": [
    "(player_game['game_dt'] == player_game['appear_dt']).all()"
   ]
  },
  {
   "cell_type": "code",
   "execution_count": 21,
   "metadata": {},
   "outputs": [],
   "source": [
    "player_game = player_game.drop('appear_dt', axis=1)"
   ]
  },
  {
   "cell_type": "code",
   "execution_count": 22,
   "metadata": {},
   "outputs": [
    {
     "data": {
      "text/html": [
       "<div>\n",
       "<style scoped>\n",
       "    .dataframe tbody tr th:only-of-type {\n",
       "        vertical-align: middle;\n",
       "    }\n",
       "\n",
       "    .dataframe tbody tr th {\n",
       "        vertical-align: top;\n",
       "    }\n",
       "\n",
       "    .dataframe thead th {\n",
       "        text-align: right;\n",
       "    }\n",
       "</style>\n",
       "<table border=\"1\" class=\"dataframe\">\n",
       "  <thead>\n",
       "    <tr style=\"text-align: right;\">\n",
       "      <th></th>\n",
       "      <th>game_id</th>\n",
       "      <th>game_dt</th>\n",
       "      <th>game_ct</th>\n",
       "      <th>team_id</th>\n",
       "      <th>player_id</th>\n",
       "      <th>b_g</th>\n",
       "      <th>b_pa</th>\n",
       "      <th>b_ab</th>\n",
       "      <th>b_r</th>\n",
       "      <th>b_h</th>\n",
       "      <th>...</th>\n",
       "      <th>f_cf_e</th>\n",
       "      <th>f_cf_dp</th>\n",
       "      <th>f_cf_tp</th>\n",
       "      <th>f_rf_g</th>\n",
       "      <th>f_rf_out</th>\n",
       "      <th>f_rf_po</th>\n",
       "      <th>f_rf_a</th>\n",
       "      <th>f_rf_e</th>\n",
       "      <th>f_rf_dp</th>\n",
       "      <th>f_rf_tp</th>\n",
       "    </tr>\n",
       "  </thead>\n",
       "  <tbody>\n",
       "    <tr>\n",
       "      <th>3418636</th>\n",
       "      <td>BOS201708250</td>\n",
       "      <td>20170825</td>\n",
       "      <td>0</td>\n",
       "      <td>BOS</td>\n",
       "      <td>younc004</td>\n",
       "      <td>1</td>\n",
       "      <td>3</td>\n",
       "      <td>3</td>\n",
       "      <td>0</td>\n",
       "      <td>1</td>\n",
       "      <td>...</td>\n",
       "      <td>0</td>\n",
       "      <td>0</td>\n",
       "      <td>0</td>\n",
       "      <td>0</td>\n",
       "      <td>0</td>\n",
       "      <td>0</td>\n",
       "      <td>0</td>\n",
       "      <td>0</td>\n",
       "      <td>0</td>\n",
       "      <td>0</td>\n",
       "    </tr>\n",
       "    <tr>\n",
       "      <th>3418638</th>\n",
       "      <td>BOS201708250</td>\n",
       "      <td>20170825</td>\n",
       "      <td>0</td>\n",
       "      <td>BOS</td>\n",
       "      <td>younc004</td>\n",
       "      <td>1</td>\n",
       "      <td>1</td>\n",
       "      <td>1</td>\n",
       "      <td>0</td>\n",
       "      <td>1</td>\n",
       "      <td>...</td>\n",
       "      <td>0</td>\n",
       "      <td>0</td>\n",
       "      <td>0</td>\n",
       "      <td>0</td>\n",
       "      <td>0</td>\n",
       "      <td>0</td>\n",
       "      <td>0</td>\n",
       "      <td>0</td>\n",
       "      <td>0</td>\n",
       "      <td>0</td>\n",
       "    </tr>\n",
       "  </tbody>\n",
       "</table>\n",
       "<p>2 rows × 116 columns</p>\n",
       "</div>"
      ],
      "text/plain": [
       "              game_id   game_dt  game_ct team_id player_id  b_g  b_pa  b_ab  \\\n",
       "3418636  BOS201708250  20170825        0     BOS  younc004    1     3     3   \n",
       "3418638  BOS201708250  20170825        0     BOS  younc004    1     1     1   \n",
       "\n",
       "         b_r  b_h  ...  f_cf_e  f_cf_dp  f_cf_tp  f_rf_g  f_rf_out  f_rf_po  \\\n",
       "3418636    0    1  ...       0        0        0       0         0        0   \n",
       "3418638    0    1  ...       0        0        0       0         0        0   \n",
       "\n",
       "         f_rf_a  f_rf_e  f_rf_dp  f_rf_tp  \n",
       "3418636       0       0        0        0  \n",
       "3418638       0       0        0        0  \n",
       "\n",
       "[2 rows x 116 columns]"
      ]
     },
     "execution_count": 22,
     "metadata": {},
     "output_type": "execute_result"
    }
   ],
   "source": [
    "# the primary key is (game_id, PLAYER_ID), verify no dups\n",
    "dups = player_game.duplicated(subset=['game_id', 'player_id'], keep=False)\n",
    "player_game[dups]"
   ]
  },
  {
   "cell_type": "code",
   "execution_count": 23,
   "metadata": {},
   "outputs": [
    {
     "data": {
      "text/html": [
       "<a href=\"https://www.baseball-reference.com/boxes/BOS/BOS201708250.shtml\">BOS201708250</a>"
      ],
      "text/plain": [
       "<IPython.core.display.HTML object>"
      ]
     },
     "metadata": {},
     "output_type": "display_data"
    }
   ],
   "source": [
    "# check this game manually by clicking on the generated link\n",
    "dup_id = player_game.loc[dups, 'game_id'].values[0]\n",
    "game_id_to_url(dup_id)"
   ]
  },
  {
   "cell_type": "markdown",
   "metadata": {},
   "source": [
    "### Data Correction\n",
    "\n",
    "Checking the box score via the above link, shows 2 entries for Young for the same game, one as a pinch-hitter and one as the designated-hitter.  It would appear that both entries are correct and that the data should be summed."
   ]
  },
  {
   "cell_type": "code",
   "execution_count": 24,
   "metadata": {},
   "outputs": [
    {
     "data": {
      "text/plain": [
       "(3418636, 3418638)"
      ]
     },
     "execution_count": 24,
     "metadata": {},
     "output_type": "execute_result"
    }
   ],
   "source": [
    "# get the index labels of the duplicated rows\n",
    "idx1, idx2 = player_game[dups].index.values\n",
    "idx1, idx2"
   ]
  },
  {
   "cell_type": "code",
   "execution_count": 25,
   "metadata": {},
   "outputs": [
    {
     "data": {
      "text/plain": [
       "Index(['game_id', 'game_dt', 'game_ct', 'team_id', 'player_id'], dtype='object')"
      ]
     },
     "execution_count": 25,
     "metadata": {},
     "output_type": "execute_result"
    }
   ],
   "source": [
    "# identifier columns\n",
    "id_columns = player_game.columns[:5]\n",
    "id_columns"
   ]
  },
  {
   "cell_type": "code",
   "execution_count": 26,
   "metadata": {},
   "outputs": [
    {
     "data": {
      "text/plain": [
       "Index(['b_g', 'b_pa', 'b_ab', 'b_r', 'b_h', 'b_2b', 'b_3b', 'b_hr', 'b_rbi',\n",
       "       'b_bb',\n",
       "       ...\n",
       "       'f_cf_e', 'f_cf_dp', 'f_cf_tp', 'f_rf_g', 'f_rf_out', 'f_rf_po',\n",
       "       'f_rf_a', 'f_rf_e', 'f_rf_dp', 'f_rf_tp'],\n",
       "      dtype='object', length=111)"
      ]
     },
     "execution_count": 26,
     "metadata": {},
     "output_type": "execute_result"
    }
   ],
   "source": [
    "# stat columns\n",
    "stat_columns = player_game.columns[5:]\n",
    "stat_columns"
   ]
  },
  {
   "cell_type": "code",
   "execution_count": 27,
   "metadata": {},
   "outputs": [
    {
     "data": {
      "text/html": [
       "<div>\n",
       "<style scoped>\n",
       "    .dataframe tbody tr th:only-of-type {\n",
       "        vertical-align: middle;\n",
       "    }\n",
       "\n",
       "    .dataframe tbody tr th {\n",
       "        vertical-align: top;\n",
       "    }\n",
       "\n",
       "    .dataframe thead th {\n",
       "        text-align: right;\n",
       "    }\n",
       "</style>\n",
       "<table border=\"1\" class=\"dataframe\">\n",
       "  <thead>\n",
       "    <tr style=\"text-align: right;\">\n",
       "      <th></th>\n",
       "      <th>game_id</th>\n",
       "      <th>game_dt</th>\n",
       "      <th>game_ct</th>\n",
       "      <th>team_id</th>\n",
       "      <th>player_id</th>\n",
       "    </tr>\n",
       "  </thead>\n",
       "  <tbody>\n",
       "    <tr>\n",
       "      <th>3418636</th>\n",
       "      <td>BOS201708250</td>\n",
       "      <td>20170825</td>\n",
       "      <td>0</td>\n",
       "      <td>BOS</td>\n",
       "      <td>younc004</td>\n",
       "    </tr>\n",
       "    <tr>\n",
       "      <th>3418638</th>\n",
       "      <td>BOS201708250</td>\n",
       "      <td>20170825</td>\n",
       "      <td>0</td>\n",
       "      <td>BOS</td>\n",
       "      <td>younc004</td>\n",
       "    </tr>\n",
       "  </tbody>\n",
       "</table>\n",
       "</div>"
      ],
      "text/plain": [
       "              game_id   game_dt  game_ct team_id player_id\n",
       "3418636  BOS201708250  20170825        0     BOS  younc004\n",
       "3418638  BOS201708250  20170825        0     BOS  younc004"
      ]
     },
     "execution_count": 27,
     "metadata": {},
     "output_type": "execute_result"
    }
   ],
   "source": [
    "# id columns match (as per df.duplicated() above)\n",
    "player_game.loc[[idx1,idx2], id_columns]"
   ]
  },
  {
   "cell_type": "code",
   "execution_count": 28,
   "metadata": {},
   "outputs": [
    {
     "data": {
      "text/html": [
       "<div>\n",
       "<style scoped>\n",
       "    .dataframe tbody tr th:only-of-type {\n",
       "        vertical-align: middle;\n",
       "    }\n",
       "\n",
       "    .dataframe tbody tr th {\n",
       "        vertical-align: top;\n",
       "    }\n",
       "\n",
       "    .dataframe thead th {\n",
       "        text-align: right;\n",
       "    }\n",
       "</style>\n",
       "<table border=\"1\" class=\"dataframe\">\n",
       "  <thead>\n",
       "    <tr style=\"text-align: right;\">\n",
       "      <th></th>\n",
       "      <th>b_g</th>\n",
       "      <th>b_pa</th>\n",
       "      <th>b_ab</th>\n",
       "      <th>b_r</th>\n",
       "      <th>b_h</th>\n",
       "      <th>b_2b</th>\n",
       "      <th>b_3b</th>\n",
       "      <th>b_hr</th>\n",
       "      <th>b_rbi</th>\n",
       "      <th>b_bb</th>\n",
       "      <th>...</th>\n",
       "      <th>f_cf_e</th>\n",
       "      <th>f_cf_dp</th>\n",
       "      <th>f_cf_tp</th>\n",
       "      <th>f_rf_g</th>\n",
       "      <th>f_rf_out</th>\n",
       "      <th>f_rf_po</th>\n",
       "      <th>f_rf_a</th>\n",
       "      <th>f_rf_e</th>\n",
       "      <th>f_rf_dp</th>\n",
       "      <th>f_rf_tp</th>\n",
       "    </tr>\n",
       "  </thead>\n",
       "  <tbody>\n",
       "    <tr>\n",
       "      <th>3418636</th>\n",
       "      <td>1</td>\n",
       "      <td>3</td>\n",
       "      <td>3</td>\n",
       "      <td>0</td>\n",
       "      <td>1</td>\n",
       "      <td>1</td>\n",
       "      <td>0</td>\n",
       "      <td>0</td>\n",
       "      <td>0</td>\n",
       "      <td>0</td>\n",
       "      <td>...</td>\n",
       "      <td>0</td>\n",
       "      <td>0</td>\n",
       "      <td>0</td>\n",
       "      <td>0</td>\n",
       "      <td>0</td>\n",
       "      <td>0</td>\n",
       "      <td>0</td>\n",
       "      <td>0</td>\n",
       "      <td>0</td>\n",
       "      <td>0</td>\n",
       "    </tr>\n",
       "    <tr>\n",
       "      <th>3418638</th>\n",
       "      <td>1</td>\n",
       "      <td>1</td>\n",
       "      <td>1</td>\n",
       "      <td>0</td>\n",
       "      <td>1</td>\n",
       "      <td>0</td>\n",
       "      <td>0</td>\n",
       "      <td>0</td>\n",
       "      <td>0</td>\n",
       "      <td>0</td>\n",
       "      <td>...</td>\n",
       "      <td>0</td>\n",
       "      <td>0</td>\n",
       "      <td>0</td>\n",
       "      <td>0</td>\n",
       "      <td>0</td>\n",
       "      <td>0</td>\n",
       "      <td>0</td>\n",
       "      <td>0</td>\n",
       "      <td>0</td>\n",
       "      <td>0</td>\n",
       "    </tr>\n",
       "  </tbody>\n",
       "</table>\n",
       "<p>2 rows × 111 columns</p>\n",
       "</div>"
      ],
      "text/plain": [
       "         b_g  b_pa  b_ab  b_r  b_h  b_2b  b_3b  b_hr  b_rbi  b_bb  ...  \\\n",
       "3418636    1     3     3    0    1     1     0     0      0     0  ...   \n",
       "3418638    1     1     1    0    1     0     0     0      0     0  ...   \n",
       "\n",
       "         f_cf_e  f_cf_dp  f_cf_tp  f_rf_g  f_rf_out  f_rf_po  f_rf_a  f_rf_e  \\\n",
       "3418636       0        0        0       0         0        0       0       0   \n",
       "3418638       0        0        0       0         0        0       0       0   \n",
       "\n",
       "         f_rf_dp  f_rf_tp  \n",
       "3418636        0        0  \n",
       "3418638        0        0  \n",
       "\n",
       "[2 rows x 111 columns]"
      ]
     },
     "execution_count": 28,
     "metadata": {},
     "output_type": "execute_result"
    }
   ],
   "source": [
    "# game data\n",
    "player_game.loc[[idx1,idx2], stat_columns]"
   ]
  },
  {
   "cell_type": "code",
   "execution_count": 29,
   "metadata": {},
   "outputs": [],
   "source": [
    "# add stats for the two rows\n",
    "player_game.loc[idx1, stat_columns] += player_game.loc[idx2, stat_columns]\n",
    "\n",
    "# remove duplicate row\n",
    "player_game = player_game.drop(idx2)"
   ]
  },
  {
   "cell_type": "code",
   "execution_count": 30,
   "metadata": {},
   "outputs": [
    {
     "data": {
      "text/plain": [
       "True"
      ]
     },
     "execution_count": 30,
     "metadata": {},
     "output_type": "execute_result"
    }
   ],
   "source": [
    "# the primary key is (GAME_ID, PLAYER_ID), verify no dups\n",
    "bb.is_unique(player_game, ['game_id', 'player_id'])"
   ]
  },
  {
   "cell_type": "markdown",
   "metadata": {},
   "source": [
    "### Fielding Data\n",
    "\n",
    "There is too much detail here.  All that is necessary is the total number of putouts, assists, and errors per game, per player."
   ]
  },
  {
   "cell_type": "code",
   "execution_count": 31,
   "metadata": {},
   "outputs": [
    {
     "data": {
      "text/plain": [
       "['f_p_g',\n",
       " 'f_p_out',\n",
       " 'f_p_po',\n",
       " 'f_p_a',\n",
       " 'f_p_e',\n",
       " 'f_p_dp',\n",
       " 'f_p_tp',\n",
       " 'f_c_g',\n",
       " 'f_c_out',\n",
       " 'f_c_po',\n",
       " 'f_c_a',\n",
       " 'f_c_e',\n",
       " 'f_c_dp',\n",
       " 'f_c_tp',\n",
       " 'f_c_pb',\n",
       " 'f_c_xi',\n",
       " 'f_1b_g',\n",
       " 'f_1b_out',\n",
       " 'f_1b_po',\n",
       " 'f_1b_a',\n",
       " 'f_1b_e',\n",
       " 'f_1b_dp',\n",
       " 'f_1b_tp',\n",
       " 'f_2b_g',\n",
       " 'f_2b_out',\n",
       " 'f_2b_po',\n",
       " 'f_2b_a',\n",
       " 'f_2b_e',\n",
       " 'f_2b_dp',\n",
       " 'f_2b_tp',\n",
       " 'f_3b_g',\n",
       " 'f_3b_out',\n",
       " 'f_3b_po',\n",
       " 'f_3b_a',\n",
       " 'f_3b_e',\n",
       " 'f_3b_dp',\n",
       " 'f_3b_tp',\n",
       " 'f_ss_g',\n",
       " 'f_ss_out',\n",
       " 'f_ss_po',\n",
       " 'f_ss_a',\n",
       " 'f_ss_e',\n",
       " 'f_ss_dp',\n",
       " 'f_ss_tp',\n",
       " 'f_lf_g',\n",
       " 'f_lf_out',\n",
       " 'f_lf_po',\n",
       " 'f_lf_a',\n",
       " 'f_lf_e',\n",
       " 'f_lf_dp',\n",
       " 'f_lf_tp',\n",
       " 'f_cf_g',\n",
       " 'f_cf_out',\n",
       " 'f_cf_po',\n",
       " 'f_cf_a',\n",
       " 'f_cf_e',\n",
       " 'f_cf_dp',\n",
       " 'f_cf_tp',\n",
       " 'f_rf_g',\n",
       " 'f_rf_out',\n",
       " 'f_rf_po',\n",
       " 'f_rf_a',\n",
       " 'f_rf_e',\n",
       " 'f_rf_dp',\n",
       " 'f_rf_tp']"
      ]
     },
     "execution_count": 31,
     "metadata": {},
     "output_type": "execute_result"
    }
   ],
   "source": [
    "import re\n",
    "cols = player_game.columns.copy()\n",
    "\n",
    "# get all the field columns\n",
    "f_cols = [col for col in cols if col.startswith('f_')]\n",
    "f_cols"
   ]
  },
  {
   "cell_type": "code",
   "execution_count": 32,
   "metadata": {},
   "outputs": [
    {
     "data": {
      "text/plain": [
       "['f_p_po',\n",
       " 'f_c_po',\n",
       " 'f_1b_po',\n",
       " 'f_2b_po',\n",
       " 'f_3b_po',\n",
       " 'f_ss_po',\n",
       " 'f_lf_po',\n",
       " 'f_cf_po',\n",
       " 'f_rf_po']"
      ]
     },
     "execution_count": 32,
     "metadata": {},
     "output_type": "execute_result"
    }
   ],
   "source": [
    "cols = player_game.columns.copy()\n",
    "\n",
    "# get all the put out columns\n",
    "po_cols = [col for col in cols if re.match(r'^f_.*po$', col)]\n",
    "po_cols"
   ]
  },
  {
   "cell_type": "code",
   "execution_count": 33,
   "metadata": {},
   "outputs": [],
   "source": [
    "# sum the 9 put out columns, column by column (much faster than using apply on each row)\n",
    "cols = po_cols.copy()\n",
    "\n",
    "po = player_game[cols.pop()].copy()\n",
    "while len(cols):\n",
    "    po += player_game[cols.pop()]"
   ]
  },
  {
   "cell_type": "code",
   "execution_count": 34,
   "metadata": {},
   "outputs": [
    {
     "data": {
      "text/plain": [
       "['f_p_a',\n",
       " 'f_c_a',\n",
       " 'f_1b_a',\n",
       " 'f_2b_a',\n",
       " 'f_3b_a',\n",
       " 'f_ss_a',\n",
       " 'f_lf_a',\n",
       " 'f_cf_a',\n",
       " 'f_rf_a']"
      ]
     },
     "execution_count": 34,
     "metadata": {},
     "output_type": "execute_result"
    }
   ],
   "source": [
    "cols = player_game.columns.copy()\n",
    "\n",
    "# get all the assist columns\n",
    "a_cols = [col for col in cols if re.match(r'^f_.*a$', col)]\n",
    "a_cols"
   ]
  },
  {
   "cell_type": "code",
   "execution_count": 35,
   "metadata": {},
   "outputs": [],
   "source": [
    "# sum the 9 assist columns, column by column (much faster than using apply on each row)\n",
    "cols = a_cols.copy()\n",
    "\n",
    "a = player_game[cols.pop()].copy()\n",
    "while len(cols):\n",
    "    a += player_game[cols.pop()]"
   ]
  },
  {
   "cell_type": "code",
   "execution_count": 36,
   "metadata": {},
   "outputs": [
    {
     "data": {
      "text/plain": [
       "['f_p_e',\n",
       " 'f_c_e',\n",
       " 'f_1b_e',\n",
       " 'f_2b_e',\n",
       " 'f_3b_e',\n",
       " 'f_ss_e',\n",
       " 'f_lf_e',\n",
       " 'f_cf_e',\n",
       " 'f_rf_e']"
      ]
     },
     "execution_count": 36,
     "metadata": {},
     "output_type": "execute_result"
    }
   ],
   "source": [
    "cols = player_game.columns.copy()\n",
    "\n",
    "# get all the error columns\n",
    "e_cols = [col for col in cols if re.match(r'^f_.*e$', col)]\n",
    "e_cols"
   ]
  },
  {
   "cell_type": "code",
   "execution_count": 37,
   "metadata": {},
   "outputs": [],
   "source": [
    "# sum the 9 error columns, column by column (much faster than using apply on each row)\n",
    "cols = e_cols.copy()\n",
    "\n",
    "e = player_game[cols.pop()].copy()\n",
    "while len(cols):\n",
    "    e += player_game[cols.pop()]"
   ]
  },
  {
   "cell_type": "code",
   "execution_count": 38,
   "metadata": {},
   "outputs": [],
   "source": [
    "# add the columns to player_game\n",
    "player_game = player_game.assign(f_po=po)\n",
    "player_game = player_game.assign(f_a=a)\n",
    "player_game = player_game.assign(f_e=e)\n",
    "\n",
    "# remove all the other field columns\n",
    "player_game = player_game.drop(f_cols, axis = 1)"
   ]
  },
  {
   "cell_type": "code",
   "execution_count": 39,
   "metadata": {},
   "outputs": [
    {
     "data": {
      "text/plain": [
       "Index(['game_id', 'game_dt', 'game_ct', 'team_id', 'player_id', 'b_g', 'b_pa',\n",
       "       'b_ab', 'b_r', 'b_h', 'b_2b', 'b_3b', 'b_hr', 'b_rbi', 'b_bb', 'b_ibb',\n",
       "       'b_so', 'b_gdp', 'b_hp', 'b_sh', 'b_sf', 'b_sb', 'b_cs', 'b_xi', 'p_g',\n",
       "       'p_gs', 'p_cg', 'p_sho', 'p_gf', 'p_w', 'p_l', 'p_sv', 'p_out', 'p_tbf',\n",
       "       'p_ab', 'p_r', 'p_er', 'p_h', 'p_2b', 'p_3b', 'p_hr', 'p_bb', 'p_ibb',\n",
       "       'p_so', 'p_gdp', 'p_hp', 'p_sh', 'p_sf', 'p_xi', 'p_wp', 'p_bk', 'f_po',\n",
       "       'f_a', 'f_e'],\n",
       "      dtype='object')"
      ]
     },
     "execution_count": 39,
     "metadata": {},
     "output_type": "execute_result"
    }
   ],
   "source": [
    "player_game.columns"
   ]
  },
  {
   "cell_type": "markdown",
   "metadata": {
    "toc-hr-collapsed": true
   },
   "source": [
    "### Add Lahman player_id\n",
    "This will make joins to the Lahman data easier."
   ]
  },
  {
   "cell_type": "code",
   "execution_count": 40,
   "metadata": {},
   "outputs": [],
   "source": [
    "# get the People data for Lahman player_id\n",
    "home = Path.home()\n",
    "lahman = home.joinpath('data/lahman')\n",
    "p_lahman_wrangled = lahman.joinpath('wrangled')\n",
    "\n",
    "os.chdir(p_lahman_wrangled)\n",
    "people = bb.from_csv_with_types('people.csv')"
   ]
  },
  {
   "cell_type": "code",
   "execution_count": 41,
   "metadata": {},
   "outputs": [
    {
     "data": {
      "text/plain": [
       "Index(['game_id', 'game_dt', 'game_ct', 'team_id', 'player_id_retrosheet',\n",
       "       'b_g', 'b_pa', 'b_ab', 'b_r', 'b_h', 'b_2b', 'b_3b', 'b_hr', 'b_rbi',\n",
       "       'b_bb', 'b_ibb', 'b_so', 'b_gdp', 'b_hp', 'b_sh', 'b_sf', 'b_sb',\n",
       "       'b_cs', 'b_xi', 'p_g', 'p_gs', 'p_cg', 'p_sho', 'p_gf', 'p_w', 'p_l',\n",
       "       'p_sv', 'p_out', 'p_tbf', 'p_ab', 'p_r', 'p_er', 'p_h', 'p_2b', 'p_3b',\n",
       "       'p_hr', 'p_bb', 'p_ibb', 'p_so', 'p_gdp', 'p_hp', 'p_sh', 'p_sf',\n",
       "       'p_xi', 'p_wp', 'p_bk', 'f_po', 'f_a', 'f_e', 'player_id_lahman',\n",
       "       'retro_id'],\n",
       "      dtype='object')"
      ]
     },
     "execution_count": 41,
     "metadata": {},
     "output_type": "execute_result"
    }
   ],
   "source": [
    "# add player_id from Lahman people\n",
    "player_game = pd.merge(player_game, people[['player_id','retro_id']], \n",
    "                        left_on = 'player_id', right_on = 'retro_id',\n",
    "                        suffixes=['_retrosheet', '_lahman'])\n",
    "player_game.columns"
   ]
  },
  {
   "cell_type": "code",
   "execution_count": 42,
   "metadata": {},
   "outputs": [
    {
     "data": {
      "text/plain": [
       "Index(['game_id', 'game_dt', 'game_ct', 'team_id', 'player_id', 'b_g', 'b_pa',\n",
       "       'b_ab', 'b_r', 'b_h', 'b_2b', 'b_3b', 'b_hr', 'b_rbi', 'b_bb', 'b_ibb',\n",
       "       'b_so', 'b_gdp', 'b_hp', 'b_sh', 'b_sf', 'b_sb', 'b_cs', 'b_xi', 'p_g',\n",
       "       'p_gs', 'p_cg', 'p_sho', 'p_gf', 'p_w', 'p_l', 'p_sv', 'p_out', 'p_tbf',\n",
       "       'p_ab', 'p_r', 'p_er', 'p_h', 'p_2b', 'p_3b', 'p_hr', 'p_bb', 'p_ibb',\n",
       "       'p_so', 'p_gdp', 'p_hp', 'p_sh', 'p_sf', 'p_xi', 'p_wp', 'p_bk', 'f_po',\n",
       "       'f_a', 'f_e', 'player_id_lahman'],\n",
       "      dtype='object')"
      ]
     },
     "execution_count": 42,
     "metadata": {},
     "output_type": "execute_result"
    }
   ],
   "source": [
    "col_names = {'player_id_retrosheet':'player_id'}\n",
    "player_game = player_game.rename(columns=col_names)\n",
    "player_game = player_game.drop('retro_id', axis= 1)\n",
    "player_game.columns"
   ]
  },
  {
   "cell_type": "markdown",
   "metadata": {
    "toc-hr-collapsed": true
   },
   "source": [
    "### Add Lahman team_id and year\n",
    "This will make joins to the Lahman data easier.\n",
    "\n",
    "The Lahman team_id can be found from the year and retrosheet team_id."
   ]
  },
  {
   "cell_type": "code",
   "execution_count": 43,
   "metadata": {},
   "outputs": [],
   "source": [
    "# get the teams data\n",
    "os.chdir(p_lahman_wrangled)\n",
    "teams = bb.from_csv_with_types('teams.csv')"
   ]
  },
  {
   "cell_type": "code",
   "execution_count": 44,
   "metadata": {},
   "outputs": [],
   "source": [
    "# add year to player_game\n",
    "player_game['year_id'] = player_game['game_dt'].apply(lambda x: x // 10000)"
   ]
  },
  {
   "cell_type": "code",
   "execution_count": 45,
   "metadata": {},
   "outputs": [],
   "source": [
    "# add team_id from teams\n",
    "player_game = pd.merge(player_game, teams[['team_id', 'year_id', 'team_id_retro']],\n",
    "                       left_on = ['year_id', 'team_id'], \n",
    "                       right_on = ['year_id', 'team_id_retro'],\n",
    "                       suffixes=['_retrosheet', '_lahman'])"
   ]
  },
  {
   "cell_type": "code",
   "execution_count": 47,
   "metadata": {},
   "outputs": [
    {
     "data": {
      "text/plain": [
       "Index(['game_id', 'game_dt', 'game_ct', 'team_id_retrosheet', 'player_id',\n",
       "       'b_g', 'b_pa', 'b_ab', 'b_r', 'b_h', 'b_2b', 'b_3b', 'b_hr', 'b_rbi',\n",
       "       'b_bb', 'b_ibb', 'b_so', 'b_gdp', 'b_hp', 'b_sh', 'b_sf', 'b_sb',\n",
       "       'b_cs', 'b_xi', 'p_g', 'p_gs', 'p_cg', 'p_sho', 'p_gf', 'p_w', 'p_l',\n",
       "       'p_sv', 'p_out', 'p_tbf', 'p_ab', 'p_r', 'p_er', 'p_h', 'p_2b', 'p_3b',\n",
       "       'p_hr', 'p_bb', 'p_ibb', 'p_so', 'p_gdp', 'p_hp', 'p_sh', 'p_sf',\n",
       "       'p_xi', 'p_wp', 'p_bk', 'f_po', 'f_a', 'f_e', 'player_id_lahman',\n",
       "       'year_id', 'team_id_lahman', 'team_id_retro'],\n",
       "      dtype='object')"
      ]
     },
     "execution_count": 47,
     "metadata": {},
     "output_type": "execute_result"
    }
   ],
   "source": [
    "player_game.columns"
   ]
  },
  {
   "cell_type": "code",
   "execution_count": 48,
   "metadata": {},
   "outputs": [
    {
     "data": {
      "text/plain": [
       "True"
      ]
     },
     "execution_count": 48,
     "metadata": {},
     "output_type": "execute_result"
    }
   ],
   "source": [
    "(player_game['team_id_retrosheet'] == player_game['team_id_retro']).all()"
   ]
  },
  {
   "cell_type": "code",
   "execution_count": 49,
   "metadata": {},
   "outputs": [
    {
     "data": {
      "text/plain": [
       "Index(['game_id', 'game_dt', 'game_ct', 'team_id', 'player_id', 'b_g', 'b_pa',\n",
       "       'b_ab', 'b_r', 'b_h', 'b_2b', 'b_3b', 'b_hr', 'b_rbi', 'b_bb', 'b_ibb',\n",
       "       'b_so', 'b_gdp', 'b_hp', 'b_sh', 'b_sf', 'b_sb', 'b_cs', 'b_xi', 'p_g',\n",
       "       'p_gs', 'p_cg', 'p_sho', 'p_gf', 'p_w', 'p_l', 'p_sv', 'p_out', 'p_tbf',\n",
       "       'p_ab', 'p_r', 'p_er', 'p_h', 'p_2b', 'p_3b', 'p_hr', 'p_bb', 'p_ibb',\n",
       "       'p_so', 'p_gdp', 'p_hp', 'p_sh', 'p_sf', 'p_xi', 'p_wp', 'p_bk', 'f_po',\n",
       "       'f_a', 'f_e', 'player_id_lahman', 'year_id', 'team_id_lahman'],\n",
       "      dtype='object')"
      ]
     },
     "execution_count": 49,
     "metadata": {},
     "output_type": "execute_result"
    }
   ],
   "source": [
    "col_names = {'team_id_retrosheet':'team_id'}\n",
    "player_game = player_game.rename(columns=col_names)\n",
    "player_game = player_game.drop('team_id_retro', axis= 1)\n",
    "player_game.columns"
   ]
  },
  {
   "cell_type": "code",
   "execution_count": 52,
   "metadata": {},
   "outputs": [
    {
     "data": {
      "text/plain": [
       "Index(['game_id', 'player_id', 'team_id', 'year_id', 'player_id_lahman',\n",
       "       'team_id_lahman', 'game_dt', 'game_ct', 'b_g', 'b_pa', 'b_ab', 'b_r',\n",
       "       'b_h', 'b_2b', 'b_3b', 'b_hr', 'b_rbi', 'b_bb', 'b_ibb', 'b_so',\n",
       "       'b_gdp', 'b_hp', 'b_sh', 'b_sf', 'b_sb', 'b_cs', 'b_xi', 'p_g', 'p_gs',\n",
       "       'p_cg', 'p_sho', 'p_gf', 'p_w', 'p_l', 'p_sv', 'p_out', 'p_tbf', 'p_ab',\n",
       "       'p_r', 'p_er', 'p_h', 'p_2b', 'p_3b', 'p_hr', 'p_bb', 'p_ibb', 'p_so',\n",
       "       'p_gdp', 'p_hp', 'p_sh', 'p_sf', 'p_xi', 'p_wp', 'p_bk', 'f_po', 'f_a',\n",
       "       'f_e'],\n",
       "      dtype='object')"
      ]
     },
     "execution_count": 52,
     "metadata": {},
     "output_type": "execute_result"
    }
   ],
   "source": [
    "# put the key columns up front\n",
    "player_game = bb.order_cols(player_game, \n",
    "                            ['game_id', 'player_id', 'team_id', \n",
    "                             'year_id', 'player_id_lahman', \n",
    "                             'team_id_lahman'])\n",
    "player_game.columns"
   ]
  },
  {
   "cell_type": "code",
   "execution_count": 53,
   "metadata": {},
   "outputs": [
    {
     "name": "stdout",
     "output_type": "stream",
     "text": [
      "<class 'pandas.core.frame.DataFrame'>\n",
      "Int64Index: 3549699 entries, 0 to 3549698\n",
      "Data columns (total 57 columns):\n",
      "game_id             object\n",
      "player_id           object\n",
      "team_id             object\n",
      "year_id             uint16\n",
      "player_id_lahman    object\n",
      "team_id_lahman      object\n",
      "game_dt             uint32\n",
      "game_ct             uint8\n",
      "b_g                 uint8\n",
      "b_pa                uint8\n",
      "b_ab                uint8\n",
      "b_r                 uint8\n",
      "b_h                 uint8\n",
      "b_2b                uint8\n",
      "b_3b                uint8\n",
      "b_hr                uint8\n",
      "b_rbi               uint8\n",
      "b_bb                uint8\n",
      "b_ibb               uint8\n",
      "b_so                uint8\n",
      "b_gdp               uint8\n",
      "b_hp                uint8\n",
      "b_sh                uint8\n",
      "b_sf                uint8\n",
      "b_sb                uint8\n",
      "b_cs                uint8\n",
      "b_xi                uint8\n",
      "p_g                 uint8\n",
      "p_gs                uint8\n",
      "p_cg                uint8\n",
      "p_sho               uint8\n",
      "p_gf                uint8\n",
      "p_w                 uint8\n",
      "p_l                 uint8\n",
      "p_sv                uint8\n",
      "p_out               uint8\n",
      "p_tbf               uint8\n",
      "p_ab                uint8\n",
      "p_r                 uint8\n",
      "p_er                uint8\n",
      "p_h                 uint8\n",
      "p_2b                uint8\n",
      "p_3b                uint8\n",
      "p_hr                uint8\n",
      "p_bb                uint8\n",
      "p_ibb               uint8\n",
      "p_so                uint8\n",
      "p_gdp               uint8\n",
      "p_hp                uint8\n",
      "p_sh                uint8\n",
      "p_sf                uint8\n",
      "p_xi                uint8\n",
      "p_wp                uint8\n",
      "p_bk                uint8\n",
      "f_po                uint8\n",
      "f_a                 uint8\n",
      "f_e                 uint8\n",
      "dtypes: object(5), uint16(1), uint32(1), uint8(50)\n",
      "memory usage: 352.1+ MB\n"
     ]
    }
   ],
   "source": [
    "# downcast the new columns\n",
    "player_game = bb.optimize_df_dtypes(player_game)\n",
    "player_game.info()"
   ]
  },
  {
   "cell_type": "code",
   "execution_count": 54,
   "metadata": {},
   "outputs": [
    {
     "name": "stdout",
     "output_type": "stream",
     "text": [
      "CPU times: user 3min 18s, sys: 188 ms, total: 3min 18s\n",
      "Wall time: 3min 18s\n"
     ]
    }
   ],
   "source": [
    "os.chdir(p_wrangled)\n",
    "%time bb.to_csv_with_types(player_game, 'player_game.csv.gz')"
   ]
  },
  {
   "cell_type": "markdown",
   "metadata": {
    "toc-hr-collapsed": true
   },
   "source": [
    "## 2. Wrangle Stats per Game Data"
   ]
  },
  {
   "cell_type": "markdown",
   "metadata": {},
   "source": [
    "### Game Data Organization\n",
    "\n",
    "The game data is not tidy.  The analysis will be easier if it is first made tidy.\n",
    "\n",
    "There are 3 types of data:\n",
    "1. data specific to a game -- the 'rest' columns below\n",
    "2. data specific to the home team for that game -- the 'home' columns below\n",
    "3. data specific to the away team for that game -- the 'away' columns below\n",
    "\n",
    "The attributes for the home team are identical to the attributes for the away team.\n",
    "\n",
    "This suggests breaking this out into 2 tables.\n",
    "1. key: (game_id) -- information specific to this particular game\n",
    "2. key: (game_id, team_id) -- information for the specified team for the specified game"
   ]
  },
  {
   "cell_type": "code",
   "execution_count": 55,
   "metadata": {},
   "outputs": [],
   "source": [
    "os.chdir(p_collected)\n",
    "game = bb.from_csv_with_types('game.csv.gz')"
   ]
  },
  {
   "cell_type": "code",
   "execution_count": 151,
   "metadata": {},
   "outputs": [],
   "source": [
    "home = [col for col in game.columns if col.startswith('home')]\n",
    "away = [col for col in game.columns if col.startswith('away')]\n",
    "rest = [col for col in game.columns \n",
    "        if not col.startswith('home') and not col.startswith('away')]"
   ]
  },
  {
   "cell_type": "code",
   "execution_count": 162,
   "metadata": {},
   "outputs": [
    {
     "data": {
      "text/plain": [
       "['home_team_id',\n",
       " 'home_start_pit_id',\n",
       " 'home_score_ct',\n",
       " 'home_hits_ct',\n",
       " 'home_err_ct',\n",
       " 'home_lob_ct',\n",
       " 'home_finish_pit_id',\n",
       " 'home_team_league_id',\n",
       " 'home_team_game_ct',\n",
       " 'home_line_tx',\n",
       " 'home_ab_ct',\n",
       " 'home_2b_ct',\n",
       " 'home_3b_ct',\n",
       " 'home_hr_ct',\n",
       " 'home_bi_ct',\n",
       " 'home_sh_ct',\n",
       " 'home_sf_ct',\n",
       " 'home_hp_ct',\n",
       " 'home_bb_ct',\n",
       " 'home_ibb_ct',\n",
       " 'home_so_ct',\n",
       " 'home_sb_ct',\n",
       " 'home_cs_ct',\n",
       " 'home_gdp_ct',\n",
       " 'home_xi_ct',\n",
       " 'home_pitcher_ct',\n",
       " 'home_er_ct',\n",
       " 'home_ter_ct',\n",
       " 'home_wp_ct',\n",
       " 'home_bk_ct',\n",
       " 'home_po_ct',\n",
       " 'home_a_ct',\n",
       " 'home_pb_ct',\n",
       " 'home_dp_ct',\n",
       " 'home_tp_ct']"
      ]
     },
     "execution_count": 162,
     "metadata": {},
     "output_type": "execute_result"
    }
   ],
   "source": [
    "home"
   ]
  },
  {
   "cell_type": "code",
   "execution_count": 57,
   "metadata": {},
   "outputs": [
    {
     "data": {
      "text/plain": [
       "(['home_team_id', 'home_start_pit_id', 'home_score_ct', 'home_hits_ct'],\n",
       " ['away_team_id', 'away_start_pit_id', 'away_score_ct', 'away_hits_ct'])"
      ]
     },
     "execution_count": 57,
     "metadata": {},
     "output_type": "execute_result"
    }
   ],
   "source": [
    "home[:4], away[:4]"
   ]
  },
  {
   "cell_type": "code",
   "execution_count": 58,
   "metadata": {},
   "outputs": [
    {
     "data": {
      "text/plain": [
       "True"
      ]
     },
     "execution_count": 58,
     "metadata": {},
     "output_type": "execute_result"
    }
   ],
   "source": [
    "# home columns are same as away columns\n",
    "[col[5:] for col in home] == [col[5:] for col in away]"
   ]
  },
  {
   "cell_type": "code",
   "execution_count": 59,
   "metadata": {},
   "outputs": [
    {
     "data": {
      "text/html": [
       "<div>\n",
       "<style scoped>\n",
       "    .dataframe tbody tr th:only-of-type {\n",
       "        vertical-align: middle;\n",
       "    }\n",
       "\n",
       "    .dataframe tbody tr th {\n",
       "        vertical-align: top;\n",
       "    }\n",
       "\n",
       "    .dataframe thead th {\n",
       "        text-align: right;\n",
       "    }\n",
       "</style>\n",
       "<table border=\"1\" class=\"dataframe\">\n",
       "  <thead>\n",
       "    <tr style=\"text-align: right;\">\n",
       "      <th></th>\n",
       "      <th>game_id</th>\n",
       "      <th>game_dt</th>\n",
       "      <th>game_ct</th>\n",
       "      <th>game_dy</th>\n",
       "      <th>start_game_tm</th>\n",
       "      <th>dh_fl</th>\n",
       "      <th>daynight_park_cd</th>\n",
       "      <th>park_id</th>\n",
       "      <th>base4_ump_id</th>\n",
       "      <th>base1_ump_id</th>\n",
       "      <th>...</th>\n",
       "      <th>minutes_game_ct</th>\n",
       "      <th>inn_ct</th>\n",
       "      <th>win_pit_id</th>\n",
       "      <th>lose_pit_id</th>\n",
       "      <th>save_pit_id</th>\n",
       "      <th>gwrbi_bat_id</th>\n",
       "      <th>outs_ct</th>\n",
       "      <th>completion_tx</th>\n",
       "      <th>forfeit_tx</th>\n",
       "      <th>protest_tx</th>\n",
       "    </tr>\n",
       "  </thead>\n",
       "  <tbody>\n",
       "    <tr>\n",
       "      <th>129843</th>\n",
       "      <td>WAS201809240</td>\n",
       "      <td>20180924</td>\n",
       "      <td>0</td>\n",
       "      <td>Monday</td>\n",
       "      <td>706</td>\n",
       "      <td>F</td>\n",
       "      <td>N</td>\n",
       "      <td>WAS11</td>\n",
       "      <td>herna901</td>\n",
       "      <td>porta901</td>\n",
       "      <td>...</td>\n",
       "      <td>189</td>\n",
       "      <td>9</td>\n",
       "      <td>millj006</td>\n",
       "      <td>alcas001</td>\n",
       "      <td>NaN</td>\n",
       "      <td>NaN</td>\n",
       "      <td>51</td>\n",
       "      <td>NaN</td>\n",
       "      <td>NaN</td>\n",
       "      <td>NaN</td>\n",
       "    </tr>\n",
       "    <tr>\n",
       "      <th>129844</th>\n",
       "      <td>WAS201809250</td>\n",
       "      <td>20180925</td>\n",
       "      <td>0</td>\n",
       "      <td>Tuesday</td>\n",
       "      <td>705</td>\n",
       "      <td>F</td>\n",
       "      <td>N</td>\n",
       "      <td>WAS11</td>\n",
       "      <td>porta901</td>\n",
       "      <td>whitc901</td>\n",
       "      <td>...</td>\n",
       "      <td>192</td>\n",
       "      <td>9</td>\n",
       "      <td>schem001</td>\n",
       "      <td>brigj002</td>\n",
       "      <td>NaN</td>\n",
       "      <td>NaN</td>\n",
       "      <td>51</td>\n",
       "      <td>NaN</td>\n",
       "      <td>NaN</td>\n",
       "      <td>NaN</td>\n",
       "    </tr>\n",
       "    <tr>\n",
       "      <th>129845</th>\n",
       "      <td>WAS201809260</td>\n",
       "      <td>20180926</td>\n",
       "      <td>0</td>\n",
       "      <td>Wednesday</td>\n",
       "      <td>405</td>\n",
       "      <td>F</td>\n",
       "      <td>D</td>\n",
       "      <td>WAS11</td>\n",
       "      <td>whitc901</td>\n",
       "      <td>millb901</td>\n",
       "      <td>...</td>\n",
       "      <td>165</td>\n",
       "      <td>8</td>\n",
       "      <td>suerw002</td>\n",
       "      <td>chenw001</td>\n",
       "      <td>NaN</td>\n",
       "      <td>NaN</td>\n",
       "      <td>42</td>\n",
       "      <td>NaN</td>\n",
       "      <td>NaN</td>\n",
       "      <td>NaN</td>\n",
       "    </tr>\n",
       "  </tbody>\n",
       "</table>\n",
       "<p>3 rows × 38 columns</p>\n",
       "</div>"
      ],
      "text/plain": [
       "             game_id   game_dt  game_ct    game_dy  start_game_tm dh_fl  \\\n",
       "129843  WAS201809240  20180924        0     Monday            706     F   \n",
       "129844  WAS201809250  20180925        0    Tuesday            705     F   \n",
       "129845  WAS201809260  20180926        0  Wednesday            405     F   \n",
       "\n",
       "       daynight_park_cd park_id base4_ump_id base1_ump_id  ...  \\\n",
       "129843                N   WAS11     herna901     porta901  ...   \n",
       "129844                N   WAS11     porta901     whitc901  ...   \n",
       "129845                D   WAS11     whitc901     millb901  ...   \n",
       "\n",
       "       minutes_game_ct inn_ct win_pit_id lose_pit_id  save_pit_id  \\\n",
       "129843             189      9   millj006    alcas001          NaN   \n",
       "129844             192      9   schem001    brigj002          NaN   \n",
       "129845             165      8   suerw002    chenw001          NaN   \n",
       "\n",
       "       gwrbi_bat_id outs_ct completion_tx forfeit_tx  protest_tx  \n",
       "129843          NaN      51           NaN        NaN         NaN  \n",
       "129844          NaN      51           NaN        NaN         NaN  \n",
       "129845          NaN      42           NaN        NaN         NaN  \n",
       "\n",
       "[3 rows x 38 columns]"
      ]
     },
     "execution_count": 59,
     "metadata": {},
     "output_type": "execute_result"
    }
   ],
   "source": [
    "game_tidy = game[rest].copy()\n",
    "game_tidy.tail(3)"
   ]
  },
  {
   "cell_type": "code",
   "execution_count": 60,
   "metadata": {},
   "outputs": [],
   "source": [
    "home_team_game = game[['game_id'] + home]\n",
    "away_team_game = game[['game_id'] + away]"
   ]
  },
  {
   "cell_type": "code",
   "execution_count": 61,
   "metadata": {},
   "outputs": [
    {
     "data": {
      "text/plain": [
       "((129846, 36), (129846, 36))"
      ]
     },
     "execution_count": 61,
     "metadata": {},
     "output_type": "execute_result"
    }
   ],
   "source": [
    "home_team_game.shape, away_team_game.shape"
   ]
  },
  {
   "cell_type": "code",
   "execution_count": 62,
   "metadata": {},
   "outputs": [],
   "source": [
    "# create a column of True and a column of False, with appropriate indexes\n",
    "s_true = game['game_id'] == game['game_id']\n",
    "s_false = game['game_id'] != game['game_id']"
   ]
  },
  {
   "cell_type": "code",
   "execution_count": 63,
   "metadata": {},
   "outputs": [],
   "source": [
    "# add the home team column\n",
    "home_team_game = home_team_game.assign(home = s_true)\n",
    "away_team_game = away_team_game.assign(home = s_false)"
   ]
  },
  {
   "cell_type": "code",
   "execution_count": 64,
   "metadata": {},
   "outputs": [],
   "source": [
    "# rename the columns by removing 'home_'\n",
    "home_column_mapping = {col:col[5:] for col in home}\n",
    "home_team_game = home_team_game.rename(columns = home_column_mapping)\n",
    "home_team_game = bb.order_cols(home_team_game, ['game_id', 'home'])\n",
    "\n",
    "# rename the columns by removing 'away_'\n",
    "away_column_mapping = {col:col[5:] for col in away}\n",
    "away_team_game = away_team_game.rename(columns = away_column_mapping)\n",
    "away_team_game = bb.order_cols(away_team_game, ['game_id', 'home'])"
   ]
  },
  {
   "cell_type": "code",
   "execution_count": 65,
   "metadata": {},
   "outputs": [
    {
     "data": {
      "text/html": [
       "<div>\n",
       "<style scoped>\n",
       "    .dataframe tbody tr th:only-of-type {\n",
       "        vertical-align: middle;\n",
       "    }\n",
       "\n",
       "    .dataframe tbody tr th {\n",
       "        vertical-align: top;\n",
       "    }\n",
       "\n",
       "    .dataframe thead th {\n",
       "        text-align: right;\n",
       "    }\n",
       "</style>\n",
       "<table border=\"1\" class=\"dataframe\">\n",
       "  <thead>\n",
       "    <tr style=\"text-align: right;\">\n",
       "      <th></th>\n",
       "      <th>game_id</th>\n",
       "      <th>home</th>\n",
       "      <th>team_id</th>\n",
       "      <th>start_pit_id</th>\n",
       "      <th>score_ct</th>\n",
       "      <th>hits_ct</th>\n",
       "      <th>err_ct</th>\n",
       "      <th>lob_ct</th>\n",
       "      <th>finish_pit_id</th>\n",
       "      <th>team_league_id</th>\n",
       "      <th>...</th>\n",
       "      <th>pitcher_ct</th>\n",
       "      <th>er_ct</th>\n",
       "      <th>ter_ct</th>\n",
       "      <th>wp_ct</th>\n",
       "      <th>bk_ct</th>\n",
       "      <th>po_ct</th>\n",
       "      <th>a_ct</th>\n",
       "      <th>pb_ct</th>\n",
       "      <th>dp_ct</th>\n",
       "      <th>tp_ct</th>\n",
       "    </tr>\n",
       "  </thead>\n",
       "  <tbody>\n",
       "    <tr>\n",
       "      <th>129843</th>\n",
       "      <td>WAS201809240</td>\n",
       "      <td>True</td>\n",
       "      <td>WAS</td>\n",
       "      <td>stras001</td>\n",
       "      <td>7</td>\n",
       "      <td>9</td>\n",
       "      <td>2</td>\n",
       "      <td>8</td>\n",
       "      <td>dools001</td>\n",
       "      <td>N</td>\n",
       "      <td>...</td>\n",
       "      <td>5</td>\n",
       "      <td>2</td>\n",
       "      <td>2</td>\n",
       "      <td>1</td>\n",
       "      <td>0</td>\n",
       "      <td>27</td>\n",
       "      <td>10</td>\n",
       "      <td>0</td>\n",
       "      <td>0</td>\n",
       "      <td>0</td>\n",
       "    </tr>\n",
       "    <tr>\n",
       "      <th>129844</th>\n",
       "      <td>WAS201809250</td>\n",
       "      <td>True</td>\n",
       "      <td>WAS</td>\n",
       "      <td>schem001</td>\n",
       "      <td>9</td>\n",
       "      <td>11</td>\n",
       "      <td>2</td>\n",
       "      <td>9</td>\n",
       "      <td>cordj001</td>\n",
       "      <td>N</td>\n",
       "      <td>...</td>\n",
       "      <td>4</td>\n",
       "      <td>3</td>\n",
       "      <td>3</td>\n",
       "      <td>0</td>\n",
       "      <td>0</td>\n",
       "      <td>27</td>\n",
       "      <td>3</td>\n",
       "      <td>0</td>\n",
       "      <td>0</td>\n",
       "      <td>0</td>\n",
       "    </tr>\n",
       "    <tr>\n",
       "      <th>129845</th>\n",
       "      <td>WAS201809260</td>\n",
       "      <td>True</td>\n",
       "      <td>WAS</td>\n",
       "      <td>mcgok002</td>\n",
       "      <td>9</td>\n",
       "      <td>12</td>\n",
       "      <td>0</td>\n",
       "      <td>8</td>\n",
       "      <td>glovk001</td>\n",
       "      <td>N</td>\n",
       "      <td>...</td>\n",
       "      <td>5</td>\n",
       "      <td>3</td>\n",
       "      <td>3</td>\n",
       "      <td>0</td>\n",
       "      <td>0</td>\n",
       "      <td>21</td>\n",
       "      <td>6</td>\n",
       "      <td>0</td>\n",
       "      <td>0</td>\n",
       "      <td>0</td>\n",
       "    </tr>\n",
       "  </tbody>\n",
       "</table>\n",
       "<p>3 rows × 37 columns</p>\n",
       "</div>"
      ],
      "text/plain": [
       "             game_id  home team_id start_pit_id  score_ct  hits_ct  err_ct  \\\n",
       "129843  WAS201809240  True     WAS     stras001         7        9       2   \n",
       "129844  WAS201809250  True     WAS     schem001         9       11       2   \n",
       "129845  WAS201809260  True     WAS     mcgok002         9       12       0   \n",
       "\n",
       "        lob_ct finish_pit_id team_league_id  ...  pitcher_ct er_ct  ter_ct  \\\n",
       "129843       8      dools001              N  ...           5     2       2   \n",
       "129844       9      cordj001              N  ...           4     3       3   \n",
       "129845       8      glovk001              N  ...           5     3       3   \n",
       "\n",
       "        wp_ct  bk_ct  po_ct  a_ct  pb_ct  dp_ct  tp_ct  \n",
       "129843      1      0     27    10      0      0      0  \n",
       "129844      0      0     27     3      0      0      0  \n",
       "129845      0      0     21     6      0      0      0  \n",
       "\n",
       "[3 rows x 37 columns]"
      ]
     },
     "execution_count": 65,
     "metadata": {},
     "output_type": "execute_result"
    }
   ],
   "source": [
    "home_team_game.tail(3)"
   ]
  },
  {
   "cell_type": "code",
   "execution_count": 66,
   "metadata": {},
   "outputs": [
    {
     "data": {
      "text/html": [
       "<div>\n",
       "<style scoped>\n",
       "    .dataframe tbody tr th:only-of-type {\n",
       "        vertical-align: middle;\n",
       "    }\n",
       "\n",
       "    .dataframe tbody tr th {\n",
       "        vertical-align: top;\n",
       "    }\n",
       "\n",
       "    .dataframe thead th {\n",
       "        text-align: right;\n",
       "    }\n",
       "</style>\n",
       "<table border=\"1\" class=\"dataframe\">\n",
       "  <thead>\n",
       "    <tr style=\"text-align: right;\">\n",
       "      <th></th>\n",
       "      <th>game_id</th>\n",
       "      <th>home</th>\n",
       "      <th>team_id</th>\n",
       "      <th>start_pit_id</th>\n",
       "      <th>score_ct</th>\n",
       "      <th>hits_ct</th>\n",
       "      <th>err_ct</th>\n",
       "      <th>lob_ct</th>\n",
       "      <th>finish_pit_id</th>\n",
       "      <th>team_league_id</th>\n",
       "      <th>...</th>\n",
       "      <th>pitcher_ct</th>\n",
       "      <th>er_ct</th>\n",
       "      <th>ter_ct</th>\n",
       "      <th>wp_ct</th>\n",
       "      <th>bk_ct</th>\n",
       "      <th>po_ct</th>\n",
       "      <th>a_ct</th>\n",
       "      <th>pb_ct</th>\n",
       "      <th>dp_ct</th>\n",
       "      <th>tp_ct</th>\n",
       "    </tr>\n",
       "  </thead>\n",
       "  <tbody>\n",
       "    <tr>\n",
       "      <th>129843</th>\n",
       "      <td>WAS201809240</td>\n",
       "      <td>False</td>\n",
       "      <td>MIA</td>\n",
       "      <td>alcas001</td>\n",
       "      <td>3</td>\n",
       "      <td>6</td>\n",
       "      <td>0</td>\n",
       "      <td>10</td>\n",
       "      <td>gravb001</td>\n",
       "      <td>N</td>\n",
       "      <td>...</td>\n",
       "      <td>3</td>\n",
       "      <td>7</td>\n",
       "      <td>7</td>\n",
       "      <td>0</td>\n",
       "      <td>0</td>\n",
       "      <td>24</td>\n",
       "      <td>6</td>\n",
       "      <td>0</td>\n",
       "      <td>0</td>\n",
       "      <td>0</td>\n",
       "    </tr>\n",
       "    <tr>\n",
       "      <th>129844</th>\n",
       "      <td>WAS201809250</td>\n",
       "      <td>False</td>\n",
       "      <td>MIA</td>\n",
       "      <td>brigj002</td>\n",
       "      <td>4</td>\n",
       "      <td>9</td>\n",
       "      <td>1</td>\n",
       "      <td>6</td>\n",
       "      <td>meyeb002</td>\n",
       "      <td>N</td>\n",
       "      <td>...</td>\n",
       "      <td>5</td>\n",
       "      <td>9</td>\n",
       "      <td>9</td>\n",
       "      <td>1</td>\n",
       "      <td>0</td>\n",
       "      <td>24</td>\n",
       "      <td>13</td>\n",
       "      <td>0</td>\n",
       "      <td>3</td>\n",
       "      <td>0</td>\n",
       "    </tr>\n",
       "    <tr>\n",
       "      <th>129845</th>\n",
       "      <td>WAS201809260</td>\n",
       "      <td>False</td>\n",
       "      <td>MIA</td>\n",
       "      <td>chenw001</td>\n",
       "      <td>3</td>\n",
       "      <td>5</td>\n",
       "      <td>1</td>\n",
       "      <td>6</td>\n",
       "      <td>herne002</td>\n",
       "      <td>N</td>\n",
       "      <td>...</td>\n",
       "      <td>4</td>\n",
       "      <td>8</td>\n",
       "      <td>8</td>\n",
       "      <td>1</td>\n",
       "      <td>0</td>\n",
       "      <td>21</td>\n",
       "      <td>7</td>\n",
       "      <td>0</td>\n",
       "      <td>1</td>\n",
       "      <td>0</td>\n",
       "    </tr>\n",
       "  </tbody>\n",
       "</table>\n",
       "<p>3 rows × 37 columns</p>\n",
       "</div>"
      ],
      "text/plain": [
       "             game_id   home team_id start_pit_id  score_ct  hits_ct  err_ct  \\\n",
       "129843  WAS201809240  False     MIA     alcas001         3        6       0   \n",
       "129844  WAS201809250  False     MIA     brigj002         4        9       1   \n",
       "129845  WAS201809260  False     MIA     chenw001         3        5       1   \n",
       "\n",
       "        lob_ct finish_pit_id team_league_id  ...  pitcher_ct er_ct  ter_ct  \\\n",
       "129843      10      gravb001              N  ...           3     7       7   \n",
       "129844       6      meyeb002              N  ...           5     9       9   \n",
       "129845       6      herne002              N  ...           4     8       8   \n",
       "\n",
       "        wp_ct  bk_ct  po_ct  a_ct  pb_ct  dp_ct  tp_ct  \n",
       "129843      0      0     24     6      0      0      0  \n",
       "129844      1      0     24    13      0      3      0  \n",
       "129845      1      0     21     7      0      1      0  \n",
       "\n",
       "[3 rows x 37 columns]"
      ]
     },
     "execution_count": 66,
     "metadata": {},
     "output_type": "execute_result"
    }
   ],
   "source": [
    "away_team_game.tail(3)"
   ]
  },
  {
   "cell_type": "code",
   "execution_count": 67,
   "metadata": {},
   "outputs": [],
   "source": [
    "# concatenate these dataframes\n",
    "team_game = pd.concat([home_team_game, away_team_game])"
   ]
  },
  {
   "cell_type": "code",
   "execution_count": 68,
   "metadata": {},
   "outputs": [
    {
     "data": {
      "text/html": [
       "<div>\n",
       "<style scoped>\n",
       "    .dataframe tbody tr th:only-of-type {\n",
       "        vertical-align: middle;\n",
       "    }\n",
       "\n",
       "    .dataframe tbody tr th {\n",
       "        vertical-align: top;\n",
       "    }\n",
       "\n",
       "    .dataframe thead th {\n",
       "        text-align: right;\n",
       "    }\n",
       "</style>\n",
       "<table border=\"1\" class=\"dataframe\">\n",
       "  <thead>\n",
       "    <tr style=\"text-align: right;\">\n",
       "      <th></th>\n",
       "      <th>game_id</th>\n",
       "      <th>home</th>\n",
       "      <th>team_id</th>\n",
       "      <th>start_pit_id</th>\n",
       "      <th>score_ct</th>\n",
       "      <th>hits_ct</th>\n",
       "      <th>err_ct</th>\n",
       "      <th>lob_ct</th>\n",
       "      <th>finish_pit_id</th>\n",
       "      <th>team_league_id</th>\n",
       "      <th>...</th>\n",
       "      <th>pitcher_ct</th>\n",
       "      <th>er_ct</th>\n",
       "      <th>ter_ct</th>\n",
       "      <th>wp_ct</th>\n",
       "      <th>bk_ct</th>\n",
       "      <th>po_ct</th>\n",
       "      <th>a_ct</th>\n",
       "      <th>pb_ct</th>\n",
       "      <th>dp_ct</th>\n",
       "      <th>tp_ct</th>\n",
       "    </tr>\n",
       "  </thead>\n",
       "  <tbody>\n",
       "    <tr>\n",
       "      <th>129845</th>\n",
       "      <td>WAS201809260</td>\n",
       "      <td>True</td>\n",
       "      <td>WAS</td>\n",
       "      <td>mcgok002</td>\n",
       "      <td>9</td>\n",
       "      <td>12</td>\n",
       "      <td>0</td>\n",
       "      <td>8</td>\n",
       "      <td>glovk001</td>\n",
       "      <td>N</td>\n",
       "      <td>...</td>\n",
       "      <td>5</td>\n",
       "      <td>3</td>\n",
       "      <td>3</td>\n",
       "      <td>0</td>\n",
       "      <td>0</td>\n",
       "      <td>21</td>\n",
       "      <td>6</td>\n",
       "      <td>0</td>\n",
       "      <td>0</td>\n",
       "      <td>0</td>\n",
       "    </tr>\n",
       "    <tr>\n",
       "      <th>129845</th>\n",
       "      <td>WAS201809260</td>\n",
       "      <td>False</td>\n",
       "      <td>MIA</td>\n",
       "      <td>chenw001</td>\n",
       "      <td>3</td>\n",
       "      <td>5</td>\n",
       "      <td>1</td>\n",
       "      <td>6</td>\n",
       "      <td>herne002</td>\n",
       "      <td>N</td>\n",
       "      <td>...</td>\n",
       "      <td>4</td>\n",
       "      <td>8</td>\n",
       "      <td>8</td>\n",
       "      <td>1</td>\n",
       "      <td>0</td>\n",
       "      <td>21</td>\n",
       "      <td>7</td>\n",
       "      <td>0</td>\n",
       "      <td>1</td>\n",
       "      <td>0</td>\n",
       "    </tr>\n",
       "  </tbody>\n",
       "</table>\n",
       "<p>2 rows × 37 columns</p>\n",
       "</div>"
      ],
      "text/plain": [
       "             game_id   home team_id start_pit_id  score_ct  hits_ct  err_ct  \\\n",
       "129845  WAS201809260   True     WAS     mcgok002         9       12       0   \n",
       "129845  WAS201809260  False     MIA     chenw001         3        5       1   \n",
       "\n",
       "        lob_ct finish_pit_id team_league_id  ...  pitcher_ct er_ct  ter_ct  \\\n",
       "129845       8      glovk001              N  ...           5     3       3   \n",
       "129845       6      herne002              N  ...           4     8       8   \n",
       "\n",
       "        wp_ct  bk_ct  po_ct  a_ct  pb_ct  dp_ct  tp_ct  \n",
       "129845      0      0     21     6      0      0      0  \n",
       "129845      1      0     21     7      0      1      0  \n",
       "\n",
       "[2 rows x 37 columns]"
      ]
     },
     "execution_count": 68,
     "metadata": {},
     "output_type": "execute_result"
    }
   ],
   "source": [
    "# view a game\n",
    "team_game[team_game['game_id'] == 'WAS201809260']"
   ]
  },
  {
   "cell_type": "code",
   "execution_count": 69,
   "metadata": {},
   "outputs": [
    {
     "data": {
      "text/plain": [
       "{'score_ct': 'score',\n",
       " 'hits_ct': 'hits',\n",
       " 'err_ct': 'err',\n",
       " 'lob_ct': 'lob',\n",
       " 'team_game_ct': 'team_game',\n",
       " 'ab_ct': 'ab',\n",
       " '2b_ct': '2b',\n",
       " '3b_ct': '3b',\n",
       " 'hr_ct': 'hr',\n",
       " 'bi_ct': 'bi',\n",
       " 'sh_ct': 'sh',\n",
       " 'sf_ct': 'sf',\n",
       " 'hp_ct': 'hp',\n",
       " 'bb_ct': 'bb',\n",
       " 'ibb_ct': 'ibb',\n",
       " 'so_ct': 'so',\n",
       " 'sb_ct': 'sb',\n",
       " 'cs_ct': 'cs',\n",
       " 'gdp_ct': 'gdp',\n",
       " 'xi_ct': 'xi',\n",
       " 'pitcher_ct': 'pitcher',\n",
       " 'er_ct': 'er',\n",
       " 'ter_ct': 'ter',\n",
       " 'wp_ct': 'wp',\n",
       " 'bk_ct': 'bk',\n",
       " 'po_ct': 'po',\n",
       " 'a_ct': 'a',\n",
       " 'pb_ct': 'pb',\n",
       " 'dp_ct': 'dp',\n",
       " 'tp_ct': 'tp'}"
      ]
     },
     "execution_count": 69,
     "metadata": {},
     "output_type": "execute_result"
    }
   ],
   "source": [
    "# improve column names\n",
    "names = {col:col.replace('_ct','') for col in team_game.columns if col.endswith('_ct')}\n",
    "names"
   ]
  },
  {
   "cell_type": "code",
   "execution_count": 154,
   "metadata": {},
   "outputs": [
    {
     "data": {
      "text/plain": [
       "Index(['game_id', 'game_date', 'year_id', 'team_id', 'team_id_lahman', 'home',\n",
       "       'start_pit_id', 'score', 'hits', 'f_e', 'lob', 'finish_pit_id',\n",
       "       'team_league_id', 'line_tx', 'b_ab', 'b_2b', 'b_3b', 'b_hr', 'bi',\n",
       "       'b_sh', 'b_sf', 'b_hp', 'b_bb', 'b_ibb', 'b_so', 'b_sb', 'b_cs',\n",
       "       'b_dpg', 'b_xi', 'pitcher', 'p_er', 'p_ter', 'p_wp', 'p_bk', 'f_po',\n",
       "       'f_a', 'pb', 'dp', 'tp'],\n",
       "      dtype='object')"
      ]
     },
     "execution_count": 154,
     "metadata": {},
     "output_type": "execute_result"
    }
   ],
   "source": [
    "team_game = team_game.rename(columns=names)\n",
    "team_game.columns"
   ]
  },
  {
   "cell_type": "code",
   "execution_count": 155,
   "metadata": {},
   "outputs": [],
   "source": [
    "names2 = {'score':'b_r', 'hits':'b_h', 'ab':'b_ab', '2b':'b_2b', '3b':'b_3b', 'hr':'b_hr', 'sh':'b_sh',\n",
    "         'sf':'b_sf', 'hp':'b_hp', 'bb':'b_bb', 'ibb':'b_ibb', 'so':'b_so',\n",
    "         'sb':'b_sb', 'cs':'b_cs', 'gdp':'b_dpg', 'xi':'b_xi', 'er':'p_er',\n",
    "         'ter':'p_ter','wp':'p_wp', 'bk':'p_bk','err':'f_e', 'po':'f_po',\n",
    "         'a':'f_a'}"
   ]
  },
  {
   "cell_type": "code",
   "execution_count": 156,
   "metadata": {},
   "outputs": [
    {
     "data": {
      "text/plain": [
       "Index(['game_id', 'game_date', 'year_id', 'team_id', 'team_id_lahman', 'home',\n",
       "       'start_pit_id', 'b_r', 'b_h', 'f_e', 'lob', 'finish_pit_id',\n",
       "       'team_league_id', 'line_tx', 'b_ab', 'b_2b', 'b_3b', 'b_hr', 'bi',\n",
       "       'b_sh', 'b_sf', 'b_hp', 'b_bb', 'b_ibb', 'b_so', 'b_sb', 'b_cs',\n",
       "       'b_dpg', 'b_xi', 'pitcher', 'p_er', 'p_ter', 'p_wp', 'p_bk', 'f_po',\n",
       "       'f_a', 'pb', 'dp', 'tp'],\n",
       "      dtype='object')"
      ]
     },
     "execution_count": 156,
     "metadata": {},
     "output_type": "execute_result"
    }
   ],
   "source": [
    "team_game = team_game.rename(columns=names2)\n",
    "team_game.columns"
   ]
  },
  {
   "cell_type": "code",
   "execution_count": 157,
   "metadata": {},
   "outputs": [
    {
     "data": {
      "text/plain": [
       "game_id           0.000000\n",
       "game_date         0.000000\n",
       "year_id           0.000000\n",
       "team_id           0.000000\n",
       "team_id_lahman    0.000000\n",
       "home              0.000000\n",
       "start_pit_id      0.000000\n",
       "b_r               0.000000\n",
       "b_h               0.000000\n",
       "f_e               0.000000\n",
       "lob               0.000000\n",
       "finish_pit_id     0.130836\n",
       "team_league_id    0.000000\n",
       "line_tx           0.000000\n",
       "b_ab              0.000000\n",
       "b_2b              0.000000\n",
       "b_3b              0.000000\n",
       "b_hr              0.000000\n",
       "bi                0.000000\n",
       "b_sh              0.000000\n",
       "b_sf              0.000000\n",
       "b_hp              0.000000\n",
       "b_bb              0.000000\n",
       "b_ibb             0.000000\n",
       "b_so              0.000000\n",
       "b_sb              0.000000\n",
       "b_cs              0.000000\n",
       "b_dpg             0.000000\n",
       "b_xi              0.000000\n",
       "pitcher           0.000000\n",
       "p_er              0.000000\n",
       "p_ter             0.000000\n",
       "p_wp              0.000000\n",
       "p_bk              0.000000\n",
       "f_po              0.000000\n",
       "f_a               0.000000\n",
       "pb                0.000000\n",
       "dp                0.000000\n",
       "tp                0.000000\n",
       "dtype: float64"
      ]
     },
     "execution_count": 157,
     "metadata": {},
     "output_type": "execute_result"
    }
   ],
   "source": [
    "team_game.isna().mean()"
   ]
  },
  {
   "cell_type": "code",
   "execution_count": 158,
   "metadata": {},
   "outputs": [
    {
     "ename": "KeyError",
     "evalue": "\"['team_game'] not found in axis\"",
     "output_type": "error",
     "traceback": [
      "\u001b[0;31m---------------------------------------------------------------------------\u001b[0m",
      "\u001b[0;31mKeyError\u001b[0m                                  Traceback (most recent call last)",
      "\u001b[0;32m<ipython-input-158-8119eebe3847>\u001b[0m in \u001b[0;36m<module>\u001b[0;34m\u001b[0m\n\u001b[1;32m      1\u001b[0m \u001b[0;31m# team_game is 100% null, drop it\u001b[0m\u001b[0;34m\u001b[0m\u001b[0;34m\u001b[0m\u001b[0;34m\u001b[0m\u001b[0m\n\u001b[0;32m----> 2\u001b[0;31m \u001b[0mteam_game\u001b[0m \u001b[0;34m=\u001b[0m \u001b[0mteam_game\u001b[0m\u001b[0;34m.\u001b[0m\u001b[0mdrop\u001b[0m\u001b[0;34m(\u001b[0m\u001b[0;34m'team_game'\u001b[0m\u001b[0;34m,\u001b[0m \u001b[0maxis\u001b[0m\u001b[0;34m=\u001b[0m\u001b[0;36m1\u001b[0m\u001b[0;34m)\u001b[0m\u001b[0;34m\u001b[0m\u001b[0;34m\u001b[0m\u001b[0m\n\u001b[0m",
      "\u001b[0;32m~/anaconda3/envs/ml/lib/python3.7/site-packages/pandas/core/frame.py\u001b[0m in \u001b[0;36mdrop\u001b[0;34m(self, labels, axis, index, columns, level, inplace, errors)\u001b[0m\n\u001b[1;32m   3938\u001b[0m                                            \u001b[0mindex\u001b[0m\u001b[0;34m=\u001b[0m\u001b[0mindex\u001b[0m\u001b[0;34m,\u001b[0m \u001b[0mcolumns\u001b[0m\u001b[0;34m=\u001b[0m\u001b[0mcolumns\u001b[0m\u001b[0;34m,\u001b[0m\u001b[0;34m\u001b[0m\u001b[0;34m\u001b[0m\u001b[0m\n\u001b[1;32m   3939\u001b[0m                                            \u001b[0mlevel\u001b[0m\u001b[0;34m=\u001b[0m\u001b[0mlevel\u001b[0m\u001b[0;34m,\u001b[0m \u001b[0minplace\u001b[0m\u001b[0;34m=\u001b[0m\u001b[0minplace\u001b[0m\u001b[0;34m,\u001b[0m\u001b[0;34m\u001b[0m\u001b[0;34m\u001b[0m\u001b[0m\n\u001b[0;32m-> 3940\u001b[0;31m                                            errors=errors)\n\u001b[0m\u001b[1;32m   3941\u001b[0m \u001b[0;34m\u001b[0m\u001b[0m\n\u001b[1;32m   3942\u001b[0m     @rewrite_axis_style_signature('mapper', [('copy', True),\n",
      "\u001b[0;32m~/anaconda3/envs/ml/lib/python3.7/site-packages/pandas/core/generic.py\u001b[0m in \u001b[0;36mdrop\u001b[0;34m(self, labels, axis, index, columns, level, inplace, errors)\u001b[0m\n\u001b[1;32m   3778\u001b[0m         \u001b[0;32mfor\u001b[0m \u001b[0maxis\u001b[0m\u001b[0;34m,\u001b[0m \u001b[0mlabels\u001b[0m \u001b[0;32min\u001b[0m \u001b[0maxes\u001b[0m\u001b[0;34m.\u001b[0m\u001b[0mitems\u001b[0m\u001b[0;34m(\u001b[0m\u001b[0;34m)\u001b[0m\u001b[0;34m:\u001b[0m\u001b[0;34m\u001b[0m\u001b[0;34m\u001b[0m\u001b[0m\n\u001b[1;32m   3779\u001b[0m             \u001b[0;32mif\u001b[0m \u001b[0mlabels\u001b[0m \u001b[0;32mis\u001b[0m \u001b[0;32mnot\u001b[0m \u001b[0;32mNone\u001b[0m\u001b[0;34m:\u001b[0m\u001b[0;34m\u001b[0m\u001b[0;34m\u001b[0m\u001b[0m\n\u001b[0;32m-> 3780\u001b[0;31m                 \u001b[0mobj\u001b[0m \u001b[0;34m=\u001b[0m \u001b[0mobj\u001b[0m\u001b[0;34m.\u001b[0m\u001b[0m_drop_axis\u001b[0m\u001b[0;34m(\u001b[0m\u001b[0mlabels\u001b[0m\u001b[0;34m,\u001b[0m \u001b[0maxis\u001b[0m\u001b[0;34m,\u001b[0m \u001b[0mlevel\u001b[0m\u001b[0;34m=\u001b[0m\u001b[0mlevel\u001b[0m\u001b[0;34m,\u001b[0m \u001b[0merrors\u001b[0m\u001b[0;34m=\u001b[0m\u001b[0merrors\u001b[0m\u001b[0;34m)\u001b[0m\u001b[0;34m\u001b[0m\u001b[0;34m\u001b[0m\u001b[0m\n\u001b[0m\u001b[1;32m   3781\u001b[0m \u001b[0;34m\u001b[0m\u001b[0m\n\u001b[1;32m   3782\u001b[0m         \u001b[0;32mif\u001b[0m \u001b[0minplace\u001b[0m\u001b[0;34m:\u001b[0m\u001b[0;34m\u001b[0m\u001b[0;34m\u001b[0m\u001b[0m\n",
      "\u001b[0;32m~/anaconda3/envs/ml/lib/python3.7/site-packages/pandas/core/generic.py\u001b[0m in \u001b[0;36m_drop_axis\u001b[0;34m(self, labels, axis, level, errors)\u001b[0m\n\u001b[1;32m   3810\u001b[0m                 \u001b[0mnew_axis\u001b[0m \u001b[0;34m=\u001b[0m \u001b[0maxis\u001b[0m\u001b[0;34m.\u001b[0m\u001b[0mdrop\u001b[0m\u001b[0;34m(\u001b[0m\u001b[0mlabels\u001b[0m\u001b[0;34m,\u001b[0m \u001b[0mlevel\u001b[0m\u001b[0;34m=\u001b[0m\u001b[0mlevel\u001b[0m\u001b[0;34m,\u001b[0m \u001b[0merrors\u001b[0m\u001b[0;34m=\u001b[0m\u001b[0merrors\u001b[0m\u001b[0;34m)\u001b[0m\u001b[0;34m\u001b[0m\u001b[0;34m\u001b[0m\u001b[0m\n\u001b[1;32m   3811\u001b[0m             \u001b[0;32melse\u001b[0m\u001b[0;34m:\u001b[0m\u001b[0;34m\u001b[0m\u001b[0;34m\u001b[0m\u001b[0m\n\u001b[0;32m-> 3812\u001b[0;31m                 \u001b[0mnew_axis\u001b[0m \u001b[0;34m=\u001b[0m \u001b[0maxis\u001b[0m\u001b[0;34m.\u001b[0m\u001b[0mdrop\u001b[0m\u001b[0;34m(\u001b[0m\u001b[0mlabels\u001b[0m\u001b[0;34m,\u001b[0m \u001b[0merrors\u001b[0m\u001b[0;34m=\u001b[0m\u001b[0merrors\u001b[0m\u001b[0;34m)\u001b[0m\u001b[0;34m\u001b[0m\u001b[0;34m\u001b[0m\u001b[0m\n\u001b[0m\u001b[1;32m   3813\u001b[0m             \u001b[0mresult\u001b[0m \u001b[0;34m=\u001b[0m \u001b[0mself\u001b[0m\u001b[0;34m.\u001b[0m\u001b[0mreindex\u001b[0m\u001b[0;34m(\u001b[0m\u001b[0;34m**\u001b[0m\u001b[0;34m{\u001b[0m\u001b[0maxis_name\u001b[0m\u001b[0;34m:\u001b[0m \u001b[0mnew_axis\u001b[0m\u001b[0;34m}\u001b[0m\u001b[0;34m)\u001b[0m\u001b[0;34m\u001b[0m\u001b[0;34m\u001b[0m\u001b[0m\n\u001b[1;32m   3814\u001b[0m \u001b[0;34m\u001b[0m\u001b[0m\n",
      "\u001b[0;32m~/anaconda3/envs/ml/lib/python3.7/site-packages/pandas/core/indexes/base.py\u001b[0m in \u001b[0;36mdrop\u001b[0;34m(self, labels, errors)\u001b[0m\n\u001b[1;32m   4962\u001b[0m             \u001b[0;32mif\u001b[0m \u001b[0merrors\u001b[0m \u001b[0;34m!=\u001b[0m \u001b[0;34m'ignore'\u001b[0m\u001b[0;34m:\u001b[0m\u001b[0;34m\u001b[0m\u001b[0;34m\u001b[0m\u001b[0m\n\u001b[1;32m   4963\u001b[0m                 raise KeyError(\n\u001b[0;32m-> 4964\u001b[0;31m                     '{} not found in axis'.format(labels[mask]))\n\u001b[0m\u001b[1;32m   4965\u001b[0m             \u001b[0mindexer\u001b[0m \u001b[0;34m=\u001b[0m \u001b[0mindexer\u001b[0m\u001b[0;34m[\u001b[0m\u001b[0;34m~\u001b[0m\u001b[0mmask\u001b[0m\u001b[0;34m]\u001b[0m\u001b[0;34m\u001b[0m\u001b[0;34m\u001b[0m\u001b[0m\n\u001b[1;32m   4966\u001b[0m         \u001b[0;32mreturn\u001b[0m \u001b[0mself\u001b[0m\u001b[0;34m.\u001b[0m\u001b[0mdelete\u001b[0m\u001b[0;34m(\u001b[0m\u001b[0mindexer\u001b[0m\u001b[0;34m)\u001b[0m\u001b[0;34m\u001b[0m\u001b[0;34m\u001b[0m\u001b[0m\n",
      "\u001b[0;31mKeyError\u001b[0m: \"['team_game'] not found in axis\""
     ]
    }
   ],
   "source": [
    "# team_game is 100% null, drop it\n",
    "team_game = team_game.drop('team_game', axis=1)"
   ]
  },
  {
   "cell_type": "code",
   "execution_count": 159,
   "metadata": {},
   "outputs": [
    {
     "data": {
      "text/plain": [
       "True"
      ]
     },
     "execution_count": 159,
     "metadata": {},
     "output_type": "execute_result"
    }
   ],
   "source": [
    "# game_id, home is unique\n",
    "bb.is_unique(team_game, ['game_id', 'home'])"
   ]
  },
  {
   "cell_type": "code",
   "execution_count": 160,
   "metadata": {},
   "outputs": [
    {
     "data": {
      "text/plain": [
       "True"
      ]
     },
     "execution_count": 160,
     "metadata": {},
     "output_type": "execute_result"
    }
   ],
   "source": [
    "# game_id, team_id is unique\n",
    "bb.is_unique(team_game, ['game_id', 'team_id'])"
   ]
  },
  {
   "cell_type": "markdown",
   "metadata": {},
   "source": [
    "### Create pd.datetime from game_dt and start_game_tm\n",
    "\n",
    "Here is the relevant information.\n",
    "1. am/pm is not specified.\n",
    "2. The time is not in 24-hour format.\n",
    "3. The game_dt and start_game_tm are represented as integers.\n",
    "4. A start_game_time value of zero means the start time is unknown.\n",
    "5. The daynight_park_cd is never missing.  It is usually, but not always, correct.  This specifies whether the game is a \"day game\" or a \"night game\".\n",
    "6. MLB domain knowledge: Some games may start late, due to a rain delay for example, but games never start after midnight.\n",
    "7. MLB domain knowledge: Some games may start early, to allow for travel to the next city, but games never start before 9 am.\n",
    "\n",
    "Given the above, am/pm can be deduced as follows:\n",
    "* start_game_tm == 0 => use midnight (to represent unknown time)\n",
    "* start_game_tm >= 1200 => pm\n",
    "* start_game_tm < 900 => pm\n",
    "* 900 <= start_game_tm < 1200, and day/night = day, => am\n",
    "* 900 <= start_game_tm < 1200, and day/night = night, => pm"
   ]
  },
  {
   "cell_type": "code",
   "execution_count": 75,
   "metadata": {},
   "outputs": [],
   "source": [
    "def parse_datetime(row):\n",
    "    date = row['game_dt']\n",
    "    time = row['start_game_tm']\n",
    "    day_night = row['daynight_park_cd']\n",
    "    \n",
    "    if time > 0 and time < 900:\n",
    "        time += 1200\n",
    "    elif (900 <= time < 1200) and day_night == 'N':\n",
    "        time += 1200\n",
    "\n",
    "    time_str = f'{time//100:02d}:{time%100:02d}'\n",
    "    datetime_str = str(date) + ' ' + time_str\n",
    "    return pd.to_datetime(datetime_str, format='%Y%m%d %H:%M')"
   ]
  },
  {
   "cell_type": "code",
   "execution_count": 76,
   "metadata": {},
   "outputs": [],
   "source": [
    "# create new datetime column\n",
    "game_tidy['game_date'] = game_tidy.apply(parse_datetime, axis=1)"
   ]
  },
  {
   "cell_type": "code",
   "execution_count": 77,
   "metadata": {},
   "outputs": [],
   "source": [
    "# these are no longer necessary\n",
    "game_tidy = game_tidy.drop(['game_dt', 'game_dy', 'start_game_tm'], axis=1)"
   ]
  },
  {
   "cell_type": "code",
   "execution_count": 78,
   "metadata": {},
   "outputs": [
    {
     "data": {
      "text/plain": [
       "Index(['game_id', 'game_ct', 'dh_fl', 'daynight_park_cd', 'park_id',\n",
       "       'base4_ump_id', 'base1_ump_id', 'base2_ump_id', 'base3_ump_id',\n",
       "       'lf_ump_id', 'rf_ump_id', 'attend_park_ct', 'scorer_record_id',\n",
       "       'translator_record_id', 'inputter_record_id', 'input_record_ts',\n",
       "       'edit_record_ts', 'method_record_cd', 'pitches_record_cd',\n",
       "       'temp_park_ct', 'wind_direction_park_cd', 'wind_speed_park_ct',\n",
       "       'field_park_cd', 'precip_park_cd', 'sky_park_cd', 'minutes_game_ct',\n",
       "       'inn_ct', 'win_pit_id', 'lose_pit_id', 'save_pit_id', 'gwrbi_bat_id',\n",
       "       'outs_ct', 'completion_tx', 'forfeit_tx', 'protest_tx', 'game_date'],\n",
       "      dtype='object')"
      ]
     },
     "execution_count": 78,
     "metadata": {},
     "output_type": "execute_result"
    }
   ],
   "source": [
    "game_tidy.columns"
   ]
  },
  {
   "cell_type": "markdown",
   "metadata": {},
   "source": [
    "### Remove Fields Not Used in (Later) Analysis"
   ]
  },
  {
   "cell_type": "code",
   "execution_count": 79,
   "metadata": {},
   "outputs": [
    {
     "data": {
      "text/plain": [
       "['base4_ump_id',\n",
       " 'base1_ump_id',\n",
       " 'base2_ump_id',\n",
       " 'base3_ump_id',\n",
       " 'lf_ump_id',\n",
       " 'rf_ump_id']"
      ]
     },
     "execution_count": 79,
     "metadata": {},
     "output_type": "execute_result"
    }
   ],
   "source": [
    "ump_cols = [col for col in game_tidy.columns if 'ump' in col]\n",
    "ump_cols"
   ]
  },
  {
   "cell_type": "code",
   "execution_count": 80,
   "metadata": {},
   "outputs": [
    {
     "data": {
      "text/plain": [
       "['scorer_record_id',\n",
       " 'translator_record_id',\n",
       " 'inputter_record_id',\n",
       " 'input_record_ts',\n",
       " 'edit_record_ts',\n",
       " 'method_record_cd',\n",
       " 'pitches_record_cd']"
      ]
     },
     "execution_count": 80,
     "metadata": {},
     "output_type": "execute_result"
    }
   ],
   "source": [
    "record_cols = [col for col in game_tidy.columns if 'record' in col]\n",
    "record_cols"
   ]
  },
  {
   "cell_type": "code",
   "execution_count": 81,
   "metadata": {},
   "outputs": [
    {
     "data": {
      "text/plain": [
       "['completion_tx', 'forfeit_tx', 'protest_tx']"
      ]
     },
     "execution_count": 81,
     "metadata": {},
     "output_type": "execute_result"
    }
   ],
   "source": [
    "tx_cols = [col for col in game_tidy.columns if 'tx' in col]\n",
    "tx_cols"
   ]
  },
  {
   "cell_type": "code",
   "execution_count": 82,
   "metadata": {},
   "outputs": [],
   "source": [
    "# these columns will not be used in the analysis\n",
    "drop_cols = ump_cols + record_cols + tx_cols\n",
    "game_tidy = game_tidy.drop(drop_cols, axis=1)"
   ]
  },
  {
   "cell_type": "code",
   "execution_count": 83,
   "metadata": {},
   "outputs": [
    {
     "data": {
      "text/plain": [
       "Index(['game_id', 'game_ct', 'dh_fl', 'daynight_park_cd', 'park_id',\n",
       "       'attend_park_ct', 'temp_park_ct', 'wind_direction_park_cd',\n",
       "       'wind_speed_park_ct', 'field_park_cd', 'precip_park_cd', 'sky_park_cd',\n",
       "       'minutes_game_ct', 'inn_ct', 'win_pit_id', 'lose_pit_id', 'save_pit_id',\n",
       "       'gwrbi_bat_id', 'outs_ct', 'game_date'],\n",
       "      dtype='object')"
      ]
     },
     "execution_count": 83,
     "metadata": {},
     "output_type": "execute_result"
    }
   ],
   "source": [
    "game_tidy.columns"
   ]
  },
  {
   "cell_type": "markdown",
   "metadata": {},
   "source": [
    "### Examine Park Fields\n",
    "See: http://chadwick.sourceforge.net/doc/cwgame.html"
   ]
  },
  {
   "cell_type": "code",
   "execution_count": 84,
   "metadata": {},
   "outputs": [
    {
     "data": {
      "text/plain": [
       "['daynight_park_cd',\n",
       " 'park_id',\n",
       " 'attend_park_ct',\n",
       " 'temp_park_ct',\n",
       " 'wind_direction_park_cd',\n",
       " 'wind_speed_park_ct',\n",
       " 'field_park_cd',\n",
       " 'precip_park_cd',\n",
       " 'sky_park_cd']"
      ]
     },
     "execution_count": 84,
     "metadata": {},
     "output_type": "execute_result"
    }
   ],
   "source": [
    "park_fields = [col for col in game_tidy.columns if 'park' in col]\n",
    "park_fields"
   ]
  },
  {
   "cell_type": "code",
   "execution_count": 85,
   "metadata": {},
   "outputs": [
    {
     "data": {
      "text/plain": [
       "daynight_park_cd              2\n",
       "park_id                      79\n",
       "attend_park_ct            44892\n",
       "temp_park_ct                 90\n",
       "wind_direction_park_cd        9\n",
       "wind_speed_park_ct           51\n",
       "field_park_cd                 5\n",
       "precip_park_cd                6\n",
       "sky_park_cd                   6\n",
       "dtype: int64"
      ]
     },
     "execution_count": 85,
     "metadata": {},
     "output_type": "execute_result"
    }
   ],
   "source": [
    "park = game_tidy[park_fields].copy()\n",
    "park.nunique()"
   ]
  },
  {
   "cell_type": "code",
   "execution_count": 86,
   "metadata": {},
   "outputs": [
    {
     "data": {
      "text/plain": [
       "daynight_park_cd          0\n",
       "park_id                   0\n",
       "attend_park_ct            0\n",
       "temp_park_ct              0\n",
       "wind_direction_park_cd    0\n",
       "wind_speed_park_ct        0\n",
       "field_park_cd             0\n",
       "precip_park_cd            0\n",
       "sky_park_cd               0\n",
       "dtype: int64"
      ]
     },
     "execution_count": 86,
     "metadata": {},
     "output_type": "execute_result"
    }
   ],
   "source": [
    "# no nulls as np.nan\n",
    "park.isna().sum()"
   ]
  },
  {
   "cell_type": "code",
   "execution_count": 87,
   "metadata": {},
   "outputs": [
    {
     "data": {
      "text/plain": [
       "N    83738\n",
       "D    46108\n",
       "Name: daynight_park_cd, dtype: int64"
      ]
     },
     "execution_count": 87,
     "metadata": {},
     "output_type": "execute_result"
    }
   ],
   "source": [
    "# Day or Night Game\n",
    "park['daynight_park_cd'].value_counts()"
   ]
  },
  {
   "cell_type": "code",
   "execution_count": 88,
   "metadata": {},
   "outputs": [
    {
     "data": {
      "text/plain": [
       "CHI11    5101\n",
       "BOS07    5097\n",
       "LOS03    4877\n",
       "Name: park_id, dtype: int64"
      ]
     },
     "execution_count": 88,
     "metadata": {},
     "output_type": "execute_result"
    }
   ],
   "source": [
    "# park id for Park table below\n",
    "park['park_id'].value_counts().head(3)"
   ]
  },
  {
   "cell_type": "code",
   "execution_count": 89,
   "metadata": {},
   "outputs": [
    {
     "data": {
      "text/plain": [
       "-1         1\n",
       " 0      5009\n",
       " 306       1\n",
       " 365       1\n",
       " 409       1\n",
       "Name: attend_park_ct, dtype: int64"
      ]
     },
     "execution_count": 89,
     "metadata": {},
     "output_type": "execute_result"
    }
   ],
   "source": [
    "# attendance\n",
    "park['attend_park_ct'].value_counts().sort_index().head()"
   ]
  },
  {
   "cell_type": "code",
   "execution_count": 90,
   "metadata": {},
   "outputs": [],
   "source": [
    "# attendance can never be 0 or -1, make these na\n",
    "park['attend_park_ct'] = park['attend_park_ct'].replace([0, -1], np.nan)"
   ]
  },
  {
   "cell_type": "code",
   "execution_count": 91,
   "metadata": {},
   "outputs": [
    {
     "data": {
      "text/plain": [
       "306.0    1\n",
       "365.0    1\n",
       "409.0    1\n",
       "413.0    1\n",
       "461.0    1\n",
       "Name: attend_park_ct, dtype: int64"
      ]
     },
     "execution_count": 91,
     "metadata": {},
     "output_type": "execute_result"
    }
   ],
   "source": [
    "# attendance\n",
    "park['attend_park_ct'].value_counts().sort_index().head()"
   ]
  },
  {
   "cell_type": "code",
   "execution_count": 92,
   "metadata": {},
   "outputs": [
    {
     "data": {
      "text/html": [
       "<a href=\"https://www.baseball-reference.com/boxes/BAL/BAL201504290.shtml\">BAL201504290</a>"
      ],
      "text/plain": [
       "<IPython.core.display.HTML object>"
      ]
     },
     "metadata": {},
     "output_type": "display_data"
    }
   ],
   "source": [
    "# note: there was one baseball game in which the public was not allowed to attend\n",
    "# this is arguably null, as people wanted to attend, but could not\n",
    "# click on the following generated link to read about it\n",
    "bb.game_id_to_url('BAL201504290')"
   ]
  },
  {
   "cell_type": "code",
   "execution_count": 93,
   "metadata": {},
   "outputs": [
    {
     "data": {
      "text/plain": [
       "-1        85\n",
       " 0     49108\n",
       " 12        1\n",
       " 14        1\n",
       " 19        1\n",
       "Name: temp_park_ct, dtype: int64"
      ]
     },
     "execution_count": 93,
     "metadata": {},
     "output_type": "execute_result"
    }
   ],
   "source": [
    "park['temp_park_ct'].value_counts().sort_index().head()"
   ]
  },
  {
   "cell_type": "code",
   "execution_count": 94,
   "metadata": {},
   "outputs": [],
   "source": [
    "# temperature can never be 0 or -1 F, for an MLB game\n",
    "park['temp_park_ct'] = park['temp_park_ct'].replace([0, -1], np.nan)"
   ]
  },
  {
   "cell_type": "code",
   "execution_count": 95,
   "metadata": {},
   "outputs": [
    {
     "data": {
      "text/plain": [
       "12.0    1\n",
       "14.0    1\n",
       "19.0    1\n",
       "20.0    1\n",
       "23.0    1\n",
       "Name: temp_park_ct, dtype: int64"
      ]
     },
     "execution_count": 95,
     "metadata": {},
     "output_type": "execute_result"
    }
   ],
   "source": [
    "park['temp_park_ct'].value_counts().sort_index().head()"
   ]
  },
  {
   "cell_type": "code",
   "execution_count": 96,
   "metadata": {},
   "outputs": [
    {
     "data": {
      "text/plain": [
       "0    70961\n",
       "4    12609\n",
       "8    10184\n",
       "2     8586\n",
       "3     7509\n",
       "1     6816\n",
       "5     4907\n",
       "6     4637\n",
       "7     3637\n",
       "Name: wind_direction_park_cd, dtype: int64"
      ]
     },
     "execution_count": 96,
     "metadata": {},
     "output_type": "execute_result"
    }
   ],
   "source": [
    "park['wind_direction_park_cd'].value_counts()"
   ]
  },
  {
   "cell_type": "code",
   "execution_count": 97,
   "metadata": {},
   "outputs": [],
   "source": [
    "# http://chadwick.sourceforge.net/doc/cwgame.html#cwtools-cwgame-winddirection\n",
    "direction = {\n",
    "    0:'unknown',\n",
    "    1:'to_lf',\n",
    "    2:'to_cf',\n",
    "    3:'to_rf',\n",
    "    4:'l_to_r',\n",
    "    5:'from_lf',\n",
    "    6:'from_cf',\n",
    "    7:'from_rf',\n",
    "    8:'r_to_l'}"
   ]
  },
  {
   "cell_type": "code",
   "execution_count": 98,
   "metadata": {},
   "outputs": [
    {
     "data": {
      "text/plain": [
       "unknown    70961\n",
       "l_to_r     12609\n",
       "r_to_l     10184\n",
       "to_cf       8586\n",
       "to_rf       7509\n",
       "to_lf       6816\n",
       "from_lf     4907\n",
       "from_cf     4637\n",
       "from_rf     3637\n",
       "Name: wind_direction_park_cd, dtype: int64"
      ]
     },
     "execution_count": 98,
     "metadata": {},
     "output_type": "execute_result"
    }
   ],
   "source": [
    "park['wind_direction_park_cd'] = park['wind_direction_park_cd'].map(direction)\n",
    "park['wind_direction_park_cd'].value_counts()"
   ]
  },
  {
   "cell_type": "code",
   "execution_count": 99,
   "metadata": {},
   "outputs": [
    {
     "data": {
      "text/plain": [
       "NaN        70961\n",
       "l_to_r     12609\n",
       "r_to_l     10184\n",
       "to_cf       8586\n",
       "to_rf       7509\n",
       "to_lf       6816\n",
       "from_lf     4907\n",
       "from_cf     4637\n",
       "from_rf     3637\n",
       "Name: wind_direction_park_cd, dtype: int64"
      ]
     },
     "execution_count": 99,
     "metadata": {},
     "output_type": "execute_result"
    }
   ],
   "source": [
    "park['wind_direction_park_cd'] = park['wind_direction_park_cd'].replace('unknown', np.nan)\n",
    "park['wind_direction_park_cd'].value_counts(dropna=False)"
   ]
  },
  {
   "cell_type": "code",
   "execution_count": 100,
   "metadata": {},
   "outputs": [
    {
     "data": {
      "text/plain": [
       "-1    59819\n",
       " 0     9835\n",
       " 1      816\n",
       " 2     1690\n",
       " 3     2563\n",
       "Name: wind_speed_park_ct, dtype: int64"
      ]
     },
     "execution_count": 100,
     "metadata": {},
     "output_type": "execute_result"
    }
   ],
   "source": [
    "park['wind_speed_park_ct'].value_counts().sort_index().head()"
   ]
  },
  {
   "cell_type": "code",
   "execution_count": 101,
   "metadata": {},
   "outputs": [
    {
     "data": {
      "text/plain": [
       "59819"
      ]
     },
     "execution_count": 101,
     "metadata": {},
     "output_type": "execute_result"
    }
   ],
   "source": [
    "park['wind_speed_park_ct'] = park['wind_speed_park_ct'].replace(-1, np.nan)\n",
    "park['wind_speed_park_ct'].isna().sum()"
   ]
  },
  {
   "cell_type": "code",
   "execution_count": 102,
   "metadata": {},
   "outputs": [
    {
     "data": {
      "text/plain": [
       "0.0    9835\n",
       "1.0     816\n",
       "2.0    1690\n",
       "3.0    2563\n",
       "4.0    2293\n",
       "Name: wind_speed_park_ct, dtype: int64"
      ]
     },
     "execution_count": 102,
     "metadata": {},
     "output_type": "execute_result"
    }
   ],
   "source": [
    "park['wind_speed_park_ct'].value_counts().sort_index().head()"
   ]
  },
  {
   "cell_type": "code",
   "execution_count": 103,
   "metadata": {},
   "outputs": [],
   "source": [
    "# http://chadwick.sourceforge.net/doc/cwgame.html#cwtools-cwgame-fieldcondition\n",
    "condition = {\n",
    "    0:'unknown',\n",
    "    1:'soaked',\n",
    "    2:'wet',\n",
    "    3:'damp',\n",
    "    4:'dry'}"
   ]
  },
  {
   "cell_type": "code",
   "execution_count": 104,
   "metadata": {},
   "outputs": [
    {
     "data": {
      "text/plain": [
       "unknown    103217\n",
       "dry         23367\n",
       "wet          2470\n",
       "damp          529\n",
       "soaked        263\n",
       "Name: field_park_cd, dtype: int64"
      ]
     },
     "execution_count": 104,
     "metadata": {},
     "output_type": "execute_result"
    }
   ],
   "source": [
    "park['field_park_cd'] = park['field_park_cd'].map(condition)\n",
    "park['field_park_cd'].value_counts()"
   ]
  },
  {
   "cell_type": "code",
   "execution_count": 105,
   "metadata": {},
   "outputs": [
    {
     "data": {
      "text/plain": [
       "NaN       103217\n",
       "dry        23367\n",
       "wet         2470\n",
       "damp         529\n",
       "soaked       263\n",
       "Name: field_park_cd, dtype: int64"
      ]
     },
     "execution_count": 105,
     "metadata": {},
     "output_type": "execute_result"
    }
   ],
   "source": [
    "park['field_park_cd'] = park['field_park_cd'].replace('unknown', np.nan)\n",
    "park['field_park_cd'].value_counts(dropna=False)"
   ]
  },
  {
   "cell_type": "code",
   "execution_count": 106,
   "metadata": {},
   "outputs": [],
   "source": [
    "# http://chadwick.sourceforge.net/doc/cwgame.html#cwtools-cwgame-precipitation\n",
    "precip = {\n",
    "    0:'unknown',\n",
    "    1:'none',\n",
    "    2:'drizzle',\n",
    "    3:'showers',\n",
    "    4:'rain',\n",
    "    5:'snow'}"
   ]
  },
  {
   "cell_type": "code",
   "execution_count": 107,
   "metadata": {},
   "outputs": [
    {
     "data": {
      "text/plain": [
       "unknown    94704\n",
       "none       32221\n",
       "rain        1590\n",
       "drizzle      868\n",
       "showers      439\n",
       "snow          24\n",
       "Name: precip_park_cd, dtype: int64"
      ]
     },
     "execution_count": 107,
     "metadata": {},
     "output_type": "execute_result"
    }
   ],
   "source": [
    "park['precip_park_cd'] = park['precip_park_cd'].map(precip)\n",
    "park['precip_park_cd'].value_counts()"
   ]
  },
  {
   "cell_type": "code",
   "execution_count": 108,
   "metadata": {},
   "outputs": [
    {
     "data": {
      "text/plain": [
       "NaN        94704\n",
       "none       32221\n",
       "rain        1590\n",
       "drizzle      868\n",
       "showers      439\n",
       "snow          24\n",
       "Name: precip_park_cd, dtype: int64"
      ]
     },
     "execution_count": 108,
     "metadata": {},
     "output_type": "execute_result"
    }
   ],
   "source": [
    "park['precip_park_cd'] = park['precip_park_cd'].replace('unknown', np.nan)\n",
    "park['precip_park_cd'].value_counts(dropna=False)"
   ]
  },
  {
   "cell_type": "code",
   "execution_count": 109,
   "metadata": {},
   "outputs": [],
   "source": [
    "# http://chadwick.sourceforge.net/doc/cwgame.html#cwtools-cwgame-sky\n",
    "sky = {\n",
    "    0:'unknown',\n",
    "    1:'sunny',\n",
    "    2:'cloudy',\n",
    "    3:'overcast',\n",
    "    4:'night',\n",
    "    5:'dome'}"
   ]
  },
  {
   "cell_type": "code",
   "execution_count": 110,
   "metadata": {},
   "outputs": [
    {
     "data": {
      "text/plain": [
       "unknown     50417\n",
       "sunny       21776\n",
       "night       20833\n",
       "cloudy      20154\n",
       "dome        11584\n",
       "overcast     5082\n",
       "Name: sky_park_cd, dtype: int64"
      ]
     },
     "execution_count": 110,
     "metadata": {},
     "output_type": "execute_result"
    }
   ],
   "source": [
    "park['sky_park_cd'] = park['sky_park_cd'].map(sky)\n",
    "park['sky_park_cd'].value_counts()"
   ]
  },
  {
   "cell_type": "code",
   "execution_count": 111,
   "metadata": {},
   "outputs": [
    {
     "data": {
      "text/plain": [
       "NaN         50417\n",
       "sunny       21776\n",
       "night       20833\n",
       "cloudy      20154\n",
       "dome        11584\n",
       "overcast     5082\n",
       "Name: sky_park_cd, dtype: int64"
      ]
     },
     "execution_count": 111,
     "metadata": {},
     "output_type": "execute_result"
    }
   ],
   "source": [
    "park['sky_park_cd'] = park['sky_park_cd'].replace('unknown', np.nan)\n",
    "park['sky_park_cd'].value_counts(dropna=False)"
   ]
  },
  {
   "cell_type": "code",
   "execution_count": 112,
   "metadata": {},
   "outputs": [
    {
     "data": {
      "text/plain": [
       "daynight_park_cd               0\n",
       "park_id                        0\n",
       "attend_park_ct              5010\n",
       "temp_park_ct               49193\n",
       "wind_direction_park_cd     70961\n",
       "wind_speed_park_ct         59819\n",
       "field_park_cd             103217\n",
       "precip_park_cd             94704\n",
       "sky_park_cd                50417\n",
       "dtype: int64"
      ]
     },
     "execution_count": 112,
     "metadata": {},
     "output_type": "execute_result"
    }
   ],
   "source": [
    "# null is now represented as np.nan\n",
    "park.isna().sum()"
   ]
  },
  {
   "cell_type": "code",
   "execution_count": 113,
   "metadata": {},
   "outputs": [],
   "source": [
    "# copy the wrangled park data back to game_tidy\n",
    "game_tidy[park.columns] = park"
   ]
  },
  {
   "cell_type": "code",
   "execution_count": 114,
   "metadata": {},
   "outputs": [
    {
     "data": {
      "text/plain": [
       "Index(['game_id', 'game_ct', 'dh_fl', 'daynight_park_cd', 'park_id',\n",
       "       'attend_park_ct', 'temp_park_ct', 'wind_direction_park_cd',\n",
       "       'wind_speed_park_ct', 'field_park_cd', 'precip_park_cd', 'sky_park_cd',\n",
       "       'minutes_game_ct', 'inn_ct', 'win_pit_id', 'lose_pit_id', 'save_pit_id',\n",
       "       'gwrbi_bat_id', 'outs_ct', 'game_date'],\n",
       "      dtype='object')"
      ]
     },
     "execution_count": 114,
     "metadata": {},
     "output_type": "execute_result"
    }
   ],
   "source": [
    "game_tidy.columns"
   ]
  },
  {
   "cell_type": "code",
   "execution_count": 115,
   "metadata": {},
   "outputs": [
    {
     "data": {
      "text/html": [
       "<div>\n",
       "<style scoped>\n",
       "    .dataframe tbody tr th:only-of-type {\n",
       "        vertical-align: middle;\n",
       "    }\n",
       "\n",
       "    .dataframe tbody tr th {\n",
       "        vertical-align: top;\n",
       "    }\n",
       "\n",
       "    .dataframe thead th {\n",
       "        text-align: right;\n",
       "    }\n",
       "</style>\n",
       "<table border=\"1\" class=\"dataframe\">\n",
       "  <thead>\n",
       "    <tr style=\"text-align: right;\">\n",
       "      <th></th>\n",
       "      <th>game_id</th>\n",
       "      <th>game_date</th>\n",
       "      <th>game_ct</th>\n",
       "      <th>dh_fl</th>\n",
       "      <th>daynight_park_cd</th>\n",
       "      <th>park_id</th>\n",
       "      <th>attend_park_ct</th>\n",
       "      <th>temp_park_ct</th>\n",
       "      <th>wind_direction_park_cd</th>\n",
       "      <th>wind_speed_park_ct</th>\n",
       "      <th>field_park_cd</th>\n",
       "      <th>precip_park_cd</th>\n",
       "      <th>sky_park_cd</th>\n",
       "      <th>minutes_game_ct</th>\n",
       "      <th>inn_ct</th>\n",
       "      <th>win_pit_id</th>\n",
       "      <th>lose_pit_id</th>\n",
       "      <th>save_pit_id</th>\n",
       "      <th>gwrbi_bat_id</th>\n",
       "      <th>outs_ct</th>\n",
       "    </tr>\n",
       "  </thead>\n",
       "  <tbody>\n",
       "    <tr>\n",
       "      <th>129843</th>\n",
       "      <td>WAS201809240</td>\n",
       "      <td>2018-09-24 19:06:00</td>\n",
       "      <td>0</td>\n",
       "      <td>F</td>\n",
       "      <td>N</td>\n",
       "      <td>WAS11</td>\n",
       "      <td>22428.0</td>\n",
       "      <td>63.0</td>\n",
       "      <td>from_rf</td>\n",
       "      <td>10.0</td>\n",
       "      <td>wet</td>\n",
       "      <td>rain</td>\n",
       "      <td>NaN</td>\n",
       "      <td>189</td>\n",
       "      <td>9</td>\n",
       "      <td>millj006</td>\n",
       "      <td>alcas001</td>\n",
       "      <td>NaN</td>\n",
       "      <td>NaN</td>\n",
       "      <td>51</td>\n",
       "    </tr>\n",
       "    <tr>\n",
       "      <th>129844</th>\n",
       "      <td>WAS201809250</td>\n",
       "      <td>2018-09-25 19:05:00</td>\n",
       "      <td>0</td>\n",
       "      <td>F</td>\n",
       "      <td>N</td>\n",
       "      <td>WAS11</td>\n",
       "      <td>26483.0</td>\n",
       "      <td>78.0</td>\n",
       "      <td>to_lf</td>\n",
       "      <td>4.0</td>\n",
       "      <td>NaN</td>\n",
       "      <td>NaN</td>\n",
       "      <td>cloudy</td>\n",
       "      <td>192</td>\n",
       "      <td>9</td>\n",
       "      <td>schem001</td>\n",
       "      <td>brigj002</td>\n",
       "      <td>NaN</td>\n",
       "      <td>NaN</td>\n",
       "      <td>51</td>\n",
       "    </tr>\n",
       "    <tr>\n",
       "      <th>129845</th>\n",
       "      <td>WAS201809260</td>\n",
       "      <td>2018-09-26 16:05:00</td>\n",
       "      <td>0</td>\n",
       "      <td>F</td>\n",
       "      <td>D</td>\n",
       "      <td>WAS11</td>\n",
       "      <td>28680.0</td>\n",
       "      <td>88.0</td>\n",
       "      <td>r_to_l</td>\n",
       "      <td>6.0</td>\n",
       "      <td>NaN</td>\n",
       "      <td>NaN</td>\n",
       "      <td>NaN</td>\n",
       "      <td>165</td>\n",
       "      <td>8</td>\n",
       "      <td>suerw002</td>\n",
       "      <td>chenw001</td>\n",
       "      <td>NaN</td>\n",
       "      <td>NaN</td>\n",
       "      <td>42</td>\n",
       "    </tr>\n",
       "  </tbody>\n",
       "</table>\n",
       "</div>"
      ],
      "text/plain": [
       "             game_id           game_date  game_ct dh_fl daynight_park_cd  \\\n",
       "129843  WAS201809240 2018-09-24 19:06:00        0     F                N   \n",
       "129844  WAS201809250 2018-09-25 19:05:00        0     F                N   \n",
       "129845  WAS201809260 2018-09-26 16:05:00        0     F                D   \n",
       "\n",
       "       park_id  attend_park_ct  temp_park_ct wind_direction_park_cd  \\\n",
       "129843   WAS11         22428.0          63.0                from_rf   \n",
       "129844   WAS11         26483.0          78.0                  to_lf   \n",
       "129845   WAS11         28680.0          88.0                 r_to_l   \n",
       "\n",
       "        wind_speed_park_ct field_park_cd precip_park_cd sky_park_cd  \\\n",
       "129843                10.0           wet           rain         NaN   \n",
       "129844                 4.0           NaN            NaN      cloudy   \n",
       "129845                 6.0           NaN            NaN         NaN   \n",
       "\n",
       "        minutes_game_ct  inn_ct win_pit_id lose_pit_id save_pit_id  \\\n",
       "129843              189       9   millj006    alcas001         NaN   \n",
       "129844              192       9   schem001    brigj002         NaN   \n",
       "129845              165       8   suerw002    chenw001         NaN   \n",
       "\n",
       "       gwrbi_bat_id  outs_ct  \n",
       "129843          NaN       51  \n",
       "129844          NaN       51  \n",
       "129845          NaN       42  "
      ]
     },
     "execution_count": 115,
     "metadata": {},
     "output_type": "execute_result"
    }
   ],
   "source": [
    "game_tidy = bb.order_cols(game_tidy, ['game_id', 'game_date'])\n",
    "game_tidy.tail(3)"
   ]
  },
  {
   "cell_type": "code",
   "execution_count": 116,
   "metadata": {},
   "outputs": [
    {
     "data": {
      "text/plain": [
       "True"
      ]
     },
     "execution_count": 116,
     "metadata": {},
     "output_type": "execute_result"
    }
   ],
   "source": [
    "# the primary key is (game_id), verify no dups\n",
    "game_tidy['game_id'].is_unique"
   ]
  },
  {
   "cell_type": "markdown",
   "metadata": {},
   "source": [
    "### Add Year, Lahman Team Id and Game Date to Team Game\n",
    "This will make later queries easier."
   ]
  },
  {
   "cell_type": "code",
   "execution_count": 117,
   "metadata": {},
   "outputs": [
    {
     "data": {
      "text/plain": [
       "(259692, 37)"
      ]
     },
     "execution_count": 117,
     "metadata": {},
     "output_type": "execute_result"
    }
   ],
   "source": [
    "team_game.shape"
   ]
  },
  {
   "cell_type": "code",
   "execution_count": 118,
   "metadata": {},
   "outputs": [],
   "source": [
    "team_game = pd.merge(team_game, game_tidy[['game_id','game_date']],on = 'game_id')"
   ]
  },
  {
   "cell_type": "code",
   "execution_count": 119,
   "metadata": {},
   "outputs": [],
   "source": [
    "team_game['year_id'] = team_game['game_date'].dt.year"
   ]
  },
  {
   "cell_type": "code",
   "execution_count": 120,
   "metadata": {},
   "outputs": [
    {
     "data": {
      "text/plain": [
       "(259692, 39)"
      ]
     },
     "execution_count": 120,
     "metadata": {},
     "output_type": "execute_result"
    }
   ],
   "source": [
    "team_game.shape"
   ]
  },
  {
   "cell_type": "code",
   "execution_count": 121,
   "metadata": {},
   "outputs": [
    {
     "data": {
      "text/plain": [
       "Index(['game_id', 'home', 'team_id_retrosheet', 'start_pit_id', 'score',\n",
       "       'hits', 'f_e', 'lob', 'finish_pit_id', 'team_league_id', 'team_game',\n",
       "       'line_tx', 'b_ab', 'b_2b', 'b_3b', 'b_hr', 'bi', 'b_sh', 'b_sf', 'b_hp',\n",
       "       'b_bb', 'b_ibb', 'b_so', 'b_sb', 'b_cs', 'b_dpg', 'b_xi', 'pitcher',\n",
       "       'p_er', 'p_ter', 'p_wp', 'p_bk', 'f_po', 'f_a', 'pb', 'dp', 'tp',\n",
       "       'game_date', 'year_id', 'team_id_lahman', 'team_id_retro'],\n",
       "      dtype='object')"
      ]
     },
     "execution_count": 121,
     "metadata": {},
     "output_type": "execute_result"
    }
   ],
   "source": [
    "# add lahman team_id from teams\n",
    "team_game = pd.merge(team_game, teams[['team_id', 'year_id', 'team_id_retro']],\n",
    "                     left_on = ['year_id', 'team_id'], \n",
    "                     right_on = ['year_id', 'team_id_retro'],\n",
    "                     suffixes=['_retrosheet', '_lahman'])\n",
    "team_game.columns"
   ]
  },
  {
   "cell_type": "code",
   "execution_count": 122,
   "metadata": {},
   "outputs": [
    {
     "data": {
      "text/plain": [
       "True"
      ]
     },
     "execution_count": 122,
     "metadata": {},
     "output_type": "execute_result"
    }
   ],
   "source": [
    "(team_game['team_id_retrosheet'] == team_game['team_id_retro']).all()"
   ]
  },
  {
   "cell_type": "code",
   "execution_count": 123,
   "metadata": {},
   "outputs": [
    {
     "data": {
      "text/plain": [
       "Index(['game_id', 'home', 'team_id', 'start_pit_id', 'score', 'hits', 'f_e',\n",
       "       'lob', 'finish_pit_id', 'team_league_id', 'team_game', 'line_tx',\n",
       "       'b_ab', 'b_2b', 'b_3b', 'b_hr', 'bi', 'b_sh', 'b_sf', 'b_hp', 'b_bb',\n",
       "       'b_ibb', 'b_so', 'b_sb', 'b_cs', 'b_dpg', 'b_xi', 'pitcher', 'p_er',\n",
       "       'p_ter', 'p_wp', 'p_bk', 'f_po', 'f_a', 'pb', 'dp', 'tp', 'game_date',\n",
       "       'year_id', 'team_id_lahman'],\n",
       "      dtype='object')"
      ]
     },
     "execution_count": 123,
     "metadata": {},
     "output_type": "execute_result"
    }
   ],
   "source": [
    "col_names = {'team_id_retrosheet':'team_id'}\n",
    "team_game = team_game.rename(columns=col_names)\n",
    "team_game = team_game.drop('team_id_retro', axis= 1)\n",
    "team_game.columns"
   ]
  },
  {
   "cell_type": "code",
   "execution_count": 124,
   "metadata": {},
   "outputs": [
    {
     "data": {
      "text/html": [
       "<div>\n",
       "<style scoped>\n",
       "    .dataframe tbody tr th:only-of-type {\n",
       "        vertical-align: middle;\n",
       "    }\n",
       "\n",
       "    .dataframe tbody tr th {\n",
       "        vertical-align: top;\n",
       "    }\n",
       "\n",
       "    .dataframe thead th {\n",
       "        text-align: right;\n",
       "    }\n",
       "</style>\n",
       "<table border=\"1\" class=\"dataframe\">\n",
       "  <thead>\n",
       "    <tr style=\"text-align: right;\">\n",
       "      <th></th>\n",
       "      <th>game_id</th>\n",
       "      <th>game_date</th>\n",
       "      <th>year_id</th>\n",
       "      <th>team_id</th>\n",
       "      <th>team_id_lahman</th>\n",
       "      <th>home</th>\n",
       "      <th>start_pit_id</th>\n",
       "      <th>score</th>\n",
       "      <th>hits</th>\n",
       "      <th>f_e</th>\n",
       "      <th>...</th>\n",
       "      <th>pitcher</th>\n",
       "      <th>p_er</th>\n",
       "      <th>p_ter</th>\n",
       "      <th>p_wp</th>\n",
       "      <th>p_bk</th>\n",
       "      <th>f_po</th>\n",
       "      <th>f_a</th>\n",
       "      <th>pb</th>\n",
       "      <th>dp</th>\n",
       "      <th>tp</th>\n",
       "    </tr>\n",
       "  </thead>\n",
       "  <tbody>\n",
       "    <tr>\n",
       "      <th>259689</th>\n",
       "      <td>WAS201809081</td>\n",
       "      <td>2018-09-08 17:15:00</td>\n",
       "      <td>2018</td>\n",
       "      <td>CHN</td>\n",
       "      <td>CHN</td>\n",
       "      <td>False</td>\n",
       "      <td>garcj004</td>\n",
       "      <td>3</td>\n",
       "      <td>9</td>\n",
       "      <td>3</td>\n",
       "      <td>...</td>\n",
       "      <td>6</td>\n",
       "      <td>7</td>\n",
       "      <td>7</td>\n",
       "      <td>2</td>\n",
       "      <td>0</td>\n",
       "      <td>24</td>\n",
       "      <td>17</td>\n",
       "      <td>0</td>\n",
       "      <td>2</td>\n",
       "      <td>0</td>\n",
       "    </tr>\n",
       "    <tr>\n",
       "      <th>259690</th>\n",
       "      <td>WAS201809082</td>\n",
       "      <td>2018-09-08 21:00:00</td>\n",
       "      <td>2018</td>\n",
       "      <td>CHN</td>\n",
       "      <td>CHN</td>\n",
       "      <td>False</td>\n",
       "      <td>hamec001</td>\n",
       "      <td>5</td>\n",
       "      <td>6</td>\n",
       "      <td>0</td>\n",
       "      <td>...</td>\n",
       "      <td>5</td>\n",
       "      <td>6</td>\n",
       "      <td>6</td>\n",
       "      <td>0</td>\n",
       "      <td>0</td>\n",
       "      <td>24</td>\n",
       "      <td>4</td>\n",
       "      <td>0</td>\n",
       "      <td>1</td>\n",
       "      <td>0</td>\n",
       "    </tr>\n",
       "    <tr>\n",
       "      <th>259691</th>\n",
       "      <td>WAS201809130</td>\n",
       "      <td>2018-09-13 16:05:00</td>\n",
       "      <td>2018</td>\n",
       "      <td>CHN</td>\n",
       "      <td>CHN</td>\n",
       "      <td>False</td>\n",
       "      <td>montm002</td>\n",
       "      <td>4</td>\n",
       "      <td>10</td>\n",
       "      <td>0</td>\n",
       "      <td>...</td>\n",
       "      <td>9</td>\n",
       "      <td>3</td>\n",
       "      <td>3</td>\n",
       "      <td>2</td>\n",
       "      <td>0</td>\n",
       "      <td>30</td>\n",
       "      <td>6</td>\n",
       "      <td>0</td>\n",
       "      <td>0</td>\n",
       "      <td>0</td>\n",
       "    </tr>\n",
       "  </tbody>\n",
       "</table>\n",
       "<p>3 rows × 40 columns</p>\n",
       "</div>"
      ],
      "text/plain": [
       "             game_id           game_date  year_id team_id team_id_lahman  \\\n",
       "259689  WAS201809081 2018-09-08 17:15:00     2018     CHN            CHN   \n",
       "259690  WAS201809082 2018-09-08 21:00:00     2018     CHN            CHN   \n",
       "259691  WAS201809130 2018-09-13 16:05:00     2018     CHN            CHN   \n",
       "\n",
       "         home start_pit_id  score  hits  f_e  ...  pitcher p_er p_ter  p_wp  \\\n",
       "259689  False     garcj004      3     9    3  ...        6    7     7     2   \n",
       "259690  False     hamec001      5     6    0  ...        5    6     6     0   \n",
       "259691  False     montm002      4    10    0  ...        9    3     3     2   \n",
       "\n",
       "       p_bk  f_po  f_a  pb  dp  tp  \n",
       "259689    0    24   17   0   2   0  \n",
       "259690    0    24    4   0   1   0  \n",
       "259691    0    30    6   0   0   0  \n",
       "\n",
       "[3 rows x 40 columns]"
      ]
     },
     "execution_count": 124,
     "metadata": {},
     "output_type": "execute_result"
    }
   ],
   "source": [
    "team_game = bb.order_cols(team_game, ['game_id', 'game_date', \n",
    "                                      'year_id', 'team_id', \n",
    "                                      'team_id_lahman'])\n",
    "team_game.tail(3)"
   ]
  },
  {
   "cell_type": "code",
   "execution_count": 125,
   "metadata": {},
   "outputs": [
    {
     "data": {
      "text/plain": [
       "0.9677849144371025"
      ]
     },
     "execution_count": 125,
     "metadata": {},
     "output_type": "execute_result"
    }
   ],
   "source": [
    "# 97% of the time, these are the same\n",
    "(team_game.team_id == team_game.team_id_lahman).mean()"
   ]
  },
  {
   "cell_type": "code",
   "execution_count": 161,
   "metadata": {},
   "outputs": [
    {
     "name": "stdout",
     "output_type": "stream",
     "text": [
      "CPU times: user 15.2 s, sys: 11.7 ms, total: 15.3 s\n",
      "Wall time: 15.3 s\n"
     ]
    }
   ],
   "source": [
    "os.chdir(p_wrangled)\n",
    "%time bb.to_csv_with_types(team_game, 'team_game.csv.gz')"
   ]
  },
  {
   "cell_type": "code",
   "execution_count": 127,
   "metadata": {},
   "outputs": [
    {
     "name": "stdout",
     "output_type": "stream",
     "text": [
      "CPU times: user 2.27 s, sys: 20 ms, total: 2.29 s\n",
      "Wall time: 2.28 s\n"
     ]
    }
   ],
   "source": [
    "os.chdir(p_wrangled)\n",
    "%time bb.to_csv_with_types(game_tidy, 'game.csv.gz')"
   ]
  },
  {
   "cell_type": "markdown",
   "metadata": {
    "toc-hr-collapsed": false
   },
   "source": [
    "## 3. Scrape Data for Players Lookup Table\n",
    "\n",
    "player_id to player information is needed.\n",
    "\n",
    "This data is similar to Lahman's People.csv data, but it has different fields.\n",
    "\n",
    "There is no separate file for this.  It will be scraped from a web page."
   ]
  },
  {
   "cell_type": "code",
   "execution_count": 140,
   "metadata": {},
   "outputs": [],
   "source": [
    "import requests\n",
    "import pandas as pd\n",
    "from io import StringIO\n",
    "from bs4 import BeautifulSoup"
   ]
  },
  {
   "cell_type": "code",
   "execution_count": 141,
   "metadata": {},
   "outputs": [],
   "source": [
    "# get the web page\n",
    "r = requests.get(\"https://www.retrosheet.org/retroID.htm\")\n",
    "soup = BeautifulSoup(r.content, 'lxml')\n",
    "\n",
    "# data is within the pre tag\n",
    "table_txt = soup.pre.string\n",
    "\n",
    "# remove unnecessary double quotes\n",
    "table_txt = table_txt.replace('\"','')"
   ]
  },
  {
   "cell_type": "code",
   "execution_count": 142,
   "metadata": {},
   "outputs": [],
   "source": [
    "# read from this string instead of file\n",
    "players = pd.read_csv(StringIO(table_txt), \n",
    "    parse_dates=['Play debut', 'Mgr debut', 'Ump debut'])"
   ]
  },
  {
   "cell_type": "code",
   "execution_count": 143,
   "metadata": {},
   "outputs": [],
   "source": [
    "# Coach debut has some bad values\n",
    "def parse_date(value):\n",
    "    # perhaps 43188 means 04/31/1988, but use null as unsure\n",
    "    # no coach debuted prior to the year 1800\n",
    "    if pd.isna(value) or value == '43188' or int(value[-4:]) < 1800:\n",
    "        return pd.NaT\n",
    "    else:\n",
    "        return pd.datetime.strptime(value, '%m/%d/%Y')"
   ]
  },
  {
   "cell_type": "code",
   "execution_count": 144,
   "metadata": {},
   "outputs": [
    {
     "data": {
      "text/html": [
       "<div>\n",
       "<style scoped>\n",
       "    .dataframe tbody tr th:only-of-type {\n",
       "        vertical-align: middle;\n",
       "    }\n",
       "\n",
       "    .dataframe tbody tr th {\n",
       "        vertical-align: top;\n",
       "    }\n",
       "\n",
       "    .dataframe thead th {\n",
       "        text-align: right;\n",
       "    }\n",
       "</style>\n",
       "<table border=\"1\" class=\"dataframe\">\n",
       "  <thead>\n",
       "    <tr style=\"text-align: right;\">\n",
       "      <th></th>\n",
       "      <th>ID</th>\n",
       "      <th>Last</th>\n",
       "      <th>First</th>\n",
       "      <th>Play debut</th>\n",
       "      <th>Mgr debut</th>\n",
       "      <th>Coach debut</th>\n",
       "      <th>Ump debut</th>\n",
       "    </tr>\n",
       "  </thead>\n",
       "  <tbody>\n",
       "    <tr>\n",
       "      <th>0</th>\n",
       "      <td>aardd001</td>\n",
       "      <td>Aardsma</td>\n",
       "      <td>David</td>\n",
       "      <td>2004-04-06</td>\n",
       "      <td>NaT</td>\n",
       "      <td>NaT</td>\n",
       "      <td>NaT</td>\n",
       "    </tr>\n",
       "    <tr>\n",
       "      <th>1</th>\n",
       "      <td>aaroh101</td>\n",
       "      <td>Aaron</td>\n",
       "      <td>Hank</td>\n",
       "      <td>1954-04-13</td>\n",
       "      <td>NaT</td>\n",
       "      <td>NaT</td>\n",
       "      <td>NaT</td>\n",
       "    </tr>\n",
       "    <tr>\n",
       "      <th>2</th>\n",
       "      <td>aarot101</td>\n",
       "      <td>Aaron</td>\n",
       "      <td>Tommie</td>\n",
       "      <td>1962-04-10</td>\n",
       "      <td>NaT</td>\n",
       "      <td>1979-04-06</td>\n",
       "      <td>NaT</td>\n",
       "    </tr>\n",
       "    <tr>\n",
       "      <th>3</th>\n",
       "      <td>aased001</td>\n",
       "      <td>Aase</td>\n",
       "      <td>Don</td>\n",
       "      <td>1977-07-26</td>\n",
       "      <td>NaT</td>\n",
       "      <td>NaT</td>\n",
       "      <td>NaT</td>\n",
       "    </tr>\n",
       "    <tr>\n",
       "      <th>4</th>\n",
       "      <td>abada001</td>\n",
       "      <td>Abad</td>\n",
       "      <td>Andy</td>\n",
       "      <td>2001-09-10</td>\n",
       "      <td>NaT</td>\n",
       "      <td>NaT</td>\n",
       "      <td>NaT</td>\n",
       "    </tr>\n",
       "  </tbody>\n",
       "</table>\n",
       "</div>"
      ],
      "text/plain": [
       "         ID     Last   First Play debut Mgr debut Coach debut Ump debut\n",
       "0  aardd001  Aardsma   David 2004-04-06       NaT         NaT       NaT\n",
       "1  aaroh101    Aaron    Hank 1954-04-13       NaT         NaT       NaT\n",
       "2  aarot101    Aaron  Tommie 1962-04-10       NaT  1979-04-06       NaT\n",
       "3  aased001     Aase     Don 1977-07-26       NaT         NaT       NaT\n",
       "4  abada001     Abad    Andy 2001-09-10       NaT         NaT       NaT"
      ]
     },
     "execution_count": 144,
     "metadata": {},
     "output_type": "execute_result"
    }
   ],
   "source": [
    "players['Coach debut'] = players['Coach debut'].apply(parse_date)\n",
    "players.head()"
   ]
  },
  {
   "cell_type": "code",
   "execution_count": 145,
   "metadata": {},
   "outputs": [
    {
     "data": {
      "text/html": [
       "<div>\n",
       "<style scoped>\n",
       "    .dataframe tbody tr th:only-of-type {\n",
       "        vertical-align: middle;\n",
       "    }\n",
       "\n",
       "    .dataframe tbody tr th {\n",
       "        vertical-align: top;\n",
       "    }\n",
       "\n",
       "    .dataframe thead th {\n",
       "        text-align: right;\n",
       "    }\n",
       "</style>\n",
       "<table border=\"1\" class=\"dataframe\">\n",
       "  <thead>\n",
       "    <tr style=\"text-align: right;\">\n",
       "      <th></th>\n",
       "      <th>player_id</th>\n",
       "      <th>last_name</th>\n",
       "      <th>first_name</th>\n",
       "      <th>player_debut</th>\n",
       "      <th>mgr_debut</th>\n",
       "      <th>coach_debut</th>\n",
       "      <th>ump_debut</th>\n",
       "    </tr>\n",
       "  </thead>\n",
       "  <tbody>\n",
       "    <tr>\n",
       "      <th>0</th>\n",
       "      <td>aardd001</td>\n",
       "      <td>Aardsma</td>\n",
       "      <td>David</td>\n",
       "      <td>2004-04-06</td>\n",
       "      <td>NaT</td>\n",
       "      <td>NaT</td>\n",
       "      <td>NaT</td>\n",
       "    </tr>\n",
       "    <tr>\n",
       "      <th>1</th>\n",
       "      <td>aaroh101</td>\n",
       "      <td>Aaron</td>\n",
       "      <td>Hank</td>\n",
       "      <td>1954-04-13</td>\n",
       "      <td>NaT</td>\n",
       "      <td>NaT</td>\n",
       "      <td>NaT</td>\n",
       "    </tr>\n",
       "    <tr>\n",
       "      <th>2</th>\n",
       "      <td>aarot101</td>\n",
       "      <td>Aaron</td>\n",
       "      <td>Tommie</td>\n",
       "      <td>1962-04-10</td>\n",
       "      <td>NaT</td>\n",
       "      <td>1979-04-06</td>\n",
       "      <td>NaT</td>\n",
       "    </tr>\n",
       "    <tr>\n",
       "      <th>3</th>\n",
       "      <td>aased001</td>\n",
       "      <td>Aase</td>\n",
       "      <td>Don</td>\n",
       "      <td>1977-07-26</td>\n",
       "      <td>NaT</td>\n",
       "      <td>NaT</td>\n",
       "      <td>NaT</td>\n",
       "    </tr>\n",
       "    <tr>\n",
       "      <th>4</th>\n",
       "      <td>abada001</td>\n",
       "      <td>Abad</td>\n",
       "      <td>Andy</td>\n",
       "      <td>2001-09-10</td>\n",
       "      <td>NaT</td>\n",
       "      <td>NaT</td>\n",
       "      <td>NaT</td>\n",
       "    </tr>\n",
       "  </tbody>\n",
       "</table>\n",
       "</div>"
      ],
      "text/plain": [
       "  player_id last_name first_name player_debut mgr_debut coach_debut ump_debut\n",
       "0  aardd001   Aardsma      David   2004-04-06       NaT         NaT       NaT\n",
       "1  aaroh101     Aaron       Hank   1954-04-13       NaT         NaT       NaT\n",
       "2  aarot101     Aaron     Tommie   1962-04-10       NaT  1979-04-06       NaT\n",
       "3  aased001      Aase        Don   1977-07-26       NaT         NaT       NaT\n",
       "4  abada001      Abad       Andy   2001-09-10       NaT         NaT       NaT"
      ]
     },
     "execution_count": 145,
     "metadata": {},
     "output_type": "execute_result"
    }
   ],
   "source": [
    "name_chg = {'ID':'player_id',\n",
    "         'Last':'last_name',\n",
    "         'First':'first_name',\n",
    "         'Play debut':'player_debut',\n",
    "         'Mgr debut':'mgr_debut',\n",
    "         'Coach debut': 'coach_debut',\n",
    "         'Ump debut':'ump_debut'}\n",
    "players = players.rename(columns=name_chg)\n",
    "players.head()"
   ]
  },
  {
   "cell_type": "markdown",
   "metadata": {},
   "source": [
    "#### Persist Players"
   ]
  },
  {
   "cell_type": "code",
   "execution_count": 146,
   "metadata": {},
   "outputs": [],
   "source": [
    "os.chdir(p_wrangled)\n",
    "bb.to_csv_with_types(players, 'players.csv')"
   ]
  },
  {
   "cell_type": "markdown",
   "metadata": {
    "toc-hr-collapsed": true
   },
   "source": [
    "## 4. Scrape Data for Stadium (Park) Lookup Table\n",
    "\n",
    "park_id to park information is needed.  \n",
    "\n",
    "This data is similar to Lahman's Parks.csv, but has different fields.\n",
    "\n",
    "There is no separate file for this.  It will be scraped from a web page."
   ]
  },
  {
   "cell_type": "code",
   "execution_count": 147,
   "metadata": {},
   "outputs": [],
   "source": [
    "# get the web page (this is not html!)\n",
    "r = requests.get(\"https://www.retrosheet.org/parkcode.txt\")\n",
    "\n",
    "table_txt = r.content.decode(\"utf-8\")\n",
    "\n",
    "# read from this string instead of file\n",
    "parks = pd.read_csv(StringIO(table_txt), parse_dates=['START', 'END'])"
   ]
  },
  {
   "cell_type": "code",
   "execution_count": 149,
   "metadata": {},
   "outputs": [
    {
     "data": {
      "text/html": [
       "<div>\n",
       "<style scoped>\n",
       "    .dataframe tbody tr th:only-of-type {\n",
       "        vertical-align: middle;\n",
       "    }\n",
       "\n",
       "    .dataframe tbody tr th {\n",
       "        vertical-align: top;\n",
       "    }\n",
       "\n",
       "    .dataframe thead th {\n",
       "        text-align: right;\n",
       "    }\n",
       "</style>\n",
       "<table border=\"1\" class=\"dataframe\">\n",
       "  <thead>\n",
       "    <tr style=\"text-align: right;\">\n",
       "      <th></th>\n",
       "      <th>park_id</th>\n",
       "      <th>park_name</th>\n",
       "      <th>aka</th>\n",
       "      <th>city</th>\n",
       "      <th>state</th>\n",
       "      <th>part_start</th>\n",
       "      <th>park_end</th>\n",
       "      <th>league</th>\n",
       "      <th>notes</th>\n",
       "    </tr>\n",
       "  </thead>\n",
       "  <tbody>\n",
       "    <tr>\n",
       "      <th>0</th>\n",
       "      <td>ALB01</td>\n",
       "      <td>Riverside Park</td>\n",
       "      <td>NaN</td>\n",
       "      <td>Albany</td>\n",
       "      <td>NY</td>\n",
       "      <td>1880-09-11</td>\n",
       "      <td>1882-05-30</td>\n",
       "      <td>NL</td>\n",
       "      <td>TRN:9/11/80;6/15&amp;9/10/1881;5/16-5/18&amp;5/30/1882</td>\n",
       "    </tr>\n",
       "    <tr>\n",
       "      <th>1</th>\n",
       "      <td>ALT01</td>\n",
       "      <td>Columbia Park</td>\n",
       "      <td>NaN</td>\n",
       "      <td>Altoona</td>\n",
       "      <td>PA</td>\n",
       "      <td>1884-04-30</td>\n",
       "      <td>1884-05-31</td>\n",
       "      <td>UA</td>\n",
       "      <td>NaN</td>\n",
       "    </tr>\n",
       "    <tr>\n",
       "      <th>2</th>\n",
       "      <td>ANA01</td>\n",
       "      <td>Angel Stadium of Anaheim</td>\n",
       "      <td>Edison Field; Anaheim Stadium</td>\n",
       "      <td>Anaheim</td>\n",
       "      <td>CA</td>\n",
       "      <td>1966-04-19</td>\n",
       "      <td>NaT</td>\n",
       "      <td>AL</td>\n",
       "      <td>NaN</td>\n",
       "    </tr>\n",
       "    <tr>\n",
       "      <th>3</th>\n",
       "      <td>ARL01</td>\n",
       "      <td>Arlington Stadium</td>\n",
       "      <td>NaN</td>\n",
       "      <td>Arlington</td>\n",
       "      <td>TX</td>\n",
       "      <td>1972-04-21</td>\n",
       "      <td>1993-10-03</td>\n",
       "      <td>AL</td>\n",
       "      <td>NaN</td>\n",
       "    </tr>\n",
       "    <tr>\n",
       "      <th>4</th>\n",
       "      <td>ARL02</td>\n",
       "      <td>Rangers Ballpark in Arlington</td>\n",
       "      <td>The Ballpark in Arlington; Ameriquest Fl</td>\n",
       "      <td>Arlington</td>\n",
       "      <td>TX</td>\n",
       "      <td>1994-04-11</td>\n",
       "      <td>NaT</td>\n",
       "      <td>AL</td>\n",
       "      <td>NaN</td>\n",
       "    </tr>\n",
       "  </tbody>\n",
       "</table>\n",
       "</div>"
      ],
      "text/plain": [
       "  park_id                      park_name  \\\n",
       "0   ALB01                 Riverside Park   \n",
       "1   ALT01                  Columbia Park   \n",
       "2   ANA01       Angel Stadium of Anaheim   \n",
       "3   ARL01              Arlington Stadium   \n",
       "4   ARL02  Rangers Ballpark in Arlington   \n",
       "\n",
       "                                        aka       city state part_start  \\\n",
       "0                                       NaN     Albany    NY 1880-09-11   \n",
       "1                                       NaN    Altoona    PA 1884-04-30   \n",
       "2             Edison Field; Anaheim Stadium    Anaheim    CA 1966-04-19   \n",
       "3                                       NaN  Arlington    TX 1972-04-21   \n",
       "4  The Ballpark in Arlington; Ameriquest Fl  Arlington    TX 1994-04-11   \n",
       "\n",
       "    park_end league                                           notes  \n",
       "0 1882-05-30     NL  TRN:9/11/80;6/15&9/10/1881;5/16-5/18&5/30/1882  \n",
       "1 1884-05-31     UA                                             NaN  \n",
       "2        NaT     AL                                             NaN  \n",
       "3 1993-10-03     AL                                             NaN  \n",
       "4        NaT     AL                                             NaN  "
      ]
     },
     "execution_count": 149,
     "metadata": {},
     "output_type": "execute_result"
    }
   ],
   "source": [
    "parks.columns = parks.columns.str.lower()\n",
    "parks = parks.rename(columns={'parkid':'park_id','name':'park_name',\n",
    "                              'start':'part_start','end':'park_end'})\n",
    "parks.head()"
   ]
  },
  {
   "cell_type": "markdown",
   "metadata": {},
   "source": [
    "#### Persist Stadiums"
   ]
  },
  {
   "cell_type": "code",
   "execution_count": 150,
   "metadata": {},
   "outputs": [],
   "source": [
    "os.chdir(p_wrangled)\n",
    "bb.to_csv_with_types(parks, 'parks.csv')"
   ]
  }
 ],
 "metadata": {
  "kernelspec": {
   "display_name": "Python 3",
   "language": "python",
   "name": "python3"
  },
  "language_info": {
   "codemirror_mode": {
    "name": "ipython",
    "version": 3
   },
   "file_extension": ".py",
   "mimetype": "text/x-python",
   "name": "python",
   "nbconvert_exporter": "python",
   "pygments_lexer": "ipython3",
   "version": "3.7.2"
  }
 },
 "nbformat": 4,
 "nbformat_minor": 2
}
