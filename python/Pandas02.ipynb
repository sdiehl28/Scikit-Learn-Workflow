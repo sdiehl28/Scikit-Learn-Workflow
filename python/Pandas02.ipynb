{
 "cells": [
  {
   "cell_type": "markdown",
   "metadata": {
    "toc-hr-collapsed": false
   },
   "source": [
    "# Pandas Introduction Part 2"
   ]
  },
  {
   "cell_type": "markdown",
   "metadata": {
    "toc-hr-collapsed": true
   },
   "source": [
    "## Overview\n",
    "\n",
    "This notebook uses the IMDB dataset from Kaggle:  \n",
    "https://www.kaggle.com/PromptCloudHQ/imdb-data#IMDB-Movie-Data.csv\n",
    "\n",
    "\n",
    "TODO Links to other pandas notebooks."
   ]
  },
  {
   "cell_type": "code",
   "execution_count": 244,
   "metadata": {},
   "outputs": [],
   "source": [
    "import pandas as pd\n",
    "import numpy as np"
   ]
  },
  {
   "cell_type": "markdown",
   "metadata": {
    "toc-hr-collapsed": false
   },
   "source": [
    "## Movie Data Set"
   ]
  },
  {
   "cell_type": "code",
   "execution_count": 245,
   "metadata": {},
   "outputs": [],
   "source": [
    "# read in IMDB move dataset\n",
    "movies = pd.read_csv('../data/IMDB-Movie-Data.csv')"
   ]
  },
  {
   "cell_type": "code",
   "execution_count": 246,
   "metadata": {},
   "outputs": [
    {
     "data": {
      "text/html": [
       "<div>\n",
       "<style scoped>\n",
       "    .dataframe tbody tr th:only-of-type {\n",
       "        vertical-align: middle;\n",
       "    }\n",
       "\n",
       "    .dataframe tbody tr th {\n",
       "        vertical-align: top;\n",
       "    }\n",
       "\n",
       "    .dataframe thead th {\n",
       "        text-align: right;\n",
       "    }\n",
       "</style>\n",
       "<table border=\"1\" class=\"dataframe\">\n",
       "  <thead>\n",
       "    <tr style=\"text-align: right;\">\n",
       "      <th></th>\n",
       "      <th>Rank</th>\n",
       "      <th>Title</th>\n",
       "      <th>Genre</th>\n",
       "      <th>Description</th>\n",
       "      <th>Director</th>\n",
       "      <th>Actors</th>\n",
       "      <th>Year</th>\n",
       "      <th>Runtime (Minutes)</th>\n",
       "      <th>Rating</th>\n",
       "      <th>Votes</th>\n",
       "      <th>Revenue (Millions)</th>\n",
       "      <th>Metascore</th>\n",
       "    </tr>\n",
       "  </thead>\n",
       "  <tbody>\n",
       "    <tr>\n",
       "      <th>0</th>\n",
       "      <td>1</td>\n",
       "      <td>Guardians of the Galaxy</td>\n",
       "      <td>Action,Adventure,Sci-Fi</td>\n",
       "      <td>A group of intergalactic criminals are forced ...</td>\n",
       "      <td>James Gunn</td>\n",
       "      <td>Chris Pratt, Vin Diesel, Bradley Cooper, Zoe S...</td>\n",
       "      <td>2014</td>\n",
       "      <td>121</td>\n",
       "      <td>8.1</td>\n",
       "      <td>757074</td>\n",
       "      <td>333.13</td>\n",
       "      <td>76.0</td>\n",
       "    </tr>\n",
       "    <tr>\n",
       "      <th>1</th>\n",
       "      <td>2</td>\n",
       "      <td>Prometheus</td>\n",
       "      <td>Adventure,Mystery,Sci-Fi</td>\n",
       "      <td>Following clues to the origin of mankind, a te...</td>\n",
       "      <td>Ridley Scott</td>\n",
       "      <td>Noomi Rapace, Logan Marshall-Green, Michael Fa...</td>\n",
       "      <td>2012</td>\n",
       "      <td>124</td>\n",
       "      <td>7.0</td>\n",
       "      <td>485820</td>\n",
       "      <td>126.46</td>\n",
       "      <td>65.0</td>\n",
       "    </tr>\n",
       "  </tbody>\n",
       "</table>\n",
       "</div>"
      ],
      "text/plain": [
       "   Rank                    Title                     Genre  \\\n",
       "0     1  Guardians of the Galaxy   Action,Adventure,Sci-Fi   \n",
       "1     2               Prometheus  Adventure,Mystery,Sci-Fi   \n",
       "\n",
       "                                         Description      Director  \\\n",
       "0  A group of intergalactic criminals are forced ...    James Gunn   \n",
       "1  Following clues to the origin of mankind, a te...  Ridley Scott   \n",
       "\n",
       "                                              Actors  Year  Runtime (Minutes)  \\\n",
       "0  Chris Pratt, Vin Diesel, Bradley Cooper, Zoe S...  2014                121   \n",
       "1  Noomi Rapace, Logan Marshall-Green, Michael Fa...  2012                124   \n",
       "\n",
       "   Rating   Votes  Revenue (Millions)  Metascore  \n",
       "0     8.1  757074              333.13       76.0  \n",
       "1     7.0  485820              126.46       65.0  "
      ]
     },
     "execution_count": 246,
     "metadata": {},
     "output_type": "execute_result"
    }
   ],
   "source": [
    "# display first 2 rows of the DataFrame\n",
    "movies.head(2)"
   ]
  },
  {
   "cell_type": "code",
   "execution_count": 247,
   "metadata": {},
   "outputs": [
    {
     "data": {
      "text/html": [
       "<div>\n",
       "<style scoped>\n",
       "    .dataframe tbody tr th:only-of-type {\n",
       "        vertical-align: middle;\n",
       "    }\n",
       "\n",
       "    .dataframe tbody tr th {\n",
       "        vertical-align: top;\n",
       "    }\n",
       "\n",
       "    .dataframe thead th {\n",
       "        text-align: right;\n",
       "    }\n",
       "</style>\n",
       "<table border=\"1\" class=\"dataframe\">\n",
       "  <thead>\n",
       "    <tr style=\"text-align: right;\">\n",
       "      <th></th>\n",
       "      <th>Rank</th>\n",
       "      <th>Title</th>\n",
       "      <th>Genre</th>\n",
       "      <th>Description</th>\n",
       "      <th>Director</th>\n",
       "      <th>Actors</th>\n",
       "      <th>Year</th>\n",
       "      <th>Runtime (Minutes)</th>\n",
       "      <th>Rating</th>\n",
       "      <th>Votes</th>\n",
       "      <th>Revenue (Millions)</th>\n",
       "      <th>Metascore</th>\n",
       "    </tr>\n",
       "  </thead>\n",
       "  <tbody>\n",
       "    <tr>\n",
       "      <th>998</th>\n",
       "      <td>999</td>\n",
       "      <td>Search Party</td>\n",
       "      <td>Adventure,Comedy</td>\n",
       "      <td>A pair of friends embark on a mission to reuni...</td>\n",
       "      <td>Scot Armstrong</td>\n",
       "      <td>Adam Pally, T.J. Miller, Thomas Middleditch,Sh...</td>\n",
       "      <td>2014</td>\n",
       "      <td>93</td>\n",
       "      <td>5.6</td>\n",
       "      <td>4881</td>\n",
       "      <td>NaN</td>\n",
       "      <td>22.0</td>\n",
       "    </tr>\n",
       "    <tr>\n",
       "      <th>999</th>\n",
       "      <td>1000</td>\n",
       "      <td>Nine Lives</td>\n",
       "      <td>Comedy,Family,Fantasy</td>\n",
       "      <td>A stuffy businessman finds himself trapped ins...</td>\n",
       "      <td>Barry Sonnenfeld</td>\n",
       "      <td>Kevin Spacey, Jennifer Garner, Robbie Amell,Ch...</td>\n",
       "      <td>2016</td>\n",
       "      <td>87</td>\n",
       "      <td>5.3</td>\n",
       "      <td>12435</td>\n",
       "      <td>19.64</td>\n",
       "      <td>11.0</td>\n",
       "    </tr>\n",
       "  </tbody>\n",
       "</table>\n",
       "</div>"
      ],
      "text/plain": [
       "     Rank         Title                  Genre  \\\n",
       "998   999  Search Party       Adventure,Comedy   \n",
       "999  1000    Nine Lives  Comedy,Family,Fantasy   \n",
       "\n",
       "                                           Description          Director  \\\n",
       "998  A pair of friends embark on a mission to reuni...    Scot Armstrong   \n",
       "999  A stuffy businessman finds himself trapped ins...  Barry Sonnenfeld   \n",
       "\n",
       "                                                Actors  Year  \\\n",
       "998  Adam Pally, T.J. Miller, Thomas Middleditch,Sh...  2014   \n",
       "999  Kevin Spacey, Jennifer Garner, Robbie Amell,Ch...  2016   \n",
       "\n",
       "     Runtime (Minutes)  Rating  Votes  Revenue (Millions)  Metascore  \n",
       "998                 93     5.6   4881                 NaN       22.0  \n",
       "999                 87     5.3  12435               19.64       11.0  "
      ]
     },
     "execution_count": 247,
     "metadata": {},
     "output_type": "execute_result"
    }
   ],
   "source": [
    "# display last 2 rows\n",
    "movies.tail(2)"
   ]
  },
  {
   "cell_type": "code",
   "execution_count": 248,
   "metadata": {},
   "outputs": [
    {
     "data": {
      "text/plain": [
       "Index(['Rank', 'Title', 'Genre', 'Description', 'Director', 'Actors', 'Year',\n",
       "       'Runtime (Minutes)', 'Rating', 'Votes', 'Revenue (Millions)',\n",
       "       'Metascore'],\n",
       "      dtype='object')"
      ]
     },
     "execution_count": 248,
     "metadata": {},
     "output_type": "execute_result"
    }
   ],
   "source": [
    "movies.columns"
   ]
  },
  {
   "cell_type": "code",
   "execution_count": 249,
   "metadata": {},
   "outputs": [
    {
     "data": {
      "text/plain": [
       "RangeIndex(start=0, stop=1000, step=1)"
      ]
     },
     "execution_count": 249,
     "metadata": {},
     "output_type": "execute_result"
    }
   ],
   "source": [
    "movies.index"
   ]
  },
  {
   "cell_type": "code",
   "execution_count": 250,
   "metadata": {},
   "outputs": [
    {
     "data": {
      "text/html": [
       "<div>\n",
       "<style scoped>\n",
       "    .dataframe tbody tr th:only-of-type {\n",
       "        vertical-align: middle;\n",
       "    }\n",
       "\n",
       "    .dataframe tbody tr th {\n",
       "        vertical-align: top;\n",
       "    }\n",
       "\n",
       "    .dataframe thead th {\n",
       "        text-align: right;\n",
       "    }\n",
       "</style>\n",
       "<table border=\"1\" class=\"dataframe\">\n",
       "  <thead>\n",
       "    <tr style=\"text-align: right;\">\n",
       "      <th></th>\n",
       "      <th>Rank</th>\n",
       "      <th>Title</th>\n",
       "      <th>Genre</th>\n",
       "    </tr>\n",
       "  </thead>\n",
       "  <tbody>\n",
       "    <tr>\n",
       "      <th>0</th>\n",
       "      <td>1</td>\n",
       "      <td>Guardians of the Galaxy</td>\n",
       "      <td>Action,Adventure,Sci-Fi</td>\n",
       "    </tr>\n",
       "    <tr>\n",
       "      <th>1</th>\n",
       "      <td>2</td>\n",
       "      <td>Prometheus</td>\n",
       "      <td>Adventure,Mystery,Sci-Fi</td>\n",
       "    </tr>\n",
       "    <tr>\n",
       "      <th>2</th>\n",
       "      <td>3</td>\n",
       "      <td>Split</td>\n",
       "      <td>Horror,Thriller</td>\n",
       "    </tr>\n",
       "  </tbody>\n",
       "</table>\n",
       "</div>"
      ],
      "text/plain": [
       "   Rank                    Title                     Genre\n",
       "0     1  Guardians of the Galaxy   Action,Adventure,Sci-Fi\n",
       "1     2               Prometheus  Adventure,Mystery,Sci-Fi\n",
       "2     3                    Split           Horror,Thriller"
      ]
     },
     "execution_count": 250,
     "metadata": {},
     "output_type": "execute_result"
    }
   ],
   "source": [
    "movies.iloc[0:3, 0:3]"
   ]
  },
  {
   "cell_type": "markdown",
   "metadata": {},
   "source": [
    "## Look for Unique Identifier\n",
    "\n",
    "Check if Title is unique.  \n",
    "Check if Title, Year is unique."
   ]
  },
  {
   "cell_type": "code",
   "execution_count": 251,
   "metadata": {},
   "outputs": [],
   "source": [
    "def get_dups(df, cols):\n",
    "    dfs = [g for name, g in df.groupby(cols) if len(g) > 1]\n",
    "    if dfs:\n",
    "        return pd.concat(dfs)\n",
    "    else:\n",
    "        return None"
   ]
  },
  {
   "cell_type": "code",
   "execution_count": 252,
   "metadata": {},
   "outputs": [
    {
     "data": {
      "text/html": [
       "<div>\n",
       "<style scoped>\n",
       "    .dataframe tbody tr th:only-of-type {\n",
       "        vertical-align: middle;\n",
       "    }\n",
       "\n",
       "    .dataframe tbody tr th {\n",
       "        vertical-align: top;\n",
       "    }\n",
       "\n",
       "    .dataframe thead th {\n",
       "        text-align: right;\n",
       "    }\n",
       "</style>\n",
       "<table border=\"1\" class=\"dataframe\">\n",
       "  <thead>\n",
       "    <tr style=\"text-align: right;\">\n",
       "      <th></th>\n",
       "      <th>Rank</th>\n",
       "      <th>Title</th>\n",
       "      <th>Genre</th>\n",
       "      <th>Description</th>\n",
       "      <th>Director</th>\n",
       "      <th>Actors</th>\n",
       "      <th>Year</th>\n",
       "      <th>Runtime (Minutes)</th>\n",
       "      <th>Rating</th>\n",
       "      <th>Votes</th>\n",
       "      <th>Revenue (Millions)</th>\n",
       "      <th>Metascore</th>\n",
       "    </tr>\n",
       "  </thead>\n",
       "  <tbody>\n",
       "    <tr>\n",
       "      <th>239</th>\n",
       "      <td>240</td>\n",
       "      <td>The Host</td>\n",
       "      <td>Action,Adventure,Romance</td>\n",
       "      <td>When an unseen enemy threatens mankind by taki...</td>\n",
       "      <td>Andrew Niccol</td>\n",
       "      <td>Saoirse Ronan, Max Irons, Jake Abel, Diane Kruger</td>\n",
       "      <td>2013</td>\n",
       "      <td>125</td>\n",
       "      <td>5.9</td>\n",
       "      <td>96852</td>\n",
       "      <td>26.62</td>\n",
       "      <td>35.0</td>\n",
       "    </tr>\n",
       "    <tr>\n",
       "      <th>632</th>\n",
       "      <td>633</td>\n",
       "      <td>The Host</td>\n",
       "      <td>Comedy,Drama,Horror</td>\n",
       "      <td>A monster emerges from Seoul's Han River and f...</td>\n",
       "      <td>Bong Joon Ho</td>\n",
       "      <td>Kang-ho Song, Hee-Bong Byun, Hae-il Park, Doon...</td>\n",
       "      <td>2006</td>\n",
       "      <td>120</td>\n",
       "      <td>7.0</td>\n",
       "      <td>73491</td>\n",
       "      <td>2.20</td>\n",
       "      <td>85.0</td>\n",
       "    </tr>\n",
       "  </tbody>\n",
       "</table>\n",
       "</div>"
      ],
      "text/plain": [
       "     Rank     Title                     Genre  \\\n",
       "239   240  The Host  Action,Adventure,Romance   \n",
       "632   633  The Host       Comedy,Drama,Horror   \n",
       "\n",
       "                                           Description       Director  \\\n",
       "239  When an unseen enemy threatens mankind by taki...  Andrew Niccol   \n",
       "632  A monster emerges from Seoul's Han River and f...   Bong Joon Ho   \n",
       "\n",
       "                                                Actors  Year  \\\n",
       "239  Saoirse Ronan, Max Irons, Jake Abel, Diane Kruger  2013   \n",
       "632  Kang-ho Song, Hee-Bong Byun, Hae-il Park, Doon...  2006   \n",
       "\n",
       "     Runtime (Minutes)  Rating  Votes  Revenue (Millions)  Metascore  \n",
       "239                125     5.9  96852               26.62       35.0  \n",
       "632                120     7.0  73491                2.20       85.0  "
      ]
     },
     "execution_count": 252,
     "metadata": {},
     "output_type": "execute_result"
    }
   ],
   "source": [
    "get_dups(movies, ['Title'])"
   ]
  },
  {
   "cell_type": "code",
   "execution_count": 253,
   "metadata": {},
   "outputs": [],
   "source": [
    "get_dups(movies, ['Title', 'Year'])"
   ]
  },
  {
   "cell_type": "code",
   "execution_count": 254,
   "metadata": {},
   "outputs": [],
   "source": [
    "get_dups(movies, ['Rank'])"
   ]
  },
  {
   "cell_type": "code",
   "execution_count": 255,
   "metadata": {},
   "outputs": [
    {
     "data": {
      "text/html": [
       "<div>\n",
       "<style scoped>\n",
       "    .dataframe tbody tr th:only-of-type {\n",
       "        vertical-align: middle;\n",
       "    }\n",
       "\n",
       "    .dataframe tbody tr th {\n",
       "        vertical-align: top;\n",
       "    }\n",
       "\n",
       "    .dataframe thead th {\n",
       "        text-align: right;\n",
       "    }\n",
       "</style>\n",
       "<table border=\"1\" class=\"dataframe\">\n",
       "  <thead>\n",
       "    <tr style=\"text-align: right;\">\n",
       "      <th></th>\n",
       "      <th>ID</th>\n",
       "      <th>Title</th>\n",
       "      <th>Genre</th>\n",
       "      <th>Description</th>\n",
       "      <th>Director</th>\n",
       "      <th>Actors</th>\n",
       "      <th>Year</th>\n",
       "      <th>Runtime</th>\n",
       "      <th>Rating</th>\n",
       "      <th>Votes</th>\n",
       "      <th>Revenue</th>\n",
       "      <th>Metascore</th>\n",
       "    </tr>\n",
       "  </thead>\n",
       "  <tbody>\n",
       "    <tr>\n",
       "      <th>0</th>\n",
       "      <td>1</td>\n",
       "      <td>Guardians of the Galaxy</td>\n",
       "      <td>Action,Adventure,Sci-Fi</td>\n",
       "      <td>A group of intergalactic criminals are forced ...</td>\n",
       "      <td>James Gunn</td>\n",
       "      <td>Chris Pratt, Vin Diesel, Bradley Cooper, Zoe S...</td>\n",
       "      <td>2014</td>\n",
       "      <td>121</td>\n",
       "      <td>8.1</td>\n",
       "      <td>757074</td>\n",
       "      <td>333.13</td>\n",
       "      <td>76.0</td>\n",
       "    </tr>\n",
       "    <tr>\n",
       "      <th>1</th>\n",
       "      <td>2</td>\n",
       "      <td>Prometheus</td>\n",
       "      <td>Adventure,Mystery,Sci-Fi</td>\n",
       "      <td>Following clues to the origin of mankind, a te...</td>\n",
       "      <td>Ridley Scott</td>\n",
       "      <td>Noomi Rapace, Logan Marshall-Green, Michael Fa...</td>\n",
       "      <td>2012</td>\n",
       "      <td>124</td>\n",
       "      <td>7.0</td>\n",
       "      <td>485820</td>\n",
       "      <td>126.46</td>\n",
       "      <td>65.0</td>\n",
       "    </tr>\n",
       "  </tbody>\n",
       "</table>\n",
       "</div>"
      ],
      "text/plain": [
       "   ID                    Title                     Genre  \\\n",
       "0   1  Guardians of the Galaxy   Action,Adventure,Sci-Fi   \n",
       "1   2               Prometheus  Adventure,Mystery,Sci-Fi   \n",
       "\n",
       "                                         Description      Director  \\\n",
       "0  A group of intergalactic criminals are forced ...    James Gunn   \n",
       "1  Following clues to the origin of mankind, a te...  Ridley Scott   \n",
       "\n",
       "                                              Actors  Year  Runtime  Rating  \\\n",
       "0  Chris Pratt, Vin Diesel, Bradley Cooper, Zoe S...  2014      121     8.1   \n",
       "1  Noomi Rapace, Logan Marshall-Green, Michael Fa...  2012      124     7.0   \n",
       "\n",
       "    Votes  Revenue  Metascore  \n",
       "0  757074   333.13       76.0  \n",
       "1  485820   126.46       65.0  "
      ]
     },
     "execution_count": 255,
     "metadata": {},
     "output_type": "execute_result"
    }
   ],
   "source": [
    "change_names = {'Rank':'ID', 'Revenue (Millions)':'Revenue', 'Runtime (Minutes)':'Runtime'}\n",
    "movies = movies.rename(change_names, axis='columns')\n",
    "movies.head(2)"
   ]
  },
  {
   "cell_type": "markdown",
   "metadata": {},
   "source": [
    "In the data processing that follows, it is convenient to have Title as a single level index that refers to unique movies.\n",
    "\n",
    "This can be done by renaming the duplicates to {title}:{year}"
   ]
  },
  {
   "cell_type": "code",
   "execution_count": 256,
   "metadata": {},
   "outputs": [
    {
     "data": {
      "text/html": [
       "<div>\n",
       "<style scoped>\n",
       "    .dataframe tbody tr th:only-of-type {\n",
       "        vertical-align: middle;\n",
       "    }\n",
       "\n",
       "    .dataframe tbody tr th {\n",
       "        vertical-align: top;\n",
       "    }\n",
       "\n",
       "    .dataframe thead th {\n",
       "        text-align: right;\n",
       "    }\n",
       "</style>\n",
       "<table border=\"1\" class=\"dataframe\">\n",
       "  <thead>\n",
       "    <tr style=\"text-align: right;\">\n",
       "      <th></th>\n",
       "      <th>Title</th>\n",
       "      <th>Genre</th>\n",
       "      <th>Description</th>\n",
       "      <th>Director</th>\n",
       "      <th>Actors</th>\n",
       "      <th>Year</th>\n",
       "      <th>Runtime</th>\n",
       "      <th>Rating</th>\n",
       "      <th>Votes</th>\n",
       "      <th>Revenue</th>\n",
       "      <th>Metascore</th>\n",
       "    </tr>\n",
       "    <tr>\n",
       "      <th>ID</th>\n",
       "      <th></th>\n",
       "      <th></th>\n",
       "      <th></th>\n",
       "      <th></th>\n",
       "      <th></th>\n",
       "      <th></th>\n",
       "      <th></th>\n",
       "      <th></th>\n",
       "      <th></th>\n",
       "      <th></th>\n",
       "      <th></th>\n",
       "    </tr>\n",
       "  </thead>\n",
       "  <tbody>\n",
       "    <tr>\n",
       "      <th>240</th>\n",
       "      <td>The Host</td>\n",
       "      <td>Action,Adventure,Romance</td>\n",
       "      <td>When an unseen enemy threatens mankind by taki...</td>\n",
       "      <td>Andrew Niccol</td>\n",
       "      <td>Saoirse Ronan, Max Irons, Jake Abel, Diane Kruger</td>\n",
       "      <td>2013</td>\n",
       "      <td>125</td>\n",
       "      <td>5.9</td>\n",
       "      <td>96852</td>\n",
       "      <td>26.62</td>\n",
       "      <td>35.0</td>\n",
       "    </tr>\n",
       "    <tr>\n",
       "      <th>633</th>\n",
       "      <td>The Host</td>\n",
       "      <td>Comedy,Drama,Horror</td>\n",
       "      <td>A monster emerges from Seoul's Han River and f...</td>\n",
       "      <td>Bong Joon Ho</td>\n",
       "      <td>Kang-ho Song, Hee-Bong Byun, Hae-il Park, Doon...</td>\n",
       "      <td>2006</td>\n",
       "      <td>120</td>\n",
       "      <td>7.0</td>\n",
       "      <td>73491</td>\n",
       "      <td>2.20</td>\n",
       "      <td>85.0</td>\n",
       "    </tr>\n",
       "  </tbody>\n",
       "</table>\n",
       "</div>"
      ],
      "text/plain": [
       "        Title                     Genre  \\\n",
       "ID                                        \n",
       "240  The Host  Action,Adventure,Romance   \n",
       "633  The Host       Comedy,Drama,Horror   \n",
       "\n",
       "                                           Description       Director  \\\n",
       "ID                                                                      \n",
       "240  When an unseen enemy threatens mankind by taki...  Andrew Niccol   \n",
       "633  A monster emerges from Seoul's Han River and f...   Bong Joon Ho   \n",
       "\n",
       "                                                Actors  Year  Runtime  Rating  \\\n",
       "ID                                                                              \n",
       "240  Saoirse Ronan, Max Irons, Jake Abel, Diane Kruger  2013      125     5.9   \n",
       "633  Kang-ho Song, Hee-Bong Byun, Hae-il Park, Doon...  2006      120     7.0   \n",
       "\n",
       "     Votes  Revenue  Metascore  \n",
       "ID                              \n",
       "240  96852    26.62       35.0  \n",
       "633  73491     2.20       85.0  "
      ]
     },
     "execution_count": 256,
     "metadata": {},
     "output_type": "execute_result"
    }
   ],
   "source": [
    "movies = movies.set_index('ID')\n",
    "dups = get_dups(movies, ['Title'])\n",
    "dups"
   ]
  },
  {
   "cell_type": "code",
   "execution_count": 257,
   "metadata": {},
   "outputs": [],
   "source": [
    "for id in dups.index:\n",
    "    movies.loc[id, 'Title'] += ': ' + movies.loc[id, 'Year'].astype('str')"
   ]
  },
  {
   "cell_type": "code",
   "execution_count": 258,
   "metadata": {},
   "outputs": [
    {
     "data": {
      "text/html": [
       "<div>\n",
       "<style scoped>\n",
       "    .dataframe tbody tr th:only-of-type {\n",
       "        vertical-align: middle;\n",
       "    }\n",
       "\n",
       "    .dataframe tbody tr th {\n",
       "        vertical-align: top;\n",
       "    }\n",
       "\n",
       "    .dataframe thead th {\n",
       "        text-align: right;\n",
       "    }\n",
       "</style>\n",
       "<table border=\"1\" class=\"dataframe\">\n",
       "  <thead>\n",
       "    <tr style=\"text-align: right;\">\n",
       "      <th></th>\n",
       "      <th>Title</th>\n",
       "      <th>Genre</th>\n",
       "      <th>Description</th>\n",
       "      <th>Director</th>\n",
       "      <th>Actors</th>\n",
       "      <th>Year</th>\n",
       "      <th>Runtime</th>\n",
       "      <th>Rating</th>\n",
       "      <th>Votes</th>\n",
       "      <th>Revenue</th>\n",
       "      <th>Metascore</th>\n",
       "    </tr>\n",
       "    <tr>\n",
       "      <th>ID</th>\n",
       "      <th></th>\n",
       "      <th></th>\n",
       "      <th></th>\n",
       "      <th></th>\n",
       "      <th></th>\n",
       "      <th></th>\n",
       "      <th></th>\n",
       "      <th></th>\n",
       "      <th></th>\n",
       "      <th></th>\n",
       "      <th></th>\n",
       "    </tr>\n",
       "  </thead>\n",
       "  <tbody>\n",
       "    <tr>\n",
       "      <th>240</th>\n",
       "      <td>The Host: 2013</td>\n",
       "      <td>Action,Adventure,Romance</td>\n",
       "      <td>When an unseen enemy threatens mankind by taki...</td>\n",
       "      <td>Andrew Niccol</td>\n",
       "      <td>Saoirse Ronan, Max Irons, Jake Abel, Diane Kruger</td>\n",
       "      <td>2013</td>\n",
       "      <td>125</td>\n",
       "      <td>5.9</td>\n",
       "      <td>96852</td>\n",
       "      <td>26.62</td>\n",
       "      <td>35.0</td>\n",
       "    </tr>\n",
       "    <tr>\n",
       "      <th>633</th>\n",
       "      <td>The Host: 2006</td>\n",
       "      <td>Comedy,Drama,Horror</td>\n",
       "      <td>A monster emerges from Seoul's Han River and f...</td>\n",
       "      <td>Bong Joon Ho</td>\n",
       "      <td>Kang-ho Song, Hee-Bong Byun, Hae-il Park, Doon...</td>\n",
       "      <td>2006</td>\n",
       "      <td>120</td>\n",
       "      <td>7.0</td>\n",
       "      <td>73491</td>\n",
       "      <td>2.20</td>\n",
       "      <td>85.0</td>\n",
       "    </tr>\n",
       "  </tbody>\n",
       "</table>\n",
       "</div>"
      ],
      "text/plain": [
       "              Title                     Genre  \\\n",
       "ID                                              \n",
       "240  The Host: 2013  Action,Adventure,Romance   \n",
       "633  The Host: 2006       Comedy,Drama,Horror   \n",
       "\n",
       "                                           Description       Director  \\\n",
       "ID                                                                      \n",
       "240  When an unseen enemy threatens mankind by taki...  Andrew Niccol   \n",
       "633  A monster emerges from Seoul's Han River and f...   Bong Joon Ho   \n",
       "\n",
       "                                                Actors  Year  Runtime  Rating  \\\n",
       "ID                                                                              \n",
       "240  Saoirse Ronan, Max Irons, Jake Abel, Diane Kruger  2013      125     5.9   \n",
       "633  Kang-ho Song, Hee-Bong Byun, Hae-il Park, Doon...  2006      120     7.0   \n",
       "\n",
       "     Votes  Revenue  Metascore  \n",
       "ID                              \n",
       "240  96852    26.62       35.0  \n",
       "633  73491     2.20       85.0  "
      ]
     },
     "execution_count": 258,
     "metadata": {},
     "output_type": "execute_result"
    }
   ],
   "source": [
    "# Verify change to unique Title\n",
    "movies.loc[dups.index]"
   ]
  },
  {
   "cell_type": "code",
   "execution_count": 259,
   "metadata": {},
   "outputs": [],
   "source": [
    "# verify titles are now unique\n",
    "get_dups(movies, ['Title'])"
   ]
  },
  {
   "cell_type": "code",
   "execution_count": 260,
   "metadata": {},
   "outputs": [],
   "source": [
    "# save a copy for to easily revert back to\n",
    "movies_copy = movies.copy()"
   ]
  },
  {
   "cell_type": "markdown",
   "metadata": {
    "toc-hr-collapsed": false
   },
   "source": [
    "### Simple Data Queries"
   ]
  },
  {
   "cell_type": "code",
   "execution_count": 261,
   "metadata": {},
   "outputs": [
    {
     "name": "stdout",
     "output_type": "stream",
     "text": [
      "Shortest Runtime:  66 minutes\n",
      "Longest Runtime:  191 minutes\n"
     ]
    }
   ],
   "source": [
    "# find the longest and shortest Runtimes\n",
    "runtime_min = movies['Runtime'].min()\n",
    "runtime_max = movies['Runtime'].max()\n",
    "print(f\"Shortest Runtime: {runtime_min:>3} minutes\")\n",
    "print(f\"Longest Runtime:  {runtime_max:>3} minutes\")"
   ]
  },
  {
   "cell_type": "code",
   "execution_count": 262,
   "metadata": {},
   "outputs": [
    {
     "data": {
      "text/plain": [
       "count    1000.000000\n",
       "mean      113.172000\n",
       "std        18.810908\n",
       "min        66.000000\n",
       "25%       100.000000\n",
       "50%       111.000000\n",
       "75%       123.000000\n",
       "max       191.000000\n",
       "Name: Runtime, dtype: float64"
      ]
     },
     "execution_count": 262,
     "metadata": {},
     "output_type": "execute_result"
    }
   ],
   "source": [
    "# find stats about Runtime\n",
    "movies['Runtime'].describe()"
   ]
  },
  {
   "cell_type": "code",
   "execution_count": 263,
   "metadata": {},
   "outputs": [
    {
     "name": "stdout",
     "output_type": "stream",
     "text": [
      "66.0 191.0\n"
     ]
    }
   ],
   "source": [
    "stats = movies['Runtime'].describe()\n",
    "print(stats['min'], stats['max'])"
   ]
  },
  {
   "cell_type": "markdown",
   "metadata": {},
   "source": [
    "### Using sum() and mean() with Boolean Series\n",
    "True is 1, False is 0  \n",
    "sum() counts the number of True values  \n",
    "mean() computes the fraction of True values  "
   ]
  },
  {
   "cell_type": "code",
   "execution_count": 192,
   "metadata": {},
   "outputs": [
    {
     "name": "stdout",
     "output_type": "stream",
     "text": [
      "24.60 percent of movies are longer than 123 minutes\n"
     ]
    }
   ],
   "source": [
    "# verify 75th percentile above\n",
    "# expect about 25% of the movies longer than 123 minutes\n",
    "fraction = (movies['Runtime'] > 123).mean()\n",
    "print(f'{fraction*100:3.2f} percent of movies are longer than 123 minutes')"
   ]
  },
  {
   "cell_type": "code",
   "execution_count": 193,
   "metadata": {},
   "outputs": [
    {
     "data": {
      "text/html": [
       "<div>\n",
       "<style scoped>\n",
       "    .dataframe tbody tr th:only-of-type {\n",
       "        vertical-align: middle;\n",
       "    }\n",
       "\n",
       "    .dataframe tbody tr th {\n",
       "        vertical-align: top;\n",
       "    }\n",
       "\n",
       "    .dataframe thead th {\n",
       "        text-align: right;\n",
       "    }\n",
       "</style>\n",
       "<table border=\"1\" class=\"dataframe\">\n",
       "  <thead>\n",
       "    <tr style=\"text-align: right;\">\n",
       "      <th></th>\n",
       "      <th>Title</th>\n",
       "      <th>Genre</th>\n",
       "      <th>Description</th>\n",
       "      <th>Director</th>\n",
       "      <th>Actors</th>\n",
       "      <th>Year</th>\n",
       "      <th>Runtime</th>\n",
       "      <th>Rating</th>\n",
       "      <th>Votes</th>\n",
       "      <th>Revenue</th>\n",
       "      <th>Metascore</th>\n",
       "    </tr>\n",
       "    <tr>\n",
       "      <th>ID</th>\n",
       "      <th></th>\n",
       "      <th></th>\n",
       "      <th></th>\n",
       "      <th></th>\n",
       "      <th></th>\n",
       "      <th></th>\n",
       "      <th></th>\n",
       "      <th></th>\n",
       "      <th></th>\n",
       "      <th></th>\n",
       "      <th></th>\n",
       "    </tr>\n",
       "  </thead>\n",
       "  <tbody>\n",
       "    <tr>\n",
       "      <th>55</th>\n",
       "      <td>The Dark Knight</td>\n",
       "      <td>Action,Crime,Drama</td>\n",
       "      <td>When the menace known as the Joker wreaks havo...</td>\n",
       "      <td>Christopher Nolan</td>\n",
       "      <td>Christian Bale, Heath Ledger, Aaron Eckhart,Mi...</td>\n",
       "      <td>2008</td>\n",
       "      <td>152</td>\n",
       "      <td>9.0</td>\n",
       "      <td>1791916</td>\n",
       "      <td>533.32</td>\n",
       "      <td>82.0</td>\n",
       "    </tr>\n",
       "  </tbody>\n",
       "</table>\n",
       "</div>"
      ],
      "text/plain": [
       "              Title               Genre  \\\n",
       "ID                                        \n",
       "55  The Dark Knight  Action,Crime,Drama   \n",
       "\n",
       "                                          Description           Director  \\\n",
       "ID                                                                         \n",
       "55  When the menace known as the Joker wreaks havo...  Christopher Nolan   \n",
       "\n",
       "                                               Actors  Year  Runtime  Rating  \\\n",
       "ID                                                                             \n",
       "55  Christian Bale, Heath Ledger, Aaron Eckhart,Mi...  2008      152     9.0   \n",
       "\n",
       "      Votes  Revenue  Metascore  \n",
       "ID                               \n",
       "55  1791916   533.32       82.0  "
      ]
     },
     "execution_count": 193,
     "metadata": {},
     "output_type": "execute_result"
    }
   ],
   "source": [
    "# display the row with the highest rating\n",
    "criteria = (movies['Rating'].max() == movies['Rating'])\n",
    "movies[criteria]"
   ]
  },
  {
   "cell_type": "markdown",
   "metadata": {
    "toc-hr-collapsed": true
   },
   "source": [
    "## Series have a Single Data Type\n",
    "A Series is implemented as a numpy array with all values having the same data type.\n",
    "\n",
    "As everything is a subclass of \"object\", a Series of type \"object\" can hold values of any data type."
   ]
  },
  {
   "cell_type": "code",
   "execution_count": 194,
   "metadata": {},
   "outputs": [
    {
     "data": {
      "text/plain": [
       "dtype('float64')"
      ]
     },
     "execution_count": 194,
     "metadata": {},
     "output_type": "execute_result"
    }
   ],
   "source": [
    "# numpy creates a float64 array by default\n",
    "a = np.ndarray([1, 2, 3])\n",
    "a.dtype"
   ]
  },
  {
   "cell_type": "code",
   "execution_count": 195,
   "metadata": {},
   "outputs": [
    {
     "data": {
      "text/plain": [
       "dtype('int32')"
      ]
     },
     "execution_count": 195,
     "metadata": {},
     "output_type": "execute_result"
    }
   ],
   "source": [
    "# tell numpy what type of array to create\n",
    "a = np.ndarray([1, 2, 3], dtype='int32')\n",
    "a.dtype"
   ]
  },
  {
   "cell_type": "code",
   "execution_count": 196,
   "metadata": {},
   "outputs": [
    {
     "data": {
      "text/plain": [
       "dtype('int64')"
      ]
     },
     "execution_count": 196,
     "metadata": {},
     "output_type": "execute_result"
    }
   ],
   "source": [
    "# Pandas creates an int64 Series by default, for integers\n",
    "s = pd.Series([1, 2, 3])\n",
    "s.dtype"
   ]
  },
  {
   "cell_type": "code",
   "execution_count": 197,
   "metadata": {},
   "outputs": [
    {
     "data": {
      "text/plain": [
       "dtype('int32')"
      ]
     },
     "execution_count": 197,
     "metadata": {},
     "output_type": "execute_result"
    }
   ],
   "source": [
    "# tell Pandas what type of Series to create\n",
    "s = pd.Series([1, 2, 3], dtype='int32')\n",
    "s.dtype"
   ]
  },
  {
   "cell_type": "markdown",
   "metadata": {
    "toc-hr-collapsed": true
   },
   "source": [
    "## Unknown Values\n",
    "In data analysis every variable can have a value that is either: \"known\" or \"unknown\".  \n",
    "\n",
    "Another name for \"unknown\" is \"null\".\n",
    "\n",
    "In Pandas and Numpy, \"np.nan\" is used to represent \"unknown\" or \"null\"."
   ]
  },
  {
   "cell_type": "markdown",
   "metadata": {},
   "source": [
    "#### Example of known/unknown:  \n",
    "A person is asked a yes/no question and refuses to answer; the answer is: \"unknown\"  \n",
    "A person answers yes; the answer is: yes"
   ]
  },
  {
   "cell_type": "code",
   "execution_count": 198,
   "metadata": {},
   "outputs": [
    {
     "data": {
      "text/plain": [
       "True"
      ]
     },
     "execution_count": 198,
     "metadata": {},
     "output_type": "execute_result"
    }
   ],
   "source": [
    "# nan is either written as np.nan or np.NaN\n",
    "np.nan is np.NaN"
   ]
  },
  {
   "cell_type": "code",
   "execution_count": 199,
   "metadata": {},
   "outputs": [
    {
     "name": "stdout",
     "output_type": "stream",
     "text": [
      "False\n",
      "False\n",
      "False\n",
      "True\n"
     ]
    }
   ],
   "source": [
    "# any relational operator with \"unknown\" produces an \"unknown\" result\n",
    "print(3 < np.nan)\n",
    "print(3 > np.nan)\n",
    "print(np.nan == np.nan)\n",
    "\n",
    "# a special operater is needed to determine if the value is unknown\n",
    "print(np.isnan(np.nan))"
   ]
  },
  {
   "cell_type": "code",
   "execution_count": 200,
   "metadata": {},
   "outputs": [
    {
     "data": {
      "text/plain": [
       "float"
      ]
     },
     "execution_count": 200,
     "metadata": {},
     "output_type": "execute_result"
    }
   ],
   "source": [
    "# the data type of np.nan is float\n",
    "type(np.nan)"
   ]
  },
  {
   "cell_type": "markdown",
   "metadata": {
    "toc-hr-collapsed": true
   },
   "source": [
    "## A Series with an Unknown Value\n",
    "If any of the values are unknown, than the type of the series must be float or object in order to hold np.nan."
   ]
  },
  {
   "cell_type": "code",
   "execution_count": 201,
   "metadata": {},
   "outputs": [
    {
     "name": "stdout",
     "output_type": "stream",
     "text": [
      "int64\n",
      "float64\n"
     ]
    }
   ],
   "source": [
    "# Pandas defaults this to int64\n",
    "s = pd.Series([1, 2, 3])\n",
    "print(s.dtype)\n",
    "\n",
    "# Pandas defaults this to float64, so it can hold np.nan\n",
    "s = pd.Series([1, 2, 3, np.nan])\n",
    "print(s.dtype)"
   ]
  },
  {
   "cell_type": "code",
   "execution_count": 202,
   "metadata": {},
   "outputs": [
    {
     "data": {
      "text/plain": [
       "dtype('O')"
      ]
     },
     "execution_count": 202,
     "metadata": {},
     "output_type": "execute_result"
    }
   ],
   "source": [
    "# the only way to hold non-numeric types is to use the catch-all, 'object'\n",
    "# a Pandas row will often contain values of different data types\n",
    "s = pd.Series([{\"one\":1}, [2, 3], (3,4), 5])\n",
    "s.dtype"
   ]
  },
  {
   "cell_type": "code",
   "execution_count": 203,
   "metadata": {},
   "outputs": [
    {
     "data": {
      "text/plain": [
       "dtype('O')"
      ]
     },
     "execution_count": 203,
     "metadata": {},
     "output_type": "execute_result"
    }
   ],
   "source": [
    "# the default way to hold strings is also to use 'object'\n",
    "s = pd.Series(['one', 'two'])\n",
    "s.dtype"
   ]
  },
  {
   "cell_type": "markdown",
   "metadata": {},
   "source": [
    "In practice, a Series of type 'object' almost always holds strings and only strings."
   ]
  },
  {
   "cell_type": "markdown",
   "metadata": {},
   "source": [
    "### Handling Null Values"
   ]
  },
  {
   "cell_type": "code",
   "execution_count": 204,
   "metadata": {},
   "outputs": [
    {
     "data": {
      "text/plain": [
       "True"
      ]
     },
     "execution_count": 204,
     "metadata": {},
     "output_type": "execute_result"
    }
   ],
   "source": [
    "# note: metascore is a view into the DataFrame, not a copy\n",
    "metascore = movies['Metascore']\n",
    "metascore is movies['Metascore']"
   ]
  },
  {
   "cell_type": "code",
   "execution_count": 205,
   "metadata": {},
   "outputs": [
    {
     "data": {
      "text/plain": [
       "936"
      ]
     },
     "execution_count": 205,
     "metadata": {},
     "output_type": "execute_result"
    }
   ],
   "source": [
    "# number of non-null values\n",
    "metascore.count()"
   ]
  },
  {
   "cell_type": "code",
   "execution_count": 206,
   "metadata": {},
   "outputs": [
    {
     "data": {
      "text/plain": [
       "64"
      ]
     },
     "execution_count": 206,
     "metadata": {},
     "output_type": "execute_result"
    }
   ],
   "source": [
    "# number of null values\n",
    "metascore.isnull().sum()"
   ]
  },
  {
   "cell_type": "code",
   "execution_count": 207,
   "metadata": {},
   "outputs": [
    {
     "data": {
      "text/plain": [
       "55210.0"
      ]
     },
     "execution_count": 207,
     "metadata": {},
     "output_type": "execute_result"
    }
   ],
   "source": [
    "# sum of non-null values\n",
    "metascore.sum()"
   ]
  },
  {
   "cell_type": "code",
   "execution_count": 208,
   "metadata": {},
   "outputs": [
    {
     "data": {
      "text/plain": [
       "58.98504273504273"
      ]
     },
     "execution_count": 208,
     "metadata": {},
     "output_type": "execute_result"
    }
   ],
   "source": [
    "# compute the average of the non-null values\n",
    "metascore.sum() / metascore.count()"
   ]
  },
  {
   "cell_type": "code",
   "execution_count": 209,
   "metadata": {},
   "outputs": [
    {
     "data": {
      "text/plain": [
       "58.98504273504273"
      ]
     },
     "execution_count": 209,
     "metadata": {},
     "output_type": "execute_result"
    }
   ],
   "source": [
    "# compute the average of the non-null values\n",
    "metascore.mean()"
   ]
  },
  {
   "cell_type": "code",
   "execution_count": 210,
   "metadata": {},
   "outputs": [],
   "source": [
    "# When using Machine Learning algorithms, it can be helpful impute a missing value rather than \n",
    "# use null.  Sometimes a good imputed value is to use the mean.\n",
    "metascore = metascore.fillna(value=metascore.mean())"
   ]
  },
  {
   "cell_type": "code",
   "execution_count": 211,
   "metadata": {},
   "outputs": [
    {
     "data": {
      "text/plain": [
       "1000"
      ]
     },
     "execution_count": 211,
     "metadata": {},
     "output_type": "execute_result"
    }
   ],
   "source": [
    "metascore.count()"
   ]
  },
  {
   "cell_type": "code",
   "execution_count": 212,
   "metadata": {},
   "outputs": [
    {
     "data": {
      "text/plain": [
       "58.985042735042626"
      ]
     },
     "execution_count": 212,
     "metadata": {},
     "output_type": "execute_result"
    }
   ],
   "source": [
    "# one reason for imputing with the mean value is that it does not change the overall mean\n",
    "# of the column\n",
    "metascore.mean()"
   ]
  },
  {
   "cell_type": "markdown",
   "metadata": {
    "toc-hr-collapsed": true
   },
   "source": [
    "## Data Wrangling: Queries involving Genre\n",
    "Each cell in the Genre column is a single string.  This string consists of several genres separated by commas.  The Actors column is similar.\n",
    "\n",
    "With data in this format, it is not obvious how to answer queries such as \"what genre has the highest average rating?\".\n",
    "\n",
    "There are (at least) three ways to wrangle this column's data:\n",
    "1. Create an indicator column for the presence/absence of each genre for each movie\n",
    "2. Compute movies per genre on the fly using apply\n",
    "3. Use a dictionary of genre_to_title\n",
    "\n",
    "In all cases, it is helpful to compute the set of unique Genres (or unique Actors), before doing data analysis.\n",
    "\n",
    "Examples of each of the above 3 ways of dealing with multiple values inside a single string follow."
   ]
  },
  {
   "cell_type": "code",
   "execution_count": 220,
   "metadata": {},
   "outputs": [
    {
     "data": {
      "text/html": [
       "<div>\n",
       "<style scoped>\n",
       "    .dataframe tbody tr th:only-of-type {\n",
       "        vertical-align: middle;\n",
       "    }\n",
       "\n",
       "    .dataframe tbody tr th {\n",
       "        vertical-align: top;\n",
       "    }\n",
       "\n",
       "    .dataframe thead th {\n",
       "        text-align: right;\n",
       "    }\n",
       "</style>\n",
       "<table border=\"1\" class=\"dataframe\">\n",
       "  <thead>\n",
       "    <tr style=\"text-align: right;\">\n",
       "      <th></th>\n",
       "      <th>Title</th>\n",
       "      <th>Genre</th>\n",
       "      <th>Description</th>\n",
       "      <th>Director</th>\n",
       "      <th>Actors</th>\n",
       "      <th>Year</th>\n",
       "      <th>Runtime</th>\n",
       "      <th>Rating</th>\n",
       "      <th>Votes</th>\n",
       "      <th>Revenue</th>\n",
       "      <th>Metascore</th>\n",
       "    </tr>\n",
       "    <tr>\n",
       "      <th>ID</th>\n",
       "      <th></th>\n",
       "      <th></th>\n",
       "      <th></th>\n",
       "      <th></th>\n",
       "      <th></th>\n",
       "      <th></th>\n",
       "      <th></th>\n",
       "      <th></th>\n",
       "      <th></th>\n",
       "      <th></th>\n",
       "      <th></th>\n",
       "    </tr>\n",
       "  </thead>\n",
       "  <tbody>\n",
       "    <tr>\n",
       "      <th>1</th>\n",
       "      <td>Guardians of the Galaxy</td>\n",
       "      <td>Action,Adventure,Sci-Fi</td>\n",
       "      <td>A group of intergalactic criminals are forced ...</td>\n",
       "      <td>James Gunn</td>\n",
       "      <td>Chris Pratt, Vin Diesel, Bradley Cooper, Zoe S...</td>\n",
       "      <td>2014</td>\n",
       "      <td>121</td>\n",
       "      <td>8.1</td>\n",
       "      <td>757074</td>\n",
       "      <td>333.13</td>\n",
       "      <td>76.0</td>\n",
       "    </tr>\n",
       "    <tr>\n",
       "      <th>2</th>\n",
       "      <td>Prometheus</td>\n",
       "      <td>Adventure,Mystery,Sci-Fi</td>\n",
       "      <td>Following clues to the origin of mankind, a te...</td>\n",
       "      <td>Ridley Scott</td>\n",
       "      <td>Noomi Rapace, Logan Marshall-Green, Michael Fa...</td>\n",
       "      <td>2012</td>\n",
       "      <td>124</td>\n",
       "      <td>7.0</td>\n",
       "      <td>485820</td>\n",
       "      <td>126.46</td>\n",
       "      <td>65.0</td>\n",
       "    </tr>\n",
       "  </tbody>\n",
       "</table>\n",
       "</div>"
      ],
      "text/plain": [
       "                      Title                     Genre  \\\n",
       "ID                                                      \n",
       "1   Guardians of the Galaxy   Action,Adventure,Sci-Fi   \n",
       "2                Prometheus  Adventure,Mystery,Sci-Fi   \n",
       "\n",
       "                                          Description      Director  \\\n",
       "ID                                                                    \n",
       "1   A group of intergalactic criminals are forced ...    James Gunn   \n",
       "2   Following clues to the origin of mankind, a te...  Ridley Scott   \n",
       "\n",
       "                                               Actors  Year  Runtime  Rating  \\\n",
       "ID                                                                             \n",
       "1   Chris Pratt, Vin Diesel, Bradley Cooper, Zoe S...  2014      121     8.1   \n",
       "2   Noomi Rapace, Logan Marshall-Green, Michael Fa...  2012      124     7.0   \n",
       "\n",
       "     Votes  Revenue  Metascore  \n",
       "ID                              \n",
       "1   757074   333.13       76.0  \n",
       "2   485820   126.46       65.0  "
      ]
     },
     "execution_count": 220,
     "metadata": {},
     "output_type": "execute_result"
    }
   ],
   "source": [
    "# get the original movies dataset after processing\n",
    "movies = movies_copy.copy()\n",
    "movies.head(2)"
   ]
  },
  {
   "cell_type": "code",
   "execution_count": 221,
   "metadata": {},
   "outputs": [
    {
     "data": {
      "text/html": [
       "<div>\n",
       "<style scoped>\n",
       "    .dataframe tbody tr th:only-of-type {\n",
       "        vertical-align: middle;\n",
       "    }\n",
       "\n",
       "    .dataframe tbody tr th {\n",
       "        vertical-align: top;\n",
       "    }\n",
       "\n",
       "    .dataframe thead th {\n",
       "        text-align: right;\n",
       "    }\n",
       "</style>\n",
       "<table border=\"1\" class=\"dataframe\">\n",
       "  <thead>\n",
       "    <tr style=\"text-align: right;\">\n",
       "      <th></th>\n",
       "      <th>ID</th>\n",
       "      <th>Genre</th>\n",
       "      <th>Description</th>\n",
       "      <th>Director</th>\n",
       "      <th>Actors</th>\n",
       "      <th>Year</th>\n",
       "      <th>Runtime</th>\n",
       "      <th>Rating</th>\n",
       "      <th>Votes</th>\n",
       "      <th>Revenue</th>\n",
       "      <th>Metascore</th>\n",
       "    </tr>\n",
       "    <tr>\n",
       "      <th>Title</th>\n",
       "      <th></th>\n",
       "      <th></th>\n",
       "      <th></th>\n",
       "      <th></th>\n",
       "      <th></th>\n",
       "      <th></th>\n",
       "      <th></th>\n",
       "      <th></th>\n",
       "      <th></th>\n",
       "      <th></th>\n",
       "      <th></th>\n",
       "    </tr>\n",
       "  </thead>\n",
       "  <tbody>\n",
       "    <tr>\n",
       "      <th>Guardians of the Galaxy</th>\n",
       "      <td>1</td>\n",
       "      <td>Action,Adventure,Sci-Fi</td>\n",
       "      <td>A group of intergalactic criminals are forced ...</td>\n",
       "      <td>James Gunn</td>\n",
       "      <td>Chris Pratt, Vin Diesel, Bradley Cooper, Zoe S...</td>\n",
       "      <td>2014</td>\n",
       "      <td>121</td>\n",
       "      <td>8.1</td>\n",
       "      <td>757074</td>\n",
       "      <td>333.13</td>\n",
       "      <td>76.0</td>\n",
       "    </tr>\n",
       "    <tr>\n",
       "      <th>Prometheus</th>\n",
       "      <td>2</td>\n",
       "      <td>Adventure,Mystery,Sci-Fi</td>\n",
       "      <td>Following clues to the origin of mankind, a te...</td>\n",
       "      <td>Ridley Scott</td>\n",
       "      <td>Noomi Rapace, Logan Marshall-Green, Michael Fa...</td>\n",
       "      <td>2012</td>\n",
       "      <td>124</td>\n",
       "      <td>7.0</td>\n",
       "      <td>485820</td>\n",
       "      <td>126.46</td>\n",
       "      <td>65.0</td>\n",
       "    </tr>\n",
       "  </tbody>\n",
       "</table>\n",
       "</div>"
      ],
      "text/plain": [
       "                         ID                     Genre  \\\n",
       "Title                                                   \n",
       "Guardians of the Galaxy   1   Action,Adventure,Sci-Fi   \n",
       "Prometheus                2  Adventure,Mystery,Sci-Fi   \n",
       "\n",
       "                                                               Description  \\\n",
       "Title                                                                        \n",
       "Guardians of the Galaxy  A group of intergalactic criminals are forced ...   \n",
       "Prometheus               Following clues to the origin of mankind, a te...   \n",
       "\n",
       "                             Director  \\\n",
       "Title                                   \n",
       "Guardians of the Galaxy    James Gunn   \n",
       "Prometheus               Ridley Scott   \n",
       "\n",
       "                                                                    Actors  \\\n",
       "Title                                                                        \n",
       "Guardians of the Galaxy  Chris Pratt, Vin Diesel, Bradley Cooper, Zoe S...   \n",
       "Prometheus               Noomi Rapace, Logan Marshall-Green, Michael Fa...   \n",
       "\n",
       "                         Year  Runtime  Rating   Votes  Revenue  Metascore  \n",
       "Title                                                                       \n",
       "Guardians of the Galaxy  2014      121     8.1  757074   333.13       76.0  \n",
       "Prometheus               2012      124     7.0  485820   126.46       65.0  "
      ]
     },
     "execution_count": 221,
     "metadata": {},
     "output_type": "execute_result"
    }
   ],
   "source": [
    "movies = movies.reset_index(drop=False).set_index('Title', drop=True)\n",
    "movies.head(2)"
   ]
  },
  {
   "cell_type": "code",
   "execution_count": 222,
   "metadata": {},
   "outputs": [
    {
     "data": {
      "text/plain": [
       "Title\n",
       "Guardians of the Galaxy     Action,Adventure,Sci-Fi\n",
       "Prometheus                 Adventure,Mystery,Sci-Fi\n",
       "Split                               Horror,Thriller\n",
       "Sing                        Animation,Comedy,Family\n",
       "Suicide Squad              Action,Adventure,Fantasy\n",
       "Name: Genre, dtype: object"
      ]
     },
     "execution_count": 222,
     "metadata": {},
     "output_type": "execute_result"
    }
   ],
   "source": [
    "# Look at Genre as is\n",
    "movies['Genre'].head(5)"
   ]
  },
  {
   "cell_type": "code",
   "execution_count": 223,
   "metadata": {},
   "outputs": [
    {
     "data": {
      "text/plain": [
       "Ridley Scott          8\n",
       "Michael Bay           6\n",
       "David Yates           6\n",
       "Paul W.S. Anderson    6\n",
       "M. Night Shyamalan    6\n",
       "Name: Director, dtype: int64"
      ]
     },
     "execution_count": 223,
     "metadata": {},
     "output_type": "execute_result"
    }
   ],
   "source": [
    "# normal way of finding unique values\n",
    "# works when cell contains one value\n",
    "movies['Director'].value_counts().head()"
   ]
  },
  {
   "cell_type": "code",
   "execution_count": 225,
   "metadata": {},
   "outputs": [
    {
     "data": {
      "text/plain": [
       "Action,Adventure,Sci-Fi    50\n",
       "Drama                      48\n",
       "Comedy,Drama,Romance       35\n",
       "Comedy                     32\n",
       "Drama,Romance              31\n",
       "Name: Genre, dtype: int64"
      ]
     },
     "execution_count": 225,
     "metadata": {},
     "output_type": "execute_result"
    }
   ],
   "source": [
    "# this doesnt work the way we want it to for Genre or Actor\n",
    "movies['Genre'].value_counts().head()"
   ]
  },
  {
   "cell_type": "markdown",
   "metadata": {},
   "source": [
    "The above is count per genre string, not per genre."
   ]
  },
  {
   "cell_type": "code",
   "execution_count": 226,
   "metadata": {},
   "outputs": [],
   "source": [
    "def parse_genre_string(s):\n",
    "    \"\"\"Convert string with comma separated values to list of strings.\n",
    "    For each string, remove leading and trailing whitespace.\n",
    "    \"\"\"\n",
    "    genres = s.split(',')\n",
    "    return [genre.strip() for genre in genres]"
   ]
  },
  {
   "cell_type": "code",
   "execution_count": 227,
   "metadata": {},
   "outputs": [
    {
     "data": {
      "text/plain": [
       "Title\n",
       "Guardians of the Galaxy     [Action, Adventure, Sci-Fi]\n",
       "Prometheus                 [Adventure, Mystery, Sci-Fi]\n",
       "Split                                [Horror, Thriller]\n",
       "Sing                        [Animation, Comedy, Family]\n",
       "Suicide Squad              [Action, Adventure, Fantasy]\n",
       "Name: Genre, dtype: object"
      ]
     },
     "execution_count": 227,
     "metadata": {},
     "output_type": "execute_result"
    }
   ],
   "source": [
    "# with parsing of Genre string to list of genres\n",
    "movies['Genre'].apply(parse_genre_string).head(5)"
   ]
  },
  {
   "cell_type": "code",
   "execution_count": 228,
   "metadata": {},
   "outputs": [
    {
     "data": {
      "text/plain": [
       "{'Action',\n",
       " 'Adventure',\n",
       " 'Animation',\n",
       " 'Biography',\n",
       " 'Comedy',\n",
       " 'Crime',\n",
       " 'Drama',\n",
       " 'Family',\n",
       " 'Fantasy',\n",
       " 'History',\n",
       " 'Horror',\n",
       " 'Music',\n",
       " 'Musical',\n",
       " 'Mystery',\n",
       " 'Romance',\n",
       " 'Sci-Fi',\n",
       " 'Sport',\n",
       " 'Thriller',\n",
       " 'War',\n",
       " 'Western'}"
      ]
     },
     "execution_count": 228,
     "metadata": {},
     "output_type": "execute_result"
    }
   ],
   "source": [
    "# find the set of unique genres\n",
    "genres = set()\n",
    "title_genres_series = movies['Genre'].apply(parse_genre_string)\n",
    "title_genres_series.apply(lambda x: genres.update(x))\n",
    "genres"
   ]
  },
  {
   "cell_type": "markdown",
   "metadata": {},
   "source": [
    "#### Using Apply to compute Movies per Genre"
   ]
  },
  {
   "cell_type": "code",
   "execution_count": 229,
   "metadata": {},
   "outputs": [
    {
     "name": "stdout",
     "output_type": "stream",
     "text": [
      "7.84 ms ± 135 µs per loop (mean ± std. dev. of 7 runs, 100 loops each)\n"
     ]
    }
   ],
   "source": [
    "%%timeit\n",
    "\n",
    "# vars inside %%timeit are local to the cell\n",
    "# make movies_per_genre global instead\n",
    "global movies_per_genre\n",
    "movies_per_genre = {}\n",
    "\n",
    "# get movie count per Genre, computing movie lists on the fly\n",
    "for genre in genres:\n",
    "    movies_per_genre['Genre_'+genre] = movies['Genre'].apply(lambda x: genre in x).sum()"
   ]
  },
  {
   "cell_type": "code",
   "execution_count": 230,
   "metadata": {},
   "outputs": [
    {
     "data": {
      "text/plain": [
       "{'Genre_Western': 7,\n",
       " 'Genre_Sport': 18,\n",
       " 'Genre_Sci-Fi': 120,\n",
       " 'Genre_Action': 303,\n",
       " 'Genre_Biography': 81,\n",
       " 'Genre_Crime': 150,\n",
       " 'Genre_Adventure': 259,\n",
       " 'Genre_Family': 51,\n",
       " 'Genre_Music': 21,\n",
       " 'Genre_Drama': 513,\n",
       " 'Genre_Horror': 119,\n",
       " 'Genre_War': 13,\n",
       " 'Genre_Animation': 49,\n",
       " 'Genre_Fantasy': 101,\n",
       " 'Genre_Thriller': 195,\n",
       " 'Genre_Mystery': 106,\n",
       " 'Genre_Romance': 141,\n",
       " 'Genre_Comedy': 279,\n",
       " 'Genre_Musical': 5,\n",
       " 'Genre_History': 29}"
      ]
     },
     "execution_count": 230,
     "metadata": {},
     "output_type": "execute_result"
    }
   ],
   "source": [
    "movies_per_genre"
   ]
  },
  {
   "cell_type": "markdown",
   "metadata": {},
   "source": [
    "#### Using Indcator Variables to Compute Movies per Genre"
   ]
  },
  {
   "cell_type": "code",
   "execution_count": 231,
   "metadata": {},
   "outputs": [],
   "source": [
    "# Compute genre indicator variables up front, once\n",
    "for genre in genres:\n",
    "    movies['Genre_'+genre] = movies['Genre'].apply(lambda x: genre in x)"
   ]
  },
  {
   "cell_type": "code",
   "execution_count": 232,
   "metadata": {},
   "outputs": [
    {
     "data": {
      "text/html": [
       "<div>\n",
       "<style scoped>\n",
       "    .dataframe tbody tr th:only-of-type {\n",
       "        vertical-align: middle;\n",
       "    }\n",
       "\n",
       "    .dataframe tbody tr th {\n",
       "        vertical-align: top;\n",
       "    }\n",
       "\n",
       "    .dataframe thead th {\n",
       "        text-align: right;\n",
       "    }\n",
       "</style>\n",
       "<table border=\"1\" class=\"dataframe\">\n",
       "  <thead>\n",
       "    <tr style=\"text-align: right;\">\n",
       "      <th></th>\n",
       "      <th>Genre_Western</th>\n",
       "      <th>Genre_Sport</th>\n",
       "      <th>Genre_Sci-Fi</th>\n",
       "      <th>Genre_Action</th>\n",
       "      <th>Genre_Biography</th>\n",
       "      <th>Genre_Crime</th>\n",
       "      <th>Genre_Adventure</th>\n",
       "      <th>Genre_Family</th>\n",
       "      <th>Genre_Music</th>\n",
       "      <th>Genre_Drama</th>\n",
       "      <th>Genre_Horror</th>\n",
       "      <th>Genre_War</th>\n",
       "      <th>Genre_Animation</th>\n",
       "      <th>Genre_Fantasy</th>\n",
       "      <th>Genre_Thriller</th>\n",
       "      <th>Genre_Mystery</th>\n",
       "      <th>Genre_Romance</th>\n",
       "      <th>Genre_Comedy</th>\n",
       "      <th>Genre_Musical</th>\n",
       "      <th>Genre_History</th>\n",
       "    </tr>\n",
       "    <tr>\n",
       "      <th>Title</th>\n",
       "      <th></th>\n",
       "      <th></th>\n",
       "      <th></th>\n",
       "      <th></th>\n",
       "      <th></th>\n",
       "      <th></th>\n",
       "      <th></th>\n",
       "      <th></th>\n",
       "      <th></th>\n",
       "      <th></th>\n",
       "      <th></th>\n",
       "      <th></th>\n",
       "      <th></th>\n",
       "      <th></th>\n",
       "      <th></th>\n",
       "      <th></th>\n",
       "      <th></th>\n",
       "      <th></th>\n",
       "      <th></th>\n",
       "      <th></th>\n",
       "    </tr>\n",
       "  </thead>\n",
       "  <tbody>\n",
       "    <tr>\n",
       "      <th>Guardians of the Galaxy</th>\n",
       "      <td>False</td>\n",
       "      <td>False</td>\n",
       "      <td>True</td>\n",
       "      <td>True</td>\n",
       "      <td>False</td>\n",
       "      <td>False</td>\n",
       "      <td>True</td>\n",
       "      <td>False</td>\n",
       "      <td>False</td>\n",
       "      <td>False</td>\n",
       "      <td>False</td>\n",
       "      <td>False</td>\n",
       "      <td>False</td>\n",
       "      <td>False</td>\n",
       "      <td>False</td>\n",
       "      <td>False</td>\n",
       "      <td>False</td>\n",
       "      <td>False</td>\n",
       "      <td>False</td>\n",
       "      <td>False</td>\n",
       "    </tr>\n",
       "    <tr>\n",
       "      <th>Prometheus</th>\n",
       "      <td>False</td>\n",
       "      <td>False</td>\n",
       "      <td>True</td>\n",
       "      <td>False</td>\n",
       "      <td>False</td>\n",
       "      <td>False</td>\n",
       "      <td>True</td>\n",
       "      <td>False</td>\n",
       "      <td>False</td>\n",
       "      <td>False</td>\n",
       "      <td>False</td>\n",
       "      <td>False</td>\n",
       "      <td>False</td>\n",
       "      <td>False</td>\n",
       "      <td>False</td>\n",
       "      <td>True</td>\n",
       "      <td>False</td>\n",
       "      <td>False</td>\n",
       "      <td>False</td>\n",
       "      <td>False</td>\n",
       "    </tr>\n",
       "  </tbody>\n",
       "</table>\n",
       "</div>"
      ],
      "text/plain": [
       "                         Genre_Western  Genre_Sport  Genre_Sci-Fi  \\\n",
       "Title                                                               \n",
       "Guardians of the Galaxy          False        False          True   \n",
       "Prometheus                       False        False          True   \n",
       "\n",
       "                         Genre_Action  Genre_Biography  Genre_Crime  \\\n",
       "Title                                                                 \n",
       "Guardians of the Galaxy          True            False        False   \n",
       "Prometheus                      False            False        False   \n",
       "\n",
       "                         Genre_Adventure  Genre_Family  Genre_Music  \\\n",
       "Title                                                                 \n",
       "Guardians of the Galaxy             True         False        False   \n",
       "Prometheus                          True         False        False   \n",
       "\n",
       "                         Genre_Drama  Genre_Horror  Genre_War  \\\n",
       "Title                                                           \n",
       "Guardians of the Galaxy        False         False      False   \n",
       "Prometheus                     False         False      False   \n",
       "\n",
       "                         Genre_Animation  Genre_Fantasy  Genre_Thriller  \\\n",
       "Title                                                                     \n",
       "Guardians of the Galaxy            False          False           False   \n",
       "Prometheus                         False          False           False   \n",
       "\n",
       "                         Genre_Mystery  Genre_Romance  Genre_Comedy  \\\n",
       "Title                                                                 \n",
       "Guardians of the Galaxy          False          False         False   \n",
       "Prometheus                        True          False         False   \n",
       "\n",
       "                         Genre_Musical  Genre_History  \n",
       "Title                                                  \n",
       "Guardians of the Galaxy          False          False  \n",
       "Prometheus                       False          False  "
      ]
     },
     "execution_count": 232,
     "metadata": {},
     "output_type": "execute_result"
    }
   ],
   "source": [
    "# display the indicator columns just created\n",
    "# select all columns that begin with Genre_\n",
    "movies_genre_cols = movies.filter(regex='^Genre_', axis='columns')\n",
    "movies_genre_cols.head(2)"
   ]
  },
  {
   "cell_type": "code",
   "execution_count": 233,
   "metadata": {},
   "outputs": [
    {
     "data": {
      "text/plain": [
       "Genre_Western        7\n",
       "Genre_Sport         18\n",
       "Genre_Sci-Fi       120\n",
       "Genre_Action       303\n",
       "Genre_Biography     81\n",
       "Genre_Crime        150\n",
       "Genre_Adventure    259\n",
       "Genre_Family        51\n",
       "Genre_Music         21\n",
       "Genre_Drama        513\n",
       "Genre_Horror       119\n",
       "Genre_War           13\n",
       "Genre_Animation     49\n",
       "Genre_Fantasy      101\n",
       "Genre_Thriller     195\n",
       "Genre_Mystery      106\n",
       "Genre_Romance      141\n",
       "Genre_Comedy       279\n",
       "Genre_Musical        5\n",
       "Genre_History       29\n",
       "dtype: int64"
      ]
     },
     "execution_count": 233,
     "metadata": {},
     "output_type": "execute_result"
    }
   ],
   "source": [
    "# sum every indicator column\n",
    "movies_per_genre2 = movies_genre_cols.sum(axis='rows')\n",
    "movies_per_genre2"
   ]
  },
  {
   "cell_type": "code",
   "execution_count": 234,
   "metadata": {},
   "outputs": [
    {
     "name": "stdout",
     "output_type": "stream",
     "text": [
      "408 µs ± 6.42 µs per loop (mean ± std. dev. of 7 runs, 1000 loops each)\n"
     ]
    }
   ],
   "source": [
    "%%timeit\n",
    "global movies_per_genre2\n",
    "\n",
    "movies_per_genre2 = movies_genre_cols.sum(axis='rows').to_dict()"
   ]
  },
  {
   "cell_type": "code",
   "execution_count": 235,
   "metadata": {},
   "outputs": [
    {
     "data": {
      "text/plain": [
       "True"
      ]
     },
     "execution_count": 235,
     "metadata": {},
     "output_type": "execute_result"
    }
   ],
   "source": [
    "movies_per_genre == movies_per_genre2"
   ]
  },
  {
   "cell_type": "markdown",
   "metadata": {},
   "source": [
    "Computing the movies per genre using precomputed Indicator Variables was almost 20 times faster.\n",
    "\n",
    "It is often easier to work with indicator columns, if there are not too many of them.  \n",
    "After the one time creation of the indicator columns, queries are fast."
   ]
  },
  {
   "cell_type": "markdown",
   "metadata": {},
   "source": [
    "#### Using an Inverted Dictionary to Compute Movies per Genre"
   ]
  },
  {
   "cell_type": "code",
   "execution_count": 236,
   "metadata": {},
   "outputs": [],
   "source": [
    "# create a mapping from genre to titles\n",
    "from collections import defaultdict\n",
    "genre_to_titles = defaultdict(list)\n",
    "for genre in genres:\n",
    "    titles = movies[movies['Genre_'+genre]].index.tolist()\n",
    "    for title in titles:\n",
    "        genre_to_titles[genre].append(title)"
   ]
  },
  {
   "cell_type": "code",
   "execution_count": 237,
   "metadata": {},
   "outputs": [
    {
     "data": {
      "text/plain": [
       "{'Western': 7,\n",
       " 'Sport': 18,\n",
       " 'Sci-Fi': 120,\n",
       " 'Action': 303,\n",
       " 'Biography': 81,\n",
       " 'Crime': 150,\n",
       " 'Adventure': 259,\n",
       " 'Family': 51,\n",
       " 'Music': 21,\n",
       " 'Drama': 513,\n",
       " 'Horror': 119,\n",
       " 'War': 13,\n",
       " 'Animation': 49,\n",
       " 'Fantasy': 101,\n",
       " 'Thriller': 195,\n",
       " 'Mystery': 106,\n",
       " 'Romance': 141,\n",
       " 'Comedy': 279,\n",
       " 'Musical': 5,\n",
       " 'History': 29}"
      ]
     },
     "execution_count": 237,
     "metadata": {},
     "output_type": "execute_result"
    }
   ],
   "source": [
    "# compute count per genre using the genre_to_titles dictionary\n",
    "genres_to_count = {genre:len(titles) for genre,titles in genre_to_titles.items()}\n",
    "genres_to_count"
   ]
  },
  {
   "cell_type": "code",
   "execution_count": 265,
   "metadata": {},
   "outputs": [],
   "source": [
    "g = movies.groupby(by=genre_to_titles)\n",
    "for name, group in g:\n",
    "    print(name)\n",
    "    print(group['Genre'])"
   ]
  },
  {
   "cell_type": "code",
   "execution_count": null,
   "metadata": {},
   "outputs": [],
   "source": []
  },
  {
   "cell_type": "code",
   "execution_count": null,
   "metadata": {},
   "outputs": [],
   "source": []
  },
  {
   "cell_type": "code",
   "execution_count": null,
   "metadata": {},
   "outputs": [],
   "source": []
  },
  {
   "cell_type": "code",
   "execution_count": null,
   "metadata": {},
   "outputs": [],
   "source": []
  },
  {
   "cell_type": "code",
   "execution_count": 238,
   "metadata": {},
   "outputs": [
    {
     "data": {
      "text/html": [
       "<div>\n",
       "<style scoped>\n",
       "    .dataframe tbody tr th:only-of-type {\n",
       "        vertical-align: middle;\n",
       "    }\n",
       "\n",
       "    .dataframe tbody tr th {\n",
       "        vertical-align: top;\n",
       "    }\n",
       "\n",
       "    .dataframe thead th {\n",
       "        text-align: right;\n",
       "    }\n",
       "</style>\n",
       "<table border=\"1\" class=\"dataframe\">\n",
       "  <thead>\n",
       "    <tr style=\"text-align: right;\">\n",
       "      <th></th>\n",
       "      <th>ID</th>\n",
       "      <th>Genre</th>\n",
       "      <th>Description</th>\n",
       "      <th>Director</th>\n",
       "      <th>Actors</th>\n",
       "      <th>Year</th>\n",
       "      <th>Runtime</th>\n",
       "      <th>Rating</th>\n",
       "      <th>Votes</th>\n",
       "      <th>Revenue</th>\n",
       "      <th>...</th>\n",
       "      <th>Genre_Horror</th>\n",
       "      <th>Genre_War</th>\n",
       "      <th>Genre_Animation</th>\n",
       "      <th>Genre_Fantasy</th>\n",
       "      <th>Genre_Thriller</th>\n",
       "      <th>Genre_Mystery</th>\n",
       "      <th>Genre_Romance</th>\n",
       "      <th>Genre_Comedy</th>\n",
       "      <th>Genre_Musical</th>\n",
       "      <th>Genre_History</th>\n",
       "    </tr>\n",
       "    <tr>\n",
       "      <th>Title</th>\n",
       "      <th></th>\n",
       "      <th></th>\n",
       "      <th></th>\n",
       "      <th></th>\n",
       "      <th></th>\n",
       "      <th></th>\n",
       "      <th></th>\n",
       "      <th></th>\n",
       "      <th></th>\n",
       "      <th></th>\n",
       "      <th></th>\n",
       "      <th></th>\n",
       "      <th></th>\n",
       "      <th></th>\n",
       "      <th></th>\n",
       "      <th></th>\n",
       "      <th></th>\n",
       "      <th></th>\n",
       "      <th></th>\n",
       "      <th></th>\n",
       "      <th></th>\n",
       "    </tr>\n",
       "  </thead>\n",
       "  <tbody>\n",
       "    <tr>\n",
       "      <th>The Dark Knight</th>\n",
       "      <td>55</td>\n",
       "      <td>Action,Crime,Drama</td>\n",
       "      <td>When the menace known as the Joker wreaks havo...</td>\n",
       "      <td>Christopher Nolan</td>\n",
       "      <td>Christian Bale, Heath Ledger, Aaron Eckhart,Mi...</td>\n",
       "      <td>2008</td>\n",
       "      <td>152</td>\n",
       "      <td>9.0</td>\n",
       "      <td>1791916</td>\n",
       "      <td>533.32</td>\n",
       "      <td>...</td>\n",
       "      <td>False</td>\n",
       "      <td>False</td>\n",
       "      <td>False</td>\n",
       "      <td>False</td>\n",
       "      <td>False</td>\n",
       "      <td>False</td>\n",
       "      <td>False</td>\n",
       "      <td>False</td>\n",
       "      <td>False</td>\n",
       "      <td>False</td>\n",
       "    </tr>\n",
       "  </tbody>\n",
       "</table>\n",
       "<p>1 rows × 31 columns</p>\n",
       "</div>"
      ],
      "text/plain": [
       "                 ID               Genre  \\\n",
       "Title                                     \n",
       "The Dark Knight  55  Action,Crime,Drama   \n",
       "\n",
       "                                                       Description  \\\n",
       "Title                                                                \n",
       "The Dark Knight  When the menace known as the Joker wreaks havo...   \n",
       "\n",
       "                          Director  \\\n",
       "Title                                \n",
       "The Dark Knight  Christopher Nolan   \n",
       "\n",
       "                                                            Actors  Year  \\\n",
       "Title                                                                      \n",
       "The Dark Knight  Christian Bale, Heath Ledger, Aaron Eckhart,Mi...  2008   \n",
       "\n",
       "                 Runtime  Rating    Votes  Revenue  ...  Genre_Horror  \\\n",
       "Title                                               ...                 \n",
       "The Dark Knight      152     9.0  1791916   533.32  ...         False   \n",
       "\n",
       "                 Genre_War  Genre_Animation  Genre_Fantasy  Genre_Thriller  \\\n",
       "Title                                                                        \n",
       "The Dark Knight      False            False          False           False   \n",
       "\n",
       "                 Genre_Mystery  Genre_Romance  Genre_Comedy  Genre_Musical  \\\n",
       "Title                                                                        \n",
       "The Dark Knight          False          False         False          False   \n",
       "\n",
       "                 Genre_History  \n",
       "Title                           \n",
       "The Dark Knight          False  \n",
       "\n",
       "[1 rows x 31 columns]"
      ]
     },
     "execution_count": 238,
     "metadata": {},
     "output_type": "execute_result"
    }
   ],
   "source": [
    "# find highest rated action movie on the fly\n",
    "action_titles = movies['Genre'].apply(lambda x: 'Action' in x)\n",
    "action_movies = movies.loc[action_titles]\n",
    "action_movies[action_movies['Rating'] == action_movies['Rating'].max()]"
   ]
  },
  {
   "cell_type": "code",
   "execution_count": 239,
   "metadata": {},
   "outputs": [
    {
     "data": {
      "text/html": [
       "<div>\n",
       "<style scoped>\n",
       "    .dataframe tbody tr th:only-of-type {\n",
       "        vertical-align: middle;\n",
       "    }\n",
       "\n",
       "    .dataframe tbody tr th {\n",
       "        vertical-align: top;\n",
       "    }\n",
       "\n",
       "    .dataframe thead th {\n",
       "        text-align: right;\n",
       "    }\n",
       "</style>\n",
       "<table border=\"1\" class=\"dataframe\">\n",
       "  <thead>\n",
       "    <tr style=\"text-align: right;\">\n",
       "      <th></th>\n",
       "      <th>ID</th>\n",
       "      <th>Genre</th>\n",
       "      <th>Description</th>\n",
       "      <th>Director</th>\n",
       "      <th>Actors</th>\n",
       "      <th>Year</th>\n",
       "      <th>Runtime</th>\n",
       "      <th>Rating</th>\n",
       "      <th>Votes</th>\n",
       "      <th>Revenue</th>\n",
       "      <th>...</th>\n",
       "      <th>Genre_Horror</th>\n",
       "      <th>Genre_War</th>\n",
       "      <th>Genre_Animation</th>\n",
       "      <th>Genre_Fantasy</th>\n",
       "      <th>Genre_Thriller</th>\n",
       "      <th>Genre_Mystery</th>\n",
       "      <th>Genre_Romance</th>\n",
       "      <th>Genre_Comedy</th>\n",
       "      <th>Genre_Musical</th>\n",
       "      <th>Genre_History</th>\n",
       "    </tr>\n",
       "    <tr>\n",
       "      <th>Title</th>\n",
       "      <th></th>\n",
       "      <th></th>\n",
       "      <th></th>\n",
       "      <th></th>\n",
       "      <th></th>\n",
       "      <th></th>\n",
       "      <th></th>\n",
       "      <th></th>\n",
       "      <th></th>\n",
       "      <th></th>\n",
       "      <th></th>\n",
       "      <th></th>\n",
       "      <th></th>\n",
       "      <th></th>\n",
       "      <th></th>\n",
       "      <th></th>\n",
       "      <th></th>\n",
       "      <th></th>\n",
       "      <th></th>\n",
       "      <th></th>\n",
       "      <th></th>\n",
       "    </tr>\n",
       "  </thead>\n",
       "  <tbody>\n",
       "    <tr>\n",
       "      <th>The Dark Knight</th>\n",
       "      <td>55</td>\n",
       "      <td>Action,Crime,Drama</td>\n",
       "      <td>When the menace known as the Joker wreaks havo...</td>\n",
       "      <td>Christopher Nolan</td>\n",
       "      <td>Christian Bale, Heath Ledger, Aaron Eckhart,Mi...</td>\n",
       "      <td>2008</td>\n",
       "      <td>152</td>\n",
       "      <td>9.0</td>\n",
       "      <td>1791916</td>\n",
       "      <td>533.32</td>\n",
       "      <td>...</td>\n",
       "      <td>False</td>\n",
       "      <td>False</td>\n",
       "      <td>False</td>\n",
       "      <td>False</td>\n",
       "      <td>False</td>\n",
       "      <td>False</td>\n",
       "      <td>False</td>\n",
       "      <td>False</td>\n",
       "      <td>False</td>\n",
       "      <td>False</td>\n",
       "    </tr>\n",
       "  </tbody>\n",
       "</table>\n",
       "<p>1 rows × 31 columns</p>\n",
       "</div>"
      ],
      "text/plain": [
       "                 ID               Genre  \\\n",
       "Title                                     \n",
       "The Dark Knight  55  Action,Crime,Drama   \n",
       "\n",
       "                                                       Description  \\\n",
       "Title                                                                \n",
       "The Dark Knight  When the menace known as the Joker wreaks havo...   \n",
       "\n",
       "                          Director  \\\n",
       "Title                                \n",
       "The Dark Knight  Christopher Nolan   \n",
       "\n",
       "                                                            Actors  Year  \\\n",
       "Title                                                                      \n",
       "The Dark Knight  Christian Bale, Heath Ledger, Aaron Eckhart,Mi...  2008   \n",
       "\n",
       "                 Runtime  Rating    Votes  Revenue  ...  Genre_Horror  \\\n",
       "Title                                               ...                 \n",
       "The Dark Knight      152     9.0  1791916   533.32  ...         False   \n",
       "\n",
       "                 Genre_War  Genre_Animation  Genre_Fantasy  Genre_Thriller  \\\n",
       "Title                                                                        \n",
       "The Dark Knight      False            False          False           False   \n",
       "\n",
       "                 Genre_Mystery  Genre_Romance  Genre_Comedy  Genre_Musical  \\\n",
       "Title                                                                        \n",
       "The Dark Knight          False          False         False          False   \n",
       "\n",
       "                 Genre_History  \n",
       "Title                           \n",
       "The Dark Knight          False  \n",
       "\n",
       "[1 rows x 31 columns]"
      ]
     },
     "execution_count": 239,
     "metadata": {},
     "output_type": "execute_result"
    }
   ],
   "source": [
    "# find highest rated action movie using Indicator Variable: Genre_Action\n",
    "action_movies = movies[movies['Genre_Action']]\n",
    "action_movies[action_movies['Rating'] == action_movies['Rating'].max()]"
   ]
  },
  {
   "cell_type": "code",
   "execution_count": 240,
   "metadata": {},
   "outputs": [
    {
     "data": {
      "text/html": [
       "<div>\n",
       "<style scoped>\n",
       "    .dataframe tbody tr th:only-of-type {\n",
       "        vertical-align: middle;\n",
       "    }\n",
       "\n",
       "    .dataframe tbody tr th {\n",
       "        vertical-align: top;\n",
       "    }\n",
       "\n",
       "    .dataframe thead th {\n",
       "        text-align: right;\n",
       "    }\n",
       "</style>\n",
       "<table border=\"1\" class=\"dataframe\">\n",
       "  <thead>\n",
       "    <tr style=\"text-align: right;\">\n",
       "      <th></th>\n",
       "      <th>ID</th>\n",
       "      <th>Genre</th>\n",
       "      <th>Description</th>\n",
       "      <th>Director</th>\n",
       "      <th>Actors</th>\n",
       "      <th>Year</th>\n",
       "      <th>Runtime</th>\n",
       "      <th>Rating</th>\n",
       "      <th>Votes</th>\n",
       "      <th>Revenue</th>\n",
       "      <th>...</th>\n",
       "      <th>Genre_Horror</th>\n",
       "      <th>Genre_War</th>\n",
       "      <th>Genre_Animation</th>\n",
       "      <th>Genre_Fantasy</th>\n",
       "      <th>Genre_Thriller</th>\n",
       "      <th>Genre_Mystery</th>\n",
       "      <th>Genre_Romance</th>\n",
       "      <th>Genre_Comedy</th>\n",
       "      <th>Genre_Musical</th>\n",
       "      <th>Genre_History</th>\n",
       "    </tr>\n",
       "    <tr>\n",
       "      <th>Title</th>\n",
       "      <th></th>\n",
       "      <th></th>\n",
       "      <th></th>\n",
       "      <th></th>\n",
       "      <th></th>\n",
       "      <th></th>\n",
       "      <th></th>\n",
       "      <th></th>\n",
       "      <th></th>\n",
       "      <th></th>\n",
       "      <th></th>\n",
       "      <th></th>\n",
       "      <th></th>\n",
       "      <th></th>\n",
       "      <th></th>\n",
       "      <th></th>\n",
       "      <th></th>\n",
       "      <th></th>\n",
       "      <th></th>\n",
       "      <th></th>\n",
       "      <th></th>\n",
       "    </tr>\n",
       "  </thead>\n",
       "  <tbody>\n",
       "    <tr>\n",
       "      <th>The Dark Knight</th>\n",
       "      <td>55</td>\n",
       "      <td>Action,Crime,Drama</td>\n",
       "      <td>When the menace known as the Joker wreaks havo...</td>\n",
       "      <td>Christopher Nolan</td>\n",
       "      <td>Christian Bale, Heath Ledger, Aaron Eckhart,Mi...</td>\n",
       "      <td>2008</td>\n",
       "      <td>152</td>\n",
       "      <td>9.0</td>\n",
       "      <td>1791916</td>\n",
       "      <td>533.32</td>\n",
       "      <td>...</td>\n",
       "      <td>False</td>\n",
       "      <td>False</td>\n",
       "      <td>False</td>\n",
       "      <td>False</td>\n",
       "      <td>False</td>\n",
       "      <td>False</td>\n",
       "      <td>False</td>\n",
       "      <td>False</td>\n",
       "      <td>False</td>\n",
       "      <td>False</td>\n",
       "    </tr>\n",
       "  </tbody>\n",
       "</table>\n",
       "<p>1 rows × 31 columns</p>\n",
       "</div>"
      ],
      "text/plain": [
       "                 ID               Genre  \\\n",
       "Title                                     \n",
       "The Dark Knight  55  Action,Crime,Drama   \n",
       "\n",
       "                                                       Description  \\\n",
       "Title                                                                \n",
       "The Dark Knight  When the menace known as the Joker wreaks havo...   \n",
       "\n",
       "                          Director  \\\n",
       "Title                                \n",
       "The Dark Knight  Christopher Nolan   \n",
       "\n",
       "                                                            Actors  Year  \\\n",
       "Title                                                                      \n",
       "The Dark Knight  Christian Bale, Heath Ledger, Aaron Eckhart,Mi...  2008   \n",
       "\n",
       "                 Runtime  Rating    Votes  Revenue  ...  Genre_Horror  \\\n",
       "Title                                               ...                 \n",
       "The Dark Knight      152     9.0  1791916   533.32  ...         False   \n",
       "\n",
       "                 Genre_War  Genre_Animation  Genre_Fantasy  Genre_Thriller  \\\n",
       "Title                                                                        \n",
       "The Dark Knight      False            False          False           False   \n",
       "\n",
       "                 Genre_Mystery  Genre_Romance  Genre_Comedy  Genre_Musical  \\\n",
       "Title                                                                        \n",
       "The Dark Knight          False          False         False          False   \n",
       "\n",
       "                 Genre_History  \n",
       "Title                           \n",
       "The Dark Knight          False  \n",
       "\n",
       "[1 rows x 31 columns]"
      ]
     },
     "execution_count": 240,
     "metadata": {},
     "output_type": "execute_result"
    }
   ],
   "source": [
    "# find the highest rated action movie using dictionary\n",
    "action_titles = genre_to_titles['Action']\n",
    "action_movies = movies.loc[action_titles]\n",
    "action_movies[action_movies['Rating'] == action_movies['Rating'].max()]"
   ]
  },
  {
   "cell_type": "code",
   "execution_count": 241,
   "metadata": {},
   "outputs": [
    {
     "name": "stdout",
     "output_type": "stream",
     "text": [
      "1.3 ms ± 6.91 µs per loop (mean ± std. dev. of 7 runs, 1000 loops each)\n"
     ]
    }
   ],
   "source": [
    "%%timeit\n",
    "# find highest rated action movie on the fly\n",
    "action_titles = movies['Genre'].apply(lambda x: 'Action' in x)\n",
    "action_movies = movies[action_titles]\n",
    "action_movies[action_movies['Rating'] == action_movies['Rating'].max()]"
   ]
  },
  {
   "cell_type": "code",
   "execution_count": 242,
   "metadata": {},
   "outputs": [
    {
     "name": "stdout",
     "output_type": "stream",
     "text": [
      "990 µs ± 3.11 µs per loop (mean ± std. dev. of 7 runs, 1000 loops each)\n"
     ]
    }
   ],
   "source": [
    "%%timeit\n",
    "# find highest rated action movie using precomputed Indicator Variable: Genre_Action\n",
    "action_movies = movies[movies['Genre_Action']]\n",
    "action_movies[action_movies['Rating'] == action_movies['Rating'].max()]"
   ]
  },
  {
   "cell_type": "code",
   "execution_count": 243,
   "metadata": {},
   "outputs": [
    {
     "name": "stdout",
     "output_type": "stream",
     "text": [
      "1.37 ms ± 7.71 µs per loop (mean ± std. dev. of 7 runs, 1000 loops each)\n"
     ]
    }
   ],
   "source": [
    "%%timeit\n",
    "# find the highest rated action movie using precomputed dictionary\n",
    "action_titles = genre_to_titles['Action']\n",
    "action_movies = movies.loc[action_titles]\n",
    "action_movies[action_movies['Rating'] == action_movies['Rating'].max()]"
   ]
  },
  {
   "cell_type": "code",
   "execution_count": null,
   "metadata": {},
   "outputs": [],
   "source": [
    "# find Sci-Fi movies\n",
    "sci_fi_movies = movies[movies['Genre_Sci-Fi']]\n",
    "sci_fi_movies.head(2)"
   ]
  },
  {
   "cell_type": "code",
   "execution_count": null,
   "metadata": {},
   "outputs": [],
   "source": [
    "# find movies that are both action and sci-fi\n",
    "action_sci_fi_movies = movies[movies['Genre_Action'] & movies['Genre_Sci-Fi']]\n",
    "action_sci_fi_movies.head(3)"
   ]
  },
  {
   "cell_type": "code",
   "execution_count": null,
   "metadata": {},
   "outputs": [],
   "source": [
    "# find highest rated movie that is both Action and Sci-Fi\n",
    "movie_subset = movies[movies['Genre_Action'] & movies['Genre_Sci-Fi']]\n",
    "movie_subset[movie_subset['Rating'] == movie_subset['Rating'].max()]"
   ]
  },
  {
   "cell_type": "code",
   "execution_count": null,
   "metadata": {},
   "outputs": [],
   "source": [
    "# find the avg rating of all action movies\n",
    "action_movies = movies[movies['Genre_Action']]\n",
    "action_movies['Rating'].mean()"
   ]
  },
  {
   "cell_type": "code",
   "execution_count": null,
   "metadata": {},
   "outputs": [],
   "source": [
    "# usually groupby is not used on a boolean series, but it works\n",
    "# the group of interest is the True group\n",
    "groupby = movies.groupby('Genre_Action')\n",
    "\n",
    "for name, group in groupby:\n",
    "    print(name, np.round(group['Rating'].mean(),4), group['Rating'].count())"
   ]
  },
  {
   "cell_type": "markdown",
   "metadata": {},
   "source": [
    "### Group By\n",
    "Find the highest rated directors who directed at least 5 movies"
   ]
  },
  {
   "cell_type": "code",
   "execution_count": null,
   "metadata": {},
   "outputs": [],
   "source": [
    "def group_filter(g):\n",
    "    if g['Rating'].count() >= 5:\n",
    "        return g['Rating'].mean()"
   ]
  },
  {
   "cell_type": "code",
   "execution_count": null,
   "metadata": {},
   "outputs": [],
   "source": [
    "s = movies.groupby('Director').apply(group_filter)\n",
    "s[s.notnull()].nlargest(5)"
   ]
  },
  {
   "cell_type": "markdown",
   "metadata": {
    "toc-hr-collapsed": true
   },
   "source": [
    "## Data Wrangling: Queries involving Actor\n",
    "As there are so many different actors, it's probably better to rely on dictionaries instead of creating a great many indicator columns."
   ]
  },
  {
   "cell_type": "code",
   "execution_count": 333,
   "metadata": {},
   "outputs": [],
   "source": [
    "def parse_genre_string(s):\n",
    "    \"\"\"Convert string with comma separated values to list of strings.\n",
    "    For each string, remove leading and trailing whitespace.\n",
    "    \"\"\"\n",
    "    genres = s.split(',')\n",
    "    return [genre.strip() for genre in genres]"
   ]
  },
  {
   "cell_type": "code",
   "execution_count": 334,
   "metadata": {},
   "outputs": [
    {
     "data": {
      "text/plain": [
       "Title\n",
       "Guardians of the Galaxy    [Chris Pratt, Vin Diesel, Bradley Cooper, Zoe ...\n",
       "Prometheus                 [Noomi Rapace, Logan Marshall-Green, Michael F...\n",
       "Split                      [James McAvoy, Anya Taylor-Joy, Haley Lu Richa...\n",
       "Sing                       [Matthew McConaughey, Reese Witherspoon, Seth ...\n",
       "Suicide Squad              [Will Smith, Jared Leto, Margot Robbie, Viola ...\n",
       "Name: Actors, dtype: object"
      ]
     },
     "execution_count": 334,
     "metadata": {},
     "output_type": "execute_result"
    }
   ],
   "source": [
    "# parsing of Genre is identical to parsing of Actors\n",
    "movies['Actors'].apply(parse_genre_string).head(5)"
   ]
  },
  {
   "cell_type": "code",
   "execution_count": 335,
   "metadata": {},
   "outputs": [
    {
     "data": {
      "text/plain": [
       "1985"
      ]
     },
     "execution_count": 335,
     "metadata": {},
     "output_type": "execute_result"
    }
   ],
   "source": [
    "# find the set of unique actors\n",
    "actors = set()\n",
    "title_actors_series = movies['Actors'].apply(parse_genre_string)\n",
    "title_actors_series.apply(lambda x: actors.update(x))\n",
    "len(actors)"
   ]
  },
  {
   "cell_type": "markdown",
   "metadata": {},
   "source": [
    "#### Using an Inverted Dictionary to Compute Movies per Actor"
   ]
  },
  {
   "cell_type": "code",
   "execution_count": 336,
   "metadata": {},
   "outputs": [],
   "source": [
    "# create a mapping from genre to titles\n",
    "from collections import defaultdict\n",
    "actor_to_titles = defaultdict(list)\n",
    "for actor in actors:\n",
    "    titles = movies['Actors'].apply(lambda x: actor in x)\n",
    "    titles = movies[titles].index.tolist()\n",
    "    for title in titles:\n",
    "        actor_to_titles[actor].append(title)"
   ]
  },
  {
   "cell_type": "code",
   "execution_count": 337,
   "metadata": {},
   "outputs": [
    {
     "data": {
      "text/plain": [
       "1985"
      ]
     },
     "execution_count": 337,
     "metadata": {},
     "output_type": "execute_result"
    }
   ],
   "source": [
    "# compute count per genre using the genre_to_titles dictionary\n",
    "actors_to_count = {actor:len(titles) for actor,titles in actor_to_titles.items()}\n",
    "len(actors_to_count)"
   ]
  },
  {
   "cell_type": "code",
   "execution_count": 338,
   "metadata": {},
   "outputs": [
    {
     "data": {
      "text/html": [
       "<div>\n",
       "<style scoped>\n",
       "    .dataframe tbody tr th:only-of-type {\n",
       "        vertical-align: middle;\n",
       "    }\n",
       "\n",
       "    .dataframe tbody tr th {\n",
       "        vertical-align: top;\n",
       "    }\n",
       "\n",
       "    .dataframe thead th {\n",
       "        text-align: right;\n",
       "    }\n",
       "</style>\n",
       "<table border=\"1\" class=\"dataframe\">\n",
       "  <thead>\n",
       "    <tr style=\"text-align: right;\">\n",
       "      <th></th>\n",
       "      <th>ID</th>\n",
       "      <th>Genre</th>\n",
       "      <th>Description</th>\n",
       "      <th>Director</th>\n",
       "      <th>Actors</th>\n",
       "      <th>Year</th>\n",
       "      <th>Runtime</th>\n",
       "      <th>Rating</th>\n",
       "      <th>Votes</th>\n",
       "      <th>Revenue</th>\n",
       "      <th>Metascore</th>\n",
       "    </tr>\n",
       "    <tr>\n",
       "      <th>Title</th>\n",
       "      <th></th>\n",
       "      <th></th>\n",
       "      <th></th>\n",
       "      <th></th>\n",
       "      <th></th>\n",
       "      <th></th>\n",
       "      <th></th>\n",
       "      <th></th>\n",
       "      <th></th>\n",
       "      <th></th>\n",
       "      <th></th>\n",
       "    </tr>\n",
       "  </thead>\n",
       "  <tbody>\n",
       "    <tr>\n",
       "      <th>Trolls</th>\n",
       "      <td>24</td>\n",
       "      <td>Animation,Adventure,Comedy</td>\n",
       "      <td>After the Bergens invade Troll Village, Poppy,...</td>\n",
       "      <td>Walt Dohrn</td>\n",
       "      <td>Anna Kendrick, Justin Timberlake,Zooey Deschan...</td>\n",
       "      <td>2016</td>\n",
       "      <td>92</td>\n",
       "      <td>6.5</td>\n",
       "      <td>38552</td>\n",
       "      <td>153.69</td>\n",
       "      <td>56.0</td>\n",
       "    </tr>\n",
       "    <tr>\n",
       "      <th>(500) Days of Summer</th>\n",
       "      <td>508</td>\n",
       "      <td>Comedy,Drama,Romance</td>\n",
       "      <td>An offbeat romantic comedy about a woman who d...</td>\n",
       "      <td>Marc Webb</td>\n",
       "      <td>Zooey Deschanel, Joseph Gordon-Levitt, Geoffre...</td>\n",
       "      <td>2009</td>\n",
       "      <td>95</td>\n",
       "      <td>7.7</td>\n",
       "      <td>398972</td>\n",
       "      <td>32.39</td>\n",
       "      <td>76.0</td>\n",
       "    </tr>\n",
       "    <tr>\n",
       "      <th>The Happening</th>\n",
       "      <td>513</td>\n",
       "      <td>Sci-Fi,Thriller</td>\n",
       "      <td>A science teacher, his wife, and a young girl ...</td>\n",
       "      <td>M. Night Shyamalan</td>\n",
       "      <td>Mark Wahlberg, Zooey Deschanel, John Leguizamo...</td>\n",
       "      <td>2008</td>\n",
       "      <td>91</td>\n",
       "      <td>5.0</td>\n",
       "      <td>170897</td>\n",
       "      <td>64.51</td>\n",
       "      <td>34.0</td>\n",
       "    </tr>\n",
       "    <tr>\n",
       "      <th>Bridge to Terabithia</th>\n",
       "      <td>913</td>\n",
       "      <td>Adventure,Drama,Family</td>\n",
       "      <td>A preteen's life turns upside down when he bef...</td>\n",
       "      <td>Gabor Csupo</td>\n",
       "      <td>Josh Hutcherson, AnnaSophia Robb, Zooey Descha...</td>\n",
       "      <td>2007</td>\n",
       "      <td>96</td>\n",
       "      <td>7.2</td>\n",
       "      <td>117297</td>\n",
       "      <td>82.23</td>\n",
       "      <td>74.0</td>\n",
       "    </tr>\n",
       "  </tbody>\n",
       "</table>\n",
       "</div>"
      ],
      "text/plain": [
       "                       ID                       Genre  \\\n",
       "Title                                                   \n",
       "Trolls                 24  Animation,Adventure,Comedy   \n",
       "(500) Days of Summer  508        Comedy,Drama,Romance   \n",
       "The Happening         513             Sci-Fi,Thriller   \n",
       "Bridge to Terabithia  913      Adventure,Drama,Family   \n",
       "\n",
       "                                                            Description  \\\n",
       "Title                                                                     \n",
       "Trolls                After the Bergens invade Troll Village, Poppy,...   \n",
       "(500) Days of Summer  An offbeat romantic comedy about a woman who d...   \n",
       "The Happening         A science teacher, his wife, and a young girl ...   \n",
       "Bridge to Terabithia  A preteen's life turns upside down when he bef...   \n",
       "\n",
       "                                Director  \\\n",
       "Title                                      \n",
       "Trolls                        Walt Dohrn   \n",
       "(500) Days of Summer           Marc Webb   \n",
       "The Happening         M. Night Shyamalan   \n",
       "Bridge to Terabithia         Gabor Csupo   \n",
       "\n",
       "                                                                 Actors  Year  \\\n",
       "Title                                                                           \n",
       "Trolls                Anna Kendrick, Justin Timberlake,Zooey Deschan...  2016   \n",
       "(500) Days of Summer  Zooey Deschanel, Joseph Gordon-Levitt, Geoffre...  2009   \n",
       "The Happening         Mark Wahlberg, Zooey Deschanel, John Leguizamo...  2008   \n",
       "Bridge to Terabithia  Josh Hutcherson, AnnaSophia Robb, Zooey Descha...  2007   \n",
       "\n",
       "                      Runtime  Rating   Votes  Revenue  Metascore  \n",
       "Title                                                              \n",
       "Trolls                     92     6.5   38552   153.69       56.0  \n",
       "(500) Days of Summer       95     7.7  398972    32.39       76.0  \n",
       "The Happening              91     5.0  170897    64.51       34.0  \n",
       "Bridge to Terabithia       96     7.2  117297    82.23       74.0  "
      ]
     },
     "execution_count": 338,
     "metadata": {},
     "output_type": "execute_result"
    }
   ],
   "source": [
    "# try inverted dictionary\n",
    "movies.loc[actor_to_titles['Zooey Deschanel']]"
   ]
  },
  {
   "cell_type": "code",
   "execution_count": null,
   "metadata": {},
   "outputs": [],
   "source": [
    "# find the average rating of actors in at least 5 movies\n",
    "actor_rating = {}\n",
    "for actor in actors:\n",
    "    movies_with_actor = movies.loc[actor_to_titles[actor]]\n",
    "    if movies_with_actor['Rating'].count() >= 5:\n",
    "        actor_rating[actor] = movies_with_actor['Rating'].mean()"
   ]
  },
  {
   "cell_type": "code",
   "execution_count": null,
   "metadata": {},
   "outputs": [],
   "source": [
    "# read in IMDB move dataset\n",
    "movies = pd.read_csv('../data/IMDB-Movie-Data.csv', index_col='Title')\n",
    "movies.head(2)"
   ]
  },
  {
   "cell_type": "markdown",
   "metadata": {},
   "source": [
    "# HERE HERE\n",
    "A dictionary is more memory efficient than denormalizing the table, but denormalizing is much easier to work with!"
   ]
  },
  {
   "cell_type": "code",
   "execution_count": 372,
   "metadata": {},
   "outputs": [],
   "source": [
    "def custom_groupby(df, mapping, values):\n",
    "    for value in values:\n",
    "        yield (value, df.loc[mapping[value]])"
   ]
  },
  {
   "cell_type": "code",
   "execution_count": 343,
   "metadata": {},
   "outputs": [],
   "source": [
    "movies = movies_copy.copy()\n",
    "movies = movies.reset_index(drop=False).set_index('Title', drop=True)"
   ]
  },
  {
   "cell_type": "code",
   "execution_count": 344,
   "metadata": {},
   "outputs": [
    {
     "data": {
      "text/html": [
       "<div>\n",
       "<style scoped>\n",
       "    .dataframe tbody tr th:only-of-type {\n",
       "        vertical-align: middle;\n",
       "    }\n",
       "\n",
       "    .dataframe tbody tr th {\n",
       "        vertical-align: top;\n",
       "    }\n",
       "\n",
       "    .dataframe thead th {\n",
       "        text-align: right;\n",
       "    }\n",
       "</style>\n",
       "<table border=\"1\" class=\"dataframe\">\n",
       "  <thead>\n",
       "    <tr style=\"text-align: right;\">\n",
       "      <th></th>\n",
       "      <th>ID</th>\n",
       "      <th>Genre</th>\n",
       "      <th>Description</th>\n",
       "      <th>Director</th>\n",
       "      <th>Actors</th>\n",
       "      <th>Year</th>\n",
       "      <th>Runtime</th>\n",
       "      <th>Rating</th>\n",
       "      <th>Votes</th>\n",
       "      <th>Revenue</th>\n",
       "      <th>Metascore</th>\n",
       "    </tr>\n",
       "    <tr>\n",
       "      <th>Title</th>\n",
       "      <th></th>\n",
       "      <th></th>\n",
       "      <th></th>\n",
       "      <th></th>\n",
       "      <th></th>\n",
       "      <th></th>\n",
       "      <th></th>\n",
       "      <th></th>\n",
       "      <th></th>\n",
       "      <th></th>\n",
       "      <th></th>\n",
       "    </tr>\n",
       "  </thead>\n",
       "  <tbody>\n",
       "    <tr>\n",
       "      <th>Guardians of the Galaxy</th>\n",
       "      <td>1</td>\n",
       "      <td>Action,Adventure,Sci-Fi</td>\n",
       "      <td>A group of intergalactic criminals are forced ...</td>\n",
       "      <td>James Gunn</td>\n",
       "      <td>Chris Pratt, Vin Diesel, Bradley Cooper, Zoe S...</td>\n",
       "      <td>2014</td>\n",
       "      <td>121</td>\n",
       "      <td>8.1</td>\n",
       "      <td>757074</td>\n",
       "      <td>333.13</td>\n",
       "      <td>76.0</td>\n",
       "    </tr>\n",
       "  </tbody>\n",
       "</table>\n",
       "</div>"
      ],
      "text/plain": [
       "                         ID                    Genre  \\\n",
       "Title                                                  \n",
       "Guardians of the Galaxy   1  Action,Adventure,Sci-Fi   \n",
       "\n",
       "                                                               Description  \\\n",
       "Title                                                                        \n",
       "Guardians of the Galaxy  A group of intergalactic criminals are forced ...   \n",
       "\n",
       "                           Director  \\\n",
       "Title                                 \n",
       "Guardians of the Galaxy  James Gunn   \n",
       "\n",
       "                                                                    Actors  \\\n",
       "Title                                                                        \n",
       "Guardians of the Galaxy  Chris Pratt, Vin Diesel, Bradley Cooper, Zoe S...   \n",
       "\n",
       "                         Year  Runtime  Rating   Votes  Revenue  Metascore  \n",
       "Title                                                                       \n",
       "Guardians of the Galaxy  2014      121     8.1  757074   333.13       76.0  "
      ]
     },
     "execution_count": 344,
     "metadata": {},
     "output_type": "execute_result"
    }
   ],
   "source": [
    "movies.head(1)"
   ]
  },
  {
   "cell_type": "code",
   "execution_count": 357,
   "metadata": {},
   "outputs": [
    {
     "data": {
      "text/plain": [
       "0.816496580927726"
      ]
     },
     "execution_count": 357,
     "metadata": {},
     "output_type": "execute_result"
    }
   ],
   "source": [
    "np.std([1, 2, 3])"
   ]
  },
  {
   "cell_type": "code",
   "execution_count": 366,
   "metadata": {},
   "outputs": [
    {
     "data": {
      "text/plain": [
       "A    0.816497\n",
       "dtype: float64"
      ]
     },
     "execution_count": 366,
     "metadata": {},
     "output_type": "execute_result"
    }
   ],
   "source": [
    "df = pd.DataFrame([1, 2, 3], columns=['A'])\n",
    "df.apply(np.std)"
   ]
  },
  {
   "cell_type": "code",
   "execution_count": 367,
   "metadata": {},
   "outputs": [
    {
     "data": {
      "text/plain": [
       "Index(['A'], dtype='object')"
      ]
     },
     "execution_count": 367,
     "metadata": {},
     "output_type": "execute_result"
    }
   ],
   "source": [
    "df.columns"
   ]
  },
  {
   "cell_type": "code",
   "execution_count": 386,
   "metadata": {},
   "outputs": [],
   "source": [
    "my_group = custom_groupby(movies, actor_to_titles, ['Zooey Deschanel', 'John Goodman'])"
   ]
  },
  {
   "cell_type": "code",
   "execution_count": 387,
   "metadata": {},
   "outputs": [
    {
     "name": "stdout",
     "output_type": "stream",
     "text": [
      "Zooey Deschanel 4 6.6 19.527758021169078\n",
      "\n"
     ]
    },
    {
     "data": {
      "text/html": [
       "<div>\n",
       "<style scoped>\n",
       "    .dataframe tbody tr th:only-of-type {\n",
       "        vertical-align: middle;\n",
       "    }\n",
       "\n",
       "    .dataframe tbody tr th {\n",
       "        vertical-align: top;\n",
       "    }\n",
       "\n",
       "    .dataframe thead th {\n",
       "        text-align: right;\n",
       "    }\n",
       "</style>\n",
       "<table border=\"1\" class=\"dataframe\">\n",
       "  <thead>\n",
       "    <tr style=\"text-align: right;\">\n",
       "      <th></th>\n",
       "      <th>ID</th>\n",
       "      <th>Genre</th>\n",
       "      <th>Description</th>\n",
       "      <th>Director</th>\n",
       "      <th>Actors</th>\n",
       "      <th>Year</th>\n",
       "      <th>Runtime</th>\n",
       "      <th>Rating</th>\n",
       "      <th>Votes</th>\n",
       "      <th>Revenue</th>\n",
       "      <th>Metascore</th>\n",
       "    </tr>\n",
       "    <tr>\n",
       "      <th>Title</th>\n",
       "      <th></th>\n",
       "      <th></th>\n",
       "      <th></th>\n",
       "      <th></th>\n",
       "      <th></th>\n",
       "      <th></th>\n",
       "      <th></th>\n",
       "      <th></th>\n",
       "      <th></th>\n",
       "      <th></th>\n",
       "      <th></th>\n",
       "    </tr>\n",
       "  </thead>\n",
       "  <tbody>\n",
       "    <tr>\n",
       "      <th>Trolls</th>\n",
       "      <td>24</td>\n",
       "      <td>Animation,Adventure,Comedy</td>\n",
       "      <td>After the Bergens invade Troll Village, Poppy,...</td>\n",
       "      <td>Walt Dohrn</td>\n",
       "      <td>Anna Kendrick, Justin Timberlake,Zooey Deschan...</td>\n",
       "      <td>2016</td>\n",
       "      <td>92</td>\n",
       "      <td>6.5</td>\n",
       "      <td>38552</td>\n",
       "      <td>153.69</td>\n",
       "      <td>56.0</td>\n",
       "    </tr>\n",
       "    <tr>\n",
       "      <th>(500) Days of Summer</th>\n",
       "      <td>508</td>\n",
       "      <td>Comedy,Drama,Romance</td>\n",
       "      <td>An offbeat romantic comedy about a woman who d...</td>\n",
       "      <td>Marc Webb</td>\n",
       "      <td>Zooey Deschanel, Joseph Gordon-Levitt, Geoffre...</td>\n",
       "      <td>2009</td>\n",
       "      <td>95</td>\n",
       "      <td>7.7</td>\n",
       "      <td>398972</td>\n",
       "      <td>32.39</td>\n",
       "      <td>76.0</td>\n",
       "    </tr>\n",
       "    <tr>\n",
       "      <th>The Happening</th>\n",
       "      <td>513</td>\n",
       "      <td>Sci-Fi,Thriller</td>\n",
       "      <td>A science teacher, his wife, and a young girl ...</td>\n",
       "      <td>M. Night Shyamalan</td>\n",
       "      <td>Mark Wahlberg, Zooey Deschanel, John Leguizamo...</td>\n",
       "      <td>2008</td>\n",
       "      <td>91</td>\n",
       "      <td>5.0</td>\n",
       "      <td>170897</td>\n",
       "      <td>64.51</td>\n",
       "      <td>34.0</td>\n",
       "    </tr>\n",
       "    <tr>\n",
       "      <th>Bridge to Terabithia</th>\n",
       "      <td>913</td>\n",
       "      <td>Adventure,Drama,Family</td>\n",
       "      <td>A preteen's life turns upside down when he bef...</td>\n",
       "      <td>Gabor Csupo</td>\n",
       "      <td>Josh Hutcherson, AnnaSophia Robb, Zooey Descha...</td>\n",
       "      <td>2007</td>\n",
       "      <td>96</td>\n",
       "      <td>7.2</td>\n",
       "      <td>117297</td>\n",
       "      <td>82.23</td>\n",
       "      <td>74.0</td>\n",
       "    </tr>\n",
       "  </tbody>\n",
       "</table>\n",
       "</div>"
      ],
      "text/plain": [
       "                       ID                       Genre  \\\n",
       "Title                                                   \n",
       "Trolls                 24  Animation,Adventure,Comedy   \n",
       "(500) Days of Summer  508        Comedy,Drama,Romance   \n",
       "The Happening         513             Sci-Fi,Thriller   \n",
       "Bridge to Terabithia  913      Adventure,Drama,Family   \n",
       "\n",
       "                                                            Description  \\\n",
       "Title                                                                     \n",
       "Trolls                After the Bergens invade Troll Village, Poppy,...   \n",
       "(500) Days of Summer  An offbeat romantic comedy about a woman who d...   \n",
       "The Happening         A science teacher, his wife, and a young girl ...   \n",
       "Bridge to Terabithia  A preteen's life turns upside down when he bef...   \n",
       "\n",
       "                                Director  \\\n",
       "Title                                      \n",
       "Trolls                        Walt Dohrn   \n",
       "(500) Days of Summer           Marc Webb   \n",
       "The Happening         M. Night Shyamalan   \n",
       "Bridge to Terabithia         Gabor Csupo   \n",
       "\n",
       "                                                                 Actors  Year  \\\n",
       "Title                                                                           \n",
       "Trolls                Anna Kendrick, Justin Timberlake,Zooey Deschan...  2016   \n",
       "(500) Days of Summer  Zooey Deschanel, Joseph Gordon-Levitt, Geoffre...  2009   \n",
       "The Happening         Mark Wahlberg, Zooey Deschanel, John Leguizamo...  2008   \n",
       "Bridge to Terabithia  Josh Hutcherson, AnnaSophia Robb, Zooey Descha...  2007   \n",
       "\n",
       "                      Runtime  Rating   Votes  Revenue  Metascore  \n",
       "Title                                                              \n",
       "Trolls                     92     6.5   38552   153.69       56.0  \n",
       "(500) Days of Summer       95     7.7  398972    32.39       76.0  \n",
       "The Happening              91     5.0  170897    64.51       34.0  \n",
       "Bridge to Terabithia       96     7.2  117297    82.23       74.0  "
      ]
     },
     "metadata": {},
     "output_type": "display_data"
    },
    {
     "name": "stdout",
     "output_type": "stream",
     "text": [
      "John Goodman 6 7.1499999999999995 10.684880283216403\n",
      "\n"
     ]
    },
    {
     "data": {
      "text/html": [
       "<div>\n",
       "<style scoped>\n",
       "    .dataframe tbody tr th:only-of-type {\n",
       "        vertical-align: middle;\n",
       "    }\n",
       "\n",
       "    .dataframe tbody tr th {\n",
       "        vertical-align: top;\n",
       "    }\n",
       "\n",
       "    .dataframe thead th {\n",
       "        text-align: right;\n",
       "    }\n",
       "</style>\n",
       "<table border=\"1\" class=\"dataframe\">\n",
       "  <thead>\n",
       "    <tr style=\"text-align: right;\">\n",
       "      <th></th>\n",
       "      <th>ID</th>\n",
       "      <th>Genre</th>\n",
       "      <th>Description</th>\n",
       "      <th>Director</th>\n",
       "      <th>Actors</th>\n",
       "      <th>Year</th>\n",
       "      <th>Runtime</th>\n",
       "      <th>Rating</th>\n",
       "      <th>Votes</th>\n",
       "      <th>Revenue</th>\n",
       "      <th>Metascore</th>\n",
       "    </tr>\n",
       "    <tr>\n",
       "      <th>Title</th>\n",
       "      <th></th>\n",
       "      <th></th>\n",
       "      <th></th>\n",
       "      <th></th>\n",
       "      <th></th>\n",
       "      <th></th>\n",
       "      <th></th>\n",
       "      <th></th>\n",
       "      <th></th>\n",
       "      <th></th>\n",
       "      <th></th>\n",
       "    </tr>\n",
       "  </thead>\n",
       "  <tbody>\n",
       "    <tr>\n",
       "      <th>Patriots Day</th>\n",
       "      <td>67</td>\n",
       "      <td>Drama,History,Thriller</td>\n",
       "      <td>The story of the 2013 Boston Marathon bombing ...</td>\n",
       "      <td>Peter Berg</td>\n",
       "      <td>Mark Wahlberg, Michelle Monaghan, J.K. Simmons...</td>\n",
       "      <td>2016</td>\n",
       "      <td>133</td>\n",
       "      <td>7.4</td>\n",
       "      <td>39784</td>\n",
       "      <td>31.86</td>\n",
       "      <td>69.0</td>\n",
       "    </tr>\n",
       "    <tr>\n",
       "      <th>10 Cloverfield Lane</th>\n",
       "      <td>119</td>\n",
       "      <td>Drama,Horror,Mystery</td>\n",
       "      <td>After getting in a car accident, a woman is he...</td>\n",
       "      <td>Dan Trachtenberg</td>\n",
       "      <td>John Goodman, Mary Elizabeth Winstead, John Ga...</td>\n",
       "      <td>2016</td>\n",
       "      <td>104</td>\n",
       "      <td>7.2</td>\n",
       "      <td>192968</td>\n",
       "      <td>71.90</td>\n",
       "      <td>76.0</td>\n",
       "    </tr>\n",
       "    <tr>\n",
       "      <th>Monsters University</th>\n",
       "      <td>413</td>\n",
       "      <td>Animation,Adventure,Comedy</td>\n",
       "      <td>A look at the relationship between Mike and Su...</td>\n",
       "      <td>Dan Scanlon</td>\n",
       "      <td>Billy Crystal, John Goodman, Steve Buscemi, He...</td>\n",
       "      <td>2013</td>\n",
       "      <td>104</td>\n",
       "      <td>7.3</td>\n",
       "      <td>252119</td>\n",
       "      <td>268.49</td>\n",
       "      <td>65.0</td>\n",
       "    </tr>\n",
       "    <tr>\n",
       "      <th>Argo</th>\n",
       "      <td>475</td>\n",
       "      <td>Biography,Drama,History</td>\n",
       "      <td>Acting under the cover of a Hollywood producer...</td>\n",
       "      <td>Ben Affleck</td>\n",
       "      <td>Ben Affleck, Bryan Cranston, John Goodman, Ala...</td>\n",
       "      <td>2012</td>\n",
       "      <td>120</td>\n",
       "      <td>7.7</td>\n",
       "      <td>481274</td>\n",
       "      <td>136.02</td>\n",
       "      <td>86.0</td>\n",
       "    </tr>\n",
       "    <tr>\n",
       "      <th>The Gambler</th>\n",
       "      <td>806</td>\n",
       "      <td>Crime,Drama,Thriller</td>\n",
       "      <td>Lit professor and gambler Jim Bennett's debt c...</td>\n",
       "      <td>Rupert Wyatt</td>\n",
       "      <td>Mark Wahlberg, Jessica Lange, John Goodman, Br...</td>\n",
       "      <td>2014</td>\n",
       "      <td>111</td>\n",
       "      <td>6.0</td>\n",
       "      <td>52537</td>\n",
       "      <td>33.63</td>\n",
       "      <td>55.0</td>\n",
       "    </tr>\n",
       "    <tr>\n",
       "      <th>Flight</th>\n",
       "      <td>846</td>\n",
       "      <td>Drama,Thriller</td>\n",
       "      <td>An airline pilot saves almost all his passenge...</td>\n",
       "      <td>Robert Zemeckis</td>\n",
       "      <td>Denzel Washington, Nadine Velazquez, Don Chead...</td>\n",
       "      <td>2012</td>\n",
       "      <td>138</td>\n",
       "      <td>7.3</td>\n",
       "      <td>276347</td>\n",
       "      <td>93.75</td>\n",
       "      <td>76.0</td>\n",
       "    </tr>\n",
       "  </tbody>\n",
       "</table>\n",
       "</div>"
      ],
      "text/plain": [
       "                      ID                       Genre  \\\n",
       "Title                                                  \n",
       "Patriots Day          67      Drama,History,Thriller   \n",
       "10 Cloverfield Lane  119        Drama,Horror,Mystery   \n",
       "Monsters University  413  Animation,Adventure,Comedy   \n",
       "Argo                 475     Biography,Drama,History   \n",
       "The Gambler          806        Crime,Drama,Thriller   \n",
       "Flight               846              Drama,Thriller   \n",
       "\n",
       "                                                           Description  \\\n",
       "Title                                                                    \n",
       "Patriots Day         The story of the 2013 Boston Marathon bombing ...   \n",
       "10 Cloverfield Lane  After getting in a car accident, a woman is he...   \n",
       "Monsters University  A look at the relationship between Mike and Su...   \n",
       "Argo                 Acting under the cover of a Hollywood producer...   \n",
       "The Gambler          Lit professor and gambler Jim Bennett's debt c...   \n",
       "Flight               An airline pilot saves almost all his passenge...   \n",
       "\n",
       "                             Director  \\\n",
       "Title                                   \n",
       "Patriots Day               Peter Berg   \n",
       "10 Cloverfield Lane  Dan Trachtenberg   \n",
       "Monsters University       Dan Scanlon   \n",
       "Argo                      Ben Affleck   \n",
       "The Gambler              Rupert Wyatt   \n",
       "Flight                Robert Zemeckis   \n",
       "\n",
       "                                                                Actors  Year  \\\n",
       "Title                                                                          \n",
       "Patriots Day         Mark Wahlberg, Michelle Monaghan, J.K. Simmons...  2016   \n",
       "10 Cloverfield Lane  John Goodman, Mary Elizabeth Winstead, John Ga...  2016   \n",
       "Monsters University  Billy Crystal, John Goodman, Steve Buscemi, He...  2013   \n",
       "Argo                 Ben Affleck, Bryan Cranston, John Goodman, Ala...  2012   \n",
       "The Gambler          Mark Wahlberg, Jessica Lange, John Goodman, Br...  2014   \n",
       "Flight               Denzel Washington, Nadine Velazquez, Don Chead...  2012   \n",
       "\n",
       "                     Runtime  Rating   Votes  Revenue  Metascore  \n",
       "Title                                                             \n",
       "Patriots Day             133     7.4   39784    31.86       69.0  \n",
       "10 Cloverfield Lane      104     7.2  192968    71.90       76.0  \n",
       "Monsters University      104     7.3  252119   268.49       65.0  \n",
       "Argo                     120     7.7  481274   136.02       86.0  \n",
       "The Gambler              111     6.0   52537    33.63       55.0  \n",
       "Flight                   138     7.3  276347    93.75       76.0  "
      ]
     },
     "metadata": {},
     "output_type": "display_data"
    }
   ],
   "source": [
    "from IPython.display import display\n",
    "for name, group in my_group:\n",
    "    print(name, len(group), group['Rating'].mean(), group['Metascore'].std())\n",
    "    print()\n",
    "    display(group)"
   ]
  },
  {
   "cell_type": "code",
   "execution_count": 388,
   "metadata": {},
   "outputs": [],
   "source": [
    "def gen1(n):\n",
    "    a = 0\n",
    "    b = 1\n",
    "    for i in range(n):\n",
    "        a, b = a+b, a\n",
    "        yield(a)"
   ]
  },
  {
   "cell_type": "code",
   "execution_count": 282,
   "metadata": {},
   "outputs": [],
   "source": [
    "g = gen1(7)"
   ]
  },
  {
   "cell_type": "code",
   "execution_count": null,
   "metadata": {},
   "outputs": [],
   "source": [
    "tuples = []\n",
    "for actor in actors:\n",
    "    for title in actor_to_titles[actor]:\n",
    "        tuples.append((actor, title))\n",
    "        \n",
    "df_actor = pd.DataFrame(data=tuples, columns=['Actor','Title'])\n",
    "df_actor.set_index('Actor', drop=True, inplace=True)"
   ]
  },
  {
   "cell_type": "code",
   "execution_count": null,
   "metadata": {},
   "outputs": [],
   "source": [
    "df_actor.head()"
   ]
  },
  {
   "cell_type": "code",
   "execution_count": null,
   "metadata": {},
   "outputs": [],
   "source": [
    "df = df_actor.join(movies, on='Title', how='left')\n",
    "df.head()"
   ]
  },
  {
   "cell_type": "code",
   "execution_count": null,
   "metadata": {},
   "outputs": [],
   "source": [
    "len(df_actor)"
   ]
  },
  {
   "cell_type": "code",
   "execution_count": null,
   "metadata": {},
   "outputs": [],
   "source": [
    "len(movies.index)"
   ]
  },
  {
   "cell_type": "code",
   "execution_count": null,
   "metadata": {},
   "outputs": [],
   "source": [
    "len(set(movies.index))"
   ]
  },
  {
   "cell_type": "code",
   "execution_count": null,
   "metadata": {},
   "outputs": [],
   "source": [
    "m2 = movies.reset_index()\n",
    "b = m2.duplicated(subset='Title', keep='first')\n",
    "m2[b]"
   ]
  },
  {
   "cell_type": "code",
   "execution_count": null,
   "metadata": {},
   "outputs": [],
   "source": [
    "b = m2.duplicated(subset='Title', keep='last')\n",
    "m2[b]"
   ]
  },
  {
   "cell_type": "code",
   "execution_count": null,
   "metadata": {},
   "outputs": [],
   "source": [
    "df2 = df.set_index(index)"
   ]
  },
  {
   "cell_type": "code",
   "execution_count": null,
   "metadata": {},
   "outputs": [],
   "source": [
    "actor_to_titles"
   ]
  },
  {
   "cell_type": "code",
   "execution_count": null,
   "metadata": {},
   "outputs": [],
   "source": [
    "df_actor.head()"
   ]
  },
  {
   "cell_type": "code",
   "execution_count": null,
   "metadata": {},
   "outputs": [],
   "source": []
  },
  {
   "cell_type": "code",
   "execution_count": null,
   "metadata": {},
   "outputs": [],
   "source": []
  },
  {
   "cell_type": "code",
   "execution_count": null,
   "metadata": {},
   "outputs": [],
   "source": []
  },
  {
   "cell_type": "code",
   "execution_count": null,
   "metadata": {},
   "outputs": [],
   "source": []
  },
  {
   "cell_type": "code",
   "execution_count": null,
   "metadata": {},
   "outputs": [],
   "source": []
  },
  {
   "cell_type": "code",
   "execution_count": null,
   "metadata": {},
   "outputs": [],
   "source": [
    "tuples = []\n",
    "for actor in actors:\n",
    "    for title in actor_to_titles[actor]:\n",
    "        tuples.append((actor, title))\n",
    "        \n",
    "index = pd.MultiIndex.from_tuples(tuples, names=['Actor', 'Title'])        "
   ]
  },
  {
   "cell_type": "code",
   "execution_count": null,
   "metadata": {},
   "outputs": [],
   "source": [
    "movies.set_index(index)"
   ]
  },
  {
   "cell_type": "code",
   "execution_count": null,
   "metadata": {},
   "outputs": [],
   "source": [
    "# its easier to work with dataframes than dictionaries\n",
    "df = pd.DataFrame(data=[], columns=['Rating', 'Count'])\n",
    "dfs = []\n",
    "for actor in actors:\n",
    "    df = movies.loc[actor_to_titles[actor]]\n",
    "    df['Actor'] = actor\n",
    "    df.set_index('Actor', drop=False, inplace=True)\n",
    "    dfs.append(df)\n",
    "df_new = pd.concat(dfs)\n",
    "df_new.head()"
   ]
  },
  {
   "cell_type": "code",
   "execution_count": null,
   "metadata": {},
   "outputs": [],
   "source": [
    "df_actor_rating = pd.DataFrame.from_dict(actor_rating, orient='index')\n",
    "df_actor_rating.rename_axis('Actor')\n",
    "df_actor_rating.columns = ['Rating']\n",
    "df_actor_rating.nlargest(n=5, columns='Rating')"
   ]
  },
  {
   "cell_type": "code",
   "execution_count": null,
   "metadata": {},
   "outputs": [],
   "source": [
    "df_actor_rating.columns"
   ]
  },
  {
   "cell_type": "code",
   "execution_count": null,
   "metadata": {},
   "outputs": [],
   "source": [
    "df_actor_rating.index"
   ]
  },
  {
   "cell_type": "code",
   "execution_count": null,
   "metadata": {},
   "outputs": [],
   "source": [
    "# sort by value\n",
    "actor_rating_sorted = sorted(actor_rating.items(), key=lambda x: x[1], reverse=True)\n",
    "for actor, rating in actor_rating_sorted:\n",
    "    print(f'{actor}: {rating:4.2f}')"
   ]
  },
  {
   "cell_type": "code",
   "execution_count": null,
   "metadata": {},
   "outputs": [],
   "source": [
    "# get the average rating and number of movies for each actor in at least 5 movies\n",
    "actor_rating = {}\n",
    "for actor in actors_to_title:\n",
    "    titles = actors_to_title[actor]\n",
    "    movies_with_actor = movie.loc[titles]\n",
    "    count = movies_with_actor['Rating'].count()\n",
    "    if count >= 5:\n",
    "        actor_rating[actor] = movies_with_actor['Rating'].mean()"
   ]
  },
  {
   "cell_type": "code",
   "execution_count": null,
   "metadata": {},
   "outputs": [],
   "source": [
    "actor_rating_sorted = sorted(actor_rating.items(), key=lambda kv: kv[1], reverse=True)\n",
    "actor_rating_sorted[:10]"
   ]
  },
  {
   "cell_type": "code",
   "execution_count": null,
   "metadata": {},
   "outputs": [],
   "source": [
    "movie.loc[actor_to_titles['Leonardo DiCaprio']]"
   ]
  },
  {
   "cell_type": "code",
   "execution_count": null,
   "metadata": {},
   "outputs": [],
   "source": [
    "# with dictionaries, its slighter harder to query for two actors, than with indicator columns\n",
    "# find all movies with Leonardo DiCaprio and Matt Damon\n",
    "titles1 = actors_to_title['Leonardo DiCaprio']\n",
    "titles2 = actors_to_title['Matt Damon']\n",
    "titles = set(titles1).intersection(set(titles2))\n",
    "titles\n",
    "movie.loc[titles]"
   ]
  },
  {
   "cell_type": "markdown",
   "metadata": {
    "toc-hr-collapsed": true
   },
   "source": [
    "## Categorical Values\n",
    "Categorical Values are also called enumerated types or factors.\n",
    "\n",
    "Converting a column to categorical can save on memory, make the data processing clearer, and may help certain Machine Learning algorithms to do a better job."
   ]
  },
  {
   "cell_type": "code",
   "execution_count": null,
   "metadata": {},
   "outputs": [],
   "source": [
    "# read in IMDB move dataset\n",
    "movie = pd.read_csv('../data/IMDB-Movie-Data.csv')\n",
    "movie = movie.set_index('Title')"
   ]
  },
  {
   "cell_type": "code",
   "execution_count": null,
   "metadata": {},
   "outputs": [],
   "source": [
    "# select the columns that are of type 'object'\n",
    "movie_obj = movie.select_dtypes('object')\n",
    "movie_obj.columns"
   ]
  },
  {
   "cell_type": "code",
   "execution_count": null,
   "metadata": {},
   "outputs": [],
   "source": [
    "# examine how many unique values there are for each such column\n",
    "movie_obj.nunique()"
   ]
  },
  {
   "cell_type": "code",
   "execution_count": null,
   "metadata": {},
   "outputs": [],
   "source": [
    "# as it turns out, none of the columns in this dataset are good candidates for \n",
    "# being converted to a category"
   ]
  },
  {
   "cell_type": "code",
   "execution_count": null,
   "metadata": {},
   "outputs": [],
   "source": [
    "movie['Year'] = year\n",
    "movie.info()"
   ]
  },
  {
   "cell_type": "code",
   "execution_count": null,
   "metadata": {},
   "outputs": [],
   "source": [
    "years"
   ]
  },
  {
   "cell_type": "code",
   "execution_count": null,
   "metadata": {},
   "outputs": [],
   "source": [
    "# There are too many unique values to create a category\n",
    "# Although unusual, year could be converted to an ordered categorical varibale\n",
    "year = movie['Year'].astype('category', ordered=True)"
   ]
  },
  {
   "cell_type": "code",
   "execution_count": null,
   "metadata": {},
   "outputs": [],
   "source": [
    "# Genre is a candidate for converting to a categorical field\n",
    "movie_obj['Genre'] = movie_obj['Genre'].astype('category')"
   ]
  },
  {
   "cell_type": "markdown",
   "metadata": {},
   "source": [
    "### Above Warning is Important\n",
    "To save memory, Pandas does not copy objects or parts of objects by default.\n",
    "\n",
    "movie_obj is a slice of movie and when an assignment is made to it, an assignment may be made to movie.\n",
    "\n",
    "Although Pandas correctly figure out the intent, this type of warning should never occur in well written code."
   ]
  },
  {
   "cell_type": "code",
   "execution_count": null,
   "metadata": {},
   "outputs": [],
   "source": [
    "# reread in IMDB move dataset\n",
    "movie = pd.read_csv('../data/IMDB-Movie-Data.csv')"
   ]
  },
  {
   "cell_type": "code",
   "execution_count": null,
   "metadata": {},
   "outputs": [],
   "source": [
    "# select the columns that are of type 'object', AS A COPY\n",
    "movie_obj = movie.select_dtypes('object').copy()\n",
    "movie_obj.columns"
   ]
  },
  {
   "cell_type": "code",
   "execution_count": null,
   "metadata": {},
   "outputs": [],
   "source": [
    "# Convert to categorical, note there is no warning this time\n",
    "movie_obj['Genre'] = movie_obj['Genre'].astype('category')"
   ]
  },
  {
   "cell_type": "code",
   "execution_count": null,
   "metadata": {},
   "outputs": [],
   "source": [
    "movie.info()"
   ]
  },
  {
   "cell_type": "code",
   "execution_count": null,
   "metadata": {},
   "outputs": [],
   "source": [
    "# overwrite the Genre column in the movie dataframe\n",
    "movie['Genre'] = movie_obj['Genre']\n",
    "movie.info()"
   ]
  },
  {
   "cell_type": "code",
   "execution_count": null,
   "metadata": {},
   "outputs": [],
   "source": [
    "genre = movie['Genre']\n",
    "genre is movie['Genre']"
   ]
  },
  {
   "cell_type": "code",
   "execution_count": null,
   "metadata": {},
   "outputs": [],
   "source": [
    "genre"
   ]
  },
  {
   "cell_type": "code",
   "execution_count": null,
   "metadata": {},
   "outputs": [],
   "source": []
  },
  {
   "cell_type": "code",
   "execution_count": null,
   "metadata": {},
   "outputs": [],
   "source": []
  },
  {
   "cell_type": "code",
   "execution_count": null,
   "metadata": {},
   "outputs": [],
   "source": [
    "# When the variable is categorical, the imputed value might be the mode"
   ]
  },
  {
   "cell_type": "code",
   "execution_count": null,
   "metadata": {},
   "outputs": [],
   "source": []
  },
  {
   "cell_type": "code",
   "execution_count": null,
   "metadata": {},
   "outputs": [],
   "source": []
  },
  {
   "cell_type": "code",
   "execution_count": null,
   "metadata": {},
   "outputs": [],
   "source": []
  },
  {
   "cell_type": "code",
   "execution_count": null,
   "metadata": {},
   "outputs": [],
   "source": []
  },
  {
   "cell_type": "code",
   "execution_count": null,
   "metadata": {},
   "outputs": [],
   "source": []
  },
  {
   "cell_type": "code",
   "execution_count": null,
   "metadata": {},
   "outputs": [],
   "source": []
  },
  {
   "cell_type": "code",
   "execution_count": null,
   "metadata": {},
   "outputs": [],
   "source": [
    "# which director had the highest average rating and directed at least 3 movies\n",
    "groupby = movie.groupby('Director')\n",
    "\n",
    "# criteria = groupby.count() >= 3\n",
    "groupby['Rating'].count() > 6"
   ]
  },
  {
   "cell_type": "code",
   "execution_count": null,
   "metadata": {},
   "outputs": [],
   "source": [
    "for group in groupby:\n",
    "    print(group.name)\n",
    "    print(len(group))"
   ]
  },
  {
   "cell_type": "code",
   "execution_count": null,
   "metadata": {},
   "outputs": [],
   "source": [
    "dir(groupby)"
   ]
  },
  {
   "cell_type": "markdown",
   "metadata": {
    "toc-hr-collapsed": true
   },
   "source": [
    "## Start of Actors Section"
   ]
  },
  {
   "cell_type": "markdown",
   "metadata": {},
   "source": [
    "### Actors Column\n",
    "The Actors column contains a single string per cell, but each string consists of a comma separated list of actors.\n",
    "\n",
    "Whenever a single cell contains more than 1 value, or string is used to represent more than 1 value, special processing is required."
   ]
  },
  {
   "cell_type": "markdown",
   "metadata": {},
   "source": [
    "#### Quick Review of defaultdict(list)\n",
    "A dictionary is a mapping between a key and a value.\n",
    "\n",
    "The value can be a collection.\n",
    "\n",
    "defaultdict(list): says that each value defaults to an empty list"
   ]
  },
  {
   "cell_type": "code",
   "execution_count": null,
   "metadata": {},
   "outputs": [],
   "source": [
    "# Book analogy:\n",
    "from collections import defaultdict\n",
    "d = defaultdict(list)\n",
    "d['p1'].append(\"word 1\")\n",
    "d['p1'].append(\"word 2\")\n",
    "d['p1'].append(\"word 3\")\n",
    "d['p2'].append(\"word 2\")\n",
    "d['p2'].append(\"word 4\")\n",
    "d"
   ]
  },
  {
   "cell_type": "code",
   "execution_count": null,
   "metadata": {},
   "outputs": [],
   "source": [
    "# if the value is a collection, the entire collection is accessed by key\n",
    "d['p1']"
   ]
  },
  {
   "cell_type": "code",
   "execution_count": null,
   "metadata": {},
   "outputs": [],
   "source": [
    "# Create an inverted index (values to keys)\n",
    "# The index in the back of a book is an \"inverted index\"\n",
    "inverted_dict = defaultdict(list)\n",
    "for key, values in d.items():\n",
    "    for value in values:\n",
    "        inverted_dict[value].append(key)\n",
    "        \n",
    "inverted_dict"
   ]
  },
  {
   "cell_type": "code",
   "execution_count": null,
   "metadata": {},
   "outputs": [],
   "source": [
    "inverted_dict['word 2']"
   ]
  },
  {
   "cell_type": "markdown",
   "metadata": {},
   "source": [
    "#### Convert Series to dict\n",
    "The key is the index of the series.\n",
    "The value is the series value."
   ]
  },
  {
   "cell_type": "code",
   "execution_count": null,
   "metadata": {},
   "outputs": [],
   "source": [
    "# Map Title to Actor string\n",
    "title_to_actor_string = movie['Actors'].to_dict()"
   ]
  },
  {
   "cell_type": "code",
   "execution_count": null,
   "metadata": {},
   "outputs": [],
   "source": [
    "title_to_actor_string['10 Cloverfield Lane']"
   ]
  },
  {
   "cell_type": "code",
   "execution_count": null,
   "metadata": {},
   "outputs": [],
   "source": [
    "# convert this string to a list of actor names\n",
    "title_to_actors = defaultdict(list)\n",
    "for title, actor_string in title_to_actor_string.items():\n",
    "    for actor in actor_string.split(','):\n",
    "        title_to_actors[title].append(actor.strip())"
   ]
  },
  {
   "cell_type": "code",
   "execution_count": null,
   "metadata": {},
   "outputs": [],
   "source": [
    "title_to_actors['10 Cloverfield Lane']"
   ]
  },
  {
   "cell_type": "markdown",
   "metadata": {},
   "source": [
    "#### Create Inverted dict (Actors -> Titles)"
   ]
  },
  {
   "cell_type": "code",
   "execution_count": null,
   "metadata": {},
   "outputs": [],
   "source": [
    "# invert the index\n",
    "actors_to_title = defaultdict(list)\n",
    "for title, actors in title_to_actors.items():\n",
    "    for actor in actors:\n",
    "        actors_to_title[actor].append(title)"
   ]
  },
  {
   "cell_type": "code",
   "execution_count": null,
   "metadata": {},
   "outputs": [],
   "source": [
    "actors_to_title['John Goodman']"
   ]
  },
  {
   "cell_type": "markdown",
   "metadata": {
    "toc-hr-collapsed": true
   },
   "source": [
    "## END of ACTORS Sections"
   ]
  },
  {
   "cell_type": "code",
   "execution_count": null,
   "metadata": {},
   "outputs": [],
   "source": [
    "# get 1 column of values\n",
    "votes = movie['Votes']\n",
    "\n",
    "# first 5 votes in the column\n",
    "votes[:5]"
   ]
  },
  {
   "cell_type": "code",
   "execution_count": null,
   "metadata": {},
   "outputs": [],
   "source": [
    "print(f'type of votes: {type(votes)}')\n",
    "print(f'type of votes values: {votes.dtype}')"
   ]
  },
  {
   "cell_type": "markdown",
   "metadata": {},
   "source": [
    "### DataFrame"
   ]
  },
  {
   "cell_type": "code",
   "execution_count": null,
   "metadata": {},
   "outputs": [],
   "source": [
    "# Get overall information about a DataFrame\n",
    "movie.info()"
   ]
  },
  {
   "cell_type": "code",
   "execution_count": null,
   "metadata": {},
   "outputs": [],
   "source": [
    "# number of records\n",
    "len(movie)"
   ]
  },
  {
   "cell_type": "code",
   "execution_count": null,
   "metadata": {},
   "outputs": [],
   "source": [
    "# number of non-null movie titles\n",
    "movie['Title'].count()"
   ]
  },
  {
   "cell_type": "code",
   "execution_count": null,
   "metadata": {},
   "outputs": [],
   "source": [
    "# number of null movie titles\n",
    "# True counts as 1, False counts as 0, sum up the number of True values\n",
    "movie['Title'].isna().sum()"
   ]
  },
  {
   "cell_type": "code",
   "execution_count": null,
   "metadata": {},
   "outputs": [],
   "source": [
    "metascores = movie['Metascore']\n",
    "print(f'Number of non-null Metascores: {metascores.count()}')\n",
    "print(f'Number of null Metascores: {metascores.isnull().sum()}')\n",
    "print(f'Number of Movies: {len(movie)}')\n",
    "\n",
    "# number of non-null Metascores + number of null Metascores = number of records\n",
    "metascores.count() + metascores.isna().sum() == len(movie)"
   ]
  },
  {
   "cell_type": "code",
   "execution_count": null,
   "metadata": {},
   "outputs": [],
   "source": [
    "# the datatypes of each of the movie columns\n",
    "movie.dtypes"
   ]
  },
  {
   "cell_type": "code",
   "execution_count": null,
   "metadata": {},
   "outputs": [],
   "source": [
    "# distribution of datatypes\n",
    "movie.dtypes.value_counts()"
   ]
  },
  {
   "cell_type": "markdown",
   "metadata": {
    "toc-hr-collapsed": true
   },
   "source": [
    "## Selecting Values in Row(s) or Column(s) or Both"
   ]
  },
  {
   "cell_type": "code",
   "execution_count": null,
   "metadata": {},
   "outputs": [],
   "source": [
    "# Column Selection\n",
    "cols_to_select = ['Title', 'Rating']\n",
    "\n",
    "# verfiy every column to be selected is in movie.columns\n",
    "columns_all = set(movie.columns)\n",
    "columns_subset = set(cols_to_select)\n",
    "columns_subset.issubset(columns_all)"
   ]
  },
  {
   "cell_type": "code",
   "execution_count": null,
   "metadata": {},
   "outputs": [],
   "source": [
    "# select these columns (first 3 rows)\n",
    "movie[cols_to_select].head(3)"
   ]
  },
  {
   "cell_type": "code",
   "execution_count": null,
   "metadata": {},
   "outputs": [],
   "source": [
    "# select these columns (first 3 rows), alternative syntax\n",
    "movie[cols_to_select][:3]"
   ]
  },
  {
   "cell_type": "code",
   "execution_count": null,
   "metadata": {},
   "outputs": [],
   "source": [
    "# add a column that isn't there\n",
    "cols_to_select2 = ['Title', 'Rating', 'Not_There']\n",
    "try:\n",
    "    movie[cols_to_select2]\n",
    "except KeyError as err:\n",
    "    print(err)"
   ]
  },
  {
   "cell_type": "markdown",
   "metadata": {},
   "source": [
    "### Note on Above Error Message\n",
    "\n",
    "The error message says that the column name is not in the \"index\".  As the column labels are themselves an index, this means the column name is not in the index of column labels.\n",
    "\n",
    "This does **not** mean that 'Not_There' is not in the df.index.  df.index refers specifically to the index of row labels.  "
   ]
  },
  {
   "cell_type": "markdown",
   "metadata": {},
   "source": [
    "### Pandas Infers Whether: df\\[cols_to_select\\] Selects Columns or Rows\n",
    "\n",
    "Often the inference allows for convenient use of the bracket operator.  \n",
    "Sometimes it is clearer to explicitly state whether you are searching for row IDs or column IDs or both..\n",
    "\n",
    "If you want to specifically state that you want the rows with IDs 0-2 and the columns with labels 'cols_to_select', using **.loc\\[\\]**"
   ]
  },
  {
   "cell_type": "code",
   "execution_count": null,
   "metadata": {},
   "outputs": [],
   "source": [
    "# Row ID Selection, slice operator is inclusive\n",
    "# Col ID Selection, list of lables is provided\n",
    "movie.loc[:2,cols_to_select]"
   ]
  },
  {
   "cell_type": "markdown",
   "metadata": {},
   "source": [
    "### Boolean Series Row Filtering\n",
    "\n",
    "Comparing values in one column with a relational operator results in a Series having the same length as the column, and an index being identical to the column's index."
   ]
  },
  {
   "cell_type": "code",
   "execution_count": null,
   "metadata": {},
   "outputs": [],
   "source": [
    "# get a boolean series for a relational operation\n",
    "good_rating = movie['Rating'] > 8.6\n",
    "print(type(good_rating)) # Series\n",
    "print(good_rating.dtype) # bool\n",
    "print(len(good_rating) == len(movie)) # same length"
   ]
  },
  {
   "cell_type": "code",
   "execution_count": null,
   "metadata": {},
   "outputs": [],
   "source": [
    "# show first 3 values of this series\n",
    "good_rating[:3]"
   ]
  },
  {
   "cell_type": "markdown",
   "metadata": {},
   "source": [
    "#### Boolean Series Index must match DataFrame index\n",
    "\n",
    "When a boolean series is used to filter rows, it's index must \"match\" the DataFrame's index.  This will always be the case when boolean series was created with a relational operator applied to the values of one of its columns."
   ]
  },
  {
   "cell_type": "code",
   "execution_count": null,
   "metadata": {},
   "outputs": [],
   "source": [
    "movie.index"
   ]
  },
  {
   "cell_type": "code",
   "execution_count": null,
   "metadata": {},
   "outputs": [],
   "source": [
    "good_rating.index"
   ]
  },
  {
   "cell_type": "code",
   "execution_count": null,
   "metadata": {},
   "outputs": [],
   "source": [
    "# all index values (aka row IDs) are the same\n",
    "(movie.index == good_rating.index).all()"
   ]
  },
  {
   "cell_type": "code",
   "execution_count": null,
   "metadata": {},
   "outputs": [],
   "source": [
    "# how many movies meet the good_rating criteria?\n",
    "# True is 1, False is 0, the sum of the True values is the number of True values\n",
    "good_rating.sum()"
   ]
  },
  {
   "cell_type": "code",
   "execution_count": null,
   "metadata": {},
   "outputs": [],
   "source": [
    "movie[good_rating]"
   ]
  },
  {
   "cell_type": "markdown",
   "metadata": {},
   "source": [
    "### Bracket Notation **df\\[filter\\]**\n",
    "\n",
    "Pandas can infer:\n",
    "1. columns are to be selected if the input is a list of values which are a subset of the column labels\n",
    "2. rows are to be selected if the input is a boolean series having a matching index"
   ]
  },
  {
   "cell_type": "code",
   "execution_count": null,
   "metadata": {},
   "outputs": [],
   "source": [
    "# filtering by column, analgous to SQL Select\n",
    "cols_to_select = ['Title', 'Rating']\n",
    "movie[cols_to_select].head(3)"
   ]
  },
  {
   "cell_type": "code",
   "execution_count": null,
   "metadata": {},
   "outputs": [],
   "source": [
    "# filtering by row, analgous to SQL Where\n",
    "movie[good_rating].head(3)"
   ]
  },
  {
   "cell_type": "code",
   "execution_count": null,
   "metadata": {},
   "outputs": [],
   "source": [
    "# To not clutter the notebook output, warnings are ignored\n",
    "# Normally warnings should not be ignored\n",
    "import warnings\n",
    "warnings.filterwarnings('ignore')\n",
    "\n",
    "# create a non-matching boolean_series\n",
    "good_rating2 = good_rating[:-1]\n",
    "try:\n",
    "    movie[good_rating2]\n",
    "except pd.core.indexing.IndexingError as err:\n",
    "    print(err)"
   ]
  },
  {
   "cell_type": "code",
   "execution_count": null,
   "metadata": {},
   "outputs": [],
   "source": [
    "cols_to_select = ['Title', 'Rating']\n",
    "boolean_series = movie['Rating'] > 8.6\n",
    "\n",
    "# filter both columns and rows\n",
    "movie[cols_to_select][good_rating]"
   ]
  },
  {
   "cell_type": "code",
   "execution_count": null,
   "metadata": {},
   "outputs": [],
   "source": [
    "# filter on both rows and columns, reverse order\n",
    "movie[good_rating][cols_to_select]"
   ]
  },
  {
   "cell_type": "code",
   "execution_count": null,
   "metadata": {},
   "outputs": [],
   "source": [
    "# clearer code, Pandas is not infering what is being selected\n",
    "movie.loc[good_rating, cols_to_select]"
   ]
  },
  {
   "cell_type": "markdown",
   "metadata": {
    "toc-hr-collapsed": true
   },
   "source": [
    "# Example DataFrame Queries"
   ]
  },
  {
   "cell_type": "code",
   "execution_count": null,
   "metadata": {},
   "outputs": [],
   "source": [
    "# rename the columns to be easier to work with\n",
    "movie.columns"
   ]
  },
  {
   "cell_type": "code",
   "execution_count": null,
   "metadata": {},
   "outputs": [],
   "source": [
    "cols = ['Rank', 'Genre', 'Description', 'Director', 'Actors', 'Year',\n",
    "       'Runtime', 'Rating', 'Votes', 'Revenue',\n",
    "       'Metascore']\n",
    "movie.columns = cols\n",
    "movie.columns"
   ]
  },
  {
   "cell_type": "code",
   "execution_count": null,
   "metadata": {},
   "outputs": [],
   "source": [
    "# select index (movie titles)\n",
    "movie = movie.sort_index()"
   ]
  },
  {
   "cell_type": "code",
   "execution_count": null,
   "metadata": {},
   "outputs": [],
   "source": [
    "# select last two rows, first 3 columns\n",
    "movie.iloc[-2:, :3]"
   ]
  },
  {
   "cell_type": "code",
   "execution_count": null,
   "metadata": {},
   "outputs": [],
   "source": [
    "# select movies more than 150 minutes with a rating higher than 8.0\n",
    "row_filter = (movie['Runtime'] > 150) & (movie['Rating'] > 8.3)\n",
    "\n",
    "# select Genre, Runtime and Rating\n",
    "cols = ['Genre','Runtime','Rating']\n",
    "\n",
    "movie.loc[row_filter, cols].head(3)"
   ]
  },
  {
   "cell_type": "markdown",
   "metadata": {},
   "source": [
    "## Handle Multiple Values in Actors Column\n",
    "\n",
    "The Actors column is not a collection per se, although it is used like one.  Each value in the Actors column is a single value, which happens to be a string that contains one or more actor names."
   ]
  },
  {
   "cell_type": "code",
   "execution_count": null,
   "metadata": {},
   "outputs": [],
   "source": [
    "# Find all movies with Zooey Deschanel in this dataset\n",
    "titles_filter = movie['Actors'].apply(lambda x: 'Zooey Deschanel' in x)"
   ]
  },
  {
   "cell_type": "code",
   "execution_count": null,
   "metadata": {},
   "outputs": [],
   "source": [
    "movie[titles_filter]"
   ]
  },
  {
   "cell_type": "code",
   "execution_count": null,
   "metadata": {},
   "outputs": [],
   "source": [
    "# It's a bit awkward to hardcode a string inside the lambda expression\n",
    "# pd.Series.apply() must take 1 argument, the argument that represents each value in the Series\n",
    "# To get around the requirement of exactly 1 arg, use a closure\n",
    "def make_actor_filter(actor):\n",
    "    def my_filter(x):\n",
    "        return actor in x\n",
    "    return my_filter"
   ]
  },
  {
   "cell_type": "code",
   "execution_count": null,
   "metadata": {},
   "outputs": [],
   "source": [
    "zooey_filter = make_actor_filter('Zooey Deschanel')\n",
    "titles_filter = movie['Actors'].apply(zooey_filter)\n",
    "movie[titles_filter]"
   ]
  },
  {
   "cell_type": "code",
   "execution_count": null,
   "metadata": {},
   "outputs": [],
   "source": [
    "# to find out which actors appeared in the most movies, create a dictionary\n",
    "# and invert it\n",
    "title_to_actor_string = movie['Actors'].to_dict()\n",
    "title_to_actor_string['10 Cloverfield Lane']"
   ]
  },
  {
   "cell_type": "code",
   "execution_count": null,
   "metadata": {},
   "outputs": [],
   "source": [
    "# convert this string to a list of actor names\n",
    "title_to_actors = defaultdict(list)\n",
    "for title, actor_string in title_to_actor_string.items():\n",
    "    for actor in actor_string.split(','):\n",
    "        title_to_actors[title].append(actor.strip())"
   ]
  },
  {
   "cell_type": "code",
   "execution_count": null,
   "metadata": {},
   "outputs": [],
   "source": [
    "title_to_actors['10 Cloverfield Lane']"
   ]
  },
  {
   "cell_type": "code",
   "execution_count": null,
   "metadata": {},
   "outputs": [],
   "source": [
    "# invert the index\n",
    "actors_to_title = defaultdict(list)\n",
    "for title, actors in title_to_actors.items():\n",
    "    for actor in actors:\n",
    "        actors_to_title[actor].append(title)"
   ]
  },
  {
   "cell_type": "code",
   "execution_count": null,
   "metadata": {},
   "outputs": [],
   "source": [
    "actors_to_title['Zooey Deschanel']"
   ]
  },
  {
   "cell_type": "code",
   "execution_count": null,
   "metadata": {},
   "outputs": [],
   "source": [
    "# with a dictionary of actor to movies, it's easy to get the count of movies per actor\n",
    "movie_count_by_actor = {key:len(value) for key, value in actors_to_title.items()}"
   ]
  },
  {
   "cell_type": "code",
   "execution_count": null,
   "metadata": {},
   "outputs": [],
   "source": [
    "movie_count_by_actor['Zooey Deschanel']"
   ]
  },
  {
   "cell_type": "code",
   "execution_count": null,
   "metadata": {},
   "outputs": [],
   "source": [
    "# find which actors where in the most movies\n",
    "# recall that sorted takes an optional user specified key\n",
    "sorted_by_count = sorted(movie_count_by_actor.items(), key=lambda kv: kv[1], reverse=True)\n",
    "sorted_by_count[:3]"
   ]
  },
  {
   "cell_type": "code",
   "execution_count": null,
   "metadata": {},
   "outputs": [],
   "source": [
    "# find Hugh Jackman movies longer than 140 minutes\n",
    "titles = actors_to_title['Hugh Jackman']\n",
    "hugh_movies = movie.loc[titles]\n",
    "long_hugh_movies = hugh_movies[hugh_movies['Runtime'] > 140]\n",
    "long_hugh_movies"
   ]
  },
  {
   "cell_type": "markdown",
   "metadata": {},
   "source": [
    "## Find which actor was in movies with the highest ratings\n",
    "\n",
    "This won't work because the groups are not mutually exclusive...\n",
    "\n",
    "Ensure actor is in at least two movies."
   ]
  },
  {
   "cell_type": "code",
   "execution_count": null,
   "metadata": {},
   "outputs": [],
   "source": [
    "group_by = movie.groupby(actors_to_title.keys())\n",
    "# group_by_having_2plus = group_by # group_by.filter(lambda x: len(x) > 1)"
   ]
  },
  {
   "cell_type": "code",
   "execution_count": null,
   "metadata": {},
   "outputs": [],
   "source": [
    "for group in group_by_having_2plus:\n",
    "    print(group"
   ]
  },
  {
   "cell_type": "code",
   "execution_count": null,
   "metadata": {},
   "outputs": [],
   "source": [
    "group_by.agg(np.mean)"
   ]
  },
  {
   "cell_type": "code",
   "execution_count": null,
   "metadata": {},
   "outputs": [],
   "source": []
  },
  {
   "cell_type": "code",
   "execution_count": null,
   "metadata": {},
   "outputs": [],
   "source": [
    "# number of movies that are greater than 120 minutes\n",
    "(movie['duration'] > 120).sum()"
   ]
  },
  {
   "cell_type": "code",
   "execution_count": null,
   "metadata": {},
   "outputs": [],
   "source": [
    "# percent of movies greater than 120 minutes long\n",
    "(movie['duration'] > 120).mean()"
   ]
  },
  {
   "cell_type": "code",
   "execution_count": null,
   "metadata": {},
   "outputs": [],
   "source": [
    "# normalized true/false value_counts\n",
    "(movie['duration'] > 120).value_counts(normalize=True)"
   ]
  },
  {
   "cell_type": "code",
   "execution_count": null,
   "metadata": {},
   "outputs": [],
   "source": []
  },
  {
   "cell_type": "code",
   "execution_count": null,
   "metadata": {},
   "outputs": [],
   "source": []
  },
  {
   "cell_type": "code",
   "execution_count": null,
   "metadata": {},
   "outputs": [],
   "source": []
  },
  {
   "cell_type": "code",
   "execution_count": null,
   "metadata": {},
   "outputs": [],
   "source": [
    "movie[title_filter]"
   ]
  },
  {
   "cell_type": "code",
   "execution_count": null,
   "metadata": {},
   "outputs": [],
   "source": [
    "bale_movies = movie.loc[titles]\n",
    "long_bale_movies = bale_movies[bale_movies['Runtime'] > 140]\n",
    "long_bale_movies"
   ]
  },
  {
   "cell_type": "code",
   "execution_count": null,
   "metadata": {},
   "outputs": [],
   "source": [
    "# apply needs 1 argument\n",
    "# use closure to bind 1 argument\n",
    "def make_actor_filter(actor):\n",
    "    def my_filter(x):\n",
    "        return actor in x\n",
    "    return my_filter"
   ]
  },
  {
   "cell_type": "code",
   "execution_count": null,
   "metadata": {},
   "outputs": [],
   "source": [
    "filter_f = make_actor_filter('Christian Bale')"
   ]
  },
  {
   "cell_type": "code",
   "execution_count": null,
   "metadata": {},
   "outputs": [],
   "source": [
    "filter1 = movie['Actors'].apply(filter_f)\n",
    "filter2 = movie['Runtime'] > 140\n",
    "movie[filter1 & filter2]"
   ]
  },
  {
   "cell_type": "code",
   "execution_count": null,
   "metadata": {},
   "outputs": [],
   "source": []
  },
  {
   "cell_type": "code",
   "execution_count": null,
   "metadata": {},
   "outputs": [],
   "source": []
  },
  {
   "cell_type": "code",
   "execution_count": null,
   "metadata": {},
   "outputs": [],
   "source": [
    "title_row_filter = movie.index.map(lambda x: x in titles).to_series()\n",
    "title_row_filter.set_index\n",
    "\n",
    "set_index(movie.index)"
   ]
  },
  {
   "cell_type": "code",
   "execution_count": null,
   "metadata": {},
   "outputs": [],
   "source": [
    "movie.index"
   ]
  },
  {
   "cell_type": "code",
   "execution_count": null,
   "metadata": {},
   "outputs": [],
   "source": [
    "movie.index.take(titles)"
   ]
  },
  {
   "cell_type": "code",
   "execution_count": null,
   "metadata": {},
   "outputs": [],
   "source": [
    "type(title_row_filter)"
   ]
  },
  {
   "cell_type": "code",
   "execution_count": null,
   "metadata": {},
   "outputs": [],
   "source": [
    "type(row_filter)"
   ]
  },
  {
   "cell_type": "code",
   "execution_count": null,
   "metadata": {},
   "outputs": [],
   "source": [
    "title_row_filter & row_filter"
   ]
  },
  {
   "cell_type": "code",
   "execution_count": null,
   "metadata": {},
   "outputs": [],
   "source": [
    "long_movies = movie[row_filter]\n",
    "long_bale_movies = long_movies.loc[title_row_filter]\n",
    "long_bale_movies"
   ]
  },
  {
   "cell_type": "code",
   "execution_count": null,
   "metadata": {},
   "outputs": [],
   "source": [
    "# deal with multiple actors in one field\n",
    "from collections import defaultdict\n",
    "actors = defaultdict(list)\n",
    "\n",
    "# change to map\n",
    "for i in movie.index:\n",
    "    print(movie.loc[i].Title)\n",
    "    print(movie.loc[i, 'Actors'].split(','))\n",
    "    if i > 5:\n",
    "        break"
   ]
  },
  {
   "cell_type": "code",
   "execution_count": null,
   "metadata": {},
   "outputs": [],
   "source": [
    "actor_series = movie['Actors'].map(lambda x: x.split(','))\n",
    "# actors = movies['Actors'].map(lambda x: x.split(',')).to_dict(defaultdict(list))"
   ]
  },
  {
   "cell_type": "code",
   "execution_count": null,
   "metadata": {},
   "outputs": [],
   "source": [
    "actor_series.head()"
   ]
  },
  {
   "cell_type": "code",
   "execution_count": null,
   "metadata": {},
   "outputs": [],
   "source": [
    "actors = actor_series.to_dict(defaultdict(list))"
   ]
  },
  {
   "cell_type": "code",
   "execution_count": null,
   "metadata": {},
   "outputs": [],
   "source": [
    "actors"
   ]
  },
  {
   "cell_type": "code",
   "execution_count": null,
   "metadata": {},
   "outputs": [],
   "source": [
    "# inverted index\n",
    "movie_actors = defaultdict(list)\n",
    "for key, values in actors.items():\n",
    "    for value in values:\n",
    "        movie_actors[value].append(key)"
   ]
  },
  {
   "cell_type": "code",
   "execution_count": null,
   "metadata": {},
   "outputs": [],
   "source": [
    "movie_actors['Noomi Rapace']"
   ]
  },
  {
   "cell_type": "code",
   "execution_count": null,
   "metadata": {},
   "outputs": [],
   "source": [
    "movie.loc[movie_actors['Noomi Rapace']]"
   ]
  },
  {
   "cell_type": "markdown",
   "metadata": {
    "toc-hr-collapsed": false
   },
   "source": [
    "### Notes\n",
    "1. dtype: object -- most often used for strings but may indicate a column having different data types, or a list, dict, etc.\n",
    "2. dtype: categorial -- like R's factor.  Used for a small number of possibly ordered enumerated types."
   ]
  },
  {
   "cell_type": "code",
   "execution_count": null,
   "metadata": {},
   "outputs": [],
   "source": [
    "# sorted will automatically convert the columns to a list, and then sort them\n",
    "cols = sorted(movie.columns)\n",
    "cols"
   ]
  },
  {
   "cell_type": "code",
   "execution_count": null,
   "metadata": {},
   "outputs": [],
   "source": [
    "# count returns number of non-null (i.e. non NAN) values\n",
    "actor = movie['Actors']\n",
    "actor.count()"
   ]
  },
  {
   "cell_type": "code",
   "execution_count": null,
   "metadata": {},
   "outputs": [],
   "source": [
    "movie.shape"
   ]
  },
  {
   "cell_type": "code",
   "execution_count": null,
   "metadata": {},
   "outputs": [],
   "source": [
    "len(actor)"
   ]
  },
  {
   "cell_type": "code",
   "execution_count": null,
   "metadata": {},
   "outputs": [],
   "source": [
    "actor.count() + actor.isnull().sum()"
   ]
  },
  {
   "cell_type": "code",
   "execution_count": null,
   "metadata": {},
   "outputs": [],
   "source": [
    "# describe stats depend upon datatype\n",
    "movie['Revenue (Millions)'].describe()"
   ]
  },
  {
   "cell_type": "code",
   "execution_count": null,
   "metadata": {},
   "outputs": [],
   "source": [
    "movie['actor_1_name'].describe()"
   ]
  },
  {
   "cell_type": "code",
   "execution_count": null,
   "metadata": {},
   "outputs": [],
   "source": [
    "# each (computed) series has the same index as the dataframe it came from\n",
    "(movie['actor_1_name'].isnull().index == movie.index).all()"
   ]
  },
  {
   "cell_type": "code",
   "execution_count": null,
   "metadata": {},
   "outputs": [],
   "source": [
    "((movie['actor_1_name'] == 'Robert De Niro').index == movie.index).all()"
   ]
  },
  {
   "cell_type": "code",
   "execution_count": null,
   "metadata": {},
   "outputs": [],
   "source": [
    "m = movie.set_index('movie_title')\n",
    "m.head()"
   ]
  },
  {
   "cell_type": "code",
   "execution_count": null,
   "metadata": {},
   "outputs": [],
   "source": [
    "m['cast_total_facebook_likes'].sort_values(ascending=False).head()"
   ]
  },
  {
   "cell_type": "code",
   "execution_count": null,
   "metadata": {},
   "outputs": [],
   "source": [
    "actor_1_fb_likes = movie['actor_1_facebook_likes']\n",
    "actor_1_fb_likes.fillna(0).astype(int).head()"
   ]
  },
  {
   "cell_type": "code",
   "execution_count": null,
   "metadata": {},
   "outputs": [],
   "source": [
    "# be careful when computing truthiness of Series that has nan!\n",
    "s = pd.Series([np.nan] * 3)\n",
    "print(s)\n",
    "s.all()"
   ]
  },
  {
   "cell_type": "code",
   "execution_count": null,
   "metadata": {},
   "outputs": [],
   "source": [
    "# an empty Series is also True\n",
    "pd.Series([np.nan] * 3).all(skipna=True)"
   ]
  },
  {
   "cell_type": "code",
   "execution_count": null,
   "metadata": {},
   "outputs": [],
   "source": [
    "s1 = pd.Series([np.nan] * 3)\n",
    "s1 = s1.append(pd.Series([0.0]))\n",
    "s1"
   ]
  },
  {
   "cell_type": "code",
   "execution_count": null,
   "metadata": {},
   "outputs": [],
   "source": [
    "s1.all(skipna=True)"
   ]
  },
  {
   "cell_type": "code",
   "execution_count": null,
   "metadata": {},
   "outputs": [],
   "source": [
    "s1.any(skipna=True)"
   ]
  },
  {
   "cell_type": "code",
   "execution_count": null,
   "metadata": {},
   "outputs": [],
   "source": [
    "# a single column is a Series\n",
    "movie['movie_title'].head()"
   ]
  },
  {
   "cell_type": "code",
   "execution_count": null,
   "metadata": {},
   "outputs": [],
   "source": [
    "# a single column as part of a list, is a DataFrame\n",
    "movie[['movie_title']].head()"
   ]
  },
  {
   "cell_type": "code",
   "execution_count": null,
   "metadata": {},
   "outputs": [],
   "source": [
    "movie.get_dtype_counts()"
   ]
  },
  {
   "cell_type": "code",
   "execution_count": null,
   "metadata": {},
   "outputs": [],
   "source": [
    "# equvalient to preceeding\n",
    "movie.dtypes.value_counts()"
   ]
  },
  {
   "cell_type": "code",
   "execution_count": null,
   "metadata": {},
   "outputs": [],
   "source": [
    "# select column by type\n",
    "# number includes float and int\n",
    "movie.select_dtypes(include=['number']).head()"
   ]
  },
  {
   "cell_type": "code",
   "execution_count": null,
   "metadata": {},
   "outputs": [],
   "source": [
    "# select column by name\n",
    "# use RegEx having 1 to infinity digits in it\n",
    "movie.filter(regex='\\d{1,}').head()"
   ]
  },
  {
   "cell_type": "code",
   "execution_count": null,
   "metadata": {},
   "outputs": [],
   "source": [
    "movie.filter(regex='^act').head()"
   ]
  },
  {
   "cell_type": "code",
   "execution_count": null,
   "metadata": {},
   "outputs": [],
   "source": [
    "# filter does not throw key error, but indexing operator does\n",
    "movie.filter(items=['no_key_error', 'actor_1_name']).head()"
   ]
  },
  {
   "cell_type": "code",
   "execution_count": null,
   "metadata": {},
   "outputs": [],
   "source": [
    "movie.isnull().sum()"
   ]
  },
  {
   "cell_type": "code",
   "execution_count": null,
   "metadata": {},
   "outputs": [],
   "source": [
    "movie.isnull().sum().sum()"
   ]
  },
  {
   "cell_type": "code",
   "execution_count": null,
   "metadata": {},
   "outputs": [],
   "source": []
  },
  {
   "cell_type": "code",
   "execution_count": null,
   "metadata": {},
   "outputs": [],
   "source": [
    "# DataFrames work the same as Series with respect to '==' and 'equals\n",
    "s1 = pd.Series([1, 2, 3, np.nan])\n",
    "s2 = pd.Series([1, 2, 3, np.nan])\n",
    "print(f's1 is s2: {s1 is s2}')\n",
    "print(f'All values are same given np.nan != np.nan: {(s1 == s2).all()}')"
   ]
  },
  {
   "cell_type": "code",
   "execution_count": null,
   "metadata": {},
   "outputs": [],
   "source": [
    "# but .equals DOES consider np.nan to equal np.nan!\n",
    "s1.equals(s2)"
   ]
  },
  {
   "cell_type": "code",
   "execution_count": null,
   "metadata": {},
   "outputs": [],
   "source": [
    "# shape includes non-null values\n",
    "ugds.shape"
   ]
  },
  {
   "cell_type": "code",
   "execution_count": null,
   "metadata": {},
   "outputs": [],
   "source": [
    "# count number of non-null values\n",
    "ugds.count()"
   ]
  },
  {
   "cell_type": "code",
   "execution_count": null,
   "metadata": {},
   "outputs": [],
   "source": [
    "ugds.count(axis='columns').value_counts()"
   ]
  },
  {
   "cell_type": "code",
   "execution_count": null,
   "metadata": {},
   "outputs": [],
   "source": [
    "# isclose is helpful\n",
    "np.isclose(1.000, 0.9999, atol=1e-4)"
   ]
  },
  {
   "cell_type": "code",
   "execution_count": null,
   "metadata": {},
   "outputs": [],
   "source": [
    "# the sum across each row is nearly 0 or 1\n",
    "a = ugds.sum(axis=1).apply(lambda x: np.isclose(x, 1.0, atol=3e-4) or np.isclose(x, 0.0, atol=3e-4))\n",
    "a.all()"
   ]
  },
  {
   "cell_type": "code",
   "execution_count": null,
   "metadata": {},
   "outputs": [],
   "source": [
    "# from the above, either the row has all the values, or it has none of the values\n",
    "# drop rows that are missing all of the values\n",
    "ugds.dropna(how='all').count()"
   ]
  },
  {
   "cell_type": "code",
   "execution_count": null,
   "metadata": {},
   "outputs": [],
   "source": [
    "ugds_clean = ugds.dropna(how='all')\n",
    "ugds_clean.count()"
   ]
  },
  {
   "cell_type": "code",
   "execution_count": null,
   "metadata": {},
   "outputs": [],
   "source": [
    "ugds_clean.isnull().sum().sum()"
   ]
  },
  {
   "cell_type": "code",
   "execution_count": null,
   "metadata": {},
   "outputs": [],
   "source": [
    "# create a diversity metric and apply it\n",
    "ugds_clean.ge(.15).head()"
   ]
  },
  {
   "cell_type": "code",
   "execution_count": null,
   "metadata": {},
   "outputs": [],
   "source": [
    "# count the number of columns that are greater than 0.15 for each row\n",
    "ugds_clean.ge(.15).sum(axis=1).sort_values(ascending=False).head()"
   ]
  },
  {
   "cell_type": "markdown",
   "metadata": {
    "toc-hr-collapsed": true
   },
   "source": [
    "## Data Analysis"
   ]
  },
  {
   "cell_type": "code",
   "execution_count": null,
   "metadata": {},
   "outputs": [],
   "source": [
    "import pandas as pd\n",
    "import numpy as np\n",
    "from IPython.display import display\n",
    "pd.options.display.max_columns = 50"
   ]
  },
  {
   "cell_type": "code",
   "execution_count": null,
   "metadata": {},
   "outputs": [],
   "source": [
    "# convert the 0,1 value to a single byte integer\n",
    "col2['RELAFFIL'] = col2['RELAFFIL'].astype(np.int8)\n",
    "col2.memory_usage(deep=True)"
   ]
  },
  {
   "cell_type": "code",
   "execution_count": null,
   "metadata": {},
   "outputs": [],
   "source": [
    "movie2 = movie[['movie_title', 'imdb_score', 'budget']]\n",
    "movie2.head()"
   ]
  },
  {
   "cell_type": "code",
   "execution_count": null,
   "metadata": {},
   "outputs": [],
   "source": [
    "best_score = movie2.nlargest(100,'imdb_score')\n",
    "best_score.shape"
   ]
  },
  {
   "cell_type": "code",
   "execution_count": null,
   "metadata": {},
   "outputs": [],
   "source": [
    "best_value = best_score.nsmallest(5,'budget')\n",
    "best_value"
   ]
  },
  {
   "cell_type": "code",
   "execution_count": null,
   "metadata": {},
   "outputs": [],
   "source": [
    "movie2.nlargest(100,'imdb_score').nsmallest(5,'budget')"
   ]
  },
  {
   "cell_type": "code",
   "execution_count": null,
   "metadata": {},
   "outputs": [],
   "source": [
    "movie3 = movie[['movie_title', 'title_year', 'imdb_score']]\n",
    "movie3.head()"
   ]
  },
  {
   "cell_type": "code",
   "execution_count": null,
   "metadata": {},
   "outputs": [],
   "source": [
    "movie3.sort_values(['title_year', 'imdb_score'], ascending=False).head(5)"
   ]
  },
  {
   "cell_type": "code",
   "execution_count": null,
   "metadata": {},
   "outputs": [],
   "source": [
    "# sort by movie_title and title_year, then drop dup title_year to get best title per year\n",
    "movie3.sort_values(['title_year', 'imdb_score'], ascending=False).drop_duplicates('title_year').head()"
   ]
  },
  {
   "cell_type": "code",
   "execution_count": null,
   "metadata": {},
   "outputs": [],
   "source": [
    "# create initial sort order via score\n",
    "m_score = movie3.sort_values(['imdb_score'], ascending=False)\n",
    "\n",
    "# group by year\n",
    "m_score = m_score.groupby(['title_year'])\n",
    "\n",
    "# first row in each group is highest score\n",
    "m_score.first().tail()"
   ]
  },
  {
   "cell_type": "code",
   "execution_count": null,
   "metadata": {},
   "outputs": [],
   "source": [
    "# as one liner\n",
    "movie3.sort_values(['title_year', 'imdb_score'], ascending=False).groupby('title_year').first().tail()"
   ]
  },
  {
   "cell_type": "markdown",
   "metadata": {},
   "source": [
    "## Selection"
   ]
  },
  {
   "cell_type": "code",
   "execution_count": null,
   "metadata": {},
   "outputs": [],
   "source": [
    "college = pd.read_csv(college_path[0], index_col='INSTNM')\n",
    "city = college['CITY']\n",
    "city.value_counts().head()"
   ]
  },
  {
   "cell_type": "code",
   "execution_count": null,
   "metadata": {},
   "outputs": [],
   "source": [
    "# slice only works if index is sorted\n",
    "try:\n",
    "    df = college['Spa':'Spr']['CITY']\n",
    "    print(df)\n",
    "except KeyError as err:\n",
    "    print(f'KeyError: {err}')"
   ]
  },
  {
   "cell_type": "code",
   "execution_count": null,
   "metadata": {},
   "outputs": [],
   "source": [
    "college.sort_index(inplace=True)"
   ]
  },
  {
   "cell_type": "code",
   "execution_count": null,
   "metadata": {},
   "outputs": [],
   "source": [
    "try:\n",
    "    df = college['Sp':'Su']\n",
    "    print(df.index)\n",
    "except KeyError as err:\n",
    "    print(err)"
   ]
  },
  {
   "cell_type": "markdown",
   "metadata": {
    "toc-hr-collapsed": true
   },
   "source": [
    "## Boolean Indexing"
   ]
  },
  {
   "cell_type": "code",
   "execution_count": null,
   "metadata": {},
   "outputs": [],
   "source": [
    "movie = pd.read_csv(movie_path[0], index_col='movie_title')\n",
    "movie.head()"
   ]
  },
  {
   "cell_type": "code",
   "execution_count": null,
   "metadata": {},
   "outputs": [],
   "source": [
    "# number of movies that are greater than 120 minutes\n",
    "(movie['duration'] > 120).sum()"
   ]
  },
  {
   "cell_type": "code",
   "execution_count": null,
   "metadata": {},
   "outputs": [],
   "source": [
    "# percent of movies greater than 120 minutes long\n",
    "(movie['duration'] > 120).mean()"
   ]
  },
  {
   "cell_type": "code",
   "execution_count": null,
   "metadata": {},
   "outputs": [],
   "source": [
    "# normalized true/false value_counts\n",
    "(movie['duration'] > 120).value_counts(normalize=True)"
   ]
  },
  {
   "cell_type": "code",
   "execution_count": null,
   "metadata": {},
   "outputs": [],
   "source": [
    "len(movie['duration'])"
   ]
  },
  {
   "cell_type": "code",
   "execution_count": null,
   "metadata": {},
   "outputs": [],
   "source": [
    "movie['duration'].count()"
   ]
  },
  {
   "cell_type": "code",
   "execution_count": null,
   "metadata": {},
   "outputs": [],
   "source": [
    "movie['duration'].isnull().sum()"
   ]
  },
  {
   "cell_type": "code",
   "execution_count": null,
   "metadata": {},
   "outputs": [],
   "source": [
    "# drop na's before computing the mean -- no difference\n",
    "movie['duration'].dropna().gt(120).mean()"
   ]
  },
  {
   "cell_type": "code",
   "execution_count": null,
   "metadata": {},
   "outputs": [],
   "source": [
    "movie['duration'].gt(120).sum() / movie['duration'].count()"
   ]
  },
  {
   "cell_type": "code",
   "execution_count": null,
   "metadata": {},
   "outputs": [],
   "source": [
    "actors = movie[['actor_1_facebook_likes', 'actor_2_facebook_likes']].dropna()"
   ]
  },
  {
   "cell_type": "code",
   "execution_count": null,
   "metadata": {},
   "outputs": [],
   "source": [
    "(actors.iloc[:,0] > actors.iloc[:,1]).mean()"
   ]
  },
  {
   "cell_type": "code",
   "execution_count": null,
   "metadata": {},
   "outputs": [],
   "source": [
    "# numpy semantics for boolean arrays same as semantics for Pandas Boolean Series\n",
    "a = np.array([True, False])\n",
    "b = np.array([True, True])\n",
    "a & b"
   ]
  },
  {
   "cell_type": "code",
   "execution_count": null,
   "metadata": {},
   "outputs": [],
   "source": [
    "a | b"
   ]
  },
  {
   "cell_type": "code",
   "execution_count": null,
   "metadata": {},
   "outputs": [],
   "source": [
    "import pandas as pd\n",
    "import numpy as np\n",
    "import matplotlib.pyplot as plt\n",
    "\n",
    "%matplotlib inline"
   ]
  },
  {
   "cell_type": "code",
   "execution_count": null,
   "metadata": {},
   "outputs": [],
   "source": [
    "college_stabbr_sorted = college_stabbr.sort_index()\n",
    "college_stabbr_sorted.index.is_monotonic"
   ]
  },
  {
   "cell_type": "code",
   "execution_count": null,
   "metadata": {},
   "outputs": [],
   "source": [
    "# boolean series for row selection\n",
    "%timeit college[college['STABBR'] == 'TX']"
   ]
  },
  {
   "cell_type": "code",
   "execution_count": null,
   "metadata": {},
   "outputs": [],
   "source": [
    "# unsorted index for row selection\n",
    "%timeit college_stabbr.loc['TX']"
   ]
  },
  {
   "cell_type": "code",
   "execution_count": null,
   "metadata": {},
   "outputs": [],
   "source": [
    "# sorted index for row selection\n",
    "%timeit college_stabbr_sorted.loc['TX']"
   ]
  },
  {
   "cell_type": "code",
   "execution_count": null,
   "metadata": {},
   "outputs": [],
   "source": [
    "# boolean series for row selection\n",
    "states = ['TX', 'CA', 'NY']\n",
    "%timeit college[college['STABBR'].isin(states)]"
   ]
  },
  {
   "cell_type": "code",
   "execution_count": null,
   "metadata": {},
   "outputs": [],
   "source": [
    "# unsorted index for row selection\n",
    "%timeit college_stabbr.loc[states]"
   ]
  },
  {
   "cell_type": "code",
   "execution_count": null,
   "metadata": {},
   "outputs": [],
   "source": [
    "# sorted index for row selection\n",
    "%timeit college_stabbr_sorted.loc[states]"
   ]
  },
  {
   "cell_type": "code",
   "execution_count": null,
   "metadata": {},
   "outputs": [],
   "source": [
    "# try unsorted and randomized (rather than order read in from file)\n",
    "df = college.sample(len(college))\n",
    "\n",
    "# boolean series for row selection -- rows in random order\n",
    "states = ['TX', 'CA', 'NY']\n",
    "%timeit df[df['STABBR'].isin(states)]"
   ]
  },
  {
   "cell_type": "code",
   "execution_count": null,
   "metadata": {},
   "outputs": [],
   "source": [
    "# verify results are the same\n",
    "college = pd.read_csv(college_path[0])\n",
    "college_stabbr_sorted = college.set_index('STABBR').sort_index()\n",
    "\n",
    "r1 = college[college['STABBR'].isin(states)]\n",
    "r2 = college_stabbr_sorted.loc[states]"
   ]
  },
  {
   "cell_type": "markdown",
   "metadata": {},
   "source": [
    "### DataFrame equals\n",
    "1. indexes must be equal and in the same order\n",
    "2. columns must be equal and in the same order\n",
    "3. values must be the same, np.nan compares equal to np.nan"
   ]
  },
  {
   "cell_type": "code",
   "execution_count": null,
   "metadata": {},
   "outputs": [],
   "source": [
    "# arrange columns\n",
    "cols = r1.columns.sort_values()\n",
    "r1 = r1[cols]\n",
    "r2 = r2[cols]\n",
    "(r1.columns == r2.columns).all()"
   ]
  },
  {
   "cell_type": "code",
   "execution_count": null,
   "metadata": {},
   "outputs": [],
   "source": [
    "# INSTNM is a unique key\n",
    "college['INSTNM'].value_counts().max()"
   ]
  },
  {
   "cell_type": "code",
   "execution_count": null,
   "metadata": {},
   "outputs": [],
   "source": [
    "# another way to check for uniqueness\n",
    "college['INSTNM'].nunique() == college['INSTNM'].count()"
   ]
  },
  {
   "cell_type": "code",
   "execution_count": null,
   "metadata": {},
   "outputs": [],
   "source": [
    "# and the preferred way to see if the values in a series are unique\n",
    "college['INSTNM'].is_unique"
   ]
  },
  {
   "cell_type": "markdown",
   "metadata": {
    "toc-hr-collapsed": true
   },
   "source": [
    "## Index Alignment"
   ]
  },
  {
   "cell_type": "code",
   "execution_count": null,
   "metadata": {},
   "outputs": [],
   "source": [
    "college_path = !find .. -name college.csv\n",
    "college_path = college_path.sort()\n",
    "college_path[0]\n",
    "\n",
    "# read into dataframe with institue name as row index\n",
    "college = pd.read_csv(college_path[0])\n",
    "college.head()"
   ]
  },
  {
   "cell_type": "code",
   "execution_count": null,
   "metadata": {},
   "outputs": [],
   "source": [
    "college.columns"
   ]
  },
  {
   "cell_type": "code",
   "execution_count": null,
   "metadata": {},
   "outputs": [],
   "source": [
    "college.columns.values"
   ]
  },
  {
   "cell_type": "code",
   "execution_count": null,
   "metadata": {},
   "outputs": [],
   "source": [
    "columns = college.columns\n",
    "columns[1:6:2]"
   ]
  },
  {
   "cell_type": "code",
   "execution_count": null,
   "metadata": {},
   "outputs": [],
   "source": [
    "columns.min(), columns.max(), columns.isnull().sum()"
   ]
  },
  {
   "cell_type": "code",
   "execution_count": null,
   "metadata": {},
   "outputs": [],
   "source": [
    "columns + '_A'"
   ]
  },
  {
   "cell_type": "code",
   "execution_count": null,
   "metadata": {},
   "outputs": [],
   "source": [
    "s1 = pd.Series(index=list('aaab'), data=np.arange(4))\n",
    "s1"
   ]
  },
  {
   "cell_type": "code",
   "execution_count": null,
   "metadata": {},
   "outputs": [],
   "source": [
    "s2 = pd.Series(index=list('cababb'), data=np.arange(6))\n",
    "s2"
   ]
  },
  {
   "cell_type": "code",
   "execution_count": null,
   "metadata": {},
   "outputs": [],
   "source": [
    "# additions of Series with non-identical indexes, creates a Cartesian Product\n",
    "s = s1 + s2\n",
    "s"
   ]
  },
  {
   "cell_type": "code",
   "execution_count": null,
   "metadata": {},
   "outputs": [],
   "source": [
    "len(s1), len(s2), len(s)"
   ]
  },
  {
   "cell_type": "code",
   "execution_count": null,
   "metadata": {},
   "outputs": [],
   "source": [
    "# a a a b\n",
    "# 0 1 2 3\n",
    "\n",
    "# c a b a b b\n",
    "# 0 1 2 3 4 5\n",
    "\n",
    "# a's\n",
    "# 0+1, 0+3, 1+1, 1+3, 2+1, 2+3"
   ]
  },
  {
   "cell_type": "code",
   "execution_count": null,
   "metadata": {},
   "outputs": [],
   "source": [
    "s1 = pd.Series(index=list('aaabb'), data=np.arange(5))\n",
    "s2 = pd.Series(index=list('bbaaa'), data=np.arange(10,15))\n",
    "s1 + s2"
   ]
  },
  {
   "cell_type": "code",
   "execution_count": null,
   "metadata": {},
   "outputs": [],
   "source": [
    "s1 = pd.Series(index=list('aaabb'), data=np.arange(5))\n",
    "s2 = pd.Series(index=list('aaabb'), data=np.arange(10,15))\n",
    "s1 + s2"
   ]
  },
  {
   "cell_type": "code",
   "execution_count": null,
   "metadata": {},
   "outputs": [],
   "source": [
    "employee = pd.read_csv(emp_path[0], index_col='RACE')\n",
    "employee.head()"
   ]
  },
  {
   "cell_type": "code",
   "execution_count": null,
   "metadata": {},
   "outputs": [],
   "source": [
    "# view is created, not copy\n",
    "salary1 = employee['BASE_SALARY']\n",
    "salary2 = employee['BASE_SALARY']"
   ]
  },
  {
   "cell_type": "code",
   "execution_count": null,
   "metadata": {},
   "outputs": [],
   "source": [
    "# same information is referred to\n",
    "salary1 is salary2"
   ]
  },
  {
   "cell_type": "code",
   "execution_count": null,
   "metadata": {},
   "outputs": [],
   "source": [
    "salary1 = employee['BASE_SALARY'].copy()\n",
    "salary2 = employee['BASE_SALARY'].copy()\n",
    "salary1 is salary2"
   ]
  },
  {
   "cell_type": "code",
   "execution_count": null,
   "metadata": {},
   "outputs": [],
   "source": [
    "salary1 = salary1.sort_index()\n",
    "salary1.head()"
   ]
  },
  {
   "cell_type": "code",
   "execution_count": null,
   "metadata": {},
   "outputs": [],
   "source": [
    "# values are in a different order\n",
    "# they don't line up, so a Cartesian Product occurs\n",
    "salary2.head()"
   ]
  },
  {
   "cell_type": "code",
   "execution_count": null,
   "metadata": {},
   "outputs": [],
   "source": [
    "salary_add = salary1 + salary2\n",
    "salary_add.head()"
   ]
  },
  {
   "cell_type": "code",
   "execution_count": null,
   "metadata": {},
   "outputs": [],
   "source": [
    "salary_add1 = salary1 + salary1\n",
    "len(salary1), len(salary2), len(salary_add), len(salary_add1)"
   ]
  },
  {
   "cell_type": "code",
   "execution_count": null,
   "metadata": {},
   "outputs": [],
   "source": [
    "b14 = !find .. -name baseball14.csv\n",
    "b15 = !find .. -name baseball15.csv\n",
    "b16 = !find .. -name baseball16.csv"
   ]
  },
  {
   "cell_type": "code",
   "execution_count": null,
   "metadata": {},
   "outputs": [],
   "source": [
    "baseball_14 = pd.read_csv(b14[0], index_col='playerID')\n",
    "baseball_15 = pd.read_csv(b15[0], index_col='playerID')\n",
    "baseball_16 = pd.read_csv(b16[0], index_col='playerID')\n",
    "baseball_14.head()"
   ]
  },
  {
   "cell_type": "code",
   "execution_count": null,
   "metadata": {},
   "outputs": [],
   "source": [
    "# values in 14 that are not in 15\n",
    "baseball_14.index.difference(baseball_15.index)"
   ]
  },
  {
   "cell_type": "code",
   "execution_count": null,
   "metadata": {},
   "outputs": [],
   "source": [
    "# values in 14 that are not in 16\n",
    "baseball_14.index.difference(baseball_16.index)"
   ]
  },
  {
   "cell_type": "code",
   "execution_count": null,
   "metadata": {},
   "outputs": [],
   "source": [
    "hits_14 = baseball_14['H']\n",
    "hits_15 = baseball_15['H']\n",
    "hits_16 = baseball_16['H']\n",
    "hits_14.head()"
   ]
  },
  {
   "cell_type": "code",
   "execution_count": null,
   "metadata": {},
   "outputs": [],
   "source": [
    "(hits_14 + hits_15).head()"
   ]
  },
  {
   "cell_type": "code",
   "execution_count": null,
   "metadata": {},
   "outputs": [],
   "source": [
    "hits_14.add(hits_15, fill_value=0).head()"
   ]
  },
  {
   "cell_type": "code",
   "execution_count": null,
   "metadata": {},
   "outputs": [],
   "source": [
    "hits_total = hits_14.add(hits_15, fill_value=0).add(hits_16, fill_value=0)\n",
    "hits_total.head()"
   ]
  },
  {
   "cell_type": "code",
   "execution_count": null,
   "metadata": {},
   "outputs": [],
   "source": [
    "hits_total.hasnans"
   ]
  },
  {
   "cell_type": "code",
   "execution_count": null,
   "metadata": {},
   "outputs": [],
   "source": [
    "len(hits_14), len(hits_15), len(hits_16), len(hits_total)"
   ]
  },
  {
   "cell_type": "code",
   "execution_count": null,
   "metadata": {},
   "outputs": [],
   "source": [
    "# take union of indexes as sets\n",
    "ss = set(hits_14.index) | set(hits_15.index) | set(hits_16.index)\n",
    "len(ss)"
   ]
  },
  {
   "cell_type": "code",
   "execution_count": null,
   "metadata": {},
   "outputs": [],
   "source": [
    "set(hits_total.index) == ss"
   ]
  },
  {
   "cell_type": "code",
   "execution_count": null,
   "metadata": {},
   "outputs": [],
   "source": [
    "# let's check the above\n",
    "columns = college_n2.columns\n",
    "max_indexes = []\n",
    "for col in columns:\n",
    "    df = college[college[col] == college[col].max()]\n",
    "    max_indexes.append((col, df.index.values[0]))\n",
    "    \n",
    "max_indexes"
   ]
  },
  {
   "cell_type": "code",
   "execution_count": null,
   "metadata": {},
   "outputs": [],
   "source": [
    "df = pd.DataFrame(max_indexes, columns='column INSTNM'.split())\n",
    "df = df.set_index('column')\n",
    "series = df['INSTNM']\n",
    "del series.index.name\n",
    "series"
   ]
  },
  {
   "cell_type": "code",
   "execution_count": null,
   "metadata": {},
   "outputs": [],
   "source": [
    "# it worked!\n",
    "series.equals(max_cols)"
   ]
  },
  {
   "cell_type": "code",
   "execution_count": null,
   "metadata": {},
   "outputs": [],
   "source": [
    "# better way to convert tuple to series with index\n",
    "instnm = [x[1] for x in max_indexes]\n",
    "index = [x[0] for x in max_indexes]\n",
    "s = pd.Series(data=instnm, index=index)\n",
    "s"
   ]
  },
  {
   "cell_type": "code",
   "execution_count": null,
   "metadata": {},
   "outputs": [],
   "source": [
    "%%timeit\n",
    "columns = college_n2.columns\n",
    "max_indexes = []\n",
    "for col in columns:\n",
    "    df = college[college[col] == college[col].max()]\n",
    "    max_indexes.append((col, df.index.values[0]))"
   ]
  },
  {
   "cell_type": "code",
   "execution_count": null,
   "metadata": {},
   "outputs": [],
   "source": [
    "# this is 10 times faster\n",
    "%timeit college_n2.idxmax()"
   ]
  },
  {
   "cell_type": "code",
   "execution_count": null,
   "metadata": {},
   "outputs": [],
   "source": [
    "%%timeit\n",
    "# above appears to be O(n^2) to find max and then find row with max\n",
    "# this should be much faster -- it is!\n",
    "columns = college_n2.columns\n",
    "max_indexes = []\n",
    "for col in columns:\n",
    "    max_indexes.append((col, college[col].idxmax()))\n",
    "    \n",
    "instnm = [x[1] for x in max_indexes]\n",
    "index = [x[0] for x in max_indexes]\n",
    "s = pd.Series(data=instnm, index=index)"
   ]
  },
  {
   "cell_type": "markdown",
   "metadata": {},
   "source": [
    "### Examining the groupby object"
   ]
  },
  {
   "cell_type": "code",
   "execution_count": null,
   "metadata": {},
   "outputs": [],
   "source": [
    "grouped = college.groupby(['STABBR', 'RELAFFIL'])\n",
    "type(grouped)"
   ]
  },
  {
   "cell_type": "code",
   "execution_count": null,
   "metadata": {},
   "outputs": [],
   "source": [
    "print([attr for attr in dir(grouped) if not attr.startswith('_')])"
   ]
  },
  {
   "cell_type": "code",
   "execution_count": null,
   "metadata": {},
   "outputs": [],
   "source": [
    "grouped.ngroups"
   ]
  },
  {
   "cell_type": "code",
   "execution_count": null,
   "metadata": {},
   "outputs": [],
   "source": [
    "groups = list(grouped.groups.keys())\n",
    "groups[:6]"
   ]
  },
  {
   "cell_type": "code",
   "execution_count": null,
   "metadata": {},
   "outputs": [],
   "source": [
    "grouped.get_group(('FL', 1)).head()"
   ]
  },
  {
   "cell_type": "code",
   "execution_count": null,
   "metadata": {},
   "outputs": [],
   "source": [
    "from IPython.display import display\n",
    "i = 0\n",
    "for name, group in grouped:\n",
    "    print(name)\n",
    "    display(group.head(2))\n",
    "    i += 1\n",
    "    if i == 5:\n",
    "        break"
   ]
  },
  {
   "cell_type": "code",
   "execution_count": null,
   "metadata": {},
   "outputs": [],
   "source": [
    "grouped.head(2).head(6)"
   ]
  },
  {
   "cell_type": "markdown",
   "metadata": {},
   "source": [
    "### Grouping by continuous variables"
   ]
  },
  {
   "cell_type": "code",
   "execution_count": null,
   "metadata": {},
   "outputs": [],
   "source": [
    "flights = pd.read_csv('data/flights.csv')\n",
    "flights.head()"
   ]
  },
  {
   "cell_type": "code",
   "execution_count": null,
   "metadata": {},
   "outputs": [],
   "source": [
    "bins = [-np.inf, 200, 500, 1000, 2000, np.inf]\n",
    "cuts = pd.cut(flights['DIST'], bins=bins)\n",
    "cuts.head()"
   ]
  },
  {
   "cell_type": "code",
   "execution_count": null,
   "metadata": {},
   "outputs": [],
   "source": [
    "cuts.value_counts()"
   ]
  },
  {
   "cell_type": "code",
   "execution_count": null,
   "metadata": {},
   "outputs": [],
   "source": [
    "flights.groupby(cuts)['AIRLINE'].value_counts(normalize=True).round(3).head(40)"
   ]
  },
  {
   "cell_type": "code",
   "execution_count": null,
   "metadata": {},
   "outputs": [],
   "source": [
    "# although unusual and unnecessary, year could be considered a ordered categorical type\n",
    "from pandas.api.types import CategoricalDtype\n",
    "years = movie['Year'].unique()\n",
    "years.sort()\n",
    "dtype = CategoricalDtype(categories=years, ordered=True)\n",
    "dtype"
   ]
  },
  {
   "cell_type": "code",
   "execution_count": null,
   "metadata": {},
   "outputs": [],
   "source": [
    "year = movie['Year'].astype(dtype)\n",
    "year"
   ]
  }
 ],
 "metadata": {
  "kernelspec": {
   "display_name": "Python 3",
   "language": "python",
   "name": "python3"
  },
  "language_info": {
   "codemirror_mode": {
    "name": "ipython",
    "version": 3
   },
   "file_extension": ".py",
   "mimetype": "text/x-python",
   "name": "python",
   "nbconvert_exporter": "python",
   "pygments_lexer": "ipython3",
   "version": "3.7.2"
  }
 },
 "nbformat": 4,
 "nbformat_minor": 2
}
