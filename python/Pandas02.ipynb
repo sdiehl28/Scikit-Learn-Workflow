{
 "cells": [
  {
   "cell_type": "markdown",
   "metadata": {},
   "source": [
    "# Pandas Introduction Part 2"
   ]
  },
  {
   "cell_type": "markdown",
   "metadata": {
    "toc-hr-collapsed": true
   },
   "source": [
    "## Overview\n",
    "\n",
    "This notebook uses the IMDB dataset from Kaggle:  \n",
    "https://www.kaggle.com/PromptCloudHQ/imdb-data#IMDB-Movie-Data.csv\n",
    "\n",
    "This notebook has examples which illustrate the basics of Pandas.\n",
    "\n",
    "Another notebook TODO Link will discuss Pandas in more depth."
   ]
  },
  {
   "cell_type": "code",
   "execution_count": 1,
   "metadata": {},
   "outputs": [],
   "source": [
    "import pandas as pd\n",
    "import numpy as np"
   ]
  },
  {
   "cell_type": "markdown",
   "metadata": {},
   "source": [
    "## Movie Data Set"
   ]
  },
  {
   "cell_type": "code",
   "execution_count": 58,
   "metadata": {},
   "outputs": [],
   "source": [
    "# read in IMDB move dataset\n",
    "movie = pd.read_csv('../data/IMDB-Movie-Data.csv')"
   ]
  },
  {
   "cell_type": "code",
   "execution_count": 28,
   "metadata": {},
   "outputs": [
    {
     "data": {
      "text/html": [
       "<div>\n",
       "<style scoped>\n",
       "    .dataframe tbody tr th:only-of-type {\n",
       "        vertical-align: middle;\n",
       "    }\n",
       "\n",
       "    .dataframe tbody tr th {\n",
       "        vertical-align: top;\n",
       "    }\n",
       "\n",
       "    .dataframe thead th {\n",
       "        text-align: right;\n",
       "    }\n",
       "</style>\n",
       "<table border=\"1\" class=\"dataframe\">\n",
       "  <thead>\n",
       "    <tr style=\"text-align: right;\">\n",
       "      <th></th>\n",
       "      <th>Rank</th>\n",
       "      <th>Title</th>\n",
       "      <th>Genre</th>\n",
       "      <th>Description</th>\n",
       "      <th>Director</th>\n",
       "      <th>Actors</th>\n",
       "      <th>Year</th>\n",
       "      <th>Runtime (Minutes)</th>\n",
       "      <th>Rating</th>\n",
       "      <th>Votes</th>\n",
       "      <th>Revenue (Millions)</th>\n",
       "      <th>Metascore</th>\n",
       "    </tr>\n",
       "  </thead>\n",
       "  <tbody>\n",
       "    <tr>\n",
       "      <th>0</th>\n",
       "      <td>1</td>\n",
       "      <td>Guardians of the Galaxy</td>\n",
       "      <td>Action,Adventure,Sci-Fi</td>\n",
       "      <td>A group of intergalactic criminals are forced ...</td>\n",
       "      <td>James Gunn</td>\n",
       "      <td>Chris Pratt, Vin Diesel, Bradley Cooper, Zoe S...</td>\n",
       "      <td>2014</td>\n",
       "      <td>121</td>\n",
       "      <td>8.1</td>\n",
       "      <td>757074</td>\n",
       "      <td>333.13</td>\n",
       "      <td>76.0</td>\n",
       "    </tr>\n",
       "    <tr>\n",
       "      <th>1</th>\n",
       "      <td>2</td>\n",
       "      <td>Prometheus</td>\n",
       "      <td>Adventure,Mystery,Sci-Fi</td>\n",
       "      <td>Following clues to the origin of mankind, a te...</td>\n",
       "      <td>Ridley Scott</td>\n",
       "      <td>Noomi Rapace, Logan Marshall-Green, Michael Fa...</td>\n",
       "      <td>2012</td>\n",
       "      <td>124</td>\n",
       "      <td>7.0</td>\n",
       "      <td>485820</td>\n",
       "      <td>126.46</td>\n",
       "      <td>65.0</td>\n",
       "    </tr>\n",
       "  </tbody>\n",
       "</table>\n",
       "</div>"
      ],
      "text/plain": [
       "   Rank                    Title                     Genre  \\\n",
       "0     1  Guardians of the Galaxy   Action,Adventure,Sci-Fi   \n",
       "1     2               Prometheus  Adventure,Mystery,Sci-Fi   \n",
       "\n",
       "                                         Description      Director  \\\n",
       "0  A group of intergalactic criminals are forced ...    James Gunn   \n",
       "1  Following clues to the origin of mankind, a te...  Ridley Scott   \n",
       "\n",
       "                                              Actors  Year  Runtime (Minutes)  \\\n",
       "0  Chris Pratt, Vin Diesel, Bradley Cooper, Zoe S...  2014                121   \n",
       "1  Noomi Rapace, Logan Marshall-Green, Michael Fa...  2012                124   \n",
       "\n",
       "   Rating   Votes  Revenue (Millions)  Metascore  \n",
       "0     8.1  757074              333.13       76.0  \n",
       "1     7.0  485820              126.46       65.0  "
      ]
     },
     "execution_count": 28,
     "metadata": {},
     "output_type": "execute_result"
    }
   ],
   "source": [
    "# display first 2 rows of the DataFrame\n",
    "movie.head(2)"
   ]
  },
  {
   "cell_type": "code",
   "execution_count": 4,
   "metadata": {},
   "outputs": [
    {
     "data": {
      "text/html": [
       "<div>\n",
       "<style scoped>\n",
       "    .dataframe tbody tr th:only-of-type {\n",
       "        vertical-align: middle;\n",
       "    }\n",
       "\n",
       "    .dataframe tbody tr th {\n",
       "        vertical-align: top;\n",
       "    }\n",
       "\n",
       "    .dataframe thead th {\n",
       "        text-align: right;\n",
       "    }\n",
       "</style>\n",
       "<table border=\"1\" class=\"dataframe\">\n",
       "  <thead>\n",
       "    <tr style=\"text-align: right;\">\n",
       "      <th></th>\n",
       "      <th>Rank</th>\n",
       "      <th>Title</th>\n",
       "      <th>Genre</th>\n",
       "      <th>Description</th>\n",
       "      <th>Director</th>\n",
       "      <th>Actors</th>\n",
       "      <th>Year</th>\n",
       "      <th>Runtime (Minutes)</th>\n",
       "      <th>Rating</th>\n",
       "      <th>Votes</th>\n",
       "      <th>Revenue (Millions)</th>\n",
       "      <th>Metascore</th>\n",
       "    </tr>\n",
       "  </thead>\n",
       "  <tbody>\n",
       "    <tr>\n",
       "      <th>998</th>\n",
       "      <td>999</td>\n",
       "      <td>Search Party</td>\n",
       "      <td>Adventure,Comedy</td>\n",
       "      <td>A pair of friends embark on a mission to reuni...</td>\n",
       "      <td>Scot Armstrong</td>\n",
       "      <td>Adam Pally, T.J. Miller, Thomas Middleditch,Sh...</td>\n",
       "      <td>2014</td>\n",
       "      <td>93</td>\n",
       "      <td>5.6</td>\n",
       "      <td>4881</td>\n",
       "      <td>NaN</td>\n",
       "      <td>22.0</td>\n",
       "    </tr>\n",
       "    <tr>\n",
       "      <th>999</th>\n",
       "      <td>1000</td>\n",
       "      <td>Nine Lives</td>\n",
       "      <td>Comedy,Family,Fantasy</td>\n",
       "      <td>A stuffy businessman finds himself trapped ins...</td>\n",
       "      <td>Barry Sonnenfeld</td>\n",
       "      <td>Kevin Spacey, Jennifer Garner, Robbie Amell,Ch...</td>\n",
       "      <td>2016</td>\n",
       "      <td>87</td>\n",
       "      <td>5.3</td>\n",
       "      <td>12435</td>\n",
       "      <td>19.64</td>\n",
       "      <td>11.0</td>\n",
       "    </tr>\n",
       "  </tbody>\n",
       "</table>\n",
       "</div>"
      ],
      "text/plain": [
       "     Rank         Title                  Genre  \\\n",
       "998   999  Search Party       Adventure,Comedy   \n",
       "999  1000    Nine Lives  Comedy,Family,Fantasy   \n",
       "\n",
       "                                           Description          Director  \\\n",
       "998  A pair of friends embark on a mission to reuni...    Scot Armstrong   \n",
       "999  A stuffy businessman finds himself trapped ins...  Barry Sonnenfeld   \n",
       "\n",
       "                                                Actors  Year  \\\n",
       "998  Adam Pally, T.J. Miller, Thomas Middleditch,Sh...  2014   \n",
       "999  Kevin Spacey, Jennifer Garner, Robbie Amell,Ch...  2016   \n",
       "\n",
       "     Runtime (Minutes)  Rating  Votes  Revenue (Millions)  Metascore  \n",
       "998                 93     5.6   4881                 NaN       22.0  \n",
       "999                 87     5.3  12435               19.64       11.0  "
      ]
     },
     "execution_count": 4,
     "metadata": {},
     "output_type": "execute_result"
    }
   ],
   "source": [
    "# display last 2 rows\n",
    "movie.tail(2)"
   ]
  },
  {
   "cell_type": "code",
   "execution_count": 5,
   "metadata": {},
   "outputs": [
    {
     "data": {
      "text/plain": [
       "Index(['Rank', 'Title', 'Genre', 'Description', 'Director', 'Actors', 'Year',\n",
       "       'Runtime (Minutes)', 'Rating', 'Votes', 'Revenue (Millions)',\n",
       "       'Metascore'],\n",
       "      dtype='object')"
      ]
     },
     "execution_count": 5,
     "metadata": {},
     "output_type": "execute_result"
    }
   ],
   "source": [
    "movie.columns"
   ]
  },
  {
   "cell_type": "code",
   "execution_count": 6,
   "metadata": {},
   "outputs": [
    {
     "data": {
      "text/plain": [
       "RangeIndex(start=0, stop=1000, step=1)"
      ]
     },
     "execution_count": 6,
     "metadata": {},
     "output_type": "execute_result"
    }
   ],
   "source": [
    "movie.index"
   ]
  },
  {
   "cell_type": "code",
   "execution_count": 7,
   "metadata": {},
   "outputs": [
    {
     "data": {
      "text/html": [
       "<div>\n",
       "<style scoped>\n",
       "    .dataframe tbody tr th:only-of-type {\n",
       "        vertical-align: middle;\n",
       "    }\n",
       "\n",
       "    .dataframe tbody tr th {\n",
       "        vertical-align: top;\n",
       "    }\n",
       "\n",
       "    .dataframe thead th {\n",
       "        text-align: right;\n",
       "    }\n",
       "</style>\n",
       "<table border=\"1\" class=\"dataframe\">\n",
       "  <thead>\n",
       "    <tr style=\"text-align: right;\">\n",
       "      <th></th>\n",
       "      <th>Rank</th>\n",
       "      <th>Title</th>\n",
       "      <th>Genre</th>\n",
       "    </tr>\n",
       "  </thead>\n",
       "  <tbody>\n",
       "    <tr>\n",
       "      <th>0</th>\n",
       "      <td>1</td>\n",
       "      <td>Guardians of the Galaxy</td>\n",
       "      <td>Action,Adventure,Sci-Fi</td>\n",
       "    </tr>\n",
       "    <tr>\n",
       "      <th>1</th>\n",
       "      <td>2</td>\n",
       "      <td>Prometheus</td>\n",
       "      <td>Adventure,Mystery,Sci-Fi</td>\n",
       "    </tr>\n",
       "    <tr>\n",
       "      <th>2</th>\n",
       "      <td>3</td>\n",
       "      <td>Split</td>\n",
       "      <td>Horror,Thriller</td>\n",
       "    </tr>\n",
       "  </tbody>\n",
       "</table>\n",
       "</div>"
      ],
      "text/plain": [
       "   Rank                    Title                     Genre\n",
       "0     1  Guardians of the Galaxy   Action,Adventure,Sci-Fi\n",
       "1     2               Prometheus  Adventure,Mystery,Sci-Fi\n",
       "2     3                    Split           Horror,Thriller"
      ]
     },
     "execution_count": 7,
     "metadata": {},
     "output_type": "execute_result"
    }
   ],
   "source": [
    "movie.iloc[0:3, 0:3]"
   ]
  },
  {
   "cell_type": "code",
   "execution_count": 8,
   "metadata": {},
   "outputs": [
    {
     "data": {
      "text/html": [
       "<div>\n",
       "<style scoped>\n",
       "    .dataframe tbody tr th:only-of-type {\n",
       "        vertical-align: middle;\n",
       "    }\n",
       "\n",
       "    .dataframe tbody tr th {\n",
       "        vertical-align: top;\n",
       "    }\n",
       "\n",
       "    .dataframe thead th {\n",
       "        text-align: right;\n",
       "    }\n",
       "</style>\n",
       "<table border=\"1\" class=\"dataframe\">\n",
       "  <thead>\n",
       "    <tr style=\"text-align: right;\">\n",
       "      <th></th>\n",
       "      <th>Rank</th>\n",
       "      <th>Genre</th>\n",
       "      <th>Description</th>\n",
       "    </tr>\n",
       "    <tr>\n",
       "      <th>Title</th>\n",
       "      <th></th>\n",
       "      <th></th>\n",
       "      <th></th>\n",
       "    </tr>\n",
       "  </thead>\n",
       "  <tbody>\n",
       "    <tr>\n",
       "      <th>Guardians of the Galaxy</th>\n",
       "      <td>1</td>\n",
       "      <td>Action,Adventure,Sci-Fi</td>\n",
       "      <td>A group of intergalactic criminals are forced ...</td>\n",
       "    </tr>\n",
       "    <tr>\n",
       "      <th>Prometheus</th>\n",
       "      <td>2</td>\n",
       "      <td>Adventure,Mystery,Sci-Fi</td>\n",
       "      <td>Following clues to the origin of mankind, a te...</td>\n",
       "    </tr>\n",
       "    <tr>\n",
       "      <th>Split</th>\n",
       "      <td>3</td>\n",
       "      <td>Horror,Thriller</td>\n",
       "      <td>Three girls are kidnapped by a man with a diag...</td>\n",
       "    </tr>\n",
       "  </tbody>\n",
       "</table>\n",
       "</div>"
      ],
      "text/plain": [
       "                         Rank                     Genre  \\\n",
       "Title                                                     \n",
       "Guardians of the Galaxy     1   Action,Adventure,Sci-Fi   \n",
       "Prometheus                  2  Adventure,Mystery,Sci-Fi   \n",
       "Split                       3           Horror,Thriller   \n",
       "\n",
       "                                                               Description  \n",
       "Title                                                                       \n",
       "Guardians of the Galaxy  A group of intergalactic criminals are forced ...  \n",
       "Prometheus               Following clues to the origin of mankind, a te...  \n",
       "Split                    Three girls are kidnapped by a man with a diag...  "
      ]
     },
     "execution_count": 8,
     "metadata": {},
     "output_type": "execute_result"
    }
   ],
   "source": [
    "# instead of using the default index, use Title as the index and drop the default index\n",
    "movie = movie.set_index('Title', drop=True)\n",
    "movie.iloc[0:3, 0:3]"
   ]
  },
  {
   "cell_type": "code",
   "execution_count": 9,
   "metadata": {},
   "outputs": [],
   "source": [
    "# rename the columns to be shorter by removing the units\n",
    "movie.columns = ['Rank', 'Genre', 'Description', 'Director', 'Actors', 'Year',\n",
    "       'Runtime', 'Rating', 'Votes', 'Revenue',\n",
    "       'Metascore']"
   ]
  },
  {
   "cell_type": "markdown",
   "metadata": {},
   "source": [
    "### Simple Data Queries"
   ]
  },
  {
   "cell_type": "code",
   "execution_count": 10,
   "metadata": {},
   "outputs": [
    {
     "data": {
      "text/plain": [
       "(66, 191)"
      ]
     },
     "execution_count": 10,
     "metadata": {},
     "output_type": "execute_result"
    }
   ],
   "source": [
    "# find the longest and shortest movies on the list\n",
    "movie['Runtime'].min(), movie['Runtime'].max()"
   ]
  },
  {
   "cell_type": "code",
   "execution_count": 11,
   "metadata": {},
   "outputs": [
    {
     "data": {
      "text/plain": [
       "count    1000.000000\n",
       "mean        6.723200\n",
       "std         0.945429\n",
       "min         1.900000\n",
       "25%         6.200000\n",
       "50%         6.800000\n",
       "75%         7.400000\n",
       "max         9.000000\n",
       "Name: Rating, dtype: float64"
      ]
     },
     "execution_count": 11,
     "metadata": {},
     "output_type": "execute_result"
    }
   ],
   "source": [
    "# find stats about Rating\n",
    "movie['Rating'].describe()"
   ]
  },
  {
   "cell_type": "code",
   "execution_count": 12,
   "metadata": {},
   "outputs": [
    {
     "data": {
      "text/plain": [
       "count    1000.000000\n",
       "mean      113.172000\n",
       "std        18.810908\n",
       "min        66.000000\n",
       "25%       100.000000\n",
       "50%       111.000000\n",
       "75%       123.000000\n",
       "max       191.000000\n",
       "Name: Runtime, dtype: float64"
      ]
     },
     "execution_count": 12,
     "metadata": {},
     "output_type": "execute_result"
    }
   ],
   "source": [
    "# find stats about Runtime\n",
    "movie['Runtime'].describe()"
   ]
  },
  {
   "cell_type": "code",
   "execution_count": 13,
   "metadata": {},
   "outputs": [
    {
     "name": "stdout",
     "output_type": "stream",
     "text": [
      "24.60 percent of movies are longer than 123 minutes\n"
     ]
    }
   ],
   "source": [
    "# lets verify the above stat for 75th percentile\n",
    "# expect to see about 25% of the records above 123\n",
    "criteria = movie['Runtime'] > 123\n",
    "\n",
    "# True is 1, False is 0, sum() therefore counts the number of True values in a boolean series\n",
    "top_percentile = criteria.sum() / len(criteria)\n",
    "print(f'{top_percentile*100:3.2f} percent of movies are longer than 123 minutes')"
   ]
  },
  {
   "cell_type": "code",
   "execution_count": 14,
   "metadata": {},
   "outputs": [
    {
     "data": {
      "text/html": [
       "<div>\n",
       "<style scoped>\n",
       "    .dataframe tbody tr th:only-of-type {\n",
       "        vertical-align: middle;\n",
       "    }\n",
       "\n",
       "    .dataframe tbody tr th {\n",
       "        vertical-align: top;\n",
       "    }\n",
       "\n",
       "    .dataframe thead th {\n",
       "        text-align: right;\n",
       "    }\n",
       "</style>\n",
       "<table border=\"1\" class=\"dataframe\">\n",
       "  <thead>\n",
       "    <tr style=\"text-align: right;\">\n",
       "      <th></th>\n",
       "      <th>Rank</th>\n",
       "      <th>Genre</th>\n",
       "      <th>Description</th>\n",
       "      <th>Director</th>\n",
       "      <th>Actors</th>\n",
       "      <th>Year</th>\n",
       "      <th>Runtime</th>\n",
       "      <th>Rating</th>\n",
       "      <th>Votes</th>\n",
       "      <th>Revenue</th>\n",
       "      <th>Metascore</th>\n",
       "    </tr>\n",
       "    <tr>\n",
       "      <th>Title</th>\n",
       "      <th></th>\n",
       "      <th></th>\n",
       "      <th></th>\n",
       "      <th></th>\n",
       "      <th></th>\n",
       "      <th></th>\n",
       "      <th></th>\n",
       "      <th></th>\n",
       "      <th></th>\n",
       "      <th></th>\n",
       "      <th></th>\n",
       "    </tr>\n",
       "  </thead>\n",
       "  <tbody>\n",
       "    <tr>\n",
       "      <th>The Dark Knight</th>\n",
       "      <td>55</td>\n",
       "      <td>Action,Crime,Drama</td>\n",
       "      <td>When the menace known as the Joker wreaks havo...</td>\n",
       "      <td>Christopher Nolan</td>\n",
       "      <td>Christian Bale, Heath Ledger, Aaron Eckhart,Mi...</td>\n",
       "      <td>2008</td>\n",
       "      <td>152</td>\n",
       "      <td>9.0</td>\n",
       "      <td>1791916</td>\n",
       "      <td>533.32</td>\n",
       "      <td>82.0</td>\n",
       "    </tr>\n",
       "  </tbody>\n",
       "</table>\n",
       "</div>"
      ],
      "text/plain": [
       "                 Rank               Genre  \\\n",
       "Title                                       \n",
       "The Dark Knight    55  Action,Crime,Drama   \n",
       "\n",
       "                                                       Description  \\\n",
       "Title                                                                \n",
       "The Dark Knight  When the menace known as the Joker wreaks havo...   \n",
       "\n",
       "                          Director  \\\n",
       "Title                                \n",
       "The Dark Knight  Christopher Nolan   \n",
       "\n",
       "                                                            Actors  Year  \\\n",
       "Title                                                                      \n",
       "The Dark Knight  Christian Bale, Heath Ledger, Aaron Eckhart,Mi...  2008   \n",
       "\n",
       "                 Runtime  Rating    Votes  Revenue  Metascore  \n",
       "Title                                                          \n",
       "The Dark Knight      152     9.0  1791916   533.32       82.0  "
      ]
     },
     "execution_count": 14,
     "metadata": {},
     "output_type": "execute_result"
    }
   ],
   "source": [
    "# display the row with the highest rating\n",
    "criteria = (movie['Rating'].max() == movie['Rating'])\n",
    "movie[criteria]"
   ]
  },
  {
   "cell_type": "markdown",
   "metadata": {},
   "source": [
    "### Series have a Single Data Type\n",
    "A Series is implemented as a numpy array with all values having the same data type.\n",
    "\n",
    "As everything is a subclass of \"object\", a Series of type \"object\" can only values of any data type."
   ]
  },
  {
   "cell_type": "code",
   "execution_count": 15,
   "metadata": {},
   "outputs": [
    {
     "data": {
      "text/plain": [
       "dtype('float64')"
      ]
     },
     "execution_count": 15,
     "metadata": {},
     "output_type": "execute_result"
    }
   ],
   "source": [
    "# numpy creates a float64 array by default\n",
    "a = np.ndarray([1, 2, 3])\n",
    "a.dtype"
   ]
  },
  {
   "cell_type": "code",
   "execution_count": 16,
   "metadata": {},
   "outputs": [
    {
     "data": {
      "text/plain": [
       "dtype('int32')"
      ]
     },
     "execution_count": 16,
     "metadata": {},
     "output_type": "execute_result"
    }
   ],
   "source": [
    "# tell numpy what type of array to create\n",
    "a = np.ndarray([1, 2, 3], dtype='int32')\n",
    "a.dtype"
   ]
  },
  {
   "cell_type": "code",
   "execution_count": 17,
   "metadata": {},
   "outputs": [
    {
     "data": {
      "text/plain": [
       "dtype('int64')"
      ]
     },
     "execution_count": 17,
     "metadata": {},
     "output_type": "execute_result"
    }
   ],
   "source": [
    "# Pandas creates an int64 Series by default, for integers\n",
    "s = pd.Series([1, 2, 3])\n",
    "s.dtype"
   ]
  },
  {
   "cell_type": "code",
   "execution_count": 18,
   "metadata": {},
   "outputs": [
    {
     "data": {
      "text/plain": [
       "dtype('int32')"
      ]
     },
     "execution_count": 18,
     "metadata": {},
     "output_type": "execute_result"
    }
   ],
   "source": [
    "# tell Pandas what type of Series to create\n",
    "s = pd.Series([1, 2, 3], dtype='int32')\n",
    "s.dtype"
   ]
  },
  {
   "cell_type": "markdown",
   "metadata": {},
   "source": [
    "### Unknown Values\n",
    "In data analysis every variable can have a value that is either: \"known\" or \"unknown\".  \n",
    "\n",
    "Another name for \"unknown\" is \"null\".\n",
    "\n",
    "In Pandas and Numpy, \"np.nan\" is used to represent \"unknown\" or \"null\"."
   ]
  },
  {
   "cell_type": "markdown",
   "metadata": {},
   "source": [
    "#### Example of known/unknown:  \n",
    "A person is asked a yes/no question and refuses to answer; the answer is: \"unknown\"  \n",
    "A person answers yes; the answer is: yes"
   ]
  },
  {
   "cell_type": "code",
   "execution_count": 19,
   "metadata": {},
   "outputs": [
    {
     "name": "stdout",
     "output_type": "stream",
     "text": [
      "False\n",
      "False\n",
      "False\n",
      "True\n"
     ]
    }
   ],
   "source": [
    "# any relational operator with \"unknown\" produces an \"unknown\" result\n",
    "print(3 < np.nan)\n",
    "print(3 > np.nan)\n",
    "print(np.nan == np.nan)\n",
    "\n",
    "# a special operater is needed to determine if the value is unknown\n",
    "print(np.isnan(np.nan))"
   ]
  },
  {
   "cell_type": "code",
   "execution_count": 21,
   "metadata": {},
   "outputs": [
    {
     "data": {
      "text/plain": [
       "float"
      ]
     },
     "execution_count": 21,
     "metadata": {},
     "output_type": "execute_result"
    }
   ],
   "source": [
    "# the data type of np.nan is float\n",
    "type(np.nan)"
   ]
  },
  {
   "cell_type": "markdown",
   "metadata": {},
   "source": [
    "### A Series with an Unknown Value\n",
    "If any of the values are unknown, than the type of the series must be float or object in order to hold np.nan."
   ]
  },
  {
   "cell_type": "code",
   "execution_count": 22,
   "metadata": {},
   "outputs": [
    {
     "name": "stdout",
     "output_type": "stream",
     "text": [
      "int64\n",
      "float64\n"
     ]
    }
   ],
   "source": [
    "# Pandas defaults this to int64\n",
    "s = pd.Series([1, 2, 3])\n",
    "print(s.dtype)\n",
    "\n",
    "# Pandas defaults this to float64, so it can hold np.nan\n",
    "s = pd.Series([1, 2, 3, np.nan])\n",
    "print(s.dtype)"
   ]
  },
  {
   "cell_type": "code",
   "execution_count": 23,
   "metadata": {},
   "outputs": [
    {
     "data": {
      "text/plain": [
       "dtype('O')"
      ]
     },
     "execution_count": 23,
     "metadata": {},
     "output_type": "execute_result"
    }
   ],
   "source": [
    "# the only way to hold non-numeric types is to use the catch-all, 'object'\n",
    "# a Pandas row will often contain values of different data types\n",
    "s = pd.Series([{\"one\":1}, [2, 3], (3,4), 5])\n",
    "s.dtype"
   ]
  },
  {
   "cell_type": "code",
   "execution_count": 24,
   "metadata": {},
   "outputs": [
    {
     "data": {
      "text/plain": [
       "dtype('O')"
      ]
     },
     "execution_count": 24,
     "metadata": {},
     "output_type": "execute_result"
    }
   ],
   "source": [
    "# the default way to hold strings is also to use 'object'\n",
    "s = pd.Series(['column_one', 'column_two'])\n",
    "s.dtype"
   ]
  },
  {
   "cell_type": "markdown",
   "metadata": {},
   "source": [
    "### Summary of Above\n",
    "An integer series that needs to represent \"unknown\" will have its data type promoted to \"float\" as seen above.\n",
    "\n",
    "In practice, a column of type \"object\" is most often a Series containing strings, although it could be an array of disparate data types."
   ]
  },
  {
   "cell_type": "markdown",
   "metadata": {},
   "source": [
    "### Handling Null Values"
   ]
  },
  {
   "cell_type": "code",
   "execution_count": 40,
   "metadata": {},
   "outputs": [
    {
     "data": {
      "text/plain": [
       "True"
      ]
     },
     "execution_count": 40,
     "metadata": {},
     "output_type": "execute_result"
    }
   ],
   "source": [
    "# metascore is a view into the DataFrame, not a copy\n",
    "metascore = movie['Metascore']\n",
    "metascore is movie['Metascore']"
   ]
  },
  {
   "cell_type": "code",
   "execution_count": 41,
   "metadata": {},
   "outputs": [
    {
     "data": {
      "text/plain": [
       "936"
      ]
     },
     "execution_count": 41,
     "metadata": {},
     "output_type": "execute_result"
    }
   ],
   "source": [
    "# number of non-null values\n",
    "metascore.count()"
   ]
  },
  {
   "cell_type": "code",
   "execution_count": 42,
   "metadata": {},
   "outputs": [
    {
     "data": {
      "text/plain": [
       "64"
      ]
     },
     "execution_count": 42,
     "metadata": {},
     "output_type": "execute_result"
    }
   ],
   "source": [
    "# number of null values\n",
    "metascore.isnull().sum()"
   ]
  },
  {
   "cell_type": "code",
   "execution_count": 37,
   "metadata": {},
   "outputs": [
    {
     "data": {
      "text/plain": [
       "55210.0"
      ]
     },
     "execution_count": 37,
     "metadata": {},
     "output_type": "execute_result"
    }
   ],
   "source": [
    "# sum of non-null values\n",
    "metascore.sum()"
   ]
  },
  {
   "cell_type": "code",
   "execution_count": 38,
   "metadata": {},
   "outputs": [
    {
     "data": {
      "text/plain": [
       "58.98504273504273"
      ]
     },
     "execution_count": 38,
     "metadata": {},
     "output_type": "execute_result"
    }
   ],
   "source": [
    "# compute the average of the non-null values\n",
    "metascore.sum() / metascore.count()"
   ]
  },
  {
   "cell_type": "code",
   "execution_count": 39,
   "metadata": {},
   "outputs": [
    {
     "data": {
      "text/plain": [
       "58.98504273504273"
      ]
     },
     "execution_count": 39,
     "metadata": {},
     "output_type": "execute_result"
    }
   ],
   "source": [
    "# compute the average of the non-null values\n",
    "metascore.mean()"
   ]
  },
  {
   "cell_type": "code",
   "execution_count": 44,
   "metadata": {},
   "outputs": [],
   "source": [
    "# When using Machine Learning algorithms, it can be helpful impute a missing value rather than \n",
    "# use null.  Sometimes the imputed value is the mean.\n",
    "metascore = metascore.fillna(value=metascore.mean())"
   ]
  },
  {
   "cell_type": "code",
   "execution_count": 45,
   "metadata": {},
   "outputs": [
    {
     "data": {
      "text/plain": [
       "1000"
      ]
     },
     "execution_count": 45,
     "metadata": {},
     "output_type": "execute_result"
    }
   ],
   "source": [
    "metascore.count()"
   ]
  },
  {
   "cell_type": "code",
   "execution_count": 47,
   "metadata": {},
   "outputs": [
    {
     "data": {
      "text/plain": [
       "58.985042735042626"
      ]
     },
     "execution_count": 47,
     "metadata": {},
     "output_type": "execute_result"
    }
   ],
   "source": [
    "# one reason for imputing with the mean value is that it does not change the overall mean\n",
    "# of the column\n",
    "metascore.mean()"
   ]
  },
  {
   "cell_type": "markdown",
   "metadata": {},
   "source": [
    "## Data Wrangling: Queries involving Genre\n",
    "Each cell in the Genre column is a single string.  This string consists of several genres separated by commas.\n",
    "\n",
    "With the data in this format, it is not possible to answers queries such as \"what genre has the highest average rating?\"\n",
    "\n",
    "In the following, an indicator column, indicating the presence or absence of a genre, will be created.  With this it is possible to select the movies for a given genre and compute their average rating."
   ]
  },
  {
   "cell_type": "code",
   "execution_count": 438,
   "metadata": {},
   "outputs": [],
   "source": [
    "# read in IMDB move dataset\n",
    "movie = pd.read_csv('../data/IMDB-Movie-Data.csv')\n",
    "movie = movie.set_index('Title')"
   ]
  },
  {
   "cell_type": "code",
   "execution_count": 439,
   "metadata": {},
   "outputs": [],
   "source": [
    "def parse_genre_string(s):\n",
    "    genres = s.split(',')\n",
    "    return [genre.strip() for genre in genres]"
   ]
  },
  {
   "cell_type": "code",
   "execution_count": 440,
   "metadata": {},
   "outputs": [
    {
     "data": {
      "text/plain": [
       "{'Action',\n",
       " 'Adventure',\n",
       " 'Animation',\n",
       " 'Biography',\n",
       " 'Comedy',\n",
       " 'Crime',\n",
       " 'Drama',\n",
       " 'Family',\n",
       " 'Fantasy',\n",
       " 'History',\n",
       " 'Horror',\n",
       " 'Music',\n",
       " 'Musical',\n",
       " 'Mystery',\n",
       " 'Romance',\n",
       " 'Sci-Fi',\n",
       " 'Sport',\n",
       " 'Thriller',\n",
       " 'War',\n",
       " 'Western'}"
      ]
     },
     "execution_count": 440,
     "metadata": {},
     "output_type": "execute_result"
    }
   ],
   "source": [
    "# get the set of unique genres\n",
    "genres = set()\n",
    "s = movie['Genre'].apply(parse_genre_string)\n",
    "s.apply(lambda x: genres.update(x))\n",
    "genres"
   ]
  },
  {
   "cell_type": "code",
   "execution_count": 441,
   "metadata": {},
   "outputs": [],
   "source": [
    "# Create an Indicator Columns\n",
    "for col in genre_categories:\n",
    "    movie['Genre_'+col] = movie['Genre'].apply(lambda x: col in x)"
   ]
  },
  {
   "cell_type": "code",
   "execution_count": 442,
   "metadata": {},
   "outputs": [
    {
     "data": {
      "text/html": [
       "<div>\n",
       "<style scoped>\n",
       "    .dataframe tbody tr th:only-of-type {\n",
       "        vertical-align: middle;\n",
       "    }\n",
       "\n",
       "    .dataframe tbody tr th {\n",
       "        vertical-align: top;\n",
       "    }\n",
       "\n",
       "    .dataframe thead th {\n",
       "        text-align: right;\n",
       "    }\n",
       "</style>\n",
       "<table border=\"1\" class=\"dataframe\">\n",
       "  <thead>\n",
       "    <tr style=\"text-align: right;\">\n",
       "      <th></th>\n",
       "      <th>Genre</th>\n",
       "      <th>Genre_Action</th>\n",
       "      <th>Genre_Sci-Fi</th>\n",
       "      <th>Rating</th>\n",
       "    </tr>\n",
       "    <tr>\n",
       "      <th>Title</th>\n",
       "      <th></th>\n",
       "      <th></th>\n",
       "      <th></th>\n",
       "      <th></th>\n",
       "    </tr>\n",
       "  </thead>\n",
       "  <tbody>\n",
       "    <tr>\n",
       "      <th>Guardians of the Galaxy</th>\n",
       "      <td>Action,Adventure,Sci-Fi</td>\n",
       "      <td>True</td>\n",
       "      <td>True</td>\n",
       "      <td>8.1</td>\n",
       "    </tr>\n",
       "    <tr>\n",
       "      <th>Suicide Squad</th>\n",
       "      <td>Action,Adventure,Fantasy</td>\n",
       "      <td>True</td>\n",
       "      <td>False</td>\n",
       "      <td>6.2</td>\n",
       "    </tr>\n",
       "    <tr>\n",
       "      <th>The Great Wall</th>\n",
       "      <td>Action,Adventure,Fantasy</td>\n",
       "      <td>True</td>\n",
       "      <td>False</td>\n",
       "      <td>6.1</td>\n",
       "    </tr>\n",
       "    <tr>\n",
       "      <th>The Lost City of Z</th>\n",
       "      <td>Action,Adventure,Biography</td>\n",
       "      <td>True</td>\n",
       "      <td>False</td>\n",
       "      <td>7.1</td>\n",
       "    </tr>\n",
       "    <tr>\n",
       "      <th>Rogue One</th>\n",
       "      <td>Action,Adventure,Sci-Fi</td>\n",
       "      <td>True</td>\n",
       "      <td>True</td>\n",
       "      <td>7.9</td>\n",
       "    </tr>\n",
       "  </tbody>\n",
       "</table>\n",
       "</div>"
      ],
      "text/plain": [
       "                                              Genre  Genre_Action  \\\n",
       "Title                                                               \n",
       "Guardians of the Galaxy     Action,Adventure,Sci-Fi          True   \n",
       "Suicide Squad              Action,Adventure,Fantasy          True   \n",
       "The Great Wall             Action,Adventure,Fantasy          True   \n",
       "The Lost City of Z       Action,Adventure,Biography          True   \n",
       "Rogue One                   Action,Adventure,Sci-Fi          True   \n",
       "\n",
       "                         Genre_Sci-Fi  Rating  \n",
       "Title                                          \n",
       "Guardians of the Galaxy          True     8.1  \n",
       "Suicide Squad                   False     6.2  \n",
       "The Great Wall                  False     6.1  \n",
       "The Lost City of Z              False     7.1  \n",
       "Rogue One                        True     7.9  "
      ]
     },
     "execution_count": 442,
     "metadata": {},
     "output_type": "execute_result"
    }
   ],
   "source": [
    "# try it\n",
    "cols = ['Genre', 'Genre_Action', 'Genre_Sci-Fi', 'Rating']\n",
    "action_criteria = movie['Genre_Action']\n",
    "action_movies = movie.loc[action_criteria, cols]\n",
    "action_movies.head(5)"
   ]
  },
  {
   "cell_type": "code",
   "execution_count": 443,
   "metadata": {},
   "outputs": [
    {
     "data": {
      "text/plain": [
       "6.614521452145213"
      ]
     },
     "execution_count": 443,
     "metadata": {},
     "output_type": "execute_result"
    }
   ],
   "source": [
    "# find the avg rating of action movies\n",
    "action_movies['Rating'].mean()"
   ]
  },
  {
   "cell_type": "code",
   "execution_count": 444,
   "metadata": {},
   "outputs": [
    {
     "data": {
      "text/plain": [
       "Genre_Action\n",
       "False    6.770445\n",
       "True     6.614521\n",
       "Name: Rating, dtype: float64"
      ]
     },
     "execution_count": 444,
     "metadata": {},
     "output_type": "execute_result"
    }
   ],
   "source": [
    "# the same, but use groupby\n",
    "# groupby is overkill for a boolean_series, but it works\n",
    "# groupby with an indicator variable results in two groups: False, True\n",
    "# the group of interest is 'True'\n",
    "groupby = movie.groupby('Genre_Action')\n",
    "groupby['Rating'].mean()"
   ]
  },
  {
   "cell_type": "code",
   "execution_count": 445,
   "metadata": {},
   "outputs": [
    {
     "data": {
      "text/plain": [
       "6.614521452145213"
      ]
     },
     "execution_count": 445,
     "metadata": {},
     "output_type": "execute_result"
    }
   ],
   "source": [
    "groupby['Rating'].mean()[True]"
   ]
  },
  {
   "cell_type": "code",
   "execution_count": 446,
   "metadata": {},
   "outputs": [
    {
     "data": {
      "text/html": [
       "<div>\n",
       "<style scoped>\n",
       "    .dataframe tbody tr th:only-of-type {\n",
       "        vertical-align: middle;\n",
       "    }\n",
       "\n",
       "    .dataframe tbody tr th {\n",
       "        vertical-align: top;\n",
       "    }\n",
       "\n",
       "    .dataframe thead th {\n",
       "        text-align: right;\n",
       "    }\n",
       "</style>\n",
       "<table border=\"1\" class=\"dataframe\">\n",
       "  <thead>\n",
       "    <tr style=\"text-align: right;\">\n",
       "      <th></th>\n",
       "      <th>Genre</th>\n",
       "      <th>Genre_Action</th>\n",
       "      <th>Genre_Sci-Fi</th>\n",
       "      <th>Rating</th>\n",
       "    </tr>\n",
       "    <tr>\n",
       "      <th>Title</th>\n",
       "      <th></th>\n",
       "      <th></th>\n",
       "      <th></th>\n",
       "      <th></th>\n",
       "    </tr>\n",
       "  </thead>\n",
       "  <tbody>\n",
       "    <tr>\n",
       "      <th>The Dark Knight</th>\n",
       "      <td>Action,Crime,Drama</td>\n",
       "      <td>True</td>\n",
       "      <td>False</td>\n",
       "      <td>9.0</td>\n",
       "    </tr>\n",
       "  </tbody>\n",
       "</table>\n",
       "</div>"
      ],
      "text/plain": [
       "                              Genre  Genre_Action  Genre_Sci-Fi  Rating\n",
       "Title                                                                  \n",
       "The Dark Knight  Action,Crime,Drama          True         False     9.0"
      ]
     },
     "execution_count": 446,
     "metadata": {},
     "output_type": "execute_result"
    }
   ],
   "source": [
    "# find the highest rated action movie\n",
    "criteria = (action_movies['Rating'] == action_movies['Rating'].max())\n",
    "action_movies[criteria]"
   ]
  },
  {
   "cell_type": "code",
   "execution_count": 447,
   "metadata": {},
   "outputs": [
    {
     "data": {
      "text/plain": [
       "303"
      ]
     },
     "execution_count": 447,
     "metadata": {},
     "output_type": "execute_result"
    }
   ],
   "source": [
    "# how many action movies are there?\n",
    "# True counts as 1, False as 0, so sum() is number of Action Movies\n",
    "movie['Genre_Action'].sum()"
   ]
  },
  {
   "cell_type": "code",
   "execution_count": 448,
   "metadata": {},
   "outputs": [
    {
     "data": {
      "text/plain": [
       "303"
      ]
     },
     "execution_count": 448,
     "metadata": {},
     "output_type": "execute_result"
    }
   ],
   "source": [
    "groupby['Rating'].count()[True]"
   ]
  },
  {
   "cell_type": "code",
   "execution_count": 449,
   "metadata": {},
   "outputs": [
    {
     "name": "stdout",
     "output_type": "stream",
     "text": [
      "Drama      Count:  513\n",
      "Action     Count:  303\n",
      "Comedy     Count:  279\n",
      "Adventure  Count:  259\n",
      "Thriller   Count:  195\n",
      "Crime      Count:  150\n",
      "Romance    Count:  141\n",
      "Sci-Fi     Count:  120\n",
      "Horror     Count:  119\n",
      "Mystery    Count:  106\n",
      "Fantasy    Count:  101\n",
      "Biography  Count:   81\n",
      "Family     Count:   51\n",
      "Animation  Count:   49\n",
      "History    Count:   29\n",
      "Music      Count:   21\n",
      "Sport      Count:   18\n",
      "War        Count:   13\n",
      "Western    Count:    7\n",
      "Musical    Count:    5\n"
     ]
    }
   ],
   "source": [
    "# how many of each genre are there?\n",
    "genre_count = {}\n",
    "for genre in genres:\n",
    "    num_movies = movie['Genre_'+genre].sum()\n",
    "    genre_count[genre] = num_movies\n",
    "    \n",
    "genre_count_sorted = sorted(genre_count.items(), key=lambda kv: kv[1], reverse=True)\n",
    "for genre, count in genre_count_sorted:\n",
    "    print(f'{genre:<10} Count: {count:>4}')"
   ]
  },
  {
   "cell_type": "code",
   "execution_count": 450,
   "metadata": {},
   "outputs": [
    {
     "data": {
      "text/plain": [
       "['Sci-Fi',\n",
       " 'Mystery',\n",
       " 'Fantasy',\n",
       " 'Thriller',\n",
       " 'Drama',\n",
       " 'Adventure',\n",
       " 'Biography',\n",
       " 'Romance',\n",
       " 'Animation',\n",
       " 'Action',\n",
       " 'History',\n",
       " 'Comedy',\n",
       " 'Family',\n",
       " 'Crime',\n",
       " 'Horror',\n",
       " 'Music']"
      ]
     },
     "execution_count": 450,
     "metadata": {},
     "output_type": "execute_result"
    }
   ],
   "source": [
    "# find all genres that apply to at least 20 titles\n",
    "genre_20 = [genre for genre,count in genre_count.items() if count >= 20]\n",
    "genre_20"
   ]
  },
  {
   "cell_type": "code",
   "execution_count": 451,
   "metadata": {},
   "outputs": [
    {
     "name": "stdout",
     "output_type": "stream",
     "text": [
      "Animation  Rating: 7.32\n",
      "Biography  Rating: 7.29\n",
      "History    Rating: 7.13\n",
      "Music      Rating: 7.04\n",
      "Drama      Rating: 6.95\n",
      "Mystery    Rating: 6.89\n",
      "Crime      Rating: 6.79\n",
      "Adventure  Rating: 6.77\n",
      "Sci-Fi     Rating: 6.72\n",
      "Romance    Rating: 6.69\n",
      "Family     Rating: 6.68\n",
      "Comedy     Rating: 6.65\n",
      "Action     Rating: 6.61\n",
      "Thriller   Rating: 6.59\n",
      "Fantasy    Rating: 6.55\n",
      "Horror     Rating: 6.09\n"
     ]
    }
   ],
   "source": [
    "# find the average rating for each genre that applies to at least 20 titles\n",
    "cols = ['Genre', 'Rating']\n",
    "genre_avg_rating = {}\n",
    "for genre in genre_20:\n",
    "    genre_criteria = movie['Genre_'+genre]\n",
    "    genre_movies = movie.loc[genre_criteria, cols]\n",
    "    genre_avg_rating[genre] = genre_movies['Rating'].mean()\n",
    "\n",
    "genre_rating_sorted = sorted(genre_avg_rating.items(), key=lambda kv: kv[1], reverse=True)\n",
    "for genre, rating in genre_rating_sorted:\n",
    "    print(f'{genre:<10} Rating: {rating:3.2f}')"
   ]
  },
  {
   "cell_type": "code",
   "execution_count": 452,
   "metadata": {},
   "outputs": [
    {
     "data": {
      "text/plain": [
       "Index(['Rank', 'Genre', 'Description', 'Director', 'Actors', 'Year',\n",
       "       'Runtime (Minutes)', 'Rating', 'Votes', 'Revenue (Millions)',\n",
       "       'Metascore', 'Genre_Action', 'Genre_Adventure', 'Genre_Animation',\n",
       "       'Genre_Biography', 'Genre_Comedy', 'Genre_Crime', 'Genre_Drama',\n",
       "       'Genre_Family', 'Genre_Fantasy', 'Genre_History', 'Genre_Horror',\n",
       "       'Genre_Music', 'Genre_Musical', 'Genre_Mystery', 'Genre_Romance',\n",
       "       'Genre_Sci-Fi', 'Genre_Sport', 'Genre_Thriller', 'Genre_War',\n",
       "       'Genre_Western'],\n",
       "      dtype='object')"
      ]
     },
     "execution_count": 452,
     "metadata": {},
     "output_type": "execute_result"
    }
   ],
   "source": [
    "movie.columns"
   ]
  },
  {
   "cell_type": "code",
   "execution_count": 456,
   "metadata": {},
   "outputs": [
    {
     "data": {
      "text/html": [
       "<div>\n",
       "<style scoped>\n",
       "    .dataframe tbody tr th:only-of-type {\n",
       "        vertical-align: middle;\n",
       "    }\n",
       "\n",
       "    .dataframe tbody tr th {\n",
       "        vertical-align: top;\n",
       "    }\n",
       "\n",
       "    .dataframe thead th {\n",
       "        text-align: right;\n",
       "    }\n",
       "</style>\n",
       "<table border=\"1\" class=\"dataframe\">\n",
       "  <thead>\n",
       "    <tr style=\"text-align: right;\">\n",
       "      <th></th>\n",
       "      <th>Rank</th>\n",
       "      <th>Genre</th>\n",
       "      <th>Description</th>\n",
       "      <th>Director</th>\n",
       "      <th>Actors</th>\n",
       "      <th>Year</th>\n",
       "      <th>Runtime (Minutes)</th>\n",
       "      <th>Rating</th>\n",
       "      <th>Votes</th>\n",
       "      <th>Revenue (Millions)</th>\n",
       "      <th>...</th>\n",
       "      <th>Genre_Horror</th>\n",
       "      <th>Genre_Music</th>\n",
       "      <th>Genre_Musical</th>\n",
       "      <th>Genre_Mystery</th>\n",
       "      <th>Genre_Romance</th>\n",
       "      <th>Genre_Sci-Fi</th>\n",
       "      <th>Genre_Sport</th>\n",
       "      <th>Genre_Thriller</th>\n",
       "      <th>Genre_War</th>\n",
       "      <th>Genre_Western</th>\n",
       "    </tr>\n",
       "    <tr>\n",
       "      <th>Title</th>\n",
       "      <th></th>\n",
       "      <th></th>\n",
       "      <th></th>\n",
       "      <th></th>\n",
       "      <th></th>\n",
       "      <th></th>\n",
       "      <th></th>\n",
       "      <th></th>\n",
       "      <th></th>\n",
       "      <th></th>\n",
       "      <th></th>\n",
       "      <th></th>\n",
       "      <th></th>\n",
       "      <th></th>\n",
       "      <th></th>\n",
       "      <th></th>\n",
       "      <th></th>\n",
       "      <th></th>\n",
       "      <th></th>\n",
       "      <th></th>\n",
       "      <th></th>\n",
       "    </tr>\n",
       "  </thead>\n",
       "  <tbody>\n",
       "    <tr>\n",
       "      <th>Absolutely Anything</th>\n",
       "      <td>399</td>\n",
       "      <td>Comedy,Sci-Fi</td>\n",
       "      <td>A group of eccentric aliens confer a human bei...</td>\n",
       "      <td>Terry Jones</td>\n",
       "      <td>Simon Pegg, Kate Beckinsale, Sanjeev Bhaskar, ...</td>\n",
       "      <td>2015</td>\n",
       "      <td>85</td>\n",
       "      <td>6.0</td>\n",
       "      <td>26587</td>\n",
       "      <td>NaN</td>\n",
       "      <td>...</td>\n",
       "      <td>False</td>\n",
       "      <td>False</td>\n",
       "      <td>False</td>\n",
       "      <td>False</td>\n",
       "      <td>False</td>\n",
       "      <td>True</td>\n",
       "      <td>False</td>\n",
       "      <td>False</td>\n",
       "      <td>False</td>\n",
       "      <td>False</td>\n",
       "    </tr>\n",
       "    <tr>\n",
       "      <th>Idiocracy</th>\n",
       "      <td>560</td>\n",
       "      <td>Adventure,Comedy,Sci-Fi</td>\n",
       "      <td>Private Joe Bauers, the definition of \"average...</td>\n",
       "      <td>Mike Judge</td>\n",
       "      <td>Luke Wilson, Maya Rudolph, Dax Shepard, Terry ...</td>\n",
       "      <td>2006</td>\n",
       "      <td>84</td>\n",
       "      <td>6.6</td>\n",
       "      <td>115355</td>\n",
       "      <td>0.44</td>\n",
       "      <td>...</td>\n",
       "      <td>False</td>\n",
       "      <td>False</td>\n",
       "      <td>False</td>\n",
       "      <td>False</td>\n",
       "      <td>False</td>\n",
       "      <td>True</td>\n",
       "      <td>False</td>\n",
       "      <td>False</td>\n",
       "      <td>False</td>\n",
       "      <td>False</td>\n",
       "    </tr>\n",
       "    <tr>\n",
       "      <th>Paul</th>\n",
       "      <td>732</td>\n",
       "      <td>Adventure,Comedy,Sci-Fi</td>\n",
       "      <td>Two British comic-book geeks traveling across ...</td>\n",
       "      <td>Greg Mottola</td>\n",
       "      <td>Simon Pegg, Nick Frost, Seth Rogen, Mia Stallard</td>\n",
       "      <td>2011</td>\n",
       "      <td>104</td>\n",
       "      <td>7.0</td>\n",
       "      <td>201707</td>\n",
       "      <td>37.37</td>\n",
       "      <td>...</td>\n",
       "      <td>False</td>\n",
       "      <td>False</td>\n",
       "      <td>False</td>\n",
       "      <td>False</td>\n",
       "      <td>False</td>\n",
       "      <td>True</td>\n",
       "      <td>False</td>\n",
       "      <td>False</td>\n",
       "      <td>False</td>\n",
       "      <td>False</td>\n",
       "    </tr>\n",
       "    <tr>\n",
       "      <th>The World's End</th>\n",
       "      <td>800</td>\n",
       "      <td>Action,Comedy,Sci-Fi</td>\n",
       "      <td>Five friends who reunite in an attempt to top ...</td>\n",
       "      <td>Edgar Wright</td>\n",
       "      <td>Simon Pegg, Nick Frost, Martin Freeman, Rosamu...</td>\n",
       "      <td>2013</td>\n",
       "      <td>109</td>\n",
       "      <td>7.0</td>\n",
       "      <td>199813</td>\n",
       "      <td>26.00</td>\n",
       "      <td>...</td>\n",
       "      <td>False</td>\n",
       "      <td>False</td>\n",
       "      <td>False</td>\n",
       "      <td>False</td>\n",
       "      <td>False</td>\n",
       "      <td>True</td>\n",
       "      <td>False</td>\n",
       "      <td>False</td>\n",
       "      <td>False</td>\n",
       "      <td>False</td>\n",
       "    </tr>\n",
       "    <tr>\n",
       "      <th>Slither</th>\n",
       "      <td>909</td>\n",
       "      <td>Comedy,Horror,Sci-Fi</td>\n",
       "      <td>A small town is taken over by an alien plague,...</td>\n",
       "      <td>James Gunn</td>\n",
       "      <td>Nathan Fillion, Elizabeth Banks, Michael Rooke...</td>\n",
       "      <td>2006</td>\n",
       "      <td>95</td>\n",
       "      <td>6.5</td>\n",
       "      <td>64351</td>\n",
       "      <td>7.77</td>\n",
       "      <td>...</td>\n",
       "      <td>True</td>\n",
       "      <td>False</td>\n",
       "      <td>False</td>\n",
       "      <td>False</td>\n",
       "      <td>False</td>\n",
       "      <td>True</td>\n",
       "      <td>False</td>\n",
       "      <td>False</td>\n",
       "      <td>False</td>\n",
       "      <td>False</td>\n",
       "    </tr>\n",
       "  </tbody>\n",
       "</table>\n",
       "<p>5 rows × 31 columns</p>\n",
       "</div>"
      ],
      "text/plain": [
       "                     Rank                    Genre  \\\n",
       "Title                                                \n",
       "Absolutely Anything   399            Comedy,Sci-Fi   \n",
       "Idiocracy             560  Adventure,Comedy,Sci-Fi   \n",
       "Paul                  732  Adventure,Comedy,Sci-Fi   \n",
       "The World's End       800     Action,Comedy,Sci-Fi   \n",
       "Slither               909     Comedy,Horror,Sci-Fi   \n",
       "\n",
       "                                                           Description  \\\n",
       "Title                                                                    \n",
       "Absolutely Anything  A group of eccentric aliens confer a human bei...   \n",
       "Idiocracy            Private Joe Bauers, the definition of \"average...   \n",
       "Paul                 Two British comic-book geeks traveling across ...   \n",
       "The World's End      Five friends who reunite in an attempt to top ...   \n",
       "Slither              A small town is taken over by an alien plague,...   \n",
       "\n",
       "                         Director  \\\n",
       "Title                               \n",
       "Absolutely Anything   Terry Jones   \n",
       "Idiocracy              Mike Judge   \n",
       "Paul                 Greg Mottola   \n",
       "The World's End      Edgar Wright   \n",
       "Slither                James Gunn   \n",
       "\n",
       "                                                                Actors  Year  \\\n",
       "Title                                                                          \n",
       "Absolutely Anything  Simon Pegg, Kate Beckinsale, Sanjeev Bhaskar, ...  2015   \n",
       "Idiocracy            Luke Wilson, Maya Rudolph, Dax Shepard, Terry ...  2006   \n",
       "Paul                  Simon Pegg, Nick Frost, Seth Rogen, Mia Stallard  2011   \n",
       "The World's End      Simon Pegg, Nick Frost, Martin Freeman, Rosamu...  2013   \n",
       "Slither              Nathan Fillion, Elizabeth Banks, Michael Rooke...  2006   \n",
       "\n",
       "                     Runtime (Minutes)  Rating   Votes  Revenue (Millions)  \\\n",
       "Title                                                                        \n",
       "Absolutely Anything                 85     6.0   26587                 NaN   \n",
       "Idiocracy                           84     6.6  115355                0.44   \n",
       "Paul                               104     7.0  201707               37.37   \n",
       "The World's End                    109     7.0  199813               26.00   \n",
       "Slither                             95     6.5   64351                7.77   \n",
       "\n",
       "                     ...  Genre_Horror  Genre_Music  Genre_Musical  \\\n",
       "Title                ...                                             \n",
       "Absolutely Anything  ...         False        False          False   \n",
       "Idiocracy            ...         False        False          False   \n",
       "Paul                 ...         False        False          False   \n",
       "The World's End      ...         False        False          False   \n",
       "Slither              ...          True        False          False   \n",
       "\n",
       "                     Genre_Mystery  Genre_Romance  Genre_Sci-Fi  Genre_Sport  \\\n",
       "Title                                                                          \n",
       "Absolutely Anything          False          False          True        False   \n",
       "Idiocracy                    False          False          True        False   \n",
       "Paul                         False          False          True        False   \n",
       "The World's End              False          False          True        False   \n",
       "Slither                      False          False          True        False   \n",
       "\n",
       "                     Genre_Thriller  Genre_War  Genre_Western  \n",
       "Title                                                          \n",
       "Absolutely Anything           False      False          False  \n",
       "Idiocracy                     False      False          False  \n",
       "Paul                          False      False          False  \n",
       "The World's End               False      False          False  \n",
       "Slither                       False      False          False  \n",
       "\n",
       "[5 rows x 31 columns]"
      ]
     },
     "execution_count": 456,
     "metadata": {},
     "output_type": "execute_result"
    }
   ],
   "source": [
    "# find all movies that are both Comedy and Sci-Fi\n",
    "criteria = movie['Genre_'+'Comedy'] & movie['Genre_'+'Sci-Fi']\n",
    "movie[criteria]"
   ]
  },
  {
   "cell_type": "markdown",
   "metadata": {},
   "source": [
    "### Group By\n",
    "The Year column is a more appropriate column for Group By"
   ]
  },
  {
   "cell_type": "code",
   "execution_count": 373,
   "metadata": {},
   "outputs": [
    {
     "data": {
      "text/html": [
       "<div>\n",
       "<style scoped>\n",
       "    .dataframe tbody tr th:only-of-type {\n",
       "        vertical-align: middle;\n",
       "    }\n",
       "\n",
       "    .dataframe tbody tr th {\n",
       "        vertical-align: top;\n",
       "    }\n",
       "\n",
       "    .dataframe thead tr th {\n",
       "        text-align: left;\n",
       "    }\n",
       "\n",
       "    .dataframe thead tr:last-of-type th {\n",
       "        text-align: right;\n",
       "    }\n",
       "</style>\n",
       "<table border=\"1\" class=\"dataframe\">\n",
       "  <thead>\n",
       "    <tr>\n",
       "      <th></th>\n",
       "      <th colspan=\"2\" halign=\"left\">Rating</th>\n",
       "    </tr>\n",
       "    <tr>\n",
       "      <th></th>\n",
       "      <th>mean</th>\n",
       "      <th>count</th>\n",
       "    </tr>\n",
       "    <tr>\n",
       "      <th>Year</th>\n",
       "      <th></th>\n",
       "      <th></th>\n",
       "    </tr>\n",
       "  </thead>\n",
       "  <tbody>\n",
       "    <tr>\n",
       "      <th>2006</th>\n",
       "      <td>7.125000</td>\n",
       "      <td>44</td>\n",
       "    </tr>\n",
       "    <tr>\n",
       "      <th>2007</th>\n",
       "      <td>7.133962</td>\n",
       "      <td>53</td>\n",
       "    </tr>\n",
       "    <tr>\n",
       "      <th>2008</th>\n",
       "      <td>6.784615</td>\n",
       "      <td>52</td>\n",
       "    </tr>\n",
       "    <tr>\n",
       "      <th>2009</th>\n",
       "      <td>6.960784</td>\n",
       "      <td>51</td>\n",
       "    </tr>\n",
       "    <tr>\n",
       "      <th>2010</th>\n",
       "      <td>6.826667</td>\n",
       "      <td>60</td>\n",
       "    </tr>\n",
       "    <tr>\n",
       "      <th>2011</th>\n",
       "      <td>6.838095</td>\n",
       "      <td>63</td>\n",
       "    </tr>\n",
       "    <tr>\n",
       "      <th>2012</th>\n",
       "      <td>6.925000</td>\n",
       "      <td>64</td>\n",
       "    </tr>\n",
       "    <tr>\n",
       "      <th>2013</th>\n",
       "      <td>6.812088</td>\n",
       "      <td>91</td>\n",
       "    </tr>\n",
       "    <tr>\n",
       "      <th>2014</th>\n",
       "      <td>6.837755</td>\n",
       "      <td>98</td>\n",
       "    </tr>\n",
       "    <tr>\n",
       "      <th>2015</th>\n",
       "      <td>6.602362</td>\n",
       "      <td>127</td>\n",
       "    </tr>\n",
       "    <tr>\n",
       "      <th>2016</th>\n",
       "      <td>6.436700</td>\n",
       "      <td>297</td>\n",
       "    </tr>\n",
       "  </tbody>\n",
       "</table>\n",
       "</div>"
      ],
      "text/plain": [
       "        Rating      \n",
       "          mean count\n",
       "Year                \n",
       "2006  7.125000    44\n",
       "2007  7.133962    53\n",
       "2008  6.784615    52\n",
       "2009  6.960784    51\n",
       "2010  6.826667    60\n",
       "2011  6.838095    63\n",
       "2012  6.925000    64\n",
       "2013  6.812088    91\n",
       "2014  6.837755    98\n",
       "2015  6.602362   127\n",
       "2016  6.436700   297"
      ]
     },
     "execution_count": 373,
     "metadata": {},
     "output_type": "execute_result"
    }
   ],
   "source": [
    "groupby_year = movie.groupby('Year')\n",
    "\n",
    "# average rating per year\n",
    "groupby_year[cols].agg(['mean', 'count'])"
   ]
  },
  {
   "cell_type": "code",
   "execution_count": 532,
   "metadata": {},
   "outputs": [],
   "source": [
    "def group_filter(g):\n",
    "    if g['Rating'].count() > 4:\n",
    "        return g['Rating'].mean()"
   ]
  },
  {
   "cell_type": "code",
   "execution_count": 535,
   "metadata": {},
   "outputs": [
    {
     "data": {
      "text/plain": [
       "Director\n",
       "Christopher Nolan    8.68\n",
       "Martin Scorsese      7.92\n",
       "David Fincher        7.82\n",
       "Denis Villeneuve     7.76\n",
       "J.J. Abrams          7.58\n",
       "dtype: float64"
      ]
     },
     "execution_count": 535,
     "metadata": {},
     "output_type": "execute_result"
    }
   ],
   "source": [
    "s = movie.groupby('Director').apply(group_filter)\n",
    "s[s.notnull()].nlargest(5)"
   ]
  },
  {
   "cell_type": "code",
   "execution_count": 534,
   "metadata": {},
   "outputs": [
    {
     "data": {
      "text/plain": [
       "Director\n",
       "Nitesh Tiwari        8.80\n",
       "Christopher Nolan    8.68\n",
       "Makoto Shinkai       8.60\n",
       "Olivier Nakache      8.60\n",
       "Aamir Khan           8.50\n",
       "Name: Rating, dtype: float64"
      ]
     },
     "execution_count": 534,
     "metadata": {},
     "output_type": "execute_result"
    }
   ],
   "source": [
    "s = movie.groupby('Director')['Rating'].mean()\n",
    "s[s.notnull()].nlargest(5)"
   ]
  },
  {
   "cell_type": "markdown",
   "metadata": {},
   "source": [
    "## Data Wrangling: Queries involving Actor\n",
    "This could be done exactly as with Genres, but as there are so many different actors, it's probably better to rely on a couple of dictionaries instead of creating a great many indicator columns."
   ]
  },
  {
   "cell_type": "markdown",
   "metadata": {},
   "source": [
    "### Convert Actor Series to dict\n",
    "The key is the index of the series.\n",
    "The value is the series value."
   ]
  },
  {
   "cell_type": "code",
   "execution_count": 416,
   "metadata": {},
   "outputs": [],
   "source": [
    "# Map Title to Actor string\n",
    "title_to_actor_string = movie['Actors'].to_dict()"
   ]
  },
  {
   "cell_type": "code",
   "execution_count": 417,
   "metadata": {},
   "outputs": [
    {
     "data": {
      "text/plain": [
       "'John Goodman, Mary Elizabeth Winstead, John Gallagher Jr., Douglas M. Griffin'"
      ]
     },
     "execution_count": 417,
     "metadata": {},
     "output_type": "execute_result"
    }
   ],
   "source": [
    "title_to_actor_string['10 Cloverfield Lane']"
   ]
  },
  {
   "cell_type": "code",
   "execution_count": 418,
   "metadata": {},
   "outputs": [],
   "source": [
    "# convert this string to a list of actor names\n",
    "title_to_actors = defaultdict(list)\n",
    "for title, actor_string in title_to_actor_string.items():\n",
    "    for actor in actor_string.split(','):\n",
    "        title_to_actors[title].append(actor.strip())"
   ]
  },
  {
   "cell_type": "code",
   "execution_count": 419,
   "metadata": {},
   "outputs": [
    {
     "data": {
      "text/plain": [
       "['John Goodman',\n",
       " 'Mary Elizabeth Winstead',\n",
       " 'John Gallagher Jr.',\n",
       " 'Douglas M. Griffin']"
      ]
     },
     "execution_count": 419,
     "metadata": {},
     "output_type": "execute_result"
    }
   ],
   "source": [
    "# try it\n",
    "title_to_actors['10 Cloverfield Lane']"
   ]
  },
  {
   "cell_type": "markdown",
   "metadata": {},
   "source": [
    "### Create Inverted dict (Actors -> Titles)"
   ]
  },
  {
   "cell_type": "code",
   "execution_count": 422,
   "metadata": {},
   "outputs": [],
   "source": [
    "# invert the index\n",
    "actor_to_titles = defaultdict(list)\n",
    "for title, actors in title_to_actors.items():\n",
    "    for actor in actors:\n",
    "        actor_to_titles[actor].append(title)"
   ]
  },
  {
   "cell_type": "code",
   "execution_count": 423,
   "metadata": {},
   "outputs": [
    {
     "data": {
      "text/plain": [
       "['Patriots Day',\n",
       " '10 Cloverfield Lane',\n",
       " 'Monsters University',\n",
       " 'Argo',\n",
       " 'The Gambler',\n",
       " 'Flight']"
      ]
     },
     "execution_count": 423,
     "metadata": {},
     "output_type": "execute_result"
    }
   ],
   "source": [
    "# try it\n",
    "actor_to_titles['John Goodman']"
   ]
  },
  {
   "cell_type": "code",
   "execution_count": 425,
   "metadata": {},
   "outputs": [
    {
     "data": {
      "text/plain": [
       "Title\n",
       "Patriots Day           Mark Wahlberg, Michelle Monaghan, J.K. Simmons...\n",
       "10 Cloverfield Lane    John Goodman, Mary Elizabeth Winstead, John Ga...\n",
       "Monsters University    Billy Crystal, John Goodman, Steve Buscemi, He...\n",
       "Argo                   Ben Affleck, Bryan Cranston, John Goodman, Ala...\n",
       "The Gambler            Mark Wahlberg, Jessica Lange, John Goodman, Br...\n",
       "Flight                 Denzel Washington, Nadine Velazquez, Don Chead...\n",
       "Name: Actors, dtype: object"
      ]
     },
     "execution_count": 425,
     "metadata": {},
     "output_type": "execute_result"
    }
   ],
   "source": [
    "movie.loc[actor_to_titles['John Goodman'],'Actors']"
   ]
  },
  {
   "cell_type": "code",
   "execution_count": 429,
   "metadata": {},
   "outputs": [],
   "source": [
    "# get the average rating and number of movies for each actor in at least 5 movies\n",
    "actor_rating = {}\n",
    "for actor in actors_to_title:\n",
    "    titles = actors_to_title[actor]\n",
    "    movies_with_actor = movie.loc[titles]\n",
    "    count = movies_with_actor['Rating'].count()\n",
    "    if count >= 5:\n",
    "        actor_rating[actor] = movies_with_actor['Rating'].mean()"
   ]
  },
  {
   "cell_type": "code",
   "execution_count": 433,
   "metadata": {},
   "outputs": [
    {
     "data": {
      "text/plain": [
       "[('Leonardo DiCaprio', 7.969999999999999),\n",
       " ('Michael Caine', 7.766666666666667),\n",
       " ('Domhnall Gleeson', 7.716666666666668),\n",
       " ('Rachel McAdams', 7.671428571428571),\n",
       " ('Christopher Plummer', 7.639999999999999),\n",
       " ('Ian McKellen', 7.583333333333333),\n",
       " ('Robert Downey Jr.', 7.500000000000001),\n",
       " ('Mark Ruffalo', 7.5),\n",
       " ('Brad Pitt', 7.484615384615385),\n",
       " ('Zoe Saldana', 7.483333333333333)]"
      ]
     },
     "execution_count": 433,
     "metadata": {},
     "output_type": "execute_result"
    }
   ],
   "source": [
    "actor_rating_sorted = sorted(actor_rating.items(), key=lambda kv: kv[1], reverse=True)\n",
    "actor_rating_sorted[:10]"
   ]
  },
  {
   "cell_type": "code",
   "execution_count": 464,
   "metadata": {},
   "outputs": [
    {
     "data": {
      "text/html": [
       "<div>\n",
       "<style scoped>\n",
       "    .dataframe tbody tr th:only-of-type {\n",
       "        vertical-align: middle;\n",
       "    }\n",
       "\n",
       "    .dataframe tbody tr th {\n",
       "        vertical-align: top;\n",
       "    }\n",
       "\n",
       "    .dataframe thead th {\n",
       "        text-align: right;\n",
       "    }\n",
       "</style>\n",
       "<table border=\"1\" class=\"dataframe\">\n",
       "  <thead>\n",
       "    <tr style=\"text-align: right;\">\n",
       "      <th></th>\n",
       "      <th>Rank</th>\n",
       "      <th>Genre</th>\n",
       "      <th>Description</th>\n",
       "      <th>Director</th>\n",
       "      <th>Actors</th>\n",
       "      <th>Year</th>\n",
       "      <th>Runtime (Minutes)</th>\n",
       "      <th>Rating</th>\n",
       "      <th>Votes</th>\n",
       "      <th>Revenue (Millions)</th>\n",
       "      <th>...</th>\n",
       "      <th>Genre_Horror</th>\n",
       "      <th>Genre_Music</th>\n",
       "      <th>Genre_Musical</th>\n",
       "      <th>Genre_Mystery</th>\n",
       "      <th>Genre_Romance</th>\n",
       "      <th>Genre_Sci-Fi</th>\n",
       "      <th>Genre_Sport</th>\n",
       "      <th>Genre_Thriller</th>\n",
       "      <th>Genre_War</th>\n",
       "      <th>Genre_Western</th>\n",
       "    </tr>\n",
       "    <tr>\n",
       "      <th>Title</th>\n",
       "      <th></th>\n",
       "      <th></th>\n",
       "      <th></th>\n",
       "      <th></th>\n",
       "      <th></th>\n",
       "      <th></th>\n",
       "      <th></th>\n",
       "      <th></th>\n",
       "      <th></th>\n",
       "      <th></th>\n",
       "      <th></th>\n",
       "      <th></th>\n",
       "      <th></th>\n",
       "      <th></th>\n",
       "      <th></th>\n",
       "      <th></th>\n",
       "      <th></th>\n",
       "      <th></th>\n",
       "      <th></th>\n",
       "      <th></th>\n",
       "      <th></th>\n",
       "    </tr>\n",
       "  </thead>\n",
       "  <tbody>\n",
       "    <tr>\n",
       "      <th>Inception</th>\n",
       "      <td>81</td>\n",
       "      <td>Action,Adventure,Sci-Fi</td>\n",
       "      <td>A thief, who steals corporate secrets through ...</td>\n",
       "      <td>Christopher Nolan</td>\n",
       "      <td>Leonardo DiCaprio, Joseph Gordon-Levitt, Ellen...</td>\n",
       "      <td>2010</td>\n",
       "      <td>148</td>\n",
       "      <td>8.8</td>\n",
       "      <td>1583625</td>\n",
       "      <td>292.57</td>\n",
       "      <td>...</td>\n",
       "      <td>False</td>\n",
       "      <td>False</td>\n",
       "      <td>False</td>\n",
       "      <td>False</td>\n",
       "      <td>False</td>\n",
       "      <td>True</td>\n",
       "      <td>False</td>\n",
       "      <td>False</td>\n",
       "      <td>False</td>\n",
       "      <td>False</td>\n",
       "    </tr>\n",
       "    <tr>\n",
       "      <th>The Wolf of Wall Street</th>\n",
       "      <td>83</td>\n",
       "      <td>Biography,Comedy,Crime</td>\n",
       "      <td>Based on the true story of Jordan Belfort, fro...</td>\n",
       "      <td>Martin Scorsese</td>\n",
       "      <td>Leonardo DiCaprio, Jonah Hill, Margot Robbie,M...</td>\n",
       "      <td>2013</td>\n",
       "      <td>180</td>\n",
       "      <td>8.2</td>\n",
       "      <td>865134</td>\n",
       "      <td>116.87</td>\n",
       "      <td>...</td>\n",
       "      <td>False</td>\n",
       "      <td>False</td>\n",
       "      <td>False</td>\n",
       "      <td>False</td>\n",
       "      <td>False</td>\n",
       "      <td>False</td>\n",
       "      <td>False</td>\n",
       "      <td>False</td>\n",
       "      <td>False</td>\n",
       "      <td>False</td>\n",
       "    </tr>\n",
       "    <tr>\n",
       "      <th>The Departed</th>\n",
       "      <td>100</td>\n",
       "      <td>Crime,Drama,Thriller</td>\n",
       "      <td>An undercover cop and a mole in the police att...</td>\n",
       "      <td>Martin Scorsese</td>\n",
       "      <td>Leonardo DiCaprio, Matt Damon, Jack Nicholson,...</td>\n",
       "      <td>2006</td>\n",
       "      <td>151</td>\n",
       "      <td>8.5</td>\n",
       "      <td>937414</td>\n",
       "      <td>132.37</td>\n",
       "      <td>...</td>\n",
       "      <td>False</td>\n",
       "      <td>False</td>\n",
       "      <td>False</td>\n",
       "      <td>False</td>\n",
       "      <td>False</td>\n",
       "      <td>False</td>\n",
       "      <td>False</td>\n",
       "      <td>True</td>\n",
       "      <td>False</td>\n",
       "      <td>False</td>\n",
       "    </tr>\n",
       "    <tr>\n",
       "      <th>The Revenant</th>\n",
       "      <td>130</td>\n",
       "      <td>Adventure,Drama,Thriller</td>\n",
       "      <td>A frontiersman on a fur trading expedition in ...</td>\n",
       "      <td>Alejandro González Iñárritu</td>\n",
       "      <td>Leonardo DiCaprio, Tom Hardy, Will Poulter, Do...</td>\n",
       "      <td>2015</td>\n",
       "      <td>156</td>\n",
       "      <td>8.0</td>\n",
       "      <td>499424</td>\n",
       "      <td>183.64</td>\n",
       "      <td>...</td>\n",
       "      <td>False</td>\n",
       "      <td>False</td>\n",
       "      <td>False</td>\n",
       "      <td>False</td>\n",
       "      <td>False</td>\n",
       "      <td>False</td>\n",
       "      <td>False</td>\n",
       "      <td>True</td>\n",
       "      <td>False</td>\n",
       "      <td>False</td>\n",
       "    </tr>\n",
       "    <tr>\n",
       "      <th>The Great Gatsby</th>\n",
       "      <td>138</td>\n",
       "      <td>Drama,Romance</td>\n",
       "      <td>A writer and wall street trader, Nick, finds h...</td>\n",
       "      <td>Baz Luhrmann</td>\n",
       "      <td>Leonardo DiCaprio, Carey Mulligan, Joel Edgert...</td>\n",
       "      <td>2013</td>\n",
       "      <td>143</td>\n",
       "      <td>7.3</td>\n",
       "      <td>386102</td>\n",
       "      <td>144.81</td>\n",
       "      <td>...</td>\n",
       "      <td>False</td>\n",
       "      <td>False</td>\n",
       "      <td>False</td>\n",
       "      <td>False</td>\n",
       "      <td>True</td>\n",
       "      <td>False</td>\n",
       "      <td>False</td>\n",
       "      <td>False</td>\n",
       "      <td>False</td>\n",
       "      <td>False</td>\n",
       "    </tr>\n",
       "    <tr>\n",
       "      <th>Shutter Island</th>\n",
       "      <td>139</td>\n",
       "      <td>Mystery,Thriller</td>\n",
       "      <td>In 1954, a U.S. marshal investigates the disap...</td>\n",
       "      <td>Martin Scorsese</td>\n",
       "      <td>Leonardo DiCaprio, Emily Mortimer, Mark Ruffal...</td>\n",
       "      <td>2010</td>\n",
       "      <td>138</td>\n",
       "      <td>8.1</td>\n",
       "      <td>855604</td>\n",
       "      <td>127.97</td>\n",
       "      <td>...</td>\n",
       "      <td>False</td>\n",
       "      <td>False</td>\n",
       "      <td>False</td>\n",
       "      <td>True</td>\n",
       "      <td>False</td>\n",
       "      <td>False</td>\n",
       "      <td>False</td>\n",
       "      <td>True</td>\n",
       "      <td>False</td>\n",
       "      <td>False</td>\n",
       "    </tr>\n",
       "    <tr>\n",
       "      <th>Django Unchained</th>\n",
       "      <td>145</td>\n",
       "      <td>Drama,Western</td>\n",
       "      <td>With the help of a German bounty hunter , a fr...</td>\n",
       "      <td>Quentin Tarantino</td>\n",
       "      <td>Jamie Foxx, Christoph Waltz, Leonardo DiCaprio...</td>\n",
       "      <td>2012</td>\n",
       "      <td>165</td>\n",
       "      <td>8.4</td>\n",
       "      <td>1039115</td>\n",
       "      <td>162.80</td>\n",
       "      <td>...</td>\n",
       "      <td>False</td>\n",
       "      <td>False</td>\n",
       "      <td>False</td>\n",
       "      <td>False</td>\n",
       "      <td>False</td>\n",
       "      <td>False</td>\n",
       "      <td>False</td>\n",
       "      <td>False</td>\n",
       "      <td>False</td>\n",
       "      <td>True</td>\n",
       "    </tr>\n",
       "    <tr>\n",
       "      <th>Revolutionary Road</th>\n",
       "      <td>460</td>\n",
       "      <td>Drama,Romance</td>\n",
       "      <td>A young couple living in a Connecticut suburb ...</td>\n",
       "      <td>Sam Mendes</td>\n",
       "      <td>Leonardo DiCaprio, Kate Winslet, Christopher F...</td>\n",
       "      <td>2008</td>\n",
       "      <td>119</td>\n",
       "      <td>7.3</td>\n",
       "      <td>159736</td>\n",
       "      <td>22.88</td>\n",
       "      <td>...</td>\n",
       "      <td>False</td>\n",
       "      <td>False</td>\n",
       "      <td>False</td>\n",
       "      <td>False</td>\n",
       "      <td>True</td>\n",
       "      <td>False</td>\n",
       "      <td>False</td>\n",
       "      <td>False</td>\n",
       "      <td>False</td>\n",
       "      <td>False</td>\n",
       "    </tr>\n",
       "    <tr>\n",
       "      <th>Blood Diamond</th>\n",
       "      <td>670</td>\n",
       "      <td>Adventure,Drama,Thriller</td>\n",
       "      <td>A fisherman, a smuggler, and a syndicate of bu...</td>\n",
       "      <td>Edward Zwick</td>\n",
       "      <td>Leonardo DiCaprio, Djimon Hounsou, Jennifer Co...</td>\n",
       "      <td>2006</td>\n",
       "      <td>143</td>\n",
       "      <td>8.0</td>\n",
       "      <td>422014</td>\n",
       "      <td>57.37</td>\n",
       "      <td>...</td>\n",
       "      <td>False</td>\n",
       "      <td>False</td>\n",
       "      <td>False</td>\n",
       "      <td>False</td>\n",
       "      <td>False</td>\n",
       "      <td>False</td>\n",
       "      <td>False</td>\n",
       "      <td>True</td>\n",
       "      <td>False</td>\n",
       "      <td>False</td>\n",
       "    </tr>\n",
       "    <tr>\n",
       "      <th>Body of Lies</th>\n",
       "      <td>738</td>\n",
       "      <td>Action,Drama,Romance</td>\n",
       "      <td>A CIA agent on the ground in Jordan hunts down...</td>\n",
       "      <td>Ridley Scott</td>\n",
       "      <td>Leonardo DiCaprio, Russell Crowe, Mark Strong,...</td>\n",
       "      <td>2008</td>\n",
       "      <td>128</td>\n",
       "      <td>7.1</td>\n",
       "      <td>182305</td>\n",
       "      <td>39.38</td>\n",
       "      <td>...</td>\n",
       "      <td>False</td>\n",
       "      <td>False</td>\n",
       "      <td>False</td>\n",
       "      <td>False</td>\n",
       "      <td>True</td>\n",
       "      <td>False</td>\n",
       "      <td>False</td>\n",
       "      <td>False</td>\n",
       "      <td>False</td>\n",
       "      <td>False</td>\n",
       "    </tr>\n",
       "  </tbody>\n",
       "</table>\n",
       "<p>10 rows × 31 columns</p>\n",
       "</div>"
      ],
      "text/plain": [
       "                         Rank                     Genre  \\\n",
       "Title                                                     \n",
       "Inception                  81   Action,Adventure,Sci-Fi   \n",
       "The Wolf of Wall Street    83    Biography,Comedy,Crime   \n",
       "The Departed              100      Crime,Drama,Thriller   \n",
       "The Revenant              130  Adventure,Drama,Thriller   \n",
       "The Great Gatsby          138             Drama,Romance   \n",
       "Shutter Island            139          Mystery,Thriller   \n",
       "Django Unchained          145             Drama,Western   \n",
       "Revolutionary Road        460             Drama,Romance   \n",
       "Blood Diamond             670  Adventure,Drama,Thriller   \n",
       "Body of Lies              738      Action,Drama,Romance   \n",
       "\n",
       "                                                               Description  \\\n",
       "Title                                                                        \n",
       "Inception                A thief, who steals corporate secrets through ...   \n",
       "The Wolf of Wall Street  Based on the true story of Jordan Belfort, fro...   \n",
       "The Departed             An undercover cop and a mole in the police att...   \n",
       "The Revenant             A frontiersman on a fur trading expedition in ...   \n",
       "The Great Gatsby         A writer and wall street trader, Nick, finds h...   \n",
       "Shutter Island           In 1954, a U.S. marshal investigates the disap...   \n",
       "Django Unchained         With the help of a German bounty hunter , a fr...   \n",
       "Revolutionary Road       A young couple living in a Connecticut suburb ...   \n",
       "Blood Diamond            A fisherman, a smuggler, and a syndicate of bu...   \n",
       "Body of Lies             A CIA agent on the ground in Jordan hunts down...   \n",
       "\n",
       "                                            Director  \\\n",
       "Title                                                  \n",
       "Inception                          Christopher Nolan   \n",
       "The Wolf of Wall Street              Martin Scorsese   \n",
       "The Departed                         Martin Scorsese   \n",
       "The Revenant             Alejandro González Iñárritu   \n",
       "The Great Gatsby                        Baz Luhrmann   \n",
       "Shutter Island                       Martin Scorsese   \n",
       "Django Unchained                   Quentin Tarantino   \n",
       "Revolutionary Road                        Sam Mendes   \n",
       "Blood Diamond                           Edward Zwick   \n",
       "Body of Lies                            Ridley Scott   \n",
       "\n",
       "                                                                    Actors  \\\n",
       "Title                                                                        \n",
       "Inception                Leonardo DiCaprio, Joseph Gordon-Levitt, Ellen...   \n",
       "The Wolf of Wall Street  Leonardo DiCaprio, Jonah Hill, Margot Robbie,M...   \n",
       "The Departed             Leonardo DiCaprio, Matt Damon, Jack Nicholson,...   \n",
       "The Revenant             Leonardo DiCaprio, Tom Hardy, Will Poulter, Do...   \n",
       "The Great Gatsby         Leonardo DiCaprio, Carey Mulligan, Joel Edgert...   \n",
       "Shutter Island           Leonardo DiCaprio, Emily Mortimer, Mark Ruffal...   \n",
       "Django Unchained         Jamie Foxx, Christoph Waltz, Leonardo DiCaprio...   \n",
       "Revolutionary Road       Leonardo DiCaprio, Kate Winslet, Christopher F...   \n",
       "Blood Diamond            Leonardo DiCaprio, Djimon Hounsou, Jennifer Co...   \n",
       "Body of Lies             Leonardo DiCaprio, Russell Crowe, Mark Strong,...   \n",
       "\n",
       "                         Year  Runtime (Minutes)  Rating    Votes  \\\n",
       "Title                                                               \n",
       "Inception                2010                148     8.8  1583625   \n",
       "The Wolf of Wall Street  2013                180     8.2   865134   \n",
       "The Departed             2006                151     8.5   937414   \n",
       "The Revenant             2015                156     8.0   499424   \n",
       "The Great Gatsby         2013                143     7.3   386102   \n",
       "Shutter Island           2010                138     8.1   855604   \n",
       "Django Unchained         2012                165     8.4  1039115   \n",
       "Revolutionary Road       2008                119     7.3   159736   \n",
       "Blood Diamond            2006                143     8.0   422014   \n",
       "Body of Lies             2008                128     7.1   182305   \n",
       "\n",
       "                         Revenue (Millions)  ...  Genre_Horror  Genre_Music  \\\n",
       "Title                                        ...                              \n",
       "Inception                            292.57  ...         False        False   \n",
       "The Wolf of Wall Street              116.87  ...         False        False   \n",
       "The Departed                         132.37  ...         False        False   \n",
       "The Revenant                         183.64  ...         False        False   \n",
       "The Great Gatsby                     144.81  ...         False        False   \n",
       "Shutter Island                       127.97  ...         False        False   \n",
       "Django Unchained                     162.80  ...         False        False   \n",
       "Revolutionary Road                    22.88  ...         False        False   \n",
       "Blood Diamond                         57.37  ...         False        False   \n",
       "Body of Lies                          39.38  ...         False        False   \n",
       "\n",
       "                         Genre_Musical  Genre_Mystery  Genre_Romance  \\\n",
       "Title                                                                  \n",
       "Inception                        False          False          False   \n",
       "The Wolf of Wall Street          False          False          False   \n",
       "The Departed                     False          False          False   \n",
       "The Revenant                     False          False          False   \n",
       "The Great Gatsby                 False          False           True   \n",
       "Shutter Island                   False           True          False   \n",
       "Django Unchained                 False          False          False   \n",
       "Revolutionary Road               False          False           True   \n",
       "Blood Diamond                    False          False          False   \n",
       "Body of Lies                     False          False           True   \n",
       "\n",
       "                         Genre_Sci-Fi  Genre_Sport  Genre_Thriller  Genre_War  \\\n",
       "Title                                                                           \n",
       "Inception                        True        False           False      False   \n",
       "The Wolf of Wall Street         False        False           False      False   \n",
       "The Departed                    False        False            True      False   \n",
       "The Revenant                    False        False            True      False   \n",
       "The Great Gatsby                False        False           False      False   \n",
       "Shutter Island                  False        False            True      False   \n",
       "Django Unchained                False        False           False      False   \n",
       "Revolutionary Road              False        False           False      False   \n",
       "Blood Diamond                   False        False            True      False   \n",
       "Body of Lies                    False        False           False      False   \n",
       "\n",
       "                         Genre_Western  \n",
       "Title                                   \n",
       "Inception                        False  \n",
       "The Wolf of Wall Street          False  \n",
       "The Departed                     False  \n",
       "The Revenant                     False  \n",
       "The Great Gatsby                 False  \n",
       "Shutter Island                   False  \n",
       "Django Unchained                  True  \n",
       "Revolutionary Road               False  \n",
       "Blood Diamond                    False  \n",
       "Body of Lies                     False  \n",
       "\n",
       "[10 rows x 31 columns]"
      ]
     },
     "execution_count": 464,
     "metadata": {},
     "output_type": "execute_result"
    }
   ],
   "source": [
    "movie.loc[actor_to_titles['Leonardo DiCaprio']]"
   ]
  },
  {
   "cell_type": "code",
   "execution_count": 466,
   "metadata": {},
   "outputs": [
    {
     "data": {
      "text/html": [
       "<div>\n",
       "<style scoped>\n",
       "    .dataframe tbody tr th:only-of-type {\n",
       "        vertical-align: middle;\n",
       "    }\n",
       "\n",
       "    .dataframe tbody tr th {\n",
       "        vertical-align: top;\n",
       "    }\n",
       "\n",
       "    .dataframe thead th {\n",
       "        text-align: right;\n",
       "    }\n",
       "</style>\n",
       "<table border=\"1\" class=\"dataframe\">\n",
       "  <thead>\n",
       "    <tr style=\"text-align: right;\">\n",
       "      <th></th>\n",
       "      <th>Rank</th>\n",
       "      <th>Genre</th>\n",
       "      <th>Description</th>\n",
       "      <th>Director</th>\n",
       "      <th>Actors</th>\n",
       "      <th>Year</th>\n",
       "      <th>Runtime (Minutes)</th>\n",
       "      <th>Rating</th>\n",
       "      <th>Votes</th>\n",
       "      <th>Revenue (Millions)</th>\n",
       "      <th>...</th>\n",
       "      <th>Genre_Horror</th>\n",
       "      <th>Genre_Music</th>\n",
       "      <th>Genre_Musical</th>\n",
       "      <th>Genre_Mystery</th>\n",
       "      <th>Genre_Romance</th>\n",
       "      <th>Genre_Sci-Fi</th>\n",
       "      <th>Genre_Sport</th>\n",
       "      <th>Genre_Thriller</th>\n",
       "      <th>Genre_War</th>\n",
       "      <th>Genre_Western</th>\n",
       "    </tr>\n",
       "    <tr>\n",
       "      <th>Title</th>\n",
       "      <th></th>\n",
       "      <th></th>\n",
       "      <th></th>\n",
       "      <th></th>\n",
       "      <th></th>\n",
       "      <th></th>\n",
       "      <th></th>\n",
       "      <th></th>\n",
       "      <th></th>\n",
       "      <th></th>\n",
       "      <th></th>\n",
       "      <th></th>\n",
       "      <th></th>\n",
       "      <th></th>\n",
       "      <th></th>\n",
       "      <th></th>\n",
       "      <th></th>\n",
       "      <th></th>\n",
       "      <th></th>\n",
       "      <th></th>\n",
       "      <th></th>\n",
       "    </tr>\n",
       "  </thead>\n",
       "  <tbody>\n",
       "    <tr>\n",
       "      <th>The Departed</th>\n",
       "      <td>100</td>\n",
       "      <td>Crime,Drama,Thriller</td>\n",
       "      <td>An undercover cop and a mole in the police att...</td>\n",
       "      <td>Martin Scorsese</td>\n",
       "      <td>Leonardo DiCaprio, Matt Damon, Jack Nicholson,...</td>\n",
       "      <td>2006</td>\n",
       "      <td>151</td>\n",
       "      <td>8.5</td>\n",
       "      <td>937414</td>\n",
       "      <td>132.37</td>\n",
       "      <td>...</td>\n",
       "      <td>False</td>\n",
       "      <td>False</td>\n",
       "      <td>False</td>\n",
       "      <td>False</td>\n",
       "      <td>False</td>\n",
       "      <td>False</td>\n",
       "      <td>False</td>\n",
       "      <td>True</td>\n",
       "      <td>False</td>\n",
       "      <td>False</td>\n",
       "    </tr>\n",
       "  </tbody>\n",
       "</table>\n",
       "<p>1 rows × 31 columns</p>\n",
       "</div>"
      ],
      "text/plain": [
       "              Rank                 Genre  \\\n",
       "Title                                      \n",
       "The Departed   100  Crime,Drama,Thriller   \n",
       "\n",
       "                                                    Description  \\\n",
       "Title                                                             \n",
       "The Departed  An undercover cop and a mole in the police att...   \n",
       "\n",
       "                     Director  \\\n",
       "Title                           \n",
       "The Departed  Martin Scorsese   \n",
       "\n",
       "                                                         Actors  Year  \\\n",
       "Title                                                                   \n",
       "The Departed  Leonardo DiCaprio, Matt Damon, Jack Nicholson,...  2006   \n",
       "\n",
       "              Runtime (Minutes)  Rating   Votes  Revenue (Millions)  ...  \\\n",
       "Title                                                                ...   \n",
       "The Departed                151     8.5  937414              132.37  ...   \n",
       "\n",
       "              Genre_Horror  Genre_Music  Genre_Musical  Genre_Mystery  \\\n",
       "Title                                                                   \n",
       "The Departed         False        False          False          False   \n",
       "\n",
       "              Genre_Romance  Genre_Sci-Fi  Genre_Sport  Genre_Thriller  \\\n",
       "Title                                                                    \n",
       "The Departed          False         False        False            True   \n",
       "\n",
       "              Genre_War  Genre_Western  \n",
       "Title                                   \n",
       "The Departed      False          False  \n",
       "\n",
       "[1 rows x 31 columns]"
      ]
     },
     "execution_count": 466,
     "metadata": {},
     "output_type": "execute_result"
    }
   ],
   "source": [
    "# with dictionaries, its slighter harder to query for two actors, than with indicator columns\n",
    "# find all movies with Leonardo DiCaprio and Matt Damon\n",
    "titles1 = actors_to_title['Leonardo DiCaprio']\n",
    "titles2 = actors_to_title['Matt Damon']\n",
    "titles = set(titles1).intersection(set(titles2))\n",
    "titles\n",
    "movie.loc[titles]"
   ]
  },
  {
   "cell_type": "markdown",
   "metadata": {},
   "source": [
    "## Categorical Values\n",
    "Categorical Values are also called enumerated types or factors.\n",
    "\n",
    "Converting a column to categorical can save on memory, make the data processing clearer, and may help certain Machine Learning algorithms to do a better job."
   ]
  },
  {
   "cell_type": "code",
   "execution_count": 401,
   "metadata": {},
   "outputs": [],
   "source": [
    "# read in IMDB move dataset\n",
    "movie = pd.read_csv('../data/IMDB-Movie-Data.csv')\n",
    "movie = movie.set_index('Title')"
   ]
  },
  {
   "cell_type": "code",
   "execution_count": 402,
   "metadata": {},
   "outputs": [
    {
     "data": {
      "text/plain": [
       "Index(['Genre', 'Description', 'Director', 'Actors'], dtype='object')"
      ]
     },
     "execution_count": 402,
     "metadata": {},
     "output_type": "execute_result"
    }
   ],
   "source": [
    "# select the columns that are of type 'object'\n",
    "movie_obj = movie.select_dtypes('object')\n",
    "movie_obj.columns"
   ]
  },
  {
   "cell_type": "code",
   "execution_count": 403,
   "metadata": {},
   "outputs": [
    {
     "data": {
      "text/plain": [
       "Genre           207\n",
       "Description    1000\n",
       "Director        644\n",
       "Actors          996\n",
       "dtype: int64"
      ]
     },
     "execution_count": 403,
     "metadata": {},
     "output_type": "execute_result"
    }
   ],
   "source": [
    "# examine how many unique values there are for each such column\n",
    "movie_obj.nunique()"
   ]
  },
  {
   "cell_type": "code",
   "execution_count": null,
   "metadata": {},
   "outputs": [],
   "source": [
    "# as it turns out, none of the columns in this dataset are good candidates for \n",
    "# being converted to a category"
   ]
  },
  {
   "cell_type": "code",
   "execution_count": 399,
   "metadata": {},
   "outputs": [
    {
     "name": "stdout",
     "output_type": "stream",
     "text": [
      "<class 'pandas.core.frame.DataFrame'>\n",
      "Index: 1000 entries, Guardians of the Galaxy to Nine Lives\n",
      "Data columns (total 11 columns):\n",
      "Rank                  1000 non-null int64\n",
      "Genre                 1000 non-null object\n",
      "Description           1000 non-null object\n",
      "Director              1000 non-null object\n",
      "Actors                1000 non-null object\n",
      "Year                  1000 non-null category\n",
      "Runtime (Minutes)     1000 non-null int64\n",
      "Rating                1000 non-null float64\n",
      "Votes                 1000 non-null int64\n",
      "Revenue (Millions)    872 non-null float64\n",
      "Metascore             936 non-null float64\n",
      "dtypes: category(1), float64(3), int64(3), object(4)\n",
      "memory usage: 127.3+ KB\n"
     ]
    }
   ],
   "source": [
    "movie['Year'] = year\n",
    "movie.info()"
   ]
  },
  {
   "cell_type": "code",
   "execution_count": 392,
   "metadata": {},
   "outputs": [
    {
     "data": {
      "text/plain": [
       "array([2006, 2007, 2008, 2009, 2010, 2011, 2012, 2013, 2014, 2015, 2016])"
      ]
     },
     "execution_count": 392,
     "metadata": {},
     "output_type": "execute_result"
    }
   ],
   "source": [
    "years"
   ]
  },
  {
   "cell_type": "code",
   "execution_count": 378,
   "metadata": {},
   "outputs": [
    {
     "name": "stderr",
     "output_type": "stream",
     "text": [
      "/home/agni/anaconda3/envs/ml/lib/python3.7/site-packages/IPython/core/interactiveshell.py:3267: FutureWarning: specifying 'categories' or 'ordered' in .astype() is deprecated; pass a CategoricalDtype instead\n",
      "  exec(code_obj, self.user_global_ns, self.user_ns)\n"
     ]
    }
   ],
   "source": [
    "# There are too many unique values to create a category\n",
    "# Although unusual, year could be converted to an ordered categorical varibale\n",
    "year = movie['Year'].astype('category', ordered=True)"
   ]
  },
  {
   "cell_type": "code",
   "execution_count": 77,
   "metadata": {},
   "outputs": [
    {
     "name": "stderr",
     "output_type": "stream",
     "text": [
      "/home/agni/anaconda3/envs/ml/lib/python3.7/site-packages/ipykernel_launcher.py:2: SettingWithCopyWarning: \n",
      "A value is trying to be set on a copy of a slice from a DataFrame.\n",
      "Try using .loc[row_indexer,col_indexer] = value instead\n",
      "\n",
      "See the caveats in the documentation: http://pandas.pydata.org/pandas-docs/stable/indexing.html#indexing-view-versus-copy\n",
      "  \n"
     ]
    }
   ],
   "source": [
    "# Genre is a candidate for converting to a categorical field\n",
    "movie_obj['Genre'] = movie_obj['Genre'].astype('category')"
   ]
  },
  {
   "cell_type": "markdown",
   "metadata": {},
   "source": [
    "### Above Warning is Important\n",
    "To save memory, Pandas does not copy objects or parts of objects by default.\n",
    "\n",
    "movie_obj is a slice of movie and when an assignment is made to it, an assignment may be made to movie.\n",
    "\n",
    "Although Pandas correctly figure out the intent, this type of warning should never occur in well written code."
   ]
  },
  {
   "cell_type": "code",
   "execution_count": 84,
   "metadata": {},
   "outputs": [],
   "source": [
    "# reread in IMDB move dataset\n",
    "movie = pd.read_csv('../data/IMDB-Movie-Data.csv')"
   ]
  },
  {
   "cell_type": "code",
   "execution_count": 162,
   "metadata": {},
   "outputs": [
    {
     "data": {
      "text/plain": [
       "Index(['Genre', 'Description', 'Director', 'Actors'], dtype='object')"
      ]
     },
     "execution_count": 162,
     "metadata": {},
     "output_type": "execute_result"
    }
   ],
   "source": [
    "# select the columns that are of type 'object', AS A COPY\n",
    "movie_obj = movie.select_dtypes('object').copy()\n",
    "movie_obj.columns"
   ]
  },
  {
   "cell_type": "code",
   "execution_count": 163,
   "metadata": {},
   "outputs": [],
   "source": [
    "# Convert to categorical, note there is no warning this time\n",
    "movie_obj['Genre'] = movie_obj['Genre'].astype('category')"
   ]
  },
  {
   "cell_type": "code",
   "execution_count": 164,
   "metadata": {},
   "outputs": [
    {
     "name": "stdout",
     "output_type": "stream",
     "text": [
      "<class 'pandas.core.frame.DataFrame'>\n",
      "Index: 1000 entries, Guardians of the Galaxy to Nine Lives\n",
      "Data columns (total 11 columns):\n",
      "Rank                  1000 non-null int64\n",
      "Genre                 1000 non-null object\n",
      "Description           1000 non-null object\n",
      "Director              1000 non-null object\n",
      "Actors                1000 non-null object\n",
      "Year                  1000 non-null int64\n",
      "Runtime (Minutes)     1000 non-null int64\n",
      "Rating                1000 non-null float64\n",
      "Votes                 1000 non-null int64\n",
      "Revenue (Millions)    872 non-null float64\n",
      "Metascore             936 non-null float64\n",
      "dtypes: float64(3), int64(4), object(4)\n",
      "memory usage: 93.8+ KB\n"
     ]
    }
   ],
   "source": [
    "movie.info()"
   ]
  },
  {
   "cell_type": "code",
   "execution_count": 88,
   "metadata": {},
   "outputs": [
    {
     "name": "stdout",
     "output_type": "stream",
     "text": [
      "<class 'pandas.core.frame.DataFrame'>\n",
      "RangeIndex: 1000 entries, 0 to 999\n",
      "Data columns (total 12 columns):\n",
      "Rank                  1000 non-null int64\n",
      "Title                 1000 non-null object\n",
      "Genre                 1000 non-null category\n",
      "Description           1000 non-null object\n",
      "Director              1000 non-null object\n",
      "Actors                1000 non-null object\n",
      "Year                  1000 non-null int64\n",
      "Runtime (Minutes)     1000 non-null int64\n",
      "Rating                1000 non-null float64\n",
      "Votes                 1000 non-null int64\n",
      "Revenue (Millions)    872 non-null float64\n",
      "Metascore             936 non-null float64\n",
      "dtypes: category(1), float64(3), int64(4), object(4)\n",
      "memory usage: 99.6+ KB\n"
     ]
    }
   ],
   "source": [
    "# overwrite the Genre column in the movie dataframe\n",
    "movie['Genre'] = movie_obj['Genre']\n",
    "movie.info()"
   ]
  },
  {
   "cell_type": "code",
   "execution_count": 90,
   "metadata": {},
   "outputs": [
    {
     "data": {
      "text/plain": [
       "True"
      ]
     },
     "execution_count": 90,
     "metadata": {},
     "output_type": "execute_result"
    }
   ],
   "source": [
    "genre = movie['Genre']\n",
    "genre is movie['Genre']"
   ]
  },
  {
   "cell_type": "code",
   "execution_count": 91,
   "metadata": {},
   "outputs": [
    {
     "data": {
      "text/plain": [
       "0         Action,Adventure,Sci-Fi\n",
       "1        Adventure,Mystery,Sci-Fi\n",
       "2                 Horror,Thriller\n",
       "3         Animation,Comedy,Family\n",
       "4        Action,Adventure,Fantasy\n",
       "5        Action,Adventure,Fantasy\n",
       "6              Comedy,Drama,Music\n",
       "7                          Comedy\n",
       "8      Action,Adventure,Biography\n",
       "9         Adventure,Drama,Romance\n",
       "10       Adventure,Family,Fantasy\n",
       "11        Biography,Drama,History\n",
       "12        Action,Adventure,Sci-Fi\n",
       "13     Animation,Adventure,Comedy\n",
       "14            Action,Comedy,Drama\n",
       "15     Animation,Adventure,Comedy\n",
       "16        Biography,Drama,History\n",
       "17                Action,Thriller\n",
       "18                Biography,Drama\n",
       "19           Drama,Mystery,Sci-Fi\n",
       "20       Adventure,Drama,Thriller\n",
       "21                          Drama\n",
       "22             Crime,Drama,Horror\n",
       "23     Animation,Adventure,Comedy\n",
       "24        Action,Adventure,Sci-Fi\n",
       "25                         Comedy\n",
       "26         Action,Adventure,Drama\n",
       "27                Horror,Thriller\n",
       "28                         Comedy\n",
       "29         Action,Adventure,Drama\n",
       "                  ...            \n",
       "970               Horror,Thriller\n",
       "971        Drama,Mystery,Thriller\n",
       "972          Comedy,Drama,Musical\n",
       "973                Horror,Mystery\n",
       "974         Biography,Drama,Sport\n",
       "975         Comedy,Family,Romance\n",
       "976        Drama,Mystery,Thriller\n",
       "977                        Comedy\n",
       "978                         Drama\n",
       "979                Drama,Thriller\n",
       "980        Biography,Drama,Family\n",
       "981           Comedy,Drama,Family\n",
       "982         Drama,Fantasy,Musical\n",
       "983                        Comedy\n",
       "984              Adventure,Family\n",
       "985      Adventure,Comedy,Fantasy\n",
       "986               Horror,Thriller\n",
       "987                 Drama,Romance\n",
       "988                        Horror\n",
       "989       Biography,Drama,History\n",
       "990      Action,Adventure,Fantasy\n",
       "991            Drama,Family,Music\n",
       "992          Comedy,Drama,Romance\n",
       "993       Action,Adventure,Horror\n",
       "994                        Comedy\n",
       "995           Crime,Drama,Mystery\n",
       "996                        Horror\n",
       "997           Drama,Music,Romance\n",
       "998              Adventure,Comedy\n",
       "999         Comedy,Family,Fantasy\n",
       "Name: Genre, Length: 1000, dtype: category\n",
       "Categories (207, object): [Action, Action,Adventure, Action,Adventure,Biography, Action,Adventure,Comedy, ..., Sci-Fi, Sci-Fi,Thriller, Thriller, Thriller,War]"
      ]
     },
     "execution_count": 91,
     "metadata": {},
     "output_type": "execute_result"
    }
   ],
   "source": [
    "genre"
   ]
  },
  {
   "cell_type": "code",
   "execution_count": null,
   "metadata": {},
   "outputs": [],
   "source": []
  },
  {
   "cell_type": "code",
   "execution_count": null,
   "metadata": {},
   "outputs": [],
   "source": []
  },
  {
   "cell_type": "code",
   "execution_count": null,
   "metadata": {},
   "outputs": [],
   "source": [
    "# When the variable is categorical, the imputed value might be the mode"
   ]
  },
  {
   "cell_type": "code",
   "execution_count": null,
   "metadata": {},
   "outputs": [],
   "source": []
  },
  {
   "cell_type": "code",
   "execution_count": null,
   "metadata": {},
   "outputs": [],
   "source": []
  },
  {
   "cell_type": "code",
   "execution_count": null,
   "metadata": {},
   "outputs": [],
   "source": []
  },
  {
   "cell_type": "code",
   "execution_count": null,
   "metadata": {},
   "outputs": [],
   "source": []
  },
  {
   "cell_type": "code",
   "execution_count": null,
   "metadata": {},
   "outputs": [],
   "source": []
  },
  {
   "cell_type": "code",
   "execution_count": null,
   "metadata": {},
   "outputs": [],
   "source": []
  },
  {
   "cell_type": "code",
   "execution_count": null,
   "metadata": {},
   "outputs": [],
   "source": [
    "# which director had the highest average rating and directed at least 3 movies\n",
    "groupby = movie.groupby('Director')\n",
    "\n",
    "# criteria = groupby.count() >= 3\n",
    "groupby['Rating'].count() > 6"
   ]
  },
  {
   "cell_type": "code",
   "execution_count": null,
   "metadata": {},
   "outputs": [],
   "source": [
    "for group in groupby:\n",
    "    print(group.name)\n",
    "    print(len(group))"
   ]
  },
  {
   "cell_type": "code",
   "execution_count": null,
   "metadata": {},
   "outputs": [],
   "source": [
    "dir(groupby)"
   ]
  },
  {
   "cell_type": "markdown",
   "metadata": {},
   "source": [
    "## Start of Actors Section"
   ]
  },
  {
   "cell_type": "markdown",
   "metadata": {},
   "source": [
    "### Actors Column\n",
    "The Actors column contains a single string per cell, but each string consists of a comma separated list of actors.\n",
    "\n",
    "Whenever a single cell contains more than 1 value, or string is used to represent more than 1 value, special processing is required."
   ]
  },
  {
   "cell_type": "markdown",
   "metadata": {},
   "source": [
    "#### Quick Review of defaultdict(list)\n",
    "A dictionary is a mapping between a key and a value.\n",
    "\n",
    "The value can be a collection.\n",
    "\n",
    "defaultdict(list): says that each value defaults to an empty list"
   ]
  },
  {
   "cell_type": "code",
   "execution_count": null,
   "metadata": {},
   "outputs": [],
   "source": [
    "# Book analogy:\n",
    "from collections import defaultdict\n",
    "d = defaultdict(list)\n",
    "d['p1'].append(\"word 1\")\n",
    "d['p1'].append(\"word 2\")\n",
    "d['p1'].append(\"word 3\")\n",
    "d['p2'].append(\"word 2\")\n",
    "d['p2'].append(\"word 4\")\n",
    "d"
   ]
  },
  {
   "cell_type": "code",
   "execution_count": null,
   "metadata": {},
   "outputs": [],
   "source": [
    "# if the value is a collection, the entire collection is accessed by key\n",
    "d['p1']"
   ]
  },
  {
   "cell_type": "code",
   "execution_count": null,
   "metadata": {},
   "outputs": [],
   "source": [
    "# Create an inverted index (values to keys)\n",
    "# The index in the back of a book is an \"inverted index\"\n",
    "inverted_dict = defaultdict(list)\n",
    "for key, values in d.items():\n",
    "    for value in values:\n",
    "        inverted_dict[value].append(key)\n",
    "        \n",
    "inverted_dict"
   ]
  },
  {
   "cell_type": "code",
   "execution_count": null,
   "metadata": {},
   "outputs": [],
   "source": [
    "inverted_dict['word 2']"
   ]
  },
  {
   "cell_type": "markdown",
   "metadata": {},
   "source": [
    "#### Convert Series to dict\n",
    "The key is the index of the series.\n",
    "The value is the series value."
   ]
  },
  {
   "cell_type": "code",
   "execution_count": null,
   "metadata": {},
   "outputs": [],
   "source": [
    "# Map Title to Actor string\n",
    "title_to_actor_string = movie['Actors'].to_dict()"
   ]
  },
  {
   "cell_type": "code",
   "execution_count": null,
   "metadata": {},
   "outputs": [],
   "source": [
    "title_to_actor_string['10 Cloverfield Lane']"
   ]
  },
  {
   "cell_type": "code",
   "execution_count": null,
   "metadata": {},
   "outputs": [],
   "source": [
    "# convert this string to a list of actor names\n",
    "title_to_actors = defaultdict(list)\n",
    "for title, actor_string in title_to_actor_string.items():\n",
    "    for actor in actor_string.split(','):\n",
    "        title_to_actors[title].append(actor.strip())"
   ]
  },
  {
   "cell_type": "code",
   "execution_count": null,
   "metadata": {},
   "outputs": [],
   "source": [
    "title_to_actors['10 Cloverfield Lane']"
   ]
  },
  {
   "cell_type": "markdown",
   "metadata": {},
   "source": [
    "#### Create Inverted dict (Actors -> Titles)"
   ]
  },
  {
   "cell_type": "code",
   "execution_count": null,
   "metadata": {},
   "outputs": [],
   "source": [
    "# invert the index\n",
    "actors_to_title = defaultdict(list)\n",
    "for title, actors in title_to_actors.items():\n",
    "    for actor in actors:\n",
    "        actors_to_title[actor].append(title)"
   ]
  },
  {
   "cell_type": "code",
   "execution_count": null,
   "metadata": {},
   "outputs": [],
   "source": [
    "actors_to_title['John Goodman']"
   ]
  },
  {
   "cell_type": "markdown",
   "metadata": {},
   "source": [
    "## END of ACTORS Sections"
   ]
  },
  {
   "cell_type": "code",
   "execution_count": null,
   "metadata": {},
   "outputs": [],
   "source": [
    "# get 1 column of values\n",
    "votes = movie['Votes']\n",
    "\n",
    "# first 5 votes in the column\n",
    "votes[:5]"
   ]
  },
  {
   "cell_type": "code",
   "execution_count": null,
   "metadata": {},
   "outputs": [],
   "source": [
    "print(f'type of votes: {type(votes)}')\n",
    "print(f'type of votes values: {votes.dtype}')"
   ]
  },
  {
   "cell_type": "markdown",
   "metadata": {},
   "source": [
    "### DataFrame"
   ]
  },
  {
   "cell_type": "code",
   "execution_count": null,
   "metadata": {},
   "outputs": [],
   "source": [
    "# Get overall information about a DataFrame\n",
    "movie.info()"
   ]
  },
  {
   "cell_type": "code",
   "execution_count": null,
   "metadata": {},
   "outputs": [],
   "source": [
    "# number of records\n",
    "len(movie)"
   ]
  },
  {
   "cell_type": "code",
   "execution_count": null,
   "metadata": {},
   "outputs": [],
   "source": [
    "# number of non-null movie titles\n",
    "movie['Title'].count()"
   ]
  },
  {
   "cell_type": "code",
   "execution_count": null,
   "metadata": {},
   "outputs": [],
   "source": [
    "# number of null movie titles\n",
    "# True counts as 1, False counts as 0, sum up the number of True values\n",
    "movie['Title'].isna().sum()"
   ]
  },
  {
   "cell_type": "code",
   "execution_count": null,
   "metadata": {},
   "outputs": [],
   "source": [
    "metascores = movie['Metascore']\n",
    "print(f'Number of non-null Metascores: {metascores.count()}')\n",
    "print(f'Number of null Metascores: {metascores.isnull().sum()}')\n",
    "print(f'Number of Movies: {len(movie)}')\n",
    "\n",
    "# number of non-null Metascores + number of null Metascores = number of records\n",
    "metascores.count() + metascores.isna().sum() == len(movie)"
   ]
  },
  {
   "cell_type": "code",
   "execution_count": null,
   "metadata": {},
   "outputs": [],
   "source": [
    "# the datatypes of each of the movie columns\n",
    "movie.dtypes"
   ]
  },
  {
   "cell_type": "code",
   "execution_count": null,
   "metadata": {},
   "outputs": [],
   "source": [
    "# distribution of datatypes\n",
    "movie.dtypes.value_counts()"
   ]
  },
  {
   "cell_type": "markdown",
   "metadata": {},
   "source": [
    "## Selecting Values in Row(s) or Column(s) or Both"
   ]
  },
  {
   "cell_type": "code",
   "execution_count": null,
   "metadata": {},
   "outputs": [],
   "source": [
    "# Column Selection\n",
    "cols_to_select = ['Title', 'Rating']\n",
    "\n",
    "# verfiy every column to be selected is in movie.columns\n",
    "columns_all = set(movie.columns)\n",
    "columns_subset = set(cols_to_select)\n",
    "columns_subset.issubset(columns_all)"
   ]
  },
  {
   "cell_type": "code",
   "execution_count": null,
   "metadata": {},
   "outputs": [],
   "source": [
    "# select these columns (first 3 rows)\n",
    "movie[cols_to_select].head(3)"
   ]
  },
  {
   "cell_type": "code",
   "execution_count": null,
   "metadata": {},
   "outputs": [],
   "source": [
    "# select these columns (first 3 rows), alternative syntax\n",
    "movie[cols_to_select][:3]"
   ]
  },
  {
   "cell_type": "code",
   "execution_count": null,
   "metadata": {},
   "outputs": [],
   "source": [
    "# add a column that isn't there\n",
    "cols_to_select2 = ['Title', 'Rating', 'Not_There']\n",
    "try:\n",
    "    movie[cols_to_select2]\n",
    "except KeyError as err:\n",
    "    print(err)"
   ]
  },
  {
   "cell_type": "markdown",
   "metadata": {},
   "source": [
    "### Note on Above Error Message\n",
    "\n",
    "The error message says that the column name is not in the \"index\".  As the column labels are themselves an index, this means the column name is not in the index of column labels.\n",
    "\n",
    "This does **not** mean that 'Not_There' is not in the df.index.  df.index refers specifically to the index of row labels.  "
   ]
  },
  {
   "cell_type": "markdown",
   "metadata": {},
   "source": [
    "### Pandas Infers Whether: df\\[cols_to_select\\] Selects Columns or Rows\n",
    "\n",
    "Often the inference allows for convenient use of the bracket operator.  \n",
    "Sometimes it is clearer to explicitly state whether you are searching for row IDs or column IDs or both..\n",
    "\n",
    "If you want to specifically state that you want the rows with IDs 0-2 and the columns with labels 'cols_to_select', using **.loc\\[\\]**"
   ]
  },
  {
   "cell_type": "code",
   "execution_count": null,
   "metadata": {},
   "outputs": [],
   "source": [
    "# Row ID Selection, slice operator is inclusive\n",
    "# Col ID Selection, list of lables is provided\n",
    "movie.loc[:2,cols_to_select]"
   ]
  },
  {
   "cell_type": "markdown",
   "metadata": {},
   "source": [
    "### Boolean Series Row Filtering\n",
    "\n",
    "Comparing values in one column with a relational operator results in a Series having the same length as the column, and an index being identical to the column's index."
   ]
  },
  {
   "cell_type": "code",
   "execution_count": null,
   "metadata": {},
   "outputs": [],
   "source": [
    "# get a boolean series for a relational operation\n",
    "good_rating = movie['Rating'] > 8.6\n",
    "print(type(good_rating)) # Series\n",
    "print(good_rating.dtype) # bool\n",
    "print(len(good_rating) == len(movie)) # same length"
   ]
  },
  {
   "cell_type": "code",
   "execution_count": null,
   "metadata": {},
   "outputs": [],
   "source": [
    "# show first 3 values of this series\n",
    "good_rating[:3]"
   ]
  },
  {
   "cell_type": "markdown",
   "metadata": {},
   "source": [
    "#### Boolean Series Index must match DataFrame index\n",
    "\n",
    "When a boolean series is used to filter rows, it's index must \"match\" the DataFrame's index.  This will always be the case when boolean series was created with a relational operator applied to the values of one of its columns."
   ]
  },
  {
   "cell_type": "code",
   "execution_count": null,
   "metadata": {},
   "outputs": [],
   "source": [
    "movie.index"
   ]
  },
  {
   "cell_type": "code",
   "execution_count": null,
   "metadata": {},
   "outputs": [],
   "source": [
    "good_rating.index"
   ]
  },
  {
   "cell_type": "code",
   "execution_count": null,
   "metadata": {},
   "outputs": [],
   "source": [
    "# all index values (aka row IDs) are the same\n",
    "(movie.index == good_rating.index).all()"
   ]
  },
  {
   "cell_type": "code",
   "execution_count": null,
   "metadata": {},
   "outputs": [],
   "source": [
    "# how many movies meet the good_rating criteria?\n",
    "# True is 1, False is 0, the sum of the True values is the number of True values\n",
    "good_rating.sum()"
   ]
  },
  {
   "cell_type": "code",
   "execution_count": null,
   "metadata": {},
   "outputs": [],
   "source": [
    "movie[good_rating]"
   ]
  },
  {
   "cell_type": "markdown",
   "metadata": {},
   "source": [
    "### Bracket Notation **df\\[filter\\]**\n",
    "\n",
    "Pandas can infer:\n",
    "1. columns are to be selected if the input is a list of values which are a subset of the column labels\n",
    "2. rows are to be selected if the input is a boolean series having a matching index"
   ]
  },
  {
   "cell_type": "code",
   "execution_count": null,
   "metadata": {},
   "outputs": [],
   "source": [
    "# filtering by column, analgous to SQL Select\n",
    "cols_to_select = ['Title', 'Rating']\n",
    "movie[cols_to_select].head(3)"
   ]
  },
  {
   "cell_type": "code",
   "execution_count": null,
   "metadata": {},
   "outputs": [],
   "source": [
    "# filtering by row, analgous to SQL Where\n",
    "movie[good_rating].head(3)"
   ]
  },
  {
   "cell_type": "code",
   "execution_count": null,
   "metadata": {},
   "outputs": [],
   "source": [
    "# To not clutter the notebook output, warnings are ignored\n",
    "# Normally warnings should not be ignored\n",
    "import warnings\n",
    "warnings.filterwarnings('ignore')\n",
    "\n",
    "# create a non-matching boolean_series\n",
    "good_rating2 = good_rating[:-1]\n",
    "try:\n",
    "    movie[good_rating2]\n",
    "except pd.core.indexing.IndexingError as err:\n",
    "    print(err)"
   ]
  },
  {
   "cell_type": "code",
   "execution_count": null,
   "metadata": {},
   "outputs": [],
   "source": [
    "cols_to_select = ['Title', 'Rating']\n",
    "boolean_series = movie['Rating'] > 8.6\n",
    "\n",
    "# filter both columns and rows\n",
    "movie[cols_to_select][good_rating]"
   ]
  },
  {
   "cell_type": "code",
   "execution_count": null,
   "metadata": {},
   "outputs": [],
   "source": [
    "# filter on both rows and columns, reverse order\n",
    "movie[good_rating][cols_to_select]"
   ]
  },
  {
   "cell_type": "code",
   "execution_count": null,
   "metadata": {},
   "outputs": [],
   "source": [
    "# clearer code, Pandas is not infering what is being selected\n",
    "movie.loc[good_rating, cols_to_select]"
   ]
  },
  {
   "cell_type": "markdown",
   "metadata": {},
   "source": [
    "# Example DataFrame Queries"
   ]
  },
  {
   "cell_type": "code",
   "execution_count": null,
   "metadata": {},
   "outputs": [],
   "source": [
    "# rename the columns to be easier to work with\n",
    "movie.columns"
   ]
  },
  {
   "cell_type": "code",
   "execution_count": null,
   "metadata": {},
   "outputs": [],
   "source": [
    "cols = ['Rank', 'Genre', 'Description', 'Director', 'Actors', 'Year',\n",
    "       'Runtime', 'Rating', 'Votes', 'Revenue',\n",
    "       'Metascore']\n",
    "movie.columns = cols\n",
    "movie.columns"
   ]
  },
  {
   "cell_type": "code",
   "execution_count": null,
   "metadata": {},
   "outputs": [],
   "source": [
    "# select index (movie titles)\n",
    "movie = movie.sort_index()"
   ]
  },
  {
   "cell_type": "code",
   "execution_count": null,
   "metadata": {},
   "outputs": [],
   "source": [
    "# select last two rows, first 3 columns\n",
    "movie.iloc[-2:, :3]"
   ]
  },
  {
   "cell_type": "code",
   "execution_count": null,
   "metadata": {},
   "outputs": [],
   "source": [
    "# select movies more than 150 minutes with a rating higher than 8.0\n",
    "row_filter = (movie['Runtime'] > 150) & (movie['Rating'] > 8.3)\n",
    "\n",
    "# select Genre, Runtime and Rating\n",
    "cols = ['Genre','Runtime','Rating']\n",
    "\n",
    "movie.loc[row_filter, cols].head(3)"
   ]
  },
  {
   "cell_type": "markdown",
   "metadata": {},
   "source": [
    "## Handle Multiple Values in Actors Column\n",
    "\n",
    "The Actors column is not a collection per se, although it is used like one.  Each value in the Actors column is a single value, which happens to be a string that contains one or more actor names."
   ]
  },
  {
   "cell_type": "code",
   "execution_count": null,
   "metadata": {},
   "outputs": [],
   "source": [
    "# Find all movies with Zooey Deschanel in this dataset\n",
    "titles_filter = movie['Actors'].apply(lambda x: 'Zooey Deschanel' in x)"
   ]
  },
  {
   "cell_type": "code",
   "execution_count": null,
   "metadata": {},
   "outputs": [],
   "source": [
    "movie[titles_filter]"
   ]
  },
  {
   "cell_type": "code",
   "execution_count": null,
   "metadata": {},
   "outputs": [],
   "source": [
    "# It's a bit awkward to hardcode a string inside the lambda expression\n",
    "# pd.Series.apply() must take 1 argument, the argument that represents each value in the Series\n",
    "# To get around the requirement of exactly 1 arg, use a closure\n",
    "def make_actor_filter(actor):\n",
    "    def my_filter(x):\n",
    "        return actor in x\n",
    "    return my_filter"
   ]
  },
  {
   "cell_type": "code",
   "execution_count": null,
   "metadata": {},
   "outputs": [],
   "source": [
    "zooey_filter = make_actor_filter('Zooey Deschanel')\n",
    "titles_filter = movie['Actors'].apply(zooey_filter)\n",
    "movie[titles_filter]"
   ]
  },
  {
   "cell_type": "code",
   "execution_count": null,
   "metadata": {},
   "outputs": [],
   "source": [
    "# to find out which actors appeared in the most movies, create a dictionary\n",
    "# and invert it\n",
    "title_to_actor_string = movie['Actors'].to_dict()\n",
    "title_to_actor_string['10 Cloverfield Lane']"
   ]
  },
  {
   "cell_type": "code",
   "execution_count": null,
   "metadata": {},
   "outputs": [],
   "source": [
    "# convert this string to a list of actor names\n",
    "title_to_actors = defaultdict(list)\n",
    "for title, actor_string in title_to_actor_string.items():\n",
    "    for actor in actor_string.split(','):\n",
    "        title_to_actors[title].append(actor.strip())"
   ]
  },
  {
   "cell_type": "code",
   "execution_count": null,
   "metadata": {},
   "outputs": [],
   "source": [
    "title_to_actors['10 Cloverfield Lane']"
   ]
  },
  {
   "cell_type": "code",
   "execution_count": null,
   "metadata": {},
   "outputs": [],
   "source": [
    "# invert the index\n",
    "actors_to_title = defaultdict(list)\n",
    "for title, actors in title_to_actors.items():\n",
    "    for actor in actors:\n",
    "        actors_to_title[actor].append(title)"
   ]
  },
  {
   "cell_type": "code",
   "execution_count": null,
   "metadata": {},
   "outputs": [],
   "source": [
    "actors_to_title['Zooey Deschanel']"
   ]
  },
  {
   "cell_type": "code",
   "execution_count": null,
   "metadata": {},
   "outputs": [],
   "source": [
    "# with a dictionary of actor to movies, it's easy to get the count of movies per actor\n",
    "movie_count_by_actor = {key:len(value) for key, value in actors_to_title.items()}"
   ]
  },
  {
   "cell_type": "code",
   "execution_count": null,
   "metadata": {},
   "outputs": [],
   "source": [
    "movie_count_by_actor['Zooey Deschanel']"
   ]
  },
  {
   "cell_type": "code",
   "execution_count": null,
   "metadata": {},
   "outputs": [],
   "source": [
    "# find which actors where in the most movies\n",
    "# recall that sorted takes an optional user specified key\n",
    "sorted_by_count = sorted(movie_count_by_actor.items(), key=lambda kv: kv[1], reverse=True)\n",
    "sorted_by_count[:3]"
   ]
  },
  {
   "cell_type": "code",
   "execution_count": null,
   "metadata": {},
   "outputs": [],
   "source": [
    "# find Hugh Jackman movies longer than 140 minutes\n",
    "titles = actors_to_title['Hugh Jackman']\n",
    "hugh_movies = movie.loc[titles]\n",
    "long_hugh_movies = hugh_movies[hugh_movies['Runtime'] > 140]\n",
    "long_hugh_movies"
   ]
  },
  {
   "cell_type": "markdown",
   "metadata": {},
   "source": [
    "## Find which actor was in movies with the highest ratings\n",
    "\n",
    "This won't work because the groups are not mutually exclusive...\n",
    "\n",
    "Ensure actor is in at least two movies."
   ]
  },
  {
   "cell_type": "code",
   "execution_count": null,
   "metadata": {},
   "outputs": [],
   "source": [
    "group_by = movie.groupby(actors_to_title.keys())\n",
    "# group_by_having_2plus = group_by # group_by.filter(lambda x: len(x) > 1)"
   ]
  },
  {
   "cell_type": "code",
   "execution_count": null,
   "metadata": {},
   "outputs": [],
   "source": [
    "for group in group_by_having_2plus:\n",
    "    print(group"
   ]
  },
  {
   "cell_type": "code",
   "execution_count": null,
   "metadata": {},
   "outputs": [],
   "source": [
    "group_by.agg(np.mean)"
   ]
  },
  {
   "cell_type": "code",
   "execution_count": null,
   "metadata": {},
   "outputs": [],
   "source": []
  },
  {
   "cell_type": "code",
   "execution_count": null,
   "metadata": {},
   "outputs": [],
   "source": [
    "# number of movies that are greater than 120 minutes\n",
    "(movie['duration'] > 120).sum()"
   ]
  },
  {
   "cell_type": "code",
   "execution_count": null,
   "metadata": {},
   "outputs": [],
   "source": [
    "# percent of movies greater than 120 minutes long\n",
    "(movie['duration'] > 120).mean()"
   ]
  },
  {
   "cell_type": "code",
   "execution_count": null,
   "metadata": {},
   "outputs": [],
   "source": [
    "# normalized true/false value_counts\n",
    "(movie['duration'] > 120).value_counts(normalize=True)"
   ]
  },
  {
   "cell_type": "code",
   "execution_count": null,
   "metadata": {},
   "outputs": [],
   "source": []
  },
  {
   "cell_type": "code",
   "execution_count": null,
   "metadata": {},
   "outputs": [],
   "source": []
  },
  {
   "cell_type": "code",
   "execution_count": null,
   "metadata": {},
   "outputs": [],
   "source": []
  },
  {
   "cell_type": "code",
   "execution_count": null,
   "metadata": {},
   "outputs": [],
   "source": [
    "movie[title_filter]"
   ]
  },
  {
   "cell_type": "code",
   "execution_count": null,
   "metadata": {},
   "outputs": [],
   "source": [
    "bale_movies = movie.loc[titles]\n",
    "long_bale_movies = bale_movies[bale_movies['Runtime'] > 140]\n",
    "long_bale_movies"
   ]
  },
  {
   "cell_type": "code",
   "execution_count": null,
   "metadata": {},
   "outputs": [],
   "source": [
    "# apply needs 1 argument\n",
    "# use closure to bind 1 argument\n",
    "def make_actor_filter(actor):\n",
    "    def my_filter(x):\n",
    "        return actor in x\n",
    "    return my_filter"
   ]
  },
  {
   "cell_type": "code",
   "execution_count": null,
   "metadata": {},
   "outputs": [],
   "source": [
    "filter_f = make_actor_filter('Christian Bale')"
   ]
  },
  {
   "cell_type": "code",
   "execution_count": null,
   "metadata": {},
   "outputs": [],
   "source": [
    "filter1 = movie['Actors'].apply(filter_f)\n",
    "filter2 = movie['Runtime'] > 140\n",
    "movie[filter1 & filter2]"
   ]
  },
  {
   "cell_type": "code",
   "execution_count": null,
   "metadata": {},
   "outputs": [],
   "source": []
  },
  {
   "cell_type": "code",
   "execution_count": null,
   "metadata": {},
   "outputs": [],
   "source": []
  },
  {
   "cell_type": "code",
   "execution_count": null,
   "metadata": {},
   "outputs": [],
   "source": [
    "title_row_filter = movie.index.map(lambda x: x in titles).to_series()\n",
    "title_row_filter.set_index\n",
    "\n",
    "set_index(movie.index)"
   ]
  },
  {
   "cell_type": "code",
   "execution_count": null,
   "metadata": {},
   "outputs": [],
   "source": [
    "movie.index"
   ]
  },
  {
   "cell_type": "code",
   "execution_count": null,
   "metadata": {},
   "outputs": [],
   "source": [
    "movie.index.take(titles)"
   ]
  },
  {
   "cell_type": "code",
   "execution_count": null,
   "metadata": {},
   "outputs": [],
   "source": [
    "type(title_row_filter)"
   ]
  },
  {
   "cell_type": "code",
   "execution_count": null,
   "metadata": {},
   "outputs": [],
   "source": [
    "type(row_filter)"
   ]
  },
  {
   "cell_type": "code",
   "execution_count": null,
   "metadata": {},
   "outputs": [],
   "source": [
    "title_row_filter & row_filter"
   ]
  },
  {
   "cell_type": "code",
   "execution_count": null,
   "metadata": {},
   "outputs": [],
   "source": [
    "long_movies = movie[row_filter]\n",
    "long_bale_movies = long_movies.loc[title_row_filter]\n",
    "long_bale_movies"
   ]
  },
  {
   "cell_type": "code",
   "execution_count": null,
   "metadata": {},
   "outputs": [],
   "source": [
    "# deal with multiple actors in one field\n",
    "from collections import defaultdict\n",
    "actors = defaultdict(list)\n",
    "\n",
    "# change to map\n",
    "for i in movie.index:\n",
    "    print(movie.loc[i].Title)\n",
    "    print(movie.loc[i, 'Actors'].split(','))\n",
    "    if i > 5:\n",
    "        break"
   ]
  },
  {
   "cell_type": "code",
   "execution_count": null,
   "metadata": {},
   "outputs": [],
   "source": [
    "actor_series = movie['Actors'].map(lambda x: x.split(','))\n",
    "# actors = movies['Actors'].map(lambda x: x.split(',')).to_dict(defaultdict(list))"
   ]
  },
  {
   "cell_type": "code",
   "execution_count": null,
   "metadata": {},
   "outputs": [],
   "source": [
    "actor_series.head()"
   ]
  },
  {
   "cell_type": "code",
   "execution_count": null,
   "metadata": {},
   "outputs": [],
   "source": [
    "actors = actor_series.to_dict(defaultdict(list))"
   ]
  },
  {
   "cell_type": "code",
   "execution_count": null,
   "metadata": {},
   "outputs": [],
   "source": [
    "actors"
   ]
  },
  {
   "cell_type": "code",
   "execution_count": null,
   "metadata": {},
   "outputs": [],
   "source": [
    "# inverted index\n",
    "movie_actors = defaultdict(list)\n",
    "for key, values in actors.items():\n",
    "    for value in values:\n",
    "        movie_actors[value].append(key)"
   ]
  },
  {
   "cell_type": "code",
   "execution_count": null,
   "metadata": {},
   "outputs": [],
   "source": [
    "movie_actors['Noomi Rapace']"
   ]
  },
  {
   "cell_type": "code",
   "execution_count": null,
   "metadata": {},
   "outputs": [],
   "source": [
    "movie.loc[movie_actors['Noomi Rapace']]"
   ]
  },
  {
   "cell_type": "markdown",
   "metadata": {
    "toc-hr-collapsed": false
   },
   "source": [
    "### Notes\n",
    "1. dtype: object -- most often used for strings but may indicate a column having different data types, or a list, dict, etc.\n",
    "2. dtype: categorial -- like R's factor.  Used for a small number of possibly ordered enumerated types."
   ]
  },
  {
   "cell_type": "code",
   "execution_count": null,
   "metadata": {},
   "outputs": [],
   "source": [
    "# sorted will automatically convert the columns to a list, and then sort them\n",
    "cols = sorted(movie.columns)\n",
    "cols"
   ]
  },
  {
   "cell_type": "code",
   "execution_count": null,
   "metadata": {},
   "outputs": [],
   "source": [
    "# count returns number of non-null (i.e. non NAN) values\n",
    "actor = movie['Actors']\n",
    "actor.count()"
   ]
  },
  {
   "cell_type": "code",
   "execution_count": null,
   "metadata": {},
   "outputs": [],
   "source": [
    "movie.shape"
   ]
  },
  {
   "cell_type": "code",
   "execution_count": null,
   "metadata": {},
   "outputs": [],
   "source": [
    "len(actor)"
   ]
  },
  {
   "cell_type": "code",
   "execution_count": null,
   "metadata": {},
   "outputs": [],
   "source": [
    "actor.count() + actor.isnull().sum()"
   ]
  },
  {
   "cell_type": "code",
   "execution_count": null,
   "metadata": {},
   "outputs": [],
   "source": [
    "# describe stats depend upon datatype\n",
    "movie['Revenue (Millions)'].describe()"
   ]
  },
  {
   "cell_type": "code",
   "execution_count": null,
   "metadata": {},
   "outputs": [],
   "source": [
    "movie['actor_1_name'].describe()"
   ]
  },
  {
   "cell_type": "code",
   "execution_count": null,
   "metadata": {},
   "outputs": [],
   "source": [
    "# each (computed) series has the same index as the dataframe it came from\n",
    "(movie['actor_1_name'].isnull().index == movie.index).all()"
   ]
  },
  {
   "cell_type": "code",
   "execution_count": null,
   "metadata": {},
   "outputs": [],
   "source": [
    "((movie['actor_1_name'] == 'Robert De Niro').index == movie.index).all()"
   ]
  },
  {
   "cell_type": "code",
   "execution_count": null,
   "metadata": {},
   "outputs": [],
   "source": [
    "m = movie.set_index('movie_title')\n",
    "m.head()"
   ]
  },
  {
   "cell_type": "code",
   "execution_count": null,
   "metadata": {},
   "outputs": [],
   "source": [
    "m['cast_total_facebook_likes'].sort_values(ascending=False).head()"
   ]
  },
  {
   "cell_type": "code",
   "execution_count": null,
   "metadata": {},
   "outputs": [],
   "source": [
    "actor_1_fb_likes = movie['actor_1_facebook_likes']\n",
    "actor_1_fb_likes.fillna(0).astype(int).head()"
   ]
  },
  {
   "cell_type": "code",
   "execution_count": null,
   "metadata": {},
   "outputs": [],
   "source": [
    "# be careful when computing truthiness of Series that has nan!\n",
    "s = pd.Series([np.nan] * 3)\n",
    "print(s)\n",
    "s.all()"
   ]
  },
  {
   "cell_type": "code",
   "execution_count": null,
   "metadata": {},
   "outputs": [],
   "source": [
    "# an empty Series is also True\n",
    "pd.Series([np.nan] * 3).all(skipna=True)"
   ]
  },
  {
   "cell_type": "code",
   "execution_count": null,
   "metadata": {},
   "outputs": [],
   "source": [
    "s1 = pd.Series([np.nan] * 3)\n",
    "s1 = s1.append(pd.Series([0.0]))\n",
    "s1"
   ]
  },
  {
   "cell_type": "code",
   "execution_count": null,
   "metadata": {},
   "outputs": [],
   "source": [
    "s1.all(skipna=True)"
   ]
  },
  {
   "cell_type": "code",
   "execution_count": null,
   "metadata": {},
   "outputs": [],
   "source": [
    "s1.any(skipna=True)"
   ]
  },
  {
   "cell_type": "code",
   "execution_count": null,
   "metadata": {},
   "outputs": [],
   "source": [
    "# a single column is a Series\n",
    "movie['movie_title'].head()"
   ]
  },
  {
   "cell_type": "code",
   "execution_count": null,
   "metadata": {},
   "outputs": [],
   "source": [
    "# a single column as part of a list, is a DataFrame\n",
    "movie[['movie_title']].head()"
   ]
  },
  {
   "cell_type": "code",
   "execution_count": null,
   "metadata": {},
   "outputs": [],
   "source": [
    "movie.get_dtype_counts()"
   ]
  },
  {
   "cell_type": "code",
   "execution_count": null,
   "metadata": {},
   "outputs": [],
   "source": [
    "# equvalient to preceeding\n",
    "movie.dtypes.value_counts()"
   ]
  },
  {
   "cell_type": "code",
   "execution_count": null,
   "metadata": {},
   "outputs": [],
   "source": [
    "# select column by type\n",
    "# number includes float and int\n",
    "movie.select_dtypes(include=['number']).head()"
   ]
  },
  {
   "cell_type": "code",
   "execution_count": null,
   "metadata": {},
   "outputs": [],
   "source": [
    "# select column by name\n",
    "# use RegEx having 1 to infinity digits in it\n",
    "movie.filter(regex='\\d{1,}').head()"
   ]
  },
  {
   "cell_type": "code",
   "execution_count": null,
   "metadata": {},
   "outputs": [],
   "source": [
    "movie.filter(regex='^act').head()"
   ]
  },
  {
   "cell_type": "code",
   "execution_count": null,
   "metadata": {},
   "outputs": [],
   "source": [
    "# filter does not throw key error, but indexing operator does\n",
    "movie.filter(items=['no_key_error', 'actor_1_name']).head()"
   ]
  },
  {
   "cell_type": "code",
   "execution_count": null,
   "metadata": {},
   "outputs": [],
   "source": [
    "movie.isnull().sum()"
   ]
  },
  {
   "cell_type": "code",
   "execution_count": null,
   "metadata": {},
   "outputs": [],
   "source": [
    "movie.isnull().sum().sum()"
   ]
  },
  {
   "cell_type": "code",
   "execution_count": null,
   "metadata": {},
   "outputs": [],
   "source": []
  },
  {
   "cell_type": "code",
   "execution_count": null,
   "metadata": {},
   "outputs": [],
   "source": [
    "# DataFrames work the same as Series with respect to '==' and 'equals\n",
    "s1 = pd.Series([1, 2, 3, np.nan])\n",
    "s2 = pd.Series([1, 2, 3, np.nan])\n",
    "print(f's1 is s2: {s1 is s2}')\n",
    "print(f'All values are same given np.nan != np.nan: {(s1 == s2).all()}')"
   ]
  },
  {
   "cell_type": "code",
   "execution_count": null,
   "metadata": {},
   "outputs": [],
   "source": [
    "# but .equals DOES consider np.nan to equal np.nan!\n",
    "s1.equals(s2)"
   ]
  },
  {
   "cell_type": "code",
   "execution_count": null,
   "metadata": {},
   "outputs": [],
   "source": [
    "# shape includes non-null values\n",
    "ugds.shape"
   ]
  },
  {
   "cell_type": "code",
   "execution_count": null,
   "metadata": {},
   "outputs": [],
   "source": [
    "# count number of non-null values\n",
    "ugds.count()"
   ]
  },
  {
   "cell_type": "code",
   "execution_count": null,
   "metadata": {},
   "outputs": [],
   "source": [
    "ugds.count(axis='columns').value_counts()"
   ]
  },
  {
   "cell_type": "code",
   "execution_count": null,
   "metadata": {},
   "outputs": [],
   "source": [
    "# isclose is helpful\n",
    "np.isclose(1.000, 0.9999, atol=1e-4)"
   ]
  },
  {
   "cell_type": "code",
   "execution_count": null,
   "metadata": {},
   "outputs": [],
   "source": [
    "# the sum across each row is nearly 0 or 1\n",
    "a = ugds.sum(axis=1).apply(lambda x: np.isclose(x, 1.0, atol=3e-4) or np.isclose(x, 0.0, atol=3e-4))\n",
    "a.all()"
   ]
  },
  {
   "cell_type": "code",
   "execution_count": null,
   "metadata": {},
   "outputs": [],
   "source": [
    "# from the above, either the row has all the values, or it has none of the values\n",
    "# drop rows that are missing all of the values\n",
    "ugds.dropna(how='all').count()"
   ]
  },
  {
   "cell_type": "code",
   "execution_count": null,
   "metadata": {},
   "outputs": [],
   "source": [
    "ugds_clean = ugds.dropna(how='all')\n",
    "ugds_clean.count()"
   ]
  },
  {
   "cell_type": "code",
   "execution_count": null,
   "metadata": {},
   "outputs": [],
   "source": [
    "ugds_clean.isnull().sum().sum()"
   ]
  },
  {
   "cell_type": "code",
   "execution_count": null,
   "metadata": {},
   "outputs": [],
   "source": [
    "# create a diversity metric and apply it\n",
    "ugds_clean.ge(.15).head()"
   ]
  },
  {
   "cell_type": "code",
   "execution_count": null,
   "metadata": {},
   "outputs": [],
   "source": [
    "# count the number of columns that are greater than 0.15 for each row\n",
    "ugds_clean.ge(.15).sum(axis=1).sort_values(ascending=False).head()"
   ]
  },
  {
   "cell_type": "markdown",
   "metadata": {
    "toc-hr-collapsed": true
   },
   "source": [
    "## Data Analysis"
   ]
  },
  {
   "cell_type": "code",
   "execution_count": null,
   "metadata": {},
   "outputs": [],
   "source": [
    "import pandas as pd\n",
    "import numpy as np\n",
    "from IPython.display import display\n",
    "pd.options.display.max_columns = 50"
   ]
  },
  {
   "cell_type": "code",
   "execution_count": null,
   "metadata": {},
   "outputs": [],
   "source": [
    "# convert the 0,1 value to a single byte integer\n",
    "col2['RELAFFIL'] = col2['RELAFFIL'].astype(np.int8)\n",
    "col2.memory_usage(deep=True)"
   ]
  },
  {
   "cell_type": "code",
   "execution_count": null,
   "metadata": {},
   "outputs": [],
   "source": [
    "movie2 = movie[['movie_title', 'imdb_score', 'budget']]\n",
    "movie2.head()"
   ]
  },
  {
   "cell_type": "code",
   "execution_count": null,
   "metadata": {},
   "outputs": [],
   "source": [
    "best_score = movie2.nlargest(100,'imdb_score')\n",
    "best_score.shape"
   ]
  },
  {
   "cell_type": "code",
   "execution_count": null,
   "metadata": {},
   "outputs": [],
   "source": [
    "best_value = best_score.nsmallest(5,'budget')\n",
    "best_value"
   ]
  },
  {
   "cell_type": "code",
   "execution_count": null,
   "metadata": {},
   "outputs": [],
   "source": [
    "movie2.nlargest(100,'imdb_score').nsmallest(5,'budget')"
   ]
  },
  {
   "cell_type": "code",
   "execution_count": null,
   "metadata": {},
   "outputs": [],
   "source": [
    "movie3 = movie[['movie_title', 'title_year', 'imdb_score']]\n",
    "movie3.head()"
   ]
  },
  {
   "cell_type": "code",
   "execution_count": null,
   "metadata": {},
   "outputs": [],
   "source": [
    "movie3.sort_values(['title_year', 'imdb_score'], ascending=False).head(5)"
   ]
  },
  {
   "cell_type": "code",
   "execution_count": null,
   "metadata": {},
   "outputs": [],
   "source": [
    "# sort by movie_title and title_year, then drop dup title_year to get best title per year\n",
    "movie3.sort_values(['title_year', 'imdb_score'], ascending=False).drop_duplicates('title_year').head()"
   ]
  },
  {
   "cell_type": "code",
   "execution_count": null,
   "metadata": {},
   "outputs": [],
   "source": [
    "# create initial sort order via score\n",
    "m_score = movie3.sort_values(['imdb_score'], ascending=False)\n",
    "\n",
    "# group by year\n",
    "m_score = m_score.groupby(['title_year'])\n",
    "\n",
    "# first row in each group is highest score\n",
    "m_score.first().tail()"
   ]
  },
  {
   "cell_type": "code",
   "execution_count": null,
   "metadata": {},
   "outputs": [],
   "source": [
    "# as one liner\n",
    "movie3.sort_values(['title_year', 'imdb_score'], ascending=False).groupby('title_year').first().tail()"
   ]
  },
  {
   "cell_type": "markdown",
   "metadata": {},
   "source": [
    "## Selection"
   ]
  },
  {
   "cell_type": "code",
   "execution_count": null,
   "metadata": {},
   "outputs": [],
   "source": [
    "college = pd.read_csv(college_path[0], index_col='INSTNM')\n",
    "city = college['CITY']\n",
    "city.value_counts().head()"
   ]
  },
  {
   "cell_type": "code",
   "execution_count": null,
   "metadata": {},
   "outputs": [],
   "source": [
    "# slice only works if index is sorted\n",
    "try:\n",
    "    df = college['Spa':'Spr']['CITY']\n",
    "    print(df)\n",
    "except KeyError as err:\n",
    "    print(f'KeyError: {err}')"
   ]
  },
  {
   "cell_type": "code",
   "execution_count": null,
   "metadata": {},
   "outputs": [],
   "source": [
    "college.sort_index(inplace=True)"
   ]
  },
  {
   "cell_type": "code",
   "execution_count": null,
   "metadata": {},
   "outputs": [],
   "source": [
    "try:\n",
    "    df = college['Sp':'Su']\n",
    "    print(df.index)\n",
    "except KeyError as err:\n",
    "    print(err)"
   ]
  },
  {
   "cell_type": "markdown",
   "metadata": {
    "toc-hr-collapsed": true
   },
   "source": [
    "## Boolean Indexing"
   ]
  },
  {
   "cell_type": "code",
   "execution_count": null,
   "metadata": {},
   "outputs": [],
   "source": [
    "movie = pd.read_csv(movie_path[0], index_col='movie_title')\n",
    "movie.head()"
   ]
  },
  {
   "cell_type": "code",
   "execution_count": null,
   "metadata": {},
   "outputs": [],
   "source": [
    "# number of movies that are greater than 120 minutes\n",
    "(movie['duration'] > 120).sum()"
   ]
  },
  {
   "cell_type": "code",
   "execution_count": null,
   "metadata": {},
   "outputs": [],
   "source": [
    "# percent of movies greater than 120 minutes long\n",
    "(movie['duration'] > 120).mean()"
   ]
  },
  {
   "cell_type": "code",
   "execution_count": null,
   "metadata": {},
   "outputs": [],
   "source": [
    "# normalized true/false value_counts\n",
    "(movie['duration'] > 120).value_counts(normalize=True)"
   ]
  },
  {
   "cell_type": "code",
   "execution_count": null,
   "metadata": {},
   "outputs": [],
   "source": [
    "len(movie['duration'])"
   ]
  },
  {
   "cell_type": "code",
   "execution_count": null,
   "metadata": {},
   "outputs": [],
   "source": [
    "movie['duration'].count()"
   ]
  },
  {
   "cell_type": "code",
   "execution_count": null,
   "metadata": {},
   "outputs": [],
   "source": [
    "movie['duration'].isnull().sum()"
   ]
  },
  {
   "cell_type": "code",
   "execution_count": null,
   "metadata": {},
   "outputs": [],
   "source": [
    "# drop na's before computing the mean -- no difference\n",
    "movie['duration'].dropna().gt(120).mean()"
   ]
  },
  {
   "cell_type": "code",
   "execution_count": null,
   "metadata": {},
   "outputs": [],
   "source": [
    "movie['duration'].gt(120).sum() / movie['duration'].count()"
   ]
  },
  {
   "cell_type": "code",
   "execution_count": null,
   "metadata": {},
   "outputs": [],
   "source": [
    "actors = movie[['actor_1_facebook_likes', 'actor_2_facebook_likes']].dropna()"
   ]
  },
  {
   "cell_type": "code",
   "execution_count": null,
   "metadata": {},
   "outputs": [],
   "source": [
    "(actors.iloc[:,0] > actors.iloc[:,1]).mean()"
   ]
  },
  {
   "cell_type": "code",
   "execution_count": null,
   "metadata": {},
   "outputs": [],
   "source": [
    "# numpy semantics for boolean arrays same as semantics for Pandas Boolean Series\n",
    "a = np.array([True, False])\n",
    "b = np.array([True, True])\n",
    "a & b"
   ]
  },
  {
   "cell_type": "code",
   "execution_count": null,
   "metadata": {},
   "outputs": [],
   "source": [
    "a | b"
   ]
  },
  {
   "cell_type": "code",
   "execution_count": null,
   "metadata": {},
   "outputs": [],
   "source": [
    "import pandas as pd\n",
    "import numpy as np\n",
    "import matplotlib.pyplot as plt\n",
    "\n",
    "%matplotlib inline"
   ]
  },
  {
   "cell_type": "code",
   "execution_count": null,
   "metadata": {},
   "outputs": [],
   "source": [
    "college_stabbr_sorted = college_stabbr.sort_index()\n",
    "college_stabbr_sorted.index.is_monotonic"
   ]
  },
  {
   "cell_type": "code",
   "execution_count": null,
   "metadata": {},
   "outputs": [],
   "source": [
    "# boolean series for row selection\n",
    "%timeit college[college['STABBR'] == 'TX']"
   ]
  },
  {
   "cell_type": "code",
   "execution_count": null,
   "metadata": {},
   "outputs": [],
   "source": [
    "# unsorted index for row selection\n",
    "%timeit college_stabbr.loc['TX']"
   ]
  },
  {
   "cell_type": "code",
   "execution_count": null,
   "metadata": {},
   "outputs": [],
   "source": [
    "# sorted index for row selection\n",
    "%timeit college_stabbr_sorted.loc['TX']"
   ]
  },
  {
   "cell_type": "code",
   "execution_count": null,
   "metadata": {},
   "outputs": [],
   "source": [
    "# boolean series for row selection\n",
    "states = ['TX', 'CA', 'NY']\n",
    "%timeit college[college['STABBR'].isin(states)]"
   ]
  },
  {
   "cell_type": "code",
   "execution_count": null,
   "metadata": {},
   "outputs": [],
   "source": [
    "# unsorted index for row selection\n",
    "%timeit college_stabbr.loc[states]"
   ]
  },
  {
   "cell_type": "code",
   "execution_count": null,
   "metadata": {},
   "outputs": [],
   "source": [
    "# sorted index for row selection\n",
    "%timeit college_stabbr_sorted.loc[states]"
   ]
  },
  {
   "cell_type": "code",
   "execution_count": null,
   "metadata": {},
   "outputs": [],
   "source": [
    "# try unsorted and randomized (rather than order read in from file)\n",
    "df = college.sample(len(college))\n",
    "\n",
    "# boolean series for row selection -- rows in random order\n",
    "states = ['TX', 'CA', 'NY']\n",
    "%timeit df[df['STABBR'].isin(states)]"
   ]
  },
  {
   "cell_type": "code",
   "execution_count": null,
   "metadata": {},
   "outputs": [],
   "source": [
    "# verify results are the same\n",
    "college = pd.read_csv(college_path[0])\n",
    "college_stabbr_sorted = college.set_index('STABBR').sort_index()\n",
    "\n",
    "r1 = college[college['STABBR'].isin(states)]\n",
    "r2 = college_stabbr_sorted.loc[states]"
   ]
  },
  {
   "cell_type": "markdown",
   "metadata": {},
   "source": [
    "### DataFrame equals\n",
    "1. indexes must be equal and in the same order\n",
    "2. columns must be equal and in the same order\n",
    "3. values must be the same, np.nan compares equal to np.nan"
   ]
  },
  {
   "cell_type": "code",
   "execution_count": null,
   "metadata": {},
   "outputs": [],
   "source": [
    "# arrange columns\n",
    "cols = r1.columns.sort_values()\n",
    "r1 = r1[cols]\n",
    "r2 = r2[cols]\n",
    "(r1.columns == r2.columns).all()"
   ]
  },
  {
   "cell_type": "code",
   "execution_count": null,
   "metadata": {},
   "outputs": [],
   "source": [
    "# INSTNM is a unique key\n",
    "college['INSTNM'].value_counts().max()"
   ]
  },
  {
   "cell_type": "code",
   "execution_count": null,
   "metadata": {},
   "outputs": [],
   "source": [
    "# another way to check for uniqueness\n",
    "college['INSTNM'].nunique() == college['INSTNM'].count()"
   ]
  },
  {
   "cell_type": "code",
   "execution_count": null,
   "metadata": {},
   "outputs": [],
   "source": [
    "# and the preferred way to see if the values in a series are unique\n",
    "college['INSTNM'].is_unique"
   ]
  },
  {
   "cell_type": "markdown",
   "metadata": {
    "toc-hr-collapsed": true
   },
   "source": [
    "## Index Alignment"
   ]
  },
  {
   "cell_type": "code",
   "execution_count": null,
   "metadata": {},
   "outputs": [],
   "source": [
    "college_path = !find .. -name college.csv\n",
    "college_path = college_path.sort()\n",
    "college_path[0]\n",
    "\n",
    "# read into dataframe with institue name as row index\n",
    "college = pd.read_csv(college_path[0])\n",
    "college.head()"
   ]
  },
  {
   "cell_type": "code",
   "execution_count": null,
   "metadata": {},
   "outputs": [],
   "source": [
    "college.columns"
   ]
  },
  {
   "cell_type": "code",
   "execution_count": null,
   "metadata": {},
   "outputs": [],
   "source": [
    "college.columns.values"
   ]
  },
  {
   "cell_type": "code",
   "execution_count": null,
   "metadata": {},
   "outputs": [],
   "source": [
    "columns = college.columns\n",
    "columns[1:6:2]"
   ]
  },
  {
   "cell_type": "code",
   "execution_count": null,
   "metadata": {},
   "outputs": [],
   "source": [
    "columns.min(), columns.max(), columns.isnull().sum()"
   ]
  },
  {
   "cell_type": "code",
   "execution_count": null,
   "metadata": {},
   "outputs": [],
   "source": [
    "columns + '_A'"
   ]
  },
  {
   "cell_type": "code",
   "execution_count": null,
   "metadata": {},
   "outputs": [],
   "source": [
    "s1 = pd.Series(index=list('aaab'), data=np.arange(4))\n",
    "s1"
   ]
  },
  {
   "cell_type": "code",
   "execution_count": null,
   "metadata": {},
   "outputs": [],
   "source": [
    "s2 = pd.Series(index=list('cababb'), data=np.arange(6))\n",
    "s2"
   ]
  },
  {
   "cell_type": "code",
   "execution_count": null,
   "metadata": {},
   "outputs": [],
   "source": [
    "# additions of Series with non-identical indexes, creates a Cartesian Product\n",
    "s = s1 + s2\n",
    "s"
   ]
  },
  {
   "cell_type": "code",
   "execution_count": null,
   "metadata": {},
   "outputs": [],
   "source": [
    "len(s1), len(s2), len(s)"
   ]
  },
  {
   "cell_type": "code",
   "execution_count": null,
   "metadata": {},
   "outputs": [],
   "source": [
    "# a a a b\n",
    "# 0 1 2 3\n",
    "\n",
    "# c a b a b b\n",
    "# 0 1 2 3 4 5\n",
    "\n",
    "# a's\n",
    "# 0+1, 0+3, 1+1, 1+3, 2+1, 2+3"
   ]
  },
  {
   "cell_type": "code",
   "execution_count": null,
   "metadata": {},
   "outputs": [],
   "source": [
    "s1 = pd.Series(index=list('aaabb'), data=np.arange(5))\n",
    "s2 = pd.Series(index=list('bbaaa'), data=np.arange(10,15))\n",
    "s1 + s2"
   ]
  },
  {
   "cell_type": "code",
   "execution_count": null,
   "metadata": {},
   "outputs": [],
   "source": [
    "s1 = pd.Series(index=list('aaabb'), data=np.arange(5))\n",
    "s2 = pd.Series(index=list('aaabb'), data=np.arange(10,15))\n",
    "s1 + s2"
   ]
  },
  {
   "cell_type": "code",
   "execution_count": null,
   "metadata": {},
   "outputs": [],
   "source": [
    "employee = pd.read_csv(emp_path[0], index_col='RACE')\n",
    "employee.head()"
   ]
  },
  {
   "cell_type": "code",
   "execution_count": null,
   "metadata": {},
   "outputs": [],
   "source": [
    "# view is created, not copy\n",
    "salary1 = employee['BASE_SALARY']\n",
    "salary2 = employee['BASE_SALARY']"
   ]
  },
  {
   "cell_type": "code",
   "execution_count": null,
   "metadata": {},
   "outputs": [],
   "source": [
    "# same information is referred to\n",
    "salary1 is salary2"
   ]
  },
  {
   "cell_type": "code",
   "execution_count": null,
   "metadata": {},
   "outputs": [],
   "source": [
    "salary1 = employee['BASE_SALARY'].copy()\n",
    "salary2 = employee['BASE_SALARY'].copy()\n",
    "salary1 is salary2"
   ]
  },
  {
   "cell_type": "code",
   "execution_count": null,
   "metadata": {},
   "outputs": [],
   "source": [
    "salary1 = salary1.sort_index()\n",
    "salary1.head()"
   ]
  },
  {
   "cell_type": "code",
   "execution_count": null,
   "metadata": {},
   "outputs": [],
   "source": [
    "# values are in a different order\n",
    "# they don't line up, so a Cartesian Product occurs\n",
    "salary2.head()"
   ]
  },
  {
   "cell_type": "code",
   "execution_count": null,
   "metadata": {},
   "outputs": [],
   "source": [
    "salary_add = salary1 + salary2\n",
    "salary_add.head()"
   ]
  },
  {
   "cell_type": "code",
   "execution_count": null,
   "metadata": {},
   "outputs": [],
   "source": [
    "salary_add1 = salary1 + salary1\n",
    "len(salary1), len(salary2), len(salary_add), len(salary_add1)"
   ]
  },
  {
   "cell_type": "code",
   "execution_count": null,
   "metadata": {},
   "outputs": [],
   "source": [
    "b14 = !find .. -name baseball14.csv\n",
    "b15 = !find .. -name baseball15.csv\n",
    "b16 = !find .. -name baseball16.csv"
   ]
  },
  {
   "cell_type": "code",
   "execution_count": null,
   "metadata": {},
   "outputs": [],
   "source": [
    "baseball_14 = pd.read_csv(b14[0], index_col='playerID')\n",
    "baseball_15 = pd.read_csv(b15[0], index_col='playerID')\n",
    "baseball_16 = pd.read_csv(b16[0], index_col='playerID')\n",
    "baseball_14.head()"
   ]
  },
  {
   "cell_type": "code",
   "execution_count": null,
   "metadata": {},
   "outputs": [],
   "source": [
    "# values in 14 that are not in 15\n",
    "baseball_14.index.difference(baseball_15.index)"
   ]
  },
  {
   "cell_type": "code",
   "execution_count": null,
   "metadata": {},
   "outputs": [],
   "source": [
    "# values in 14 that are not in 16\n",
    "baseball_14.index.difference(baseball_16.index)"
   ]
  },
  {
   "cell_type": "code",
   "execution_count": null,
   "metadata": {},
   "outputs": [],
   "source": [
    "hits_14 = baseball_14['H']\n",
    "hits_15 = baseball_15['H']\n",
    "hits_16 = baseball_16['H']\n",
    "hits_14.head()"
   ]
  },
  {
   "cell_type": "code",
   "execution_count": null,
   "metadata": {},
   "outputs": [],
   "source": [
    "(hits_14 + hits_15).head()"
   ]
  },
  {
   "cell_type": "code",
   "execution_count": null,
   "metadata": {},
   "outputs": [],
   "source": [
    "hits_14.add(hits_15, fill_value=0).head()"
   ]
  },
  {
   "cell_type": "code",
   "execution_count": null,
   "metadata": {},
   "outputs": [],
   "source": [
    "hits_total = hits_14.add(hits_15, fill_value=0).add(hits_16, fill_value=0)\n",
    "hits_total.head()"
   ]
  },
  {
   "cell_type": "code",
   "execution_count": null,
   "metadata": {},
   "outputs": [],
   "source": [
    "hits_total.hasnans"
   ]
  },
  {
   "cell_type": "code",
   "execution_count": null,
   "metadata": {},
   "outputs": [],
   "source": [
    "len(hits_14), len(hits_15), len(hits_16), len(hits_total)"
   ]
  },
  {
   "cell_type": "code",
   "execution_count": null,
   "metadata": {},
   "outputs": [],
   "source": [
    "# take union of indexes as sets\n",
    "ss = set(hits_14.index) | set(hits_15.index) | set(hits_16.index)\n",
    "len(ss)"
   ]
  },
  {
   "cell_type": "code",
   "execution_count": null,
   "metadata": {},
   "outputs": [],
   "source": [
    "set(hits_total.index) == ss"
   ]
  },
  {
   "cell_type": "code",
   "execution_count": null,
   "metadata": {},
   "outputs": [],
   "source": [
    "# let's check the above\n",
    "columns = college_n2.columns\n",
    "max_indexes = []\n",
    "for col in columns:\n",
    "    df = college[college[col] == college[col].max()]\n",
    "    max_indexes.append((col, df.index.values[0]))\n",
    "    \n",
    "max_indexes"
   ]
  },
  {
   "cell_type": "code",
   "execution_count": null,
   "metadata": {},
   "outputs": [],
   "source": [
    "df = pd.DataFrame(max_indexes, columns='column INSTNM'.split())\n",
    "df = df.set_index('column')\n",
    "series = df['INSTNM']\n",
    "del series.index.name\n",
    "series"
   ]
  },
  {
   "cell_type": "code",
   "execution_count": null,
   "metadata": {},
   "outputs": [],
   "source": [
    "# it worked!\n",
    "series.equals(max_cols)"
   ]
  },
  {
   "cell_type": "code",
   "execution_count": null,
   "metadata": {},
   "outputs": [],
   "source": [
    "# better way to convert tuple to series with index\n",
    "instnm = [x[1] for x in max_indexes]\n",
    "index = [x[0] for x in max_indexes]\n",
    "s = pd.Series(data=instnm, index=index)\n",
    "s"
   ]
  },
  {
   "cell_type": "code",
   "execution_count": null,
   "metadata": {},
   "outputs": [],
   "source": [
    "%%timeit\n",
    "columns = college_n2.columns\n",
    "max_indexes = []\n",
    "for col in columns:\n",
    "    df = college[college[col] == college[col].max()]\n",
    "    max_indexes.append((col, df.index.values[0]))"
   ]
  },
  {
   "cell_type": "code",
   "execution_count": null,
   "metadata": {},
   "outputs": [],
   "source": [
    "# this is 10 times faster\n",
    "%timeit college_n2.idxmax()"
   ]
  },
  {
   "cell_type": "code",
   "execution_count": null,
   "metadata": {},
   "outputs": [],
   "source": [
    "%%timeit\n",
    "# above appears to be O(n^2) to find max and then find row with max\n",
    "# this should be much faster -- it is!\n",
    "columns = college_n2.columns\n",
    "max_indexes = []\n",
    "for col in columns:\n",
    "    max_indexes.append((col, college[col].idxmax()))\n",
    "    \n",
    "instnm = [x[1] for x in max_indexes]\n",
    "index = [x[0] for x in max_indexes]\n",
    "s = pd.Series(data=instnm, index=index)"
   ]
  },
  {
   "cell_type": "markdown",
   "metadata": {},
   "source": [
    "### Examining the groupby object"
   ]
  },
  {
   "cell_type": "code",
   "execution_count": null,
   "metadata": {},
   "outputs": [],
   "source": [
    "grouped = college.groupby(['STABBR', 'RELAFFIL'])\n",
    "type(grouped)"
   ]
  },
  {
   "cell_type": "code",
   "execution_count": null,
   "metadata": {},
   "outputs": [],
   "source": [
    "print([attr for attr in dir(grouped) if not attr.startswith('_')])"
   ]
  },
  {
   "cell_type": "code",
   "execution_count": null,
   "metadata": {},
   "outputs": [],
   "source": [
    "grouped.ngroups"
   ]
  },
  {
   "cell_type": "code",
   "execution_count": null,
   "metadata": {},
   "outputs": [],
   "source": [
    "groups = list(grouped.groups.keys())\n",
    "groups[:6]"
   ]
  },
  {
   "cell_type": "code",
   "execution_count": null,
   "metadata": {},
   "outputs": [],
   "source": [
    "grouped.get_group(('FL', 1)).head()"
   ]
  },
  {
   "cell_type": "code",
   "execution_count": null,
   "metadata": {},
   "outputs": [],
   "source": [
    "from IPython.display import display\n",
    "i = 0\n",
    "for name, group in grouped:\n",
    "    print(name)\n",
    "    display(group.head(2))\n",
    "    i += 1\n",
    "    if i == 5:\n",
    "        break"
   ]
  },
  {
   "cell_type": "code",
   "execution_count": null,
   "metadata": {},
   "outputs": [],
   "source": [
    "grouped.head(2).head(6)"
   ]
  },
  {
   "cell_type": "markdown",
   "metadata": {},
   "source": [
    "### Grouping by continuous variables"
   ]
  },
  {
   "cell_type": "code",
   "execution_count": null,
   "metadata": {},
   "outputs": [],
   "source": [
    "flights = pd.read_csv('data/flights.csv')\n",
    "flights.head()"
   ]
  },
  {
   "cell_type": "code",
   "execution_count": null,
   "metadata": {},
   "outputs": [],
   "source": [
    "bins = [-np.inf, 200, 500, 1000, 2000, np.inf]\n",
    "cuts = pd.cut(flights['DIST'], bins=bins)\n",
    "cuts.head()"
   ]
  },
  {
   "cell_type": "code",
   "execution_count": null,
   "metadata": {},
   "outputs": [],
   "source": [
    "cuts.value_counts()"
   ]
  },
  {
   "cell_type": "code",
   "execution_count": null,
   "metadata": {},
   "outputs": [],
   "source": [
    "flights.groupby(cuts)['AIRLINE'].value_counts(normalize=True).round(3).head(40)"
   ]
  },
  {
   "cell_type": "code",
   "execution_count": 408,
   "metadata": {},
   "outputs": [
    {
     "data": {
      "text/plain": [
       "CategoricalDtype(categories=[2006, 2007, 2008, 2009, 2010, 2011, 2012, 2013, 2014, 2015,\n",
       "                  2016],\n",
       "                 ordered=True)"
      ]
     },
     "execution_count": 408,
     "metadata": {},
     "output_type": "execute_result"
    }
   ],
   "source": [
    "# although unusual and unnecessary, year could be considered a ordered categorical type\n",
    "from pandas.api.types import CategoricalDtype\n",
    "years = movie['Year'].unique()\n",
    "years.sort()\n",
    "dtype = CategoricalDtype(categories=years, ordered=True)\n",
    "dtype"
   ]
  },
  {
   "cell_type": "code",
   "execution_count": 409,
   "metadata": {},
   "outputs": [
    {
     "data": {
      "text/plain": [
       "Title\n",
       "Guardians of the Galaxy                    2014\n",
       "Prometheus                                 2012\n",
       "Split                                      2016\n",
       "Sing                                       2016\n",
       "Suicide Squad                              2016\n",
       "The Great Wall                             2016\n",
       "La La Land                                 2016\n",
       "Mindhorn                                   2016\n",
       "The Lost City of Z                         2016\n",
       "Passengers                                 2016\n",
       "Fantastic Beasts and Where to Find Them    2016\n",
       "Hidden Figures                             2016\n",
       "Rogue One                                  2016\n",
       "Moana                                      2016\n",
       "Colossal                                   2016\n",
       "The Secret Life of Pets                    2016\n",
       "Hacksaw Ridge                              2016\n",
       "Jason Bourne                               2016\n",
       "Lion                                       2016\n",
       "Arrival                                    2016\n",
       "Gold                                       2016\n",
       "Manchester by the Sea                      2016\n",
       "Hounds of Love                             2016\n",
       "Trolls                                     2016\n",
       "Independence Day: Resurgence               2016\n",
       "Paris pieds nus                            2016\n",
       "Bahubali: The Beginning                    2015\n",
       "Dead Awake                                 2016\n",
       "Bad Moms                                   2016\n",
       "Assassin's Creed                           2016\n",
       "                                           ... \n",
       "Texas Chainsaw 3D                          2013\n",
       "Disturbia                                  2007\n",
       "Rock of Ages                               2012\n",
       "Scream 4                                   2011\n",
       "Queen of Katwe                             2016\n",
       "My Big Fat Greek Wedding 2                 2016\n",
       "Dark Places                                2015\n",
       "Amateur Night                              2016\n",
       "It's Only the End of the World             2016\n",
       "The Skin I Live In                         2011\n",
       "Miracles from Heaven                       2016\n",
       "Annie                                      2014\n",
       "Across the Universe                        2007\n",
       "Let's Be Cops                              2014\n",
       "Max                                        2015\n",
       "Your Highness                              2011\n",
       "Final Destination 5                        2011\n",
       "Endless Love                               2014\n",
       "Martyrs                                    2008\n",
       "Selma                                      2014\n",
       "Underworld: Rise of the Lycans             2009\n",
       "Taare Zameen Par                           2007\n",
       "Take Me Home Tonight                       2011\n",
       "Resident Evil: Afterlife                   2010\n",
       "Project X                                  2012\n",
       "Secret in Their Eyes                       2015\n",
       "Hostel: Part II                            2007\n",
       "Step Up 2: The Streets                     2008\n",
       "Search Party                               2014\n",
       "Nine Lives                                 2016\n",
       "Name: Year, Length: 1000, dtype: category\n",
       "Categories (11, int64): [2006 < 2007 < 2008 < 2009 ... 2013 < 2014 < 2015 < 2016]"
      ]
     },
     "execution_count": 409,
     "metadata": {},
     "output_type": "execute_result"
    }
   ],
   "source": [
    "year = movie['Year'].astype(dtype)\n",
    "year"
   ]
  }
 ],
 "metadata": {
  "kernelspec": {
   "display_name": "Python 3",
   "language": "python",
   "name": "python3"
  },
  "language_info": {
   "codemirror_mode": {
    "name": "ipython",
    "version": 3
   },
   "file_extension": ".py",
   "mimetype": "text/x-python",
   "name": "python",
   "nbconvert_exporter": "python",
   "pygments_lexer": "ipython3",
   "version": "3.7.2"
  }
 },
 "nbformat": 4,
 "nbformat_minor": 2
}
