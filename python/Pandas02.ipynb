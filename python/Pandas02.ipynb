{
 "cells": [
  {
   "cell_type": "markdown",
   "metadata": {
    "toc-hr-collapsed": false
   },
   "source": [
    "# Pandas Examples using Movie Dataset"
   ]
  },
  {
   "cell_type": "markdown",
   "metadata": {
    "toc-hr-collapsed": true
   },
   "source": [
    "## Overview\n",
    "\n",
    "This notebook uses the IMDB dataset from Kaggle:  \n",
    "https://www.kaggle.com/PromptCloudHQ/imdb-data#IMDB-Movie-Data.csv"
   ]
  },
  {
   "cell_type": "code",
   "execution_count": 57,
   "metadata": {},
   "outputs": [],
   "source": [
    "import pandas as pd\n",
    "import numpy as np"
   ]
  },
  {
   "cell_type": "markdown",
   "metadata": {
    "toc-hr-collapsed": false
   },
   "source": [
    "## Movie Data Set"
   ]
  },
  {
   "cell_type": "code",
   "execution_count": 85,
   "metadata": {},
   "outputs": [],
   "source": [
    "# read in IMDB move dataset\n",
    "movies = pd.read_csv('../data/IMDB-Movie-Data.csv')"
   ]
  },
  {
   "cell_type": "code",
   "execution_count": 86,
   "metadata": {},
   "outputs": [
    {
     "data": {
      "text/html": [
       "<div>\n",
       "<style scoped>\n",
       "    .dataframe tbody tr th:only-of-type {\n",
       "        vertical-align: middle;\n",
       "    }\n",
       "\n",
       "    .dataframe tbody tr th {\n",
       "        vertical-align: top;\n",
       "    }\n",
       "\n",
       "    .dataframe thead th {\n",
       "        text-align: right;\n",
       "    }\n",
       "</style>\n",
       "<table border=\"1\" class=\"dataframe\">\n",
       "  <thead>\n",
       "    <tr style=\"text-align: right;\">\n",
       "      <th></th>\n",
       "      <th>Rank</th>\n",
       "      <th>Title</th>\n",
       "      <th>Genre</th>\n",
       "      <th>Description</th>\n",
       "      <th>Director</th>\n",
       "      <th>Actors</th>\n",
       "      <th>Year</th>\n",
       "      <th>Runtime (Minutes)</th>\n",
       "      <th>Rating</th>\n",
       "      <th>Votes</th>\n",
       "      <th>Revenue (Millions)</th>\n",
       "      <th>Metascore</th>\n",
       "    </tr>\n",
       "  </thead>\n",
       "  <tbody>\n",
       "    <tr>\n",
       "      <th>0</th>\n",
       "      <td>1</td>\n",
       "      <td>Guardians of the Galaxy</td>\n",
       "      <td>Action,Adventure,Sci-Fi</td>\n",
       "      <td>A group of intergalactic criminals are forced ...</td>\n",
       "      <td>James Gunn</td>\n",
       "      <td>Chris Pratt, Vin Diesel, Bradley Cooper, Zoe S...</td>\n",
       "      <td>2014</td>\n",
       "      <td>121</td>\n",
       "      <td>8.1</td>\n",
       "      <td>757074</td>\n",
       "      <td>333.13</td>\n",
       "      <td>76.0</td>\n",
       "    </tr>\n",
       "    <tr>\n",
       "      <th>1</th>\n",
       "      <td>2</td>\n",
       "      <td>Prometheus</td>\n",
       "      <td>Adventure,Mystery,Sci-Fi</td>\n",
       "      <td>Following clues to the origin of mankind, a te...</td>\n",
       "      <td>Ridley Scott</td>\n",
       "      <td>Noomi Rapace, Logan Marshall-Green, Michael Fa...</td>\n",
       "      <td>2012</td>\n",
       "      <td>124</td>\n",
       "      <td>7.0</td>\n",
       "      <td>485820</td>\n",
       "      <td>126.46</td>\n",
       "      <td>65.0</td>\n",
       "    </tr>\n",
       "  </tbody>\n",
       "</table>\n",
       "</div>"
      ],
      "text/plain": [
       "   Rank                    Title                     Genre  \\\n",
       "0     1  Guardians of the Galaxy   Action,Adventure,Sci-Fi   \n",
       "1     2               Prometheus  Adventure,Mystery,Sci-Fi   \n",
       "\n",
       "                                         Description      Director  \\\n",
       "0  A group of intergalactic criminals are forced ...    James Gunn   \n",
       "1  Following clues to the origin of mankind, a te...  Ridley Scott   \n",
       "\n",
       "                                              Actors  Year  Runtime (Minutes)  \\\n",
       "0  Chris Pratt, Vin Diesel, Bradley Cooper, Zoe S...  2014                121   \n",
       "1  Noomi Rapace, Logan Marshall-Green, Michael Fa...  2012                124   \n",
       "\n",
       "   Rating   Votes  Revenue (Millions)  Metascore  \n",
       "0     8.1  757074              333.13       76.0  \n",
       "1     7.0  485820              126.46       65.0  "
      ]
     },
     "execution_count": 86,
     "metadata": {},
     "output_type": "execute_result"
    }
   ],
   "source": [
    "# display first 2 rows of the DataFrame\n",
    "movies.head(2)"
   ]
  },
  {
   "cell_type": "code",
   "execution_count": 87,
   "metadata": {},
   "outputs": [
    {
     "data": {
      "text/html": [
       "<div>\n",
       "<style scoped>\n",
       "    .dataframe tbody tr th:only-of-type {\n",
       "        vertical-align: middle;\n",
       "    }\n",
       "\n",
       "    .dataframe tbody tr th {\n",
       "        vertical-align: top;\n",
       "    }\n",
       "\n",
       "    .dataframe thead th {\n",
       "        text-align: right;\n",
       "    }\n",
       "</style>\n",
       "<table border=\"1\" class=\"dataframe\">\n",
       "  <thead>\n",
       "    <tr style=\"text-align: right;\">\n",
       "      <th></th>\n",
       "      <th>Rank</th>\n",
       "      <th>Title</th>\n",
       "      <th>Genre</th>\n",
       "      <th>Description</th>\n",
       "      <th>Director</th>\n",
       "      <th>Actors</th>\n",
       "      <th>Year</th>\n",
       "      <th>Runtime (Minutes)</th>\n",
       "      <th>Rating</th>\n",
       "      <th>Votes</th>\n",
       "      <th>Revenue (Millions)</th>\n",
       "      <th>Metascore</th>\n",
       "    </tr>\n",
       "  </thead>\n",
       "  <tbody>\n",
       "    <tr>\n",
       "      <th>998</th>\n",
       "      <td>999</td>\n",
       "      <td>Search Party</td>\n",
       "      <td>Adventure,Comedy</td>\n",
       "      <td>A pair of friends embark on a mission to reuni...</td>\n",
       "      <td>Scot Armstrong</td>\n",
       "      <td>Adam Pally, T.J. Miller, Thomas Middleditch,Sh...</td>\n",
       "      <td>2014</td>\n",
       "      <td>93</td>\n",
       "      <td>5.6</td>\n",
       "      <td>4881</td>\n",
       "      <td>NaN</td>\n",
       "      <td>22.0</td>\n",
       "    </tr>\n",
       "    <tr>\n",
       "      <th>999</th>\n",
       "      <td>1000</td>\n",
       "      <td>Nine Lives</td>\n",
       "      <td>Comedy,Family,Fantasy</td>\n",
       "      <td>A stuffy businessman finds himself trapped ins...</td>\n",
       "      <td>Barry Sonnenfeld</td>\n",
       "      <td>Kevin Spacey, Jennifer Garner, Robbie Amell,Ch...</td>\n",
       "      <td>2016</td>\n",
       "      <td>87</td>\n",
       "      <td>5.3</td>\n",
       "      <td>12435</td>\n",
       "      <td>19.64</td>\n",
       "      <td>11.0</td>\n",
       "    </tr>\n",
       "  </tbody>\n",
       "</table>\n",
       "</div>"
      ],
      "text/plain": [
       "     Rank         Title                  Genre  \\\n",
       "998   999  Search Party       Adventure,Comedy   \n",
       "999  1000    Nine Lives  Comedy,Family,Fantasy   \n",
       "\n",
       "                                           Description          Director  \\\n",
       "998  A pair of friends embark on a mission to reuni...    Scot Armstrong   \n",
       "999  A stuffy businessman finds himself trapped ins...  Barry Sonnenfeld   \n",
       "\n",
       "                                                Actors  Year  \\\n",
       "998  Adam Pally, T.J. Miller, Thomas Middleditch,Sh...  2014   \n",
       "999  Kevin Spacey, Jennifer Garner, Robbie Amell,Ch...  2016   \n",
       "\n",
       "     Runtime (Minutes)  Rating  Votes  Revenue (Millions)  Metascore  \n",
       "998                 93     5.6   4881                 NaN       22.0  \n",
       "999                 87     5.3  12435               19.64       11.0  "
      ]
     },
     "execution_count": 87,
     "metadata": {},
     "output_type": "execute_result"
    }
   ],
   "source": [
    "# display last 2 rows\n",
    "movies.tail(2)"
   ]
  },
  {
   "cell_type": "code",
   "execution_count": 88,
   "metadata": {},
   "outputs": [
    {
     "data": {
      "text/plain": [
       "Index(['Rank', 'Title', 'Genre', 'Description', 'Director', 'Actors', 'Year',\n",
       "       'Runtime (Minutes)', 'Rating', 'Votes', 'Revenue (Millions)',\n",
       "       'Metascore'],\n",
       "      dtype='object')"
      ]
     },
     "execution_count": 88,
     "metadata": {},
     "output_type": "execute_result"
    }
   ],
   "source": [
    "movies.columns"
   ]
  },
  {
   "cell_type": "code",
   "execution_count": 89,
   "metadata": {},
   "outputs": [
    {
     "data": {
      "text/plain": [
       "RangeIndex(start=0, stop=1000, step=1)"
      ]
     },
     "execution_count": 89,
     "metadata": {},
     "output_type": "execute_result"
    }
   ],
   "source": [
    "movies.index"
   ]
  },
  {
   "cell_type": "code",
   "execution_count": 90,
   "metadata": {},
   "outputs": [
    {
     "data": {
      "text/html": [
       "<div>\n",
       "<style scoped>\n",
       "    .dataframe tbody tr th:only-of-type {\n",
       "        vertical-align: middle;\n",
       "    }\n",
       "\n",
       "    .dataframe tbody tr th {\n",
       "        vertical-align: top;\n",
       "    }\n",
       "\n",
       "    .dataframe thead th {\n",
       "        text-align: right;\n",
       "    }\n",
       "</style>\n",
       "<table border=\"1\" class=\"dataframe\">\n",
       "  <thead>\n",
       "    <tr style=\"text-align: right;\">\n",
       "      <th></th>\n",
       "      <th>Rank</th>\n",
       "      <th>Title</th>\n",
       "      <th>Genre</th>\n",
       "    </tr>\n",
       "  </thead>\n",
       "  <tbody>\n",
       "    <tr>\n",
       "      <th>0</th>\n",
       "      <td>1</td>\n",
       "      <td>Guardians of the Galaxy</td>\n",
       "      <td>Action,Adventure,Sci-Fi</td>\n",
       "    </tr>\n",
       "    <tr>\n",
       "      <th>1</th>\n",
       "      <td>2</td>\n",
       "      <td>Prometheus</td>\n",
       "      <td>Adventure,Mystery,Sci-Fi</td>\n",
       "    </tr>\n",
       "    <tr>\n",
       "      <th>2</th>\n",
       "      <td>3</td>\n",
       "      <td>Split</td>\n",
       "      <td>Horror,Thriller</td>\n",
       "    </tr>\n",
       "  </tbody>\n",
       "</table>\n",
       "</div>"
      ],
      "text/plain": [
       "   Rank                    Title                     Genre\n",
       "0     1  Guardians of the Galaxy   Action,Adventure,Sci-Fi\n",
       "1     2               Prometheus  Adventure,Mystery,Sci-Fi\n",
       "2     3                    Split           Horror,Thriller"
      ]
     },
     "execution_count": 90,
     "metadata": {},
     "output_type": "execute_result"
    }
   ],
   "source": [
    "movies.iloc[0:3, 0:3]"
   ]
  },
  {
   "cell_type": "markdown",
   "metadata": {
    "toc-hr-collapsed": true
   },
   "source": [
    "## Unit of Analysis: Movie\n",
    "\n",
    "The primary object of interest is a movie.  For data analysis, it is helpful to know what uniquely identifies a movie, and then set df.index to this unique identifier."
   ]
  },
  {
   "cell_type": "code",
   "execution_count": 91,
   "metadata": {},
   "outputs": [],
   "source": [
    "# groupby and filter are discussed later ...\n",
    "def get_dups(df, cols):\n",
    "    return df.groupby(cols).filter(lambda x: len(x) > 1)"
   ]
  },
  {
   "cell_type": "code",
   "execution_count": 92,
   "metadata": {},
   "outputs": [
    {
     "data": {
      "text/html": [
       "<div>\n",
       "<style scoped>\n",
       "    .dataframe tbody tr th:only-of-type {\n",
       "        vertical-align: middle;\n",
       "    }\n",
       "\n",
       "    .dataframe tbody tr th {\n",
       "        vertical-align: top;\n",
       "    }\n",
       "\n",
       "    .dataframe thead th {\n",
       "        text-align: right;\n",
       "    }\n",
       "</style>\n",
       "<table border=\"1\" class=\"dataframe\">\n",
       "  <thead>\n",
       "    <tr style=\"text-align: right;\">\n",
       "      <th></th>\n",
       "      <th>Rank</th>\n",
       "      <th>Title</th>\n",
       "      <th>Genre</th>\n",
       "      <th>Description</th>\n",
       "      <th>Director</th>\n",
       "      <th>Actors</th>\n",
       "      <th>Year</th>\n",
       "      <th>Runtime (Minutes)</th>\n",
       "      <th>Rating</th>\n",
       "      <th>Votes</th>\n",
       "      <th>Revenue (Millions)</th>\n",
       "      <th>Metascore</th>\n",
       "    </tr>\n",
       "  </thead>\n",
       "  <tbody>\n",
       "    <tr>\n",
       "      <th>239</th>\n",
       "      <td>240</td>\n",
       "      <td>The Host</td>\n",
       "      <td>Action,Adventure,Romance</td>\n",
       "      <td>When an unseen enemy threatens mankind by taki...</td>\n",
       "      <td>Andrew Niccol</td>\n",
       "      <td>Saoirse Ronan, Max Irons, Jake Abel, Diane Kruger</td>\n",
       "      <td>2013</td>\n",
       "      <td>125</td>\n",
       "      <td>5.9</td>\n",
       "      <td>96852</td>\n",
       "      <td>26.62</td>\n",
       "      <td>35.0</td>\n",
       "    </tr>\n",
       "    <tr>\n",
       "      <th>632</th>\n",
       "      <td>633</td>\n",
       "      <td>The Host</td>\n",
       "      <td>Comedy,Drama,Horror</td>\n",
       "      <td>A monster emerges from Seoul's Han River and f...</td>\n",
       "      <td>Bong Joon Ho</td>\n",
       "      <td>Kang-ho Song, Hee-Bong Byun, Hae-il Park, Doon...</td>\n",
       "      <td>2006</td>\n",
       "      <td>120</td>\n",
       "      <td>7.0</td>\n",
       "      <td>73491</td>\n",
       "      <td>2.20</td>\n",
       "      <td>85.0</td>\n",
       "    </tr>\n",
       "  </tbody>\n",
       "</table>\n",
       "</div>"
      ],
      "text/plain": [
       "     Rank     Title                     Genre  \\\n",
       "239   240  The Host  Action,Adventure,Romance   \n",
       "632   633  The Host       Comedy,Drama,Horror   \n",
       "\n",
       "                                           Description       Director  \\\n",
       "239  When an unseen enemy threatens mankind by taki...  Andrew Niccol   \n",
       "632  A monster emerges from Seoul's Han River and f...   Bong Joon Ho   \n",
       "\n",
       "                                                Actors  Year  \\\n",
       "239  Saoirse Ronan, Max Irons, Jake Abel, Diane Kruger  2013   \n",
       "632  Kang-ho Song, Hee-Bong Byun, Hae-il Park, Doon...  2006   \n",
       "\n",
       "     Runtime (Minutes)  Rating  Votes  Revenue (Millions)  Metascore  \n",
       "239                125     5.9  96852               26.62       35.0  \n",
       "632                120     7.0  73491                2.20       85.0  "
      ]
     },
     "execution_count": 92,
     "metadata": {},
     "output_type": "execute_result"
    }
   ],
   "source": [
    "# Titles are not unique in this dataset\n",
    "get_dups(movies, ['Title'])"
   ]
  },
  {
   "cell_type": "code",
   "execution_count": 93,
   "metadata": {},
   "outputs": [
    {
     "data": {
      "text/html": [
       "<div>\n",
       "<style scoped>\n",
       "    .dataframe tbody tr th:only-of-type {\n",
       "        vertical-align: middle;\n",
       "    }\n",
       "\n",
       "    .dataframe tbody tr th {\n",
       "        vertical-align: top;\n",
       "    }\n",
       "\n",
       "    .dataframe thead th {\n",
       "        text-align: right;\n",
       "    }\n",
       "</style>\n",
       "<table border=\"1\" class=\"dataframe\">\n",
       "  <thead>\n",
       "    <tr style=\"text-align: right;\">\n",
       "      <th></th>\n",
       "      <th>Rank</th>\n",
       "      <th>Title</th>\n",
       "      <th>Genre</th>\n",
       "      <th>Description</th>\n",
       "      <th>Director</th>\n",
       "      <th>Actors</th>\n",
       "      <th>Year</th>\n",
       "      <th>Runtime (Minutes)</th>\n",
       "      <th>Rating</th>\n",
       "      <th>Votes</th>\n",
       "      <th>Revenue (Millions)</th>\n",
       "      <th>Metascore</th>\n",
       "    </tr>\n",
       "  </thead>\n",
       "  <tbody>\n",
       "  </tbody>\n",
       "</table>\n",
       "</div>"
      ],
      "text/plain": [
       "Empty DataFrame\n",
       "Columns: [Rank, Title, Genre, Description, Director, Actors, Year, Runtime (Minutes), Rating, Votes, Revenue (Millions), Metascore]\n",
       "Index: []"
      ]
     },
     "execution_count": 93,
     "metadata": {},
     "output_type": "execute_result"
    }
   ],
   "source": [
    "# Title, Year is unique\n",
    "get_dups(movies, ['Title', 'Year'])"
   ]
  },
  {
   "cell_type": "markdown",
   "metadata": {},
   "source": [
    "### Rename Columns\n",
    "to make the dataframe eaiser to work with."
   ]
  },
  {
   "cell_type": "code",
   "execution_count": 94,
   "metadata": {},
   "outputs": [
    {
     "data": {
      "text/html": [
       "<div>\n",
       "<style scoped>\n",
       "    .dataframe tbody tr th:only-of-type {\n",
       "        vertical-align: middle;\n",
       "    }\n",
       "\n",
       "    .dataframe tbody tr th {\n",
       "        vertical-align: top;\n",
       "    }\n",
       "\n",
       "    .dataframe thead th {\n",
       "        text-align: right;\n",
       "    }\n",
       "</style>\n",
       "<table border=\"1\" class=\"dataframe\">\n",
       "  <thead>\n",
       "    <tr style=\"text-align: right;\">\n",
       "      <th></th>\n",
       "      <th>Title</th>\n",
       "      <th>Genre</th>\n",
       "      <th>Description</th>\n",
       "      <th>Director</th>\n",
       "      <th>Actors</th>\n",
       "      <th>Year</th>\n",
       "      <th>Runtime</th>\n",
       "      <th>Rating</th>\n",
       "      <th>Votes</th>\n",
       "      <th>Revenue</th>\n",
       "      <th>Metascore</th>\n",
       "    </tr>\n",
       "  </thead>\n",
       "  <tbody>\n",
       "    <tr>\n",
       "      <th>0</th>\n",
       "      <td>Guardians of the Galaxy</td>\n",
       "      <td>Action,Adventure,Sci-Fi</td>\n",
       "      <td>A group of intergalactic criminals are forced ...</td>\n",
       "      <td>James Gunn</td>\n",
       "      <td>Chris Pratt, Vin Diesel, Bradley Cooper, Zoe S...</td>\n",
       "      <td>2014</td>\n",
       "      <td>121</td>\n",
       "      <td>8.1</td>\n",
       "      <td>757074</td>\n",
       "      <td>333.13</td>\n",
       "      <td>76.0</td>\n",
       "    </tr>\n",
       "    <tr>\n",
       "      <th>1</th>\n",
       "      <td>Prometheus</td>\n",
       "      <td>Adventure,Mystery,Sci-Fi</td>\n",
       "      <td>Following clues to the origin of mankind, a te...</td>\n",
       "      <td>Ridley Scott</td>\n",
       "      <td>Noomi Rapace, Logan Marshall-Green, Michael Fa...</td>\n",
       "      <td>2012</td>\n",
       "      <td>124</td>\n",
       "      <td>7.0</td>\n",
       "      <td>485820</td>\n",
       "      <td>126.46</td>\n",
       "      <td>65.0</td>\n",
       "    </tr>\n",
       "  </tbody>\n",
       "</table>\n",
       "</div>"
      ],
      "text/plain": [
       "                     Title                     Genre  \\\n",
       "0  Guardians of the Galaxy   Action,Adventure,Sci-Fi   \n",
       "1               Prometheus  Adventure,Mystery,Sci-Fi   \n",
       "\n",
       "                                         Description      Director  \\\n",
       "0  A group of intergalactic criminals are forced ...    James Gunn   \n",
       "1  Following clues to the origin of mankind, a te...  Ridley Scott   \n",
       "\n",
       "                                              Actors  Year  Runtime  Rating  \\\n",
       "0  Chris Pratt, Vin Diesel, Bradley Cooper, Zoe S...  2014      121     8.1   \n",
       "1  Noomi Rapace, Logan Marshall-Green, Michael Fa...  2012      124     7.0   \n",
       "\n",
       "    Votes  Revenue  Metascore  \n",
       "0  757074   333.13       76.0  \n",
       "1  485820   126.46       65.0  "
      ]
     },
     "execution_count": 94,
     "metadata": {},
     "output_type": "execute_result"
    }
   ],
   "source": [
    "change_names = {'Revenue (Millions)':'Revenue', \n",
    "                'Runtime (Minutes)':'Runtime'}\n",
    "movies = movies.rename(change_names, axis='columns')\n",
    "movies = movies.drop('Rank', axis=1)\n",
    "movies.head(2)"
   ]
  },
  {
   "cell_type": "markdown",
   "metadata": {},
   "source": [
    "### Use Modified Title as Unique Index\n",
    "\n",
    "A DataFrame does not require its index be unique, but often data analysis of a given unit is easier if there is a way to uniquely identify that unit.  Here the unit of analysis is movie.\n",
    "\n",
    "There are several ways to create a unique index for this dataset:\n",
    "1. use Rank (renamed to ID)\n",
    "2. use the sequence of integers created by default (or create another one)\n",
    "3. use the combination of Title and Year.\n",
    "\n",
    "The best identifier to use depends on the application.  For a \"learn by example\" Jupyter Notebook such as this, the best identifier will be the most \"natural\" identifier.  The natural identifier for a movie is Title.  Using this will make the code easier to read and understand.\n",
    "\n",
    "For this notebook, the Title field will be appended with the Year for those 2 records that have a duplicate title, thereby making the Title field unique.\n",
    "\n",
    "Writing maintainable production code often has different requirements than writing an easy to understand Jupyter Notebook.  For production code, a multi-index of title and year may be a better approach, especially if new movies are to be added to the dataset."
   ]
  },
  {
   "cell_type": "code",
   "execution_count": 95,
   "metadata": {},
   "outputs": [
    {
     "data": {
      "text/html": [
       "<div>\n",
       "<style scoped>\n",
       "    .dataframe tbody tr th:only-of-type {\n",
       "        vertical-align: middle;\n",
       "    }\n",
       "\n",
       "    .dataframe tbody tr th {\n",
       "        vertical-align: top;\n",
       "    }\n",
       "\n",
       "    .dataframe thead th {\n",
       "        text-align: right;\n",
       "    }\n",
       "</style>\n",
       "<table border=\"1\" class=\"dataframe\">\n",
       "  <thead>\n",
       "    <tr style=\"text-align: right;\">\n",
       "      <th></th>\n",
       "      <th>Title</th>\n",
       "      <th>Genre</th>\n",
       "      <th>Description</th>\n",
       "      <th>Director</th>\n",
       "      <th>Actors</th>\n",
       "      <th>Year</th>\n",
       "      <th>Runtime</th>\n",
       "      <th>Rating</th>\n",
       "      <th>Votes</th>\n",
       "      <th>Revenue</th>\n",
       "      <th>Metascore</th>\n",
       "    </tr>\n",
       "  </thead>\n",
       "  <tbody>\n",
       "    <tr>\n",
       "      <th>239</th>\n",
       "      <td>The Host</td>\n",
       "      <td>Action,Adventure,Romance</td>\n",
       "      <td>When an unseen enemy threatens mankind by taki...</td>\n",
       "      <td>Andrew Niccol</td>\n",
       "      <td>Saoirse Ronan, Max Irons, Jake Abel, Diane Kruger</td>\n",
       "      <td>2013</td>\n",
       "      <td>125</td>\n",
       "      <td>5.9</td>\n",
       "      <td>96852</td>\n",
       "      <td>26.62</td>\n",
       "      <td>35.0</td>\n",
       "    </tr>\n",
       "    <tr>\n",
       "      <th>632</th>\n",
       "      <td>The Host</td>\n",
       "      <td>Comedy,Drama,Horror</td>\n",
       "      <td>A monster emerges from Seoul's Han River and f...</td>\n",
       "      <td>Bong Joon Ho</td>\n",
       "      <td>Kang-ho Song, Hee-Bong Byun, Hae-il Park, Doon...</td>\n",
       "      <td>2006</td>\n",
       "      <td>120</td>\n",
       "      <td>7.0</td>\n",
       "      <td>73491</td>\n",
       "      <td>2.20</td>\n",
       "      <td>85.0</td>\n",
       "    </tr>\n",
       "  </tbody>\n",
       "</table>\n",
       "</div>"
      ],
      "text/plain": [
       "        Title                     Genre  \\\n",
       "239  The Host  Action,Adventure,Romance   \n",
       "632  The Host       Comedy,Drama,Horror   \n",
       "\n",
       "                                           Description       Director  \\\n",
       "239  When an unseen enemy threatens mankind by taki...  Andrew Niccol   \n",
       "632  A monster emerges from Seoul's Han River and f...   Bong Joon Ho   \n",
       "\n",
       "                                                Actors  Year  Runtime  Rating  \\\n",
       "239  Saoirse Ronan, Max Irons, Jake Abel, Diane Kruger  2013      125     5.9   \n",
       "632  Kang-ho Song, Hee-Bong Byun, Hae-il Park, Doon...  2006      120     7.0   \n",
       "\n",
       "     Votes  Revenue  Metascore  \n",
       "239  96852    26.62       35.0  \n",
       "632  73491     2.20       85.0  "
      ]
     },
     "execution_count": 95,
     "metadata": {},
     "output_type": "execute_result"
    }
   ],
   "source": [
    "dups = get_dups(movies, ['Title']).copy()\n",
    "dups"
   ]
  },
  {
   "cell_type": "code",
   "execution_count": 96,
   "metadata": {},
   "outputs": [
    {
     "data": {
      "text/plain": [
       "Int64Index([239, 632], dtype='int64')"
      ]
     },
     "execution_count": 96,
     "metadata": {},
     "output_type": "execute_result"
    }
   ],
   "source": [
    "dups.index"
   ]
  },
  {
   "cell_type": "code",
   "execution_count": 97,
   "metadata": {},
   "outputs": [
    {
     "data": {
      "text/html": [
       "<div>\n",
       "<style scoped>\n",
       "    .dataframe tbody tr th:only-of-type {\n",
       "        vertical-align: middle;\n",
       "    }\n",
       "\n",
       "    .dataframe tbody tr th {\n",
       "        vertical-align: top;\n",
       "    }\n",
       "\n",
       "    .dataframe thead th {\n",
       "        text-align: right;\n",
       "    }\n",
       "</style>\n",
       "<table border=\"1\" class=\"dataframe\">\n",
       "  <thead>\n",
       "    <tr style=\"text-align: right;\">\n",
       "      <th></th>\n",
       "      <th>Title</th>\n",
       "      <th>Genre</th>\n",
       "      <th>Description</th>\n",
       "      <th>Director</th>\n",
       "      <th>Actors</th>\n",
       "      <th>Year</th>\n",
       "      <th>Runtime</th>\n",
       "      <th>Rating</th>\n",
       "      <th>Votes</th>\n",
       "      <th>Revenue</th>\n",
       "      <th>Metascore</th>\n",
       "    </tr>\n",
       "  </thead>\n",
       "  <tbody>\n",
       "    <tr>\n",
       "      <th>239</th>\n",
       "      <td>The Host</td>\n",
       "      <td>Action,Adventure,Romance</td>\n",
       "      <td>When an unseen enemy threatens mankind by taki...</td>\n",
       "      <td>Andrew Niccol</td>\n",
       "      <td>Saoirse Ronan, Max Irons, Jake Abel, Diane Kruger</td>\n",
       "      <td>2013</td>\n",
       "      <td>125</td>\n",
       "      <td>5.9</td>\n",
       "      <td>96852</td>\n",
       "      <td>26.62</td>\n",
       "      <td>35.0</td>\n",
       "    </tr>\n",
       "    <tr>\n",
       "      <th>632</th>\n",
       "      <td>The Host</td>\n",
       "      <td>Comedy,Drama,Horror</td>\n",
       "      <td>A monster emerges from Seoul's Han River and f...</td>\n",
       "      <td>Bong Joon Ho</td>\n",
       "      <td>Kang-ho Song, Hee-Bong Byun, Hae-il Park, Doon...</td>\n",
       "      <td>2006</td>\n",
       "      <td>120</td>\n",
       "      <td>7.0</td>\n",
       "      <td>73491</td>\n",
       "      <td>2.20</td>\n",
       "      <td>85.0</td>\n",
       "    </tr>\n",
       "  </tbody>\n",
       "</table>\n",
       "</div>"
      ],
      "text/plain": [
       "        Title                     Genre  \\\n",
       "239  The Host  Action,Adventure,Romance   \n",
       "632  The Host       Comedy,Drama,Horror   \n",
       "\n",
       "                                           Description       Director  \\\n",
       "239  When an unseen enemy threatens mankind by taki...  Andrew Niccol   \n",
       "632  A monster emerges from Seoul's Han River and f...   Bong Joon Ho   \n",
       "\n",
       "                                                Actors  Year  Runtime  Rating  \\\n",
       "239  Saoirse Ronan, Max Irons, Jake Abel, Diane Kruger  2013      125     5.9   \n",
       "632  Kang-ho Song, Hee-Bong Byun, Hae-il Park, Doon...  2006      120     7.0   \n",
       "\n",
       "     Votes  Revenue  Metascore  \n",
       "239  96852    26.62       35.0  \n",
       "632  73491     2.20       85.0  "
      ]
     },
     "execution_count": 97,
     "metadata": {},
     "output_type": "execute_result"
    }
   ],
   "source": [
    "movies.loc[dups.index]"
   ]
  },
  {
   "cell_type": "code",
   "execution_count": 98,
   "metadata": {},
   "outputs": [
    {
     "data": {
      "text/html": [
       "<div>\n",
       "<style scoped>\n",
       "    .dataframe tbody tr th:only-of-type {\n",
       "        vertical-align: middle;\n",
       "    }\n",
       "\n",
       "    .dataframe tbody tr th {\n",
       "        vertical-align: top;\n",
       "    }\n",
       "\n",
       "    .dataframe thead th {\n",
       "        text-align: right;\n",
       "    }\n",
       "</style>\n",
       "<table border=\"1\" class=\"dataframe\">\n",
       "  <thead>\n",
       "    <tr style=\"text-align: right;\">\n",
       "      <th></th>\n",
       "      <th>Title</th>\n",
       "      <th>Genre</th>\n",
       "      <th>Description</th>\n",
       "      <th>Director</th>\n",
       "      <th>Actors</th>\n",
       "      <th>Year</th>\n",
       "      <th>Runtime</th>\n",
       "      <th>Rating</th>\n",
       "      <th>Votes</th>\n",
       "      <th>Revenue</th>\n",
       "      <th>Metascore</th>\n",
       "    </tr>\n",
       "  </thead>\n",
       "  <tbody>\n",
       "    <tr>\n",
       "      <th>239</th>\n",
       "      <td>The Host: 2013</td>\n",
       "      <td>Action,Adventure,Romance</td>\n",
       "      <td>When an unseen enemy threatens mankind by taki...</td>\n",
       "      <td>Andrew Niccol</td>\n",
       "      <td>Saoirse Ronan, Max Irons, Jake Abel, Diane Kruger</td>\n",
       "      <td>2013</td>\n",
       "      <td>125</td>\n",
       "      <td>5.9</td>\n",
       "      <td>96852</td>\n",
       "      <td>26.62</td>\n",
       "      <td>35.0</td>\n",
       "    </tr>\n",
       "    <tr>\n",
       "      <th>632</th>\n",
       "      <td>The Host: 2006</td>\n",
       "      <td>Comedy,Drama,Horror</td>\n",
       "      <td>A monster emerges from Seoul's Han River and f...</td>\n",
       "      <td>Bong Joon Ho</td>\n",
       "      <td>Kang-ho Song, Hee-Bong Byun, Hae-il Park, Doon...</td>\n",
       "      <td>2006</td>\n",
       "      <td>120</td>\n",
       "      <td>7.0</td>\n",
       "      <td>73491</td>\n",
       "      <td>2.20</td>\n",
       "      <td>85.0</td>\n",
       "    </tr>\n",
       "  </tbody>\n",
       "</table>\n",
       "</div>"
      ],
      "text/plain": [
       "              Title                     Genre  \\\n",
       "239  The Host: 2013  Action,Adventure,Romance   \n",
       "632  The Host: 2006       Comedy,Drama,Horror   \n",
       "\n",
       "                                           Description       Director  \\\n",
       "239  When an unseen enemy threatens mankind by taki...  Andrew Niccol   \n",
       "632  A monster emerges from Seoul's Han River and f...   Bong Joon Ho   \n",
       "\n",
       "                                                Actors  Year  Runtime  Rating  \\\n",
       "239  Saoirse Ronan, Max Irons, Jake Abel, Diane Kruger  2013      125     5.9   \n",
       "632  Kang-ho Song, Hee-Bong Byun, Hae-il Park, Doon...  2006      120     7.0   \n",
       "\n",
       "     Votes  Revenue  Metascore  \n",
       "239  96852    26.62       35.0  \n",
       "632  73491     2.20       85.0  "
      ]
     },
     "execution_count": 98,
     "metadata": {},
     "output_type": "execute_result"
    }
   ],
   "source": [
    "# for each ID in the dups dataframe, modify the Title in the movies dataframe\n",
    "dups['Title'] += ': ' + dups['Year'].astype('str')\n",
    "dups"
   ]
  },
  {
   "cell_type": "code",
   "execution_count": 99,
   "metadata": {},
   "outputs": [],
   "source": [
    "movies.loc[dups.index, 'Title'] = dups['Title']"
   ]
  },
  {
   "cell_type": "code",
   "execution_count": 100,
   "metadata": {},
   "outputs": [
    {
     "data": {
      "text/html": [
       "<div>\n",
       "<style scoped>\n",
       "    .dataframe tbody tr th:only-of-type {\n",
       "        vertical-align: middle;\n",
       "    }\n",
       "\n",
       "    .dataframe tbody tr th {\n",
       "        vertical-align: top;\n",
       "    }\n",
       "\n",
       "    .dataframe thead th {\n",
       "        text-align: right;\n",
       "    }\n",
       "</style>\n",
       "<table border=\"1\" class=\"dataframe\">\n",
       "  <thead>\n",
       "    <tr style=\"text-align: right;\">\n",
       "      <th></th>\n",
       "      <th>Title</th>\n",
       "      <th>Genre</th>\n",
       "      <th>Description</th>\n",
       "      <th>Director</th>\n",
       "      <th>Actors</th>\n",
       "      <th>Year</th>\n",
       "      <th>Runtime</th>\n",
       "      <th>Rating</th>\n",
       "      <th>Votes</th>\n",
       "      <th>Revenue</th>\n",
       "      <th>Metascore</th>\n",
       "    </tr>\n",
       "  </thead>\n",
       "  <tbody>\n",
       "    <tr>\n",
       "      <th>239</th>\n",
       "      <td>The Host: 2013</td>\n",
       "      <td>Action,Adventure,Romance</td>\n",
       "      <td>When an unseen enemy threatens mankind by taki...</td>\n",
       "      <td>Andrew Niccol</td>\n",
       "      <td>Saoirse Ronan, Max Irons, Jake Abel, Diane Kruger</td>\n",
       "      <td>2013</td>\n",
       "      <td>125</td>\n",
       "      <td>5.9</td>\n",
       "      <td>96852</td>\n",
       "      <td>26.62</td>\n",
       "      <td>35.0</td>\n",
       "    </tr>\n",
       "    <tr>\n",
       "      <th>632</th>\n",
       "      <td>The Host: 2006</td>\n",
       "      <td>Comedy,Drama,Horror</td>\n",
       "      <td>A monster emerges from Seoul's Han River and f...</td>\n",
       "      <td>Bong Joon Ho</td>\n",
       "      <td>Kang-ho Song, Hee-Bong Byun, Hae-il Park, Doon...</td>\n",
       "      <td>2006</td>\n",
       "      <td>120</td>\n",
       "      <td>7.0</td>\n",
       "      <td>73491</td>\n",
       "      <td>2.20</td>\n",
       "      <td>85.0</td>\n",
       "    </tr>\n",
       "  </tbody>\n",
       "</table>\n",
       "</div>"
      ],
      "text/plain": [
       "              Title                     Genre  \\\n",
       "239  The Host: 2013  Action,Adventure,Romance   \n",
       "632  The Host: 2006       Comedy,Drama,Horror   \n",
       "\n",
       "                                           Description       Director  \\\n",
       "239  When an unseen enemy threatens mankind by taki...  Andrew Niccol   \n",
       "632  A monster emerges from Seoul's Han River and f...   Bong Joon Ho   \n",
       "\n",
       "                                                Actors  Year  Runtime  Rating  \\\n",
       "239  Saoirse Ronan, Max Irons, Jake Abel, Diane Kruger  2013      125     5.9   \n",
       "632  Kang-ho Song, Hee-Bong Byun, Hae-il Park, Doon...  2006      120     7.0   \n",
       "\n",
       "     Votes  Revenue  Metascore  \n",
       "239  96852    26.62       35.0  \n",
       "632  73491     2.20       85.0  "
      ]
     },
     "execution_count": 100,
     "metadata": {},
     "output_type": "execute_result"
    }
   ],
   "source": [
    "movies.loc[dups.index]"
   ]
  },
  {
   "cell_type": "code",
   "execution_count": 101,
   "metadata": {},
   "outputs": [
    {
     "data": {
      "text/html": [
       "<div>\n",
       "<style scoped>\n",
       "    .dataframe tbody tr th:only-of-type {\n",
       "        vertical-align: middle;\n",
       "    }\n",
       "\n",
       "    .dataframe tbody tr th {\n",
       "        vertical-align: top;\n",
       "    }\n",
       "\n",
       "    .dataframe thead th {\n",
       "        text-align: right;\n",
       "    }\n",
       "</style>\n",
       "<table border=\"1\" class=\"dataframe\">\n",
       "  <thead>\n",
       "    <tr style=\"text-align: right;\">\n",
       "      <th></th>\n",
       "      <th>Title</th>\n",
       "      <th>Genre</th>\n",
       "      <th>Description</th>\n",
       "      <th>Director</th>\n",
       "      <th>Actors</th>\n",
       "      <th>Year</th>\n",
       "      <th>Runtime</th>\n",
       "      <th>Rating</th>\n",
       "      <th>Votes</th>\n",
       "      <th>Revenue</th>\n",
       "      <th>Metascore</th>\n",
       "    </tr>\n",
       "  </thead>\n",
       "  <tbody>\n",
       "  </tbody>\n",
       "</table>\n",
       "</div>"
      ],
      "text/plain": [
       "Empty DataFrame\n",
       "Columns: [Title, Genre, Description, Director, Actors, Year, Runtime, Rating, Votes, Revenue, Metascore]\n",
       "Index: []"
      ]
     },
     "execution_count": 101,
     "metadata": {},
     "output_type": "execute_result"
    }
   ],
   "source": [
    "# verify titles are now unique\n",
    "get_dups(movies, ['Title'])"
   ]
  },
  {
   "cell_type": "code",
   "execution_count": 102,
   "metadata": {},
   "outputs": [
    {
     "data": {
      "text/html": [
       "<div>\n",
       "<style scoped>\n",
       "    .dataframe tbody tr th:only-of-type {\n",
       "        vertical-align: middle;\n",
       "    }\n",
       "\n",
       "    .dataframe tbody tr th {\n",
       "        vertical-align: top;\n",
       "    }\n",
       "\n",
       "    .dataframe thead th {\n",
       "        text-align: right;\n",
       "    }\n",
       "</style>\n",
       "<table border=\"1\" class=\"dataframe\">\n",
       "  <thead>\n",
       "    <tr style=\"text-align: right;\">\n",
       "      <th></th>\n",
       "      <th>Genre</th>\n",
       "      <th>Description</th>\n",
       "      <th>Director</th>\n",
       "      <th>Actors</th>\n",
       "      <th>Year</th>\n",
       "      <th>Runtime</th>\n",
       "      <th>Rating</th>\n",
       "      <th>Votes</th>\n",
       "      <th>Revenue</th>\n",
       "      <th>Metascore</th>\n",
       "    </tr>\n",
       "    <tr>\n",
       "      <th>Title</th>\n",
       "      <th></th>\n",
       "      <th></th>\n",
       "      <th></th>\n",
       "      <th></th>\n",
       "      <th></th>\n",
       "      <th></th>\n",
       "      <th></th>\n",
       "      <th></th>\n",
       "      <th></th>\n",
       "      <th></th>\n",
       "    </tr>\n",
       "  </thead>\n",
       "  <tbody>\n",
       "    <tr>\n",
       "      <th>(500) Days of Summer</th>\n",
       "      <td>Comedy,Drama,Romance</td>\n",
       "      <td>An offbeat romantic comedy about a woman who d...</td>\n",
       "      <td>Marc Webb</td>\n",
       "      <td>Zooey Deschanel, Joseph Gordon-Levitt, Geoffre...</td>\n",
       "      <td>2009</td>\n",
       "      <td>95</td>\n",
       "      <td>7.7</td>\n",
       "      <td>398972</td>\n",
       "      <td>32.39</td>\n",
       "      <td>76.0</td>\n",
       "    </tr>\n",
       "    <tr>\n",
       "      <th>10 Cloverfield Lane</th>\n",
       "      <td>Drama,Horror,Mystery</td>\n",
       "      <td>After getting in a car accident, a woman is he...</td>\n",
       "      <td>Dan Trachtenberg</td>\n",
       "      <td>John Goodman, Mary Elizabeth Winstead, John Ga...</td>\n",
       "      <td>2016</td>\n",
       "      <td>104</td>\n",
       "      <td>7.2</td>\n",
       "      <td>192968</td>\n",
       "      <td>71.90</td>\n",
       "      <td>76.0</td>\n",
       "    </tr>\n",
       "    <tr>\n",
       "      <th>10 Years</th>\n",
       "      <td>Comedy,Drama,Romance</td>\n",
       "      <td>The night before their high school reunion, a ...</td>\n",
       "      <td>Jamie Linden</td>\n",
       "      <td>Channing Tatum, Rosario Dawson, Chris Pratt, J...</td>\n",
       "      <td>2011</td>\n",
       "      <td>100</td>\n",
       "      <td>6.1</td>\n",
       "      <td>19636</td>\n",
       "      <td>0.20</td>\n",
       "      <td>NaN</td>\n",
       "    </tr>\n",
       "  </tbody>\n",
       "</table>\n",
       "</div>"
      ],
      "text/plain": [
       "                                     Genre  \\\n",
       "Title                                        \n",
       "(500) Days of Summer  Comedy,Drama,Romance   \n",
       "10 Cloverfield Lane   Drama,Horror,Mystery   \n",
       "10 Years              Comedy,Drama,Romance   \n",
       "\n",
       "                                                            Description  \\\n",
       "Title                                                                     \n",
       "(500) Days of Summer  An offbeat romantic comedy about a woman who d...   \n",
       "10 Cloverfield Lane   After getting in a car accident, a woman is he...   \n",
       "10 Years              The night before their high school reunion, a ...   \n",
       "\n",
       "                              Director  \\\n",
       "Title                                    \n",
       "(500) Days of Summer         Marc Webb   \n",
       "10 Cloverfield Lane   Dan Trachtenberg   \n",
       "10 Years                  Jamie Linden   \n",
       "\n",
       "                                                                 Actors  Year  \\\n",
       "Title                                                                           \n",
       "(500) Days of Summer  Zooey Deschanel, Joseph Gordon-Levitt, Geoffre...  2009   \n",
       "10 Cloverfield Lane   John Goodman, Mary Elizabeth Winstead, John Ga...  2016   \n",
       "10 Years              Channing Tatum, Rosario Dawson, Chris Pratt, J...  2011   \n",
       "\n",
       "                      Runtime  Rating   Votes  Revenue  Metascore  \n",
       "Title                                                              \n",
       "(500) Days of Summer       95     7.7  398972    32.39       76.0  \n",
       "10 Cloverfield Lane       104     7.2  192968    71.90       76.0  \n",
       "10 Years                  100     6.1   19636     0.20        NaN  "
      ]
     },
     "execution_count": 102,
     "metadata": {},
     "output_type": "execute_result"
    }
   ],
   "source": [
    "# set the index to Title and sort it\n",
    "movies = movies.set_index('Title', drop=True)\n",
    "movies = movies.sort_index()\n",
    "movies.head(3)"
   ]
  },
  {
   "cell_type": "markdown",
   "metadata": {},
   "source": [
    "## Persist DataFrame\n",
    "\n",
    "There are several options.  The best option depends upon which criteria is most important for your application.  Some criteria:\n",
    "* time used to read/write\n",
    "* memory used to read/write\n",
    "* space used by persited object\n",
    "* use by other applications\n",
    "* whether indexes, categorical variables, etc. are saved when persisted\n",
    "* security\n",
    "* size of data\n",
    "\n",
    "For a very small dataframe such as movies, I would argue there are only two concerns:\n",
    "* security (if published publicly)\n",
    "* keeping indexes, categorical variables, etc.\n",
    "\n",
    "Pickle is the easiest, but it is a security concern.  In theory, a github account could be compromised and a valid .pickle file replaced with one that executes code upon being loaded.\n",
    "\n",
    "hdf5 has a lot of overhead for files smaller than 1 or 2 GB.  The movies dataframe is much less than that, but hdf5 is easy to use, secure, and maintains indexes, categorical variables, etc.  The .h5 file for this small dataset is larger than the original csv, but it is under 2 MB."
   ]
  },
  {
   "cell_type": "code",
   "execution_count": 103,
   "metadata": {},
   "outputs": [],
   "source": [
    "# for convenience and security, use hdf5\n",
    "movies.to_hdf('../data/movies.h5', key='movies', mode='w')"
   ]
  },
  {
   "cell_type": "markdown",
   "metadata": {
    "toc-hr-collapsed": true
   },
   "source": [
    "## Simple Data Queries"
   ]
  },
  {
   "cell_type": "markdown",
   "metadata": {},
   "source": [
    "### Find Longest and Shortest Runtimes"
   ]
  },
  {
   "cell_type": "code",
   "execution_count": 19,
   "metadata": {},
   "outputs": [
    {
     "name": "stdout",
     "output_type": "stream",
     "text": [
      "Shortest Runtime:  66 minutes\n",
      "Longest Runtime:  191 minutes\n"
     ]
    }
   ],
   "source": [
    "runtime_min = movies['Runtime'].min()\n",
    "runtime_max = movies['Runtime'].max()\n",
    "print(f\"Shortest Runtime: {runtime_min:>3} minutes\")\n",
    "print(f\"Longest Runtime:  {runtime_max:>3} minutes\")"
   ]
  },
  {
   "cell_type": "markdown",
   "metadata": {},
   "source": [
    "### Find Stats about a Numeric Column"
   ]
  },
  {
   "cell_type": "code",
   "execution_count": 20,
   "metadata": {},
   "outputs": [
    {
     "data": {
      "text/plain": [
       "count    1000.000000\n",
       "mean      113.172000\n",
       "std        18.810908\n",
       "min        66.000000\n",
       "25%       100.000000\n",
       "50%       111.000000\n",
       "75%       123.000000\n",
       "max       191.000000\n",
       "Name: Runtime, dtype: float64"
      ]
     },
     "execution_count": 20,
     "metadata": {},
     "output_type": "execute_result"
    }
   ],
   "source": [
    "# find stats about Runtime\n",
    "movies['Runtime'].describe()"
   ]
  },
  {
   "cell_type": "code",
   "execution_count": 21,
   "metadata": {},
   "outputs": [
    {
     "name": "stdout",
     "output_type": "stream",
     "text": [
      "66.0 191.0\n"
     ]
    }
   ],
   "source": [
    "# get the min and max directly from the Series produced by describe\n",
    "stats = movies['Runtime'].describe()\n",
    "print(stats['min'], stats['max'])"
   ]
  },
  {
   "cell_type": "markdown",
   "metadata": {},
   "source": [
    "### Using sum() and mean() with Boolean Series\n",
    "True is 1, False is 0  \n",
    "sum() counts the number of True values  \n",
    "mean() computes the fraction of True values  "
   ]
  },
  {
   "cell_type": "markdown",
   "metadata": {},
   "source": [
    "### Find Percent of Movies longer than 75th Runtime Percentile"
   ]
  },
  {
   "cell_type": "code",
   "execution_count": 22,
   "metadata": {},
   "outputs": [
    {
     "name": "stdout",
     "output_type": "stream",
     "text": [
      "24.6 percent of movies are longer than the 75th percentile.\n"
     ]
    }
   ],
   "source": [
    "long_movies_frac = (movies['Runtime'] > stats['75%']).mean()\n",
    "\n",
    "print(f\"{long_movies_frac*100:4.1f} percent of movies are longer than the 75th percentile.\")"
   ]
  },
  {
   "cell_type": "markdown",
   "metadata": {},
   "source": [
    "The result is not exactly 25% due to ties in the length of movies.  Movie length is recorded to the nearest minute, and this rounding creates ties.  Had movie length been recorded to the nearest nanosecond, its unlikely there would have been any ties."
   ]
  },
  {
   "cell_type": "markdown",
   "metadata": {},
   "source": [
    "### Display Movie with Highest Rating"
   ]
  },
  {
   "cell_type": "code",
   "execution_count": 23,
   "metadata": {},
   "outputs": [
    {
     "data": {
      "text/html": [
       "<div>\n",
       "<style scoped>\n",
       "    .dataframe tbody tr th:only-of-type {\n",
       "        vertical-align: middle;\n",
       "    }\n",
       "\n",
       "    .dataframe tbody tr th {\n",
       "        vertical-align: top;\n",
       "    }\n",
       "\n",
       "    .dataframe thead th {\n",
       "        text-align: right;\n",
       "    }\n",
       "</style>\n",
       "<table border=\"1\" class=\"dataframe\">\n",
       "  <thead>\n",
       "    <tr style=\"text-align: right;\">\n",
       "      <th></th>\n",
       "      <th>ID</th>\n",
       "      <th>Genre</th>\n",
       "      <th>Description</th>\n",
       "      <th>Director</th>\n",
       "      <th>Actors</th>\n",
       "      <th>Year</th>\n",
       "      <th>Runtime</th>\n",
       "      <th>Rating</th>\n",
       "      <th>Votes</th>\n",
       "      <th>Revenue</th>\n",
       "      <th>Metascore</th>\n",
       "    </tr>\n",
       "    <tr>\n",
       "      <th>Title</th>\n",
       "      <th></th>\n",
       "      <th></th>\n",
       "      <th></th>\n",
       "      <th></th>\n",
       "      <th></th>\n",
       "      <th></th>\n",
       "      <th></th>\n",
       "      <th></th>\n",
       "      <th></th>\n",
       "      <th></th>\n",
       "      <th></th>\n",
       "    </tr>\n",
       "  </thead>\n",
       "  <tbody>\n",
       "    <tr>\n",
       "      <th>The Dark Knight</th>\n",
       "      <td>55</td>\n",
       "      <td>Action,Crime,Drama</td>\n",
       "      <td>When the menace known as the Joker wreaks havo...</td>\n",
       "      <td>Christopher Nolan</td>\n",
       "      <td>Christian Bale, Heath Ledger, Aaron Eckhart,Mi...</td>\n",
       "      <td>2008</td>\n",
       "      <td>152</td>\n",
       "      <td>9.0</td>\n",
       "      <td>1791916</td>\n",
       "      <td>533.32</td>\n",
       "      <td>82.0</td>\n",
       "    </tr>\n",
       "  </tbody>\n",
       "</table>\n",
       "</div>"
      ],
      "text/plain": [
       "                 ID               Genre  \\\n",
       "Title                                     \n",
       "The Dark Knight  55  Action,Crime,Drama   \n",
       "\n",
       "                                                       Description  \\\n",
       "Title                                                                \n",
       "The Dark Knight  When the menace known as the Joker wreaks havo...   \n",
       "\n",
       "                          Director  \\\n",
       "Title                                \n",
       "The Dark Knight  Christopher Nolan   \n",
       "\n",
       "                                                            Actors  Year  \\\n",
       "Title                                                                      \n",
       "The Dark Knight  Christian Bale, Heath Ledger, Aaron Eckhart,Mi...  2008   \n",
       "\n",
       "                 Runtime  Rating    Votes  Revenue  Metascore  \n",
       "Title                                                          \n",
       "The Dark Knight      152     9.0  1791916   533.32       82.0  "
      ]
     },
     "execution_count": 23,
     "metadata": {},
     "output_type": "execute_result"
    }
   ],
   "source": [
    "criteria = (movies['Rating'].max() == movies['Rating'])\n",
    "movies[criteria]"
   ]
  },
  {
   "cell_type": "markdown",
   "metadata": {
    "toc-hr-collapsed": true
   },
   "source": [
    "## Pandas and Python Data Types\n",
    "\n",
    "**Python**\n",
    "\n",
    "1. Python uses \"duck typing\", one consequence of which is that the type of a variable is rarely checked in code.\n",
    "2. It is now recommended practice in Python to use \"type hints\".\n",
    "\n",
    "At first glance, the above two statements appear contradictory, but they are not.  In the first case, the \"consumer\" of the code is the Python interpreter.  In the second case the \"consumer\" of the code is the developer who must read and maintain the code.\n",
    "\n",
    "Although \"type hints\" will not be discussed here, the take-away is that it is helpful to the developer to understand the type of a variable, even though it is usually not necessary to write application code that checks for the type of a variable.\n",
    "\n",
    "**Data Analysis**\n",
    "\n",
    "A similar situation arises in analyzing data.  Although writing application code for data analysis rarely requires checking the type of a Series, understanding the type of a Series is helpful to both exploratory data analysis and to writing good code.\n",
    "\n",
    "Understanding the type of a Series allows for:\n",
    "1. a better understanding of what that variable means to the application\n",
    "2. understanding what happens when a Series contains a \"null\" value\n",
    "3. understanding what happens when a Series uses \"object\" to represent stings\n",
    "4. understanding how to minimize the amount of memory required by a DataFrame."
   ]
  },
  {
   "cell_type": "markdown",
   "metadata": {},
   "source": [
    "### Unknown or Null Values\n",
    "In data analysis every variable can have a value that is either: \"known\" or \"unknown\".  \n",
    "\n",
    "Another name for \"unknown\" is \"null\".\n",
    "\n",
    "In Pandas and Numpy, \"np.nan\" is used to represent \"unknown\" or \"null\".\n",
    "\n",
    "Example: a person is asked a yes/no question and refuses to answer; the answer is \"unknown\"."
   ]
  },
  {
   "cell_type": "code",
   "execution_count": 24,
   "metadata": {},
   "outputs": [
    {
     "data": {
      "text/plain": [
       "True"
      ]
     },
     "execution_count": 24,
     "metadata": {},
     "output_type": "execute_result"
    }
   ],
   "source": [
    "# np.nan can be written in two different ways\n",
    "np.nan is np.NaN"
   ]
  },
  {
   "cell_type": "code",
   "execution_count": 25,
   "metadata": {},
   "outputs": [],
   "source": [
    "# convenience function\n",
    "def print_and_eval(s):\n",
    "    print(f'{s:<16}  {eval(s)}')"
   ]
  },
  {
   "cell_type": "code",
   "execution_count": 26,
   "metadata": {},
   "outputs": [
    {
     "name": "stdout",
     "output_type": "stream",
     "text": [
      "3 < np.nan        False\n",
      "3 > np.nan        False\n",
      "np.nan == np.nan  False\n",
      "\n",
      "3 != np.nan       True\n",
      "np.nan != np.nan  True\n",
      "\n",
      "np.isnan(np.nan)  True\n"
     ]
    }
   ],
   "source": [
    "# comparison with nan\n",
    "\n",
    "print_and_eval('3 < np.nan')\n",
    "print_and_eval('3 > np.nan')\n",
    "print_and_eval('np.nan == np.nan')\n",
    "print()\n",
    "print_and_eval('3 != np.nan')\n",
    "print_and_eval('np.nan != np.nan')\n",
    "print()\n",
    "print_and_eval('np.isnan(np.nan)')"
   ]
  },
  {
   "cell_type": "code",
   "execution_count": 27,
   "metadata": {},
   "outputs": [
    {
     "data": {
      "text/plain": [
       "float"
      ]
     },
     "execution_count": 27,
     "metadata": {},
     "output_type": "execute_result"
    }
   ],
   "source": [
    "# the data type of np.nan is float\n",
    "type(np.nan)"
   ]
  },
  {
   "cell_type": "markdown",
   "metadata": {
    "toc-hr-collapsed": true
   },
   "source": [
    "### Series have a Single Data Type\n",
    "A Series is implemented as a numpy array with all values having the same data type.\n",
    "\n",
    "As everything is a subclass of \"object\", a Series of type \"object\" can hold values of any data type."
   ]
  },
  {
   "cell_type": "code",
   "execution_count": 28,
   "metadata": {},
   "outputs": [
    {
     "data": {
      "text/plain": [
       "dtype('int64')"
      ]
     },
     "execution_count": 28,
     "metadata": {},
     "output_type": "execute_result"
    }
   ],
   "source": [
    "# When the Series constructor is given a Python list of integers,\n",
    "# the default type of Series will be int64\n",
    "s = pd.Series([1, -2, 3])\n",
    "s.dtype"
   ]
  },
  {
   "cell_type": "code",
   "execution_count": 29,
   "metadata": {},
   "outputs": [
    {
     "name": "stdout",
     "output_type": "stream",
     "text": [
      "Trying to coerce negative values to unsigned integers\n"
     ]
    }
   ],
   "source": [
    "# It is possible to specify the datatype,\n",
    "# but the data must conform to the specification\n",
    "try:\n",
    "    s = pd.Series([1, -2, 3], dtype='uint8')\n",
    "    print(s.dtype)\n",
    "except OverflowError as err:\n",
    "    print(err)"
   ]
  },
  {
   "cell_type": "code",
   "execution_count": 30,
   "metadata": {},
   "outputs": [
    {
     "name": "stdout",
     "output_type": "stream",
     "text": [
      "int64\n",
      "int8\n"
     ]
    }
   ],
   "source": [
    "# For the purpose of minimizing memory, it is possible to let Pandas\n",
    "# find the smallest datatype than can hold the given data\n",
    "s = pd.Series([1, -2, 3])\n",
    "print(s.dtype)\n",
    "s2 = pd.to_numeric(s, downcast='integer')\n",
    "print(s2.dtype)"
   ]
  },
  {
   "cell_type": "markdown",
   "metadata": {},
   "source": [
    "### Distinction between Series.equal and **==**\n",
    "\n",
    "Two series are not \"equal\", if their datatypes differ.  However, as with numpy, if two numeric values are the same, they compare equal regardless of their datatype."
   ]
  },
  {
   "cell_type": "code",
   "execution_count": 31,
   "metadata": {},
   "outputs": [
    {
     "data": {
      "text/plain": [
       "False"
      ]
     },
     "execution_count": 31,
     "metadata": {},
     "output_type": "execute_result"
    }
   ],
   "source": [
    "s.equals(s2)"
   ]
  },
  {
   "cell_type": "code",
   "execution_count": 32,
   "metadata": {},
   "outputs": [
    {
     "data": {
      "text/plain": [
       "True"
      ]
     },
     "execution_count": 32,
     "metadata": {},
     "output_type": "execute_result"
    }
   ],
   "source": [
    "(s == s2).all()"
   ]
  },
  {
   "cell_type": "markdown",
   "metadata": {},
   "source": [
    "### isclose()\n",
    "Series values of type float generally should not be compared with ==, but with either np.isclose() or math.isclose(), to account for the limited precision of the float data type.\n",
    "\n",
    "For a more in depth discussion of this issue, see my notebook: \"Core Python 1\"."
   ]
  },
  {
   "cell_type": "code",
   "execution_count": 33,
   "metadata": {},
   "outputs": [
    {
     "data": {
      "text/plain": [
       "False"
      ]
     },
     "execution_count": 33,
     "metadata": {},
     "output_type": "execute_result"
    }
   ],
   "source": [
    "a = 1.1\n",
    "b = 2.2\n",
    "a + b == 3.3"
   ]
  },
  {
   "cell_type": "code",
   "execution_count": 34,
   "metadata": {},
   "outputs": [
    {
     "data": {
      "text/plain": [
       "True"
      ]
     },
     "execution_count": 34,
     "metadata": {},
     "output_type": "execute_result"
    }
   ],
   "source": [
    "np.isclose(a+b, 3.3)"
   ]
  },
  {
   "cell_type": "markdown",
   "metadata": {
    "toc-hr-collapsed": true
   },
   "source": [
    "### A Series having Unknown Values\n",
    "\n",
    "If any of the values in a Series are unknown, then the type of that series must be float or object in order to hold the np.nan value."
   ]
  },
  {
   "cell_type": "code",
   "execution_count": 35,
   "metadata": {},
   "outputs": [
    {
     "data": {
      "text/plain": [
       "0    1\n",
       "1    2\n",
       "2    3\n",
       "dtype: int64"
      ]
     },
     "execution_count": 35,
     "metadata": {},
     "output_type": "execute_result"
    }
   ],
   "source": [
    "pd.Series([1, 2, 3], dtype=np.integer)"
   ]
  },
  {
   "cell_type": "code",
   "execution_count": 36,
   "metadata": {},
   "outputs": [
    {
     "name": "stdout",
     "output_type": "stream",
     "text": [
      "cannot convert float NaN to integer\n"
     ]
    }
   ],
   "source": [
    "try:\n",
    "    pd.Series([1, 2, 3, np.nan], dtype=np.integer)\n",
    "except ValueError as err:\n",
    "    print(err)"
   ]
  },
  {
   "cell_type": "code",
   "execution_count": 37,
   "metadata": {},
   "outputs": [
    {
     "data": {
      "text/plain": [
       "0    1.0\n",
       "1    2.0\n",
       "2    3.0\n",
       "3    NaN\n",
       "dtype: float64"
      ]
     },
     "execution_count": 37,
     "metadata": {},
     "output_type": "execute_result"
    }
   ],
   "source": [
    "pd.Series([1, 2, 3, np.nan], dtype=np.float)"
   ]
  },
  {
   "cell_type": "code",
   "execution_count": 38,
   "metadata": {},
   "outputs": [
    {
     "data": {
      "text/plain": [
       "0      1\n",
       "1      2\n",
       "2      3\n",
       "3    NaN\n",
       "dtype: object"
      ]
     },
     "execution_count": 38,
     "metadata": {},
     "output_type": "execute_result"
    }
   ],
   "source": [
    "pd.Series([1, 2, 3, np.nan], dtype=np.object)"
   ]
  },
  {
   "cell_type": "markdown",
   "metadata": {},
   "source": [
    "### Datatype: Object\n",
    "The only way a Series can hold different datatypes is to use 'object'.  All datatypes are a subclass of object, so this works.\n",
    "\n",
    "The only way a Series can hold a string is to use 'object'.  In practice, a column of type 'object' is almost always a column of strings, rather than a column of different datatypes.\n",
    "\n",
    "If there are a small number of unique string values, the column datatype should be converted to category, both to reduce memory and to clarify the meaning of that variable."
   ]
  },
  {
   "cell_type": "code",
   "execution_count": 39,
   "metadata": {},
   "outputs": [
    {
     "data": {
      "text/plain": [
       "dtype('O')"
      ]
     },
     "execution_count": 39,
     "metadata": {},
     "output_type": "execute_result"
    }
   ],
   "source": [
    "# different datatypes, defult to Object to hold them\n",
    "s = pd.Series([{\"one\":1}, [2, 3], (3,4), 5])\n",
    "s.dtype"
   ]
  },
  {
   "cell_type": "code",
   "execution_count": 40,
   "metadata": {},
   "outputs": [
    {
     "data": {
      "text/plain": [
       "dtype('O')"
      ]
     },
     "execution_count": 40,
     "metadata": {},
     "output_type": "execute_result"
    }
   ],
   "source": [
    "# same datatype, but strings must be held as objects\n",
    "s = pd.Series(['one', 'two'])\n",
    "s.dtype"
   ]
  },
  {
   "cell_type": "code",
   "execution_count": 41,
   "metadata": {},
   "outputs": [
    {
     "data": {
      "text/plain": [
       "2"
      ]
     },
     "execution_count": 41,
     "metadata": {},
     "output_type": "execute_result"
    }
   ],
   "source": [
    "# only two unique values, this is better represented as a category\n",
    "s.nunique()"
   ]
  },
  {
   "cell_type": "code",
   "execution_count": 42,
   "metadata": {},
   "outputs": [
    {
     "data": {
      "text/plain": [
       "0    one\n",
       "1    two\n",
       "dtype: category\n",
       "Categories (2, object): [one, two]"
      ]
     },
     "execution_count": 42,
     "metadata": {},
     "output_type": "execute_result"
    }
   ],
   "source": [
    "# a category is like a factor in R, or an enumerated datatype in other languages\n",
    "s = s.astype('category')\n",
    "s"
   ]
  },
  {
   "cell_type": "markdown",
   "metadata": {},
   "source": [
    "### View vs Copy\n",
    "\n",
    "A view of a dataframe, is a reference into the dataframe.  If the view is changed, the dataframe is changed.\n",
    "\n",
    "With a copy of a dataframe, if the copy is changed, the original dataframe remains unchanged.\n",
    "\n",
    "If \"is\" returns True, then the varible must be a view.  However if \"is\" returns False, the variable may or may not be a view, as it may have different metadata and yet still make reference to the same underlying object in memory."
   ]
  },
  {
   "cell_type": "markdown",
   "metadata": {
    "toc-hr-collapsed": true
   },
   "source": [
    "### Handling Null Values"
   ]
  },
  {
   "cell_type": "code",
   "execution_count": 43,
   "metadata": {},
   "outputs": [
    {
     "data": {
      "text/plain": [
       "True"
      ]
     },
     "execution_count": 43,
     "metadata": {},
     "output_type": "execute_result"
    }
   ],
   "source": [
    "# df[column] is a view into the DataFrame, not a copy\n",
    "metascore = movies['Metascore']\n",
    "metascore is movies['Metascore']"
   ]
  },
  {
   "cell_type": "code",
   "execution_count": 44,
   "metadata": {},
   "outputs": [
    {
     "data": {
      "text/plain": [
       "936"
      ]
     },
     "execution_count": 44,
     "metadata": {},
     "output_type": "execute_result"
    }
   ],
   "source": [
    "# number of known values\n",
    "metascore.count()"
   ]
  },
  {
   "cell_type": "code",
   "execution_count": 45,
   "metadata": {},
   "outputs": [
    {
     "data": {
      "text/plain": [
       "64"
      ]
     },
     "execution_count": 45,
     "metadata": {},
     "output_type": "execute_result"
    }
   ],
   "source": [
    "# number of unknown values\n",
    "metascore.isna().sum()"
   ]
  },
  {
   "cell_type": "code",
   "execution_count": 46,
   "metadata": {},
   "outputs": [
    {
     "data": {
      "text/plain": [
       "55210.0"
      ]
     },
     "execution_count": 46,
     "metadata": {},
     "output_type": "execute_result"
    }
   ],
   "source": [
    "# sum of known values (ignores np.nan by default)\n",
    "metascore.sum()"
   ]
  },
  {
   "cell_type": "code",
   "execution_count": 47,
   "metadata": {},
   "outputs": [
    {
     "data": {
      "text/plain": [
       "nan"
      ]
     },
     "execution_count": 47,
     "metadata": {},
     "output_type": "execute_result"
    }
   ],
   "source": [
    "# sum of known values, without ignoring nan\n",
    "metascore.sum(skipna=False)"
   ]
  },
  {
   "cell_type": "code",
   "execution_count": 48,
   "metadata": {},
   "outputs": [
    {
     "data": {
      "text/plain": [
       "58.98504273504273"
      ]
     },
     "execution_count": 48,
     "metadata": {},
     "output_type": "execute_result"
    }
   ],
   "source": [
    "# compute the average of the known values\n",
    "metascore.sum() / metascore.count()"
   ]
  },
  {
   "cell_type": "code",
   "execution_count": 49,
   "metadata": {},
   "outputs": [
    {
     "data": {
      "text/plain": [
       "58.98504273504273"
      ]
     },
     "execution_count": 49,
     "metadata": {},
     "output_type": "execute_result"
    }
   ],
   "source": [
    "# compute the average of the known values\n",
    "metascore.mean()"
   ]
  },
  {
   "cell_type": "code",
   "execution_count": 50,
   "metadata": {},
   "outputs": [],
   "source": [
    "# When using Machine Learning algorithms, it can be helpful impute a missing value rather than \n",
    "# use null.  Sometimes a good imputed value is to use the mean.\n",
    "metascore = metascore.fillna(value=metascore.mean())"
   ]
  },
  {
   "cell_type": "code",
   "execution_count": 51,
   "metadata": {},
   "outputs": [
    {
     "data": {
      "text/plain": [
       "1000"
      ]
     },
     "execution_count": 51,
     "metadata": {},
     "output_type": "execute_result"
    }
   ],
   "source": [
    "# number of known values\n",
    "metascore.count()"
   ]
  },
  {
   "cell_type": "code",
   "execution_count": 52,
   "metadata": {},
   "outputs": [
    {
     "data": {
      "text/plain": [
       "58.985042735042654"
      ]
     },
     "execution_count": 52,
     "metadata": {},
     "output_type": "execute_result"
    }
   ],
   "source": [
    "# one reason for imputing with the mean value is that it does not change the overall mean\n",
    "# of the column\n",
    "metascore.mean()"
   ]
  },
  {
   "cell_type": "markdown",
   "metadata": {},
   "source": [
    "Movie Ratings"
   ]
  },
  {
   "cell_type": "markdown",
   "metadata": {},
   "source": [
    "### Comparing Series of type float with ==\n",
    "\n",
    "If the value you are comparing against was computed using floating point arithmetic, it may no longer be exact."
   ]
  },
  {
   "cell_type": "code",
   "execution_count": 53,
   "metadata": {},
   "outputs": [
    {
     "data": {
      "text/plain": [
       "Title\n",
       "The Dark Knight    9.0\n",
       "Dangal             8.8\n",
       "Inception          8.8\n",
       "Interstellar       8.6\n",
       "Kimi no na wa      8.6\n",
       "Name: Rating, dtype: float64"
      ]
     },
     "execution_count": 53,
     "metadata": {},
     "output_type": "execute_result"
    }
   ],
   "source": [
    "movies['Rating'].nlargest(n=5)"
   ]
  },
  {
   "cell_type": "code",
   "execution_count": 54,
   "metadata": {},
   "outputs": [
    {
     "data": {
      "text/html": [
       "<div>\n",
       "<style scoped>\n",
       "    .dataframe tbody tr th:only-of-type {\n",
       "        vertical-align: middle;\n",
       "    }\n",
       "\n",
       "    .dataframe tbody tr th {\n",
       "        vertical-align: top;\n",
       "    }\n",
       "\n",
       "    .dataframe thead th {\n",
       "        text-align: right;\n",
       "    }\n",
       "</style>\n",
       "<table border=\"1\" class=\"dataframe\">\n",
       "  <thead>\n",
       "    <tr style=\"text-align: right;\">\n",
       "      <th></th>\n",
       "      <th>ID</th>\n",
       "      <th>Genre</th>\n",
       "      <th>Description</th>\n",
       "      <th>Director</th>\n",
       "      <th>Actors</th>\n",
       "      <th>Year</th>\n",
       "      <th>Runtime</th>\n",
       "      <th>Rating</th>\n",
       "      <th>Votes</th>\n",
       "      <th>Revenue</th>\n",
       "      <th>Metascore</th>\n",
       "    </tr>\n",
       "    <tr>\n",
       "      <th>Title</th>\n",
       "      <th></th>\n",
       "      <th></th>\n",
       "      <th></th>\n",
       "      <th></th>\n",
       "      <th></th>\n",
       "      <th></th>\n",
       "      <th></th>\n",
       "      <th></th>\n",
       "      <th></th>\n",
       "      <th></th>\n",
       "      <th></th>\n",
       "    </tr>\n",
       "  </thead>\n",
       "  <tbody>\n",
       "  </tbody>\n",
       "</table>\n",
       "</div>"
      ],
      "text/plain": [
       "Empty DataFrame\n",
       "Columns: [ID, Genre, Description, Director, Actors, Year, Runtime, Rating, Votes, Revenue, Metascore]\n",
       "Index: []"
      ]
     },
     "execution_count": 54,
     "metadata": {},
     "output_type": "execute_result"
    }
   ],
   "source": [
    "# find all movies with rating = 8.5 + 0.1 + 0.1 + 0.1\n",
    "# there are no movies!\n",
    "movies[movies['Rating'] == 8.5 + 0.1 + 0.1 + 0.1]"
   ]
  },
  {
   "cell_type": "code",
   "execution_count": 55,
   "metadata": {},
   "outputs": [
    {
     "data": {
      "text/html": [
       "<div>\n",
       "<style scoped>\n",
       "    .dataframe tbody tr th:only-of-type {\n",
       "        vertical-align: middle;\n",
       "    }\n",
       "\n",
       "    .dataframe tbody tr th {\n",
       "        vertical-align: top;\n",
       "    }\n",
       "\n",
       "    .dataframe thead th {\n",
       "        text-align: right;\n",
       "    }\n",
       "</style>\n",
       "<table border=\"1\" class=\"dataframe\">\n",
       "  <thead>\n",
       "    <tr style=\"text-align: right;\">\n",
       "      <th></th>\n",
       "      <th>ID</th>\n",
       "      <th>Genre</th>\n",
       "      <th>Description</th>\n",
       "      <th>Director</th>\n",
       "      <th>Actors</th>\n",
       "      <th>Year</th>\n",
       "      <th>Runtime</th>\n",
       "      <th>Rating</th>\n",
       "      <th>Votes</th>\n",
       "      <th>Revenue</th>\n",
       "      <th>Metascore</th>\n",
       "    </tr>\n",
       "    <tr>\n",
       "      <th>Title</th>\n",
       "      <th></th>\n",
       "      <th></th>\n",
       "      <th></th>\n",
       "      <th></th>\n",
       "      <th></th>\n",
       "      <th></th>\n",
       "      <th></th>\n",
       "      <th></th>\n",
       "      <th></th>\n",
       "      <th></th>\n",
       "      <th></th>\n",
       "    </tr>\n",
       "  </thead>\n",
       "  <tbody>\n",
       "    <tr>\n",
       "      <th>Dangal</th>\n",
       "      <td>118</td>\n",
       "      <td>Action,Biography,Drama</td>\n",
       "      <td>Former wrestler Mahavir Singh Phogat and his t...</td>\n",
       "      <td>Nitesh Tiwari</td>\n",
       "      <td>Aamir Khan, Sakshi Tanwar, Fatima Sana Shaikh,...</td>\n",
       "      <td>2016</td>\n",
       "      <td>161</td>\n",
       "      <td>8.8</td>\n",
       "      <td>48969</td>\n",
       "      <td>11.15</td>\n",
       "      <td>NaN</td>\n",
       "    </tr>\n",
       "    <tr>\n",
       "      <th>Inception</th>\n",
       "      <td>81</td>\n",
       "      <td>Action,Adventure,Sci-Fi</td>\n",
       "      <td>A thief, who steals corporate secrets through ...</td>\n",
       "      <td>Christopher Nolan</td>\n",
       "      <td>Leonardo DiCaprio, Joseph Gordon-Levitt, Ellen...</td>\n",
       "      <td>2010</td>\n",
       "      <td>148</td>\n",
       "      <td>8.8</td>\n",
       "      <td>1583625</td>\n",
       "      <td>292.57</td>\n",
       "      <td>74.0</td>\n",
       "    </tr>\n",
       "  </tbody>\n",
       "</table>\n",
       "</div>"
      ],
      "text/plain": [
       "            ID                    Genre  \\\n",
       "Title                                     \n",
       "Dangal     118   Action,Biography,Drama   \n",
       "Inception   81  Action,Adventure,Sci-Fi   \n",
       "\n",
       "                                                 Description  \\\n",
       "Title                                                          \n",
       "Dangal     Former wrestler Mahavir Singh Phogat and his t...   \n",
       "Inception  A thief, who steals corporate secrets through ...   \n",
       "\n",
       "                    Director  \\\n",
       "Title                          \n",
       "Dangal         Nitesh Tiwari   \n",
       "Inception  Christopher Nolan   \n",
       "\n",
       "                                                      Actors  Year  Runtime  \\\n",
       "Title                                                                         \n",
       "Dangal     Aamir Khan, Sakshi Tanwar, Fatima Sana Shaikh,...  2016      161   \n",
       "Inception  Leonardo DiCaprio, Joseph Gordon-Levitt, Ellen...  2010      148   \n",
       "\n",
       "           Rating    Votes  Revenue  Metascore  \n",
       "Title                                           \n",
       "Dangal        8.8    48969    11.15        NaN  \n",
       "Inception     8.8  1583625   292.57       74.0  "
      ]
     },
     "execution_count": 55,
     "metadata": {},
     "output_type": "execute_result"
    }
   ],
   "source": [
    "# this gives the expected result\n",
    "movies[np.isclose(movies['Rating'], 8.5 + 0.1 + 0.1 + 0.1)]"
   ]
  }
 ],
 "metadata": {
  "kernelspec": {
   "display_name": "Python 3",
   "language": "python",
   "name": "python3"
  },
  "language_info": {
   "codemirror_mode": {
    "name": "ipython",
    "version": 3
   },
   "file_extension": ".py",
   "mimetype": "text/x-python",
   "name": "python",
   "nbconvert_exporter": "python",
   "pygments_lexer": "ipython3",
   "version": "3.7.2"
  }
 },
 "nbformat": 4,
 "nbformat_minor": 2
}
