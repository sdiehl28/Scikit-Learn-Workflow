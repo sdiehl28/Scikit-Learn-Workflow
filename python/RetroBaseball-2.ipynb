{
 "cells": [
  {
   "cell_type": "markdown",
   "metadata": {
    "toc-hr-collapsed": false
   },
   "source": [
    "# Retrosheet Baseball Data -- Part 2\n",
    "\n",
    "Baseball Notebooks\n",
    "1. **LahmanBaseball**: the Lahman data will be downloaded and parsed.\n",
    "2. **RetroBaseball-1**: the Retrosheet Play-by-Play data will be downloaded, parsed and saved to compressed csv files\n",
    "3. **RetroBaseball-2**: the data will be prepared (wranged) for analysis and saved to compressed csv files\n",
    "4. **RetroBaseball-3**: the wangled will be saved to Postgres\n",
    "5. **BaseballAnalysis-1**: the baseball data will be analyzed.\n",
    "\n",
    "This notebook is designed to be used with Jupyter Lab and the Table of Contents extension.  \n",
    "https://github.com/jupyterlab/jupyterlab-toc"
   ]
  },
  {
   "cell_type": "markdown",
   "metadata": {},
   "source": [
    "## Data Wrangling\n",
    "\n",
    "The Retrosheet event data includes every play for every major league game since 1921. \n",
    "A subset of that data will be used here.\n",
    "\n",
    "Retrosheet Data Wrangling will include:\n",
    "1. Manipulating player per game data.\n",
    "2. Manipulating game data.\n",
    "3. Creating \"lookup tables\" by web scraping.\n",
    "4. Creating data dictionaries (aka codebooks) by \"scraping\" Dr. Turocy's C source code.\n",
    "\n",
    "At the end of the data wrangling, 6 DataFrames will exist.\n",
    "1. **player_game:** stats per player per game\n",
    "2. **player_game_fields:** stats per player per game field descriptions\n",
    "3. **game:** stats per game\n",
    "4. **game_fields:** stats per game field descriptions\n",
    "5. **players:** player info\n",
    "6. **parks:** stadium info\n",
    "\n",
    "The above 6 dataframes will be persisted to both gzipped csv files.\n",
    "\n",
    "The two data dictionary dataframes, player_game_fields and game_fields are optional."
   ]
  },
  {
   "cell_type": "markdown",
   "metadata": {
    "toc-hr-collapsed": true
   },
   "source": [
    "## Repeatable Research\n",
    "All data processing should be documented so that others can repeat the results.  This includes every step from downloading the data through analysis."
   ]
  },
  {
   "cell_type": "markdown",
   "metadata": {},
   "source": [
    "### Directories for Data Processing\n",
    "\n",
    "* ~/data/retrosheet/raw -- event files downloaded from Retrosheet\n",
    "* ~/data/retrosheet/parsed -- results of running 2 parsers on the event files\n",
    "* ~/data/retrosheet/df_csv -- collect the parsed files into dataframes and save these to csv\n",
    "* ~/data/retrosheet/wrangled -- prepare the data for analsyis and save to csv\n",
    "* ~/data/retrosheet/src -- optional directory to hold parser source code"
   ]
  },
  {
   "cell_type": "code",
   "execution_count": 92,
   "metadata": {},
   "outputs": [],
   "source": [
    "import pandas as pd\n",
    "import numpy as np\n",
    "import os\n",
    "import re\n",
    "from pathlib import Path"
   ]
  },
  {
   "cell_type": "code",
   "execution_count": 93,
   "metadata": {},
   "outputs": [],
   "source": [
    "# create path objects -- these directories were created in a previous notebook\n",
    "home = Path.home()\n",
    "retrosheet = home.joinpath('data/retrosheet')\n",
    "raw = retrosheet.joinpath('raw')\n",
    "parsed = retrosheet.joinpath('parsed')\n",
    "df_csv = retrosheet.joinpath('df_csv')\n",
    "wrangled = retrosheet.joinpath('wrangled')\n",
    "src = retrosheet.joinpath('src')"
   ]
  },
  {
   "cell_type": "markdown",
   "metadata": {},
   "source": [
    "## Retrosheet Data Dictionary Overview\n",
    "A \"data dictionary\" is also called a \"codebook\".\n",
    "\n",
    "The following is a highlevel overview of the meaning of the field names created by the Retrosheet parsers.\n",
    "\n",
    "```\n",
    "Suffix Meaning\n",
    "CT     count (integer)\n",
    "ID     identifier\n",
    "FL     boolean flag\n",
    "CD     code (enumerated data type)\n",
    "DT     date\n",
    "DY     day of week\n",
    "TM     time\n",
    "\n",
    "Prefix Meaning\n",
    "B      batter\n",
    "P      pitcher\n",
    "```\n",
    "\n",
    "In most cases, the abbreviation between the prefix and the suffix is a common baseball abbreviation.  For common baseball abbreviations see:  \n",
    "http://www.espn.com/gen/editors/mlb/glossary.html\n",
    "\n",
    "From the glossary above, \"SF\" stands from sacrifice flies.  This statistic has been recorded since 1955.  The full field names created by the parsers are \"B_SF\" for how many sacrifice flies by the batter, and \"P_SF\" for how many sacrifice flies given up by the pitcher."
   ]
  },
  {
   "cell_type": "markdown",
   "metadata": {
    "toc-hr-collapsed": true
   },
   "source": [
    "## Stats per Player per Game Data Dictionary\n",
    "This section is optional.  It is helpful to understanding the data.\n",
    "\n",
    "As of February 2019, I could find no published information on cwdaily.\n",
    "\n",
    "cwdaily can be run with the '-n' flag to have it output field names, but it is not clear what some of the field names mean.\n",
    "\n",
    "Luckily, the source code itself has a text description of each field name.  This description takes place within a single, very long, C struct statement.\n",
    "\n",
    "The C source code will be parsed to retrieve a field name to field description mapping.  It is not necessary to understand the RegEx code for parsing the C struct."
   ]
  },
  {
   "cell_type": "code",
   "execution_count": 76,
   "metadata": {},
   "outputs": [],
   "source": [
    "# cd to dir with cwdaily.c\n",
    "src = retrosheet.joinpath('src')\n",
    "os.chdir(src)"
   ]
  },
  {
   "cell_type": "code",
   "execution_count": 77,
   "metadata": {},
   "outputs": [],
   "source": [
    "def parse_c_source(filename, struct='field_data'):\n",
    "    \"\"\"Extract field name to field description from parser's C source code\"\"\"\n",
    "    dd = {}\n",
    "    with open(filename, 'r') as cwdaily:\n",
    "        # to account for patterns across lines, read entire source code\n",
    "        source = cwdaily.read()\n",
    "    \n",
    "        # get the single (multiline) C statement that has field descriptions\n",
    "        pattern = r'(static\\s+field_struct\\s+' + struct + r'.*?;)'\n",
    "        match = re.search(pattern, source, flags=re.DOTALL | re.MULTILINE)\n",
    "    \n",
    "        if match:\n",
    "            pattern = r'{.*?\"(.*?)\".*?\"(.*?)\".*?}'\n",
    "            for m in re.finditer(pattern, match.group(1), \n",
    "                                 flags=re.DOTALL | re.MULTILINE):\n",
    "                if m:\n",
    "                    if len(m.group(2).split(':')) == 2:\n",
    "                        desc = m.group(2).split(':')[1].strip()\n",
    "                    else:\n",
    "                        desc = m.group(2).strip()\n",
    "                    dd[m.group(1).lower()] = desc   \n",
    "    return dd"
   ]
  },
  {
   "cell_type": "code",
   "execution_count": 78,
   "metadata": {},
   "outputs": [],
   "source": [
    "player_game_fields_all = parse_c_source('cwdaily.c')        "
   ]
  },
  {
   "cell_type": "code",
   "execution_count": 86,
   "metadata": {},
   "outputs": [],
   "source": [
    "# As of Python 3.6, dictionaries maintain insertion order\n",
    "# Only the first 52 fields were selected, so that's all that needed here\n",
    "player_game_fields = {key:value for num, \n",
    "        (key, value) in enumerate(player_game_fields_all.items()) if num < 52}\n",
    "\n",
    "# appearance date is the same as game_dt, remove it\n",
    "del player_game_fields['appear_dt']"
   ]
  },
  {
   "cell_type": "code",
   "execution_count": 87,
   "metadata": {},
   "outputs": [
    {
     "data": {
      "text/plain": [
       "{'game_id': 'game id',\n",
       " 'game_dt': 'date',\n",
       " 'game_ct': 'game number (0 = no double header)',\n",
       " 'team_id': 'team id',\n",
       " 'player_id': 'player id',\n",
       " 'b_g': 'games played',\n",
       " 'b_pa': 'plate appearances',\n",
       " 'b_ab': 'at bats',\n",
       " 'b_r': 'runs',\n",
       " 'b_h': 'hits',\n",
       " 'b_2b': 'doubles',\n",
       " 'b_3b': 'triples',\n",
       " 'b_hr': 'home runs',\n",
       " 'b_rbi': 'runs batted in',\n",
       " 'b_bb': 'walks',\n",
       " 'b_ibb': 'intentional walks',\n",
       " 'b_so': 'strikeouts',\n",
       " 'b_gdp': 'grounded into DP',\n",
       " 'b_hp': 'hit by pitch',\n",
       " 'b_sh': 'sacrifice hits',\n",
       " 'b_sf': 'sacrifice flies',\n",
       " 'b_sb': 'stolen bases',\n",
       " 'b_cs': 'caught stealing',\n",
       " 'b_xi': 'reached on interference',\n",
       " 'p_g': 'games pitched',\n",
       " 'p_gs': 'games started',\n",
       " 'p_cg': 'complete games',\n",
       " 'p_sho': 'shutouts',\n",
       " 'p_gf': 'games finished',\n",
       " 'p_w': 'wins',\n",
       " 'p_l': 'losses',\n",
       " 'p_sv': 'saves',\n",
       " 'p_out': 'outs recorded (innings pitched times 3)',\n",
       " 'p_tbf': 'batters faced',\n",
       " 'p_ab': 'at bats',\n",
       " 'p_r': 'runs allowed',\n",
       " 'p_er': 'earned runs allowed',\n",
       " 'p_h': 'hits allowed',\n",
       " 'p_2b': 'doubles allowed',\n",
       " 'p_3b': 'triples allowed',\n",
       " 'p_hr': 'home runs allowed',\n",
       " 'p_bb': 'walks allowed',\n",
       " 'p_ibb': 'intentional walks allowed',\n",
       " 'p_so': 'strikeouts',\n",
       " 'p_gdp': 'grounded into double play',\n",
       " 'p_hp': 'hit batsmen',\n",
       " 'p_sh': 'sacrifice hits against',\n",
       " 'p_sf': 'sacrifice flies against',\n",
       " 'p_xi': 'reached on interference',\n",
       " 'p_wp': 'wild pitches',\n",
       " 'p_bk': 'balks'}"
      ]
     },
     "execution_count": 87,
     "metadata": {},
     "output_type": "execute_result"
    }
   ],
   "source": [
    "# here is the explanation of each field, as scraped from the C source code\n",
    "player_game_fields"
   ]
  },
  {
   "cell_type": "markdown",
   "metadata": {
    "toc-hr-collapsed": true
   },
   "source": [
    "### Data Dictionary Notes\n",
    "In the above, team_id is the team_id of the player.\n",
    "\n",
    "game_id is:  \n",
    "```\n",
    "0:4 Home TEAM_ID  \n",
    "4:8 YYYYMMDD  \n",
    "9   Game Count\n",
    "```\n",
    "\n",
    "Game Count is:\n",
    "* 0 for single game\n",
    "* 1 for 1st game of double header\n",
    "* 2 for 2nd game of double header"
   ]
  },
  {
   "cell_type": "markdown",
   "metadata": {},
   "source": [
    "### Persist Stats per Player per Game Data Dictionary Fields"
   ]
  },
  {
   "cell_type": "code",
   "execution_count": 94,
   "metadata": {},
   "outputs": [],
   "source": [
    "os.chdir(wrangled)\n",
    "\n",
    "# index=[0] is required for dictionary of scalar values\n",
    "# no need to compress something this small\n",
    "player_game_fields_df = pd.DataFrame(player_game_fields, index=[0])\n",
    "player_game_fields_df.to_csv('player_game_fields.csv', index=False)"
   ]
  },
  {
   "cell_type": "markdown",
   "metadata": {
    "toc-hr-collapsed": true
   },
   "source": [
    "## Stats per Game Data Dictionary\n",
    "This section is optional.  It is helpful to understanding the data.\n",
    "\n",
    "There is a field-name to field-description mapping provided on the following web page:  \n",
    "http://chadwick.sourceforge.net/doc/cwgame.html\n",
    "\n",
    "This data could be scraped from the webpage, but as a parser to read C source code to get this mapping was written above, it's simpler just to use it.\n",
    "\n",
    "Note: the codes for some of the \\_CD fields are only specified on the above web page, but the \\_CD fields are not being used in this study."
   ]
  },
  {
   "cell_type": "code",
   "execution_count": 89,
   "metadata": {},
   "outputs": [],
   "source": [
    "os.chdir(src)\n",
    "game_reg_fields = parse_c_source('cwgame.c')\n",
    "game_ext_fields = parse_c_source('cwgame.c', 'ext_field_data')           "
   ]
  },
  {
   "cell_type": "code",
   "execution_count": 90,
   "metadata": {},
   "outputs": [
    {
     "data": {
      "text/plain": [
       "(84, 95)"
      ]
     },
     "execution_count": 90,
     "metadata": {},
     "output_type": "execute_result"
    }
   ],
   "source": [
    "# there are 84 regular fields and 95 extended fields\n",
    "len(game_reg_fields), len(game_ext_fields)"
   ]
  },
  {
   "cell_type": "markdown",
   "metadata": {},
   "source": [
    "### Data Dictionary Note\n",
    "dh_fl: Designated Hitter Flag, 'T' if DH in use, else 'F'  \n",
    "daynight_park_cd: 'N' for night, 'D' for day  \n",
    "gw_rbi_bat_id: Player ID for batter who got Game Winning RBI  "
   ]
  },
  {
   "cell_type": "code",
   "execution_count": 84,
   "metadata": {},
   "outputs": [
    {
     "data": {
      "text/plain": [
       "{'game_id': 'game id',\n",
       " 'game_dt': 'date',\n",
       " 'game_ct': 'game number (0 = no double header)',\n",
       " 'game_dy': 'day of week',\n",
       " 'start_game_tm': 'start time',\n",
       " 'dh_fl': 'DH used flag',\n",
       " 'daynight_park_cd': 'day/night flag',\n",
       " 'away_team_id': 'visiting team',\n",
       " 'home_team_id': 'home team',\n",
       " 'park_id': 'game site',\n",
       " 'away_start_pit_id': 'vis. starting pitcher',\n",
       " 'home_start_pit_id': 'home starting pitcher',\n",
       " 'attend_park_ct': 'attendance',\n",
       " 'temp_park_ct': 'temperature',\n",
       " 'minutes_game_ct': 'time of game',\n",
       " 'inn_ct': 'number of innings',\n",
       " 'away_score_ct': 'visitor final score',\n",
       " 'home_score_ct': 'home final score',\n",
       " 'away_hits_ct': 'visitor hits',\n",
       " 'home_hits_ct': 'home hits',\n",
       " 'away_err_ct': 'visitor errors',\n",
       " 'home_err_ct': 'home errors',\n",
       " 'away_lob_ct': 'visitor left on base',\n",
       " 'home_lob_ct': 'home left on base',\n",
       " 'win_pit_id': 'winning pitcher',\n",
       " 'lose_pit_id': 'losing pitcher',\n",
       " 'save_pit_id': 'save for',\n",
       " 'gwrbi_bat_id': 'GW RBI'}"
      ]
     },
     "execution_count": 84,
     "metadata": {},
     "output_type": "execute_result"
    }
   ],
   "source": [
    "# As of Python 3.6, dictionaries maintain insertion order\n",
    "game_fields = {key:value for num, \n",
    "    (key, value) in enumerate(game_reg_fields.items()) if num < 46}\n",
    "\n",
    "for key in drop_columns:\n",
    "    del game_fields[key]\n",
    "\n",
    "game_fields"
   ]
  },
  {
   "cell_type": "markdown",
   "metadata": {},
   "source": [
    "### Persist Stats per Game Data Dictionary Fields"
   ]
  },
  {
   "cell_type": "code",
   "execution_count": 91,
   "metadata": {},
   "outputs": [],
   "source": [
    "os.chdir(wrangled)\n",
    "\n",
    "# index=[0] is required for dictionary of scalar values\n",
    "game_fields_df = pd.DataFrame(game_fields, index=[0])\n",
    "game_fields_df.to_csv('game_fields.csv', index=False)"
   ]
  },
  {
   "cell_type": "markdown",
   "metadata": {
    "toc-hr-collapsed": true
   },
   "source": [
    "## 1. Wrangle Stats per Player Per Game Data"
   ]
  },
  {
   "cell_type": "markdown",
   "metadata": {
    "toc-hr-collapsed": false
   },
   "source": [
    "### Data Verification\n",
    "\n",
    "For odd data, such as whether or not a the first game of a double header was in one stadium, and the second game was in a different stadium; [Baseball-Reference](https://www.baseball-reference.com) is helpful.\n",
    "\n",
    "Baseball-reference uses the data from Retrosheet, and presents it in an easy to read form for people. Although baseball-reference on rare occasion may incorrectly interpret the event data, it is a useful tool to verify the data processing used here.\n",
    "\n",
    "Baseball-reference does not offer already parsed data for data analysis.\n",
    "\n",
    "The following method takes a game_id and converts it to a baseball-reference url for researching more about a particular game."
   ]
  },
  {
   "cell_type": "code",
   "execution_count": 73,
   "metadata": {},
   "outputs": [],
   "source": [
    "from IPython.display import HTML, display\n",
    "def game_id_to_url(game_id):\n",
    "    home = game_id[:3]\n",
    "    url = 'https://www.baseball-reference.com/boxes/' + home + '/' + game_id + '.shtml'\n",
    "    display(HTML(f'<a href=\"{url}\">{game_id}</a>'))"
   ]
  },
  {
   "cell_type": "code",
   "execution_count": 74,
   "metadata": {},
   "outputs": [
    {
     "data": {
      "text/html": [
       "<a href=\"https://www.baseball-reference.com/boxes/NYA/NYA200806271.shtml\">NYA200806271</a>"
      ],
      "text/plain": [
       "<IPython.core.display.HTML object>"
      ]
     },
     "metadata": {},
     "output_type": "display_data"
    }
   ],
   "source": [
    "# Click on the generated link to get a url for detailed game information.\n",
    "game_id_to_url('NYA200806271')"
   ]
  },
  {
   "cell_type": "markdown",
   "metadata": {},
   "source": [
    "As per the above link, the first game of the double header was in Yankee Stadium and the second game, on the same day, was in Shea Stadium."
   ]
  },
  {
   "cell_type": "markdown",
   "metadata": {},
   "source": [
    "### Read in Stats per Player per Game Data \n",
    "This is the data created by running the cwdaily parser in the previous notebook.\n",
    "\n",
    "Above, in the data dictionary section, it was seen that there are two date fields, game_dt and appear_dt.  These are strings of the from YYYYMMDD with no game time information."
   ]
  },
  {
   "cell_type": "code",
   "execution_count": 95,
   "metadata": {},
   "outputs": [],
   "source": [
    "# read in the parsed player_game data\n",
    "os.chdir(df_csv)\n",
    "player_game = pd.read_csv('player_game.csv.gz', parse_dates=['game_dt', 'appear_dt'])"
   ]
  },
  {
   "cell_type": "code",
   "execution_count": 96,
   "metadata": {},
   "outputs": [
    {
     "data": {
      "text/plain": [
       "(3549700, 52)"
      ]
     },
     "execution_count": 96,
     "metadata": {},
     "output_type": "execute_result"
    }
   ],
   "source": [
    "player_game.shape"
   ]
  },
  {
   "cell_type": "code",
   "execution_count": 97,
   "metadata": {},
   "outputs": [
    {
     "data": {
      "text/html": [
       "<div>\n",
       "<style scoped>\n",
       "    .dataframe tbody tr th:only-of-type {\n",
       "        vertical-align: middle;\n",
       "    }\n",
       "\n",
       "    .dataframe tbody tr th {\n",
       "        vertical-align: top;\n",
       "    }\n",
       "\n",
       "    .dataframe thead th {\n",
       "        text-align: right;\n",
       "    }\n",
       "</style>\n",
       "<table border=\"1\" class=\"dataframe\">\n",
       "  <thead>\n",
       "    <tr style=\"text-align: right;\">\n",
       "      <th></th>\n",
       "      <th>game_id</th>\n",
       "      <th>game_dt</th>\n",
       "      <th>game_ct</th>\n",
       "      <th>appear_dt</th>\n",
       "      <th>team_id</th>\n",
       "      <th>player_id</th>\n",
       "      <th>b_g</th>\n",
       "      <th>b_pa</th>\n",
       "      <th>b_ab</th>\n",
       "      <th>b_r</th>\n",
       "      <th>...</th>\n",
       "      <th>p_bb</th>\n",
       "      <th>p_ibb</th>\n",
       "      <th>p_so</th>\n",
       "      <th>p_gdp</th>\n",
       "      <th>p_hp</th>\n",
       "      <th>p_sh</th>\n",
       "      <th>p_sf</th>\n",
       "      <th>p_xi</th>\n",
       "      <th>p_wp</th>\n",
       "      <th>p_bk</th>\n",
       "    </tr>\n",
       "  </thead>\n",
       "  <tbody>\n",
       "    <tr>\n",
       "      <th>0</th>\n",
       "      <td>BAL195504120</td>\n",
       "      <td>1955-04-12</td>\n",
       "      <td>0</td>\n",
       "      <td>1955-04-12</td>\n",
       "      <td>BOS</td>\n",
       "      <td>goodb101</td>\n",
       "      <td>1</td>\n",
       "      <td>5</td>\n",
       "      <td>5</td>\n",
       "      <td>1</td>\n",
       "      <td>...</td>\n",
       "      <td>0</td>\n",
       "      <td>0</td>\n",
       "      <td>0</td>\n",
       "      <td>0</td>\n",
       "      <td>0</td>\n",
       "      <td>0</td>\n",
       "      <td>0</td>\n",
       "      <td>0</td>\n",
       "      <td>0</td>\n",
       "      <td>0</td>\n",
       "    </tr>\n",
       "    <tr>\n",
       "      <th>1</th>\n",
       "      <td>BAL195504120</td>\n",
       "      <td>1955-04-12</td>\n",
       "      <td>0</td>\n",
       "      <td>1955-04-12</td>\n",
       "      <td>BOS</td>\n",
       "      <td>joose101</td>\n",
       "      <td>1</td>\n",
       "      <td>5</td>\n",
       "      <td>4</td>\n",
       "      <td>0</td>\n",
       "      <td>...</td>\n",
       "      <td>0</td>\n",
       "      <td>0</td>\n",
       "      <td>0</td>\n",
       "      <td>0</td>\n",
       "      <td>0</td>\n",
       "      <td>0</td>\n",
       "      <td>0</td>\n",
       "      <td>0</td>\n",
       "      <td>0</td>\n",
       "      <td>0</td>\n",
       "    </tr>\n",
       "    <tr>\n",
       "      <th>2</th>\n",
       "      <td>BAL195504120</td>\n",
       "      <td>1955-04-12</td>\n",
       "      <td>0</td>\n",
       "      <td>1955-04-12</td>\n",
       "      <td>BOS</td>\n",
       "      <td>throf101</td>\n",
       "      <td>1</td>\n",
       "      <td>5</td>\n",
       "      <td>5</td>\n",
       "      <td>1</td>\n",
       "      <td>...</td>\n",
       "      <td>0</td>\n",
       "      <td>0</td>\n",
       "      <td>0</td>\n",
       "      <td>0</td>\n",
       "      <td>0</td>\n",
       "      <td>0</td>\n",
       "      <td>0</td>\n",
       "      <td>0</td>\n",
       "      <td>0</td>\n",
       "      <td>0</td>\n",
       "    </tr>\n",
       "  </tbody>\n",
       "</table>\n",
       "<p>3 rows × 52 columns</p>\n",
       "</div>"
      ],
      "text/plain": [
       "        game_id    game_dt  game_ct  appear_dt team_id player_id  b_g  b_pa  \\\n",
       "0  BAL195504120 1955-04-12        0 1955-04-12     BOS  goodb101    1     5   \n",
       "1  BAL195504120 1955-04-12        0 1955-04-12     BOS  joose101    1     5   \n",
       "2  BAL195504120 1955-04-12        0 1955-04-12     BOS  throf101    1     5   \n",
       "\n",
       "   b_ab  b_r  ...  p_bb  p_ibb  p_so  p_gdp  p_hp  p_sh  p_sf  p_xi  p_wp  \\\n",
       "0     5    1  ...     0      0     0      0     0     0     0     0     0   \n",
       "1     4    0  ...     0      0     0      0     0     0     0     0     0   \n",
       "2     5    1  ...     0      0     0      0     0     0     0     0     0   \n",
       "\n",
       "   p_bk  \n",
       "0     0  \n",
       "1     0  \n",
       "2     0  \n",
       "\n",
       "[3 rows x 52 columns]"
      ]
     },
     "execution_count": 97,
     "metadata": {},
     "output_type": "execute_result"
    }
   ],
   "source": [
    "player_game.head(3)"
   ]
  },
  {
   "cell_type": "markdown",
   "metadata": {},
   "source": [
    "### Remove Duplicate Column"
   ]
  },
  {
   "cell_type": "code",
   "execution_count": 147,
   "metadata": {},
   "outputs": [
    {
     "data": {
      "text/plain": [
       "True"
      ]
     },
     "execution_count": 147,
     "metadata": {},
     "output_type": "execute_result"
    }
   ],
   "source": [
    "(player_game['game_dt'] == player_game['appear_dt']).all()"
   ]
  },
  {
   "cell_type": "code",
   "execution_count": 148,
   "metadata": {},
   "outputs": [],
   "source": [
    "player_game = player_game.drop('appear_dt', axis=1)"
   ]
  },
  {
   "cell_type": "code",
   "execution_count": 98,
   "metadata": {},
   "outputs": [
    {
     "data": {
      "text/html": [
       "<div>\n",
       "<style scoped>\n",
       "    .dataframe tbody tr th:only-of-type {\n",
       "        vertical-align: middle;\n",
       "    }\n",
       "\n",
       "    .dataframe tbody tr th {\n",
       "        vertical-align: top;\n",
       "    }\n",
       "\n",
       "    .dataframe thead th {\n",
       "        text-align: right;\n",
       "    }\n",
       "</style>\n",
       "<table border=\"1\" class=\"dataframe\">\n",
       "  <thead>\n",
       "    <tr style=\"text-align: right;\">\n",
       "      <th></th>\n",
       "      <th>game_id</th>\n",
       "      <th>game_dt</th>\n",
       "      <th>game_ct</th>\n",
       "      <th>appear_dt</th>\n",
       "      <th>team_id</th>\n",
       "      <th>player_id</th>\n",
       "      <th>b_g</th>\n",
       "      <th>b_pa</th>\n",
       "      <th>b_ab</th>\n",
       "      <th>b_r</th>\n",
       "      <th>...</th>\n",
       "      <th>p_bb</th>\n",
       "      <th>p_ibb</th>\n",
       "      <th>p_so</th>\n",
       "      <th>p_gdp</th>\n",
       "      <th>p_hp</th>\n",
       "      <th>p_sh</th>\n",
       "      <th>p_sf</th>\n",
       "      <th>p_xi</th>\n",
       "      <th>p_wp</th>\n",
       "      <th>p_bk</th>\n",
       "    </tr>\n",
       "  </thead>\n",
       "  <tbody>\n",
       "    <tr>\n",
       "      <th>3418636</th>\n",
       "      <td>BOS201708250</td>\n",
       "      <td>2017-08-25</td>\n",
       "      <td>0</td>\n",
       "      <td>2017-08-25</td>\n",
       "      <td>BOS</td>\n",
       "      <td>younc004</td>\n",
       "      <td>1</td>\n",
       "      <td>3</td>\n",
       "      <td>3</td>\n",
       "      <td>0</td>\n",
       "      <td>...</td>\n",
       "      <td>0</td>\n",
       "      <td>0</td>\n",
       "      <td>0</td>\n",
       "      <td>0</td>\n",
       "      <td>0</td>\n",
       "      <td>0</td>\n",
       "      <td>0</td>\n",
       "      <td>0</td>\n",
       "      <td>0</td>\n",
       "      <td>0</td>\n",
       "    </tr>\n",
       "    <tr>\n",
       "      <th>3418638</th>\n",
       "      <td>BOS201708250</td>\n",
       "      <td>2017-08-25</td>\n",
       "      <td>0</td>\n",
       "      <td>2017-08-25</td>\n",
       "      <td>BOS</td>\n",
       "      <td>younc004</td>\n",
       "      <td>1</td>\n",
       "      <td>1</td>\n",
       "      <td>1</td>\n",
       "      <td>0</td>\n",
       "      <td>...</td>\n",
       "      <td>0</td>\n",
       "      <td>0</td>\n",
       "      <td>0</td>\n",
       "      <td>0</td>\n",
       "      <td>0</td>\n",
       "      <td>0</td>\n",
       "      <td>0</td>\n",
       "      <td>0</td>\n",
       "      <td>0</td>\n",
       "      <td>0</td>\n",
       "    </tr>\n",
       "  </tbody>\n",
       "</table>\n",
       "<p>2 rows × 52 columns</p>\n",
       "</div>"
      ],
      "text/plain": [
       "              game_id    game_dt  game_ct  appear_dt team_id player_id  b_g  \\\n",
       "3418636  BOS201708250 2017-08-25        0 2017-08-25     BOS  younc004    1   \n",
       "3418638  BOS201708250 2017-08-25        0 2017-08-25     BOS  younc004    1   \n",
       "\n",
       "         b_pa  b_ab  b_r  ...  p_bb  p_ibb  p_so  p_gdp  p_hp  p_sh  p_sf  \\\n",
       "3418636     3     3    0  ...     0      0     0      0     0     0     0   \n",
       "3418638     1     1    0  ...     0      0     0      0     0     0     0   \n",
       "\n",
       "         p_xi  p_wp  p_bk  \n",
       "3418636     0     0     0  \n",
       "3418638     0     0     0  \n",
       "\n",
       "[2 rows x 52 columns]"
      ]
     },
     "execution_count": 98,
     "metadata": {},
     "output_type": "execute_result"
    }
   ],
   "source": [
    "# the primary key is (game_id, PLAYER_ID), verify no dups\n",
    "dups = player_game.duplicated(subset=['game_id', 'player_id'], keep=False)\n",
    "player_game[dups]"
   ]
  },
  {
   "cell_type": "code",
   "execution_count": 99,
   "metadata": {},
   "outputs": [
    {
     "data": {
      "text/plain": [
       "'BOS201708250'"
      ]
     },
     "execution_count": 99,
     "metadata": {},
     "output_type": "execute_result"
    }
   ],
   "source": [
    "# there were dups!\n",
    "dup_id = player_game.loc[dups, 'game_id'].values[0]\n",
    "dup_id"
   ]
  },
  {
   "cell_type": "code",
   "execution_count": 100,
   "metadata": {},
   "outputs": [
    {
     "data": {
      "text/html": [
       "<a href=\"https://www.baseball-reference.com/boxes/BOS/BOS201708250.shtml\">BOS201708250</a>"
      ],
      "text/plain": [
       "<IPython.core.display.HTML object>"
      ]
     },
     "metadata": {},
     "output_type": "display_data"
    }
   ],
   "source": [
    "# check this game manually by clicking on the generated link\n",
    "game_id_to_url(dup_id)"
   ]
  },
  {
   "cell_type": "markdown",
   "metadata": {},
   "source": [
    "### Data Correction for Duplicates\n",
    "\n",
    "Checking the box score via the above link, shows 2 entries for Young for the same game, one as a pinch-hitter and one as the designated-hitter.  It would appear that both entries are correct and that the data should be summed."
   ]
  },
  {
   "cell_type": "code",
   "execution_count": 101,
   "metadata": {},
   "outputs": [
    {
     "data": {
      "text/plain": [
       "(3418636, 3418638)"
      ]
     },
     "execution_count": 101,
     "metadata": {},
     "output_type": "execute_result"
    }
   ],
   "source": [
    "# get the index labels of the duplicated rows\n",
    "idx1, idx2 = player_game[dups].index.values\n",
    "idx1, idx2"
   ]
  },
  {
   "cell_type": "code",
   "execution_count": 102,
   "metadata": {},
   "outputs": [
    {
     "data": {
      "text/plain": [
       "Index(['game_id', 'game_dt', 'game_ct', 'appear_dt', 'team_id'], dtype='object')"
      ]
     },
     "execution_count": 102,
     "metadata": {},
     "output_type": "execute_result"
    }
   ],
   "source": [
    "# identifier columns\n",
    "id_columns = player_game.columns[:5]\n",
    "id_columns"
   ]
  },
  {
   "cell_type": "code",
   "execution_count": 103,
   "metadata": {},
   "outputs": [
    {
     "data": {
      "text/plain": [
       "Index(['player_id', 'b_g', 'b_pa', 'b_ab', 'b_r', 'b_h', 'b_2b', 'b_3b',\n",
       "       'b_hr', 'b_rbi', 'b_bb', 'b_ibb', 'b_so', 'b_gdp', 'b_hp', 'b_sh',\n",
       "       'b_sf', 'b_sb', 'b_cs', 'b_xi', 'p_g', 'p_gs', 'p_cg', 'p_sho', 'p_gf',\n",
       "       'p_w', 'p_l', 'p_sv', 'p_out', 'p_tbf', 'p_ab', 'p_r', 'p_er', 'p_h',\n",
       "       'p_2b', 'p_3b', 'p_hr', 'p_bb', 'p_ibb', 'p_so', 'p_gdp', 'p_hp',\n",
       "       'p_sh', 'p_sf', 'p_xi', 'p_wp', 'p_bk'],\n",
       "      dtype='object')"
      ]
     },
     "execution_count": 103,
     "metadata": {},
     "output_type": "execute_result"
    }
   ],
   "source": [
    "# stat columns\n",
    "stat_columns = player_game.columns[5:]\n",
    "stat_columns"
   ]
  },
  {
   "cell_type": "code",
   "execution_count": 104,
   "metadata": {},
   "outputs": [
    {
     "data": {
      "text/html": [
       "<div>\n",
       "<style scoped>\n",
       "    .dataframe tbody tr th:only-of-type {\n",
       "        vertical-align: middle;\n",
       "    }\n",
       "\n",
       "    .dataframe tbody tr th {\n",
       "        vertical-align: top;\n",
       "    }\n",
       "\n",
       "    .dataframe thead th {\n",
       "        text-align: right;\n",
       "    }\n",
       "</style>\n",
       "<table border=\"1\" class=\"dataframe\">\n",
       "  <thead>\n",
       "    <tr style=\"text-align: right;\">\n",
       "      <th></th>\n",
       "      <th>game_id</th>\n",
       "      <th>game_dt</th>\n",
       "      <th>game_ct</th>\n",
       "      <th>appear_dt</th>\n",
       "      <th>team_id</th>\n",
       "    </tr>\n",
       "  </thead>\n",
       "  <tbody>\n",
       "    <tr>\n",
       "      <th>3418636</th>\n",
       "      <td>BOS201708250</td>\n",
       "      <td>2017-08-25</td>\n",
       "      <td>0</td>\n",
       "      <td>2017-08-25</td>\n",
       "      <td>BOS</td>\n",
       "    </tr>\n",
       "    <tr>\n",
       "      <th>3418638</th>\n",
       "      <td>BOS201708250</td>\n",
       "      <td>2017-08-25</td>\n",
       "      <td>0</td>\n",
       "      <td>2017-08-25</td>\n",
       "      <td>BOS</td>\n",
       "    </tr>\n",
       "  </tbody>\n",
       "</table>\n",
       "</div>"
      ],
      "text/plain": [
       "              game_id    game_dt  game_ct  appear_dt team_id\n",
       "3418636  BOS201708250 2017-08-25        0 2017-08-25     BOS\n",
       "3418638  BOS201708250 2017-08-25        0 2017-08-25     BOS"
      ]
     },
     "execution_count": 104,
     "metadata": {},
     "output_type": "execute_result"
    }
   ],
   "source": [
    "# id columns match (as per df.duplicated() above)\n",
    "player_game.loc[[idx1,idx2], id_columns]"
   ]
  },
  {
   "cell_type": "code",
   "execution_count": 105,
   "metadata": {},
   "outputs": [
    {
     "data": {
      "text/html": [
       "<div>\n",
       "<style scoped>\n",
       "    .dataframe tbody tr th:only-of-type {\n",
       "        vertical-align: middle;\n",
       "    }\n",
       "\n",
       "    .dataframe tbody tr th {\n",
       "        vertical-align: top;\n",
       "    }\n",
       "\n",
       "    .dataframe thead th {\n",
       "        text-align: right;\n",
       "    }\n",
       "</style>\n",
       "<table border=\"1\" class=\"dataframe\">\n",
       "  <thead>\n",
       "    <tr style=\"text-align: right;\">\n",
       "      <th></th>\n",
       "      <th>player_id</th>\n",
       "      <th>b_g</th>\n",
       "      <th>b_pa</th>\n",
       "      <th>b_ab</th>\n",
       "      <th>b_r</th>\n",
       "      <th>b_h</th>\n",
       "      <th>b_2b</th>\n",
       "      <th>b_3b</th>\n",
       "      <th>b_hr</th>\n",
       "      <th>b_rbi</th>\n",
       "      <th>...</th>\n",
       "      <th>p_bb</th>\n",
       "      <th>p_ibb</th>\n",
       "      <th>p_so</th>\n",
       "      <th>p_gdp</th>\n",
       "      <th>p_hp</th>\n",
       "      <th>p_sh</th>\n",
       "      <th>p_sf</th>\n",
       "      <th>p_xi</th>\n",
       "      <th>p_wp</th>\n",
       "      <th>p_bk</th>\n",
       "    </tr>\n",
       "  </thead>\n",
       "  <tbody>\n",
       "    <tr>\n",
       "      <th>3418636</th>\n",
       "      <td>younc004</td>\n",
       "      <td>1</td>\n",
       "      <td>3</td>\n",
       "      <td>3</td>\n",
       "      <td>0</td>\n",
       "      <td>1</td>\n",
       "      <td>1</td>\n",
       "      <td>0</td>\n",
       "      <td>0</td>\n",
       "      <td>0</td>\n",
       "      <td>...</td>\n",
       "      <td>0</td>\n",
       "      <td>0</td>\n",
       "      <td>0</td>\n",
       "      <td>0</td>\n",
       "      <td>0</td>\n",
       "      <td>0</td>\n",
       "      <td>0</td>\n",
       "      <td>0</td>\n",
       "      <td>0</td>\n",
       "      <td>0</td>\n",
       "    </tr>\n",
       "    <tr>\n",
       "      <th>3418638</th>\n",
       "      <td>younc004</td>\n",
       "      <td>1</td>\n",
       "      <td>1</td>\n",
       "      <td>1</td>\n",
       "      <td>0</td>\n",
       "      <td>1</td>\n",
       "      <td>0</td>\n",
       "      <td>0</td>\n",
       "      <td>0</td>\n",
       "      <td>0</td>\n",
       "      <td>...</td>\n",
       "      <td>0</td>\n",
       "      <td>0</td>\n",
       "      <td>0</td>\n",
       "      <td>0</td>\n",
       "      <td>0</td>\n",
       "      <td>0</td>\n",
       "      <td>0</td>\n",
       "      <td>0</td>\n",
       "      <td>0</td>\n",
       "      <td>0</td>\n",
       "    </tr>\n",
       "  </tbody>\n",
       "</table>\n",
       "<p>2 rows × 47 columns</p>\n",
       "</div>"
      ],
      "text/plain": [
       "        player_id  b_g  b_pa  b_ab  b_r  b_h  b_2b  b_3b  b_hr  b_rbi  ...  \\\n",
       "3418636  younc004    1     3     3    0    1     1     0     0      0  ...   \n",
       "3418638  younc004    1     1     1    0    1     0     0     0      0  ...   \n",
       "\n",
       "         p_bb  p_ibb  p_so  p_gdp  p_hp  p_sh  p_sf  p_xi  p_wp  p_bk  \n",
       "3418636     0      0     0      0     0     0     0     0     0     0  \n",
       "3418638     0      0     0      0     0     0     0     0     0     0  \n",
       "\n",
       "[2 rows x 47 columns]"
      ]
     },
     "execution_count": 105,
     "metadata": {},
     "output_type": "execute_result"
    }
   ],
   "source": [
    "# game data\n",
    "player_game.loc[[idx1,idx2], stat_columns]"
   ]
  },
  {
   "cell_type": "code",
   "execution_count": 106,
   "metadata": {},
   "outputs": [],
   "source": [
    "# add stats for the two rows\n",
    "player_game.loc[idx1, stat_columns] += player_game.loc[idx2, stat_columns]\n",
    "\n",
    "# remove duplicate row\n",
    "player_game = player_game.drop(idx2)"
   ]
  },
  {
   "cell_type": "code",
   "execution_count": 107,
   "metadata": {},
   "outputs": [],
   "source": [
    "# is_unique method for multiple columns\n",
    "# faster than using groupby\n",
    "def is_unique(df, cols):\n",
    "    return not (df.duplicated(subset=cols)).any()"
   ]
  },
  {
   "cell_type": "code",
   "execution_count": 108,
   "metadata": {},
   "outputs": [
    {
     "data": {
      "text/plain": [
       "True"
      ]
     },
     "execution_count": 108,
     "metadata": {},
     "output_type": "execute_result"
    }
   ],
   "source": [
    "# the primary key is (GAME_ID, PLAYER_ID), verify no dups\n",
    "is_unique(player_game, ['game_id', 'player_id'])"
   ]
  },
  {
   "cell_type": "markdown",
   "metadata": {
    "toc-hr-collapsed": false
   },
   "source": [
    "### Optimizing Pandas Data Types for each Variable\n",
    "\n",
    "Using the smallest data type that can represent the data offers several advantages:\n",
    "1. Reduced memory\n",
    "2. Possibly increased performance\n",
    "3. Provides information to both the data analyst and to other software libraries, about the variable.\n",
    "\n",
    "This means using small integers, as appropriate.  \n",
    "This means using categories, as appropriate.\n",
    "\n",
    "A category should be used if there is a relatively small number of unique string values.  In other languages, a \"category\" is called a \"factor\" or an \"enumerated data type\".\n",
    "\n",
    "The above is true for the analytical processing of data.\n",
    "\n",
    "For datasets being constantly updated, unless the range of each variable is known in advance, using the smallest data type could create problems when new data is added."
   ]
  },
  {
   "cell_type": "code",
   "execution_count": 109,
   "metadata": {},
   "outputs": [],
   "source": [
    "def mem_usage(df):\n",
    "    mem = df.memory_usage(deep=True).sum()\n",
    "    mem = mem / 2 ** 20 # covert to megabytes\n",
    "    return f'{mem:03.2f} MB'"
   ]
  },
  {
   "cell_type": "code",
   "execution_count": 110,
   "metadata": {},
   "outputs": [
    {
     "data": {
      "text/plain": [
       "'2010.84 MB'"
      ]
     },
     "execution_count": 110,
     "metadata": {},
     "output_type": "execute_result"
    }
   ],
   "source": [
    "# About 2GB\n",
    "mem_usage(player_game)"
   ]
  },
  {
   "cell_type": "code",
   "execution_count": 111,
   "metadata": {},
   "outputs": [
    {
     "data": {
      "text/plain": [
       "int64             47\n",
       "object             3\n",
       "datetime64[ns]     2\n",
       "dtype: int64"
      ]
     },
     "execution_count": 111,
     "metadata": {},
     "output_type": "execute_result"
    }
   ],
   "source": [
    "# data types by count\n",
    "player_game.dtypes.value_counts()"
   ]
  },
  {
   "cell_type": "code",
   "execution_count": 112,
   "metadata": {},
   "outputs": [
    {
     "data": {
      "text/plain": [
       "game_id      0.036579\n",
       "team_id      0.000012\n",
       "player_id    0.003146\n",
       "dtype: float64"
      ]
     },
     "execution_count": 112,
     "metadata": {},
     "output_type": "execute_result"
    }
   ],
   "source": [
    "# Fraction of string values that are unique\n",
    "player_game_obj = player_game.select_dtypes(include=['object'])\n",
    "player_game_obj.nunique() / player_game_obj.shape[0]"
   ]
  },
  {
   "cell_type": "code",
   "execution_count": 113,
   "metadata": {},
   "outputs": [],
   "source": [
    "# this optimization is good for player_game and game\n",
    "def optimize_data_types(df):\n",
    "    df = df.copy()\n",
    "    \n",
    "    # int64 -> smallest uint allowed by data\n",
    "    df_int = df.select_dtypes(include=['int'])\n",
    "    df_int = df_int.apply(pd.to_numeric,downcast='unsigned')\n",
    "    df[df_int.columns] = df_int\n",
    "\n",
    "    # object -> category\n",
    "    df_obj = df.select_dtypes(include=['object'])\n",
    "    df_obj = df_obj.astype('category')\n",
    "    df[df_obj.columns] = df_obj\n",
    "    \n",
    "    return df"
   ]
  },
  {
   "cell_type": "code",
   "execution_count": 114,
   "metadata": {},
   "outputs": [],
   "source": [
    "player_game = optimize_data_types(player_game)"
   ]
  },
  {
   "cell_type": "code",
   "execution_count": 115,
   "metadata": {},
   "outputs": [
    {
     "data": {
      "text/plain": [
       "uint8             47\n",
       "datetime64[ns]     2\n",
       "category           1\n",
       "category           1\n",
       "category           1\n",
       "dtype: int64"
      ]
     },
     "execution_count": 115,
     "metadata": {},
     "output_type": "execute_result"
    }
   ],
   "source": [
    "# data types by count\n",
    "player_game.dtypes.value_counts()"
   ]
  },
  {
   "cell_type": "code",
   "execution_count": 116,
   "metadata": {},
   "outputs": [
    {
     "data": {
      "text/plain": [
       "'278.60 MB'"
      ]
     },
     "execution_count": 116,
     "metadata": {},
     "output_type": "execute_result"
    }
   ],
   "source": [
    "# about 8 times less memory is now being used\n",
    "mem_usage(player_game)"
   ]
  },
  {
   "cell_type": "code",
   "execution_count": 117,
   "metadata": {},
   "outputs": [
    {
     "data": {
      "text/plain": [
       "uint8             47\n",
       "datetime64[ns]     2\n",
       "category           1\n",
       "category           1\n",
       "category           1\n",
       "dtype: int64"
      ]
     },
     "execution_count": 117,
     "metadata": {},
     "output_type": "execute_result"
    }
   ],
   "source": [
    "player_game.dtypes.value_counts()"
   ]
  },
  {
   "cell_type": "code",
   "execution_count": 201,
   "metadata": {},
   "outputs": [
    {
     "data": {
      "text/html": [
       "<div>\n",
       "<style scoped>\n",
       "    .dataframe tbody tr th:only-of-type {\n",
       "        vertical-align: middle;\n",
       "    }\n",
       "\n",
       "    .dataframe tbody tr th {\n",
       "        vertical-align: top;\n",
       "    }\n",
       "\n",
       "    .dataframe thead th {\n",
       "        text-align: right;\n",
       "    }\n",
       "</style>\n",
       "<table border=\"1\" class=\"dataframe\">\n",
       "  <thead>\n",
       "    <tr style=\"text-align: right;\">\n",
       "      <th></th>\n",
       "      <th>index</th>\n",
       "      <th>dtypes</th>\n",
       "    </tr>\n",
       "  </thead>\n",
       "  <tbody>\n",
       "    <tr>\n",
       "      <th>0</th>\n",
       "      <td>game_id</td>\n",
       "      <td>category</td>\n",
       "    </tr>\n",
       "    <tr>\n",
       "      <th>1</th>\n",
       "      <td>game_dt</td>\n",
       "      <td>datetime64[ns]</td>\n",
       "    </tr>\n",
       "    <tr>\n",
       "      <th>2</th>\n",
       "      <td>game_ct</td>\n",
       "      <td>uint8</td>\n",
       "    </tr>\n",
       "    <tr>\n",
       "      <th>3</th>\n",
       "      <td>team_id</td>\n",
       "      <td>category</td>\n",
       "    </tr>\n",
       "    <tr>\n",
       "      <th>4</th>\n",
       "      <td>player_id</td>\n",
       "      <td>category</td>\n",
       "    </tr>\n",
       "    <tr>\n",
       "      <th>5</th>\n",
       "      <td>b_g</td>\n",
       "      <td>uint8</td>\n",
       "    </tr>\n",
       "    <tr>\n",
       "      <th>6</th>\n",
       "      <td>b_pa</td>\n",
       "      <td>uint8</td>\n",
       "    </tr>\n",
       "    <tr>\n",
       "      <th>7</th>\n",
       "      <td>b_ab</td>\n",
       "      <td>uint8</td>\n",
       "    </tr>\n",
       "    <tr>\n",
       "      <th>8</th>\n",
       "      <td>b_r</td>\n",
       "      <td>uint8</td>\n",
       "    </tr>\n",
       "    <tr>\n",
       "      <th>9</th>\n",
       "      <td>b_h</td>\n",
       "      <td>uint8</td>\n",
       "    </tr>\n",
       "    <tr>\n",
       "      <th>10</th>\n",
       "      <td>b_2b</td>\n",
       "      <td>uint8</td>\n",
       "    </tr>\n",
       "    <tr>\n",
       "      <th>11</th>\n",
       "      <td>b_3b</td>\n",
       "      <td>uint8</td>\n",
       "    </tr>\n",
       "    <tr>\n",
       "      <th>12</th>\n",
       "      <td>b_hr</td>\n",
       "      <td>uint8</td>\n",
       "    </tr>\n",
       "    <tr>\n",
       "      <th>13</th>\n",
       "      <td>b_rbi</td>\n",
       "      <td>uint8</td>\n",
       "    </tr>\n",
       "    <tr>\n",
       "      <th>14</th>\n",
       "      <td>b_bb</td>\n",
       "      <td>uint8</td>\n",
       "    </tr>\n",
       "    <tr>\n",
       "      <th>15</th>\n",
       "      <td>b_ibb</td>\n",
       "      <td>uint8</td>\n",
       "    </tr>\n",
       "    <tr>\n",
       "      <th>16</th>\n",
       "      <td>b_so</td>\n",
       "      <td>uint8</td>\n",
       "    </tr>\n",
       "    <tr>\n",
       "      <th>17</th>\n",
       "      <td>b_gdp</td>\n",
       "      <td>uint8</td>\n",
       "    </tr>\n",
       "    <tr>\n",
       "      <th>18</th>\n",
       "      <td>b_hp</td>\n",
       "      <td>uint8</td>\n",
       "    </tr>\n",
       "    <tr>\n",
       "      <th>19</th>\n",
       "      <td>b_sh</td>\n",
       "      <td>uint8</td>\n",
       "    </tr>\n",
       "    <tr>\n",
       "      <th>20</th>\n",
       "      <td>b_sf</td>\n",
       "      <td>uint8</td>\n",
       "    </tr>\n",
       "    <tr>\n",
       "      <th>21</th>\n",
       "      <td>b_sb</td>\n",
       "      <td>uint8</td>\n",
       "    </tr>\n",
       "    <tr>\n",
       "      <th>22</th>\n",
       "      <td>b_cs</td>\n",
       "      <td>uint8</td>\n",
       "    </tr>\n",
       "    <tr>\n",
       "      <th>23</th>\n",
       "      <td>b_xi</td>\n",
       "      <td>uint8</td>\n",
       "    </tr>\n",
       "    <tr>\n",
       "      <th>24</th>\n",
       "      <td>p_g</td>\n",
       "      <td>uint8</td>\n",
       "    </tr>\n",
       "    <tr>\n",
       "      <th>25</th>\n",
       "      <td>p_gs</td>\n",
       "      <td>uint8</td>\n",
       "    </tr>\n",
       "    <tr>\n",
       "      <th>26</th>\n",
       "      <td>p_cg</td>\n",
       "      <td>uint8</td>\n",
       "    </tr>\n",
       "    <tr>\n",
       "      <th>27</th>\n",
       "      <td>p_sho</td>\n",
       "      <td>uint8</td>\n",
       "    </tr>\n",
       "    <tr>\n",
       "      <th>28</th>\n",
       "      <td>p_gf</td>\n",
       "      <td>uint8</td>\n",
       "    </tr>\n",
       "    <tr>\n",
       "      <th>29</th>\n",
       "      <td>p_w</td>\n",
       "      <td>uint8</td>\n",
       "    </tr>\n",
       "    <tr>\n",
       "      <th>30</th>\n",
       "      <td>p_l</td>\n",
       "      <td>uint8</td>\n",
       "    </tr>\n",
       "    <tr>\n",
       "      <th>31</th>\n",
       "      <td>p_sv</td>\n",
       "      <td>uint8</td>\n",
       "    </tr>\n",
       "    <tr>\n",
       "      <th>32</th>\n",
       "      <td>p_out</td>\n",
       "      <td>uint8</td>\n",
       "    </tr>\n",
       "    <tr>\n",
       "      <th>33</th>\n",
       "      <td>p_tbf</td>\n",
       "      <td>uint8</td>\n",
       "    </tr>\n",
       "    <tr>\n",
       "      <th>34</th>\n",
       "      <td>p_ab</td>\n",
       "      <td>uint8</td>\n",
       "    </tr>\n",
       "    <tr>\n",
       "      <th>35</th>\n",
       "      <td>p_r</td>\n",
       "      <td>uint8</td>\n",
       "    </tr>\n",
       "    <tr>\n",
       "      <th>36</th>\n",
       "      <td>p_er</td>\n",
       "      <td>uint8</td>\n",
       "    </tr>\n",
       "    <tr>\n",
       "      <th>37</th>\n",
       "      <td>p_h</td>\n",
       "      <td>uint8</td>\n",
       "    </tr>\n",
       "    <tr>\n",
       "      <th>38</th>\n",
       "      <td>p_2b</td>\n",
       "      <td>uint8</td>\n",
       "    </tr>\n",
       "    <tr>\n",
       "      <th>39</th>\n",
       "      <td>p_3b</td>\n",
       "      <td>uint8</td>\n",
       "    </tr>\n",
       "    <tr>\n",
       "      <th>40</th>\n",
       "      <td>p_hr</td>\n",
       "      <td>uint8</td>\n",
       "    </tr>\n",
       "    <tr>\n",
       "      <th>41</th>\n",
       "      <td>p_bb</td>\n",
       "      <td>uint8</td>\n",
       "    </tr>\n",
       "    <tr>\n",
       "      <th>42</th>\n",
       "      <td>p_ibb</td>\n",
       "      <td>uint8</td>\n",
       "    </tr>\n",
       "    <tr>\n",
       "      <th>43</th>\n",
       "      <td>p_so</td>\n",
       "      <td>uint8</td>\n",
       "    </tr>\n",
       "    <tr>\n",
       "      <th>44</th>\n",
       "      <td>p_gdp</td>\n",
       "      <td>uint8</td>\n",
       "    </tr>\n",
       "    <tr>\n",
       "      <th>45</th>\n",
       "      <td>p_hp</td>\n",
       "      <td>uint8</td>\n",
       "    </tr>\n",
       "    <tr>\n",
       "      <th>46</th>\n",
       "      <td>p_sh</td>\n",
       "      <td>uint8</td>\n",
       "    </tr>\n",
       "    <tr>\n",
       "      <th>47</th>\n",
       "      <td>p_sf</td>\n",
       "      <td>uint8</td>\n",
       "    </tr>\n",
       "    <tr>\n",
       "      <th>48</th>\n",
       "      <td>p_xi</td>\n",
       "      <td>uint8</td>\n",
       "    </tr>\n",
       "    <tr>\n",
       "      <th>49</th>\n",
       "      <td>p_wp</td>\n",
       "      <td>uint8</td>\n",
       "    </tr>\n",
       "    <tr>\n",
       "      <th>50</th>\n",
       "      <td>p_bk</td>\n",
       "      <td>uint8</td>\n",
       "    </tr>\n",
       "  </tbody>\n",
       "</table>\n",
       "</div>"
      ],
      "text/plain": [
       "        index          dtypes\n",
       "0     game_id        category\n",
       "1     game_dt  datetime64[ns]\n",
       "2     game_ct           uint8\n",
       "3     team_id        category\n",
       "4   player_id        category\n",
       "5         b_g           uint8\n",
       "6        b_pa           uint8\n",
       "7        b_ab           uint8\n",
       "8         b_r           uint8\n",
       "9         b_h           uint8\n",
       "10       b_2b           uint8\n",
       "11       b_3b           uint8\n",
       "12       b_hr           uint8\n",
       "13      b_rbi           uint8\n",
       "14       b_bb           uint8\n",
       "15      b_ibb           uint8\n",
       "16       b_so           uint8\n",
       "17      b_gdp           uint8\n",
       "18       b_hp           uint8\n",
       "19       b_sh           uint8\n",
       "20       b_sf           uint8\n",
       "21       b_sb           uint8\n",
       "22       b_cs           uint8\n",
       "23       b_xi           uint8\n",
       "24        p_g           uint8\n",
       "25       p_gs           uint8\n",
       "26       p_cg           uint8\n",
       "27      p_sho           uint8\n",
       "28       p_gf           uint8\n",
       "29        p_w           uint8\n",
       "30        p_l           uint8\n",
       "31       p_sv           uint8\n",
       "32      p_out           uint8\n",
       "33      p_tbf           uint8\n",
       "34       p_ab           uint8\n",
       "35        p_r           uint8\n",
       "36       p_er           uint8\n",
       "37        p_h           uint8\n",
       "38       p_2b           uint8\n",
       "39       p_3b           uint8\n",
       "40       p_hr           uint8\n",
       "41       p_bb           uint8\n",
       "42      p_ibb           uint8\n",
       "43       p_so           uint8\n",
       "44      p_gdp           uint8\n",
       "45       p_hp           uint8\n",
       "46       p_sh           uint8\n",
       "47       p_sf           uint8\n",
       "48       p_xi           uint8\n",
       "49       p_wp           uint8\n",
       "50       p_bk           uint8"
      ]
     },
     "execution_count": 201,
     "metadata": {},
     "output_type": "execute_result"
    }
   ],
   "source": [
    "# for next time the data is read in ...\n",
    "player_game.dtypes.to_frame('dtypes').reset_index()"
   ]
  },
  {
   "cell_type": "markdown",
   "metadata": {
    "toc-hr-collapsed": true
   },
   "source": [
    "### Don't save this yet ...\n",
    "Rather than game_dt as YYYYMMDD, it would be more helpful to have a datetime that includes the game start time.  This information exists in the Stats per Game dataframe.\n",
    "\n",
    "After Stats per Game is read in and the game start time is parsed, game_dt will be replaced by game_date which is a datetime field that includes the game start time."
   ]
  },
  {
   "cell_type": "code",
   "execution_count": 118,
   "metadata": {},
   "outputs": [],
   "source": [
    "# os.chdir(wrangled)\n",
    "# %time player_game.to_csv('player_game.csv.gz', compression='gzip', index=False)"
   ]
  },
  {
   "cell_type": "markdown",
   "metadata": {},
   "source": [
    "#### To Read Back Use:\n",
    "```\n",
    "player_game = pd.read_csv('player_game.csv.gz', parse_dates=['game_dt'])\n",
    "player_game = optimize_data_types(player_game)\n",
    "```"
   ]
  },
  {
   "cell_type": "markdown",
   "metadata": {
    "toc-hr-collapsed": true
   },
   "source": [
    "## 2. Wrangle Stats per Game Data"
   ]
  },
  {
   "cell_type": "code",
   "execution_count": 171,
   "metadata": {},
   "outputs": [],
   "source": [
    "# ignore the warning, the data types will be adjusted later\n",
    "os.chdir(df_csv)\n",
    "game = pd.read_csv('game.csv.gz')"
   ]
  },
  {
   "cell_type": "code",
   "execution_count": 172,
   "metadata": {},
   "outputs": [
    {
     "data": {
      "text/plain": [
       " 0    5009\n",
       "-1       1\n",
       "Name: attend_park_ct, dtype: int64"
      ]
     },
     "execution_count": 172,
     "metadata": {},
     "output_type": "execute_result"
    }
   ],
   "source": [
    "# attendance can never be less than 1\n",
    "na_data = (game['attend_park_ct'].astype('int') < 1)\n",
    "game.loc[na_data, 'attend_park_ct'].value_counts()"
   ]
  },
  {
   "cell_type": "code",
   "execution_count": 203,
   "metadata": {},
   "outputs": [
    {
     "data": {
      "text/html": [
       "<a href=\"https://www.baseball-reference.com/boxes/BAL/BAL201504290.shtml\">BAL201504290</a>"
      ],
      "text/plain": [
       "<IPython.core.display.HTML object>"
      ]
     },
     "metadata": {},
     "output_type": "display_data"
    }
   ],
   "source": [
    "# actually there was 1 baseball game with no fans!\n",
    "game_id_to_url('BAL201504290')"
   ]
  },
  {
   "cell_type": "code",
   "execution_count": 173,
   "metadata": {},
   "outputs": [
    {
     "data": {
      "text/plain": [
       " 0    49108\n",
       "-1       85\n",
       "Name: temp_park_ct, dtype: int64"
      ]
     },
     "execution_count": 173,
     "metadata": {},
     "output_type": "execute_result"
    }
   ],
   "source": [
    "# MLB games never have a temp, in Fahrenheit, less than 1F\n",
    "na_data = (game['temp_park_ct'].astype('int') < 1)\n",
    "game.loc[na_data, 'temp_park_ct'].value_counts()"
   ]
  },
  {
   "cell_type": "code",
   "execution_count": 174,
   "metadata": {},
   "outputs": [],
   "source": [
    "# df.replace() could be used to replace na values, but its easier just to reread\n",
    "os.chdir(df_csv)\n",
    "game = pd.read_csv('game.csv.gz',\n",
    "            na_values={'attend_park_ct':[-1,0],\n",
    "                       'temp_park_ct':[-1,0]})"
   ]
  },
  {
   "cell_type": "code",
   "execution_count": 175,
   "metadata": {},
   "outputs": [
    {
     "data": {
      "text/html": [
       "<div>\n",
       "<style scoped>\n",
       "    .dataframe tbody tr th:only-of-type {\n",
       "        vertical-align: middle;\n",
       "    }\n",
       "\n",
       "    .dataframe tbody tr th {\n",
       "        vertical-align: top;\n",
       "    }\n",
       "\n",
       "    .dataframe thead th {\n",
       "        text-align: right;\n",
       "    }\n",
       "</style>\n",
       "<table border=\"1\" class=\"dataframe\">\n",
       "  <thead>\n",
       "    <tr style=\"text-align: right;\">\n",
       "      <th></th>\n",
       "      <th>game_id</th>\n",
       "      <th>game_dt</th>\n",
       "      <th>game_ct</th>\n",
       "      <th>game_dy</th>\n",
       "      <th>start_game_tm</th>\n",
       "      <th>dh_fl</th>\n",
       "      <th>daynight_park_cd</th>\n",
       "      <th>away_team_id</th>\n",
       "      <th>home_team_id</th>\n",
       "      <th>park_id</th>\n",
       "      <th>...</th>\n",
       "      <th>away_hits_ct</th>\n",
       "      <th>home_hits_ct</th>\n",
       "      <th>away_err_ct</th>\n",
       "      <th>home_err_ct</th>\n",
       "      <th>away_lob_ct</th>\n",
       "      <th>home_lob_ct</th>\n",
       "      <th>win_pit_id</th>\n",
       "      <th>lose_pit_id</th>\n",
       "      <th>save_pit_id</th>\n",
       "      <th>gwrbi_bat_id</th>\n",
       "    </tr>\n",
       "  </thead>\n",
       "  <tbody>\n",
       "    <tr>\n",
       "      <th>0</th>\n",
       "      <td>BAL195504120</td>\n",
       "      <td>19550412</td>\n",
       "      <td>0</td>\n",
       "      <td>Tuesday</td>\n",
       "      <td>0</td>\n",
       "      <td>F</td>\n",
       "      <td>D</td>\n",
       "      <td>BOS</td>\n",
       "      <td>BAL</td>\n",
       "      <td>BAL11</td>\n",
       "      <td>...</td>\n",
       "      <td>13</td>\n",
       "      <td>5</td>\n",
       "      <td>0</td>\n",
       "      <td>2</td>\n",
       "      <td>8</td>\n",
       "      <td>9</td>\n",
       "      <td>sullf101</td>\n",
       "      <td>colej101</td>\n",
       "      <td>NaN</td>\n",
       "      <td>NaN</td>\n",
       "    </tr>\n",
       "    <tr>\n",
       "      <th>1</th>\n",
       "      <td>BAL195504180</td>\n",
       "      <td>19550418</td>\n",
       "      <td>0</td>\n",
       "      <td>Monday</td>\n",
       "      <td>0</td>\n",
       "      <td>F</td>\n",
       "      <td>N</td>\n",
       "      <td>NYA</td>\n",
       "      <td>BAL</td>\n",
       "      <td>BAL11</td>\n",
       "      <td>...</td>\n",
       "      <td>8</td>\n",
       "      <td>3</td>\n",
       "      <td>0</td>\n",
       "      <td>1</td>\n",
       "      <td>5</td>\n",
       "      <td>4</td>\n",
       "      <td>fordw101</td>\n",
       "      <td>moorr101</td>\n",
       "      <td>NaN</td>\n",
       "      <td>NaN</td>\n",
       "    </tr>\n",
       "    <tr>\n",
       "      <th>2</th>\n",
       "      <td>BAL195504220</td>\n",
       "      <td>19550422</td>\n",
       "      <td>0</td>\n",
       "      <td>Friday</td>\n",
       "      <td>0</td>\n",
       "      <td>F</td>\n",
       "      <td>N</td>\n",
       "      <td>WS1</td>\n",
       "      <td>BAL</td>\n",
       "      <td>BAL11</td>\n",
       "      <td>...</td>\n",
       "      <td>4</td>\n",
       "      <td>8</td>\n",
       "      <td>2</td>\n",
       "      <td>1</td>\n",
       "      <td>6</td>\n",
       "      <td>11</td>\n",
       "      <td>mcdem102</td>\n",
       "      <td>wilsj104</td>\n",
       "      <td>schmj101</td>\n",
       "      <td>NaN</td>\n",
       "    </tr>\n",
       "  </tbody>\n",
       "</table>\n",
       "<p>3 rows × 46 columns</p>\n",
       "</div>"
      ],
      "text/plain": [
       "        game_id   game_dt  game_ct  game_dy  start_game_tm dh_fl  \\\n",
       "0  BAL195504120  19550412        0  Tuesday              0     F   \n",
       "1  BAL195504180  19550418        0   Monday              0     F   \n",
       "2  BAL195504220  19550422        0   Friday              0     F   \n",
       "\n",
       "  daynight_park_cd away_team_id home_team_id park_id  ... away_hits_ct  \\\n",
       "0                D          BOS          BAL   BAL11  ...           13   \n",
       "1                N          NYA          BAL   BAL11  ...            8   \n",
       "2                N          WS1          BAL   BAL11  ...            4   \n",
       "\n",
       "  home_hits_ct away_err_ct home_err_ct away_lob_ct home_lob_ct win_pit_id  \\\n",
       "0            5           0           2           8           9   sullf101   \n",
       "1            3           0           1           5           4   fordw101   \n",
       "2            8           2           1           6          11   mcdem102   \n",
       "\n",
       "  lose_pit_id  save_pit_id gwrbi_bat_id  \n",
       "0    colej101          NaN          NaN  \n",
       "1    moorr101          NaN          NaN  \n",
       "2    wilsj104     schmj101          NaN  \n",
       "\n",
       "[3 rows x 46 columns]"
      ]
     },
     "execution_count": 175,
     "metadata": {},
     "output_type": "execute_result"
    }
   ],
   "source": [
    "game.head(3)"
   ]
  },
  {
   "cell_type": "code",
   "execution_count": 176,
   "metadata": {},
   "outputs": [
    {
     "data": {
      "text/plain": [
       "True"
      ]
     },
     "execution_count": 176,
     "metadata": {},
     "output_type": "execute_result"
    }
   ],
   "source": [
    "# the primary key is (game_id), verify no dups\n",
    "game['game_id'].is_unique"
   ]
  },
  {
   "cell_type": "code",
   "execution_count": 177,
   "metadata": {},
   "outputs": [],
   "source": [
    "# these columns will not be used in the analysis\n",
    "drop_columns = ['edit_record_ts',\n",
    "                'wind_direction_park_cd',\n",
    "                'wind_speed_park_ct',\n",
    "                'field_park_cd',\n",
    "                'precip_park_cd',\n",
    "                'sky_park_cd',                \n",
    "                'base1_ump_id', \n",
    "                'base2_ump_id', \n",
    "                'base3_ump_id', \n",
    "                'base4_ump_id',\n",
    "                'scorer_record_id', \n",
    "                'inputter_record_id', \n",
    "                'lf_ump_id', \n",
    "                'rf_ump_id',\n",
    "                'translator_record_id', \n",
    "                'input_record_ts', \n",
    "                'method_record_cd',\n",
    "                'pitches_record_cd']"
   ]
  },
  {
   "cell_type": "code",
   "execution_count": 178,
   "metadata": {},
   "outputs": [],
   "source": [
    "game = game.drop(drop_columns, axis=1)"
   ]
  },
  {
   "cell_type": "code",
   "execution_count": 179,
   "metadata": {},
   "outputs": [
    {
     "data": {
      "text/plain": [
       "int64      13\n",
       "object     13\n",
       "float64     2\n",
       "dtype: int64"
      ]
     },
     "execution_count": 179,
     "metadata": {},
     "output_type": "execute_result"
    }
   ],
   "source": [
    "game.dtypes.value_counts()"
   ]
  },
  {
   "cell_type": "markdown",
   "metadata": {},
   "source": [
    "### Reverse Engineer am/pm for start_game_tm\n",
    "\n",
    "1. am/pm is not specified.\n",
    "2. The time is not in 24-hour format\n",
    "3. The time is an integer, not a string.  For example, 1259 means 12:59.\n",
    "4. A value of zero means the game start time is unknown.\n",
    "5. The daynight_park_cd is never missing.  This specifies whether the game started in \"day\" or at \"night\".\n",
    "6. MLB domain knowledge: Some games may start late, due to a rain delay for example.  But games never start after midnight.\n",
    "7. MLB domain knowledge: Some games may start early, to allow for travel to the next city.  But games never start before 9 am.\n",
    "\n",
    "Given the above, am/pm can be deduced as follows:\n",
    "* start_game_tm == 0 => use midnight (to represent unknown time)\n",
    "* start_game_tm >= 1200 => pm\n",
    "* start_game_tm < 900 => pm\n",
    "* 900 <= start_game_tm < 1200, and day/night = day, => am\n",
    "* 900 <= start_game_tm < 1200, and day/night = night, => pm"
   ]
  },
  {
   "cell_type": "code",
   "execution_count": 180,
   "metadata": {},
   "outputs": [],
   "source": [
    "def parse_datetime(row):\n",
    "    date = row['game_dt']\n",
    "    time = row['start_game_tm']\n",
    "    day_night = row['daynight_park_cd']\n",
    "    \n",
    "    if time > 0 and time < 900:\n",
    "        time += 1200\n",
    "    elif (900 <= time < 1200) and day_night == 'N':\n",
    "        time += 1200\n",
    "\n",
    "    time_str = f'{time//100:02d}:{time%100:02d}'\n",
    "    datetime_str = str(date) + ' ' + time_str\n",
    "    return pd.to_datetime(datetime_str, format='%Y%m%d %H:%M')"
   ]
  },
  {
   "cell_type": "code",
   "execution_count": 181,
   "metadata": {},
   "outputs": [],
   "source": [
    "# create new datetime column\n",
    "game['game_date'] = game.apply(parse_datetime, axis=1)"
   ]
  },
  {
   "cell_type": "markdown",
   "metadata": {},
   "source": [
    "### Replace game_dt with game_date in Stats per Player per Game\n",
    "Then save stats per player per game to compressed csv."
   ]
  },
  {
   "cell_type": "code",
   "execution_count": 152,
   "metadata": {},
   "outputs": [
    {
     "data": {
      "text/plain": [
       "dtype('<M8[ns]')"
      ]
     },
     "execution_count": 152,
     "metadata": {},
     "output_type": "execute_result"
    }
   ],
   "source": [
    "# add game_date column to player_game (inner join on game_id)\n",
    "player_game2 = pd.merge(player_game, game[['game_date','game_id']], on='game_id')\n",
    "player_game2['game_date'].dtype"
   ]
  },
  {
   "cell_type": "code",
   "execution_count": 155,
   "metadata": {},
   "outputs": [],
   "source": [
    "# remove the original game_dt field (YYYYMMDD)\n",
    "player_game2 = player_game2.drop('game_dt', axis=1)"
   ]
  },
  {
   "cell_type": "code",
   "execution_count": 156,
   "metadata": {},
   "outputs": [
    {
     "name": "stdout",
     "output_type": "stream",
     "text": [
      "CPU times: user 3min 51s, sys: 903 ms, total: 3min 51s\n",
      "Wall time: 3min 53s\n"
     ]
    }
   ],
   "source": [
    "os.chdir(wrangled)\n",
    "%time player_game2.to_csv('player_game.csv.gz', compression='gzip', index=False)"
   ]
  },
  {
   "cell_type": "code",
   "execution_count": 182,
   "metadata": {},
   "outputs": [],
   "source": [
    "# also remove game_dt from stats per game\n",
    "game = game.drop('game_dt', axis=1)"
   ]
  },
  {
   "cell_type": "markdown",
   "metadata": {},
   "source": [
    "### Optimize Data Types\n",
    "\n",
    "Normally, if the percentage of unique string values is large, there is no advantage in converting 'object' to 'category'.  (Although a join might work faster between two category variables than two string variables.)\n",
    "\n",
    "Here, optimize_data_types() will be called here and it will convert all object data types to categories."
   ]
  },
  {
   "cell_type": "code",
   "execution_count": 183,
   "metadata": {},
   "outputs": [
    {
     "data": {
      "text/plain": [
       "'112.74 MB'"
      ]
     },
     "execution_count": 183,
     "metadata": {},
     "output_type": "execute_result"
    }
   ],
   "source": [
    "mem_usage(game)"
   ]
  },
  {
   "cell_type": "code",
   "execution_count": 184,
   "metadata": {},
   "outputs": [],
   "source": [
    "# optimize_data_types will\n",
    "#  use smallest uint that can hold value\n",
    "#  convert all objects to category\n",
    "game = optimize_data_types(game)"
   ]
  },
  {
   "cell_type": "code",
   "execution_count": 185,
   "metadata": {},
   "outputs": [
    {
     "data": {
      "text/plain": [
       "'22.99 MB'"
      ]
     },
     "execution_count": 185,
     "metadata": {},
     "output_type": "execute_result"
    }
   ],
   "source": [
    "# about 5 times less memory is being used\n",
    "mem_usage(game)"
   ]
  },
  {
   "cell_type": "code",
   "execution_count": 186,
   "metadata": {},
   "outputs": [
    {
     "data": {
      "text/plain": [
       "True"
      ]
     },
     "execution_count": 186,
     "metadata": {},
     "output_type": "execute_result"
    }
   ],
   "source": [
    "# a unique key is: (date, home_team, game_count)\n",
    "is_unique(game, ['game_date', 'home_team_id', 'game_ct'])"
   ]
  },
  {
   "cell_type": "code",
   "execution_count": 187,
   "metadata": {},
   "outputs": [
    {
     "data": {
      "text/plain": [
       "True"
      ]
     },
     "execution_count": 187,
     "metadata": {},
     "output_type": "execute_result"
    }
   ],
   "source": [
    "# game_id is a string concatenation of the above 3 fields, so it is also unique\n",
    "game['game_id'].is_unique"
   ]
  },
  {
   "cell_type": "code",
   "execution_count": 188,
   "metadata": {},
   "outputs": [
    {
     "data": {
      "text/html": [
       "<div>\n",
       "<style scoped>\n",
       "    .dataframe tbody tr th:only-of-type {\n",
       "        vertical-align: middle;\n",
       "    }\n",
       "\n",
       "    .dataframe tbody tr th {\n",
       "        vertical-align: top;\n",
       "    }\n",
       "\n",
       "    .dataframe thead th {\n",
       "        text-align: right;\n",
       "    }\n",
       "</style>\n",
       "<table border=\"1\" class=\"dataframe\">\n",
       "  <thead>\n",
       "    <tr style=\"text-align: right;\">\n",
       "      <th></th>\n",
       "      <th>count</th>\n",
       "      <th>mean</th>\n",
       "      <th>std</th>\n",
       "      <th>min</th>\n",
       "      <th>25%</th>\n",
       "      <th>50%</th>\n",
       "      <th>75%</th>\n",
       "      <th>max</th>\n",
       "    </tr>\n",
       "  </thead>\n",
       "  <tbody>\n",
       "    <tr>\n",
       "      <th>attend_park_ct</th>\n",
       "      <td>124836.0</td>\n",
       "      <td>24810.611258</td>\n",
       "      <td>12761.524179</td>\n",
       "      <td>306.0</td>\n",
       "      <td>14327.75</td>\n",
       "      <td>23709.0</td>\n",
       "      <td>34748.0</td>\n",
       "      <td>80227.0</td>\n",
       "    </tr>\n",
       "    <tr>\n",
       "      <th>temp_park_ct</th>\n",
       "      <td>80653.0</td>\n",
       "      <td>72.922074</td>\n",
       "      <td>10.920313</td>\n",
       "      <td>12.0</td>\n",
       "      <td>67.00</td>\n",
       "      <td>73.0</td>\n",
       "      <td>80.0</td>\n",
       "      <td>109.0</td>\n",
       "    </tr>\n",
       "  </tbody>\n",
       "</table>\n",
       "</div>"
      ],
      "text/plain": [
       "                   count          mean           std    min       25%  \\\n",
       "attend_park_ct  124836.0  24810.611258  12761.524179  306.0  14327.75   \n",
       "temp_park_ct     80653.0     72.922074     10.920313   12.0     67.00   \n",
       "\n",
       "                    50%      75%      max  \n",
       "attend_park_ct  23709.0  34748.0  80227.0  \n",
       "temp_park_ct       73.0     80.0    109.0  "
      ]
     },
     "execution_count": 188,
     "metadata": {},
     "output_type": "execute_result"
    }
   ],
   "source": [
    "game_float = game.select_dtypes(include=[np.float])\n",
    "game_float.describe().T"
   ]
  },
  {
   "cell_type": "code",
   "execution_count": 189,
   "metadata": {},
   "outputs": [],
   "source": [
    "def is_all_int(s):\n",
    "    \"\"\"Returns True if all non-null values are integers\"\"\"\n",
    "    notnull = s.notnull()\n",
    "    is_integer = s.apply(lambda x: (x%1 == 0.0))\n",
    "    return (notnull == is_integer).all()"
   ]
  },
  {
   "cell_type": "code",
   "execution_count": 190,
   "metadata": {},
   "outputs": [
    {
     "data": {
      "text/plain": [
       "True"
      ]
     },
     "execution_count": 190,
     "metadata": {},
     "output_type": "execute_result"
    }
   ],
   "source": [
    "# attendance and temperature are always recorded as integers\n",
    "is_all_int(game['attend_park_ct'])"
   ]
  },
  {
   "cell_type": "code",
   "execution_count": 191,
   "metadata": {},
   "outputs": [
    {
     "data": {
      "text/plain": [
       "True"
      ]
     },
     "execution_count": 191,
     "metadata": {},
     "output_type": "execute_result"
    }
   ],
   "source": [
    "is_all_int(game['temp_park_ct'])"
   ]
  },
  {
   "cell_type": "markdown",
   "metadata": {},
   "source": [
    "### Missing Values: Attendance and Temperature\n",
    "\n",
    "Attendance must be an integer, so it is tempting ot use fillna with a special integer value that means \"missing\" so that Pandas will not change the column type to float.  However this means that all data analysis on this column must be aware of this special value in order to properly compute, for example, aggregates based on this column.  This could lead to unintended errors.\n",
    "\n",
    "Temperature is not intrinsically an integer, it just happens to be recorded to the nearest whole number.  In the future, it can be imaged that a fractional temperature could be recorded.\n",
    "\n",
    "As Pandas handles missing values correctly by default, it is easiest to leave both of the above columns as float (which means when they are saved to a database table, they will also be of type float, even though a database can represent an integer variable with null values)."
   ]
  },
  {
   "cell_type": "code",
   "execution_count": 202,
   "metadata": {},
   "outputs": [
    {
     "data": {
      "text/html": [
       "<div>\n",
       "<style scoped>\n",
       "    .dataframe tbody tr th:only-of-type {\n",
       "        vertical-align: middle;\n",
       "    }\n",
       "\n",
       "    .dataframe tbody tr th {\n",
       "        vertical-align: top;\n",
       "    }\n",
       "\n",
       "    .dataframe thead th {\n",
       "        text-align: right;\n",
       "    }\n",
       "</style>\n",
       "<table border=\"1\" class=\"dataframe\">\n",
       "  <thead>\n",
       "    <tr style=\"text-align: right;\">\n",
       "      <th></th>\n",
       "      <th>index</th>\n",
       "      <th>dtypes</th>\n",
       "    </tr>\n",
       "  </thead>\n",
       "  <tbody>\n",
       "    <tr>\n",
       "      <th>0</th>\n",
       "      <td>game_id</td>\n",
       "      <td>category</td>\n",
       "    </tr>\n",
       "    <tr>\n",
       "      <th>1</th>\n",
       "      <td>game_ct</td>\n",
       "      <td>uint8</td>\n",
       "    </tr>\n",
       "    <tr>\n",
       "      <th>2</th>\n",
       "      <td>game_dy</td>\n",
       "      <td>category</td>\n",
       "    </tr>\n",
       "    <tr>\n",
       "      <th>3</th>\n",
       "      <td>start_game_tm</td>\n",
       "      <td>uint16</td>\n",
       "    </tr>\n",
       "    <tr>\n",
       "      <th>4</th>\n",
       "      <td>dh_fl</td>\n",
       "      <td>category</td>\n",
       "    </tr>\n",
       "    <tr>\n",
       "      <th>5</th>\n",
       "      <td>daynight_park_cd</td>\n",
       "      <td>category</td>\n",
       "    </tr>\n",
       "    <tr>\n",
       "      <th>6</th>\n",
       "      <td>away_team_id</td>\n",
       "      <td>category</td>\n",
       "    </tr>\n",
       "    <tr>\n",
       "      <th>7</th>\n",
       "      <td>home_team_id</td>\n",
       "      <td>category</td>\n",
       "    </tr>\n",
       "    <tr>\n",
       "      <th>8</th>\n",
       "      <td>park_id</td>\n",
       "      <td>category</td>\n",
       "    </tr>\n",
       "    <tr>\n",
       "      <th>9</th>\n",
       "      <td>away_start_pit_id</td>\n",
       "      <td>category</td>\n",
       "    </tr>\n",
       "    <tr>\n",
       "      <th>10</th>\n",
       "      <td>home_start_pit_id</td>\n",
       "      <td>category</td>\n",
       "    </tr>\n",
       "    <tr>\n",
       "      <th>11</th>\n",
       "      <td>attend_park_ct</td>\n",
       "      <td>float64</td>\n",
       "    </tr>\n",
       "    <tr>\n",
       "      <th>12</th>\n",
       "      <td>temp_park_ct</td>\n",
       "      <td>float64</td>\n",
       "    </tr>\n",
       "    <tr>\n",
       "      <th>13</th>\n",
       "      <td>minutes_game_ct</td>\n",
       "      <td>uint16</td>\n",
       "    </tr>\n",
       "    <tr>\n",
       "      <th>14</th>\n",
       "      <td>inn_ct</td>\n",
       "      <td>uint8</td>\n",
       "    </tr>\n",
       "    <tr>\n",
       "      <th>15</th>\n",
       "      <td>away_score_ct</td>\n",
       "      <td>uint8</td>\n",
       "    </tr>\n",
       "    <tr>\n",
       "      <th>16</th>\n",
       "      <td>home_score_ct</td>\n",
       "      <td>uint8</td>\n",
       "    </tr>\n",
       "    <tr>\n",
       "      <th>17</th>\n",
       "      <td>away_hits_ct</td>\n",
       "      <td>uint8</td>\n",
       "    </tr>\n",
       "    <tr>\n",
       "      <th>18</th>\n",
       "      <td>home_hits_ct</td>\n",
       "      <td>uint8</td>\n",
       "    </tr>\n",
       "    <tr>\n",
       "      <th>19</th>\n",
       "      <td>away_err_ct</td>\n",
       "      <td>uint8</td>\n",
       "    </tr>\n",
       "    <tr>\n",
       "      <th>20</th>\n",
       "      <td>home_err_ct</td>\n",
       "      <td>uint8</td>\n",
       "    </tr>\n",
       "    <tr>\n",
       "      <th>21</th>\n",
       "      <td>away_lob_ct</td>\n",
       "      <td>uint8</td>\n",
       "    </tr>\n",
       "    <tr>\n",
       "      <th>22</th>\n",
       "      <td>home_lob_ct</td>\n",
       "      <td>uint8</td>\n",
       "    </tr>\n",
       "    <tr>\n",
       "      <th>23</th>\n",
       "      <td>win_pit_id</td>\n",
       "      <td>category</td>\n",
       "    </tr>\n",
       "    <tr>\n",
       "      <th>24</th>\n",
       "      <td>lose_pit_id</td>\n",
       "      <td>category</td>\n",
       "    </tr>\n",
       "    <tr>\n",
       "      <th>25</th>\n",
       "      <td>save_pit_id</td>\n",
       "      <td>category</td>\n",
       "    </tr>\n",
       "    <tr>\n",
       "      <th>26</th>\n",
       "      <td>gwrbi_bat_id</td>\n",
       "      <td>category</td>\n",
       "    </tr>\n",
       "    <tr>\n",
       "      <th>27</th>\n",
       "      <td>game_date</td>\n",
       "      <td>datetime64[ns]</td>\n",
       "    </tr>\n",
       "  </tbody>\n",
       "</table>\n",
       "</div>"
      ],
      "text/plain": [
       "                index          dtypes\n",
       "0             game_id        category\n",
       "1             game_ct           uint8\n",
       "2             game_dy        category\n",
       "3       start_game_tm          uint16\n",
       "4               dh_fl        category\n",
       "5    daynight_park_cd        category\n",
       "6        away_team_id        category\n",
       "7        home_team_id        category\n",
       "8             park_id        category\n",
       "9   away_start_pit_id        category\n",
       "10  home_start_pit_id        category\n",
       "11     attend_park_ct         float64\n",
       "12       temp_park_ct         float64\n",
       "13    minutes_game_ct          uint16\n",
       "14             inn_ct           uint8\n",
       "15      away_score_ct           uint8\n",
       "16      home_score_ct           uint8\n",
       "17       away_hits_ct           uint8\n",
       "18       home_hits_ct           uint8\n",
       "19        away_err_ct           uint8\n",
       "20        home_err_ct           uint8\n",
       "21        away_lob_ct           uint8\n",
       "22        home_lob_ct           uint8\n",
       "23         win_pit_id        category\n",
       "24        lose_pit_id        category\n",
       "25        save_pit_id        category\n",
       "26       gwrbi_bat_id        category\n",
       "27          game_date  datetime64[ns]"
      ]
     },
     "execution_count": 202,
     "metadata": {},
     "output_type": "execute_result"
    }
   ],
   "source": [
    "# for next time the data is read in ...\n",
    "game.dtypes.to_frame('dtypes').reset_index()"
   ]
  },
  {
   "cell_type": "code",
   "execution_count": 192,
   "metadata": {},
   "outputs": [
    {
     "name": "stdout",
     "output_type": "stream",
     "text": [
      "CPU times: user 3.33 s, sys: 11.7 ms, total: 3.35 s\n",
      "Wall time: 3.36 s\n"
     ]
    }
   ],
   "source": [
    "os.chdir(wrangled)\n",
    "%time game.to_csv('game.csv.gz', compression='gzip', index=False)"
   ]
  },
  {
   "cell_type": "markdown",
   "metadata": {
    "toc-hr-collapsed": true
   },
   "source": [
    "## 3. Scrape Data for Players Lookup Table\n",
    "\n",
    "There needs to be a player_id to player information mapping.  There is no separate file for this.  It will be scraped from a web page."
   ]
  },
  {
   "cell_type": "code",
   "execution_count": 193,
   "metadata": {},
   "outputs": [],
   "source": [
    "import requests\n",
    "import pandas as pd\n",
    "from io import StringIO\n",
    "from bs4 import BeautifulSoup"
   ]
  },
  {
   "cell_type": "code",
   "execution_count": 194,
   "metadata": {},
   "outputs": [],
   "source": [
    "# get the web page\n",
    "r = requests.get(\"https://www.retrosheet.org/retroID.htm\")\n",
    "soup = BeautifulSoup(r.content, 'lxml')\n",
    "\n",
    "# data is within the pre tag\n",
    "table_txt = soup.pre.string\n",
    "\n",
    "# remove unnecessary double quotes\n",
    "table_txt = table_txt.replace('\"','')"
   ]
  },
  {
   "cell_type": "code",
   "execution_count": 195,
   "metadata": {},
   "outputs": [],
   "source": [
    "# read from this string instead of file\n",
    "players = pd.read_csv(StringIO(table_txt), \n",
    "    parse_dates=['Play debut', 'Mgr debut', 'Ump debut'])"
   ]
  },
  {
   "cell_type": "code",
   "execution_count": 196,
   "metadata": {},
   "outputs": [],
   "source": [
    "# Coach debut has some bad values\n",
    "def parse_date(value):\n",
    "    if pd.isna(value) or value == '43188' or int(value[-4:]) < 1800:\n",
    "        return pd.NaT\n",
    "    else:\n",
    "        return pd.datetime.strptime(value, '%m/%d/%Y')\n",
    "players['Coach debut'] = players['Coach debut'].apply(parse_date)"
   ]
  },
  {
   "cell_type": "code",
   "execution_count": 197,
   "metadata": {},
   "outputs": [
    {
     "data": {
      "text/html": [
       "<div>\n",
       "<style scoped>\n",
       "    .dataframe tbody tr th:only-of-type {\n",
       "        vertical-align: middle;\n",
       "    }\n",
       "\n",
       "    .dataframe tbody tr th {\n",
       "        vertical-align: top;\n",
       "    }\n",
       "\n",
       "    .dataframe thead th {\n",
       "        text-align: right;\n",
       "    }\n",
       "</style>\n",
       "<table border=\"1\" class=\"dataframe\">\n",
       "  <thead>\n",
       "    <tr style=\"text-align: right;\">\n",
       "      <th></th>\n",
       "      <th>ID</th>\n",
       "      <th>Last</th>\n",
       "      <th>First</th>\n",
       "      <th>Play debut</th>\n",
       "      <th>Mgr debut</th>\n",
       "      <th>Coach debut</th>\n",
       "      <th>Ump debut</th>\n",
       "    </tr>\n",
       "  </thead>\n",
       "  <tbody>\n",
       "    <tr>\n",
       "      <th>0</th>\n",
       "      <td>aardd001</td>\n",
       "      <td>Aardsma</td>\n",
       "      <td>David</td>\n",
       "      <td>2004-04-06</td>\n",
       "      <td>NaT</td>\n",
       "      <td>NaT</td>\n",
       "      <td>NaT</td>\n",
       "    </tr>\n",
       "    <tr>\n",
       "      <th>1</th>\n",
       "      <td>aaroh101</td>\n",
       "      <td>Aaron</td>\n",
       "      <td>Hank</td>\n",
       "      <td>1954-04-13</td>\n",
       "      <td>NaT</td>\n",
       "      <td>NaT</td>\n",
       "      <td>NaT</td>\n",
       "    </tr>\n",
       "    <tr>\n",
       "      <th>2</th>\n",
       "      <td>aarot101</td>\n",
       "      <td>Aaron</td>\n",
       "      <td>Tommie</td>\n",
       "      <td>1962-04-10</td>\n",
       "      <td>NaT</td>\n",
       "      <td>1979-04-06</td>\n",
       "      <td>NaT</td>\n",
       "    </tr>\n",
       "    <tr>\n",
       "      <th>3</th>\n",
       "      <td>aased001</td>\n",
       "      <td>Aase</td>\n",
       "      <td>Don</td>\n",
       "      <td>1977-07-26</td>\n",
       "      <td>NaT</td>\n",
       "      <td>NaT</td>\n",
       "      <td>NaT</td>\n",
       "    </tr>\n",
       "    <tr>\n",
       "      <th>4</th>\n",
       "      <td>abada001</td>\n",
       "      <td>Abad</td>\n",
       "      <td>Andy</td>\n",
       "      <td>2001-09-10</td>\n",
       "      <td>NaT</td>\n",
       "      <td>NaT</td>\n",
       "      <td>NaT</td>\n",
       "    </tr>\n",
       "  </tbody>\n",
       "</table>\n",
       "</div>"
      ],
      "text/plain": [
       "         ID     Last   First Play debut Mgr debut Coach debut Ump debut\n",
       "0  aardd001  Aardsma   David 2004-04-06       NaT         NaT       NaT\n",
       "1  aaroh101    Aaron    Hank 1954-04-13       NaT         NaT       NaT\n",
       "2  aarot101    Aaron  Tommie 1962-04-10       NaT  1979-04-06       NaT\n",
       "3  aased001     Aase     Don 1977-07-26       NaT         NaT       NaT\n",
       "4  abada001     Abad    Andy 2001-09-10       NaT         NaT       NaT"
      ]
     },
     "execution_count": 197,
     "metadata": {},
     "output_type": "execute_result"
    }
   ],
   "source": [
    "players.head()"
   ]
  },
  {
   "cell_type": "code",
   "execution_count": 198,
   "metadata": {},
   "outputs": [
    {
     "data": {
      "text/html": [
       "<div>\n",
       "<style scoped>\n",
       "    .dataframe tbody tr th:only-of-type {\n",
       "        vertical-align: middle;\n",
       "    }\n",
       "\n",
       "    .dataframe tbody tr th {\n",
       "        vertical-align: top;\n",
       "    }\n",
       "\n",
       "    .dataframe thead th {\n",
       "        text-align: right;\n",
       "    }\n",
       "</style>\n",
       "<table border=\"1\" class=\"dataframe\">\n",
       "  <thead>\n",
       "    <tr style=\"text-align: right;\">\n",
       "      <th></th>\n",
       "      <th>player_id</th>\n",
       "      <th>last</th>\n",
       "      <th>first</th>\n",
       "      <th>player_debut</th>\n",
       "      <th>mgr_debut</th>\n",
       "      <th>coach_debut</th>\n",
       "      <th>ump_debut</th>\n",
       "    </tr>\n",
       "  </thead>\n",
       "  <tbody>\n",
       "    <tr>\n",
       "      <th>0</th>\n",
       "      <td>aardd001</td>\n",
       "      <td>Aardsma</td>\n",
       "      <td>David</td>\n",
       "      <td>2004-04-06</td>\n",
       "      <td>NaT</td>\n",
       "      <td>NaT</td>\n",
       "      <td>NaT</td>\n",
       "    </tr>\n",
       "    <tr>\n",
       "      <th>1</th>\n",
       "      <td>aaroh101</td>\n",
       "      <td>Aaron</td>\n",
       "      <td>Hank</td>\n",
       "      <td>1954-04-13</td>\n",
       "      <td>NaT</td>\n",
       "      <td>NaT</td>\n",
       "      <td>NaT</td>\n",
       "    </tr>\n",
       "    <tr>\n",
       "      <th>2</th>\n",
       "      <td>aarot101</td>\n",
       "      <td>Aaron</td>\n",
       "      <td>Tommie</td>\n",
       "      <td>1962-04-10</td>\n",
       "      <td>NaT</td>\n",
       "      <td>1979-04-06</td>\n",
       "      <td>NaT</td>\n",
       "    </tr>\n",
       "    <tr>\n",
       "      <th>3</th>\n",
       "      <td>aased001</td>\n",
       "      <td>Aase</td>\n",
       "      <td>Don</td>\n",
       "      <td>1977-07-26</td>\n",
       "      <td>NaT</td>\n",
       "      <td>NaT</td>\n",
       "      <td>NaT</td>\n",
       "    </tr>\n",
       "    <tr>\n",
       "      <th>4</th>\n",
       "      <td>abada001</td>\n",
       "      <td>Abad</td>\n",
       "      <td>Andy</td>\n",
       "      <td>2001-09-10</td>\n",
       "      <td>NaT</td>\n",
       "      <td>NaT</td>\n",
       "      <td>NaT</td>\n",
       "    </tr>\n",
       "  </tbody>\n",
       "</table>\n",
       "</div>"
      ],
      "text/plain": [
       "  player_id     last   first player_debut mgr_debut coach_debut ump_debut\n",
       "0  aardd001  Aardsma   David   2004-04-06       NaT         NaT       NaT\n",
       "1  aaroh101    Aaron    Hank   1954-04-13       NaT         NaT       NaT\n",
       "2  aarot101    Aaron  Tommie   1962-04-10       NaT  1979-04-06       NaT\n",
       "3  aased001     Aase     Don   1977-07-26       NaT         NaT       NaT\n",
       "4  abada001     Abad    Andy   2001-09-10       NaT         NaT       NaT"
      ]
     },
     "execution_count": 198,
     "metadata": {},
     "output_type": "execute_result"
    }
   ],
   "source": [
    "name_chg = {'ID':'player_id',\n",
    "         'Last':'last',\n",
    "         'First':'first',\n",
    "         'Play debut':'player_debut',\n",
    "         'Mgr debut':'mgr_debut',\n",
    "         'Coach debut': 'coach_debut',\n",
    "         'Ump debut':'ump_debut'}\n",
    "players = players.rename(columns=name_chg)\n",
    "players.head()"
   ]
  },
  {
   "cell_type": "markdown",
   "metadata": {},
   "source": [
    "#### Persist Players"
   ]
  },
  {
   "cell_type": "code",
   "execution_count": 199,
   "metadata": {},
   "outputs": [],
   "source": [
    "os.chdir(wrangled)\n",
    "players.to_csv('players.csv', index=False)"
   ]
  },
  {
   "cell_type": "markdown",
   "metadata": {
    "toc-hr-collapsed": true
   },
   "source": [
    "## 4. Scrape Data for Stadium (Park) Lookup Table\n",
    "There is no separate file for this, it will be scraped from a web page."
   ]
  },
  {
   "cell_type": "code",
   "execution_count": 68,
   "metadata": {},
   "outputs": [],
   "source": [
    "# get the web page (this is not html!)\n",
    "r = requests.get(\"https://www.retrosheet.org/parkcode.txt\")\n",
    "\n",
    "table_txt = r.content.decode(\"utf-8\")\n",
    "\n",
    "# read from this string instead of file\n",
    "parks = pd.read_csv(StringIO(table_txt), parse_dates=['START', 'END'])"
   ]
  },
  {
   "cell_type": "code",
   "execution_count": 69,
   "metadata": {},
   "outputs": [
    {
     "data": {
      "text/html": [
       "<div>\n",
       "<style scoped>\n",
       "    .dataframe tbody tr th:only-of-type {\n",
       "        vertical-align: middle;\n",
       "    }\n",
       "\n",
       "    .dataframe tbody tr th {\n",
       "        vertical-align: top;\n",
       "    }\n",
       "\n",
       "    .dataframe thead th {\n",
       "        text-align: right;\n",
       "    }\n",
       "</style>\n",
       "<table border=\"1\" class=\"dataframe\">\n",
       "  <thead>\n",
       "    <tr style=\"text-align: right;\">\n",
       "      <th></th>\n",
       "      <th>parkid</th>\n",
       "      <th>name</th>\n",
       "      <th>aka</th>\n",
       "      <th>city</th>\n",
       "      <th>state</th>\n",
       "      <th>start</th>\n",
       "      <th>end</th>\n",
       "      <th>league</th>\n",
       "      <th>notes</th>\n",
       "    </tr>\n",
       "  </thead>\n",
       "  <tbody>\n",
       "    <tr>\n",
       "      <th>0</th>\n",
       "      <td>ALB01</td>\n",
       "      <td>Riverside Park</td>\n",
       "      <td>NaN</td>\n",
       "      <td>Albany</td>\n",
       "      <td>NY</td>\n",
       "      <td>1880-09-11</td>\n",
       "      <td>1882-05-30</td>\n",
       "      <td>NL</td>\n",
       "      <td>TRN:9/11/80;6/15&amp;9/10/1881;5/16-5/18&amp;5/30/1882</td>\n",
       "    </tr>\n",
       "    <tr>\n",
       "      <th>1</th>\n",
       "      <td>ALT01</td>\n",
       "      <td>Columbia Park</td>\n",
       "      <td>NaN</td>\n",
       "      <td>Altoona</td>\n",
       "      <td>PA</td>\n",
       "      <td>1884-04-30</td>\n",
       "      <td>1884-05-31</td>\n",
       "      <td>UA</td>\n",
       "      <td>NaN</td>\n",
       "    </tr>\n",
       "    <tr>\n",
       "      <th>2</th>\n",
       "      <td>ANA01</td>\n",
       "      <td>Angel Stadium of Anaheim</td>\n",
       "      <td>Edison Field; Anaheim Stadium</td>\n",
       "      <td>Anaheim</td>\n",
       "      <td>CA</td>\n",
       "      <td>1966-04-19</td>\n",
       "      <td>NaT</td>\n",
       "      <td>AL</td>\n",
       "      <td>NaN</td>\n",
       "    </tr>\n",
       "    <tr>\n",
       "      <th>3</th>\n",
       "      <td>ARL01</td>\n",
       "      <td>Arlington Stadium</td>\n",
       "      <td>NaN</td>\n",
       "      <td>Arlington</td>\n",
       "      <td>TX</td>\n",
       "      <td>1972-04-21</td>\n",
       "      <td>1993-10-03</td>\n",
       "      <td>AL</td>\n",
       "      <td>NaN</td>\n",
       "    </tr>\n",
       "    <tr>\n",
       "      <th>4</th>\n",
       "      <td>ARL02</td>\n",
       "      <td>Rangers Ballpark in Arlington</td>\n",
       "      <td>The Ballpark in Arlington; Ameriquest Fl</td>\n",
       "      <td>Arlington</td>\n",
       "      <td>TX</td>\n",
       "      <td>1994-04-11</td>\n",
       "      <td>NaT</td>\n",
       "      <td>AL</td>\n",
       "      <td>NaN</td>\n",
       "    </tr>\n",
       "  </tbody>\n",
       "</table>\n",
       "</div>"
      ],
      "text/plain": [
       "  parkid                           name  \\\n",
       "0  ALB01                 Riverside Park   \n",
       "1  ALT01                  Columbia Park   \n",
       "2  ANA01       Angel Stadium of Anaheim   \n",
       "3  ARL01              Arlington Stadium   \n",
       "4  ARL02  Rangers Ballpark in Arlington   \n",
       "\n",
       "                                        aka       city state      start  \\\n",
       "0                                       NaN     Albany    NY 1880-09-11   \n",
       "1                                       NaN    Altoona    PA 1884-04-30   \n",
       "2             Edison Field; Anaheim Stadium    Anaheim    CA 1966-04-19   \n",
       "3                                       NaN  Arlington    TX 1972-04-21   \n",
       "4  The Ballpark in Arlington; Ameriquest Fl  Arlington    TX 1994-04-11   \n",
       "\n",
       "         end league                                           notes  \n",
       "0 1882-05-30     NL  TRN:9/11/80;6/15&9/10/1881;5/16-5/18&5/30/1882  \n",
       "1 1884-05-31     UA                                             NaN  \n",
       "2        NaT     AL                                             NaN  \n",
       "3 1993-10-03     AL                                             NaN  \n",
       "4        NaT     AL                                             NaN  "
      ]
     },
     "execution_count": 69,
     "metadata": {},
     "output_type": "execute_result"
    }
   ],
   "source": [
    "parks.columns = parks.columns.str.lower()\n",
    "parks.head()"
   ]
  },
  {
   "cell_type": "markdown",
   "metadata": {},
   "source": [
    "#### Persist Stadiums"
   ]
  },
  {
   "cell_type": "code",
   "execution_count": 200,
   "metadata": {},
   "outputs": [],
   "source": [
    "os.chdir(wrangled)\n",
    "parks.to_csv('parks.csv', index=False)"
   ]
  }
 ],
 "metadata": {
  "kernelspec": {
   "display_name": "Python 3",
   "language": "python",
   "name": "python3"
  },
  "language_info": {
   "codemirror_mode": {
    "name": "ipython",
    "version": 3
   },
   "file_extension": ".py",
   "mimetype": "text/x-python",
   "name": "python",
   "nbconvert_exporter": "python",
   "pygments_lexer": "ipython3",
   "version": "3.7.2"
  }
 },
 "nbformat": 4,
 "nbformat_minor": 2
}
