{
 "cells": [
  {
   "cell_type": "markdown",
   "metadata": {},
   "source": [
    "# Parsing a Jupyter Lab Notebook with Regular Expressions\n",
    "\n",
    "This is a fairly involved example that requires knowledge of the simple examples presented in my notebooks for:\n",
    "1. Core Python\n",
    "2. Core Python 2\n",
    "3. Regular Expressions"
   ]
  },
  {
   "cell_type": "markdown",
   "metadata": {},
   "source": [
    "## Task Overview\n",
    "\n",
    "Find all imported modules in all notebooks found in my \\\\$\\{HOME\\} directory and below."
   ]
  },
  {
   "cell_type": "markdown",
   "metadata": {},
   "source": [
    "## Task Detail\n",
    "\n",
    "* Skip notebooks under the \\\\$\\{HOME\\}/anaconda\n",
    "* Only check notebook cells of type 'code'\n",
    "* Ignore cells that use magic commands\n",
    "* Ignore content of comments, triple quoted strings, etc.\n",
    "* Determine which modules found in all notebooks are missing from the conda environment this notebook is running in\n",
    "* Create a mapping between each module and the notebooks which use them\n",
    "* Find the most commonly imported modules\n",
    "\n",
    "Jupyter Notebook Format: https://nbformat.readthedocs.io/en/latest/format_description.html  \n",
    "API to read Jupyter Notebooks: https://nbformat.readthedocs.io/en/latest/api.html\n",
    "\n",
    "For complete parsing of Python syntax use: https://greentreesnakes.readthedocs.io/en/latest/\n",
    "\n",
    "This example uses Regular Expression to parse all common use cases of Python's import syntax."
   ]
  },
  {
   "cell_type": "markdown",
   "metadata": {},
   "source": [
    "#### Software Engineering Note\n",
    "\n",
    "Collecting several edge cases, in a quick and easy to run \"unit test\", is helpful.\n",
    "\n",
    "Unit testing in a professional environment is performed with a tool such as pytest.\n",
    "\n",
    "Jupyter Notebooks are not good for unit testing per se, but the principles of unit testing can still be applied within a Jupyter Notebook."
   ]
  },
  {
   "cell_type": "code",
   "execution_count": 1,
   "metadata": {},
   "outputs": [
    {
     "name": "stdout",
     "output_type": "stream",
     "text": [
      "hello world\n",
      "import not_real_module\n"
     ]
    }
   ],
   "source": [
    "# create a test notebook cell with valid and invalid import use cases\n",
    "# these are valid imports\n",
    "from __future__ import annotations\n",
    "import sys\n",
    "import numpy as np\n",
    "from numpy import random\n",
    "import nbformat\n",
    "import sklearn.model_selection\n",
    "from sklearn.feature_extraction import DictVectorizer\n",
    "\n",
    "# when parsed, these should be the modules found to be imported\n",
    "valid_modules = {'annotations', 'nbformat', 'numpy', 'sklearn.feature_extraction', 'sklearn.model_selection','sys'}\n",
    "\n",
    "# the following are not actually importing a module\n",
    "# from __future__ import not_real_module\n",
    "print(\"hello world\") # import not_real_module\n",
    "print(\"import not_real_module\")\n",
    "s = \"\"\"\n",
    "import not_real_module\n",
    "\"\"\"\n",
    "t = \"\"\"import not_real_module\n",
    "\"\"\"\n",
    "a = 'import not_real_module'\n",
    "b = 'from not_real_module import not_real_class'"
   ]
  },
  {
   "cell_type": "markdown",
   "metadata": {},
   "source": [
    "#### Find the above notebook cell and display it"
   ]
  },
  {
   "cell_type": "code",
   "execution_count": 2,
   "metadata": {},
   "outputs": [
    {
     "name": "stdout",
     "output_type": "stream",
     "text": [
      "Cell Index: 4\n",
      "\n",
      "# create a test notebook cell with valid and invalid import use cases\n",
      "# these are valid imports\n",
      "from __future__ import annotations\n",
      "import sys\n",
      "import numpy as np\n",
      "from numpy import random\n",
      "import nbformat\n",
      "import sklearn.model_selection\n",
      "from sklearn.feature_extraction import DictVectorizer\n",
      "\n",
      "# when parsed, these should be the modules found to be imported\n",
      "valid_modules = {'annotations', 'nbformat', 'numpy', 'sklearn.feature_extraction', 'sklearn.model_selection','sys'}\n",
      "\n",
      "# the following are not actually importing a module\n",
      "# from __future__ import not_real_module\n",
      "print(\"hello world\") # import not_real_module\n",
      "print(\"import not_real_module\")\n",
      "s = \"\"\"\n",
      "import not_real_module\n",
      "\"\"\"\n",
      "t = \"\"\"import not_real_module\n",
      "\"\"\"\n",
      "a = 'import not_real_module'\n",
      "b = 'from not_real_module import not_real_class'\n"
     ]
    }
   ],
   "source": [
    "nb = nbformat.read('RegExParseNB.ipynb', as_version=4)\n",
    "for cell_num, cell in enumerate(nb.cells):\n",
    "    if '# create a test notebook cell with' in cell.source:\n",
    "        break\n",
    "\n",
    "print(f'Cell Index: {cell_num}')\n",
    "print()\n",
    "print(nb.cells[cell_num].source)"
   ]
  },
  {
   "cell_type": "markdown",
   "metadata": {},
   "source": [
    "#### Parse the Test Notebook Cell using Regular Expressions"
   ]
  },
  {
   "cell_type": "code",
   "execution_count": 3,
   "metadata": {},
   "outputs": [
    {
     "data": {
      "text/plain": [
       "True"
      ]
     },
     "execution_count": 3,
     "metadata": {},
     "output_type": "execute_result"
    }
   ],
   "source": [
    "import re\n",
    "modules = set()\n",
    "cell = nb.cells[cell_num]\n",
    "\n",
    "# remove contents of triple quoted strings\n",
    "source = re.sub(r'\\\"{3}(.*)?\\\"{3}', '', cell.source, flags = re.DOTALL)\n",
    "\n",
    "# process each line\n",
    "lines = source.splitlines()\n",
    "for line in lines:\n",
    "    \n",
    "    # only consider text before # or first single or double quote\n",
    "    line = re.split('[#\\'\"]',line)[0]\n",
    "    m = re.search(r'(from(?:\\s+__future__\\s+import)?|import)\\s+([a-zA-Z0-9._]+)', line)\n",
    "    if m:\n",
    "        modules.add(m.group(2))\n",
    "        \n",
    "# correct set of modules        \n",
    "modules == valid_modules                         "
   ]
  },
  {
   "cell_type": "markdown",
   "metadata": {},
   "source": [
    "#### Software Engineering Note\n",
    "The above shows a piece of code that works on a good test example.  The next step is refactor this code into a function or method."
   ]
  },
  {
   "cell_type": "code",
   "execution_count": 4,
   "metadata": {},
   "outputs": [],
   "source": [
    "# initial version of method, cut and paste from above as much as possible\n",
    "def find_modules_from_cell(cell, collection):\n",
    "    \n",
    "    # remove contents of triple quoted strings\n",
    "    source = re.sub(r'\\\"{3}(.*)\\\"{3}', '', cell.source, flags = re.DOTALL)\n",
    "    lines = source.splitlines()\n",
    "    for line in lines:\n",
    "        \n",
    "        # only consider text before # or first single or double quote\n",
    "        line = re.split('[#\\'\"]',line)[0]\n",
    "        m = re.search(r'(from(?:\\s+__future__\\s+import)?|import)\\s+([a-zA-Z0-9._]+)', line)\n",
    "        if m:\n",
    "            collection.add(m.group(2))"
   ]
  },
  {
   "cell_type": "code",
   "execution_count": 5,
   "metadata": {},
   "outputs": [
    {
     "data": {
      "text/plain": [
       "True"
      ]
     },
     "execution_count": 5,
     "metadata": {},
     "output_type": "execute_result"
    }
   ],
   "source": [
    "# try refactored code\n",
    "modules = set()\n",
    "cell = nb.cells[cell_num]\n",
    "\n",
    "find_modules_from_cell(cell, modules)\n",
    "modules == valid_modules"
   ]
  },
  {
   "cell_type": "markdown",
   "metadata": {},
   "source": [
    "#### Find \\\\${HOME}"
   ]
  },
  {
   "cell_type": "code",
   "execution_count": 6,
   "metadata": {},
   "outputs": [],
   "source": [
    "env = %env\n",
    "home = env['HOME']"
   ]
  },
  {
   "cell_type": "markdown",
   "metadata": {},
   "source": [
    "#### Find Notebooks to Parse\n",
    "\n",
    "Find all files that:\n",
    "1. end in '.ipynb'\n",
    "2. do not end in '-checkpoint.ipynb'\n",
    "3. do not begin with \\\\$\\{HOME\\}/anaconda3\n",
    "\n",
    "Note that regular expressions are not used here as str.startswith() and str.endswith() are easier to read than regular expressions and execute faster."
   ]
  },
  {
   "cell_type": "code",
   "execution_count": 7,
   "metadata": {},
   "outputs": [],
   "source": [
    "import os\n",
    "\n",
    "notebooks = []\n",
    "for dirpath, dirnames, filenames in os.walk(home):\n",
    "    for filename in filenames:\n",
    "        fullname = os.path.join(dirpath, filename)\n",
    "        if fullname.endswith('.ipynb') \\\n",
    "            and not fullname.endswith('-checkpoint.ipynb') \\\n",
    "            and not fullname.startswith(home+'/anaconda3'):\n",
    "            notebooks.append(fullname)"
   ]
  },
  {
   "cell_type": "markdown",
   "metadata": {},
   "source": [
    "#### Exclude Magic Cells\n",
    "\n",
    "Examples of magic commands used in cells:  \n",
    "```\n",
    "%%sql\n",
    "result_set = %sql select\n",
    "%env\n",
    "env = %env\n",
    "```  \n",
    "\n",
    "RegEx: ```^(%{1,2}\\w+)``` with re.MULTILINE  \n",
    "will match if any line that begins with one or two % immediately followed by 1+ word characters\n",
    "\n",
    "RegEx: ```=\\s+(%\\w+)```  \n",
    "will match 'env = %env'  but not '6 %sql' which is 6 modulus the value of sql"
   ]
  },
  {
   "cell_type": "code",
   "execution_count": 8,
   "metadata": {},
   "outputs": [],
   "source": [
    "# find all modules reference in all notebooks found above\n",
    "modules = set()\n",
    "for notebook in notebooks:\n",
    "    nb = nbformat.read(notebook, as_version=4)\n",
    "    for cell in nb.cells:\n",
    "        if cell.cell_type == 'code':\n",
    "            # skip cells with magic\n",
    "            if re.search(r'^(%{1,2}\\w+)|=\\s+(%\\w+)', cell.source, re.MULTILINE):\n",
    "                continue\n",
    "            \n",
    "            find_modules_from_cell(cell, modules)"
   ]
  },
  {
   "cell_type": "markdown",
   "metadata": {},
   "source": [
    "#### Software Engineering Note\n",
    "\n",
    "find_modules_from_cell is a \"helper\" function.  In other words, it is a function which is used locally to solve a specific problem and is not intended to be used by other software developers."
   ]
  },
  {
   "cell_type": "markdown",
   "metadata": {},
   "source": [
    "#### Try Loading Each Module\n",
    "\n",
    "Modules could fail to load because:\n",
    "1. notebook it was found from is old and module location has since changed\n",
    "2. module is not available in the virtual environment from which this notebook is being run\n",
    "3. notebook was parsed incorrectly and the module is not really a module\n",
    "\n",
    "Get a list of all the modules that will not load.\n",
    "\n",
    "Note: use of exec() could result in potentially hackable code and shouldn't be used in production code.  exec() is fine to use for testing in a safe environment."
   ]
  },
  {
   "cell_type": "code",
   "execution_count": 9,
   "metadata": {},
   "outputs": [
    {
     "name": "stderr",
     "output_type": "stream",
     "text": [
      "/home/agni/anaconda3/envs/ml/lib/python3.7/site-packages/IPython/nbconvert.py:13: ShimWarning: The `IPython.nbconvert` package has been deprecated since IPython 4.0. You should import from nbconvert instead.\n",
      "  \"You should import from nbconvert instead.\", ShimWarning)\n",
      "/home/agni/anaconda3/envs/ml/lib/python3.7/site-packages/IPython/parallel.py:13: ShimWarning: The `IPython.parallel` package has been deprecated since IPython 4.0. You should import from ipyparallel instead.\n",
      "  \"You should import from ipyparallel instead.\", ShimWarning)\n",
      "/home/agni/anaconda3/envs/ml/lib/python3.7/site-packages/IPython/nbformat.py:13: ShimWarning: The `IPython.nbformat` package has been deprecated since IPython 4.0. You should import from nbformat instead.\n",
      "  \"You should import from nbformat instead.\", ShimWarning)\n",
      "/home/agni/anaconda3/envs/ml/lib/python3.7/site-packages/IPython/config.py:13: ShimWarning: The `IPython.config` package has been deprecated since IPython 4.0. You should import from traitlets.config instead.\n",
      "  \"You should import from traitlets.config instead.\", ShimWarning)\n",
      "/home/agni/anaconda3/envs/ml/lib/python3.7/site-packages/IPython/kernel/__init__.py:13: ShimWarning: The `IPython.kernel` package has been deprecated since IPython 4.0.You should import from ipykernel or jupyter_client instead.\n",
      "  \"You should import from ipykernel or jupyter_client instead.\", ShimWarning)\n",
      "/home/agni/anaconda3/envs/ml/lib/python3.7/site-packages/IPython/html.py:14: ShimWarning: The `IPython.html` package has been deprecated since IPython 4.0. You should import from `notebook` instead. `IPython.html.widgets` has moved to `ipywidgets`.\n",
      "  \"`IPython.html.widgets` has moved to `ipywidgets`.\", ShimWarning)\n"
     ]
    }
   ],
   "source": [
    "missing_modules = set()\n",
    "for module in modules:\n",
    "    try:\n",
    "        # attempt to import each module\n",
    "        exec(f'import {module}')\n",
    "    except ModuleNotFoundError as err:\n",
    "        # capture module name from exception string\n",
    "        err_str = str(err)\n",
    "        match = re.search(r\"\\s'(.*)'\", err_str)\n",
    "        missing_modules.add(match.group(1))\n",
    "        continue"
   ]
  },
  {
   "cell_type": "code",
   "execution_count": 10,
   "metadata": {},
   "outputs": [
    {
     "data": {
      "text/plain": [
       "['IPython.nbconvert.transformers', 'PyPDF2', 'PyQt4']"
      ]
     },
     "execution_count": 10,
     "metadata": {},
     "output_type": "execute_result"
    }
   ],
   "source": [
    "# convert set of modules sorted list\n",
    "missing_list = sorted(missing_modules)\n",
    "missing_list[:3]"
   ]
  },
  {
   "cell_type": "markdown",
   "metadata": {},
   "source": [
    "#### Software Engineering Note\n",
    "For a given module, it would be helpful to know which notebooks referenced it.\n",
    "\n",
    "It is easy to modify the above code to create a mapping of module name to notebook list, using defaultdict(list).\n",
    "\n",
    "The only changes to the already tested method are:\n",
    "1. add notebook to the argument list\n",
    "2. last line: append notebook to the list of notebooks for that module"
   ]
  },
  {
   "cell_type": "code",
   "execution_count": 11,
   "metadata": {},
   "outputs": [],
   "source": [
    "# the only change is to add the notebook to the argument list and the last line of code which \n",
    "# appends the notebook to the (value) list for the given module (dictionary key)\n",
    "def find_modules_from_cell(cell, notebook, dd):\n",
    "    \n",
    "    # remove contents of triple quoted strings\n",
    "    source = re.sub(r'\\\"{3}(.*)\\\"{3}', '', cell.source, flags = re.DOTALL)\n",
    "    lines = source.splitlines()\n",
    "    for line in lines:\n",
    "        \n",
    "        # only consider text before # or first single or double quote\n",
    "        line = re.split('[#\\'\"]',line)[0]\n",
    "        m = re.search(r'(from(?:\\s+__future__\\s+import)?|import)\\s+([a-zA-Z0-9._]+)', line)        \n",
    "        if m:\n",
    "            dd[m.group(2)].append(notebook)"
   ]
  },
  {
   "cell_type": "markdown",
   "metadata": {},
   "source": [
    "#### Reparse the Notebook Cells, this time keeping a mapping from module to list of notebooks"
   ]
  },
  {
   "cell_type": "code",
   "execution_count": 12,
   "metadata": {},
   "outputs": [],
   "source": [
    "from collections import defaultdict\n",
    "\n",
    "# use new version of find_modules_from_cell\n",
    "dd = defaultdict(list)\n",
    "for notebook in notebooks:\n",
    "    nb = nbformat.read(notebook, as_version=4)\n",
    "    for cell in nb.cells:\n",
    "        # only consider code cells\n",
    "        if cell.cell_type == 'code':\n",
    "            # skip cells with magic\n",
    "            if re.search(r'^(%{1,2}\\w+)|=\\s+(%\\w+)', cell.source, re.MULTILINE):\n",
    "                continue\n",
    "            \n",
    "            find_modules_from_cell(cell, notebook, dd)"
   ]
  },
  {
   "cell_type": "markdown",
   "metadata": {},
   "source": [
    "#### Software Engineering Note\n",
    "It is a good idea to check every step of the way.\n",
    "\n",
    "The list of keys in the above dictionary should match the set of modules found above.  Verify this."
   ]
  },
  {
   "cell_type": "code",
   "execution_count": 13,
   "metadata": {},
   "outputs": [
    {
     "data": {
      "text/plain": [
       "True"
      ]
     },
     "execution_count": 13,
     "metadata": {},
     "output_type": "execute_result"
    }
   ],
   "source": [
    "m_list1 = sorted(modules)\n",
    "m_list2 = sorted(list(dd.keys()))\n",
    "m_list1 == m_list2"
   ]
  },
  {
   "cell_type": "code",
   "execution_count": 14,
   "metadata": {},
   "outputs": [
    {
     "name": "stdout",
     "output_type": "stream",
     "text": [
      "Missing module: PyQt4\n",
      "Referenced in: /Python/ipython-in-depth-master/examples/IPython Kernel/Terminal Usage.ipynb\n"
     ]
    }
   ],
   "source": [
    "# try an example of finding a notebook used a missing module\n",
    "a_missing_module = missing_list[2]\n",
    "notebook_list = dd[a_missing_module]\n",
    "\n",
    "# print the last 76 characters of the first notebook in notebook_list\n",
    "print(f'Missing module: {a_missing_module}')\n",
    "print(f'Referenced in: {notebook_list[0][-76:]}')"
   ]
  },
  {
   "cell_type": "markdown",
   "metadata": {},
   "source": [
    "#### Software Engineering Note\n",
    "\n",
    "My RegEx parsing does not handle every possible valid Python syntax. For example:  \n",
    "import \\  \n",
    "    os\n",
    "\n",
    "is valid python import syntax, but is not handled by my RegEx parsing.\n",
    "\n",
    "To handle all possible valid parsing of Python syntax, you should use AST:\n",
    "https://greentreesnakes.readthedocs.io/en/latest/\n",
    "\n",
    "This example is a useful tool which demonstrates the use of regular expressions to properly handle all common use cases of Python's import syntax."
   ]
  },
  {
   "cell_type": "markdown",
   "metadata": {},
   "source": [
    "#### Find the 5 Modules Most Often "
   ]
  },
  {
   "cell_type": "code",
   "execution_count": 15,
   "metadata": {},
   "outputs": [],
   "source": [
    "# to know how often each module was referenced:\n",
    "# create a new dictionary that maps key to number of notebooks in value list\n",
    "\n",
    "# dictionary comprehension\n",
    "counts = {key:len(value) for (key,value) in dd.items()}"
   ]
  },
  {
   "cell_type": "code",
   "execution_count": 16,
   "metadata": {},
   "outputs": [
    {
     "name": "stdout",
     "output_type": "stream",
     "text": [
      "numpy                    referenced in 185 notebooks\n",
      "pandas                   referenced in 159 notebooks\n",
      "sklearn.metrics          referenced in 134 notebooks\n",
      "sklearn.model_selection  referenced in 133 notebooks\n",
      "IPython.display          referenced in  97 notebooks\n"
     ]
    }
   ],
   "source": [
    "# create a sorted list of (key,value) pairs from the counts dictionary\n",
    "sorted_by_value = sorted(counts.items(), key=lambda item: item[1], reverse=True)\n",
    "\n",
    "# top 5 most used\n",
    "for key, value in sorted_by_value[:5]:\n",
    "    print(f'{key:<24} referenced in {value:>3} notebooks')"
   ]
  }
 ],
 "metadata": {
  "kernelspec": {
   "display_name": "Python 3",
   "language": "python",
   "name": "python3"
  },
  "language_info": {
   "codemirror_mode": {
    "name": "ipython",
    "version": 3
   },
   "file_extension": ".py",
   "mimetype": "text/x-python",
   "name": "python",
   "nbconvert_exporter": "python",
   "pygments_lexer": "ipython3",
   "version": "3.7.1"
  }
 },
 "nbformat": 4,
 "nbformat_minor": 2
}
