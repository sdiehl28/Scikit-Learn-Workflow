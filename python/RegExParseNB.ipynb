{
 "cells": [
  {
   "cell_type": "markdown",
   "metadata": {},
   "source": [
    "# Parsing a Jupyter Lab Notebook with Regular Expressions\n",
    "\n",
    "This is a fairly involved example that requires knowledge similar to that for my notebooks:\n",
    "1. Core Python\n",
    "2. Core Python 2\n",
    "3. Regular Expressions"
   ]
  },
  {
   "cell_type": "markdown",
   "metadata": {},
   "source": [
    "## Task Overview\n",
    "\n",
    "Find all imported modules in all notebooks found in my \\\\$\\{HOME\\} directory and below."
   ]
  },
  {
   "cell_type": "markdown",
   "metadata": {},
   "source": [
    "## Task Detail\n",
    "\n",
    "* Skip notebooks under the \\\\$\\{HOME\\}/anaconda3\n",
    "* Only check notebook cells of type 'code'\n",
    "* Ignore cells that begin with %% (cell magics)\n",
    "* Ignore content of comments, triple quoted strings, etc.\n",
    "* Determine which modules found in all notebooks are missing from the conda environment this notebook is running in\n",
    "* Create a mapping between each module and the notebooks which use them\n",
    "* Find the most commonly imported modules\n",
    "\n",
    "Jupyter Notebook Format: https://nbformat.readthedocs.io/en/latest/format_description.html  \n",
    "API to read Jupyter Notebooks: https://nbformat.readthedocs.io/en/latest/api.html\n",
    "\n",
    "For complete parsing of Python syntax use: https://greentreesnakes.readthedocs.io/en/latest/\n",
    "\n",
    "This example uses Regular Expression to parse all common use cases of Python's import syntax."
   ]
  },
  {
   "cell_type": "markdown",
   "metadata": {},
   "source": [
    "### Parse the Test Notebook Cell using Regular Expressions\n",
    "\n",
    "Primary import syntax use cases:\n",
    "1. import module\n",
    "2. import module.submodule\n",
    "3. from \\_\\_future\\_\\_ import module\n",
    "4. from module import submodule\n",
    "5. from module import not_a_module\n",
    "\n",
    "From the syntax alone, it is not possible to know the difference between use cases 4 and 5.\n",
    "\n",
    "However   \n",
    "```import module.submodule``` is valid whereas  \n",
    "```import module.not_a_module``` is not valid.\n",
    "\n",
    "Valid module characters are all word characters and '.'"
   ]
  },
  {
   "cell_type": "markdown",
   "metadata": {},
   "source": [
    "#### Find Modules on Line\n",
    "\n",
    "Express these as a list such as:\n",
    "\\[module, module.submodule, module.submodule.submodule\\]\n",
    "\n",
    "Later each of these models will attempt to be imported."
   ]
  },
  {
   "cell_type": "code",
   "execution_count": 1,
   "metadata": {},
   "outputs": [],
   "source": [
    "import re\n",
    "\n",
    "def parse_modules(line):\n",
    "    \"\"\"Finds potential modules on a given line\"\"\"\n",
    "    m = re.search(r'(from\\s+([\\w|\\.]+)\\s+)?import\\s+([\\w|\\.]+)', line)\n",
    "    if m:\n",
    "        mod_list = []\n",
    "        if m.group(2) is not None and m.group(2) != '__future__':\n",
    "            module = m.group(2) + '.' + m.group(3)\n",
    "        else:\n",
    "            module = m.group(3)\n",
    "         \n",
    "        modules = module.split('.')\n",
    "        mod_list = []\n",
    "        for i in range(1, len(modules)+1):\n",
    "            mod_list.append(\".\".join(modules[:i]))\n",
    "            \n",
    "        return mod_list"
   ]
  },
  {
   "cell_type": "markdown",
   "metadata": {},
   "source": [
    "#### Line Test of parse_modules()"
   ]
  },
  {
   "cell_type": "code",
   "execution_count": 2,
   "metadata": {},
   "outputs": [
    {
     "name": "stdout",
     "output_type": "stream",
     "text": [
      "['module']\n",
      "['module', 'module.submodule']\n",
      "['module', 'module.submodule', 'module.submodule.submodule']\n",
      "['module']\n",
      "['module', 'module.submodule']\n",
      "['module', 'module.submodule']\n",
      "['module', 'module.submodule', 'module.submodule.subsubmodule']\n",
      "None\n"
     ]
    }
   ],
   "source": [
    "print(parse_modules('import module'))\n",
    "print(parse_modules('import module.submodule'))\n",
    "print(parse_modules('import module.submodule.submodule'))\n",
    "print(parse_modules('from __future__ import module'))\n",
    "print(parse_modules('from __future__ import module.submodule'))\n",
    "print(parse_modules('from module import submodule'))\n",
    "print(parse_modules('from module.submodule import subsubmodule'))\n",
    "print(parse_modules('result_set = %sql select from actor where first_name = \"Bob\"'))"
   ]
  },
  {
   "cell_type": "markdown",
   "metadata": {
    "toc-hr-collapsed": true
   },
   "source": [
    "#### Cell Test of parse_modules()"
   ]
  },
  {
   "cell_type": "markdown",
   "metadata": {},
   "source": [
    "##### Create Test Cell"
   ]
  },
  {
   "cell_type": "code",
   "execution_count": 3,
   "metadata": {},
   "outputs": [
    {
     "name": "stdout",
     "output_type": "stream",
     "text": [
      "hello world\n",
      "import not_real_module\n"
     ]
    }
   ],
   "source": [
    "# create a test notebook cell with valid and invalid import use cases\n",
    "from __future__ import annotations\n",
    "import sys\n",
    "import numpy as np\n",
    "from numpy import random\n",
    "import sklearn.model_selection\n",
    "from sklearn.feature_extraction import DictVectorizer\n",
    "\n",
    "# when parsed, these should be the modules found to be referenced\n",
    "parsed_modules = ['annotations',\n",
    " 'nbformat',\n",
    " 'numpy',\n",
    " 'numpy.random',\n",
    " 'sklearn',\n",
    " 'sklearn.feature_extraction',\n",
    " 'sklearn.feature_extraction.DictVectorizer', # later this will be shown not to be a module\n",
    " 'sklearn.model_selection',\n",
    " 'sys']\n",
    "\n",
    "# from __future__ import not_real_module\n",
    "print(\"hello world\") # import not_real_module\n",
    "print(\"import not_real_module\")\n",
    "s = \"\"\"\n",
    "import not_real_module\n",
    "\"\"\"\n",
    "import nbformat\n",
    "t = \"\"\"import not_real_module\n",
    "\"\"\"\n",
    "a = 'import not_real_module'\n",
    "b = 'from not_real_module import not_real_class'"
   ]
  },
  {
   "cell_type": "markdown",
   "metadata": {
    "toc-hr-collapsed": false
   },
   "source": [
    "##### Find the above notebook cell and display it"
   ]
  },
  {
   "cell_type": "code",
   "execution_count": 4,
   "metadata": {},
   "outputs": [
    {
     "name": "stdout",
     "output_type": "stream",
     "text": [
      "Cell Index: 10\n",
      "\n",
      "# create a test notebook cell with valid and invalid import use cases\n",
      "from __future__ import annotations\n",
      "import sys\n",
      "import numpy as np\n",
      "from numpy import random\n",
      "import sklearn.model_selection\n",
      "from sklearn.feature_extraction import DictVectorizer\n",
      "\n",
      "# when parsed, these should be the modules found to be referenced\n",
      "parsed_modules = ['annotations',\n",
      " 'nbformat',\n",
      " 'numpy',\n",
      " 'numpy.random',\n",
      " 'sklearn',\n",
      " 'sklearn.feature_extraction',\n",
      " 'sklearn.feature_extraction.DictVectorizer', # later this will be shown not to be a module\n",
      " 'sklearn.model_selection',\n",
      " 'sys']\n",
      "\n",
      "# from __future__ import not_real_module\n",
      "print(\"hello world\") # import not_real_module\n",
      "print(\"import not_real_module\")\n",
      "s = \"\"\"\n",
      "import not_real_module\n",
      "\"\"\"\n",
      "import nbformat\n",
      "t = \"\"\"import not_real_module\n",
      "\"\"\"\n",
      "a = 'import not_real_module'\n",
      "b = 'from not_real_module import not_real_class'\n"
     ]
    }
   ],
   "source": [
    "nb = nbformat.read('RegExParseNB.ipynb', as_version=4)\n",
    "for cell_num, cell in enumerate(nb.cells):\n",
    "    if '# create a test notebook cell with' in cell.source:\n",
    "        break\n",
    "\n",
    "print(f'Cell Index: {cell_num}')\n",
    "print()\n",
    "print(nb.cells[cell_num].source)"
   ]
  },
  {
   "cell_type": "markdown",
   "metadata": {},
   "source": [
    "#### Perform Cell Test of parse_modules()"
   ]
  },
  {
   "cell_type": "code",
   "execution_count": 5,
   "metadata": {},
   "outputs": [
    {
     "data": {
      "text/plain": [
       "True"
      ]
     },
     "execution_count": 5,
     "metadata": {},
     "output_type": "execute_result"
    }
   ],
   "source": [
    "import re\n",
    "modules = []\n",
    "cell = nb.cells[cell_num]\n",
    "\n",
    "# remove contents of triple quoted strings\n",
    "source = re.sub(r'\\\"{3}(.*?)\\\"{3}', '', cell.source, flags = re.DOTALL | re.MULTILINE)\n",
    "\n",
    "# process each line\n",
    "lines = source.splitlines()\n",
    "for line in lines:\n",
    "    \n",
    "    # only consider text before # or first single or double quote\n",
    "    line = re.split('[#\\'\"]',line)[0]  \n",
    "    \n",
    "    mods = parse_modules(line)\n",
    "    if mods:\n",
    "        modules.extend(mods)\n",
    "        \n",
    "# correct set of modules        \n",
    "modules = sorted(set(modules))\n",
    "modules == parsed_modules"
   ]
  },
  {
   "cell_type": "markdown",
   "metadata": {},
   "source": [
    "#### Software Engineering Note\n",
    "The above shows a piece of code that works on a good test example.  The next step is refactor this code into a function or method."
   ]
  },
  {
   "cell_type": "code",
   "execution_count": 6,
   "metadata": {},
   "outputs": [],
   "source": [
    "# initial version of method, cut and paste from above tested code as much as possible\n",
    "def find_modules_from_cell(cell, modules):\n",
    "    \n",
    "    # remove contents of triple quoted strings\n",
    "    source = re.sub(r'\\\"{3}(.*?)\\\"{3}', '', cell.source, flags = re.DOTALL | re.MULTILINE)\n",
    "\n",
    "    # process each line\n",
    "    lines = source.splitlines()\n",
    "    for line in lines:\n",
    "\n",
    "        # only consider text before # or first single or double quote\n",
    "        line = re.split('[#\\'\"]',line)[0]  \n",
    "\n",
    "        mods = parse_modules(line)\n",
    "        if mods:\n",
    "            modules.extend(mods)"
   ]
  },
  {
   "cell_type": "code",
   "execution_count": 7,
   "metadata": {},
   "outputs": [
    {
     "data": {
      "text/plain": [
       "True"
      ]
     },
     "execution_count": 7,
     "metadata": {},
     "output_type": "execute_result"
    }
   ],
   "source": [
    "# try refactored code\n",
    "modules = list()\n",
    "cell = nb.cells[cell_num]\n",
    "\n",
    "find_modules_from_cell(cell, modules)\n",
    "modules = sorted(set(modules))\n",
    "modules == parsed_modules"
   ]
  },
  {
   "cell_type": "markdown",
   "metadata": {},
   "source": [
    "#### Find \\\\${HOME}"
   ]
  },
  {
   "cell_type": "code",
   "execution_count": 8,
   "metadata": {},
   "outputs": [],
   "source": [
    "env = %env\n",
    "home = env['HOME']"
   ]
  },
  {
   "cell_type": "markdown",
   "metadata": {},
   "source": [
    "#### Find Notebooks to Parse\n",
    "\n",
    "Find all files that:\n",
    "1. end in '.ipynb'\n",
    "2. do not end in '-checkpoint.ipynb'\n",
    "3. do not begin with \\\\$\\{HOME\\}/anaconda3\n",
    "\n",
    "Note that regular expressions are not used here as str.startswith() and str.endswith() are easier to read than regular expressions and execute faster."
   ]
  },
  {
   "cell_type": "code",
   "execution_count": 9,
   "metadata": {},
   "outputs": [],
   "source": [
    "import os\n",
    "\n",
    "notebooks = []\n",
    "for dirpath, dirnames, filenames in os.walk(home):\n",
    "    for filename in filenames:\n",
    "        fullname = os.path.join(dirpath, filename)\n",
    "        if fullname.endswith('.ipynb') \\\n",
    "            and not fullname.endswith('-checkpoint.ipynb') \\\n",
    "            and not fullname.startswith(home+'/anaconda3'):\n",
    "            notebooks.append(fullname)"
   ]
  },
  {
   "cell_type": "code",
   "execution_count": 10,
   "metadata": {},
   "outputs": [],
   "source": [
    "# find all potential modules referenced in all notebooks found above\n",
    "modules = []\n",
    "for notebook in notebooks:\n",
    "    nb = nbformat.read(notebook, as_version=4)\n",
    "    for cell in nb.cells:\n",
    "        if cell.cell_type == 'code' and not cell.source.startswith('%%'):\n",
    "            find_modules_from_cell(cell, modules)"
   ]
  },
  {
   "cell_type": "markdown",
   "metadata": {},
   "source": [
    "#### Software Engineering Note\n",
    "\n",
    "find_modules_from_cell is a \"helper\" function.  In other words, it is a function which is used locally to solve a specific problem and is not intended to be used by other software developers."
   ]
  },
  {
   "cell_type": "markdown",
   "metadata": {},
   "source": [
    "#### Try Loading Each Module\n",
    "\n",
    "Modules could fail to load because:\n",
    "1. notebook it was found from is old and module location has since changed\n",
    "2. module is not available in the virtual environment from which this notebook is being run\n",
    "3. notebook was parsed incorrectly and the module is not really a module\n",
    "\n",
    "Get a list of all the modules that will not load.\n",
    "\n",
    "Note: use of exec() could result in potentially hackable code and shouldn't be used in production code.  exec() is fine to use for testing in a safe environment."
   ]
  },
  {
   "cell_type": "code",
   "execution_count": 11,
   "metadata": {},
   "outputs": [
    {
     "name": "stderr",
     "output_type": "stream",
     "text": [
      "/home/agni/anaconda3/envs/ml/lib/python3.7/site-packages/IPython/config.py:13: ShimWarning: The `IPython.config` package has been deprecated since IPython 4.0. You should import from traitlets.config instead.\n",
      "  \"You should import from traitlets.config instead.\", ShimWarning)\n",
      "/home/agni/anaconda3/envs/ml/lib/python3.7/site-packages/IPython/html.py:14: ShimWarning: The `IPython.html` package has been deprecated since IPython 4.0. You should import from `notebook` instead. `IPython.html.widgets` has moved to `ipywidgets`.\n",
      "  \"`IPython.html.widgets` has moved to `ipywidgets`.\", ShimWarning)\n",
      "/home/agni/anaconda3/envs/ml/lib/python3.7/site-packages/IPython/kernel/__init__.py:13: ShimWarning: The `IPython.kernel` package has been deprecated since IPython 4.0.You should import from ipykernel or jupyter_client instead.\n",
      "  \"You should import from ipykernel or jupyter_client instead.\", ShimWarning)\n",
      "/home/agni/anaconda3/envs/ml/lib/python3.7/site-packages/IPython/nbconvert.py:13: ShimWarning: The `IPython.nbconvert` package has been deprecated since IPython 4.0. You should import from nbconvert instead.\n",
      "  \"You should import from nbconvert instead.\", ShimWarning)\n",
      "/home/agni/anaconda3/envs/ml/lib/python3.7/site-packages/IPython/nbformat.py:13: ShimWarning: The `IPython.nbformat` package has been deprecated since IPython 4.0. You should import from nbformat instead.\n",
      "  \"You should import from nbformat instead.\", ShimWarning)\n",
      "/home/agni/anaconda3/envs/ml/lib/python3.7/site-packages/nbformat/current.py:19: UserWarning: nbformat.current is deprecated.\n",
      "\n",
      "- use nbformat for read/write/validate public API\n",
      "- use nbformat.vX directly to composing notebooks of a particular version\n",
      "\n",
      "  \"\"\")\n",
      "/home/agni/anaconda3/envs/ml/lib/python3.7/site-packages/IPython/parallel.py:13: ShimWarning: The `IPython.parallel` package has been deprecated since IPython 4.0. You should import from ipyparallel instead.\n",
      "  \"You should import from ipyparallel instead.\", ShimWarning)\n"
     ]
    }
   ],
   "source": [
    "# unloadable modules are of two types\n",
    "# 1 the module is not in the virutual environment this notebook is running in\n",
    "# 2 the module is not really a module\n",
    "modules = sorted(set(modules))\n",
    "missing_modules = []\n",
    "not_modules = []\n",
    "loadable_modules = []\n",
    "for module in modules:\n",
    "    try:\n",
    "        # attempt to import each module\n",
    "        exec(f'import {module}')\n",
    "        loadable_modules.append(module)\n",
    "    except ModuleNotFoundError as err:\n",
    "        if '.' in module:\n",
    "            # 'from module import not_a_module' -> import module.not_a_module\n",
    "            not_modules.append(module)\n",
    "        else:\n",
    "            missing_modules.append(module)\n",
    "        continue"
   ]
  },
  {
   "cell_type": "code",
   "execution_count": 12,
   "metadata": {},
   "outputs": [
    {
     "data": {
      "text/plain": [
       "(221, 38, 386)"
      ]
     },
     "execution_count": 12,
     "metadata": {},
     "output_type": "execute_result"
    }
   ],
   "source": [
    "len(loadable_modules), len(missing_modules), len(not_modules)"
   ]
  },
  {
   "cell_type": "markdown",
   "metadata": {},
   "source": [
    "#### Software Engineering Note\n",
    "For a given module, it would be helpful to know which notebooks referenced it.\n",
    "\n",
    "It is easy to modify the above code to create a mapping of module name to notebook list, using defaultdict(list).\n",
    "\n",
    "The only changes to the already tested method are:\n",
    "1. add notebook to the argument list\n",
    "2. last line: append notebook to the list of notebooks for that module"
   ]
  },
  {
   "cell_type": "code",
   "execution_count": 13,
   "metadata": {},
   "outputs": [],
   "source": [
    "# modify to map module to list of notebooks\n",
    "def find_modules_from_cell(cell, notebook, dd):\n",
    "    \n",
    "    # remove contents of triple quoted strings\n",
    "    source = re.sub(r'\\\"{3}(.*?)\\\"{3}', '', cell.source, flags = re.DOTALL | re.MULTILINE)\n",
    "\n",
    "    # process each line\n",
    "    lines = source.splitlines()\n",
    "    for line in lines:\n",
    "\n",
    "        # only consider text before # or first single or double quote\n",
    "        line = re.split('[#\\'\"]',line)[0]  \n",
    "\n",
    "        mods = parse_modules(line)\n",
    "        if mods:\n",
    "            for mod in mods:\n",
    "                dd[mod].append(notebook)"
   ]
  },
  {
   "cell_type": "markdown",
   "metadata": {},
   "source": [
    "#### Reparse the Notebook Cells, this time keeping a mapping from module to list of notebooks"
   ]
  },
  {
   "cell_type": "code",
   "execution_count": 14,
   "metadata": {},
   "outputs": [],
   "source": [
    "from collections import defaultdict\n",
    "\n",
    "# use new version of find_modules_from_cell\n",
    "dd = defaultdict(list)\n",
    "for notebook in notebooks:\n",
    "    nb = nbformat.read(notebook, as_version=4)\n",
    "    for cell in nb.cells:\n",
    "        if cell.cell_type == 'code' and not cell.source.startswith('%%'):  \n",
    "            find_modules_from_cell(cell, notebook, dd)"
   ]
  },
  {
   "cell_type": "markdown",
   "metadata": {},
   "source": [
    "#### Software Engineering Note\n",
    "It is a good idea to check every step of the way.\n",
    "\n",
    "The list of keys in the above dictionary should match the set of modules found above.  Verify this."
   ]
  },
  {
   "cell_type": "code",
   "execution_count": 15,
   "metadata": {},
   "outputs": [
    {
     "data": {
      "text/plain": [
       "True"
      ]
     },
     "execution_count": 15,
     "metadata": {},
     "output_type": "execute_result"
    }
   ],
   "source": [
    "m_list1 = sorted(modules)\n",
    "m_list2 = sorted(list(dd.keys()))\n",
    "m_list1 == m_list2"
   ]
  },
  {
   "cell_type": "code",
   "execution_count": 16,
   "metadata": {},
   "outputs": [
    {
     "name": "stdout",
     "output_type": "stream",
     "text": [
      "Missing module: PyQt4\n",
      "Referenced in: /Python/ipython-in-depth-master/examples/IPython Kernel/Terminal Usage.ipynb\n"
     ]
    }
   ],
   "source": [
    "# arbitrarily pick a missing module and show a notebook that refers to it\n",
    "a_missing_module = missing_modules[1]\n",
    "notebook_list = dd[a_missing_module]\n",
    "\n",
    "# print the last 76 characters of the first notebook in notebook_list\n",
    "print(f'Missing module: {a_missing_module}')\n",
    "print(f'Referenced in: {notebook_list[0][-76:]}')"
   ]
  },
  {
   "cell_type": "markdown",
   "metadata": {},
   "source": [
    "#### Software Engineering Note\n",
    "\n",
    "My RegEx parsing does not handle every possible valid Python syntax. For example:  \n",
    "```\n",
    "import \\  \n",
    "    os\n",
    "```\n",
    "is valid Python import syntax, but it is not handled by my RegEx parsing.\n",
    "\n",
    "To handle all possible valid parsing of Python syntax, you should use AST:\n",
    "https://greentreesnakes.readthedocs.io/en/latest/\n",
    "\n",
    "This notebook handles all common use cases of Python's import syntax."
   ]
  },
  {
   "cell_type": "markdown",
   "metadata": {},
   "source": [
    "#### Find the 5 Modules Referenced Most Often "
   ]
  },
  {
   "cell_type": "code",
   "execution_count": 17,
   "metadata": {},
   "outputs": [],
   "source": [
    "# to know how often each module was referenced:\n",
    "# create a new dictionary that maps key to number of notebooks in value list\n",
    "\n",
    "# dictionary comprehension\n",
    "counts = {key:len(value) for (key,value) in dd.items()}"
   ]
  },
  {
   "cell_type": "code",
   "execution_count": 18,
   "metadata": {},
   "outputs": [
    {
     "name": "stdout",
     "output_type": "stream",
     "text": [
      "sklearn                  referenced in 925 notebooks\n",
      "numpy                    referenced in 361 notebooks\n",
      "matplotlib               referenced in 324 notebooks\n",
      "matplotlib.pyplot        referenced in 280 notebooks\n",
      "pandas                   referenced in 278 notebooks\n"
     ]
    }
   ],
   "source": [
    "# create a sorted list of (key,value) tuples from the counts dictionary\n",
    "sorted_by_value = sorted(counts.items(), key=lambda item: item[1], reverse=True)\n",
    "\n",
    "# top 5 most used\n",
    "for key, value in sorted_by_value[:5]:\n",
    "    print(f'{key:<24} referenced in {value:>3} notebooks')"
   ]
  }
 ],
 "metadata": {
  "kernelspec": {
   "display_name": "Python 3",
   "language": "python",
   "name": "python3"
  },
  "language_info": {
   "codemirror_mode": {
    "name": "ipython",
    "version": 3
   },
   "file_extension": ".py",
   "mimetype": "text/x-python",
   "name": "python",
   "nbconvert_exporter": "python",
   "pygments_lexer": "ipython3",
   "version": "3.7.1"
  }
 },
 "nbformat": 4,
 "nbformat_minor": 2
}
