{
 "cells": [
  {
   "cell_type": "markdown",
   "metadata": {},
   "source": [
    "# Regular Expressions in Python\n",
    "\n",
    "By far, the best course I have found on Regular Expressions is:  \n",
    "https://www.safaribooksonline.com/videos/understanding-regular-expressions/9781491996300  \n",
    "\n",
    "The best website I have found for learning and experimenting with Regular Expressions is:  \n",
    "https://regex101.com/ "
   ]
  },
  {
   "cell_type": "markdown",
   "metadata": {},
   "source": [
    "## **re** module vs **regex** module\n",
    "\n",
    "* **re** is part of standard library\n",
    "* **regex** has latest PCRE with variable length look behind and more\n",
    "\n",
    "In most cases, re and regex will do the same thing.  However with advanced regular expressions, you may find yourself wanting to use regex over re.\n",
    "\n",
    "PCRE means Perl Compatible Regular Expressions"
   ]
  },
  {
   "cell_type": "markdown",
   "metadata": {},
   "source": [
    "## Regular Expressions"
   ]
  },
  {
   "cell_type": "code",
   "execution_count": 1,
   "metadata": {},
   "outputs": [
    {
     "name": "stdout",
     "output_type": "stream",
     "text": [
      "Match Found\n"
     ]
    }
   ],
   "source": [
    "import re\n",
    "\n",
    "ml_text = \"\"\"Machine learning is a method of data analysis that automates \n",
    "analytical model building. It is a branch of artificial intelligence \n",
    "based on the idea that systems can learn from data, identify patterns \n",
    "and make decisions with minimal human intervention.\n",
    "\"\"\"\n",
    "\n",
    "pattern = \"minimal\"\n",
    "\n",
    "if re.search(pattern, ml_text):\n",
    "    print('Match Found')\n",
    "else:\n",
    "    print('Match Not Found')"
   ]
  },
  {
   "cell_type": "code",
   "execution_count": 2,
   "metadata": {},
   "outputs": [
    {
     "name": "stdout",
     "output_type": "stream",
     "text": [
      "Match Found\n"
     ]
    }
   ],
   "source": [
    "# A Python pattern can be explictly compiled before usage\n",
    "compiled_pattern = re.compile(pattern)\n",
    "if compiled_pattern.search(ml_text):\n",
    "    print('Match Found')\n",
    "else:\n",
    "    print('Match Not Found')"
   ]
  },
  {
   "cell_type": "markdown",
   "metadata": {},
   "source": [
    "### Note\n",
    "If you do not explicitly compile the pattern, Python will do that for you.  It will also cache a few of the compiled patterns.\n",
    "\n",
    "If you use a lot of patterns, it can be more time efficient to compile each pattern."
   ]
  },
  {
   "cell_type": "code",
   "execution_count": 3,
   "metadata": {},
   "outputs": [
    {
     "name": "stdout",
     "output_type": "stream",
     "text": [
      "Searching for \"learn\"\n",
      "Match was found. \n",
      "\n",
      "Searching for \"pattern\"\n",
      "Match was found. \n",
      "\n"
     ]
    }
   ],
   "source": [
    "# Test for multiple patterns in a given string\n",
    "\n",
    "# List of patterns to search for\n",
    "patterns = ['learn', 'pattern']\n",
    "\n",
    "for pattern in patterns:\n",
    "    print(f'Searching for \"{pattern}\"')\n",
    "    \n",
    "    #Check for match\n",
    "    if re.search(pattern, ml_text):\n",
    "        print('Match was found. \\n')\n",
    "    else:\n",
    "        print('No Match was found.\\n')"
   ]
  },
  {
   "cell_type": "code",
   "execution_count": 4,
   "metadata": {},
   "outputs": [
    {
     "name": "stdout",
     "output_type": "stream",
     "text": [
      "Match was found.\n",
      "Machine\n"
     ]
    }
   ],
   "source": [
    "# using regex options in re.search()\n",
    "pattern = \"machine\"\n",
    "match = re.search(pattern, ml_text, flags=re.IGNORECASE)\n",
    "if match:\n",
    "    print('Match was found.')\n",
    "    print(ml_text[match.start():match.end()])"
   ]
  },
  {
   "cell_type": "code",
   "execution_count": 5,
   "metadata": {},
   "outputs": [
    {
     "name": "stdout",
     "output_type": "stream",
     "text": [
      "Match was found.\n",
      "Machine\n"
     ]
    }
   ],
   "source": [
    "# using regex options in pattern\n",
    "match = re.search(\"(?i)machine\", ml_text)\n",
    "if match:\n",
    "    print('Match was found.')\n",
    "    print(ml_text[match.start():match.end()])"
   ]
  },
  {
   "cell_type": "markdown",
   "metadata": {},
   "source": [
    "### re.search() Options vs RegEx Option\n",
    "\n",
    "A regex option is also called a regex flag.\n",
    "\n",
    "It is easier to read and maintain code using arguments to re.search() than to specify flags inside the regular expression.\n",
    "\n",
    "On rare occasions, you may want regex flag to be in effect for only part of the pattern.  In this case the flag must be specified inside the regex."
   ]
  },
  {
   "cell_type": "code",
   "execution_count": 6,
   "metadata": {},
   "outputs": [
    {
     "data": {
      "text/plain": [
       "['myname', 'email.com']"
      ]
     },
     "execution_count": 6,
     "metadata": {},
     "output_type": "execute_result"
    }
   ],
   "source": [
    "# split examle\n",
    "re.split('@', 'myname@email.com')"
   ]
  },
  {
   "cell_type": "code",
   "execution_count": 7,
   "metadata": {},
   "outputs": [
    {
     "data": {
      "text/plain": [
       "['is', 'is', 'is', 'is']"
      ]
     },
     "execution_count": 7,
     "metadata": {},
     "output_type": "execute_result"
    }
   ],
   "source": [
    "# findall example\n",
    "re.findall('is', ml_text, re.IGNORECASE)"
   ]
  },
  {
   "cell_type": "code",
   "execution_count": 8,
   "metadata": {},
   "outputs": [],
   "source": [
    "def multi_re_find(patterns,phrase):\n",
    "    \"\"\"\n",
    "    Takes in a list of regex patterns\n",
    "    Prints a list of all matches\n",
    "    \"\"\"\n",
    "    for pattern in patterns:\n",
    "        print(f'{pattern!r}')\n",
    "        print(re.findall(pattern,phrase))\n",
    "        print('\\n')"
   ]
  },
  {
   "cell_type": "code",
   "execution_count": 9,
   "metadata": {},
   "outputs": [
    {
     "name": "stdout",
     "output_type": "stream",
     "text": [
      "'ab*'\n",
      "['a', 'ab', 'a', 'ab', 'abb', 'a', 'abbb', 'abbb']\n",
      "\n",
      "\n",
      "'ab+'\n",
      "['ab', 'ab', 'abb', 'abbb', 'abbb']\n",
      "\n",
      "\n",
      "'ab?'\n",
      "['a', 'ab', 'a', 'ab', 'ab', 'a', 'ab', 'ab']\n",
      "\n",
      "\n",
      "'ab{3}'\n",
      "['abbb', 'abbb']\n",
      "\n",
      "\n",
      "'ab{2,3}'\n",
      "['abb', 'abbb', 'abbb']\n",
      "\n",
      "\n"
     ]
    }
   ],
   "source": [
    "test_phrase = 'a.ab.aab..abb..aabbb...abbb'\n",
    "test_patterns = [r'ab*',     # a followed by zero or more b's\n",
    "                 r'ab+',     # a followed by one or more b's\n",
    "                 r'ab?',     # a followed by zero or one b's\n",
    "                 r'ab{3}',   # a followed by three b's\n",
    "                 r'ab{2,3}', # a followed by two to three b's\n",
    "                ]\n",
    "\n",
    "multi_re_find(test_patterns,test_phrase)"
   ]
  },
  {
   "cell_type": "code",
   "execution_count": 10,
   "metadata": {},
   "outputs": [
    {
     "name": "stdout",
     "output_type": "stream",
     "text": [
      "'[ab]'\n",
      "['a', 'a', 'b', 'a', 'a', 'b', 'a', 'b', 'b', 'a', 'a', 'b', 'b', 'b', 'a', 'b', 'b', 'b']\n",
      "\n",
      "\n",
      "'a[ab]+'\n",
      "['ab', 'aab', 'abb', 'aabbb', 'abbb']\n",
      "\n",
      "\n"
     ]
    }
   ],
   "source": [
    "test_phrase = 'a.ab.aab..abb..aabbb...abbb'\n",
    "\n",
    "test_patterns = [r'[ab]',    # either a or b\n",
    "                 r'a[ab]+']  # a followed by one or more a or b\n",
    "\n",
    "multi_re_find(test_patterns,test_phrase)"
   ]
  },
  {
   "cell_type": "code",
   "execution_count": 11,
   "metadata": {},
   "outputs": [
    {
     "data": {
      "text/plain": [
       "['This',\n",
       " 'is',\n",
       " 'a',\n",
       " 'string',\n",
       " 'But',\n",
       " 'it',\n",
       " 'has',\n",
       " 'punctuation',\n",
       " 'How',\n",
       " 'can',\n",
       " 'we',\n",
       " 'remove',\n",
       " 'it']"
      ]
     },
     "execution_count": 11,
     "metadata": {},
     "output_type": "execute_result"
    }
   ],
   "source": [
    "test_phrase = 'This is a string! But it has punctuation. How can we remove it?'\n",
    "re.findall('[^!.? ]+',test_phrase)"
   ]
  },
  {
   "cell_type": "code",
   "execution_count": 12,
   "metadata": {},
   "outputs": [
    {
     "name": "stdout",
     "output_type": "stream",
     "text": [
      "'[a-z]+'\n",
      "['his', 'is', 'an', 'example', 'sentence', 'ets', 'see', 'if', 'we', 'can', 'find', 'some', 'letters']\n",
      "\n",
      "\n",
      "'[A-Z]+'\n",
      "['T', 'L']\n",
      "\n",
      "\n",
      "'[a-zA-Z]+'\n",
      "['This', 'is', 'an', 'example', 'sentence', 'Lets', 'see', 'if', 'we', 'can', 'find', 'some', 'letters']\n",
      "\n",
      "\n",
      "'[A-Z][a-z]+'\n",
      "['This', 'Lets']\n",
      "\n",
      "\n"
     ]
    }
   ],
   "source": [
    "test_phrase = 'This is an example sentence. Lets see if we can find some letters.'\n",
    "\n",
    "test_patterns=['[a-z]+',      # sequences of lower case letters\n",
    "               '[A-Z]+',      # sequences of upper case letters\n",
    "               '[a-zA-Z]+',   # sequences of lower or upper case letters\n",
    "               '[A-Z][a-z]+'] # one upper case letter followed by lower case letters\n",
    "                \n",
    "multi_re_find(test_patterns,test_phrase)"
   ]
  },
  {
   "cell_type": "code",
   "execution_count": 13,
   "metadata": {},
   "outputs": [
    {
     "name": "stdout",
     "output_type": "stream",
     "text": [
      "'\\\\d+'\n",
      "['1233']\n",
      "\n",
      "\n",
      "'\\\\D+'\n",
      "['This is a string with some numbers ', ' and a symbol #hashtag']\n",
      "\n",
      "\n",
      "'\\\\s+'\n",
      "[' ', ' ', ' ', ' ', ' ', ' ', ' ', ' ', ' ', ' ', ' ']\n",
      "\n",
      "\n",
      "'\\\\S+'\n",
      "['This', 'is', 'a', 'string', 'with', 'some', 'numbers', '1233', 'and', 'a', 'symbol', '#hashtag']\n",
      "\n",
      "\n",
      "'\\\\w+'\n",
      "['This', 'is', 'a', 'string', 'with', 'some', 'numbers', '1233', 'and', 'a', 'symbol', 'hashtag']\n",
      "\n",
      "\n",
      "'\\\\W+'\n",
      "[' ', ' ', ' ', ' ', ' ', ' ', ' ', ' ', ' ', ' ', ' #']\n",
      "\n",
      "\n"
     ]
    }
   ],
   "source": [
    "test_phrase = 'This is a string with some numbers 1233 and a symbol #hashtag'\n",
    "\n",
    "test_patterns=[ r'\\d+', # sequence of digits\n",
    "                r'\\D+', # sequence of non-digits\n",
    "                r'\\s+', # sequence of whitespace\n",
    "                r'\\S+', # sequence of non-whitespace\n",
    "                r'\\w+', # alphanumeric characters\n",
    "                r'\\W+', # non-alphanumeric\n",
    "                ]\n",
    "\n",
    "multi_re_find(test_patterns,test_phrase)"
   ]
  },
  {
   "cell_type": "code",
   "execution_count": 14,
   "metadata": {},
   "outputs": [
    {
     "name": "stdout",
     "output_type": "stream",
     "text": [
      "'\\\\D'\n",
      "'\\\\D'\n",
      "\\D\n",
      "\\D\n"
     ]
    }
   ],
   "source": [
    "s2 = r'\\D'\n",
    "print(\"%r\" % s2)\n",
    "print(f'{s2!r}')\n",
    "print(\"%s\" % s2)\n",
    "print(f'{s2!s}')"
   ]
  },
  {
   "cell_type": "markdown",
   "metadata": {},
   "source": [
    "## Experiments"
   ]
  },
  {
   "cell_type": "code",
   "execution_count": 15,
   "metadata": {},
   "outputs": [
    {
     "data": {
      "text/plain": [
       "['abc', 'abx']"
      ]
     },
     "execution_count": 15,
     "metadata": {},
     "output_type": "execute_result"
    }
   ],
   "source": [
    "s = '12abababcabx'\n",
    "pattern = r'abc|abx'\n",
    "re.findall(pattern, s)"
   ]
  },
  {
   "cell_type": "code",
   "execution_count": 16,
   "metadata": {},
   "outputs": [],
   "source": [
    "s = 'An ant encoutnered an anteater'\n",
    "pattern = r'anteater|antelope|ant'"
   ]
  },
  {
   "cell_type": "code",
   "execution_count": 17,
   "metadata": {},
   "outputs": [
    {
     "data": {
      "text/plain": [
       "'ant'"
      ]
     },
     "execution_count": 17,
     "metadata": {},
     "output_type": "execute_result"
    }
   ],
   "source": [
    "# first match IS the match\n",
    "match = re.search(pattern, s)\n",
    "s[match.start():match.end()]"
   ]
  },
  {
   "cell_type": "code",
   "execution_count": 18,
   "metadata": {},
   "outputs": [
    {
     "data": {
      "text/plain": [
       "['ant', 'anteater']"
      ]
     },
     "execution_count": 18,
     "metadata": {},
     "output_type": "execute_result"
    }
   ],
   "source": [
    "# we can also look for all matches\n",
    "re.findall(pattern, s)"
   ]
  },
  {
   "cell_type": "code",
   "execution_count": 19,
   "metadata": {},
   "outputs": [
    {
     "data": {
      "text/plain": [
       "'ant'"
      ]
     },
     "execution_count": 19,
     "metadata": {},
     "output_type": "execute_result"
    }
   ],
   "source": [
    "s = 'An anteater encoutnered an ant'\n",
    "pattern = r'ant|anteater|antelope'\n",
    "\n",
    "# first match IS the match\n",
    "match = re.search(pattern, s)\n",
    "s[match.start():match.end()]"
   ]
  },
  {
   "cell_type": "code",
   "execution_count": 20,
   "metadata": {},
   "outputs": [
    {
     "data": {
      "text/plain": [
       "['ant', 'ant']"
      ]
     },
     "execution_count": 20,
     "metadata": {},
     "output_type": "execute_result"
    }
   ],
   "source": [
    "# we can also look for all matches\n",
    "re.findall(pattern, s)"
   ]
  },
  {
   "cell_type": "markdown",
   "metadata": {},
   "source": [
    "#### Note: usually faster to succeed with RegEx than fail"
   ]
  },
  {
   "cell_type": "code",
   "execution_count": 21,
   "metadata": {},
   "outputs": [
    {
     "data": {
      "text/plain": [
       "[]"
      ]
     },
     "execution_count": 21,
     "metadata": {},
     "output_type": "execute_result"
    }
   ],
   "source": [
    "# whitespace says match whitespace\n",
    "s = 'H2O'\n",
    "pattern = r'H 2 O'\n",
    "re.findall(pattern, s)"
   ]
  },
  {
   "cell_type": "code",
   "execution_count": 22,
   "metadata": {},
   "outputs": [
    {
     "data": {
      "text/plain": [
       "['H2O']"
      ]
     },
     "execution_count": 22,
     "metadata": {},
     "output_type": "execute_result"
    }
   ],
   "source": [
    "s = 'H2O'\n",
    "pattern = r'H 2 O'\n",
    "re.findall(pattern, s, re.X)"
   ]
  },
  {
   "cell_type": "code",
   "execution_count": 23,
   "metadata": {},
   "outputs": [
    {
     "data": {
      "text/plain": [
       "['H2O']"
      ]
     },
     "execution_count": 23,
     "metadata": {},
     "output_type": "execute_result"
    }
   ],
   "source": [
    "s = 'H2O'\n",
    "pattern = r'(?x)H 2 O'\n",
    "re.findall(pattern, s)"
   ]
  },
  {
   "cell_type": "code",
   "execution_count": 24,
   "metadata": {},
   "outputs": [
    {
     "data": {
      "text/plain": [
       "['***$']"
      ]
     },
     "execution_count": 24,
     "metadata": {},
     "output_type": "execute_result"
    }
   ],
   "source": [
    "#\\Q literal \\E does not work in Python\n",
    "# but re.escape serves the same purpose\n",
    "s = 'This is a ***$999 test'\n",
    "pattern = re.escape(r'***$')\n",
    "re.findall(pattern, s)"
   ]
  },
  {
   "cell_type": "code",
   "execution_count": 25,
   "metadata": {},
   "outputs": [
    {
     "data": {
      "text/plain": [
       "['i', 'i', 'o', 'e', 'e', 'i']"
      ]
     },
     "execution_count": 25,
     "metadata": {},
     "output_type": "execute_result"
    }
   ],
   "source": [
    "s = 'This is some test string'\n",
    "pattern = r'[aeiou]'\n",
    "re.findall(pattern,s)"
   ]
  },
  {
   "cell_type": "code",
   "execution_count": 26,
   "metadata": {},
   "outputs": [
    {
     "data": {
      "text/plain": [
       "{' ', 'T', 'g', 'h', 'm', 'n', 'r', 's', 't'}"
      ]
     },
     "execution_count": 26,
     "metadata": {},
     "output_type": "execute_result"
    }
   ],
   "source": [
    "s = 'This is some test string'\n",
    "pattern = r'[^aeiou]'\n",
    "set(re.findall(pattern,s))"
   ]
  },
  {
   "cell_type": "code",
   "execution_count": 27,
   "metadata": {},
   "outputs": [
    {
     "data": {
      "text/plain": [
       "{'e', 'g', 'h', 'i', 'm', 'n', 'o', 'r', 's', 't'}"
      ]
     },
     "execution_count": 27,
     "metadata": {},
     "output_type": "execute_result"
    }
   ],
   "source": [
    "import regex\n",
    "# this is regex, not re\n",
    "s = 'This is some test string'\n",
    "pattern = r'[[:lower:]]'\n",
    "set(regex.findall(pattern,s))"
   ]
  },
  {
   "cell_type": "code",
   "execution_count": 28,
   "metadata": {},
   "outputs": [
    {
     "data": {
      "text/plain": [
       "['T', ' ', ' ', ' ', ' ', ' ', '1', ' ', '2', ' ', '3', ' ']"
      ]
     },
     "execution_count": 28,
     "metadata": {},
     "output_type": "execute_result"
    }
   ],
   "source": [
    "s = 'This is some test string 1 2 3 456'\n",
    "pattern = r'[^aeiou[:lower:]4-6]'\n",
    "regex.findall(pattern,s)"
   ]
  },
  {
   "cell_type": "code",
   "execution_count": 29,
   "metadata": {},
   "outputs": [
    {
     "data": {
      "text/plain": [
       "'This'"
      ]
     },
     "execution_count": 29,
     "metadata": {},
     "output_type": "execute_result"
    }
   ],
   "source": [
    "# Match everything up to first space character\n",
    "s = 'This is some test string 1 2 3 456'\n",
    "pattern = r'\\S*'\n",
    "match = re.search(pattern, s)\n",
    "s[match.start():match.end()]"
   ]
  },
  {
   "cell_type": "code",
   "execution_count": 30,
   "metadata": {},
   "outputs": [
    {
     "data": {
      "text/plain": [
       "'This is some test string 1 2 3 456'"
      ]
     },
     "execution_count": 30,
     "metadata": {},
     "output_type": "execute_result"
    }
   ],
   "source": [
    "s = 'This is some test string 1 2 3 456'\n",
    "pattern = r'.*\\d'\n",
    "match = re.search(pattern, s)\n",
    "s[match.start():match.end()]"
   ]
  },
  {
   "cell_type": "code",
   "execution_count": 31,
   "metadata": {},
   "outputs": [
    {
     "data": {
      "text/plain": [
       "'T'"
      ]
     },
     "execution_count": 31,
     "metadata": {},
     "output_type": "execute_result"
    }
   ],
   "source": [
    "# not: not-word or digit\n",
    "s = 'This is some test string 1 2 3 456'\n",
    "pattern = r'[^\\W\\d]'\n",
    "match = re.search(pattern, s)\n",
    "s[match.start():match.end()]"
   ]
  },
  {
   "cell_type": "code",
   "execution_count": 32,
   "metadata": {},
   "outputs": [
    {
     "name": "stdout",
     "output_type": "stream",
     "text": [
      "['T', 'h', 'i', 's', 'i', 's', 's', 'o', 'm', 'e', 't', 'e', 's', 't', 's', 't', 'r', 'i', 'n', 'g']\n"
     ]
    }
   ],
   "source": [
    "print(regex.findall(pattern,s))"
   ]
  },
  {
   "cell_type": "code",
   "execution_count": 33,
   "metadata": {},
   "outputs": [
    {
     "name": "stdout",
     "output_type": "stream",
     "text": [
      "['This is ', '', 'a test.', '']\n"
     ]
    }
   ],
   "source": [
    "# . by default does not match \\n\n",
    "s = 'This is \\na test.'\n",
    "pattern = r'.*'\n",
    "print(regex.findall(pattern,s))"
   ]
  },
  {
   "cell_type": "code",
   "execution_count": 34,
   "metadata": {},
   "outputs": [
    {
     "name": "stdout",
     "output_type": "stream",
     "text": [
      "['This is \\na test.', '']\n",
      "['This is \\na test.', '']\n"
     ]
    }
   ],
   "source": [
    "# . by default does not match \\n\n",
    "s = 'This is \\na test.'\n",
    "pattern = r'.*'\n",
    "print(regex.findall(pattern,s, regex.DOTALL))\n",
    "print(re.findall(pattern,s, re.DOTALL))"
   ]
  },
  {
   "cell_type": "code",
   "execution_count": 35,
   "metadata": {},
   "outputs": [
    {
     "name": "stdout",
     "output_type": "stream",
     "text": [
      "['is', 'is']\n"
     ]
    }
   ],
   "source": [
    "# . by default does not match \\n\n",
    "s = 'This is not an isisis test.'\n",
    "pattern = r'\\s(is){1,3}\\s'\n",
    "print(regex.findall(pattern,s))"
   ]
  },
  {
   "cell_type": "code",
   "execution_count": 36,
   "metadata": {},
   "outputs": [
    {
     "name": "stdout",
     "output_type": "stream",
     "text": [
      "('is',)\n",
      "['is', 'isisis']\n"
     ]
    }
   ],
   "source": [
    "# . by default does not match \\n\n",
    "s = 'This is not an isisis test.'\n",
    "pattern = r'\\s((?:is){1,})\\s'\n",
    "match = regex.search(pattern,s)\n",
    "print(match.groups())\n",
    "print(regex.findall(pattern,s))"
   ]
  },
  {
   "cell_type": "code",
   "execution_count": 37,
   "metadata": {},
   "outputs": [
    {
     "name": "stdout",
     "output_type": "stream",
     "text": [
      "['A123']\n"
     ]
    }
   ],
   "source": [
    "# backtracking\n",
    "# take as many alphanumeric characters as possible, ending in 2 digits\n",
    "s = 'A123'\n",
    "pattern = r'\\w*\\d\\d'\n",
    "print(regex.findall(pattern,s))"
   ]
  },
  {
   "cell_type": "code",
   "execution_count": 38,
   "metadata": {},
   "outputs": [
    {
     "name": "stdout",
     "output_type": "stream",
     "text": [
      "[]\n"
     ]
    }
   ],
   "source": [
    "# backtracking\n",
    "# take as many alphanumeric characters as possible, ending in 2 digits\n",
    "s = 'A1'\n",
    "pattern = r'\\w*\\d\\d'\n",
    "print(regex.findall(pattern,s))"
   ]
  },
  {
   "cell_type": "code",
   "execution_count": 39,
   "metadata": {},
   "outputs": [
    {
     "name": "stdout",
     "output_type": "stream",
     "text": [
      "['\"Hello World!\" and some \"more\" text \"\"']\n"
     ]
    }
   ],
   "source": [
    "# default is maximal match with minimal backtracking\n",
    "s = '\"Hello World!\" and some \"more\" text \"\" and more'\n",
    "pattern = r'\".*\"'\n",
    "print(regex.findall(pattern,s))"
   ]
  },
  {
   "cell_type": "code",
   "execution_count": 40,
   "metadata": {},
   "outputs": [
    {
     "name": "stdout",
     "output_type": "stream",
     "text": [
      "['\"Hello World!\"', '\"more\"', '\"\"']\n"
     ]
    }
   ],
   "source": [
    "# ? next to quantifier means minimal loop\n",
    "pattern = r'\".*?\"'\n",
    "print(regex.findall(pattern,s))"
   ]
  },
  {
   "cell_type": "code",
   "execution_count": 41,
   "metadata": {},
   "outputs": [
    {
     "name": "stdout",
     "output_type": "stream",
     "text": [
      "[('file1', 'file2')]\n"
     ]
    }
   ],
   "source": [
    "s = 'cp file1 file2'\n",
    "pattern = r'(?:cp|mv|ln)\\s+(\\w+)\\s+(\\w+)'\n",
    "print(regex.findall(pattern,s))"
   ]
  },
  {
   "cell_type": "code",
   "execution_count": 42,
   "metadata": {},
   "outputs": [
    {
     "name": "stdout",
     "output_type": "stream",
     "text": [
      "('file1', 'file2')\n",
      "file1\n"
     ]
    }
   ],
   "source": [
    "match = regex.search(pattern,s)\n",
    "print(match.groups())\n",
    "print(match.group(1)) # counting starts at 1!"
   ]
  },
  {
   "cell_type": "code",
   "execution_count": 43,
   "metadata": {},
   "outputs": [
    {
     "data": {
      "text/plain": [
       "[' stuff inside angle brakets ', 'more stuff']"
      ]
     },
     "execution_count": 43,
     "metadata": {},
     "output_type": "execute_result"
    }
   ],
   "source": [
    "# with multiple matches, use findall\n",
    "s = '< stuff inside angle brakets > this is not inside <more stuff>'\n",
    "pattern = r'<(.*?)>'\n",
    "groups = regex.findall(pattern,s)\n",
    "groups"
   ]
  },
  {
   "cell_type": "code",
   "execution_count": 44,
   "metadata": {},
   "outputs": [
    {
     "name": "stdout",
     "output_type": "stream",
     "text": [
      "['2']\n",
      "['1', '2']\n"
     ]
    }
   ],
   "source": [
    "s = \"\"\"\n",
    "This is string1\n",
    "This is string2\n",
    "\"\"\"\n",
    "pattern = r'\\d$'\n",
    "print(regex.findall(pattern,s))\n",
    "print(regex.findall(pattern,s,regex.M))"
   ]
  },
  {
   "cell_type": "code",
   "execution_count": 45,
   "metadata": {},
   "outputs": [
    {
     "name": "stdout",
     "output_type": "stream",
     "text": [
      "['end', 'end']\n"
     ]
    }
   ],
   "source": [
    "# negative (i.e. don't match) lookahead\n",
    "s = 'end endwh1le endloop wh2le loop end'\n",
    "pattern = r'end(?!\\w)'\n",
    "print(regex.findall(pattern,s))"
   ]
  },
  {
   "cell_type": "code",
   "execution_count": 46,
   "metadata": {},
   "outputs": [
    {
     "name": "stdout",
     "output_type": "stream",
     "text": [
      "['end']\n"
     ]
    }
   ],
   "source": [
    "# positive (i.e. match) lookahead\n",
    "pattern = r'end(?=\\s)'\n",
    "print(regex.findall(pattern,s))"
   ]
  },
  {
   "cell_type": "code",
   "execution_count": 47,
   "metadata": {},
   "outputs": [
    {
     "name": "stdout",
     "output_type": "stream",
     "text": [
      "['wh2le']\n"
     ]
    }
   ],
   "source": [
    "# positive (i.e. match) lookbehind\n",
    "pattern = r'(?<!end)wh.le'\n",
    "print(regex.findall(pattern,s))"
   ]
  },
  {
   "cell_type": "code",
   "execution_count": 48,
   "metadata": {},
   "outputs": [
    {
     "name": "stdout",
     "output_type": "stream",
     "text": [
      "['wh2le']\n"
     ]
    }
   ],
   "source": [
    "pattern = r'\\bwh.le\\b'\n",
    "print(regex.findall(pattern,s))"
   ]
  },
  {
   "cell_type": "code",
   "execution_count": 49,
   "metadata": {},
   "outputs": [
    {
     "name": "stdout",
     "output_type": "stream",
     "text": [
      "['123', '12345']\n"
     ]
    }
   ],
   "source": [
    "s = \"\"\"\n",
    "~123\n",
    "~~1234\n",
    "~~~12345\n",
    "~~~~123456\n",
    "\"\"\"\n",
    "pattern = r'^~(?:~~)*\\K\\d+'\n",
    "print(regex.findall(pattern,s,regex.M))"
   ]
  },
  {
   "cell_type": "code",
   "execution_count": 50,
   "metadata": {},
   "outputs": [
    {
     "name": "stdout",
     "output_type": "stream",
     "text": [
      "[('repeated', 'repeated')]\n"
     ]
    }
   ],
   "source": [
    "s = 'there are repeated repeated words in this string'\n",
    "pattern = r'(\\b\\S+)\\s+(\\1)\\b'\n",
    "print(regex.findall(pattern,s))"
   ]
  },
  {
   "cell_type": "code",
   "execution_count": 51,
   "metadata": {},
   "outputs": [
    {
     "name": "stdout",
     "output_type": "stream",
     "text": [
      "['123', '12345']\n"
     ]
    }
   ],
   "source": [
    "s = \"\"\"\n",
    "~123\n",
    "~~1234\n",
    "~~~12345\n",
    "~~~~123456\n",
    "\"\"\"\n",
    "pattern = r\"\"\"\n",
    "(?x)       # turn on extended formatting\n",
    "^~(?:~~)*  # start of string (in multiline mode) followed by ~, followed by ~~\n",
    "\\K\\d+      # restart matching followed by 1 or more digits\n",
    "\"\"\"\n",
    "print(regex.findall(pattern,s,regex.M))"
   ]
  },
  {
   "cell_type": "code",
   "execution_count": 52,
   "metadata": {},
   "outputs": [],
   "source": [
    "pattern_compiled = re.compile(r\"\"\"(?x)\n",
    "(put|get)\\s+\n",
    "(files|buffers)\\s+\n",
    "in\\s+\n",
    "(\\w+)\n",
    "\"\"\"\n",
    "                             )"
   ]
  },
  {
   "cell_type": "code",
   "execution_count": 53,
   "metadata": {},
   "outputs": [
    {
     "name": "stdout",
     "output_type": "stream",
     "text": [
      "[('put', 'files', 'mydirectory')]\n",
      "('put', 'files', 'mydirectory')\n"
     ]
    }
   ],
   "source": [
    "s = 'put files in mydirectory'\n",
    "print(pattern_compiled.findall(s))\n",
    "match = pattern_compiled.search(s)\n",
    "print(match.groups())"
   ]
  },
  {
   "cell_type": "code",
   "execution_count": 54,
   "metadata": {},
   "outputs": [],
   "source": [
    "pattern_compiled = re.compile(r\"\"\"(?x)\n",
    "(?P<CMD>put|get)\\s+\n",
    "(?P<TYPE>files|buffers)\\s+\n",
    "in\\s+\n",
    "(?P<TARGET>\\w+)\n",
    "\"\"\"\n",
    "                             )"
   ]
  },
  {
   "cell_type": "code",
   "execution_count": 55,
   "metadata": {},
   "outputs": [
    {
     "name": "stdout",
     "output_type": "stream",
     "text": [
      "[('put', 'files', 'mydirectory')]\n",
      "('put', 'files', 'mydirectory')\n"
     ]
    }
   ],
   "source": [
    "s = 'put files in mydirectory'\n",
    "print(pattern_compiled.findall(s))\n",
    "match = pattern_compiled.search(s)\n",
    "print(match.groups())"
   ]
  },
  {
   "cell_type": "code",
   "execution_count": 56,
   "metadata": {},
   "outputs": [
    {
     "data": {
      "text/plain": [
       "{'CMD': 'put', 'TYPE': 'files', 'TARGET': 'mydirectory'}"
      ]
     },
     "execution_count": 56,
     "metadata": {},
     "output_type": "execute_result"
    }
   ],
   "source": [
    "match.groupdict()"
   ]
  },
  {
   "cell_type": "code",
   "execution_count": 57,
   "metadata": {},
   "outputs": [
    {
     "name": "stdout",
     "output_type": "stream",
     "text": [
      "put\n",
      "files\n",
      "mydirectory\n"
     ]
    }
   ],
   "source": [
    "print(match.group(\"CMD\"))\n",
    "print(match.group(\"TYPE\"))\n",
    "print(match.group(\"TARGET\"))"
   ]
  },
  {
   "cell_type": "code",
   "execution_count": 58,
   "metadata": {},
   "outputs": [
    {
     "data": {
      "text/plain": [
       "('dog',)"
      ]
     },
     "execution_count": 58,
     "metadata": {},
     "output_type": "execute_result"
    }
   ],
   "source": [
    "pattern_compiled = re.compile(r'(dog)')\n",
    "match = pattern_compiled.fullmatch(\"dog\")\n",
    "match.groups()"
   ]
  },
  {
   "cell_type": "code",
   "execution_count": 59,
   "metadata": {},
   "outputs": [
    {
     "name": "stdout",
     "output_type": "stream",
     "text": [
      "<re.Match object; span=(0, 3), match='dog'>\n",
      "('dog',)\n"
     ]
    }
   ],
   "source": [
    "s = 'dog'\n",
    "pattern = r'(dog)'\n",
    "pc = re.compile(pattern)\n",
    "match = pc.search(s)\n",
    "print(match)\n",
    "print(match.groups())"
   ]
  },
  {
   "cell_type": "code",
   "execution_count": 60,
   "metadata": {},
   "outputs": [
    {
     "name": "stdout",
     "output_type": "stream",
     "text": [
      "dog\n",
      "dog\n"
     ]
    }
   ],
   "source": [
    "print(match[0]) # all groups\n",
    "print(match[1]) # group 1"
   ]
  },
  {
   "cell_type": "markdown",
   "metadata": {},
   "source": [
    "### Regex Module"
   ]
  },
  {
   "cell_type": "code",
   "execution_count": 61,
   "metadata": {},
   "outputs": [
    {
     "data": {
      "text/plain": [
       "True"
      ]
     },
     "execution_count": 61,
     "metadata": {},
     "output_type": "execute_result"
    }
   ],
   "source": [
    "import regex\n",
    "regex.DEFAULT_VERSION == regex.V0"
   ]
  },
  {
   "cell_type": "code",
   "execution_count": 62,
   "metadata": {},
   "outputs": [
    {
     "data": {
      "text/plain": [
       "[]"
      ]
     },
     "execution_count": 62,
     "metadata": {},
     "output_type": "execute_result"
    }
   ],
   "source": [
    "s = 'abcdefg'\n",
    "pattern = r'[[a-z]--[aeiou]](?V0)'\n",
    "regex.findall(pattern, s)"
   ]
  },
  {
   "cell_type": "code",
   "execution_count": 63,
   "metadata": {},
   "outputs": [
    {
     "data": {
      "text/plain": [
       "['b', 'c', 'd', 'f', 'g']"
      ]
     },
     "execution_count": 63,
     "metadata": {},
     "output_type": "execute_result"
    }
   ],
   "source": [
    "s = 'abcdefg'\n",
    "pattern = r'[[a-z]--[aeiou]](?V1)'\n",
    "regex.findall(pattern, s)"
   ]
  },
  {
   "cell_type": "code",
   "execution_count": 64,
   "metadata": {},
   "outputs": [],
   "source": [
    "pattern = r'[[a-z]--[aeiou]]'"
   ]
  },
  {
   "cell_type": "code",
   "execution_count": 65,
   "metadata": {},
   "outputs": [
    {
     "name": "stdout",
     "output_type": "stream",
     "text": [
      "[]\n",
      "[]\n",
      "[]\n",
      "['b', 'c', 'd', 'f', 'g']\n"
     ]
    },
    {
     "name": "stderr",
     "output_type": "stream",
     "text": [
      "/home/agni/anaconda3/envs/ml/lib/python3.7/site-packages/ipykernel_launcher.py:1: FutureWarning: Possible nested set at position 1\n",
      "  \"\"\"Entry point for launching an IPython kernel.\n"
     ]
    }
   ],
   "source": [
    "print(re.findall(pattern, s))\n",
    "print(regex.findall(pattern, s))\n",
    "print(regex.findall(pattern, s, regex.V0))\n",
    "print(regex.findall(pattern, s, regex.V1))"
   ]
  },
  {
   "cell_type": "code",
   "execution_count": 66,
   "metadata": {},
   "outputs": [],
   "source": [
    "s = 'a-beautiful-day'"
   ]
  },
  {
   "cell_type": "code",
   "execution_count": 67,
   "metadata": {},
   "outputs": [
    {
     "name": "stdout",
     "output_type": "stream",
     "text": [
      "3.7.1 (default, Dec 14 2018, 19:28:38) \n",
      "[GCC 7.3.0]\n"
     ]
    },
    {
     "data": {
      "text/plain": [
       "['a', '-beautiful', '-day']"
      ]
     },
     "execution_count": 67,
     "metadata": {},
     "output_type": "execute_result"
    }
   ],
   "source": [
    "import sys\n",
    "print(sys.version)\n",
    "\n",
    "# new in 3.7, this now the same as with regex.split() below\n",
    "re.split('(?=-)', s)"
   ]
  },
  {
   "cell_type": "code",
   "execution_count": 68,
   "metadata": {},
   "outputs": [
    {
     "data": {
      "text/plain": [
       "['a', '-beautiful', '-day']"
      ]
     },
     "execution_count": 68,
     "metadata": {},
     "output_type": "execute_result"
    }
   ],
   "source": [
    "regex.split('(?=-)', s, regex.V1)"
   ]
  },
  {
   "cell_type": "code",
   "execution_count": 69,
   "metadata": {},
   "outputs": [
    {
     "name": "stdout",
     "output_type": "stream",
     "text": [
      "Variable           Type        Data/Info\n",
      "----------------------------------------\n",
      "compiled_pattern   Pattern     re.compile('minimal')\n",
      "groups             list        n=2\n",
      "match              Match       <re.Match object; span=(0, 3), match='dog'>\n",
      "ml_text            str         Machine learning is a met<...>mal human intervention.\\n\n",
      "multi_re_find      function    <function multi_re_find at 0x7f508c7201e0>\n",
      "pattern            str         [[a-z]--[aeiou]]\n",
      "pattern_compiled   Pattern     re.compile('(dog)')\n",
      "patterns           list        n=2\n",
      "pc                 Pattern     re.compile('(dog)')\n",
      "re                 module      <module 're' from '/home/<...>/ml/lib/python3.7/re.py'>\n",
      "regex              module      <module 'regex' from '/ho<...>/site-packages/regex.py'>\n",
      "s                  str         a-beautiful-day\n",
      "s2                 str         \\D\n",
      "sys                module      <module 'sys' (built-in)>\n",
      "test_patterns      list        n=6\n",
      "test_phrase        str         This is a string with som<...>233 and a symbol #hashtag\n"
     ]
    }
   ],
   "source": [
    "whos"
   ]
  },
  {
   "cell_type": "code",
   "execution_count": 70,
   "metadata": {},
   "outputs": [
    {
     "data": {
      "text/plain": [
       "['a', '-beautiful', '-day']"
      ]
     },
     "execution_count": 70,
     "metadata": {},
     "output_type": "execute_result"
    }
   ],
   "source": [
    "regex.split('(?=-)', s)"
   ]
  },
  {
   "cell_type": "code",
   "execution_count": 71,
   "metadata": {},
   "outputs": [
    {
     "data": {
      "text/plain": [
       "['<aa> b <ccde>']"
      ]
     },
     "execution_count": 71,
     "metadata": {},
     "output_type": "execute_result"
    }
   ],
   "source": [
    "s = \"<aa> b <ccde>\"\n",
    "r = r'<.*>'\n",
    "mo = regex.match(r, s)\n",
    "mo.captures()"
   ]
  },
  {
   "cell_type": "code",
   "execution_count": 72,
   "metadata": {},
   "outputs": [
    {
     "data": {
      "text/plain": [
       "'<aa> b <ccde>'"
      ]
     },
     "execution_count": 72,
     "metadata": {},
     "output_type": "execute_result"
    }
   ],
   "source": [
    "s = \"<aa> b <ccde>\"\n",
    "r = r'<.*>'\n",
    "mo = re.match(r, s)\n",
    "mo.string"
   ]
  },
  {
   "cell_type": "code",
   "execution_count": 73,
   "metadata": {},
   "outputs": [
    {
     "data": {
      "text/plain": [
       "['<aa>']"
      ]
     },
     "execution_count": 73,
     "metadata": {},
     "output_type": "execute_result"
    }
   ],
   "source": [
    "s = \"<aa> b <ccde>\"\n",
    "r = r'<.*?>'\n",
    "mo = regex.match(r, s)\n",
    "mo.captures()"
   ]
  },
  {
   "cell_type": "code",
   "execution_count": 74,
   "metadata": {},
   "outputs": [
    {
     "data": {
      "text/plain": [
       "['<aa>', '<ccde>']"
      ]
     },
     "execution_count": 74,
     "metadata": {},
     "output_type": "execute_result"
    }
   ],
   "source": [
    "s = \"<aa> b <ccde>\"\n",
    "r = r'<.*?>'\n",
    "match_list = regex.findall(r, s)\n",
    "match_list"
   ]
  },
  {
   "cell_type": "code",
   "execution_count": 75,
   "metadata": {},
   "outputs": [
    {
     "data": {
      "text/plain": [
       "['<aa> b <ccde>']"
      ]
     },
     "execution_count": 75,
     "metadata": {},
     "output_type": "execute_result"
    }
   ],
   "source": [
    "s = \"<aa> b <ccde>\"\n",
    "r = r'<.*>'\n",
    "match_list = regex.findall(r, s)\n",
    "match_list"
   ]
  },
  {
   "cell_type": "code",
   "execution_count": 76,
   "metadata": {},
   "outputs": [
    {
     "data": {
      "text/plain": [
       "['Words', 'words', 'and', 'more', 'words', '']"
      ]
     },
     "execution_count": 76,
     "metadata": {},
     "output_type": "execute_result"
    }
   ],
   "source": [
    "re.split(r'\\W+', 'Words, words, and more words.')"
   ]
  },
  {
   "cell_type": "code",
   "execution_count": 77,
   "metadata": {},
   "outputs": [
    {
     "data": {
      "text/plain": [
       "['Words', 'words', 'and', 'more', 'words', '']"
      ]
     },
     "execution_count": 77,
     "metadata": {},
     "output_type": "execute_result"
    }
   ],
   "source": [
    "re.split(r'(?:\\W+)', 'Words, words, and more words.')"
   ]
  },
  {
   "cell_type": "code",
   "execution_count": 78,
   "metadata": {},
   "outputs": [
    {
     "name": "stdout",
     "output_type": "stream",
     "text": [
      "6789 a\n",
      "6789\n",
      "a\n",
      "('6789', 'a')\n",
      "{'digits': '6789', 'letters': 'a'}\n"
     ]
    }
   ],
   "source": [
    "pattern = re.compile(r'(?P<digits>\\d+) (?P<letters>[a-zA-Z])')\n",
    "mo = pattern.search('123 45 6789 a234')\n",
    "print(mo.group(0))\n",
    "print(mo.group(1))\n",
    "print(mo.group(2))\n",
    "print(mo.groups())\n",
    "print(mo.groupdict())"
   ]
  },
  {
   "cell_type": "code",
   "execution_count": 79,
   "metadata": {},
   "outputs": [
    {
     "name": "stdout",
     "output_type": "stream",
     "text": [
      "123\n",
      "('123',)\n",
      "{'digits': '123'}\n"
     ]
    }
   ],
   "source": [
    "pattern = re.compile(r'(?P<digits>\\d+)')\n",
    "mo = pattern.search('123 45 6789 a234')\n",
    "print(mo.group(0))\n",
    "print(mo.groups())\n",
    "print(mo.groupdict())"
   ]
  },
  {
   "cell_type": "code",
   "execution_count": 80,
   "metadata": {},
   "outputs": [
    {
     "data": {
      "text/plain": [
       "['123', '45', '6789', '234']"
      ]
     },
     "execution_count": 80,
     "metadata": {},
     "output_type": "execute_result"
    }
   ],
   "source": [
    "pattern = re.compile(r'(?P<digits>\\d+)')\n",
    "pattern.findall('123 45 6789 a234')"
   ]
  },
  {
   "cell_type": "code",
   "execution_count": null,
   "metadata": {},
   "outputs": [],
   "source": []
  },
  {
   "cell_type": "code",
   "execution_count": 81,
   "metadata": {},
   "outputs": [
    {
     "data": {
      "text/plain": [
       "[('ADDR2LINE',\n",
       "  '/home/agni/anaconda3/envs/ml/bin/x86_64-conda_cos6-linux-gnu-addr2line'),\n",
       " ('AR', '/home/agni/anaconda3/envs/ml/bin/x86_64-conda_cos6-linux-gnu-ar'),\n",
       " ('AS', '/home/agni/anaconda3/envs/ml/bin/x86_64-conda_cos6-linux-gnu-as'),\n",
       " ('CC', '/home/agni/anaconda3/envs/ml/bin/x86_64-conda_cos6-linux-gnu-cc'),\n",
       " ('CFLAGS',\n",
       "  '-march=nocona -mtune=haswell -ftree-vectorize -fPIC -fstack-protector-strong -fno-plt -O2 -pipe')]"
      ]
     },
     "execution_count": 81,
     "metadata": {},
     "output_type": "execute_result"
    }
   ],
   "source": [
    "env = %env\n",
    "env_list = [(key,value) for key,value in env.items()]\n",
    "env_list.sort()\n",
    "env_list[:5]"
   ]
  },
  {
   "cell_type": "code",
   "execution_count": 82,
   "metadata": {},
   "outputs": [
    {
     "name": "stdout",
     "output_type": "stream",
     "text": [
      "<class 'dict_keys'>\n"
     ]
    }
   ],
   "source": [
    "print(type(env.keys()))"
   ]
  },
  {
   "cell_type": "code",
   "execution_count": 83,
   "metadata": {},
   "outputs": [
    {
     "name": "stdout",
     "output_type": "stream",
     "text": [
      "_CONFIG_DIRS\n",
      "_CURRENT_DESKTOP\n",
      "_DATA_DIRS\n",
      "_MENU_PREFIX\n",
      "_RUNTIME_DIR\n",
      "_SEAT\n",
      "_SESSION_DESKTOP\n",
      "_SESSION_ID\n",
      "_SESSION_TYPE\n",
      "_VTNR\n"
     ]
    }
   ],
   "source": [
    "env = %env\n",
    "keys = list(env.keys())\n",
    "keys.sort()\n",
    "for key in keys:\n",
    "    m = regex.search(r'(?<=XDG)(\\w+)', key)\n",
    "    if m:\n",
    "        print(m.group(1))"
   ]
  },
  {
   "cell_type": "code",
   "execution_count": 84,
   "metadata": {},
   "outputs": [
    {
     "data": {
      "text/plain": [
       "['XDG_CONFIG_DIRS',\n",
       " 'XDG_CURRENT_DESKTOP',\n",
       " 'XDG_DATA_DIRS',\n",
       " 'XDG_MENU_PREFIX',\n",
       " 'XDG_RUNTIME_DIR',\n",
       " 'XDG_SEAT',\n",
       " 'XDG_SESSION_DESKTOP',\n",
       " 'XDG_SESSION_ID',\n",
       " 'XDG_SESSION_TYPE',\n",
       " 'XDG_VTNR']"
      ]
     },
     "execution_count": 84,
     "metadata": {},
     "output_type": "execute_result"
    }
   ],
   "source": [
    "[k for k in keys if k.startswith('XDG')]"
   ]
  },
  {
   "cell_type": "code",
   "execution_count": 85,
   "metadata": {},
   "outputs": [
    {
     "data": {
      "text/plain": [
       "['LS_COLORS',\n",
       " 'PATH',\n",
       " 'XDG_CONFIG_DIRS',\n",
       " 'XDG_CURRENT_DESKTOP',\n",
       " 'XDG_DATA_DIRS',\n",
       " 'XDG_MENU_PREFIX',\n",
       " 'XDG_RUNTIME_DIR',\n",
       " 'XDG_SEAT',\n",
       " 'XDG_SESSION_DESKTOP',\n",
       " 'XDG_SESSION_ID',\n",
       " 'XDG_SESSION_TYPE',\n",
       " 'XDG_VTNR']"
      ]
     },
     "execution_count": 85,
     "metadata": {},
     "output_type": "execute_result"
    }
   ],
   "source": [
    "[k for k in keys if regex.search(r'^XDG | ^PATH | ^LS_COLORS', k, flags=regex.X)]"
   ]
  },
  {
   "cell_type": "code",
   "execution_count": 86,
   "metadata": {},
   "outputs": [
    {
     "data": {
      "text/plain": [
       "[('ADDR2LINE',\n",
       "  '/home/agni/anaconda3/envs/ml/bin/x86_64-conda_cos6-linux-gnu-addr2line'),\n",
       " ('AR', '/home/agni/anaconda3/envs/ml/bin/x86_64-conda_cos6-linux-gnu-ar'),\n",
       " ('AS', '/home/agni/anaconda3/envs/ml/bin/x86_64-conda_cos6-linux-gnu-as'),\n",
       " ('CC', '/home/agni/anaconda3/envs/ml/bin/x86_64-conda_cos6-linux-gnu-cc'),\n",
       " ('CFLAGS',\n",
       "  '-march=nocona -mtune=haswell -ftree-vectorize -fPIC -fstack-protector-strong -fno-plt -O2 -pipe'),\n",
       " ('CLICOLOR', '1'),\n",
       " ('CLUTTER_IM_MODULE', 'xim'),\n",
       " ('COLORTERM', 'truecolor'),\n",
       " ('CONDA_BACKUP_F95',\n",
       "  '/home/agni/anaconda3/envs/ml/bin/x86_64-conda_cos6-linux-gnu-f95'),\n",
       " ('CONDA_BACKUP_HOST', 'x86_64-conda_cos6-linux-gnu'),\n",
       " ('CONDA_DEFAULT_ENV', 'ml'),\n",
       " ('CONDA_EXE', '/home/agni/anaconda3/bin/conda'),\n",
       " ('CONDA_PREFIX', '/home/agni/anaconda3/envs/ml'),\n",
       " ('CONDA_PREFIX_1', '/home/agni/anaconda3'),\n",
       " ('CONDA_PROMPT_MODIFIER', '(ml) '),\n",
       " ('CONDA_PYTHON_EXE', '/home/agni/anaconda3/bin/python'),\n",
       " ('CONDA_SHLVL', '2'),\n",
       " ('CPP', '/home/agni/anaconda3/envs/ml/bin/x86_64-conda_cos6-linux-gnu-cpp'),\n",
       " ('CPPFLAGS', '-DNDEBUG -D_FORTIFY_SOURCE=2 -O2'),\n",
       " ('CUDA_VISIBLE_DEVICES', '0'),\n",
       " ('CXX', '/home/agni/anaconda3/envs/ml/bin/x86_64-conda_cos6-linux-gnu-c++'),\n",
       " ('CXXFILT',\n",
       "  '/home/agni/anaconda3/envs/ml/bin/x86_64-conda_cos6-linux-gnu-c++filt'),\n",
       " ('CXXFLAGS',\n",
       "  '-fvisibility-inlines-hidden -std=c++17 -fmessage-length=0 -march=nocona -mtune=haswell -ftree-vectorize -fPIC -fstack-protector-strong -fno-plt -O2 -pipe'),\n",
       " ('DEBUG_CFLAGS',\n",
       "  '-march=nocona -mtune=haswell -ftree-vectorize -fPIC -fstack-protector-all -fno-plt -Og -g -Wall -Wextra -fvar-tracking-assignments -pipe'),\n",
       " ('DEBUG_CPPFLAGS', '-D_DEBUG -D_FORTIFY_SOURCE=2 -Og'),\n",
       " ('DEBUG_CXXFLAGS',\n",
       "  '-fvisibility-inlines-hidden -std=c++17 -fmessage-length=0 -march=nocona -mtune=haswell -ftree-vectorize -fPIC -fstack-protector-all -fno-plt -Og -g -Wall -Wextra -fvar-tracking-assignments -pipe'),\n",
       " ('DEBUG_FFLAGS',\n",
       "  '-fopenmp -march=nocona -mtune=haswell -ftree-vectorize -fPIC -fstack-protector-strong -fno-plt -O2 -pipe -fopenmp -march=nocona -mtune=haswell -ftree-vectorize -fPIC -fstack-protector-all -fno-plt -Og -g -Wall -Wextra -fcheck=all -fbacktrace -fimplicit-none -fvar-tracking-assignments -pipe'),\n",
       " ('DEBUG_FORTRANFLAGS',\n",
       "  '-fopenmp -march=nocona -mtune=haswell -ftree-vectorize -fPIC -fstack-protector-strong -fno-plt -O2 -pipe -fopenmp -march=nocona -mtune=haswell -ftree-vectorize -fPIC -fstack-protector-all -fno-plt -Og -g -Wall -Wextra -fcheck=all -fbacktrace -fimplicit-none -fvar-tracking-assignments -pipe'),\n",
       " ('DEFAULTS_PATH', '/usr/share/gconf/ubuntu.default.path'),\n",
       " ('DESKTOP_SESSION', 'ubuntu'),\n",
       " ('DISPLAY', ':1'),\n",
       " ('ELFEDIT',\n",
       "  '/home/agni/anaconda3/envs/ml/bin/x86_64-conda_cos6-linux-gnu-elfedit'),\n",
       " ('F77',\n",
       "  '/home/agni/anaconda3/envs/ml/bin/x86_64-conda_cos6-linux-gnu-gfortran'),\n",
       " ('F90',\n",
       "  '/home/agni/anaconda3/envs/ml/bin/x86_64-conda_cos6-linux-gnu-gfortran'),\n",
       " ('F95', '/home/agni/anaconda3/envs/ml/bin/x86_64-conda_cos6-linux-gnu-f95'),\n",
       " ('FC',\n",
       "  '/home/agni/anaconda3/envs/ml/bin/x86_64-conda_cos6-linux-gnu-gfortran'),\n",
       " ('FFLAGS',\n",
       "  '-fopenmp -march=nocona -mtune=haswell -ftree-vectorize -fPIC -fstack-protector-strong -fno-plt -O2 -pipe'),\n",
       " ('FORTRANFLAGS',\n",
       "  '-fopenmp -march=nocona -mtune=haswell -ftree-vectorize -fPIC -fstack-protector-strong -fno-plt -O2 -pipe'),\n",
       " ('GCC', '/home/agni/anaconda3/envs/ml/bin/x86_64-conda_cos6-linux-gnu-gcc'),\n",
       " ('GCC_AR',\n",
       "  '/home/agni/anaconda3/envs/ml/bin/x86_64-conda_cos6-linux-gnu-gcc-ar'),\n",
       " ('GCC_NM',\n",
       "  '/home/agni/anaconda3/envs/ml/bin/x86_64-conda_cos6-linux-gnu-gcc-nm'),\n",
       " ('GCC_RANLIB',\n",
       "  '/home/agni/anaconda3/envs/ml/bin/x86_64-conda_cos6-linux-gnu-gcc-ranlib'),\n",
       " ('GDMSESSION', 'ubuntu'),\n",
       " ('GFORTRAN',\n",
       "  '/home/agni/anaconda3/envs/ml/bin/x86_64-conda_cos6-linux-gnu-gfortran'),\n",
       " ('GIO_EXTRA_MODULES', '/usr/lib/x86_64-linux-gnu/gio/modules/'),\n",
       " ('GIT_PAGER', 'cat'),\n",
       " ('GJS_DEBUG_OUTPUT', 'stderr'),\n",
       " ('GJS_DEBUG_TOPICS', 'JS ERROR;JS LOG'),\n",
       " ('GNOME_DESKTOP_SESSION_ID', 'this-is-deprecated'),\n",
       " ('GNOME_SHELL_SESSION_MODE', 'ubuntu'),\n",
       " ('GNOME_TERMINAL_SCREEN',\n",
       "  '/org/gnome/Terminal/screen/f3fd575f_9f08_40b2_9ae6_287ed8934ec4'),\n",
       " ('GNOME_TERMINAL_SERVICE', ':1.68'),\n",
       " ('GPG_AGENT_INFO', '/run/user/1000/gnupg/S.gpg-agent:0:1'),\n",
       " ('GPROF',\n",
       "  '/home/agni/anaconda3/envs/ml/bin/x86_64-conda_cos6-linux-gnu-gprof'),\n",
       " ('GTK_IM_MODULE', 'ibus'),\n",
       " ('GTK_MODULES', 'gail:atk-bridge'),\n",
       " ('GXX', '/home/agni/anaconda3/envs/ml/bin/x86_64-conda_cos6-linux-gnu-g++'),\n",
       " ('HOME', '/home/agni'),\n",
       " ('HOST', 'x86_64-conda_cos6-linux-gnu'),\n",
       " ('IM_CONFIG_PHASE', '2'),\n",
       " ('JAVA_HOME', '/usr/lib/jvm/jdk-11.0.1'),\n",
       " ('JPY_PARENT_PID', '26975'),\n",
       " ('KMP_AFFINITY', 'granularity=fine,compact,1,0'),\n",
       " ('LANG', 'en_US.UTF-8'),\n",
       " ('LD', '/home/agni/anaconda3/envs/ml/bin/x86_64-conda_cos6-linux-gnu-ld'),\n",
       " ('LDFLAGS',\n",
       "  '-Wl,-O2 -Wl,--sort-common -Wl,--as-needed -Wl,-z,relro -Wl,-z,now -Wl,--disable-new-dtags'),\n",
       " ('LD_GOLD',\n",
       "  '/home/agni/anaconda3/envs/ml/bin/x86_64-conda_cos6-linux-gnu-ld.gold'),\n",
       " ('LESSCLOSE', '/usr/bin/lesspipe %s %s'),\n",
       " ('LESSOPEN', '| /usr/bin/lesspipe %s'),\n",
       " ('LOGNAME', 'agni'),\n",
       " ('MANDATORY_PATH', '/usr/share/gconf/ubuntu.mandatory.path'),\n",
       " ('MKL_NUM_THREADS', '4'),\n",
       " ('MPLBACKEND', 'module://ipykernel.pylab.backend_inline'),\n",
       " ('NM', '/home/agni/anaconda3/envs/ml/bin/x86_64-conda_cos6-linux-gnu-nm'),\n",
       " ('OBJCOPY',\n",
       "  '/home/agni/anaconda3/envs/ml/bin/x86_64-conda_cos6-linux-gnu-objcopy'),\n",
       " ('OBJDUMP',\n",
       "  '/home/agni/anaconda3/envs/ml/bin/x86_64-conda_cos6-linux-gnu-objdump'),\n",
       " ('OMP_NUM_THREADS', '4'),\n",
       " ('PAGER', 'cat'),\n",
       " ('PWD', '/home/agni'),\n",
       " ('QT4_IM_MODULE', 'xim'),\n",
       " ('QT_ACCESSIBILITY', '1'),\n",
       " ('QT_IM_MODULE', 'ibus'),\n",
       " ('RANLIB',\n",
       "  '/home/agni/anaconda3/envs/ml/bin/x86_64-conda_cos6-linux-gnu-ranlib'),\n",
       " ('READELF',\n",
       "  '/home/agni/anaconda3/envs/ml/bin/x86_64-conda_cos6-linux-gnu-readelf'),\n",
       " ('SESSION_MANAGER',\n",
       "  'local/atlantis:@/tmp/.ICE-unix/30369,unix/atlantis:/tmp/.ICE-unix/30369'),\n",
       " ('SHELL', '/bin/bash'),\n",
       " ('SHLVL', '1'),\n",
       " ('SIZE', '/home/agni/anaconda3/envs/ml/bin/x86_64-conda_cos6-linux-gnu-size'),\n",
       " ('SSH_AGENT_PID', '7292'),\n",
       " ('SSH_AUTH_SOCK', '/run/user/1000/keyring/ssh'),\n",
       " ('STRINGS',\n",
       "  '/home/agni/anaconda3/envs/ml/bin/x86_64-conda_cos6-linux-gnu-strings'),\n",
       " ('STRIP',\n",
       "  '/home/agni/anaconda3/envs/ml/bin/x86_64-conda_cos6-linux-gnu-strip'),\n",
       " ('S_COLORS', 'auto'),\n",
       " ('TERM', 'xterm-color'),\n",
       " ('TEXTDOMAIN', 'im-config'),\n",
       " ('TEXTDOMAINDIR', '/usr/share/locale/'),\n",
       " ('USER', 'agni'),\n",
       " ('USERNAME', 'agni'),\n",
       " ('VTE_VERSION', '5202'),\n",
       " ('WINDOWPATH', '2'),\n",
       " ('XAUTHORITY', '/run/user/1000/gdm/Xauthority'),\n",
       " ('XMODIFIERS', '@im=ibus'),\n",
       " ('ZEITGEIST_DATA_PATH', '/home/agni/.local/share/zeitgeist'),\n",
       " ('_', '/home/agni/anaconda3/envs/ml/bin/jupyter'),\n",
       " ('_CONDA_PYTHON_SYSCONFIGDATA_NAME',\n",
       "  '_sysconfigdata_x86_64_conda_cos6_linux_gnu')]"
      ]
     },
     "execution_count": 86,
     "metadata": {},
     "output_type": "execute_result"
    }
   ],
   "source": [
    "env = %env\n",
    "env_list = [(key,value) for key,value in env.items() if not regex.search(r'^XDG | ^PATH | ^LS_COLORS | ^DBUS', key, flags=regex.X)]\n",
    "env_list.sort()\n",
    "env_list"
   ]
  },
  {
   "cell_type": "code",
   "execution_count": 87,
   "metadata": {},
   "outputs": [],
   "source": [
    "# lsmagic\n",
    "# pdoc regex"
   ]
  },
  {
   "cell_type": "code",
   "execution_count": 88,
   "metadata": {},
   "outputs": [
    {
     "name": "stdout",
     "output_type": "stream",
     "text": [
      "Variable           Type        Data/Info\n",
      "----------------------------------------\n",
      "compiled_pattern   Pattern     re.compile('minimal')\n",
      "env                dict        n=118\n",
      "env_list           list        n=105\n",
      "groups             list        n=2\n",
      "key                str         _CONDA_PYTHON_SYSCONFIGDATA_NAME\n",
      "keys               list        n=118\n",
      "m                  NoneType    None\n",
      "match              Match       <re.Match object; span=(0, 3), match='dog'>\n",
      "match_list         list        n=1\n",
      "ml_text            str         Machine learning is a met<...>mal human intervention.\\n\n",
      "mo                 Match       <re.Match object; span=(0, 3), match='123'>\n",
      "multi_re_find      function    <function multi_re_find at 0x7f508c7201e0>\n",
      "pattern            Pattern     re.compile('(?P<digits>\\\\d+)')\n",
      "pattern_compiled   Pattern     re.compile('(dog)')\n",
      "patterns           list        n=2\n",
      "pc                 Pattern     re.compile('(dog)')\n",
      "r                  str         <.*>\n",
      "re                 module      <module 're' from '/home/<...>/ml/lib/python3.7/re.py'>\n",
      "regex              module      <module 'regex' from '/ho<...>/site-packages/regex.py'>\n",
      "s                  str         <aa> b <ccde>\n",
      "s2                 str         \\D\n",
      "sys                module      <module 'sys' (built-in)>\n",
      "test_patterns      list        n=6\n",
      "test_phrase        str         This is a string with som<...>233 and a symbol #hashtag\n"
     ]
    }
   ],
   "source": [
    "whos"
   ]
  },
  {
   "cell_type": "code",
   "execution_count": 89,
   "metadata": {},
   "outputs": [
    {
     "data": {
      "text/plain": [
       "env\n",
       "env_list"
      ]
     },
     "metadata": {},
     "output_type": "display_data"
    }
   ],
   "source": [
    "%psearch env*"
   ]
  },
  {
   "cell_type": "code",
   "execution_count": 90,
   "metadata": {},
   "outputs": [
    {
     "name": "stdout",
     "output_type": "stream",
     "text": [
      "5.89 ns ± 0.0212 ns per loop (mean ± std. dev. of 7 runs, 100000000 loops each)\n"
     ]
    }
   ],
   "source": [
    "timeit pass"
   ]
  },
  {
   "cell_type": "code",
   "execution_count": 91,
   "metadata": {},
   "outputs": [
    {
     "name": "stdout",
     "output_type": "stream",
     "text": [
      "compiled_pattern\t env\t env_list\t groups\t key\t keys\t m\t match\t match_list\t \n",
      "ml_text\t mo\t multi_re_find\t pattern\t pattern_compiled\t patterns\t pc\t r\t re\t \n",
      "regex\t s\t s2\t sys\t test_patterns\t test_phrase\t \n"
     ]
    }
   ],
   "source": [
    "who"
   ]
  },
  {
   "cell_type": "code",
   "execution_count": 92,
   "metadata": {},
   "outputs": [
    {
     "name": "stdout",
     "output_type": "stream",
     "text": [
      "Variable           Type        Data/Info\n",
      "----------------------------------------\n",
      "compiled_pattern   Pattern     re.compile('minimal')\n",
      "env                dict        n=118\n",
      "env_list           list        n=105\n",
      "groups             list        n=2\n",
      "key                str         _CONDA_PYTHON_SYSCONFIGDATA_NAME\n",
      "keys               list        n=118\n",
      "m                  NoneType    None\n",
      "match              Match       <re.Match object; span=(0, 3), match='dog'>\n",
      "match_list         list        n=1\n",
      "ml_text            str         Machine learning is a met<...>mal human intervention.\\n\n",
      "mo                 Match       <re.Match object; span=(0, 3), match='123'>\n",
      "multi_re_find      function    <function multi_re_find at 0x7f508c7201e0>\n",
      "pattern            Pattern     re.compile('(?P<digits>\\\\d+)')\n",
      "pattern_compiled   Pattern     re.compile('(dog)')\n",
      "patterns           list        n=2\n",
      "pc                 Pattern     re.compile('(dog)')\n",
      "r                  str         <.*>\n",
      "re                 module      <module 're' from '/home/<...>/ml/lib/python3.7/re.py'>\n",
      "regex              module      <module 'regex' from '/ho<...>/site-packages/regex.py'>\n",
      "s                  str         <aa> b <ccde>\n",
      "s2                 str         \\D\n",
      "sys                module      <module 'sys' (built-in)>\n",
      "test_patterns      list        n=6\n",
      "test_phrase        str         This is a string with som<...>233 and a symbol #hashtag\n"
     ]
    }
   ],
   "source": [
    "whos"
   ]
  },
  {
   "cell_type": "code",
   "execution_count": 93,
   "metadata": {},
   "outputs": [
    {
     "data": {
      "text/plain": [
       "['compiled_pattern',\n",
       " 'env',\n",
       " 'env_list',\n",
       " 'groups',\n",
       " 'key',\n",
       " 'keys',\n",
       " 'm',\n",
       " 'match',\n",
       " 'match_list',\n",
       " 'ml_text',\n",
       " 'mo',\n",
       " 'multi_re_find',\n",
       " 'pattern',\n",
       " 'pattern_compiled',\n",
       " 'patterns',\n",
       " 'pc',\n",
       " 'r',\n",
       " 're',\n",
       " 'regex',\n",
       " 's',\n",
       " 's2',\n",
       " 'sys',\n",
       " 'test_patterns',\n",
       " 'test_phrase']"
      ]
     },
     "execution_count": 93,
     "metadata": {},
     "output_type": "execute_result"
    }
   ],
   "source": [
    "who_ls"
   ]
  }
 ],
 "metadata": {
  "kernelspec": {
   "display_name": "Python 3",
   "language": "python",
   "name": "python3"
  },
  "language_info": {
   "codemirror_mode": {
    "name": "ipython",
    "version": 3
   },
   "file_extension": ".py",
   "mimetype": "text/x-python",
   "name": "python",
   "nbconvert_exporter": "python",
   "pygments_lexer": "ipython3",
   "version": "3.7.1"
  }
 },
 "nbformat": 4,
 "nbformat_minor": 2
}
