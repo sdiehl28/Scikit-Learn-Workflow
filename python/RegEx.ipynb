{
 "cells": [
  {
   "cell_type": "markdown",
   "metadata": {},
   "source": [
    "# Regular Expressions in Python\n",
    "\n",
    "By far, the best course I have found on Regular Expressions is:  \n",
    "https://www.safaribooksonline.com/videos/understanding-regular-expressions/9781491996300  \n",
    "\n",
    "The best website I have found for learning and experimenting with Regular Expressions is:  \n",
    "https://regex101.com/ \n",
    "\n",
    "A good cookbook of practical regular expressions is:  \n",
    "https://www.amazon.com/Regular-Expressions-Cookbook-Solutions-Programming/dp/1449319432/\n",
    "\n",
    "Jump to Practical Example in this notebook: [Example](#example)"
   ]
  },
  {
   "cell_type": "markdown",
   "metadata": {},
   "source": [
    "## **re** module vs **regex** module\n",
    "\n",
    "* **re** is part of standard library\n",
    "* **regex** has latest PCRE with variable length look behind and more\n",
    "\n",
    "In most cases, re and regex will do the same thing.  However with advanced regular expressions, you may find yourself wanting to use regex over re.\n",
    "\n",
    "PCRE means Perl Compatible Regular Expressions"
   ]
  },
  {
   "cell_type": "markdown",
   "metadata": {},
   "source": [
    "## re.search() and re.finditer()\n",
    "\n",
    "In practice, re.search() and re.findIter() may be the methods you use most.\n",
    "\n",
    "re.search() will find the **first** match and return that as a match object.\n",
    "re.findIter() will return an iterator over all matches.\n",
    "\n",
    "re.search() will return None, if there is no match.\n",
    "\n",
    "The truthiness of None defined to be bool(None) which is False."
   ]
  },
  {
   "cell_type": "code",
   "execution_count": 1,
   "metadata": {},
   "outputs": [],
   "source": [
    "# The last expression in a Jupyter Notebook cell is displayed using __repr__\n",
    "# For None, nothing is displayed\n",
    "None"
   ]
  },
  {
   "cell_type": "code",
   "execution_count": 2,
   "metadata": {},
   "outputs": [
    {
     "data": {
      "text/plain": [
       "False"
      ]
     },
     "execution_count": 2,
     "metadata": {},
     "output_type": "execute_result"
    }
   ],
   "source": [
    "# The truth value of None is False\n",
    "bool(None)"
   ]
  },
  {
   "cell_type": "code",
   "execution_count": 3,
   "metadata": {},
   "outputs": [
    {
     "name": "stdout",
     "output_type": "stream",
     "text": [
      "None\n"
     ]
    }
   ],
   "source": [
    "# you can print(None)\n",
    "print(None)"
   ]
  },
  {
   "cell_type": "code",
   "execution_count": 4,
   "metadata": {},
   "outputs": [
    {
     "data": {
      "text/plain": [
       "<re.Match object; span=(227, 234), match='minimal'>"
      ]
     },
     "execution_count": 4,
     "metadata": {},
     "output_type": "execute_result"
    }
   ],
   "source": [
    "import re\n",
    "\n",
    "ml_text = \"\"\"Machine learning is a method of data analysis that automates \n",
    "analytical model building. It is a branch of artificial intelligence \n",
    "based on the idea that systems can learn from data, identify patterns \n",
    "and make decisions with minimal human intervention.\n",
    "\"\"\"\n",
    "\n",
    "pattern = \"minimal\"\n",
    "re.search(pattern, ml_text)"
   ]
  },
  {
   "cell_type": "code",
   "execution_count": 5,
   "metadata": {},
   "outputs": [
    {
     "data": {
      "text/plain": [
       "<re.Match object; span=(227, 234), match='minimal'>"
      ]
     },
     "execution_count": 5,
     "metadata": {},
     "output_type": "execute_result"
    }
   ],
   "source": [
    "# A Python pattern can be explictly compiled before usage\n",
    "compiled_pattern = re.compile(pattern)\n",
    "compiled_pattern.search(ml_text)"
   ]
  },
  {
   "cell_type": "code",
   "execution_count": 6,
   "metadata": {},
   "outputs": [],
   "source": [
    "# None is returned when there is no match, so nothing is displayed\n",
    "pattern = \"xyz\"\n",
    "re.search(pattern, ml_text)"
   ]
  },
  {
   "cell_type": "markdown",
   "metadata": {},
   "source": [
    "## Compiling Regular Expressions\n",
    "If you do not explicitly compile the pattern, Python will compile it for you.  It will also cache many of the patterns it compiles so it is does not have to recompile them when the same regex is used again."
   ]
  },
  {
   "cell_type": "markdown",
   "metadata": {},
   "source": [
    "### Software Engineering Note\n",
    "In most cases, optimizing code to make it run faster, makes it harder to read and maintain.  This incurs a software development cost that can be significant over the life cycle of the project.  As Knuth said, \"premature optimization is the root of all evil\".  It is usually best to write clear code.  Later the application can be profiled to see where time is being spent and that section of code can be optimized.  This approach reduces developer cost.\n",
    "\n",
    "An exception to this is optimizing a nested loop from say O(n^2) to say O(nlog(n)) or faster.  Reducing the exponent of an operation that takes exponential time to run, will make a difference to overall application performance if the number of elements being processed is in the thousands or greater.  This is knowable without profiling.\n",
    "\n",
    "In the case of regular expressions, the time being saved is just the compile time of the regular expression when it cannot be found in the cache or the lookup time to find it in the cache.  This is not much time.\n",
    "\n",
    "In the case of regular expressions, it can be argued that manually compiling the regular expression does not make the code harder to read and maintain. If it's not harder to read and maintain, then you might as well manually compile the regular expression, *outside of all loops*.\n",
    "\n",
    "For this notebook, I will argue that manually compiling the regex is ever so slightly harder to read and therefore it is not done to make learning easier."
   ]
  },
  {
   "cell_type": "markdown",
   "metadata": {},
   "source": [
    "## Jupyter HTML Cell Magic\n",
    "\n",
    "The following highlights the part of the string that is matched."
   ]
  },
  {
   "cell_type": "code",
   "execution_count": 7,
   "metadata": {},
   "outputs": [],
   "source": [
    "from IPython.core.display import display, HTML\n",
    "import html\n",
    "def highlight(match):\n",
    "    \"\"\"Display the matched part of the string with a different background color.\"\"\"\n",
    "    s = match.string\n",
    "    start = match.start()\n",
    "    end = match.end()\n",
    "    span_start = '<span style=\"background-color:LightSalmon\">'\n",
    "    span_end = '</span>'\n",
    "    html_string = html.escape(s[:start]) + span_start + \\\n",
    "        html.escape(s[start:end]) + span_end + html.escape(s[end:])\n",
    "    display(HTML(html_string))"
   ]
  },
  {
   "cell_type": "code",
   "execution_count": 8,
   "metadata": {},
   "outputs": [
    {
     "data": {
      "text/html": [
       "Machine learning is a method of data analysis that automates \n",
       "analytical model building. It is a branch of artificial intelligence \n",
       "based on the idea that systems can learn from data, identify patterns \n",
       "and make decisions with <span style=\"background-color:LightSalmon\">minimal</span> human intervention.\n"
      ],
      "text/plain": [
       "<IPython.core.display.HTML object>"
      ]
     },
     "metadata": {},
     "output_type": "display_data"
    }
   ],
   "source": [
    "pattern = \"minimal\"\n",
    "match = re.search(pattern, ml_text)\n",
    "if match:\n",
    "    highlight(match)"
   ]
  },
  {
   "cell_type": "markdown",
   "metadata": {},
   "source": [
    "### re.search() Flags vs Regular Expression Flags\n",
    "\n",
    "It is easier to read and maintain code using arguments to re.search() than to use flags inside the regular expression.\n",
    "\n",
    "In rare situations, you may want the regex flag to be in effect for only part of the pattern.  To do this:\n",
    "1. use the regex module instead of the re module\n",
    "2. specify the flag inside of the regular expression at the location you want it to take effect"
   ]
  },
  {
   "cell_type": "code",
   "execution_count": 9,
   "metadata": {},
   "outputs": [
    {
     "data": {
      "text/html": [
       "<span style=\"background-color:LightSalmon\">Machine</span> learning is a method of data analysis that automates \n",
       "analytical model building. It is a branch of artificial intelligence \n",
       "based on the idea that systems can learn from data, identify patterns \n",
       "and make decisions with minimal human intervention.\n"
      ],
      "text/plain": [
       "<IPython.core.display.HTML object>"
      ]
     },
     "metadata": {},
     "output_type": "display_data"
    }
   ],
   "source": [
    "# using flags to re.search()\n",
    "pattern = \"machine\"\n",
    "match = re.search(pattern, ml_text, flags=re.IGNORECASE)\n",
    "if match:\n",
    "    highlight(match)"
   ]
  },
  {
   "cell_type": "code",
   "execution_count": 10,
   "metadata": {},
   "outputs": [
    {
     "data": {
      "text/html": [
       "<span style=\"background-color:LightSalmon\">Machine</span> learning is a method of data analysis that automates \n",
       "analytical model building. It is a branch of artificial intelligence \n",
       "based on the idea that systems can learn from data, identify patterns \n",
       "and make decisions with minimal human intervention.\n"
      ],
      "text/plain": [
       "<IPython.core.display.HTML object>"
      ]
     },
     "metadata": {},
     "output_type": "display_data"
    }
   ],
   "source": [
    "# same as above, but put the flag inside the regex itself\n",
    "# this is harder to read, especially when more metacharacters are used in the regex\n",
    "pattern = \"(?i)machine\"\n",
    "match = re.search(pattern, ml_text)\n",
    "if match:\n",
    "    highlight(match)"
   ]
  },
  {
   "cell_type": "markdown",
   "metadata": {},
   "source": [
    "### Raw Strings\n",
    "\n",
    "In Python, a raw string is string that is taken literally.\n",
    "\n",
    "This is easiest to understand by example.\n",
    "\n",
    "Usually a regular expression is expressed as a raw string in Python."
   ]
  },
  {
   "cell_type": "code",
   "execution_count": 11,
   "metadata": {},
   "outputs": [
    {
     "name": "stdout",
     "output_type": "stream",
     "text": [
      "a\n",
      "b\n"
     ]
    }
   ],
   "source": [
    "# \\n represents new line\n",
    "s = \"a\\nb\"\n",
    "print(s)"
   ]
  },
  {
   "cell_type": "code",
   "execution_count": 12,
   "metadata": {},
   "outputs": [
    {
     "name": "stdout",
     "output_type": "stream",
     "text": [
      "a\\nb\n"
     ]
    }
   ],
   "source": [
    "# r'\\n' is taken literally as the characters \\ and n\n",
    "s = r\"a\\nb\"\n",
    "print(s)"
   ]
  },
  {
   "cell_type": "markdown",
   "metadata": {},
   "source": [
    "## Quantifiers\n",
    "\n",
    "```\n",
    "r'ab*'      # a followed by zero or more b's\n",
    "r'ab+'      # a followed by one or more b's\n",
    "r'ab?'      # a followed by zero or one b's\n",
    "r'ab{3}'    # a followed by three b's\n",
    "r'ab{2,3}'  # a followed by two to three b's\n",
    "r'ab{2,}'   # a followed by two or more b's\n",
    "```"
   ]
  },
  {
   "cell_type": "code",
   "execution_count": 13,
   "metadata": {},
   "outputs": [
    {
     "data": {
      "text/html": [
       "x<span style=\"background-color:LightSalmon\">a</span>x xabx ab aab"
      ],
      "text/plain": [
       "<IPython.core.display.HTML object>"
      ]
     },
     "metadata": {},
     "output_type": "display_data"
    }
   ],
   "source": [
    "# a followed by 0+ b's\n",
    "match = re.search(r'ab*', 'xax xabx ab aab')\n",
    "if match:\n",
    "    highlight(match)"
   ]
  },
  {
   "cell_type": "code",
   "execution_count": 14,
   "metadata": {},
   "outputs": [
    {
     "data": {
      "text/html": [
       "x<span style=\"background-color:LightSalmon\">a</span>x xabx ab aab"
      ],
      "text/plain": [
       "<IPython.core.display.HTML object>"
      ]
     },
     "metadata": {},
     "output_type": "display_data"
    },
    {
     "data": {
      "text/html": [
       "xax x<span style=\"background-color:LightSalmon\">ab</span>x ab aab"
      ],
      "text/plain": [
       "<IPython.core.display.HTML object>"
      ]
     },
     "metadata": {},
     "output_type": "display_data"
    },
    {
     "data": {
      "text/html": [
       "xax xabx <span style=\"background-color:LightSalmon\">ab</span> aab"
      ],
      "text/plain": [
       "<IPython.core.display.HTML object>"
      ]
     },
     "metadata": {},
     "output_type": "display_data"
    },
    {
     "data": {
      "text/html": [
       "xax xabx ab <span style=\"background-color:LightSalmon\">a</span>ab"
      ],
      "text/plain": [
       "<IPython.core.display.HTML object>"
      ]
     },
     "metadata": {},
     "output_type": "display_data"
    },
    {
     "data": {
      "text/html": [
       "xax xabx ab a<span style=\"background-color:LightSalmon\">ab</span>"
      ],
      "text/plain": [
       "<IPython.core.display.HTML object>"
      ]
     },
     "metadata": {},
     "output_type": "display_data"
    }
   ],
   "source": [
    "# same as above, but find all matches\n",
    "for match in re.finditer(r'ab*', 'xax xabx ab aab'):\n",
    "    highlight(match)"
   ]
  },
  {
   "cell_type": "code",
   "execution_count": 15,
   "metadata": {},
   "outputs": [
    {
     "data": {
      "text/html": [
       "x<span style=\"background-color:LightSalmon\">abb</span>x ab abbb"
      ],
      "text/plain": [
       "<IPython.core.display.HTML object>"
      ]
     },
     "metadata": {},
     "output_type": "display_data"
    }
   ],
   "source": [
    "# a followed by 0+ b's\n",
    "# default is greedy: consume as many b's as possible\n",
    "match = re.search(r'ab*', 'xabbx ab abbb')\n",
    "if match:\n",
    "    highlight(match)"
   ]
  },
  {
   "cell_type": "code",
   "execution_count": 16,
   "metadata": {},
   "outputs": [
    {
     "data": {
      "text/html": [
       "x<span style=\"background-color:LightSalmon\">abb</span>x ab abbb"
      ],
      "text/plain": [
       "<IPython.core.display.HTML object>"
      ]
     },
     "metadata": {},
     "output_type": "display_data"
    },
    {
     "data": {
      "text/html": [
       "xabbx <span style=\"background-color:LightSalmon\">ab</span> abbb"
      ],
      "text/plain": [
       "<IPython.core.display.HTML object>"
      ]
     },
     "metadata": {},
     "output_type": "display_data"
    },
    {
     "data": {
      "text/html": [
       "xabbx ab <span style=\"background-color:LightSalmon\">abbb</span>"
      ],
      "text/plain": [
       "<IPython.core.display.HTML object>"
      ]
     },
     "metadata": {},
     "output_type": "display_data"
    }
   ],
   "source": [
    "# same as above, but find all matches\n",
    "for match in re.finditer(r'ab*', 'xabbx ab abbb'):\n",
    "    highlight(match)"
   ]
  },
  {
   "cell_type": "markdown",
   "metadata": {},
   "source": [
    "### re.finditer()\n",
    "\n",
    "As seen above, the first match returned with re.finditer() is the same as using re.search().  \n",
    "Subsequent matches are only available when using re.finditer()"
   ]
  },
  {
   "cell_type": "code",
   "execution_count": 17,
   "metadata": {},
   "outputs": [
    {
     "data": {
      "text/html": [
       "x<span style=\"background-color:LightSalmon\">abb</span>x ab abbb"
      ],
      "text/plain": [
       "<IPython.core.display.HTML object>"
      ]
     },
     "metadata": {},
     "output_type": "display_data"
    },
    {
     "data": {
      "text/html": [
       "xabbx <span style=\"background-color:LightSalmon\">ab</span> abbb"
      ],
      "text/plain": [
       "<IPython.core.display.HTML object>"
      ]
     },
     "metadata": {},
     "output_type": "display_data"
    },
    {
     "data": {
      "text/html": [
       "xabbx ab <span style=\"background-color:LightSalmon\">abbb</span>"
      ],
      "text/plain": [
       "<IPython.core.display.HTML object>"
      ]
     },
     "metadata": {},
     "output_type": "display_data"
    }
   ],
   "source": [
    "# 1+ of either a or b\n",
    "# default is greedy, find the most a's or b's\n",
    "for match in re.finditer(r'[ab]+', 'xabbx ab abbb'):\n",
    "    highlight(match)"
   ]
  },
  {
   "cell_type": "code",
   "execution_count": 18,
   "metadata": {},
   "outputs": [
    {
     "data": {
      "text/html": [
       "x<span style=\"background-color:LightSalmon\">a</span>bbx ab abbb"
      ],
      "text/plain": [
       "<IPython.core.display.HTML object>"
      ]
     },
     "metadata": {},
     "output_type": "display_data"
    },
    {
     "data": {
      "text/html": [
       "xa<span style=\"background-color:LightSalmon\">b</span>bx ab abbb"
      ],
      "text/plain": [
       "<IPython.core.display.HTML object>"
      ]
     },
     "metadata": {},
     "output_type": "display_data"
    },
    {
     "data": {
      "text/html": [
       "xab<span style=\"background-color:LightSalmon\">b</span>x ab abbb"
      ],
      "text/plain": [
       "<IPython.core.display.HTML object>"
      ]
     },
     "metadata": {},
     "output_type": "display_data"
    },
    {
     "data": {
      "text/html": [
       "xabbx <span style=\"background-color:LightSalmon\">a</span>b abbb"
      ],
      "text/plain": [
       "<IPython.core.display.HTML object>"
      ]
     },
     "metadata": {},
     "output_type": "display_data"
    },
    {
     "data": {
      "text/html": [
       "xabbx a<span style=\"background-color:LightSalmon\">b</span> abbb"
      ],
      "text/plain": [
       "<IPython.core.display.HTML object>"
      ]
     },
     "metadata": {},
     "output_type": "display_data"
    },
    {
     "data": {
      "text/html": [
       "xabbx ab <span style=\"background-color:LightSalmon\">a</span>bbb"
      ],
      "text/plain": [
       "<IPython.core.display.HTML object>"
      ]
     },
     "metadata": {},
     "output_type": "display_data"
    },
    {
     "data": {
      "text/html": [
       "xabbx ab a<span style=\"background-color:LightSalmon\">b</span>bb"
      ],
      "text/plain": [
       "<IPython.core.display.HTML object>"
      ]
     },
     "metadata": {},
     "output_type": "display_data"
    },
    {
     "data": {
      "text/html": [
       "xabbx ab ab<span style=\"background-color:LightSalmon\">b</span>b"
      ],
      "text/plain": [
       "<IPython.core.display.HTML object>"
      ]
     },
     "metadata": {},
     "output_type": "display_data"
    },
    {
     "data": {
      "text/html": [
       "xabbx ab abb<span style=\"background-color:LightSalmon\">b</span>"
      ],
      "text/plain": [
       "<IPython.core.display.HTML object>"
      ]
     },
     "metadata": {},
     "output_type": "display_data"
    }
   ],
   "source": [
    "# 1+ of either a or b\n",
    "# minimal match: place ? after qunatifier\n",
    "for match in re.finditer(r'[ab]+?', 'xabbx ab abbb'):\n",
    "    highlight(match)"
   ]
  },
  {
   "cell_type": "code",
   "execution_count": 19,
   "metadata": {},
   "outputs": [
    {
     "data": {
      "text/html": [
       "a ab abb <span style=\"background-color:LightSalmon\">abbb</span>b abbb"
      ],
      "text/plain": [
       "<IPython.core.display.HTML object>"
      ]
     },
     "metadata": {},
     "output_type": "display_data"
    },
    {
     "data": {
      "text/html": [
       "a ab abb abbbb <span style=\"background-color:LightSalmon\">abbb</span>"
      ],
      "text/plain": [
       "<IPython.core.display.HTML object>"
      ]
     },
     "metadata": {},
     "output_type": "display_data"
    }
   ],
   "source": [
    "# a followed by 3 b's\n",
    "for match in re.finditer(r'ab{3}', 'a ab abb abbbb abbb'):\n",
    "    highlight(match)"
   ]
  },
  {
   "cell_type": "code",
   "execution_count": 20,
   "metadata": {},
   "outputs": [
    {
     "data": {
      "text/html": [
       "a ab abb <span style=\"background-color:LightSalmon\">abbbbbb</span> abbb"
      ],
      "text/plain": [
       "<IPython.core.display.HTML object>"
      ]
     },
     "metadata": {},
     "output_type": "display_data"
    },
    {
     "data": {
      "text/html": [
       "a ab abb abbbbbb <span style=\"background-color:LightSalmon\">abbb</span>"
      ],
      "text/plain": [
       "<IPython.core.display.HTML object>"
      ]
     },
     "metadata": {},
     "output_type": "display_data"
    }
   ],
   "source": [
    "# a followed by 3 or more b's\n",
    "for match in re.finditer(r'ab{3,}', 'a ab abb abbbbbb abbb'):\n",
    "    highlight(match)"
   ]
  },
  {
   "cell_type": "markdown",
   "metadata": {},
   "source": [
    "## Anchors (aka Assertions)"
   ]
  },
  {
   "cell_type": "code",
   "execution_count": 21,
   "metadata": {},
   "outputs": [
    {
     "data": {
      "text/html": [
       "xabbx xabb abbx ab abbbbb <span style=\"background-color:LightSalmon\">abb</span> abbbb abbb"
      ],
      "text/plain": [
       "<IPython.core.display.HTML object>"
      ]
     },
     "metadata": {},
     "output_type": "display_data"
    }
   ],
   "source": [
    "# a followed by 2 b's and\n",
    "# assert preceeding character is non-word and following character is non-word\n",
    "for match in re.finditer(r'\\bab{2}\\b', 'xabbx xabb abbx ab abbbbb abb abbbb abbb'):\n",
    "    highlight(match)"
   ]
  },
  {
   "cell_type": "code",
   "execution_count": 22,
   "metadata": {},
   "outputs": [
    {
     "data": {
      "text/html": [
       "xabbx xabb abbx ab abbbbb<span style=\"background-color:LightSalmon\"> abb </span>abbbb abbb"
      ],
      "text/plain": [
       "<IPython.core.display.HTML object>"
      ]
     },
     "metadata": {},
     "output_type": "display_data"
    }
   ],
   "source": [
    "# space followed by a followed by 2 b's followed by space\n",
    "# Note: this match includes the spaces on either side of abb\n",
    "for match in re.finditer(r' ab{2} ', 'xabbx xabb abbx ab abbbbb abb abbbb abbb'):\n",
    "    highlight(match)"
   ]
  },
  {
   "cell_type": "code",
   "execution_count": 23,
   "metadata": {},
   "outputs": [
    {
     "data": {
      "text/html": [
       "a x<span style=\"background-color:LightSalmon\">ba</span>x baab abb abbbb abbb"
      ],
      "text/plain": [
       "<IPython.core.display.HTML object>"
      ]
     },
     "metadata": {},
     "output_type": "display_data"
    },
    {
     "data": {
      "text/html": [
       "a xbax <span style=\"background-color:LightSalmon\">baab</span> abb abbbb abbb"
      ],
      "text/plain": [
       "<IPython.core.display.HTML object>"
      ]
     },
     "metadata": {},
     "output_type": "display_data"
    },
    {
     "data": {
      "text/html": [
       "a xbax baab <span style=\"background-color:LightSalmon\">abb</span> abbbb abbb"
      ],
      "text/plain": [
       "<IPython.core.display.HTML object>"
      ]
     },
     "metadata": {},
     "output_type": "display_data"
    },
    {
     "data": {
      "text/html": [
       "a xbax baab abb <span style=\"background-color:LightSalmon\">abbbb</span> abbb"
      ],
      "text/plain": [
       "<IPython.core.display.HTML object>"
      ]
     },
     "metadata": {},
     "output_type": "display_data"
    },
    {
     "data": {
      "text/html": [
       "a xbax baab abb abbbb <span style=\"background-color:LightSalmon\">abbb</span>"
      ],
      "text/plain": [
       "<IPython.core.display.HTML object>"
      ]
     },
     "metadata": {},
     "output_type": "display_data"
    }
   ],
   "source": [
    "# a or b 2 or more times\n",
    "# this implies the match is of length 2 or greater\n",
    "for match in re.finditer(r'[a|b]{2,}', 'a xbax baab abb abbbb abbb'):\n",
    "    highlight(match)"
   ]
  },
  {
   "cell_type": "code",
   "execution_count": 24,
   "metadata": {},
   "outputs": [
    {
     "data": {
      "text/html": [
       "a ba baab xy<span style=\"background-color:LightSalmon\">ababab</span>z abbbb xababz"
      ],
      "text/plain": [
       "<IPython.core.display.HTML object>"
      ]
     },
     "metadata": {},
     "output_type": "display_data"
    },
    {
     "data": {
      "text/html": [
       "a ba baab xyabababz abbbb x<span style=\"background-color:LightSalmon\">abab</span>z"
      ],
      "text/plain": [
       "<IPython.core.display.HTML object>"
      ]
     },
     "metadata": {},
     "output_type": "display_data"
    }
   ],
   "source": [
    "# ab 2 or more times\n",
    "for match in re.finditer(r'(ab){2,}', 'a ba baab xyabababz abbbb xababz'):\n",
    "    highlight(match)"
   ]
  },
  {
   "cell_type": "code",
   "execution_count": 25,
   "metadata": {},
   "outputs": [
    {
     "data": {
      "text/html": [
       "a ba <span style=\"background-color:LightSalmon\">abab</span> baab ab xyabababz ababab xababz"
      ],
      "text/plain": [
       "<IPython.core.display.HTML object>"
      ]
     },
     "metadata": {},
     "output_type": "display_data"
    },
    {
     "data": {
      "text/html": [
       "a ba abab baab ab xyabababz <span style=\"background-color:LightSalmon\">ababab</span> xababz"
      ],
      "text/plain": [
       "<IPython.core.display.HTML object>"
      ]
     },
     "metadata": {},
     "output_type": "display_data"
    }
   ],
   "source": [
    "# ab 2 or more times with non-word boundaries\n",
    "for match in re.finditer(r'\\b(ab){2,}\\b', 'a ba abab baab ab xyabababz ababab xababz'):\n",
    "    highlight(match)"
   ]
  },
  {
   "cell_type": "markdown",
   "metadata": {},
   "source": [
    "## Match any characters except ..."
   ]
  },
  {
   "cell_type": "code",
   "execution_count": 26,
   "metadata": {},
   "outputs": [
    {
     "data": {
      "text/html": [
       "!<span style=\"background-color:LightSalmon\">Hello World</span>!"
      ],
      "text/plain": [
       "<IPython.core.display.HTML object>"
      ]
     },
     "metadata": {},
     "output_type": "display_data"
    }
   ],
   "source": [
    "# match any character except '!' 1 or more times, greedy\n",
    "for match in re.finditer(r'[^!]+', '!Hello World!'):\n",
    "    highlight(match)"
   ]
  },
  {
   "cell_type": "code",
   "execution_count": 27,
   "metadata": {},
   "outputs": [
    {
     "data": {
      "text/html": [
       "!<span style=\"background-color:LightSalmon\">H</span>ello World!"
      ],
      "text/plain": [
       "<IPython.core.display.HTML object>"
      ]
     },
     "metadata": {},
     "output_type": "display_data"
    },
    {
     "data": {
      "text/html": [
       "!H<span style=\"background-color:LightSalmon\">e</span>llo World!"
      ],
      "text/plain": [
       "<IPython.core.display.HTML object>"
      ]
     },
     "metadata": {},
     "output_type": "display_data"
    },
    {
     "data": {
      "text/html": [
       "!He<span style=\"background-color:LightSalmon\">l</span>lo World!"
      ],
      "text/plain": [
       "<IPython.core.display.HTML object>"
      ]
     },
     "metadata": {},
     "output_type": "display_data"
    },
    {
     "data": {
      "text/html": [
       "!Hel<span style=\"background-color:LightSalmon\">l</span>o World!"
      ],
      "text/plain": [
       "<IPython.core.display.HTML object>"
      ]
     },
     "metadata": {},
     "output_type": "display_data"
    },
    {
     "data": {
      "text/html": [
       "!Hell<span style=\"background-color:LightSalmon\">o</span> World!"
      ],
      "text/plain": [
       "<IPython.core.display.HTML object>"
      ]
     },
     "metadata": {},
     "output_type": "display_data"
    },
    {
     "data": {
      "text/html": [
       "!Hello<span style=\"background-color:LightSalmon\"> </span>World!"
      ],
      "text/plain": [
       "<IPython.core.display.HTML object>"
      ]
     },
     "metadata": {},
     "output_type": "display_data"
    },
    {
     "data": {
      "text/html": [
       "!Hello <span style=\"background-color:LightSalmon\">W</span>orld!"
      ],
      "text/plain": [
       "<IPython.core.display.HTML object>"
      ]
     },
     "metadata": {},
     "output_type": "display_data"
    },
    {
     "data": {
      "text/html": [
       "!Hello W<span style=\"background-color:LightSalmon\">o</span>rld!"
      ],
      "text/plain": [
       "<IPython.core.display.HTML object>"
      ]
     },
     "metadata": {},
     "output_type": "display_data"
    },
    {
     "data": {
      "text/html": [
       "!Hello Wo<span style=\"background-color:LightSalmon\">r</span>ld!"
      ],
      "text/plain": [
       "<IPython.core.display.HTML object>"
      ]
     },
     "metadata": {},
     "output_type": "display_data"
    },
    {
     "data": {
      "text/html": [
       "!Hello Wor<span style=\"background-color:LightSalmon\">l</span>d!"
      ],
      "text/plain": [
       "<IPython.core.display.HTML object>"
      ]
     },
     "metadata": {},
     "output_type": "display_data"
    },
    {
     "data": {
      "text/html": [
       "!Hello Worl<span style=\"background-color:LightSalmon\">d</span>!"
      ],
      "text/plain": [
       "<IPython.core.display.HTML object>"
      ]
     },
     "metadata": {},
     "output_type": "display_data"
    }
   ],
   "source": [
    "# match any character except '!' 1 or more times, minimal match\n",
    "for match in re.finditer(r'[^!]+?', '!Hello World!'):\n",
    "    highlight(match)"
   ]
  },
  {
   "cell_type": "markdown",
   "metadata": {},
   "source": [
    "## Character Ranges"
   ]
  },
  {
   "cell_type": "code",
   "execution_count": 28,
   "metadata": {},
   "outputs": [
    {
     "data": {
      "text/html": [
       "H<span style=\"background-color:LightSalmon\">ello</span> World!"
      ],
      "text/plain": [
       "<IPython.core.display.HTML object>"
      ]
     },
     "metadata": {},
     "output_type": "display_data"
    },
    {
     "data": {
      "text/html": [
       "Hello W<span style=\"background-color:LightSalmon\">orld</span>!"
      ],
      "text/plain": [
       "<IPython.core.display.HTML object>"
      ]
     },
     "metadata": {},
     "output_type": "display_data"
    }
   ],
   "source": [
    "# match any lowercase character 1 or more times\n",
    "for match in re.finditer(r'[a-z]+', 'Hello World!'):\n",
    "    highlight(match)"
   ]
  },
  {
   "cell_type": "code",
   "execution_count": 29,
   "metadata": {},
   "outputs": [
    {
     "data": {
      "text/html": [
       "<span style=\"background-color:LightSalmon\">H</span>ello World!"
      ],
      "text/plain": [
       "<IPython.core.display.HTML object>"
      ]
     },
     "metadata": {},
     "output_type": "display_data"
    },
    {
     "data": {
      "text/html": [
       "Hello <span style=\"background-color:LightSalmon\">W</span>orld!"
      ],
      "text/plain": [
       "<IPython.core.display.HTML object>"
      ]
     },
     "metadata": {},
     "output_type": "display_data"
    }
   ],
   "source": [
    "# match any uppercase character 1 or more times\n",
    "for match in re.finditer(r'[A-Z]+', 'Hello World!'):\n",
    "    highlight(match)"
   ]
  },
  {
   "cell_type": "markdown",
   "metadata": {},
   "source": [
    "## Sequences"
   ]
  },
  {
   "cell_type": "code",
   "execution_count": 30,
   "metadata": {},
   "outputs": [
    {
     "data": {
      "text/html": [
       "<span style=\"background-color:LightSalmon\">Hello</span> World!"
      ],
      "text/plain": [
       "<IPython.core.display.HTML object>"
      ]
     },
     "metadata": {},
     "output_type": "display_data"
    },
    {
     "data": {
      "text/html": [
       "Hello <span style=\"background-color:LightSalmon\">World</span>!"
      ],
      "text/plain": [
       "<IPython.core.display.HTML object>"
      ]
     },
     "metadata": {},
     "output_type": "display_data"
    }
   ],
   "source": [
    "# \\w is shorthand for: [a-zA-Z0-9_]\n",
    "# match any word character 1 or more times\n",
    "for match in re.finditer(r'\\w+', 'Hello World!'):\n",
    "    highlight(match)"
   ]
  },
  {
   "cell_type": "code",
   "execution_count": 31,
   "metadata": {},
   "outputs": [
    {
     "data": {
      "text/html": [
       "Hello <span style=\"background-color:LightSalmon\">123</span> World!"
      ],
      "text/plain": [
       "<IPython.core.display.HTML object>"
      ]
     },
     "metadata": {},
     "output_type": "display_data"
    }
   ],
   "source": [
    "# \\d is shordhand for: [0-9]\n",
    "# match any sequence of digits 1 or more times\n",
    "match = re.search(r'\\d+', 'Hello 123 World!')\n",
    "if match:\n",
    "    highlight(match)"
   ]
  },
  {
   "cell_type": "code",
   "execution_count": 32,
   "metadata": {},
   "outputs": [
    {
     "data": {
      "text/html": [
       "<span style=\"background-color:LightSalmon\">Hello </span>123 World!"
      ],
      "text/plain": [
       "<IPython.core.display.HTML object>"
      ]
     },
     "metadata": {},
     "output_type": "display_data"
    },
    {
     "data": {
      "text/html": [
       "Hello 123<span style=\"background-color:LightSalmon\"> World!</span>"
      ],
      "text/plain": [
       "<IPython.core.display.HTML object>"
      ]
     },
     "metadata": {},
     "output_type": "display_data"
    }
   ],
   "source": [
    "# \\D is shordhand for: [^0-9]\n",
    "# match any sequence of nondigits 1 or more times\n",
    "for match in re.finditer(r'\\D+', 'Hello 123 World!'):\n",
    "    highlight(match)"
   ]
  },
  {
   "cell_type": "code",
   "execution_count": 33,
   "metadata": {},
   "outputs": [
    {
     "data": {
      "text/html": [
       "<span style=\"background-color:LightSalmon\">This!</span> is a string 1 2 345"
      ],
      "text/plain": [
       "<IPython.core.display.HTML object>"
      ]
     },
     "metadata": {},
     "output_type": "display_data"
    },
    {
     "data": {
      "text/html": [
       "This! <span style=\"background-color:LightSalmon\">is</span> a string 1 2 345"
      ],
      "text/plain": [
       "<IPython.core.display.HTML object>"
      ]
     },
     "metadata": {},
     "output_type": "display_data"
    },
    {
     "data": {
      "text/html": [
       "This! is <span style=\"background-color:LightSalmon\">a</span> string 1 2 345"
      ],
      "text/plain": [
       "<IPython.core.display.HTML object>"
      ]
     },
     "metadata": {},
     "output_type": "display_data"
    },
    {
     "data": {
      "text/html": [
       "This! is a <span style=\"background-color:LightSalmon\">string</span> 1 2 345"
      ],
      "text/plain": [
       "<IPython.core.display.HTML object>"
      ]
     },
     "metadata": {},
     "output_type": "display_data"
    },
    {
     "data": {
      "text/html": [
       "This! is a string <span style=\"background-color:LightSalmon\">1</span> 2 345"
      ],
      "text/plain": [
       "<IPython.core.display.HTML object>"
      ]
     },
     "metadata": {},
     "output_type": "display_data"
    },
    {
     "data": {
      "text/html": [
       "This! is a string 1 <span style=\"background-color:LightSalmon\">2</span> 345"
      ],
      "text/plain": [
       "<IPython.core.display.HTML object>"
      ]
     },
     "metadata": {},
     "output_type": "display_data"
    },
    {
     "data": {
      "text/html": [
       "This! is a string 1 2 <span style=\"background-color:LightSalmon\">345</span>"
      ],
      "text/plain": [
       "<IPython.core.display.HTML object>"
      ]
     },
     "metadata": {},
     "output_type": "display_data"
    }
   ],
   "source": [
    "# Match 1+ non-space characters\n",
    "for match in re.finditer(r'\\S+', 'This! is a string 1 2 345'):\n",
    "    highlight(match)"
   ]
  },
  {
   "cell_type": "code",
   "execution_count": 34,
   "metadata": {},
   "outputs": [
    {
     "data": {
      "text/html": [
       "This! <span style=\"background-color:LightSalmon\">is </span>a string 1 2 345"
      ],
      "text/plain": [
       "<IPython.core.display.HTML object>"
      ]
     },
     "metadata": {},
     "output_type": "display_data"
    },
    {
     "data": {
      "text/html": [
       "This! is <span style=\"background-color:LightSalmon\">a </span>string 1 2 345"
      ],
      "text/plain": [
       "<IPython.core.display.HTML object>"
      ]
     },
     "metadata": {},
     "output_type": "display_data"
    },
    {
     "data": {
      "text/html": [
       "This! is a <span style=\"background-color:LightSalmon\">string </span>1 2 345"
      ],
      "text/plain": [
       "<IPython.core.display.HTML object>"
      ]
     },
     "metadata": {},
     "output_type": "display_data"
    },
    {
     "data": {
      "text/html": [
       "This! is a string <span style=\"background-color:LightSalmon\">1 </span>2 345"
      ],
      "text/plain": [
       "<IPython.core.display.HTML object>"
      ]
     },
     "metadata": {},
     "output_type": "display_data"
    },
    {
     "data": {
      "text/html": [
       "This! is a string 1 <span style=\"background-color:LightSalmon\">2 </span>345"
      ],
      "text/plain": [
       "<IPython.core.display.HTML object>"
      ]
     },
     "metadata": {},
     "output_type": "display_data"
    }
   ],
   "source": [
    "# Match 1+ word characters followed by a space character\n",
    "pattern = r'\\w+ '\n",
    "for match in re.finditer(r'\\w+ ', 'This! is a string 1 2 345'):\n",
    "    highlight(match)"
   ]
  },
  {
   "cell_type": "code",
   "execution_count": 35,
   "metadata": {},
   "outputs": [
    {
     "data": {
      "text/html": [
       "<span style=\"background-color:LightSalmon\">This</span>! is a string 1 2 345"
      ],
      "text/plain": [
       "<IPython.core.display.HTML object>"
      ]
     },
     "metadata": {},
     "output_type": "display_data"
    },
    {
     "data": {
      "text/html": [
       "This! <span style=\"background-color:LightSalmon\">is</span> a string 1 2 345"
      ],
      "text/plain": [
       "<IPython.core.display.HTML object>"
      ]
     },
     "metadata": {},
     "output_type": "display_data"
    },
    {
     "data": {
      "text/html": [
       "This! is <span style=\"background-color:LightSalmon\">a</span> string 1 2 345"
      ],
      "text/plain": [
       "<IPython.core.display.HTML object>"
      ]
     },
     "metadata": {},
     "output_type": "display_data"
    },
    {
     "data": {
      "text/html": [
       "This! is a <span style=\"background-color:LightSalmon\">string</span> 1 2 345"
      ],
      "text/plain": [
       "<IPython.core.display.HTML object>"
      ]
     },
     "metadata": {},
     "output_type": "display_data"
    },
    {
     "data": {
      "text/html": [
       "This! is a string <span style=\"background-color:LightSalmon\">1</span> 2 345"
      ],
      "text/plain": [
       "<IPython.core.display.HTML object>"
      ]
     },
     "metadata": {},
     "output_type": "display_data"
    },
    {
     "data": {
      "text/html": [
       "This! is a string 1 <span style=\"background-color:LightSalmon\">2</span> 345"
      ],
      "text/plain": [
       "<IPython.core.display.HTML object>"
      ]
     },
     "metadata": {},
     "output_type": "display_data"
    },
    {
     "data": {
      "text/html": [
       "This! is a string 1 2 <span style=\"background-color:LightSalmon\">345</span>"
      ],
      "text/plain": [
       "<IPython.core.display.HTML object>"
      ]
     },
     "metadata": {},
     "output_type": "display_data"
    }
   ],
   "source": [
    "# Match 1+ word characters and\n",
    "# assert next position is non-word character\n",
    "pattern = r'\\w+ '\n",
    "for match in re.finditer(r'\\w+\\b', 'This! is a string 1 2 345'):\n",
    "    highlight(match)"
   ]
  },
  {
   "cell_type": "code",
   "execution_count": 36,
   "metadata": {},
   "outputs": [
    {
     "data": {
      "text/html": [
       "<span style=\"background-color:LightSalmon\">This! is a string 1 2 345</span>"
      ],
      "text/plain": [
       "<IPython.core.display.HTML object>"
      ]
     },
     "metadata": {},
     "output_type": "display_data"
    }
   ],
   "source": [
    "# match any character any number of times, greedily, then match a digit\n",
    "match = re.search(r'.*\\d', 'This! is a string 1 2 345')\n",
    "if match:\n",
    "    highlight(match)"
   ]
  },
  {
   "cell_type": "code",
   "execution_count": 37,
   "metadata": {},
   "outputs": [
    {
     "data": {
      "text/html": [
       "<span style=\"background-color:LightSalmon\">This! is a string 1</span> 2 345"
      ],
      "text/plain": [
       "<IPython.core.display.HTML object>"
      ]
     },
     "metadata": {},
     "output_type": "display_data"
    }
   ],
   "source": [
    "# match any character any number of times, minimually, then match a digit\n",
    "match = re.search(r'.*?\\d', 'This! is a string 1 2 345')\n",
    "if match:\n",
    "    highlight(match)"
   ]
  },
  {
   "cell_type": "code",
   "execution_count": 38,
   "metadata": {},
   "outputs": [
    {
     "data": {
      "text/html": [
       "This<span style=\"background-color:LightSalmon\">! </span>is a string 1 2 345"
      ],
      "text/plain": [
       "<IPython.core.display.HTML object>"
      ]
     },
     "metadata": {},
     "output_type": "display_data"
    },
    {
     "data": {
      "text/html": [
       "This! is<span style=\"background-color:LightSalmon\"> </span>a string 1 2 345"
      ],
      "text/plain": [
       "<IPython.core.display.HTML object>"
      ]
     },
     "metadata": {},
     "output_type": "display_data"
    },
    {
     "data": {
      "text/html": [
       "This! is a<span style=\"background-color:LightSalmon\"> </span>string 1 2 345"
      ],
      "text/plain": [
       "<IPython.core.display.HTML object>"
      ]
     },
     "metadata": {},
     "output_type": "display_data"
    },
    {
     "data": {
      "text/html": [
       "This! is a string<span style=\"background-color:LightSalmon\"> </span>1 2 345"
      ],
      "text/plain": [
       "<IPython.core.display.HTML object>"
      ]
     },
     "metadata": {},
     "output_type": "display_data"
    },
    {
     "data": {
      "text/html": [
       "This! is a string 1<span style=\"background-color:LightSalmon\"> </span>2 345"
      ],
      "text/plain": [
       "<IPython.core.display.HTML object>"
      ]
     },
     "metadata": {},
     "output_type": "display_data"
    },
    {
     "data": {
      "text/html": [
       "This! is a string 1 2<span style=\"background-color:LightSalmon\"> </span>345"
      ],
      "text/plain": [
       "<IPython.core.display.HTML object>"
      ]
     },
     "metadata": {},
     "output_type": "display_data"
    }
   ],
   "source": [
    "# match any non-word character one or more times\n",
    "for match in re.finditer(r'\\W+', 'This! is a string 1 2 345'):\n",
    "    highlight(match)"
   ]
  },
  {
   "cell_type": "markdown",
   "metadata": {},
   "source": [
    "### RegEx Processing\n",
    "\n",
    "At each position in the string, the regex is tried.  If it does not match, the next position in the string is tried.\n",
    "\n",
    "The first match is always returned."
   ]
  },
  {
   "cell_type": "code",
   "execution_count": 39,
   "metadata": {},
   "outputs": [
    {
     "data": {
      "text/html": [
       "An <span style=\"background-color:LightSalmon\">ant</span>eater encountered an ant on an antelope"
      ],
      "text/plain": [
       "<IPython.core.display.HTML object>"
      ]
     },
     "metadata": {},
     "output_type": "display_data"
    },
    {
     "data": {
      "text/html": [
       "An <span style=\"background-color:LightSalmon\">anteater</span> encountered an ant on an antelope"
      ],
      "text/plain": [
       "<IPython.core.display.HTML object>"
      ]
     },
     "metadata": {},
     "output_type": "display_data"
    },
    {
     "data": {
      "text/html": [
       "An <span style=\"background-color:LightSalmon\">anteater</span> encountered an ant on an antelope"
      ],
      "text/plain": [
       "<IPython.core.display.HTML object>"
      ]
     },
     "metadata": {},
     "output_type": "display_data"
    }
   ],
   "source": [
    "# try each alternative at each position in the string\n",
    "s = 'An anteater encountered an ant on an antelope'\n",
    "\n",
    "pattern = r'ant|antelope|anteater'\n",
    "match = re.search(pattern, s)\n",
    "if match:\n",
    "    highlight(match)\n",
    "    \n",
    "pattern = r'anteater|antelope|ant'\n",
    "match = re.search(pattern, s)\n",
    "if match:\n",
    "    highlight(match)\n",
    "    \n",
    "pattern = r'antelope|anteater|ant'\n",
    "match = re.search(pattern, s)\n",
    "if match:\n",
    "    highlight(match)    "
   ]
  },
  {
   "cell_type": "code",
   "execution_count": 40,
   "metadata": {},
   "outputs": [
    {
     "data": {
      "text/html": [
       "An <span style=\"background-color:LightSalmon\">ant</span>eater encountered an ant on an antelope"
      ],
      "text/plain": [
       "<IPython.core.display.HTML object>"
      ]
     },
     "metadata": {},
     "output_type": "display_data"
    },
    {
     "data": {
      "text/html": [
       "An anteater encountered an <span style=\"background-color:LightSalmon\">ant</span> on an antelope"
      ],
      "text/plain": [
       "<IPython.core.display.HTML object>"
      ]
     },
     "metadata": {},
     "output_type": "display_data"
    },
    {
     "data": {
      "text/html": [
       "An anteater encountered an ant on an <span style=\"background-color:LightSalmon\">ant</span>elope"
      ],
      "text/plain": [
       "<IPython.core.display.HTML object>"
      ]
     },
     "metadata": {},
     "output_type": "display_data"
    }
   ],
   "source": [
    "# try each alternative at each position in the string, all matches\n",
    "s = 'An anteater encountered an ant on an antelope'\n",
    "\n",
    "pattern = r'ant|antelope|anteater'\n",
    "for match in re.finditer(pattern, s):\n",
    "    highlight(match) "
   ]
  },
  {
   "cell_type": "code",
   "execution_count": 41,
   "metadata": {},
   "outputs": [
    {
     "data": {
      "text/html": [
       "An <span style=\"background-color:LightSalmon\">ant</span>eater encountered an ant on an antelope"
      ],
      "text/plain": [
       "<IPython.core.display.HTML object>"
      ]
     },
     "metadata": {},
     "output_type": "display_data"
    },
    {
     "data": {
      "text/html": [
       "An anteater encountered an <span style=\"background-color:LightSalmon\">ant</span> on an antelope"
      ],
      "text/plain": [
       "<IPython.core.display.HTML object>"
      ]
     },
     "metadata": {},
     "output_type": "display_data"
    },
    {
     "data": {
      "text/html": [
       "An anteater encountered an ant on an <span style=\"background-color:LightSalmon\">antelope</span>"
      ],
      "text/plain": [
       "<IPython.core.display.HTML object>"
      ]
     },
     "metadata": {},
     "output_type": "display_data"
    }
   ],
   "source": [
    "# try each alternative at each position in the string, all matches\n",
    "s = 'An anteater encountered an ant on an antelope'\n",
    "\n",
    "pattern = r'antelope|ant|anteater'\n",
    "for match in re.finditer(pattern, s):\n",
    "    highlight(match) "
   ]
  },
  {
   "cell_type": "code",
   "execution_count": 42,
   "metadata": {},
   "outputs": [
    {
     "data": {
      "text/html": [
       "An <span style=\"background-color:LightSalmon\">anteater</span> encountered an ant on an antelope"
      ],
      "text/plain": [
       "<IPython.core.display.HTML object>"
      ]
     },
     "metadata": {},
     "output_type": "display_data"
    },
    {
     "data": {
      "text/html": [
       "An anteater encountered an <span style=\"background-color:LightSalmon\">ant</span> on an antelope"
      ],
      "text/plain": [
       "<IPython.core.display.HTML object>"
      ]
     },
     "metadata": {},
     "output_type": "display_data"
    },
    {
     "data": {
      "text/html": [
       "An anteater encountered an ant on an <span style=\"background-color:LightSalmon\">antelope</span>"
      ],
      "text/plain": [
       "<IPython.core.display.HTML object>"
      ]
     },
     "metadata": {},
     "output_type": "display_data"
    }
   ],
   "source": [
    "# try each alternative at each position in the string, all matches\n",
    "s = 'An anteater encountered an ant on an antelope'\n",
    "\n",
    "pattern = r'antelope|anteater|ant'\n",
    "for match in re.finditer(pattern, s):\n",
    "    highlight(match) "
   ]
  },
  {
   "cell_type": "markdown",
   "metadata": {},
   "source": [
    "### Order of Matching Alternatives\n",
    "\n",
    "As per above, if you want the longest match, among alternatives which have the same starting characters, then sort the matches by length, longest first."
   ]
  },
  {
   "cell_type": "markdown",
   "metadata": {},
   "source": [
    "## Match RegEx Metacharacters"
   ]
  },
  {
   "cell_type": "code",
   "execution_count": 43,
   "metadata": {},
   "outputs": [
    {
     "data": {
      "text/html": [
       "The 22nd item costs <span style=\"background-color:LightSalmon\">$999</span> or more"
      ],
      "text/plain": [
       "<IPython.core.display.HTML object>"
      ]
     },
     "metadata": {},
     "output_type": "display_data"
    }
   ],
   "source": [
    "# $ is the metachatacter for match at end of string\n",
    "# to search for it directly, escape it\n",
    "s = 'The 22nd item costs $999 or more'\n",
    "pattern = r'\\$\\d+'\n",
    "\n",
    "match = re.search(pattern, s)\n",
    "if match:\n",
    "    highlight(match)     "
   ]
  },
  {
   "cell_type": "code",
   "execution_count": 44,
   "metadata": {},
   "outputs": [],
   "source": [
    "s = 'The 22nd item costs $999 or more'\n",
    "pattern = r'\\d+$'\n",
    "\n",
    "# no match\n",
    "match = re.search(pattern, s)\n",
    "if match:\n",
    "    highlight(match)"
   ]
  },
  {
   "cell_type": "code",
   "execution_count": 45,
   "metadata": {},
   "outputs": [
    {
     "data": {
      "text/html": [
       "The 22nd item costs $<span style=\"background-color:LightSalmon\">999</span>"
      ],
      "text/plain": [
       "<IPython.core.display.HTML object>"
      ]
     },
     "metadata": {},
     "output_type": "display_data"
    }
   ],
   "source": [
    "s = 'The 22nd item costs $999'\n",
    "pattern = r'\\d+$'\n",
    "\n",
    "match = re.search(pattern, s)\n",
    "if match:\n",
    "    highlight(match)"
   ]
  },
  {
   "cell_type": "code",
   "execution_count": 46,
   "metadata": {},
   "outputs": [
    {
     "data": {
      "text/html": [
       "<span style=\"background-color:LightSalmon\">A123</span> BC3456 78 D7"
      ],
      "text/plain": [
       "<IPython.core.display.HTML object>"
      ]
     },
     "metadata": {},
     "output_type": "display_data"
    },
    {
     "data": {
      "text/html": [
       "A123 <span style=\"background-color:LightSalmon\">BC3456</span> 78 D7"
      ],
      "text/plain": [
       "<IPython.core.display.HTML object>"
      ]
     },
     "metadata": {},
     "output_type": "display_data"
    }
   ],
   "source": [
    "# backtracking\n",
    "# 1 or more alphanumeric characters, greedy, with 2 digits at the end\n",
    "for match in re.finditer(r'\\w+\\d\\d', 'A123 BC3456 78 D7'):\n",
    "    highlight(match)"
   ]
  },
  {
   "cell_type": "code",
   "execution_count": 47,
   "metadata": {},
   "outputs": [
    {
     "data": {
      "text/html": [
       "<span style=\"background-color:LightSalmon\">A12</span>3 BC3456 78 D7"
      ],
      "text/plain": [
       "<IPython.core.display.HTML object>"
      ]
     },
     "metadata": {},
     "output_type": "display_data"
    },
    {
     "data": {
      "text/html": [
       "A123 <span style=\"background-color:LightSalmon\">BC34</span>56 78 D7"
      ],
      "text/plain": [
       "<IPython.core.display.HTML object>"
      ]
     },
     "metadata": {},
     "output_type": "display_data"
    }
   ],
   "source": [
    "# backtracking\n",
    "# 1 or more alphanumeric characters, minimal match, with 2 digits at the end\n",
    "for match in re.finditer(r'\\w+?\\d\\d', 'A123 BC3456 78 D7'):\n",
    "    highlight(match)"
   ]
  },
  {
   "cell_type": "code",
   "execution_count": 48,
   "metadata": {},
   "outputs": [
    {
     "data": {
      "text/html": [
       "<span style=\"background-color:LightSalmon\">A12</span>3 BC3456 78 D7"
      ],
      "text/plain": [
       "<IPython.core.display.HTML object>"
      ]
     },
     "metadata": {},
     "output_type": "display_data"
    },
    {
     "data": {
      "text/html": [
       "A123 B<span style=\"background-color:LightSalmon\">C34</span>56 78 D7"
      ],
      "text/plain": [
       "<IPython.core.display.HTML object>"
      ]
     },
     "metadata": {},
     "output_type": "display_data"
    }
   ],
   "source": [
    "# exactly 1 alphanumeric character, followed by exactly 2 digits\n",
    "for match in re.finditer(r'\\w\\d\\d', 'A123 BC3456 78 D7'):\n",
    "    highlight(match)"
   ]
  },
  {
   "cell_type": "code",
   "execution_count": 49,
   "metadata": {},
   "outputs": [
    {
     "data": {
      "text/html": [
       "<span style=\"background-color:LightSalmon\">&quot;Hello World!&quot; and some &quot;more&quot; text &quot;&quot;</span> and more"
      ],
      "text/plain": [
       "<IPython.core.display.HTML object>"
      ]
     },
     "metadata": {},
     "output_type": "display_data"
    }
   ],
   "source": [
    "# greedy search does not find what is inside each set of \"\"\n",
    "pattern = r'\".*\"'\n",
    "for match in re.finditer(r'\".*\"', '\"Hello World!\" and some \"more\" text \"\" and more'):\n",
    "    highlight(match)"
   ]
  },
  {
   "cell_type": "code",
   "execution_count": 50,
   "metadata": {},
   "outputs": [
    {
     "data": {
      "text/html": [
       "<span style=\"background-color:LightSalmon\">&quot;Hello World!&quot;</span> and some &quot;more&quot; text &quot;&quot; and more"
      ],
      "text/plain": [
       "<IPython.core.display.HTML object>"
      ]
     },
     "metadata": {},
     "output_type": "display_data"
    },
    {
     "data": {
      "text/html": [
       "&quot;Hello World!&quot; and some <span style=\"background-color:LightSalmon\">&quot;more&quot;</span> text &quot;&quot; and more"
      ],
      "text/plain": [
       "<IPython.core.display.HTML object>"
      ]
     },
     "metadata": {},
     "output_type": "display_data"
    },
    {
     "data": {
      "text/html": [
       "&quot;Hello World!&quot; and some &quot;more&quot; text <span style=\"background-color:LightSalmon\">&quot;&quot;</span> and more"
      ],
      "text/plain": [
       "<IPython.core.display.HTML object>"
      ]
     },
     "metadata": {},
     "output_type": "display_data"
    }
   ],
   "source": [
    "# minimal search will find what is inside each set of quotes\n",
    "# Note: this search includes the double quotes\n",
    "for match in re.finditer(r'\".*?\"', '\"Hello World!\" and some \"more\" text \"\" and more'):\n",
    "    highlight(match)"
   ]
  },
  {
   "cell_type": "markdown",
   "metadata": {},
   "source": [
    "## Groups"
   ]
  },
  {
   "cell_type": "code",
   "execution_count": 51,
   "metadata": {},
   "outputs": [],
   "source": [
    "def highlight_groups(match):\n",
    "    \"\"\"Display the matched part of each group, each with a different background color.\n",
    "    \"\"\"\n",
    "    s = match.string\n",
    "    num_groups = len(match.groups())\n",
    "    \n",
    "    if num_groups > 9:\n",
    "        raise ValueError(\"Too Many Groups\")\n",
    "        \n",
    "    colors = ['LightSalmon','GreenYellow', 'Orange'] * 3\n",
    "    span_end = '</span>'\n",
    "    \n",
    "    # get start and end points\n",
    "    starts = []\n",
    "    ends = []\n",
    "    for group_num in range(num_groups):\n",
    "        start, end = match.span(group_num+1)\n",
    "        starts.append(start)\n",
    "        ends.append(end)\n",
    "        \n",
    "    starts.append(len(s))\n",
    "    \n",
    "    # escape html chactares as this will be rendered as HTML to the Jupyter Notebook cell\n",
    "    html_string = html.escape(s[:starts[0]])\n",
    "    for n in range(num_groups):\n",
    "        span_start = f'<span style=\"background-color:{colors[n]}\">'\n",
    "        html_string = html_string + span_start + \\\n",
    "            html.escape(s[starts[n]:ends[n]]) + span_end + html.escape(s[ends[n]:starts[n+1]])\n",
    "    \n",
    "    display(HTML(html_string))"
   ]
  },
  {
   "cell_type": "code",
   "execution_count": 52,
   "metadata": {},
   "outputs": [
    {
     "data": {
      "text/html": [
       "&quot;<span style=\"background-color:LightSalmon\">Hello World!</span>&quot; and some &quot;more&quot; text &quot;&quot; and more"
      ],
      "text/plain": [
       "<IPython.core.display.HTML object>"
      ]
     },
     "metadata": {},
     "output_type": "display_data"
    },
    {
     "data": {
      "text/html": [
       "&quot;Hello World!&quot; and some &quot;<span style=\"background-color:LightSalmon\">more</span>&quot; text &quot;&quot; and more"
      ],
      "text/plain": [
       "<IPython.core.display.HTML object>"
      ]
     },
     "metadata": {},
     "output_type": "display_data"
    },
    {
     "data": {
      "text/html": [
       "&quot;Hello World!&quot; and some &quot;more&quot; text &quot;<span style=\"background-color:LightSalmon\"></span>&quot; and more"
      ],
      "text/plain": [
       "<IPython.core.display.HTML object>"
      ]
     },
     "metadata": {},
     "output_type": "display_data"
    }
   ],
   "source": [
    "# minimal search will find what is inside each set of \"\"\n",
    "# note: this search does not include the double quotes\n",
    "for match in re.finditer(r'\"(.*?)\"', '\"Hello World!\" and some \"more\" text \"\" and more'):\n",
    "    highlight_groups(match)"
   ]
  },
  {
   "cell_type": "code",
   "execution_count": 53,
   "metadata": {},
   "outputs": [
    {
     "data": {
      "text/html": [
       "cp <span style=\"background-color:LightSalmon\">original</span> <span style=\"background-color:GreenYellow\">dup</span> and some text mv oldname newname"
      ],
      "text/plain": [
       "<IPython.core.display.HTML object>"
      ]
     },
     "metadata": {},
     "output_type": "display_data"
    },
    {
     "data": {
      "text/html": [
       "cp original dup and some text mv <span style=\"background-color:LightSalmon\">oldname</span> <span style=\"background-color:GreenYellow\">newname</span>"
      ],
      "text/plain": [
       "<IPython.core.display.HTML object>"
      ]
     },
     "metadata": {},
     "output_type": "display_data"
    }
   ],
   "source": [
    "# a non-capturing () begins with (?:\n",
    "s = 'cp original dup and some text mv oldname newname'\n",
    "pattern = r'(?:cp|mv|ln)\\s+(\\w+)\\s+(\\w+)'\n",
    "for match in re.finditer(pattern, s):\n",
    "    highlight_groups(match)"
   ]
  },
  {
   "cell_type": "code",
   "execution_count": 54,
   "metadata": {},
   "outputs": [
    {
     "data": {
      "text/html": [
       "<span style=\"background-color:LightSalmon\">cp</span> <span style=\"background-color:GreenYellow\">original</span> <span style=\"background-color:Orange\">dup</span> and some text mv oldname newname"
      ],
      "text/plain": [
       "<IPython.core.display.HTML object>"
      ]
     },
     "metadata": {},
     "output_type": "display_data"
    },
    {
     "data": {
      "text/html": [
       "cp original dup and some text <span style=\"background-color:LightSalmon\">mv</span> <span style=\"background-color:GreenYellow\">oldname</span> <span style=\"background-color:Orange\">newname</span>"
      ],
      "text/plain": [
       "<IPython.core.display.HTML object>"
      ]
     },
     "metadata": {},
     "output_type": "display_data"
    }
   ],
   "source": [
    "# parentheses create capture groups by default\n",
    "s = 'cp original dup and some text mv oldname newname'\n",
    "pattern = r'(cp|mv|ln)\\s+(\\w+)\\s+(\\w+)'\n",
    "for match in re.finditer(pattern, s):\n",
    "    highlight_groups(match)"
   ]
  },
  {
   "cell_type": "code",
   "execution_count": 55,
   "metadata": {},
   "outputs": [
    {
     "name": "stdout",
     "output_type": "stream",
     "text": [
      "{'op': 'cp', 'source': 'original', 'target': 'dup'}\n",
      "{'op': 'mv', 'source': 'oldname', 'target': 'newname'}\n"
     ]
    }
   ],
   "source": [
    "# named captures make it easy for the code to use the capture groups\n",
    "s = 'cp original dup and some text mv oldname newname'\n",
    "pattern = r'(?P<op>cp|mv|ln)\\s+(?P<source>\\w+)\\s+(?P<target>\\w+)'\n",
    "for match in re.finditer(pattern, s):\n",
    "    print(match.groupdict())"
   ]
  },
  {
   "cell_type": "code",
   "execution_count": 56,
   "metadata": {},
   "outputs": [
    {
     "data": {
      "text/html": [
       "&lt;<span style=\"background-color:LightSalmon\"> stuff inside angle brakets </span>&gt; this is not inside &lt;more stuff inside angle brakets&gt;"
      ],
      "text/plain": [
       "<IPython.core.display.HTML object>"
      ]
     },
     "metadata": {},
     "output_type": "display_data"
    },
    {
     "data": {
      "text/html": [
       "&lt; stuff inside angle brakets &gt; this is not inside &lt;<span style=\"background-color:LightSalmon\">more stuff inside angle brakets</span>&gt;"
      ],
      "text/plain": [
       "<IPython.core.display.HTML object>"
      ]
     },
     "metadata": {},
     "output_type": "display_data"
    }
   ],
   "source": [
    "s = '< stuff inside angle brakets > this is not inside <more stuff inside angle brakets>'\n",
    "pattern = r'<(.*?)>'\n",
    "for match in re.finditer(pattern, s):\n",
    "    highlight_groups(match)"
   ]
  },
  {
   "cell_type": "code",
   "execution_count": 57,
   "metadata": {},
   "outputs": [
    {
     "data": {
      "text/html": [
       "\n",
       "This is string1\n",
       "This is string<span style=\"background-color:LightSalmon\">2</span>\n"
      ],
      "text/plain": [
       "<IPython.core.display.HTML object>"
      ]
     },
     "metadata": {},
     "output_type": "display_data"
    }
   ],
   "source": [
    "# by default, $ is end of string\n",
    "s = \"\"\"\n",
    "This is string1\n",
    "This is string2\n",
    "\"\"\"\n",
    "\n",
    "for match in re.finditer(r'\\d$', s):\n",
    "    highlight(match)\n",
    "# Note: highlight method uses HTML which causes \\n to be ignored on display"
   ]
  },
  {
   "cell_type": "code",
   "execution_count": 58,
   "metadata": {},
   "outputs": [
    {
     "data": {
      "text/html": [
       "\n",
       "This is string<span style=\"background-color:LightSalmon\">1</span>\n",
       "This is string2\n"
      ],
      "text/plain": [
       "<IPython.core.display.HTML object>"
      ]
     },
     "metadata": {},
     "output_type": "display_data"
    },
    {
     "data": {
      "text/html": [
       "\n",
       "This is string1\n",
       "This is string<span style=\"background-color:LightSalmon\">2</span>\n"
      ],
      "text/plain": [
       "<IPython.core.display.HTML object>"
      ]
     },
     "metadata": {},
     "output_type": "display_data"
    }
   ],
   "source": [
    "# use flag to consider $ to match end of each line\n",
    "s = \"\"\"\n",
    "This is string1\n",
    "This is string2\n",
    "\"\"\"\n",
    "\n",
    "for match in re.finditer(r'\\d$', s, flags=re.MULTILINE):\n",
    "    highlight(match)\n",
    "# Note: highlight method uses HTML which causes \\n to be ignored on display        "
   ]
  },
  {
   "cell_type": "markdown",
   "metadata": {},
   "source": [
    "## Lookahead and Lookbehind\n",
    "\n",
    "This are assertions about what is around the pattern.  They are not considered part of the match.\n",
    "\n",
    "Lookahead means to assert what is beyond the end of the match.  \n",
    "Lookbehind means to assert what is before the start of the match.  \n",
    "Negative means to negate the logic of what is being asserted.  \n",
    "Positive means to use the logic of what is being asserted."
   ]
  },
  {
   "cell_type": "code",
   "execution_count": 59,
   "metadata": {},
   "outputs": [
    {
     "data": {
      "text/html": [
       "<span style=\"background-color:LightSalmon\">end</span> endwh1le endloop wh2le loop end"
      ],
      "text/plain": [
       "<IPython.core.display.HTML object>"
      ]
     },
     "metadata": {},
     "output_type": "display_data"
    }
   ],
   "source": [
    "# positive lookahead: ?=\n",
    "s = 'end endwh1le endloop wh2le loop end'\n",
    "\n",
    "# find e followed by n followed by d and assert that next position is whitespace\n",
    "pattern = r'end(?=\\s)'\n",
    "for match in re.finditer(pattern, s):\n",
    "    highlight(match)"
   ]
  },
  {
   "cell_type": "code",
   "execution_count": 60,
   "metadata": {},
   "outputs": [
    {
     "data": {
      "text/html": [
       "<span style=\"background-color:LightSalmon\">end</span> endwh1le endloop wh2le loop end"
      ],
      "text/plain": [
       "<IPython.core.display.HTML object>"
      ]
     },
     "metadata": {},
     "output_type": "display_data"
    },
    {
     "data": {
      "text/html": [
       "end endwh1le endloop wh2le loop <span style=\"background-color:LightSalmon\">end</span>"
      ],
      "text/plain": [
       "<IPython.core.display.HTML object>"
      ]
     },
     "metadata": {},
     "output_type": "display_data"
    }
   ],
   "source": [
    "# negative lookahead: ?!\n",
    "s = 'end endwh1le endloop wh2le loop end'\n",
    "\n",
    "# find e followed by n followed by d and assert that next position is not a word character\n",
    "pattern = r'end(?!\\w)'\n",
    "for match in re.finditer(pattern, s):\n",
    "    highlight(match)"
   ]
  },
  {
   "cell_type": "code",
   "execution_count": 61,
   "metadata": {},
   "outputs": [
    {
     "data": {
      "text/html": [
       "end end<span style=\"background-color:LightSalmon\">wh1le</span> endloop wh2le loop end"
      ],
      "text/plain": [
       "<IPython.core.display.HTML object>"
      ]
     },
     "metadata": {},
     "output_type": "display_data"
    }
   ],
   "source": [
    "# positive lookbehind: ?<=\n",
    "s = 'end endwh1le endloop wh2le loop end'\n",
    "\n",
    "# find w followed by h followed by any character followed by l followed by e and\n",
    "# assert that preceding characters are e,n,d\n",
    "pattern = r'(?<=end)wh.le'\n",
    "for match in re.finditer(pattern, s):\n",
    "    highlight(match)"
   ]
  },
  {
   "cell_type": "code",
   "execution_count": 62,
   "metadata": {},
   "outputs": [
    {
     "data": {
      "text/html": [
       "end endwh1le endloop <span style=\"background-color:LightSalmon\">wh2le</span> loop end"
      ],
      "text/plain": [
       "<IPython.core.display.HTML object>"
      ]
     },
     "metadata": {},
     "output_type": "display_data"
    }
   ],
   "source": [
    "# positive lookbehind: ?<=\n",
    "s = 'end endwh1le endloop wh2le loop end'\n",
    "\n",
    "# find w followed by h followed by any character followed by l followed by e and\n",
    "# assert that preceding characters are not e,n,d\n",
    "pattern = r'(?<!end)wh.le'\n",
    "for match in re.finditer(pattern, s):\n",
    "    highlight(match)"
   ]
  },
  {
   "cell_type": "code",
   "execution_count": 63,
   "metadata": {},
   "outputs": [
    {
     "data": {
      "text/html": [
       "there are <span style=\"background-color:LightSalmon\">repeated</span> <span style=\"background-color:GreenYellow\">repeated</span> words in this string"
      ],
      "text/plain": [
       "<IPython.core.display.HTML object>"
      ]
     },
     "metadata": {},
     "output_type": "display_data"
    }
   ],
   "source": [
    "# using previous capture group to detect repeated words\n",
    "s = 'there are repeated repeated words in this string'\n",
    "pattern = r'(\\b\\S+)\\s+(\\1)\\b'\n",
    "for match in re.finditer(pattern, s):\n",
    "    highlight_groups(match)"
   ]
  },
  {
   "cell_type": "code",
   "execution_count": 64,
   "metadata": {},
   "outputs": [
    {
     "data": {
      "text/html": [
       "there <span style=\"background-color:LightSalmon\">are</span> <span style=\"background-color:GreenYellow\">are</span> repeated words in this string"
      ],
      "text/plain": [
       "<IPython.core.display.HTML object>"
      ]
     },
     "metadata": {},
     "output_type": "display_data"
    }
   ],
   "source": [
    "# using previous capture group to detect repeated words\n",
    "s = 'there are are repeated words in this string'\n",
    "pattern = r'(\\b\\S+)\\s+(\\1)\\b'\n",
    "for match in re.finditer(pattern, s):\n",
    "    highlight_groups(match)"
   ]
  },
  {
   "cell_type": "code",
   "execution_count": 65,
   "metadata": {},
   "outputs": [],
   "source": [
    "pattern_compiled = re.compile(r\"\"\"(?x)\n",
    "(put|get)\\s+\n",
    "(files|buffers)\\s+\n",
    "in\\s+\n",
    "(\\w+)\n",
    "\"\"\"\n",
    "                             )"
   ]
  },
  {
   "cell_type": "code",
   "execution_count": 66,
   "metadata": {},
   "outputs": [
    {
     "data": {
      "text/html": [
       "<span style=\"background-color:LightSalmon\">put</span> <span style=\"background-color:GreenYellow\">files</span> in <span style=\"background-color:Orange\">mydirectory</span>"
      ],
      "text/plain": [
       "<IPython.core.display.HTML object>"
      ]
     },
     "metadata": {},
     "output_type": "display_data"
    }
   ],
   "source": [
    "s = 'put files in mydirectory'\n",
    "for match in pattern_compiled.finditer(s):\n",
    "    if match:\n",
    "        highlight_groups(match)"
   ]
  },
  {
   "cell_type": "code",
   "execution_count": 67,
   "metadata": {},
   "outputs": [],
   "source": [
    "pattern_compiled = re.compile(r\"\"\"(?x)\n",
    "(?P<CMD>put|get)\\s+\n",
    "(?P<TYPE>files|buffers)\\s+\n",
    "in\\s+\n",
    "(?P<TARGET>\\w+)\n",
    "\"\"\"\n",
    "                             )"
   ]
  },
  {
   "cell_type": "code",
   "execution_count": 68,
   "metadata": {},
   "outputs": [
    {
     "data": {
      "text/plain": [
       "{'CMD': 'put', 'TYPE': 'files', 'TARGET': 'mydirectory'}"
      ]
     },
     "execution_count": 68,
     "metadata": {},
     "output_type": "execute_result"
    }
   ],
   "source": [
    "s = 'put files in mydirectory'\n",
    "match = pattern_compiled.search(s)\n",
    "match.groupdict()"
   ]
  },
  {
   "cell_type": "code",
   "execution_count": 69,
   "metadata": {},
   "outputs": [
    {
     "name": "stdout",
     "output_type": "stream",
     "text": [
      "put\n",
      "files\n",
      "mydirectory\n"
     ]
    }
   ],
   "source": [
    "print(match.group(\"CMD\"))\n",
    "print(match.group(\"TYPE\"))\n",
    "print(match.group(\"TARGET\"))"
   ]
  },
  {
   "cell_type": "code",
   "execution_count": 70,
   "metadata": {},
   "outputs": [
    {
     "data": {
      "text/html": [
       "123 45 <span style=\"background-color:LightSalmon\">6789</span> <span style=\"background-color:GreenYellow\">a</span>234"
      ],
      "text/plain": [
       "<IPython.core.display.HTML object>"
      ]
     },
     "metadata": {},
     "output_type": "display_data"
    }
   ],
   "source": [
    "pattern = re.compile(r'(?P<digits>\\d+) (?P<letters>[a-zA-Z])')\n",
    "s = '123 45 6789 a234'\n",
    "for match in pattern.finditer(s):\n",
    "    if match:\n",
    "        highlight_groups(match)"
   ]
  },
  {
   "cell_type": "code",
   "execution_count": 71,
   "metadata": {},
   "outputs": [
    {
     "name": "stdout",
     "output_type": "stream",
     "text": [
      "6789\n"
     ]
    }
   ],
   "source": [
    "print(match.group('digits'))"
   ]
  },
  {
   "cell_type": "code",
   "execution_count": 72,
   "metadata": {},
   "outputs": [
    {
     "name": "stdout",
     "output_type": "stream",
     "text": [
      "a\n"
     ]
    }
   ],
   "source": [
    "print(match.group('letters'))"
   ]
  },
  {
   "cell_type": "markdown",
   "metadata": {},
   "source": [
    "<a name=\"example\"></a>"
   ]
  },
  {
   "cell_type": "markdown",
   "metadata": {},
   "source": [
    "## Practical Example\n",
    "\n",
    "Task Overview\n",
    "* Find all imported modules in all notebooks in the \\\\$\\{HOME\\} directory and below\n",
    "\n",
    "Task Detail\n",
    "* Skip notebooks under the \\\\$\\{HOME\\}/anaconda\n",
    "* Only check notebook cells of type 'code'\n",
    "* Ignore cells that use magic commands\n",
    "* Ignore content of comments, triple quoted strings, etc.\n",
    "* Determine which modules are missing from the conda environment that this notebook is running in\n",
    "* Create a mapping between each module and the notebooks which use them\n",
    "* Find the most commonly imported modules\n",
    "\n",
    "Jupyter Lab and iPython notebooks can be read with nbformat. See: https://nbformat.readthedocs.io/en/latest/index.html"
   ]
  },
  {
   "cell_type": "markdown",
   "metadata": {},
   "source": [
    "#### Software Engineering Note\n",
    "\n",
    "Collecting several edge cases, in a quick and easy to run \"unit test\", is helpful. However Jupyter Notebooks are not the best way to learn pytest and unit testing.  Here the next cell will serve as test data to try most edge cases."
   ]
  },
  {
   "cell_type": "code",
   "execution_count": 73,
   "metadata": {},
   "outputs": [
    {
     "name": "stdout",
     "output_type": "stream",
     "text": [
      "hello world\n",
      "import not_real_module\n"
     ]
    }
   ],
   "source": [
    "# create a test notebook cell with valid and invalid import use cases\n",
    "# these are valid imports\n",
    "from __future__ import annotations\n",
    "import sys\n",
    "import numpy as np\n",
    "from numpy import random\n",
    "import nbformat\n",
    "import sklearn.model_selection\n",
    "from sklearn.feature_extraction import DictVectorizer\n",
    "\n",
    "valid_modules = {'annotations', 'nbformat', 'numpy', 'sklearn.feature_extraction', 'sklearn.model_selection','sys'}\n",
    "\n",
    "# the following are not actually importing a module\n",
    "# from __future__ import not_real_module\n",
    "print(\"hello world\") # import not_real_module\n",
    "print(\"import not_real_module\")\n",
    "s = \"\"\"\n",
    "import not_real_module\n",
    "\"\"\"\n",
    "\n",
    "a = 'import not_real_module'\n",
    "b = 'from not_real_module import not_real_class'"
   ]
  },
  {
   "cell_type": "code",
   "execution_count": 74,
   "metadata": {},
   "outputs": [
    {
     "name": "stdout",
     "output_type": "stream",
     "text": [
      "Cell Index: 94\n",
      "# create a test notebook cell with valid and invalid import use cases\n",
      "# these are valid imports\n",
      "from __future__ import annotations\n",
      "import sys\n",
      "import numpy as np\n",
      "from numpy import random\n",
      "import nbformat\n",
      "import sklearn.model_selection\n",
      "from sklearn.feature_extraction import DictVectorizer\n",
      "\n",
      "valid_modules = {'annotations', 'nbformat', 'numpy', 'sklearn.feature_extraction', 'sklearn.model_selection','sys'}\n",
      "\n",
      "# the following are not actually importing a module\n",
      "# from __future__ import not_real_module\n",
      "print(\"hello world\") # import not_real_module\n",
      "print(\"import not_real_module\")\n",
      "s = \"\"\"\n",
      "import not_real_module\n",
      "\"\"\"\n",
      "\n",
      "a = 'import not_real_module'\n",
      "b = 'from not_real_module import not_real_class'\n"
     ]
    }
   ],
   "source": [
    "# print the contents of the above test cell\n",
    "nb = nbformat.read('RegEx.ipynb', as_version=4)\n",
    "for cell_num, cell in enumerate(nb.cells):\n",
    "    if '# create a test notebook cell with' in cell.source:\n",
    "        break\n",
    "\n",
    "print(f'Cell Index: {cell_num}')\n",
    "print(nb.cells[cell_num].source)"
   ]
  },
  {
   "cell_type": "code",
   "execution_count": 75,
   "metadata": {},
   "outputs": [
    {
     "data": {
      "text/plain": [
       "True"
      ]
     },
     "execution_count": 75,
     "metadata": {},
     "output_type": "execute_result"
    }
   ],
   "source": [
    "# verify search logic on test cell\n",
    "modules = set()\n",
    "\n",
    "cell = nb.cells[cell_num]\n",
    "\n",
    "# remove contents of triple quoted strings\n",
    "source = re.sub(r'\\\"{3}(.*)\\\"{3}', '', cell.source, flags = re.DOTALL)\n",
    "lines = source.splitlines()\n",
    "for line in lines:\n",
    "    # only consider text before # or first single or double quote\n",
    "    line = re.split('[#\\'\"]',line)[0]\n",
    "    m = re.search(r'(from(?:\\s+__future__\\s+import)?|import)\\s+([a-zA-Z0-9._]+)', line)\n",
    "    if m:\n",
    "        modules.add(m.group(2))\n",
    "        \n",
    "# correct set of modules        \n",
    "modules == valid_modules                         "
   ]
  },
  {
   "cell_type": "markdown",
   "metadata": {},
   "source": [
    "#### Software Engineering Note\n",
    "The above shows a piece of code that works on a good test example.  The next step is to turn this into a method."
   ]
  },
  {
   "cell_type": "code",
   "execution_count": 76,
   "metadata": {},
   "outputs": [],
   "source": [
    "# initial version of method, cut and paste from above as much as possible\n",
    "def find_modules_from_cell(cell, collection):\n",
    "    \"\"\"Find all imported modules from a notebook cell.\n",
    "    \n",
    "    Save these to a collection which supports the add method\n",
    "    \"\"\"\n",
    "    # remove contents of triple quoted strings\n",
    "    source = re.sub(r'\\\"{3}(.*)\\\"{3}', '', cell.source, flags = re.DOTALL)\n",
    "    lines = source.splitlines()\n",
    "    for line in lines:\n",
    "        # only consider text before # or first single or double quote\n",
    "        line = re.split('[#\\'\"]',line)[0]\n",
    "        m = re.search(r'(from(?:\\s+__future__\\s+import)?|import)\\s+([a-zA-Z0-9._]+)', line)\n",
    "        if m:\n",
    "            collection.add(m.group(2))"
   ]
  },
  {
   "cell_type": "code",
   "execution_count": 77,
   "metadata": {},
   "outputs": [
    {
     "data": {
      "text/plain": [
       "True"
      ]
     },
     "execution_count": 77,
     "metadata": {},
     "output_type": "execute_result"
    }
   ],
   "source": [
    "# try refactored code\n",
    "modules = set()\n",
    "cell = nb.cells[cell_num]\n",
    "find_modules_from_cell(cell, modules)\n",
    "modules == valid_modules"
   ]
  },
  {
   "cell_type": "code",
   "execution_count": 78,
   "metadata": {},
   "outputs": [],
   "source": [
    "# get ${HOME}\n",
    "env = %env\n",
    "home = env['HOME']"
   ]
  },
  {
   "cell_type": "markdown",
   "metadata": {},
   "source": [
    "#### Find Notebooks to Parse\n",
    "\n",
    "Find all files that:\n",
    "1. end in '.ipynb'\n",
    "2. do not end in '-checkpoint.ipynb'\n",
    "3. do not begin with \\\\$\\{HOME\\}/anaconda"
   ]
  },
  {
   "cell_type": "code",
   "execution_count": 79,
   "metadata": {},
   "outputs": [],
   "source": [
    "import os\n",
    "\n",
    "notebooks = []\n",
    "for dirpath, dirnames, filenames in os.walk(home):\n",
    "    for filename in filenames:\n",
    "        fullname = os.path.join(dirpath, filename)\n",
    "        if fullname.endswith('.ipynb') \\\n",
    "            and not fullname.endswith('-checkpoint.ipynb') \\\n",
    "            and not fullname.startswith(home+'/anaconda3'):\n",
    "            notebooks.append(fullname)"
   ]
  },
  {
   "cell_type": "code",
   "execution_count": 80,
   "metadata": {},
   "outputs": [],
   "source": [
    "# use find_modules_from_cell() in more real world setting\n",
    "\n",
    "modules = set()\n",
    "for notebook in notebooks:\n",
    "    nb = nbformat.read(notebook, as_version=4)\n",
    "    for cell in nb.cells:\n",
    "        # only consider code cells\n",
    "        if cell.cell_type == 'code':\n",
    "            \n",
    "            # ignore magic cells -- these begin with 1 or 2 %\n",
    "            # 'env = %env' is also a legal cell magic\n",
    "            # 'result_set = %sql select ' is also a legal cell magic\n",
    "            # '6 %sql' is not a magic cell, it is 6 modulo sql\n",
    "            if re.search(r'^(%{1,2}\\w+)|=\\s+(%\\w+)', cell.source, re.MULTILINE):\n",
    "                continue\n",
    "            \n",
    "            find_modules_from_cell(cell, modules)"
   ]
  },
  {
   "cell_type": "markdown",
   "metadata": {},
   "source": [
    "#### Software Engineering Note\n",
    "\n",
    "find_modules_from_cell is a \"helper\" function.  In other words, it is a function which is used locally to solve a specific problem and is not intended to be used by other software developers."
   ]
  },
  {
   "cell_type": "markdown",
   "metadata": {},
   "source": [
    "#### Try Loading Each Module\n",
    "\n",
    "Modules could fail to load because:\n",
    "1. notebook it was found from is old and module location has since changed\n",
    "2. module is not available in the (virtual) environment from which this notebook is being run\n",
    "3. notebook was parsed incorrectly and the module is not really a module\n",
    "\n",
    "Get a list of all the modules that will not load.\n",
    "\n",
    "Note: use of exec() could result in potentially hackable code and generally should not be used in production code.  exec() is fine to use for testing in a safe environment."
   ]
  },
  {
   "cell_type": "code",
   "execution_count": 81,
   "metadata": {},
   "outputs": [
    {
     "name": "stderr",
     "output_type": "stream",
     "text": [
      "/home/agni/anaconda3/envs/ml/lib/python3.7/site-packages/IPython/nbconvert.py:13: ShimWarning: The `IPython.nbconvert` package has been deprecated since IPython 4.0. You should import from nbconvert instead.\n",
      "  \"You should import from nbconvert instead.\", ShimWarning)\n",
      "/home/agni/anaconda3/envs/ml/lib/python3.7/site-packages/IPython/kernel/__init__.py:13: ShimWarning: The `IPython.kernel` package has been deprecated since IPython 4.0.You should import from ipykernel or jupyter_client instead.\n",
      "  \"You should import from ipykernel or jupyter_client instead.\", ShimWarning)\n",
      "/home/agni/anaconda3/envs/ml/lib/python3.7/site-packages/IPython/html.py:14: ShimWarning: The `IPython.html` package has been deprecated since IPython 4.0. You should import from `notebook` instead. `IPython.html.widgets` has moved to `ipywidgets`.\n",
      "  \"`IPython.html.widgets` has moved to `ipywidgets`.\", ShimWarning)\n",
      "/home/agni/anaconda3/envs/ml/lib/python3.7/site-packages/IPython/parallel.py:13: ShimWarning: The `IPython.parallel` package has been deprecated since IPython 4.0. You should import from ipyparallel instead.\n",
      "  \"You should import from ipyparallel instead.\", ShimWarning)\n",
      "/home/agni/anaconda3/envs/ml/lib/python3.7/site-packages/IPython/nbformat.py:13: ShimWarning: The `IPython.nbformat` package has been deprecated since IPython 4.0. You should import from nbformat instead.\n",
      "  \"You should import from nbformat instead.\", ShimWarning)\n",
      "/home/agni/anaconda3/envs/ml/lib/python3.7/site-packages/IPython/config.py:13: ShimWarning: The `IPython.config` package has been deprecated since IPython 4.0. You should import from traitlets.config instead.\n",
      "  \"You should import from traitlets.config instead.\", ShimWarning)\n"
     ]
    }
   ],
   "source": [
    "missing_modules = set()\n",
    "for module in modules:\n",
    "    try:\n",
    "        # attempt to import each module\n",
    "        exec(f'import {module}')\n",
    "    except ModuleNotFoundError as err:\n",
    "        # err str format: No module named 'module_name'\n",
    "        err_str = str(err)\n",
    "        match = re.search(r\"\\s'(.*)'\", err_str)\n",
    "        missing_modules.add(match.group(1))\n",
    "        continue"
   ]
  },
  {
   "cell_type": "code",
   "execution_count": 82,
   "metadata": {},
   "outputs": [
    {
     "data": {
      "text/plain": [
       "['IPython.nbconvert.transformers', 'PyPDF2', 'PyQt4']"
      ]
     },
     "execution_count": 82,
     "metadata": {},
     "output_type": "execute_result"
    }
   ],
   "source": [
    "missing_list = sorted(list(missing_modules))\n",
    "missing_list[:3]"
   ]
  },
  {
   "cell_type": "markdown",
   "metadata": {},
   "source": [
    "#### Software Engineering Note\n",
    "It is hard to know which \"modules\" are due to notebook parsing errors without looking at the notebook by eye.  To look at the notebooks we need a mapping of module name to notebook.  This is most easily done using defaultdict(list)."
   ]
  },
  {
   "cell_type": "code",
   "execution_count": 83,
   "metadata": {},
   "outputs": [],
   "source": [
    "# next version of method\n",
    "# note that almost no changes were made to the previously tested find_modules_from_cell\n",
    "from collections import defaultdict\n",
    "def find_modules_from_cell(cell, notebook, dd):\n",
    "    \"\"\"Find all imported modules from a notebook cell.\n",
    "    \n",
    "    Save these to a defaultdict(list)\n",
    "    \"\"\"\n",
    "    # remove contents of triple quoted strings\n",
    "    source = re.sub(r'\\\"{3}(.*)\\\"{3}', '', cell.source, flags = re.DOTALL)\n",
    "    lines = source.splitlines()\n",
    "    for line in lines:\n",
    "        # only consider text before # or first single or double quote\n",
    "        line = re.split('[#\\'\"]',line)[0]\n",
    "        m = re.search(r'(from(?:\\s+__future__\\s+import)?|import)\\s+([a-zA-Z0-9._]+)', line)        \n",
    "        if m:\n",
    "            dd[m.group(2)].append(notebook)"
   ]
  },
  {
   "cell_type": "code",
   "execution_count": 84,
   "metadata": {},
   "outputs": [],
   "source": [
    "# use new version of find_modules_from_cell\n",
    "dd = defaultdict(list)\n",
    "for notebook in notebooks:\n",
    "    nb = nbformat.read(notebook, as_version=4)\n",
    "    for cell in nb.cells:\n",
    "        # only consider code cells\n",
    "        if cell.cell_type == 'code':\n",
    "            \n",
    "            # ignore magic cells -- these begin with 1 or 2 %\n",
    "            # 'result_set = %sql select ...' is also legal cell magic\n",
    "            # '6 %sql' is not a magic cell, it is 6 modulo sql\n",
    "            if re.search(r'^(%{1,2}\\w+)|=\\s+(%\\w+)', cell.source, re.MULTILINE):\n",
    "                continue\n",
    "            \n",
    "            find_modules_from_cell(cell, notebook, dd)"
   ]
  },
  {
   "cell_type": "markdown",
   "metadata": {},
   "source": [
    "#### Software Engineering Note\n",
    "It is a good idea to check every step of the way.\n",
    "\n",
    "The list of keys in the above dictionary should match the set of modules found above.  Verify this."
   ]
  },
  {
   "cell_type": "code",
   "execution_count": 85,
   "metadata": {},
   "outputs": [
    {
     "data": {
      "text/plain": [
       "True"
      ]
     },
     "execution_count": 85,
     "metadata": {},
     "output_type": "execute_result"
    }
   ],
   "source": [
    "m_list1 = sorted(list(modules))\n",
    "m_list2 = sorted(list(dd.keys()))\n",
    "m_list1 == m_list2"
   ]
  },
  {
   "cell_type": "code",
   "execution_count": 86,
   "metadata": {},
   "outputs": [
    {
     "name": "stdout",
     "output_type": "stream",
     "text": [
      "Missing module: PyQt4\n",
      "Referenced in: /Python/ipython-in-depth-master/examples/IPython Kernel/Terminal Usage.ipynb\n"
     ]
    }
   ],
   "source": [
    "# check out the path to one of the missing modules above\n",
    "a_missing_module = missing_list[2]\n",
    "nb_list = dd[a_missing_module]\n",
    "\n",
    "# print the last 76 characters of the first file in nb_list\n",
    "print(f'Missing module: {a_missing_module}')\n",
    "print(f'Referenced in: {nb_list[0][-76:]}')"
   ]
  },
  {
   "cell_type": "markdown",
   "metadata": {},
   "source": [
    "A new conda environment could be created which makes the missing modules available, then any missing module would represent an error in notebook parsing.  That will not be done here though as I prefer to have my environments contain only the modules they need, and at the same time, I want to search over all my notebooks."
   ]
  },
  {
   "cell_type": "code",
   "execution_count": 87,
   "metadata": {},
   "outputs": [],
   "source": [
    "# to know how often each module was referenced:\n",
    "# create a new dictionary that maps key to number of notebooks in value list\n",
    "\n",
    "# dictionary comprehension\n",
    "counts = {key:len(value) for (key,value) in dd.items()}"
   ]
  },
  {
   "cell_type": "code",
   "execution_count": 89,
   "metadata": {},
   "outputs": [
    {
     "name": "stdout",
     "output_type": "stream",
     "text": [
      "numpy                    referenced in 185 notebooks\n",
      "pandas                   referenced in 159 notebooks\n",
      "sklearn.metrics          referenced in 134 notebooks\n",
      "sklearn.model_selection  referenced in 133 notebooks\n",
      "IPython.display          referenced in  97 notebooks\n"
     ]
    }
   ],
   "source": [
    "# create a sorted list of (key,value) pairs from the counts dictionary\n",
    "sorted_by_value = sorted(counts.items(), key=lambda item: item[1], reverse=True)\n",
    "\n",
    "# top 5 most used\n",
    "for key, value in sorted_by_value[:5]:\n",
    "    print(f'{key:<24} referenced in {value:>3} notebooks')"
   ]
  }
 ],
 "metadata": {
  "kernelspec": {
   "display_name": "Python 3",
   "language": "python",
   "name": "python3"
  },
  "language_info": {
   "codemirror_mode": {
    "name": "ipython",
    "version": 3
   },
   "file_extension": ".py",
   "mimetype": "text/x-python",
   "name": "python",
   "nbconvert_exporter": "python",
   "pygments_lexer": "ipython3",
   "version": "3.7.1"
  }
 },
 "nbformat": 4,
 "nbformat_minor": 2
}
