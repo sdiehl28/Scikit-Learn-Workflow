{
 "cells": [
  {
   "cell_type": "markdown",
   "metadata": {},
   "source": [
    "# Regular Expressions in Python\n",
    "\n",
    "By far, the best course I have found on Regular Expressions is:  \n",
    "https://www.safaribooksonline.com/videos/understanding-regular-expressions/9781491996300  \n",
    "\n",
    "The best website I have found for learning and experimenting with Regular Expressions is:  \n",
    "https://regex101.com/ "
   ]
  },
  {
   "cell_type": "markdown",
   "metadata": {},
   "source": [
    "## **re** module vs **regex** module\n",
    "\n",
    "* **re** is part of standard library\n",
    "* **regex** has latest PCRE with variable length look behind and more\n",
    "\n",
    "In most cases, re and regex will do the same thing.  However with advanced regular expressions, you may find yourself wanting to use regex over re.\n",
    "\n",
    "PCRE means Perl Compatible Regular Expressions"
   ]
  },
  {
   "cell_type": "markdown",
   "metadata": {},
   "source": [
    "## re.search()\n",
    "\n",
    "In practice, re.search() may be the method you use most.\n",
    "\n",
    "re.search() will find the **first** match and return that as a match object.\n",
    "\n",
    "If there is no match, it will return None.\n",
    "\n",
    "The truthiness of None is bool(None) which is False."
   ]
  },
  {
   "cell_type": "code",
   "execution_count": 1,
   "metadata": {},
   "outputs": [],
   "source": [
    "# The last expression in a Jupyter Notebook cell is displayed using __repr__\n",
    "# For None, nothing is displayed\n",
    "None"
   ]
  },
  {
   "cell_type": "code",
   "execution_count": 2,
   "metadata": {},
   "outputs": [
    {
     "data": {
      "text/plain": [
       "False"
      ]
     },
     "execution_count": 2,
     "metadata": {},
     "output_type": "execute_result"
    }
   ],
   "source": [
    "# The truth value of None is False\n",
    "bool(None)"
   ]
  },
  {
   "cell_type": "code",
   "execution_count": 3,
   "metadata": {},
   "outputs": [
    {
     "name": "stdout",
     "output_type": "stream",
     "text": [
      "None\n"
     ]
    }
   ],
   "source": [
    "# you can print(None) though\n",
    "print(None)"
   ]
  },
  {
   "cell_type": "code",
   "execution_count": 4,
   "metadata": {},
   "outputs": [
    {
     "data": {
      "text/plain": [
       "<re.Match object; span=(227, 234), match='minimal'>"
      ]
     },
     "execution_count": 4,
     "metadata": {},
     "output_type": "execute_result"
    }
   ],
   "source": [
    "import re\n",
    "\n",
    "ml_text = \"\"\"Machine learning is a method of data analysis that automates \n",
    "analytical model building. It is a branch of artificial intelligence \n",
    "based on the idea that systems can learn from data, identify patterns \n",
    "and make decisions with minimal human intervention.\n",
    "\"\"\"\n",
    "\n",
    "pattern = \"minimal\"\n",
    "re.search(pattern, ml_text)"
   ]
  },
  {
   "cell_type": "code",
   "execution_count": 5,
   "metadata": {},
   "outputs": [
    {
     "data": {
      "text/plain": [
       "<re.Match object; span=(227, 234), match='minimal'>"
      ]
     },
     "execution_count": 5,
     "metadata": {},
     "output_type": "execute_result"
    }
   ],
   "source": [
    "# A Python pattern can be explictly compiled before usage\n",
    "compiled_pattern = re.compile(pattern)\n",
    "compiled_pattern.search(ml_text)"
   ]
  },
  {
   "cell_type": "code",
   "execution_count": 6,
   "metadata": {},
   "outputs": [],
   "source": [
    "# None is returned when there is no match, so nothing is displayed\n",
    "pattern = \"xyz\"\n",
    "re.search(pattern, ml_text)"
   ]
  },
  {
   "cell_type": "markdown",
   "metadata": {},
   "source": [
    "## Compiling Regular Expressions\n",
    "If you do not explicitly compile the pattern, Python will compile it for you.  It will also cache many of the patterns it compiles so it is does not have to recompile them when the same search is performed."
   ]
  },
  {
   "cell_type": "markdown",
   "metadata": {},
   "source": [
    "### Software Engineering Note\n",
    "In most cases, optimizing code to make it run faster, makes it harder to read and maintain.  This incurs a software development cost that can be significant over the life cycle of the project.  As Knuth says, \"premature optimization is the root of all evil\".  It is usually best to write clear code.  Later the application can be profiled to see where time is being spent and that section of code can be optimized.  This approach reduces developer cost.\n",
    "\n",
    "An exception to this is optimizing a nested loop from say O(n^2) to say O(nlog(n)) or faster.  Reducing the exponent of an operation that takes exponential time to run, will make a difference to overall application performance if the number of elements being processed is in the thousands or greater.  This is knowable without profiling.\n",
    "\n",
    "In the case of regular expressions, the time being saved is just the compile time of the regular expression when it cannot be found in the cache or the lookup time to find it in the cache.  This is not much time.\n",
    "\n",
    "However in this case, it can be argued that manually compiling the regular expression does not make the code harder to read and maintain. If it's not harder to read and maintain, then you might as well manually compile the regular expression, *outside of all loops*.\n",
    "\n",
    "For this notebook, I will argue that manually compiling the regex is every so slightly harder to read and therefore it is not done to make learning easier."
   ]
  },
  {
   "cell_type": "markdown",
   "metadata": {},
   "source": [
    "## Jupyter HTML Cell Magic\n",
    "\n",
    "The following allows for highlighting the part of the string that is matched."
   ]
  },
  {
   "cell_type": "code",
   "execution_count": 19,
   "metadata": {},
   "outputs": [],
   "source": [
    "from IPython.core.display import display, HTML\n",
    "def highlight(match):\n",
    "    \"\"\"Display the matched part of the string with a different background color.\"\"\"\n",
    "    s = match.string\n",
    "    start = match.start()\n",
    "    end = match.end()\n",
    "    span_start = '<span style=\"background-color:LightSalmon\">'\n",
    "    span_end = '</span>'\n",
    "    html_string = s[:start] + span_start + s[start:end] + span_end + s[end:]\n",
    "    display(HTML(html_string))"
   ]
  },
  {
   "cell_type": "code",
   "execution_count": 20,
   "metadata": {},
   "outputs": [
    {
     "data": {
      "text/html": [
       "Machine learning is a method of data analysis that automates \n",
       "analytical model building. It is a branch of artificial intelligence \n",
       "based on the idea that systems can learn from data, identify patterns \n",
       "and make decisions with <span style=\"background-color:LightSalmon\">minimal</span> human intervention.\n"
      ],
      "text/plain": [
       "<IPython.core.display.HTML object>"
      ]
     },
     "metadata": {},
     "output_type": "display_data"
    }
   ],
   "source": [
    "pattern = \"minimal\"\n",
    "match = re.search(pattern, ml_text)\n",
    "if match:\n",
    "    highlight(match)"
   ]
  },
  {
   "cell_type": "markdown",
   "metadata": {},
   "source": [
    "### re.search() Flags vs Regular Expression Flags\n",
    "\n",
    "It is easier to read and maintain code using arguments to re.search() than to use flags inside the regular expression.\n",
    "\n",
    "In rare situations, you may want the regex flag to be in effect for only part of the pattern.  To do this:\n",
    "1. use the regex module instead of the re module\n",
    "2. specify the flag inside of the regular expression at the location you want it to take effect"
   ]
  },
  {
   "cell_type": "code",
   "execution_count": 21,
   "metadata": {},
   "outputs": [
    {
     "data": {
      "text/html": [
       "<span style=\"background-color:LightSalmon\">Machine</span> learning is a method of data analysis that automates \n",
       "analytical model building. It is a branch of artificial intelligence \n",
       "based on the idea that systems can learn from data, identify patterns \n",
       "and make decisions with minimal human intervention.\n"
      ],
      "text/plain": [
       "<IPython.core.display.HTML object>"
      ]
     },
     "metadata": {},
     "output_type": "display_data"
    }
   ],
   "source": [
    "# using flags to re.search()\n",
    "pattern = \"machine\"\n",
    "match = re.search(pattern, ml_text, flags=re.IGNORECASE)\n",
    "if match:\n",
    "    highlight(match)"
   ]
  },
  {
   "cell_type": "code",
   "execution_count": 23,
   "metadata": {},
   "outputs": [
    {
     "data": {
      "text/html": [
       "<span style=\"background-color:LightSalmon\">Machine</span> learning is a method of data analysis that automates \n",
       "analytical model building. It is a branch of artificial intelligence \n",
       "based on the idea that systems can learn from data, identify patterns \n",
       "and make decisions with minimal human intervention.\n"
      ],
      "text/plain": [
       "<IPython.core.display.HTML object>"
      ]
     },
     "metadata": {},
     "output_type": "display_data"
    }
   ],
   "source": [
    "# same as above, but put the flag inside the regex itself\n",
    "# this is harder to read!\n",
    "pattern = \"(?i)machine\"\n",
    "match = re.search(pattern, ml_text)\n",
    "if match:\n",
    "    highlight(match)"
   ]
  },
  {
   "cell_type": "markdown",
   "metadata": {},
   "source": [
    "### Raw Strings\n",
    "\n",
    "In Python, a raw string is string that is taken literally.\n",
    "\n",
    "This is easiest to understand by example.\n",
    "\n",
    "Usually a regular expression is expressed as a raw string in Python."
   ]
  },
  {
   "cell_type": "code",
   "execution_count": 24,
   "metadata": {},
   "outputs": [
    {
     "name": "stdout",
     "output_type": "stream",
     "text": [
      "a\n",
      "b\n"
     ]
    }
   ],
   "source": [
    "# \\n represents new line\n",
    "s = \"a\\nb\"\n",
    "print(s)"
   ]
  },
  {
   "cell_type": "code",
   "execution_count": 25,
   "metadata": {},
   "outputs": [
    {
     "name": "stdout",
     "output_type": "stream",
     "text": [
      "a\\nb\n"
     ]
    }
   ],
   "source": [
    "# \\n is taken literally as the characters \\ and n\n",
    "s = r\"a\\nb\"\n",
    "print(s)"
   ]
  },
  {
   "cell_type": "markdown",
   "metadata": {},
   "source": [
    "## Quantifiers\n",
    "\n",
    "```\n",
    "* r'ab*'      # a followed by zero or more b's\n",
    "* r'ab+'      # a followed by one or more b's\n",
    "* r'ab?'      # a followed by zero or one b's\n",
    "* r'ab{3}'    # a followed by three b's\n",
    "* r'ab{2,3}'  # a followed by two to three b's\n",
    "* r'ab{2,}'   # a followed by two or more b's\n",
    "```"
   ]
  },
  {
   "cell_type": "code",
   "execution_count": 26,
   "metadata": {},
   "outputs": [
    {
     "data": {
      "text/html": [
       "x<span style=\"background-color:LightSalmon\">a</span>x xabx ab aab"
      ],
      "text/plain": [
       "<IPython.core.display.HTML object>"
      ]
     },
     "metadata": {},
     "output_type": "display_data"
    }
   ],
   "source": [
    "# a followed by 0+ b's\n",
    "match = re.search(r'ab*', 'xax xabx ab aab')\n",
    "if match:\n",
    "    highlight(match)"
   ]
  },
  {
   "cell_type": "code",
   "execution_count": 35,
   "metadata": {},
   "outputs": [
    {
     "data": {
      "text/html": [
       "x<span style=\"background-color:LightSalmon\">a</span>x xabx ab aab"
      ],
      "text/plain": [
       "<IPython.core.display.HTML object>"
      ]
     },
     "metadata": {},
     "output_type": "display_data"
    },
    {
     "data": {
      "text/html": [
       "xax x<span style=\"background-color:LightSalmon\">ab</span>x ab aab"
      ],
      "text/plain": [
       "<IPython.core.display.HTML object>"
      ]
     },
     "metadata": {},
     "output_type": "display_data"
    },
    {
     "data": {
      "text/html": [
       "xax xabx <span style=\"background-color:LightSalmon\">ab</span> aab"
      ],
      "text/plain": [
       "<IPython.core.display.HTML object>"
      ]
     },
     "metadata": {},
     "output_type": "display_data"
    },
    {
     "data": {
      "text/html": [
       "xax xabx ab <span style=\"background-color:LightSalmon\">a</span>ab"
      ],
      "text/plain": [
       "<IPython.core.display.HTML object>"
      ]
     },
     "metadata": {},
     "output_type": "display_data"
    },
    {
     "data": {
      "text/html": [
       "xax xabx ab a<span style=\"background-color:LightSalmon\">ab</span>"
      ],
      "text/plain": [
       "<IPython.core.display.HTML object>"
      ]
     },
     "metadata": {},
     "output_type": "display_data"
    }
   ],
   "source": [
    "# same as above, but find all matches\n",
    "for match in re.finditer(r'ab*', 'xax xabx ab aab'):\n",
    "    highlight(match)"
   ]
  },
  {
   "cell_type": "code",
   "execution_count": 27,
   "metadata": {},
   "outputs": [
    {
     "data": {
      "text/html": [
       "x<span style=\"background-color:LightSalmon\">abb</span>x ab abbb"
      ],
      "text/plain": [
       "<IPython.core.display.HTML object>"
      ]
     },
     "metadata": {},
     "output_type": "display_data"
    }
   ],
   "source": [
    "# a followed by 0+ b's\n",
    "# default is greedy: consume as many b's as possible\n",
    "match = re.search(r'ab*', 'xabbx ab abbb')\n",
    "if match:\n",
    "    highlight(match)"
   ]
  },
  {
   "cell_type": "code",
   "execution_count": 38,
   "metadata": {},
   "outputs": [
    {
     "data": {
      "text/html": [
       "x<span style=\"background-color:LightSalmon\">abb</span>x ab abbb"
      ],
      "text/plain": [
       "<IPython.core.display.HTML object>"
      ]
     },
     "metadata": {},
     "output_type": "display_data"
    },
    {
     "data": {
      "text/html": [
       "xabbx <span style=\"background-color:LightSalmon\">ab</span> abbb"
      ],
      "text/plain": [
       "<IPython.core.display.HTML object>"
      ]
     },
     "metadata": {},
     "output_type": "display_data"
    },
    {
     "data": {
      "text/html": [
       "xabbx ab <span style=\"background-color:LightSalmon\">abbb</span>"
      ],
      "text/plain": [
       "<IPython.core.display.HTML object>"
      ]
     },
     "metadata": {},
     "output_type": "display_data"
    }
   ],
   "source": [
    "# same as above, but find all matches\n",
    "for match in re.finditer(r'ab*', 'xabbx ab abbb'):\n",
    "    if match:\n",
    "        highlight(match)"
   ]
  },
  {
   "cell_type": "markdown",
   "metadata": {},
   "source": [
    "### Next Examples Will Use re.finditer()\n",
    "\n",
    "As seen above, the first match with re.finditer() is the same as using re.search().  \n",
    "Subsequent matches are only available to re.finditer()"
   ]
  },
  {
   "cell_type": "code",
   "execution_count": 41,
   "metadata": {},
   "outputs": [
    {
     "data": {
      "text/html": [
       "x<span style=\"background-color:LightSalmon\">a</span>bbx ab abbb"
      ],
      "text/plain": [
       "<IPython.core.display.HTML object>"
      ]
     },
     "metadata": {},
     "output_type": "display_data"
    },
    {
     "data": {
      "text/html": [
       "xabbx <span style=\"background-color:LightSalmon\">a</span>b abbb"
      ],
      "text/plain": [
       "<IPython.core.display.HTML object>"
      ]
     },
     "metadata": {},
     "output_type": "display_data"
    },
    {
     "data": {
      "text/html": [
       "xabbx ab <span style=\"background-color:LightSalmon\">a</span>bbb"
      ],
      "text/plain": [
       "<IPython.core.display.HTML object>"
      ]
     },
     "metadata": {},
     "output_type": "display_data"
    }
   ],
   "source": [
    "# specify minimal match by placing '?' after quantifier\n",
    "for match in re.finditer(r'ab*?', 'xabbx ab abbb'):\n",
    "    if match:\n",
    "        highlight(match)"
   ]
  },
  {
   "cell_type": "code",
   "execution_count": 42,
   "metadata": {},
   "outputs": [
    {
     "data": {
      "text/html": [
       "x<span style=\"background-color:LightSalmon\">a</span>bbx ab abbb"
      ],
      "text/plain": [
       "<IPython.core.display.HTML object>"
      ]
     },
     "metadata": {},
     "output_type": "display_data"
    },
    {
     "data": {
      "text/html": [
       "xabbx <span style=\"background-color:LightSalmon\">a</span>b abbb"
      ],
      "text/plain": [
       "<IPython.core.display.HTML object>"
      ]
     },
     "metadata": {},
     "output_type": "display_data"
    },
    {
     "data": {
      "text/html": [
       "xabbx ab <span style=\"background-color:LightSalmon\">a</span>bbb"
      ],
      "text/plain": [
       "<IPython.core.display.HTML object>"
      ]
     },
     "metadata": {},
     "output_type": "display_data"
    }
   ],
   "source": [
    "# same as above but clearer\n",
    "# minimal match of 0 or more b's is 0, so no need to have b at all\n",
    "for match in re.finditer(r'a', 'xabbx ab abbb'):\n",
    "    if match:\n",
    "        highlight(match)"
   ]
  },
  {
   "cell_type": "code",
   "execution_count": 43,
   "metadata": {},
   "outputs": [
    {
     "data": {
      "text/html": [
       "x<span style=\"background-color:LightSalmon\">abb</span>x ab abbb"
      ],
      "text/plain": [
       "<IPython.core.display.HTML object>"
      ]
     },
     "metadata": {},
     "output_type": "display_data"
    },
    {
     "data": {
      "text/html": [
       "xabbx <span style=\"background-color:LightSalmon\">ab</span> abbb"
      ],
      "text/plain": [
       "<IPython.core.display.HTML object>"
      ]
     },
     "metadata": {},
     "output_type": "display_data"
    },
    {
     "data": {
      "text/html": [
       "xabbx ab <span style=\"background-color:LightSalmon\">abbb</span>"
      ],
      "text/plain": [
       "<IPython.core.display.HTML object>"
      ]
     },
     "metadata": {},
     "output_type": "display_data"
    }
   ],
   "source": [
    "# a followed by 1+ b's\n",
    "for match in re.finditer(r'ab+', 'xabbx ab abbb'):\n",
    "    if match:\n",
    "        highlight(match)"
   ]
  },
  {
   "cell_type": "code",
   "execution_count": 44,
   "metadata": {},
   "outputs": [
    {
     "data": {
      "text/html": [
       "x<span style=\"background-color:LightSalmon\">ab</span>bx ab abbb"
      ],
      "text/plain": [
       "<IPython.core.display.HTML object>"
      ]
     },
     "metadata": {},
     "output_type": "display_data"
    },
    {
     "data": {
      "text/html": [
       "xabbx <span style=\"background-color:LightSalmon\">ab</span> abbb"
      ],
      "text/plain": [
       "<IPython.core.display.HTML object>"
      ]
     },
     "metadata": {},
     "output_type": "display_data"
    },
    {
     "data": {
      "text/html": [
       "xabbx ab <span style=\"background-color:LightSalmon\">ab</span>bb"
      ],
      "text/plain": [
       "<IPython.core.display.HTML object>"
      ]
     },
     "metadata": {},
     "output_type": "display_data"
    }
   ],
   "source": [
    "# a followed by 1+ b's, minimal match\n",
    "for match in re.finditer(r'ab+?', 'xabbx ab abbb'):\n",
    "    if match:\n",
    "        highlight(match)"
   ]
  },
  {
   "cell_type": "code",
   "execution_count": 45,
   "metadata": {},
   "outputs": [
    {
     "data": {
      "text/html": [
       "x<span style=\"background-color:LightSalmon\">ab</span>bx ab abbb"
      ],
      "text/plain": [
       "<IPython.core.display.HTML object>"
      ]
     },
     "metadata": {},
     "output_type": "display_data"
    },
    {
     "data": {
      "text/html": [
       "xabbx <span style=\"background-color:LightSalmon\">ab</span> abbb"
      ],
      "text/plain": [
       "<IPython.core.display.HTML object>"
      ]
     },
     "metadata": {},
     "output_type": "display_data"
    },
    {
     "data": {
      "text/html": [
       "xabbx ab <span style=\"background-color:LightSalmon\">ab</span>bb"
      ],
      "text/plain": [
       "<IPython.core.display.HTML object>"
      ]
     },
     "metadata": {},
     "output_type": "display_data"
    }
   ],
   "source": [
    "# same as above, but clearer\n",
    "# minimal match of 1 or more b's is 1, so just use 1 b\n",
    "for match in re.finditer(r'ab', 'xabbx ab abbb'):\n",
    "    if match:\n",
    "        highlight(match)"
   ]
  },
  {
   "cell_type": "code",
   "execution_count": 47,
   "metadata": {},
   "outputs": [
    {
     "data": {
      "text/html": [
       "a ab abb <span style=\"background-color:LightSalmon\">abbb</span>b abbb"
      ],
      "text/plain": [
       "<IPython.core.display.HTML object>"
      ]
     },
     "metadata": {},
     "output_type": "display_data"
    },
    {
     "data": {
      "text/html": [
       "a ab abb abbbb <span style=\"background-color:LightSalmon\">abbb</span>"
      ],
      "text/plain": [
       "<IPython.core.display.HTML object>"
      ]
     },
     "metadata": {},
     "output_type": "display_data"
    }
   ],
   "source": [
    "# a followed by 3 b's\n",
    "for match in re.finditer(r'ab{3}', 'a ab abb abbbb abbb'):\n",
    "    if match:\n",
    "        highlight(match)"
   ]
  },
  {
   "cell_type": "code",
   "execution_count": 49,
   "metadata": {},
   "outputs": [
    {
     "data": {
      "text/html": [
       "a ab abb <span style=\"background-color:LightSalmon\">abbbbbb</span> abbb"
      ],
      "text/plain": [
       "<IPython.core.display.HTML object>"
      ]
     },
     "metadata": {},
     "output_type": "display_data"
    },
    {
     "data": {
      "text/html": [
       "a ab abb abbbbbb <span style=\"background-color:LightSalmon\">abbb</span>"
      ],
      "text/plain": [
       "<IPython.core.display.HTML object>"
      ]
     },
     "metadata": {},
     "output_type": "display_data"
    }
   ],
   "source": [
    "# a followed by 3 or more b's\n",
    "for match in re.finditer(r'ab{3,}', 'a ab abb abbbbbb abbb'):\n",
    "    if match:\n",
    "        highlight(match)"
   ]
  },
  {
   "cell_type": "markdown",
   "metadata": {},
   "source": [
    "## Anchors (aka Assertions)"
   ]
  },
  {
   "cell_type": "code",
   "execution_count": 50,
   "metadata": {},
   "outputs": [
    {
     "data": {
      "text/html": [
       "xabbx xabb abbx ab abbbbb <span style=\"background-color:LightSalmon\">abb</span> abbbb abbb"
      ],
      "text/plain": [
       "<IPython.core.display.HTML object>"
      ]
     },
     "metadata": {},
     "output_type": "display_data"
    }
   ],
   "source": [
    "# a followed by 2 b's AND\n",
    "# assert preceeding character is non-word and following character is non-word\n",
    "for match in re.finditer(r'\\bab{2}\\b', 'xabbx xabb abbx ab abbbbb abb abbbb abbb'):\n",
    "    if match:\n",
    "        highlight(match)"
   ]
  },
  {
   "cell_type": "code",
   "execution_count": 51,
   "metadata": {},
   "outputs": [
    {
     "data": {
      "text/html": [
       "xabbx xabb abbx ab abbbbb<span style=\"background-color:LightSalmon\"> abb </span>abbbb abbb"
      ],
      "text/plain": [
       "<IPython.core.display.HTML object>"
      ]
     },
     "metadata": {},
     "output_type": "display_data"
    }
   ],
   "source": [
    "# space followed by a followed by 2 b's followed by space\n",
    "# Note: this match includes the spaces on either side of abb\n",
    "for match in re.finditer(r' ab{2} ', 'xabbx xabb abbx ab abbbbb abb abbbb abbb'):\n",
    "    if match:\n",
    "        highlight(match)"
   ]
  },
  {
   "cell_type": "code",
   "execution_count": 52,
   "metadata": {},
   "outputs": [
    {
     "data": {
      "text/html": [
       "a x<span style=\"background-color:LightSalmon\">ba</span>x baab abb abbbb abbb"
      ],
      "text/plain": [
       "<IPython.core.display.HTML object>"
      ]
     },
     "metadata": {},
     "output_type": "display_data"
    },
    {
     "data": {
      "text/html": [
       "a xbax <span style=\"background-color:LightSalmon\">baab</span> abb abbbb abbb"
      ],
      "text/plain": [
       "<IPython.core.display.HTML object>"
      ]
     },
     "metadata": {},
     "output_type": "display_data"
    },
    {
     "data": {
      "text/html": [
       "a xbax baab <span style=\"background-color:LightSalmon\">abb</span> abbbb abbb"
      ],
      "text/plain": [
       "<IPython.core.display.HTML object>"
      ]
     },
     "metadata": {},
     "output_type": "display_data"
    },
    {
     "data": {
      "text/html": [
       "a xbax baab abb <span style=\"background-color:LightSalmon\">abbbb</span> abbb"
      ],
      "text/plain": [
       "<IPython.core.display.HTML object>"
      ]
     },
     "metadata": {},
     "output_type": "display_data"
    },
    {
     "data": {
      "text/html": [
       "a xbax baab abb abbbb <span style=\"background-color:LightSalmon\">abbb</span>"
      ],
      "text/plain": [
       "<IPython.core.display.HTML object>"
      ]
     },
     "metadata": {},
     "output_type": "display_data"
    }
   ],
   "source": [
    "# a or b 2 or more times\n",
    "for match in re.finditer(r'[a|b]{2,}', 'a xbax baab abb abbbb abbb'):\n",
    "    if match:\n",
    "        highlight(match)"
   ]
  },
  {
   "cell_type": "code",
   "execution_count": 54,
   "metadata": {},
   "outputs": [
    {
     "data": {
      "text/html": [
       "a ba baab xy<span style=\"background-color:LightSalmon\">ababab</span>z abbbb xababz"
      ],
      "text/plain": [
       "<IPython.core.display.HTML object>"
      ]
     },
     "metadata": {},
     "output_type": "display_data"
    },
    {
     "data": {
      "text/html": [
       "a ba baab xyabababz abbbb x<span style=\"background-color:LightSalmon\">abab</span>z"
      ],
      "text/plain": [
       "<IPython.core.display.HTML object>"
      ]
     },
     "metadata": {},
     "output_type": "display_data"
    }
   ],
   "source": [
    "# ab 2 or more times\n",
    "for match in re.finditer(r'(ab){2,}', 'a ba baab xyabababz abbbb xababz'):\n",
    "    if match:\n",
    "        highlight(match)"
   ]
  },
  {
   "cell_type": "code",
   "execution_count": 56,
   "metadata": {},
   "outputs": [
    {
     "data": {
      "text/html": [
       "a ba <span style=\"background-color:LightSalmon\">abab</span> baab ab xyabababz ababab xababz"
      ],
      "text/plain": [
       "<IPython.core.display.HTML object>"
      ]
     },
     "metadata": {},
     "output_type": "display_data"
    },
    {
     "data": {
      "text/html": [
       "a ba abab baab ab xyabababz <span style=\"background-color:LightSalmon\">ababab</span> xababz"
      ],
      "text/plain": [
       "<IPython.core.display.HTML object>"
      ]
     },
     "metadata": {},
     "output_type": "display_data"
    }
   ],
   "source": [
    "# ab 2 or more times with non-word boundaries\n",
    "for match in re.finditer(r'\\b(ab){2,}\\b', 'a ba abab baab ab xyabababz ababab xababz'):\n",
    "    if match:\n",
    "        highlight(match)"
   ]
  },
  {
   "cell_type": "markdown",
   "metadata": {},
   "source": [
    "## Match any characters except ..."
   ]
  },
  {
   "cell_type": "code",
   "execution_count": 57,
   "metadata": {},
   "outputs": [
    {
     "data": {
      "text/html": [
       "!<span style=\"background-color:LightSalmon\">Hello World</span>!"
      ],
      "text/plain": [
       "<IPython.core.display.HTML object>"
      ]
     },
     "metadata": {},
     "output_type": "display_data"
    }
   ],
   "source": [
    "# match any character except '!' 1 or more times\n",
    "match = re.search(r'[^!]+', '!Hello World!')\n",
    "if match:\n",
    "    highlight(match)"
   ]
  },
  {
   "cell_type": "code",
   "execution_count": 58,
   "metadata": {},
   "outputs": [
    {
     "data": {
      "text/html": [
       "!<span style=\"background-color:LightSalmon\">H</span>ello World!"
      ],
      "text/plain": [
       "<IPython.core.display.HTML object>"
      ]
     },
     "metadata": {},
     "output_type": "display_data"
    }
   ],
   "source": [
    "# match any character except '!' 1 or more times, minimal match\n",
    "match = re.search(r'[^!]+?', '!Hello World!')\n",
    "if match:\n",
    "    highlight(match)"
   ]
  },
  {
   "cell_type": "markdown",
   "metadata": {},
   "source": [
    "## Character Ranges"
   ]
  },
  {
   "cell_type": "code",
   "execution_count": 60,
   "metadata": {},
   "outputs": [
    {
     "data": {
      "text/html": [
       "H<span style=\"background-color:LightSalmon\">ello</span> World!"
      ],
      "text/plain": [
       "<IPython.core.display.HTML object>"
      ]
     },
     "metadata": {},
     "output_type": "display_data"
    },
    {
     "data": {
      "text/html": [
       "Hello W<span style=\"background-color:LightSalmon\">orld</span>!"
      ],
      "text/plain": [
       "<IPython.core.display.HTML object>"
      ]
     },
     "metadata": {},
     "output_type": "display_data"
    }
   ],
   "source": [
    "# match any lowercase character 1 or more times\n",
    "for match in re.finditer(r'[a-z]+', 'Hello World!'):\n",
    "    if match:\n",
    "        highlight(match)"
   ]
  },
  {
   "cell_type": "code",
   "execution_count": 61,
   "metadata": {},
   "outputs": [
    {
     "data": {
      "text/html": [
       "<span style=\"background-color:LightSalmon\">H</span>ello World!"
      ],
      "text/plain": [
       "<IPython.core.display.HTML object>"
      ]
     },
     "metadata": {},
     "output_type": "display_data"
    },
    {
     "data": {
      "text/html": [
       "Hello <span style=\"background-color:LightSalmon\">W</span>orld!"
      ],
      "text/plain": [
       "<IPython.core.display.HTML object>"
      ]
     },
     "metadata": {},
     "output_type": "display_data"
    }
   ],
   "source": [
    "# match any uppercase character 1 or more times\n",
    "for match in re.finditer(r'[A-Z]+', 'Hello World!'):\n",
    "    if match:\n",
    "        highlight(match)"
   ]
  },
  {
   "cell_type": "markdown",
   "metadata": {},
   "source": [
    "## Sequences"
   ]
  },
  {
   "cell_type": "code",
   "execution_count": 62,
   "metadata": {},
   "outputs": [
    {
     "data": {
      "text/html": [
       "<span style=\"background-color:LightSalmon\">Hello</span> World!"
      ],
      "text/plain": [
       "<IPython.core.display.HTML object>"
      ]
     },
     "metadata": {},
     "output_type": "display_data"
    },
    {
     "data": {
      "text/html": [
       "Hello <span style=\"background-color:LightSalmon\">World</span>!"
      ],
      "text/plain": [
       "<IPython.core.display.HTML object>"
      ]
     },
     "metadata": {},
     "output_type": "display_data"
    }
   ],
   "source": [
    "# \\w is shorthand for: [a-zA-Z0-9_]\n",
    "# match any word character 1 or more times\n",
    "for match in re.finditer(r'\\w+', 'Hello World!'):\n",
    "    if match:\n",
    "        highlight(match)"
   ]
  },
  {
   "cell_type": "code",
   "execution_count": 63,
   "metadata": {},
   "outputs": [
    {
     "data": {
      "text/html": [
       "Hello <span style=\"background-color:LightSalmon\">123</span> World!"
      ],
      "text/plain": [
       "<IPython.core.display.HTML object>"
      ]
     },
     "metadata": {},
     "output_type": "display_data"
    }
   ],
   "source": [
    "# \\d is shordhand for: [0-9]\n",
    "# match any sequence of digits 1 or more times\n",
    "match = re.search(r'\\d+', 'Hello 123 World!')\n",
    "if match:\n",
    "    highlight(match)"
   ]
  },
  {
   "cell_type": "code",
   "execution_count": 64,
   "metadata": {},
   "outputs": [
    {
     "data": {
      "text/html": [
       "<span style=\"background-color:LightSalmon\">Hello </span>123 World!"
      ],
      "text/plain": [
       "<IPython.core.display.HTML object>"
      ]
     },
     "metadata": {},
     "output_type": "display_data"
    },
    {
     "data": {
      "text/html": [
       "Hello 123<span style=\"background-color:LightSalmon\"> World!</span>"
      ],
      "text/plain": [
       "<IPython.core.display.HTML object>"
      ]
     },
     "metadata": {},
     "output_type": "display_data"
    }
   ],
   "source": [
    "# \\D is shordhand for: [^0-9]\n",
    "# match any sequence of nondigits 1 or more times\n",
    "for match in re.finditer(r'\\D+', 'Hello 123 World!'):\n",
    "    if match:\n",
    "        highlight(match)"
   ]
  },
  {
   "cell_type": "code",
   "execution_count": 66,
   "metadata": {},
   "outputs": [
    {
     "data": {
      "text/html": [
       "<span style=\"background-color:LightSalmon\">This!</span> is a string 1 2 345"
      ],
      "text/plain": [
       "<IPython.core.display.HTML object>"
      ]
     },
     "metadata": {},
     "output_type": "display_data"
    },
    {
     "data": {
      "text/html": [
       "This! <span style=\"background-color:LightSalmon\">is</span> a string 1 2 345"
      ],
      "text/plain": [
       "<IPython.core.display.HTML object>"
      ]
     },
     "metadata": {},
     "output_type": "display_data"
    },
    {
     "data": {
      "text/html": [
       "This! is <span style=\"background-color:LightSalmon\">a</span> string 1 2 345"
      ],
      "text/plain": [
       "<IPython.core.display.HTML object>"
      ]
     },
     "metadata": {},
     "output_type": "display_data"
    },
    {
     "data": {
      "text/html": [
       "This! is a <span style=\"background-color:LightSalmon\">string</span> 1 2 345"
      ],
      "text/plain": [
       "<IPython.core.display.HTML object>"
      ]
     },
     "metadata": {},
     "output_type": "display_data"
    },
    {
     "data": {
      "text/html": [
       "This! is a string <span style=\"background-color:LightSalmon\">1</span> 2 345"
      ],
      "text/plain": [
       "<IPython.core.display.HTML object>"
      ]
     },
     "metadata": {},
     "output_type": "display_data"
    },
    {
     "data": {
      "text/html": [
       "This! is a string 1 <span style=\"background-color:LightSalmon\">2</span> 345"
      ],
      "text/plain": [
       "<IPython.core.display.HTML object>"
      ]
     },
     "metadata": {},
     "output_type": "display_data"
    },
    {
     "data": {
      "text/html": [
       "This! is a string 1 2 <span style=\"background-color:LightSalmon\">345</span>"
      ],
      "text/plain": [
       "<IPython.core.display.HTML object>"
      ]
     },
     "metadata": {},
     "output_type": "display_data"
    }
   ],
   "source": [
    "# Match 1+ non-space characters\n",
    "for match in re.finditer(r'\\S+', 'This! is a string 1 2 345'):\n",
    "    if match:                \n",
    "        highlight(match)"
   ]
  },
  {
   "cell_type": "code",
   "execution_count": 69,
   "metadata": {},
   "outputs": [
    {
     "data": {
      "text/html": [
       "This! <span style=\"background-color:LightSalmon\">is </span>a string 1 2 345"
      ],
      "text/plain": [
       "<IPython.core.display.HTML object>"
      ]
     },
     "metadata": {},
     "output_type": "display_data"
    },
    {
     "data": {
      "text/html": [
       "This! is <span style=\"background-color:LightSalmon\">a </span>string 1 2 345"
      ],
      "text/plain": [
       "<IPython.core.display.HTML object>"
      ]
     },
     "metadata": {},
     "output_type": "display_data"
    },
    {
     "data": {
      "text/html": [
       "This! is a <span style=\"background-color:LightSalmon\">string </span>1 2 345"
      ],
      "text/plain": [
       "<IPython.core.display.HTML object>"
      ]
     },
     "metadata": {},
     "output_type": "display_data"
    },
    {
     "data": {
      "text/html": [
       "This! is a string <span style=\"background-color:LightSalmon\">1 </span>2 345"
      ],
      "text/plain": [
       "<IPython.core.display.HTML object>"
      ]
     },
     "metadata": {},
     "output_type": "display_data"
    },
    {
     "data": {
      "text/html": [
       "This! is a string 1 <span style=\"background-color:LightSalmon\">2 </span>345"
      ],
      "text/plain": [
       "<IPython.core.display.HTML object>"
      ]
     },
     "metadata": {},
     "output_type": "display_data"
    }
   ],
   "source": [
    "# Match 1+ word characters followed by a space character\n",
    "pattern = r'\\w+ '\n",
    "for match in re.finditer(r'\\w+ ', 'This! is a string 1 2 345'):\n",
    "    if match:\n",
    "        highlight(match)"
   ]
  },
  {
   "cell_type": "code",
   "execution_count": 70,
   "metadata": {},
   "outputs": [
    {
     "data": {
      "text/html": [
       "<span style=\"background-color:LightSalmon\">This</span>! is a string 1 2 345"
      ],
      "text/plain": [
       "<IPython.core.display.HTML object>"
      ]
     },
     "metadata": {},
     "output_type": "display_data"
    },
    {
     "data": {
      "text/html": [
       "This! <span style=\"background-color:LightSalmon\">is</span> a string 1 2 345"
      ],
      "text/plain": [
       "<IPython.core.display.HTML object>"
      ]
     },
     "metadata": {},
     "output_type": "display_data"
    },
    {
     "data": {
      "text/html": [
       "This! is <span style=\"background-color:LightSalmon\">a</span> string 1 2 345"
      ],
      "text/plain": [
       "<IPython.core.display.HTML object>"
      ]
     },
     "metadata": {},
     "output_type": "display_data"
    },
    {
     "data": {
      "text/html": [
       "This! is a <span style=\"background-color:LightSalmon\">string</span> 1 2 345"
      ],
      "text/plain": [
       "<IPython.core.display.HTML object>"
      ]
     },
     "metadata": {},
     "output_type": "display_data"
    },
    {
     "data": {
      "text/html": [
       "This! is a string <span style=\"background-color:LightSalmon\">1</span> 2 345"
      ],
      "text/plain": [
       "<IPython.core.display.HTML object>"
      ]
     },
     "metadata": {},
     "output_type": "display_data"
    },
    {
     "data": {
      "text/html": [
       "This! is a string 1 <span style=\"background-color:LightSalmon\">2</span> 345"
      ],
      "text/plain": [
       "<IPython.core.display.HTML object>"
      ]
     },
     "metadata": {},
     "output_type": "display_data"
    },
    {
     "data": {
      "text/html": [
       "This! is a string 1 2 <span style=\"background-color:LightSalmon\">345</span>"
      ],
      "text/plain": [
       "<IPython.core.display.HTML object>"
      ]
     },
     "metadata": {},
     "output_type": "display_data"
    }
   ],
   "source": [
    "# Match 1+ word characters and\n",
    "# assert next position is non-word character\n",
    "pattern = r'\\w+ '\n",
    "for match in re.finditer(r'\\w+\\b', 'This! is a string 1 2 345'):\n",
    "    if match:\n",
    "        highlight(match)"
   ]
  },
  {
   "cell_type": "code",
   "execution_count": 75,
   "metadata": {},
   "outputs": [
    {
     "data": {
      "text/html": [
       "<span style=\"background-color:LightSalmon\">This! is a string 1 2 345</span>"
      ],
      "text/plain": [
       "<IPython.core.display.HTML object>"
      ]
     },
     "metadata": {},
     "output_type": "display_data"
    }
   ],
   "source": [
    "# match any character any number of times, greedily, then match a digit\n",
    "match = re.search(r'.*\\d', 'This! is a string 1 2 345')\n",
    "if match:\n",
    "    highlight(match)"
   ]
  },
  {
   "cell_type": "code",
   "execution_count": 77,
   "metadata": {},
   "outputs": [
    {
     "data": {
      "text/html": [
       "<span style=\"background-color:LightSalmon\">This! is a string 1</span> 2 345"
      ],
      "text/plain": [
       "<IPython.core.display.HTML object>"
      ]
     },
     "metadata": {},
     "output_type": "display_data"
    }
   ],
   "source": [
    "# match any character any number of times, minimually, then match a digit\n",
    "match = re.search(r'.*?\\d', 'This! is a string 1 2 345')\n",
    "if match:\n",
    "    highlight(match)"
   ]
  },
  {
   "cell_type": "code",
   "execution_count": 87,
   "metadata": {},
   "outputs": [
    {
     "data": {
      "text/html": [
       "This<span style=\"background-color:LightSalmon\">! </span>is a string 1 2 345"
      ],
      "text/plain": [
       "<IPython.core.display.HTML object>"
      ]
     },
     "metadata": {},
     "output_type": "display_data"
    },
    {
     "data": {
      "text/html": [
       "This! is<span style=\"background-color:LightSalmon\"> </span>a string 1 2 345"
      ],
      "text/plain": [
       "<IPython.core.display.HTML object>"
      ]
     },
     "metadata": {},
     "output_type": "display_data"
    },
    {
     "data": {
      "text/html": [
       "This! is a<span style=\"background-color:LightSalmon\"> </span>string 1 2 345"
      ],
      "text/plain": [
       "<IPython.core.display.HTML object>"
      ]
     },
     "metadata": {},
     "output_type": "display_data"
    },
    {
     "data": {
      "text/html": [
       "This! is a string<span style=\"background-color:LightSalmon\"> </span>1 2 345"
      ],
      "text/plain": [
       "<IPython.core.display.HTML object>"
      ]
     },
     "metadata": {},
     "output_type": "display_data"
    },
    {
     "data": {
      "text/html": [
       "This! is a string 1<span style=\"background-color:LightSalmon\"> </span>2 345"
      ],
      "text/plain": [
       "<IPython.core.display.HTML object>"
      ]
     },
     "metadata": {},
     "output_type": "display_data"
    },
    {
     "data": {
      "text/html": [
       "This! is a string 1 2<span style=\"background-color:LightSalmon\"> </span>345"
      ],
      "text/plain": [
       "<IPython.core.display.HTML object>"
      ]
     },
     "metadata": {},
     "output_type": "display_data"
    }
   ],
   "source": [
    "# match any non-word character one or more times\n",
    "for match in re.finditer(r'\\W+', 'This! is a string 1 2 345'):\n",
    "    if match:\n",
    "        highlight(match)"
   ]
  },
  {
   "cell_type": "markdown",
   "metadata": {},
   "source": [
    "### RegEx Processing\n",
    "\n",
    "At each position in the string, the regex is tried.  If it does not match, the next position in the string is tried.\n",
    "\n",
    "The first match is always returned."
   ]
  },
  {
   "cell_type": "code",
   "execution_count": 88,
   "metadata": {},
   "outputs": [
    {
     "data": {
      "text/html": [
       "An <span style=\"background-color:LightSalmon\">ant</span>eater encountered an ant on an antelope"
      ],
      "text/plain": [
       "<IPython.core.display.HTML object>"
      ]
     },
     "metadata": {},
     "output_type": "display_data"
    },
    {
     "data": {
      "text/html": [
       "An <span style=\"background-color:LightSalmon\">anteater</span> encountered an ant on an antelope"
      ],
      "text/plain": [
       "<IPython.core.display.HTML object>"
      ]
     },
     "metadata": {},
     "output_type": "display_data"
    },
    {
     "data": {
      "text/html": [
       "An <span style=\"background-color:LightSalmon\">anteater</span> encountered an ant on an antelope"
      ],
      "text/plain": [
       "<IPython.core.display.HTML object>"
      ]
     },
     "metadata": {},
     "output_type": "display_data"
    }
   ],
   "source": [
    "# try each alternative at each position in the string\n",
    "s = 'An anteater encountered an ant on an antelope'\n",
    "\n",
    "pattern = r'ant|antelope|anteater'\n",
    "match = re.search(pattern, s)\n",
    "if match:\n",
    "    highlight(match)\n",
    "    \n",
    "pattern = r'anteater|antelope|ant'\n",
    "match = re.search(pattern, s)\n",
    "if match:\n",
    "    highlight(match)\n",
    "    \n",
    "pattern = r'antelope|anteater|ant'\n",
    "match = re.search(pattern, s)\n",
    "if match:\n",
    "    highlight(match)    "
   ]
  },
  {
   "cell_type": "code",
   "execution_count": 94,
   "metadata": {},
   "outputs": [
    {
     "data": {
      "text/html": [
       "An <span style=\"background-color:LightSalmon\">ant</span>eater encountered an ant on an antelope"
      ],
      "text/plain": [
       "<IPython.core.display.HTML object>"
      ]
     },
     "metadata": {},
     "output_type": "display_data"
    },
    {
     "data": {
      "text/html": [
       "An anteater encountered an <span style=\"background-color:LightSalmon\">ant</span> on an antelope"
      ],
      "text/plain": [
       "<IPython.core.display.HTML object>"
      ]
     },
     "metadata": {},
     "output_type": "display_data"
    },
    {
     "data": {
      "text/html": [
       "An anteater encountered an ant on an <span style=\"background-color:LightSalmon\">ant</span>elope"
      ],
      "text/plain": [
       "<IPython.core.display.HTML object>"
      ]
     },
     "metadata": {},
     "output_type": "display_data"
    }
   ],
   "source": [
    "# try each alternative at each position in the string\n",
    "# find all matches\n",
    "s = 'An anteater encountered an ant on an antelope'\n",
    "\n",
    "pattern = r'ant|antelope|anteater'\n",
    "for match in re.finditer(pattern, s):\n",
    "    if match:\n",
    "        highlight(match) "
   ]
  },
  {
   "cell_type": "code",
   "execution_count": 95,
   "metadata": {},
   "outputs": [
    {
     "data": {
      "text/html": [
       "An <span style=\"background-color:LightSalmon\">ant</span>eater encountered an ant on an antelope"
      ],
      "text/plain": [
       "<IPython.core.display.HTML object>"
      ]
     },
     "metadata": {},
     "output_type": "display_data"
    },
    {
     "data": {
      "text/html": [
       "An anteater encountered an <span style=\"background-color:LightSalmon\">ant</span> on an antelope"
      ],
      "text/plain": [
       "<IPython.core.display.HTML object>"
      ]
     },
     "metadata": {},
     "output_type": "display_data"
    },
    {
     "data": {
      "text/html": [
       "An anteater encountered an ant on an <span style=\"background-color:LightSalmon\">antelope</span>"
      ],
      "text/plain": [
       "<IPython.core.display.HTML object>"
      ]
     },
     "metadata": {},
     "output_type": "display_data"
    }
   ],
   "source": [
    "# try each alternative at each position in the string\n",
    "# find all matches\n",
    "s = 'An anteater encountered an ant on an antelope'\n",
    "\n",
    "pattern = r'antelope|ant|anteater'\n",
    "for match in re.finditer(pattern, s):\n",
    "    if match:\n",
    "        highlight(match) "
   ]
  },
  {
   "cell_type": "code",
   "execution_count": 96,
   "metadata": {},
   "outputs": [
    {
     "data": {
      "text/html": [
       "An <span style=\"background-color:LightSalmon\">anteater</span> encountered an ant on an antelope"
      ],
      "text/plain": [
       "<IPython.core.display.HTML object>"
      ]
     },
     "metadata": {},
     "output_type": "display_data"
    },
    {
     "data": {
      "text/html": [
       "An anteater encountered an <span style=\"background-color:LightSalmon\">ant</span> on an antelope"
      ],
      "text/plain": [
       "<IPython.core.display.HTML object>"
      ]
     },
     "metadata": {},
     "output_type": "display_data"
    },
    {
     "data": {
      "text/html": [
       "An anteater encountered an ant on an <span style=\"background-color:LightSalmon\">antelope</span>"
      ],
      "text/plain": [
       "<IPython.core.display.HTML object>"
      ]
     },
     "metadata": {},
     "output_type": "display_data"
    }
   ],
   "source": [
    "# try each alternative at each position in the string\n",
    "# find all matches\n",
    "s = 'An anteater encountered an ant on an antelope'\n",
    "\n",
    "pattern = r'antelope|anteater|ant'\n",
    "for match in re.finditer(pattern, s):\n",
    "    if match:\n",
    "        highlight(match) "
   ]
  },
  {
   "cell_type": "markdown",
   "metadata": {},
   "source": [
    "## Match RegEx Metacharacters"
   ]
  },
  {
   "cell_type": "code",
   "execution_count": 97,
   "metadata": {},
   "outputs": [
    {
     "data": {
      "text/html": [
       "The 22nd item costs <span style=\"background-color:LightSalmon\">$999</span> or more"
      ],
      "text/plain": [
       "<IPython.core.display.HTML object>"
      ]
     },
     "metadata": {},
     "output_type": "display_data"
    }
   ],
   "source": [
    "# Normally * and $ are special characters in a regex\n",
    "# if you want to search for them, they need to be escaped\n",
    "s = 'The 22nd item costs $999 or more'\n",
    "pattern = r'\\$\\d+'\n",
    "\n",
    "match = re.search(pattern, s)\n",
    "if match:\n",
    "    highlight(match)     "
   ]
  },
  {
   "cell_type": "code",
   "execution_count": 98,
   "metadata": {},
   "outputs": [],
   "source": [
    "# $ as a metacharacter means match end of string\n",
    "s = 'The 22nd item costs $999 or more'\n",
    "pattern = r'\\d+$'\n",
    "\n",
    "# no match\n",
    "match = re.search(pattern, s)\n",
    "if match:\n",
    "    highlight(match)"
   ]
  },
  {
   "cell_type": "code",
   "execution_count": 99,
   "metadata": {},
   "outputs": [
    {
     "data": {
      "text/html": [
       "The 22nd item costs $<span style=\"background-color:LightSalmon\">999</span>"
      ],
      "text/plain": [
       "<IPython.core.display.HTML object>"
      ]
     },
     "metadata": {},
     "output_type": "display_data"
    }
   ],
   "source": [
    "# $ as a metacharacter means match end of string\n",
    "s = 'The 22nd item costs $999'\n",
    "pattern = r'\\d+$'\n",
    "\n",
    "match = re.search(pattern, s)\n",
    "if match:\n",
    "    highlight(match)"
   ]
  },
  {
   "cell_type": "code",
   "execution_count": 103,
   "metadata": {},
   "outputs": [
    {
     "data": {
      "text/html": [
       "<span style=\"background-color:LightSalmon\">A123</span> BC3456 78 D7"
      ],
      "text/plain": [
       "<IPython.core.display.HTML object>"
      ]
     },
     "metadata": {},
     "output_type": "display_data"
    },
    {
     "data": {
      "text/html": [
       "A123 <span style=\"background-color:LightSalmon\">BC3456</span> 78 D7"
      ],
      "text/plain": [
       "<IPython.core.display.HTML object>"
      ]
     },
     "metadata": {},
     "output_type": "display_data"
    }
   ],
   "source": [
    "# backtracking\n",
    "# 1 or more alphanumeric characters, greedy, ending in 2 digits\n",
    "for match in re.finditer(r'\\w+\\d\\d', 'A123 BC3456 78 D7'):\n",
    "    if match:\n",
    "        highlight(match)"
   ]
  },
  {
   "cell_type": "code",
   "execution_count": 107,
   "metadata": {},
   "outputs": [
    {
     "data": {
      "text/html": [
       "<span style=\"background-color:LightSalmon\">A12</span>3 BC3456 78 D7"
      ],
      "text/plain": [
       "<IPython.core.display.HTML object>"
      ]
     },
     "metadata": {},
     "output_type": "display_data"
    },
    {
     "data": {
      "text/html": [
       "A123 <span style=\"background-color:LightSalmon\">BC34</span>56 78 D7"
      ],
      "text/plain": [
       "<IPython.core.display.HTML object>"
      ]
     },
     "metadata": {},
     "output_type": "display_data"
    }
   ],
   "source": [
    "# backtracking\n",
    "# 1 or more alphanumeric characters, minimal match, ending in 2 digits\n",
    "for match in re.finditer(r'\\w+?\\d\\d', 'A123 BC3456 78 D7'):\n",
    "    if match:\n",
    "        highlight(match)"
   ]
  },
  {
   "cell_type": "code",
   "execution_count": 105,
   "metadata": {},
   "outputs": [
    {
     "data": {
      "text/html": [
       "<span style=\"background-color:LightSalmon\">A12</span>3 BC3456 78 D7"
      ],
      "text/plain": [
       "<IPython.core.display.HTML object>"
      ]
     },
     "metadata": {},
     "output_type": "display_data"
    },
    {
     "data": {
      "text/html": [
       "A123 B<span style=\"background-color:LightSalmon\">C34</span>56 78 D7"
      ],
      "text/plain": [
       "<IPython.core.display.HTML object>"
      ]
     },
     "metadata": {},
     "output_type": "display_data"
    }
   ],
   "source": [
    "# backtracking\n",
    "# exactly 1 alphanumeric character, ending in 2 digits\n",
    "for match in re.finditer(r'\\w\\d\\d', 'A123 BC3456 78 D7'):\n",
    "    if match:\n",
    "        highlight(match)"
   ]
  },
  {
   "cell_type": "code",
   "execution_count": 109,
   "metadata": {},
   "outputs": [
    {
     "data": {
      "text/html": [
       "<span style=\"background-color:LightSalmon\">\"Hello World!\" and some \"more\" text \"\"</span> and more"
      ],
      "text/plain": [
       "<IPython.core.display.HTML object>"
      ]
     },
     "metadata": {},
     "output_type": "display_data"
    }
   ],
   "source": [
    "# greedy search does not find what is inside each set of \"\"\n",
    "pattern = r'\".*\"'\n",
    "for match in re.finditer(r'\".*\"', '\"Hello World!\" and some \"more\" text \"\" and more'):\n",
    "    if match:\n",
    "        highlight(match)"
   ]
  },
  {
   "cell_type": "code",
   "execution_count": 135,
   "metadata": {},
   "outputs": [
    {
     "data": {
      "text/html": [
       "<span style=\"background-color:LightSalmon\">\"Hello World!\"</span> and some \"more\" text \"\" and more"
      ],
      "text/plain": [
       "<IPython.core.display.HTML object>"
      ]
     },
     "metadata": {},
     "output_type": "display_data"
    },
    {
     "data": {
      "text/html": [
       "\"Hello World!\" and some <span style=\"background-color:LightSalmon\">\"more\"</span> text \"\" and more"
      ],
      "text/plain": [
       "<IPython.core.display.HTML object>"
      ]
     },
     "metadata": {},
     "output_type": "display_data"
    },
    {
     "data": {
      "text/html": [
       "\"Hello World!\" and some \"more\" text <span style=\"background-color:LightSalmon\">\"\"</span> and more"
      ],
      "text/plain": [
       "<IPython.core.display.HTML object>"
      ]
     },
     "metadata": {},
     "output_type": "display_data"
    }
   ],
   "source": [
    "# minimal search will find what is inside each set of \"\"\n",
    "# Note: this search includes the double quotes\n",
    "for match in re.finditer(r'\".*?\"', '\"Hello World!\" and some \"more\" text \"\" and more'):\n",
    "    if match:\n",
    "        highlight(match)"
   ]
  },
  {
   "cell_type": "markdown",
   "metadata": {},
   "source": [
    "## Groups"
   ]
  },
  {
   "cell_type": "code",
   "execution_count": 133,
   "metadata": {},
   "outputs": [],
   "source": [
    "from IPython.core.display import display, HTML\n",
    "def highlight_one_group(match):\n",
    "    \"\"\"Display the matched part of the group with a different background color.\"\"\"\n",
    "    s = match.string\n",
    "    start, end = match.span(1)\n",
    "    span_start = '<span style=\"background-color:LightSalmon\">'\n",
    "    span_end = '</span>'\n",
    "    html_string = s[:start] + span_start + s[start:end] + span_end + s[end:]\n",
    "    display(HTML(html_string))"
   ]
  },
  {
   "cell_type": "code",
   "execution_count": 136,
   "metadata": {},
   "outputs": [
    {
     "data": {
      "text/html": [
       "\"<span style=\"background-color:LightSalmon\">Hello World!</span>\" and some \"more\" text \"\" and more"
      ],
      "text/plain": [
       "<IPython.core.display.HTML object>"
      ]
     },
     "metadata": {},
     "output_type": "display_data"
    },
    {
     "data": {
      "text/html": [
       "\"Hello World!\" and some \"<span style=\"background-color:LightSalmon\">more</span>\" text \"\" and more"
      ],
      "text/plain": [
       "<IPython.core.display.HTML object>"
      ]
     },
     "metadata": {},
     "output_type": "display_data"
    },
    {
     "data": {
      "text/html": [
       "\"Hello World!\" and some \"more\" text \"<span style=\"background-color:LightSalmon\"></span>\" and more"
      ],
      "text/plain": [
       "<IPython.core.display.HTML object>"
      ]
     },
     "metadata": {},
     "output_type": "display_data"
    }
   ],
   "source": [
    "# minimal search will find what is inside each set of \"\"\n",
    "# note: this search does not include the double quotes\n",
    "for match in re.finditer(r'\"(.*?)\"', '\"Hello World!\" and some \"more\" text \"\" and more'):\n",
    "    if match:\n",
    "        highlight_one_group(match)"
   ]
  },
  {
   "cell_type": "code",
   "execution_count": 78,
   "metadata": {},
   "outputs": [
    {
     "data": {
      "text/plain": [
       "('file1', 'file2')"
      ]
     },
     "execution_count": 78,
     "metadata": {},
     "output_type": "execute_result"
    }
   ],
   "source": [
    "s = 'cp file1 file2'\n",
    "pattern = r'(?:cp|mv|ln)\\s+(\\w+)\\s+(\\w+)'\n",
    "match = re.search(pattern, s)\n",
    "match.groups()"
   ]
  },
  {
   "cell_type": "code",
   "execution_count": 79,
   "metadata": {},
   "outputs": [
    {
     "data": {
      "text/plain": [
       "[('file1', 'file2')]"
      ]
     },
     "execution_count": 79,
     "metadata": {},
     "output_type": "execute_result"
    }
   ],
   "source": [
    "re.findall(pattern, s)"
   ]
  },
  {
   "cell_type": "code",
   "execution_count": 88,
   "metadata": {},
   "outputs": [
    {
     "data": {
      "text/plain": [
       "('cp', 'file1', 'file2')"
      ]
     },
     "execution_count": 88,
     "metadata": {},
     "output_type": "execute_result"
    }
   ],
   "source": [
    "s = 'cp file1 file2 and some stuff cp file1 file2'\n",
    "pattern = r'(?P<op>cp|mv|ln)\\s+(?P<file1>\\w+)\\s+(?P<file2>\\w+)'\n",
    "match = re.search(pattern, s)\n",
    "match.groups()"
   ]
  },
  {
   "cell_type": "code",
   "execution_count": 86,
   "metadata": {},
   "outputs": [
    {
     "data": {
      "text/plain": [
       "{'op': 'cp', 'file1': 'file1', 'file2': 'file2'}"
      ]
     },
     "execution_count": 86,
     "metadata": {},
     "output_type": "execute_result"
    }
   ],
   "source": [
    "match.groupdict()"
   ]
  },
  {
   "cell_type": "code",
   "execution_count": 89,
   "metadata": {},
   "outputs": [
    {
     "data": {
      "text/plain": [
       "[('cp', 'file1', 'file2'), ('cp', 'file1', 'file2')]"
      ]
     },
     "execution_count": 89,
     "metadata": {},
     "output_type": "execute_result"
    }
   ],
   "source": [
    "re.findall(pattern, s)"
   ]
  },
  {
   "cell_type": "code",
   "execution_count": 26,
   "metadata": {},
   "outputs": [],
   "source": [
    "p = re.compile(\"[a-z]\")"
   ]
  },
  {
   "cell_type": "code",
   "execution_count": 27,
   "metadata": {},
   "outputs": [
    {
     "name": "stdout",
     "output_type": "stream",
     "text": [
      "1.27 µs ± 3.55 ns per loop (mean ± std. dev. of 7 runs, 1000000 loops each)\n"
     ]
    }
   ],
   "source": [
    "%%timeit\n",
    "for m in p.finditer('a1b2c3d4'):\n",
    "    a, b = (m.start(), m.group())"
   ]
  },
  {
   "cell_type": "code",
   "execution_count": 28,
   "metadata": {},
   "outputs": [
    {
     "name": "stdout",
     "output_type": "stream",
     "text": [
      "1.8 µs ± 4.6 ns per loop (mean ± std. dev. of 7 runs, 1000000 loops each)\n"
     ]
    }
   ],
   "source": [
    "%%timeit\n",
    "p = r'[a-z]'\n",
    "for m in re.finditer(p, 'a1b2c3d4'):\n",
    "    a, b = (m.start(), m.group())"
   ]
  },
  {
   "cell_type": "code",
   "execution_count": 81,
   "metadata": {},
   "outputs": [
    {
     "name": "stdout",
     "output_type": "stream",
     "text": [
      "('cp', 'file1', 'file2')\n",
      "cp\n"
     ]
    }
   ],
   "source": [
    "match = re.search(pattern,s)\n",
    "print(match.groups())\n",
    "print(match.group(1)) # counting starts at 1!"
   ]
  },
  {
   "cell_type": "code",
   "execution_count": 76,
   "metadata": {},
   "outputs": [
    {
     "data": {
      "text/plain": [
       "[' stuff inside angle brakets ', 'more stuff']"
      ]
     },
     "execution_count": 76,
     "metadata": {},
     "output_type": "execute_result"
    }
   ],
   "source": [
    "# with multiple matches, use findall\n",
    "s = '< stuff inside angle brakets > this is not inside <more stuff>'\n",
    "pattern = r'<(.*?)>'\n",
    "groups = re.findall(pattern,s)\n",
    "groups"
   ]
  },
  {
   "cell_type": "code",
   "execution_count": null,
   "metadata": {},
   "outputs": [],
   "source": [
    "s = \"\"\"\n",
    "This is string1\n",
    "This is string2\n",
    "\"\"\"\n",
    "pattern = r'\\d$'\n",
    "print(regex.findall(pattern,s))\n",
    "print(regex.findall(pattern,s,regex.M))"
   ]
  },
  {
   "cell_type": "code",
   "execution_count": null,
   "metadata": {},
   "outputs": [],
   "source": [
    "# negative (i.e. don't match) lookahead\n",
    "s = 'end endwh1le endloop wh2le loop end'\n",
    "pattern = r'end(?!\\w)'\n",
    "print(regex.findall(pattern,s))"
   ]
  },
  {
   "cell_type": "code",
   "execution_count": null,
   "metadata": {},
   "outputs": [],
   "source": [
    "# positive (i.e. match) lookahead\n",
    "pattern = r'end(?=\\s)'\n",
    "print(regex.findall(pattern,s))"
   ]
  },
  {
   "cell_type": "code",
   "execution_count": null,
   "metadata": {},
   "outputs": [],
   "source": [
    "# positive (i.e. match) lookbehind\n",
    "pattern = r'(?<!end)wh.le'\n",
    "print(regex.findall(pattern,s))"
   ]
  },
  {
   "cell_type": "code",
   "execution_count": null,
   "metadata": {},
   "outputs": [],
   "source": [
    "pattern = r'\\bwh.le\\b'\n",
    "print(regex.findall(pattern,s))"
   ]
  },
  {
   "cell_type": "code",
   "execution_count": null,
   "metadata": {},
   "outputs": [],
   "source": [
    "s = \"\"\"\n",
    "~123\n",
    "~~1234\n",
    "~~~12345\n",
    "~~~~123456\n",
    "\"\"\"\n",
    "pattern = r'^~(?:~~)*\\K\\d+'\n",
    "print(regex.findall(pattern,s,regex.M))"
   ]
  },
  {
   "cell_type": "code",
   "execution_count": null,
   "metadata": {},
   "outputs": [],
   "source": [
    "s = 'there are repeated repeated words in this string'\n",
    "pattern = r'(\\b\\S+)\\s+(\\1)\\b'\n",
    "print(regex.findall(pattern,s))"
   ]
  },
  {
   "cell_type": "code",
   "execution_count": null,
   "metadata": {},
   "outputs": [],
   "source": [
    "s = \"\"\"\n",
    "~123\n",
    "~~1234\n",
    "~~~12345\n",
    "~~~~123456\n",
    "\"\"\"\n",
    "pattern = r\"\"\"\n",
    "(?x)       # turn on extended formatting\n",
    "^~(?:~~)*  # start of string (in multiline mode) followed by ~, followed by ~~\n",
    "\\K\\d+      # restart matching followed by 1 or more digits\n",
    "\"\"\"\n",
    "print(regex.findall(pattern,s,regex.M))"
   ]
  },
  {
   "cell_type": "code",
   "execution_count": null,
   "metadata": {},
   "outputs": [],
   "source": [
    "pattern_compiled = re.compile(r\"\"\"(?x)\n",
    "(put|get)\\s+\n",
    "(files|buffers)\\s+\n",
    "in\\s+\n",
    "(\\w+)\n",
    "\"\"\"\n",
    "                             )"
   ]
  },
  {
   "cell_type": "code",
   "execution_count": null,
   "metadata": {},
   "outputs": [],
   "source": [
    "s = 'put files in mydirectory'\n",
    "print(pattern_compiled.findall(s))\n",
    "match = pattern_compiled.search(s)\n",
    "print(match.groups())"
   ]
  },
  {
   "cell_type": "code",
   "execution_count": null,
   "metadata": {},
   "outputs": [],
   "source": [
    "pattern_compiled = re.compile(r\"\"\"(?x)\n",
    "(?P<CMD>put|get)\\s+\n",
    "(?P<TYPE>files|buffers)\\s+\n",
    "in\\s+\n",
    "(?P<TARGET>\\w+)\n",
    "\"\"\"\n",
    "                             )"
   ]
  },
  {
   "cell_type": "code",
   "execution_count": null,
   "metadata": {},
   "outputs": [],
   "source": [
    "s = 'put files in mydirectory'\n",
    "print(pattern_compiled.findall(s))\n",
    "match = pattern_compiled.search(s)\n",
    "print(match.groups())"
   ]
  },
  {
   "cell_type": "code",
   "execution_count": null,
   "metadata": {},
   "outputs": [],
   "source": [
    "match.groupdict()"
   ]
  },
  {
   "cell_type": "code",
   "execution_count": null,
   "metadata": {},
   "outputs": [],
   "source": [
    "print(match.group(\"CMD\"))\n",
    "print(match.group(\"TYPE\"))\n",
    "print(match.group(\"TARGET\"))"
   ]
  },
  {
   "cell_type": "code",
   "execution_count": null,
   "metadata": {},
   "outputs": [],
   "source": [
    "pattern_compiled = re.compile(r'(dog)')\n",
    "match = pattern_compiled.fullmatch(\"dog\")\n",
    "match.groups()"
   ]
  },
  {
   "cell_type": "code",
   "execution_count": null,
   "metadata": {},
   "outputs": [],
   "source": [
    "s = 'dog'\n",
    "pattern = r'(dog)'\n",
    "pc = re.compile(pattern)\n",
    "match = pc.search(s)\n",
    "print(match)\n",
    "print(match.groups())"
   ]
  },
  {
   "cell_type": "code",
   "execution_count": null,
   "metadata": {},
   "outputs": [],
   "source": [
    "print(match[0]) # all groups\n",
    "print(match[1]) # group 1"
   ]
  },
  {
   "cell_type": "markdown",
   "metadata": {},
   "source": [
    "### Regex Module"
   ]
  },
  {
   "cell_type": "code",
   "execution_count": null,
   "metadata": {},
   "outputs": [],
   "source": [
    "import regex\n",
    "regex.DEFAULT_VERSION == regex.V0"
   ]
  },
  {
   "cell_type": "code",
   "execution_count": null,
   "metadata": {},
   "outputs": [],
   "source": [
    "s = 'abcdefg'\n",
    "pattern = r'[[a-z]--[aeiou]](?V0)'\n",
    "regex.findall(pattern, s)"
   ]
  },
  {
   "cell_type": "code",
   "execution_count": null,
   "metadata": {},
   "outputs": [],
   "source": [
    "s = 'abcdefg'\n",
    "pattern = r'[[a-z]--[aeiou]](?V1)'\n",
    "regex.findall(pattern, s)"
   ]
  },
  {
   "cell_type": "code",
   "execution_count": null,
   "metadata": {},
   "outputs": [],
   "source": [
    "pattern = r'[[a-z]--[aeiou]]'"
   ]
  },
  {
   "cell_type": "code",
   "execution_count": null,
   "metadata": {},
   "outputs": [],
   "source": [
    "print(re.findall(pattern, s))\n",
    "print(regex.findall(pattern, s))\n",
    "print(regex.findall(pattern, s, regex.V0))\n",
    "print(regex.findall(pattern, s, regex.V1))"
   ]
  },
  {
   "cell_type": "code",
   "execution_count": null,
   "metadata": {},
   "outputs": [],
   "source": [
    "s = 'a-beautiful-day'"
   ]
  },
  {
   "cell_type": "code",
   "execution_count": null,
   "metadata": {},
   "outputs": [],
   "source": [
    "import sys\n",
    "print(sys.version)\n",
    "\n",
    "# new in 3.7, this now the same as with regex.split() below\n",
    "re.split('(?=-)', s)"
   ]
  },
  {
   "cell_type": "code",
   "execution_count": null,
   "metadata": {},
   "outputs": [],
   "source": [
    "regex.split('(?=-)', s, regex.V1)"
   ]
  },
  {
   "cell_type": "code",
   "execution_count": null,
   "metadata": {},
   "outputs": [],
   "source": [
    "whos"
   ]
  },
  {
   "cell_type": "code",
   "execution_count": null,
   "metadata": {},
   "outputs": [],
   "source": [
    "regex.split('(?=-)', s)"
   ]
  },
  {
   "cell_type": "code",
   "execution_count": null,
   "metadata": {},
   "outputs": [],
   "source": [
    "s = \"<aa> b <ccde>\"\n",
    "r = r'<.*>'\n",
    "mo = regex.match(r, s)\n",
    "mo.captures()"
   ]
  },
  {
   "cell_type": "code",
   "execution_count": null,
   "metadata": {},
   "outputs": [],
   "source": [
    "s = \"<aa> b <ccde>\"\n",
    "r = r'<.*>'\n",
    "mo = re.match(r, s)\n",
    "mo.string"
   ]
  },
  {
   "cell_type": "code",
   "execution_count": null,
   "metadata": {},
   "outputs": [],
   "source": [
    "s = \"<aa> b <ccde>\"\n",
    "r = r'<.*?>'\n",
    "mo = regex.match(r, s)\n",
    "mo.captures()"
   ]
  },
  {
   "cell_type": "code",
   "execution_count": null,
   "metadata": {},
   "outputs": [],
   "source": [
    "s = \"<aa> b <ccde>\"\n",
    "r = r'<.*?>'\n",
    "match_list = regex.findall(r, s)\n",
    "match_list"
   ]
  },
  {
   "cell_type": "code",
   "execution_count": null,
   "metadata": {},
   "outputs": [],
   "source": [
    "s = \"<aa> b <ccde>\"\n",
    "r = r'<.*>'\n",
    "match_list = regex.findall(r, s)\n",
    "match_list"
   ]
  },
  {
   "cell_type": "code",
   "execution_count": null,
   "metadata": {},
   "outputs": [],
   "source": [
    "re.split(r'\\W+', 'Words, words, and more words.')"
   ]
  },
  {
   "cell_type": "code",
   "execution_count": null,
   "metadata": {},
   "outputs": [],
   "source": [
    "re.split(r'(?:\\W+)', 'Words, words, and more words.')"
   ]
  },
  {
   "cell_type": "code",
   "execution_count": null,
   "metadata": {},
   "outputs": [],
   "source": [
    "pattern = re.compile(r'(?P<digits>\\d+) (?P<letters>[a-zA-Z])')\n",
    "mo = pattern.search('123 45 6789 a234')\n",
    "print(mo.group(0))\n",
    "print(mo.group(1))\n",
    "print(mo.group(2))\n",
    "print(mo.groups())\n",
    "print(mo.groupdict())"
   ]
  },
  {
   "cell_type": "code",
   "execution_count": null,
   "metadata": {},
   "outputs": [],
   "source": [
    "pattern = re.compile(r'(?P<digits>\\d+)')\n",
    "mo = pattern.search('123 45 6789 a234')\n",
    "print(mo.group(0))\n",
    "print(mo.groups())\n",
    "print(mo.groupdict())"
   ]
  },
  {
   "cell_type": "code",
   "execution_count": null,
   "metadata": {},
   "outputs": [],
   "source": [
    "pattern = re.compile(r'(?P<digits>\\d+)')\n",
    "pattern.findall('123 45 6789 a234')"
   ]
  },
  {
   "cell_type": "code",
   "execution_count": null,
   "metadata": {},
   "outputs": [],
   "source": []
  },
  {
   "cell_type": "code",
   "execution_count": null,
   "metadata": {},
   "outputs": [],
   "source": [
    "env = %env\n",
    "env_list = [(key,value) for key,value in env.items()]\n",
    "env_list.sort()\n",
    "env_list[:5]"
   ]
  },
  {
   "cell_type": "code",
   "execution_count": null,
   "metadata": {},
   "outputs": [],
   "source": [
    "print(type(env.keys()))"
   ]
  },
  {
   "cell_type": "code",
   "execution_count": null,
   "metadata": {},
   "outputs": [],
   "source": [
    "env = %env\n",
    "keys = list(env.keys())\n",
    "keys.sort()\n",
    "for key in keys:\n",
    "    m = regex.search(r'(?<=XDG)(\\w+)', key)\n",
    "    if m:\n",
    "        print(m.group(1))"
   ]
  },
  {
   "cell_type": "code",
   "execution_count": null,
   "metadata": {},
   "outputs": [],
   "source": [
    "[k for k in keys if k.startswith('XDG')]"
   ]
  },
  {
   "cell_type": "code",
   "execution_count": null,
   "metadata": {},
   "outputs": [],
   "source": [
    "[k for k in keys if regex.search(r'^XDG | ^PATH | ^LS_COLORS', k, flags=regex.X)]"
   ]
  },
  {
   "cell_type": "code",
   "execution_count": null,
   "metadata": {},
   "outputs": [],
   "source": [
    "env = %env\n",
    "env_list = [(key,value) for key,value in env.items() if not regex.search(r'^XDG | ^PATH | ^LS_COLORS | ^DBUS', key, flags=regex.X)]\n",
    "env_list.sort()\n",
    "env_list"
   ]
  },
  {
   "cell_type": "code",
   "execution_count": null,
   "metadata": {},
   "outputs": [],
   "source": [
    "# lsmagic\n",
    "# pdoc regex"
   ]
  },
  {
   "cell_type": "code",
   "execution_count": null,
   "metadata": {},
   "outputs": [],
   "source": [
    "whos"
   ]
  },
  {
   "cell_type": "code",
   "execution_count": null,
   "metadata": {},
   "outputs": [],
   "source": [
    "%psearch env*"
   ]
  },
  {
   "cell_type": "code",
   "execution_count": null,
   "metadata": {},
   "outputs": [],
   "source": [
    "timeit pass"
   ]
  },
  {
   "cell_type": "code",
   "execution_count": null,
   "metadata": {},
   "outputs": [],
   "source": [
    "who"
   ]
  },
  {
   "cell_type": "code",
   "execution_count": null,
   "metadata": {},
   "outputs": [],
   "source": [
    "whos"
   ]
  },
  {
   "cell_type": "code",
   "execution_count": null,
   "metadata": {},
   "outputs": [],
   "source": [
    "who_ls"
   ]
  }
 ],
 "metadata": {
  "kernelspec": {
   "display_name": "Python 3",
   "language": "python",
   "name": "python3"
  },
  "language_info": {
   "codemirror_mode": {
    "name": "ipython",
    "version": 3
   },
   "file_extension": ".py",
   "mimetype": "text/x-python",
   "name": "python",
   "nbconvert_exporter": "python",
   "pygments_lexer": "ipython3",
   "version": "3.7.1"
  }
 },
 "nbformat": 4,
 "nbformat_minor": 2
}
