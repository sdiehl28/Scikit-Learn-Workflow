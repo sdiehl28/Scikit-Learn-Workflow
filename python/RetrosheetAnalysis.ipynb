{
 "cells": [
  {
   "cell_type": "markdown",
   "metadata": {},
   "source": [
    "# Retorsheet Baseball Data Analysis -- DRAFT\n",
    "\n",
    "Read in the 6 dataframes."
   ]
  },
  {
   "cell_type": "code",
   "execution_count": 8,
   "metadata": {},
   "outputs": [],
   "source": [
    "import pandas as pd\n",
    "import numpy as np\n",
    "import os\n",
    "from pathlib import Path"
   ]
  },
  {
   "cell_type": "code",
   "execution_count": 9,
   "metadata": {},
   "outputs": [],
   "source": [
    "# create path objects\n",
    "home = Path.home()\n",
    "retrosheet = home.joinpath('data/retrosheet')\n",
    "p_raw = retrosheet.joinpath('raw')\n",
    "p_processed = retrosheet.joinpath('processed')\n",
    "p_persisted = retrosheet.joinpath('persisted')"
   ]
  },
  {
   "cell_type": "code",
   "execution_count": 10,
   "metadata": {},
   "outputs": [],
   "source": [
    "os.chdir(p_persisted)\n",
    "player_game = pd.read_csv('player_game.csv.gz', parse_dates=['GAME_DT'])"
   ]
  },
  {
   "cell_type": "code",
   "execution_count": 11,
   "metadata": {},
   "outputs": [],
   "source": [
    "def mem_usage(obj):\n",
    "    if isinstance(obj, pd.DataFrame):\n",
    "        mem = obj.memory_usage(deep=True).sum()\n",
    "    else:\n",
    "        mem = obj.memory_usage(deep=True)\n",
    "        \n",
    "    mem = mem / 2 ** 20 # covert to megabytes\n",
    "    return f'{mem:03.2f} MB'"
   ]
  },
  {
   "cell_type": "code",
   "execution_count": 12,
   "metadata": {},
   "outputs": [],
   "source": [
    "# this optimization is good for player-game and game\n",
    "def optimize_data_types(df):\n",
    "    df = df.copy()\n",
    "    \n",
    "    # int64 -> smallest uint allowed by data\n",
    "    df_int = df.select_dtypes(include=['int'])\n",
    "    df_int = df_int.apply(pd.to_numeric,downcast='unsigned')\n",
    "    df[df_int.columns] = df_int\n",
    "\n",
    "    # object -> category\n",
    "    df_obj = df.select_dtypes(include=['object'])\n",
    "    df_obj = df_obj.astype('category')\n",
    "    df[df_obj.columns] = df_obj\n",
    "    \n",
    "    return df"
   ]
  },
  {
   "cell_type": "code",
   "execution_count": 13,
   "metadata": {},
   "outputs": [
    {
     "data": {
      "text/plain": [
       "'2032.95 MB'"
      ]
     },
     "execution_count": 13,
     "metadata": {},
     "output_type": "execute_result"
    }
   ],
   "source": [
    "mem_usage(player_game)"
   ]
  },
  {
   "cell_type": "code",
   "execution_count": 15,
   "metadata": {},
   "outputs": [],
   "source": [
    "player_game = optimize_data_types(player_game)"
   ]
  },
  {
   "cell_type": "code",
   "execution_count": 16,
   "metadata": {},
   "outputs": [
    {
     "data": {
      "text/plain": [
       "'233.03 MB'"
      ]
     },
     "execution_count": 16,
     "metadata": {},
     "output_type": "execute_result"
    }
   ],
   "source": [
    "mem_usage(player_game)"
   ]
  },
  {
   "cell_type": "code",
   "execution_count": 18,
   "metadata": {},
   "outputs": [
    {
     "name": "stderr",
     "output_type": "stream",
     "text": [
      "/home/agni/anaconda3/envs/ml/lib/python3.7/site-packages/IPython/core/interactiveshell.py:3020: DtypeWarning: Columns (26) have mixed types. Specify dtype option on import or set low_memory=False.\n",
      "  interactivity=interactivity, compiler=compiler, result=result)\n"
     ]
    }
   ],
   "source": [
    "game = pd.read_csv('game.csv', parse_dates=['GAME_DT'])"
   ]
  },
  {
   "cell_type": "code",
   "execution_count": 20,
   "metadata": {},
   "outputs": [
    {
     "data": {
      "text/plain": [
       "Index(['SAVE_PIT_ID', 'GWRBI_BAT_ID'], dtype='object')"
      ]
     },
     "execution_count": 20,
     "metadata": {},
     "output_type": "execute_result"
    }
   ],
   "source": [
    "game.columns[25:]"
   ]
  },
  {
   "cell_type": "code",
   "execution_count": null,
   "metadata": {},
   "outputs": [],
   "source": [
    "dtype = {‘a’: np.float64, ‘b’: np.int32, ‘c’: ‘Int64’} "
   ]
  }
 ],
 "metadata": {
  "kernelspec": {
   "display_name": "Python 3",
   "language": "python",
   "name": "python3"
  },
  "language_info": {
   "codemirror_mode": {
    "name": "ipython",
    "version": 3
   },
   "file_extension": ".py",
   "mimetype": "text/x-python",
   "name": "python",
   "nbconvert_exporter": "python",
   "pygments_lexer": "ipython3",
   "version": "3.7.2"
  }
 },
 "nbformat": 4,
 "nbformat_minor": 2
}
